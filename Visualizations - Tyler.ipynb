{
 "cells": [
  {
   "cell_type": "code",
   "execution_count": 128,
   "metadata": {},
   "outputs": [],
   "source": [
    "import pandas as pd\n",
    "import numpy as np\n",
    "import matplotlib\n",
    "import matplotlib.pyplot as plt\n",
    "from datetime import datetime\n",
    "from datetime import time\n",
    "import pickle"
   ]
  },
  {
   "cell_type": "code",
   "execution_count": 129,
   "metadata": {},
   "outputs": [],
   "source": [
    "import plotly\n",
    "import plotly.graph_objs as go\n",
    "import chart_studio.plotly as py\n",
    "from chart_studio.plotly import plot, iplot\n",
    "import plotly.express as px"
   ]
  },
  {
   "cell_type": "code",
   "execution_count": 130,
   "metadata": {},
   "outputs": [],
   "source": [
    "# Setting pandas to display columns\n",
    "pd.set_option('display.max_columns', None)\n",
    "pd.set_option('display.max_rows', None)"
   ]
  },
  {
   "cell_type": "code",
   "execution_count": 131,
   "metadata": {},
   "outputs": [
    {
     "data": {
      "text/plain": [
       "(84371, 68)"
      ]
     },
     "execution_count": 131,
     "metadata": {},
     "output_type": "execute_result"
    }
   ],
   "source": [
    "nfl_small2 = pd.read_csv('nfl_small_cleaned_plus_weather.csv',index_col='index')\\\n",
    "                                    .drop(columns=['Unnamed: 0','Unnamed: 0.1'])\\\n",
    "                                    .sort_values(by=['game_id','play_id'])\n",
    "nfl_small2['Estimated_Hour'] = pd.to_datetime(nfl_small2['Estimated_Hour'])\n",
    "nfl_small2['Time (EST)'] = pd.to_datetime(nfl_small2['Time (EST)'])\n",
    "nfl_small2['Time (GMT)'] = pd.to_datetime(nfl_small2['Time (GMT)'])\n",
    "nfl_small2.shape"
   ]
  },
  {
   "cell_type": "code",
   "execution_count": 132,
   "metadata": {},
   "outputs": [
    {
     "data": {
      "text/html": [
       "<div>\n",
       "<style scoped>\n",
       "    .dataframe tbody tr th:only-of-type {\n",
       "        vertical-align: middle;\n",
       "    }\n",
       "\n",
       "    .dataframe tbody tr th {\n",
       "        vertical-align: top;\n",
       "    }\n",
       "\n",
       "    .dataframe thead th {\n",
       "        text-align: right;\n",
       "    }\n",
       "</style>\n",
       "<table border=\"1\" class=\"dataframe\">\n",
       "  <thead>\n",
       "    <tr style=\"text-align: right;\">\n",
       "      <th></th>\n",
       "      <th>play_id</th>\n",
       "      <th>game_id</th>\n",
       "      <th>game_date</th>\n",
       "      <th>time</th>\n",
       "      <th>quarter_seconds_remaining</th>\n",
       "      <th>half_seconds_remaining</th>\n",
       "      <th>game_seconds_remaining</th>\n",
       "      <th>game_half</th>\n",
       "      <th>quarter_end</th>\n",
       "      <th>qtr</th>\n",
       "      <th>home_team</th>\n",
       "      <th>away_team</th>\n",
       "      <th>posteam</th>\n",
       "      <th>posteam_type</th>\n",
       "      <th>defteam</th>\n",
       "      <th>side_of_field</th>\n",
       "      <th>yardline_100</th>\n",
       "      <th>drive</th>\n",
       "      <th>sp</th>\n",
       "      <th>down</th>\n",
       "      <th>goal_to_go</th>\n",
       "      <th>yrdln</th>\n",
       "      <th>ydstogo</th>\n",
       "      <th>ydsnet</th>\n",
       "      <th>desc</th>\n",
       "      <th>play_type</th>\n",
       "      <th>yards_gained</th>\n",
       "      <th>pass_length</th>\n",
       "      <th>air_yards</th>\n",
       "      <th>yards_after_catch</th>\n",
       "      <th>field_goal_result</th>\n",
       "      <th>kick_distance</th>\n",
       "      <th>extra_point_result</th>\n",
       "      <th>two_point_conv_result</th>\n",
       "      <th>td_team</th>\n",
       "      <th>total_home_score</th>\n",
       "      <th>total_away_score</th>\n",
       "      <th>posteam_score</th>\n",
       "      <th>defteam_score</th>\n",
       "      <th>sack</th>\n",
       "      <th>touchdown</th>\n",
       "      <th>pass_touchdown</th>\n",
       "      <th>rush_touchdown</th>\n",
       "      <th>return_touchdown</th>\n",
       "      <th>extra_point_attempt</th>\n",
       "      <th>two_point_attempt</th>\n",
       "      <th>field_goal_attempt</th>\n",
       "      <th>fumble</th>\n",
       "      <th>complete_pass</th>\n",
       "      <th>Start_Time</th>\n",
       "      <th>diff</th>\n",
       "      <th>Estimated_Time</th>\n",
       "      <th>Estimated Time (EST)</th>\n",
       "      <th>Estimated_Hour</th>\n",
       "      <th>Air Pressure (hPa)</th>\n",
       "      <th>City</th>\n",
       "      <th>Dewpoint (°C)</th>\n",
       "      <th>Field</th>\n",
       "      <th>Humidity (%)</th>\n",
       "      <th>Precipitation (mm)</th>\n",
       "      <th>Roof</th>\n",
       "      <th>Team Abbreviation</th>\n",
       "      <th>Temperature (°C)</th>\n",
       "      <th>Time (EST)</th>\n",
       "      <th>Time (GMT)</th>\n",
       "      <th>Wind Direction (deg)</th>\n",
       "      <th>Wind Speed (km/h)</th>\n",
       "      <th>added_time</th>\n",
       "    </tr>\n",
       "    <tr>\n",
       "      <th>index</th>\n",
       "      <th></th>\n",
       "      <th></th>\n",
       "      <th></th>\n",
       "      <th></th>\n",
       "      <th></th>\n",
       "      <th></th>\n",
       "      <th></th>\n",
       "      <th></th>\n",
       "      <th></th>\n",
       "      <th></th>\n",
       "      <th></th>\n",
       "      <th></th>\n",
       "      <th></th>\n",
       "      <th></th>\n",
       "      <th></th>\n",
       "      <th></th>\n",
       "      <th></th>\n",
       "      <th></th>\n",
       "      <th></th>\n",
       "      <th></th>\n",
       "      <th></th>\n",
       "      <th></th>\n",
       "      <th></th>\n",
       "      <th></th>\n",
       "      <th></th>\n",
       "      <th></th>\n",
       "      <th></th>\n",
       "      <th></th>\n",
       "      <th></th>\n",
       "      <th></th>\n",
       "      <th></th>\n",
       "      <th></th>\n",
       "      <th></th>\n",
       "      <th></th>\n",
       "      <th></th>\n",
       "      <th></th>\n",
       "      <th></th>\n",
       "      <th></th>\n",
       "      <th></th>\n",
       "      <th></th>\n",
       "      <th></th>\n",
       "      <th></th>\n",
       "      <th></th>\n",
       "      <th></th>\n",
       "      <th></th>\n",
       "      <th></th>\n",
       "      <th></th>\n",
       "      <th></th>\n",
       "      <th></th>\n",
       "      <th></th>\n",
       "      <th></th>\n",
       "      <th></th>\n",
       "      <th></th>\n",
       "      <th></th>\n",
       "      <th></th>\n",
       "      <th></th>\n",
       "      <th></th>\n",
       "      <th></th>\n",
       "      <th></th>\n",
       "      <th></th>\n",
       "      <th></th>\n",
       "      <th></th>\n",
       "      <th></th>\n",
       "      <th></th>\n",
       "      <th></th>\n",
       "      <th></th>\n",
       "      <th></th>\n",
       "      <th></th>\n",
       "    </tr>\n",
       "  </thead>\n",
       "  <tbody>\n",
       "    <tr>\n",
       "      <th>362094</th>\n",
       "      <td>44</td>\n",
       "      <td>2017090700</td>\n",
       "      <td>2017-09-07 00:00:00</td>\n",
       "      <td>15:00</td>\n",
       "      <td>900.0</td>\n",
       "      <td>1800.0</td>\n",
       "      <td>3600.0</td>\n",
       "      <td>Half1</td>\n",
       "      <td>0</td>\n",
       "      <td>1</td>\n",
       "      <td>NE</td>\n",
       "      <td>KC</td>\n",
       "      <td>NE</td>\n",
       "      <td>home</td>\n",
       "      <td>KC</td>\n",
       "      <td>KC</td>\n",
       "      <td>35.0</td>\n",
       "      <td>1</td>\n",
       "      <td>0</td>\n",
       "      <td>NaN</td>\n",
       "      <td>0.0</td>\n",
       "      <td>KC 35</td>\n",
       "      <td>0</td>\n",
       "      <td>73</td>\n",
       "      <td>C.Santos kicks 64 yards from KC 35 to NE 1. D....</td>\n",
       "      <td>kickoff</td>\n",
       "      <td>0.0</td>\n",
       "      <td>0</td>\n",
       "      <td>0.0</td>\n",
       "      <td>0.0</td>\n",
       "      <td>NaN</td>\n",
       "      <td>64.0</td>\n",
       "      <td>NaN</td>\n",
       "      <td>NaN</td>\n",
       "      <td>NaN</td>\n",
       "      <td>0</td>\n",
       "      <td>0</td>\n",
       "      <td>0.0</td>\n",
       "      <td>0.0</td>\n",
       "      <td>0.0</td>\n",
       "      <td>0.0</td>\n",
       "      <td>0.0</td>\n",
       "      <td>0.0</td>\n",
       "      <td>0.0</td>\n",
       "      <td>0.0</td>\n",
       "      <td>0.0</td>\n",
       "      <td>0.0</td>\n",
       "      <td>0.0</td>\n",
       "      <td>0.0</td>\n",
       "      <td>2017-09-07 20:30:00</td>\n",
       "      <td>0 days 00:00:00.000000000</td>\n",
       "      <td>2017-09-07 20:30:00</td>\n",
       "      <td>2017-09-07 20:30:00</td>\n",
       "      <td>2017-09-07 20:00:00</td>\n",
       "      <td>1011.3</td>\n",
       "      <td>Foxborough</td>\n",
       "      <td>13.8</td>\n",
       "      <td>FieldTurf CORE</td>\n",
       "      <td>65.0</td>\n",
       "      <td>0.0</td>\n",
       "      <td>Open</td>\n",
       "      <td>NE</td>\n",
       "      <td>20.6</td>\n",
       "      <td>2017-09-07 20:00:00</td>\n",
       "      <td>2017-09-08 00:00:00</td>\n",
       "      <td>210.0</td>\n",
       "      <td>22.3</td>\n",
       "      <td>0</td>\n",
       "    </tr>\n",
       "    <tr>\n",
       "      <th>362095</th>\n",
       "      <td>68</td>\n",
       "      <td>2017090700</td>\n",
       "      <td>2017-09-07 00:00:00</td>\n",
       "      <td>14:55</td>\n",
       "      <td>895.0</td>\n",
       "      <td>1795.0</td>\n",
       "      <td>3595.0</td>\n",
       "      <td>Half1</td>\n",
       "      <td>0</td>\n",
       "      <td>1</td>\n",
       "      <td>NE</td>\n",
       "      <td>KC</td>\n",
       "      <td>NE</td>\n",
       "      <td>home</td>\n",
       "      <td>KC</td>\n",
       "      <td>NE</td>\n",
       "      <td>73.0</td>\n",
       "      <td>1</td>\n",
       "      <td>0</td>\n",
       "      <td>1.0</td>\n",
       "      <td>0.0</td>\n",
       "      <td>NE 27</td>\n",
       "      <td>10</td>\n",
       "      <td>0</td>\n",
       "      <td>(14:55) NE 12-Brady 18th season as Patriots QB...</td>\n",
       "      <td>pass</td>\n",
       "      <td>0.0</td>\n",
       "      <td>deep</td>\n",
       "      <td>27.0</td>\n",
       "      <td>0.0</td>\n",
       "      <td>NaN</td>\n",
       "      <td>NaN</td>\n",
       "      <td>NaN</td>\n",
       "      <td>NaN</td>\n",
       "      <td>NaN</td>\n",
       "      <td>0</td>\n",
       "      <td>0</td>\n",
       "      <td>0.0</td>\n",
       "      <td>0.0</td>\n",
       "      <td>0.0</td>\n",
       "      <td>0.0</td>\n",
       "      <td>0.0</td>\n",
       "      <td>0.0</td>\n",
       "      <td>0.0</td>\n",
       "      <td>0.0</td>\n",
       "      <td>0.0</td>\n",
       "      <td>0.0</td>\n",
       "      <td>0.0</td>\n",
       "      <td>0.0</td>\n",
       "      <td>2017-09-07 20:30:00</td>\n",
       "      <td>0 days 00:00:15.000000000</td>\n",
       "      <td>2017-09-07 20:30:15</td>\n",
       "      <td>2017-09-07 20:30:15</td>\n",
       "      <td>2017-09-07 21:00:00</td>\n",
       "      <td>1012.9</td>\n",
       "      <td>Foxborough</td>\n",
       "      <td>11.6</td>\n",
       "      <td>FieldTurf CORE</td>\n",
       "      <td>67.0</td>\n",
       "      <td>0.0</td>\n",
       "      <td>Open</td>\n",
       "      <td>NE</td>\n",
       "      <td>17.8</td>\n",
       "      <td>2017-09-07 21:00:00</td>\n",
       "      <td>2017-09-08 01:00:00</td>\n",
       "      <td>300.0</td>\n",
       "      <td>20.5</td>\n",
       "      <td>0</td>\n",
       "    </tr>\n",
       "    <tr>\n",
       "      <th>362096</th>\n",
       "      <td>94</td>\n",
       "      <td>2017090700</td>\n",
       "      <td>2017-09-07 00:00:00</td>\n",
       "      <td>14:49</td>\n",
       "      <td>889.0</td>\n",
       "      <td>1789.0</td>\n",
       "      <td>3589.0</td>\n",
       "      <td>Half1</td>\n",
       "      <td>0</td>\n",
       "      <td>1</td>\n",
       "      <td>NE</td>\n",
       "      <td>KC</td>\n",
       "      <td>NE</td>\n",
       "      <td>home</td>\n",
       "      <td>KC</td>\n",
       "      <td>NE</td>\n",
       "      <td>73.0</td>\n",
       "      <td>1</td>\n",
       "      <td>0</td>\n",
       "      <td>2.0</td>\n",
       "      <td>0.0</td>\n",
       "      <td>NE 27</td>\n",
       "      <td>10</td>\n",
       "      <td>8</td>\n",
       "      <td>(14:49) T.Brady pass short right to R.Burkhead...</td>\n",
       "      <td>pass</td>\n",
       "      <td>8.0</td>\n",
       "      <td>short</td>\n",
       "      <td>1.0</td>\n",
       "      <td>7.0</td>\n",
       "      <td>NaN</td>\n",
       "      <td>NaN</td>\n",
       "      <td>NaN</td>\n",
       "      <td>NaN</td>\n",
       "      <td>NaN</td>\n",
       "      <td>0</td>\n",
       "      <td>0</td>\n",
       "      <td>0.0</td>\n",
       "      <td>0.0</td>\n",
       "      <td>0.0</td>\n",
       "      <td>0.0</td>\n",
       "      <td>0.0</td>\n",
       "      <td>0.0</td>\n",
       "      <td>0.0</td>\n",
       "      <td>0.0</td>\n",
       "      <td>0.0</td>\n",
       "      <td>0.0</td>\n",
       "      <td>0.0</td>\n",
       "      <td>1.0</td>\n",
       "      <td>2017-09-07 20:30:00</td>\n",
       "      <td>0 days 00:00:33.000000000</td>\n",
       "      <td>2017-09-07 20:30:33</td>\n",
       "      <td>2017-09-07 20:30:33</td>\n",
       "      <td>2017-09-07 21:00:00</td>\n",
       "      <td>1012.9</td>\n",
       "      <td>Foxborough</td>\n",
       "      <td>11.6</td>\n",
       "      <td>FieldTurf CORE</td>\n",
       "      <td>67.0</td>\n",
       "      <td>0.0</td>\n",
       "      <td>Open</td>\n",
       "      <td>NE</td>\n",
       "      <td>17.8</td>\n",
       "      <td>2017-09-07 21:00:00</td>\n",
       "      <td>2017-09-08 01:00:00</td>\n",
       "      <td>300.0</td>\n",
       "      <td>20.5</td>\n",
       "      <td>0</td>\n",
       "    </tr>\n",
       "    <tr>\n",
       "      <th>362097</th>\n",
       "      <td>118</td>\n",
       "      <td>2017090700</td>\n",
       "      <td>2017-09-07 00:00:00</td>\n",
       "      <td>14:14</td>\n",
       "      <td>854.0</td>\n",
       "      <td>1754.0</td>\n",
       "      <td>3554.0</td>\n",
       "      <td>Half1</td>\n",
       "      <td>0</td>\n",
       "      <td>1</td>\n",
       "      <td>NE</td>\n",
       "      <td>KC</td>\n",
       "      <td>NE</td>\n",
       "      <td>home</td>\n",
       "      <td>KC</td>\n",
       "      <td>NE</td>\n",
       "      <td>65.0</td>\n",
       "      <td>1</td>\n",
       "      <td>0</td>\n",
       "      <td>3.0</td>\n",
       "      <td>0.0</td>\n",
       "      <td>NE 35</td>\n",
       "      <td>2</td>\n",
       "      <td>73</td>\n",
       "      <td>(14:14) (Shotgun) J.White left guard to NE 43 ...</td>\n",
       "      <td>run</td>\n",
       "      <td>8.0</td>\n",
       "      <td>0</td>\n",
       "      <td>0.0</td>\n",
       "      <td>0.0</td>\n",
       "      <td>NaN</td>\n",
       "      <td>NaN</td>\n",
       "      <td>NaN</td>\n",
       "      <td>NaN</td>\n",
       "      <td>NaN</td>\n",
       "      <td>0</td>\n",
       "      <td>0</td>\n",
       "      <td>0.0</td>\n",
       "      <td>0.0</td>\n",
       "      <td>0.0</td>\n",
       "      <td>0.0</td>\n",
       "      <td>0.0</td>\n",
       "      <td>0.0</td>\n",
       "      <td>0.0</td>\n",
       "      <td>0.0</td>\n",
       "      <td>0.0</td>\n",
       "      <td>0.0</td>\n",
       "      <td>0.0</td>\n",
       "      <td>0.0</td>\n",
       "      <td>2017-09-07 20:30:00</td>\n",
       "      <td>0 days 00:02:18.000000000</td>\n",
       "      <td>2017-09-07 20:32:18</td>\n",
       "      <td>2017-09-07 20:32:18</td>\n",
       "      <td>2017-09-07 21:00:00</td>\n",
       "      <td>1012.9</td>\n",
       "      <td>Foxborough</td>\n",
       "      <td>11.6</td>\n",
       "      <td>FieldTurf CORE</td>\n",
       "      <td>67.0</td>\n",
       "      <td>0.0</td>\n",
       "      <td>Open</td>\n",
       "      <td>NE</td>\n",
       "      <td>17.8</td>\n",
       "      <td>2017-09-07 21:00:00</td>\n",
       "      <td>2017-09-08 01:00:00</td>\n",
       "      <td>300.0</td>\n",
       "      <td>20.5</td>\n",
       "      <td>0</td>\n",
       "    </tr>\n",
       "    <tr>\n",
       "      <th>362098</th>\n",
       "      <td>139</td>\n",
       "      <td>2017090700</td>\n",
       "      <td>2017-09-07 00:00:00</td>\n",
       "      <td>13:52</td>\n",
       "      <td>832.0</td>\n",
       "      <td>1732.0</td>\n",
       "      <td>3532.0</td>\n",
       "      <td>Half1</td>\n",
       "      <td>0</td>\n",
       "      <td>1</td>\n",
       "      <td>NE</td>\n",
       "      <td>KC</td>\n",
       "      <td>NE</td>\n",
       "      <td>home</td>\n",
       "      <td>KC</td>\n",
       "      <td>NE</td>\n",
       "      <td>57.0</td>\n",
       "      <td>1</td>\n",
       "      <td>0</td>\n",
       "      <td>1.0</td>\n",
       "      <td>0.0</td>\n",
       "      <td>NE 43</td>\n",
       "      <td>10</td>\n",
       "      <td>19</td>\n",
       "      <td>(13:52) (No Huddle, Shotgun) J.White up the mi...</td>\n",
       "      <td>run</td>\n",
       "      <td>3.0</td>\n",
       "      <td>0</td>\n",
       "      <td>0.0</td>\n",
       "      <td>0.0</td>\n",
       "      <td>NaN</td>\n",
       "      <td>NaN</td>\n",
       "      <td>NaN</td>\n",
       "      <td>NaN</td>\n",
       "      <td>NaN</td>\n",
       "      <td>0</td>\n",
       "      <td>0</td>\n",
       "      <td>0.0</td>\n",
       "      <td>0.0</td>\n",
       "      <td>0.0</td>\n",
       "      <td>0.0</td>\n",
       "      <td>0.0</td>\n",
       "      <td>0.0</td>\n",
       "      <td>0.0</td>\n",
       "      <td>0.0</td>\n",
       "      <td>0.0</td>\n",
       "      <td>0.0</td>\n",
       "      <td>0.0</td>\n",
       "      <td>0.0</td>\n",
       "      <td>2017-09-07 20:30:00</td>\n",
       "      <td>0 days 00:03:24.000000000</td>\n",
       "      <td>2017-09-07 20:33:24</td>\n",
       "      <td>2017-09-07 20:33:24</td>\n",
       "      <td>2017-09-07 21:00:00</td>\n",
       "      <td>1012.9</td>\n",
       "      <td>Foxborough</td>\n",
       "      <td>11.6</td>\n",
       "      <td>FieldTurf CORE</td>\n",
       "      <td>67.0</td>\n",
       "      <td>0.0</td>\n",
       "      <td>Open</td>\n",
       "      <td>NE</td>\n",
       "      <td>17.8</td>\n",
       "      <td>2017-09-07 21:00:00</td>\n",
       "      <td>2017-09-08 01:00:00</td>\n",
       "      <td>300.0</td>\n",
       "      <td>20.5</td>\n",
       "      <td>0</td>\n",
       "    </tr>\n",
       "  </tbody>\n",
       "</table>\n",
       "</div>"
      ],
      "text/plain": [
       "        play_id     game_id            game_date   time  \\\n",
       "index                                                     \n",
       "362094       44  2017090700  2017-09-07 00:00:00  15:00   \n",
       "362095       68  2017090700  2017-09-07 00:00:00  14:55   \n",
       "362096       94  2017090700  2017-09-07 00:00:00  14:49   \n",
       "362097      118  2017090700  2017-09-07 00:00:00  14:14   \n",
       "362098      139  2017090700  2017-09-07 00:00:00  13:52   \n",
       "\n",
       "        quarter_seconds_remaining  half_seconds_remaining  \\\n",
       "index                                                       \n",
       "362094                      900.0                  1800.0   \n",
       "362095                      895.0                  1795.0   \n",
       "362096                      889.0                  1789.0   \n",
       "362097                      854.0                  1754.0   \n",
       "362098                      832.0                  1732.0   \n",
       "\n",
       "        game_seconds_remaining game_half  quarter_end  qtr home_team  \\\n",
       "index                                                                  \n",
       "362094                  3600.0     Half1            0    1        NE   \n",
       "362095                  3595.0     Half1            0    1        NE   \n",
       "362096                  3589.0     Half1            0    1        NE   \n",
       "362097                  3554.0     Half1            0    1        NE   \n",
       "362098                  3532.0     Half1            0    1        NE   \n",
       "\n",
       "       away_team posteam posteam_type defteam side_of_field  yardline_100  \\\n",
       "index                                                                       \n",
       "362094        KC      NE         home      KC            KC          35.0   \n",
       "362095        KC      NE         home      KC            NE          73.0   \n",
       "362096        KC      NE         home      KC            NE          73.0   \n",
       "362097        KC      NE         home      KC            NE          65.0   \n",
       "362098        KC      NE         home      KC            NE          57.0   \n",
       "\n",
       "        drive  sp  down  goal_to_go  yrdln  ydstogo  ydsnet  \\\n",
       "index                                                         \n",
       "362094      1   0   NaN         0.0  KC 35        0      73   \n",
       "362095      1   0   1.0         0.0  NE 27       10       0   \n",
       "362096      1   0   2.0         0.0  NE 27       10       8   \n",
       "362097      1   0   3.0         0.0  NE 35        2      73   \n",
       "362098      1   0   1.0         0.0  NE 43       10      19   \n",
       "\n",
       "                                                     desc play_type  \\\n",
       "index                                                                 \n",
       "362094  C.Santos kicks 64 yards from KC 35 to NE 1. D....   kickoff   \n",
       "362095  (14:55) NE 12-Brady 18th season as Patriots QB...      pass   \n",
       "362096  (14:49) T.Brady pass short right to R.Burkhead...      pass   \n",
       "362097  (14:14) (Shotgun) J.White left guard to NE 43 ...       run   \n",
       "362098  (13:52) (No Huddle, Shotgun) J.White up the mi...       run   \n",
       "\n",
       "        yards_gained pass_length  air_yards  yards_after_catch  \\\n",
       "index                                                            \n",
       "362094           0.0           0        0.0                0.0   \n",
       "362095           0.0        deep       27.0                0.0   \n",
       "362096           8.0       short        1.0                7.0   \n",
       "362097           8.0           0        0.0                0.0   \n",
       "362098           3.0           0        0.0                0.0   \n",
       "\n",
       "       field_goal_result  kick_distance extra_point_result  \\\n",
       "index                                                        \n",
       "362094               NaN           64.0                NaN   \n",
       "362095               NaN            NaN                NaN   \n",
       "362096               NaN            NaN                NaN   \n",
       "362097               NaN            NaN                NaN   \n",
       "362098               NaN            NaN                NaN   \n",
       "\n",
       "       two_point_conv_result td_team  total_home_score  total_away_score  \\\n",
       "index                                                                      \n",
       "362094                   NaN     NaN                 0                 0   \n",
       "362095                   NaN     NaN                 0                 0   \n",
       "362096                   NaN     NaN                 0                 0   \n",
       "362097                   NaN     NaN                 0                 0   \n",
       "362098                   NaN     NaN                 0                 0   \n",
       "\n",
       "        posteam_score  defteam_score  sack  touchdown  pass_touchdown  \\\n",
       "index                                                                   \n",
       "362094            0.0            0.0   0.0        0.0             0.0   \n",
       "362095            0.0            0.0   0.0        0.0             0.0   \n",
       "362096            0.0            0.0   0.0        0.0             0.0   \n",
       "362097            0.0            0.0   0.0        0.0             0.0   \n",
       "362098            0.0            0.0   0.0        0.0             0.0   \n",
       "\n",
       "        rush_touchdown  return_touchdown  extra_point_attempt  \\\n",
       "index                                                           \n",
       "362094             0.0               0.0                  0.0   \n",
       "362095             0.0               0.0                  0.0   \n",
       "362096             0.0               0.0                  0.0   \n",
       "362097             0.0               0.0                  0.0   \n",
       "362098             0.0               0.0                  0.0   \n",
       "\n",
       "        two_point_attempt  field_goal_attempt  fumble  complete_pass  \\\n",
       "index                                                                  \n",
       "362094                0.0                 0.0     0.0            0.0   \n",
       "362095                0.0                 0.0     0.0            0.0   \n",
       "362096                0.0                 0.0     0.0            1.0   \n",
       "362097                0.0                 0.0     0.0            0.0   \n",
       "362098                0.0                 0.0     0.0            0.0   \n",
       "\n",
       "                 Start_Time                       diff       Estimated_Time  \\\n",
       "index                                                                         \n",
       "362094  2017-09-07 20:30:00  0 days 00:00:00.000000000  2017-09-07 20:30:00   \n",
       "362095  2017-09-07 20:30:00  0 days 00:00:15.000000000  2017-09-07 20:30:15   \n",
       "362096  2017-09-07 20:30:00  0 days 00:00:33.000000000  2017-09-07 20:30:33   \n",
       "362097  2017-09-07 20:30:00  0 days 00:02:18.000000000  2017-09-07 20:32:18   \n",
       "362098  2017-09-07 20:30:00  0 days 00:03:24.000000000  2017-09-07 20:33:24   \n",
       "\n",
       "       Estimated Time (EST)      Estimated_Hour  Air Pressure (hPa)  \\\n",
       "index                                                                 \n",
       "362094  2017-09-07 20:30:00 2017-09-07 20:00:00              1011.3   \n",
       "362095  2017-09-07 20:30:15 2017-09-07 21:00:00              1012.9   \n",
       "362096  2017-09-07 20:30:33 2017-09-07 21:00:00              1012.9   \n",
       "362097  2017-09-07 20:32:18 2017-09-07 21:00:00              1012.9   \n",
       "362098  2017-09-07 20:33:24 2017-09-07 21:00:00              1012.9   \n",
       "\n",
       "              City  Dewpoint (°C)           Field  Humidity (%)  \\\n",
       "index                                                             \n",
       "362094  Foxborough           13.8  FieldTurf CORE          65.0   \n",
       "362095  Foxborough           11.6  FieldTurf CORE          67.0   \n",
       "362096  Foxborough           11.6  FieldTurf CORE          67.0   \n",
       "362097  Foxborough           11.6  FieldTurf CORE          67.0   \n",
       "362098  Foxborough           11.6  FieldTurf CORE          67.0   \n",
       "\n",
       "        Precipitation (mm)  Roof Team Abbreviation  Temperature (°C)  \\\n",
       "index                                                                  \n",
       "362094                 0.0  Open                NE              20.6   \n",
       "362095                 0.0  Open                NE              17.8   \n",
       "362096                 0.0  Open                NE              17.8   \n",
       "362097                 0.0  Open                NE              17.8   \n",
       "362098                 0.0  Open                NE              17.8   \n",
       "\n",
       "                Time (EST)          Time (GMT)  Wind Direction (deg)  \\\n",
       "index                                                                  \n",
       "362094 2017-09-07 20:00:00 2017-09-08 00:00:00                 210.0   \n",
       "362095 2017-09-07 21:00:00 2017-09-08 01:00:00                 300.0   \n",
       "362096 2017-09-07 21:00:00 2017-09-08 01:00:00                 300.0   \n",
       "362097 2017-09-07 21:00:00 2017-09-08 01:00:00                 300.0   \n",
       "362098 2017-09-07 21:00:00 2017-09-08 01:00:00                 300.0   \n",
       "\n",
       "        Wind Speed (km/h)  added_time  \n",
       "index                                  \n",
       "362094               22.3           0  \n",
       "362095               20.5           0  \n",
       "362096               20.5           0  \n",
       "362097               20.5           0  \n",
       "362098               20.5           0  "
      ]
     },
     "execution_count": 132,
     "metadata": {},
     "output_type": "execute_result"
    }
   ],
   "source": [
    "nfl_small2.head()"
   ]
  },
  {
   "cell_type": "code",
   "execution_count": 133,
   "metadata": {
    "code_folding": []
   },
   "outputs": [],
   "source": [
    "# Creating Improved Game Name Column for Dashboard\n",
    "nfl_small2['game_name'] = nfl_small2.apply(lambda x: str(x['away_team']) +\\\n",
    "                                           ' @ ' + str(x['home_team']) +\\\n",
    "                                           ' ' +str(x['game_id'])[:4] +\\\n",
    "                                           '-' + str(x['game_id'])[4:6] +\\\n",
    "                                            '-' + str(x['game_id'])[6:8],axis=1)"
   ]
  },
  {
   "cell_type": "code",
   "execution_count": 134,
   "metadata": {
    "code_folding": []
   },
   "outputs": [],
   "source": [
    "# Sorting all values to create some \"end of\" flags below\n",
    "nfl_small2 = nfl_small2.sort_values(by=['index'],ascending=True)"
   ]
  },
  {
   "cell_type": "code",
   "execution_count": 135,
   "metadata": {
    "code_folding": []
   },
   "outputs": [
    {
     "name": "stderr",
     "output_type": "stream",
     "text": [
      "C:\\Users\\Joseph\\Anaconda3\\lib\\site-packages\\pandas\\core\\indexing.py:205: SettingWithCopyWarning:\n",
      "\n",
      "\n",
      "A value is trying to be set on a copy of a slice from a DataFrame\n",
      "\n",
      "See the caveats in the documentation: http://pandas.pydata.org/pandas-docs/stable/user_guide/indexing.html#returning-a-view-versus-a-copy\n",
      "\n"
     ]
    }
   ],
   "source": [
    "# Setting flag for end of drive\n",
    "nfl_small2['end_of_drive'] = 0\n",
    "\n",
    "end_of_drive_indexes = list(nfl_small2.reset_index().groupby(['game_id','drive']).last()['index'].values)\n",
    "\n",
    "nfl_small2.end_of_drive.loc[end_of_drive_indexes] = 1"
   ]
  },
  {
   "cell_type": "code",
   "execution_count": 136,
   "metadata": {},
   "outputs": [
    {
     "data": {
      "text/plain": [
       "[362106, 362108, 362116]"
      ]
     },
     "execution_count": 136,
     "metadata": {},
     "output_type": "execute_result"
    }
   ],
   "source": [
    "end_of_drive_indexes[:3]"
   ]
  },
  {
   "cell_type": "code",
   "execution_count": 137,
   "metadata": {
    "code_folding": []
   },
   "outputs": [],
   "source": [
    "# Setting flag for end of game\n",
    "nfl_small2['end_of_game'] = 0\n",
    "\n",
    "end_of_game_indexes = list(nfl_small2.reset_index().groupby(['game_id']).last()['index'].values)\n",
    "end_of_drive_indexes[:5]\n",
    "\n",
    "nfl_small2.end_of_game.loc[end_of_game_indexes] = 1"
   ]
  },
  {
   "cell_type": "code",
   "execution_count": 138,
   "metadata": {
    "code_folding": []
   },
   "outputs": [],
   "source": [
    "# Setting flag for INTs\n",
    "nfl_small2['INT'] = 0\n",
    "\n",
    "int_indexes = list(nfl_small2[(nfl_small2['end_of_drive']==1)&\\\n",
    "                       (nfl_small2['fumble']!=1)&\\\n",
    "                        (nfl_small2['play_type'] =='pass')].reset_index()['index'].values)\n",
    "                   \n",
    "\n",
    "nfl_small2.INT.loc[int_indexes] = 1"
   ]
  },
  {
   "cell_type": "code",
   "execution_count": 139,
   "metadata": {},
   "outputs": [
    {
     "data": {
      "text/plain": [
       "['ARI',\n",
       " 'ATL',\n",
       " 'BAL',\n",
       " 'BUF',\n",
       " 'CAR',\n",
       " 'CHI',\n",
       " 'CIN',\n",
       " 'CLE',\n",
       " 'DAL',\n",
       " 'DEN',\n",
       " 'DET',\n",
       " 'GB',\n",
       " 'HOU',\n",
       " 'IND',\n",
       " 'JAX',\n",
       " 'KC',\n",
       " 'LA',\n",
       " 'LAC',\n",
       " 'MIA',\n",
       " 'MIN',\n",
       " 'NE',\n",
       " 'NO',\n",
       " 'NYG',\n",
       " 'NYJ',\n",
       " 'OAK',\n",
       " 'PHI',\n",
       " 'PIT']"
      ]
     },
     "execution_count": 139,
     "metadata": {},
     "output_type": "execute_result"
    }
   ],
   "source": [
    "# Getting teams to add team matrix for easier filtering\n",
    "teams = list(nfl_small2.groupby('posteam').sum().index)\n",
    "teams[:-5]"
   ]
  },
  {
   "cell_type": "code",
   "execution_count": 140,
   "metadata": {
    "code_folding": []
   },
   "outputs": [],
   "source": [
    "# Adding team columns\n",
    "for col in teams:\n",
    "    nfl_small2[col] = '0'"
   ]
  },
  {
   "cell_type": "code",
   "execution_count": 141,
   "metadata": {
    "code_folding": []
   },
   "outputs": [],
   "source": [
    "# Setting all home teams\n",
    "for team in teams:\n",
    "    nfl_small2[team] = np.where((nfl_small2['home_team']==team),'H',nfl_small2[team])\n",
    "    \n",
    "# Setting all away teams\n",
    "for team in teams:\n",
    "    nfl_small2[team] = np.where((nfl_small2['away_team']==team),'A',nfl_small2[team])"
   ]
  },
  {
   "cell_type": "code",
   "execution_count": 142,
   "metadata": {
    "code_folding": []
   },
   "outputs": [],
   "source": [
    "# Adding year column to allow for filtering by season\n",
    "nfl_small2['year'] = pd.DatetimeIndex(nfl_small2['game_date']).year"
   ]
  },
  {
   "cell_type": "code",
   "execution_count": 143,
   "metadata": {
    "code_folding": []
   },
   "outputs": [],
   "source": [
    "# Creating column for week of season\n",
    "nfl_small2['week'] = None\n",
    "\n",
    "# Getting every team by weeks played\n",
    "for team in teams:\n",
    "    week = nfl_small2[nfl_small2[team] != '0'][['year','game_date']]\\\n",
    "                .drop_duplicates().groupby('year').cumcount()+1\n",
    "    \n",
    "    nfl_small2.loc[list(week.index),'week'] = week.values\n",
    "    \n",
    "# Padding remaining plays per game with week of season    \n",
    "nfl_small2['week'] = nfl_small2['week'].fillna(method='pad')"
   ]
  },
  {
   "cell_type": "code",
   "execution_count": 144,
   "metadata": {
    "code_folding": []
   },
   "outputs": [
    {
     "data": {
      "text/html": [
       "<div>\n",
       "<style scoped>\n",
       "    .dataframe tbody tr th:only-of-type {\n",
       "        vertical-align: middle;\n",
       "    }\n",
       "\n",
       "    .dataframe tbody tr th {\n",
       "        vertical-align: top;\n",
       "    }\n",
       "\n",
       "    .dataframe thead th {\n",
       "        text-align: right;\n",
       "    }\n",
       "</style>\n",
       "<table border=\"1\" class=\"dataframe\">\n",
       "  <thead>\n",
       "    <tr style=\"text-align: right;\">\n",
       "      <th></th>\n",
       "      <th>year</th>\n",
       "      <th>week</th>\n",
       "    </tr>\n",
       "    <tr>\n",
       "      <th>index</th>\n",
       "      <th></th>\n",
       "      <th></th>\n",
       "    </tr>\n",
       "  </thead>\n",
       "  <tbody>\n",
       "    <tr>\n",
       "      <th>364519</th>\n",
       "      <td>2017</td>\n",
       "      <td>1</td>\n",
       "    </tr>\n",
       "    <tr>\n",
       "      <th>369860</th>\n",
       "      <td>2017</td>\n",
       "      <td>3</td>\n",
       "    </tr>\n",
       "    <tr>\n",
       "      <th>372136</th>\n",
       "      <td>2017</td>\n",
       "      <td>4</td>\n",
       "    </tr>\n",
       "    <tr>\n",
       "      <th>374323</th>\n",
       "      <td>2017</td>\n",
       "      <td>5</td>\n",
       "    </tr>\n",
       "    <tr>\n",
       "      <th>377767</th>\n",
       "      <td>2017</td>\n",
       "      <td>6</td>\n",
       "    </tr>\n",
       "    <tr>\n",
       "      <th>380040</th>\n",
       "      <td>2017</td>\n",
       "      <td>7</td>\n",
       "    </tr>\n",
       "    <tr>\n",
       "      <th>381959</th>\n",
       "      <td>2017</td>\n",
       "      <td>8</td>\n",
       "    </tr>\n",
       "    <tr>\n",
       "      <th>386221</th>\n",
       "      <td>2017</td>\n",
       "      <td>9</td>\n",
       "    </tr>\n",
       "    <tr>\n",
       "      <th>389603</th>\n",
       "      <td>2017</td>\n",
       "      <td>10</td>\n",
       "    </tr>\n",
       "    <tr>\n",
       "      <th>390662</th>\n",
       "      <td>2017</td>\n",
       "      <td>11</td>\n",
       "    </tr>\n",
       "    <tr>\n",
       "      <th>395019</th>\n",
       "      <td>2017</td>\n",
       "      <td>12</td>\n",
       "    </tr>\n",
       "    <tr>\n",
       "      <th>397650</th>\n",
       "      <td>2017</td>\n",
       "      <td>13</td>\n",
       "    </tr>\n",
       "    <tr>\n",
       "      <th>399233</th>\n",
       "      <td>2017</td>\n",
       "      <td>14</td>\n",
       "    </tr>\n",
       "    <tr>\n",
       "      <th>403474</th>\n",
       "      <td>2017</td>\n",
       "      <td>15</td>\n",
       "    </tr>\n",
       "    <tr>\n",
       "      <th>405901</th>\n",
       "      <td>2017</td>\n",
       "      <td>16</td>\n",
       "    </tr>\n",
       "    <tr>\n",
       "      <th>409052</th>\n",
       "      <td>2018</td>\n",
       "      <td>1</td>\n",
       "    </tr>\n",
       "    <tr>\n",
       "      <th>411573</th>\n",
       "      <td>2018</td>\n",
       "      <td>2</td>\n",
       "    </tr>\n",
       "    <tr>\n",
       "      <th>415115</th>\n",
       "      <td>2018</td>\n",
       "      <td>3</td>\n",
       "    </tr>\n",
       "    <tr>\n",
       "      <th>418213</th>\n",
       "      <td>2018</td>\n",
       "      <td>4</td>\n",
       "    </tr>\n",
       "    <tr>\n",
       "      <th>420409</th>\n",
       "      <td>2018</td>\n",
       "      <td>5</td>\n",
       "    </tr>\n",
       "    <tr>\n",
       "      <th>422692</th>\n",
       "      <td>2018</td>\n",
       "      <td>6</td>\n",
       "    </tr>\n",
       "    <tr>\n",
       "      <th>424259</th>\n",
       "      <td>2018</td>\n",
       "      <td>7</td>\n",
       "    </tr>\n",
       "    <tr>\n",
       "      <th>430561</th>\n",
       "      <td>2018</td>\n",
       "      <td>8</td>\n",
       "    </tr>\n",
       "    <tr>\n",
       "      <th>432788</th>\n",
       "      <td>2018</td>\n",
       "      <td>9</td>\n",
       "    </tr>\n",
       "    <tr>\n",
       "      <th>435177</th>\n",
       "      <td>2018</td>\n",
       "      <td>10</td>\n",
       "    </tr>\n",
       "    <tr>\n",
       "      <th>440048</th>\n",
       "      <td>2018</td>\n",
       "      <td>11</td>\n",
       "    </tr>\n",
       "    <tr>\n",
       "      <th>443395</th>\n",
       "      <td>2018</td>\n",
       "      <td>12</td>\n",
       "    </tr>\n",
       "    <tr>\n",
       "      <th>445539</th>\n",
       "      <td>2018</td>\n",
       "      <td>13</td>\n",
       "    </tr>\n",
       "    <tr>\n",
       "      <th>446583</th>\n",
       "      <td>2018</td>\n",
       "      <td>14</td>\n",
       "    </tr>\n",
       "  </tbody>\n",
       "</table>\n",
       "</div>"
      ],
      "text/plain": [
       "        year  week\n",
       "index             \n",
       "364519  2017     1\n",
       "369860  2017     3\n",
       "372136  2017     4\n",
       "374323  2017     5\n",
       "377767  2017     6\n",
       "380040  2017     7\n",
       "381959  2017     8\n",
       "386221  2017     9\n",
       "389603  2017    10\n",
       "390662  2017    11\n",
       "395019  2017    12\n",
       "397650  2017    13\n",
       "399233  2017    14\n",
       "403474  2017    15\n",
       "405901  2017    16\n",
       "409052  2018     1\n",
       "411573  2018     2\n",
       "415115  2018     3\n",
       "418213  2018     4\n",
       "420409  2018     5\n",
       "422692  2018     6\n",
       "424259  2018     7\n",
       "430561  2018     8\n",
       "432788  2018     9\n",
       "435177  2018    10\n",
       "440048  2018    11\n",
       "443395  2018    12\n",
       "445539  2018    13\n",
       "446583  2018    14"
      ]
     },
     "execution_count": 144,
     "metadata": {},
     "output_type": "execute_result"
    }
   ],
   "source": [
    "# Validating manipulation worked\n",
    "nfl_small2[nfl_small2['LAC'] != '0'][['year','week']].drop_duplicates()"
   ]
  },
  {
   "cell_type": "code",
   "execution_count": 145,
   "metadata": {},
   "outputs": [],
   "source": [
    "nfl_small2['KC'] = nfl_small2['KC'].astype('str')\n",
    "nfl_small2['LAC'] = nfl_small2['LAC'].astype('str')"
   ]
  },
  {
   "cell_type": "code",
   "execution_count": 146,
   "metadata": {
    "code_folding": []
   },
   "outputs": [],
   "source": [
    "# Saving nfl_small to csv to skip loading full file\n",
    "nfl_small2.to_csv('nfl_small_end_of_drive.csv')"
   ]
  },
  {
   "cell_type": "code",
   "execution_count": 147,
   "metadata": {},
   "outputs": [
    {
     "name": "stderr",
     "output_type": "stream",
     "text": [
      "C:\\Users\\Joseph\\Anaconda3\\lib\\site-packages\\IPython\\core\\interactiveshell.py:3058: DtypeWarning:\n",
      "\n",
      "Columns (88,90) have mixed types. Specify dtype option on import or set low_memory=False.\n",
      "\n"
     ]
    }
   ],
   "source": [
    "nfl_small2_end_of_drive = pd.read_csv('nfl_small_end_of_drive.csv',index_col=1)\n",
    "nfl_small2_end_of_drive['KC'] = nfl_small2_end_of_drive['KC'].astype('str')\n",
    "nfl_small2_end_of_drive['LAC'] = nfl_small2_end_of_drive['LAC'].astype('str')"
   ]
  },
  {
   "cell_type": "code",
   "execution_count": 148,
   "metadata": {},
   "outputs": [],
   "source": [
    "nfl_small2_end_of_drive['KC'] = nfl_small2_end_of_drive['KC'].astype('str')\n",
    "nfl_small2_end_of_drive['LAC'] = nfl_small2_end_of_drive['LAC'].astype('str')"
   ]
  },
  {
   "cell_type": "code",
   "execution_count": 149,
   "metadata": {},
   "outputs": [],
   "source": [
    "# list(nfl_small2_end_of_drive.columns)"
   ]
  },
  {
   "cell_type": "code",
   "execution_count": 150,
   "metadata": {},
   "outputs": [
    {
     "data": {
      "text/plain": [
       "['ARI', 'ATL', 'BAL', 'BUF', 'CAR']"
      ]
     },
     "execution_count": 150,
     "metadata": {},
     "output_type": "execute_result"
    }
   ],
   "source": [
    "# Getting teams to add team matrix for easier filtering\n",
    "teams = list(nfl_small2_end_of_drive.groupby('posteam').sum().index)\n",
    "teams[:5]"
   ]
  },
  {
   "cell_type": "code",
   "execution_count": 151,
   "metadata": {},
   "outputs": [
    {
     "data": {
      "text/html": [
       "<div>\n",
       "<style scoped>\n",
       "    .dataframe tbody tr th:only-of-type {\n",
       "        vertical-align: middle;\n",
       "    }\n",
       "\n",
       "    .dataframe tbody tr th {\n",
       "        vertical-align: top;\n",
       "    }\n",
       "\n",
       "    .dataframe thead th {\n",
       "        text-align: right;\n",
       "    }\n",
       "</style>\n",
       "<table border=\"1\" class=\"dataframe\">\n",
       "  <thead>\n",
       "    <tr style=\"text-align: right;\">\n",
       "      <th></th>\n",
       "      <th>index</th>\n",
       "      <th>game_id</th>\n",
       "      <th>game_date</th>\n",
       "      <th>time</th>\n",
       "      <th>quarter_seconds_remaining</th>\n",
       "      <th>half_seconds_remaining</th>\n",
       "      <th>game_seconds_remaining</th>\n",
       "      <th>game_half</th>\n",
       "      <th>quarter_end</th>\n",
       "      <th>qtr</th>\n",
       "      <th>home_team</th>\n",
       "      <th>away_team</th>\n",
       "      <th>posteam</th>\n",
       "      <th>posteam_type</th>\n",
       "      <th>defteam</th>\n",
       "      <th>side_of_field</th>\n",
       "      <th>yardline_100</th>\n",
       "      <th>drive</th>\n",
       "      <th>sp</th>\n",
       "      <th>down</th>\n",
       "      <th>goal_to_go</th>\n",
       "      <th>yrdln</th>\n",
       "      <th>ydstogo</th>\n",
       "      <th>ydsnet</th>\n",
       "      <th>desc</th>\n",
       "      <th>play_type</th>\n",
       "      <th>yards_gained</th>\n",
       "      <th>pass_length</th>\n",
       "      <th>air_yards</th>\n",
       "      <th>yards_after_catch</th>\n",
       "      <th>field_goal_result</th>\n",
       "      <th>kick_distance</th>\n",
       "      <th>extra_point_result</th>\n",
       "      <th>two_point_conv_result</th>\n",
       "      <th>td_team</th>\n",
       "      <th>total_home_score</th>\n",
       "      <th>total_away_score</th>\n",
       "      <th>posteam_score</th>\n",
       "      <th>defteam_score</th>\n",
       "      <th>sack</th>\n",
       "      <th>touchdown</th>\n",
       "      <th>pass_touchdown</th>\n",
       "      <th>rush_touchdown</th>\n",
       "      <th>return_touchdown</th>\n",
       "      <th>extra_point_attempt</th>\n",
       "      <th>two_point_attempt</th>\n",
       "      <th>field_goal_attempt</th>\n",
       "      <th>fumble</th>\n",
       "      <th>complete_pass</th>\n",
       "      <th>Start_Time</th>\n",
       "      <th>diff</th>\n",
       "      <th>Estimated_Time</th>\n",
       "      <th>Estimated Time (EST)</th>\n",
       "      <th>Estimated_Hour</th>\n",
       "      <th>Air Pressure (hPa)</th>\n",
       "      <th>City</th>\n",
       "      <th>Dewpoint (°C)</th>\n",
       "      <th>Field</th>\n",
       "      <th>Humidity (%)</th>\n",
       "      <th>Precipitation (mm)</th>\n",
       "      <th>Roof</th>\n",
       "      <th>Team Abbreviation</th>\n",
       "      <th>Temperature (°C)</th>\n",
       "      <th>Time (EST)</th>\n",
       "      <th>Time (GMT)</th>\n",
       "      <th>Wind Direction (deg)</th>\n",
       "      <th>Wind Speed (km/h)</th>\n",
       "      <th>added_time</th>\n",
       "      <th>game_name</th>\n",
       "      <th>end_of_drive</th>\n",
       "      <th>end_of_game</th>\n",
       "      <th>INT</th>\n",
       "      <th>ARI</th>\n",
       "      <th>ATL</th>\n",
       "      <th>BAL</th>\n",
       "      <th>BUF</th>\n",
       "      <th>CAR</th>\n",
       "      <th>CHI</th>\n",
       "      <th>CIN</th>\n",
       "      <th>CLE</th>\n",
       "      <th>DAL</th>\n",
       "      <th>DEN</th>\n",
       "      <th>DET</th>\n",
       "      <th>GB</th>\n",
       "      <th>HOU</th>\n",
       "      <th>IND</th>\n",
       "      <th>JAX</th>\n",
       "      <th>KC</th>\n",
       "      <th>LA</th>\n",
       "      <th>LAC</th>\n",
       "      <th>MIA</th>\n",
       "      <th>MIN</th>\n",
       "      <th>NE</th>\n",
       "      <th>NO</th>\n",
       "      <th>NYG</th>\n",
       "      <th>NYJ</th>\n",
       "      <th>OAK</th>\n",
       "      <th>PHI</th>\n",
       "      <th>PIT</th>\n",
       "      <th>SEA</th>\n",
       "      <th>SF</th>\n",
       "      <th>TB</th>\n",
       "      <th>TEN</th>\n",
       "      <th>WAS</th>\n",
       "      <th>year</th>\n",
       "      <th>week</th>\n",
       "    </tr>\n",
       "    <tr>\n",
       "      <th>play_id</th>\n",
       "      <th></th>\n",
       "      <th></th>\n",
       "      <th></th>\n",
       "      <th></th>\n",
       "      <th></th>\n",
       "      <th></th>\n",
       "      <th></th>\n",
       "      <th></th>\n",
       "      <th></th>\n",
       "      <th></th>\n",
       "      <th></th>\n",
       "      <th></th>\n",
       "      <th></th>\n",
       "      <th></th>\n",
       "      <th></th>\n",
       "      <th></th>\n",
       "      <th></th>\n",
       "      <th></th>\n",
       "      <th></th>\n",
       "      <th></th>\n",
       "      <th></th>\n",
       "      <th></th>\n",
       "      <th></th>\n",
       "      <th></th>\n",
       "      <th></th>\n",
       "      <th></th>\n",
       "      <th></th>\n",
       "      <th></th>\n",
       "      <th></th>\n",
       "      <th></th>\n",
       "      <th></th>\n",
       "      <th></th>\n",
       "      <th></th>\n",
       "      <th></th>\n",
       "      <th></th>\n",
       "      <th></th>\n",
       "      <th></th>\n",
       "      <th></th>\n",
       "      <th></th>\n",
       "      <th></th>\n",
       "      <th></th>\n",
       "      <th></th>\n",
       "      <th></th>\n",
       "      <th></th>\n",
       "      <th></th>\n",
       "      <th></th>\n",
       "      <th></th>\n",
       "      <th></th>\n",
       "      <th></th>\n",
       "      <th></th>\n",
       "      <th></th>\n",
       "      <th></th>\n",
       "      <th></th>\n",
       "      <th></th>\n",
       "      <th></th>\n",
       "      <th></th>\n",
       "      <th></th>\n",
       "      <th></th>\n",
       "      <th></th>\n",
       "      <th></th>\n",
       "      <th></th>\n",
       "      <th></th>\n",
       "      <th></th>\n",
       "      <th></th>\n",
       "      <th></th>\n",
       "      <th></th>\n",
       "      <th></th>\n",
       "      <th></th>\n",
       "      <th></th>\n",
       "      <th></th>\n",
       "      <th></th>\n",
       "      <th></th>\n",
       "      <th></th>\n",
       "      <th></th>\n",
       "      <th></th>\n",
       "      <th></th>\n",
       "      <th></th>\n",
       "      <th></th>\n",
       "      <th></th>\n",
       "      <th></th>\n",
       "      <th></th>\n",
       "      <th></th>\n",
       "      <th></th>\n",
       "      <th></th>\n",
       "      <th></th>\n",
       "      <th></th>\n",
       "      <th></th>\n",
       "      <th></th>\n",
       "      <th></th>\n",
       "      <th></th>\n",
       "      <th></th>\n",
       "      <th></th>\n",
       "      <th></th>\n",
       "      <th></th>\n",
       "      <th></th>\n",
       "      <th></th>\n",
       "      <th></th>\n",
       "      <th></th>\n",
       "      <th></th>\n",
       "      <th></th>\n",
       "      <th></th>\n",
       "      <th></th>\n",
       "      <th></th>\n",
       "      <th></th>\n",
       "      <th></th>\n",
       "      <th></th>\n",
       "    </tr>\n",
       "  </thead>\n",
       "  <tbody>\n",
       "    <tr>\n",
       "      <th>44</th>\n",
       "      <td>362094</td>\n",
       "      <td>2017090700</td>\n",
       "      <td>2017-09-07 00:00:00</td>\n",
       "      <td>15:00</td>\n",
       "      <td>900.0</td>\n",
       "      <td>1800.0</td>\n",
       "      <td>3600.0</td>\n",
       "      <td>Half1</td>\n",
       "      <td>0</td>\n",
       "      <td>1</td>\n",
       "      <td>NE</td>\n",
       "      <td>KC</td>\n",
       "      <td>NE</td>\n",
       "      <td>home</td>\n",
       "      <td>KC</td>\n",
       "      <td>KC</td>\n",
       "      <td>35.0</td>\n",
       "      <td>1</td>\n",
       "      <td>0</td>\n",
       "      <td>NaN</td>\n",
       "      <td>0.0</td>\n",
       "      <td>KC 35</td>\n",
       "      <td>0</td>\n",
       "      <td>73</td>\n",
       "      <td>C.Santos kicks 64 yards from KC 35 to NE 1. D....</td>\n",
       "      <td>kickoff</td>\n",
       "      <td>0.0</td>\n",
       "      <td>0</td>\n",
       "      <td>0.0</td>\n",
       "      <td>0.0</td>\n",
       "      <td>NaN</td>\n",
       "      <td>64.0</td>\n",
       "      <td>NaN</td>\n",
       "      <td>NaN</td>\n",
       "      <td>NaN</td>\n",
       "      <td>0</td>\n",
       "      <td>0</td>\n",
       "      <td>0.0</td>\n",
       "      <td>0.0</td>\n",
       "      <td>0.0</td>\n",
       "      <td>0.0</td>\n",
       "      <td>0.0</td>\n",
       "      <td>0.0</td>\n",
       "      <td>0.0</td>\n",
       "      <td>0.0</td>\n",
       "      <td>0.0</td>\n",
       "      <td>0.0</td>\n",
       "      <td>0.0</td>\n",
       "      <td>0.0</td>\n",
       "      <td>2017-09-07 20:30:00</td>\n",
       "      <td>0 days 00:00:00.000000000</td>\n",
       "      <td>2017-09-07 20:30:00</td>\n",
       "      <td>2017-09-07 20:30:00</td>\n",
       "      <td>2017-09-07 20:00:00</td>\n",
       "      <td>1011.3</td>\n",
       "      <td>Foxborough</td>\n",
       "      <td>13.8</td>\n",
       "      <td>FieldTurf CORE</td>\n",
       "      <td>65.0</td>\n",
       "      <td>0.0</td>\n",
       "      <td>Open</td>\n",
       "      <td>NE</td>\n",
       "      <td>20.6</td>\n",
       "      <td>2017-09-07 20:00:00</td>\n",
       "      <td>2017-09-08 00:00:00</td>\n",
       "      <td>210.0</td>\n",
       "      <td>22.3</td>\n",
       "      <td>0</td>\n",
       "      <td>KC @ NE 2017-09-07</td>\n",
       "      <td>0</td>\n",
       "      <td>0</td>\n",
       "      <td>0</td>\n",
       "      <td>0</td>\n",
       "      <td>0</td>\n",
       "      <td>0</td>\n",
       "      <td>0</td>\n",
       "      <td>0</td>\n",
       "      <td>0</td>\n",
       "      <td>0</td>\n",
       "      <td>0</td>\n",
       "      <td>0</td>\n",
       "      <td>0</td>\n",
       "      <td>0</td>\n",
       "      <td>0</td>\n",
       "      <td>0</td>\n",
       "      <td>0</td>\n",
       "      <td>0</td>\n",
       "      <td>A</td>\n",
       "      <td>0</td>\n",
       "      <td>0</td>\n",
       "      <td>0</td>\n",
       "      <td>0</td>\n",
       "      <td>H</td>\n",
       "      <td>0</td>\n",
       "      <td>0</td>\n",
       "      <td>0</td>\n",
       "      <td>0</td>\n",
       "      <td>0</td>\n",
       "      <td>0</td>\n",
       "      <td>0</td>\n",
       "      <td>0</td>\n",
       "      <td>0</td>\n",
       "      <td>0</td>\n",
       "      <td>0</td>\n",
       "      <td>2017</td>\n",
       "      <td>1</td>\n",
       "    </tr>\n",
       "    <tr>\n",
       "      <th>68</th>\n",
       "      <td>362095</td>\n",
       "      <td>2017090700</td>\n",
       "      <td>2017-09-07 00:00:00</td>\n",
       "      <td>14:55</td>\n",
       "      <td>895.0</td>\n",
       "      <td>1795.0</td>\n",
       "      <td>3595.0</td>\n",
       "      <td>Half1</td>\n",
       "      <td>0</td>\n",
       "      <td>1</td>\n",
       "      <td>NE</td>\n",
       "      <td>KC</td>\n",
       "      <td>NE</td>\n",
       "      <td>home</td>\n",
       "      <td>KC</td>\n",
       "      <td>NE</td>\n",
       "      <td>73.0</td>\n",
       "      <td>1</td>\n",
       "      <td>0</td>\n",
       "      <td>1.0</td>\n",
       "      <td>0.0</td>\n",
       "      <td>NE 27</td>\n",
       "      <td>10</td>\n",
       "      <td>0</td>\n",
       "      <td>(14:55) NE 12-Brady 18th season as Patriots QB...</td>\n",
       "      <td>pass</td>\n",
       "      <td>0.0</td>\n",
       "      <td>deep</td>\n",
       "      <td>27.0</td>\n",
       "      <td>0.0</td>\n",
       "      <td>NaN</td>\n",
       "      <td>NaN</td>\n",
       "      <td>NaN</td>\n",
       "      <td>NaN</td>\n",
       "      <td>NaN</td>\n",
       "      <td>0</td>\n",
       "      <td>0</td>\n",
       "      <td>0.0</td>\n",
       "      <td>0.0</td>\n",
       "      <td>0.0</td>\n",
       "      <td>0.0</td>\n",
       "      <td>0.0</td>\n",
       "      <td>0.0</td>\n",
       "      <td>0.0</td>\n",
       "      <td>0.0</td>\n",
       "      <td>0.0</td>\n",
       "      <td>0.0</td>\n",
       "      <td>0.0</td>\n",
       "      <td>0.0</td>\n",
       "      <td>2017-09-07 20:30:00</td>\n",
       "      <td>0 days 00:00:15.000000000</td>\n",
       "      <td>2017-09-07 20:30:15</td>\n",
       "      <td>2017-09-07 20:30:15</td>\n",
       "      <td>2017-09-07 21:00:00</td>\n",
       "      <td>1012.9</td>\n",
       "      <td>Foxborough</td>\n",
       "      <td>11.6</td>\n",
       "      <td>FieldTurf CORE</td>\n",
       "      <td>67.0</td>\n",
       "      <td>0.0</td>\n",
       "      <td>Open</td>\n",
       "      <td>NE</td>\n",
       "      <td>17.8</td>\n",
       "      <td>2017-09-07 21:00:00</td>\n",
       "      <td>2017-09-08 01:00:00</td>\n",
       "      <td>300.0</td>\n",
       "      <td>20.5</td>\n",
       "      <td>0</td>\n",
       "      <td>KC @ NE 2017-09-07</td>\n",
       "      <td>0</td>\n",
       "      <td>0</td>\n",
       "      <td>0</td>\n",
       "      <td>0</td>\n",
       "      <td>0</td>\n",
       "      <td>0</td>\n",
       "      <td>0</td>\n",
       "      <td>0</td>\n",
       "      <td>0</td>\n",
       "      <td>0</td>\n",
       "      <td>0</td>\n",
       "      <td>0</td>\n",
       "      <td>0</td>\n",
       "      <td>0</td>\n",
       "      <td>0</td>\n",
       "      <td>0</td>\n",
       "      <td>0</td>\n",
       "      <td>0</td>\n",
       "      <td>A</td>\n",
       "      <td>0</td>\n",
       "      <td>0</td>\n",
       "      <td>0</td>\n",
       "      <td>0</td>\n",
       "      <td>H</td>\n",
       "      <td>0</td>\n",
       "      <td>0</td>\n",
       "      <td>0</td>\n",
       "      <td>0</td>\n",
       "      <td>0</td>\n",
       "      <td>0</td>\n",
       "      <td>0</td>\n",
       "      <td>0</td>\n",
       "      <td>0</td>\n",
       "      <td>0</td>\n",
       "      <td>0</td>\n",
       "      <td>2017</td>\n",
       "      <td>1</td>\n",
       "    </tr>\n",
       "    <tr>\n",
       "      <th>94</th>\n",
       "      <td>362096</td>\n",
       "      <td>2017090700</td>\n",
       "      <td>2017-09-07 00:00:00</td>\n",
       "      <td>14:49</td>\n",
       "      <td>889.0</td>\n",
       "      <td>1789.0</td>\n",
       "      <td>3589.0</td>\n",
       "      <td>Half1</td>\n",
       "      <td>0</td>\n",
       "      <td>1</td>\n",
       "      <td>NE</td>\n",
       "      <td>KC</td>\n",
       "      <td>NE</td>\n",
       "      <td>home</td>\n",
       "      <td>KC</td>\n",
       "      <td>NE</td>\n",
       "      <td>73.0</td>\n",
       "      <td>1</td>\n",
       "      <td>0</td>\n",
       "      <td>2.0</td>\n",
       "      <td>0.0</td>\n",
       "      <td>NE 27</td>\n",
       "      <td>10</td>\n",
       "      <td>8</td>\n",
       "      <td>(14:49) T.Brady pass short right to R.Burkhead...</td>\n",
       "      <td>pass</td>\n",
       "      <td>8.0</td>\n",
       "      <td>short</td>\n",
       "      <td>1.0</td>\n",
       "      <td>7.0</td>\n",
       "      <td>NaN</td>\n",
       "      <td>NaN</td>\n",
       "      <td>NaN</td>\n",
       "      <td>NaN</td>\n",
       "      <td>NaN</td>\n",
       "      <td>0</td>\n",
       "      <td>0</td>\n",
       "      <td>0.0</td>\n",
       "      <td>0.0</td>\n",
       "      <td>0.0</td>\n",
       "      <td>0.0</td>\n",
       "      <td>0.0</td>\n",
       "      <td>0.0</td>\n",
       "      <td>0.0</td>\n",
       "      <td>0.0</td>\n",
       "      <td>0.0</td>\n",
       "      <td>0.0</td>\n",
       "      <td>0.0</td>\n",
       "      <td>1.0</td>\n",
       "      <td>2017-09-07 20:30:00</td>\n",
       "      <td>0 days 00:00:33.000000000</td>\n",
       "      <td>2017-09-07 20:30:33</td>\n",
       "      <td>2017-09-07 20:30:33</td>\n",
       "      <td>2017-09-07 21:00:00</td>\n",
       "      <td>1012.9</td>\n",
       "      <td>Foxborough</td>\n",
       "      <td>11.6</td>\n",
       "      <td>FieldTurf CORE</td>\n",
       "      <td>67.0</td>\n",
       "      <td>0.0</td>\n",
       "      <td>Open</td>\n",
       "      <td>NE</td>\n",
       "      <td>17.8</td>\n",
       "      <td>2017-09-07 21:00:00</td>\n",
       "      <td>2017-09-08 01:00:00</td>\n",
       "      <td>300.0</td>\n",
       "      <td>20.5</td>\n",
       "      <td>0</td>\n",
       "      <td>KC @ NE 2017-09-07</td>\n",
       "      <td>0</td>\n",
       "      <td>0</td>\n",
       "      <td>0</td>\n",
       "      <td>0</td>\n",
       "      <td>0</td>\n",
       "      <td>0</td>\n",
       "      <td>0</td>\n",
       "      <td>0</td>\n",
       "      <td>0</td>\n",
       "      <td>0</td>\n",
       "      <td>0</td>\n",
       "      <td>0</td>\n",
       "      <td>0</td>\n",
       "      <td>0</td>\n",
       "      <td>0</td>\n",
       "      <td>0</td>\n",
       "      <td>0</td>\n",
       "      <td>0</td>\n",
       "      <td>A</td>\n",
       "      <td>0</td>\n",
       "      <td>0</td>\n",
       "      <td>0</td>\n",
       "      <td>0</td>\n",
       "      <td>H</td>\n",
       "      <td>0</td>\n",
       "      <td>0</td>\n",
       "      <td>0</td>\n",
       "      <td>0</td>\n",
       "      <td>0</td>\n",
       "      <td>0</td>\n",
       "      <td>0</td>\n",
       "      <td>0</td>\n",
       "      <td>0</td>\n",
       "      <td>0</td>\n",
       "      <td>0</td>\n",
       "      <td>2017</td>\n",
       "      <td>1</td>\n",
       "    </tr>\n",
       "    <tr>\n",
       "      <th>118</th>\n",
       "      <td>362097</td>\n",
       "      <td>2017090700</td>\n",
       "      <td>2017-09-07 00:00:00</td>\n",
       "      <td>14:14</td>\n",
       "      <td>854.0</td>\n",
       "      <td>1754.0</td>\n",
       "      <td>3554.0</td>\n",
       "      <td>Half1</td>\n",
       "      <td>0</td>\n",
       "      <td>1</td>\n",
       "      <td>NE</td>\n",
       "      <td>KC</td>\n",
       "      <td>NE</td>\n",
       "      <td>home</td>\n",
       "      <td>KC</td>\n",
       "      <td>NE</td>\n",
       "      <td>65.0</td>\n",
       "      <td>1</td>\n",
       "      <td>0</td>\n",
       "      <td>3.0</td>\n",
       "      <td>0.0</td>\n",
       "      <td>NE 35</td>\n",
       "      <td>2</td>\n",
       "      <td>73</td>\n",
       "      <td>(14:14) (Shotgun) J.White left guard to NE 43 ...</td>\n",
       "      <td>run</td>\n",
       "      <td>8.0</td>\n",
       "      <td>0</td>\n",
       "      <td>0.0</td>\n",
       "      <td>0.0</td>\n",
       "      <td>NaN</td>\n",
       "      <td>NaN</td>\n",
       "      <td>NaN</td>\n",
       "      <td>NaN</td>\n",
       "      <td>NaN</td>\n",
       "      <td>0</td>\n",
       "      <td>0</td>\n",
       "      <td>0.0</td>\n",
       "      <td>0.0</td>\n",
       "      <td>0.0</td>\n",
       "      <td>0.0</td>\n",
       "      <td>0.0</td>\n",
       "      <td>0.0</td>\n",
       "      <td>0.0</td>\n",
       "      <td>0.0</td>\n",
       "      <td>0.0</td>\n",
       "      <td>0.0</td>\n",
       "      <td>0.0</td>\n",
       "      <td>0.0</td>\n",
       "      <td>2017-09-07 20:30:00</td>\n",
       "      <td>0 days 00:02:18.000000000</td>\n",
       "      <td>2017-09-07 20:32:18</td>\n",
       "      <td>2017-09-07 20:32:18</td>\n",
       "      <td>2017-09-07 21:00:00</td>\n",
       "      <td>1012.9</td>\n",
       "      <td>Foxborough</td>\n",
       "      <td>11.6</td>\n",
       "      <td>FieldTurf CORE</td>\n",
       "      <td>67.0</td>\n",
       "      <td>0.0</td>\n",
       "      <td>Open</td>\n",
       "      <td>NE</td>\n",
       "      <td>17.8</td>\n",
       "      <td>2017-09-07 21:00:00</td>\n",
       "      <td>2017-09-08 01:00:00</td>\n",
       "      <td>300.0</td>\n",
       "      <td>20.5</td>\n",
       "      <td>0</td>\n",
       "      <td>KC @ NE 2017-09-07</td>\n",
       "      <td>0</td>\n",
       "      <td>0</td>\n",
       "      <td>0</td>\n",
       "      <td>0</td>\n",
       "      <td>0</td>\n",
       "      <td>0</td>\n",
       "      <td>0</td>\n",
       "      <td>0</td>\n",
       "      <td>0</td>\n",
       "      <td>0</td>\n",
       "      <td>0</td>\n",
       "      <td>0</td>\n",
       "      <td>0</td>\n",
       "      <td>0</td>\n",
       "      <td>0</td>\n",
       "      <td>0</td>\n",
       "      <td>0</td>\n",
       "      <td>0</td>\n",
       "      <td>A</td>\n",
       "      <td>0</td>\n",
       "      <td>0</td>\n",
       "      <td>0</td>\n",
       "      <td>0</td>\n",
       "      <td>H</td>\n",
       "      <td>0</td>\n",
       "      <td>0</td>\n",
       "      <td>0</td>\n",
       "      <td>0</td>\n",
       "      <td>0</td>\n",
       "      <td>0</td>\n",
       "      <td>0</td>\n",
       "      <td>0</td>\n",
       "      <td>0</td>\n",
       "      <td>0</td>\n",
       "      <td>0</td>\n",
       "      <td>2017</td>\n",
       "      <td>1</td>\n",
       "    </tr>\n",
       "    <tr>\n",
       "      <th>139</th>\n",
       "      <td>362098</td>\n",
       "      <td>2017090700</td>\n",
       "      <td>2017-09-07 00:00:00</td>\n",
       "      <td>13:52</td>\n",
       "      <td>832.0</td>\n",
       "      <td>1732.0</td>\n",
       "      <td>3532.0</td>\n",
       "      <td>Half1</td>\n",
       "      <td>0</td>\n",
       "      <td>1</td>\n",
       "      <td>NE</td>\n",
       "      <td>KC</td>\n",
       "      <td>NE</td>\n",
       "      <td>home</td>\n",
       "      <td>KC</td>\n",
       "      <td>NE</td>\n",
       "      <td>57.0</td>\n",
       "      <td>1</td>\n",
       "      <td>0</td>\n",
       "      <td>1.0</td>\n",
       "      <td>0.0</td>\n",
       "      <td>NE 43</td>\n",
       "      <td>10</td>\n",
       "      <td>19</td>\n",
       "      <td>(13:52) (No Huddle, Shotgun) J.White up the mi...</td>\n",
       "      <td>run</td>\n",
       "      <td>3.0</td>\n",
       "      <td>0</td>\n",
       "      <td>0.0</td>\n",
       "      <td>0.0</td>\n",
       "      <td>NaN</td>\n",
       "      <td>NaN</td>\n",
       "      <td>NaN</td>\n",
       "      <td>NaN</td>\n",
       "      <td>NaN</td>\n",
       "      <td>0</td>\n",
       "      <td>0</td>\n",
       "      <td>0.0</td>\n",
       "      <td>0.0</td>\n",
       "      <td>0.0</td>\n",
       "      <td>0.0</td>\n",
       "      <td>0.0</td>\n",
       "      <td>0.0</td>\n",
       "      <td>0.0</td>\n",
       "      <td>0.0</td>\n",
       "      <td>0.0</td>\n",
       "      <td>0.0</td>\n",
       "      <td>0.0</td>\n",
       "      <td>0.0</td>\n",
       "      <td>2017-09-07 20:30:00</td>\n",
       "      <td>0 days 00:03:24.000000000</td>\n",
       "      <td>2017-09-07 20:33:24</td>\n",
       "      <td>2017-09-07 20:33:24</td>\n",
       "      <td>2017-09-07 21:00:00</td>\n",
       "      <td>1012.9</td>\n",
       "      <td>Foxborough</td>\n",
       "      <td>11.6</td>\n",
       "      <td>FieldTurf CORE</td>\n",
       "      <td>67.0</td>\n",
       "      <td>0.0</td>\n",
       "      <td>Open</td>\n",
       "      <td>NE</td>\n",
       "      <td>17.8</td>\n",
       "      <td>2017-09-07 21:00:00</td>\n",
       "      <td>2017-09-08 01:00:00</td>\n",
       "      <td>300.0</td>\n",
       "      <td>20.5</td>\n",
       "      <td>0</td>\n",
       "      <td>KC @ NE 2017-09-07</td>\n",
       "      <td>0</td>\n",
       "      <td>0</td>\n",
       "      <td>0</td>\n",
       "      <td>0</td>\n",
       "      <td>0</td>\n",
       "      <td>0</td>\n",
       "      <td>0</td>\n",
       "      <td>0</td>\n",
       "      <td>0</td>\n",
       "      <td>0</td>\n",
       "      <td>0</td>\n",
       "      <td>0</td>\n",
       "      <td>0</td>\n",
       "      <td>0</td>\n",
       "      <td>0</td>\n",
       "      <td>0</td>\n",
       "      <td>0</td>\n",
       "      <td>0</td>\n",
       "      <td>A</td>\n",
       "      <td>0</td>\n",
       "      <td>0</td>\n",
       "      <td>0</td>\n",
       "      <td>0</td>\n",
       "      <td>H</td>\n",
       "      <td>0</td>\n",
       "      <td>0</td>\n",
       "      <td>0</td>\n",
       "      <td>0</td>\n",
       "      <td>0</td>\n",
       "      <td>0</td>\n",
       "      <td>0</td>\n",
       "      <td>0</td>\n",
       "      <td>0</td>\n",
       "      <td>0</td>\n",
       "      <td>0</td>\n",
       "      <td>2017</td>\n",
       "      <td>1</td>\n",
       "    </tr>\n",
       "  </tbody>\n",
       "</table>\n",
       "</div>"
      ],
      "text/plain": [
       "          index     game_id            game_date   time  \\\n",
       "play_id                                                   \n",
       "44       362094  2017090700  2017-09-07 00:00:00  15:00   \n",
       "68       362095  2017090700  2017-09-07 00:00:00  14:55   \n",
       "94       362096  2017090700  2017-09-07 00:00:00  14:49   \n",
       "118      362097  2017090700  2017-09-07 00:00:00  14:14   \n",
       "139      362098  2017090700  2017-09-07 00:00:00  13:52   \n",
       "\n",
       "         quarter_seconds_remaining  half_seconds_remaining  \\\n",
       "play_id                                                      \n",
       "44                           900.0                  1800.0   \n",
       "68                           895.0                  1795.0   \n",
       "94                           889.0                  1789.0   \n",
       "118                          854.0                  1754.0   \n",
       "139                          832.0                  1732.0   \n",
       "\n",
       "         game_seconds_remaining game_half  quarter_end  qtr home_team  \\\n",
       "play_id                                                                 \n",
       "44                       3600.0     Half1            0    1        NE   \n",
       "68                       3595.0     Half1            0    1        NE   \n",
       "94                       3589.0     Half1            0    1        NE   \n",
       "118                      3554.0     Half1            0    1        NE   \n",
       "139                      3532.0     Half1            0    1        NE   \n",
       "\n",
       "        away_team posteam posteam_type defteam side_of_field  yardline_100  \\\n",
       "play_id                                                                      \n",
       "44             KC      NE         home      KC            KC          35.0   \n",
       "68             KC      NE         home      KC            NE          73.0   \n",
       "94             KC      NE         home      KC            NE          73.0   \n",
       "118            KC      NE         home      KC            NE          65.0   \n",
       "139            KC      NE         home      KC            NE          57.0   \n",
       "\n",
       "         drive  sp  down  goal_to_go  yrdln  ydstogo  ydsnet  \\\n",
       "play_id                                                        \n",
       "44           1   0   NaN         0.0  KC 35        0      73   \n",
       "68           1   0   1.0         0.0  NE 27       10       0   \n",
       "94           1   0   2.0         0.0  NE 27       10       8   \n",
       "118          1   0   3.0         0.0  NE 35        2      73   \n",
       "139          1   0   1.0         0.0  NE 43       10      19   \n",
       "\n",
       "                                                      desc play_type  \\\n",
       "play_id                                                                \n",
       "44       C.Santos kicks 64 yards from KC 35 to NE 1. D....   kickoff   \n",
       "68       (14:55) NE 12-Brady 18th season as Patriots QB...      pass   \n",
       "94       (14:49) T.Brady pass short right to R.Burkhead...      pass   \n",
       "118      (14:14) (Shotgun) J.White left guard to NE 43 ...       run   \n",
       "139      (13:52) (No Huddle, Shotgun) J.White up the mi...       run   \n",
       "\n",
       "         yards_gained pass_length  air_yards  yards_after_catch  \\\n",
       "play_id                                                           \n",
       "44                0.0           0        0.0                0.0   \n",
       "68                0.0        deep       27.0                0.0   \n",
       "94                8.0       short        1.0                7.0   \n",
       "118               8.0           0        0.0                0.0   \n",
       "139               3.0           0        0.0                0.0   \n",
       "\n",
       "        field_goal_result  kick_distance extra_point_result  \\\n",
       "play_id                                                       \n",
       "44                    NaN           64.0                NaN   \n",
       "68                    NaN            NaN                NaN   \n",
       "94                    NaN            NaN                NaN   \n",
       "118                   NaN            NaN                NaN   \n",
       "139                   NaN            NaN                NaN   \n",
       "\n",
       "        two_point_conv_result td_team  total_home_score  total_away_score  \\\n",
       "play_id                                                                     \n",
       "44                        NaN     NaN                 0                 0   \n",
       "68                        NaN     NaN                 0                 0   \n",
       "94                        NaN     NaN                 0                 0   \n",
       "118                       NaN     NaN                 0                 0   \n",
       "139                       NaN     NaN                 0                 0   \n",
       "\n",
       "         posteam_score  defteam_score  sack  touchdown  pass_touchdown  \\\n",
       "play_id                                                                  \n",
       "44                 0.0            0.0   0.0        0.0             0.0   \n",
       "68                 0.0            0.0   0.0        0.0             0.0   \n",
       "94                 0.0            0.0   0.0        0.0             0.0   \n",
       "118                0.0            0.0   0.0        0.0             0.0   \n",
       "139                0.0            0.0   0.0        0.0             0.0   \n",
       "\n",
       "         rush_touchdown  return_touchdown  extra_point_attempt  \\\n",
       "play_id                                                          \n",
       "44                  0.0               0.0                  0.0   \n",
       "68                  0.0               0.0                  0.0   \n",
       "94                  0.0               0.0                  0.0   \n",
       "118                 0.0               0.0                  0.0   \n",
       "139                 0.0               0.0                  0.0   \n",
       "\n",
       "         two_point_attempt  field_goal_attempt  fumble  complete_pass  \\\n",
       "play_id                                                                 \n",
       "44                     0.0                 0.0     0.0            0.0   \n",
       "68                     0.0                 0.0     0.0            0.0   \n",
       "94                     0.0                 0.0     0.0            1.0   \n",
       "118                    0.0                 0.0     0.0            0.0   \n",
       "139                    0.0                 0.0     0.0            0.0   \n",
       "\n",
       "                  Start_Time                       diff       Estimated_Time  \\\n",
       "play_id                                                                        \n",
       "44       2017-09-07 20:30:00  0 days 00:00:00.000000000  2017-09-07 20:30:00   \n",
       "68       2017-09-07 20:30:00  0 days 00:00:15.000000000  2017-09-07 20:30:15   \n",
       "94       2017-09-07 20:30:00  0 days 00:00:33.000000000  2017-09-07 20:30:33   \n",
       "118      2017-09-07 20:30:00  0 days 00:02:18.000000000  2017-09-07 20:32:18   \n",
       "139      2017-09-07 20:30:00  0 days 00:03:24.000000000  2017-09-07 20:33:24   \n",
       "\n",
       "        Estimated Time (EST)       Estimated_Hour  Air Pressure (hPa)  \\\n",
       "play_id                                                                 \n",
       "44       2017-09-07 20:30:00  2017-09-07 20:00:00              1011.3   \n",
       "68       2017-09-07 20:30:15  2017-09-07 21:00:00              1012.9   \n",
       "94       2017-09-07 20:30:33  2017-09-07 21:00:00              1012.9   \n",
       "118      2017-09-07 20:32:18  2017-09-07 21:00:00              1012.9   \n",
       "139      2017-09-07 20:33:24  2017-09-07 21:00:00              1012.9   \n",
       "\n",
       "               City  Dewpoint (°C)           Field  Humidity (%)  \\\n",
       "play_id                                                            \n",
       "44       Foxborough           13.8  FieldTurf CORE          65.0   \n",
       "68       Foxborough           11.6  FieldTurf CORE          67.0   \n",
       "94       Foxborough           11.6  FieldTurf CORE          67.0   \n",
       "118      Foxborough           11.6  FieldTurf CORE          67.0   \n",
       "139      Foxborough           11.6  FieldTurf CORE          67.0   \n",
       "\n",
       "         Precipitation (mm)  Roof Team Abbreviation  Temperature (°C)  \\\n",
       "play_id                                                                 \n",
       "44                      0.0  Open                NE              20.6   \n",
       "68                      0.0  Open                NE              17.8   \n",
       "94                      0.0  Open                NE              17.8   \n",
       "118                     0.0  Open                NE              17.8   \n",
       "139                     0.0  Open                NE              17.8   \n",
       "\n",
       "                  Time (EST)           Time (GMT)  Wind Direction (deg)  \\\n",
       "play_id                                                                   \n",
       "44       2017-09-07 20:00:00  2017-09-08 00:00:00                 210.0   \n",
       "68       2017-09-07 21:00:00  2017-09-08 01:00:00                 300.0   \n",
       "94       2017-09-07 21:00:00  2017-09-08 01:00:00                 300.0   \n",
       "118      2017-09-07 21:00:00  2017-09-08 01:00:00                 300.0   \n",
       "139      2017-09-07 21:00:00  2017-09-08 01:00:00                 300.0   \n",
       "\n",
       "         Wind Speed (km/h)  added_time           game_name  end_of_drive  \\\n",
       "play_id                                                                    \n",
       "44                    22.3           0  KC @ NE 2017-09-07             0   \n",
       "68                    20.5           0  KC @ NE 2017-09-07             0   \n",
       "94                    20.5           0  KC @ NE 2017-09-07             0   \n",
       "118                   20.5           0  KC @ NE 2017-09-07             0   \n",
       "139                   20.5           0  KC @ NE 2017-09-07             0   \n",
       "\n",
       "         end_of_game  INT ARI ATL BAL BUF CAR CHI CIN CLE DAL DEN DET GB HOU  \\\n",
       "play_id                                                                        \n",
       "44                 0    0   0   0   0   0   0   0   0   0   0   0   0  0   0   \n",
       "68                 0    0   0   0   0   0   0   0   0   0   0   0   0  0   0   \n",
       "94                 0    0   0   0   0   0   0   0   0   0   0   0   0  0   0   \n",
       "118                0    0   0   0   0   0   0   0   0   0   0   0   0  0   0   \n",
       "139                0    0   0   0   0   0   0   0   0   0   0   0   0  0   0   \n",
       "\n",
       "        IND JAX KC LA LAC MIA MIN NE NO NYG NYJ OAK PHI PIT SEA SF TB TEN WAS  \\\n",
       "play_id                                                                         \n",
       "44        0   0  A  0   0   0   0  H  0   0   0   0   0   0   0  0  0   0   0   \n",
       "68        0   0  A  0   0   0   0  H  0   0   0   0   0   0   0  0  0   0   0   \n",
       "94        0   0  A  0   0   0   0  H  0   0   0   0   0   0   0  0  0   0   0   \n",
       "118       0   0  A  0   0   0   0  H  0   0   0   0   0   0   0  0  0   0   0   \n",
       "139       0   0  A  0   0   0   0  H  0   0   0   0   0   0   0  0  0   0   0   \n",
       "\n",
       "         year  week  \n",
       "play_id              \n",
       "44       2017     1  \n",
       "68       2017     1  \n",
       "94       2017     1  \n",
       "118      2017     1  \n",
       "139      2017     1  "
      ]
     },
     "execution_count": 151,
     "metadata": {},
     "output_type": "execute_result"
    }
   ],
   "source": [
    "nfl_small2_end_of_drive.head(5)"
   ]
  },
  {
   "cell_type": "code",
   "execution_count": 152,
   "metadata": {},
   "outputs": [],
   "source": [
    "# Checking this game, the yard totals look right, but the overall don't match online either \n",
    "# UPDATE: ydsnet is how far down the field the team drove, including penalties\n",
    "# https://www.pro-football-reference.com/boxscores/201709100cle.htm#all_vis_drives\n",
    "# nfl_small2_end_of_drive[(nfl_small2_end_of_drive['home_team']=='CLE')\\\n",
    "#                         & (nfl_small2_end_of_drive['week'] == 1)].to_csv('nfl_small_yard_explore.csv')"
   ]
  },
  {
   "cell_type": "code",
   "execution_count": 153,
   "metadata": {},
   "outputs": [],
   "source": [
    "x_axis = nfl_small2_end_of_drive[(nfl_small2_end_of_drive['posteam']=='CLE')&\\\n",
    "                                 (nfl_small2_end_of_drive['year']==2017)].groupby('week').sum().index\n",
    "\n",
    "y_axis = nfl_small2_end_of_drive[(nfl_small2_end_of_drive['posteam']=='CLE') &\\\n",
    "                        (nfl_small2_end_of_drive['end_of_drive']==1)&\\\n",
    "                        (nfl_small2_end_of_drive['year']==2017)]\\\n",
    "                        .groupby('week').sum()['ydsnet'].values\n",
    "\n",
    "x_axis2 = nfl_small2_end_of_drive[(nfl_small2_end_of_drive['posteam']=='CLE')&\\\n",
    "                                 (nfl_small2_end_of_drive['year']==2018)].groupby('week').sum().index\n",
    "\n",
    "y_axis2 = nfl_small2_end_of_drive[(nfl_small2_end_of_drive['posteam']=='CLE') &\\\n",
    "                        (nfl_small2_end_of_drive['end_of_drive']==1)&\\\n",
    "                        (nfl_small2_end_of_drive['year']==2018)]\\\n",
    "                        .groupby('week').sum()['ydsnet'].values"
   ]
  },
  {
   "cell_type": "code",
   "execution_count": 154,
   "metadata": {},
   "outputs": [
    {
     "data": {
      "application/vnd.plotly.v1+json": {
       "config": {
        "plotlyServerURL": "https://plot.ly"
       },
       "data": [
        {
         "mode": "lines",
         "name": "2017",
         "type": "scatter",
         "x": [
          1,
          2,
          3,
          4,
          5,
          6,
          7,
          8,
          9,
          10,
          11,
          12,
          13,
          14,
          15,
          16
         ],
         "y": [
          293,
          367,
          349,
          227,
          400,
          238,
          264,
          296,
          424,
          184,
          370,
          324,
          335,
          273,
          228,
          352
         ]
        },
        {
         "mode": "lines",
         "name": "2018",
         "type": "scatter",
         "x": [
          1,
          2,
          3,
          4,
          5,
          6,
          7,
          9,
          10,
          11,
          12,
          13,
          14
         ],
         "y": [
          360,
          360,
          318,
          502,
          382,
          581,
          239,
          404,
          407,
          367,
          450,
          324,
          299
         ]
        }
       ],
       "layout": {
        "template": {
         "data": {
          "bar": [
           {
            "error_x": {
             "color": "#2a3f5f"
            },
            "error_y": {
             "color": "#2a3f5f"
            },
            "marker": {
             "line": {
              "color": "#E5ECF6",
              "width": 0.5
             }
            },
            "type": "bar"
           }
          ],
          "barpolar": [
           {
            "marker": {
             "line": {
              "color": "#E5ECF6",
              "width": 0.5
             }
            },
            "type": "barpolar"
           }
          ],
          "carpet": [
           {
            "aaxis": {
             "endlinecolor": "#2a3f5f",
             "gridcolor": "white",
             "linecolor": "white",
             "minorgridcolor": "white",
             "startlinecolor": "#2a3f5f"
            },
            "baxis": {
             "endlinecolor": "#2a3f5f",
             "gridcolor": "white",
             "linecolor": "white",
             "minorgridcolor": "white",
             "startlinecolor": "#2a3f5f"
            },
            "type": "carpet"
           }
          ],
          "choropleth": [
           {
            "colorbar": {
             "outlinewidth": 0,
             "ticks": ""
            },
            "type": "choropleth"
           }
          ],
          "contour": [
           {
            "colorbar": {
             "outlinewidth": 0,
             "ticks": ""
            },
            "colorscale": [
             [
              0,
              "#0d0887"
             ],
             [
              0.1111111111111111,
              "#46039f"
             ],
             [
              0.2222222222222222,
              "#7201a8"
             ],
             [
              0.3333333333333333,
              "#9c179e"
             ],
             [
              0.4444444444444444,
              "#bd3786"
             ],
             [
              0.5555555555555556,
              "#d8576b"
             ],
             [
              0.6666666666666666,
              "#ed7953"
             ],
             [
              0.7777777777777778,
              "#fb9f3a"
             ],
             [
              0.8888888888888888,
              "#fdca26"
             ],
             [
              1,
              "#f0f921"
             ]
            ],
            "type": "contour"
           }
          ],
          "contourcarpet": [
           {
            "colorbar": {
             "outlinewidth": 0,
             "ticks": ""
            },
            "type": "contourcarpet"
           }
          ],
          "heatmap": [
           {
            "colorbar": {
             "outlinewidth": 0,
             "ticks": ""
            },
            "colorscale": [
             [
              0,
              "#0d0887"
             ],
             [
              0.1111111111111111,
              "#46039f"
             ],
             [
              0.2222222222222222,
              "#7201a8"
             ],
             [
              0.3333333333333333,
              "#9c179e"
             ],
             [
              0.4444444444444444,
              "#bd3786"
             ],
             [
              0.5555555555555556,
              "#d8576b"
             ],
             [
              0.6666666666666666,
              "#ed7953"
             ],
             [
              0.7777777777777778,
              "#fb9f3a"
             ],
             [
              0.8888888888888888,
              "#fdca26"
             ],
             [
              1,
              "#f0f921"
             ]
            ],
            "type": "heatmap"
           }
          ],
          "heatmapgl": [
           {
            "colorbar": {
             "outlinewidth": 0,
             "ticks": ""
            },
            "colorscale": [
             [
              0,
              "#0d0887"
             ],
             [
              0.1111111111111111,
              "#46039f"
             ],
             [
              0.2222222222222222,
              "#7201a8"
             ],
             [
              0.3333333333333333,
              "#9c179e"
             ],
             [
              0.4444444444444444,
              "#bd3786"
             ],
             [
              0.5555555555555556,
              "#d8576b"
             ],
             [
              0.6666666666666666,
              "#ed7953"
             ],
             [
              0.7777777777777778,
              "#fb9f3a"
             ],
             [
              0.8888888888888888,
              "#fdca26"
             ],
             [
              1,
              "#f0f921"
             ]
            ],
            "type": "heatmapgl"
           }
          ],
          "histogram": [
           {
            "marker": {
             "colorbar": {
              "outlinewidth": 0,
              "ticks": ""
             }
            },
            "type": "histogram"
           }
          ],
          "histogram2d": [
           {
            "colorbar": {
             "outlinewidth": 0,
             "ticks": ""
            },
            "colorscale": [
             [
              0,
              "#0d0887"
             ],
             [
              0.1111111111111111,
              "#46039f"
             ],
             [
              0.2222222222222222,
              "#7201a8"
             ],
             [
              0.3333333333333333,
              "#9c179e"
             ],
             [
              0.4444444444444444,
              "#bd3786"
             ],
             [
              0.5555555555555556,
              "#d8576b"
             ],
             [
              0.6666666666666666,
              "#ed7953"
             ],
             [
              0.7777777777777778,
              "#fb9f3a"
             ],
             [
              0.8888888888888888,
              "#fdca26"
             ],
             [
              1,
              "#f0f921"
             ]
            ],
            "type": "histogram2d"
           }
          ],
          "histogram2dcontour": [
           {
            "colorbar": {
             "outlinewidth": 0,
             "ticks": ""
            },
            "colorscale": [
             [
              0,
              "#0d0887"
             ],
             [
              0.1111111111111111,
              "#46039f"
             ],
             [
              0.2222222222222222,
              "#7201a8"
             ],
             [
              0.3333333333333333,
              "#9c179e"
             ],
             [
              0.4444444444444444,
              "#bd3786"
             ],
             [
              0.5555555555555556,
              "#d8576b"
             ],
             [
              0.6666666666666666,
              "#ed7953"
             ],
             [
              0.7777777777777778,
              "#fb9f3a"
             ],
             [
              0.8888888888888888,
              "#fdca26"
             ],
             [
              1,
              "#f0f921"
             ]
            ],
            "type": "histogram2dcontour"
           }
          ],
          "mesh3d": [
           {
            "colorbar": {
             "outlinewidth": 0,
             "ticks": ""
            },
            "type": "mesh3d"
           }
          ],
          "parcoords": [
           {
            "line": {
             "colorbar": {
              "outlinewidth": 0,
              "ticks": ""
             }
            },
            "type": "parcoords"
           }
          ],
          "pie": [
           {
            "automargin": true,
            "type": "pie"
           }
          ],
          "scatter": [
           {
            "marker": {
             "colorbar": {
              "outlinewidth": 0,
              "ticks": ""
             }
            },
            "type": "scatter"
           }
          ],
          "scatter3d": [
           {
            "line": {
             "colorbar": {
              "outlinewidth": 0,
              "ticks": ""
             }
            },
            "marker": {
             "colorbar": {
              "outlinewidth": 0,
              "ticks": ""
             }
            },
            "type": "scatter3d"
           }
          ],
          "scattercarpet": [
           {
            "marker": {
             "colorbar": {
              "outlinewidth": 0,
              "ticks": ""
             }
            },
            "type": "scattercarpet"
           }
          ],
          "scattergeo": [
           {
            "marker": {
             "colorbar": {
              "outlinewidth": 0,
              "ticks": ""
             }
            },
            "type": "scattergeo"
           }
          ],
          "scattergl": [
           {
            "marker": {
             "colorbar": {
              "outlinewidth": 0,
              "ticks": ""
             }
            },
            "type": "scattergl"
           }
          ],
          "scattermapbox": [
           {
            "marker": {
             "colorbar": {
              "outlinewidth": 0,
              "ticks": ""
             }
            },
            "type": "scattermapbox"
           }
          ],
          "scatterpolar": [
           {
            "marker": {
             "colorbar": {
              "outlinewidth": 0,
              "ticks": ""
             }
            },
            "type": "scatterpolar"
           }
          ],
          "scatterpolargl": [
           {
            "marker": {
             "colorbar": {
              "outlinewidth": 0,
              "ticks": ""
             }
            },
            "type": "scatterpolargl"
           }
          ],
          "scatterternary": [
           {
            "marker": {
             "colorbar": {
              "outlinewidth": 0,
              "ticks": ""
             }
            },
            "type": "scatterternary"
           }
          ],
          "surface": [
           {
            "colorbar": {
             "outlinewidth": 0,
             "ticks": ""
            },
            "colorscale": [
             [
              0,
              "#0d0887"
             ],
             [
              0.1111111111111111,
              "#46039f"
             ],
             [
              0.2222222222222222,
              "#7201a8"
             ],
             [
              0.3333333333333333,
              "#9c179e"
             ],
             [
              0.4444444444444444,
              "#bd3786"
             ],
             [
              0.5555555555555556,
              "#d8576b"
             ],
             [
              0.6666666666666666,
              "#ed7953"
             ],
             [
              0.7777777777777778,
              "#fb9f3a"
             ],
             [
              0.8888888888888888,
              "#fdca26"
             ],
             [
              1,
              "#f0f921"
             ]
            ],
            "type": "surface"
           }
          ],
          "table": [
           {
            "cells": {
             "fill": {
              "color": "#EBF0F8"
             },
             "line": {
              "color": "white"
             }
            },
            "header": {
             "fill": {
              "color": "#C8D4E3"
             },
             "line": {
              "color": "white"
             }
            },
            "type": "table"
           }
          ]
         },
         "layout": {
          "annotationdefaults": {
           "arrowcolor": "#2a3f5f",
           "arrowhead": 0,
           "arrowwidth": 1
          },
          "coloraxis": {
           "colorbar": {
            "outlinewidth": 0,
            "ticks": ""
           }
          },
          "colorscale": {
           "diverging": [
            [
             0,
             "#8e0152"
            ],
            [
             0.1,
             "#c51b7d"
            ],
            [
             0.2,
             "#de77ae"
            ],
            [
             0.3,
             "#f1b6da"
            ],
            [
             0.4,
             "#fde0ef"
            ],
            [
             0.5,
             "#f7f7f7"
            ],
            [
             0.6,
             "#e6f5d0"
            ],
            [
             0.7,
             "#b8e186"
            ],
            [
             0.8,
             "#7fbc41"
            ],
            [
             0.9,
             "#4d9221"
            ],
            [
             1,
             "#276419"
            ]
           ],
           "sequential": [
            [
             0,
             "#0d0887"
            ],
            [
             0.1111111111111111,
             "#46039f"
            ],
            [
             0.2222222222222222,
             "#7201a8"
            ],
            [
             0.3333333333333333,
             "#9c179e"
            ],
            [
             0.4444444444444444,
             "#bd3786"
            ],
            [
             0.5555555555555556,
             "#d8576b"
            ],
            [
             0.6666666666666666,
             "#ed7953"
            ],
            [
             0.7777777777777778,
             "#fb9f3a"
            ],
            [
             0.8888888888888888,
             "#fdca26"
            ],
            [
             1,
             "#f0f921"
            ]
           ],
           "sequentialminus": [
            [
             0,
             "#0d0887"
            ],
            [
             0.1111111111111111,
             "#46039f"
            ],
            [
             0.2222222222222222,
             "#7201a8"
            ],
            [
             0.3333333333333333,
             "#9c179e"
            ],
            [
             0.4444444444444444,
             "#bd3786"
            ],
            [
             0.5555555555555556,
             "#d8576b"
            ],
            [
             0.6666666666666666,
             "#ed7953"
            ],
            [
             0.7777777777777778,
             "#fb9f3a"
            ],
            [
             0.8888888888888888,
             "#fdca26"
            ],
            [
             1,
             "#f0f921"
            ]
           ]
          },
          "colorway": [
           "#636efa",
           "#EF553B",
           "#00cc96",
           "#ab63fa",
           "#FFA15A",
           "#19d3f3",
           "#FF6692",
           "#B6E880",
           "#FF97FF",
           "#FECB52"
          ],
          "font": {
           "color": "#2a3f5f"
          },
          "geo": {
           "bgcolor": "white",
           "lakecolor": "white",
           "landcolor": "#E5ECF6",
           "showlakes": true,
           "showland": true,
           "subunitcolor": "white"
          },
          "hoverlabel": {
           "align": "left"
          },
          "hovermode": "closest",
          "mapbox": {
           "style": "light"
          },
          "paper_bgcolor": "white",
          "plot_bgcolor": "#E5ECF6",
          "polar": {
           "angularaxis": {
            "gridcolor": "white",
            "linecolor": "white",
            "ticks": ""
           },
           "bgcolor": "#E5ECF6",
           "radialaxis": {
            "gridcolor": "white",
            "linecolor": "white",
            "ticks": ""
           }
          },
          "scene": {
           "xaxis": {
            "backgroundcolor": "#E5ECF6",
            "gridcolor": "white",
            "gridwidth": 2,
            "linecolor": "white",
            "showbackground": true,
            "ticks": "",
            "zerolinecolor": "white"
           },
           "yaxis": {
            "backgroundcolor": "#E5ECF6",
            "gridcolor": "white",
            "gridwidth": 2,
            "linecolor": "white",
            "showbackground": true,
            "ticks": "",
            "zerolinecolor": "white"
           },
           "zaxis": {
            "backgroundcolor": "#E5ECF6",
            "gridcolor": "white",
            "gridwidth": 2,
            "linecolor": "white",
            "showbackground": true,
            "ticks": "",
            "zerolinecolor": "white"
           }
          },
          "shapedefaults": {
           "line": {
            "color": "#2a3f5f"
           }
          },
          "ternary": {
           "aaxis": {
            "gridcolor": "white",
            "linecolor": "white",
            "ticks": ""
           },
           "baxis": {
            "gridcolor": "white",
            "linecolor": "white",
            "ticks": ""
           },
           "bgcolor": "#E5ECF6",
           "caxis": {
            "gridcolor": "white",
            "linecolor": "white",
            "ticks": ""
           }
          },
          "title": {
           "x": 0.05
          },
          "xaxis": {
           "automargin": true,
           "gridcolor": "white",
           "linecolor": "white",
           "ticks": "",
           "title": {
            "standoff": 15
           },
           "zerolinecolor": "white",
           "zerolinewidth": 2
          },
          "yaxis": {
           "automargin": true,
           "gridcolor": "white",
           "linecolor": "white",
           "ticks": "",
           "title": {
            "standoff": 15
           },
           "zerolinecolor": "white",
           "zerolinewidth": 2
          }
         }
        },
        "title": {
         "text": "End of Game Yards: CLE",
         "x": 0.5,
         "xanchor": "center",
         "y": 0.9,
         "yanchor": "top"
        },
        "xaxis": {
         "ticklen": 1,
         "title": {
          "text": "Game"
         },
         "type": "category",
         "zeroline": false
        },
        "yaxis": {
         "ticklen": 5,
         "title": {
          "text": "Yards"
         },
         "zeroline": false
        }
       }
      },
      "text/html": [
       "<div>\n",
       "        \n",
       "        \n",
       "            <div id=\"bc20c5fc-9c42-48e2-9447-c4016244c1cb\" class=\"plotly-graph-div\" style=\"height:525px; width:100%;\"></div>\n",
       "            <script type=\"text/javascript\">\n",
       "                require([\"plotly\"], function(Plotly) {\n",
       "                    window.PLOTLYENV=window.PLOTLYENV || {};\n",
       "                    \n",
       "                if (document.getElementById(\"bc20c5fc-9c42-48e2-9447-c4016244c1cb\")) {\n",
       "                    Plotly.newPlot(\n",
       "                        'bc20c5fc-9c42-48e2-9447-c4016244c1cb',\n",
       "                        [{\"mode\": \"lines\", \"name\": \"2017\", \"type\": \"scatter\", \"x\": [1, 2, 3, 4, 5, 6, 7, 8, 9, 10, 11, 12, 13, 14, 15, 16], \"y\": [293, 367, 349, 227, 400, 238, 264, 296, 424, 184, 370, 324, 335, 273, 228, 352]}, {\"mode\": \"lines\", \"name\": \"2018\", \"type\": \"scatter\", \"x\": [1, 2, 3, 4, 5, 6, 7, 9, 10, 11, 12, 13, 14], \"y\": [360, 360, 318, 502, 382, 581, 239, 404, 407, 367, 450, 324, 299]}],\n",
       "                        {\"template\": {\"data\": {\"bar\": [{\"error_x\": {\"color\": \"#2a3f5f\"}, \"error_y\": {\"color\": \"#2a3f5f\"}, \"marker\": {\"line\": {\"color\": \"#E5ECF6\", \"width\": 0.5}}, \"type\": \"bar\"}], \"barpolar\": [{\"marker\": {\"line\": {\"color\": \"#E5ECF6\", \"width\": 0.5}}, \"type\": \"barpolar\"}], \"carpet\": [{\"aaxis\": {\"endlinecolor\": \"#2a3f5f\", \"gridcolor\": \"white\", \"linecolor\": \"white\", \"minorgridcolor\": \"white\", \"startlinecolor\": \"#2a3f5f\"}, \"baxis\": {\"endlinecolor\": \"#2a3f5f\", \"gridcolor\": \"white\", \"linecolor\": \"white\", \"minorgridcolor\": \"white\", \"startlinecolor\": \"#2a3f5f\"}, \"type\": \"carpet\"}], \"choropleth\": [{\"colorbar\": {\"outlinewidth\": 0, \"ticks\": \"\"}, \"type\": \"choropleth\"}], \"contour\": [{\"colorbar\": {\"outlinewidth\": 0, \"ticks\": \"\"}, \"colorscale\": [[0.0, \"#0d0887\"], [0.1111111111111111, \"#46039f\"], [0.2222222222222222, \"#7201a8\"], [0.3333333333333333, \"#9c179e\"], [0.4444444444444444, \"#bd3786\"], [0.5555555555555556, \"#d8576b\"], [0.6666666666666666, \"#ed7953\"], [0.7777777777777778, \"#fb9f3a\"], [0.8888888888888888, \"#fdca26\"], [1.0, \"#f0f921\"]], \"type\": \"contour\"}], \"contourcarpet\": [{\"colorbar\": {\"outlinewidth\": 0, \"ticks\": \"\"}, \"type\": \"contourcarpet\"}], \"heatmap\": [{\"colorbar\": {\"outlinewidth\": 0, \"ticks\": \"\"}, \"colorscale\": [[0.0, \"#0d0887\"], [0.1111111111111111, \"#46039f\"], [0.2222222222222222, \"#7201a8\"], [0.3333333333333333, \"#9c179e\"], [0.4444444444444444, \"#bd3786\"], [0.5555555555555556, \"#d8576b\"], [0.6666666666666666, \"#ed7953\"], [0.7777777777777778, \"#fb9f3a\"], [0.8888888888888888, \"#fdca26\"], [1.0, \"#f0f921\"]], \"type\": \"heatmap\"}], \"heatmapgl\": [{\"colorbar\": {\"outlinewidth\": 0, \"ticks\": \"\"}, \"colorscale\": [[0.0, \"#0d0887\"], [0.1111111111111111, \"#46039f\"], [0.2222222222222222, \"#7201a8\"], [0.3333333333333333, \"#9c179e\"], [0.4444444444444444, \"#bd3786\"], [0.5555555555555556, \"#d8576b\"], [0.6666666666666666, \"#ed7953\"], [0.7777777777777778, \"#fb9f3a\"], [0.8888888888888888, \"#fdca26\"], [1.0, \"#f0f921\"]], \"type\": \"heatmapgl\"}], \"histogram\": [{\"marker\": {\"colorbar\": {\"outlinewidth\": 0, \"ticks\": \"\"}}, \"type\": \"histogram\"}], \"histogram2d\": [{\"colorbar\": {\"outlinewidth\": 0, \"ticks\": \"\"}, \"colorscale\": [[0.0, \"#0d0887\"], [0.1111111111111111, \"#46039f\"], [0.2222222222222222, \"#7201a8\"], [0.3333333333333333, \"#9c179e\"], [0.4444444444444444, \"#bd3786\"], [0.5555555555555556, \"#d8576b\"], [0.6666666666666666, \"#ed7953\"], [0.7777777777777778, \"#fb9f3a\"], [0.8888888888888888, \"#fdca26\"], [1.0, \"#f0f921\"]], \"type\": \"histogram2d\"}], \"histogram2dcontour\": [{\"colorbar\": {\"outlinewidth\": 0, \"ticks\": \"\"}, \"colorscale\": [[0.0, \"#0d0887\"], [0.1111111111111111, \"#46039f\"], [0.2222222222222222, \"#7201a8\"], [0.3333333333333333, \"#9c179e\"], [0.4444444444444444, \"#bd3786\"], [0.5555555555555556, \"#d8576b\"], [0.6666666666666666, \"#ed7953\"], [0.7777777777777778, \"#fb9f3a\"], [0.8888888888888888, \"#fdca26\"], [1.0, \"#f0f921\"]], \"type\": \"histogram2dcontour\"}], \"mesh3d\": [{\"colorbar\": {\"outlinewidth\": 0, \"ticks\": \"\"}, \"type\": \"mesh3d\"}], \"parcoords\": [{\"line\": {\"colorbar\": {\"outlinewidth\": 0, \"ticks\": \"\"}}, \"type\": \"parcoords\"}], \"pie\": [{\"automargin\": true, \"type\": \"pie\"}], \"scatter\": [{\"marker\": {\"colorbar\": {\"outlinewidth\": 0, \"ticks\": \"\"}}, \"type\": \"scatter\"}], \"scatter3d\": [{\"line\": {\"colorbar\": {\"outlinewidth\": 0, \"ticks\": \"\"}}, \"marker\": {\"colorbar\": {\"outlinewidth\": 0, \"ticks\": \"\"}}, \"type\": \"scatter3d\"}], \"scattercarpet\": [{\"marker\": {\"colorbar\": {\"outlinewidth\": 0, \"ticks\": \"\"}}, \"type\": \"scattercarpet\"}], \"scattergeo\": [{\"marker\": {\"colorbar\": {\"outlinewidth\": 0, \"ticks\": \"\"}}, \"type\": \"scattergeo\"}], \"scattergl\": [{\"marker\": {\"colorbar\": {\"outlinewidth\": 0, \"ticks\": \"\"}}, \"type\": \"scattergl\"}], \"scattermapbox\": [{\"marker\": {\"colorbar\": {\"outlinewidth\": 0, \"ticks\": \"\"}}, \"type\": \"scattermapbox\"}], \"scatterpolar\": [{\"marker\": {\"colorbar\": {\"outlinewidth\": 0, \"ticks\": \"\"}}, \"type\": \"scatterpolar\"}], \"scatterpolargl\": [{\"marker\": {\"colorbar\": {\"outlinewidth\": 0, \"ticks\": \"\"}}, \"type\": \"scatterpolargl\"}], \"scatterternary\": [{\"marker\": {\"colorbar\": {\"outlinewidth\": 0, \"ticks\": \"\"}}, \"type\": \"scatterternary\"}], \"surface\": [{\"colorbar\": {\"outlinewidth\": 0, \"ticks\": \"\"}, \"colorscale\": [[0.0, \"#0d0887\"], [0.1111111111111111, \"#46039f\"], [0.2222222222222222, \"#7201a8\"], [0.3333333333333333, \"#9c179e\"], [0.4444444444444444, \"#bd3786\"], [0.5555555555555556, \"#d8576b\"], [0.6666666666666666, \"#ed7953\"], [0.7777777777777778, \"#fb9f3a\"], [0.8888888888888888, \"#fdca26\"], [1.0, \"#f0f921\"]], \"type\": \"surface\"}], \"table\": [{\"cells\": {\"fill\": {\"color\": \"#EBF0F8\"}, \"line\": {\"color\": \"white\"}}, \"header\": {\"fill\": {\"color\": \"#C8D4E3\"}, \"line\": {\"color\": \"white\"}}, \"type\": \"table\"}]}, \"layout\": {\"annotationdefaults\": {\"arrowcolor\": \"#2a3f5f\", \"arrowhead\": 0, \"arrowwidth\": 1}, \"coloraxis\": {\"colorbar\": {\"outlinewidth\": 0, \"ticks\": \"\"}}, \"colorscale\": {\"diverging\": [[0, \"#8e0152\"], [0.1, \"#c51b7d\"], [0.2, \"#de77ae\"], [0.3, \"#f1b6da\"], [0.4, \"#fde0ef\"], [0.5, \"#f7f7f7\"], [0.6, \"#e6f5d0\"], [0.7, \"#b8e186\"], [0.8, \"#7fbc41\"], [0.9, \"#4d9221\"], [1, \"#276419\"]], \"sequential\": [[0.0, \"#0d0887\"], [0.1111111111111111, \"#46039f\"], [0.2222222222222222, \"#7201a8\"], [0.3333333333333333, \"#9c179e\"], [0.4444444444444444, \"#bd3786\"], [0.5555555555555556, \"#d8576b\"], [0.6666666666666666, \"#ed7953\"], [0.7777777777777778, \"#fb9f3a\"], [0.8888888888888888, \"#fdca26\"], [1.0, \"#f0f921\"]], \"sequentialminus\": [[0.0, \"#0d0887\"], [0.1111111111111111, \"#46039f\"], [0.2222222222222222, \"#7201a8\"], [0.3333333333333333, \"#9c179e\"], [0.4444444444444444, \"#bd3786\"], [0.5555555555555556, \"#d8576b\"], [0.6666666666666666, \"#ed7953\"], [0.7777777777777778, \"#fb9f3a\"], [0.8888888888888888, \"#fdca26\"], [1.0, \"#f0f921\"]]}, \"colorway\": [\"#636efa\", \"#EF553B\", \"#00cc96\", \"#ab63fa\", \"#FFA15A\", \"#19d3f3\", \"#FF6692\", \"#B6E880\", \"#FF97FF\", \"#FECB52\"], \"font\": {\"color\": \"#2a3f5f\"}, \"geo\": {\"bgcolor\": \"white\", \"lakecolor\": \"white\", \"landcolor\": \"#E5ECF6\", \"showlakes\": true, \"showland\": true, \"subunitcolor\": \"white\"}, \"hoverlabel\": {\"align\": \"left\"}, \"hovermode\": \"closest\", \"mapbox\": {\"style\": \"light\"}, \"paper_bgcolor\": \"white\", \"plot_bgcolor\": \"#E5ECF6\", \"polar\": {\"angularaxis\": {\"gridcolor\": \"white\", \"linecolor\": \"white\", \"ticks\": \"\"}, \"bgcolor\": \"#E5ECF6\", \"radialaxis\": {\"gridcolor\": \"white\", \"linecolor\": \"white\", \"ticks\": \"\"}}, \"scene\": {\"xaxis\": {\"backgroundcolor\": \"#E5ECF6\", \"gridcolor\": \"white\", \"gridwidth\": 2, \"linecolor\": \"white\", \"showbackground\": true, \"ticks\": \"\", \"zerolinecolor\": \"white\"}, \"yaxis\": {\"backgroundcolor\": \"#E5ECF6\", \"gridcolor\": \"white\", \"gridwidth\": 2, \"linecolor\": \"white\", \"showbackground\": true, \"ticks\": \"\", \"zerolinecolor\": \"white\"}, \"zaxis\": {\"backgroundcolor\": \"#E5ECF6\", \"gridcolor\": \"white\", \"gridwidth\": 2, \"linecolor\": \"white\", \"showbackground\": true, \"ticks\": \"\", \"zerolinecolor\": \"white\"}}, \"shapedefaults\": {\"line\": {\"color\": \"#2a3f5f\"}}, \"ternary\": {\"aaxis\": {\"gridcolor\": \"white\", \"linecolor\": \"white\", \"ticks\": \"\"}, \"baxis\": {\"gridcolor\": \"white\", \"linecolor\": \"white\", \"ticks\": \"\"}, \"bgcolor\": \"#E5ECF6\", \"caxis\": {\"gridcolor\": \"white\", \"linecolor\": \"white\", \"ticks\": \"\"}}, \"title\": {\"x\": 0.05}, \"xaxis\": {\"automargin\": true, \"gridcolor\": \"white\", \"linecolor\": \"white\", \"ticks\": \"\", \"title\": {\"standoff\": 15}, \"zerolinecolor\": \"white\", \"zerolinewidth\": 2}, \"yaxis\": {\"automargin\": true, \"gridcolor\": \"white\", \"linecolor\": \"white\", \"ticks\": \"\", \"title\": {\"standoff\": 15}, \"zerolinecolor\": \"white\", \"zerolinewidth\": 2}}}, \"title\": {\"text\": \"End of Game Yards: CLE\", \"x\": 0.5, \"xanchor\": \"center\", \"y\": 0.9, \"yanchor\": \"top\"}, \"xaxis\": {\"ticklen\": 1, \"title\": {\"text\": \"Game\"}, \"type\": \"category\", \"zeroline\": false}, \"yaxis\": {\"ticklen\": 5, \"title\": {\"text\": \"Yards\"}, \"zeroline\": false}},\n",
       "                        {\"responsive\": true}\n",
       "                    ).then(function(){\n",
       "                            \n",
       "var gd = document.getElementById('bc20c5fc-9c42-48e2-9447-c4016244c1cb');\n",
       "var x = new MutationObserver(function (mutations, observer) {{\n",
       "        var display = window.getComputedStyle(gd).display;\n",
       "        if (!display || display === 'none') {{\n",
       "            console.log([gd, 'removed!']);\n",
       "            Plotly.purge(gd);\n",
       "            observer.disconnect();\n",
       "        }}\n",
       "}});\n",
       "\n",
       "// Listen for the removal of the full notebook cells\n",
       "var notebookContainer = gd.closest('#notebook-container');\n",
       "if (notebookContainer) {{\n",
       "    x.observe(notebookContainer, {childList: true});\n",
       "}}\n",
       "\n",
       "// Listen for the clearing of the current output cell\n",
       "var outputEl = gd.closest('.output');\n",
       "if (outputEl) {{\n",
       "    x.observe(outputEl, {childList: true});\n",
       "}}\n",
       "\n",
       "                        })\n",
       "                };\n",
       "                });\n",
       "            </script>\n",
       "        </div>"
      ]
     },
     "metadata": {},
     "output_type": "display_data"
    }
   ],
   "source": [
    "trace2017 = go.Scatter(\n",
    "      x = x_axis, \n",
    "      y = y_axis, \n",
    "      mode = 'lines', \n",
    "      name = '2017',\n",
    "      type = \"scatter\"\n",
    "    )\n",
    "\n",
    "trace2018 = go.Scatter(\n",
    "      x = x_axis2, \n",
    "      y = y_axis2, \n",
    "      mode = 'lines', \n",
    "      name = '2018',\n",
    "      type = \"scatter\"\n",
    "    )\n",
    "\n",
    "\n",
    "layout = go.Layout(\n",
    "    title = 'End of Game Yards: {}'.format('CLE'),\n",
    "    xaxis= dict(title= 'Game',ticklen= 1,zeroline= False,type=\"category\"),\n",
    "    yaxis= dict(title= 'Yards',ticklen= 5,zeroline= False)\n",
    ")\n",
    "\n",
    "fig = go.Figure(data = [trace2017,trace2018], layout = layout)\n",
    "\n",
    "fig.update_layout(\n",
    "    title={\n",
    "        'y':0.9,\n",
    "        'x':0.5,\n",
    "        'xanchor': 'center',\n",
    "        'yanchor': 'top'})\n",
    "fig"
   ]
  },
  {
   "cell_type": "code",
   "execution_count": 155,
   "metadata": {},
   "outputs": [],
   "source": [
    "from plotly.subplots import make_subplots"
   ]
  },
  {
   "cell_type": "code",
   "execution_count": 156,
   "metadata": {},
   "outputs": [
    {
     "data": {
      "application/vnd.plotly.v1+json": {
       "config": {
        "plotlyServerURL": "https://plot.ly"
       },
       "data": [
        {
         "line": {
          "color": "red"
         },
         "mode": "lines",
         "name": "ARI",
         "type": "scatter",
         "x": [
          1,
          2,
          3,
          4,
          5,
          7,
          9,
          10,
          11,
          12,
          13,
          14,
          15,
          16
         ],
         "xaxis": "x",
         "y": [
          311,
          394,
          378,
          379,
          725,
          181,
          698,
          281,
          361,
          295,
          261,
          323,
          299,
          306
         ],
         "yaxis": "y"
        },
        {
         "line": {
          "color": "blue"
         },
         "mode": "lines",
         "name": "ARI",
         "type": "scatter",
         "x": [
          1,
          2,
          3,
          4,
          5,
          6,
          7,
          8,
          10,
          11,
          12,
          13,
          14
         ],
         "xaxis": "x",
         "y": [
          212,
          108,
          221,
          290,
          230,
          284,
          233,
          323,
          486,
          159,
          290,
          284,
          238
         ],
         "yaxis": "y"
        },
        {
         "line": {
          "color": "red"
         },
         "mode": "lines",
         "name": "ATL",
         "type": "scatter",
         "x": [
          1,
          2,
          3,
          4,
          5,
          7,
          8,
          9,
          10,
          11,
          12,
          13,
          14,
          15,
          16
         ],
         "xaxis": "x2",
         "y": [
          372,
          354,
          431,
          404,
          330,
          343,
          382,
          670,
          320,
          496,
          246,
          393,
          391,
          267,
          381
         ],
         "yaxis": "y2"
        },
        {
         "line": {
          "color": "blue"
         },
         "mode": "lines",
         "name": "ATL",
         "type": "scatter",
         "x": [
          1,
          2,
          3,
          4,
          5,
          7,
          8,
          10,
          11,
          12,
          13,
          14
         ],
         "xaxis": "x2",
         "y": [
          281,
          453,
          438,
          485,
          755,
          437,
          518,
          731,
          370,
          179,
          309,
          430
         ],
         "yaxis": "y2"
        },
        {
         "line": {
          "color": "red"
         },
         "mode": "lines",
         "name": "BAL",
         "type": "scatter",
         "x": [
          1,
          2,
          3,
          4,
          5,
          6,
          7,
          8,
          10,
          11,
          12,
          13,
          14,
          15,
          16
         ],
         "xaxis": "x3",
         "y": [
          255,
          341,
          191,
          274,
          364,
          276,
          541,
          327,
          233,
          300,
          375,
          499,
          371,
          333,
          327
         ],
         "yaxis": "y3"
        },
        {
         "line": {
          "color": "blue"
         },
         "mode": "lines",
         "name": "BAL",
         "type": "scatter",
         "x": [
          1,
          2,
          3,
          4,
          5,
          6,
          7,
          8,
          10,
          11,
          12,
          13,
          14
         ],
         "xaxis": "x3",
         "y": [
          360,
          462,
          352,
          431,
          412,
          719,
          295,
          320,
          379,
          394,
          393,
          306,
          325
         ],
         "yaxis": "y3"
        },
        {
         "line": {
          "color": "red"
         },
         "mode": "lines",
         "name": "BUF",
         "type": "scatter",
         "x": [
          1,
          2,
          3,
          4,
          5,
          6,
          8,
          9,
          10,
          11,
          12,
          13,
          14,
          15,
          16
         ],
         "xaxis": "x4",
         "y": [
          400,
          152,
          252,
          247,
          243,
          434,
          276,
          515,
          368,
          279,
          254,
          311,
          328,
          326,
          384
         ],
         "yaxis": "y4"
        },
        {
         "line": {
          "color": "blue"
         },
         "mode": "lines",
         "name": "BUF",
         "type": "scatter",
         "x": [
          1,
          2,
          3,
          4,
          5,
          6,
          7,
          8,
          10,
          11,
          12,
          13,
          14
         ],
         "xaxis": "x4",
         "y": [
          99,
          297,
          261,
          175,
          228,
          193,
          289,
          592,
          427,
          352,
          417,
          404,
          378
         ],
         "yaxis": "y4"
        },
        {
         "line": {
          "color": "red"
         },
         "mode": "lines",
         "name": "CAR",
         "type": "scatter",
         "x": [
          1,
          2,
          3,
          4,
          5,
          6,
          7,
          9,
          11,
          12,
          13,
          14,
          15,
          16
         ],
         "xaxis": "x5",
         "y": [
          309,
          225,
          283,
          464,
          320,
          382,
          517,
          900,
          298,
          295,
          369,
          400,
          297,
          232
         ],
         "yaxis": "y5"
        },
        {
         "line": {
          "color": "blue"
         },
         "mode": "lines",
         "name": "CAR",
         "type": "scatter",
         "x": [
          1,
          2,
          3,
          5,
          7,
          8,
          9,
          10,
          11,
          12,
          13,
          14
         ],
         "xaxis": "x5",
         "y": [
          263,
          425,
          383,
          726,
          735,
          387,
          643,
          500,
          433,
          353,
          247
         ],
         "yaxis": "y5"
        },
        {
         "line": {
          "color": "red"
         },
         "mode": "lines",
         "name": "CHI",
         "type": "scatter",
         "x": [
          1,
          3,
          4,
          5,
          6,
          7,
          9,
          10,
          11,
          12,
          13,
          14,
          15,
          16
         ],
         "xaxis": "x6",
         "y": [
          615,
          280,
          291,
          248,
          347,
          442,
          309,
          398,
          123,
          136,
          458,
          327,
          249,
          185
         ],
         "yaxis": "y6"
        },
        {
         "line": {
          "color": "blue"
         },
         "mode": "lines",
         "name": "CHI",
         "type": "scatter",
         "x": [
          1,
          2,
          3,
          4,
          6,
          7,
          8,
          9,
          10,
          11,
          12,
          13,
          14
         ],
         "xaxis": "x6",
         "y": [
          311,
          274,
          319,
          532,
          494,
          467,
          655,
          741,
          293,
          390,
          266,
          323
         ],
         "yaxis": "y6"
        },
        {
         "line": {
          "color": "red"
         },
         "mode": "lines",
         "name": "CIN",
         "type": "scatter",
         "x": [
          1,
          2,
          3,
          4,
          5,
          7,
          8,
          9,
          10,
          11,
          12,
          13,
          14,
          15,
          16
         ],
         "xaxis": "x7",
         "y": [
          217,
          279,
          307,
          353,
          409,
          184,
          417,
          275,
          206,
          375,
          308,
          249,
          174,
          393,
          376
         ],
         "yaxis": "y7"
        },
        {
         "line": {
          "color": "blue"
         },
         "mode": "lines",
         "name": "CIN",
         "type": "scatter",
         "x": [
          1,
          2,
          3,
          4,
          5,
          6,
          7,
          9,
          10,
          11,
          12,
          13,
          14
         ],
         "xaxis": "x7",
         "y": [
          368,
          374,
          383,
          428,
          337,
          284,
          640,
          520,
          328,
          268,
          291,
          319
         ],
         "yaxis": "y7"
        },
        {
         "line": {
          "color": "red"
         },
         "mode": "lines",
         "name": "CLE",
         "type": "scatter",
         "x": [
          1,
          2,
          3,
          4,
          5,
          6,
          7,
          8,
          9,
          10,
          11,
          12,
          13,
          14,
          15,
          16
         ],
         "xaxis": "x8",
         "y": [
          293,
          367,
          349,
          227,
          400,
          238,
          264,
          296,
          424,
          184,
          370,
          324,
          335,
          273,
          228,
          352
         ],
         "yaxis": "y8"
        },
        {
         "line": {
          "color": "blue"
         },
         "mode": "lines",
         "name": "CLE",
         "type": "scatter",
         "x": [
          1,
          2,
          3,
          4,
          5,
          6,
          7,
          9,
          10,
          11,
          12,
          13,
          14
         ],
         "xaxis": "x8",
         "y": [
          360,
          360,
          318,
          502,
          382,
          581,
          239,
          404,
          407,
          367,
          450,
          324,
          299
         ],
         "yaxis": "y8"
        },
        {
         "line": {
          "color": "red"
         },
         "mode": "lines",
         "name": "DAL",
         "type": "scatter",
         "x": [
          1,
          2,
          3,
          4,
          5,
          7,
          9,
          10,
          11,
          12,
          13,
          14,
          15,
          16
         ],
         "xaxis": "x9",
         "y": [
          388,
          268,
          298,
          448,
          406,
          778,
          595,
          230,
          258,
          292,
          459,
          313,
          355,
          282
         ],
         "yaxis": "y9"
        },
        {
         "line": {
          "color": "blue"
         },
         "mode": "lines",
         "name": "DAL",
         "type": "scatter",
         "x": [
          1,
          2,
          3,
          4,
          5,
          6,
          8,
          9,
          10,
          11,
          12,
          13,
          14
         ],
         "xaxis": "x9",
         "y": [
          212,
          283,
          331,
          439,
          282,
          646,
          272,
          715,
          404,
          317,
          540,
          257
         ],
         "yaxis": "y9"
        },
        {
         "line": {
          "color": "red"
         },
         "mode": "lines",
         "name": "DEN",
         "type": "scatter",
         "x": [
          1,
          2,
          3,
          4,
          6,
          7,
          8,
          9,
          10,
          11,
          12,
          13,
          14,
          15,
          16
         ],
         "xaxis": "x10",
         "y": [
          331,
          394,
          355,
          298,
          423,
          236,
          378,
          524,
          331,
          219,
          242,
          278,
          411,
          330,
          351
         ],
         "yaxis": "y10"
        },
        {
         "line": {
          "color": "blue"
         },
         "mode": "lines",
         "name": "DEN",
         "type": "scatter",
         "x": [
          1,
          2,
          3,
          4,
          5,
          6,
          7,
          8,
          9,
          10,
          11,
          12,
          13,
          14
         ],
         "xaxis": "x10",
         "y": [
          460,
          370,
          245,
          398,
          431,
          378,
          300,
          376,
          338,
          350,
          283,
          351,
          311,
          304
         ],
         "yaxis": "y10"
        },
        {
         "line": {
          "color": "red"
         },
         "mode": "lines",
         "name": "DET",
         "type": "scatter",
         "x": [
          1,
          2,
          3,
          4,
          5,
          8,
          9,
          10,
          11,
          12,
          13,
          14,
          15,
          16
         ],
         "xaxis": "x11",
         "y": [
          338,
          222,
          312,
          241,
          661,
          919,
          335,
          362,
          314,
          362,
          389,
          298,
          291,
          371
         ],
         "yaxis": "y11"
        },
        {
         "line": {
          "color": "blue"
         },
         "mode": "lines",
         "name": "DET",
         "type": "scatter",
         "x": [
          1,
          2,
          3,
          4,
          5,
          7,
          9,
          10,
          11,
          12,
          13,
          14
         ],
         "xaxis": "x11",
         "y": [
          358,
          428,
          404,
          359,
          255,
          894,
          209,
          625,
          328,
          355,
          226,
          318
         ],
         "yaxis": "y11"
        },
        {
         "line": {
          "color": "red"
         },
         "mode": "lines",
         "name": "GB",
         "type": "scatter",
         "x": [
          1,
          2,
          3,
          4,
          5,
          6,
          8,
          9,
          10,
          11,
          12,
          13,
          14,
          15,
          16
         ],
         "xaxis": "x12",
         "y": [
          329,
          331,
          389,
          265,
          377,
          532,
          322,
          371,
          258,
          297,
          270,
          356,
          389,
          219,
          275
         ],
         "yaxis": "y12"
        },
        {
         "line": {
          "color": "blue"
         },
         "mode": "lines",
         "name": "GB",
         "type": "scatter",
         "x": [
          1,
          2,
          3,
          4,
          5,
          6,
          8,
          9,
          10,
          11,
          12,
          13,
          14
         ],
         "xaxis": "x12",
         "y": [
          335,
          357,
          318,
          414,
          516,
          502,
          359,
          373,
          706,
          280,
          314,
          336,
          308
         ],
         "yaxis": "y12"
        },
        {
         "line": {
          "color": "red"
         },
         "mode": "lines",
         "name": "HOU",
         "type": "scatter",
         "x": [
          1,
          2,
          3,
          4,
          5,
          6,
          7,
          9,
          10,
          11,
          12,
          13,
          14,
          15,
          16
         ],
         "xaxis": "x13",
         "y": [
          247,
          248,
          436,
          508,
          393,
          353,
          536,
          585,
          389,
          362,
          372,
          303,
          156,
          220,
          224
         ],
         "yaxis": "y13"
        },
        {
         "line": {
          "color": "blue"
         },
         "mode": "lines",
         "name": "HOU",
         "type": "scatter",
         "x": [
          1,
          2,
          3,
          4,
          5,
          6,
          7,
          8,
          9,
          10,
          11,
          12,
          13,
          14
         ],
         "xaxis": "x13",
         "y": [
          318,
          403,
          392,
          456,
          492,
          247,
          252,
          455,
          280,
          339,
          447,
          379,
          329,
          296
         ],
         "yaxis": "y13"
        },
        {
         "line": {
          "color": "red"
         },
         "mode": "lines",
         "name": "IND",
         "type": "scatter",
         "x": [
          1,
          2,
          3,
          4,
          5,
          6,
          7,
          8,
          9,
          11,
          12,
          13,
          14,
          15,
          16
         ],
         "xaxis": "x14",
         "y": [
          225,
          257,
          364,
          237,
          426,
          309,
          212,
          316,
          629,
          211,
          309,
          222,
          233,
          311,
          274
         ],
         "yaxis": "y14"
        },
        {
         "line": {
          "color": "blue"
         },
         "mode": "lines",
         "name": "IND",
         "type": "scatter",
         "x": [
          1,
          2,
          3,
          4,
          5,
          6,
          7,
          9,
          10,
          11,
          12,
          13,
          14
         ],
         "xaxis": "x14",
         "y": [
          389,
          326,
          244,
          446,
          429,
          398,
          812,
          829,
          455,
          256,
          441,
          340
         ],
         "yaxis": "y14"
        },
        {
         "line": {
          "color": "red"
         },
         "mode": "lines",
         "name": "JAX",
         "type": "scatter",
         "x": [
          1,
          2,
          3,
          4,
          5,
          6,
          7,
          8,
          9,
          10,
          11,
          12,
          13,
          14,
          15,
          16
         ],
         "xaxis": "x15",
         "y": [
          319,
          270,
          419,
          321,
          314,
          389,
          529,
          430,
          408,
          246,
          277,
          421,
          424,
          477,
          477,
          214
         ],
         "yaxis": "y15"
        },
        {
         "line": {
          "color": "blue"
         },
         "mode": "lines",
         "name": "JAX",
         "type": "scatter",
         "x": [
          1,
          2,
          3,
          4,
          5,
          6,
          7,
          8,
          9,
          10,
          11,
          12,
          13,
          14
         ],
         "xaxis": "x15",
         "y": [
          264,
          467,
          203,
          496,
          543,
          194,
          254,
          311,
          623,
          333,
          208,
          230,
          172
         ],
         "yaxis": "y15"
        },
        {
         "line": {
          "color": "red"
         },
         "mode": "lines",
         "name": "KC",
         "type": "scatter",
         "x": [
          1,
          2,
          3,
          4,
          5,
          6,
          7,
          8,
          9,
          10,
          11,
          12,
          13,
          14,
          15,
          16
         ],
         "xaxis": "x16",
         "y": [
          538,
          329,
          281,
          468,
          455,
          221,
          433,
          291,
          300,
          351,
          256,
          469,
          388,
          393,
          404,
          373
         ],
         "yaxis": "y16"
        },
        {
         "line": {
          "color": "blue"
         },
         "mode": "lines",
         "name": "KC",
         "type": "scatter",
         "x": [
          1,
          2,
          3,
          4,
          5,
          6,
          7,
          8,
          9,
          10,
          11,
          12,
          13,
          14
         ],
         "xaxis": "x16",
         "y": [
          363,
          452,
          461,
          389,
          405,
          431,
          565,
          348,
          449,
          309,
          546,
          464,
          460,
          304
         ],
         "yaxis": "y16"
        },
        {
         "line": {
          "color": "red"
         },
         "mode": "lines",
         "name": "LA",
         "type": "scatter",
         "x": [
          1,
          2,
          3,
          4,
          5,
          6,
          7,
          8,
          9,
          10,
          11,
          12,
          13,
          14,
          15,
          16
         ],
         "xaxis": "x17",
         "y": [
          347,
          307,
          433,
          437,
          380,
          234,
          450,
          470,
          428,
          259,
          462,
          293,
          272,
          347,
          423,
          251
         ],
         "yaxis": "y17"
        },
        {
         "line": {
          "color": "blue"
         },
         "mode": "lines",
         "name": "LA",
         "type": "scatter",
         "x": [
          1,
          2,
          3,
          4,
          5,
          6,
          7,
          8,
          9,
          10,
          11,
          12,
          13,
          14
         ],
         "xaxis": "x17",
         "y": [
          445,
          435,
          497,
          576,
          478,
          445,
          336,
          884,
          446,
          507,
          343,
          184,
          372
         ],
         "yaxis": "y17"
        },
        {
         "line": {
          "color": "red"
         },
         "mode": "lines",
         "name": "LAC",
         "type": "scatter",
         "x": [
          1,
          3,
          4,
          5,
          6,
          7,
          8,
          9,
          10,
          11,
          12,
          13,
          14,
          15,
          16
         ],
         "xaxis": "x18",
         "y": [
          656,
          367,
          420,
          334,
          343,
          224,
          362,
          327,
          434,
          519,
          424,
          513,
          308,
          368,
          519
         ],
         "yaxis": "y18"
        },
        {
         "line": {
          "color": "blue"
         },
         "mode": "lines",
         "name": "LAC",
         "type": "scatter",
         "x": [
          1,
          2,
          3,
          4,
          5,
          6,
          7,
          8,
          9,
          10,
          11,
          12,
          13,
          14
         ],
         "xaxis": "x18",
         "y": [
          546,
          340,
          356,
          372,
          402,
          409,
          339,
          370,
          775,
          429,
          371,
          278,
          423
         ],
         "yaxis": "y18"
        },
        {
         "line": {
          "color": "red"
         },
         "mode": "lines",
         "name": "MIA",
         "type": "scatter",
         "x": [
          1,
          3,
          4,
          5,
          7,
          9,
          10,
          11,
          12,
          13,
          14,
          15,
          16
         ],
         "xaxis": "x19",
         "y": [
          351,
          244,
          136,
          495,
          579,
          691,
          411,
          245,
          342,
          381,
          319,
          300,
          317
         ],
         "yaxis": "y19"
        },
        {
         "line": {
          "color": "blue"
         },
         "mode": "lines",
         "name": "MIA",
         "type": "scatter",
         "x": [
          1,
          2,
          3,
          4,
          5,
          6,
          7,
          8,
          9,
          10,
          11,
          12,
          13,
          14
         ],
         "xaxis": "x19",
         "y": [
          331,
          280,
          337,
          138,
          282,
          544,
          330,
          392,
          143,
          283,
          297,
          206,
          407,
          178
         ],
         "yaxis": "y19"
        },
        {
         "line": {
          "color": "red"
         },
         "mode": "lines",
         "name": "MIN",
         "type": "scatter",
         "x": [
          1,
          2,
          4,
          5,
          6,
          7,
          8,
          9,
          10,
          11,
          12,
          13,
          14,
          15,
          16
         ],
         "xaxis": "x20",
         "y": [
          492,
          690,
          318,
          280,
          383,
          347,
          426,
          396,
          436,
          414,
          292,
          385,
          330,
          285,
          339
         ],
         "yaxis": "y20"
        },
        {
         "line": {
          "color": "blue"
         },
         "mode": "lines",
         "name": "MIN",
         "type": "scatter",
         "x": [
          1,
          2,
          3,
          4,
          5,
          6,
          7,
          9,
          10,
          11,
          12,
          13,
          14
         ],
         "xaxis": "x20",
         "y": [
          333,
          470,
          312,
          431,
          369,
          384,
          725,
          291,
          293,
          392,
          248,
          281,
          402
         ],
         "yaxis": "y20"
        },
        {
         "line": {
          "color": "red"
         },
         "mode": "lines",
         "name": "NE",
         "type": "scatter",
         "x": [
          1,
          2,
          3,
          4,
          6,
          7,
          8,
          9,
          10,
          11,
          12,
          13,
          14,
          15,
          16
         ],
         "xaxis": "x21",
         "y": [
          425,
          527,
          411,
          752,
          390,
          388,
          420,
          414,
          454,
          404,
          384,
          276,
          384,
          484,
          389
         ],
         "yaxis": "y21"
        },
        {
         "line": {
          "color": "blue"
         },
         "mode": "lines",
         "name": "NE",
         "type": "scatter",
         "x": [
          1,
          2,
          3,
          4,
          5,
          6,
          7,
          8,
          9,
          10,
          11,
          12,
          13,
          14
         ],
         "xaxis": "x21",
         "y": [
          398,
          313,
          204,
          461,
          423,
          543,
          396,
          372,
          476,
          279,
          455,
          446,
          467,
          334
         ],
         "yaxis": "y21"
        },
        {
         "line": {
          "color": "red"
         },
         "mode": "lines",
         "name": "NO",
         "type": "scatter",
         "x": [
          1,
          2,
          3,
          4,
          5,
          6,
          7,
          8,
          9,
          10,
          11,
          12,
          13,
          14,
          15,
          16
         ],
         "xaxis": "x22",
         "y": [
          364,
          414,
          352,
          311,
          349,
          489,
          373,
          402,
          493,
          520,
          336,
          407,
          301,
          418,
          294,
          308
         ],
         "yaxis": "y22"
        },
        {
         "line": {
          "color": "blue"
         },
         "mode": "lines",
         "name": "NO",
         "type": "scatter",
         "x": [
          1,
          2,
          3,
          4,
          6,
          7,
          8,
          9,
          10,
          11,
          12,
          13,
          14
         ],
         "xaxis": "x22",
         "y": [
          485,
          290,
          514,
          856,
          361,
          256,
          504,
          1058,
          313,
          236,
          281,
          329
         ],
         "yaxis": "y22"
        },
        {
         "line": {
          "color": "red"
         },
         "mode": "lines",
         "name": "NYG",
         "type": "scatter",
         "x": [
          1,
          2,
          3,
          5,
          6,
          8,
          10,
          11,
          12,
          13,
          14,
          15,
          16
         ],
         "xaxis": "x23",
         "y": [
          224,
          260,
          831,
          315,
          466,
          309,
          663,
          143,
          279,
          326,
          528,
          253,
          371
         ],
         "yaxis": "y23"
        },
        {
         "line": {
          "color": "blue"
         },
         "mode": "lines",
         "name": "NYG",
         "type": "scatter",
         "x": [
          1,
          2,
          3,
          4,
          5,
          6,
          7,
          10,
          11,
          12,
          13,
          14
         ],
         "xaxis": "x23",
         "y": [
          346,
          243,
          374,
          294,
          422,
          396,
          761,
          657,
          369,
          306,
          427,
          236
         ],
         "yaxis": "y23"
        },
        {
         "line": {
          "color": "red"
         },
         "mode": "lines",
         "name": "NYJ",
         "type": "scatter",
         "x": [
          1,
          2,
          3,
          4,
          5,
          6,
          7,
          8,
          9,
          11,
          12,
          13,
          14,
          15,
          16
         ],
         "xaxis": "x24",
         "y": [
          199,
          296,
          309,
          436,
          207,
          408,
          235,
          282,
          631,
          409,
          492,
          106,
          336,
          300,
          272
         ],
         "yaxis": "y24"
        },
        {
         "line": {
          "color": "blue"
         },
         "mode": "lines",
         "name": "NYJ",
         "type": "scatter",
         "x": [
          1,
          2,
          3,
          4,
          5,
          6,
          7,
          8,
          9,
          10,
          11,
          12,
          13,
          14
         ],
         "xaxis": "x24",
         "y": [
          344,
          355,
          253,
          170,
          507,
          369,
          245,
          196,
          292,
          194,
          328,
          230,
          247,
          296
         ],
         "yaxis": "y24"
        },
        {
         "line": {
          "color": "red"
         },
         "mode": "lines",
         "name": "OAK",
         "type": "scatter",
         "x": [
          1,
          2,
          3,
          4,
          5,
          6,
          7,
          8,
          9,
          10,
          11,
          12,
          13,
          14,
          15,
          16
         ],
         "xaxis": "x25",
         "y": [
          368,
          428,
          106,
          209,
          225,
          254,
          530,
          367,
          370,
          318,
          360,
          391,
          268,
          336,
          249,
          321
         ],
         "yaxis": "y25"
        },
        {
         "line": {
          "color": "blue"
         },
         "mode": "lines",
         "name": "OAK",
         "type": "scatter",
         "x": [
          1,
          2,
          3,
          4,
          5,
          6,
          7,
          9,
          10,
          11,
          12,
          13,
          14
         ],
         "xaxis": "x25",
         "y": [
          360,
          363,
          455,
          565,
          296,
          180,
          329,
          217,
          644,
          230,
          453,
          309,
          287
         ],
         "yaxis": "y25"
        },
        {
         "line": {
          "color": "red"
         },
         "mode": "lines",
         "name": "PHI",
         "type": "scatter",
         "x": [
          1,
          2,
          3,
          4,
          5,
          6,
          8,
          9,
          10,
          11,
          12,
          13,
          14,
          15,
          16
         ],
         "xaxis": "x26",
         "y": [
          294,
          401,
          411,
          455,
          415,
          642,
          333,
          453,
          388,
          381,
          440,
          508,
          373,
          181,
          196
         ],
         "yaxis": "y26"
        },
        {
         "line": {
          "color": "blue"
         },
         "mode": "lines",
         "name": "PHI",
         "type": "scatter",
         "x": [
          1,
          2,
          3,
          4,
          5,
          6,
          7,
          8,
          9,
          10,
          11,
          12,
          13,
          14
         ],
         "xaxis": "x26",
         "y": [
          270,
          396,
          377,
          409,
          342,
          410,
          356,
          390,
          633,
          339,
          440,
          265,
          347
         ],
         "yaxis": "y26"
        },
        {
         "line": {
          "color": "red"
         },
         "mode": "lines",
         "name": "PIT",
         "type": "scatter",
         "x": [
          1,
          2,
          3,
          4,
          5,
          6,
          7,
          8,
          9,
          10,
          11,
          12,
          13,
          14,
          15,
          16
         ],
         "xaxis": "x27",
         "y": [
          287,
          391,
          267,
          341,
          359,
          414,
          474,
          412,
          294,
          367,
          449,
          452,
          544,
          376,
          365,
          363
         ],
         "yaxis": "y27"
        },
        {
         "line": {
          "color": "blue"
         },
         "mode": "lines",
         "name": "PIT",
         "type": "scatter",
         "x": [
          1,
          2,
          3,
          4,
          5,
          6,
          7,
          8,
          9,
          10,
          11,
          12,
          13,
          14
         ],
         "xaxis": "x27",
         "y": [
          443,
          486,
          409,
          269,
          411,
          466,
          408,
          385,
          843,
          518,
          376,
          381,
          398
         ],
         "yaxis": "y27"
        },
        {
         "line": {
          "color": "red"
         },
         "mode": "lines",
         "name": "SEA",
         "type": "scatter",
         "x": [
          1,
          2,
          3,
          4,
          5,
          6,
          7,
          8,
          9,
          10,
          11,
          12,
          13,
          14,
          15,
          16
         ],
         "xaxis": "x28",
         "y": [
          225,
          331,
          407,
          477,
          226,
          381,
          480,
          375,
          262,
          384,
          332,
          323,
          368,
          129,
          144,
          261
         ],
         "yaxis": "y28"
        },
        {
         "line": {
          "color": "blue"
         },
         "mode": "lines",
         "name": "SEA",
         "type": "scatter",
         "x": [
          1,
          2,
          3,
          4,
          5,
          6,
          7,
          8,
          9,
          10,
          11,
          12,
          13,
          14
         ],
         "xaxis": "x28",
         "y": [
          298,
          267,
          311,
          315,
          373,
          338,
          393,
          352,
          833,
          412,
          364,
          295,
          355
         ],
         "yaxis": "y28"
        },
        {
         "line": {
          "color": "red"
         },
         "mode": "lines",
         "name": "SF",
         "type": "scatter",
         "x": [
          1,
          2,
          3,
          4,
          5,
          7,
          8,
          9,
          10,
          11,
          12,
          13,
          14,
          15,
          16
         ],
         "xaxis": "x29",
         "y": [
          187,
          257,
          433,
          289,
          629,
          300,
          253,
          314,
          450,
          265,
          357,
          425,
          399,
          403,
          476
         ],
         "yaxis": "y29"
        },
        {
         "line": {
          "color": "blue"
         },
         "mode": "lines",
         "name": "SF",
         "type": "scatter",
         "x": [
          1,
          2,
          3,
          4,
          5,
          6,
          7,
          8,
          9,
          10,
          11,
          12,
          13,
          14
         ],
         "xaxis": "x29",
         "y": [
          348,
          363,
          395,
          387,
          413,
          401,
          220,
          272,
          398,
          383,
          327,
          443,
          421,
          386
         ],
         "yaxis": "y29"
        },
        {
         "line": {
          "color": "red"
         },
         "mode": "lines",
         "name": "TB",
         "type": "scatter",
         "x": [
          1,
          2,
          3,
          4,
          5,
          6,
          7,
          8,
          9,
          10,
          11,
          12,
          13,
          14,
          15,
          16
         ],
         "xaxis": "x30",
         "y": [
          313,
          342,
          434,
          414,
          400,
          435,
          254,
          173,
          274,
          302,
          380,
          361,
          425,
          378,
          416,
          455
         ],
         "yaxis": "y30"
        },
        {
         "line": {
          "color": "blue"
         },
         "mode": "lines",
         "name": "TB",
         "type": "scatter",
         "x": [
          1,
          2,
          3,
          4,
          5,
          6,
          7,
          8,
          9,
          10,
          11,
          12,
          13,
          14
         ],
         "xaxis": "x30",
         "y": [
          536,
          421,
          480,
          300,
          512,
          464,
          562,
          331,
          1007,
          395,
          324,
          253,
          234
         ],
         "yaxis": "y30"
        },
        {
         "line": {
          "color": "red"
         },
         "mode": "lines",
         "name": "TEN",
         "type": "scatter",
         "x": [
          1,
          2,
          3,
          4,
          5,
          6,
          7,
          8,
          9,
          10,
          11,
          12,
          13,
          14,
          15,
          16
         ],
         "xaxis": "x31",
         "y": [
          365,
          355,
          451,
          190,
          159,
          488,
          279,
          253,
          405,
          322,
          298,
          379,
          204,
          343,
          367,
          215
         ],
         "yaxis": "y31"
        },
        {
         "line": {
          "color": "blue"
         },
         "mode": "lines",
         "name": "TEN",
         "type": "scatter",
         "x": [
          1,
          2,
          3,
          4,
          5,
          6,
          7,
          8,
          9,
          10,
          11,
          12,
          13,
          14
         ],
         "xaxis": "x31",
         "y": [
          328,
          275,
          250,
          404,
          211,
          86,
          358,
          357,
          629,
          353,
          394,
          443,
          283
         ],
         "yaxis": "y31"
        },
        {
         "line": {
          "color": "red"
         },
         "mode": "lines",
         "name": "WAS",
         "type": "scatter",
         "x": [
          1,
          2,
          3,
          4,
          5,
          6,
          7,
          8,
          9,
          10,
          11,
          12,
          13,
          14,
          15,
          16
         ],
         "xaxis": "x32",
         "y": [
          264,
          386,
          417,
          329,
          409,
          348,
          302,
          223,
          394,
          433,
          327,
          290,
          211,
          234,
          355,
          177
         ],
         "yaxis": "y32"
        },
        {
         "line": {
          "color": "blue"
         },
         "mode": "lines",
         "name": "WAS",
         "type": "scatter",
         "x": [
          1,
          2,
          3,
          4,
          5,
          6,
          7,
          8,
          9,
          10,
          11,
          12,
          13,
          14
         ],
         "xaxis": "x32",
         "y": [
          435,
          339,
          393,
          278,
          290,
          292,
          390,
          296,
          575,
          321,
          208,
          236,
          222
         ],
         "yaxis": "y32"
        }
       ],
       "layout": {
        "annotations": [
         {
          "font": {
           "size": 16
          },
          "showarrow": false,
          "text": "ARI",
          "x": 0.06944444444444445,
          "xanchor": "center",
          "xref": "paper",
          "y": 0.9999999999999999,
          "yanchor": "bottom",
          "yref": "paper"
         },
         {
          "font": {
           "size": 16
          },
          "showarrow": false,
          "text": "ATL",
          "x": 0.24166666666666667,
          "xanchor": "center",
          "xref": "paper",
          "y": 0.9999999999999999,
          "yanchor": "bottom",
          "yref": "paper"
         },
         {
          "font": {
           "size": 16
          },
          "showarrow": false,
          "text": "BAL",
          "x": 0.41388888888888886,
          "xanchor": "center",
          "xref": "paper",
          "y": 0.9999999999999999,
          "yanchor": "bottom",
          "yref": "paper"
         },
         {
          "font": {
           "size": 16
          },
          "showarrow": false,
          "text": "BUF",
          "x": 0.5861111111111112,
          "xanchor": "center",
          "xref": "paper",
          "y": 0.9999999999999999,
          "yanchor": "bottom",
          "yref": "paper"
         },
         {
          "font": {
           "size": 16
          },
          "showarrow": false,
          "text": "CAR",
          "x": 0.7583333333333333,
          "xanchor": "center",
          "xref": "paper",
          "y": 0.9999999999999999,
          "yanchor": "bottom",
          "yref": "paper"
         },
         {
          "font": {
           "size": 16
          },
          "showarrow": false,
          "text": "CHI",
          "x": 0.9305555555555556,
          "xanchor": "center",
          "xref": "paper",
          "y": 0.9999999999999999,
          "yanchor": "bottom",
          "yref": "paper"
         },
         {
          "font": {
           "size": 16
          },
          "showarrow": false,
          "text": "CIN",
          "x": 0.06944444444444445,
          "xanchor": "center",
          "xref": "paper",
          "y": 0.8194444444444444,
          "yanchor": "bottom",
          "yref": "paper"
         },
         {
          "font": {
           "size": 16
          },
          "showarrow": false,
          "text": "CLE",
          "x": 0.24166666666666667,
          "xanchor": "center",
          "xref": "paper",
          "y": 0.8194444444444444,
          "yanchor": "bottom",
          "yref": "paper"
         },
         {
          "font": {
           "size": 16
          },
          "showarrow": false,
          "text": "DAL",
          "x": 0.41388888888888886,
          "xanchor": "center",
          "xref": "paper",
          "y": 0.8194444444444444,
          "yanchor": "bottom",
          "yref": "paper"
         },
         {
          "font": {
           "size": 16
          },
          "showarrow": false,
          "text": "DEN",
          "x": 0.5861111111111112,
          "xanchor": "center",
          "xref": "paper",
          "y": 0.8194444444444444,
          "yanchor": "bottom",
          "yref": "paper"
         },
         {
          "font": {
           "size": 16
          },
          "showarrow": false,
          "text": "DET",
          "x": 0.7583333333333333,
          "xanchor": "center",
          "xref": "paper",
          "y": 0.8194444444444444,
          "yanchor": "bottom",
          "yref": "paper"
         },
         {
          "font": {
           "size": 16
          },
          "showarrow": false,
          "text": "GB",
          "x": 0.9305555555555556,
          "xanchor": "center",
          "xref": "paper",
          "y": 0.8194444444444444,
          "yanchor": "bottom",
          "yref": "paper"
         },
         {
          "font": {
           "size": 16
          },
          "showarrow": false,
          "text": "HOU",
          "x": 0.06944444444444445,
          "xanchor": "center",
          "xref": "paper",
          "y": 0.638888888888889,
          "yanchor": "bottom",
          "yref": "paper"
         },
         {
          "font": {
           "size": 16
          },
          "showarrow": false,
          "text": "IND",
          "x": 0.24166666666666667,
          "xanchor": "center",
          "xref": "paper",
          "y": 0.638888888888889,
          "yanchor": "bottom",
          "yref": "paper"
         },
         {
          "font": {
           "size": 16
          },
          "showarrow": false,
          "text": "JAX",
          "x": 0.41388888888888886,
          "xanchor": "center",
          "xref": "paper",
          "y": 0.638888888888889,
          "yanchor": "bottom",
          "yref": "paper"
         },
         {
          "font": {
           "size": 16
          },
          "showarrow": false,
          "text": "KC",
          "x": 0.5861111111111112,
          "xanchor": "center",
          "xref": "paper",
          "y": 0.638888888888889,
          "yanchor": "bottom",
          "yref": "paper"
         },
         {
          "font": {
           "size": 16
          },
          "showarrow": false,
          "text": "LA",
          "x": 0.7583333333333333,
          "xanchor": "center",
          "xref": "paper",
          "y": 0.638888888888889,
          "yanchor": "bottom",
          "yref": "paper"
         },
         {
          "font": {
           "size": 16
          },
          "showarrow": false,
          "text": "LAC",
          "x": 0.9305555555555556,
          "xanchor": "center",
          "xref": "paper",
          "y": 0.638888888888889,
          "yanchor": "bottom",
          "yref": "paper"
         },
         {
          "font": {
           "size": 16
          },
          "showarrow": false,
          "text": "MIA",
          "x": 0.06944444444444445,
          "xanchor": "center",
          "xref": "paper",
          "y": 0.4583333333333333,
          "yanchor": "bottom",
          "yref": "paper"
         },
         {
          "font": {
           "size": 16
          },
          "showarrow": false,
          "text": "MIN",
          "x": 0.24166666666666667,
          "xanchor": "center",
          "xref": "paper",
          "y": 0.4583333333333333,
          "yanchor": "bottom",
          "yref": "paper"
         },
         {
          "font": {
           "size": 16
          },
          "showarrow": false,
          "text": "NE",
          "x": 0.41388888888888886,
          "xanchor": "center",
          "xref": "paper",
          "y": 0.4583333333333333,
          "yanchor": "bottom",
          "yref": "paper"
         },
         {
          "font": {
           "size": 16
          },
          "showarrow": false,
          "text": "NO",
          "x": 0.5861111111111112,
          "xanchor": "center",
          "xref": "paper",
          "y": 0.4583333333333333,
          "yanchor": "bottom",
          "yref": "paper"
         },
         {
          "font": {
           "size": 16
          },
          "showarrow": false,
          "text": "NYG",
          "x": 0.7583333333333333,
          "xanchor": "center",
          "xref": "paper",
          "y": 0.4583333333333333,
          "yanchor": "bottom",
          "yref": "paper"
         },
         {
          "font": {
           "size": 16
          },
          "showarrow": false,
          "text": "NYJ",
          "x": 0.9305555555555556,
          "xanchor": "center",
          "xref": "paper",
          "y": 0.4583333333333333,
          "yanchor": "bottom",
          "yref": "paper"
         },
         {
          "font": {
           "size": 16
          },
          "showarrow": false,
          "text": "OAK",
          "x": 0.06944444444444445,
          "xanchor": "center",
          "xref": "paper",
          "y": 0.2777777777777778,
          "yanchor": "bottom",
          "yref": "paper"
         },
         {
          "font": {
           "size": 16
          },
          "showarrow": false,
          "text": "PHI",
          "x": 0.24166666666666667,
          "xanchor": "center",
          "xref": "paper",
          "y": 0.2777777777777778,
          "yanchor": "bottom",
          "yref": "paper"
         },
         {
          "font": {
           "size": 16
          },
          "showarrow": false,
          "text": "PIT",
          "x": 0.41388888888888886,
          "xanchor": "center",
          "xref": "paper",
          "y": 0.2777777777777778,
          "yanchor": "bottom",
          "yref": "paper"
         },
         {
          "font": {
           "size": 16
          },
          "showarrow": false,
          "text": "SEA",
          "x": 0.5861111111111112,
          "xanchor": "center",
          "xref": "paper",
          "y": 0.2777777777777778,
          "yanchor": "bottom",
          "yref": "paper"
         },
         {
          "font": {
           "size": 16
          },
          "showarrow": false,
          "text": "SF",
          "x": 0.7583333333333333,
          "xanchor": "center",
          "xref": "paper",
          "y": 0.2777777777777778,
          "yanchor": "bottom",
          "yref": "paper"
         },
         {
          "font": {
           "size": 16
          },
          "showarrow": false,
          "text": "TB",
          "x": 0.9305555555555556,
          "xanchor": "center",
          "xref": "paper",
          "y": 0.2777777777777778,
          "yanchor": "bottom",
          "yref": "paper"
         },
         {
          "font": {
           "size": 16
          },
          "showarrow": false,
          "text": "TEN",
          "x": 0.06944444444444445,
          "xanchor": "center",
          "xref": "paper",
          "y": 0.09722222222222222,
          "yanchor": "bottom",
          "yref": "paper"
         },
         {
          "font": {
           "size": 16
          },
          "showarrow": false,
          "text": "WAS",
          "x": 0.24166666666666667,
          "xanchor": "center",
          "xref": "paper",
          "y": 0.09722222222222222,
          "yanchor": "bottom",
          "yref": "paper"
         }
        ],
        "height": 700,
        "showlegend": false,
        "template": {
         "data": {
          "bar": [
           {
            "error_x": {
             "color": "#2a3f5f"
            },
            "error_y": {
             "color": "#2a3f5f"
            },
            "marker": {
             "line": {
              "color": "#E5ECF6",
              "width": 0.5
             }
            },
            "type": "bar"
           }
          ],
          "barpolar": [
           {
            "marker": {
             "line": {
              "color": "#E5ECF6",
              "width": 0.5
             }
            },
            "type": "barpolar"
           }
          ],
          "carpet": [
           {
            "aaxis": {
             "endlinecolor": "#2a3f5f",
             "gridcolor": "white",
             "linecolor": "white",
             "minorgridcolor": "white",
             "startlinecolor": "#2a3f5f"
            },
            "baxis": {
             "endlinecolor": "#2a3f5f",
             "gridcolor": "white",
             "linecolor": "white",
             "minorgridcolor": "white",
             "startlinecolor": "#2a3f5f"
            },
            "type": "carpet"
           }
          ],
          "choropleth": [
           {
            "colorbar": {
             "outlinewidth": 0,
             "ticks": ""
            },
            "type": "choropleth"
           }
          ],
          "contour": [
           {
            "colorbar": {
             "outlinewidth": 0,
             "ticks": ""
            },
            "colorscale": [
             [
              0,
              "#0d0887"
             ],
             [
              0.1111111111111111,
              "#46039f"
             ],
             [
              0.2222222222222222,
              "#7201a8"
             ],
             [
              0.3333333333333333,
              "#9c179e"
             ],
             [
              0.4444444444444444,
              "#bd3786"
             ],
             [
              0.5555555555555556,
              "#d8576b"
             ],
             [
              0.6666666666666666,
              "#ed7953"
             ],
             [
              0.7777777777777778,
              "#fb9f3a"
             ],
             [
              0.8888888888888888,
              "#fdca26"
             ],
             [
              1,
              "#f0f921"
             ]
            ],
            "type": "contour"
           }
          ],
          "contourcarpet": [
           {
            "colorbar": {
             "outlinewidth": 0,
             "ticks": ""
            },
            "type": "contourcarpet"
           }
          ],
          "heatmap": [
           {
            "colorbar": {
             "outlinewidth": 0,
             "ticks": ""
            },
            "colorscale": [
             [
              0,
              "#0d0887"
             ],
             [
              0.1111111111111111,
              "#46039f"
             ],
             [
              0.2222222222222222,
              "#7201a8"
             ],
             [
              0.3333333333333333,
              "#9c179e"
             ],
             [
              0.4444444444444444,
              "#bd3786"
             ],
             [
              0.5555555555555556,
              "#d8576b"
             ],
             [
              0.6666666666666666,
              "#ed7953"
             ],
             [
              0.7777777777777778,
              "#fb9f3a"
             ],
             [
              0.8888888888888888,
              "#fdca26"
             ],
             [
              1,
              "#f0f921"
             ]
            ],
            "type": "heatmap"
           }
          ],
          "heatmapgl": [
           {
            "colorbar": {
             "outlinewidth": 0,
             "ticks": ""
            },
            "colorscale": [
             [
              0,
              "#0d0887"
             ],
             [
              0.1111111111111111,
              "#46039f"
             ],
             [
              0.2222222222222222,
              "#7201a8"
             ],
             [
              0.3333333333333333,
              "#9c179e"
             ],
             [
              0.4444444444444444,
              "#bd3786"
             ],
             [
              0.5555555555555556,
              "#d8576b"
             ],
             [
              0.6666666666666666,
              "#ed7953"
             ],
             [
              0.7777777777777778,
              "#fb9f3a"
             ],
             [
              0.8888888888888888,
              "#fdca26"
             ],
             [
              1,
              "#f0f921"
             ]
            ],
            "type": "heatmapgl"
           }
          ],
          "histogram": [
           {
            "marker": {
             "colorbar": {
              "outlinewidth": 0,
              "ticks": ""
             }
            },
            "type": "histogram"
           }
          ],
          "histogram2d": [
           {
            "colorbar": {
             "outlinewidth": 0,
             "ticks": ""
            },
            "colorscale": [
             [
              0,
              "#0d0887"
             ],
             [
              0.1111111111111111,
              "#46039f"
             ],
             [
              0.2222222222222222,
              "#7201a8"
             ],
             [
              0.3333333333333333,
              "#9c179e"
             ],
             [
              0.4444444444444444,
              "#bd3786"
             ],
             [
              0.5555555555555556,
              "#d8576b"
             ],
             [
              0.6666666666666666,
              "#ed7953"
             ],
             [
              0.7777777777777778,
              "#fb9f3a"
             ],
             [
              0.8888888888888888,
              "#fdca26"
             ],
             [
              1,
              "#f0f921"
             ]
            ],
            "type": "histogram2d"
           }
          ],
          "histogram2dcontour": [
           {
            "colorbar": {
             "outlinewidth": 0,
             "ticks": ""
            },
            "colorscale": [
             [
              0,
              "#0d0887"
             ],
             [
              0.1111111111111111,
              "#46039f"
             ],
             [
              0.2222222222222222,
              "#7201a8"
             ],
             [
              0.3333333333333333,
              "#9c179e"
             ],
             [
              0.4444444444444444,
              "#bd3786"
             ],
             [
              0.5555555555555556,
              "#d8576b"
             ],
             [
              0.6666666666666666,
              "#ed7953"
             ],
             [
              0.7777777777777778,
              "#fb9f3a"
             ],
             [
              0.8888888888888888,
              "#fdca26"
             ],
             [
              1,
              "#f0f921"
             ]
            ],
            "type": "histogram2dcontour"
           }
          ],
          "mesh3d": [
           {
            "colorbar": {
             "outlinewidth": 0,
             "ticks": ""
            },
            "type": "mesh3d"
           }
          ],
          "parcoords": [
           {
            "line": {
             "colorbar": {
              "outlinewidth": 0,
              "ticks": ""
             }
            },
            "type": "parcoords"
           }
          ],
          "pie": [
           {
            "automargin": true,
            "type": "pie"
           }
          ],
          "scatter": [
           {
            "marker": {
             "colorbar": {
              "outlinewidth": 0,
              "ticks": ""
             }
            },
            "type": "scatter"
           }
          ],
          "scatter3d": [
           {
            "line": {
             "colorbar": {
              "outlinewidth": 0,
              "ticks": ""
             }
            },
            "marker": {
             "colorbar": {
              "outlinewidth": 0,
              "ticks": ""
             }
            },
            "type": "scatter3d"
           }
          ],
          "scattercarpet": [
           {
            "marker": {
             "colorbar": {
              "outlinewidth": 0,
              "ticks": ""
             }
            },
            "type": "scattercarpet"
           }
          ],
          "scattergeo": [
           {
            "marker": {
             "colorbar": {
              "outlinewidth": 0,
              "ticks": ""
             }
            },
            "type": "scattergeo"
           }
          ],
          "scattergl": [
           {
            "marker": {
             "colorbar": {
              "outlinewidth": 0,
              "ticks": ""
             }
            },
            "type": "scattergl"
           }
          ],
          "scattermapbox": [
           {
            "marker": {
             "colorbar": {
              "outlinewidth": 0,
              "ticks": ""
             }
            },
            "type": "scattermapbox"
           }
          ],
          "scatterpolar": [
           {
            "marker": {
             "colorbar": {
              "outlinewidth": 0,
              "ticks": ""
             }
            },
            "type": "scatterpolar"
           }
          ],
          "scatterpolargl": [
           {
            "marker": {
             "colorbar": {
              "outlinewidth": 0,
              "ticks": ""
             }
            },
            "type": "scatterpolargl"
           }
          ],
          "scatterternary": [
           {
            "marker": {
             "colorbar": {
              "outlinewidth": 0,
              "ticks": ""
             }
            },
            "type": "scatterternary"
           }
          ],
          "surface": [
           {
            "colorbar": {
             "outlinewidth": 0,
             "ticks": ""
            },
            "colorscale": [
             [
              0,
              "#0d0887"
             ],
             [
              0.1111111111111111,
              "#46039f"
             ],
             [
              0.2222222222222222,
              "#7201a8"
             ],
             [
              0.3333333333333333,
              "#9c179e"
             ],
             [
              0.4444444444444444,
              "#bd3786"
             ],
             [
              0.5555555555555556,
              "#d8576b"
             ],
             [
              0.6666666666666666,
              "#ed7953"
             ],
             [
              0.7777777777777778,
              "#fb9f3a"
             ],
             [
              0.8888888888888888,
              "#fdca26"
             ],
             [
              1,
              "#f0f921"
             ]
            ],
            "type": "surface"
           }
          ],
          "table": [
           {
            "cells": {
             "fill": {
              "color": "#EBF0F8"
             },
             "line": {
              "color": "white"
             }
            },
            "header": {
             "fill": {
              "color": "#C8D4E3"
             },
             "line": {
              "color": "white"
             }
            },
            "type": "table"
           }
          ]
         },
         "layout": {
          "annotationdefaults": {
           "arrowcolor": "#2a3f5f",
           "arrowhead": 0,
           "arrowwidth": 1
          },
          "coloraxis": {
           "colorbar": {
            "outlinewidth": 0,
            "ticks": ""
           }
          },
          "colorscale": {
           "diverging": [
            [
             0,
             "#8e0152"
            ],
            [
             0.1,
             "#c51b7d"
            ],
            [
             0.2,
             "#de77ae"
            ],
            [
             0.3,
             "#f1b6da"
            ],
            [
             0.4,
             "#fde0ef"
            ],
            [
             0.5,
             "#f7f7f7"
            ],
            [
             0.6,
             "#e6f5d0"
            ],
            [
             0.7,
             "#b8e186"
            ],
            [
             0.8,
             "#7fbc41"
            ],
            [
             0.9,
             "#4d9221"
            ],
            [
             1,
             "#276419"
            ]
           ],
           "sequential": [
            [
             0,
             "#0d0887"
            ],
            [
             0.1111111111111111,
             "#46039f"
            ],
            [
             0.2222222222222222,
             "#7201a8"
            ],
            [
             0.3333333333333333,
             "#9c179e"
            ],
            [
             0.4444444444444444,
             "#bd3786"
            ],
            [
             0.5555555555555556,
             "#d8576b"
            ],
            [
             0.6666666666666666,
             "#ed7953"
            ],
            [
             0.7777777777777778,
             "#fb9f3a"
            ],
            [
             0.8888888888888888,
             "#fdca26"
            ],
            [
             1,
             "#f0f921"
            ]
           ],
           "sequentialminus": [
            [
             0,
             "#0d0887"
            ],
            [
             0.1111111111111111,
             "#46039f"
            ],
            [
             0.2222222222222222,
             "#7201a8"
            ],
            [
             0.3333333333333333,
             "#9c179e"
            ],
            [
             0.4444444444444444,
             "#bd3786"
            ],
            [
             0.5555555555555556,
             "#d8576b"
            ],
            [
             0.6666666666666666,
             "#ed7953"
            ],
            [
             0.7777777777777778,
             "#fb9f3a"
            ],
            [
             0.8888888888888888,
             "#fdca26"
            ],
            [
             1,
             "#f0f921"
            ]
           ]
          },
          "colorway": [
           "#636efa",
           "#EF553B",
           "#00cc96",
           "#ab63fa",
           "#FFA15A",
           "#19d3f3",
           "#FF6692",
           "#B6E880",
           "#FF97FF",
           "#FECB52"
          ],
          "font": {
           "color": "#2a3f5f"
          },
          "geo": {
           "bgcolor": "white",
           "lakecolor": "white",
           "landcolor": "#E5ECF6",
           "showlakes": true,
           "showland": true,
           "subunitcolor": "white"
          },
          "hoverlabel": {
           "align": "left"
          },
          "hovermode": "closest",
          "mapbox": {
           "style": "light"
          },
          "paper_bgcolor": "white",
          "plot_bgcolor": "#E5ECF6",
          "polar": {
           "angularaxis": {
            "gridcolor": "white",
            "linecolor": "white",
            "ticks": ""
           },
           "bgcolor": "#E5ECF6",
           "radialaxis": {
            "gridcolor": "white",
            "linecolor": "white",
            "ticks": ""
           }
          },
          "scene": {
           "xaxis": {
            "backgroundcolor": "#E5ECF6",
            "gridcolor": "white",
            "gridwidth": 2,
            "linecolor": "white",
            "showbackground": true,
            "ticks": "",
            "zerolinecolor": "white"
           },
           "yaxis": {
            "backgroundcolor": "#E5ECF6",
            "gridcolor": "white",
            "gridwidth": 2,
            "linecolor": "white",
            "showbackground": true,
            "ticks": "",
            "zerolinecolor": "white"
           },
           "zaxis": {
            "backgroundcolor": "#E5ECF6",
            "gridcolor": "white",
            "gridwidth": 2,
            "linecolor": "white",
            "showbackground": true,
            "ticks": "",
            "zerolinecolor": "white"
           }
          },
          "shapedefaults": {
           "line": {
            "color": "#2a3f5f"
           }
          },
          "ternary": {
           "aaxis": {
            "gridcolor": "white",
            "linecolor": "white",
            "ticks": ""
           },
           "baxis": {
            "gridcolor": "white",
            "linecolor": "white",
            "ticks": ""
           },
           "bgcolor": "#E5ECF6",
           "caxis": {
            "gridcolor": "white",
            "linecolor": "white",
            "ticks": ""
           }
          },
          "title": {
           "x": 0.05
          },
          "xaxis": {
           "automargin": true,
           "gridcolor": "white",
           "linecolor": "white",
           "ticks": "",
           "title": {
            "standoff": 15
           },
           "zerolinecolor": "white",
           "zerolinewidth": 2
          },
          "yaxis": {
           "automargin": true,
           "gridcolor": "white",
           "linecolor": "white",
           "ticks": "",
           "title": {
            "standoff": 15
           },
           "zerolinecolor": "white",
           "zerolinewidth": 2
          }
         }
        },
        "title": {
         "text": "Team Yards Per Game",
         "x": 0.5,
         "xanchor": "center",
         "y": 0.95,
         "yanchor": "top"
        },
        "width": 1000,
        "xaxis": {
         "anchor": "y",
         "domain": [
          0,
          0.1388888888888889
         ],
         "showticklabels": false,
         "zeroline": false
        },
        "xaxis10": {
         "anchor": "y10",
         "domain": [
          0.5166666666666667,
          0.6555555555555557
         ],
         "showticklabels": false,
         "zeroline": false
        },
        "xaxis11": {
         "anchor": "y11",
         "domain": [
          0.6888888888888889,
          0.8277777777777777
         ],
         "showticklabels": false,
         "zeroline": false
        },
        "xaxis12": {
         "anchor": "y12",
         "domain": [
          0.861111111111111,
          1
         ],
         "showticklabels": false,
         "zeroline": false
        },
        "xaxis13": {
         "anchor": "y13",
         "domain": [
          0,
          0.1388888888888889
         ],
         "showticklabels": false,
         "zeroline": false
        },
        "xaxis14": {
         "anchor": "y14",
         "domain": [
          0.17222222222222222,
          0.3111111111111111
         ],
         "showticklabels": false,
         "zeroline": false
        },
        "xaxis15": {
         "anchor": "y15",
         "domain": [
          0.34444444444444444,
          0.48333333333333334
         ],
         "showticklabels": false,
         "zeroline": false
        },
        "xaxis16": {
         "anchor": "y16",
         "domain": [
          0.5166666666666667,
          0.6555555555555557
         ],
         "showticklabels": false,
         "zeroline": false
        },
        "xaxis17": {
         "anchor": "y17",
         "domain": [
          0.6888888888888889,
          0.8277777777777777
         ],
         "showticklabels": false,
         "zeroline": false
        },
        "xaxis18": {
         "anchor": "y18",
         "domain": [
          0.861111111111111,
          1
         ],
         "showticklabels": false,
         "zeroline": false
        },
        "xaxis19": {
         "anchor": "y19",
         "domain": [
          0,
          0.1388888888888889
         ],
         "showticklabels": false,
         "zeroline": false
        },
        "xaxis2": {
         "anchor": "y2",
         "domain": [
          0.17222222222222222,
          0.3111111111111111
         ],
         "showticklabels": false,
         "zeroline": false
        },
        "xaxis20": {
         "anchor": "y20",
         "domain": [
          0.17222222222222222,
          0.3111111111111111
         ],
         "showticklabels": false,
         "zeroline": false
        },
        "xaxis21": {
         "anchor": "y21",
         "domain": [
          0.34444444444444444,
          0.48333333333333334
         ],
         "showticklabels": false,
         "zeroline": false
        },
        "xaxis22": {
         "anchor": "y22",
         "domain": [
          0.5166666666666667,
          0.6555555555555557
         ],
         "showticklabels": false,
         "zeroline": false
        },
        "xaxis23": {
         "anchor": "y23",
         "domain": [
          0.6888888888888889,
          0.8277777777777777
         ],
         "showticklabels": false,
         "zeroline": false
        },
        "xaxis24": {
         "anchor": "y24",
         "domain": [
          0.861111111111111,
          1
         ],
         "showticklabels": false,
         "zeroline": false
        },
        "xaxis25": {
         "anchor": "y25",
         "domain": [
          0,
          0.1388888888888889
         ],
         "showticklabels": false,
         "zeroline": false
        },
        "xaxis26": {
         "anchor": "y26",
         "domain": [
          0.17222222222222222,
          0.3111111111111111
         ],
         "showticklabels": false,
         "zeroline": false
        },
        "xaxis27": {
         "anchor": "y27",
         "domain": [
          0.34444444444444444,
          0.48333333333333334
         ],
         "showticklabels": false,
         "zeroline": false
        },
        "xaxis28": {
         "anchor": "y28",
         "domain": [
          0.5166666666666667,
          0.6555555555555557
         ],
         "showticklabels": false,
         "zeroline": false
        },
        "xaxis29": {
         "anchor": "y29",
         "domain": [
          0.6888888888888889,
          0.8277777777777777
         ],
         "showticklabels": false,
         "zeroline": false
        },
        "xaxis3": {
         "anchor": "y3",
         "domain": [
          0.34444444444444444,
          0.48333333333333334
         ],
         "showticklabels": false,
         "zeroline": false
        },
        "xaxis30": {
         "anchor": "y30",
         "domain": [
          0.861111111111111,
          1
         ],
         "showticklabels": false,
         "zeroline": false
        },
        "xaxis31": {
         "anchor": "y31",
         "domain": [
          0,
          0.1388888888888889
         ],
         "showticklabels": false,
         "zeroline": false
        },
        "xaxis32": {
         "anchor": "y32",
         "domain": [
          0.17222222222222222,
          0.3111111111111111
         ],
         "showticklabels": false,
         "zeroline": false
        },
        "xaxis33": {
         "anchor": "y33",
         "domain": [
          0.34444444444444444,
          0.48333333333333334
         ],
         "showticklabels": false,
         "zeroline": false
        },
        "xaxis34": {
         "anchor": "y34",
         "domain": [
          0.5166666666666667,
          0.6555555555555557
         ],
         "showticklabels": false,
         "zeroline": false
        },
        "xaxis35": {
         "anchor": "y35",
         "domain": [
          0.6888888888888889,
          0.8277777777777777
         ],
         "showticklabels": false,
         "zeroline": false
        },
        "xaxis36": {
         "anchor": "y36",
         "domain": [
          0.861111111111111,
          1
         ],
         "showticklabels": false,
         "zeroline": false
        },
        "xaxis4": {
         "anchor": "y4",
         "domain": [
          0.5166666666666667,
          0.6555555555555557
         ],
         "showticklabels": false,
         "zeroline": false
        },
        "xaxis5": {
         "anchor": "y5",
         "domain": [
          0.6888888888888889,
          0.8277777777777777
         ],
         "showticklabels": false,
         "zeroline": false
        },
        "xaxis6": {
         "anchor": "y6",
         "domain": [
          0.861111111111111,
          1
         ],
         "showticklabels": false,
         "zeroline": false
        },
        "xaxis7": {
         "anchor": "y7",
         "domain": [
          0,
          0.1388888888888889
         ],
         "showticklabels": false,
         "zeroline": false
        },
        "xaxis8": {
         "anchor": "y8",
         "domain": [
          0.17222222222222222,
          0.3111111111111111
         ],
         "showticklabels": false,
         "zeroline": false
        },
        "xaxis9": {
         "anchor": "y9",
         "domain": [
          0.34444444444444444,
          0.48333333333333334
         ],
         "showticklabels": false,
         "zeroline": false
        },
        "yaxis": {
         "anchor": "x",
         "domain": [
          0.9027777777777777,
          0.9999999999999999
         ],
         "dtick": 250,
         "range": [
          0,
          1000
         ],
         "tickfont": {
          "size": 9
         }
        },
        "yaxis10": {
         "anchor": "x10",
         "domain": [
          0.7222222222222222,
          0.8194444444444444
         ],
         "dtick": 250,
         "range": [
          0,
          1000
         ],
         "tickfont": {
          "size": 9
         }
        },
        "yaxis11": {
         "anchor": "x11",
         "domain": [
          0.7222222222222222,
          0.8194444444444444
         ],
         "dtick": 250,
         "range": [
          0,
          1000
         ],
         "tickfont": {
          "size": 9
         }
        },
        "yaxis12": {
         "anchor": "x12",
         "domain": [
          0.7222222222222222,
          0.8194444444444444
         ],
         "dtick": 250,
         "range": [
          0,
          1000
         ],
         "tickfont": {
          "size": 9
         }
        },
        "yaxis13": {
         "anchor": "x13",
         "domain": [
          0.5416666666666667,
          0.638888888888889
         ],
         "dtick": 250,
         "range": [
          0,
          1000
         ],
         "tickfont": {
          "size": 9
         }
        },
        "yaxis14": {
         "anchor": "x14",
         "domain": [
          0.5416666666666667,
          0.638888888888889
         ],
         "dtick": 250,
         "range": [
          0,
          1000
         ],
         "tickfont": {
          "size": 9
         }
        },
        "yaxis15": {
         "anchor": "x15",
         "domain": [
          0.5416666666666667,
          0.638888888888889
         ],
         "dtick": 250,
         "range": [
          0,
          1000
         ],
         "tickfont": {
          "size": 9
         }
        },
        "yaxis16": {
         "anchor": "x16",
         "domain": [
          0.5416666666666667,
          0.638888888888889
         ],
         "dtick": 250,
         "range": [
          0,
          1000
         ],
         "tickfont": {
          "size": 9
         }
        },
        "yaxis17": {
         "anchor": "x17",
         "domain": [
          0.5416666666666667,
          0.638888888888889
         ],
         "dtick": 250,
         "range": [
          0,
          1000
         ],
         "tickfont": {
          "size": 9
         }
        },
        "yaxis18": {
         "anchor": "x18",
         "domain": [
          0.5416666666666667,
          0.638888888888889
         ],
         "dtick": 250,
         "range": [
          0,
          1000
         ],
         "tickfont": {
          "size": 9
         }
        },
        "yaxis19": {
         "anchor": "x19",
         "domain": [
          0.3611111111111111,
          0.4583333333333333
         ],
         "dtick": 250,
         "range": [
          0,
          1000
         ],
         "tickfont": {
          "size": 9
         }
        },
        "yaxis2": {
         "anchor": "x2",
         "domain": [
          0.9027777777777777,
          0.9999999999999999
         ],
         "dtick": 250,
         "range": [
          0,
          1000
         ],
         "tickfont": {
          "size": 9
         }
        },
        "yaxis20": {
         "anchor": "x20",
         "domain": [
          0.3611111111111111,
          0.4583333333333333
         ],
         "dtick": 250,
         "range": [
          0,
          1000
         ],
         "tickfont": {
          "size": 9
         }
        },
        "yaxis21": {
         "anchor": "x21",
         "domain": [
          0.3611111111111111,
          0.4583333333333333
         ],
         "dtick": 250,
         "range": [
          0,
          1000
         ],
         "tickfont": {
          "size": 9
         }
        },
        "yaxis22": {
         "anchor": "x22",
         "domain": [
          0.3611111111111111,
          0.4583333333333333
         ],
         "dtick": 250,
         "range": [
          0,
          1000
         ],
         "tickfont": {
          "size": 9
         }
        },
        "yaxis23": {
         "anchor": "x23",
         "domain": [
          0.3611111111111111,
          0.4583333333333333
         ],
         "dtick": 250,
         "range": [
          0,
          1000
         ],
         "tickfont": {
          "size": 9
         }
        },
        "yaxis24": {
         "anchor": "x24",
         "domain": [
          0.3611111111111111,
          0.4583333333333333
         ],
         "dtick": 250,
         "range": [
          0,
          1000
         ],
         "tickfont": {
          "size": 9
         }
        },
        "yaxis25": {
         "anchor": "x25",
         "domain": [
          0.18055555555555555,
          0.2777777777777778
         ],
         "dtick": 250,
         "range": [
          0,
          1000
         ],
         "tickfont": {
          "size": 9
         }
        },
        "yaxis26": {
         "anchor": "x26",
         "domain": [
          0.18055555555555555,
          0.2777777777777778
         ],
         "dtick": 250,
         "range": [
          0,
          1000
         ],
         "tickfont": {
          "size": 9
         }
        },
        "yaxis27": {
         "anchor": "x27",
         "domain": [
          0.18055555555555555,
          0.2777777777777778
         ],
         "dtick": 250,
         "range": [
          0,
          1000
         ],
         "tickfont": {
          "size": 9
         }
        },
        "yaxis28": {
         "anchor": "x28",
         "domain": [
          0.18055555555555555,
          0.2777777777777778
         ],
         "dtick": 250,
         "range": [
          0,
          1000
         ],
         "tickfont": {
          "size": 9
         }
        },
        "yaxis29": {
         "anchor": "x29",
         "domain": [
          0.18055555555555555,
          0.2777777777777778
         ],
         "dtick": 250,
         "range": [
          0,
          1000
         ],
         "tickfont": {
          "size": 9
         }
        },
        "yaxis3": {
         "anchor": "x3",
         "domain": [
          0.9027777777777777,
          0.9999999999999999
         ],
         "dtick": 250,
         "range": [
          0,
          1000
         ],
         "tickfont": {
          "size": 9
         }
        },
        "yaxis30": {
         "anchor": "x30",
         "domain": [
          0.18055555555555555,
          0.2777777777777778
         ],
         "dtick": 250,
         "range": [
          0,
          1000
         ],
         "tickfont": {
          "size": 9
         }
        },
        "yaxis31": {
         "anchor": "x31",
         "domain": [
          0,
          0.09722222222222222
         ],
         "dtick": 250,
         "range": [
          0,
          1000
         ],
         "tickfont": {
          "size": 9
         }
        },
        "yaxis32": {
         "anchor": "x32",
         "domain": [
          0,
          0.09722222222222222
         ],
         "dtick": 250,
         "range": [
          0,
          1000
         ],
         "tickfont": {
          "size": 9
         }
        },
        "yaxis33": {
         "anchor": "x33",
         "domain": [
          0,
          0.09722222222222222
         ],
         "tickfont": {
          "size": 9
         }
        },
        "yaxis34": {
         "anchor": "x34",
         "domain": [
          0,
          0.09722222222222222
         ],
         "tickfont": {
          "size": 9
         }
        },
        "yaxis35": {
         "anchor": "x35",
         "domain": [
          0,
          0.09722222222222222
         ],
         "tickfont": {
          "size": 9
         }
        },
        "yaxis36": {
         "anchor": "x36",
         "domain": [
          0,
          0.09722222222222222
         ],
         "tickfont": {
          "size": 9
         }
        },
        "yaxis4": {
         "anchor": "x4",
         "domain": [
          0.9027777777777777,
          0.9999999999999999
         ],
         "dtick": 250,
         "range": [
          0,
          1000
         ],
         "tickfont": {
          "size": 9
         }
        },
        "yaxis5": {
         "anchor": "x5",
         "domain": [
          0.9027777777777777,
          0.9999999999999999
         ],
         "dtick": 250,
         "range": [
          0,
          1000
         ],
         "tickfont": {
          "size": 9
         }
        },
        "yaxis6": {
         "anchor": "x6",
         "domain": [
          0.9027777777777777,
          0.9999999999999999
         ],
         "dtick": 250,
         "range": [
          0,
          1000
         ],
         "tickfont": {
          "size": 9
         }
        },
        "yaxis7": {
         "anchor": "x7",
         "domain": [
          0.7222222222222222,
          0.8194444444444444
         ],
         "dtick": 250,
         "range": [
          0,
          1000
         ],
         "tickfont": {
          "size": 9
         }
        },
        "yaxis8": {
         "anchor": "x8",
         "domain": [
          0.7222222222222222,
          0.8194444444444444
         ],
         "dtick": 250,
         "range": [
          0,
          1000
         ],
         "tickfont": {
          "size": 9
         }
        },
        "yaxis9": {
         "anchor": "x9",
         "domain": [
          0.7222222222222222,
          0.8194444444444444
         ],
         "dtick": 250,
         "range": [
          0,
          1000
         ],
         "tickfont": {
          "size": 9
         }
        }
       }
      },
      "text/html": [
       "<div>\n",
       "        \n",
       "        \n",
       "            <div id=\"84ee9d16-6102-41dd-af18-f35d013c69ce\" class=\"plotly-graph-div\" style=\"height:700px; width:1000px;\"></div>\n",
       "            <script type=\"text/javascript\">\n",
       "                require([\"plotly\"], function(Plotly) {\n",
       "                    window.PLOTLYENV=window.PLOTLYENV || {};\n",
       "                    \n",
       "                if (document.getElementById(\"84ee9d16-6102-41dd-af18-f35d013c69ce\")) {\n",
       "                    Plotly.newPlot(\n",
       "                        '84ee9d16-6102-41dd-af18-f35d013c69ce',\n",
       "                        [{\"line\": {\"color\": \"red\"}, \"mode\": \"lines\", \"name\": \"ARI\", \"type\": \"scatter\", \"x\": [1, 2, 3, 4, 5, 7, 9, 10, 11, 12, 13, 14, 15, 16], \"xaxis\": \"x\", \"y\": [311, 394, 378, 379, 725, 181, 698, 281, 361, 295, 261, 323, 299, 306], \"yaxis\": \"y\"}, {\"line\": {\"color\": \"blue\"}, \"mode\": \"lines\", \"name\": \"ARI\", \"type\": \"scatter\", \"x\": [1, 2, 3, 4, 5, 6, 7, 8, 10, 11, 12, 13, 14], \"xaxis\": \"x\", \"y\": [212, 108, 221, 290, 230, 284, 233, 323, 486, 159, 290, 284, 238], \"yaxis\": \"y\"}, {\"line\": {\"color\": \"red\"}, \"mode\": \"lines\", \"name\": \"ATL\", \"type\": \"scatter\", \"x\": [1, 2, 3, 4, 5, 7, 8, 9, 10, 11, 12, 13, 14, 15, 16], \"xaxis\": \"x2\", \"y\": [372, 354, 431, 404, 330, 343, 382, 670, 320, 496, 246, 393, 391, 267, 381], \"yaxis\": \"y2\"}, {\"line\": {\"color\": \"blue\"}, \"mode\": \"lines\", \"name\": \"ATL\", \"type\": \"scatter\", \"x\": [1, 2, 3, 4, 5, 7, 8, 10, 11, 12, 13, 14], \"xaxis\": \"x2\", \"y\": [281, 453, 438, 485, 755, 437, 518, 731, 370, 179, 309, 430], \"yaxis\": \"y2\"}, {\"line\": {\"color\": \"red\"}, \"mode\": \"lines\", \"name\": \"BAL\", \"type\": \"scatter\", \"x\": [1, 2, 3, 4, 5, 6, 7, 8, 10, 11, 12, 13, 14, 15, 16], \"xaxis\": \"x3\", \"y\": [255, 341, 191, 274, 364, 276, 541, 327, 233, 300, 375, 499, 371, 333, 327], \"yaxis\": \"y3\"}, {\"line\": {\"color\": \"blue\"}, \"mode\": \"lines\", \"name\": \"BAL\", \"type\": \"scatter\", \"x\": [1, 2, 3, 4, 5, 6, 7, 8, 10, 11, 12, 13, 14], \"xaxis\": \"x3\", \"y\": [360, 462, 352, 431, 412, 719, 295, 320, 379, 394, 393, 306, 325], \"yaxis\": \"y3\"}, {\"line\": {\"color\": \"red\"}, \"mode\": \"lines\", \"name\": \"BUF\", \"type\": \"scatter\", \"x\": [1, 2, 3, 4, 5, 6, 8, 9, 10, 11, 12, 13, 14, 15, 16], \"xaxis\": \"x4\", \"y\": [400, 152, 252, 247, 243, 434, 276, 515, 368, 279, 254, 311, 328, 326, 384], \"yaxis\": \"y4\"}, {\"line\": {\"color\": \"blue\"}, \"mode\": \"lines\", \"name\": \"BUF\", \"type\": \"scatter\", \"x\": [1, 2, 3, 4, 5, 6, 7, 8, 10, 11, 12, 13, 14], \"xaxis\": \"x4\", \"y\": [99, 297, 261, 175, 228, 193, 289, 592, 427, 352, 417, 404, 378], \"yaxis\": \"y4\"}, {\"line\": {\"color\": \"red\"}, \"mode\": \"lines\", \"name\": \"CAR\", \"type\": \"scatter\", \"x\": [1, 2, 3, 4, 5, 6, 7, 9, 11, 12, 13, 14, 15, 16], \"xaxis\": \"x5\", \"y\": [309, 225, 283, 464, 320, 382, 517, 900, 298, 295, 369, 400, 297, 232], \"yaxis\": \"y5\"}, {\"line\": {\"color\": \"blue\"}, \"mode\": \"lines\", \"name\": \"CAR\", \"type\": \"scatter\", \"x\": [1, 2, 3, 5, 7, 8, 9, 10, 11, 12, 13, 14], \"xaxis\": \"x5\", \"y\": [263, 425, 383, 726, 735, 387, 643, 500, 433, 353, 247], \"yaxis\": \"y5\"}, {\"line\": {\"color\": \"red\"}, \"mode\": \"lines\", \"name\": \"CHI\", \"type\": \"scatter\", \"x\": [1, 3, 4, 5, 6, 7, 9, 10, 11, 12, 13, 14, 15, 16], \"xaxis\": \"x6\", \"y\": [615, 280, 291, 248, 347, 442, 309, 398, 123, 136, 458, 327, 249, 185], \"yaxis\": \"y6\"}, {\"line\": {\"color\": \"blue\"}, \"mode\": \"lines\", \"name\": \"CHI\", \"type\": \"scatter\", \"x\": [1, 2, 3, 4, 6, 7, 8, 9, 10, 11, 12, 13, 14], \"xaxis\": \"x6\", \"y\": [311, 274, 319, 532, 494, 467, 655, 741, 293, 390, 266, 323], \"yaxis\": \"y6\"}, {\"line\": {\"color\": \"red\"}, \"mode\": \"lines\", \"name\": \"CIN\", \"type\": \"scatter\", \"x\": [1, 2, 3, 4, 5, 7, 8, 9, 10, 11, 12, 13, 14, 15, 16], \"xaxis\": \"x7\", \"y\": [217, 279, 307, 353, 409, 184, 417, 275, 206, 375, 308, 249, 174, 393, 376], \"yaxis\": \"y7\"}, {\"line\": {\"color\": \"blue\"}, \"mode\": \"lines\", \"name\": \"CIN\", \"type\": \"scatter\", \"x\": [1, 2, 3, 4, 5, 6, 7, 9, 10, 11, 12, 13, 14], \"xaxis\": \"x7\", \"y\": [368, 374, 383, 428, 337, 284, 640, 520, 328, 268, 291, 319], \"yaxis\": \"y7\"}, {\"line\": {\"color\": \"red\"}, \"mode\": \"lines\", \"name\": \"CLE\", \"type\": \"scatter\", \"x\": [1, 2, 3, 4, 5, 6, 7, 8, 9, 10, 11, 12, 13, 14, 15, 16], \"xaxis\": \"x8\", \"y\": [293, 367, 349, 227, 400, 238, 264, 296, 424, 184, 370, 324, 335, 273, 228, 352], \"yaxis\": \"y8\"}, {\"line\": {\"color\": \"blue\"}, \"mode\": \"lines\", \"name\": \"CLE\", \"type\": \"scatter\", \"x\": [1, 2, 3, 4, 5, 6, 7, 9, 10, 11, 12, 13, 14], \"xaxis\": \"x8\", \"y\": [360, 360, 318, 502, 382, 581, 239, 404, 407, 367, 450, 324, 299], \"yaxis\": \"y8\"}, {\"line\": {\"color\": \"red\"}, \"mode\": \"lines\", \"name\": \"DAL\", \"type\": \"scatter\", \"x\": [1, 2, 3, 4, 5, 7, 9, 10, 11, 12, 13, 14, 15, 16], \"xaxis\": \"x9\", \"y\": [388, 268, 298, 448, 406, 778, 595, 230, 258, 292, 459, 313, 355, 282], \"yaxis\": \"y9\"}, {\"line\": {\"color\": \"blue\"}, \"mode\": \"lines\", \"name\": \"DAL\", \"type\": \"scatter\", \"x\": [1, 2, 3, 4, 5, 6, 8, 9, 10, 11, 12, 13, 14], \"xaxis\": \"x9\", \"y\": [212, 283, 331, 439, 282, 646, 272, 715, 404, 317, 540, 257], \"yaxis\": \"y9\"}, {\"line\": {\"color\": \"red\"}, \"mode\": \"lines\", \"name\": \"DEN\", \"type\": \"scatter\", \"x\": [1, 2, 3, 4, 6, 7, 8, 9, 10, 11, 12, 13, 14, 15, 16], \"xaxis\": \"x10\", \"y\": [331, 394, 355, 298, 423, 236, 378, 524, 331, 219, 242, 278, 411, 330, 351], \"yaxis\": \"y10\"}, {\"line\": {\"color\": \"blue\"}, \"mode\": \"lines\", \"name\": \"DEN\", \"type\": \"scatter\", \"x\": [1, 2, 3, 4, 5, 6, 7, 8, 9, 10, 11, 12, 13, 14], \"xaxis\": \"x10\", \"y\": [460, 370, 245, 398, 431, 378, 300, 376, 338, 350, 283, 351, 311, 304], \"yaxis\": \"y10\"}, {\"line\": {\"color\": \"red\"}, \"mode\": \"lines\", \"name\": \"DET\", \"type\": \"scatter\", \"x\": [1, 2, 3, 4, 5, 8, 9, 10, 11, 12, 13, 14, 15, 16], \"xaxis\": \"x11\", \"y\": [338, 222, 312, 241, 661, 919, 335, 362, 314, 362, 389, 298, 291, 371], \"yaxis\": \"y11\"}, {\"line\": {\"color\": \"blue\"}, \"mode\": \"lines\", \"name\": \"DET\", \"type\": \"scatter\", \"x\": [1, 2, 3, 4, 5, 7, 9, 10, 11, 12, 13, 14], \"xaxis\": \"x11\", \"y\": [358, 428, 404, 359, 255, 894, 209, 625, 328, 355, 226, 318], \"yaxis\": \"y11\"}, {\"line\": {\"color\": \"red\"}, \"mode\": \"lines\", \"name\": \"GB\", \"type\": \"scatter\", \"x\": [1, 2, 3, 4, 5, 6, 8, 9, 10, 11, 12, 13, 14, 15, 16], \"xaxis\": \"x12\", \"y\": [329, 331, 389, 265, 377, 532, 322, 371, 258, 297, 270, 356, 389, 219, 275], \"yaxis\": \"y12\"}, {\"line\": {\"color\": \"blue\"}, \"mode\": \"lines\", \"name\": \"GB\", \"type\": \"scatter\", \"x\": [1, 2, 3, 4, 5, 6, 8, 9, 10, 11, 12, 13, 14], \"xaxis\": \"x12\", \"y\": [335, 357, 318, 414, 516, 502, 359, 373, 706, 280, 314, 336, 308], \"yaxis\": \"y12\"}, {\"line\": {\"color\": \"red\"}, \"mode\": \"lines\", \"name\": \"HOU\", \"type\": \"scatter\", \"x\": [1, 2, 3, 4, 5, 6, 7, 9, 10, 11, 12, 13, 14, 15, 16], \"xaxis\": \"x13\", \"y\": [247, 248, 436, 508, 393, 353, 536, 585, 389, 362, 372, 303, 156, 220, 224], \"yaxis\": \"y13\"}, {\"line\": {\"color\": \"blue\"}, \"mode\": \"lines\", \"name\": \"HOU\", \"type\": \"scatter\", \"x\": [1, 2, 3, 4, 5, 6, 7, 8, 9, 10, 11, 12, 13, 14], \"xaxis\": \"x13\", \"y\": [318, 403, 392, 456, 492, 247, 252, 455, 280, 339, 447, 379, 329, 296], \"yaxis\": \"y13\"}, {\"line\": {\"color\": \"red\"}, \"mode\": \"lines\", \"name\": \"IND\", \"type\": \"scatter\", \"x\": [1, 2, 3, 4, 5, 6, 7, 8, 9, 11, 12, 13, 14, 15, 16], \"xaxis\": \"x14\", \"y\": [225, 257, 364, 237, 426, 309, 212, 316, 629, 211, 309, 222, 233, 311, 274], \"yaxis\": \"y14\"}, {\"line\": {\"color\": \"blue\"}, \"mode\": \"lines\", \"name\": \"IND\", \"type\": \"scatter\", \"x\": [1, 2, 3, 4, 5, 6, 7, 9, 10, 11, 12, 13, 14], \"xaxis\": \"x14\", \"y\": [389, 326, 244, 446, 429, 398, 812, 829, 455, 256, 441, 340], \"yaxis\": \"y14\"}, {\"line\": {\"color\": \"red\"}, \"mode\": \"lines\", \"name\": \"JAX\", \"type\": \"scatter\", \"x\": [1, 2, 3, 4, 5, 6, 7, 8, 9, 10, 11, 12, 13, 14, 15, 16], \"xaxis\": \"x15\", \"y\": [319, 270, 419, 321, 314, 389, 529, 430, 408, 246, 277, 421, 424, 477, 477, 214], \"yaxis\": \"y15\"}, {\"line\": {\"color\": \"blue\"}, \"mode\": \"lines\", \"name\": \"JAX\", \"type\": \"scatter\", \"x\": [1, 2, 3, 4, 5, 6, 7, 8, 9, 10, 11, 12, 13, 14], \"xaxis\": \"x15\", \"y\": [264, 467, 203, 496, 543, 194, 254, 311, 623, 333, 208, 230, 172], \"yaxis\": \"y15\"}, {\"line\": {\"color\": \"red\"}, \"mode\": \"lines\", \"name\": \"KC\", \"type\": \"scatter\", \"x\": [1, 2, 3, 4, 5, 6, 7, 8, 9, 10, 11, 12, 13, 14, 15, 16], \"xaxis\": \"x16\", \"y\": [538, 329, 281, 468, 455, 221, 433, 291, 300, 351, 256, 469, 388, 393, 404, 373], \"yaxis\": \"y16\"}, {\"line\": {\"color\": \"blue\"}, \"mode\": \"lines\", \"name\": \"KC\", \"type\": \"scatter\", \"x\": [1, 2, 3, 4, 5, 6, 7, 8, 9, 10, 11, 12, 13, 14], \"xaxis\": \"x16\", \"y\": [363, 452, 461, 389, 405, 431, 565, 348, 449, 309, 546, 464, 460, 304], \"yaxis\": \"y16\"}, {\"line\": {\"color\": \"red\"}, \"mode\": \"lines\", \"name\": \"LA\", \"type\": \"scatter\", \"x\": [1, 2, 3, 4, 5, 6, 7, 8, 9, 10, 11, 12, 13, 14, 15, 16], \"xaxis\": \"x17\", \"y\": [347, 307, 433, 437, 380, 234, 450, 470, 428, 259, 462, 293, 272, 347, 423, 251], \"yaxis\": \"y17\"}, {\"line\": {\"color\": \"blue\"}, \"mode\": \"lines\", \"name\": \"LA\", \"type\": \"scatter\", \"x\": [1, 2, 3, 4, 5, 6, 7, 8, 9, 10, 11, 12, 13, 14], \"xaxis\": \"x17\", \"y\": [445, 435, 497, 576, 478, 445, 336, 884, 446, 507, 343, 184, 372], \"yaxis\": \"y17\"}, {\"line\": {\"color\": \"red\"}, \"mode\": \"lines\", \"name\": \"LAC\", \"type\": \"scatter\", \"x\": [1, 3, 4, 5, 6, 7, 8, 9, 10, 11, 12, 13, 14, 15, 16], \"xaxis\": \"x18\", \"y\": [656, 367, 420, 334, 343, 224, 362, 327, 434, 519, 424, 513, 308, 368, 519], \"yaxis\": \"y18\"}, {\"line\": {\"color\": \"blue\"}, \"mode\": \"lines\", \"name\": \"LAC\", \"type\": \"scatter\", \"x\": [1, 2, 3, 4, 5, 6, 7, 8, 9, 10, 11, 12, 13, 14], \"xaxis\": \"x18\", \"y\": [546, 340, 356, 372, 402, 409, 339, 370, 775, 429, 371, 278, 423], \"yaxis\": \"y18\"}, {\"line\": {\"color\": \"red\"}, \"mode\": \"lines\", \"name\": \"MIA\", \"type\": \"scatter\", \"x\": [1, 3, 4, 5, 7, 9, 10, 11, 12, 13, 14, 15, 16], \"xaxis\": \"x19\", \"y\": [351, 244, 136, 495, 579, 691, 411, 245, 342, 381, 319, 300, 317], \"yaxis\": \"y19\"}, {\"line\": {\"color\": \"blue\"}, \"mode\": \"lines\", \"name\": \"MIA\", \"type\": \"scatter\", \"x\": [1, 2, 3, 4, 5, 6, 7, 8, 9, 10, 11, 12, 13, 14], \"xaxis\": \"x19\", \"y\": [331, 280, 337, 138, 282, 544, 330, 392, 143, 283, 297, 206, 407, 178], \"yaxis\": \"y19\"}, {\"line\": {\"color\": \"red\"}, \"mode\": \"lines\", \"name\": \"MIN\", \"type\": \"scatter\", \"x\": [1, 2, 4, 5, 6, 7, 8, 9, 10, 11, 12, 13, 14, 15, 16], \"xaxis\": \"x20\", \"y\": [492, 690, 318, 280, 383, 347, 426, 396, 436, 414, 292, 385, 330, 285, 339], \"yaxis\": \"y20\"}, {\"line\": {\"color\": \"blue\"}, \"mode\": \"lines\", \"name\": \"MIN\", \"type\": \"scatter\", \"x\": [1, 2, 3, 4, 5, 6, 7, 9, 10, 11, 12, 13, 14], \"xaxis\": \"x20\", \"y\": [333, 470, 312, 431, 369, 384, 725, 291, 293, 392, 248, 281, 402], \"yaxis\": \"y20\"}, {\"line\": {\"color\": \"red\"}, \"mode\": \"lines\", \"name\": \"NE\", \"type\": \"scatter\", \"x\": [1, 2, 3, 4, 6, 7, 8, 9, 10, 11, 12, 13, 14, 15, 16], \"xaxis\": \"x21\", \"y\": [425, 527, 411, 752, 390, 388, 420, 414, 454, 404, 384, 276, 384, 484, 389], \"yaxis\": \"y21\"}, {\"line\": {\"color\": \"blue\"}, \"mode\": \"lines\", \"name\": \"NE\", \"type\": \"scatter\", \"x\": [1, 2, 3, 4, 5, 6, 7, 8, 9, 10, 11, 12, 13, 14], \"xaxis\": \"x21\", \"y\": [398, 313, 204, 461, 423, 543, 396, 372, 476, 279, 455, 446, 467, 334], \"yaxis\": \"y21\"}, {\"line\": {\"color\": \"red\"}, \"mode\": \"lines\", \"name\": \"NO\", \"type\": \"scatter\", \"x\": [1, 2, 3, 4, 5, 6, 7, 8, 9, 10, 11, 12, 13, 14, 15, 16], \"xaxis\": \"x22\", \"y\": [364, 414, 352, 311, 349, 489, 373, 402, 493, 520, 336, 407, 301, 418, 294, 308], \"yaxis\": \"y22\"}, {\"line\": {\"color\": \"blue\"}, \"mode\": \"lines\", \"name\": \"NO\", \"type\": \"scatter\", \"x\": [1, 2, 3, 4, 6, 7, 8, 9, 10, 11, 12, 13, 14], \"xaxis\": \"x22\", \"y\": [485, 290, 514, 856, 361, 256, 504, 1058, 313, 236, 281, 329], \"yaxis\": \"y22\"}, {\"line\": {\"color\": \"red\"}, \"mode\": \"lines\", \"name\": \"NYG\", \"type\": \"scatter\", \"x\": [1, 2, 3, 5, 6, 8, 10, 11, 12, 13, 14, 15, 16], \"xaxis\": \"x23\", \"y\": [224, 260, 831, 315, 466, 309, 663, 143, 279, 326, 528, 253, 371], \"yaxis\": \"y23\"}, {\"line\": {\"color\": \"blue\"}, \"mode\": \"lines\", \"name\": \"NYG\", \"type\": \"scatter\", \"x\": [1, 2, 3, 4, 5, 6, 7, 10, 11, 12, 13, 14], \"xaxis\": \"x23\", \"y\": [346, 243, 374, 294, 422, 396, 761, 657, 369, 306, 427, 236], \"yaxis\": \"y23\"}, {\"line\": {\"color\": \"red\"}, \"mode\": \"lines\", \"name\": \"NYJ\", \"type\": \"scatter\", \"x\": [1, 2, 3, 4, 5, 6, 7, 8, 9, 11, 12, 13, 14, 15, 16], \"xaxis\": \"x24\", \"y\": [199, 296, 309, 436, 207, 408, 235, 282, 631, 409, 492, 106, 336, 300, 272], \"yaxis\": \"y24\"}, {\"line\": {\"color\": \"blue\"}, \"mode\": \"lines\", \"name\": \"NYJ\", \"type\": \"scatter\", \"x\": [1, 2, 3, 4, 5, 6, 7, 8, 9, 10, 11, 12, 13, 14], \"xaxis\": \"x24\", \"y\": [344, 355, 253, 170, 507, 369, 245, 196, 292, 194, 328, 230, 247, 296], \"yaxis\": \"y24\"}, {\"line\": {\"color\": \"red\"}, \"mode\": \"lines\", \"name\": \"OAK\", \"type\": \"scatter\", \"x\": [1, 2, 3, 4, 5, 6, 7, 8, 9, 10, 11, 12, 13, 14, 15, 16], \"xaxis\": \"x25\", \"y\": [368, 428, 106, 209, 225, 254, 530, 367, 370, 318, 360, 391, 268, 336, 249, 321], \"yaxis\": \"y25\"}, {\"line\": {\"color\": \"blue\"}, \"mode\": \"lines\", \"name\": \"OAK\", \"type\": \"scatter\", \"x\": [1, 2, 3, 4, 5, 6, 7, 9, 10, 11, 12, 13, 14], \"xaxis\": \"x25\", \"y\": [360, 363, 455, 565, 296, 180, 329, 217, 644, 230, 453, 309, 287], \"yaxis\": \"y25\"}, {\"line\": {\"color\": \"red\"}, \"mode\": \"lines\", \"name\": \"PHI\", \"type\": \"scatter\", \"x\": [1, 2, 3, 4, 5, 6, 8, 9, 10, 11, 12, 13, 14, 15, 16], \"xaxis\": \"x26\", \"y\": [294, 401, 411, 455, 415, 642, 333, 453, 388, 381, 440, 508, 373, 181, 196], \"yaxis\": \"y26\"}, {\"line\": {\"color\": \"blue\"}, \"mode\": \"lines\", \"name\": \"PHI\", \"type\": \"scatter\", \"x\": [1, 2, 3, 4, 5, 6, 7, 8, 9, 10, 11, 12, 13, 14], \"xaxis\": \"x26\", \"y\": [270, 396, 377, 409, 342, 410, 356, 390, 633, 339, 440, 265, 347], \"yaxis\": \"y26\"}, {\"line\": {\"color\": \"red\"}, \"mode\": \"lines\", \"name\": \"PIT\", \"type\": \"scatter\", \"x\": [1, 2, 3, 4, 5, 6, 7, 8, 9, 10, 11, 12, 13, 14, 15, 16], \"xaxis\": \"x27\", \"y\": [287, 391, 267, 341, 359, 414, 474, 412, 294, 367, 449, 452, 544, 376, 365, 363], \"yaxis\": \"y27\"}, {\"line\": {\"color\": \"blue\"}, \"mode\": \"lines\", \"name\": \"PIT\", \"type\": \"scatter\", \"x\": [1, 2, 3, 4, 5, 6, 7, 8, 9, 10, 11, 12, 13, 14], \"xaxis\": \"x27\", \"y\": [443, 486, 409, 269, 411, 466, 408, 385, 843, 518, 376, 381, 398], \"yaxis\": \"y27\"}, {\"line\": {\"color\": \"red\"}, \"mode\": \"lines\", \"name\": \"SEA\", \"type\": \"scatter\", \"x\": [1, 2, 3, 4, 5, 6, 7, 8, 9, 10, 11, 12, 13, 14, 15, 16], \"xaxis\": \"x28\", \"y\": [225, 331, 407, 477, 226, 381, 480, 375, 262, 384, 332, 323, 368, 129, 144, 261], \"yaxis\": \"y28\"}, {\"line\": {\"color\": \"blue\"}, \"mode\": \"lines\", \"name\": \"SEA\", \"type\": \"scatter\", \"x\": [1, 2, 3, 4, 5, 6, 7, 8, 9, 10, 11, 12, 13, 14], \"xaxis\": \"x28\", \"y\": [298, 267, 311, 315, 373, 338, 393, 352, 833, 412, 364, 295, 355], \"yaxis\": \"y28\"}, {\"line\": {\"color\": \"red\"}, \"mode\": \"lines\", \"name\": \"SF\", \"type\": \"scatter\", \"x\": [1, 2, 3, 4, 5, 7, 8, 9, 10, 11, 12, 13, 14, 15, 16], \"xaxis\": \"x29\", \"y\": [187, 257, 433, 289, 629, 300, 253, 314, 450, 265, 357, 425, 399, 403, 476], \"yaxis\": \"y29\"}, {\"line\": {\"color\": \"blue\"}, \"mode\": \"lines\", \"name\": \"SF\", \"type\": \"scatter\", \"x\": [1, 2, 3, 4, 5, 6, 7, 8, 9, 10, 11, 12, 13, 14], \"xaxis\": \"x29\", \"y\": [348, 363, 395, 387, 413, 401, 220, 272, 398, 383, 327, 443, 421, 386], \"yaxis\": \"y29\"}, {\"line\": {\"color\": \"red\"}, \"mode\": \"lines\", \"name\": \"TB\", \"type\": \"scatter\", \"x\": [1, 2, 3, 4, 5, 6, 7, 8, 9, 10, 11, 12, 13, 14, 15, 16], \"xaxis\": \"x30\", \"y\": [313, 342, 434, 414, 400, 435, 254, 173, 274, 302, 380, 361, 425, 378, 416, 455], \"yaxis\": \"y30\"}, {\"line\": {\"color\": \"blue\"}, \"mode\": \"lines\", \"name\": \"TB\", \"type\": \"scatter\", \"x\": [1, 2, 3, 4, 5, 6, 7, 8, 9, 10, 11, 12, 13, 14], \"xaxis\": \"x30\", \"y\": [536, 421, 480, 300, 512, 464, 562, 331, 1007, 395, 324, 253, 234], \"yaxis\": \"y30\"}, {\"line\": {\"color\": \"red\"}, \"mode\": \"lines\", \"name\": \"TEN\", \"type\": \"scatter\", \"x\": [1, 2, 3, 4, 5, 6, 7, 8, 9, 10, 11, 12, 13, 14, 15, 16], \"xaxis\": \"x31\", \"y\": [365, 355, 451, 190, 159, 488, 279, 253, 405, 322, 298, 379, 204, 343, 367, 215], \"yaxis\": \"y31\"}, {\"line\": {\"color\": \"blue\"}, \"mode\": \"lines\", \"name\": \"TEN\", \"type\": \"scatter\", \"x\": [1, 2, 3, 4, 5, 6, 7, 8, 9, 10, 11, 12, 13, 14], \"xaxis\": \"x31\", \"y\": [328, 275, 250, 404, 211, 86, 358, 357, 629, 353, 394, 443, 283], \"yaxis\": \"y31\"}, {\"line\": {\"color\": \"red\"}, \"mode\": \"lines\", \"name\": \"WAS\", \"type\": \"scatter\", \"x\": [1, 2, 3, 4, 5, 6, 7, 8, 9, 10, 11, 12, 13, 14, 15, 16], \"xaxis\": \"x32\", \"y\": [264, 386, 417, 329, 409, 348, 302, 223, 394, 433, 327, 290, 211, 234, 355, 177], \"yaxis\": \"y32\"}, {\"line\": {\"color\": \"blue\"}, \"mode\": \"lines\", \"name\": \"WAS\", \"type\": \"scatter\", \"x\": [1, 2, 3, 4, 5, 6, 7, 8, 9, 10, 11, 12, 13, 14], \"xaxis\": \"x32\", \"y\": [435, 339, 393, 278, 290, 292, 390, 296, 575, 321, 208, 236, 222], \"yaxis\": \"y32\"}],\n",
       "                        {\"annotations\": [{\"font\": {\"size\": 16}, \"showarrow\": false, \"text\": \"ARI\", \"x\": 0.06944444444444445, \"xanchor\": \"center\", \"xref\": \"paper\", \"y\": 0.9999999999999999, \"yanchor\": \"bottom\", \"yref\": \"paper\"}, {\"font\": {\"size\": 16}, \"showarrow\": false, \"text\": \"ATL\", \"x\": 0.24166666666666667, \"xanchor\": \"center\", \"xref\": \"paper\", \"y\": 0.9999999999999999, \"yanchor\": \"bottom\", \"yref\": \"paper\"}, {\"font\": {\"size\": 16}, \"showarrow\": false, \"text\": \"BAL\", \"x\": 0.41388888888888886, \"xanchor\": \"center\", \"xref\": \"paper\", \"y\": 0.9999999999999999, \"yanchor\": \"bottom\", \"yref\": \"paper\"}, {\"font\": {\"size\": 16}, \"showarrow\": false, \"text\": \"BUF\", \"x\": 0.5861111111111112, \"xanchor\": \"center\", \"xref\": \"paper\", \"y\": 0.9999999999999999, \"yanchor\": \"bottom\", \"yref\": \"paper\"}, {\"font\": {\"size\": 16}, \"showarrow\": false, \"text\": \"CAR\", \"x\": 0.7583333333333333, \"xanchor\": \"center\", \"xref\": \"paper\", \"y\": 0.9999999999999999, \"yanchor\": \"bottom\", \"yref\": \"paper\"}, {\"font\": {\"size\": 16}, \"showarrow\": false, \"text\": \"CHI\", \"x\": 0.9305555555555556, \"xanchor\": \"center\", \"xref\": \"paper\", \"y\": 0.9999999999999999, \"yanchor\": \"bottom\", \"yref\": \"paper\"}, {\"font\": {\"size\": 16}, \"showarrow\": false, \"text\": \"CIN\", \"x\": 0.06944444444444445, \"xanchor\": \"center\", \"xref\": \"paper\", \"y\": 0.8194444444444444, \"yanchor\": \"bottom\", \"yref\": \"paper\"}, {\"font\": {\"size\": 16}, \"showarrow\": false, \"text\": \"CLE\", \"x\": 0.24166666666666667, \"xanchor\": \"center\", \"xref\": \"paper\", \"y\": 0.8194444444444444, \"yanchor\": \"bottom\", \"yref\": \"paper\"}, {\"font\": {\"size\": 16}, \"showarrow\": false, \"text\": \"DAL\", \"x\": 0.41388888888888886, \"xanchor\": \"center\", \"xref\": \"paper\", \"y\": 0.8194444444444444, \"yanchor\": \"bottom\", \"yref\": \"paper\"}, {\"font\": {\"size\": 16}, \"showarrow\": false, \"text\": \"DEN\", \"x\": 0.5861111111111112, \"xanchor\": \"center\", \"xref\": \"paper\", \"y\": 0.8194444444444444, \"yanchor\": \"bottom\", \"yref\": \"paper\"}, {\"font\": {\"size\": 16}, \"showarrow\": false, \"text\": \"DET\", \"x\": 0.7583333333333333, \"xanchor\": \"center\", \"xref\": \"paper\", \"y\": 0.8194444444444444, \"yanchor\": \"bottom\", \"yref\": \"paper\"}, {\"font\": {\"size\": 16}, \"showarrow\": false, \"text\": \"GB\", \"x\": 0.9305555555555556, \"xanchor\": \"center\", \"xref\": \"paper\", \"y\": 0.8194444444444444, \"yanchor\": \"bottom\", \"yref\": \"paper\"}, {\"font\": {\"size\": 16}, \"showarrow\": false, \"text\": \"HOU\", \"x\": 0.06944444444444445, \"xanchor\": \"center\", \"xref\": \"paper\", \"y\": 0.638888888888889, \"yanchor\": \"bottom\", \"yref\": \"paper\"}, {\"font\": {\"size\": 16}, \"showarrow\": false, \"text\": \"IND\", \"x\": 0.24166666666666667, \"xanchor\": \"center\", \"xref\": \"paper\", \"y\": 0.638888888888889, \"yanchor\": \"bottom\", \"yref\": \"paper\"}, {\"font\": {\"size\": 16}, \"showarrow\": false, \"text\": \"JAX\", \"x\": 0.41388888888888886, \"xanchor\": \"center\", \"xref\": \"paper\", \"y\": 0.638888888888889, \"yanchor\": \"bottom\", \"yref\": \"paper\"}, {\"font\": {\"size\": 16}, \"showarrow\": false, \"text\": \"KC\", \"x\": 0.5861111111111112, \"xanchor\": \"center\", \"xref\": \"paper\", \"y\": 0.638888888888889, \"yanchor\": \"bottom\", \"yref\": \"paper\"}, {\"font\": {\"size\": 16}, \"showarrow\": false, \"text\": \"LA\", \"x\": 0.7583333333333333, \"xanchor\": \"center\", \"xref\": \"paper\", \"y\": 0.638888888888889, \"yanchor\": \"bottom\", \"yref\": \"paper\"}, {\"font\": {\"size\": 16}, \"showarrow\": false, \"text\": \"LAC\", \"x\": 0.9305555555555556, \"xanchor\": \"center\", \"xref\": \"paper\", \"y\": 0.638888888888889, \"yanchor\": \"bottom\", \"yref\": \"paper\"}, {\"font\": {\"size\": 16}, \"showarrow\": false, \"text\": \"MIA\", \"x\": 0.06944444444444445, \"xanchor\": \"center\", \"xref\": \"paper\", \"y\": 0.4583333333333333, \"yanchor\": \"bottom\", \"yref\": \"paper\"}, {\"font\": {\"size\": 16}, \"showarrow\": false, \"text\": \"MIN\", \"x\": 0.24166666666666667, \"xanchor\": \"center\", \"xref\": \"paper\", \"y\": 0.4583333333333333, \"yanchor\": \"bottom\", \"yref\": \"paper\"}, {\"font\": {\"size\": 16}, \"showarrow\": false, \"text\": \"NE\", \"x\": 0.41388888888888886, \"xanchor\": \"center\", \"xref\": \"paper\", \"y\": 0.4583333333333333, \"yanchor\": \"bottom\", \"yref\": \"paper\"}, {\"font\": {\"size\": 16}, \"showarrow\": false, \"text\": \"NO\", \"x\": 0.5861111111111112, \"xanchor\": \"center\", \"xref\": \"paper\", \"y\": 0.4583333333333333, \"yanchor\": \"bottom\", \"yref\": \"paper\"}, {\"font\": {\"size\": 16}, \"showarrow\": false, \"text\": \"NYG\", \"x\": 0.7583333333333333, \"xanchor\": \"center\", \"xref\": \"paper\", \"y\": 0.4583333333333333, \"yanchor\": \"bottom\", \"yref\": \"paper\"}, {\"font\": {\"size\": 16}, \"showarrow\": false, \"text\": \"NYJ\", \"x\": 0.9305555555555556, \"xanchor\": \"center\", \"xref\": \"paper\", \"y\": 0.4583333333333333, \"yanchor\": \"bottom\", \"yref\": \"paper\"}, {\"font\": {\"size\": 16}, \"showarrow\": false, \"text\": \"OAK\", \"x\": 0.06944444444444445, \"xanchor\": \"center\", \"xref\": \"paper\", \"y\": 0.2777777777777778, \"yanchor\": \"bottom\", \"yref\": \"paper\"}, {\"font\": {\"size\": 16}, \"showarrow\": false, \"text\": \"PHI\", \"x\": 0.24166666666666667, \"xanchor\": \"center\", \"xref\": \"paper\", \"y\": 0.2777777777777778, \"yanchor\": \"bottom\", \"yref\": \"paper\"}, {\"font\": {\"size\": 16}, \"showarrow\": false, \"text\": \"PIT\", \"x\": 0.41388888888888886, \"xanchor\": \"center\", \"xref\": \"paper\", \"y\": 0.2777777777777778, \"yanchor\": \"bottom\", \"yref\": \"paper\"}, {\"font\": {\"size\": 16}, \"showarrow\": false, \"text\": \"SEA\", \"x\": 0.5861111111111112, \"xanchor\": \"center\", \"xref\": \"paper\", \"y\": 0.2777777777777778, \"yanchor\": \"bottom\", \"yref\": \"paper\"}, {\"font\": {\"size\": 16}, \"showarrow\": false, \"text\": \"SF\", \"x\": 0.7583333333333333, \"xanchor\": \"center\", \"xref\": \"paper\", \"y\": 0.2777777777777778, \"yanchor\": \"bottom\", \"yref\": \"paper\"}, {\"font\": {\"size\": 16}, \"showarrow\": false, \"text\": \"TB\", \"x\": 0.9305555555555556, \"xanchor\": \"center\", \"xref\": \"paper\", \"y\": 0.2777777777777778, \"yanchor\": \"bottom\", \"yref\": \"paper\"}, {\"font\": {\"size\": 16}, \"showarrow\": false, \"text\": \"TEN\", \"x\": 0.06944444444444445, \"xanchor\": \"center\", \"xref\": \"paper\", \"y\": 0.09722222222222222, \"yanchor\": \"bottom\", \"yref\": \"paper\"}, {\"font\": {\"size\": 16}, \"showarrow\": false, \"text\": \"WAS\", \"x\": 0.24166666666666667, \"xanchor\": \"center\", \"xref\": \"paper\", \"y\": 0.09722222222222222, \"yanchor\": \"bottom\", \"yref\": \"paper\"}], \"height\": 700, \"showlegend\": false, \"template\": {\"data\": {\"bar\": [{\"error_x\": {\"color\": \"#2a3f5f\"}, \"error_y\": {\"color\": \"#2a3f5f\"}, \"marker\": {\"line\": {\"color\": \"#E5ECF6\", \"width\": 0.5}}, \"type\": \"bar\"}], \"barpolar\": [{\"marker\": {\"line\": {\"color\": \"#E5ECF6\", \"width\": 0.5}}, \"type\": \"barpolar\"}], \"carpet\": [{\"aaxis\": {\"endlinecolor\": \"#2a3f5f\", \"gridcolor\": \"white\", \"linecolor\": \"white\", \"minorgridcolor\": \"white\", \"startlinecolor\": \"#2a3f5f\"}, \"baxis\": {\"endlinecolor\": \"#2a3f5f\", \"gridcolor\": \"white\", \"linecolor\": \"white\", \"minorgridcolor\": \"white\", \"startlinecolor\": \"#2a3f5f\"}, \"type\": \"carpet\"}], \"choropleth\": [{\"colorbar\": {\"outlinewidth\": 0, \"ticks\": \"\"}, \"type\": \"choropleth\"}], \"contour\": [{\"colorbar\": {\"outlinewidth\": 0, \"ticks\": \"\"}, \"colorscale\": [[0.0, \"#0d0887\"], [0.1111111111111111, \"#46039f\"], [0.2222222222222222, \"#7201a8\"], [0.3333333333333333, \"#9c179e\"], [0.4444444444444444, \"#bd3786\"], [0.5555555555555556, \"#d8576b\"], [0.6666666666666666, \"#ed7953\"], [0.7777777777777778, \"#fb9f3a\"], [0.8888888888888888, \"#fdca26\"], [1.0, \"#f0f921\"]], \"type\": \"contour\"}], \"contourcarpet\": [{\"colorbar\": {\"outlinewidth\": 0, \"ticks\": \"\"}, \"type\": \"contourcarpet\"}], \"heatmap\": [{\"colorbar\": {\"outlinewidth\": 0, \"ticks\": \"\"}, \"colorscale\": [[0.0, \"#0d0887\"], [0.1111111111111111, \"#46039f\"], [0.2222222222222222, \"#7201a8\"], [0.3333333333333333, \"#9c179e\"], [0.4444444444444444, \"#bd3786\"], [0.5555555555555556, \"#d8576b\"], [0.6666666666666666, \"#ed7953\"], [0.7777777777777778, \"#fb9f3a\"], [0.8888888888888888, \"#fdca26\"], [1.0, \"#f0f921\"]], \"type\": \"heatmap\"}], \"heatmapgl\": [{\"colorbar\": {\"outlinewidth\": 0, \"ticks\": \"\"}, \"colorscale\": [[0.0, \"#0d0887\"], [0.1111111111111111, \"#46039f\"], [0.2222222222222222, \"#7201a8\"], [0.3333333333333333, \"#9c179e\"], [0.4444444444444444, \"#bd3786\"], [0.5555555555555556, \"#d8576b\"], [0.6666666666666666, \"#ed7953\"], [0.7777777777777778, \"#fb9f3a\"], [0.8888888888888888, \"#fdca26\"], [1.0, \"#f0f921\"]], \"type\": \"heatmapgl\"}], \"histogram\": [{\"marker\": {\"colorbar\": {\"outlinewidth\": 0, \"ticks\": \"\"}}, \"type\": \"histogram\"}], \"histogram2d\": [{\"colorbar\": {\"outlinewidth\": 0, \"ticks\": \"\"}, \"colorscale\": [[0.0, \"#0d0887\"], [0.1111111111111111, \"#46039f\"], [0.2222222222222222, \"#7201a8\"], [0.3333333333333333, \"#9c179e\"], [0.4444444444444444, \"#bd3786\"], [0.5555555555555556, \"#d8576b\"], [0.6666666666666666, \"#ed7953\"], [0.7777777777777778, \"#fb9f3a\"], [0.8888888888888888, \"#fdca26\"], [1.0, \"#f0f921\"]], \"type\": \"histogram2d\"}], \"histogram2dcontour\": [{\"colorbar\": {\"outlinewidth\": 0, \"ticks\": \"\"}, \"colorscale\": [[0.0, \"#0d0887\"], [0.1111111111111111, \"#46039f\"], [0.2222222222222222, \"#7201a8\"], [0.3333333333333333, \"#9c179e\"], [0.4444444444444444, \"#bd3786\"], [0.5555555555555556, \"#d8576b\"], [0.6666666666666666, \"#ed7953\"], [0.7777777777777778, \"#fb9f3a\"], [0.8888888888888888, \"#fdca26\"], [1.0, \"#f0f921\"]], \"type\": \"histogram2dcontour\"}], \"mesh3d\": [{\"colorbar\": {\"outlinewidth\": 0, \"ticks\": \"\"}, \"type\": \"mesh3d\"}], \"parcoords\": [{\"line\": {\"colorbar\": {\"outlinewidth\": 0, \"ticks\": \"\"}}, \"type\": \"parcoords\"}], \"pie\": [{\"automargin\": true, \"type\": \"pie\"}], \"scatter\": [{\"marker\": {\"colorbar\": {\"outlinewidth\": 0, \"ticks\": \"\"}}, \"type\": \"scatter\"}], \"scatter3d\": [{\"line\": {\"colorbar\": {\"outlinewidth\": 0, \"ticks\": \"\"}}, \"marker\": {\"colorbar\": {\"outlinewidth\": 0, \"ticks\": \"\"}}, \"type\": \"scatter3d\"}], \"scattercarpet\": [{\"marker\": {\"colorbar\": {\"outlinewidth\": 0, \"ticks\": \"\"}}, \"type\": \"scattercarpet\"}], \"scattergeo\": [{\"marker\": {\"colorbar\": {\"outlinewidth\": 0, \"ticks\": \"\"}}, \"type\": \"scattergeo\"}], \"scattergl\": [{\"marker\": {\"colorbar\": {\"outlinewidth\": 0, \"ticks\": \"\"}}, \"type\": \"scattergl\"}], \"scattermapbox\": [{\"marker\": {\"colorbar\": {\"outlinewidth\": 0, \"ticks\": \"\"}}, \"type\": \"scattermapbox\"}], \"scatterpolar\": [{\"marker\": {\"colorbar\": {\"outlinewidth\": 0, \"ticks\": \"\"}}, \"type\": \"scatterpolar\"}], \"scatterpolargl\": [{\"marker\": {\"colorbar\": {\"outlinewidth\": 0, \"ticks\": \"\"}}, \"type\": \"scatterpolargl\"}], \"scatterternary\": [{\"marker\": {\"colorbar\": {\"outlinewidth\": 0, \"ticks\": \"\"}}, \"type\": \"scatterternary\"}], \"surface\": [{\"colorbar\": {\"outlinewidth\": 0, \"ticks\": \"\"}, \"colorscale\": [[0.0, \"#0d0887\"], [0.1111111111111111, \"#46039f\"], [0.2222222222222222, \"#7201a8\"], [0.3333333333333333, \"#9c179e\"], [0.4444444444444444, \"#bd3786\"], [0.5555555555555556, \"#d8576b\"], [0.6666666666666666, \"#ed7953\"], [0.7777777777777778, \"#fb9f3a\"], [0.8888888888888888, \"#fdca26\"], [1.0, \"#f0f921\"]], \"type\": \"surface\"}], \"table\": [{\"cells\": {\"fill\": {\"color\": \"#EBF0F8\"}, \"line\": {\"color\": \"white\"}}, \"header\": {\"fill\": {\"color\": \"#C8D4E3\"}, \"line\": {\"color\": \"white\"}}, \"type\": \"table\"}]}, \"layout\": {\"annotationdefaults\": {\"arrowcolor\": \"#2a3f5f\", \"arrowhead\": 0, \"arrowwidth\": 1}, \"coloraxis\": {\"colorbar\": {\"outlinewidth\": 0, \"ticks\": \"\"}}, \"colorscale\": {\"diverging\": [[0, \"#8e0152\"], [0.1, \"#c51b7d\"], [0.2, \"#de77ae\"], [0.3, \"#f1b6da\"], [0.4, \"#fde0ef\"], [0.5, \"#f7f7f7\"], [0.6, \"#e6f5d0\"], [0.7, \"#b8e186\"], [0.8, \"#7fbc41\"], [0.9, \"#4d9221\"], [1, \"#276419\"]], \"sequential\": [[0.0, \"#0d0887\"], [0.1111111111111111, \"#46039f\"], [0.2222222222222222, \"#7201a8\"], [0.3333333333333333, \"#9c179e\"], [0.4444444444444444, \"#bd3786\"], [0.5555555555555556, \"#d8576b\"], [0.6666666666666666, \"#ed7953\"], [0.7777777777777778, \"#fb9f3a\"], [0.8888888888888888, \"#fdca26\"], [1.0, \"#f0f921\"]], \"sequentialminus\": [[0.0, \"#0d0887\"], [0.1111111111111111, \"#46039f\"], [0.2222222222222222, \"#7201a8\"], [0.3333333333333333, \"#9c179e\"], [0.4444444444444444, \"#bd3786\"], [0.5555555555555556, \"#d8576b\"], [0.6666666666666666, \"#ed7953\"], [0.7777777777777778, \"#fb9f3a\"], [0.8888888888888888, \"#fdca26\"], [1.0, \"#f0f921\"]]}, \"colorway\": [\"#636efa\", \"#EF553B\", \"#00cc96\", \"#ab63fa\", \"#FFA15A\", \"#19d3f3\", \"#FF6692\", \"#B6E880\", \"#FF97FF\", \"#FECB52\"], \"font\": {\"color\": \"#2a3f5f\"}, \"geo\": {\"bgcolor\": \"white\", \"lakecolor\": \"white\", \"landcolor\": \"#E5ECF6\", \"showlakes\": true, \"showland\": true, \"subunitcolor\": \"white\"}, \"hoverlabel\": {\"align\": \"left\"}, \"hovermode\": \"closest\", \"mapbox\": {\"style\": \"light\"}, \"paper_bgcolor\": \"white\", \"plot_bgcolor\": \"#E5ECF6\", \"polar\": {\"angularaxis\": {\"gridcolor\": \"white\", \"linecolor\": \"white\", \"ticks\": \"\"}, \"bgcolor\": \"#E5ECF6\", \"radialaxis\": {\"gridcolor\": \"white\", \"linecolor\": \"white\", \"ticks\": \"\"}}, \"scene\": {\"xaxis\": {\"backgroundcolor\": \"#E5ECF6\", \"gridcolor\": \"white\", \"gridwidth\": 2, \"linecolor\": \"white\", \"showbackground\": true, \"ticks\": \"\", \"zerolinecolor\": \"white\"}, \"yaxis\": {\"backgroundcolor\": \"#E5ECF6\", \"gridcolor\": \"white\", \"gridwidth\": 2, \"linecolor\": \"white\", \"showbackground\": true, \"ticks\": \"\", \"zerolinecolor\": \"white\"}, \"zaxis\": {\"backgroundcolor\": \"#E5ECF6\", \"gridcolor\": \"white\", \"gridwidth\": 2, \"linecolor\": \"white\", \"showbackground\": true, \"ticks\": \"\", \"zerolinecolor\": \"white\"}}, \"shapedefaults\": {\"line\": {\"color\": \"#2a3f5f\"}}, \"ternary\": {\"aaxis\": {\"gridcolor\": \"white\", \"linecolor\": \"white\", \"ticks\": \"\"}, \"baxis\": {\"gridcolor\": \"white\", \"linecolor\": \"white\", \"ticks\": \"\"}, \"bgcolor\": \"#E5ECF6\", \"caxis\": {\"gridcolor\": \"white\", \"linecolor\": \"white\", \"ticks\": \"\"}}, \"title\": {\"x\": 0.05}, \"xaxis\": {\"automargin\": true, \"gridcolor\": \"white\", \"linecolor\": \"white\", \"ticks\": \"\", \"title\": {\"standoff\": 15}, \"zerolinecolor\": \"white\", \"zerolinewidth\": 2}, \"yaxis\": {\"automargin\": true, \"gridcolor\": \"white\", \"linecolor\": \"white\", \"ticks\": \"\", \"title\": {\"standoff\": 15}, \"zerolinecolor\": \"white\", \"zerolinewidth\": 2}}}, \"title\": {\"text\": \"Team Yards Per Game\", \"x\": 0.5, \"xanchor\": \"center\", \"y\": 0.95, \"yanchor\": \"top\"}, \"width\": 1000, \"xaxis\": {\"anchor\": \"y\", \"domain\": [0.0, 0.1388888888888889], \"showticklabels\": false, \"zeroline\": false}, \"xaxis10\": {\"anchor\": \"y10\", \"domain\": [0.5166666666666667, 0.6555555555555557], \"showticklabels\": false, \"zeroline\": false}, \"xaxis11\": {\"anchor\": \"y11\", \"domain\": [0.6888888888888889, 0.8277777777777777], \"showticklabels\": false, \"zeroline\": false}, \"xaxis12\": {\"anchor\": \"y12\", \"domain\": [0.861111111111111, 1.0], \"showticklabels\": false, \"zeroline\": false}, \"xaxis13\": {\"anchor\": \"y13\", \"domain\": [0.0, 0.1388888888888889], \"showticklabels\": false, \"zeroline\": false}, \"xaxis14\": {\"anchor\": \"y14\", \"domain\": [0.17222222222222222, 0.3111111111111111], \"showticklabels\": false, \"zeroline\": false}, \"xaxis15\": {\"anchor\": \"y15\", \"domain\": [0.34444444444444444, 0.48333333333333334], \"showticklabels\": false, \"zeroline\": false}, \"xaxis16\": {\"anchor\": \"y16\", \"domain\": [0.5166666666666667, 0.6555555555555557], \"showticklabels\": false, \"zeroline\": false}, \"xaxis17\": {\"anchor\": \"y17\", \"domain\": [0.6888888888888889, 0.8277777777777777], \"showticklabels\": false, \"zeroline\": false}, \"xaxis18\": {\"anchor\": \"y18\", \"domain\": [0.861111111111111, 1.0], \"showticklabels\": false, \"zeroline\": false}, \"xaxis19\": {\"anchor\": \"y19\", \"domain\": [0.0, 0.1388888888888889], \"showticklabels\": false, \"zeroline\": false}, \"xaxis2\": {\"anchor\": \"y2\", \"domain\": [0.17222222222222222, 0.3111111111111111], \"showticklabels\": false, \"zeroline\": false}, \"xaxis20\": {\"anchor\": \"y20\", \"domain\": [0.17222222222222222, 0.3111111111111111], \"showticklabels\": false, \"zeroline\": false}, \"xaxis21\": {\"anchor\": \"y21\", \"domain\": [0.34444444444444444, 0.48333333333333334], \"showticklabels\": false, \"zeroline\": false}, \"xaxis22\": {\"anchor\": \"y22\", \"domain\": [0.5166666666666667, 0.6555555555555557], \"showticklabels\": false, \"zeroline\": false}, \"xaxis23\": {\"anchor\": \"y23\", \"domain\": [0.6888888888888889, 0.8277777777777777], \"showticklabels\": false, \"zeroline\": false}, \"xaxis24\": {\"anchor\": \"y24\", \"domain\": [0.861111111111111, 1.0], \"showticklabels\": false, \"zeroline\": false}, \"xaxis25\": {\"anchor\": \"y25\", \"domain\": [0.0, 0.1388888888888889], \"showticklabels\": false, \"zeroline\": false}, \"xaxis26\": {\"anchor\": \"y26\", \"domain\": [0.17222222222222222, 0.3111111111111111], \"showticklabels\": false, \"zeroline\": false}, \"xaxis27\": {\"anchor\": \"y27\", \"domain\": [0.34444444444444444, 0.48333333333333334], \"showticklabels\": false, \"zeroline\": false}, \"xaxis28\": {\"anchor\": \"y28\", \"domain\": [0.5166666666666667, 0.6555555555555557], \"showticklabels\": false, \"zeroline\": false}, \"xaxis29\": {\"anchor\": \"y29\", \"domain\": [0.6888888888888889, 0.8277777777777777], \"showticklabels\": false, \"zeroline\": false}, \"xaxis3\": {\"anchor\": \"y3\", \"domain\": [0.34444444444444444, 0.48333333333333334], \"showticklabels\": false, \"zeroline\": false}, \"xaxis30\": {\"anchor\": \"y30\", \"domain\": [0.861111111111111, 1.0], \"showticklabels\": false, \"zeroline\": false}, \"xaxis31\": {\"anchor\": \"y31\", \"domain\": [0.0, 0.1388888888888889], \"showticklabels\": false, \"zeroline\": false}, \"xaxis32\": {\"anchor\": \"y32\", \"domain\": [0.17222222222222222, 0.3111111111111111], \"showticklabels\": false, \"zeroline\": false}, \"xaxis33\": {\"anchor\": \"y33\", \"domain\": [0.34444444444444444, 0.48333333333333334], \"showticklabels\": false, \"zeroline\": false}, \"xaxis34\": {\"anchor\": \"y34\", \"domain\": [0.5166666666666667, 0.6555555555555557], \"showticklabels\": false, \"zeroline\": false}, \"xaxis35\": {\"anchor\": \"y35\", \"domain\": [0.6888888888888889, 0.8277777777777777], \"showticklabels\": false, \"zeroline\": false}, \"xaxis36\": {\"anchor\": \"y36\", \"domain\": [0.861111111111111, 1.0], \"showticklabels\": false, \"zeroline\": false}, \"xaxis4\": {\"anchor\": \"y4\", \"domain\": [0.5166666666666667, 0.6555555555555557], \"showticklabels\": false, \"zeroline\": false}, \"xaxis5\": {\"anchor\": \"y5\", \"domain\": [0.6888888888888889, 0.8277777777777777], \"showticklabels\": false, \"zeroline\": false}, \"xaxis6\": {\"anchor\": \"y6\", \"domain\": [0.861111111111111, 1.0], \"showticklabels\": false, \"zeroline\": false}, \"xaxis7\": {\"anchor\": \"y7\", \"domain\": [0.0, 0.1388888888888889], \"showticklabels\": false, \"zeroline\": false}, \"xaxis8\": {\"anchor\": \"y8\", \"domain\": [0.17222222222222222, 0.3111111111111111], \"showticklabels\": false, \"zeroline\": false}, \"xaxis9\": {\"anchor\": \"y9\", \"domain\": [0.34444444444444444, 0.48333333333333334], \"showticklabels\": false, \"zeroline\": false}, \"yaxis\": {\"anchor\": \"x\", \"domain\": [0.9027777777777777, 0.9999999999999999], \"dtick\": 250, \"range\": [0, 1000], \"tickfont\": {\"size\": 9}}, \"yaxis10\": {\"anchor\": \"x10\", \"domain\": [0.7222222222222222, 0.8194444444444444], \"dtick\": 250, \"range\": [0, 1000], \"tickfont\": {\"size\": 9}}, \"yaxis11\": {\"anchor\": \"x11\", \"domain\": [0.7222222222222222, 0.8194444444444444], \"dtick\": 250, \"range\": [0, 1000], \"tickfont\": {\"size\": 9}}, \"yaxis12\": {\"anchor\": \"x12\", \"domain\": [0.7222222222222222, 0.8194444444444444], \"dtick\": 250, \"range\": [0, 1000], \"tickfont\": {\"size\": 9}}, \"yaxis13\": {\"anchor\": \"x13\", \"domain\": [0.5416666666666667, 0.638888888888889], \"dtick\": 250, \"range\": [0, 1000], \"tickfont\": {\"size\": 9}}, \"yaxis14\": {\"anchor\": \"x14\", \"domain\": [0.5416666666666667, 0.638888888888889], \"dtick\": 250, \"range\": [0, 1000], \"tickfont\": {\"size\": 9}}, \"yaxis15\": {\"anchor\": \"x15\", \"domain\": [0.5416666666666667, 0.638888888888889], \"dtick\": 250, \"range\": [0, 1000], \"tickfont\": {\"size\": 9}}, \"yaxis16\": {\"anchor\": \"x16\", \"domain\": [0.5416666666666667, 0.638888888888889], \"dtick\": 250, \"range\": [0, 1000], \"tickfont\": {\"size\": 9}}, \"yaxis17\": {\"anchor\": \"x17\", \"domain\": [0.5416666666666667, 0.638888888888889], \"dtick\": 250, \"range\": [0, 1000], \"tickfont\": {\"size\": 9}}, \"yaxis18\": {\"anchor\": \"x18\", \"domain\": [0.5416666666666667, 0.638888888888889], \"dtick\": 250, \"range\": [0, 1000], \"tickfont\": {\"size\": 9}}, \"yaxis19\": {\"anchor\": \"x19\", \"domain\": [0.3611111111111111, 0.4583333333333333], \"dtick\": 250, \"range\": [0, 1000], \"tickfont\": {\"size\": 9}}, \"yaxis2\": {\"anchor\": \"x2\", \"domain\": [0.9027777777777777, 0.9999999999999999], \"dtick\": 250, \"range\": [0, 1000], \"tickfont\": {\"size\": 9}}, \"yaxis20\": {\"anchor\": \"x20\", \"domain\": [0.3611111111111111, 0.4583333333333333], \"dtick\": 250, \"range\": [0, 1000], \"tickfont\": {\"size\": 9}}, \"yaxis21\": {\"anchor\": \"x21\", \"domain\": [0.3611111111111111, 0.4583333333333333], \"dtick\": 250, \"range\": [0, 1000], \"tickfont\": {\"size\": 9}}, \"yaxis22\": {\"anchor\": \"x22\", \"domain\": [0.3611111111111111, 0.4583333333333333], \"dtick\": 250, \"range\": [0, 1000], \"tickfont\": {\"size\": 9}}, \"yaxis23\": {\"anchor\": \"x23\", \"domain\": [0.3611111111111111, 0.4583333333333333], \"dtick\": 250, \"range\": [0, 1000], \"tickfont\": {\"size\": 9}}, \"yaxis24\": {\"anchor\": \"x24\", \"domain\": [0.3611111111111111, 0.4583333333333333], \"dtick\": 250, \"range\": [0, 1000], \"tickfont\": {\"size\": 9}}, \"yaxis25\": {\"anchor\": \"x25\", \"domain\": [0.18055555555555555, 0.2777777777777778], \"dtick\": 250, \"range\": [0, 1000], \"tickfont\": {\"size\": 9}}, \"yaxis26\": {\"anchor\": \"x26\", \"domain\": [0.18055555555555555, 0.2777777777777778], \"dtick\": 250, \"range\": [0, 1000], \"tickfont\": {\"size\": 9}}, \"yaxis27\": {\"anchor\": \"x27\", \"domain\": [0.18055555555555555, 0.2777777777777778], \"dtick\": 250, \"range\": [0, 1000], \"tickfont\": {\"size\": 9}}, \"yaxis28\": {\"anchor\": \"x28\", \"domain\": [0.18055555555555555, 0.2777777777777778], \"dtick\": 250, \"range\": [0, 1000], \"tickfont\": {\"size\": 9}}, \"yaxis29\": {\"anchor\": \"x29\", \"domain\": [0.18055555555555555, 0.2777777777777778], \"dtick\": 250, \"range\": [0, 1000], \"tickfont\": {\"size\": 9}}, \"yaxis3\": {\"anchor\": \"x3\", \"domain\": [0.9027777777777777, 0.9999999999999999], \"dtick\": 250, \"range\": [0, 1000], \"tickfont\": {\"size\": 9}}, \"yaxis30\": {\"anchor\": \"x30\", \"domain\": [0.18055555555555555, 0.2777777777777778], \"dtick\": 250, \"range\": [0, 1000], \"tickfont\": {\"size\": 9}}, \"yaxis31\": {\"anchor\": \"x31\", \"domain\": [0.0, 0.09722222222222222], \"dtick\": 250, \"range\": [0, 1000], \"tickfont\": {\"size\": 9}}, \"yaxis32\": {\"anchor\": \"x32\", \"domain\": [0.0, 0.09722222222222222], \"dtick\": 250, \"range\": [0, 1000], \"tickfont\": {\"size\": 9}}, \"yaxis33\": {\"anchor\": \"x33\", \"domain\": [0.0, 0.09722222222222222], \"tickfont\": {\"size\": 9}}, \"yaxis34\": {\"anchor\": \"x34\", \"domain\": [0.0, 0.09722222222222222], \"tickfont\": {\"size\": 9}}, \"yaxis35\": {\"anchor\": \"x35\", \"domain\": [0.0, 0.09722222222222222], \"tickfont\": {\"size\": 9}}, \"yaxis36\": {\"anchor\": \"x36\", \"domain\": [0.0, 0.09722222222222222], \"tickfont\": {\"size\": 9}}, \"yaxis4\": {\"anchor\": \"x4\", \"domain\": [0.9027777777777777, 0.9999999999999999], \"dtick\": 250, \"range\": [0, 1000], \"tickfont\": {\"size\": 9}}, \"yaxis5\": {\"anchor\": \"x5\", \"domain\": [0.9027777777777777, 0.9999999999999999], \"dtick\": 250, \"range\": [0, 1000], \"tickfont\": {\"size\": 9}}, \"yaxis6\": {\"anchor\": \"x6\", \"domain\": [0.9027777777777777, 0.9999999999999999], \"dtick\": 250, \"range\": [0, 1000], \"tickfont\": {\"size\": 9}}, \"yaxis7\": {\"anchor\": \"x7\", \"domain\": [0.7222222222222222, 0.8194444444444444], \"dtick\": 250, \"range\": [0, 1000], \"tickfont\": {\"size\": 9}}, \"yaxis8\": {\"anchor\": \"x8\", \"domain\": [0.7222222222222222, 0.8194444444444444], \"dtick\": 250, \"range\": [0, 1000], \"tickfont\": {\"size\": 9}}, \"yaxis9\": {\"anchor\": \"x9\", \"domain\": [0.7222222222222222, 0.8194444444444444], \"dtick\": 250, \"range\": [0, 1000], \"tickfont\": {\"size\": 9}}},\n",
       "                        {\"responsive\": true}\n",
       "                    ).then(function(){\n",
       "                            \n",
       "var gd = document.getElementById('84ee9d16-6102-41dd-af18-f35d013c69ce');\n",
       "var x = new MutationObserver(function (mutations, observer) {{\n",
       "        var display = window.getComputedStyle(gd).display;\n",
       "        if (!display || display === 'none') {{\n",
       "            console.log([gd, 'removed!']);\n",
       "            Plotly.purge(gd);\n",
       "            observer.disconnect();\n",
       "        }}\n",
       "}});\n",
       "\n",
       "// Listen for the removal of the full notebook cells\n",
       "var notebookContainer = gd.closest('#notebook-container');\n",
       "if (notebookContainer) {{\n",
       "    x.observe(notebookContainer, {childList: true});\n",
       "}}\n",
       "\n",
       "// Listen for the clearing of the current output cell\n",
       "var outputEl = gd.closest('.output');\n",
       "if (outputEl) {{\n",
       "    x.observe(outputEl, {childList: true});\n",
       "}}\n",
       "\n",
       "                        })\n",
       "                };\n",
       "                });\n",
       "            </script>\n",
       "        </div>"
      ]
     },
     "metadata": {},
     "output_type": "display_data"
    }
   ],
   "source": [
    "# Includes Penalty Yards with current approach\n",
    "fig = make_subplots(rows=6, cols=6,subplot_titles=teams)\n",
    "\n",
    "teams = list(nfl_small2_end_of_drive.groupby('posteam').sum().index)\n",
    "years = [2017,2018]\n",
    "row = 1\n",
    "col = 1\n",
    "\n",
    "for team in teams:\n",
    "    for year in years:\n",
    "    \n",
    "        x_axis = nfl_small2_end_of_drive[(nfl_small2_end_of_drive['posteam']==team) &\\\n",
    "                                    (nfl_small2_end_of_drive['year']==year)].groupby('week').sum().index\n",
    "    \n",
    "        y_axis = nfl_small2_end_of_drive[(nfl_small2_end_of_drive['posteam']==team) &\\\n",
    "                        (nfl_small2_end_of_drive['end_of_drive']==1)&\\\n",
    "                        (nfl_small2_end_of_drive['year']==year)]\\\n",
    "                        .groupby('week').sum()['ydsnet'].values\n",
    "        \n",
    "        if year == 2017:\n",
    "            color = 'red'\n",
    "        else:\n",
    "            color = 'blue'\n",
    "    \n",
    "        fig.add_trace(\n",
    "        go.Scatter(\n",
    "            x = x_axis, \n",
    "            y = y_axis, \n",
    "            mode = 'lines', \n",
    "            name = team,\n",
    "            type = \"scatter\",line_color=color),\n",
    "        row=row, col=col\n",
    "            ).update_yaxes(range=[0, 1000], dtick=250, row=row, col=col)\n",
    "    \n",
    "    if col == 6:\n",
    "        if row == 6:\n",
    "            break\n",
    "        else:\n",
    "            row += 1\n",
    "            col = 1\n",
    "    else:\n",
    "        col += 1\n",
    "        \n",
    "        \n",
    "fig.update_layout(height=700, width=1000, template='plotly')\\\n",
    "    .update_xaxes(zeroline= False,showticklabels=False)\\\n",
    "    .update_yaxes(tickfont=dict(size=9))\\\n",
    "    .update_layout(showlegend=False,title={'text': \"Team Yards Per Game\",\n",
    "                                        'y':0.95,\n",
    "                                        'x':0.5,\n",
    "                                        'xanchor': 'center',\n",
    "                                        'yanchor': 'top'})"
   ]
  },
  {
   "cell_type": "code",
   "execution_count": 157,
   "metadata": {},
   "outputs": [],
   "source": [
    "# nfl_small2_end_of_drive[(nfl_small2_end_of_drive['end_of_game'] == 1) &\\\n",
    "#                                             (nfl_small2_end_of_drive['year'] == 2017) &\\\n",
    "#                                             (nfl_small2_end_of_drive['PHI'] == 'H')]"
   ]
  },
  {
   "cell_type": "code",
   "execution_count": 158,
   "metadata": {},
   "outputs": [],
   "source": [
    "# nfl_small2_end_of_drive[(nfl_small2_end_of_drive['game_id'] == 2017092409)].tail(20)"
   ]
  },
  {
   "cell_type": "markdown",
   "metadata": {},
   "source": [
    "# Start of Report Team Stat Background"
   ]
  },
  {
   "cell_type": "code",
   "execution_count": 159,
   "metadata": {},
   "outputs": [],
   "source": [
    "nfl_small2_end_of_drive['home_team_win'] = np.where(nfl_small2_end_of_drive['total_home_score']\\\n",
    "                              > nfl_small2_end_of_drive['total_away_score'],1,0)\n",
    "\n",
    "nfl_small2_end_of_drive['away_team_win'] = np.where(nfl_small2_end_of_drive['total_home_score']\\\n",
    "                              < nfl_small2_end_of_drive['total_away_score'],1,0)\n",
    "\n"
   ]
  },
  {
   "cell_type": "code",
   "execution_count": 160,
   "metadata": {},
   "outputs": [],
   "source": [
    "# Team wins overall for sorting\n",
    "team_wins_overall = []\n",
    "\n",
    "for team in teams:\n",
    "    home_wins = sum(nfl_small2_end_of_drive[(nfl_small2_end_of_drive['end_of_game'] == 1) &\\\n",
    "                                            (nfl_small2_end_of_drive[team] == 'H')\n",
    "                                           ]['home_team_win'])\n",
    "\n",
    "    away_wins = sum(nfl_small2_end_of_drive[(nfl_small2_end_of_drive['end_of_game'] == 1) &\\\n",
    "                                                 (nfl_small2_end_of_drive[team] == 'A')\n",
    "                                           ]['away_team_win'])\n",
    "    \n",
    "    all_wins = home_wins + away_wins\n",
    "    \n",
    "    team_wins_overall.append(round(all_wins,0))\n",
    "    \n",
    "team_by_wins = pd.DataFrame({'team':teams,'wins':team_wins_overall}).sort_values(by=['wins'])"
   ]
  },
  {
   "cell_type": "code",
   "execution_count": 161,
   "metadata": {},
   "outputs": [
    {
     "data": {
      "text/html": [
       "<div>\n",
       "<style scoped>\n",
       "    .dataframe tbody tr th:only-of-type {\n",
       "        vertical-align: middle;\n",
       "    }\n",
       "\n",
       "    .dataframe tbody tr th {\n",
       "        vertical-align: top;\n",
       "    }\n",
       "\n",
       "    .dataframe thead th {\n",
       "        text-align: right;\n",
       "    }\n",
       "</style>\n",
       "<table border=\"1\" class=\"dataframe\">\n",
       "  <thead>\n",
       "    <tr style=\"text-align: right;\">\n",
       "      <th></th>\n",
       "      <th>team</th>\n",
       "      <th>wins</th>\n",
       "      <th>binned</th>\n",
       "    </tr>\n",
       "  </thead>\n",
       "  <tbody>\n",
       "    <tr>\n",
       "      <th>26</th>\n",
       "      <td>PIT</td>\n",
       "      <td>21</td>\n",
       "      <td>20+ Wins</td>\n",
       "    </tr>\n",
       "    <tr>\n",
       "      <th>18</th>\n",
       "      <td>MIA</td>\n",
       "      <td>13</td>\n",
       "      <td>19 or Less</td>\n",
       "    </tr>\n",
       "    <tr>\n",
       "      <th>1</th>\n",
       "      <td>ATL</td>\n",
       "      <td>15</td>\n",
       "      <td>19 or Less</td>\n",
       "    </tr>\n",
       "    <tr>\n",
       "      <th>25</th>\n",
       "      <td>PHI</td>\n",
       "      <td>20</td>\n",
       "      <td>20+ Wins</td>\n",
       "    </tr>\n",
       "    <tr>\n",
       "      <th>13</th>\n",
       "      <td>IND</td>\n",
       "      <td>12</td>\n",
       "      <td>12 or Less</td>\n",
       "    </tr>\n",
       "    <tr>\n",
       "      <th>27</th>\n",
       "      <td>SEA</td>\n",
       "      <td>17</td>\n",
       "      <td>19 or Less</td>\n",
       "    </tr>\n",
       "    <tr>\n",
       "      <th>9</th>\n",
       "      <td>DEN</td>\n",
       "      <td>11</td>\n",
       "      <td>12 or Less</td>\n",
       "    </tr>\n",
       "    <tr>\n",
       "      <th>14</th>\n",
       "      <td>JAX</td>\n",
       "      <td>14</td>\n",
       "      <td>19 or Less</td>\n",
       "    </tr>\n",
       "    <tr>\n",
       "      <th>19</th>\n",
       "      <td>MIN</td>\n",
       "      <td>21</td>\n",
       "      <td>20+ Wins</td>\n",
       "    </tr>\n",
       "    <tr>\n",
       "      <th>8</th>\n",
       "      <td>DAL</td>\n",
       "      <td>17</td>\n",
       "      <td>19 or Less</td>\n",
       "    </tr>\n",
       "  </tbody>\n",
       "</table>\n",
       "</div>"
      ],
      "text/plain": [
       "   team  wins      binned\n",
       "26  PIT    21    20+ Wins\n",
       "18  MIA    13  19 or Less\n",
       "1   ATL    15  19 or Less\n",
       "25  PHI    20    20+ Wins\n",
       "13  IND    12  12 or Less\n",
       "27  SEA    17  19 or Less\n",
       "9   DEN    11  12 or Less\n",
       "14  JAX    14  19 or Less\n",
       "19  MIN    21    20+ Wins\n",
       "8   DAL    17  19 or Less"
      ]
     },
     "execution_count": 161,
     "metadata": {},
     "output_type": "execute_result"
    }
   ],
   "source": [
    "bins = [0, 12, 19, 32]\n",
    "labels = ['12 or Less', '19 or Less','20+ Wins']\n",
    "team_by_wins['binned'] = pd.cut(team_by_wins['wins'], bins, labels=labels)\n",
    "\n",
    "team_by_wins.sample(10)"
   ]
  },
  {
   "cell_type": "code",
   "execution_count": 162,
   "metadata": {},
   "outputs": [],
   "source": [
    "# Team wins by year\n",
    "team_wins_2017 = []\n",
    "for team in team_by_wins['team']:\n",
    "    home_wins = sum(nfl_small2_end_of_drive[(nfl_small2_end_of_drive['end_of_game'] == 1) &\\\n",
    "                                            (nfl_small2_end_of_drive['year'] == 2017) &\\\n",
    "                                            (nfl_small2_end_of_drive[team] == 'H')\n",
    "                                           ]['home_team_win'])\n",
    "\n",
    "    away_wins = sum(nfl_small2_end_of_drive[(nfl_small2_end_of_drive['end_of_game'] == 1) &\\\n",
    "                                                 (nfl_small2_end_of_drive['year'] == 2017) &\\\n",
    "                                                 (nfl_small2_end_of_drive[team] == 'A')\n",
    "                                           ]['away_team_win'])\n",
    "    \n",
    "    all_wins = home_wins + away_wins\n",
    "    \n",
    "    team_wins_2017.append(round(all_wins,0))\n",
    "    \n",
    "team_wins_2018 = []\n",
    "for team in team_by_wins['team']:\n",
    "    home_wins = sum(nfl_small2_end_of_drive[(nfl_small2_end_of_drive['end_of_game'] == 1) &\\\n",
    "                                            (nfl_small2_end_of_drive['year'] == 2018) &\\\n",
    "                                            (nfl_small2_end_of_drive[team] == 'H')\n",
    "                                           ]['home_team_win'])\n",
    "\n",
    "    away_wins = sum(nfl_small2_end_of_drive[(nfl_small2_end_of_drive['end_of_game'] == 1) &\\\n",
    "                                                 (nfl_small2_end_of_drive['year'] == 2018) &\\\n",
    "                                                 (nfl_small2_end_of_drive[team] == 'A')\n",
    "                                           ]['away_team_win'])\n",
    "    \n",
    "    all_wins = home_wins + away_wins\n",
    "    \n",
    "    team_wins_2018.append(round(all_wins,0))"
   ]
  },
  {
   "cell_type": "code",
   "execution_count": 163,
   "metadata": {
    "scrolled": false
   },
   "outputs": [
    {
     "data": {
      "application/vnd.plotly.v1+json": {
       "config": {
        "plotlyServerURL": "https://plot.ly"
       },
       "data": [
        {
         "name": "2017",
         "type": "bar",
         "x": [
          "CLE",
          "NYG",
          "OAK",
          "NYJ",
          "TB",
          "SF",
          "ARI",
          "DEN",
          "CIN",
          "GB",
          "IND",
          "MIA",
          "JAX",
          "WAS",
          "DET",
          "BUF",
          "HOU",
          "ATL",
          "CHI",
          "CAR",
          "SEA",
          "BAL",
          "TEN",
          "DAL",
          "LAC",
          "PHI",
          "MIN",
          "PIT",
          "KC",
          "NE",
          "LA",
          "NO"
         ],
         "y": [
          0,
          3,
          6,
          5,
          5,
          6,
          8,
          5,
          6,
          7,
          4,
          6,
          10,
          7,
          9,
          9,
          4,
          10,
          5,
          11,
          9,
          9,
          9,
          9,
          9,
          13,
          13,
          13,
          10,
          13,
          11,
          11
         ]
        },
        {
         "name": "2018",
         "type": "bar",
         "x": [
          "CLE",
          "NYG",
          "OAK",
          "NYJ",
          "TB",
          "SF",
          "ARI",
          "DEN",
          "CIN",
          "GB",
          "IND",
          "MIA",
          "JAX",
          "WAS",
          "DET",
          "BUF",
          "HOU",
          "ATL",
          "CHI",
          "CAR",
          "SEA",
          "BAL",
          "TEN",
          "DAL",
          "LAC",
          "PHI",
          "MIN",
          "PIT",
          "KC",
          "NE",
          "LA",
          "NO"
         ],
         "y": [
          6,
          5,
          3,
          4,
          5,
          4,
          3,
          6,
          6,
          5,
          8,
          7,
          4,
          7,
          5,
          5,
          10,
          5,
          10,
          6,
          8,
          8,
          8,
          8,
          11,
          7,
          8,
          8,
          11,
          9,
          11,
          12
         ]
        }
       ],
       "layout": {
        "barmode": "group",
        "template": {
         "data": {
          "bar": [
           {
            "error_x": {
             "color": "#2a3f5f"
            },
            "error_y": {
             "color": "#2a3f5f"
            },
            "marker": {
             "line": {
              "color": "#E5ECF6",
              "width": 0.5
             }
            },
            "type": "bar"
           }
          ],
          "barpolar": [
           {
            "marker": {
             "line": {
              "color": "#E5ECF6",
              "width": 0.5
             }
            },
            "type": "barpolar"
           }
          ],
          "carpet": [
           {
            "aaxis": {
             "endlinecolor": "#2a3f5f",
             "gridcolor": "white",
             "linecolor": "white",
             "minorgridcolor": "white",
             "startlinecolor": "#2a3f5f"
            },
            "baxis": {
             "endlinecolor": "#2a3f5f",
             "gridcolor": "white",
             "linecolor": "white",
             "minorgridcolor": "white",
             "startlinecolor": "#2a3f5f"
            },
            "type": "carpet"
           }
          ],
          "choropleth": [
           {
            "colorbar": {
             "outlinewidth": 0,
             "ticks": ""
            },
            "type": "choropleth"
           }
          ],
          "contour": [
           {
            "colorbar": {
             "outlinewidth": 0,
             "ticks": ""
            },
            "colorscale": [
             [
              0,
              "#0d0887"
             ],
             [
              0.1111111111111111,
              "#46039f"
             ],
             [
              0.2222222222222222,
              "#7201a8"
             ],
             [
              0.3333333333333333,
              "#9c179e"
             ],
             [
              0.4444444444444444,
              "#bd3786"
             ],
             [
              0.5555555555555556,
              "#d8576b"
             ],
             [
              0.6666666666666666,
              "#ed7953"
             ],
             [
              0.7777777777777778,
              "#fb9f3a"
             ],
             [
              0.8888888888888888,
              "#fdca26"
             ],
             [
              1,
              "#f0f921"
             ]
            ],
            "type": "contour"
           }
          ],
          "contourcarpet": [
           {
            "colorbar": {
             "outlinewidth": 0,
             "ticks": ""
            },
            "type": "contourcarpet"
           }
          ],
          "heatmap": [
           {
            "colorbar": {
             "outlinewidth": 0,
             "ticks": ""
            },
            "colorscale": [
             [
              0,
              "#0d0887"
             ],
             [
              0.1111111111111111,
              "#46039f"
             ],
             [
              0.2222222222222222,
              "#7201a8"
             ],
             [
              0.3333333333333333,
              "#9c179e"
             ],
             [
              0.4444444444444444,
              "#bd3786"
             ],
             [
              0.5555555555555556,
              "#d8576b"
             ],
             [
              0.6666666666666666,
              "#ed7953"
             ],
             [
              0.7777777777777778,
              "#fb9f3a"
             ],
             [
              0.8888888888888888,
              "#fdca26"
             ],
             [
              1,
              "#f0f921"
             ]
            ],
            "type": "heatmap"
           }
          ],
          "heatmapgl": [
           {
            "colorbar": {
             "outlinewidth": 0,
             "ticks": ""
            },
            "colorscale": [
             [
              0,
              "#0d0887"
             ],
             [
              0.1111111111111111,
              "#46039f"
             ],
             [
              0.2222222222222222,
              "#7201a8"
             ],
             [
              0.3333333333333333,
              "#9c179e"
             ],
             [
              0.4444444444444444,
              "#bd3786"
             ],
             [
              0.5555555555555556,
              "#d8576b"
             ],
             [
              0.6666666666666666,
              "#ed7953"
             ],
             [
              0.7777777777777778,
              "#fb9f3a"
             ],
             [
              0.8888888888888888,
              "#fdca26"
             ],
             [
              1,
              "#f0f921"
             ]
            ],
            "type": "heatmapgl"
           }
          ],
          "histogram": [
           {
            "marker": {
             "colorbar": {
              "outlinewidth": 0,
              "ticks": ""
             }
            },
            "type": "histogram"
           }
          ],
          "histogram2d": [
           {
            "colorbar": {
             "outlinewidth": 0,
             "ticks": ""
            },
            "colorscale": [
             [
              0,
              "#0d0887"
             ],
             [
              0.1111111111111111,
              "#46039f"
             ],
             [
              0.2222222222222222,
              "#7201a8"
             ],
             [
              0.3333333333333333,
              "#9c179e"
             ],
             [
              0.4444444444444444,
              "#bd3786"
             ],
             [
              0.5555555555555556,
              "#d8576b"
             ],
             [
              0.6666666666666666,
              "#ed7953"
             ],
             [
              0.7777777777777778,
              "#fb9f3a"
             ],
             [
              0.8888888888888888,
              "#fdca26"
             ],
             [
              1,
              "#f0f921"
             ]
            ],
            "type": "histogram2d"
           }
          ],
          "histogram2dcontour": [
           {
            "colorbar": {
             "outlinewidth": 0,
             "ticks": ""
            },
            "colorscale": [
             [
              0,
              "#0d0887"
             ],
             [
              0.1111111111111111,
              "#46039f"
             ],
             [
              0.2222222222222222,
              "#7201a8"
             ],
             [
              0.3333333333333333,
              "#9c179e"
             ],
             [
              0.4444444444444444,
              "#bd3786"
             ],
             [
              0.5555555555555556,
              "#d8576b"
             ],
             [
              0.6666666666666666,
              "#ed7953"
             ],
             [
              0.7777777777777778,
              "#fb9f3a"
             ],
             [
              0.8888888888888888,
              "#fdca26"
             ],
             [
              1,
              "#f0f921"
             ]
            ],
            "type": "histogram2dcontour"
           }
          ],
          "mesh3d": [
           {
            "colorbar": {
             "outlinewidth": 0,
             "ticks": ""
            },
            "type": "mesh3d"
           }
          ],
          "parcoords": [
           {
            "line": {
             "colorbar": {
              "outlinewidth": 0,
              "ticks": ""
             }
            },
            "type": "parcoords"
           }
          ],
          "pie": [
           {
            "automargin": true,
            "type": "pie"
           }
          ],
          "scatter": [
           {
            "marker": {
             "colorbar": {
              "outlinewidth": 0,
              "ticks": ""
             }
            },
            "type": "scatter"
           }
          ],
          "scatter3d": [
           {
            "line": {
             "colorbar": {
              "outlinewidth": 0,
              "ticks": ""
             }
            },
            "marker": {
             "colorbar": {
              "outlinewidth": 0,
              "ticks": ""
             }
            },
            "type": "scatter3d"
           }
          ],
          "scattercarpet": [
           {
            "marker": {
             "colorbar": {
              "outlinewidth": 0,
              "ticks": ""
             }
            },
            "type": "scattercarpet"
           }
          ],
          "scattergeo": [
           {
            "marker": {
             "colorbar": {
              "outlinewidth": 0,
              "ticks": ""
             }
            },
            "type": "scattergeo"
           }
          ],
          "scattergl": [
           {
            "marker": {
             "colorbar": {
              "outlinewidth": 0,
              "ticks": ""
             }
            },
            "type": "scattergl"
           }
          ],
          "scattermapbox": [
           {
            "marker": {
             "colorbar": {
              "outlinewidth": 0,
              "ticks": ""
             }
            },
            "type": "scattermapbox"
           }
          ],
          "scatterpolar": [
           {
            "marker": {
             "colorbar": {
              "outlinewidth": 0,
              "ticks": ""
             }
            },
            "type": "scatterpolar"
           }
          ],
          "scatterpolargl": [
           {
            "marker": {
             "colorbar": {
              "outlinewidth": 0,
              "ticks": ""
             }
            },
            "type": "scatterpolargl"
           }
          ],
          "scatterternary": [
           {
            "marker": {
             "colorbar": {
              "outlinewidth": 0,
              "ticks": ""
             }
            },
            "type": "scatterternary"
           }
          ],
          "surface": [
           {
            "colorbar": {
             "outlinewidth": 0,
             "ticks": ""
            },
            "colorscale": [
             [
              0,
              "#0d0887"
             ],
             [
              0.1111111111111111,
              "#46039f"
             ],
             [
              0.2222222222222222,
              "#7201a8"
             ],
             [
              0.3333333333333333,
              "#9c179e"
             ],
             [
              0.4444444444444444,
              "#bd3786"
             ],
             [
              0.5555555555555556,
              "#d8576b"
             ],
             [
              0.6666666666666666,
              "#ed7953"
             ],
             [
              0.7777777777777778,
              "#fb9f3a"
             ],
             [
              0.8888888888888888,
              "#fdca26"
             ],
             [
              1,
              "#f0f921"
             ]
            ],
            "type": "surface"
           }
          ],
          "table": [
           {
            "cells": {
             "fill": {
              "color": "#EBF0F8"
             },
             "line": {
              "color": "white"
             }
            },
            "header": {
             "fill": {
              "color": "#C8D4E3"
             },
             "line": {
              "color": "white"
             }
            },
            "type": "table"
           }
          ]
         },
         "layout": {
          "annotationdefaults": {
           "arrowcolor": "#2a3f5f",
           "arrowhead": 0,
           "arrowwidth": 1
          },
          "coloraxis": {
           "colorbar": {
            "outlinewidth": 0,
            "ticks": ""
           }
          },
          "colorscale": {
           "diverging": [
            [
             0,
             "#8e0152"
            ],
            [
             0.1,
             "#c51b7d"
            ],
            [
             0.2,
             "#de77ae"
            ],
            [
             0.3,
             "#f1b6da"
            ],
            [
             0.4,
             "#fde0ef"
            ],
            [
             0.5,
             "#f7f7f7"
            ],
            [
             0.6,
             "#e6f5d0"
            ],
            [
             0.7,
             "#b8e186"
            ],
            [
             0.8,
             "#7fbc41"
            ],
            [
             0.9,
             "#4d9221"
            ],
            [
             1,
             "#276419"
            ]
           ],
           "sequential": [
            [
             0,
             "#0d0887"
            ],
            [
             0.1111111111111111,
             "#46039f"
            ],
            [
             0.2222222222222222,
             "#7201a8"
            ],
            [
             0.3333333333333333,
             "#9c179e"
            ],
            [
             0.4444444444444444,
             "#bd3786"
            ],
            [
             0.5555555555555556,
             "#d8576b"
            ],
            [
             0.6666666666666666,
             "#ed7953"
            ],
            [
             0.7777777777777778,
             "#fb9f3a"
            ],
            [
             0.8888888888888888,
             "#fdca26"
            ],
            [
             1,
             "#f0f921"
            ]
           ],
           "sequentialminus": [
            [
             0,
             "#0d0887"
            ],
            [
             0.1111111111111111,
             "#46039f"
            ],
            [
             0.2222222222222222,
             "#7201a8"
            ],
            [
             0.3333333333333333,
             "#9c179e"
            ],
            [
             0.4444444444444444,
             "#bd3786"
            ],
            [
             0.5555555555555556,
             "#d8576b"
            ],
            [
             0.6666666666666666,
             "#ed7953"
            ],
            [
             0.7777777777777778,
             "#fb9f3a"
            ],
            [
             0.8888888888888888,
             "#fdca26"
            ],
            [
             1,
             "#f0f921"
            ]
           ]
          },
          "colorway": [
           "#636efa",
           "#EF553B",
           "#00cc96",
           "#ab63fa",
           "#FFA15A",
           "#19d3f3",
           "#FF6692",
           "#B6E880",
           "#FF97FF",
           "#FECB52"
          ],
          "font": {
           "color": "#2a3f5f"
          },
          "geo": {
           "bgcolor": "white",
           "lakecolor": "white",
           "landcolor": "#E5ECF6",
           "showlakes": true,
           "showland": true,
           "subunitcolor": "white"
          },
          "hoverlabel": {
           "align": "left"
          },
          "hovermode": "closest",
          "mapbox": {
           "style": "light"
          },
          "paper_bgcolor": "white",
          "plot_bgcolor": "#E5ECF6",
          "polar": {
           "angularaxis": {
            "gridcolor": "white",
            "linecolor": "white",
            "ticks": ""
           },
           "bgcolor": "#E5ECF6",
           "radialaxis": {
            "gridcolor": "white",
            "linecolor": "white",
            "ticks": ""
           }
          },
          "scene": {
           "xaxis": {
            "backgroundcolor": "#E5ECF6",
            "gridcolor": "white",
            "gridwidth": 2,
            "linecolor": "white",
            "showbackground": true,
            "ticks": "",
            "zerolinecolor": "white"
           },
           "yaxis": {
            "backgroundcolor": "#E5ECF6",
            "gridcolor": "white",
            "gridwidth": 2,
            "linecolor": "white",
            "showbackground": true,
            "ticks": "",
            "zerolinecolor": "white"
           },
           "zaxis": {
            "backgroundcolor": "#E5ECF6",
            "gridcolor": "white",
            "gridwidth": 2,
            "linecolor": "white",
            "showbackground": true,
            "ticks": "",
            "zerolinecolor": "white"
           }
          },
          "shapedefaults": {
           "line": {
            "color": "#2a3f5f"
           }
          },
          "ternary": {
           "aaxis": {
            "gridcolor": "white",
            "linecolor": "white",
            "ticks": ""
           },
           "baxis": {
            "gridcolor": "white",
            "linecolor": "white",
            "ticks": ""
           },
           "bgcolor": "#E5ECF6",
           "caxis": {
            "gridcolor": "white",
            "linecolor": "white",
            "ticks": ""
           }
          },
          "title": {
           "x": 0.05
          },
          "xaxis": {
           "automargin": true,
           "gridcolor": "white",
           "linecolor": "white",
           "ticks": "",
           "title": {
            "standoff": 15
           },
           "zerolinecolor": "white",
           "zerolinewidth": 2
          },
          "yaxis": {
           "automargin": true,
           "gridcolor": "white",
           "linecolor": "white",
           "ticks": "",
           "title": {
            "standoff": 15
           },
           "zerolinecolor": "white",
           "zerolinewidth": 2
          }
         }
        },
        "title": {
         "text": "Total Wins by Year",
         "x": 0.5,
         "xanchor": "center",
         "y": 0.95,
         "yanchor": "top"
        }
       }
      },
      "text/html": [
       "<div>\n",
       "        \n",
       "        \n",
       "            <div id=\"49335c96-ebf6-46c9-bab3-4537ebddc760\" class=\"plotly-graph-div\" style=\"height:525px; width:100%;\"></div>\n",
       "            <script type=\"text/javascript\">\n",
       "                require([\"plotly\"], function(Plotly) {\n",
       "                    window.PLOTLYENV=window.PLOTLYENV || {};\n",
       "                    \n",
       "                if (document.getElementById(\"49335c96-ebf6-46c9-bab3-4537ebddc760\")) {\n",
       "                    Plotly.newPlot(\n",
       "                        '49335c96-ebf6-46c9-bab3-4537ebddc760',\n",
       "                        [{\"name\": \"2017\", \"type\": \"bar\", \"x\": [\"CLE\", \"NYG\", \"OAK\", \"NYJ\", \"TB\", \"SF\", \"ARI\", \"DEN\", \"CIN\", \"GB\", \"IND\", \"MIA\", \"JAX\", \"WAS\", \"DET\", \"BUF\", \"HOU\", \"ATL\", \"CHI\", \"CAR\", \"SEA\", \"BAL\", \"TEN\", \"DAL\", \"LAC\", \"PHI\", \"MIN\", \"PIT\", \"KC\", \"NE\", \"LA\", \"NO\"], \"y\": [0, 3, 6, 5, 5, 6, 8, 5, 6, 7, 4, 6, 10, 7, 9, 9, 4, 10, 5, 11, 9, 9, 9, 9, 9, 13, 13, 13, 10, 13, 11, 11]}, {\"name\": \"2018\", \"type\": \"bar\", \"x\": [\"CLE\", \"NYG\", \"OAK\", \"NYJ\", \"TB\", \"SF\", \"ARI\", \"DEN\", \"CIN\", \"GB\", \"IND\", \"MIA\", \"JAX\", \"WAS\", \"DET\", \"BUF\", \"HOU\", \"ATL\", \"CHI\", \"CAR\", \"SEA\", \"BAL\", \"TEN\", \"DAL\", \"LAC\", \"PHI\", \"MIN\", \"PIT\", \"KC\", \"NE\", \"LA\", \"NO\"], \"y\": [6, 5, 3, 4, 5, 4, 3, 6, 6, 5, 8, 7, 4, 7, 5, 5, 10, 5, 10, 6, 8, 8, 8, 8, 11, 7, 8, 8, 11, 9, 11, 12]}],\n",
       "                        {\"barmode\": \"group\", \"template\": {\"data\": {\"bar\": [{\"error_x\": {\"color\": \"#2a3f5f\"}, \"error_y\": {\"color\": \"#2a3f5f\"}, \"marker\": {\"line\": {\"color\": \"#E5ECF6\", \"width\": 0.5}}, \"type\": \"bar\"}], \"barpolar\": [{\"marker\": {\"line\": {\"color\": \"#E5ECF6\", \"width\": 0.5}}, \"type\": \"barpolar\"}], \"carpet\": [{\"aaxis\": {\"endlinecolor\": \"#2a3f5f\", \"gridcolor\": \"white\", \"linecolor\": \"white\", \"minorgridcolor\": \"white\", \"startlinecolor\": \"#2a3f5f\"}, \"baxis\": {\"endlinecolor\": \"#2a3f5f\", \"gridcolor\": \"white\", \"linecolor\": \"white\", \"minorgridcolor\": \"white\", \"startlinecolor\": \"#2a3f5f\"}, \"type\": \"carpet\"}], \"choropleth\": [{\"colorbar\": {\"outlinewidth\": 0, \"ticks\": \"\"}, \"type\": \"choropleth\"}], \"contour\": [{\"colorbar\": {\"outlinewidth\": 0, \"ticks\": \"\"}, \"colorscale\": [[0.0, \"#0d0887\"], [0.1111111111111111, \"#46039f\"], [0.2222222222222222, \"#7201a8\"], [0.3333333333333333, \"#9c179e\"], [0.4444444444444444, \"#bd3786\"], [0.5555555555555556, \"#d8576b\"], [0.6666666666666666, \"#ed7953\"], [0.7777777777777778, \"#fb9f3a\"], [0.8888888888888888, \"#fdca26\"], [1.0, \"#f0f921\"]], \"type\": \"contour\"}], \"contourcarpet\": [{\"colorbar\": {\"outlinewidth\": 0, \"ticks\": \"\"}, \"type\": \"contourcarpet\"}], \"heatmap\": [{\"colorbar\": {\"outlinewidth\": 0, \"ticks\": \"\"}, \"colorscale\": [[0.0, \"#0d0887\"], [0.1111111111111111, \"#46039f\"], [0.2222222222222222, \"#7201a8\"], [0.3333333333333333, \"#9c179e\"], [0.4444444444444444, \"#bd3786\"], [0.5555555555555556, \"#d8576b\"], [0.6666666666666666, \"#ed7953\"], [0.7777777777777778, \"#fb9f3a\"], [0.8888888888888888, \"#fdca26\"], [1.0, \"#f0f921\"]], \"type\": \"heatmap\"}], \"heatmapgl\": [{\"colorbar\": {\"outlinewidth\": 0, \"ticks\": \"\"}, \"colorscale\": [[0.0, \"#0d0887\"], [0.1111111111111111, \"#46039f\"], [0.2222222222222222, \"#7201a8\"], [0.3333333333333333, \"#9c179e\"], [0.4444444444444444, \"#bd3786\"], [0.5555555555555556, \"#d8576b\"], [0.6666666666666666, \"#ed7953\"], [0.7777777777777778, \"#fb9f3a\"], [0.8888888888888888, \"#fdca26\"], [1.0, \"#f0f921\"]], \"type\": \"heatmapgl\"}], \"histogram\": [{\"marker\": {\"colorbar\": {\"outlinewidth\": 0, \"ticks\": \"\"}}, \"type\": \"histogram\"}], \"histogram2d\": [{\"colorbar\": {\"outlinewidth\": 0, \"ticks\": \"\"}, \"colorscale\": [[0.0, \"#0d0887\"], [0.1111111111111111, \"#46039f\"], [0.2222222222222222, \"#7201a8\"], [0.3333333333333333, \"#9c179e\"], [0.4444444444444444, \"#bd3786\"], [0.5555555555555556, \"#d8576b\"], [0.6666666666666666, \"#ed7953\"], [0.7777777777777778, \"#fb9f3a\"], [0.8888888888888888, \"#fdca26\"], [1.0, \"#f0f921\"]], \"type\": \"histogram2d\"}], \"histogram2dcontour\": [{\"colorbar\": {\"outlinewidth\": 0, \"ticks\": \"\"}, \"colorscale\": [[0.0, \"#0d0887\"], [0.1111111111111111, \"#46039f\"], [0.2222222222222222, \"#7201a8\"], [0.3333333333333333, \"#9c179e\"], [0.4444444444444444, \"#bd3786\"], [0.5555555555555556, \"#d8576b\"], [0.6666666666666666, \"#ed7953\"], [0.7777777777777778, \"#fb9f3a\"], [0.8888888888888888, \"#fdca26\"], [1.0, \"#f0f921\"]], \"type\": \"histogram2dcontour\"}], \"mesh3d\": [{\"colorbar\": {\"outlinewidth\": 0, \"ticks\": \"\"}, \"type\": \"mesh3d\"}], \"parcoords\": [{\"line\": {\"colorbar\": {\"outlinewidth\": 0, \"ticks\": \"\"}}, \"type\": \"parcoords\"}], \"pie\": [{\"automargin\": true, \"type\": \"pie\"}], \"scatter\": [{\"marker\": {\"colorbar\": {\"outlinewidth\": 0, \"ticks\": \"\"}}, \"type\": \"scatter\"}], \"scatter3d\": [{\"line\": {\"colorbar\": {\"outlinewidth\": 0, \"ticks\": \"\"}}, \"marker\": {\"colorbar\": {\"outlinewidth\": 0, \"ticks\": \"\"}}, \"type\": \"scatter3d\"}], \"scattercarpet\": [{\"marker\": {\"colorbar\": {\"outlinewidth\": 0, \"ticks\": \"\"}}, \"type\": \"scattercarpet\"}], \"scattergeo\": [{\"marker\": {\"colorbar\": {\"outlinewidth\": 0, \"ticks\": \"\"}}, \"type\": \"scattergeo\"}], \"scattergl\": [{\"marker\": {\"colorbar\": {\"outlinewidth\": 0, \"ticks\": \"\"}}, \"type\": \"scattergl\"}], \"scattermapbox\": [{\"marker\": {\"colorbar\": {\"outlinewidth\": 0, \"ticks\": \"\"}}, \"type\": \"scattermapbox\"}], \"scatterpolar\": [{\"marker\": {\"colorbar\": {\"outlinewidth\": 0, \"ticks\": \"\"}}, \"type\": \"scatterpolar\"}], \"scatterpolargl\": [{\"marker\": {\"colorbar\": {\"outlinewidth\": 0, \"ticks\": \"\"}}, \"type\": \"scatterpolargl\"}], \"scatterternary\": [{\"marker\": {\"colorbar\": {\"outlinewidth\": 0, \"ticks\": \"\"}}, \"type\": \"scatterternary\"}], \"surface\": [{\"colorbar\": {\"outlinewidth\": 0, \"ticks\": \"\"}, \"colorscale\": [[0.0, \"#0d0887\"], [0.1111111111111111, \"#46039f\"], [0.2222222222222222, \"#7201a8\"], [0.3333333333333333, \"#9c179e\"], [0.4444444444444444, \"#bd3786\"], [0.5555555555555556, \"#d8576b\"], [0.6666666666666666, \"#ed7953\"], [0.7777777777777778, \"#fb9f3a\"], [0.8888888888888888, \"#fdca26\"], [1.0, \"#f0f921\"]], \"type\": \"surface\"}], \"table\": [{\"cells\": {\"fill\": {\"color\": \"#EBF0F8\"}, \"line\": {\"color\": \"white\"}}, \"header\": {\"fill\": {\"color\": \"#C8D4E3\"}, \"line\": {\"color\": \"white\"}}, \"type\": \"table\"}]}, \"layout\": {\"annotationdefaults\": {\"arrowcolor\": \"#2a3f5f\", \"arrowhead\": 0, \"arrowwidth\": 1}, \"coloraxis\": {\"colorbar\": {\"outlinewidth\": 0, \"ticks\": \"\"}}, \"colorscale\": {\"diverging\": [[0, \"#8e0152\"], [0.1, \"#c51b7d\"], [0.2, \"#de77ae\"], [0.3, \"#f1b6da\"], [0.4, \"#fde0ef\"], [0.5, \"#f7f7f7\"], [0.6, \"#e6f5d0\"], [0.7, \"#b8e186\"], [0.8, \"#7fbc41\"], [0.9, \"#4d9221\"], [1, \"#276419\"]], \"sequential\": [[0.0, \"#0d0887\"], [0.1111111111111111, \"#46039f\"], [0.2222222222222222, \"#7201a8\"], [0.3333333333333333, \"#9c179e\"], [0.4444444444444444, \"#bd3786\"], [0.5555555555555556, \"#d8576b\"], [0.6666666666666666, \"#ed7953\"], [0.7777777777777778, \"#fb9f3a\"], [0.8888888888888888, \"#fdca26\"], [1.0, \"#f0f921\"]], \"sequentialminus\": [[0.0, \"#0d0887\"], [0.1111111111111111, \"#46039f\"], [0.2222222222222222, \"#7201a8\"], [0.3333333333333333, \"#9c179e\"], [0.4444444444444444, \"#bd3786\"], [0.5555555555555556, \"#d8576b\"], [0.6666666666666666, \"#ed7953\"], [0.7777777777777778, \"#fb9f3a\"], [0.8888888888888888, \"#fdca26\"], [1.0, \"#f0f921\"]]}, \"colorway\": [\"#636efa\", \"#EF553B\", \"#00cc96\", \"#ab63fa\", \"#FFA15A\", \"#19d3f3\", \"#FF6692\", \"#B6E880\", \"#FF97FF\", \"#FECB52\"], \"font\": {\"color\": \"#2a3f5f\"}, \"geo\": {\"bgcolor\": \"white\", \"lakecolor\": \"white\", \"landcolor\": \"#E5ECF6\", \"showlakes\": true, \"showland\": true, \"subunitcolor\": \"white\"}, \"hoverlabel\": {\"align\": \"left\"}, \"hovermode\": \"closest\", \"mapbox\": {\"style\": \"light\"}, \"paper_bgcolor\": \"white\", \"plot_bgcolor\": \"#E5ECF6\", \"polar\": {\"angularaxis\": {\"gridcolor\": \"white\", \"linecolor\": \"white\", \"ticks\": \"\"}, \"bgcolor\": \"#E5ECF6\", \"radialaxis\": {\"gridcolor\": \"white\", \"linecolor\": \"white\", \"ticks\": \"\"}}, \"scene\": {\"xaxis\": {\"backgroundcolor\": \"#E5ECF6\", \"gridcolor\": \"white\", \"gridwidth\": 2, \"linecolor\": \"white\", \"showbackground\": true, \"ticks\": \"\", \"zerolinecolor\": \"white\"}, \"yaxis\": {\"backgroundcolor\": \"#E5ECF6\", \"gridcolor\": \"white\", \"gridwidth\": 2, \"linecolor\": \"white\", \"showbackground\": true, \"ticks\": \"\", \"zerolinecolor\": \"white\"}, \"zaxis\": {\"backgroundcolor\": \"#E5ECF6\", \"gridcolor\": \"white\", \"gridwidth\": 2, \"linecolor\": \"white\", \"showbackground\": true, \"ticks\": \"\", \"zerolinecolor\": \"white\"}}, \"shapedefaults\": {\"line\": {\"color\": \"#2a3f5f\"}}, \"ternary\": {\"aaxis\": {\"gridcolor\": \"white\", \"linecolor\": \"white\", \"ticks\": \"\"}, \"baxis\": {\"gridcolor\": \"white\", \"linecolor\": \"white\", \"ticks\": \"\"}, \"bgcolor\": \"#E5ECF6\", \"caxis\": {\"gridcolor\": \"white\", \"linecolor\": \"white\", \"ticks\": \"\"}}, \"title\": {\"x\": 0.05}, \"xaxis\": {\"automargin\": true, \"gridcolor\": \"white\", \"linecolor\": \"white\", \"ticks\": \"\", \"title\": {\"standoff\": 15}, \"zerolinecolor\": \"white\", \"zerolinewidth\": 2}, \"yaxis\": {\"automargin\": true, \"gridcolor\": \"white\", \"linecolor\": \"white\", \"ticks\": \"\", \"title\": {\"standoff\": 15}, \"zerolinecolor\": \"white\", \"zerolinewidth\": 2}}}, \"title\": {\"text\": \"Total Wins by Year\", \"x\": 0.5, \"xanchor\": \"center\", \"y\": 0.95, \"yanchor\": \"top\"}},\n",
       "                        {\"responsive\": true}\n",
       "                    ).then(function(){\n",
       "                            \n",
       "var gd = document.getElementById('49335c96-ebf6-46c9-bab3-4537ebddc760');\n",
       "var x = new MutationObserver(function (mutations, observer) {{\n",
       "        var display = window.getComputedStyle(gd).display;\n",
       "        if (!display || display === 'none') {{\n",
       "            console.log([gd, 'removed!']);\n",
       "            Plotly.purge(gd);\n",
       "            observer.disconnect();\n",
       "        }}\n",
       "}});\n",
       "\n",
       "// Listen for the removal of the full notebook cells\n",
       "var notebookContainer = gd.closest('#notebook-container');\n",
       "if (notebookContainer) {{\n",
       "    x.observe(notebookContainer, {childList: true});\n",
       "}}\n",
       "\n",
       "// Listen for the clearing of the current output cell\n",
       "var outputEl = gd.closest('.output');\n",
       "if (outputEl) {{\n",
       "    x.observe(outputEl, {childList: true});\n",
       "}}\n",
       "\n",
       "                        })\n",
       "                };\n",
       "                });\n",
       "            </script>\n",
       "        </div>"
      ]
     },
     "metadata": {},
     "output_type": "display_data"
    }
   ],
   "source": [
    "fig = go.Figure(data=[go.Bar(name='2017', x = team_by_wins['team'], y = team_wins_2017),\\\n",
    "                      go.Bar(name='2018', x = team_by_wins['team'], y = team_wins_2018)])\n",
    "\n",
    "layout = go.Layout(\n",
    "    title = 'Total Wins (2017 & 2018)',\n",
    "    xaxis= dict(title= 'Team',ticklen= 1,zeroline= False),\n",
    "    yaxis= dict(title= 'Wins',ticklen= 5,zeroline= False)\n",
    ")\n",
    "\n",
    "fig.update_layout(\n",
    "    title={\n",
    "        'text':'Total Wins by Year',\n",
    "        'y':0.95,\n",
    "        'x':0.5,\n",
    "        'xanchor': 'center',\n",
    "        'yanchor': 'top'},\n",
    "        barmode='group')\n",
    "fig"
   ]
  },
  {
   "cell_type": "markdown",
   "metadata": {},
   "source": [
    "You have a few distinct groups of teams based on number of wins. You have the \"underacheivers\" with 6 or less wins per season, you have the \"middle of the pack\" with 10 or less wins per season, and you have the \"overachievers\" with 10+ wins per season."
   ]
  },
  {
   "cell_type": "code",
   "execution_count": 164,
   "metadata": {},
   "outputs": [],
   "source": [
    "yd_avg2017 = []\n",
    "for team in team_by_wins['team']:\n",
    "    yd_avg2017.append(round(np.mean(nfl_small2_end_of_drive[(nfl_small2_end_of_drive['posteam']==team) &\\\n",
    "                                                        (nfl_small2_end_of_drive['year']==2017)&\\\n",
    "                                                        (nfl_small2_end_of_drive['end_of_drive']==1)]\\\n",
    "                    .groupby('week').sum()['ydsnet'].values),0))\n",
    "    \n",
    "yd_avg2018 = []\n",
    "for team in team_by_wins['team']:\n",
    "    yd_avg2018.append(round(np.mean(nfl_small2_end_of_drive[(nfl_small2_end_of_drive['posteam']==team) &\\\n",
    "                                                        (nfl_small2_end_of_drive['year']==2018)&\\\n",
    "                                                        (nfl_small2_end_of_drive['end_of_drive']==1)]\\\n",
    "                    .groupby('week').sum()['ydsnet'].values),0))"
   ]
  },
  {
   "cell_type": "code",
   "execution_count": 165,
   "metadata": {
    "code_folding": []
   },
   "outputs": [
    {
     "data": {
      "application/vnd.plotly.v1+json": {
       "config": {
        "plotlyServerURL": "https://plot.ly"
       },
       "data": [
        {
         "name": "2017",
         "type": "bar",
         "x": [
          "CLE",
          "NYG",
          "OAK",
          "NYJ",
          "TB",
          "SF",
          "ARI",
          "DEN",
          "CIN",
          "GB",
          "IND",
          "MIA",
          "JAX",
          "WAS",
          "DET",
          "BUF",
          "HOU",
          "ATL",
          "CHI",
          "CAR",
          "SEA",
          "BAL",
          "TEN",
          "DAL",
          "LAC",
          "PHI",
          "MIN",
          "PIT",
          "KC",
          "NE",
          "LA",
          "NO"
         ],
         "y": [
          308,
          382,
          319,
          328,
          360,
          362,
          371,
          340,
          301,
          332,
          302,
          370,
          371,
          319,
          387,
          318,
          355,
          385,
          315,
          378,
          319,
          334,
          317,
          384,
          408,
          391,
          388,
          385,
          372,
          433,
          362,
          383
         ]
        },
        {
         "name": "2018",
         "type": "bar",
         "x": [
          "CLE",
          "NYG",
          "OAK",
          "NYJ",
          "TB",
          "SF",
          "ARI",
          "DEN",
          "CIN",
          "GB",
          "IND",
          "MIA",
          "JAX",
          "WAS",
          "DET",
          "BUF",
          "HOU",
          "ATL",
          "CHI",
          "CAR",
          "SEA",
          "BAL",
          "TEN",
          "DAL",
          "LAC",
          "PHI",
          "MIN",
          "PIT",
          "KC",
          "NE",
          "LA",
          "NO"
         ],
         "y": [
          384,
          403,
          361,
          288,
          448,
          368,
          258,
          350,
          378,
          394,
          447,
          296,
          331,
          329,
          397,
          316,
          363,
          449,
          422,
          463,
          377,
          396,
          336,
          392,
          416,
          383,
          379,
          446,
          425,
          398,
          458,
          457
         ]
        }
       ],
       "layout": {
        "barmode": "group",
        "template": {
         "data": {
          "bar": [
           {
            "error_x": {
             "color": "#2a3f5f"
            },
            "error_y": {
             "color": "#2a3f5f"
            },
            "marker": {
             "line": {
              "color": "#E5ECF6",
              "width": 0.5
             }
            },
            "type": "bar"
           }
          ],
          "barpolar": [
           {
            "marker": {
             "line": {
              "color": "#E5ECF6",
              "width": 0.5
             }
            },
            "type": "barpolar"
           }
          ],
          "carpet": [
           {
            "aaxis": {
             "endlinecolor": "#2a3f5f",
             "gridcolor": "white",
             "linecolor": "white",
             "minorgridcolor": "white",
             "startlinecolor": "#2a3f5f"
            },
            "baxis": {
             "endlinecolor": "#2a3f5f",
             "gridcolor": "white",
             "linecolor": "white",
             "minorgridcolor": "white",
             "startlinecolor": "#2a3f5f"
            },
            "type": "carpet"
           }
          ],
          "choropleth": [
           {
            "colorbar": {
             "outlinewidth": 0,
             "ticks": ""
            },
            "type": "choropleth"
           }
          ],
          "contour": [
           {
            "colorbar": {
             "outlinewidth": 0,
             "ticks": ""
            },
            "colorscale": [
             [
              0,
              "#0d0887"
             ],
             [
              0.1111111111111111,
              "#46039f"
             ],
             [
              0.2222222222222222,
              "#7201a8"
             ],
             [
              0.3333333333333333,
              "#9c179e"
             ],
             [
              0.4444444444444444,
              "#bd3786"
             ],
             [
              0.5555555555555556,
              "#d8576b"
             ],
             [
              0.6666666666666666,
              "#ed7953"
             ],
             [
              0.7777777777777778,
              "#fb9f3a"
             ],
             [
              0.8888888888888888,
              "#fdca26"
             ],
             [
              1,
              "#f0f921"
             ]
            ],
            "type": "contour"
           }
          ],
          "contourcarpet": [
           {
            "colorbar": {
             "outlinewidth": 0,
             "ticks": ""
            },
            "type": "contourcarpet"
           }
          ],
          "heatmap": [
           {
            "colorbar": {
             "outlinewidth": 0,
             "ticks": ""
            },
            "colorscale": [
             [
              0,
              "#0d0887"
             ],
             [
              0.1111111111111111,
              "#46039f"
             ],
             [
              0.2222222222222222,
              "#7201a8"
             ],
             [
              0.3333333333333333,
              "#9c179e"
             ],
             [
              0.4444444444444444,
              "#bd3786"
             ],
             [
              0.5555555555555556,
              "#d8576b"
             ],
             [
              0.6666666666666666,
              "#ed7953"
             ],
             [
              0.7777777777777778,
              "#fb9f3a"
             ],
             [
              0.8888888888888888,
              "#fdca26"
             ],
             [
              1,
              "#f0f921"
             ]
            ],
            "type": "heatmap"
           }
          ],
          "heatmapgl": [
           {
            "colorbar": {
             "outlinewidth": 0,
             "ticks": ""
            },
            "colorscale": [
             [
              0,
              "#0d0887"
             ],
             [
              0.1111111111111111,
              "#46039f"
             ],
             [
              0.2222222222222222,
              "#7201a8"
             ],
             [
              0.3333333333333333,
              "#9c179e"
             ],
             [
              0.4444444444444444,
              "#bd3786"
             ],
             [
              0.5555555555555556,
              "#d8576b"
             ],
             [
              0.6666666666666666,
              "#ed7953"
             ],
             [
              0.7777777777777778,
              "#fb9f3a"
             ],
             [
              0.8888888888888888,
              "#fdca26"
             ],
             [
              1,
              "#f0f921"
             ]
            ],
            "type": "heatmapgl"
           }
          ],
          "histogram": [
           {
            "marker": {
             "colorbar": {
              "outlinewidth": 0,
              "ticks": ""
             }
            },
            "type": "histogram"
           }
          ],
          "histogram2d": [
           {
            "colorbar": {
             "outlinewidth": 0,
             "ticks": ""
            },
            "colorscale": [
             [
              0,
              "#0d0887"
             ],
             [
              0.1111111111111111,
              "#46039f"
             ],
             [
              0.2222222222222222,
              "#7201a8"
             ],
             [
              0.3333333333333333,
              "#9c179e"
             ],
             [
              0.4444444444444444,
              "#bd3786"
             ],
             [
              0.5555555555555556,
              "#d8576b"
             ],
             [
              0.6666666666666666,
              "#ed7953"
             ],
             [
              0.7777777777777778,
              "#fb9f3a"
             ],
             [
              0.8888888888888888,
              "#fdca26"
             ],
             [
              1,
              "#f0f921"
             ]
            ],
            "type": "histogram2d"
           }
          ],
          "histogram2dcontour": [
           {
            "colorbar": {
             "outlinewidth": 0,
             "ticks": ""
            },
            "colorscale": [
             [
              0,
              "#0d0887"
             ],
             [
              0.1111111111111111,
              "#46039f"
             ],
             [
              0.2222222222222222,
              "#7201a8"
             ],
             [
              0.3333333333333333,
              "#9c179e"
             ],
             [
              0.4444444444444444,
              "#bd3786"
             ],
             [
              0.5555555555555556,
              "#d8576b"
             ],
             [
              0.6666666666666666,
              "#ed7953"
             ],
             [
              0.7777777777777778,
              "#fb9f3a"
             ],
             [
              0.8888888888888888,
              "#fdca26"
             ],
             [
              1,
              "#f0f921"
             ]
            ],
            "type": "histogram2dcontour"
           }
          ],
          "mesh3d": [
           {
            "colorbar": {
             "outlinewidth": 0,
             "ticks": ""
            },
            "type": "mesh3d"
           }
          ],
          "parcoords": [
           {
            "line": {
             "colorbar": {
              "outlinewidth": 0,
              "ticks": ""
             }
            },
            "type": "parcoords"
           }
          ],
          "pie": [
           {
            "automargin": true,
            "type": "pie"
           }
          ],
          "scatter": [
           {
            "marker": {
             "colorbar": {
              "outlinewidth": 0,
              "ticks": ""
             }
            },
            "type": "scatter"
           }
          ],
          "scatter3d": [
           {
            "line": {
             "colorbar": {
              "outlinewidth": 0,
              "ticks": ""
             }
            },
            "marker": {
             "colorbar": {
              "outlinewidth": 0,
              "ticks": ""
             }
            },
            "type": "scatter3d"
           }
          ],
          "scattercarpet": [
           {
            "marker": {
             "colorbar": {
              "outlinewidth": 0,
              "ticks": ""
             }
            },
            "type": "scattercarpet"
           }
          ],
          "scattergeo": [
           {
            "marker": {
             "colorbar": {
              "outlinewidth": 0,
              "ticks": ""
             }
            },
            "type": "scattergeo"
           }
          ],
          "scattergl": [
           {
            "marker": {
             "colorbar": {
              "outlinewidth": 0,
              "ticks": ""
             }
            },
            "type": "scattergl"
           }
          ],
          "scattermapbox": [
           {
            "marker": {
             "colorbar": {
              "outlinewidth": 0,
              "ticks": ""
             }
            },
            "type": "scattermapbox"
           }
          ],
          "scatterpolar": [
           {
            "marker": {
             "colorbar": {
              "outlinewidth": 0,
              "ticks": ""
             }
            },
            "type": "scatterpolar"
           }
          ],
          "scatterpolargl": [
           {
            "marker": {
             "colorbar": {
              "outlinewidth": 0,
              "ticks": ""
             }
            },
            "type": "scatterpolargl"
           }
          ],
          "scatterternary": [
           {
            "marker": {
             "colorbar": {
              "outlinewidth": 0,
              "ticks": ""
             }
            },
            "type": "scatterternary"
           }
          ],
          "surface": [
           {
            "colorbar": {
             "outlinewidth": 0,
             "ticks": ""
            },
            "colorscale": [
             [
              0,
              "#0d0887"
             ],
             [
              0.1111111111111111,
              "#46039f"
             ],
             [
              0.2222222222222222,
              "#7201a8"
             ],
             [
              0.3333333333333333,
              "#9c179e"
             ],
             [
              0.4444444444444444,
              "#bd3786"
             ],
             [
              0.5555555555555556,
              "#d8576b"
             ],
             [
              0.6666666666666666,
              "#ed7953"
             ],
             [
              0.7777777777777778,
              "#fb9f3a"
             ],
             [
              0.8888888888888888,
              "#fdca26"
             ],
             [
              1,
              "#f0f921"
             ]
            ],
            "type": "surface"
           }
          ],
          "table": [
           {
            "cells": {
             "fill": {
              "color": "#EBF0F8"
             },
             "line": {
              "color": "white"
             }
            },
            "header": {
             "fill": {
              "color": "#C8D4E3"
             },
             "line": {
              "color": "white"
             }
            },
            "type": "table"
           }
          ]
         },
         "layout": {
          "annotationdefaults": {
           "arrowcolor": "#2a3f5f",
           "arrowhead": 0,
           "arrowwidth": 1
          },
          "coloraxis": {
           "colorbar": {
            "outlinewidth": 0,
            "ticks": ""
           }
          },
          "colorscale": {
           "diverging": [
            [
             0,
             "#8e0152"
            ],
            [
             0.1,
             "#c51b7d"
            ],
            [
             0.2,
             "#de77ae"
            ],
            [
             0.3,
             "#f1b6da"
            ],
            [
             0.4,
             "#fde0ef"
            ],
            [
             0.5,
             "#f7f7f7"
            ],
            [
             0.6,
             "#e6f5d0"
            ],
            [
             0.7,
             "#b8e186"
            ],
            [
             0.8,
             "#7fbc41"
            ],
            [
             0.9,
             "#4d9221"
            ],
            [
             1,
             "#276419"
            ]
           ],
           "sequential": [
            [
             0,
             "#0d0887"
            ],
            [
             0.1111111111111111,
             "#46039f"
            ],
            [
             0.2222222222222222,
             "#7201a8"
            ],
            [
             0.3333333333333333,
             "#9c179e"
            ],
            [
             0.4444444444444444,
             "#bd3786"
            ],
            [
             0.5555555555555556,
             "#d8576b"
            ],
            [
             0.6666666666666666,
             "#ed7953"
            ],
            [
             0.7777777777777778,
             "#fb9f3a"
            ],
            [
             0.8888888888888888,
             "#fdca26"
            ],
            [
             1,
             "#f0f921"
            ]
           ],
           "sequentialminus": [
            [
             0,
             "#0d0887"
            ],
            [
             0.1111111111111111,
             "#46039f"
            ],
            [
             0.2222222222222222,
             "#7201a8"
            ],
            [
             0.3333333333333333,
             "#9c179e"
            ],
            [
             0.4444444444444444,
             "#bd3786"
            ],
            [
             0.5555555555555556,
             "#d8576b"
            ],
            [
             0.6666666666666666,
             "#ed7953"
            ],
            [
             0.7777777777777778,
             "#fb9f3a"
            ],
            [
             0.8888888888888888,
             "#fdca26"
            ],
            [
             1,
             "#f0f921"
            ]
           ]
          },
          "colorway": [
           "#636efa",
           "#EF553B",
           "#00cc96",
           "#ab63fa",
           "#FFA15A",
           "#19d3f3",
           "#FF6692",
           "#B6E880",
           "#FF97FF",
           "#FECB52"
          ],
          "font": {
           "color": "#2a3f5f"
          },
          "geo": {
           "bgcolor": "white",
           "lakecolor": "white",
           "landcolor": "#E5ECF6",
           "showlakes": true,
           "showland": true,
           "subunitcolor": "white"
          },
          "hoverlabel": {
           "align": "left"
          },
          "hovermode": "closest",
          "mapbox": {
           "style": "light"
          },
          "paper_bgcolor": "white",
          "plot_bgcolor": "#E5ECF6",
          "polar": {
           "angularaxis": {
            "gridcolor": "white",
            "linecolor": "white",
            "ticks": ""
           },
           "bgcolor": "#E5ECF6",
           "radialaxis": {
            "gridcolor": "white",
            "linecolor": "white",
            "ticks": ""
           }
          },
          "scene": {
           "xaxis": {
            "backgroundcolor": "#E5ECF6",
            "gridcolor": "white",
            "gridwidth": 2,
            "linecolor": "white",
            "showbackground": true,
            "ticks": "",
            "zerolinecolor": "white"
           },
           "yaxis": {
            "backgroundcolor": "#E5ECF6",
            "gridcolor": "white",
            "gridwidth": 2,
            "linecolor": "white",
            "showbackground": true,
            "ticks": "",
            "zerolinecolor": "white"
           },
           "zaxis": {
            "backgroundcolor": "#E5ECF6",
            "gridcolor": "white",
            "gridwidth": 2,
            "linecolor": "white",
            "showbackground": true,
            "ticks": "",
            "zerolinecolor": "white"
           }
          },
          "shapedefaults": {
           "line": {
            "color": "#2a3f5f"
           }
          },
          "ternary": {
           "aaxis": {
            "gridcolor": "white",
            "linecolor": "white",
            "ticks": ""
           },
           "baxis": {
            "gridcolor": "white",
            "linecolor": "white",
            "ticks": ""
           },
           "bgcolor": "#E5ECF6",
           "caxis": {
            "gridcolor": "white",
            "linecolor": "white",
            "ticks": ""
           }
          },
          "title": {
           "x": 0.05
          },
          "xaxis": {
           "automargin": true,
           "gridcolor": "white",
           "linecolor": "white",
           "ticks": "",
           "title": {
            "standoff": 15
           },
           "zerolinecolor": "white",
           "zerolinewidth": 2
          },
          "yaxis": {
           "automargin": true,
           "gridcolor": "white",
           "linecolor": "white",
           "ticks": "",
           "title": {
            "standoff": 15
           },
           "zerolinecolor": "white",
           "zerolinewidth": 2
          }
         }
        },
        "title": {
         "text": "Avg Yards Per Game",
         "x": 0.5,
         "xanchor": "center",
         "y": 0.95,
         "yanchor": "top"
        }
       }
      },
      "text/html": [
       "<div>\n",
       "        \n",
       "        \n",
       "            <div id=\"6830eb7a-55c2-4553-bab8-437684b888ee\" class=\"plotly-graph-div\" style=\"height:525px; width:100%;\"></div>\n",
       "            <script type=\"text/javascript\">\n",
       "                require([\"plotly\"], function(Plotly) {\n",
       "                    window.PLOTLYENV=window.PLOTLYENV || {};\n",
       "                    \n",
       "                if (document.getElementById(\"6830eb7a-55c2-4553-bab8-437684b888ee\")) {\n",
       "                    Plotly.newPlot(\n",
       "                        '6830eb7a-55c2-4553-bab8-437684b888ee',\n",
       "                        [{\"name\": \"2017\", \"type\": \"bar\", \"x\": [\"CLE\", \"NYG\", \"OAK\", \"NYJ\", \"TB\", \"SF\", \"ARI\", \"DEN\", \"CIN\", \"GB\", \"IND\", \"MIA\", \"JAX\", \"WAS\", \"DET\", \"BUF\", \"HOU\", \"ATL\", \"CHI\", \"CAR\", \"SEA\", \"BAL\", \"TEN\", \"DAL\", \"LAC\", \"PHI\", \"MIN\", \"PIT\", \"KC\", \"NE\", \"LA\", \"NO\"], \"y\": [308.0, 382.0, 319.0, 328.0, 360.0, 362.0, 371.0, 340.0, 301.0, 332.0, 302.0, 370.0, 371.0, 319.0, 387.0, 318.0, 355.0, 385.0, 315.0, 378.0, 319.0, 334.0, 317.0, 384.0, 408.0, 391.0, 388.0, 385.0, 372.0, 433.0, 362.0, 383.0]}, {\"name\": \"2018\", \"type\": \"bar\", \"x\": [\"CLE\", \"NYG\", \"OAK\", \"NYJ\", \"TB\", \"SF\", \"ARI\", \"DEN\", \"CIN\", \"GB\", \"IND\", \"MIA\", \"JAX\", \"WAS\", \"DET\", \"BUF\", \"HOU\", \"ATL\", \"CHI\", \"CAR\", \"SEA\", \"BAL\", \"TEN\", \"DAL\", \"LAC\", \"PHI\", \"MIN\", \"PIT\", \"KC\", \"NE\", \"LA\", \"NO\"], \"y\": [384.0, 403.0, 361.0, 288.0, 448.0, 368.0, 258.0, 350.0, 378.0, 394.0, 447.0, 296.0, 331.0, 329.0, 397.0, 316.0, 363.0, 449.0, 422.0, 463.0, 377.0, 396.0, 336.0, 392.0, 416.0, 383.0, 379.0, 446.0, 425.0, 398.0, 458.0, 457.0]}],\n",
       "                        {\"barmode\": \"group\", \"template\": {\"data\": {\"bar\": [{\"error_x\": {\"color\": \"#2a3f5f\"}, \"error_y\": {\"color\": \"#2a3f5f\"}, \"marker\": {\"line\": {\"color\": \"#E5ECF6\", \"width\": 0.5}}, \"type\": \"bar\"}], \"barpolar\": [{\"marker\": {\"line\": {\"color\": \"#E5ECF6\", \"width\": 0.5}}, \"type\": \"barpolar\"}], \"carpet\": [{\"aaxis\": {\"endlinecolor\": \"#2a3f5f\", \"gridcolor\": \"white\", \"linecolor\": \"white\", \"minorgridcolor\": \"white\", \"startlinecolor\": \"#2a3f5f\"}, \"baxis\": {\"endlinecolor\": \"#2a3f5f\", \"gridcolor\": \"white\", \"linecolor\": \"white\", \"minorgridcolor\": \"white\", \"startlinecolor\": \"#2a3f5f\"}, \"type\": \"carpet\"}], \"choropleth\": [{\"colorbar\": {\"outlinewidth\": 0, \"ticks\": \"\"}, \"type\": \"choropleth\"}], \"contour\": [{\"colorbar\": {\"outlinewidth\": 0, \"ticks\": \"\"}, \"colorscale\": [[0.0, \"#0d0887\"], [0.1111111111111111, \"#46039f\"], [0.2222222222222222, \"#7201a8\"], [0.3333333333333333, \"#9c179e\"], [0.4444444444444444, \"#bd3786\"], [0.5555555555555556, \"#d8576b\"], [0.6666666666666666, \"#ed7953\"], [0.7777777777777778, \"#fb9f3a\"], [0.8888888888888888, \"#fdca26\"], [1.0, \"#f0f921\"]], \"type\": \"contour\"}], \"contourcarpet\": [{\"colorbar\": {\"outlinewidth\": 0, \"ticks\": \"\"}, \"type\": \"contourcarpet\"}], \"heatmap\": [{\"colorbar\": {\"outlinewidth\": 0, \"ticks\": \"\"}, \"colorscale\": [[0.0, \"#0d0887\"], [0.1111111111111111, \"#46039f\"], [0.2222222222222222, \"#7201a8\"], [0.3333333333333333, \"#9c179e\"], [0.4444444444444444, \"#bd3786\"], [0.5555555555555556, \"#d8576b\"], [0.6666666666666666, \"#ed7953\"], [0.7777777777777778, \"#fb9f3a\"], [0.8888888888888888, \"#fdca26\"], [1.0, \"#f0f921\"]], \"type\": \"heatmap\"}], \"heatmapgl\": [{\"colorbar\": {\"outlinewidth\": 0, \"ticks\": \"\"}, \"colorscale\": [[0.0, \"#0d0887\"], [0.1111111111111111, \"#46039f\"], [0.2222222222222222, \"#7201a8\"], [0.3333333333333333, \"#9c179e\"], [0.4444444444444444, \"#bd3786\"], [0.5555555555555556, \"#d8576b\"], [0.6666666666666666, \"#ed7953\"], [0.7777777777777778, \"#fb9f3a\"], [0.8888888888888888, \"#fdca26\"], [1.0, \"#f0f921\"]], \"type\": \"heatmapgl\"}], \"histogram\": [{\"marker\": {\"colorbar\": {\"outlinewidth\": 0, \"ticks\": \"\"}}, \"type\": \"histogram\"}], \"histogram2d\": [{\"colorbar\": {\"outlinewidth\": 0, \"ticks\": \"\"}, \"colorscale\": [[0.0, \"#0d0887\"], [0.1111111111111111, \"#46039f\"], [0.2222222222222222, \"#7201a8\"], [0.3333333333333333, \"#9c179e\"], [0.4444444444444444, \"#bd3786\"], [0.5555555555555556, \"#d8576b\"], [0.6666666666666666, \"#ed7953\"], [0.7777777777777778, \"#fb9f3a\"], [0.8888888888888888, \"#fdca26\"], [1.0, \"#f0f921\"]], \"type\": \"histogram2d\"}], \"histogram2dcontour\": [{\"colorbar\": {\"outlinewidth\": 0, \"ticks\": \"\"}, \"colorscale\": [[0.0, \"#0d0887\"], [0.1111111111111111, \"#46039f\"], [0.2222222222222222, \"#7201a8\"], [0.3333333333333333, \"#9c179e\"], [0.4444444444444444, \"#bd3786\"], [0.5555555555555556, \"#d8576b\"], [0.6666666666666666, \"#ed7953\"], [0.7777777777777778, \"#fb9f3a\"], [0.8888888888888888, \"#fdca26\"], [1.0, \"#f0f921\"]], \"type\": \"histogram2dcontour\"}], \"mesh3d\": [{\"colorbar\": {\"outlinewidth\": 0, \"ticks\": \"\"}, \"type\": \"mesh3d\"}], \"parcoords\": [{\"line\": {\"colorbar\": {\"outlinewidth\": 0, \"ticks\": \"\"}}, \"type\": \"parcoords\"}], \"pie\": [{\"automargin\": true, \"type\": \"pie\"}], \"scatter\": [{\"marker\": {\"colorbar\": {\"outlinewidth\": 0, \"ticks\": \"\"}}, \"type\": \"scatter\"}], \"scatter3d\": [{\"line\": {\"colorbar\": {\"outlinewidth\": 0, \"ticks\": \"\"}}, \"marker\": {\"colorbar\": {\"outlinewidth\": 0, \"ticks\": \"\"}}, \"type\": \"scatter3d\"}], \"scattercarpet\": [{\"marker\": {\"colorbar\": {\"outlinewidth\": 0, \"ticks\": \"\"}}, \"type\": \"scattercarpet\"}], \"scattergeo\": [{\"marker\": {\"colorbar\": {\"outlinewidth\": 0, \"ticks\": \"\"}}, \"type\": \"scattergeo\"}], \"scattergl\": [{\"marker\": {\"colorbar\": {\"outlinewidth\": 0, \"ticks\": \"\"}}, \"type\": \"scattergl\"}], \"scattermapbox\": [{\"marker\": {\"colorbar\": {\"outlinewidth\": 0, \"ticks\": \"\"}}, \"type\": \"scattermapbox\"}], \"scatterpolar\": [{\"marker\": {\"colorbar\": {\"outlinewidth\": 0, \"ticks\": \"\"}}, \"type\": \"scatterpolar\"}], \"scatterpolargl\": [{\"marker\": {\"colorbar\": {\"outlinewidth\": 0, \"ticks\": \"\"}}, \"type\": \"scatterpolargl\"}], \"scatterternary\": [{\"marker\": {\"colorbar\": {\"outlinewidth\": 0, \"ticks\": \"\"}}, \"type\": \"scatterternary\"}], \"surface\": [{\"colorbar\": {\"outlinewidth\": 0, \"ticks\": \"\"}, \"colorscale\": [[0.0, \"#0d0887\"], [0.1111111111111111, \"#46039f\"], [0.2222222222222222, \"#7201a8\"], [0.3333333333333333, \"#9c179e\"], [0.4444444444444444, \"#bd3786\"], [0.5555555555555556, \"#d8576b\"], [0.6666666666666666, \"#ed7953\"], [0.7777777777777778, \"#fb9f3a\"], [0.8888888888888888, \"#fdca26\"], [1.0, \"#f0f921\"]], \"type\": \"surface\"}], \"table\": [{\"cells\": {\"fill\": {\"color\": \"#EBF0F8\"}, \"line\": {\"color\": \"white\"}}, \"header\": {\"fill\": {\"color\": \"#C8D4E3\"}, \"line\": {\"color\": \"white\"}}, \"type\": \"table\"}]}, \"layout\": {\"annotationdefaults\": {\"arrowcolor\": \"#2a3f5f\", \"arrowhead\": 0, \"arrowwidth\": 1}, \"coloraxis\": {\"colorbar\": {\"outlinewidth\": 0, \"ticks\": \"\"}}, \"colorscale\": {\"diverging\": [[0, \"#8e0152\"], [0.1, \"#c51b7d\"], [0.2, \"#de77ae\"], [0.3, \"#f1b6da\"], [0.4, \"#fde0ef\"], [0.5, \"#f7f7f7\"], [0.6, \"#e6f5d0\"], [0.7, \"#b8e186\"], [0.8, \"#7fbc41\"], [0.9, \"#4d9221\"], [1, \"#276419\"]], \"sequential\": [[0.0, \"#0d0887\"], [0.1111111111111111, \"#46039f\"], [0.2222222222222222, \"#7201a8\"], [0.3333333333333333, \"#9c179e\"], [0.4444444444444444, \"#bd3786\"], [0.5555555555555556, \"#d8576b\"], [0.6666666666666666, \"#ed7953\"], [0.7777777777777778, \"#fb9f3a\"], [0.8888888888888888, \"#fdca26\"], [1.0, \"#f0f921\"]], \"sequentialminus\": [[0.0, \"#0d0887\"], [0.1111111111111111, \"#46039f\"], [0.2222222222222222, \"#7201a8\"], [0.3333333333333333, \"#9c179e\"], [0.4444444444444444, \"#bd3786\"], [0.5555555555555556, \"#d8576b\"], [0.6666666666666666, \"#ed7953\"], [0.7777777777777778, \"#fb9f3a\"], [0.8888888888888888, \"#fdca26\"], [1.0, \"#f0f921\"]]}, \"colorway\": [\"#636efa\", \"#EF553B\", \"#00cc96\", \"#ab63fa\", \"#FFA15A\", \"#19d3f3\", \"#FF6692\", \"#B6E880\", \"#FF97FF\", \"#FECB52\"], \"font\": {\"color\": \"#2a3f5f\"}, \"geo\": {\"bgcolor\": \"white\", \"lakecolor\": \"white\", \"landcolor\": \"#E5ECF6\", \"showlakes\": true, \"showland\": true, \"subunitcolor\": \"white\"}, \"hoverlabel\": {\"align\": \"left\"}, \"hovermode\": \"closest\", \"mapbox\": {\"style\": \"light\"}, \"paper_bgcolor\": \"white\", \"plot_bgcolor\": \"#E5ECF6\", \"polar\": {\"angularaxis\": {\"gridcolor\": \"white\", \"linecolor\": \"white\", \"ticks\": \"\"}, \"bgcolor\": \"#E5ECF6\", \"radialaxis\": {\"gridcolor\": \"white\", \"linecolor\": \"white\", \"ticks\": \"\"}}, \"scene\": {\"xaxis\": {\"backgroundcolor\": \"#E5ECF6\", \"gridcolor\": \"white\", \"gridwidth\": 2, \"linecolor\": \"white\", \"showbackground\": true, \"ticks\": \"\", \"zerolinecolor\": \"white\"}, \"yaxis\": {\"backgroundcolor\": \"#E5ECF6\", \"gridcolor\": \"white\", \"gridwidth\": 2, \"linecolor\": \"white\", \"showbackground\": true, \"ticks\": \"\", \"zerolinecolor\": \"white\"}, \"zaxis\": {\"backgroundcolor\": \"#E5ECF6\", \"gridcolor\": \"white\", \"gridwidth\": 2, \"linecolor\": \"white\", \"showbackground\": true, \"ticks\": \"\", \"zerolinecolor\": \"white\"}}, \"shapedefaults\": {\"line\": {\"color\": \"#2a3f5f\"}}, \"ternary\": {\"aaxis\": {\"gridcolor\": \"white\", \"linecolor\": \"white\", \"ticks\": \"\"}, \"baxis\": {\"gridcolor\": \"white\", \"linecolor\": \"white\", \"ticks\": \"\"}, \"bgcolor\": \"#E5ECF6\", \"caxis\": {\"gridcolor\": \"white\", \"linecolor\": \"white\", \"ticks\": \"\"}}, \"title\": {\"x\": 0.05}, \"xaxis\": {\"automargin\": true, \"gridcolor\": \"white\", \"linecolor\": \"white\", \"ticks\": \"\", \"title\": {\"standoff\": 15}, \"zerolinecolor\": \"white\", \"zerolinewidth\": 2}, \"yaxis\": {\"automargin\": true, \"gridcolor\": \"white\", \"linecolor\": \"white\", \"ticks\": \"\", \"title\": {\"standoff\": 15}, \"zerolinecolor\": \"white\", \"zerolinewidth\": 2}}}, \"title\": {\"text\": \"Avg Yards Per Game\", \"x\": 0.5, \"xanchor\": \"center\", \"y\": 0.95, \"yanchor\": \"top\"}},\n",
       "                        {\"responsive\": true}\n",
       "                    ).then(function(){\n",
       "                            \n",
       "var gd = document.getElementById('6830eb7a-55c2-4553-bab8-437684b888ee');\n",
       "var x = new MutationObserver(function (mutations, observer) {{\n",
       "        var display = window.getComputedStyle(gd).display;\n",
       "        if (!display || display === 'none') {{\n",
       "            console.log([gd, 'removed!']);\n",
       "            Plotly.purge(gd);\n",
       "            observer.disconnect();\n",
       "        }}\n",
       "}});\n",
       "\n",
       "// Listen for the removal of the full notebook cells\n",
       "var notebookContainer = gd.closest('#notebook-container');\n",
       "if (notebookContainer) {{\n",
       "    x.observe(notebookContainer, {childList: true});\n",
       "}}\n",
       "\n",
       "// Listen for the clearing of the current output cell\n",
       "var outputEl = gd.closest('.output');\n",
       "if (outputEl) {{\n",
       "    x.observe(outputEl, {childList: true});\n",
       "}}\n",
       "\n",
       "                        })\n",
       "                };\n",
       "                });\n",
       "            </script>\n",
       "        </div>"
      ]
     },
     "metadata": {},
     "output_type": "display_data"
    }
   ],
   "source": [
    "fig = go.Figure(data=[go.Bar(name='2017', x = team_by_wins['team'], y = yd_avg2017),\\\n",
    "                      go.Bar(name='2018', x = team_by_wins['team'], y = yd_avg2018)])\n",
    "\n",
    "layout = go.Layout(\n",
    "    title = 'Avg Yard Per Game',\n",
    "    xaxis= dict(title= 'Game',ticklen= 1,zeroline= False),\n",
    "    yaxis= dict(title= 'Yards',ticklen= 5,zeroline= False)\n",
    ")\n",
    "\n",
    "fig.update_layout(\n",
    "    title={\n",
    "        'text':'Avg Yards Per Game',\n",
    "        'y':0.95,\n",
    "        'x':0.5,\n",
    "        'xanchor': 'center',\n",
    "        'yanchor': 'top'},\n",
    "    barmode='group')\n",
    "fig"
   ]
  },
  {
   "cell_type": "markdown",
   "metadata": {},
   "source": [
    "These Win buckets do not quite correlate with a team's ability to move the ball"
   ]
  },
  {
   "cell_type": "code",
   "execution_count": 166,
   "metadata": {},
   "outputs": [],
   "source": [
    "def_yd_avg2017 = []\n",
    "for team in team_by_wins['team']:\n",
    "    def_yd_avg2017.append(round(np.mean(nfl_small2_end_of_drive[(nfl_small2_end_of_drive[team] != '0') &\\\n",
    "                                                        (nfl_small2_end_of_drive['posteam']!=team) &\\\n",
    "                                                        (nfl_small2_end_of_drive['year']==2017)&\\\n",
    "                                                        (nfl_small2_end_of_drive['end_of_drive']==1)]\\\n",
    "                    .groupby('week').sum()['ydsnet'].values),0))\n",
    "    \n",
    "def_yd_avg2018 = []\n",
    "for team in team_by_wins['team']:\n",
    "    def_yd_avg2018.append(round(np.mean(nfl_small2_end_of_drive[(nfl_small2_end_of_drive[team] != '0') &\\\n",
    "                                                        (nfl_small2_end_of_drive['posteam']!=team) &\\\n",
    "                                                        (nfl_small2_end_of_drive['year']==2018)&\\\n",
    "                                                        (nfl_small2_end_of_drive['end_of_drive']==1)]\\\n",
    "                    .groupby('week').sum()['ydsnet'].values),0))"
   ]
  },
  {
   "cell_type": "code",
   "execution_count": 167,
   "metadata": {},
   "outputs": [
    {
     "data": {
      "application/vnd.plotly.v1+json": {
       "config": {
        "plotlyServerURL": "https://plot.ly"
       },
       "data": [
        {
         "name": "2017",
         "type": "bar",
         "x": [
          "CLE",
          "NYG",
          "OAK",
          "NYJ",
          "TB",
          "SF",
          "ARI",
          "DEN",
          "CIN",
          "GB",
          "IND",
          "MIA",
          "JAX",
          "WAS",
          "DET",
          "BUF",
          "HOU",
          "ATL",
          "CHI",
          "CAR",
          "SEA",
          "BAL",
          "TEN",
          "DAL",
          "LAC",
          "PHI",
          "MIN",
          "PIT",
          "KC",
          "NE",
          "LA",
          "NO"
         ],
         "y": [
          333,
          453,
          345,
          384,
          366,
          380,
          352,
          309,
          370,
          376,
          388,
          406,
          281,
          334,
          411,
          378,
          379,
          334,
          358,
          360,
          338,
          347,
          321,
          375,
          348,
          329,
          300,
          305,
          370,
          392,
          339,
          339
         ]
        },
        {
         "name": "2018",
         "type": "bar",
         "x": [
          "CLE",
          "NYG",
          "OAK",
          "NYJ",
          "TB",
          "SF",
          "ARI",
          "DEN",
          "CIN",
          "GB",
          "IND",
          "MIA",
          "JAX",
          "WAS",
          "DET",
          "BUF",
          "HOU",
          "ATL",
          "CHI",
          "CAR",
          "SEA",
          "BAL",
          "TEN",
          "DAL",
          "LAC",
          "PHI",
          "MIN",
          "PIT",
          "KC",
          "NE",
          "LA",
          "NO"
         ],
         "y": [
          419,
          426,
          412,
          364,
          407,
          352,
          377,
          369,
          481,
          376,
          392,
          411,
          348,
          389,
          414,
          320,
          342,
          441,
          358,
          446,
          400,
          303,
          337,
          370,
          358,
          399,
          340,
          360,
          419,
          363,
          388,
          407
         ]
        }
       ],
       "layout": {
        "barmode": "group",
        "template": {
         "data": {
          "bar": [
           {
            "error_x": {
             "color": "#2a3f5f"
            },
            "error_y": {
             "color": "#2a3f5f"
            },
            "marker": {
             "line": {
              "color": "#E5ECF6",
              "width": 0.5
             }
            },
            "type": "bar"
           }
          ],
          "barpolar": [
           {
            "marker": {
             "line": {
              "color": "#E5ECF6",
              "width": 0.5
             }
            },
            "type": "barpolar"
           }
          ],
          "carpet": [
           {
            "aaxis": {
             "endlinecolor": "#2a3f5f",
             "gridcolor": "white",
             "linecolor": "white",
             "minorgridcolor": "white",
             "startlinecolor": "#2a3f5f"
            },
            "baxis": {
             "endlinecolor": "#2a3f5f",
             "gridcolor": "white",
             "linecolor": "white",
             "minorgridcolor": "white",
             "startlinecolor": "#2a3f5f"
            },
            "type": "carpet"
           }
          ],
          "choropleth": [
           {
            "colorbar": {
             "outlinewidth": 0,
             "ticks": ""
            },
            "type": "choropleth"
           }
          ],
          "contour": [
           {
            "colorbar": {
             "outlinewidth": 0,
             "ticks": ""
            },
            "colorscale": [
             [
              0,
              "#0d0887"
             ],
             [
              0.1111111111111111,
              "#46039f"
             ],
             [
              0.2222222222222222,
              "#7201a8"
             ],
             [
              0.3333333333333333,
              "#9c179e"
             ],
             [
              0.4444444444444444,
              "#bd3786"
             ],
             [
              0.5555555555555556,
              "#d8576b"
             ],
             [
              0.6666666666666666,
              "#ed7953"
             ],
             [
              0.7777777777777778,
              "#fb9f3a"
             ],
             [
              0.8888888888888888,
              "#fdca26"
             ],
             [
              1,
              "#f0f921"
             ]
            ],
            "type": "contour"
           }
          ],
          "contourcarpet": [
           {
            "colorbar": {
             "outlinewidth": 0,
             "ticks": ""
            },
            "type": "contourcarpet"
           }
          ],
          "heatmap": [
           {
            "colorbar": {
             "outlinewidth": 0,
             "ticks": ""
            },
            "colorscale": [
             [
              0,
              "#0d0887"
             ],
             [
              0.1111111111111111,
              "#46039f"
             ],
             [
              0.2222222222222222,
              "#7201a8"
             ],
             [
              0.3333333333333333,
              "#9c179e"
             ],
             [
              0.4444444444444444,
              "#bd3786"
             ],
             [
              0.5555555555555556,
              "#d8576b"
             ],
             [
              0.6666666666666666,
              "#ed7953"
             ],
             [
              0.7777777777777778,
              "#fb9f3a"
             ],
             [
              0.8888888888888888,
              "#fdca26"
             ],
             [
              1,
              "#f0f921"
             ]
            ],
            "type": "heatmap"
           }
          ],
          "heatmapgl": [
           {
            "colorbar": {
             "outlinewidth": 0,
             "ticks": ""
            },
            "colorscale": [
             [
              0,
              "#0d0887"
             ],
             [
              0.1111111111111111,
              "#46039f"
             ],
             [
              0.2222222222222222,
              "#7201a8"
             ],
             [
              0.3333333333333333,
              "#9c179e"
             ],
             [
              0.4444444444444444,
              "#bd3786"
             ],
             [
              0.5555555555555556,
              "#d8576b"
             ],
             [
              0.6666666666666666,
              "#ed7953"
             ],
             [
              0.7777777777777778,
              "#fb9f3a"
             ],
             [
              0.8888888888888888,
              "#fdca26"
             ],
             [
              1,
              "#f0f921"
             ]
            ],
            "type": "heatmapgl"
           }
          ],
          "histogram": [
           {
            "marker": {
             "colorbar": {
              "outlinewidth": 0,
              "ticks": ""
             }
            },
            "type": "histogram"
           }
          ],
          "histogram2d": [
           {
            "colorbar": {
             "outlinewidth": 0,
             "ticks": ""
            },
            "colorscale": [
             [
              0,
              "#0d0887"
             ],
             [
              0.1111111111111111,
              "#46039f"
             ],
             [
              0.2222222222222222,
              "#7201a8"
             ],
             [
              0.3333333333333333,
              "#9c179e"
             ],
             [
              0.4444444444444444,
              "#bd3786"
             ],
             [
              0.5555555555555556,
              "#d8576b"
             ],
             [
              0.6666666666666666,
              "#ed7953"
             ],
             [
              0.7777777777777778,
              "#fb9f3a"
             ],
             [
              0.8888888888888888,
              "#fdca26"
             ],
             [
              1,
              "#f0f921"
             ]
            ],
            "type": "histogram2d"
           }
          ],
          "histogram2dcontour": [
           {
            "colorbar": {
             "outlinewidth": 0,
             "ticks": ""
            },
            "colorscale": [
             [
              0,
              "#0d0887"
             ],
             [
              0.1111111111111111,
              "#46039f"
             ],
             [
              0.2222222222222222,
              "#7201a8"
             ],
             [
              0.3333333333333333,
              "#9c179e"
             ],
             [
              0.4444444444444444,
              "#bd3786"
             ],
             [
              0.5555555555555556,
              "#d8576b"
             ],
             [
              0.6666666666666666,
              "#ed7953"
             ],
             [
              0.7777777777777778,
              "#fb9f3a"
             ],
             [
              0.8888888888888888,
              "#fdca26"
             ],
             [
              1,
              "#f0f921"
             ]
            ],
            "type": "histogram2dcontour"
           }
          ],
          "mesh3d": [
           {
            "colorbar": {
             "outlinewidth": 0,
             "ticks": ""
            },
            "type": "mesh3d"
           }
          ],
          "parcoords": [
           {
            "line": {
             "colorbar": {
              "outlinewidth": 0,
              "ticks": ""
             }
            },
            "type": "parcoords"
           }
          ],
          "pie": [
           {
            "automargin": true,
            "type": "pie"
           }
          ],
          "scatter": [
           {
            "marker": {
             "colorbar": {
              "outlinewidth": 0,
              "ticks": ""
             }
            },
            "type": "scatter"
           }
          ],
          "scatter3d": [
           {
            "line": {
             "colorbar": {
              "outlinewidth": 0,
              "ticks": ""
             }
            },
            "marker": {
             "colorbar": {
              "outlinewidth": 0,
              "ticks": ""
             }
            },
            "type": "scatter3d"
           }
          ],
          "scattercarpet": [
           {
            "marker": {
             "colorbar": {
              "outlinewidth": 0,
              "ticks": ""
             }
            },
            "type": "scattercarpet"
           }
          ],
          "scattergeo": [
           {
            "marker": {
             "colorbar": {
              "outlinewidth": 0,
              "ticks": ""
             }
            },
            "type": "scattergeo"
           }
          ],
          "scattergl": [
           {
            "marker": {
             "colorbar": {
              "outlinewidth": 0,
              "ticks": ""
             }
            },
            "type": "scattergl"
           }
          ],
          "scattermapbox": [
           {
            "marker": {
             "colorbar": {
              "outlinewidth": 0,
              "ticks": ""
             }
            },
            "type": "scattermapbox"
           }
          ],
          "scatterpolar": [
           {
            "marker": {
             "colorbar": {
              "outlinewidth": 0,
              "ticks": ""
             }
            },
            "type": "scatterpolar"
           }
          ],
          "scatterpolargl": [
           {
            "marker": {
             "colorbar": {
              "outlinewidth": 0,
              "ticks": ""
             }
            },
            "type": "scatterpolargl"
           }
          ],
          "scatterternary": [
           {
            "marker": {
             "colorbar": {
              "outlinewidth": 0,
              "ticks": ""
             }
            },
            "type": "scatterternary"
           }
          ],
          "surface": [
           {
            "colorbar": {
             "outlinewidth": 0,
             "ticks": ""
            },
            "colorscale": [
             [
              0,
              "#0d0887"
             ],
             [
              0.1111111111111111,
              "#46039f"
             ],
             [
              0.2222222222222222,
              "#7201a8"
             ],
             [
              0.3333333333333333,
              "#9c179e"
             ],
             [
              0.4444444444444444,
              "#bd3786"
             ],
             [
              0.5555555555555556,
              "#d8576b"
             ],
             [
              0.6666666666666666,
              "#ed7953"
             ],
             [
              0.7777777777777778,
              "#fb9f3a"
             ],
             [
              0.8888888888888888,
              "#fdca26"
             ],
             [
              1,
              "#f0f921"
             ]
            ],
            "type": "surface"
           }
          ],
          "table": [
           {
            "cells": {
             "fill": {
              "color": "#EBF0F8"
             },
             "line": {
              "color": "white"
             }
            },
            "header": {
             "fill": {
              "color": "#C8D4E3"
             },
             "line": {
              "color": "white"
             }
            },
            "type": "table"
           }
          ]
         },
         "layout": {
          "annotationdefaults": {
           "arrowcolor": "#2a3f5f",
           "arrowhead": 0,
           "arrowwidth": 1
          },
          "coloraxis": {
           "colorbar": {
            "outlinewidth": 0,
            "ticks": ""
           }
          },
          "colorscale": {
           "diverging": [
            [
             0,
             "#8e0152"
            ],
            [
             0.1,
             "#c51b7d"
            ],
            [
             0.2,
             "#de77ae"
            ],
            [
             0.3,
             "#f1b6da"
            ],
            [
             0.4,
             "#fde0ef"
            ],
            [
             0.5,
             "#f7f7f7"
            ],
            [
             0.6,
             "#e6f5d0"
            ],
            [
             0.7,
             "#b8e186"
            ],
            [
             0.8,
             "#7fbc41"
            ],
            [
             0.9,
             "#4d9221"
            ],
            [
             1,
             "#276419"
            ]
           ],
           "sequential": [
            [
             0,
             "#0d0887"
            ],
            [
             0.1111111111111111,
             "#46039f"
            ],
            [
             0.2222222222222222,
             "#7201a8"
            ],
            [
             0.3333333333333333,
             "#9c179e"
            ],
            [
             0.4444444444444444,
             "#bd3786"
            ],
            [
             0.5555555555555556,
             "#d8576b"
            ],
            [
             0.6666666666666666,
             "#ed7953"
            ],
            [
             0.7777777777777778,
             "#fb9f3a"
            ],
            [
             0.8888888888888888,
             "#fdca26"
            ],
            [
             1,
             "#f0f921"
            ]
           ],
           "sequentialminus": [
            [
             0,
             "#0d0887"
            ],
            [
             0.1111111111111111,
             "#46039f"
            ],
            [
             0.2222222222222222,
             "#7201a8"
            ],
            [
             0.3333333333333333,
             "#9c179e"
            ],
            [
             0.4444444444444444,
             "#bd3786"
            ],
            [
             0.5555555555555556,
             "#d8576b"
            ],
            [
             0.6666666666666666,
             "#ed7953"
            ],
            [
             0.7777777777777778,
             "#fb9f3a"
            ],
            [
             0.8888888888888888,
             "#fdca26"
            ],
            [
             1,
             "#f0f921"
            ]
           ]
          },
          "colorway": [
           "#636efa",
           "#EF553B",
           "#00cc96",
           "#ab63fa",
           "#FFA15A",
           "#19d3f3",
           "#FF6692",
           "#B6E880",
           "#FF97FF",
           "#FECB52"
          ],
          "font": {
           "color": "#2a3f5f"
          },
          "geo": {
           "bgcolor": "white",
           "lakecolor": "white",
           "landcolor": "#E5ECF6",
           "showlakes": true,
           "showland": true,
           "subunitcolor": "white"
          },
          "hoverlabel": {
           "align": "left"
          },
          "hovermode": "closest",
          "mapbox": {
           "style": "light"
          },
          "paper_bgcolor": "white",
          "plot_bgcolor": "#E5ECF6",
          "polar": {
           "angularaxis": {
            "gridcolor": "white",
            "linecolor": "white",
            "ticks": ""
           },
           "bgcolor": "#E5ECF6",
           "radialaxis": {
            "gridcolor": "white",
            "linecolor": "white",
            "ticks": ""
           }
          },
          "scene": {
           "xaxis": {
            "backgroundcolor": "#E5ECF6",
            "gridcolor": "white",
            "gridwidth": 2,
            "linecolor": "white",
            "showbackground": true,
            "ticks": "",
            "zerolinecolor": "white"
           },
           "yaxis": {
            "backgroundcolor": "#E5ECF6",
            "gridcolor": "white",
            "gridwidth": 2,
            "linecolor": "white",
            "showbackground": true,
            "ticks": "",
            "zerolinecolor": "white"
           },
           "zaxis": {
            "backgroundcolor": "#E5ECF6",
            "gridcolor": "white",
            "gridwidth": 2,
            "linecolor": "white",
            "showbackground": true,
            "ticks": "",
            "zerolinecolor": "white"
           }
          },
          "shapedefaults": {
           "line": {
            "color": "#2a3f5f"
           }
          },
          "ternary": {
           "aaxis": {
            "gridcolor": "white",
            "linecolor": "white",
            "ticks": ""
           },
           "baxis": {
            "gridcolor": "white",
            "linecolor": "white",
            "ticks": ""
           },
           "bgcolor": "#E5ECF6",
           "caxis": {
            "gridcolor": "white",
            "linecolor": "white",
            "ticks": ""
           }
          },
          "title": {
           "x": 0.05
          },
          "xaxis": {
           "automargin": true,
           "gridcolor": "white",
           "linecolor": "white",
           "ticks": "",
           "title": {
            "standoff": 15
           },
           "zerolinecolor": "white",
           "zerolinewidth": 2
          },
          "yaxis": {
           "automargin": true,
           "gridcolor": "white",
           "linecolor": "white",
           "ticks": "",
           "title": {
            "standoff": 15
           },
           "zerolinecolor": "white",
           "zerolinewidth": 2
          }
         }
        },
        "title": {
         "text": "Avg Yards Allowed Per Game By Team",
         "x": 0.5,
         "xanchor": "center",
         "y": 0.95,
         "yanchor": "top"
        }
       }
      },
      "text/html": [
       "<div>\n",
       "        \n",
       "        \n",
       "            <div id=\"ab1fc681-b0c7-40b4-9aa2-82d9be5c37b2\" class=\"plotly-graph-div\" style=\"height:525px; width:100%;\"></div>\n",
       "            <script type=\"text/javascript\">\n",
       "                require([\"plotly\"], function(Plotly) {\n",
       "                    window.PLOTLYENV=window.PLOTLYENV || {};\n",
       "                    \n",
       "                if (document.getElementById(\"ab1fc681-b0c7-40b4-9aa2-82d9be5c37b2\")) {\n",
       "                    Plotly.newPlot(\n",
       "                        'ab1fc681-b0c7-40b4-9aa2-82d9be5c37b2',\n",
       "                        [{\"name\": \"2017\", \"type\": \"bar\", \"x\": [\"CLE\", \"NYG\", \"OAK\", \"NYJ\", \"TB\", \"SF\", \"ARI\", \"DEN\", \"CIN\", \"GB\", \"IND\", \"MIA\", \"JAX\", \"WAS\", \"DET\", \"BUF\", \"HOU\", \"ATL\", \"CHI\", \"CAR\", \"SEA\", \"BAL\", \"TEN\", \"DAL\", \"LAC\", \"PHI\", \"MIN\", \"PIT\", \"KC\", \"NE\", \"LA\", \"NO\"], \"y\": [333.0, 453.0, 345.0, 384.0, 366.0, 380.0, 352.0, 309.0, 370.0, 376.0, 388.0, 406.0, 281.0, 334.0, 411.0, 378.0, 379.0, 334.0, 358.0, 360.0, 338.0, 347.0, 321.0, 375.0, 348.0, 329.0, 300.0, 305.0, 370.0, 392.0, 339.0, 339.0]}, {\"name\": \"2018\", \"type\": \"bar\", \"x\": [\"CLE\", \"NYG\", \"OAK\", \"NYJ\", \"TB\", \"SF\", \"ARI\", \"DEN\", \"CIN\", \"GB\", \"IND\", \"MIA\", \"JAX\", \"WAS\", \"DET\", \"BUF\", \"HOU\", \"ATL\", \"CHI\", \"CAR\", \"SEA\", \"BAL\", \"TEN\", \"DAL\", \"LAC\", \"PHI\", \"MIN\", \"PIT\", \"KC\", \"NE\", \"LA\", \"NO\"], \"y\": [419.0, 426.0, 412.0, 364.0, 407.0, 352.0, 377.0, 369.0, 481.0, 376.0, 392.0, 411.0, 348.0, 389.0, 414.0, 320.0, 342.0, 441.0, 358.0, 446.0, 400.0, 303.0, 337.0, 370.0, 358.0, 399.0, 340.0, 360.0, 419.0, 363.0, 388.0, 407.0]}],\n",
       "                        {\"barmode\": \"group\", \"template\": {\"data\": {\"bar\": [{\"error_x\": {\"color\": \"#2a3f5f\"}, \"error_y\": {\"color\": \"#2a3f5f\"}, \"marker\": {\"line\": {\"color\": \"#E5ECF6\", \"width\": 0.5}}, \"type\": \"bar\"}], \"barpolar\": [{\"marker\": {\"line\": {\"color\": \"#E5ECF6\", \"width\": 0.5}}, \"type\": \"barpolar\"}], \"carpet\": [{\"aaxis\": {\"endlinecolor\": \"#2a3f5f\", \"gridcolor\": \"white\", \"linecolor\": \"white\", \"minorgridcolor\": \"white\", \"startlinecolor\": \"#2a3f5f\"}, \"baxis\": {\"endlinecolor\": \"#2a3f5f\", \"gridcolor\": \"white\", \"linecolor\": \"white\", \"minorgridcolor\": \"white\", \"startlinecolor\": \"#2a3f5f\"}, \"type\": \"carpet\"}], \"choropleth\": [{\"colorbar\": {\"outlinewidth\": 0, \"ticks\": \"\"}, \"type\": \"choropleth\"}], \"contour\": [{\"colorbar\": {\"outlinewidth\": 0, \"ticks\": \"\"}, \"colorscale\": [[0.0, \"#0d0887\"], [0.1111111111111111, \"#46039f\"], [0.2222222222222222, \"#7201a8\"], [0.3333333333333333, \"#9c179e\"], [0.4444444444444444, \"#bd3786\"], [0.5555555555555556, \"#d8576b\"], [0.6666666666666666, \"#ed7953\"], [0.7777777777777778, \"#fb9f3a\"], [0.8888888888888888, \"#fdca26\"], [1.0, \"#f0f921\"]], \"type\": \"contour\"}], \"contourcarpet\": [{\"colorbar\": {\"outlinewidth\": 0, \"ticks\": \"\"}, \"type\": \"contourcarpet\"}], \"heatmap\": [{\"colorbar\": {\"outlinewidth\": 0, \"ticks\": \"\"}, \"colorscale\": [[0.0, \"#0d0887\"], [0.1111111111111111, \"#46039f\"], [0.2222222222222222, \"#7201a8\"], [0.3333333333333333, \"#9c179e\"], [0.4444444444444444, \"#bd3786\"], [0.5555555555555556, \"#d8576b\"], [0.6666666666666666, \"#ed7953\"], [0.7777777777777778, \"#fb9f3a\"], [0.8888888888888888, \"#fdca26\"], [1.0, \"#f0f921\"]], \"type\": \"heatmap\"}], \"heatmapgl\": [{\"colorbar\": {\"outlinewidth\": 0, \"ticks\": \"\"}, \"colorscale\": [[0.0, \"#0d0887\"], [0.1111111111111111, \"#46039f\"], [0.2222222222222222, \"#7201a8\"], [0.3333333333333333, \"#9c179e\"], [0.4444444444444444, \"#bd3786\"], [0.5555555555555556, \"#d8576b\"], [0.6666666666666666, \"#ed7953\"], [0.7777777777777778, \"#fb9f3a\"], [0.8888888888888888, \"#fdca26\"], [1.0, \"#f0f921\"]], \"type\": \"heatmapgl\"}], \"histogram\": [{\"marker\": {\"colorbar\": {\"outlinewidth\": 0, \"ticks\": \"\"}}, \"type\": \"histogram\"}], \"histogram2d\": [{\"colorbar\": {\"outlinewidth\": 0, \"ticks\": \"\"}, \"colorscale\": [[0.0, \"#0d0887\"], [0.1111111111111111, \"#46039f\"], [0.2222222222222222, \"#7201a8\"], [0.3333333333333333, \"#9c179e\"], [0.4444444444444444, \"#bd3786\"], [0.5555555555555556, \"#d8576b\"], [0.6666666666666666, \"#ed7953\"], [0.7777777777777778, \"#fb9f3a\"], [0.8888888888888888, \"#fdca26\"], [1.0, \"#f0f921\"]], \"type\": \"histogram2d\"}], \"histogram2dcontour\": [{\"colorbar\": {\"outlinewidth\": 0, \"ticks\": \"\"}, \"colorscale\": [[0.0, \"#0d0887\"], [0.1111111111111111, \"#46039f\"], [0.2222222222222222, \"#7201a8\"], [0.3333333333333333, \"#9c179e\"], [0.4444444444444444, \"#bd3786\"], [0.5555555555555556, \"#d8576b\"], [0.6666666666666666, \"#ed7953\"], [0.7777777777777778, \"#fb9f3a\"], [0.8888888888888888, \"#fdca26\"], [1.0, \"#f0f921\"]], \"type\": \"histogram2dcontour\"}], \"mesh3d\": [{\"colorbar\": {\"outlinewidth\": 0, \"ticks\": \"\"}, \"type\": \"mesh3d\"}], \"parcoords\": [{\"line\": {\"colorbar\": {\"outlinewidth\": 0, \"ticks\": \"\"}}, \"type\": \"parcoords\"}], \"pie\": [{\"automargin\": true, \"type\": \"pie\"}], \"scatter\": [{\"marker\": {\"colorbar\": {\"outlinewidth\": 0, \"ticks\": \"\"}}, \"type\": \"scatter\"}], \"scatter3d\": [{\"line\": {\"colorbar\": {\"outlinewidth\": 0, \"ticks\": \"\"}}, \"marker\": {\"colorbar\": {\"outlinewidth\": 0, \"ticks\": \"\"}}, \"type\": \"scatter3d\"}], \"scattercarpet\": [{\"marker\": {\"colorbar\": {\"outlinewidth\": 0, \"ticks\": \"\"}}, \"type\": \"scattercarpet\"}], \"scattergeo\": [{\"marker\": {\"colorbar\": {\"outlinewidth\": 0, \"ticks\": \"\"}}, \"type\": \"scattergeo\"}], \"scattergl\": [{\"marker\": {\"colorbar\": {\"outlinewidth\": 0, \"ticks\": \"\"}}, \"type\": \"scattergl\"}], \"scattermapbox\": [{\"marker\": {\"colorbar\": {\"outlinewidth\": 0, \"ticks\": \"\"}}, \"type\": \"scattermapbox\"}], \"scatterpolar\": [{\"marker\": {\"colorbar\": {\"outlinewidth\": 0, \"ticks\": \"\"}}, \"type\": \"scatterpolar\"}], \"scatterpolargl\": [{\"marker\": {\"colorbar\": {\"outlinewidth\": 0, \"ticks\": \"\"}}, \"type\": \"scatterpolargl\"}], \"scatterternary\": [{\"marker\": {\"colorbar\": {\"outlinewidth\": 0, \"ticks\": \"\"}}, \"type\": \"scatterternary\"}], \"surface\": [{\"colorbar\": {\"outlinewidth\": 0, \"ticks\": \"\"}, \"colorscale\": [[0.0, \"#0d0887\"], [0.1111111111111111, \"#46039f\"], [0.2222222222222222, \"#7201a8\"], [0.3333333333333333, \"#9c179e\"], [0.4444444444444444, \"#bd3786\"], [0.5555555555555556, \"#d8576b\"], [0.6666666666666666, \"#ed7953\"], [0.7777777777777778, \"#fb9f3a\"], [0.8888888888888888, \"#fdca26\"], [1.0, \"#f0f921\"]], \"type\": \"surface\"}], \"table\": [{\"cells\": {\"fill\": {\"color\": \"#EBF0F8\"}, \"line\": {\"color\": \"white\"}}, \"header\": {\"fill\": {\"color\": \"#C8D4E3\"}, \"line\": {\"color\": \"white\"}}, \"type\": \"table\"}]}, \"layout\": {\"annotationdefaults\": {\"arrowcolor\": \"#2a3f5f\", \"arrowhead\": 0, \"arrowwidth\": 1}, \"coloraxis\": {\"colorbar\": {\"outlinewidth\": 0, \"ticks\": \"\"}}, \"colorscale\": {\"diverging\": [[0, \"#8e0152\"], [0.1, \"#c51b7d\"], [0.2, \"#de77ae\"], [0.3, \"#f1b6da\"], [0.4, \"#fde0ef\"], [0.5, \"#f7f7f7\"], [0.6, \"#e6f5d0\"], [0.7, \"#b8e186\"], [0.8, \"#7fbc41\"], [0.9, \"#4d9221\"], [1, \"#276419\"]], \"sequential\": [[0.0, \"#0d0887\"], [0.1111111111111111, \"#46039f\"], [0.2222222222222222, \"#7201a8\"], [0.3333333333333333, \"#9c179e\"], [0.4444444444444444, \"#bd3786\"], [0.5555555555555556, \"#d8576b\"], [0.6666666666666666, \"#ed7953\"], [0.7777777777777778, \"#fb9f3a\"], [0.8888888888888888, \"#fdca26\"], [1.0, \"#f0f921\"]], \"sequentialminus\": [[0.0, \"#0d0887\"], [0.1111111111111111, \"#46039f\"], [0.2222222222222222, \"#7201a8\"], [0.3333333333333333, \"#9c179e\"], [0.4444444444444444, \"#bd3786\"], [0.5555555555555556, \"#d8576b\"], [0.6666666666666666, \"#ed7953\"], [0.7777777777777778, \"#fb9f3a\"], [0.8888888888888888, \"#fdca26\"], [1.0, \"#f0f921\"]]}, \"colorway\": [\"#636efa\", \"#EF553B\", \"#00cc96\", \"#ab63fa\", \"#FFA15A\", \"#19d3f3\", \"#FF6692\", \"#B6E880\", \"#FF97FF\", \"#FECB52\"], \"font\": {\"color\": \"#2a3f5f\"}, \"geo\": {\"bgcolor\": \"white\", \"lakecolor\": \"white\", \"landcolor\": \"#E5ECF6\", \"showlakes\": true, \"showland\": true, \"subunitcolor\": \"white\"}, \"hoverlabel\": {\"align\": \"left\"}, \"hovermode\": \"closest\", \"mapbox\": {\"style\": \"light\"}, \"paper_bgcolor\": \"white\", \"plot_bgcolor\": \"#E5ECF6\", \"polar\": {\"angularaxis\": {\"gridcolor\": \"white\", \"linecolor\": \"white\", \"ticks\": \"\"}, \"bgcolor\": \"#E5ECF6\", \"radialaxis\": {\"gridcolor\": \"white\", \"linecolor\": \"white\", \"ticks\": \"\"}}, \"scene\": {\"xaxis\": {\"backgroundcolor\": \"#E5ECF6\", \"gridcolor\": \"white\", \"gridwidth\": 2, \"linecolor\": \"white\", \"showbackground\": true, \"ticks\": \"\", \"zerolinecolor\": \"white\"}, \"yaxis\": {\"backgroundcolor\": \"#E5ECF6\", \"gridcolor\": \"white\", \"gridwidth\": 2, \"linecolor\": \"white\", \"showbackground\": true, \"ticks\": \"\", \"zerolinecolor\": \"white\"}, \"zaxis\": {\"backgroundcolor\": \"#E5ECF6\", \"gridcolor\": \"white\", \"gridwidth\": 2, \"linecolor\": \"white\", \"showbackground\": true, \"ticks\": \"\", \"zerolinecolor\": \"white\"}}, \"shapedefaults\": {\"line\": {\"color\": \"#2a3f5f\"}}, \"ternary\": {\"aaxis\": {\"gridcolor\": \"white\", \"linecolor\": \"white\", \"ticks\": \"\"}, \"baxis\": {\"gridcolor\": \"white\", \"linecolor\": \"white\", \"ticks\": \"\"}, \"bgcolor\": \"#E5ECF6\", \"caxis\": {\"gridcolor\": \"white\", \"linecolor\": \"white\", \"ticks\": \"\"}}, \"title\": {\"x\": 0.05}, \"xaxis\": {\"automargin\": true, \"gridcolor\": \"white\", \"linecolor\": \"white\", \"ticks\": \"\", \"title\": {\"standoff\": 15}, \"zerolinecolor\": \"white\", \"zerolinewidth\": 2}, \"yaxis\": {\"automargin\": true, \"gridcolor\": \"white\", \"linecolor\": \"white\", \"ticks\": \"\", \"title\": {\"standoff\": 15}, \"zerolinecolor\": \"white\", \"zerolinewidth\": 2}}}, \"title\": {\"text\": \"Avg Yards Allowed Per Game By Team\", \"x\": 0.5, \"xanchor\": \"center\", \"y\": 0.95, \"yanchor\": \"top\"}},\n",
       "                        {\"responsive\": true}\n",
       "                    ).then(function(){\n",
       "                            \n",
       "var gd = document.getElementById('ab1fc681-b0c7-40b4-9aa2-82d9be5c37b2');\n",
       "var x = new MutationObserver(function (mutations, observer) {{\n",
       "        var display = window.getComputedStyle(gd).display;\n",
       "        if (!display || display === 'none') {{\n",
       "            console.log([gd, 'removed!']);\n",
       "            Plotly.purge(gd);\n",
       "            observer.disconnect();\n",
       "        }}\n",
       "}});\n",
       "\n",
       "// Listen for the removal of the full notebook cells\n",
       "var notebookContainer = gd.closest('#notebook-container');\n",
       "if (notebookContainer) {{\n",
       "    x.observe(notebookContainer, {childList: true});\n",
       "}}\n",
       "\n",
       "// Listen for the clearing of the current output cell\n",
       "var outputEl = gd.closest('.output');\n",
       "if (outputEl) {{\n",
       "    x.observe(outputEl, {childList: true});\n",
       "}}\n",
       "\n",
       "                        })\n",
       "                };\n",
       "                });\n",
       "            </script>\n",
       "        </div>"
      ]
     },
     "metadata": {},
     "output_type": "display_data"
    }
   ],
   "source": [
    "fig = go.Figure(data=[go.Bar(name='2017', x = team_by_wins['team'], y = def_yd_avg2017),\\\n",
    "                      go.Bar(name='2018', x = team_by_wins['team'], y = def_yd_avg2018)])\n",
    "\n",
    "layout = go.Layout(\n",
    "    title = 'Avg Yard Per Game',\n",
    "    xaxis= dict(title= 'Game',ticklen= 1,zeroline= False),\n",
    "    yaxis= dict(title= 'Yards',ticklen= 5,zeroline= False)\n",
    ")\n",
    "\n",
    "fig.update_layout(\n",
    "    title={\n",
    "        'text':'Avg Yards Allowed Per Game By Team',\n",
    "        'y':0.95,\n",
    "        'x':0.5,\n",
    "        'xanchor': 'center',\n",
    "        'yanchor': 'top'},\n",
    "    barmode='group')\n",
    "fig"
   ]
  },
  {
   "cell_type": "markdown",
   "metadata": {},
   "source": [
    "Teams who tend to perform more poorly seem to give up more yards per game."
   ]
  },
  {
   "cell_type": "code",
   "execution_count": 168,
   "metadata": {
    "code_folding": [
     0
    ]
   },
   "outputs": [],
   "source": [
    "# nfl_small2_end_of_drive[(nfl_small2_end_of_drive['posteam']=='CLE') &\\\n",
    "#                                                     (nfl_small2_end_of_drive['year']==2017)&\\\n",
    "#                                                     (nfl_small2_end_of_drive['end_of_drive']==1)]\\\n",
    "#                     .groupby('week').sum()['ydsnet'].values"
   ]
  },
  {
   "cell_type": "code",
   "execution_count": 169,
   "metadata": {},
   "outputs": [],
   "source": [
    "avg_yard_diff_2017 = []\n",
    "for team in team_by_wins['team']:\n",
    "    \n",
    "    team_yd_2017 = nfl_small2_end_of_drive[(nfl_small2_end_of_drive['posteam']==team) &\\\n",
    "                                                    (nfl_small2_end_of_drive['year']==2017)&\\\n",
    "                                                    (nfl_small2_end_of_drive['end_of_drive']==1)]\\\n",
    "                    .groupby('week').sum()['ydsnet'].values\n",
    "    \n",
    "    \n",
    "    team_def_yd_2017 = nfl_small2_end_of_drive[(nfl_small2_end_of_drive[team] != '0') &\\\n",
    "                                                        (nfl_small2_end_of_drive['posteam']!=team) &\\\n",
    "                                                        (nfl_small2_end_of_drive['year']==2017)&\\\n",
    "                                                        (nfl_small2_end_of_drive['end_of_drive']==1)]\\\n",
    "                    .groupby('week').sum()['ydsnet'].values\n",
    "    \n",
    "    team_yard_diff_2017 = [a_i - b_i for a_i, b_i in zip(team_yd_2017, team_def_yd_2017)]\n",
    "    \n",
    "    \n",
    "    avg_yard_diff_2017.append(np.round(np.mean(team_yard_diff_2017),2))\n",
    "    \n",
    "    \n",
    "avg_yard_diff_2018 = []\n",
    "for team in team_by_wins['team']:\n",
    "    \n",
    "    team_yd_2018 = nfl_small2_end_of_drive[(nfl_small2_end_of_drive['posteam']==team) &\\\n",
    "                                                    (nfl_small2_end_of_drive['year']==2018)&\\\n",
    "                                                    (nfl_small2_end_of_drive['end_of_drive']==1)]\\\n",
    "                    .groupby('week').sum()['ydsnet'].values\n",
    "    \n",
    "    \n",
    "    team_def_yd_2018 = nfl_small2_end_of_drive[(nfl_small2_end_of_drive[team] != '0') &\\\n",
    "                                                        (nfl_small2_end_of_drive['posteam']!=team) &\\\n",
    "                                                        (nfl_small2_end_of_drive['year']==2018)&\\\n",
    "                                                        (nfl_small2_end_of_drive['end_of_drive']==1)]\\\n",
    "                    .groupby('week').sum()['ydsnet'].values\n",
    "    \n",
    "    team_yard_diff_2018 = [a_i - b_i for a_i, b_i in zip(team_yd_2018, team_def_yd_2018)]\n",
    "    \n",
    "    \n",
    "    avg_yard_diff_2018.append(np.round(np.mean(team_yard_diff_2018),2))\n",
    "    \n",
    "    "
   ]
  },
  {
   "cell_type": "code",
   "execution_count": 170,
   "metadata": {
    "code_folding": [],
    "scrolled": false
   },
   "outputs": [
    {
     "data": {
      "application/vnd.plotly.v1+json": {
       "config": {
        "plotlyServerURL": "https://plot.ly"
       },
       "data": [
        {
         "name": "2017",
         "type": "bar",
         "x": [
          "CLE",
          "NYG",
          "OAK",
          "NYJ",
          "TB",
          "SF",
          "ARI",
          "DEN",
          "CIN",
          "GB",
          "IND",
          "MIA",
          "JAX",
          "WAS",
          "DET",
          "BUF",
          "HOU",
          "ATL",
          "CHI",
          "CAR",
          "SEA",
          "BAL",
          "TEN",
          "DAL",
          "LAC",
          "PHI",
          "MIN",
          "PIT",
          "KC",
          "NE",
          "LA",
          "NO"
         ],
         "y": [
          -25.31,
          -70.92,
          -26.62,
          -56.07,
          -6.38,
          -17.33,
          18.43,
          30.87,
          -68.27,
          -43.67,
          -86.13,
          -35.54,
          89.81,
          -15.25,
          -24.21,
          -60.33,
          -23.73,
          50.87,
          -43,
          17.43,
          -19.06,
          -13.07,
          -4.38,
          8.5,
          59.47,
          62.2,
          87.8,
          79.31,
          1.81,
          41.13,
          22.75,
          43.81
         ]
        },
        {
         "name": "2018",
         "type": "bar",
         "x": [
          "CLE",
          "NYG",
          "OAK",
          "NYJ",
          "TB",
          "SF",
          "ARI",
          "DEN",
          "CIN",
          "GB",
          "IND",
          "MIA",
          "JAX",
          "WAS",
          "DET",
          "BUF",
          "HOU",
          "ATL",
          "CHI",
          "CAR",
          "SEA",
          "BAL",
          "TEN",
          "DAL",
          "LAC",
          "PHI",
          "MIN",
          "PIT",
          "KC",
          "NE",
          "LA",
          "NO"
         ],
         "y": [
          -34.69,
          -23.17,
          -51.85,
          -76.14,
          40.15,
          15.86,
          -118.85,
          -19.71,
          -103,
          17.77,
          54.67,
          -114.57,
          -17.23,
          -60.31,
          -17,
          -3.77,
          21,
          7.5,
          64.33,
          17.36,
          -23,
          92.62,
          -0.38,
          21.67,
          58.15,
          -16.15,
          39.69,
          85.15,
          6,
          35,
          70,
          50
         ]
        }
       ],
       "layout": {
        "barmode": "group",
        "template": {
         "data": {
          "bar": [
           {
            "error_x": {
             "color": "#2a3f5f"
            },
            "error_y": {
             "color": "#2a3f5f"
            },
            "marker": {
             "line": {
              "color": "#E5ECF6",
              "width": 0.5
             }
            },
            "type": "bar"
           }
          ],
          "barpolar": [
           {
            "marker": {
             "line": {
              "color": "#E5ECF6",
              "width": 0.5
             }
            },
            "type": "barpolar"
           }
          ],
          "carpet": [
           {
            "aaxis": {
             "endlinecolor": "#2a3f5f",
             "gridcolor": "white",
             "linecolor": "white",
             "minorgridcolor": "white",
             "startlinecolor": "#2a3f5f"
            },
            "baxis": {
             "endlinecolor": "#2a3f5f",
             "gridcolor": "white",
             "linecolor": "white",
             "minorgridcolor": "white",
             "startlinecolor": "#2a3f5f"
            },
            "type": "carpet"
           }
          ],
          "choropleth": [
           {
            "colorbar": {
             "outlinewidth": 0,
             "ticks": ""
            },
            "type": "choropleth"
           }
          ],
          "contour": [
           {
            "colorbar": {
             "outlinewidth": 0,
             "ticks": ""
            },
            "colorscale": [
             [
              0,
              "#0d0887"
             ],
             [
              0.1111111111111111,
              "#46039f"
             ],
             [
              0.2222222222222222,
              "#7201a8"
             ],
             [
              0.3333333333333333,
              "#9c179e"
             ],
             [
              0.4444444444444444,
              "#bd3786"
             ],
             [
              0.5555555555555556,
              "#d8576b"
             ],
             [
              0.6666666666666666,
              "#ed7953"
             ],
             [
              0.7777777777777778,
              "#fb9f3a"
             ],
             [
              0.8888888888888888,
              "#fdca26"
             ],
             [
              1,
              "#f0f921"
             ]
            ],
            "type": "contour"
           }
          ],
          "contourcarpet": [
           {
            "colorbar": {
             "outlinewidth": 0,
             "ticks": ""
            },
            "type": "contourcarpet"
           }
          ],
          "heatmap": [
           {
            "colorbar": {
             "outlinewidth": 0,
             "ticks": ""
            },
            "colorscale": [
             [
              0,
              "#0d0887"
             ],
             [
              0.1111111111111111,
              "#46039f"
             ],
             [
              0.2222222222222222,
              "#7201a8"
             ],
             [
              0.3333333333333333,
              "#9c179e"
             ],
             [
              0.4444444444444444,
              "#bd3786"
             ],
             [
              0.5555555555555556,
              "#d8576b"
             ],
             [
              0.6666666666666666,
              "#ed7953"
             ],
             [
              0.7777777777777778,
              "#fb9f3a"
             ],
             [
              0.8888888888888888,
              "#fdca26"
             ],
             [
              1,
              "#f0f921"
             ]
            ],
            "type": "heatmap"
           }
          ],
          "heatmapgl": [
           {
            "colorbar": {
             "outlinewidth": 0,
             "ticks": ""
            },
            "colorscale": [
             [
              0,
              "#0d0887"
             ],
             [
              0.1111111111111111,
              "#46039f"
             ],
             [
              0.2222222222222222,
              "#7201a8"
             ],
             [
              0.3333333333333333,
              "#9c179e"
             ],
             [
              0.4444444444444444,
              "#bd3786"
             ],
             [
              0.5555555555555556,
              "#d8576b"
             ],
             [
              0.6666666666666666,
              "#ed7953"
             ],
             [
              0.7777777777777778,
              "#fb9f3a"
             ],
             [
              0.8888888888888888,
              "#fdca26"
             ],
             [
              1,
              "#f0f921"
             ]
            ],
            "type": "heatmapgl"
           }
          ],
          "histogram": [
           {
            "marker": {
             "colorbar": {
              "outlinewidth": 0,
              "ticks": ""
             }
            },
            "type": "histogram"
           }
          ],
          "histogram2d": [
           {
            "colorbar": {
             "outlinewidth": 0,
             "ticks": ""
            },
            "colorscale": [
             [
              0,
              "#0d0887"
             ],
             [
              0.1111111111111111,
              "#46039f"
             ],
             [
              0.2222222222222222,
              "#7201a8"
             ],
             [
              0.3333333333333333,
              "#9c179e"
             ],
             [
              0.4444444444444444,
              "#bd3786"
             ],
             [
              0.5555555555555556,
              "#d8576b"
             ],
             [
              0.6666666666666666,
              "#ed7953"
             ],
             [
              0.7777777777777778,
              "#fb9f3a"
             ],
             [
              0.8888888888888888,
              "#fdca26"
             ],
             [
              1,
              "#f0f921"
             ]
            ],
            "type": "histogram2d"
           }
          ],
          "histogram2dcontour": [
           {
            "colorbar": {
             "outlinewidth": 0,
             "ticks": ""
            },
            "colorscale": [
             [
              0,
              "#0d0887"
             ],
             [
              0.1111111111111111,
              "#46039f"
             ],
             [
              0.2222222222222222,
              "#7201a8"
             ],
             [
              0.3333333333333333,
              "#9c179e"
             ],
             [
              0.4444444444444444,
              "#bd3786"
             ],
             [
              0.5555555555555556,
              "#d8576b"
             ],
             [
              0.6666666666666666,
              "#ed7953"
             ],
             [
              0.7777777777777778,
              "#fb9f3a"
             ],
             [
              0.8888888888888888,
              "#fdca26"
             ],
             [
              1,
              "#f0f921"
             ]
            ],
            "type": "histogram2dcontour"
           }
          ],
          "mesh3d": [
           {
            "colorbar": {
             "outlinewidth": 0,
             "ticks": ""
            },
            "type": "mesh3d"
           }
          ],
          "parcoords": [
           {
            "line": {
             "colorbar": {
              "outlinewidth": 0,
              "ticks": ""
             }
            },
            "type": "parcoords"
           }
          ],
          "pie": [
           {
            "automargin": true,
            "type": "pie"
           }
          ],
          "scatter": [
           {
            "marker": {
             "colorbar": {
              "outlinewidth": 0,
              "ticks": ""
             }
            },
            "type": "scatter"
           }
          ],
          "scatter3d": [
           {
            "line": {
             "colorbar": {
              "outlinewidth": 0,
              "ticks": ""
             }
            },
            "marker": {
             "colorbar": {
              "outlinewidth": 0,
              "ticks": ""
             }
            },
            "type": "scatter3d"
           }
          ],
          "scattercarpet": [
           {
            "marker": {
             "colorbar": {
              "outlinewidth": 0,
              "ticks": ""
             }
            },
            "type": "scattercarpet"
           }
          ],
          "scattergeo": [
           {
            "marker": {
             "colorbar": {
              "outlinewidth": 0,
              "ticks": ""
             }
            },
            "type": "scattergeo"
           }
          ],
          "scattergl": [
           {
            "marker": {
             "colorbar": {
              "outlinewidth": 0,
              "ticks": ""
             }
            },
            "type": "scattergl"
           }
          ],
          "scattermapbox": [
           {
            "marker": {
             "colorbar": {
              "outlinewidth": 0,
              "ticks": ""
             }
            },
            "type": "scattermapbox"
           }
          ],
          "scatterpolar": [
           {
            "marker": {
             "colorbar": {
              "outlinewidth": 0,
              "ticks": ""
             }
            },
            "type": "scatterpolar"
           }
          ],
          "scatterpolargl": [
           {
            "marker": {
             "colorbar": {
              "outlinewidth": 0,
              "ticks": ""
             }
            },
            "type": "scatterpolargl"
           }
          ],
          "scatterternary": [
           {
            "marker": {
             "colorbar": {
              "outlinewidth": 0,
              "ticks": ""
             }
            },
            "type": "scatterternary"
           }
          ],
          "surface": [
           {
            "colorbar": {
             "outlinewidth": 0,
             "ticks": ""
            },
            "colorscale": [
             [
              0,
              "#0d0887"
             ],
             [
              0.1111111111111111,
              "#46039f"
             ],
             [
              0.2222222222222222,
              "#7201a8"
             ],
             [
              0.3333333333333333,
              "#9c179e"
             ],
             [
              0.4444444444444444,
              "#bd3786"
             ],
             [
              0.5555555555555556,
              "#d8576b"
             ],
             [
              0.6666666666666666,
              "#ed7953"
             ],
             [
              0.7777777777777778,
              "#fb9f3a"
             ],
             [
              0.8888888888888888,
              "#fdca26"
             ],
             [
              1,
              "#f0f921"
             ]
            ],
            "type": "surface"
           }
          ],
          "table": [
           {
            "cells": {
             "fill": {
              "color": "#EBF0F8"
             },
             "line": {
              "color": "white"
             }
            },
            "header": {
             "fill": {
              "color": "#C8D4E3"
             },
             "line": {
              "color": "white"
             }
            },
            "type": "table"
           }
          ]
         },
         "layout": {
          "annotationdefaults": {
           "arrowcolor": "#2a3f5f",
           "arrowhead": 0,
           "arrowwidth": 1
          },
          "coloraxis": {
           "colorbar": {
            "outlinewidth": 0,
            "ticks": ""
           }
          },
          "colorscale": {
           "diverging": [
            [
             0,
             "#8e0152"
            ],
            [
             0.1,
             "#c51b7d"
            ],
            [
             0.2,
             "#de77ae"
            ],
            [
             0.3,
             "#f1b6da"
            ],
            [
             0.4,
             "#fde0ef"
            ],
            [
             0.5,
             "#f7f7f7"
            ],
            [
             0.6,
             "#e6f5d0"
            ],
            [
             0.7,
             "#b8e186"
            ],
            [
             0.8,
             "#7fbc41"
            ],
            [
             0.9,
             "#4d9221"
            ],
            [
             1,
             "#276419"
            ]
           ],
           "sequential": [
            [
             0,
             "#0d0887"
            ],
            [
             0.1111111111111111,
             "#46039f"
            ],
            [
             0.2222222222222222,
             "#7201a8"
            ],
            [
             0.3333333333333333,
             "#9c179e"
            ],
            [
             0.4444444444444444,
             "#bd3786"
            ],
            [
             0.5555555555555556,
             "#d8576b"
            ],
            [
             0.6666666666666666,
             "#ed7953"
            ],
            [
             0.7777777777777778,
             "#fb9f3a"
            ],
            [
             0.8888888888888888,
             "#fdca26"
            ],
            [
             1,
             "#f0f921"
            ]
           ],
           "sequentialminus": [
            [
             0,
             "#0d0887"
            ],
            [
             0.1111111111111111,
             "#46039f"
            ],
            [
             0.2222222222222222,
             "#7201a8"
            ],
            [
             0.3333333333333333,
             "#9c179e"
            ],
            [
             0.4444444444444444,
             "#bd3786"
            ],
            [
             0.5555555555555556,
             "#d8576b"
            ],
            [
             0.6666666666666666,
             "#ed7953"
            ],
            [
             0.7777777777777778,
             "#fb9f3a"
            ],
            [
             0.8888888888888888,
             "#fdca26"
            ],
            [
             1,
             "#f0f921"
            ]
           ]
          },
          "colorway": [
           "#636efa",
           "#EF553B",
           "#00cc96",
           "#ab63fa",
           "#FFA15A",
           "#19d3f3",
           "#FF6692",
           "#B6E880",
           "#FF97FF",
           "#FECB52"
          ],
          "font": {
           "color": "#2a3f5f"
          },
          "geo": {
           "bgcolor": "white",
           "lakecolor": "white",
           "landcolor": "#E5ECF6",
           "showlakes": true,
           "showland": true,
           "subunitcolor": "white"
          },
          "hoverlabel": {
           "align": "left"
          },
          "hovermode": "closest",
          "mapbox": {
           "style": "light"
          },
          "paper_bgcolor": "white",
          "plot_bgcolor": "#E5ECF6",
          "polar": {
           "angularaxis": {
            "gridcolor": "white",
            "linecolor": "white",
            "ticks": ""
           },
           "bgcolor": "#E5ECF6",
           "radialaxis": {
            "gridcolor": "white",
            "linecolor": "white",
            "ticks": ""
           }
          },
          "scene": {
           "xaxis": {
            "backgroundcolor": "#E5ECF6",
            "gridcolor": "white",
            "gridwidth": 2,
            "linecolor": "white",
            "showbackground": true,
            "ticks": "",
            "zerolinecolor": "white"
           },
           "yaxis": {
            "backgroundcolor": "#E5ECF6",
            "gridcolor": "white",
            "gridwidth": 2,
            "linecolor": "white",
            "showbackground": true,
            "ticks": "",
            "zerolinecolor": "white"
           },
           "zaxis": {
            "backgroundcolor": "#E5ECF6",
            "gridcolor": "white",
            "gridwidth": 2,
            "linecolor": "white",
            "showbackground": true,
            "ticks": "",
            "zerolinecolor": "white"
           }
          },
          "shapedefaults": {
           "line": {
            "color": "#2a3f5f"
           }
          },
          "ternary": {
           "aaxis": {
            "gridcolor": "white",
            "linecolor": "white",
            "ticks": ""
           },
           "baxis": {
            "gridcolor": "white",
            "linecolor": "white",
            "ticks": ""
           },
           "bgcolor": "#E5ECF6",
           "caxis": {
            "gridcolor": "white",
            "linecolor": "white",
            "ticks": ""
           }
          },
          "title": {
           "x": 0.05
          },
          "xaxis": {
           "automargin": true,
           "gridcolor": "white",
           "linecolor": "white",
           "ticks": "",
           "title": {
            "standoff": 15
           },
           "zerolinecolor": "white",
           "zerolinewidth": 2
          },
          "yaxis": {
           "automargin": true,
           "gridcolor": "white",
           "linecolor": "white",
           "ticks": "",
           "title": {
            "standoff": 15
           },
           "zerolinecolor": "white",
           "zerolinewidth": 2
          }
         }
        },
        "title": {
         "text": "Yard Differential Per Game By Team",
         "x": 0.5,
         "xanchor": "center",
         "y": 0.95,
         "yanchor": "top"
        }
       }
      },
      "text/html": [
       "<div>\n",
       "        \n",
       "        \n",
       "            <div id=\"5e7a3f54-8e0b-4926-a462-00d5ff1c7194\" class=\"plotly-graph-div\" style=\"height:525px; width:100%;\"></div>\n",
       "            <script type=\"text/javascript\">\n",
       "                require([\"plotly\"], function(Plotly) {\n",
       "                    window.PLOTLYENV=window.PLOTLYENV || {};\n",
       "                    \n",
       "                if (document.getElementById(\"5e7a3f54-8e0b-4926-a462-00d5ff1c7194\")) {\n",
       "                    Plotly.newPlot(\n",
       "                        '5e7a3f54-8e0b-4926-a462-00d5ff1c7194',\n",
       "                        [{\"name\": \"2017\", \"type\": \"bar\", \"x\": [\"CLE\", \"NYG\", \"OAK\", \"NYJ\", \"TB\", \"SF\", \"ARI\", \"DEN\", \"CIN\", \"GB\", \"IND\", \"MIA\", \"JAX\", \"WAS\", \"DET\", \"BUF\", \"HOU\", \"ATL\", \"CHI\", \"CAR\", \"SEA\", \"BAL\", \"TEN\", \"DAL\", \"LAC\", \"PHI\", \"MIN\", \"PIT\", \"KC\", \"NE\", \"LA\", \"NO\"], \"y\": [-25.31, -70.92, -26.62, -56.07, -6.38, -17.33, 18.43, 30.87, -68.27, -43.67, -86.13, -35.54, 89.81, -15.25, -24.21, -60.33, -23.73, 50.87, -43.0, 17.43, -19.06, -13.07, -4.38, 8.5, 59.47, 62.2, 87.8, 79.31, 1.81, 41.13, 22.75, 43.81]}, {\"name\": \"2018\", \"type\": \"bar\", \"x\": [\"CLE\", \"NYG\", \"OAK\", \"NYJ\", \"TB\", \"SF\", \"ARI\", \"DEN\", \"CIN\", \"GB\", \"IND\", \"MIA\", \"JAX\", \"WAS\", \"DET\", \"BUF\", \"HOU\", \"ATL\", \"CHI\", \"CAR\", \"SEA\", \"BAL\", \"TEN\", \"DAL\", \"LAC\", \"PHI\", \"MIN\", \"PIT\", \"KC\", \"NE\", \"LA\", \"NO\"], \"y\": [-34.69, -23.17, -51.85, -76.14, 40.15, 15.86, -118.85, -19.71, -103.0, 17.77, 54.67, -114.57, -17.23, -60.31, -17.0, -3.77, 21.0, 7.5, 64.33, 17.36, -23.0, 92.62, -0.38, 21.67, 58.15, -16.15, 39.69, 85.15, 6.0, 35.0, 70.0, 50.0]}],\n",
       "                        {\"barmode\": \"group\", \"template\": {\"data\": {\"bar\": [{\"error_x\": {\"color\": \"#2a3f5f\"}, \"error_y\": {\"color\": \"#2a3f5f\"}, \"marker\": {\"line\": {\"color\": \"#E5ECF6\", \"width\": 0.5}}, \"type\": \"bar\"}], \"barpolar\": [{\"marker\": {\"line\": {\"color\": \"#E5ECF6\", \"width\": 0.5}}, \"type\": \"barpolar\"}], \"carpet\": [{\"aaxis\": {\"endlinecolor\": \"#2a3f5f\", \"gridcolor\": \"white\", \"linecolor\": \"white\", \"minorgridcolor\": \"white\", \"startlinecolor\": \"#2a3f5f\"}, \"baxis\": {\"endlinecolor\": \"#2a3f5f\", \"gridcolor\": \"white\", \"linecolor\": \"white\", \"minorgridcolor\": \"white\", \"startlinecolor\": \"#2a3f5f\"}, \"type\": \"carpet\"}], \"choropleth\": [{\"colorbar\": {\"outlinewidth\": 0, \"ticks\": \"\"}, \"type\": \"choropleth\"}], \"contour\": [{\"colorbar\": {\"outlinewidth\": 0, \"ticks\": \"\"}, \"colorscale\": [[0.0, \"#0d0887\"], [0.1111111111111111, \"#46039f\"], [0.2222222222222222, \"#7201a8\"], [0.3333333333333333, \"#9c179e\"], [0.4444444444444444, \"#bd3786\"], [0.5555555555555556, \"#d8576b\"], [0.6666666666666666, \"#ed7953\"], [0.7777777777777778, \"#fb9f3a\"], [0.8888888888888888, \"#fdca26\"], [1.0, \"#f0f921\"]], \"type\": \"contour\"}], \"contourcarpet\": [{\"colorbar\": {\"outlinewidth\": 0, \"ticks\": \"\"}, \"type\": \"contourcarpet\"}], \"heatmap\": [{\"colorbar\": {\"outlinewidth\": 0, \"ticks\": \"\"}, \"colorscale\": [[0.0, \"#0d0887\"], [0.1111111111111111, \"#46039f\"], [0.2222222222222222, \"#7201a8\"], [0.3333333333333333, \"#9c179e\"], [0.4444444444444444, \"#bd3786\"], [0.5555555555555556, \"#d8576b\"], [0.6666666666666666, \"#ed7953\"], [0.7777777777777778, \"#fb9f3a\"], [0.8888888888888888, \"#fdca26\"], [1.0, \"#f0f921\"]], \"type\": \"heatmap\"}], \"heatmapgl\": [{\"colorbar\": {\"outlinewidth\": 0, \"ticks\": \"\"}, \"colorscale\": [[0.0, \"#0d0887\"], [0.1111111111111111, \"#46039f\"], [0.2222222222222222, \"#7201a8\"], [0.3333333333333333, \"#9c179e\"], [0.4444444444444444, \"#bd3786\"], [0.5555555555555556, \"#d8576b\"], [0.6666666666666666, \"#ed7953\"], [0.7777777777777778, \"#fb9f3a\"], [0.8888888888888888, \"#fdca26\"], [1.0, \"#f0f921\"]], \"type\": \"heatmapgl\"}], \"histogram\": [{\"marker\": {\"colorbar\": {\"outlinewidth\": 0, \"ticks\": \"\"}}, \"type\": \"histogram\"}], \"histogram2d\": [{\"colorbar\": {\"outlinewidth\": 0, \"ticks\": \"\"}, \"colorscale\": [[0.0, \"#0d0887\"], [0.1111111111111111, \"#46039f\"], [0.2222222222222222, \"#7201a8\"], [0.3333333333333333, \"#9c179e\"], [0.4444444444444444, \"#bd3786\"], [0.5555555555555556, \"#d8576b\"], [0.6666666666666666, \"#ed7953\"], [0.7777777777777778, \"#fb9f3a\"], [0.8888888888888888, \"#fdca26\"], [1.0, \"#f0f921\"]], \"type\": \"histogram2d\"}], \"histogram2dcontour\": [{\"colorbar\": {\"outlinewidth\": 0, \"ticks\": \"\"}, \"colorscale\": [[0.0, \"#0d0887\"], [0.1111111111111111, \"#46039f\"], [0.2222222222222222, \"#7201a8\"], [0.3333333333333333, \"#9c179e\"], [0.4444444444444444, \"#bd3786\"], [0.5555555555555556, \"#d8576b\"], [0.6666666666666666, \"#ed7953\"], [0.7777777777777778, \"#fb9f3a\"], [0.8888888888888888, \"#fdca26\"], [1.0, \"#f0f921\"]], \"type\": \"histogram2dcontour\"}], \"mesh3d\": [{\"colorbar\": {\"outlinewidth\": 0, \"ticks\": \"\"}, \"type\": \"mesh3d\"}], \"parcoords\": [{\"line\": {\"colorbar\": {\"outlinewidth\": 0, \"ticks\": \"\"}}, \"type\": \"parcoords\"}], \"pie\": [{\"automargin\": true, \"type\": \"pie\"}], \"scatter\": [{\"marker\": {\"colorbar\": {\"outlinewidth\": 0, \"ticks\": \"\"}}, \"type\": \"scatter\"}], \"scatter3d\": [{\"line\": {\"colorbar\": {\"outlinewidth\": 0, \"ticks\": \"\"}}, \"marker\": {\"colorbar\": {\"outlinewidth\": 0, \"ticks\": \"\"}}, \"type\": \"scatter3d\"}], \"scattercarpet\": [{\"marker\": {\"colorbar\": {\"outlinewidth\": 0, \"ticks\": \"\"}}, \"type\": \"scattercarpet\"}], \"scattergeo\": [{\"marker\": {\"colorbar\": {\"outlinewidth\": 0, \"ticks\": \"\"}}, \"type\": \"scattergeo\"}], \"scattergl\": [{\"marker\": {\"colorbar\": {\"outlinewidth\": 0, \"ticks\": \"\"}}, \"type\": \"scattergl\"}], \"scattermapbox\": [{\"marker\": {\"colorbar\": {\"outlinewidth\": 0, \"ticks\": \"\"}}, \"type\": \"scattermapbox\"}], \"scatterpolar\": [{\"marker\": {\"colorbar\": {\"outlinewidth\": 0, \"ticks\": \"\"}}, \"type\": \"scatterpolar\"}], \"scatterpolargl\": [{\"marker\": {\"colorbar\": {\"outlinewidth\": 0, \"ticks\": \"\"}}, \"type\": \"scatterpolargl\"}], \"scatterternary\": [{\"marker\": {\"colorbar\": {\"outlinewidth\": 0, \"ticks\": \"\"}}, \"type\": \"scatterternary\"}], \"surface\": [{\"colorbar\": {\"outlinewidth\": 0, \"ticks\": \"\"}, \"colorscale\": [[0.0, \"#0d0887\"], [0.1111111111111111, \"#46039f\"], [0.2222222222222222, \"#7201a8\"], [0.3333333333333333, \"#9c179e\"], [0.4444444444444444, \"#bd3786\"], [0.5555555555555556, \"#d8576b\"], [0.6666666666666666, \"#ed7953\"], [0.7777777777777778, \"#fb9f3a\"], [0.8888888888888888, \"#fdca26\"], [1.0, \"#f0f921\"]], \"type\": \"surface\"}], \"table\": [{\"cells\": {\"fill\": {\"color\": \"#EBF0F8\"}, \"line\": {\"color\": \"white\"}}, \"header\": {\"fill\": {\"color\": \"#C8D4E3\"}, \"line\": {\"color\": \"white\"}}, \"type\": \"table\"}]}, \"layout\": {\"annotationdefaults\": {\"arrowcolor\": \"#2a3f5f\", \"arrowhead\": 0, \"arrowwidth\": 1}, \"coloraxis\": {\"colorbar\": {\"outlinewidth\": 0, \"ticks\": \"\"}}, \"colorscale\": {\"diverging\": [[0, \"#8e0152\"], [0.1, \"#c51b7d\"], [0.2, \"#de77ae\"], [0.3, \"#f1b6da\"], [0.4, \"#fde0ef\"], [0.5, \"#f7f7f7\"], [0.6, \"#e6f5d0\"], [0.7, \"#b8e186\"], [0.8, \"#7fbc41\"], [0.9, \"#4d9221\"], [1, \"#276419\"]], \"sequential\": [[0.0, \"#0d0887\"], [0.1111111111111111, \"#46039f\"], [0.2222222222222222, \"#7201a8\"], [0.3333333333333333, \"#9c179e\"], [0.4444444444444444, \"#bd3786\"], [0.5555555555555556, \"#d8576b\"], [0.6666666666666666, \"#ed7953\"], [0.7777777777777778, \"#fb9f3a\"], [0.8888888888888888, \"#fdca26\"], [1.0, \"#f0f921\"]], \"sequentialminus\": [[0.0, \"#0d0887\"], [0.1111111111111111, \"#46039f\"], [0.2222222222222222, \"#7201a8\"], [0.3333333333333333, \"#9c179e\"], [0.4444444444444444, \"#bd3786\"], [0.5555555555555556, \"#d8576b\"], [0.6666666666666666, \"#ed7953\"], [0.7777777777777778, \"#fb9f3a\"], [0.8888888888888888, \"#fdca26\"], [1.0, \"#f0f921\"]]}, \"colorway\": [\"#636efa\", \"#EF553B\", \"#00cc96\", \"#ab63fa\", \"#FFA15A\", \"#19d3f3\", \"#FF6692\", \"#B6E880\", \"#FF97FF\", \"#FECB52\"], \"font\": {\"color\": \"#2a3f5f\"}, \"geo\": {\"bgcolor\": \"white\", \"lakecolor\": \"white\", \"landcolor\": \"#E5ECF6\", \"showlakes\": true, \"showland\": true, \"subunitcolor\": \"white\"}, \"hoverlabel\": {\"align\": \"left\"}, \"hovermode\": \"closest\", \"mapbox\": {\"style\": \"light\"}, \"paper_bgcolor\": \"white\", \"plot_bgcolor\": \"#E5ECF6\", \"polar\": {\"angularaxis\": {\"gridcolor\": \"white\", \"linecolor\": \"white\", \"ticks\": \"\"}, \"bgcolor\": \"#E5ECF6\", \"radialaxis\": {\"gridcolor\": \"white\", \"linecolor\": \"white\", \"ticks\": \"\"}}, \"scene\": {\"xaxis\": {\"backgroundcolor\": \"#E5ECF6\", \"gridcolor\": \"white\", \"gridwidth\": 2, \"linecolor\": \"white\", \"showbackground\": true, \"ticks\": \"\", \"zerolinecolor\": \"white\"}, \"yaxis\": {\"backgroundcolor\": \"#E5ECF6\", \"gridcolor\": \"white\", \"gridwidth\": 2, \"linecolor\": \"white\", \"showbackground\": true, \"ticks\": \"\", \"zerolinecolor\": \"white\"}, \"zaxis\": {\"backgroundcolor\": \"#E5ECF6\", \"gridcolor\": \"white\", \"gridwidth\": 2, \"linecolor\": \"white\", \"showbackground\": true, \"ticks\": \"\", \"zerolinecolor\": \"white\"}}, \"shapedefaults\": {\"line\": {\"color\": \"#2a3f5f\"}}, \"ternary\": {\"aaxis\": {\"gridcolor\": \"white\", \"linecolor\": \"white\", \"ticks\": \"\"}, \"baxis\": {\"gridcolor\": \"white\", \"linecolor\": \"white\", \"ticks\": \"\"}, \"bgcolor\": \"#E5ECF6\", \"caxis\": {\"gridcolor\": \"white\", \"linecolor\": \"white\", \"ticks\": \"\"}}, \"title\": {\"x\": 0.05}, \"xaxis\": {\"automargin\": true, \"gridcolor\": \"white\", \"linecolor\": \"white\", \"ticks\": \"\", \"title\": {\"standoff\": 15}, \"zerolinecolor\": \"white\", \"zerolinewidth\": 2}, \"yaxis\": {\"automargin\": true, \"gridcolor\": \"white\", \"linecolor\": \"white\", \"ticks\": \"\", \"title\": {\"standoff\": 15}, \"zerolinecolor\": \"white\", \"zerolinewidth\": 2}}}, \"title\": {\"text\": \"Yard Differential Per Game By Team\", \"x\": 0.5, \"xanchor\": \"center\", \"y\": 0.95, \"yanchor\": \"top\"}},\n",
       "                        {\"responsive\": true}\n",
       "                    ).then(function(){\n",
       "                            \n",
       "var gd = document.getElementById('5e7a3f54-8e0b-4926-a462-00d5ff1c7194');\n",
       "var x = new MutationObserver(function (mutations, observer) {{\n",
       "        var display = window.getComputedStyle(gd).display;\n",
       "        if (!display || display === 'none') {{\n",
       "            console.log([gd, 'removed!']);\n",
       "            Plotly.purge(gd);\n",
       "            observer.disconnect();\n",
       "        }}\n",
       "}});\n",
       "\n",
       "// Listen for the removal of the full notebook cells\n",
       "var notebookContainer = gd.closest('#notebook-container');\n",
       "if (notebookContainer) {{\n",
       "    x.observe(notebookContainer, {childList: true});\n",
       "}}\n",
       "\n",
       "// Listen for the clearing of the current output cell\n",
       "var outputEl = gd.closest('.output');\n",
       "if (outputEl) {{\n",
       "    x.observe(outputEl, {childList: true});\n",
       "}}\n",
       "\n",
       "                        })\n",
       "                };\n",
       "                });\n",
       "            </script>\n",
       "        </div>"
      ]
     },
     "metadata": {},
     "output_type": "display_data"
    }
   ],
   "source": [
    "fig = go.Figure(data=[go.Bar(name='2017', x = team_by_wins['team'], y = avg_yard_diff_2017),\\\n",
    "                      go.Bar(name='2018', x = team_by_wins['team'], y = avg_yard_diff_2018)])\n",
    "\n",
    "layout = go.Layout(\n",
    "    title = 'Avg Yard Per Game',\n",
    "    xaxis= dict(title= 'Game',ticklen= 1,zeroline= False),\n",
    "    yaxis= dict(title= 'Yards',ticklen= 5,zeroline= False)\n",
    ")\n",
    "\n",
    "fig.update_layout(\n",
    "    title={\n",
    "        'text':'Yard Differential Per Game By Team',\n",
    "        'y':0.95,\n",
    "        'x':0.5,\n",
    "        'xanchor': 'center',\n",
    "        'yanchor': 'top'},\n",
    "    barmode='group')\n",
    "fig"
   ]
  },
  {
   "cell_type": "markdown",
   "metadata": {},
   "source": [
    "And as expected, average yard differential per game is directly correlated to a team's chance of winning.\n",
    "\n",
    "Looking at Wins and Yard Differential together, good and bad teams are impervious to the random aspects of the game. Teams closer to average may be more affected by changes to weather or other factors..."
   ]
  },
  {
   "cell_type": "code",
   "execution_count": 171,
   "metadata": {},
   "outputs": [],
   "source": [
    "pt_avg2017 = []\n",
    "for team in team_by_wins['team']:\n",
    "    \n",
    "    home_list = list(nfl_small2_end_of_drive[(nfl_small2_end_of_drive['end_of_game'] == 1) &\\\n",
    "                        (nfl_small2_end_of_drive[team] == 'H')&(nfl_small2_end_of_drive['year'] == 2017)\n",
    "                       ]['total_home_score'])\n",
    "\n",
    "    away_list = list(nfl_small2_end_of_drive[(nfl_small2_end_of_drive['end_of_game'] == 1) &\\\n",
    "                        (nfl_small2_end_of_drive[team] == 'A')&(nfl_small2_end_of_drive['year'] == 2017)\n",
    "                       ]['total_away_score'])\n",
    "    \n",
    "    new_list = home_list + away_list\n",
    "    \n",
    "    pt_avg2017.append(round(np.mean(new_list),0))\n",
    "\n",
    "pt_avg2018 = []\n",
    "\n",
    "for team in team_by_wins['team']:\n",
    "    \n",
    "    home_list = list(nfl_small2_end_of_drive[(nfl_small2_end_of_drive['end_of_game'] == 1) &\\\n",
    "                        (nfl_small2_end_of_drive[team] == 'H')&(nfl_small2_end_of_drive['year'] == 2018)\n",
    "                       ]['total_home_score'])\n",
    "\n",
    "    away_list = list(nfl_small2_end_of_drive[(nfl_small2_end_of_drive['end_of_game'] == 1) &\\\n",
    "                        (nfl_small2_end_of_drive[team] == 'A')&(nfl_small2_end_of_drive['year'] == 2018)\n",
    "                       ]['total_away_score'])\n",
    "    \n",
    "    new_list = home_list + away_list\n",
    "    \n",
    "    pt_avg2018.append(round(np.mean(new_list),0))\n",
    "    "
   ]
  },
  {
   "cell_type": "code",
   "execution_count": 172,
   "metadata": {},
   "outputs": [
    {
     "data": {
      "application/vnd.plotly.v1+json": {
       "config": {
        "plotlyServerURL": "https://plot.ly"
       },
       "data": [
        {
         "name": "2017",
         "type": "bar",
         "x": [
          "CLE",
          "NYG",
          "OAK",
          "NYJ",
          "TB",
          "SF",
          "ARI",
          "DEN",
          "CIN",
          "GB",
          "IND",
          "MIA",
          "JAX",
          "WAS",
          "DET",
          "BUF",
          "HOU",
          "ATL",
          "CHI",
          "CAR",
          "SEA",
          "BAL",
          "TEN",
          "DAL",
          "LAC",
          "PHI",
          "MIN",
          "PIT",
          "KC",
          "NE",
          "LA",
          "NO"
         ],
         "y": [
          15,
          15,
          19,
          19,
          21,
          21,
          18,
          18,
          18,
          20,
          16,
          17,
          26,
          21,
          25,
          19,
          21,
          22,
          16,
          23,
          23,
          24,
          21,
          22,
          22,
          28,
          24,
          25,
          26,
          28,
          30,
          28
         ]
        },
        {
         "name": "2018",
         "type": "bar",
         "x": [
          "CLE",
          "NYG",
          "OAK",
          "NYJ",
          "TB",
          "SF",
          "ARI",
          "DEN",
          "CIN",
          "GB",
          "IND",
          "MIA",
          "JAX",
          "WAS",
          "DET",
          "BUF",
          "HOU",
          "ATL",
          "CHI",
          "CAR",
          "SEA",
          "BAL",
          "TEN",
          "DAL",
          "LAC",
          "PHI",
          "MIN",
          "PIT",
          "KC",
          "NE",
          "LA",
          "NO"
         ],
         "y": [
          22,
          22,
          18,
          21,
          24,
          21,
          14,
          22,
          24,
          24,
          27,
          21,
          16,
          19,
          20,
          15,
          25,
          25,
          27,
          24,
          26,
          24,
          19,
          20,
          28,
          22,
          23,
          27,
          35,
          27,
          32,
          33
         ]
        }
       ],
       "layout": {
        "barmode": "group",
        "template": {
         "data": {
          "bar": [
           {
            "error_x": {
             "color": "#2a3f5f"
            },
            "error_y": {
             "color": "#2a3f5f"
            },
            "marker": {
             "line": {
              "color": "#E5ECF6",
              "width": 0.5
             }
            },
            "type": "bar"
           }
          ],
          "barpolar": [
           {
            "marker": {
             "line": {
              "color": "#E5ECF6",
              "width": 0.5
             }
            },
            "type": "barpolar"
           }
          ],
          "carpet": [
           {
            "aaxis": {
             "endlinecolor": "#2a3f5f",
             "gridcolor": "white",
             "linecolor": "white",
             "minorgridcolor": "white",
             "startlinecolor": "#2a3f5f"
            },
            "baxis": {
             "endlinecolor": "#2a3f5f",
             "gridcolor": "white",
             "linecolor": "white",
             "minorgridcolor": "white",
             "startlinecolor": "#2a3f5f"
            },
            "type": "carpet"
           }
          ],
          "choropleth": [
           {
            "colorbar": {
             "outlinewidth": 0,
             "ticks": ""
            },
            "type": "choropleth"
           }
          ],
          "contour": [
           {
            "colorbar": {
             "outlinewidth": 0,
             "ticks": ""
            },
            "colorscale": [
             [
              0,
              "#0d0887"
             ],
             [
              0.1111111111111111,
              "#46039f"
             ],
             [
              0.2222222222222222,
              "#7201a8"
             ],
             [
              0.3333333333333333,
              "#9c179e"
             ],
             [
              0.4444444444444444,
              "#bd3786"
             ],
             [
              0.5555555555555556,
              "#d8576b"
             ],
             [
              0.6666666666666666,
              "#ed7953"
             ],
             [
              0.7777777777777778,
              "#fb9f3a"
             ],
             [
              0.8888888888888888,
              "#fdca26"
             ],
             [
              1,
              "#f0f921"
             ]
            ],
            "type": "contour"
           }
          ],
          "contourcarpet": [
           {
            "colorbar": {
             "outlinewidth": 0,
             "ticks": ""
            },
            "type": "contourcarpet"
           }
          ],
          "heatmap": [
           {
            "colorbar": {
             "outlinewidth": 0,
             "ticks": ""
            },
            "colorscale": [
             [
              0,
              "#0d0887"
             ],
             [
              0.1111111111111111,
              "#46039f"
             ],
             [
              0.2222222222222222,
              "#7201a8"
             ],
             [
              0.3333333333333333,
              "#9c179e"
             ],
             [
              0.4444444444444444,
              "#bd3786"
             ],
             [
              0.5555555555555556,
              "#d8576b"
             ],
             [
              0.6666666666666666,
              "#ed7953"
             ],
             [
              0.7777777777777778,
              "#fb9f3a"
             ],
             [
              0.8888888888888888,
              "#fdca26"
             ],
             [
              1,
              "#f0f921"
             ]
            ],
            "type": "heatmap"
           }
          ],
          "heatmapgl": [
           {
            "colorbar": {
             "outlinewidth": 0,
             "ticks": ""
            },
            "colorscale": [
             [
              0,
              "#0d0887"
             ],
             [
              0.1111111111111111,
              "#46039f"
             ],
             [
              0.2222222222222222,
              "#7201a8"
             ],
             [
              0.3333333333333333,
              "#9c179e"
             ],
             [
              0.4444444444444444,
              "#bd3786"
             ],
             [
              0.5555555555555556,
              "#d8576b"
             ],
             [
              0.6666666666666666,
              "#ed7953"
             ],
             [
              0.7777777777777778,
              "#fb9f3a"
             ],
             [
              0.8888888888888888,
              "#fdca26"
             ],
             [
              1,
              "#f0f921"
             ]
            ],
            "type": "heatmapgl"
           }
          ],
          "histogram": [
           {
            "marker": {
             "colorbar": {
              "outlinewidth": 0,
              "ticks": ""
             }
            },
            "type": "histogram"
           }
          ],
          "histogram2d": [
           {
            "colorbar": {
             "outlinewidth": 0,
             "ticks": ""
            },
            "colorscale": [
             [
              0,
              "#0d0887"
             ],
             [
              0.1111111111111111,
              "#46039f"
             ],
             [
              0.2222222222222222,
              "#7201a8"
             ],
             [
              0.3333333333333333,
              "#9c179e"
             ],
             [
              0.4444444444444444,
              "#bd3786"
             ],
             [
              0.5555555555555556,
              "#d8576b"
             ],
             [
              0.6666666666666666,
              "#ed7953"
             ],
             [
              0.7777777777777778,
              "#fb9f3a"
             ],
             [
              0.8888888888888888,
              "#fdca26"
             ],
             [
              1,
              "#f0f921"
             ]
            ],
            "type": "histogram2d"
           }
          ],
          "histogram2dcontour": [
           {
            "colorbar": {
             "outlinewidth": 0,
             "ticks": ""
            },
            "colorscale": [
             [
              0,
              "#0d0887"
             ],
             [
              0.1111111111111111,
              "#46039f"
             ],
             [
              0.2222222222222222,
              "#7201a8"
             ],
             [
              0.3333333333333333,
              "#9c179e"
             ],
             [
              0.4444444444444444,
              "#bd3786"
             ],
             [
              0.5555555555555556,
              "#d8576b"
             ],
             [
              0.6666666666666666,
              "#ed7953"
             ],
             [
              0.7777777777777778,
              "#fb9f3a"
             ],
             [
              0.8888888888888888,
              "#fdca26"
             ],
             [
              1,
              "#f0f921"
             ]
            ],
            "type": "histogram2dcontour"
           }
          ],
          "mesh3d": [
           {
            "colorbar": {
             "outlinewidth": 0,
             "ticks": ""
            },
            "type": "mesh3d"
           }
          ],
          "parcoords": [
           {
            "line": {
             "colorbar": {
              "outlinewidth": 0,
              "ticks": ""
             }
            },
            "type": "parcoords"
           }
          ],
          "pie": [
           {
            "automargin": true,
            "type": "pie"
           }
          ],
          "scatter": [
           {
            "marker": {
             "colorbar": {
              "outlinewidth": 0,
              "ticks": ""
             }
            },
            "type": "scatter"
           }
          ],
          "scatter3d": [
           {
            "line": {
             "colorbar": {
              "outlinewidth": 0,
              "ticks": ""
             }
            },
            "marker": {
             "colorbar": {
              "outlinewidth": 0,
              "ticks": ""
             }
            },
            "type": "scatter3d"
           }
          ],
          "scattercarpet": [
           {
            "marker": {
             "colorbar": {
              "outlinewidth": 0,
              "ticks": ""
             }
            },
            "type": "scattercarpet"
           }
          ],
          "scattergeo": [
           {
            "marker": {
             "colorbar": {
              "outlinewidth": 0,
              "ticks": ""
             }
            },
            "type": "scattergeo"
           }
          ],
          "scattergl": [
           {
            "marker": {
             "colorbar": {
              "outlinewidth": 0,
              "ticks": ""
             }
            },
            "type": "scattergl"
           }
          ],
          "scattermapbox": [
           {
            "marker": {
             "colorbar": {
              "outlinewidth": 0,
              "ticks": ""
             }
            },
            "type": "scattermapbox"
           }
          ],
          "scatterpolar": [
           {
            "marker": {
             "colorbar": {
              "outlinewidth": 0,
              "ticks": ""
             }
            },
            "type": "scatterpolar"
           }
          ],
          "scatterpolargl": [
           {
            "marker": {
             "colorbar": {
              "outlinewidth": 0,
              "ticks": ""
             }
            },
            "type": "scatterpolargl"
           }
          ],
          "scatterternary": [
           {
            "marker": {
             "colorbar": {
              "outlinewidth": 0,
              "ticks": ""
             }
            },
            "type": "scatterternary"
           }
          ],
          "surface": [
           {
            "colorbar": {
             "outlinewidth": 0,
             "ticks": ""
            },
            "colorscale": [
             [
              0,
              "#0d0887"
             ],
             [
              0.1111111111111111,
              "#46039f"
             ],
             [
              0.2222222222222222,
              "#7201a8"
             ],
             [
              0.3333333333333333,
              "#9c179e"
             ],
             [
              0.4444444444444444,
              "#bd3786"
             ],
             [
              0.5555555555555556,
              "#d8576b"
             ],
             [
              0.6666666666666666,
              "#ed7953"
             ],
             [
              0.7777777777777778,
              "#fb9f3a"
             ],
             [
              0.8888888888888888,
              "#fdca26"
             ],
             [
              1,
              "#f0f921"
             ]
            ],
            "type": "surface"
           }
          ],
          "table": [
           {
            "cells": {
             "fill": {
              "color": "#EBF0F8"
             },
             "line": {
              "color": "white"
             }
            },
            "header": {
             "fill": {
              "color": "#C8D4E3"
             },
             "line": {
              "color": "white"
             }
            },
            "type": "table"
           }
          ]
         },
         "layout": {
          "annotationdefaults": {
           "arrowcolor": "#2a3f5f",
           "arrowhead": 0,
           "arrowwidth": 1
          },
          "coloraxis": {
           "colorbar": {
            "outlinewidth": 0,
            "ticks": ""
           }
          },
          "colorscale": {
           "diverging": [
            [
             0,
             "#8e0152"
            ],
            [
             0.1,
             "#c51b7d"
            ],
            [
             0.2,
             "#de77ae"
            ],
            [
             0.3,
             "#f1b6da"
            ],
            [
             0.4,
             "#fde0ef"
            ],
            [
             0.5,
             "#f7f7f7"
            ],
            [
             0.6,
             "#e6f5d0"
            ],
            [
             0.7,
             "#b8e186"
            ],
            [
             0.8,
             "#7fbc41"
            ],
            [
             0.9,
             "#4d9221"
            ],
            [
             1,
             "#276419"
            ]
           ],
           "sequential": [
            [
             0,
             "#0d0887"
            ],
            [
             0.1111111111111111,
             "#46039f"
            ],
            [
             0.2222222222222222,
             "#7201a8"
            ],
            [
             0.3333333333333333,
             "#9c179e"
            ],
            [
             0.4444444444444444,
             "#bd3786"
            ],
            [
             0.5555555555555556,
             "#d8576b"
            ],
            [
             0.6666666666666666,
             "#ed7953"
            ],
            [
             0.7777777777777778,
             "#fb9f3a"
            ],
            [
             0.8888888888888888,
             "#fdca26"
            ],
            [
             1,
             "#f0f921"
            ]
           ],
           "sequentialminus": [
            [
             0,
             "#0d0887"
            ],
            [
             0.1111111111111111,
             "#46039f"
            ],
            [
             0.2222222222222222,
             "#7201a8"
            ],
            [
             0.3333333333333333,
             "#9c179e"
            ],
            [
             0.4444444444444444,
             "#bd3786"
            ],
            [
             0.5555555555555556,
             "#d8576b"
            ],
            [
             0.6666666666666666,
             "#ed7953"
            ],
            [
             0.7777777777777778,
             "#fb9f3a"
            ],
            [
             0.8888888888888888,
             "#fdca26"
            ],
            [
             1,
             "#f0f921"
            ]
           ]
          },
          "colorway": [
           "#636efa",
           "#EF553B",
           "#00cc96",
           "#ab63fa",
           "#FFA15A",
           "#19d3f3",
           "#FF6692",
           "#B6E880",
           "#FF97FF",
           "#FECB52"
          ],
          "font": {
           "color": "#2a3f5f"
          },
          "geo": {
           "bgcolor": "white",
           "lakecolor": "white",
           "landcolor": "#E5ECF6",
           "showlakes": true,
           "showland": true,
           "subunitcolor": "white"
          },
          "hoverlabel": {
           "align": "left"
          },
          "hovermode": "closest",
          "mapbox": {
           "style": "light"
          },
          "paper_bgcolor": "white",
          "plot_bgcolor": "#E5ECF6",
          "polar": {
           "angularaxis": {
            "gridcolor": "white",
            "linecolor": "white",
            "ticks": ""
           },
           "bgcolor": "#E5ECF6",
           "radialaxis": {
            "gridcolor": "white",
            "linecolor": "white",
            "ticks": ""
           }
          },
          "scene": {
           "xaxis": {
            "backgroundcolor": "#E5ECF6",
            "gridcolor": "white",
            "gridwidth": 2,
            "linecolor": "white",
            "showbackground": true,
            "ticks": "",
            "zerolinecolor": "white"
           },
           "yaxis": {
            "backgroundcolor": "#E5ECF6",
            "gridcolor": "white",
            "gridwidth": 2,
            "linecolor": "white",
            "showbackground": true,
            "ticks": "",
            "zerolinecolor": "white"
           },
           "zaxis": {
            "backgroundcolor": "#E5ECF6",
            "gridcolor": "white",
            "gridwidth": 2,
            "linecolor": "white",
            "showbackground": true,
            "ticks": "",
            "zerolinecolor": "white"
           }
          },
          "shapedefaults": {
           "line": {
            "color": "#2a3f5f"
           }
          },
          "ternary": {
           "aaxis": {
            "gridcolor": "white",
            "linecolor": "white",
            "ticks": ""
           },
           "baxis": {
            "gridcolor": "white",
            "linecolor": "white",
            "ticks": ""
           },
           "bgcolor": "#E5ECF6",
           "caxis": {
            "gridcolor": "white",
            "linecolor": "white",
            "ticks": ""
           }
          },
          "title": {
           "x": 0.05
          },
          "xaxis": {
           "automargin": true,
           "gridcolor": "white",
           "linecolor": "white",
           "ticks": "",
           "title": {
            "standoff": 15
           },
           "zerolinecolor": "white",
           "zerolinewidth": 2
          },
          "yaxis": {
           "automargin": true,
           "gridcolor": "white",
           "linecolor": "white",
           "ticks": "",
           "title": {
            "standoff": 15
           },
           "zerolinecolor": "white",
           "zerolinewidth": 2
          }
         }
        },
        "title": {
         "text": "Avg Points Per Game By Team",
         "x": 0.5,
         "xanchor": "center",
         "y": 0.95,
         "yanchor": "top"
        }
       }
      },
      "text/html": [
       "<div>\n",
       "        \n",
       "        \n",
       "            <div id=\"71fe584f-3e1d-4520-afbd-3149c1cac49e\" class=\"plotly-graph-div\" style=\"height:525px; width:100%;\"></div>\n",
       "            <script type=\"text/javascript\">\n",
       "                require([\"plotly\"], function(Plotly) {\n",
       "                    window.PLOTLYENV=window.PLOTLYENV || {};\n",
       "                    \n",
       "                if (document.getElementById(\"71fe584f-3e1d-4520-afbd-3149c1cac49e\")) {\n",
       "                    Plotly.newPlot(\n",
       "                        '71fe584f-3e1d-4520-afbd-3149c1cac49e',\n",
       "                        [{\"name\": \"2017\", \"type\": \"bar\", \"x\": [\"CLE\", \"NYG\", \"OAK\", \"NYJ\", \"TB\", \"SF\", \"ARI\", \"DEN\", \"CIN\", \"GB\", \"IND\", \"MIA\", \"JAX\", \"WAS\", \"DET\", \"BUF\", \"HOU\", \"ATL\", \"CHI\", \"CAR\", \"SEA\", \"BAL\", \"TEN\", \"DAL\", \"LAC\", \"PHI\", \"MIN\", \"PIT\", \"KC\", \"NE\", \"LA\", \"NO\"], \"y\": [15.0, 15.0, 19.0, 19.0, 21.0, 21.0, 18.0, 18.0, 18.0, 20.0, 16.0, 17.0, 26.0, 21.0, 25.0, 19.0, 21.0, 22.0, 16.0, 23.0, 23.0, 24.0, 21.0, 22.0, 22.0, 28.0, 24.0, 25.0, 26.0, 28.0, 30.0, 28.0]}, {\"name\": \"2018\", \"type\": \"bar\", \"x\": [\"CLE\", \"NYG\", \"OAK\", \"NYJ\", \"TB\", \"SF\", \"ARI\", \"DEN\", \"CIN\", \"GB\", \"IND\", \"MIA\", \"JAX\", \"WAS\", \"DET\", \"BUF\", \"HOU\", \"ATL\", \"CHI\", \"CAR\", \"SEA\", \"BAL\", \"TEN\", \"DAL\", \"LAC\", \"PHI\", \"MIN\", \"PIT\", \"KC\", \"NE\", \"LA\", \"NO\"], \"y\": [22.0, 22.0, 18.0, 21.0, 24.0, 21.0, 14.0, 22.0, 24.0, 24.0, 27.0, 21.0, 16.0, 19.0, 20.0, 15.0, 25.0, 25.0, 27.0, 24.0, 26.0, 24.0, 19.0, 20.0, 28.0, 22.0, 23.0, 27.0, 35.0, 27.0, 32.0, 33.0]}],\n",
       "                        {\"barmode\": \"group\", \"template\": {\"data\": {\"bar\": [{\"error_x\": {\"color\": \"#2a3f5f\"}, \"error_y\": {\"color\": \"#2a3f5f\"}, \"marker\": {\"line\": {\"color\": \"#E5ECF6\", \"width\": 0.5}}, \"type\": \"bar\"}], \"barpolar\": [{\"marker\": {\"line\": {\"color\": \"#E5ECF6\", \"width\": 0.5}}, \"type\": \"barpolar\"}], \"carpet\": [{\"aaxis\": {\"endlinecolor\": \"#2a3f5f\", \"gridcolor\": \"white\", \"linecolor\": \"white\", \"minorgridcolor\": \"white\", \"startlinecolor\": \"#2a3f5f\"}, \"baxis\": {\"endlinecolor\": \"#2a3f5f\", \"gridcolor\": \"white\", \"linecolor\": \"white\", \"minorgridcolor\": \"white\", \"startlinecolor\": \"#2a3f5f\"}, \"type\": \"carpet\"}], \"choropleth\": [{\"colorbar\": {\"outlinewidth\": 0, \"ticks\": \"\"}, \"type\": \"choropleth\"}], \"contour\": [{\"colorbar\": {\"outlinewidth\": 0, \"ticks\": \"\"}, \"colorscale\": [[0.0, \"#0d0887\"], [0.1111111111111111, \"#46039f\"], [0.2222222222222222, \"#7201a8\"], [0.3333333333333333, \"#9c179e\"], [0.4444444444444444, \"#bd3786\"], [0.5555555555555556, \"#d8576b\"], [0.6666666666666666, \"#ed7953\"], [0.7777777777777778, \"#fb9f3a\"], [0.8888888888888888, \"#fdca26\"], [1.0, \"#f0f921\"]], \"type\": \"contour\"}], \"contourcarpet\": [{\"colorbar\": {\"outlinewidth\": 0, \"ticks\": \"\"}, \"type\": \"contourcarpet\"}], \"heatmap\": [{\"colorbar\": {\"outlinewidth\": 0, \"ticks\": \"\"}, \"colorscale\": [[0.0, \"#0d0887\"], [0.1111111111111111, \"#46039f\"], [0.2222222222222222, \"#7201a8\"], [0.3333333333333333, \"#9c179e\"], [0.4444444444444444, \"#bd3786\"], [0.5555555555555556, \"#d8576b\"], [0.6666666666666666, \"#ed7953\"], [0.7777777777777778, \"#fb9f3a\"], [0.8888888888888888, \"#fdca26\"], [1.0, \"#f0f921\"]], \"type\": \"heatmap\"}], \"heatmapgl\": [{\"colorbar\": {\"outlinewidth\": 0, \"ticks\": \"\"}, \"colorscale\": [[0.0, \"#0d0887\"], [0.1111111111111111, \"#46039f\"], [0.2222222222222222, \"#7201a8\"], [0.3333333333333333, \"#9c179e\"], [0.4444444444444444, \"#bd3786\"], [0.5555555555555556, \"#d8576b\"], [0.6666666666666666, \"#ed7953\"], [0.7777777777777778, \"#fb9f3a\"], [0.8888888888888888, \"#fdca26\"], [1.0, \"#f0f921\"]], \"type\": \"heatmapgl\"}], \"histogram\": [{\"marker\": {\"colorbar\": {\"outlinewidth\": 0, \"ticks\": \"\"}}, \"type\": \"histogram\"}], \"histogram2d\": [{\"colorbar\": {\"outlinewidth\": 0, \"ticks\": \"\"}, \"colorscale\": [[0.0, \"#0d0887\"], [0.1111111111111111, \"#46039f\"], [0.2222222222222222, \"#7201a8\"], [0.3333333333333333, \"#9c179e\"], [0.4444444444444444, \"#bd3786\"], [0.5555555555555556, \"#d8576b\"], [0.6666666666666666, \"#ed7953\"], [0.7777777777777778, \"#fb9f3a\"], [0.8888888888888888, \"#fdca26\"], [1.0, \"#f0f921\"]], \"type\": \"histogram2d\"}], \"histogram2dcontour\": [{\"colorbar\": {\"outlinewidth\": 0, \"ticks\": \"\"}, \"colorscale\": [[0.0, \"#0d0887\"], [0.1111111111111111, \"#46039f\"], [0.2222222222222222, \"#7201a8\"], [0.3333333333333333, \"#9c179e\"], [0.4444444444444444, \"#bd3786\"], [0.5555555555555556, \"#d8576b\"], [0.6666666666666666, \"#ed7953\"], [0.7777777777777778, \"#fb9f3a\"], [0.8888888888888888, \"#fdca26\"], [1.0, \"#f0f921\"]], \"type\": \"histogram2dcontour\"}], \"mesh3d\": [{\"colorbar\": {\"outlinewidth\": 0, \"ticks\": \"\"}, \"type\": \"mesh3d\"}], \"parcoords\": [{\"line\": {\"colorbar\": {\"outlinewidth\": 0, \"ticks\": \"\"}}, \"type\": \"parcoords\"}], \"pie\": [{\"automargin\": true, \"type\": \"pie\"}], \"scatter\": [{\"marker\": {\"colorbar\": {\"outlinewidth\": 0, \"ticks\": \"\"}}, \"type\": \"scatter\"}], \"scatter3d\": [{\"line\": {\"colorbar\": {\"outlinewidth\": 0, \"ticks\": \"\"}}, \"marker\": {\"colorbar\": {\"outlinewidth\": 0, \"ticks\": \"\"}}, \"type\": \"scatter3d\"}], \"scattercarpet\": [{\"marker\": {\"colorbar\": {\"outlinewidth\": 0, \"ticks\": \"\"}}, \"type\": \"scattercarpet\"}], \"scattergeo\": [{\"marker\": {\"colorbar\": {\"outlinewidth\": 0, \"ticks\": \"\"}}, \"type\": \"scattergeo\"}], \"scattergl\": [{\"marker\": {\"colorbar\": {\"outlinewidth\": 0, \"ticks\": \"\"}}, \"type\": \"scattergl\"}], \"scattermapbox\": [{\"marker\": {\"colorbar\": {\"outlinewidth\": 0, \"ticks\": \"\"}}, \"type\": \"scattermapbox\"}], \"scatterpolar\": [{\"marker\": {\"colorbar\": {\"outlinewidth\": 0, \"ticks\": \"\"}}, \"type\": \"scatterpolar\"}], \"scatterpolargl\": [{\"marker\": {\"colorbar\": {\"outlinewidth\": 0, \"ticks\": \"\"}}, \"type\": \"scatterpolargl\"}], \"scatterternary\": [{\"marker\": {\"colorbar\": {\"outlinewidth\": 0, \"ticks\": \"\"}}, \"type\": \"scatterternary\"}], \"surface\": [{\"colorbar\": {\"outlinewidth\": 0, \"ticks\": \"\"}, \"colorscale\": [[0.0, \"#0d0887\"], [0.1111111111111111, \"#46039f\"], [0.2222222222222222, \"#7201a8\"], [0.3333333333333333, \"#9c179e\"], [0.4444444444444444, \"#bd3786\"], [0.5555555555555556, \"#d8576b\"], [0.6666666666666666, \"#ed7953\"], [0.7777777777777778, \"#fb9f3a\"], [0.8888888888888888, \"#fdca26\"], [1.0, \"#f0f921\"]], \"type\": \"surface\"}], \"table\": [{\"cells\": {\"fill\": {\"color\": \"#EBF0F8\"}, \"line\": {\"color\": \"white\"}}, \"header\": {\"fill\": {\"color\": \"#C8D4E3\"}, \"line\": {\"color\": \"white\"}}, \"type\": \"table\"}]}, \"layout\": {\"annotationdefaults\": {\"arrowcolor\": \"#2a3f5f\", \"arrowhead\": 0, \"arrowwidth\": 1}, \"coloraxis\": {\"colorbar\": {\"outlinewidth\": 0, \"ticks\": \"\"}}, \"colorscale\": {\"diverging\": [[0, \"#8e0152\"], [0.1, \"#c51b7d\"], [0.2, \"#de77ae\"], [0.3, \"#f1b6da\"], [0.4, \"#fde0ef\"], [0.5, \"#f7f7f7\"], [0.6, \"#e6f5d0\"], [0.7, \"#b8e186\"], [0.8, \"#7fbc41\"], [0.9, \"#4d9221\"], [1, \"#276419\"]], \"sequential\": [[0.0, \"#0d0887\"], [0.1111111111111111, \"#46039f\"], [0.2222222222222222, \"#7201a8\"], [0.3333333333333333, \"#9c179e\"], [0.4444444444444444, \"#bd3786\"], [0.5555555555555556, \"#d8576b\"], [0.6666666666666666, \"#ed7953\"], [0.7777777777777778, \"#fb9f3a\"], [0.8888888888888888, \"#fdca26\"], [1.0, \"#f0f921\"]], \"sequentialminus\": [[0.0, \"#0d0887\"], [0.1111111111111111, \"#46039f\"], [0.2222222222222222, \"#7201a8\"], [0.3333333333333333, \"#9c179e\"], [0.4444444444444444, \"#bd3786\"], [0.5555555555555556, \"#d8576b\"], [0.6666666666666666, \"#ed7953\"], [0.7777777777777778, \"#fb9f3a\"], [0.8888888888888888, \"#fdca26\"], [1.0, \"#f0f921\"]]}, \"colorway\": [\"#636efa\", \"#EF553B\", \"#00cc96\", \"#ab63fa\", \"#FFA15A\", \"#19d3f3\", \"#FF6692\", \"#B6E880\", \"#FF97FF\", \"#FECB52\"], \"font\": {\"color\": \"#2a3f5f\"}, \"geo\": {\"bgcolor\": \"white\", \"lakecolor\": \"white\", \"landcolor\": \"#E5ECF6\", \"showlakes\": true, \"showland\": true, \"subunitcolor\": \"white\"}, \"hoverlabel\": {\"align\": \"left\"}, \"hovermode\": \"closest\", \"mapbox\": {\"style\": \"light\"}, \"paper_bgcolor\": \"white\", \"plot_bgcolor\": \"#E5ECF6\", \"polar\": {\"angularaxis\": {\"gridcolor\": \"white\", \"linecolor\": \"white\", \"ticks\": \"\"}, \"bgcolor\": \"#E5ECF6\", \"radialaxis\": {\"gridcolor\": \"white\", \"linecolor\": \"white\", \"ticks\": \"\"}}, \"scene\": {\"xaxis\": {\"backgroundcolor\": \"#E5ECF6\", \"gridcolor\": \"white\", \"gridwidth\": 2, \"linecolor\": \"white\", \"showbackground\": true, \"ticks\": \"\", \"zerolinecolor\": \"white\"}, \"yaxis\": {\"backgroundcolor\": \"#E5ECF6\", \"gridcolor\": \"white\", \"gridwidth\": 2, \"linecolor\": \"white\", \"showbackground\": true, \"ticks\": \"\", \"zerolinecolor\": \"white\"}, \"zaxis\": {\"backgroundcolor\": \"#E5ECF6\", \"gridcolor\": \"white\", \"gridwidth\": 2, \"linecolor\": \"white\", \"showbackground\": true, \"ticks\": \"\", \"zerolinecolor\": \"white\"}}, \"shapedefaults\": {\"line\": {\"color\": \"#2a3f5f\"}}, \"ternary\": {\"aaxis\": {\"gridcolor\": \"white\", \"linecolor\": \"white\", \"ticks\": \"\"}, \"baxis\": {\"gridcolor\": \"white\", \"linecolor\": \"white\", \"ticks\": \"\"}, \"bgcolor\": \"#E5ECF6\", \"caxis\": {\"gridcolor\": \"white\", \"linecolor\": \"white\", \"ticks\": \"\"}}, \"title\": {\"x\": 0.05}, \"xaxis\": {\"automargin\": true, \"gridcolor\": \"white\", \"linecolor\": \"white\", \"ticks\": \"\", \"title\": {\"standoff\": 15}, \"zerolinecolor\": \"white\", \"zerolinewidth\": 2}, \"yaxis\": {\"automargin\": true, \"gridcolor\": \"white\", \"linecolor\": \"white\", \"ticks\": \"\", \"title\": {\"standoff\": 15}, \"zerolinecolor\": \"white\", \"zerolinewidth\": 2}}}, \"title\": {\"text\": \"Avg Points Per Game By Team\", \"x\": 0.5, \"xanchor\": \"center\", \"y\": 0.95, \"yanchor\": \"top\"}},\n",
       "                        {\"responsive\": true}\n",
       "                    ).then(function(){\n",
       "                            \n",
       "var gd = document.getElementById('71fe584f-3e1d-4520-afbd-3149c1cac49e');\n",
       "var x = new MutationObserver(function (mutations, observer) {{\n",
       "        var display = window.getComputedStyle(gd).display;\n",
       "        if (!display || display === 'none') {{\n",
       "            console.log([gd, 'removed!']);\n",
       "            Plotly.purge(gd);\n",
       "            observer.disconnect();\n",
       "        }}\n",
       "}});\n",
       "\n",
       "// Listen for the removal of the full notebook cells\n",
       "var notebookContainer = gd.closest('#notebook-container');\n",
       "if (notebookContainer) {{\n",
       "    x.observe(notebookContainer, {childList: true});\n",
       "}}\n",
       "\n",
       "// Listen for the clearing of the current output cell\n",
       "var outputEl = gd.closest('.output');\n",
       "if (outputEl) {{\n",
       "    x.observe(outputEl, {childList: true});\n",
       "}}\n",
       "\n",
       "                        })\n",
       "                };\n",
       "                });\n",
       "            </script>\n",
       "        </div>"
      ]
     },
     "metadata": {},
     "output_type": "display_data"
    }
   ],
   "source": [
    "fig = go.Figure(data=[go.Bar(name='2017', x = team_by_wins['team'], y = pt_avg2017),\\\n",
    "                      go.Bar(name='2018', x = team_by_wins['team'], y = pt_avg2018)])\n",
    "\n",
    "layout = go.Layout(\n",
    "    title = 'Avg Points Per Game',\n",
    "    xaxis= dict(title= 'Game',ticklen= 1,zeroline= False),\n",
    "    yaxis= dict(title= 'Points',ticklen= 5,zeroline= False)\n",
    ")\n",
    "\n",
    "fig.update_layout(\n",
    "    title={\n",
    "        'text':'Avg Points Per Game By Team',\n",
    "        'y':0.95,\n",
    "        'x':0.5,\n",
    "        'xanchor': 'center',\n",
    "        'yanchor': 'top'},\n",
    "        barmode='group')\n",
    "fig"
   ]
  },
  {
   "cell_type": "markdown",
   "metadata": {},
   "source": [
    "Average points per game do not directly correlate to wins, and yard differential appears to be a better indicator. Yard differential may even help us understand weather impacts."
   ]
  },
  {
   "cell_type": "code",
   "execution_count": 173,
   "metadata": {},
   "outputs": [],
   "source": [
    "team_pass_yards_2017 = []\n",
    "team_run_yards_2017 = []\n",
    "for team in team_by_wins['team']:\n",
    "    pass_yards_2017 = sum(nfl_small2_end_of_drive[(nfl_small2_end_of_drive['posteam']==team) &\\\n",
    "                                             (nfl_small2_end_of_drive['year'] == 2017) &\\\n",
    "                                            (nfl_small2_end_of_drive['play_type'] == 'pass')]['yards_gained'])/16\n",
    "\n",
    "    run_yards_2017 = sum(nfl_small2_end_of_drive[(nfl_small2_end_of_drive['posteam']==team) &\\\n",
    "                                            (nfl_small2_end_of_drive['year'] == 2017) &\\\n",
    "                                            (nfl_small2_end_of_drive['play_type'] == 'run')]['yards_gained'])/16\n",
    "\n",
    "    \n",
    "    \n",
    "    team_pass_yards_2017.append(pass_yards_2017)\n",
    "    team_run_yards_2017.append(run_yards_2017)\n",
    "\n",
    "\n",
    "team_pass_yards_2018 = []\n",
    "team_run_yards_2018 = []\n",
    "for team in team_by_wins['team']:\n",
    "    pass_yards_2018 = sum(nfl_small2_end_of_drive[(nfl_small2_end_of_drive['posteam']==team) &\\\n",
    "                                             (nfl_small2_end_of_drive['year'] == 2018) &\\\n",
    "                                            (nfl_small2_end_of_drive['play_type'] == 'pass')]['yards_gained'])/14\n",
    "\n",
    "    run_yards_2018 = sum(nfl_small2_end_of_drive[(nfl_small2_end_of_drive['posteam']==team) &\\\n",
    "                                            (nfl_small2_end_of_drive['year'] == 2018) &\\\n",
    "                                            (nfl_small2_end_of_drive['play_type'] == 'run')]['yards_gained'])/14\n",
    "\n",
    "    \n",
    "    \n",
    "    team_pass_yards_2018.append(pass_yards_2018)\n",
    "    team_run_yards_2018.append(run_yards_2018)"
   ]
  },
  {
   "cell_type": "code",
   "execution_count": 174,
   "metadata": {},
   "outputs": [
    {
     "data": {
      "application/vnd.plotly.v1+json": {
       "config": {
        "plotlyServerURL": "https://plot.ly"
       },
       "data": [
        {
         "marker": {
          "size": 12
         },
         "mode": "markers",
         "name": "2017",
         "text": [
          "ARI",
          "ATL",
          "BAL",
          "BUF",
          "CAR",
          "CHI",
          "CIN",
          "CLE",
          "DAL",
          "DEN",
          "DET",
          "GB",
          "HOU",
          "IND",
          "JAX",
          "KC",
          "LA",
          "LAC",
          "MIA",
          "MIN",
          "NE",
          "NO",
          "NYG",
          "NYJ",
          "OAK",
          "PHI",
          "PIT",
          "SEA",
          "SF",
          "TB",
          "TEN",
          "WAS"
         ],
         "type": "scatter",
         "x": [
          201.75,
          217.4375,
          227.1875,
          198.875,
          273.125,
          245.3125,
          227.3125,
          208.4375,
          195.125,
          198.0625,
          180.75,
          220.9375,
          224.9375,
          234.4375,
          261.6875,
          176.5625,
          204.875,
          249.375,
          173.9375,
          192.3125,
          228.4375,
          189.375,
          199.4375,
          196.375,
          276.9375,
          233.5625,
          234.5625,
          274.25,
          256.5,
          274.75,
          239.75,
          262.0625
         ],
         "y": [
          107.375,
          97.5625,
          97.75,
          107.4375,
          90.9375,
          104.625,
          87.4375,
          116.75,
          86.25,
          108,
          104.5,
          87.3125,
          144.1875,
          91.125,
          76.875,
          127.1875,
          115.4375,
          116.1875,
          112.1875,
          132.9375,
          101.8125,
          117.0625,
          115.375,
          136.125,
          100.9375,
          133.5625,
          124.0625,
          105.5625,
          117.6875,
          118.8125,
          123.125,
          130.875
         ]
        },
        {
         "marker": {
          "size": 12
         },
         "mode": "markers",
         "name": "2018",
         "text": [
          "ARI",
          "ATL",
          "BAL",
          "BUF",
          "CAR",
          "CHI",
          "CIN",
          "CLE",
          "DAL",
          "DEN",
          "DET",
          "GB",
          "HOU",
          "IND",
          "JAX",
          "KC",
          "LA",
          "LAC",
          "MIA",
          "MIN",
          "NE",
          "NO",
          "NYG",
          "NYJ",
          "OAK",
          "PHI",
          "PIT",
          "SEA",
          "SF",
          "TB",
          "TEN",
          "WAS"
         ],
         "type": "scatter",
         "x": [
          250.28571428571428,
          258.85714285714283,
          259.42857142857144,
          201.64285714285714,
          347.42857142857144,
          258.7857142857143,
          172.78571428571428,
          229.07142857142858,
          234.71428571428572,
          277.2857142857143,
          294.2142857142857,
          201.28571428571428,
          230.42857142857142,
          214,
          242.57142857142858,
          186,
          233.14285714285714,
          311,
          251.42857142857142,
          244.92857142857142,
          205.21428571428572,
          227.92857142857142,
          203.78571428571428,
          232.64285714285714,
          286.57142857142856,
          281,
          264.35714285714283,
          335.07142857142856,
          328,
          295.7857142857143,
          314.14285714285717,
          277.57142857142856
         ],
         "y": [
          137.35714285714286,
          109.14285714285714,
          107.92857142857143,
          111.92857142857143,
          105.85714285714286,
          133.21428571428572,
          89.78571428571429,
          123.85714285714286,
          112.14285714285714,
          121.28571428571429,
          115.64285714285714,
          122.78571428571429,
          118.71428571428571,
          122.57142857142857,
          109.14285714285714,
          140.42857142857142,
          131,
          96,
          124.85714285714286,
          142.5,
          174.71428571428572,
          142.78571428571428,
          142.14285714285714,
          144,
          130.92857142857142,
          105.14285714285714,
          95.42857142857143,
          104.85714285714286,
          123.71428571428571,
          120.42857142857143,
          141.28571428571428,
          147.21428571428572
         ]
        }
       ],
       "layout": {
        "template": {
         "data": {
          "bar": [
           {
            "error_x": {
             "color": "#2a3f5f"
            },
            "error_y": {
             "color": "#2a3f5f"
            },
            "marker": {
             "line": {
              "color": "#E5ECF6",
              "width": 0.5
             }
            },
            "type": "bar"
           }
          ],
          "barpolar": [
           {
            "marker": {
             "line": {
              "color": "#E5ECF6",
              "width": 0.5
             }
            },
            "type": "barpolar"
           }
          ],
          "carpet": [
           {
            "aaxis": {
             "endlinecolor": "#2a3f5f",
             "gridcolor": "white",
             "linecolor": "white",
             "minorgridcolor": "white",
             "startlinecolor": "#2a3f5f"
            },
            "baxis": {
             "endlinecolor": "#2a3f5f",
             "gridcolor": "white",
             "linecolor": "white",
             "minorgridcolor": "white",
             "startlinecolor": "#2a3f5f"
            },
            "type": "carpet"
           }
          ],
          "choropleth": [
           {
            "colorbar": {
             "outlinewidth": 0,
             "ticks": ""
            },
            "type": "choropleth"
           }
          ],
          "contour": [
           {
            "colorbar": {
             "outlinewidth": 0,
             "ticks": ""
            },
            "colorscale": [
             [
              0,
              "#0d0887"
             ],
             [
              0.1111111111111111,
              "#46039f"
             ],
             [
              0.2222222222222222,
              "#7201a8"
             ],
             [
              0.3333333333333333,
              "#9c179e"
             ],
             [
              0.4444444444444444,
              "#bd3786"
             ],
             [
              0.5555555555555556,
              "#d8576b"
             ],
             [
              0.6666666666666666,
              "#ed7953"
             ],
             [
              0.7777777777777778,
              "#fb9f3a"
             ],
             [
              0.8888888888888888,
              "#fdca26"
             ],
             [
              1,
              "#f0f921"
             ]
            ],
            "type": "contour"
           }
          ],
          "contourcarpet": [
           {
            "colorbar": {
             "outlinewidth": 0,
             "ticks": ""
            },
            "type": "contourcarpet"
           }
          ],
          "heatmap": [
           {
            "colorbar": {
             "outlinewidth": 0,
             "ticks": ""
            },
            "colorscale": [
             [
              0,
              "#0d0887"
             ],
             [
              0.1111111111111111,
              "#46039f"
             ],
             [
              0.2222222222222222,
              "#7201a8"
             ],
             [
              0.3333333333333333,
              "#9c179e"
             ],
             [
              0.4444444444444444,
              "#bd3786"
             ],
             [
              0.5555555555555556,
              "#d8576b"
             ],
             [
              0.6666666666666666,
              "#ed7953"
             ],
             [
              0.7777777777777778,
              "#fb9f3a"
             ],
             [
              0.8888888888888888,
              "#fdca26"
             ],
             [
              1,
              "#f0f921"
             ]
            ],
            "type": "heatmap"
           }
          ],
          "heatmapgl": [
           {
            "colorbar": {
             "outlinewidth": 0,
             "ticks": ""
            },
            "colorscale": [
             [
              0,
              "#0d0887"
             ],
             [
              0.1111111111111111,
              "#46039f"
             ],
             [
              0.2222222222222222,
              "#7201a8"
             ],
             [
              0.3333333333333333,
              "#9c179e"
             ],
             [
              0.4444444444444444,
              "#bd3786"
             ],
             [
              0.5555555555555556,
              "#d8576b"
             ],
             [
              0.6666666666666666,
              "#ed7953"
             ],
             [
              0.7777777777777778,
              "#fb9f3a"
             ],
             [
              0.8888888888888888,
              "#fdca26"
             ],
             [
              1,
              "#f0f921"
             ]
            ],
            "type": "heatmapgl"
           }
          ],
          "histogram": [
           {
            "marker": {
             "colorbar": {
              "outlinewidth": 0,
              "ticks": ""
             }
            },
            "type": "histogram"
           }
          ],
          "histogram2d": [
           {
            "colorbar": {
             "outlinewidth": 0,
             "ticks": ""
            },
            "colorscale": [
             [
              0,
              "#0d0887"
             ],
             [
              0.1111111111111111,
              "#46039f"
             ],
             [
              0.2222222222222222,
              "#7201a8"
             ],
             [
              0.3333333333333333,
              "#9c179e"
             ],
             [
              0.4444444444444444,
              "#bd3786"
             ],
             [
              0.5555555555555556,
              "#d8576b"
             ],
             [
              0.6666666666666666,
              "#ed7953"
             ],
             [
              0.7777777777777778,
              "#fb9f3a"
             ],
             [
              0.8888888888888888,
              "#fdca26"
             ],
             [
              1,
              "#f0f921"
             ]
            ],
            "type": "histogram2d"
           }
          ],
          "histogram2dcontour": [
           {
            "colorbar": {
             "outlinewidth": 0,
             "ticks": ""
            },
            "colorscale": [
             [
              0,
              "#0d0887"
             ],
             [
              0.1111111111111111,
              "#46039f"
             ],
             [
              0.2222222222222222,
              "#7201a8"
             ],
             [
              0.3333333333333333,
              "#9c179e"
             ],
             [
              0.4444444444444444,
              "#bd3786"
             ],
             [
              0.5555555555555556,
              "#d8576b"
             ],
             [
              0.6666666666666666,
              "#ed7953"
             ],
             [
              0.7777777777777778,
              "#fb9f3a"
             ],
             [
              0.8888888888888888,
              "#fdca26"
             ],
             [
              1,
              "#f0f921"
             ]
            ],
            "type": "histogram2dcontour"
           }
          ],
          "mesh3d": [
           {
            "colorbar": {
             "outlinewidth": 0,
             "ticks": ""
            },
            "type": "mesh3d"
           }
          ],
          "parcoords": [
           {
            "line": {
             "colorbar": {
              "outlinewidth": 0,
              "ticks": ""
             }
            },
            "type": "parcoords"
           }
          ],
          "pie": [
           {
            "automargin": true,
            "type": "pie"
           }
          ],
          "scatter": [
           {
            "marker": {
             "colorbar": {
              "outlinewidth": 0,
              "ticks": ""
             }
            },
            "type": "scatter"
           }
          ],
          "scatter3d": [
           {
            "line": {
             "colorbar": {
              "outlinewidth": 0,
              "ticks": ""
             }
            },
            "marker": {
             "colorbar": {
              "outlinewidth": 0,
              "ticks": ""
             }
            },
            "type": "scatter3d"
           }
          ],
          "scattercarpet": [
           {
            "marker": {
             "colorbar": {
              "outlinewidth": 0,
              "ticks": ""
             }
            },
            "type": "scattercarpet"
           }
          ],
          "scattergeo": [
           {
            "marker": {
             "colorbar": {
              "outlinewidth": 0,
              "ticks": ""
             }
            },
            "type": "scattergeo"
           }
          ],
          "scattergl": [
           {
            "marker": {
             "colorbar": {
              "outlinewidth": 0,
              "ticks": ""
             }
            },
            "type": "scattergl"
           }
          ],
          "scattermapbox": [
           {
            "marker": {
             "colorbar": {
              "outlinewidth": 0,
              "ticks": ""
             }
            },
            "type": "scattermapbox"
           }
          ],
          "scatterpolar": [
           {
            "marker": {
             "colorbar": {
              "outlinewidth": 0,
              "ticks": ""
             }
            },
            "type": "scatterpolar"
           }
          ],
          "scatterpolargl": [
           {
            "marker": {
             "colorbar": {
              "outlinewidth": 0,
              "ticks": ""
             }
            },
            "type": "scatterpolargl"
           }
          ],
          "scatterternary": [
           {
            "marker": {
             "colorbar": {
              "outlinewidth": 0,
              "ticks": ""
             }
            },
            "type": "scatterternary"
           }
          ],
          "surface": [
           {
            "colorbar": {
             "outlinewidth": 0,
             "ticks": ""
            },
            "colorscale": [
             [
              0,
              "#0d0887"
             ],
             [
              0.1111111111111111,
              "#46039f"
             ],
             [
              0.2222222222222222,
              "#7201a8"
             ],
             [
              0.3333333333333333,
              "#9c179e"
             ],
             [
              0.4444444444444444,
              "#bd3786"
             ],
             [
              0.5555555555555556,
              "#d8576b"
             ],
             [
              0.6666666666666666,
              "#ed7953"
             ],
             [
              0.7777777777777778,
              "#fb9f3a"
             ],
             [
              0.8888888888888888,
              "#fdca26"
             ],
             [
              1,
              "#f0f921"
             ]
            ],
            "type": "surface"
           }
          ],
          "table": [
           {
            "cells": {
             "fill": {
              "color": "#EBF0F8"
             },
             "line": {
              "color": "white"
             }
            },
            "header": {
             "fill": {
              "color": "#C8D4E3"
             },
             "line": {
              "color": "white"
             }
            },
            "type": "table"
           }
          ]
         },
         "layout": {
          "annotationdefaults": {
           "arrowcolor": "#2a3f5f",
           "arrowhead": 0,
           "arrowwidth": 1
          },
          "coloraxis": {
           "colorbar": {
            "outlinewidth": 0,
            "ticks": ""
           }
          },
          "colorscale": {
           "diverging": [
            [
             0,
             "#8e0152"
            ],
            [
             0.1,
             "#c51b7d"
            ],
            [
             0.2,
             "#de77ae"
            ],
            [
             0.3,
             "#f1b6da"
            ],
            [
             0.4,
             "#fde0ef"
            ],
            [
             0.5,
             "#f7f7f7"
            ],
            [
             0.6,
             "#e6f5d0"
            ],
            [
             0.7,
             "#b8e186"
            ],
            [
             0.8,
             "#7fbc41"
            ],
            [
             0.9,
             "#4d9221"
            ],
            [
             1,
             "#276419"
            ]
           ],
           "sequential": [
            [
             0,
             "#0d0887"
            ],
            [
             0.1111111111111111,
             "#46039f"
            ],
            [
             0.2222222222222222,
             "#7201a8"
            ],
            [
             0.3333333333333333,
             "#9c179e"
            ],
            [
             0.4444444444444444,
             "#bd3786"
            ],
            [
             0.5555555555555556,
             "#d8576b"
            ],
            [
             0.6666666666666666,
             "#ed7953"
            ],
            [
             0.7777777777777778,
             "#fb9f3a"
            ],
            [
             0.8888888888888888,
             "#fdca26"
            ],
            [
             1,
             "#f0f921"
            ]
           ],
           "sequentialminus": [
            [
             0,
             "#0d0887"
            ],
            [
             0.1111111111111111,
             "#46039f"
            ],
            [
             0.2222222222222222,
             "#7201a8"
            ],
            [
             0.3333333333333333,
             "#9c179e"
            ],
            [
             0.4444444444444444,
             "#bd3786"
            ],
            [
             0.5555555555555556,
             "#d8576b"
            ],
            [
             0.6666666666666666,
             "#ed7953"
            ],
            [
             0.7777777777777778,
             "#fb9f3a"
            ],
            [
             0.8888888888888888,
             "#fdca26"
            ],
            [
             1,
             "#f0f921"
            ]
           ]
          },
          "colorway": [
           "#636efa",
           "#EF553B",
           "#00cc96",
           "#ab63fa",
           "#FFA15A",
           "#19d3f3",
           "#FF6692",
           "#B6E880",
           "#FF97FF",
           "#FECB52"
          ],
          "font": {
           "color": "#2a3f5f"
          },
          "geo": {
           "bgcolor": "white",
           "lakecolor": "white",
           "landcolor": "#E5ECF6",
           "showlakes": true,
           "showland": true,
           "subunitcolor": "white"
          },
          "hoverlabel": {
           "align": "left"
          },
          "hovermode": "closest",
          "mapbox": {
           "style": "light"
          },
          "paper_bgcolor": "white",
          "plot_bgcolor": "#E5ECF6",
          "polar": {
           "angularaxis": {
            "gridcolor": "white",
            "linecolor": "white",
            "ticks": ""
           },
           "bgcolor": "#E5ECF6",
           "radialaxis": {
            "gridcolor": "white",
            "linecolor": "white",
            "ticks": ""
           }
          },
          "scene": {
           "xaxis": {
            "backgroundcolor": "#E5ECF6",
            "gridcolor": "white",
            "gridwidth": 2,
            "linecolor": "white",
            "showbackground": true,
            "ticks": "",
            "zerolinecolor": "white"
           },
           "yaxis": {
            "backgroundcolor": "#E5ECF6",
            "gridcolor": "white",
            "gridwidth": 2,
            "linecolor": "white",
            "showbackground": true,
            "ticks": "",
            "zerolinecolor": "white"
           },
           "zaxis": {
            "backgroundcolor": "#E5ECF6",
            "gridcolor": "white",
            "gridwidth": 2,
            "linecolor": "white",
            "showbackground": true,
            "ticks": "",
            "zerolinecolor": "white"
           }
          },
          "shapedefaults": {
           "line": {
            "color": "#2a3f5f"
           }
          },
          "ternary": {
           "aaxis": {
            "gridcolor": "white",
            "linecolor": "white",
            "ticks": ""
           },
           "baxis": {
            "gridcolor": "white",
            "linecolor": "white",
            "ticks": ""
           },
           "bgcolor": "#E5ECF6",
           "caxis": {
            "gridcolor": "white",
            "linecolor": "white",
            "ticks": ""
           }
          },
          "title": {
           "x": 0.05
          },
          "xaxis": {
           "automargin": true,
           "gridcolor": "white",
           "linecolor": "white",
           "ticks": "",
           "title": {
            "standoff": 15
           },
           "zerolinecolor": "white",
           "zerolinewidth": 2
          },
          "yaxis": {
           "automargin": true,
           "gridcolor": "white",
           "linecolor": "white",
           "ticks": "",
           "title": {
            "standoff": 15
           },
           "zerolinecolor": "white",
           "zerolinewidth": 2
          }
         }
        },
        "title": {
         "text": "Run to Pass Ratio (Avg Game Yards)",
         "x": 0.5,
         "xanchor": "center",
         "y": 0.9,
         "yanchor": "top"
        },
        "xaxis": {
         "ticklen": 1,
         "title": {
          "text": "Passing Yards"
         }
        },
        "yaxis": {
         "ticklen": 5,
         "title": {
          "text": "Rushing Yards"
         }
        }
       }
      },
      "text/html": [
       "<div>\n",
       "        \n",
       "        \n",
       "            <div id=\"4b4af93b-6d59-4725-82ec-09a72ec84649\" class=\"plotly-graph-div\" style=\"height:525px; width:100%;\"></div>\n",
       "            <script type=\"text/javascript\">\n",
       "                require([\"plotly\"], function(Plotly) {\n",
       "                    window.PLOTLYENV=window.PLOTLYENV || {};\n",
       "                    \n",
       "                if (document.getElementById(\"4b4af93b-6d59-4725-82ec-09a72ec84649\")) {\n",
       "                    Plotly.newPlot(\n",
       "                        '4b4af93b-6d59-4725-82ec-09a72ec84649',\n",
       "                        [{\"marker\": {\"size\": 12}, \"mode\": \"markers\", \"name\": \"2017\", \"text\": [\"ARI\", \"ATL\", \"BAL\", \"BUF\", \"CAR\", \"CHI\", \"CIN\", \"CLE\", \"DAL\", \"DEN\", \"DET\", \"GB\", \"HOU\", \"IND\", \"JAX\", \"KC\", \"LA\", \"LAC\", \"MIA\", \"MIN\", \"NE\", \"NO\", \"NYG\", \"NYJ\", \"OAK\", \"PHI\", \"PIT\", \"SEA\", \"SF\", \"TB\", \"TEN\", \"WAS\"], \"type\": \"scatter\", \"x\": [201.75, 217.4375, 227.1875, 198.875, 273.125, 245.3125, 227.3125, 208.4375, 195.125, 198.0625, 180.75, 220.9375, 224.9375, 234.4375, 261.6875, 176.5625, 204.875, 249.375, 173.9375, 192.3125, 228.4375, 189.375, 199.4375, 196.375, 276.9375, 233.5625, 234.5625, 274.25, 256.5, 274.75, 239.75, 262.0625], \"y\": [107.375, 97.5625, 97.75, 107.4375, 90.9375, 104.625, 87.4375, 116.75, 86.25, 108.0, 104.5, 87.3125, 144.1875, 91.125, 76.875, 127.1875, 115.4375, 116.1875, 112.1875, 132.9375, 101.8125, 117.0625, 115.375, 136.125, 100.9375, 133.5625, 124.0625, 105.5625, 117.6875, 118.8125, 123.125, 130.875]}, {\"marker\": {\"size\": 12}, \"mode\": \"markers\", \"name\": \"2018\", \"text\": [\"ARI\", \"ATL\", \"BAL\", \"BUF\", \"CAR\", \"CHI\", \"CIN\", \"CLE\", \"DAL\", \"DEN\", \"DET\", \"GB\", \"HOU\", \"IND\", \"JAX\", \"KC\", \"LA\", \"LAC\", \"MIA\", \"MIN\", \"NE\", \"NO\", \"NYG\", \"NYJ\", \"OAK\", \"PHI\", \"PIT\", \"SEA\", \"SF\", \"TB\", \"TEN\", \"WAS\"], \"type\": \"scatter\", \"x\": [250.28571428571428, 258.85714285714283, 259.42857142857144, 201.64285714285714, 347.42857142857144, 258.7857142857143, 172.78571428571428, 229.07142857142858, 234.71428571428572, 277.2857142857143, 294.2142857142857, 201.28571428571428, 230.42857142857142, 214.0, 242.57142857142858, 186.0, 233.14285714285714, 311.0, 251.42857142857142, 244.92857142857142, 205.21428571428572, 227.92857142857142, 203.78571428571428, 232.64285714285714, 286.57142857142856, 281.0, 264.35714285714283, 335.07142857142856, 328.0, 295.7857142857143, 314.14285714285717, 277.57142857142856], \"y\": [137.35714285714286, 109.14285714285714, 107.92857142857143, 111.92857142857143, 105.85714285714286, 133.21428571428572, 89.78571428571429, 123.85714285714286, 112.14285714285714, 121.28571428571429, 115.64285714285714, 122.78571428571429, 118.71428571428571, 122.57142857142857, 109.14285714285714, 140.42857142857142, 131.0, 96.0, 124.85714285714286, 142.5, 174.71428571428572, 142.78571428571428, 142.14285714285714, 144.0, 130.92857142857142, 105.14285714285714, 95.42857142857143, 104.85714285714286, 123.71428571428571, 120.42857142857143, 141.28571428571428, 147.21428571428572]}],\n",
       "                        {\"template\": {\"data\": {\"bar\": [{\"error_x\": {\"color\": \"#2a3f5f\"}, \"error_y\": {\"color\": \"#2a3f5f\"}, \"marker\": {\"line\": {\"color\": \"#E5ECF6\", \"width\": 0.5}}, \"type\": \"bar\"}], \"barpolar\": [{\"marker\": {\"line\": {\"color\": \"#E5ECF6\", \"width\": 0.5}}, \"type\": \"barpolar\"}], \"carpet\": [{\"aaxis\": {\"endlinecolor\": \"#2a3f5f\", \"gridcolor\": \"white\", \"linecolor\": \"white\", \"minorgridcolor\": \"white\", \"startlinecolor\": \"#2a3f5f\"}, \"baxis\": {\"endlinecolor\": \"#2a3f5f\", \"gridcolor\": \"white\", \"linecolor\": \"white\", \"minorgridcolor\": \"white\", \"startlinecolor\": \"#2a3f5f\"}, \"type\": \"carpet\"}], \"choropleth\": [{\"colorbar\": {\"outlinewidth\": 0, \"ticks\": \"\"}, \"type\": \"choropleth\"}], \"contour\": [{\"colorbar\": {\"outlinewidth\": 0, \"ticks\": \"\"}, \"colorscale\": [[0.0, \"#0d0887\"], [0.1111111111111111, \"#46039f\"], [0.2222222222222222, \"#7201a8\"], [0.3333333333333333, \"#9c179e\"], [0.4444444444444444, \"#bd3786\"], [0.5555555555555556, \"#d8576b\"], [0.6666666666666666, \"#ed7953\"], [0.7777777777777778, \"#fb9f3a\"], [0.8888888888888888, \"#fdca26\"], [1.0, \"#f0f921\"]], \"type\": \"contour\"}], \"contourcarpet\": [{\"colorbar\": {\"outlinewidth\": 0, \"ticks\": \"\"}, \"type\": \"contourcarpet\"}], \"heatmap\": [{\"colorbar\": {\"outlinewidth\": 0, \"ticks\": \"\"}, \"colorscale\": [[0.0, \"#0d0887\"], [0.1111111111111111, \"#46039f\"], [0.2222222222222222, \"#7201a8\"], [0.3333333333333333, \"#9c179e\"], [0.4444444444444444, \"#bd3786\"], [0.5555555555555556, \"#d8576b\"], [0.6666666666666666, \"#ed7953\"], [0.7777777777777778, \"#fb9f3a\"], [0.8888888888888888, \"#fdca26\"], [1.0, \"#f0f921\"]], \"type\": \"heatmap\"}], \"heatmapgl\": [{\"colorbar\": {\"outlinewidth\": 0, \"ticks\": \"\"}, \"colorscale\": [[0.0, \"#0d0887\"], [0.1111111111111111, \"#46039f\"], [0.2222222222222222, \"#7201a8\"], [0.3333333333333333, \"#9c179e\"], [0.4444444444444444, \"#bd3786\"], [0.5555555555555556, \"#d8576b\"], [0.6666666666666666, \"#ed7953\"], [0.7777777777777778, \"#fb9f3a\"], [0.8888888888888888, \"#fdca26\"], [1.0, \"#f0f921\"]], \"type\": \"heatmapgl\"}], \"histogram\": [{\"marker\": {\"colorbar\": {\"outlinewidth\": 0, \"ticks\": \"\"}}, \"type\": \"histogram\"}], \"histogram2d\": [{\"colorbar\": {\"outlinewidth\": 0, \"ticks\": \"\"}, \"colorscale\": [[0.0, \"#0d0887\"], [0.1111111111111111, \"#46039f\"], [0.2222222222222222, \"#7201a8\"], [0.3333333333333333, \"#9c179e\"], [0.4444444444444444, \"#bd3786\"], [0.5555555555555556, \"#d8576b\"], [0.6666666666666666, \"#ed7953\"], [0.7777777777777778, \"#fb9f3a\"], [0.8888888888888888, \"#fdca26\"], [1.0, \"#f0f921\"]], \"type\": \"histogram2d\"}], \"histogram2dcontour\": [{\"colorbar\": {\"outlinewidth\": 0, \"ticks\": \"\"}, \"colorscale\": [[0.0, \"#0d0887\"], [0.1111111111111111, \"#46039f\"], [0.2222222222222222, \"#7201a8\"], [0.3333333333333333, \"#9c179e\"], [0.4444444444444444, \"#bd3786\"], [0.5555555555555556, \"#d8576b\"], [0.6666666666666666, \"#ed7953\"], [0.7777777777777778, \"#fb9f3a\"], [0.8888888888888888, \"#fdca26\"], [1.0, \"#f0f921\"]], \"type\": \"histogram2dcontour\"}], \"mesh3d\": [{\"colorbar\": {\"outlinewidth\": 0, \"ticks\": \"\"}, \"type\": \"mesh3d\"}], \"parcoords\": [{\"line\": {\"colorbar\": {\"outlinewidth\": 0, \"ticks\": \"\"}}, \"type\": \"parcoords\"}], \"pie\": [{\"automargin\": true, \"type\": \"pie\"}], \"scatter\": [{\"marker\": {\"colorbar\": {\"outlinewidth\": 0, \"ticks\": \"\"}}, \"type\": \"scatter\"}], \"scatter3d\": [{\"line\": {\"colorbar\": {\"outlinewidth\": 0, \"ticks\": \"\"}}, \"marker\": {\"colorbar\": {\"outlinewidth\": 0, \"ticks\": \"\"}}, \"type\": \"scatter3d\"}], \"scattercarpet\": [{\"marker\": {\"colorbar\": {\"outlinewidth\": 0, \"ticks\": \"\"}}, \"type\": \"scattercarpet\"}], \"scattergeo\": [{\"marker\": {\"colorbar\": {\"outlinewidth\": 0, \"ticks\": \"\"}}, \"type\": \"scattergeo\"}], \"scattergl\": [{\"marker\": {\"colorbar\": {\"outlinewidth\": 0, \"ticks\": \"\"}}, \"type\": \"scattergl\"}], \"scattermapbox\": [{\"marker\": {\"colorbar\": {\"outlinewidth\": 0, \"ticks\": \"\"}}, \"type\": \"scattermapbox\"}], \"scatterpolar\": [{\"marker\": {\"colorbar\": {\"outlinewidth\": 0, \"ticks\": \"\"}}, \"type\": \"scatterpolar\"}], \"scatterpolargl\": [{\"marker\": {\"colorbar\": {\"outlinewidth\": 0, \"ticks\": \"\"}}, \"type\": \"scatterpolargl\"}], \"scatterternary\": [{\"marker\": {\"colorbar\": {\"outlinewidth\": 0, \"ticks\": \"\"}}, \"type\": \"scatterternary\"}], \"surface\": [{\"colorbar\": {\"outlinewidth\": 0, \"ticks\": \"\"}, \"colorscale\": [[0.0, \"#0d0887\"], [0.1111111111111111, \"#46039f\"], [0.2222222222222222, \"#7201a8\"], [0.3333333333333333, \"#9c179e\"], [0.4444444444444444, \"#bd3786\"], [0.5555555555555556, \"#d8576b\"], [0.6666666666666666, \"#ed7953\"], [0.7777777777777778, \"#fb9f3a\"], [0.8888888888888888, \"#fdca26\"], [1.0, \"#f0f921\"]], \"type\": \"surface\"}], \"table\": [{\"cells\": {\"fill\": {\"color\": \"#EBF0F8\"}, \"line\": {\"color\": \"white\"}}, \"header\": {\"fill\": {\"color\": \"#C8D4E3\"}, \"line\": {\"color\": \"white\"}}, \"type\": \"table\"}]}, \"layout\": {\"annotationdefaults\": {\"arrowcolor\": \"#2a3f5f\", \"arrowhead\": 0, \"arrowwidth\": 1}, \"coloraxis\": {\"colorbar\": {\"outlinewidth\": 0, \"ticks\": \"\"}}, \"colorscale\": {\"diverging\": [[0, \"#8e0152\"], [0.1, \"#c51b7d\"], [0.2, \"#de77ae\"], [0.3, \"#f1b6da\"], [0.4, \"#fde0ef\"], [0.5, \"#f7f7f7\"], [0.6, \"#e6f5d0\"], [0.7, \"#b8e186\"], [0.8, \"#7fbc41\"], [0.9, \"#4d9221\"], [1, \"#276419\"]], \"sequential\": [[0.0, \"#0d0887\"], [0.1111111111111111, \"#46039f\"], [0.2222222222222222, \"#7201a8\"], [0.3333333333333333, \"#9c179e\"], [0.4444444444444444, \"#bd3786\"], [0.5555555555555556, \"#d8576b\"], [0.6666666666666666, \"#ed7953\"], [0.7777777777777778, \"#fb9f3a\"], [0.8888888888888888, \"#fdca26\"], [1.0, \"#f0f921\"]], \"sequentialminus\": [[0.0, \"#0d0887\"], [0.1111111111111111, \"#46039f\"], [0.2222222222222222, \"#7201a8\"], [0.3333333333333333, \"#9c179e\"], [0.4444444444444444, \"#bd3786\"], [0.5555555555555556, \"#d8576b\"], [0.6666666666666666, \"#ed7953\"], [0.7777777777777778, \"#fb9f3a\"], [0.8888888888888888, \"#fdca26\"], [1.0, \"#f0f921\"]]}, \"colorway\": [\"#636efa\", \"#EF553B\", \"#00cc96\", \"#ab63fa\", \"#FFA15A\", \"#19d3f3\", \"#FF6692\", \"#B6E880\", \"#FF97FF\", \"#FECB52\"], \"font\": {\"color\": \"#2a3f5f\"}, \"geo\": {\"bgcolor\": \"white\", \"lakecolor\": \"white\", \"landcolor\": \"#E5ECF6\", \"showlakes\": true, \"showland\": true, \"subunitcolor\": \"white\"}, \"hoverlabel\": {\"align\": \"left\"}, \"hovermode\": \"closest\", \"mapbox\": {\"style\": \"light\"}, \"paper_bgcolor\": \"white\", \"plot_bgcolor\": \"#E5ECF6\", \"polar\": {\"angularaxis\": {\"gridcolor\": \"white\", \"linecolor\": \"white\", \"ticks\": \"\"}, \"bgcolor\": \"#E5ECF6\", \"radialaxis\": {\"gridcolor\": \"white\", \"linecolor\": \"white\", \"ticks\": \"\"}}, \"scene\": {\"xaxis\": {\"backgroundcolor\": \"#E5ECF6\", \"gridcolor\": \"white\", \"gridwidth\": 2, \"linecolor\": \"white\", \"showbackground\": true, \"ticks\": \"\", \"zerolinecolor\": \"white\"}, \"yaxis\": {\"backgroundcolor\": \"#E5ECF6\", \"gridcolor\": \"white\", \"gridwidth\": 2, \"linecolor\": \"white\", \"showbackground\": true, \"ticks\": \"\", \"zerolinecolor\": \"white\"}, \"zaxis\": {\"backgroundcolor\": \"#E5ECF6\", \"gridcolor\": \"white\", \"gridwidth\": 2, \"linecolor\": \"white\", \"showbackground\": true, \"ticks\": \"\", \"zerolinecolor\": \"white\"}}, \"shapedefaults\": {\"line\": {\"color\": \"#2a3f5f\"}}, \"ternary\": {\"aaxis\": {\"gridcolor\": \"white\", \"linecolor\": \"white\", \"ticks\": \"\"}, \"baxis\": {\"gridcolor\": \"white\", \"linecolor\": \"white\", \"ticks\": \"\"}, \"bgcolor\": \"#E5ECF6\", \"caxis\": {\"gridcolor\": \"white\", \"linecolor\": \"white\", \"ticks\": \"\"}}, \"title\": {\"x\": 0.05}, \"xaxis\": {\"automargin\": true, \"gridcolor\": \"white\", \"linecolor\": \"white\", \"ticks\": \"\", \"title\": {\"standoff\": 15}, \"zerolinecolor\": \"white\", \"zerolinewidth\": 2}, \"yaxis\": {\"automargin\": true, \"gridcolor\": \"white\", \"linecolor\": \"white\", \"ticks\": \"\", \"title\": {\"standoff\": 15}, \"zerolinecolor\": \"white\", \"zerolinewidth\": 2}}}, \"title\": {\"text\": \"Run to Pass Ratio (Avg Game Yards)\", \"x\": 0.5, \"xanchor\": \"center\", \"y\": 0.9, \"yanchor\": \"top\"}, \"xaxis\": {\"ticklen\": 1, \"title\": {\"text\": \"Passing Yards\"}}, \"yaxis\": {\"ticklen\": 5, \"title\": {\"text\": \"Rushing Yards\"}}},\n",
       "                        {\"responsive\": true}\n",
       "                    ).then(function(){\n",
       "                            \n",
       "var gd = document.getElementById('4b4af93b-6d59-4725-82ec-09a72ec84649');\n",
       "var x = new MutationObserver(function (mutations, observer) {{\n",
       "        var display = window.getComputedStyle(gd).display;\n",
       "        if (!display || display === 'none') {{\n",
       "            console.log([gd, 'removed!']);\n",
       "            Plotly.purge(gd);\n",
       "            observer.disconnect();\n",
       "        }}\n",
       "}});\n",
       "\n",
       "// Listen for the removal of the full notebook cells\n",
       "var notebookContainer = gd.closest('#notebook-container');\n",
       "if (notebookContainer) {{\n",
       "    x.observe(notebookContainer, {childList: true});\n",
       "}}\n",
       "\n",
       "// Listen for the clearing of the current output cell\n",
       "var outputEl = gd.closest('.output');\n",
       "if (outputEl) {{\n",
       "    x.observe(outputEl, {childList: true});\n",
       "}}\n",
       "\n",
       "                        })\n",
       "                };\n",
       "                });\n",
       "            </script>\n",
       "        </div>"
      ]
     },
     "metadata": {},
     "output_type": "display_data"
    }
   ],
   "source": [
    "fig = go.Figure()\n",
    "\n",
    "\n",
    "fig.add_trace(go.Scatter(name='2017',x=team_pass_yards_2017, y=team_run_yards_2017, mode='markers',\\\n",
    "                                   text=teams, marker=dict(size=12))\n",
    "             )\n",
    "              \n",
    "fig.add_trace(go.Scatter(name='2018',x=team_pass_yards_2018, y=team_run_yards_2018, mode='markers',\\\n",
    "                                   text=teams, marker=dict(size=12))\n",
    "             )              \n",
    "              \n",
    "\n",
    "                               \n",
    "\n",
    "fig.update_layout(\n",
    "    title={\n",
    "        'text':'Run to Pass Ratio (Avg Game Yards)',\n",
    "        'y':0.9,\n",
    "        'x':0.5,\n",
    "        'xanchor': 'center',\n",
    "        'yanchor': 'top'},\n",
    "    xaxis= dict(title= 'Passing Yards',ticklen= 1),\n",
    "    yaxis= dict(title= 'Rushing Yards',ticklen= 5))\n",
    "\n",
    "fig"
   ]
  },
  {
   "cell_type": "code",
   "execution_count": 175,
   "metadata": {},
   "outputs": [],
   "source": [
    "pass_run_ratio_2017 = [round(x/y,2) for x,y in zip(team_pass_yards_2017, team_run_yards_2017)]\n",
    "pass_run_ratio_2018 = [round(x/y,2) for x,y in zip(team_pass_yards_2018, team_run_yards_2018)]"
   ]
  },
  {
   "cell_type": "code",
   "execution_count": 176,
   "metadata": {},
   "outputs": [
    {
     "data": {
      "application/vnd.plotly.v1+json": {
       "config": {
        "plotlyServerURL": "https://plot.ly"
       },
       "data": [
        {
         "name": "2017",
         "type": "bar",
         "x": [
          "CLE",
          "NYG",
          "OAK",
          "NYJ",
          "TB",
          "SF",
          "ARI",
          "DEN",
          "CIN",
          "GB",
          "IND",
          "MIA",
          "JAX",
          "WAS",
          "DET",
          "BUF",
          "HOU",
          "ATL",
          "CHI",
          "CAR",
          "SEA",
          "BAL",
          "TEN",
          "DAL",
          "LAC",
          "PHI",
          "MIN",
          "PIT",
          "KC",
          "NE",
          "LA",
          "NO"
         ],
         "y": [
          1.88,
          2.23,
          2.32,
          1.85,
          3,
          2.34,
          2.6,
          1.79,
          2.26,
          1.83,
          1.73,
          2.53,
          1.56,
          2.57,
          3.4,
          1.39,
          1.77,
          2.15,
          1.55,
          1.45,
          2.24,
          1.62,
          1.73,
          1.44,
          2.74,
          1.75,
          1.89,
          2.6,
          2.18,
          2.31,
          1.95,
          2
         ]
        },
        {
         "name": "2018",
         "type": "bar",
         "x": [
          "CLE",
          "NYG",
          "OAK",
          "NYJ",
          "TB",
          "SF",
          "ARI",
          "DEN",
          "CIN",
          "GB",
          "IND",
          "MIA",
          "JAX",
          "WAS",
          "DET",
          "BUF",
          "HOU",
          "ATL",
          "CHI",
          "CAR",
          "SEA",
          "BAL",
          "TEN",
          "DAL",
          "LAC",
          "PHI",
          "MIN",
          "PIT",
          "KC",
          "NE",
          "LA",
          "NO"
         ],
         "y": [
          1.82,
          2.37,
          2.4,
          1.8,
          3.28,
          1.94,
          1.92,
          1.85,
          2.09,
          2.29,
          2.54,
          1.64,
          1.94,
          1.75,
          2.22,
          1.32,
          1.78,
          3.24,
          2.01,
          1.72,
          1.17,
          1.6,
          1.43,
          1.62,
          2.19,
          2.67,
          2.77,
          3.2,
          2.65,
          2.46,
          2.22,
          1.89
         ]
        }
       ],
       "layout": {
        "barmode": "group",
        "template": {
         "data": {
          "bar": [
           {
            "error_x": {
             "color": "#2a3f5f"
            },
            "error_y": {
             "color": "#2a3f5f"
            },
            "marker": {
             "line": {
              "color": "#E5ECF6",
              "width": 0.5
             }
            },
            "type": "bar"
           }
          ],
          "barpolar": [
           {
            "marker": {
             "line": {
              "color": "#E5ECF6",
              "width": 0.5
             }
            },
            "type": "barpolar"
           }
          ],
          "carpet": [
           {
            "aaxis": {
             "endlinecolor": "#2a3f5f",
             "gridcolor": "white",
             "linecolor": "white",
             "minorgridcolor": "white",
             "startlinecolor": "#2a3f5f"
            },
            "baxis": {
             "endlinecolor": "#2a3f5f",
             "gridcolor": "white",
             "linecolor": "white",
             "minorgridcolor": "white",
             "startlinecolor": "#2a3f5f"
            },
            "type": "carpet"
           }
          ],
          "choropleth": [
           {
            "colorbar": {
             "outlinewidth": 0,
             "ticks": ""
            },
            "type": "choropleth"
           }
          ],
          "contour": [
           {
            "colorbar": {
             "outlinewidth": 0,
             "ticks": ""
            },
            "colorscale": [
             [
              0,
              "#0d0887"
             ],
             [
              0.1111111111111111,
              "#46039f"
             ],
             [
              0.2222222222222222,
              "#7201a8"
             ],
             [
              0.3333333333333333,
              "#9c179e"
             ],
             [
              0.4444444444444444,
              "#bd3786"
             ],
             [
              0.5555555555555556,
              "#d8576b"
             ],
             [
              0.6666666666666666,
              "#ed7953"
             ],
             [
              0.7777777777777778,
              "#fb9f3a"
             ],
             [
              0.8888888888888888,
              "#fdca26"
             ],
             [
              1,
              "#f0f921"
             ]
            ],
            "type": "contour"
           }
          ],
          "contourcarpet": [
           {
            "colorbar": {
             "outlinewidth": 0,
             "ticks": ""
            },
            "type": "contourcarpet"
           }
          ],
          "heatmap": [
           {
            "colorbar": {
             "outlinewidth": 0,
             "ticks": ""
            },
            "colorscale": [
             [
              0,
              "#0d0887"
             ],
             [
              0.1111111111111111,
              "#46039f"
             ],
             [
              0.2222222222222222,
              "#7201a8"
             ],
             [
              0.3333333333333333,
              "#9c179e"
             ],
             [
              0.4444444444444444,
              "#bd3786"
             ],
             [
              0.5555555555555556,
              "#d8576b"
             ],
             [
              0.6666666666666666,
              "#ed7953"
             ],
             [
              0.7777777777777778,
              "#fb9f3a"
             ],
             [
              0.8888888888888888,
              "#fdca26"
             ],
             [
              1,
              "#f0f921"
             ]
            ],
            "type": "heatmap"
           }
          ],
          "heatmapgl": [
           {
            "colorbar": {
             "outlinewidth": 0,
             "ticks": ""
            },
            "colorscale": [
             [
              0,
              "#0d0887"
             ],
             [
              0.1111111111111111,
              "#46039f"
             ],
             [
              0.2222222222222222,
              "#7201a8"
             ],
             [
              0.3333333333333333,
              "#9c179e"
             ],
             [
              0.4444444444444444,
              "#bd3786"
             ],
             [
              0.5555555555555556,
              "#d8576b"
             ],
             [
              0.6666666666666666,
              "#ed7953"
             ],
             [
              0.7777777777777778,
              "#fb9f3a"
             ],
             [
              0.8888888888888888,
              "#fdca26"
             ],
             [
              1,
              "#f0f921"
             ]
            ],
            "type": "heatmapgl"
           }
          ],
          "histogram": [
           {
            "marker": {
             "colorbar": {
              "outlinewidth": 0,
              "ticks": ""
             }
            },
            "type": "histogram"
           }
          ],
          "histogram2d": [
           {
            "colorbar": {
             "outlinewidth": 0,
             "ticks": ""
            },
            "colorscale": [
             [
              0,
              "#0d0887"
             ],
             [
              0.1111111111111111,
              "#46039f"
             ],
             [
              0.2222222222222222,
              "#7201a8"
             ],
             [
              0.3333333333333333,
              "#9c179e"
             ],
             [
              0.4444444444444444,
              "#bd3786"
             ],
             [
              0.5555555555555556,
              "#d8576b"
             ],
             [
              0.6666666666666666,
              "#ed7953"
             ],
             [
              0.7777777777777778,
              "#fb9f3a"
             ],
             [
              0.8888888888888888,
              "#fdca26"
             ],
             [
              1,
              "#f0f921"
             ]
            ],
            "type": "histogram2d"
           }
          ],
          "histogram2dcontour": [
           {
            "colorbar": {
             "outlinewidth": 0,
             "ticks": ""
            },
            "colorscale": [
             [
              0,
              "#0d0887"
             ],
             [
              0.1111111111111111,
              "#46039f"
             ],
             [
              0.2222222222222222,
              "#7201a8"
             ],
             [
              0.3333333333333333,
              "#9c179e"
             ],
             [
              0.4444444444444444,
              "#bd3786"
             ],
             [
              0.5555555555555556,
              "#d8576b"
             ],
             [
              0.6666666666666666,
              "#ed7953"
             ],
             [
              0.7777777777777778,
              "#fb9f3a"
             ],
             [
              0.8888888888888888,
              "#fdca26"
             ],
             [
              1,
              "#f0f921"
             ]
            ],
            "type": "histogram2dcontour"
           }
          ],
          "mesh3d": [
           {
            "colorbar": {
             "outlinewidth": 0,
             "ticks": ""
            },
            "type": "mesh3d"
           }
          ],
          "parcoords": [
           {
            "line": {
             "colorbar": {
              "outlinewidth": 0,
              "ticks": ""
             }
            },
            "type": "parcoords"
           }
          ],
          "pie": [
           {
            "automargin": true,
            "type": "pie"
           }
          ],
          "scatter": [
           {
            "marker": {
             "colorbar": {
              "outlinewidth": 0,
              "ticks": ""
             }
            },
            "type": "scatter"
           }
          ],
          "scatter3d": [
           {
            "line": {
             "colorbar": {
              "outlinewidth": 0,
              "ticks": ""
             }
            },
            "marker": {
             "colorbar": {
              "outlinewidth": 0,
              "ticks": ""
             }
            },
            "type": "scatter3d"
           }
          ],
          "scattercarpet": [
           {
            "marker": {
             "colorbar": {
              "outlinewidth": 0,
              "ticks": ""
             }
            },
            "type": "scattercarpet"
           }
          ],
          "scattergeo": [
           {
            "marker": {
             "colorbar": {
              "outlinewidth": 0,
              "ticks": ""
             }
            },
            "type": "scattergeo"
           }
          ],
          "scattergl": [
           {
            "marker": {
             "colorbar": {
              "outlinewidth": 0,
              "ticks": ""
             }
            },
            "type": "scattergl"
           }
          ],
          "scattermapbox": [
           {
            "marker": {
             "colorbar": {
              "outlinewidth": 0,
              "ticks": ""
             }
            },
            "type": "scattermapbox"
           }
          ],
          "scatterpolar": [
           {
            "marker": {
             "colorbar": {
              "outlinewidth": 0,
              "ticks": ""
             }
            },
            "type": "scatterpolar"
           }
          ],
          "scatterpolargl": [
           {
            "marker": {
             "colorbar": {
              "outlinewidth": 0,
              "ticks": ""
             }
            },
            "type": "scatterpolargl"
           }
          ],
          "scatterternary": [
           {
            "marker": {
             "colorbar": {
              "outlinewidth": 0,
              "ticks": ""
             }
            },
            "type": "scatterternary"
           }
          ],
          "surface": [
           {
            "colorbar": {
             "outlinewidth": 0,
             "ticks": ""
            },
            "colorscale": [
             [
              0,
              "#0d0887"
             ],
             [
              0.1111111111111111,
              "#46039f"
             ],
             [
              0.2222222222222222,
              "#7201a8"
             ],
             [
              0.3333333333333333,
              "#9c179e"
             ],
             [
              0.4444444444444444,
              "#bd3786"
             ],
             [
              0.5555555555555556,
              "#d8576b"
             ],
             [
              0.6666666666666666,
              "#ed7953"
             ],
             [
              0.7777777777777778,
              "#fb9f3a"
             ],
             [
              0.8888888888888888,
              "#fdca26"
             ],
             [
              1,
              "#f0f921"
             ]
            ],
            "type": "surface"
           }
          ],
          "table": [
           {
            "cells": {
             "fill": {
              "color": "#EBF0F8"
             },
             "line": {
              "color": "white"
             }
            },
            "header": {
             "fill": {
              "color": "#C8D4E3"
             },
             "line": {
              "color": "white"
             }
            },
            "type": "table"
           }
          ]
         },
         "layout": {
          "annotationdefaults": {
           "arrowcolor": "#2a3f5f",
           "arrowhead": 0,
           "arrowwidth": 1
          },
          "coloraxis": {
           "colorbar": {
            "outlinewidth": 0,
            "ticks": ""
           }
          },
          "colorscale": {
           "diverging": [
            [
             0,
             "#8e0152"
            ],
            [
             0.1,
             "#c51b7d"
            ],
            [
             0.2,
             "#de77ae"
            ],
            [
             0.3,
             "#f1b6da"
            ],
            [
             0.4,
             "#fde0ef"
            ],
            [
             0.5,
             "#f7f7f7"
            ],
            [
             0.6,
             "#e6f5d0"
            ],
            [
             0.7,
             "#b8e186"
            ],
            [
             0.8,
             "#7fbc41"
            ],
            [
             0.9,
             "#4d9221"
            ],
            [
             1,
             "#276419"
            ]
           ],
           "sequential": [
            [
             0,
             "#0d0887"
            ],
            [
             0.1111111111111111,
             "#46039f"
            ],
            [
             0.2222222222222222,
             "#7201a8"
            ],
            [
             0.3333333333333333,
             "#9c179e"
            ],
            [
             0.4444444444444444,
             "#bd3786"
            ],
            [
             0.5555555555555556,
             "#d8576b"
            ],
            [
             0.6666666666666666,
             "#ed7953"
            ],
            [
             0.7777777777777778,
             "#fb9f3a"
            ],
            [
             0.8888888888888888,
             "#fdca26"
            ],
            [
             1,
             "#f0f921"
            ]
           ],
           "sequentialminus": [
            [
             0,
             "#0d0887"
            ],
            [
             0.1111111111111111,
             "#46039f"
            ],
            [
             0.2222222222222222,
             "#7201a8"
            ],
            [
             0.3333333333333333,
             "#9c179e"
            ],
            [
             0.4444444444444444,
             "#bd3786"
            ],
            [
             0.5555555555555556,
             "#d8576b"
            ],
            [
             0.6666666666666666,
             "#ed7953"
            ],
            [
             0.7777777777777778,
             "#fb9f3a"
            ],
            [
             0.8888888888888888,
             "#fdca26"
            ],
            [
             1,
             "#f0f921"
            ]
           ]
          },
          "colorway": [
           "#636efa",
           "#EF553B",
           "#00cc96",
           "#ab63fa",
           "#FFA15A",
           "#19d3f3",
           "#FF6692",
           "#B6E880",
           "#FF97FF",
           "#FECB52"
          ],
          "font": {
           "color": "#2a3f5f"
          },
          "geo": {
           "bgcolor": "white",
           "lakecolor": "white",
           "landcolor": "#E5ECF6",
           "showlakes": true,
           "showland": true,
           "subunitcolor": "white"
          },
          "hoverlabel": {
           "align": "left"
          },
          "hovermode": "closest",
          "mapbox": {
           "style": "light"
          },
          "paper_bgcolor": "white",
          "plot_bgcolor": "#E5ECF6",
          "polar": {
           "angularaxis": {
            "gridcolor": "white",
            "linecolor": "white",
            "ticks": ""
           },
           "bgcolor": "#E5ECF6",
           "radialaxis": {
            "gridcolor": "white",
            "linecolor": "white",
            "ticks": ""
           }
          },
          "scene": {
           "xaxis": {
            "backgroundcolor": "#E5ECF6",
            "gridcolor": "white",
            "gridwidth": 2,
            "linecolor": "white",
            "showbackground": true,
            "ticks": "",
            "zerolinecolor": "white"
           },
           "yaxis": {
            "backgroundcolor": "#E5ECF6",
            "gridcolor": "white",
            "gridwidth": 2,
            "linecolor": "white",
            "showbackground": true,
            "ticks": "",
            "zerolinecolor": "white"
           },
           "zaxis": {
            "backgroundcolor": "#E5ECF6",
            "gridcolor": "white",
            "gridwidth": 2,
            "linecolor": "white",
            "showbackground": true,
            "ticks": "",
            "zerolinecolor": "white"
           }
          },
          "shapedefaults": {
           "line": {
            "color": "#2a3f5f"
           }
          },
          "ternary": {
           "aaxis": {
            "gridcolor": "white",
            "linecolor": "white",
            "ticks": ""
           },
           "baxis": {
            "gridcolor": "white",
            "linecolor": "white",
            "ticks": ""
           },
           "bgcolor": "#E5ECF6",
           "caxis": {
            "gridcolor": "white",
            "linecolor": "white",
            "ticks": ""
           }
          },
          "title": {
           "x": 0.05
          },
          "xaxis": {
           "automargin": true,
           "gridcolor": "white",
           "linecolor": "white",
           "ticks": "",
           "title": {
            "standoff": 15
           },
           "zerolinecolor": "white",
           "zerolinewidth": 2
          },
          "yaxis": {
           "automargin": true,
           "gridcolor": "white",
           "linecolor": "white",
           "ticks": "",
           "title": {
            "standoff": 15
           },
           "zerolinecolor": "white",
           "zerolinewidth": 2
          }
         }
        },
        "title": {
         "text": "Pass to Run Ratio (2017 & 2018)",
         "x": 0.5,
         "xanchor": "center",
         "y": 0.95,
         "yanchor": "top"
        }
       }
      },
      "text/html": [
       "<div>\n",
       "        \n",
       "        \n",
       "            <div id=\"d9daf781-4b0b-44fe-9022-d95c3e7b3879\" class=\"plotly-graph-div\" style=\"height:525px; width:100%;\"></div>\n",
       "            <script type=\"text/javascript\">\n",
       "                require([\"plotly\"], function(Plotly) {\n",
       "                    window.PLOTLYENV=window.PLOTLYENV || {};\n",
       "                    \n",
       "                if (document.getElementById(\"d9daf781-4b0b-44fe-9022-d95c3e7b3879\")) {\n",
       "                    Plotly.newPlot(\n",
       "                        'd9daf781-4b0b-44fe-9022-d95c3e7b3879',\n",
       "                        [{\"name\": \"2017\", \"type\": \"bar\", \"x\": [\"CLE\", \"NYG\", \"OAK\", \"NYJ\", \"TB\", \"SF\", \"ARI\", \"DEN\", \"CIN\", \"GB\", \"IND\", \"MIA\", \"JAX\", \"WAS\", \"DET\", \"BUF\", \"HOU\", \"ATL\", \"CHI\", \"CAR\", \"SEA\", \"BAL\", \"TEN\", \"DAL\", \"LAC\", \"PHI\", \"MIN\", \"PIT\", \"KC\", \"NE\", \"LA\", \"NO\"], \"y\": [1.88, 2.23, 2.32, 1.85, 3.0, 2.34, 2.6, 1.79, 2.26, 1.83, 1.73, 2.53, 1.56, 2.57, 3.4, 1.39, 1.77, 2.15, 1.55, 1.45, 2.24, 1.62, 1.73, 1.44, 2.74, 1.75, 1.89, 2.6, 2.18, 2.31, 1.95, 2.0]}, {\"name\": \"2018\", \"type\": \"bar\", \"x\": [\"CLE\", \"NYG\", \"OAK\", \"NYJ\", \"TB\", \"SF\", \"ARI\", \"DEN\", \"CIN\", \"GB\", \"IND\", \"MIA\", \"JAX\", \"WAS\", \"DET\", \"BUF\", \"HOU\", \"ATL\", \"CHI\", \"CAR\", \"SEA\", \"BAL\", \"TEN\", \"DAL\", \"LAC\", \"PHI\", \"MIN\", \"PIT\", \"KC\", \"NE\", \"LA\", \"NO\"], \"y\": [1.82, 2.37, 2.4, 1.8, 3.28, 1.94, 1.92, 1.85, 2.09, 2.29, 2.54, 1.64, 1.94, 1.75, 2.22, 1.32, 1.78, 3.24, 2.01, 1.72, 1.17, 1.6, 1.43, 1.62, 2.19, 2.67, 2.77, 3.2, 2.65, 2.46, 2.22, 1.89]}],\n",
       "                        {\"barmode\": \"group\", \"template\": {\"data\": {\"bar\": [{\"error_x\": {\"color\": \"#2a3f5f\"}, \"error_y\": {\"color\": \"#2a3f5f\"}, \"marker\": {\"line\": {\"color\": \"#E5ECF6\", \"width\": 0.5}}, \"type\": \"bar\"}], \"barpolar\": [{\"marker\": {\"line\": {\"color\": \"#E5ECF6\", \"width\": 0.5}}, \"type\": \"barpolar\"}], \"carpet\": [{\"aaxis\": {\"endlinecolor\": \"#2a3f5f\", \"gridcolor\": \"white\", \"linecolor\": \"white\", \"minorgridcolor\": \"white\", \"startlinecolor\": \"#2a3f5f\"}, \"baxis\": {\"endlinecolor\": \"#2a3f5f\", \"gridcolor\": \"white\", \"linecolor\": \"white\", \"minorgridcolor\": \"white\", \"startlinecolor\": \"#2a3f5f\"}, \"type\": \"carpet\"}], \"choropleth\": [{\"colorbar\": {\"outlinewidth\": 0, \"ticks\": \"\"}, \"type\": \"choropleth\"}], \"contour\": [{\"colorbar\": {\"outlinewidth\": 0, \"ticks\": \"\"}, \"colorscale\": [[0.0, \"#0d0887\"], [0.1111111111111111, \"#46039f\"], [0.2222222222222222, \"#7201a8\"], [0.3333333333333333, \"#9c179e\"], [0.4444444444444444, \"#bd3786\"], [0.5555555555555556, \"#d8576b\"], [0.6666666666666666, \"#ed7953\"], [0.7777777777777778, \"#fb9f3a\"], [0.8888888888888888, \"#fdca26\"], [1.0, \"#f0f921\"]], \"type\": \"contour\"}], \"contourcarpet\": [{\"colorbar\": {\"outlinewidth\": 0, \"ticks\": \"\"}, \"type\": \"contourcarpet\"}], \"heatmap\": [{\"colorbar\": {\"outlinewidth\": 0, \"ticks\": \"\"}, \"colorscale\": [[0.0, \"#0d0887\"], [0.1111111111111111, \"#46039f\"], [0.2222222222222222, \"#7201a8\"], [0.3333333333333333, \"#9c179e\"], [0.4444444444444444, \"#bd3786\"], [0.5555555555555556, \"#d8576b\"], [0.6666666666666666, \"#ed7953\"], [0.7777777777777778, \"#fb9f3a\"], [0.8888888888888888, \"#fdca26\"], [1.0, \"#f0f921\"]], \"type\": \"heatmap\"}], \"heatmapgl\": [{\"colorbar\": {\"outlinewidth\": 0, \"ticks\": \"\"}, \"colorscale\": [[0.0, \"#0d0887\"], [0.1111111111111111, \"#46039f\"], [0.2222222222222222, \"#7201a8\"], [0.3333333333333333, \"#9c179e\"], [0.4444444444444444, \"#bd3786\"], [0.5555555555555556, \"#d8576b\"], [0.6666666666666666, \"#ed7953\"], [0.7777777777777778, \"#fb9f3a\"], [0.8888888888888888, \"#fdca26\"], [1.0, \"#f0f921\"]], \"type\": \"heatmapgl\"}], \"histogram\": [{\"marker\": {\"colorbar\": {\"outlinewidth\": 0, \"ticks\": \"\"}}, \"type\": \"histogram\"}], \"histogram2d\": [{\"colorbar\": {\"outlinewidth\": 0, \"ticks\": \"\"}, \"colorscale\": [[0.0, \"#0d0887\"], [0.1111111111111111, \"#46039f\"], [0.2222222222222222, \"#7201a8\"], [0.3333333333333333, \"#9c179e\"], [0.4444444444444444, \"#bd3786\"], [0.5555555555555556, \"#d8576b\"], [0.6666666666666666, \"#ed7953\"], [0.7777777777777778, \"#fb9f3a\"], [0.8888888888888888, \"#fdca26\"], [1.0, \"#f0f921\"]], \"type\": \"histogram2d\"}], \"histogram2dcontour\": [{\"colorbar\": {\"outlinewidth\": 0, \"ticks\": \"\"}, \"colorscale\": [[0.0, \"#0d0887\"], [0.1111111111111111, \"#46039f\"], [0.2222222222222222, \"#7201a8\"], [0.3333333333333333, \"#9c179e\"], [0.4444444444444444, \"#bd3786\"], [0.5555555555555556, \"#d8576b\"], [0.6666666666666666, \"#ed7953\"], [0.7777777777777778, \"#fb9f3a\"], [0.8888888888888888, \"#fdca26\"], [1.0, \"#f0f921\"]], \"type\": \"histogram2dcontour\"}], \"mesh3d\": [{\"colorbar\": {\"outlinewidth\": 0, \"ticks\": \"\"}, \"type\": \"mesh3d\"}], \"parcoords\": [{\"line\": {\"colorbar\": {\"outlinewidth\": 0, \"ticks\": \"\"}}, \"type\": \"parcoords\"}], \"pie\": [{\"automargin\": true, \"type\": \"pie\"}], \"scatter\": [{\"marker\": {\"colorbar\": {\"outlinewidth\": 0, \"ticks\": \"\"}}, \"type\": \"scatter\"}], \"scatter3d\": [{\"line\": {\"colorbar\": {\"outlinewidth\": 0, \"ticks\": \"\"}}, \"marker\": {\"colorbar\": {\"outlinewidth\": 0, \"ticks\": \"\"}}, \"type\": \"scatter3d\"}], \"scattercarpet\": [{\"marker\": {\"colorbar\": {\"outlinewidth\": 0, \"ticks\": \"\"}}, \"type\": \"scattercarpet\"}], \"scattergeo\": [{\"marker\": {\"colorbar\": {\"outlinewidth\": 0, \"ticks\": \"\"}}, \"type\": \"scattergeo\"}], \"scattergl\": [{\"marker\": {\"colorbar\": {\"outlinewidth\": 0, \"ticks\": \"\"}}, \"type\": \"scattergl\"}], \"scattermapbox\": [{\"marker\": {\"colorbar\": {\"outlinewidth\": 0, \"ticks\": \"\"}}, \"type\": \"scattermapbox\"}], \"scatterpolar\": [{\"marker\": {\"colorbar\": {\"outlinewidth\": 0, \"ticks\": \"\"}}, \"type\": \"scatterpolar\"}], \"scatterpolargl\": [{\"marker\": {\"colorbar\": {\"outlinewidth\": 0, \"ticks\": \"\"}}, \"type\": \"scatterpolargl\"}], \"scatterternary\": [{\"marker\": {\"colorbar\": {\"outlinewidth\": 0, \"ticks\": \"\"}}, \"type\": \"scatterternary\"}], \"surface\": [{\"colorbar\": {\"outlinewidth\": 0, \"ticks\": \"\"}, \"colorscale\": [[0.0, \"#0d0887\"], [0.1111111111111111, \"#46039f\"], [0.2222222222222222, \"#7201a8\"], [0.3333333333333333, \"#9c179e\"], [0.4444444444444444, \"#bd3786\"], [0.5555555555555556, \"#d8576b\"], [0.6666666666666666, \"#ed7953\"], [0.7777777777777778, \"#fb9f3a\"], [0.8888888888888888, \"#fdca26\"], [1.0, \"#f0f921\"]], \"type\": \"surface\"}], \"table\": [{\"cells\": {\"fill\": {\"color\": \"#EBF0F8\"}, \"line\": {\"color\": \"white\"}}, \"header\": {\"fill\": {\"color\": \"#C8D4E3\"}, \"line\": {\"color\": \"white\"}}, \"type\": \"table\"}]}, \"layout\": {\"annotationdefaults\": {\"arrowcolor\": \"#2a3f5f\", \"arrowhead\": 0, \"arrowwidth\": 1}, \"coloraxis\": {\"colorbar\": {\"outlinewidth\": 0, \"ticks\": \"\"}}, \"colorscale\": {\"diverging\": [[0, \"#8e0152\"], [0.1, \"#c51b7d\"], [0.2, \"#de77ae\"], [0.3, \"#f1b6da\"], [0.4, \"#fde0ef\"], [0.5, \"#f7f7f7\"], [0.6, \"#e6f5d0\"], [0.7, \"#b8e186\"], [0.8, \"#7fbc41\"], [0.9, \"#4d9221\"], [1, \"#276419\"]], \"sequential\": [[0.0, \"#0d0887\"], [0.1111111111111111, \"#46039f\"], [0.2222222222222222, \"#7201a8\"], [0.3333333333333333, \"#9c179e\"], [0.4444444444444444, \"#bd3786\"], [0.5555555555555556, \"#d8576b\"], [0.6666666666666666, \"#ed7953\"], [0.7777777777777778, \"#fb9f3a\"], [0.8888888888888888, \"#fdca26\"], [1.0, \"#f0f921\"]], \"sequentialminus\": [[0.0, \"#0d0887\"], [0.1111111111111111, \"#46039f\"], [0.2222222222222222, \"#7201a8\"], [0.3333333333333333, \"#9c179e\"], [0.4444444444444444, \"#bd3786\"], [0.5555555555555556, \"#d8576b\"], [0.6666666666666666, \"#ed7953\"], [0.7777777777777778, \"#fb9f3a\"], [0.8888888888888888, \"#fdca26\"], [1.0, \"#f0f921\"]]}, \"colorway\": [\"#636efa\", \"#EF553B\", \"#00cc96\", \"#ab63fa\", \"#FFA15A\", \"#19d3f3\", \"#FF6692\", \"#B6E880\", \"#FF97FF\", \"#FECB52\"], \"font\": {\"color\": \"#2a3f5f\"}, \"geo\": {\"bgcolor\": \"white\", \"lakecolor\": \"white\", \"landcolor\": \"#E5ECF6\", \"showlakes\": true, \"showland\": true, \"subunitcolor\": \"white\"}, \"hoverlabel\": {\"align\": \"left\"}, \"hovermode\": \"closest\", \"mapbox\": {\"style\": \"light\"}, \"paper_bgcolor\": \"white\", \"plot_bgcolor\": \"#E5ECF6\", \"polar\": {\"angularaxis\": {\"gridcolor\": \"white\", \"linecolor\": \"white\", \"ticks\": \"\"}, \"bgcolor\": \"#E5ECF6\", \"radialaxis\": {\"gridcolor\": \"white\", \"linecolor\": \"white\", \"ticks\": \"\"}}, \"scene\": {\"xaxis\": {\"backgroundcolor\": \"#E5ECF6\", \"gridcolor\": \"white\", \"gridwidth\": 2, \"linecolor\": \"white\", \"showbackground\": true, \"ticks\": \"\", \"zerolinecolor\": \"white\"}, \"yaxis\": {\"backgroundcolor\": \"#E5ECF6\", \"gridcolor\": \"white\", \"gridwidth\": 2, \"linecolor\": \"white\", \"showbackground\": true, \"ticks\": \"\", \"zerolinecolor\": \"white\"}, \"zaxis\": {\"backgroundcolor\": \"#E5ECF6\", \"gridcolor\": \"white\", \"gridwidth\": 2, \"linecolor\": \"white\", \"showbackground\": true, \"ticks\": \"\", \"zerolinecolor\": \"white\"}}, \"shapedefaults\": {\"line\": {\"color\": \"#2a3f5f\"}}, \"ternary\": {\"aaxis\": {\"gridcolor\": \"white\", \"linecolor\": \"white\", \"ticks\": \"\"}, \"baxis\": {\"gridcolor\": \"white\", \"linecolor\": \"white\", \"ticks\": \"\"}, \"bgcolor\": \"#E5ECF6\", \"caxis\": {\"gridcolor\": \"white\", \"linecolor\": \"white\", \"ticks\": \"\"}}, \"title\": {\"x\": 0.05}, \"xaxis\": {\"automargin\": true, \"gridcolor\": \"white\", \"linecolor\": \"white\", \"ticks\": \"\", \"title\": {\"standoff\": 15}, \"zerolinecolor\": \"white\", \"zerolinewidth\": 2}, \"yaxis\": {\"automargin\": true, \"gridcolor\": \"white\", \"linecolor\": \"white\", \"ticks\": \"\", \"title\": {\"standoff\": 15}, \"zerolinecolor\": \"white\", \"zerolinewidth\": 2}}}, \"title\": {\"text\": \"Pass to Run Ratio (2017 & 2018)\", \"x\": 0.5, \"xanchor\": \"center\", \"y\": 0.95, \"yanchor\": \"top\"}},\n",
       "                        {\"responsive\": true}\n",
       "                    ).then(function(){\n",
       "                            \n",
       "var gd = document.getElementById('d9daf781-4b0b-44fe-9022-d95c3e7b3879');\n",
       "var x = new MutationObserver(function (mutations, observer) {{\n",
       "        var display = window.getComputedStyle(gd).display;\n",
       "        if (!display || display === 'none') {{\n",
       "            console.log([gd, 'removed!']);\n",
       "            Plotly.purge(gd);\n",
       "            observer.disconnect();\n",
       "        }}\n",
       "}});\n",
       "\n",
       "// Listen for the removal of the full notebook cells\n",
       "var notebookContainer = gd.closest('#notebook-container');\n",
       "if (notebookContainer) {{\n",
       "    x.observe(notebookContainer, {childList: true});\n",
       "}}\n",
       "\n",
       "// Listen for the clearing of the current output cell\n",
       "var outputEl = gd.closest('.output');\n",
       "if (outputEl) {{\n",
       "    x.observe(outputEl, {childList: true});\n",
       "}}\n",
       "\n",
       "                        })\n",
       "                };\n",
       "                });\n",
       "            </script>\n",
       "        </div>"
      ]
     },
     "metadata": {},
     "output_type": "display_data"
    }
   ],
   "source": [
    "fig = go.Figure(data = [go.Bar(name = '2017', x = team_by_wins['team'], y = pass_run_ratio_2017),\\\n",
    "                        go.Bar(name = '2018', x = team_by_wins['team'], y = pass_run_ratio_2018)\n",
    "                       ])\n",
    "\n",
    "layout = go.Layout(\n",
    "    title = 'Pass to Run Ratio (2017 & 2018)',\n",
    "    xaxis= dict(title= 'Team',ticklen= 1,zeroline= False),\n",
    "    yaxis= dict(title= 'Pass/Run Ratio',ticklen= 5,zeroline= False)\n",
    ")\n",
    "\n",
    "fig.update_layout(\n",
    "    title={\n",
    "        'text':'Pass to Run Ratio (2017 & 2018)',\n",
    "        'y':0.95,\n",
    "        'x':0.5,\n",
    "        'xanchor': 'center',\n",
    "        'yanchor': 'top'},\n",
    "        barmode='group')\n",
    "\n",
    "fig"
   ]
  },
  {
   "cell_type": "code",
   "execution_count": 177,
   "metadata": {},
   "outputs": [
    {
     "data": {
      "text/html": [
       "<div>\n",
       "<style scoped>\n",
       "    .dataframe tbody tr th:only-of-type {\n",
       "        vertical-align: middle;\n",
       "    }\n",
       "\n",
       "    .dataframe tbody tr th {\n",
       "        vertical-align: top;\n",
       "    }\n",
       "\n",
       "    .dataframe thead th {\n",
       "        text-align: right;\n",
       "    }\n",
       "</style>\n",
       "<table border=\"1\" class=\"dataframe\">\n",
       "  <thead>\n",
       "    <tr style=\"text-align: right;\">\n",
       "      <th></th>\n",
       "      <th>index</th>\n",
       "      <th>game_id</th>\n",
       "      <th>game_date</th>\n",
       "      <th>time</th>\n",
       "      <th>quarter_seconds_remaining</th>\n",
       "      <th>half_seconds_remaining</th>\n",
       "      <th>game_seconds_remaining</th>\n",
       "      <th>game_half</th>\n",
       "      <th>quarter_end</th>\n",
       "      <th>qtr</th>\n",
       "      <th>home_team</th>\n",
       "      <th>away_team</th>\n",
       "      <th>posteam</th>\n",
       "      <th>posteam_type</th>\n",
       "      <th>defteam</th>\n",
       "      <th>side_of_field</th>\n",
       "      <th>yardline_100</th>\n",
       "      <th>drive</th>\n",
       "      <th>sp</th>\n",
       "      <th>down</th>\n",
       "      <th>goal_to_go</th>\n",
       "      <th>yrdln</th>\n",
       "      <th>ydstogo</th>\n",
       "      <th>ydsnet</th>\n",
       "      <th>desc</th>\n",
       "      <th>play_type</th>\n",
       "      <th>yards_gained</th>\n",
       "      <th>pass_length</th>\n",
       "      <th>air_yards</th>\n",
       "      <th>yards_after_catch</th>\n",
       "      <th>field_goal_result</th>\n",
       "      <th>kick_distance</th>\n",
       "      <th>extra_point_result</th>\n",
       "      <th>two_point_conv_result</th>\n",
       "      <th>td_team</th>\n",
       "      <th>total_home_score</th>\n",
       "      <th>total_away_score</th>\n",
       "      <th>posteam_score</th>\n",
       "      <th>defteam_score</th>\n",
       "      <th>sack</th>\n",
       "      <th>touchdown</th>\n",
       "      <th>pass_touchdown</th>\n",
       "      <th>rush_touchdown</th>\n",
       "      <th>return_touchdown</th>\n",
       "      <th>extra_point_attempt</th>\n",
       "      <th>two_point_attempt</th>\n",
       "      <th>field_goal_attempt</th>\n",
       "      <th>fumble</th>\n",
       "      <th>complete_pass</th>\n",
       "      <th>Start_Time</th>\n",
       "      <th>diff</th>\n",
       "      <th>Estimated_Time</th>\n",
       "      <th>Estimated Time (EST)</th>\n",
       "      <th>Estimated_Hour</th>\n",
       "      <th>Air Pressure (hPa)</th>\n",
       "      <th>City</th>\n",
       "      <th>Dewpoint (°C)</th>\n",
       "      <th>Field</th>\n",
       "      <th>Humidity (%)</th>\n",
       "      <th>Precipitation (mm)</th>\n",
       "      <th>Roof</th>\n",
       "      <th>Team Abbreviation</th>\n",
       "      <th>Temperature (°C)</th>\n",
       "      <th>Time (EST)</th>\n",
       "      <th>Time (GMT)</th>\n",
       "      <th>Wind Direction (deg)</th>\n",
       "      <th>Wind Speed (km/h)</th>\n",
       "      <th>added_time</th>\n",
       "      <th>game_name</th>\n",
       "      <th>end_of_drive</th>\n",
       "      <th>end_of_game</th>\n",
       "      <th>INT</th>\n",
       "      <th>ARI</th>\n",
       "      <th>ATL</th>\n",
       "      <th>BAL</th>\n",
       "      <th>BUF</th>\n",
       "      <th>CAR</th>\n",
       "      <th>CHI</th>\n",
       "      <th>CIN</th>\n",
       "      <th>CLE</th>\n",
       "      <th>DAL</th>\n",
       "      <th>DEN</th>\n",
       "      <th>DET</th>\n",
       "      <th>GB</th>\n",
       "      <th>HOU</th>\n",
       "      <th>IND</th>\n",
       "      <th>JAX</th>\n",
       "      <th>KC</th>\n",
       "      <th>LA</th>\n",
       "      <th>LAC</th>\n",
       "      <th>MIA</th>\n",
       "      <th>MIN</th>\n",
       "      <th>NE</th>\n",
       "      <th>NO</th>\n",
       "      <th>NYG</th>\n",
       "      <th>NYJ</th>\n",
       "      <th>OAK</th>\n",
       "      <th>PHI</th>\n",
       "      <th>PIT</th>\n",
       "      <th>SEA</th>\n",
       "      <th>SF</th>\n",
       "      <th>TB</th>\n",
       "      <th>TEN</th>\n",
       "      <th>WAS</th>\n",
       "      <th>year</th>\n",
       "      <th>week</th>\n",
       "      <th>home_team_win</th>\n",
       "      <th>away_team_win</th>\n",
       "    </tr>\n",
       "    <tr>\n",
       "      <th>play_id</th>\n",
       "      <th></th>\n",
       "      <th></th>\n",
       "      <th></th>\n",
       "      <th></th>\n",
       "      <th></th>\n",
       "      <th></th>\n",
       "      <th></th>\n",
       "      <th></th>\n",
       "      <th></th>\n",
       "      <th></th>\n",
       "      <th></th>\n",
       "      <th></th>\n",
       "      <th></th>\n",
       "      <th></th>\n",
       "      <th></th>\n",
       "      <th></th>\n",
       "      <th></th>\n",
       "      <th></th>\n",
       "      <th></th>\n",
       "      <th></th>\n",
       "      <th></th>\n",
       "      <th></th>\n",
       "      <th></th>\n",
       "      <th></th>\n",
       "      <th></th>\n",
       "      <th></th>\n",
       "      <th></th>\n",
       "      <th></th>\n",
       "      <th></th>\n",
       "      <th></th>\n",
       "      <th></th>\n",
       "      <th></th>\n",
       "      <th></th>\n",
       "      <th></th>\n",
       "      <th></th>\n",
       "      <th></th>\n",
       "      <th></th>\n",
       "      <th></th>\n",
       "      <th></th>\n",
       "      <th></th>\n",
       "      <th></th>\n",
       "      <th></th>\n",
       "      <th></th>\n",
       "      <th></th>\n",
       "      <th></th>\n",
       "      <th></th>\n",
       "      <th></th>\n",
       "      <th></th>\n",
       "      <th></th>\n",
       "      <th></th>\n",
       "      <th></th>\n",
       "      <th></th>\n",
       "      <th></th>\n",
       "      <th></th>\n",
       "      <th></th>\n",
       "      <th></th>\n",
       "      <th></th>\n",
       "      <th></th>\n",
       "      <th></th>\n",
       "      <th></th>\n",
       "      <th></th>\n",
       "      <th></th>\n",
       "      <th></th>\n",
       "      <th></th>\n",
       "      <th></th>\n",
       "      <th></th>\n",
       "      <th></th>\n",
       "      <th></th>\n",
       "      <th></th>\n",
       "      <th></th>\n",
       "      <th></th>\n",
       "      <th></th>\n",
       "      <th></th>\n",
       "      <th></th>\n",
       "      <th></th>\n",
       "      <th></th>\n",
       "      <th></th>\n",
       "      <th></th>\n",
       "      <th></th>\n",
       "      <th></th>\n",
       "      <th></th>\n",
       "      <th></th>\n",
       "      <th></th>\n",
       "      <th></th>\n",
       "      <th></th>\n",
       "      <th></th>\n",
       "      <th></th>\n",
       "      <th></th>\n",
       "      <th></th>\n",
       "      <th></th>\n",
       "      <th></th>\n",
       "      <th></th>\n",
       "      <th></th>\n",
       "      <th></th>\n",
       "      <th></th>\n",
       "      <th></th>\n",
       "      <th></th>\n",
       "      <th></th>\n",
       "      <th></th>\n",
       "      <th></th>\n",
       "      <th></th>\n",
       "      <th></th>\n",
       "      <th></th>\n",
       "      <th></th>\n",
       "      <th></th>\n",
       "      <th></th>\n",
       "      <th></th>\n",
       "      <th></th>\n",
       "    </tr>\n",
       "  </thead>\n",
       "  <tbody>\n",
       "    <tr>\n",
       "      <th>3101</th>\n",
       "      <td>362416</td>\n",
       "      <td>2017091000</td>\n",
       "      <td>2017-09-10 00:00:00</td>\n",
       "      <td>02:00</td>\n",
       "      <td>120.0</td>\n",
       "      <td>1020.0</td>\n",
       "      <td>1020.0</td>\n",
       "      <td>Half2</td>\n",
       "      <td>0</td>\n",
       "      <td>3</td>\n",
       "      <td>BUF</td>\n",
       "      <td>NYJ</td>\n",
       "      <td>NYJ</td>\n",
       "      <td>away</td>\n",
       "      <td>BUF</td>\n",
       "      <td>BUF</td>\n",
       "      <td>2.0</td>\n",
       "      <td>15</td>\n",
       "      <td>0</td>\n",
       "      <td>NaN</td>\n",
       "      <td>0.0</td>\n",
       "      <td>BUF 2</td>\n",
       "      <td>0</td>\n",
       "      <td>75</td>\n",
       "      <td>TWO-POINT CONVERSION ATTEMPT. J.McCown pass to...</td>\n",
       "      <td>pass</td>\n",
       "      <td>0.0</td>\n",
       "      <td>0</td>\n",
       "      <td>0.0</td>\n",
       "      <td>0.0</td>\n",
       "      <td>NaN</td>\n",
       "      <td>NaN</td>\n",
       "      <td>NaN</td>\n",
       "      <td>failure</td>\n",
       "      <td>NaN</td>\n",
       "      <td>14</td>\n",
       "      <td>12</td>\n",
       "      <td>12.0</td>\n",
       "      <td>12.0</td>\n",
       "      <td>0.0</td>\n",
       "      <td>0.0</td>\n",
       "      <td>0.0</td>\n",
       "      <td>0.0</td>\n",
       "      <td>0.0</td>\n",
       "      <td>0.0</td>\n",
       "      <td>1.0</td>\n",
       "      <td>0.0</td>\n",
       "      <td>0.0</td>\n",
       "      <td>0.0</td>\n",
       "      <td>2017-09-10 13:00:00</td>\n",
       "      <td>0 days 02:09:00.000000000</td>\n",
       "      <td>2017-09-10 15:09:00</td>\n",
       "      <td>2017-09-10 15:09:00</td>\n",
       "      <td>2017-09-10 15:00:00</td>\n",
       "      <td>1031.5</td>\n",
       "      <td>Orchard Park</td>\n",
       "      <td>6.7</td>\n",
       "      <td>A-Turf Titan 50</td>\n",
       "      <td>45.0</td>\n",
       "      <td>0.0</td>\n",
       "      <td>Open</td>\n",
       "      <td>BUF</td>\n",
       "      <td>18.9</td>\n",
       "      <td>2017-09-10 15:00:00</td>\n",
       "      <td>2017-09-10 19:00:00</td>\n",
       "      <td>30.0</td>\n",
       "      <td>14.8</td>\n",
       "      <td>0</td>\n",
       "      <td>NYJ @ BUF 2017-09-10</td>\n",
       "      <td>1</td>\n",
       "      <td>0</td>\n",
       "      <td>1</td>\n",
       "      <td>0</td>\n",
       "      <td>0</td>\n",
       "      <td>0</td>\n",
       "      <td>H</td>\n",
       "      <td>0</td>\n",
       "      <td>0</td>\n",
       "      <td>0</td>\n",
       "      <td>0</td>\n",
       "      <td>0</td>\n",
       "      <td>0</td>\n",
       "      <td>0</td>\n",
       "      <td>0</td>\n",
       "      <td>0</td>\n",
       "      <td>0</td>\n",
       "      <td>0</td>\n",
       "      <td>0</td>\n",
       "      <td>0</td>\n",
       "      <td>0</td>\n",
       "      <td>0</td>\n",
       "      <td>0</td>\n",
       "      <td>0</td>\n",
       "      <td>0</td>\n",
       "      <td>0</td>\n",
       "      <td>A</td>\n",
       "      <td>0</td>\n",
       "      <td>0</td>\n",
       "      <td>0</td>\n",
       "      <td>0</td>\n",
       "      <td>0</td>\n",
       "      <td>0</td>\n",
       "      <td>0</td>\n",
       "      <td>0</td>\n",
       "      <td>2017</td>\n",
       "      <td>1</td>\n",
       "      <td>1</td>\n",
       "      <td>0</td>\n",
       "    </tr>\n",
       "    <tr>\n",
       "      <th>3765</th>\n",
       "      <td>362443</td>\n",
       "      <td>2017091000</td>\n",
       "      <td>2017-09-10 00:00:00</td>\n",
       "      <td>06:44</td>\n",
       "      <td>404.0</td>\n",
       "      <td>404.0</td>\n",
       "      <td>404.0</td>\n",
       "      <td>Half2</td>\n",
       "      <td>0</td>\n",
       "      <td>4</td>\n",
       "      <td>BUF</td>\n",
       "      <td>NYJ</td>\n",
       "      <td>NYJ</td>\n",
       "      <td>away</td>\n",
       "      <td>BUF</td>\n",
       "      <td>BUF</td>\n",
       "      <td>37.0</td>\n",
       "      <td>19</td>\n",
       "      <td>0</td>\n",
       "      <td>3.0</td>\n",
       "      <td>0.0</td>\n",
       "      <td>BUF 37</td>\n",
       "      <td>8</td>\n",
       "      <td>2</td>\n",
       "      <td>(6:44) (Shotgun) J.McCown pass short right int...</td>\n",
       "      <td>pass</td>\n",
       "      <td>0.0</td>\n",
       "      <td>short</td>\n",
       "      <td>14.0</td>\n",
       "      <td>0.0</td>\n",
       "      <td>NaN</td>\n",
       "      <td>NaN</td>\n",
       "      <td>NaN</td>\n",
       "      <td>NaN</td>\n",
       "      <td>NaN</td>\n",
       "      <td>21</td>\n",
       "      <td>12</td>\n",
       "      <td>12.0</td>\n",
       "      <td>12.0</td>\n",
       "      <td>0.0</td>\n",
       "      <td>0.0</td>\n",
       "      <td>0.0</td>\n",
       "      <td>0.0</td>\n",
       "      <td>0.0</td>\n",
       "      <td>0.0</td>\n",
       "      <td>0.0</td>\n",
       "      <td>0.0</td>\n",
       "      <td>0.0</td>\n",
       "      <td>0.0</td>\n",
       "      <td>2017-09-10 13:00:00</td>\n",
       "      <td>0 days 02:39:48.000000000</td>\n",
       "      <td>2017-09-10 15:39:48</td>\n",
       "      <td>2017-09-10 15:39:48</td>\n",
       "      <td>2017-09-10 16:00:00</td>\n",
       "      <td>1031.1</td>\n",
       "      <td>Orchard Park</td>\n",
       "      <td>6.7</td>\n",
       "      <td>A-Turf Titan 50</td>\n",
       "      <td>45.0</td>\n",
       "      <td>0.0</td>\n",
       "      <td>Open</td>\n",
       "      <td>BUF</td>\n",
       "      <td>18.9</td>\n",
       "      <td>2017-09-10 16:00:00</td>\n",
       "      <td>2017-09-10 20:00:00</td>\n",
       "      <td>10.0</td>\n",
       "      <td>11.2</td>\n",
       "      <td>0</td>\n",
       "      <td>NYJ @ BUF 2017-09-10</td>\n",
       "      <td>1</td>\n",
       "      <td>0</td>\n",
       "      <td>1</td>\n",
       "      <td>0</td>\n",
       "      <td>0</td>\n",
       "      <td>0</td>\n",
       "      <td>H</td>\n",
       "      <td>0</td>\n",
       "      <td>0</td>\n",
       "      <td>0</td>\n",
       "      <td>0</td>\n",
       "      <td>0</td>\n",
       "      <td>0</td>\n",
       "      <td>0</td>\n",
       "      <td>0</td>\n",
       "      <td>0</td>\n",
       "      <td>0</td>\n",
       "      <td>0</td>\n",
       "      <td>0</td>\n",
       "      <td>0</td>\n",
       "      <td>0</td>\n",
       "      <td>0</td>\n",
       "      <td>0</td>\n",
       "      <td>0</td>\n",
       "      <td>0</td>\n",
       "      <td>0</td>\n",
       "      <td>A</td>\n",
       "      <td>0</td>\n",
       "      <td>0</td>\n",
       "      <td>0</td>\n",
       "      <td>0</td>\n",
       "      <td>0</td>\n",
       "      <td>0</td>\n",
       "      <td>0</td>\n",
       "      <td>0</td>\n",
       "      <td>2017</td>\n",
       "      <td>1</td>\n",
       "      <td>1</td>\n",
       "      <td>0</td>\n",
       "    </tr>\n",
       "    <tr>\n",
       "      <th>4344</th>\n",
       "      <td>362465</td>\n",
       "      <td>2017091000</td>\n",
       "      <td>2017-09-10 00:00:00</td>\n",
       "      <td>01:44</td>\n",
       "      <td>104.0</td>\n",
       "      <td>104.0</td>\n",
       "      <td>104.0</td>\n",
       "      <td>Half2</td>\n",
       "      <td>0</td>\n",
       "      <td>4</td>\n",
       "      <td>BUF</td>\n",
       "      <td>NYJ</td>\n",
       "      <td>NYJ</td>\n",
       "      <td>away</td>\n",
       "      <td>BUF</td>\n",
       "      <td>NYJ</td>\n",
       "      <td>59.0</td>\n",
       "      <td>23</td>\n",
       "      <td>0</td>\n",
       "      <td>1.0</td>\n",
       "      <td>0.0</td>\n",
       "      <td>NYJ 41</td>\n",
       "      <td>10</td>\n",
       "      <td>0</td>\n",
       "      <td>(1:44) (Shotgun) J.McCown pass deep left inten...</td>\n",
       "      <td>pass</td>\n",
       "      <td>0.0</td>\n",
       "      <td>deep</td>\n",
       "      <td>18.0</td>\n",
       "      <td>0.0</td>\n",
       "      <td>NaN</td>\n",
       "      <td>NaN</td>\n",
       "      <td>NaN</td>\n",
       "      <td>NaN</td>\n",
       "      <td>NaN</td>\n",
       "      <td>21</td>\n",
       "      <td>12</td>\n",
       "      <td>12.0</td>\n",
       "      <td>12.0</td>\n",
       "      <td>0.0</td>\n",
       "      <td>0.0</td>\n",
       "      <td>0.0</td>\n",
       "      <td>0.0</td>\n",
       "      <td>0.0</td>\n",
       "      <td>0.0</td>\n",
       "      <td>0.0</td>\n",
       "      <td>0.0</td>\n",
       "      <td>0.0</td>\n",
       "      <td>0.0</td>\n",
       "      <td>2017-09-10 13:00:00</td>\n",
       "      <td>0 days 02:54:48.000000000</td>\n",
       "      <td>2017-09-10 15:54:48</td>\n",
       "      <td>2017-09-10 15:54:48</td>\n",
       "      <td>2017-09-10 16:00:00</td>\n",
       "      <td>1031.1</td>\n",
       "      <td>Orchard Park</td>\n",
       "      <td>6.7</td>\n",
       "      <td>A-Turf Titan 50</td>\n",
       "      <td>45.0</td>\n",
       "      <td>0.0</td>\n",
       "      <td>Open</td>\n",
       "      <td>BUF</td>\n",
       "      <td>18.9</td>\n",
       "      <td>2017-09-10 16:00:00</td>\n",
       "      <td>2017-09-10 20:00:00</td>\n",
       "      <td>10.0</td>\n",
       "      <td>11.2</td>\n",
       "      <td>0</td>\n",
       "      <td>NYJ @ BUF 2017-09-10</td>\n",
       "      <td>1</td>\n",
       "      <td>0</td>\n",
       "      <td>1</td>\n",
       "      <td>0</td>\n",
       "      <td>0</td>\n",
       "      <td>0</td>\n",
       "      <td>H</td>\n",
       "      <td>0</td>\n",
       "      <td>0</td>\n",
       "      <td>0</td>\n",
       "      <td>0</td>\n",
       "      <td>0</td>\n",
       "      <td>0</td>\n",
       "      <td>0</td>\n",
       "      <td>0</td>\n",
       "      <td>0</td>\n",
       "      <td>0</td>\n",
       "      <td>0</td>\n",
       "      <td>0</td>\n",
       "      <td>0</td>\n",
       "      <td>0</td>\n",
       "      <td>0</td>\n",
       "      <td>0</td>\n",
       "      <td>0</td>\n",
       "      <td>0</td>\n",
       "      <td>0</td>\n",
       "      <td>A</td>\n",
       "      <td>0</td>\n",
       "      <td>0</td>\n",
       "      <td>0</td>\n",
       "      <td>0</td>\n",
       "      <td>0</td>\n",
       "      <td>0</td>\n",
       "      <td>0</td>\n",
       "      <td>0</td>\n",
       "      <td>2017</td>\n",
       "      <td>1</td>\n",
       "      <td>1</td>\n",
       "      <td>0</td>\n",
       "    </tr>\n",
       "  </tbody>\n",
       "</table>\n",
       "</div>"
      ],
      "text/plain": [
       "          index     game_id            game_date   time  \\\n",
       "play_id                                                   \n",
       "3101     362416  2017091000  2017-09-10 00:00:00  02:00   \n",
       "3765     362443  2017091000  2017-09-10 00:00:00  06:44   \n",
       "4344     362465  2017091000  2017-09-10 00:00:00  01:44   \n",
       "\n",
       "         quarter_seconds_remaining  half_seconds_remaining  \\\n",
       "play_id                                                      \n",
       "3101                         120.0                  1020.0   \n",
       "3765                         404.0                   404.0   \n",
       "4344                         104.0                   104.0   \n",
       "\n",
       "         game_seconds_remaining game_half  quarter_end  qtr home_team  \\\n",
       "play_id                                                                 \n",
       "3101                     1020.0     Half2            0    3       BUF   \n",
       "3765                      404.0     Half2            0    4       BUF   \n",
       "4344                      104.0     Half2            0    4       BUF   \n",
       "\n",
       "        away_team posteam posteam_type defteam side_of_field  yardline_100  \\\n",
       "play_id                                                                      \n",
       "3101          NYJ     NYJ         away     BUF           BUF           2.0   \n",
       "3765          NYJ     NYJ         away     BUF           BUF          37.0   \n",
       "4344          NYJ     NYJ         away     BUF           NYJ          59.0   \n",
       "\n",
       "         drive  sp  down  goal_to_go   yrdln  ydstogo  ydsnet  \\\n",
       "play_id                                                         \n",
       "3101        15   0   NaN         0.0   BUF 2        0      75   \n",
       "3765        19   0   3.0         0.0  BUF 37        8       2   \n",
       "4344        23   0   1.0         0.0  NYJ 41       10       0   \n",
       "\n",
       "                                                      desc play_type  \\\n",
       "play_id                                                                \n",
       "3101     TWO-POINT CONVERSION ATTEMPT. J.McCown pass to...      pass   \n",
       "3765     (6:44) (Shotgun) J.McCown pass short right int...      pass   \n",
       "4344     (1:44) (Shotgun) J.McCown pass deep left inten...      pass   \n",
       "\n",
       "         yards_gained pass_length  air_yards  yards_after_catch  \\\n",
       "play_id                                                           \n",
       "3101              0.0           0        0.0                0.0   \n",
       "3765              0.0       short       14.0                0.0   \n",
       "4344              0.0        deep       18.0                0.0   \n",
       "\n",
       "        field_goal_result  kick_distance extra_point_result  \\\n",
       "play_id                                                       \n",
       "3101                  NaN            NaN                NaN   \n",
       "3765                  NaN            NaN                NaN   \n",
       "4344                  NaN            NaN                NaN   \n",
       "\n",
       "        two_point_conv_result td_team  total_home_score  total_away_score  \\\n",
       "play_id                                                                     \n",
       "3101                  failure     NaN                14                12   \n",
       "3765                      NaN     NaN                21                12   \n",
       "4344                      NaN     NaN                21                12   \n",
       "\n",
       "         posteam_score  defteam_score  sack  touchdown  pass_touchdown  \\\n",
       "play_id                                                                  \n",
       "3101              12.0           12.0   0.0        0.0             0.0   \n",
       "3765              12.0           12.0   0.0        0.0             0.0   \n",
       "4344              12.0           12.0   0.0        0.0             0.0   \n",
       "\n",
       "         rush_touchdown  return_touchdown  extra_point_attempt  \\\n",
       "play_id                                                          \n",
       "3101                0.0               0.0                  0.0   \n",
       "3765                0.0               0.0                  0.0   \n",
       "4344                0.0               0.0                  0.0   \n",
       "\n",
       "         two_point_attempt  field_goal_attempt  fumble  complete_pass  \\\n",
       "play_id                                                                 \n",
       "3101                   1.0                 0.0     0.0            0.0   \n",
       "3765                   0.0                 0.0     0.0            0.0   \n",
       "4344                   0.0                 0.0     0.0            0.0   \n",
       "\n",
       "                  Start_Time                       diff       Estimated_Time  \\\n",
       "play_id                                                                        \n",
       "3101     2017-09-10 13:00:00  0 days 02:09:00.000000000  2017-09-10 15:09:00   \n",
       "3765     2017-09-10 13:00:00  0 days 02:39:48.000000000  2017-09-10 15:39:48   \n",
       "4344     2017-09-10 13:00:00  0 days 02:54:48.000000000  2017-09-10 15:54:48   \n",
       "\n",
       "        Estimated Time (EST)       Estimated_Hour  Air Pressure (hPa)  \\\n",
       "play_id                                                                 \n",
       "3101     2017-09-10 15:09:00  2017-09-10 15:00:00              1031.5   \n",
       "3765     2017-09-10 15:39:48  2017-09-10 16:00:00              1031.1   \n",
       "4344     2017-09-10 15:54:48  2017-09-10 16:00:00              1031.1   \n",
       "\n",
       "                 City  Dewpoint (°C)            Field  Humidity (%)  \\\n",
       "play_id                                                               \n",
       "3101     Orchard Park            6.7  A-Turf Titan 50          45.0   \n",
       "3765     Orchard Park            6.7  A-Turf Titan 50          45.0   \n",
       "4344     Orchard Park            6.7  A-Turf Titan 50          45.0   \n",
       "\n",
       "         Precipitation (mm)  Roof Team Abbreviation  Temperature (°C)  \\\n",
       "play_id                                                                 \n",
       "3101                    0.0  Open               BUF              18.9   \n",
       "3765                    0.0  Open               BUF              18.9   \n",
       "4344                    0.0  Open               BUF              18.9   \n",
       "\n",
       "                  Time (EST)           Time (GMT)  Wind Direction (deg)  \\\n",
       "play_id                                                                   \n",
       "3101     2017-09-10 15:00:00  2017-09-10 19:00:00                  30.0   \n",
       "3765     2017-09-10 16:00:00  2017-09-10 20:00:00                  10.0   \n",
       "4344     2017-09-10 16:00:00  2017-09-10 20:00:00                  10.0   \n",
       "\n",
       "         Wind Speed (km/h)  added_time             game_name  end_of_drive  \\\n",
       "play_id                                                                      \n",
       "3101                  14.8           0  NYJ @ BUF 2017-09-10             1   \n",
       "3765                  11.2           0  NYJ @ BUF 2017-09-10             1   \n",
       "4344                  11.2           0  NYJ @ BUF 2017-09-10             1   \n",
       "\n",
       "         end_of_game  INT ARI ATL BAL BUF CAR CHI CIN CLE DAL DEN DET GB HOU  \\\n",
       "play_id                                                                        \n",
       "3101               0    1   0   0   0   H   0   0   0   0   0   0   0  0   0   \n",
       "3765               0    1   0   0   0   H   0   0   0   0   0   0   0  0   0   \n",
       "4344               0    1   0   0   0   H   0   0   0   0   0   0   0  0   0   \n",
       "\n",
       "        IND JAX KC LA LAC MIA MIN NE NO NYG NYJ OAK PHI PIT SEA SF TB TEN WAS  \\\n",
       "play_id                                                                         \n",
       "3101      0   0  0  0   0   0   0  0  0   0   A   0   0   0   0  0  0   0   0   \n",
       "3765      0   0  0  0   0   0   0  0  0   0   A   0   0   0   0  0  0   0   0   \n",
       "4344      0   0  0  0   0   0   0  0  0   0   A   0   0   0   0  0  0   0   0   \n",
       "\n",
       "         year  week  home_team_win  away_team_win  \n",
       "play_id                                            \n",
       "3101     2017     1              1              0  \n",
       "3765     2017     1              1              0  \n",
       "4344     2017     1              1              0  "
      ]
     },
     "execution_count": 177,
     "metadata": {},
     "output_type": "execute_result"
    }
   ],
   "source": [
    "nfl_small2_end_of_drive[nfl_small2_end_of_drive['INT'] == 1].head(3)"
   ]
  },
  {
   "cell_type": "code",
   "execution_count": 178,
   "metadata": {
    "scrolled": true
   },
   "outputs": [
    {
     "data": {
      "text/plain": [
       "52"
      ]
     },
     "execution_count": 178,
     "metadata": {},
     "output_type": "execute_result"
    }
   ],
   "source": [
    "len(nfl_small2_end_of_drive[(nfl_small2_end_of_drive['posteam']=='CLE') &\\\n",
    "                                             (nfl_small2_end_of_drive['year'] == 2017) &\\\n",
    "                                            ((nfl_small2_end_of_drive['INT'] == 1) |\\\n",
    "                                             (nfl_small2_end_of_drive['fumble'] == 1))\n",
    "                           ].index)"
   ]
  },
  {
   "cell_type": "code",
   "execution_count": 179,
   "metadata": {},
   "outputs": [
    {
     "data": {
      "text/plain": [
       "1367"
      ]
     },
     "execution_count": 179,
     "metadata": {},
     "output_type": "execute_result"
    }
   ],
   "source": [
    "len(nfl_small2_end_of_drive[(nfl_small2_end_of_drive['posteam']=='CLE') &\\\n",
    "                                             (nfl_small2_end_of_drive['year'] == 2017)\n",
    "                           ].index)"
   ]
  },
  {
   "cell_type": "code",
   "execution_count": 180,
   "metadata": {},
   "outputs": [],
   "source": [
    "TO_rate_2017 = []\n",
    "for team in team_by_wins['team']:\n",
    "    int_2017 = len(nfl_small2_end_of_drive[(nfl_small2_end_of_drive['posteam']==team) &\\\n",
    "                                             (nfl_small2_end_of_drive['year'] == 2017) &\\\n",
    "                                            ((nfl_small2_end_of_drive['INT'] == 1) |\\\n",
    "                                             (nfl_small2_end_of_drive['fumble'] == 1))].index)\n",
    "\n",
    "    off_play_2017 = len(nfl_small2_end_of_drive[(nfl_small2_end_of_drive['posteam']==team) &\\\n",
    "                                             (nfl_small2_end_of_drive['year'] == 2017)\n",
    "                           ].index)\n",
    "\n",
    "    TO_rate_2017.append(round(int_2017/off_play_2017,3))\n",
    "    \n",
    "TO_rate_2018 = []\n",
    "for team in team_by_wins['team']:\n",
    "    int_2018 = len(nfl_small2_end_of_drive[(nfl_small2_end_of_drive['posteam']==team) &\\\n",
    "                                             (nfl_small2_end_of_drive['year'] == 2018) &\\\n",
    "                                            ((nfl_small2_end_of_drive['INT'] == 1) |\\\n",
    "                                             (nfl_small2_end_of_drive['fumble'] == 1))].index)\n",
    "\n",
    "    off_play_2018 = len(nfl_small2_end_of_drive[(nfl_small2_end_of_drive['posteam']==team) &\\\n",
    "                                             (nfl_small2_end_of_drive['year'] == 2018)\n",
    "                           ].index)\n",
    "\n",
    "    TO_rate_2018.append(round(int_2018/off_play_2018,3))\n"
   ]
  },
  {
   "cell_type": "code",
   "execution_count": 181,
   "metadata": {},
   "outputs": [
    {
     "data": {
      "text/plain": [
       "[0.038, 0.035, 0.039, 0.032]"
      ]
     },
     "execution_count": 181,
     "metadata": {},
     "output_type": "execute_result"
    }
   ],
   "source": [
    "TO_rate_2017[:4]"
   ]
  },
  {
   "cell_type": "code",
   "execution_count": 182,
   "metadata": {},
   "outputs": [
    {
     "data": {
      "application/vnd.plotly.v1+json": {
       "config": {
        "plotlyServerURL": "https://plot.ly"
       },
       "data": [
        {
         "name": "2017",
         "type": "bar",
         "x": [
          "CLE",
          "NYG",
          "OAK",
          "NYJ",
          "TB",
          "SF",
          "ARI",
          "DEN",
          "CIN",
          "GB",
          "IND",
          "MIA",
          "JAX",
          "WAS",
          "DET",
          "BUF",
          "HOU",
          "ATL",
          "CHI",
          "CAR",
          "SEA",
          "BAL",
          "TEN",
          "DAL",
          "LAC",
          "PHI",
          "MIN",
          "PIT",
          "KC",
          "NE",
          "LA",
          "NO"
         ],
         "y": [
          0.038,
          0.035,
          0.039,
          0.032,
          0.04,
          0.027,
          0.034,
          0.037,
          0.03,
          0.032,
          0.033,
          0.043,
          0.03,
          0.033,
          0.029,
          0.028,
          0.033,
          0.026,
          0.038,
          0.031,
          0.03,
          0.025,
          0.025,
          0.023,
          0.024,
          0.03,
          0.02,
          0.023,
          0.021,
          0.018,
          0.026,
          0.022
         ]
        },
        {
         "name": "2018",
         "type": "bar",
         "x": [
          "CLE",
          "NYG",
          "OAK",
          "NYJ",
          "TB",
          "SF",
          "ARI",
          "DEN",
          "CIN",
          "GB",
          "IND",
          "MIA",
          "JAX",
          "WAS",
          "DET",
          "BUF",
          "HOU",
          "ATL",
          "CHI",
          "CAR",
          "SEA",
          "BAL",
          "TEN",
          "DAL",
          "LAC",
          "PHI",
          "MIN",
          "PIT",
          "KC",
          "NE",
          "LA",
          "NO"
         ],
         "y": [
          0.04,
          0.032,
          0.026,
          0.034,
          0.042,
          0.035,
          0.047,
          0.031,
          0.023,
          0.021,
          0.032,
          0.029,
          0.039,
          0.029,
          0.029,
          0.043,
          0.027,
          0.039,
          0.028,
          0.037,
          0.024,
          0.028,
          0.025,
          0.031,
          0.022,
          0.031,
          0.038,
          0.031,
          0.022,
          0.023,
          0.025,
          0.017
         ]
        }
       ],
       "layout": {
        "barmode": "group",
        "template": {
         "data": {
          "bar": [
           {
            "error_x": {
             "color": "#2a3f5f"
            },
            "error_y": {
             "color": "#2a3f5f"
            },
            "marker": {
             "line": {
              "color": "#E5ECF6",
              "width": 0.5
             }
            },
            "type": "bar"
           }
          ],
          "barpolar": [
           {
            "marker": {
             "line": {
              "color": "#E5ECF6",
              "width": 0.5
             }
            },
            "type": "barpolar"
           }
          ],
          "carpet": [
           {
            "aaxis": {
             "endlinecolor": "#2a3f5f",
             "gridcolor": "white",
             "linecolor": "white",
             "minorgridcolor": "white",
             "startlinecolor": "#2a3f5f"
            },
            "baxis": {
             "endlinecolor": "#2a3f5f",
             "gridcolor": "white",
             "linecolor": "white",
             "minorgridcolor": "white",
             "startlinecolor": "#2a3f5f"
            },
            "type": "carpet"
           }
          ],
          "choropleth": [
           {
            "colorbar": {
             "outlinewidth": 0,
             "ticks": ""
            },
            "type": "choropleth"
           }
          ],
          "contour": [
           {
            "colorbar": {
             "outlinewidth": 0,
             "ticks": ""
            },
            "colorscale": [
             [
              0,
              "#0d0887"
             ],
             [
              0.1111111111111111,
              "#46039f"
             ],
             [
              0.2222222222222222,
              "#7201a8"
             ],
             [
              0.3333333333333333,
              "#9c179e"
             ],
             [
              0.4444444444444444,
              "#bd3786"
             ],
             [
              0.5555555555555556,
              "#d8576b"
             ],
             [
              0.6666666666666666,
              "#ed7953"
             ],
             [
              0.7777777777777778,
              "#fb9f3a"
             ],
             [
              0.8888888888888888,
              "#fdca26"
             ],
             [
              1,
              "#f0f921"
             ]
            ],
            "type": "contour"
           }
          ],
          "contourcarpet": [
           {
            "colorbar": {
             "outlinewidth": 0,
             "ticks": ""
            },
            "type": "contourcarpet"
           }
          ],
          "heatmap": [
           {
            "colorbar": {
             "outlinewidth": 0,
             "ticks": ""
            },
            "colorscale": [
             [
              0,
              "#0d0887"
             ],
             [
              0.1111111111111111,
              "#46039f"
             ],
             [
              0.2222222222222222,
              "#7201a8"
             ],
             [
              0.3333333333333333,
              "#9c179e"
             ],
             [
              0.4444444444444444,
              "#bd3786"
             ],
             [
              0.5555555555555556,
              "#d8576b"
             ],
             [
              0.6666666666666666,
              "#ed7953"
             ],
             [
              0.7777777777777778,
              "#fb9f3a"
             ],
             [
              0.8888888888888888,
              "#fdca26"
             ],
             [
              1,
              "#f0f921"
             ]
            ],
            "type": "heatmap"
           }
          ],
          "heatmapgl": [
           {
            "colorbar": {
             "outlinewidth": 0,
             "ticks": ""
            },
            "colorscale": [
             [
              0,
              "#0d0887"
             ],
             [
              0.1111111111111111,
              "#46039f"
             ],
             [
              0.2222222222222222,
              "#7201a8"
             ],
             [
              0.3333333333333333,
              "#9c179e"
             ],
             [
              0.4444444444444444,
              "#bd3786"
             ],
             [
              0.5555555555555556,
              "#d8576b"
             ],
             [
              0.6666666666666666,
              "#ed7953"
             ],
             [
              0.7777777777777778,
              "#fb9f3a"
             ],
             [
              0.8888888888888888,
              "#fdca26"
             ],
             [
              1,
              "#f0f921"
             ]
            ],
            "type": "heatmapgl"
           }
          ],
          "histogram": [
           {
            "marker": {
             "colorbar": {
              "outlinewidth": 0,
              "ticks": ""
             }
            },
            "type": "histogram"
           }
          ],
          "histogram2d": [
           {
            "colorbar": {
             "outlinewidth": 0,
             "ticks": ""
            },
            "colorscale": [
             [
              0,
              "#0d0887"
             ],
             [
              0.1111111111111111,
              "#46039f"
             ],
             [
              0.2222222222222222,
              "#7201a8"
             ],
             [
              0.3333333333333333,
              "#9c179e"
             ],
             [
              0.4444444444444444,
              "#bd3786"
             ],
             [
              0.5555555555555556,
              "#d8576b"
             ],
             [
              0.6666666666666666,
              "#ed7953"
             ],
             [
              0.7777777777777778,
              "#fb9f3a"
             ],
             [
              0.8888888888888888,
              "#fdca26"
             ],
             [
              1,
              "#f0f921"
             ]
            ],
            "type": "histogram2d"
           }
          ],
          "histogram2dcontour": [
           {
            "colorbar": {
             "outlinewidth": 0,
             "ticks": ""
            },
            "colorscale": [
             [
              0,
              "#0d0887"
             ],
             [
              0.1111111111111111,
              "#46039f"
             ],
             [
              0.2222222222222222,
              "#7201a8"
             ],
             [
              0.3333333333333333,
              "#9c179e"
             ],
             [
              0.4444444444444444,
              "#bd3786"
             ],
             [
              0.5555555555555556,
              "#d8576b"
             ],
             [
              0.6666666666666666,
              "#ed7953"
             ],
             [
              0.7777777777777778,
              "#fb9f3a"
             ],
             [
              0.8888888888888888,
              "#fdca26"
             ],
             [
              1,
              "#f0f921"
             ]
            ],
            "type": "histogram2dcontour"
           }
          ],
          "mesh3d": [
           {
            "colorbar": {
             "outlinewidth": 0,
             "ticks": ""
            },
            "type": "mesh3d"
           }
          ],
          "parcoords": [
           {
            "line": {
             "colorbar": {
              "outlinewidth": 0,
              "ticks": ""
             }
            },
            "type": "parcoords"
           }
          ],
          "pie": [
           {
            "automargin": true,
            "type": "pie"
           }
          ],
          "scatter": [
           {
            "marker": {
             "colorbar": {
              "outlinewidth": 0,
              "ticks": ""
             }
            },
            "type": "scatter"
           }
          ],
          "scatter3d": [
           {
            "line": {
             "colorbar": {
              "outlinewidth": 0,
              "ticks": ""
             }
            },
            "marker": {
             "colorbar": {
              "outlinewidth": 0,
              "ticks": ""
             }
            },
            "type": "scatter3d"
           }
          ],
          "scattercarpet": [
           {
            "marker": {
             "colorbar": {
              "outlinewidth": 0,
              "ticks": ""
             }
            },
            "type": "scattercarpet"
           }
          ],
          "scattergeo": [
           {
            "marker": {
             "colorbar": {
              "outlinewidth": 0,
              "ticks": ""
             }
            },
            "type": "scattergeo"
           }
          ],
          "scattergl": [
           {
            "marker": {
             "colorbar": {
              "outlinewidth": 0,
              "ticks": ""
             }
            },
            "type": "scattergl"
           }
          ],
          "scattermapbox": [
           {
            "marker": {
             "colorbar": {
              "outlinewidth": 0,
              "ticks": ""
             }
            },
            "type": "scattermapbox"
           }
          ],
          "scatterpolar": [
           {
            "marker": {
             "colorbar": {
              "outlinewidth": 0,
              "ticks": ""
             }
            },
            "type": "scatterpolar"
           }
          ],
          "scatterpolargl": [
           {
            "marker": {
             "colorbar": {
              "outlinewidth": 0,
              "ticks": ""
             }
            },
            "type": "scatterpolargl"
           }
          ],
          "scatterternary": [
           {
            "marker": {
             "colorbar": {
              "outlinewidth": 0,
              "ticks": ""
             }
            },
            "type": "scatterternary"
           }
          ],
          "surface": [
           {
            "colorbar": {
             "outlinewidth": 0,
             "ticks": ""
            },
            "colorscale": [
             [
              0,
              "#0d0887"
             ],
             [
              0.1111111111111111,
              "#46039f"
             ],
             [
              0.2222222222222222,
              "#7201a8"
             ],
             [
              0.3333333333333333,
              "#9c179e"
             ],
             [
              0.4444444444444444,
              "#bd3786"
             ],
             [
              0.5555555555555556,
              "#d8576b"
             ],
             [
              0.6666666666666666,
              "#ed7953"
             ],
             [
              0.7777777777777778,
              "#fb9f3a"
             ],
             [
              0.8888888888888888,
              "#fdca26"
             ],
             [
              1,
              "#f0f921"
             ]
            ],
            "type": "surface"
           }
          ],
          "table": [
           {
            "cells": {
             "fill": {
              "color": "#EBF0F8"
             },
             "line": {
              "color": "white"
             }
            },
            "header": {
             "fill": {
              "color": "#C8D4E3"
             },
             "line": {
              "color": "white"
             }
            },
            "type": "table"
           }
          ]
         },
         "layout": {
          "annotationdefaults": {
           "arrowcolor": "#2a3f5f",
           "arrowhead": 0,
           "arrowwidth": 1
          },
          "coloraxis": {
           "colorbar": {
            "outlinewidth": 0,
            "ticks": ""
           }
          },
          "colorscale": {
           "diverging": [
            [
             0,
             "#8e0152"
            ],
            [
             0.1,
             "#c51b7d"
            ],
            [
             0.2,
             "#de77ae"
            ],
            [
             0.3,
             "#f1b6da"
            ],
            [
             0.4,
             "#fde0ef"
            ],
            [
             0.5,
             "#f7f7f7"
            ],
            [
             0.6,
             "#e6f5d0"
            ],
            [
             0.7,
             "#b8e186"
            ],
            [
             0.8,
             "#7fbc41"
            ],
            [
             0.9,
             "#4d9221"
            ],
            [
             1,
             "#276419"
            ]
           ],
           "sequential": [
            [
             0,
             "#0d0887"
            ],
            [
             0.1111111111111111,
             "#46039f"
            ],
            [
             0.2222222222222222,
             "#7201a8"
            ],
            [
             0.3333333333333333,
             "#9c179e"
            ],
            [
             0.4444444444444444,
             "#bd3786"
            ],
            [
             0.5555555555555556,
             "#d8576b"
            ],
            [
             0.6666666666666666,
             "#ed7953"
            ],
            [
             0.7777777777777778,
             "#fb9f3a"
            ],
            [
             0.8888888888888888,
             "#fdca26"
            ],
            [
             1,
             "#f0f921"
            ]
           ],
           "sequentialminus": [
            [
             0,
             "#0d0887"
            ],
            [
             0.1111111111111111,
             "#46039f"
            ],
            [
             0.2222222222222222,
             "#7201a8"
            ],
            [
             0.3333333333333333,
             "#9c179e"
            ],
            [
             0.4444444444444444,
             "#bd3786"
            ],
            [
             0.5555555555555556,
             "#d8576b"
            ],
            [
             0.6666666666666666,
             "#ed7953"
            ],
            [
             0.7777777777777778,
             "#fb9f3a"
            ],
            [
             0.8888888888888888,
             "#fdca26"
            ],
            [
             1,
             "#f0f921"
            ]
           ]
          },
          "colorway": [
           "#636efa",
           "#EF553B",
           "#00cc96",
           "#ab63fa",
           "#FFA15A",
           "#19d3f3",
           "#FF6692",
           "#B6E880",
           "#FF97FF",
           "#FECB52"
          ],
          "font": {
           "color": "#2a3f5f"
          },
          "geo": {
           "bgcolor": "white",
           "lakecolor": "white",
           "landcolor": "#E5ECF6",
           "showlakes": true,
           "showland": true,
           "subunitcolor": "white"
          },
          "hoverlabel": {
           "align": "left"
          },
          "hovermode": "closest",
          "mapbox": {
           "style": "light"
          },
          "paper_bgcolor": "white",
          "plot_bgcolor": "#E5ECF6",
          "polar": {
           "angularaxis": {
            "gridcolor": "white",
            "linecolor": "white",
            "ticks": ""
           },
           "bgcolor": "#E5ECF6",
           "radialaxis": {
            "gridcolor": "white",
            "linecolor": "white",
            "ticks": ""
           }
          },
          "scene": {
           "xaxis": {
            "backgroundcolor": "#E5ECF6",
            "gridcolor": "white",
            "gridwidth": 2,
            "linecolor": "white",
            "showbackground": true,
            "ticks": "",
            "zerolinecolor": "white"
           },
           "yaxis": {
            "backgroundcolor": "#E5ECF6",
            "gridcolor": "white",
            "gridwidth": 2,
            "linecolor": "white",
            "showbackground": true,
            "ticks": "",
            "zerolinecolor": "white"
           },
           "zaxis": {
            "backgroundcolor": "#E5ECF6",
            "gridcolor": "white",
            "gridwidth": 2,
            "linecolor": "white",
            "showbackground": true,
            "ticks": "",
            "zerolinecolor": "white"
           }
          },
          "shapedefaults": {
           "line": {
            "color": "#2a3f5f"
           }
          },
          "ternary": {
           "aaxis": {
            "gridcolor": "white",
            "linecolor": "white",
            "ticks": ""
           },
           "baxis": {
            "gridcolor": "white",
            "linecolor": "white",
            "ticks": ""
           },
           "bgcolor": "#E5ECF6",
           "caxis": {
            "gridcolor": "white",
            "linecolor": "white",
            "ticks": ""
           }
          },
          "title": {
           "x": 0.05
          },
          "xaxis": {
           "automargin": true,
           "gridcolor": "white",
           "linecolor": "white",
           "ticks": "",
           "title": {
            "standoff": 15
           },
           "zerolinecolor": "white",
           "zerolinewidth": 2
          },
          "yaxis": {
           "automargin": true,
           "gridcolor": "white",
           "linecolor": "white",
           "ticks": "",
           "title": {
            "standoff": 15
           },
           "zerolinecolor": "white",
           "zerolinewidth": 2
          }
         }
        },
        "title": {
         "text": "Turnover Rate per Year (2017 & 2018)",
         "x": 0.5,
         "xanchor": "center",
         "y": 0.95,
         "yanchor": "top"
        }
       }
      },
      "text/html": [
       "<div>\n",
       "        \n",
       "        \n",
       "            <div id=\"3f449480-1cc7-427f-bf5f-d004da32ad6d\" class=\"plotly-graph-div\" style=\"height:525px; width:100%;\"></div>\n",
       "            <script type=\"text/javascript\">\n",
       "                require([\"plotly\"], function(Plotly) {\n",
       "                    window.PLOTLYENV=window.PLOTLYENV || {};\n",
       "                    \n",
       "                if (document.getElementById(\"3f449480-1cc7-427f-bf5f-d004da32ad6d\")) {\n",
       "                    Plotly.newPlot(\n",
       "                        '3f449480-1cc7-427f-bf5f-d004da32ad6d',\n",
       "                        [{\"name\": \"2017\", \"type\": \"bar\", \"x\": [\"CLE\", \"NYG\", \"OAK\", \"NYJ\", \"TB\", \"SF\", \"ARI\", \"DEN\", \"CIN\", \"GB\", \"IND\", \"MIA\", \"JAX\", \"WAS\", \"DET\", \"BUF\", \"HOU\", \"ATL\", \"CHI\", \"CAR\", \"SEA\", \"BAL\", \"TEN\", \"DAL\", \"LAC\", \"PHI\", \"MIN\", \"PIT\", \"KC\", \"NE\", \"LA\", \"NO\"], \"y\": [0.038, 0.035, 0.039, 0.032, 0.04, 0.027, 0.034, 0.037, 0.03, 0.032, 0.033, 0.043, 0.03, 0.033, 0.029, 0.028, 0.033, 0.026, 0.038, 0.031, 0.03, 0.025, 0.025, 0.023, 0.024, 0.03, 0.02, 0.023, 0.021, 0.018, 0.026, 0.022]}, {\"name\": \"2018\", \"type\": \"bar\", \"x\": [\"CLE\", \"NYG\", \"OAK\", \"NYJ\", \"TB\", \"SF\", \"ARI\", \"DEN\", \"CIN\", \"GB\", \"IND\", \"MIA\", \"JAX\", \"WAS\", \"DET\", \"BUF\", \"HOU\", \"ATL\", \"CHI\", \"CAR\", \"SEA\", \"BAL\", \"TEN\", \"DAL\", \"LAC\", \"PHI\", \"MIN\", \"PIT\", \"KC\", \"NE\", \"LA\", \"NO\"], \"y\": [0.04, 0.032, 0.026, 0.034, 0.042, 0.035, 0.047, 0.031, 0.023, 0.021, 0.032, 0.029, 0.039, 0.029, 0.029, 0.043, 0.027, 0.039, 0.028, 0.037, 0.024, 0.028, 0.025, 0.031, 0.022, 0.031, 0.038, 0.031, 0.022, 0.023, 0.025, 0.017]}],\n",
       "                        {\"barmode\": \"group\", \"template\": {\"data\": {\"bar\": [{\"error_x\": {\"color\": \"#2a3f5f\"}, \"error_y\": {\"color\": \"#2a3f5f\"}, \"marker\": {\"line\": {\"color\": \"#E5ECF6\", \"width\": 0.5}}, \"type\": \"bar\"}], \"barpolar\": [{\"marker\": {\"line\": {\"color\": \"#E5ECF6\", \"width\": 0.5}}, \"type\": \"barpolar\"}], \"carpet\": [{\"aaxis\": {\"endlinecolor\": \"#2a3f5f\", \"gridcolor\": \"white\", \"linecolor\": \"white\", \"minorgridcolor\": \"white\", \"startlinecolor\": \"#2a3f5f\"}, \"baxis\": {\"endlinecolor\": \"#2a3f5f\", \"gridcolor\": \"white\", \"linecolor\": \"white\", \"minorgridcolor\": \"white\", \"startlinecolor\": \"#2a3f5f\"}, \"type\": \"carpet\"}], \"choropleth\": [{\"colorbar\": {\"outlinewidth\": 0, \"ticks\": \"\"}, \"type\": \"choropleth\"}], \"contour\": [{\"colorbar\": {\"outlinewidth\": 0, \"ticks\": \"\"}, \"colorscale\": [[0.0, \"#0d0887\"], [0.1111111111111111, \"#46039f\"], [0.2222222222222222, \"#7201a8\"], [0.3333333333333333, \"#9c179e\"], [0.4444444444444444, \"#bd3786\"], [0.5555555555555556, \"#d8576b\"], [0.6666666666666666, \"#ed7953\"], [0.7777777777777778, \"#fb9f3a\"], [0.8888888888888888, \"#fdca26\"], [1.0, \"#f0f921\"]], \"type\": \"contour\"}], \"contourcarpet\": [{\"colorbar\": {\"outlinewidth\": 0, \"ticks\": \"\"}, \"type\": \"contourcarpet\"}], \"heatmap\": [{\"colorbar\": {\"outlinewidth\": 0, \"ticks\": \"\"}, \"colorscale\": [[0.0, \"#0d0887\"], [0.1111111111111111, \"#46039f\"], [0.2222222222222222, \"#7201a8\"], [0.3333333333333333, \"#9c179e\"], [0.4444444444444444, \"#bd3786\"], [0.5555555555555556, \"#d8576b\"], [0.6666666666666666, \"#ed7953\"], [0.7777777777777778, \"#fb9f3a\"], [0.8888888888888888, \"#fdca26\"], [1.0, \"#f0f921\"]], \"type\": \"heatmap\"}], \"heatmapgl\": [{\"colorbar\": {\"outlinewidth\": 0, \"ticks\": \"\"}, \"colorscale\": [[0.0, \"#0d0887\"], [0.1111111111111111, \"#46039f\"], [0.2222222222222222, \"#7201a8\"], [0.3333333333333333, \"#9c179e\"], [0.4444444444444444, \"#bd3786\"], [0.5555555555555556, \"#d8576b\"], [0.6666666666666666, \"#ed7953\"], [0.7777777777777778, \"#fb9f3a\"], [0.8888888888888888, \"#fdca26\"], [1.0, \"#f0f921\"]], \"type\": \"heatmapgl\"}], \"histogram\": [{\"marker\": {\"colorbar\": {\"outlinewidth\": 0, \"ticks\": \"\"}}, \"type\": \"histogram\"}], \"histogram2d\": [{\"colorbar\": {\"outlinewidth\": 0, \"ticks\": \"\"}, \"colorscale\": [[0.0, \"#0d0887\"], [0.1111111111111111, \"#46039f\"], [0.2222222222222222, \"#7201a8\"], [0.3333333333333333, \"#9c179e\"], [0.4444444444444444, \"#bd3786\"], [0.5555555555555556, \"#d8576b\"], [0.6666666666666666, \"#ed7953\"], [0.7777777777777778, \"#fb9f3a\"], [0.8888888888888888, \"#fdca26\"], [1.0, \"#f0f921\"]], \"type\": \"histogram2d\"}], \"histogram2dcontour\": [{\"colorbar\": {\"outlinewidth\": 0, \"ticks\": \"\"}, \"colorscale\": [[0.0, \"#0d0887\"], [0.1111111111111111, \"#46039f\"], [0.2222222222222222, \"#7201a8\"], [0.3333333333333333, \"#9c179e\"], [0.4444444444444444, \"#bd3786\"], [0.5555555555555556, \"#d8576b\"], [0.6666666666666666, \"#ed7953\"], [0.7777777777777778, \"#fb9f3a\"], [0.8888888888888888, \"#fdca26\"], [1.0, \"#f0f921\"]], \"type\": \"histogram2dcontour\"}], \"mesh3d\": [{\"colorbar\": {\"outlinewidth\": 0, \"ticks\": \"\"}, \"type\": \"mesh3d\"}], \"parcoords\": [{\"line\": {\"colorbar\": {\"outlinewidth\": 0, \"ticks\": \"\"}}, \"type\": \"parcoords\"}], \"pie\": [{\"automargin\": true, \"type\": \"pie\"}], \"scatter\": [{\"marker\": {\"colorbar\": {\"outlinewidth\": 0, \"ticks\": \"\"}}, \"type\": \"scatter\"}], \"scatter3d\": [{\"line\": {\"colorbar\": {\"outlinewidth\": 0, \"ticks\": \"\"}}, \"marker\": {\"colorbar\": {\"outlinewidth\": 0, \"ticks\": \"\"}}, \"type\": \"scatter3d\"}], \"scattercarpet\": [{\"marker\": {\"colorbar\": {\"outlinewidth\": 0, \"ticks\": \"\"}}, \"type\": \"scattercarpet\"}], \"scattergeo\": [{\"marker\": {\"colorbar\": {\"outlinewidth\": 0, \"ticks\": \"\"}}, \"type\": \"scattergeo\"}], \"scattergl\": [{\"marker\": {\"colorbar\": {\"outlinewidth\": 0, \"ticks\": \"\"}}, \"type\": \"scattergl\"}], \"scattermapbox\": [{\"marker\": {\"colorbar\": {\"outlinewidth\": 0, \"ticks\": \"\"}}, \"type\": \"scattermapbox\"}], \"scatterpolar\": [{\"marker\": {\"colorbar\": {\"outlinewidth\": 0, \"ticks\": \"\"}}, \"type\": \"scatterpolar\"}], \"scatterpolargl\": [{\"marker\": {\"colorbar\": {\"outlinewidth\": 0, \"ticks\": \"\"}}, \"type\": \"scatterpolargl\"}], \"scatterternary\": [{\"marker\": {\"colorbar\": {\"outlinewidth\": 0, \"ticks\": \"\"}}, \"type\": \"scatterternary\"}], \"surface\": [{\"colorbar\": {\"outlinewidth\": 0, \"ticks\": \"\"}, \"colorscale\": [[0.0, \"#0d0887\"], [0.1111111111111111, \"#46039f\"], [0.2222222222222222, \"#7201a8\"], [0.3333333333333333, \"#9c179e\"], [0.4444444444444444, \"#bd3786\"], [0.5555555555555556, \"#d8576b\"], [0.6666666666666666, \"#ed7953\"], [0.7777777777777778, \"#fb9f3a\"], [0.8888888888888888, \"#fdca26\"], [1.0, \"#f0f921\"]], \"type\": \"surface\"}], \"table\": [{\"cells\": {\"fill\": {\"color\": \"#EBF0F8\"}, \"line\": {\"color\": \"white\"}}, \"header\": {\"fill\": {\"color\": \"#C8D4E3\"}, \"line\": {\"color\": \"white\"}}, \"type\": \"table\"}]}, \"layout\": {\"annotationdefaults\": {\"arrowcolor\": \"#2a3f5f\", \"arrowhead\": 0, \"arrowwidth\": 1}, \"coloraxis\": {\"colorbar\": {\"outlinewidth\": 0, \"ticks\": \"\"}}, \"colorscale\": {\"diverging\": [[0, \"#8e0152\"], [0.1, \"#c51b7d\"], [0.2, \"#de77ae\"], [0.3, \"#f1b6da\"], [0.4, \"#fde0ef\"], [0.5, \"#f7f7f7\"], [0.6, \"#e6f5d0\"], [0.7, \"#b8e186\"], [0.8, \"#7fbc41\"], [0.9, \"#4d9221\"], [1, \"#276419\"]], \"sequential\": [[0.0, \"#0d0887\"], [0.1111111111111111, \"#46039f\"], [0.2222222222222222, \"#7201a8\"], [0.3333333333333333, \"#9c179e\"], [0.4444444444444444, \"#bd3786\"], [0.5555555555555556, \"#d8576b\"], [0.6666666666666666, \"#ed7953\"], [0.7777777777777778, \"#fb9f3a\"], [0.8888888888888888, \"#fdca26\"], [1.0, \"#f0f921\"]], \"sequentialminus\": [[0.0, \"#0d0887\"], [0.1111111111111111, \"#46039f\"], [0.2222222222222222, \"#7201a8\"], [0.3333333333333333, \"#9c179e\"], [0.4444444444444444, \"#bd3786\"], [0.5555555555555556, \"#d8576b\"], [0.6666666666666666, \"#ed7953\"], [0.7777777777777778, \"#fb9f3a\"], [0.8888888888888888, \"#fdca26\"], [1.0, \"#f0f921\"]]}, \"colorway\": [\"#636efa\", \"#EF553B\", \"#00cc96\", \"#ab63fa\", \"#FFA15A\", \"#19d3f3\", \"#FF6692\", \"#B6E880\", \"#FF97FF\", \"#FECB52\"], \"font\": {\"color\": \"#2a3f5f\"}, \"geo\": {\"bgcolor\": \"white\", \"lakecolor\": \"white\", \"landcolor\": \"#E5ECF6\", \"showlakes\": true, \"showland\": true, \"subunitcolor\": \"white\"}, \"hoverlabel\": {\"align\": \"left\"}, \"hovermode\": \"closest\", \"mapbox\": {\"style\": \"light\"}, \"paper_bgcolor\": \"white\", \"plot_bgcolor\": \"#E5ECF6\", \"polar\": {\"angularaxis\": {\"gridcolor\": \"white\", \"linecolor\": \"white\", \"ticks\": \"\"}, \"bgcolor\": \"#E5ECF6\", \"radialaxis\": {\"gridcolor\": \"white\", \"linecolor\": \"white\", \"ticks\": \"\"}}, \"scene\": {\"xaxis\": {\"backgroundcolor\": \"#E5ECF6\", \"gridcolor\": \"white\", \"gridwidth\": 2, \"linecolor\": \"white\", \"showbackground\": true, \"ticks\": \"\", \"zerolinecolor\": \"white\"}, \"yaxis\": {\"backgroundcolor\": \"#E5ECF6\", \"gridcolor\": \"white\", \"gridwidth\": 2, \"linecolor\": \"white\", \"showbackground\": true, \"ticks\": \"\", \"zerolinecolor\": \"white\"}, \"zaxis\": {\"backgroundcolor\": \"#E5ECF6\", \"gridcolor\": \"white\", \"gridwidth\": 2, \"linecolor\": \"white\", \"showbackground\": true, \"ticks\": \"\", \"zerolinecolor\": \"white\"}}, \"shapedefaults\": {\"line\": {\"color\": \"#2a3f5f\"}}, \"ternary\": {\"aaxis\": {\"gridcolor\": \"white\", \"linecolor\": \"white\", \"ticks\": \"\"}, \"baxis\": {\"gridcolor\": \"white\", \"linecolor\": \"white\", \"ticks\": \"\"}, \"bgcolor\": \"#E5ECF6\", \"caxis\": {\"gridcolor\": \"white\", \"linecolor\": \"white\", \"ticks\": \"\"}}, \"title\": {\"x\": 0.05}, \"xaxis\": {\"automargin\": true, \"gridcolor\": \"white\", \"linecolor\": \"white\", \"ticks\": \"\", \"title\": {\"standoff\": 15}, \"zerolinecolor\": \"white\", \"zerolinewidth\": 2}, \"yaxis\": {\"automargin\": true, \"gridcolor\": \"white\", \"linecolor\": \"white\", \"ticks\": \"\", \"title\": {\"standoff\": 15}, \"zerolinecolor\": \"white\", \"zerolinewidth\": 2}}}, \"title\": {\"text\": \"Turnover Rate per Year (2017 & 2018)\", \"x\": 0.5, \"xanchor\": \"center\", \"y\": 0.95, \"yanchor\": \"top\"}},\n",
       "                        {\"responsive\": true}\n",
       "                    ).then(function(){\n",
       "                            \n",
       "var gd = document.getElementById('3f449480-1cc7-427f-bf5f-d004da32ad6d');\n",
       "var x = new MutationObserver(function (mutations, observer) {{\n",
       "        var display = window.getComputedStyle(gd).display;\n",
       "        if (!display || display === 'none') {{\n",
       "            console.log([gd, 'removed!']);\n",
       "            Plotly.purge(gd);\n",
       "            observer.disconnect();\n",
       "        }}\n",
       "}});\n",
       "\n",
       "// Listen for the removal of the full notebook cells\n",
       "var notebookContainer = gd.closest('#notebook-container');\n",
       "if (notebookContainer) {{\n",
       "    x.observe(notebookContainer, {childList: true});\n",
       "}}\n",
       "\n",
       "// Listen for the clearing of the current output cell\n",
       "var outputEl = gd.closest('.output');\n",
       "if (outputEl) {{\n",
       "    x.observe(outputEl, {childList: true});\n",
       "}}\n",
       "\n",
       "                        })\n",
       "                };\n",
       "                });\n",
       "            </script>\n",
       "        </div>"
      ]
     },
     "metadata": {},
     "output_type": "display_data"
    }
   ],
   "source": [
    "fig = go.Figure(data = [go.Bar(name = '2017', x = team_by_wins['team'], y = TO_rate_2017),\\\n",
    "                        go.Bar(name = '2018', x = team_by_wins['team'], y = TO_rate_2018)\n",
    "                       ])\n",
    "\n",
    "layout = go.Layout(\n",
    "    title = 'Turnover Rate per Year (2017 & 2018)',\n",
    "    xaxis= dict(title= 'Team',ticklen= 1,zeroline= False),\n",
    "    yaxis= dict(title= 'TO Rate',ticklen= 5,zeroline= False)\n",
    ")\n",
    "\n",
    "fig.update_layout(\n",
    "    title={\n",
    "        'text':'Turnover Rate per Year (2017 & 2018)',\n",
    "        'y':0.95,\n",
    "        'x':0.5,\n",
    "        'xanchor': 'center',\n",
    "        'yanchor': 'top'},\n",
    "        barmode='group')\n",
    "\n",
    "fig"
   ]
  },
  {
   "cell_type": "markdown",
   "metadata": {},
   "source": [
    "Also, as expected, teams more likely to win seem to turn the ball over less"
   ]
  },
  {
   "cell_type": "code",
   "execution_count": 183,
   "metadata": {},
   "outputs": [],
   "source": [
    "df = nfl_small2_end_of_drive.groupby(['game_id','game_name']).count().reset_index()[['game_id','game_name']]"
   ]
  },
  {
   "cell_type": "markdown",
   "metadata": {},
   "source": [
    "<h2>Feature Analysis for Weather</h2>"
   ]
  },
  {
   "cell_type": "code",
   "execution_count": 184,
   "metadata": {},
   "outputs": [],
   "source": [
    "# Using a form of Joey's agg function\n",
    "def my_aggfunc(x):\n",
    "    values = {\n",
    "        'pass_home':x[x['posteam_type']=='home']['play_type'].eq('pass').sum(),\n",
    "        'pass_away':x[x['posteam_type']=='away']['play_type'].eq('pass').sum(),\n",
    "        \n",
    "        'run_home':x[x['posteam_type']=='home']['play_type'].eq('run').sum(),\n",
    "        'run_away':x[x['posteam_type']=='away']['play_type'].eq('run').sum(),\n",
    "        \n",
    "        'TO_home':x[x['posteam_type']=='home']['INT'].sum() +\\\n",
    "        x[x['posteam_type']=='home']['fumble'].sum(),\n",
    "        'TO_away':x[x['posteam_type']=='away']['INT'].sum() +\\\n",
    "        x[x['posteam_type']=='away']['fumble'].sum(),\n",
    "        \n",
    "        'yards_home':x[(x['posteam_type']=='home') & (x['end_of_drive']==1)]['ydsnet'].sum(),\n",
    "        'yards_away':x[(x['posteam_type']=='away') & (x['end_of_drive']==1)]['ydsnet'].sum(),\n",
    "        \n",
    "        'fg_at_home':x[(x['posteam_type']=='home')&(x['play_type']=='field_goal')]['play_type'].count(),\n",
    "        'fg_at_away':x[(x['posteam_type']=='away')&(x['play_type']=='field_goal')]['play_type'].count(),\n",
    "        \n",
    "        'fg_md_home':x[(x['posteam_type']=='home')&(x['play_type']=='field_goal')]['play_type'].count(),\n",
    "        'fg_md_away':x[(x['posteam_type']=='away')&(x['play_type']=='field_goal')]['play_type'].count(),\n",
    "        \n",
    "        'pass_yards_home':x[(x['posteam_type']=='home')&(x['play_type']=='pass')]['yards_gained'].sum(),\n",
    "        'pass_yards_away':x[(x['posteam_type']=='away')&(x['play_type']=='pass')]['yards_gained'].sum(),\n",
    "        \n",
    "        'run_yards_home':x[(x['posteam_type']=='home')&(x['play_type']=='run')]['yards_gained'].sum(),\n",
    "        'run_yards_away':x[(x['posteam_type']=='away')&(x['play_type']=='run')]['yards_gained'].sum()\n",
    "        \n",
    "    }\n",
    "    return pd.Series(values)"
   ]
  },
  {
   "cell_type": "code",
   "execution_count": 185,
   "metadata": {},
   "outputs": [],
   "source": [
    "new_df = pd.DataFrame()\n",
    "new_df = nfl_small2_end_of_drive.groupby(['game_id']).apply(my_aggfunc)\n"
   ]
  },
  {
   "cell_type": "code",
   "execution_count": 186,
   "metadata": {},
   "outputs": [],
   "source": [
    "new_df['home_team'] = nfl_small2_end_of_drive.groupby('game_id')['home_team'].first()\n",
    "new_df['away_team'] = nfl_small2_end_of_drive.groupby('game_id')['away_team'].first()\n",
    "new_df['home_score'] = nfl_small2_end_of_drive.groupby('game_id')['total_home_score'].last()\n",
    "new_df['away_score'] = nfl_small2_end_of_drive.groupby('game_id')['total_away_score'].last()"
   ]
  },
  {
   "cell_type": "code",
   "execution_count": 187,
   "metadata": {},
   "outputs": [
    {
     "data": {
      "text/html": [
       "<div>\n",
       "<style scoped>\n",
       "    .dataframe tbody tr th:only-of-type {\n",
       "        vertical-align: middle;\n",
       "    }\n",
       "\n",
       "    .dataframe tbody tr th {\n",
       "        vertical-align: top;\n",
       "    }\n",
       "\n",
       "    .dataframe thead th {\n",
       "        text-align: right;\n",
       "    }\n",
       "</style>\n",
       "<table border=\"1\" class=\"dataframe\">\n",
       "  <thead>\n",
       "    <tr style=\"text-align: right;\">\n",
       "      <th></th>\n",
       "      <th>game_id</th>\n",
       "      <th>pass_home</th>\n",
       "      <th>pass_away</th>\n",
       "      <th>run_home</th>\n",
       "      <th>run_away</th>\n",
       "      <th>TO_home</th>\n",
       "      <th>TO_away</th>\n",
       "      <th>yards_home</th>\n",
       "      <th>yards_away</th>\n",
       "      <th>fg_at_home</th>\n",
       "      <th>fg_at_away</th>\n",
       "      <th>fg_md_home</th>\n",
       "      <th>fg_md_away</th>\n",
       "      <th>pass_yards_home</th>\n",
       "      <th>pass_yards_away</th>\n",
       "      <th>run_yards_home</th>\n",
       "      <th>run_yards_away</th>\n",
       "      <th>home_team</th>\n",
       "      <th>away_team</th>\n",
       "      <th>home_score</th>\n",
       "      <th>away_score</th>\n",
       "    </tr>\n",
       "  </thead>\n",
       "  <tbody>\n",
       "    <tr>\n",
       "      <th>0</th>\n",
       "      <td>2017090700</td>\n",
       "      <td>39.0</td>\n",
       "      <td>38.0</td>\n",
       "      <td>34.0</td>\n",
       "      <td>24.0</td>\n",
       "      <td>2.0</td>\n",
       "      <td>1.0</td>\n",
       "      <td>425.0</td>\n",
       "      <td>538.0</td>\n",
       "      <td>2.0</td>\n",
       "      <td>0.0</td>\n",
       "      <td>2.0</td>\n",
       "      <td>0.0</td>\n",
       "      <td>247.0</td>\n",
       "      <td>352.0</td>\n",
       "      <td>125.0</td>\n",
       "      <td>191.0</td>\n",
       "      <td>NE</td>\n",
       "      <td>KC</td>\n",
       "      <td>27</td>\n",
       "      <td>42</td>\n",
       "    </tr>\n",
       "    <tr>\n",
       "      <th>1</th>\n",
       "      <td>2017091000</td>\n",
       "      <td>29.0</td>\n",
       "      <td>41.0</td>\n",
       "      <td>39.0</td>\n",
       "      <td>14.0</td>\n",
       "      <td>2.0</td>\n",
       "      <td>3.0</td>\n",
       "      <td>400.0</td>\n",
       "      <td>199.0</td>\n",
       "      <td>1.0</td>\n",
       "      <td>2.0</td>\n",
       "      <td>1.0</td>\n",
       "      <td>2.0</td>\n",
       "      <td>218.0</td>\n",
       "      <td>176.0</td>\n",
       "      <td>193.0</td>\n",
       "      <td>39.0</td>\n",
       "      <td>BUF</td>\n",
       "      <td>NYJ</td>\n",
       "      <td>21</td>\n",
       "      <td>12</td>\n",
       "    </tr>\n",
       "    <tr>\n",
       "      <th>2</th>\n",
       "      <td>2017091001</td>\n",
       "      <td>44.0</td>\n",
       "      <td>32.0</td>\n",
       "      <td>19.0</td>\n",
       "      <td>21.0</td>\n",
       "      <td>3.0</td>\n",
       "      <td>0.0</td>\n",
       "      <td>306.0</td>\n",
       "      <td>372.0</td>\n",
       "      <td>1.0</td>\n",
       "      <td>3.0</td>\n",
       "      <td>1.0</td>\n",
       "      <td>3.0</td>\n",
       "      <td>176.0</td>\n",
       "      <td>308.0</td>\n",
       "      <td>125.0</td>\n",
       "      <td>66.0</td>\n",
       "      <td>CHI</td>\n",
       "      <td>ATL</td>\n",
       "      <td>17</td>\n",
       "      <td>23</td>\n",
       "    </tr>\n",
       "    <tr>\n",
       "      <th>3</th>\n",
       "      <td>2017091002</td>\n",
       "      <td>36.0</td>\n",
       "      <td>18.0</td>\n",
       "      <td>22.0</td>\n",
       "      <td>42.0</td>\n",
       "      <td>7.0</td>\n",
       "      <td>1.0</td>\n",
       "      <td>217.0</td>\n",
       "      <td>255.0</td>\n",
       "      <td>0.0</td>\n",
       "      <td>2.0</td>\n",
       "      <td>0.0</td>\n",
       "      <td>2.0</td>\n",
       "      <td>144.0</td>\n",
       "      <td>111.0</td>\n",
       "      <td>77.0</td>\n",
       "      <td>157.0</td>\n",
       "      <td>CIN</td>\n",
       "      <td>BAL</td>\n",
       "      <td>0</td>\n",
       "      <td>20</td>\n",
       "    </tr>\n",
       "    <tr>\n",
       "      <th>4</th>\n",
       "      <td>2017091003</td>\n",
       "      <td>37.0</td>\n",
       "      <td>37.0</td>\n",
       "      <td>26.0</td>\n",
       "      <td>14.0</td>\n",
       "      <td>2.0</td>\n",
       "      <td>3.0</td>\n",
       "      <td>293.0</td>\n",
       "      <td>287.0</td>\n",
       "      <td>1.0</td>\n",
       "      <td>0.0</td>\n",
       "      <td>1.0</td>\n",
       "      <td>0.0</td>\n",
       "      <td>180.0</td>\n",
       "      <td>255.0</td>\n",
       "      <td>59.0</td>\n",
       "      <td>43.0</td>\n",
       "      <td>CLE</td>\n",
       "      <td>PIT</td>\n",
       "      <td>18</td>\n",
       "      <td>20</td>\n",
       "    </tr>\n",
       "  </tbody>\n",
       "</table>\n",
       "</div>"
      ],
      "text/plain": [
       "      game_id  pass_home  pass_away  run_home  run_away  TO_home  TO_away  \\\n",
       "0  2017090700       39.0       38.0      34.0      24.0      2.0      1.0   \n",
       "1  2017091000       29.0       41.0      39.0      14.0      2.0      3.0   \n",
       "2  2017091001       44.0       32.0      19.0      21.0      3.0      0.0   \n",
       "3  2017091002       36.0       18.0      22.0      42.0      7.0      1.0   \n",
       "4  2017091003       37.0       37.0      26.0      14.0      2.0      3.0   \n",
       "\n",
       "   yards_home  yards_away  fg_at_home  fg_at_away  fg_md_home  fg_md_away  \\\n",
       "0       425.0       538.0         2.0         0.0         2.0         0.0   \n",
       "1       400.0       199.0         1.0         2.0         1.0         2.0   \n",
       "2       306.0       372.0         1.0         3.0         1.0         3.0   \n",
       "3       217.0       255.0         0.0         2.0         0.0         2.0   \n",
       "4       293.0       287.0         1.0         0.0         1.0         0.0   \n",
       "\n",
       "   pass_yards_home  pass_yards_away  run_yards_home  run_yards_away home_team  \\\n",
       "0            247.0            352.0           125.0           191.0        NE   \n",
       "1            218.0            176.0           193.0            39.0       BUF   \n",
       "2            176.0            308.0           125.0            66.0       CHI   \n",
       "3            144.0            111.0            77.0           157.0       CIN   \n",
       "4            180.0            255.0            59.0            43.0       CLE   \n",
       "\n",
       "  away_team  home_score  away_score  \n",
       "0        KC          27          42  \n",
       "1       NYJ          21          12  \n",
       "2       ATL          17          23  \n",
       "3       BAL           0          20  \n",
       "4       PIT          18          20  "
      ]
     },
     "execution_count": 187,
     "metadata": {},
     "output_type": "execute_result"
    }
   ],
   "source": [
    "new_df.reset_index().head()"
   ]
  },
  {
   "cell_type": "code",
   "execution_count": 188,
   "metadata": {
    "scrolled": true
   },
   "outputs": [],
   "source": [
    "# new_df['pass_ratio'] = new_df['']"
   ]
  },
  {
   "cell_type": "code",
   "execution_count": 189,
   "metadata": {},
   "outputs": [],
   "source": [
    "away_cols = ['pass_away','run_away','TO_away','yards_away','away_team','home_score','away_score']"
   ]
  },
  {
   "cell_type": "code",
   "execution_count": 190,
   "metadata": {},
   "outputs": [],
   "source": [
    "test_df = new_df.reset_index()[['game_id','home_team','away_team']]\\\n",
    "                .melt(id_vars='game_id',var_name = 'home_away',value_name=\"Team\")\n"
   ]
  },
  {
   "cell_type": "code",
   "execution_count": 191,
   "metadata": {},
   "outputs": [
    {
     "data": {
      "text/html": [
       "<div>\n",
       "<style scoped>\n",
       "    .dataframe tbody tr th:only-of-type {\n",
       "        vertical-align: middle;\n",
       "    }\n",
       "\n",
       "    .dataframe tbody tr th {\n",
       "        vertical-align: top;\n",
       "    }\n",
       "\n",
       "    .dataframe thead th {\n",
       "        text-align: right;\n",
       "    }\n",
       "</style>\n",
       "<table border=\"1\" class=\"dataframe\">\n",
       "  <thead>\n",
       "    <tr style=\"text-align: right;\">\n",
       "      <th></th>\n",
       "      <th>game_id</th>\n",
       "      <th>home_away</th>\n",
       "      <th>Team</th>\n",
       "    </tr>\n",
       "  </thead>\n",
       "  <tbody>\n",
       "    <tr>\n",
       "      <th>0</th>\n",
       "      <td>2017090700</td>\n",
       "      <td>home_team</td>\n",
       "      <td>NE</td>\n",
       "    </tr>\n",
       "    <tr>\n",
       "      <th>480</th>\n",
       "      <td>2017090700</td>\n",
       "      <td>away_team</td>\n",
       "      <td>KC</td>\n",
       "    </tr>\n",
       "  </tbody>\n",
       "</table>\n",
       "</div>"
      ],
      "text/plain": [
       "        game_id  home_away Team\n",
       "0    2017090700  home_team   NE\n",
       "480  2017090700  away_team   KC"
      ]
     },
     "execution_count": 191,
     "metadata": {},
     "output_type": "execute_result"
    }
   ],
   "source": [
    "test_df[test_df['game_id']==2017090700]"
   ]
  },
  {
   "cell_type": "code",
   "execution_count": 192,
   "metadata": {},
   "outputs": [],
   "source": [
    "test_df_home = test_df.merge(new_df.reset_index(),how='inner',left_on=['game_id','Team'],\\\n",
    "                             right_on=['game_id','home_team'])\n",
    "# test_df = test_df.merge(new_df.reset_index(),how='left',left_on=['game_id','Team'],right_on=['game_id','away_team'])"
   ]
  },
  {
   "cell_type": "code",
   "execution_count": 193,
   "metadata": {},
   "outputs": [],
   "source": [
    "# Setting variables for Home Team\n",
    "test_df_home['team_against'] = test_df_home[test_df_home['home_away']=='home_team']['away_team']\n",
    "test_df_home['score'] = test_df_home[test_df_home['home_away']=='home_team']['home_score']\n",
    "test_df_home['score_against'] = test_df_home[test_df_home['home_away']=='home_team']['away_score']\n",
    "\n",
    "test_df_home['yards'] = test_df_home[test_df_home['home_away']=='home_team']['yards_home']\n",
    "test_df_home['yards_against'] = test_df_home[test_df_home['home_away']=='home_team']['yards_away']\n",
    "\n",
    "test_df_home['run_plays'] = test_df_home[test_df_home['home_away']=='home_team']['run_home']\n",
    "test_df_home['run_plays_against'] = test_df_home[test_df_home['home_away']=='home_team']['run_away']\n",
    "\n",
    "test_df_home['pass_plays'] = test_df_home[test_df_home['home_away']=='home_team']['pass_home']\n",
    "test_df_home['pass_plays_against'] = test_df_home[test_df_home['home_away']=='home_team']['pass_away']\n",
    "\n",
    "test_df_home['to_for'] = test_df_home[test_df_home['home_away']=='home_team']['TO_home']\n",
    "test_df_home['to_against'] = test_df_home[test_df_home['home_away']=='home_team']['TO_away']\n",
    "\n",
    "test_df_home['fg_at'] = test_df_home[test_df_home['home_away']=='home_team']['fg_at_home']\n",
    "test_df_home['fg_md'] = test_df_home[test_df_home['home_away']=='home_team']['fg_md_home']\n",
    "\n",
    "test_df_home['fg_at_against'] = test_df_home[test_df_home['home_away']=='home_team']['fg_at_away']\n",
    "test_df_home['fg_md_against'] = test_df_home[test_df_home['home_away']=='home_team']['fg_md_away']\n",
    "\n",
    "test_df_home['pass_yards'] = test_df_home[test_df_home['home_away']=='home_team']['pass_yards_home']\n",
    "test_df_home['pass_yards_against'] = test_df_home[test_df_home['home_away']=='home_team']['pass_yards_away']\n",
    "\n",
    "test_df_home['run_yards'] = test_df_home[test_df_home['home_away']=='home_team']['run_yards_home']\n",
    "test_df_home['run_yards_against'] = test_df_home[test_df_home['home_away']=='home_team']['run_yards_away']\n",
    "\n",
    "# Add other field goal columns\n",
    "\n"
   ]
  },
  {
   "cell_type": "code",
   "execution_count": 194,
   "metadata": {},
   "outputs": [
    {
     "data": {
      "text/html": [
       "<div>\n",
       "<style scoped>\n",
       "    .dataframe tbody tr th:only-of-type {\n",
       "        vertical-align: middle;\n",
       "    }\n",
       "\n",
       "    .dataframe tbody tr th {\n",
       "        vertical-align: top;\n",
       "    }\n",
       "\n",
       "    .dataframe thead th {\n",
       "        text-align: right;\n",
       "    }\n",
       "</style>\n",
       "<table border=\"1\" class=\"dataframe\">\n",
       "  <thead>\n",
       "    <tr style=\"text-align: right;\">\n",
       "      <th></th>\n",
       "      <th>game_id</th>\n",
       "      <th>home_away</th>\n",
       "      <th>Team</th>\n",
       "      <th>pass_home</th>\n",
       "      <th>pass_away</th>\n",
       "      <th>run_home</th>\n",
       "      <th>run_away</th>\n",
       "      <th>TO_home</th>\n",
       "      <th>TO_away</th>\n",
       "      <th>yards_home</th>\n",
       "      <th>yards_away</th>\n",
       "      <th>fg_at_home</th>\n",
       "      <th>fg_at_away</th>\n",
       "      <th>fg_md_home</th>\n",
       "      <th>fg_md_away</th>\n",
       "      <th>pass_yards_home</th>\n",
       "      <th>pass_yards_away</th>\n",
       "      <th>run_yards_home</th>\n",
       "      <th>run_yards_away</th>\n",
       "      <th>home_team</th>\n",
       "      <th>away_team</th>\n",
       "      <th>home_score</th>\n",
       "      <th>away_score</th>\n",
       "      <th>team_against</th>\n",
       "      <th>score</th>\n",
       "      <th>score_against</th>\n",
       "      <th>yards</th>\n",
       "      <th>yards_against</th>\n",
       "      <th>run_plays</th>\n",
       "      <th>run_plays_against</th>\n",
       "      <th>pass_plays</th>\n",
       "      <th>pass_plays_against</th>\n",
       "      <th>to_for</th>\n",
       "      <th>to_against</th>\n",
       "      <th>fg_at</th>\n",
       "      <th>fg_md</th>\n",
       "      <th>fg_at_against</th>\n",
       "      <th>fg_md_against</th>\n",
       "      <th>pass_yards</th>\n",
       "      <th>pass_yards_against</th>\n",
       "      <th>run_yards</th>\n",
       "      <th>run_yards_against</th>\n",
       "    </tr>\n",
       "  </thead>\n",
       "  <tbody>\n",
       "    <tr>\n",
       "      <th>0</th>\n",
       "      <td>2017090700</td>\n",
       "      <td>home_team</td>\n",
       "      <td>NE</td>\n",
       "      <td>39.0</td>\n",
       "      <td>38.0</td>\n",
       "      <td>34.0</td>\n",
       "      <td>24.0</td>\n",
       "      <td>2.0</td>\n",
       "      <td>1.0</td>\n",
       "      <td>425.0</td>\n",
       "      <td>538.0</td>\n",
       "      <td>2.0</td>\n",
       "      <td>0.0</td>\n",
       "      <td>2.0</td>\n",
       "      <td>0.0</td>\n",
       "      <td>247.0</td>\n",
       "      <td>352.0</td>\n",
       "      <td>125.0</td>\n",
       "      <td>191.0</td>\n",
       "      <td>NE</td>\n",
       "      <td>KC</td>\n",
       "      <td>27</td>\n",
       "      <td>42</td>\n",
       "      <td>KC</td>\n",
       "      <td>27</td>\n",
       "      <td>42</td>\n",
       "      <td>425.0</td>\n",
       "      <td>538.0</td>\n",
       "      <td>34.0</td>\n",
       "      <td>24.0</td>\n",
       "      <td>39.0</td>\n",
       "      <td>38.0</td>\n",
       "      <td>2.0</td>\n",
       "      <td>1.0</td>\n",
       "      <td>2.0</td>\n",
       "      <td>2.0</td>\n",
       "      <td>0.0</td>\n",
       "      <td>0.0</td>\n",
       "      <td>247.0</td>\n",
       "      <td>352.0</td>\n",
       "      <td>125.0</td>\n",
       "      <td>191.0</td>\n",
       "    </tr>\n",
       "  </tbody>\n",
       "</table>\n",
       "</div>"
      ],
      "text/plain": [
       "      game_id  home_away Team  pass_home  pass_away  run_home  run_away  \\\n",
       "0  2017090700  home_team   NE       39.0       38.0      34.0      24.0   \n",
       "\n",
       "   TO_home  TO_away  yards_home  yards_away  fg_at_home  fg_at_away  \\\n",
       "0      2.0      1.0       425.0       538.0         2.0         0.0   \n",
       "\n",
       "   fg_md_home  fg_md_away  pass_yards_home  pass_yards_away  run_yards_home  \\\n",
       "0         2.0         0.0            247.0            352.0           125.0   \n",
       "\n",
       "   run_yards_away home_team away_team  home_score  away_score team_against  \\\n",
       "0           191.0        NE        KC          27          42           KC   \n",
       "\n",
       "   score  score_against  yards  yards_against  run_plays  run_plays_against  \\\n",
       "0     27             42  425.0          538.0       34.0               24.0   \n",
       "\n",
       "   pass_plays  pass_plays_against  to_for  to_against  fg_at  fg_md  \\\n",
       "0        39.0                38.0     2.0         1.0    2.0    2.0   \n",
       "\n",
       "   fg_at_against  fg_md_against  pass_yards  pass_yards_against  run_yards  \\\n",
       "0            0.0            0.0       247.0               352.0      125.0   \n",
       "\n",
       "   run_yards_against  \n",
       "0              191.0  "
      ]
     },
     "execution_count": 194,
     "metadata": {},
     "output_type": "execute_result"
    }
   ],
   "source": [
    "test_df_home[test_df_home['game_id']==2017090700]"
   ]
  },
  {
   "cell_type": "code",
   "execution_count": 195,
   "metadata": {},
   "outputs": [
    {
     "data": {
      "text/html": [
       "<div>\n",
       "<style scoped>\n",
       "    .dataframe tbody tr th:only-of-type {\n",
       "        vertical-align: middle;\n",
       "    }\n",
       "\n",
       "    .dataframe tbody tr th {\n",
       "        vertical-align: top;\n",
       "    }\n",
       "\n",
       "    .dataframe thead th {\n",
       "        text-align: right;\n",
       "    }\n",
       "</style>\n",
       "<table border=\"1\" class=\"dataframe\">\n",
       "  <thead>\n",
       "    <tr style=\"text-align: right;\">\n",
       "      <th></th>\n",
       "      <th>game_id</th>\n",
       "      <th>home_away</th>\n",
       "      <th>Team</th>\n",
       "      <th>pass_home</th>\n",
       "      <th>pass_away</th>\n",
       "      <th>run_home</th>\n",
       "      <th>run_away</th>\n",
       "      <th>TO_home</th>\n",
       "      <th>TO_away</th>\n",
       "      <th>yards_home</th>\n",
       "      <th>yards_away</th>\n",
       "      <th>fg_at_home</th>\n",
       "      <th>fg_at_away</th>\n",
       "      <th>fg_md_home</th>\n",
       "      <th>fg_md_away</th>\n",
       "      <th>pass_yards_home</th>\n",
       "      <th>pass_yards_away</th>\n",
       "      <th>run_yards_home</th>\n",
       "      <th>run_yards_away</th>\n",
       "      <th>home_team</th>\n",
       "      <th>away_team</th>\n",
       "      <th>home_score</th>\n",
       "      <th>away_score</th>\n",
       "    </tr>\n",
       "  </thead>\n",
       "  <tbody>\n",
       "    <tr>\n",
       "      <th>0</th>\n",
       "      <td>2017090700</td>\n",
       "      <td>away_team</td>\n",
       "      <td>KC</td>\n",
       "      <td>39.0</td>\n",
       "      <td>38.0</td>\n",
       "      <td>34.0</td>\n",
       "      <td>24.0</td>\n",
       "      <td>2.0</td>\n",
       "      <td>1.0</td>\n",
       "      <td>425.0</td>\n",
       "      <td>538.0</td>\n",
       "      <td>2.0</td>\n",
       "      <td>0.0</td>\n",
       "      <td>2.0</td>\n",
       "      <td>0.0</td>\n",
       "      <td>247.0</td>\n",
       "      <td>352.0</td>\n",
       "      <td>125.0</td>\n",
       "      <td>191.0</td>\n",
       "      <td>NE</td>\n",
       "      <td>KC</td>\n",
       "      <td>27</td>\n",
       "      <td>42</td>\n",
       "    </tr>\n",
       "  </tbody>\n",
       "</table>\n",
       "</div>"
      ],
      "text/plain": [
       "      game_id  home_away Team  pass_home  pass_away  run_home  run_away  \\\n",
       "0  2017090700  away_team   KC       39.0       38.0      34.0      24.0   \n",
       "\n",
       "   TO_home  TO_away  yards_home  yards_away  fg_at_home  fg_at_away  \\\n",
       "0      2.0      1.0       425.0       538.0         2.0         0.0   \n",
       "\n",
       "   fg_md_home  fg_md_away  pass_yards_home  pass_yards_away  run_yards_home  \\\n",
       "0         2.0         0.0            247.0            352.0           125.0   \n",
       "\n",
       "   run_yards_away home_team away_team  home_score  away_score  \n",
       "0           191.0        NE        KC          27          42  "
      ]
     },
     "execution_count": 195,
     "metadata": {},
     "output_type": "execute_result"
    }
   ],
   "source": [
    "# Creating away only df to merge records from hoem and away team stats\n",
    "test_df_away = test_df.merge(new_df.reset_index(),how='inner',left_on=['game_id','Team'],right_on=['game_id','away_team'])\n",
    "test_df_away[test_df_away['game_id']==2017090700]\n"
   ]
  },
  {
   "cell_type": "code",
   "execution_count": 196,
   "metadata": {},
   "outputs": [
    {
     "data": {
      "text/html": [
       "<div>\n",
       "<style scoped>\n",
       "    .dataframe tbody tr th:only-of-type {\n",
       "        vertical-align: middle;\n",
       "    }\n",
       "\n",
       "    .dataframe tbody tr th {\n",
       "        vertical-align: top;\n",
       "    }\n",
       "\n",
       "    .dataframe thead th {\n",
       "        text-align: right;\n",
       "    }\n",
       "</style>\n",
       "<table border=\"1\" class=\"dataframe\">\n",
       "  <thead>\n",
       "    <tr style=\"text-align: right;\">\n",
       "      <th></th>\n",
       "      <th>game_id</th>\n",
       "      <th>home_away</th>\n",
       "      <th>Team</th>\n",
       "      <th>pass_home</th>\n",
       "      <th>pass_away</th>\n",
       "      <th>run_home</th>\n",
       "      <th>run_away</th>\n",
       "      <th>TO_home</th>\n",
       "      <th>TO_away</th>\n",
       "      <th>yards_home</th>\n",
       "      <th>yards_away</th>\n",
       "      <th>fg_at_home</th>\n",
       "      <th>fg_at_away</th>\n",
       "      <th>fg_md_home</th>\n",
       "      <th>fg_md_away</th>\n",
       "      <th>pass_yards_home</th>\n",
       "      <th>pass_yards_away</th>\n",
       "      <th>run_yards_home</th>\n",
       "      <th>run_yards_away</th>\n",
       "      <th>home_team</th>\n",
       "      <th>away_team</th>\n",
       "      <th>home_score</th>\n",
       "      <th>away_score</th>\n",
       "      <th>team_against</th>\n",
       "      <th>score</th>\n",
       "      <th>score_against</th>\n",
       "      <th>yards</th>\n",
       "      <th>yards_against</th>\n",
       "      <th>run_plays</th>\n",
       "      <th>run_plays_against</th>\n",
       "      <th>pass_plays</th>\n",
       "      <th>pass_plays_against</th>\n",
       "      <th>to_for</th>\n",
       "      <th>to_against</th>\n",
       "      <th>fg_at</th>\n",
       "      <th>fg_md</th>\n",
       "      <th>fg_at_against</th>\n",
       "      <th>fg_md_against</th>\n",
       "      <th>pass_yards</th>\n",
       "      <th>pass_yards_against</th>\n",
       "      <th>run_yards</th>\n",
       "      <th>run_yards_against</th>\n",
       "    </tr>\n",
       "  </thead>\n",
       "  <tbody>\n",
       "    <tr>\n",
       "      <th>0</th>\n",
       "      <td>2017090700</td>\n",
       "      <td>away_team</td>\n",
       "      <td>KC</td>\n",
       "      <td>39.0</td>\n",
       "      <td>38.0</td>\n",
       "      <td>34.0</td>\n",
       "      <td>24.0</td>\n",
       "      <td>2.0</td>\n",
       "      <td>1.0</td>\n",
       "      <td>425.0</td>\n",
       "      <td>538.0</td>\n",
       "      <td>2.0</td>\n",
       "      <td>0.0</td>\n",
       "      <td>2.0</td>\n",
       "      <td>0.0</td>\n",
       "      <td>247.0</td>\n",
       "      <td>352.0</td>\n",
       "      <td>125.0</td>\n",
       "      <td>191.0</td>\n",
       "      <td>NE</td>\n",
       "      <td>KC</td>\n",
       "      <td>27</td>\n",
       "      <td>42</td>\n",
       "      <td>NE</td>\n",
       "      <td>42</td>\n",
       "      <td>27</td>\n",
       "      <td>538.0</td>\n",
       "      <td>425.0</td>\n",
       "      <td>24.0</td>\n",
       "      <td>34.0</td>\n",
       "      <td>38.0</td>\n",
       "      <td>39.0</td>\n",
       "      <td>1.0</td>\n",
       "      <td>2.0</td>\n",
       "      <td>0.0</td>\n",
       "      <td>0.0</td>\n",
       "      <td>2.0</td>\n",
       "      <td>2.0</td>\n",
       "      <td>352.0</td>\n",
       "      <td>247.0</td>\n",
       "      <td>191.0</td>\n",
       "      <td>125.0</td>\n",
       "    </tr>\n",
       "  </tbody>\n",
       "</table>\n",
       "</div>"
      ],
      "text/plain": [
       "      game_id  home_away Team  pass_home  pass_away  run_home  run_away  \\\n",
       "0  2017090700  away_team   KC       39.0       38.0      34.0      24.0   \n",
       "\n",
       "   TO_home  TO_away  yards_home  yards_away  fg_at_home  fg_at_away  \\\n",
       "0      2.0      1.0       425.0       538.0         2.0         0.0   \n",
       "\n",
       "   fg_md_home  fg_md_away  pass_yards_home  pass_yards_away  run_yards_home  \\\n",
       "0         2.0         0.0            247.0            352.0           125.0   \n",
       "\n",
       "   run_yards_away home_team away_team  home_score  away_score team_against  \\\n",
       "0           191.0        NE        KC          27          42           NE   \n",
       "\n",
       "   score  score_against  yards  yards_against  run_plays  run_plays_against  \\\n",
       "0     42             27  538.0          425.0       24.0               34.0   \n",
       "\n",
       "   pass_plays  pass_plays_against  to_for  to_against  fg_at  fg_md  \\\n",
       "0        38.0                39.0     1.0         2.0    0.0    0.0   \n",
       "\n",
       "   fg_at_against  fg_md_against  pass_yards  pass_yards_against  run_yards  \\\n",
       "0            2.0            2.0       352.0               247.0      191.0   \n",
       "\n",
       "   run_yards_against  \n",
       "0              125.0  "
      ]
     },
     "execution_count": 196,
     "metadata": {},
     "output_type": "execute_result"
    }
   ],
   "source": [
    "# Setting variables for Away Team\n",
    "test_df_away['team_against'] = test_df_away[test_df_away['home_away']=='away_team']['home_team']\n",
    "test_df_away['score'] = test_df_away[test_df_away['home_away']=='away_team']['away_score']\n",
    "test_df_away['score_against'] = test_df_away[test_df_away['home_away']=='away_team']['home_score']\n",
    "\n",
    "test_df_away['yards'] = test_df_away[test_df_away['home_away']=='away_team']['yards_away']\n",
    "test_df_away['yards_against'] = test_df_away[test_df_away['home_away']=='away_team']['yards_home']\n",
    "\n",
    "test_df_away['run_plays'] = test_df_away[test_df_away['home_away']=='away_team']['run_away']\n",
    "test_df_away['run_plays_against'] = test_df_away[test_df_away['home_away']=='away_team']['run_home']\n",
    "\n",
    "test_df_away['pass_plays'] = test_df_away[test_df_away['home_away']=='away_team']['pass_away']\n",
    "test_df_away['pass_plays_against'] = test_df_away[test_df_away['home_away']=='away_team']['pass_home']\n",
    "\n",
    "test_df_away['to_for'] = test_df_away[test_df_away['home_away']=='away_team']['TO_away']\n",
    "test_df_away['to_against'] = test_df_away[test_df_away['home_away']=='away_team']['TO_home']\n",
    "\n",
    "test_df_away['fg_at'] = test_df_away[test_df_away['home_away']=='away_team']['fg_at_away']\n",
    "test_df_away['fg_md'] = test_df_away[test_df_away['home_away']=='away_team']['fg_md_away']\n",
    "\n",
    "test_df_away['fg_at_against'] = test_df_away[test_df_away['home_away']=='away_team']['fg_at_home']\n",
    "test_df_away['fg_md_against'] = test_df_away[test_df_away['home_away']=='away_team']['fg_md_home']\n",
    "\n",
    "test_df_away['pass_yards'] = test_df_away[test_df_away['home_away']=='away_team']['pass_yards_away']\n",
    "test_df_away['pass_yards_against'] = test_df_away[test_df_away['home_away']=='away_team']['pass_yards_home']\n",
    "\n",
    "test_df_away['run_yards'] = test_df_away[test_df_away['home_away']=='away_team']['run_yards_away']\n",
    "test_df_away['run_yards_against'] = test_df_away[test_df_away['home_away']=='away_team']['run_yards_home']\n",
    "\n",
    "test_df_away[test_df_away['game_id']==2017090700]"
   ]
  },
  {
   "cell_type": "code",
   "execution_count": 197,
   "metadata": {},
   "outputs": [],
   "source": [
    "# Creating cols filter for new df\n",
    "new_cols = ['game_id','Team','team_against','score','score_against','yards','yards_against','run_plays',\\\n",
    "            'run_plays_against','pass_plays','pass_plays_against','to_for','to_against','fg_at',\\\n",
    "           'fg_md','fg_at_against','fg_md_against','pass_yards','pass_yards_against','run_yards','run_yards_against']\n"
   ]
  },
  {
   "cell_type": "code",
   "execution_count": 198,
   "metadata": {},
   "outputs": [
    {
     "data": {
      "text/html": [
       "<div>\n",
       "<style scoped>\n",
       "    .dataframe tbody tr th:only-of-type {\n",
       "        vertical-align: middle;\n",
       "    }\n",
       "\n",
       "    .dataframe tbody tr th {\n",
       "        vertical-align: top;\n",
       "    }\n",
       "\n",
       "    .dataframe thead th {\n",
       "        text-align: right;\n",
       "    }\n",
       "</style>\n",
       "<table border=\"1\" class=\"dataframe\">\n",
       "  <thead>\n",
       "    <tr style=\"text-align: right;\">\n",
       "      <th></th>\n",
       "      <th>game_id</th>\n",
       "      <th>Team</th>\n",
       "      <th>team_against</th>\n",
       "      <th>score</th>\n",
       "      <th>score_against</th>\n",
       "      <th>yards</th>\n",
       "      <th>yards_against</th>\n",
       "      <th>run_plays</th>\n",
       "      <th>run_plays_against</th>\n",
       "      <th>pass_plays</th>\n",
       "      <th>pass_plays_against</th>\n",
       "      <th>to_for</th>\n",
       "      <th>to_against</th>\n",
       "      <th>fg_at</th>\n",
       "      <th>fg_md</th>\n",
       "      <th>fg_at_against</th>\n",
       "      <th>fg_md_against</th>\n",
       "      <th>pass_yards</th>\n",
       "      <th>pass_yards_against</th>\n",
       "      <th>run_yards</th>\n",
       "      <th>run_yards_against</th>\n",
       "    </tr>\n",
       "  </thead>\n",
       "  <tbody>\n",
       "    <tr>\n",
       "      <th>0</th>\n",
       "      <td>2017090700</td>\n",
       "      <td>NE</td>\n",
       "      <td>KC</td>\n",
       "      <td>27</td>\n",
       "      <td>42</td>\n",
       "      <td>425.0</td>\n",
       "      <td>538.0</td>\n",
       "      <td>34.0</td>\n",
       "      <td>24.0</td>\n",
       "      <td>39.0</td>\n",
       "      <td>38.0</td>\n",
       "      <td>2.0</td>\n",
       "      <td>1.0</td>\n",
       "      <td>2.0</td>\n",
       "      <td>2.0</td>\n",
       "      <td>0.0</td>\n",
       "      <td>0.0</td>\n",
       "      <td>247.0</td>\n",
       "      <td>352.0</td>\n",
       "      <td>125.0</td>\n",
       "      <td>191.0</td>\n",
       "    </tr>\n",
       "    <tr>\n",
       "      <th>480</th>\n",
       "      <td>2017090700</td>\n",
       "      <td>KC</td>\n",
       "      <td>NE</td>\n",
       "      <td>42</td>\n",
       "      <td>27</td>\n",
       "      <td>538.0</td>\n",
       "      <td>425.0</td>\n",
       "      <td>24.0</td>\n",
       "      <td>34.0</td>\n",
       "      <td>38.0</td>\n",
       "      <td>39.0</td>\n",
       "      <td>1.0</td>\n",
       "      <td>2.0</td>\n",
       "      <td>0.0</td>\n",
       "      <td>0.0</td>\n",
       "      <td>2.0</td>\n",
       "      <td>2.0</td>\n",
       "      <td>352.0</td>\n",
       "      <td>247.0</td>\n",
       "      <td>191.0</td>\n",
       "      <td>125.0</td>\n",
       "    </tr>\n",
       "  </tbody>\n",
       "</table>\n",
       "</div>"
      ],
      "text/plain": [
       "        game_id Team team_against  score  score_against  yards  yards_against  \\\n",
       "0    2017090700   NE           KC     27             42  425.0          538.0   \n",
       "480  2017090700   KC           NE     42             27  538.0          425.0   \n",
       "\n",
       "     run_plays  run_plays_against  pass_plays  pass_plays_against  to_for  \\\n",
       "0         34.0               24.0        39.0                38.0     2.0   \n",
       "480       24.0               34.0        38.0                39.0     1.0   \n",
       "\n",
       "     to_against  fg_at  fg_md  fg_at_against  fg_md_against  pass_yards  \\\n",
       "0           1.0    2.0    2.0            0.0            0.0       247.0   \n",
       "480         2.0    0.0    0.0            2.0            2.0       352.0   \n",
       "\n",
       "     pass_yards_against  run_yards  run_yards_against  \n",
       "0                 352.0      125.0              191.0  \n",
       "480               247.0      191.0              125.0  "
      ]
     },
     "execution_count": 198,
     "metadata": {},
     "output_type": "execute_result"
    }
   ],
   "source": [
    "# Combining home and away dfs\n",
    "combined_df = test_df_home[new_cols].append(test_df_away[new_cols],ignore_index=True)\n",
    "combined_df[combined_df['game_id']==2017090700]"
   ]
  },
  {
   "cell_type": "code",
   "execution_count": 199,
   "metadata": {},
   "outputs": [],
   "source": [
    "# Creating my target variable wins\n",
    "combined_df.loc[combined_df['score'] > combined_df['score_against'],'win'] = 1\n",
    "\n",
    "combined_df['win'].fillna(0,inplace=True)"
   ]
  },
  {
   "cell_type": "code",
   "execution_count": 200,
   "metadata": {},
   "outputs": [
    {
     "data": {
      "text/html": [
       "<div>\n",
       "<style scoped>\n",
       "    .dataframe tbody tr th:only-of-type {\n",
       "        vertical-align: middle;\n",
       "    }\n",
       "\n",
       "    .dataframe tbody tr th {\n",
       "        vertical-align: top;\n",
       "    }\n",
       "\n",
       "    .dataframe thead th {\n",
       "        text-align: right;\n",
       "    }\n",
       "</style>\n",
       "<table border=\"1\" class=\"dataframe\">\n",
       "  <thead>\n",
       "    <tr style=\"text-align: right;\">\n",
       "      <th></th>\n",
       "      <th>game_id</th>\n",
       "      <th>Team</th>\n",
       "      <th>team_against</th>\n",
       "      <th>score</th>\n",
       "      <th>score_against</th>\n",
       "      <th>yards</th>\n",
       "      <th>yards_against</th>\n",
       "      <th>run_plays</th>\n",
       "      <th>run_plays_against</th>\n",
       "      <th>pass_plays</th>\n",
       "      <th>pass_plays_against</th>\n",
       "      <th>to_for</th>\n",
       "      <th>to_against</th>\n",
       "      <th>fg_at</th>\n",
       "      <th>fg_md</th>\n",
       "      <th>fg_at_against</th>\n",
       "      <th>fg_md_against</th>\n",
       "      <th>pass_yards</th>\n",
       "      <th>pass_yards_against</th>\n",
       "      <th>run_yards</th>\n",
       "      <th>run_yards_against</th>\n",
       "      <th>win</th>\n",
       "    </tr>\n",
       "  </thead>\n",
       "  <tbody>\n",
       "    <tr>\n",
       "      <th>0</th>\n",
       "      <td>2017090700</td>\n",
       "      <td>NE</td>\n",
       "      <td>KC</td>\n",
       "      <td>27</td>\n",
       "      <td>42</td>\n",
       "      <td>425.0</td>\n",
       "      <td>538.0</td>\n",
       "      <td>34.0</td>\n",
       "      <td>24.0</td>\n",
       "      <td>39.0</td>\n",
       "      <td>38.0</td>\n",
       "      <td>2.0</td>\n",
       "      <td>1.0</td>\n",
       "      <td>2.0</td>\n",
       "      <td>2.0</td>\n",
       "      <td>0.0</td>\n",
       "      <td>0.0</td>\n",
       "      <td>247.0</td>\n",
       "      <td>352.0</td>\n",
       "      <td>125.0</td>\n",
       "      <td>191.0</td>\n",
       "      <td>0.0</td>\n",
       "    </tr>\n",
       "    <tr>\n",
       "      <th>480</th>\n",
       "      <td>2017090700</td>\n",
       "      <td>KC</td>\n",
       "      <td>NE</td>\n",
       "      <td>42</td>\n",
       "      <td>27</td>\n",
       "      <td>538.0</td>\n",
       "      <td>425.0</td>\n",
       "      <td>24.0</td>\n",
       "      <td>34.0</td>\n",
       "      <td>38.0</td>\n",
       "      <td>39.0</td>\n",
       "      <td>1.0</td>\n",
       "      <td>2.0</td>\n",
       "      <td>0.0</td>\n",
       "      <td>0.0</td>\n",
       "      <td>2.0</td>\n",
       "      <td>2.0</td>\n",
       "      <td>352.0</td>\n",
       "      <td>247.0</td>\n",
       "      <td>191.0</td>\n",
       "      <td>125.0</td>\n",
       "      <td>1.0</td>\n",
       "    </tr>\n",
       "  </tbody>\n",
       "</table>\n",
       "</div>"
      ],
      "text/plain": [
       "        game_id Team team_against  score  score_against  yards  yards_against  \\\n",
       "0    2017090700   NE           KC     27             42  425.0          538.0   \n",
       "480  2017090700   KC           NE     42             27  538.0          425.0   \n",
       "\n",
       "     run_plays  run_plays_against  pass_plays  pass_plays_against  to_for  \\\n",
       "0         34.0               24.0        39.0                38.0     2.0   \n",
       "480       24.0               34.0        38.0                39.0     1.0   \n",
       "\n",
       "     to_against  fg_at  fg_md  fg_at_against  fg_md_against  pass_yards  \\\n",
       "0           1.0    2.0    2.0            0.0            0.0       247.0   \n",
       "480         2.0    0.0    0.0            2.0            2.0       352.0   \n",
       "\n",
       "     pass_yards_against  run_yards  run_yards_against  win  \n",
       "0                 352.0      125.0              191.0  0.0  \n",
       "480               247.0      191.0              125.0  1.0  "
      ]
     },
     "execution_count": 200,
     "metadata": {},
     "output_type": "execute_result"
    }
   ],
   "source": [
    "combined_df[combined_df['game_id']==2017090700]"
   ]
  },
  {
   "cell_type": "code",
   "execution_count": 201,
   "metadata": {},
   "outputs": [],
   "source": [
    "# Creating additional variables\n",
    "\n",
    "combined_df['pass_run_ratio'] = round(combined_df['pass_plays'] / combined_df['run_plays'],2)\n",
    "combined_df['yard_diff'] = combined_df['yards'] - combined_df['yards_against']\n",
    "combined_df['to_diff'] = combined_df['to_for'] - combined_df['to_against']\n",
    "\n",
    "combined_df['fg_rate'] = round(combined_df['fg_md'] / combined_df['fg_at'],2)\n",
    "combined_df['fg_rate_against'] = round(combined_df['fg_md_against'] / combined_df['fg_at_against'],2)\n",
    "\n",
    "# Setting fg rates to 50% for teams not attempting field goals\n",
    "combined_df['fg_rate'].fillna(0.5,inplace=True)\n",
    "combined_df['fg_rate_against'].fillna(0.5,inplace=True)\n",
    "\n",
    "combined_df['pass_yds_per_at'] = combined_df['pass_yards'] / combined_df['pass_plays']\n",
    "combined_df['run_yds_per_at'] = combined_df['run_yards'] / combined_df['run_plays']\n",
    "\n",
    "combined_df['pass_yds_per_at_against'] = combined_df['pass_yards_against'] / combined_df['pass_plays_against']\n",
    "combined_df['run_yds_per_at_against'] = combined_df['run_yards_against'] / combined_df['run_plays_against']\n"
   ]
  },
  {
   "cell_type": "code",
   "execution_count": 202,
   "metadata": {},
   "outputs": [],
   "source": [
    "# Creating team encoding based off 2017/2018 wins\n",
    "team_encode = {'CLE':1,'NYG':1,'OAK':1,'NYJ':1,'TB':1,'SF':1,'ARI':1,\\\n",
    "               'DEN':2,'CIN':2,'GB':2,'IND':2,'MIA':2,'JAX':3,'WAS':3,\\\n",
    "               'DET':3,'BUF':3,'HOU':3,'ATL':3,'CHI':3,'CAR':3,\\\n",
    "               'SEA':4,'BAL':4,'TEN':4,'DAL':4,'LAC':4,'PHI':4,'MIN':4,'PIT':5,\\\n",
    "               'KC':5,'NE':5,'LA':5,'NO':5}"
   ]
  },
  {
   "cell_type": "code",
   "execution_count": 203,
   "metadata": {},
   "outputs": [],
   "source": [
    "combined_df['team_encode'] = combined_df.replace({'Team':team_encode})['Team']\n",
    "combined_df['team_against_encode'] = combined_df.replace({'team_against':team_encode})['team_against']\n"
   ]
  },
  {
   "cell_type": "code",
   "execution_count": 204,
   "metadata": {},
   "outputs": [
    {
     "data": {
      "text/html": [
       "<div>\n",
       "<style scoped>\n",
       "    .dataframe tbody tr th:only-of-type {\n",
       "        vertical-align: middle;\n",
       "    }\n",
       "\n",
       "    .dataframe tbody tr th {\n",
       "        vertical-align: top;\n",
       "    }\n",
       "\n",
       "    .dataframe thead th {\n",
       "        text-align: right;\n",
       "    }\n",
       "</style>\n",
       "<table border=\"1\" class=\"dataframe\">\n",
       "  <thead>\n",
       "    <tr style=\"text-align: right;\">\n",
       "      <th></th>\n",
       "      <th>game_id</th>\n",
       "      <th>Team</th>\n",
       "      <th>team_against</th>\n",
       "      <th>score</th>\n",
       "      <th>score_against</th>\n",
       "      <th>yards</th>\n",
       "      <th>yards_against</th>\n",
       "      <th>run_plays</th>\n",
       "      <th>run_plays_against</th>\n",
       "      <th>pass_plays</th>\n",
       "      <th>pass_plays_against</th>\n",
       "      <th>to_for</th>\n",
       "      <th>to_against</th>\n",
       "      <th>fg_at</th>\n",
       "      <th>fg_md</th>\n",
       "      <th>fg_at_against</th>\n",
       "      <th>fg_md_against</th>\n",
       "      <th>pass_yards</th>\n",
       "      <th>pass_yards_against</th>\n",
       "      <th>run_yards</th>\n",
       "      <th>run_yards_against</th>\n",
       "      <th>win</th>\n",
       "      <th>pass_run_ratio</th>\n",
       "      <th>yard_diff</th>\n",
       "      <th>to_diff</th>\n",
       "      <th>fg_rate</th>\n",
       "      <th>fg_rate_against</th>\n",
       "      <th>pass_yds_per_at</th>\n",
       "      <th>run_yds_per_at</th>\n",
       "      <th>pass_yds_per_at_against</th>\n",
       "      <th>run_yds_per_at_against</th>\n",
       "      <th>team_encode</th>\n",
       "      <th>team_against_encode</th>\n",
       "    </tr>\n",
       "  </thead>\n",
       "  <tbody>\n",
       "    <tr>\n",
       "      <th>0</th>\n",
       "      <td>2017090700</td>\n",
       "      <td>NE</td>\n",
       "      <td>KC</td>\n",
       "      <td>27</td>\n",
       "      <td>42</td>\n",
       "      <td>425.0</td>\n",
       "      <td>538.0</td>\n",
       "      <td>34.0</td>\n",
       "      <td>24.0</td>\n",
       "      <td>39.0</td>\n",
       "      <td>38.0</td>\n",
       "      <td>2.0</td>\n",
       "      <td>1.0</td>\n",
       "      <td>2.0</td>\n",
       "      <td>2.0</td>\n",
       "      <td>0.0</td>\n",
       "      <td>0.0</td>\n",
       "      <td>247.0</td>\n",
       "      <td>352.0</td>\n",
       "      <td>125.0</td>\n",
       "      <td>191.0</td>\n",
       "      <td>0.0</td>\n",
       "      <td>1.15</td>\n",
       "      <td>-113.0</td>\n",
       "      <td>1.0</td>\n",
       "      <td>1.0</td>\n",
       "      <td>0.5</td>\n",
       "      <td>6.333333</td>\n",
       "      <td>3.676471</td>\n",
       "      <td>9.263158</td>\n",
       "      <td>7.958333</td>\n",
       "      <td>5</td>\n",
       "      <td>5</td>\n",
       "    </tr>\n",
       "    <tr>\n",
       "      <th>480</th>\n",
       "      <td>2017090700</td>\n",
       "      <td>KC</td>\n",
       "      <td>NE</td>\n",
       "      <td>42</td>\n",
       "      <td>27</td>\n",
       "      <td>538.0</td>\n",
       "      <td>425.0</td>\n",
       "      <td>24.0</td>\n",
       "      <td>34.0</td>\n",
       "      <td>38.0</td>\n",
       "      <td>39.0</td>\n",
       "      <td>1.0</td>\n",
       "      <td>2.0</td>\n",
       "      <td>0.0</td>\n",
       "      <td>0.0</td>\n",
       "      <td>2.0</td>\n",
       "      <td>2.0</td>\n",
       "      <td>352.0</td>\n",
       "      <td>247.0</td>\n",
       "      <td>191.0</td>\n",
       "      <td>125.0</td>\n",
       "      <td>1.0</td>\n",
       "      <td>1.58</td>\n",
       "      <td>113.0</td>\n",
       "      <td>-1.0</td>\n",
       "      <td>0.5</td>\n",
       "      <td>1.0</td>\n",
       "      <td>9.263158</td>\n",
       "      <td>7.958333</td>\n",
       "      <td>6.333333</td>\n",
       "      <td>3.676471</td>\n",
       "      <td>5</td>\n",
       "      <td>5</td>\n",
       "    </tr>\n",
       "  </tbody>\n",
       "</table>\n",
       "</div>"
      ],
      "text/plain": [
       "        game_id Team team_against  score  score_against  yards  yards_against  \\\n",
       "0    2017090700   NE           KC     27             42  425.0          538.0   \n",
       "480  2017090700   KC           NE     42             27  538.0          425.0   \n",
       "\n",
       "     run_plays  run_plays_against  pass_plays  pass_plays_against  to_for  \\\n",
       "0         34.0               24.0        39.0                38.0     2.0   \n",
       "480       24.0               34.0        38.0                39.0     1.0   \n",
       "\n",
       "     to_against  fg_at  fg_md  fg_at_against  fg_md_against  pass_yards  \\\n",
       "0           1.0    2.0    2.0            0.0            0.0       247.0   \n",
       "480         2.0    0.0    0.0            2.0            2.0       352.0   \n",
       "\n",
       "     pass_yards_against  run_yards  run_yards_against  win  pass_run_ratio  \\\n",
       "0                 352.0      125.0              191.0  0.0            1.15   \n",
       "480               247.0      191.0              125.0  1.0            1.58   \n",
       "\n",
       "     yard_diff  to_diff  fg_rate  fg_rate_against  pass_yds_per_at  \\\n",
       "0       -113.0      1.0      1.0              0.5         6.333333   \n",
       "480      113.0     -1.0      0.5              1.0         9.263158   \n",
       "\n",
       "     run_yds_per_at  pass_yds_per_at_against  run_yds_per_at_against  \\\n",
       "0          3.676471                 9.263158                7.958333   \n",
       "480        7.958333                 6.333333                3.676471   \n",
       "\n",
       "     team_encode  team_against_encode  \n",
       "0              5                    5  \n",
       "480            5                    5  "
      ]
     },
     "execution_count": 204,
     "metadata": {},
     "output_type": "execute_result"
    }
   ],
   "source": [
    "combined_df[combined_df['game_id']==2017090700]"
   ]
  },
  {
   "cell_type": "code",
   "execution_count": 205,
   "metadata": {},
   "outputs": [
    {
     "data": {
      "text/plain": [
       "Index(['game_id', 'Team', 'team_against', 'score', 'score_against', 'yards',\n",
       "       'yards_against', 'run_plays', 'run_plays_against', 'pass_plays',\n",
       "       'pass_plays_against', 'to_for', 'to_against', 'fg_at', 'fg_md',\n",
       "       'fg_at_against', 'fg_md_against', 'pass_yards', 'pass_yards_against',\n",
       "       'run_yards', 'run_yards_against', 'win', 'pass_run_ratio', 'yard_diff',\n",
       "       'to_diff', 'fg_rate', 'fg_rate_against', 'pass_yds_per_at',\n",
       "       'run_yds_per_at', 'pass_yds_per_at_against', 'run_yds_per_at_against',\n",
       "       'team_encode', 'team_against_encode'],\n",
       "      dtype='object')"
      ]
     },
     "execution_count": 205,
     "metadata": {},
     "output_type": "execute_result"
    }
   ],
   "source": [
    "combined_df.columns"
   ]
  },
  {
   "cell_type": "code",
   "execution_count": 206,
   "metadata": {},
   "outputs": [],
   "source": [
    "from sklearn.linear_model import LinearRegression"
   ]
  },
  {
   "cell_type": "code",
   "execution_count": 207,
   "metadata": {},
   "outputs": [
    {
     "data": {
      "text/html": [
       "<div>\n",
       "<style scoped>\n",
       "    .dataframe tbody tr th:only-of-type {\n",
       "        vertical-align: middle;\n",
       "    }\n",
       "\n",
       "    .dataframe tbody tr th {\n",
       "        vertical-align: top;\n",
       "    }\n",
       "\n",
       "    .dataframe thead th {\n",
       "        text-align: right;\n",
       "    }\n",
       "</style>\n",
       "<table border=\"1\" class=\"dataframe\">\n",
       "  <thead>\n",
       "    <tr style=\"text-align: right;\">\n",
       "      <th></th>\n",
       "      <th>score</th>\n",
       "      <th>score_against</th>\n",
       "      <th>yards</th>\n",
       "      <th>yards_against</th>\n",
       "      <th>run_plays</th>\n",
       "      <th>run_plays_against</th>\n",
       "      <th>pass_plays</th>\n",
       "      <th>pass_plays_against</th>\n",
       "      <th>to_for</th>\n",
       "      <th>to_against</th>\n",
       "      <th>fg_at</th>\n",
       "      <th>fg_md</th>\n",
       "      <th>fg_at_against</th>\n",
       "      <th>fg_md_against</th>\n",
       "      <th>pass_yards</th>\n",
       "      <th>pass_yards_against</th>\n",
       "      <th>run_yards</th>\n",
       "      <th>run_yards_against</th>\n",
       "      <th>pass_run_ratio</th>\n",
       "      <th>yard_diff</th>\n",
       "      <th>to_diff</th>\n",
       "      <th>fg_rate</th>\n",
       "      <th>fg_rate_against</th>\n",
       "      <th>pass_yds_per_at</th>\n",
       "      <th>run_yds_per_at</th>\n",
       "      <th>pass_yds_per_at_against</th>\n",
       "      <th>run_yds_per_at_against</th>\n",
       "      <th>team_encode</th>\n",
       "      <th>team_against_encode</th>\n",
       "    </tr>\n",
       "  </thead>\n",
       "  <tbody>\n",
       "    <tr>\n",
       "      <th>0</th>\n",
       "      <td>27</td>\n",
       "      <td>42</td>\n",
       "      <td>425.0</td>\n",
       "      <td>538.0</td>\n",
       "      <td>34.0</td>\n",
       "      <td>24.0</td>\n",
       "      <td>39.0</td>\n",
       "      <td>38.0</td>\n",
       "      <td>2.0</td>\n",
       "      <td>1.0</td>\n",
       "      <td>2.0</td>\n",
       "      <td>2.0</td>\n",
       "      <td>0.0</td>\n",
       "      <td>0.0</td>\n",
       "      <td>247.0</td>\n",
       "      <td>352.0</td>\n",
       "      <td>125.0</td>\n",
       "      <td>191.0</td>\n",
       "      <td>1.15</td>\n",
       "      <td>-113.0</td>\n",
       "      <td>1.0</td>\n",
       "      <td>1.0</td>\n",
       "      <td>0.5</td>\n",
       "      <td>6.333333</td>\n",
       "      <td>3.676471</td>\n",
       "      <td>9.263158</td>\n",
       "      <td>7.958333</td>\n",
       "      <td>5</td>\n",
       "      <td>5</td>\n",
       "    </tr>\n",
       "    <tr>\n",
       "      <th>1</th>\n",
       "      <td>21</td>\n",
       "      <td>12</td>\n",
       "      <td>400.0</td>\n",
       "      <td>199.0</td>\n",
       "      <td>39.0</td>\n",
       "      <td>14.0</td>\n",
       "      <td>29.0</td>\n",
       "      <td>41.0</td>\n",
       "      <td>2.0</td>\n",
       "      <td>3.0</td>\n",
       "      <td>1.0</td>\n",
       "      <td>1.0</td>\n",
       "      <td>2.0</td>\n",
       "      <td>2.0</td>\n",
       "      <td>218.0</td>\n",
       "      <td>176.0</td>\n",
       "      <td>193.0</td>\n",
       "      <td>39.0</td>\n",
       "      <td>0.74</td>\n",
       "      <td>201.0</td>\n",
       "      <td>-1.0</td>\n",
       "      <td>1.0</td>\n",
       "      <td>1.0</td>\n",
       "      <td>7.517241</td>\n",
       "      <td>4.948718</td>\n",
       "      <td>4.292683</td>\n",
       "      <td>2.785714</td>\n",
       "      <td>3</td>\n",
       "      <td>1</td>\n",
       "    </tr>\n",
       "  </tbody>\n",
       "</table>\n",
       "</div>"
      ],
      "text/plain": [
       "   score  score_against  yards  yards_against  run_plays  run_plays_against  \\\n",
       "0     27             42  425.0          538.0       34.0               24.0   \n",
       "1     21             12  400.0          199.0       39.0               14.0   \n",
       "\n",
       "   pass_plays  pass_plays_against  to_for  to_against  fg_at  fg_md  \\\n",
       "0        39.0                38.0     2.0         1.0    2.0    2.0   \n",
       "1        29.0                41.0     2.0         3.0    1.0    1.0   \n",
       "\n",
       "   fg_at_against  fg_md_against  pass_yards  pass_yards_against  run_yards  \\\n",
       "0            0.0            0.0       247.0               352.0      125.0   \n",
       "1            2.0            2.0       218.0               176.0      193.0   \n",
       "\n",
       "   run_yards_against  pass_run_ratio  yard_diff  to_diff  fg_rate  \\\n",
       "0              191.0            1.15     -113.0      1.0      1.0   \n",
       "1               39.0            0.74      201.0     -1.0      1.0   \n",
       "\n",
       "   fg_rate_against  pass_yds_per_at  run_yds_per_at  pass_yds_per_at_against  \\\n",
       "0              0.5         6.333333        3.676471                 9.263158   \n",
       "1              1.0         7.517241        4.948718                 4.292683   \n",
       "\n",
       "   run_yds_per_at_against  team_encode  team_against_encode  \n",
       "0                7.958333            5                    5  \n",
       "1                2.785714            3                    1  "
      ]
     },
     "execution_count": 207,
     "metadata": {},
     "output_type": "execute_result"
    }
   ],
   "source": [
    "# Dependent variables\n",
    "dep_var = ['score', 'score_against', 'yards',\n",
    "       'yards_against', 'run_plays', 'run_plays_against', 'pass_plays',\n",
    "       'pass_plays_against', 'to_for', 'to_against', 'fg_at', 'fg_md',\n",
    "       'fg_at_against', 'fg_md_against', 'pass_yards', 'pass_yards_against',\n",
    "       'run_yards', 'run_yards_against', 'pass_run_ratio', 'yard_diff',\n",
    "       'to_diff', 'fg_rate', 'fg_rate_against', 'pass_yds_per_at',\n",
    "       'run_yds_per_at', 'pass_yds_per_at_against', 'run_yds_per_at_against',\n",
    "       'team_encode', 'team_against_encode']\n",
    "X = pd.DataFrame(combined_df, columns = dep_var)\n",
    "X.head(2)"
   ]
  },
  {
   "cell_type": "code",
   "execution_count": 208,
   "metadata": {},
   "outputs": [],
   "source": [
    "y = combined_df[['win']]"
   ]
  },
  {
   "cell_type": "code",
   "execution_count": 209,
   "metadata": {},
   "outputs": [],
   "source": [
    "model = LinearRegression().fit(X, y)"
   ]
  },
  {
   "cell_type": "code",
   "execution_count": 210,
   "metadata": {},
   "outputs": [
    {
     "data": {
      "application/vnd.plotly.v1+json": {
       "config": {
        "plotlyServerURL": "https://plot.ly"
       },
       "data": [
        {
         "name": "variable coefficients",
         "type": "bar",
         "x": [
          "score",
          "score_against",
          "yards",
          "yards_against",
          "run_plays",
          "run_plays_against",
          "pass_plays",
          "pass_plays_against",
          "to_for",
          "to_against",
          "fg_at",
          "fg_md",
          "fg_at_against",
          "fg_md_against",
          "pass_yards",
          "pass_yards_against",
          "run_yards",
          "run_yards_against",
          "pass_run_ratio",
          "yard_diff",
          "to_diff",
          "fg_rate",
          "fg_rate_against",
          "pass_yds_per_at",
          "run_yds_per_at",
          "pass_yds_per_at_against",
          "run_yds_per_at_against",
          "team_encode",
          "team_against_encode"
         ],
         "y": [
          0.01710076483558657,
          -0.017026425382473558,
          0.0002321252686687527,
          -0.00032596480485164956,
          0.005184509513698806,
          -0.008705624509913525,
          -0.006685976529717611,
          0.007308127454521098,
          -0.006946576208576205,
          0.005894692445139491,
          0.012186084748991815,
          0.012186084748991764,
          -0.01128226417168281,
          -0.01128226417168292,
          -0.00020636572129796238,
          0.00034069944121435897,
          -0.0013319477631539654,
          0.001575400644151249,
          -0.03455677605724572,
          0.0005580900735245534,
          -0.012841268653715694,
          -0.1980202957500887,
          0.171773421903949,
          -0.006892146246022726,
          0.006623783776754175,
          0.005925824973128386,
          -0.010748370546050663,
          0.02006856359815789,
          -0.01852153917335873
         ]
        }
       ],
       "layout": {
        "template": {
         "data": {
          "bar": [
           {
            "error_x": {
             "color": "#2a3f5f"
            },
            "error_y": {
             "color": "#2a3f5f"
            },
            "marker": {
             "line": {
              "color": "#E5ECF6",
              "width": 0.5
             }
            },
            "type": "bar"
           }
          ],
          "barpolar": [
           {
            "marker": {
             "line": {
              "color": "#E5ECF6",
              "width": 0.5
             }
            },
            "type": "barpolar"
           }
          ],
          "carpet": [
           {
            "aaxis": {
             "endlinecolor": "#2a3f5f",
             "gridcolor": "white",
             "linecolor": "white",
             "minorgridcolor": "white",
             "startlinecolor": "#2a3f5f"
            },
            "baxis": {
             "endlinecolor": "#2a3f5f",
             "gridcolor": "white",
             "linecolor": "white",
             "minorgridcolor": "white",
             "startlinecolor": "#2a3f5f"
            },
            "type": "carpet"
           }
          ],
          "choropleth": [
           {
            "colorbar": {
             "outlinewidth": 0,
             "ticks": ""
            },
            "type": "choropleth"
           }
          ],
          "contour": [
           {
            "colorbar": {
             "outlinewidth": 0,
             "ticks": ""
            },
            "colorscale": [
             [
              0,
              "#0d0887"
             ],
             [
              0.1111111111111111,
              "#46039f"
             ],
             [
              0.2222222222222222,
              "#7201a8"
             ],
             [
              0.3333333333333333,
              "#9c179e"
             ],
             [
              0.4444444444444444,
              "#bd3786"
             ],
             [
              0.5555555555555556,
              "#d8576b"
             ],
             [
              0.6666666666666666,
              "#ed7953"
             ],
             [
              0.7777777777777778,
              "#fb9f3a"
             ],
             [
              0.8888888888888888,
              "#fdca26"
             ],
             [
              1,
              "#f0f921"
             ]
            ],
            "type": "contour"
           }
          ],
          "contourcarpet": [
           {
            "colorbar": {
             "outlinewidth": 0,
             "ticks": ""
            },
            "type": "contourcarpet"
           }
          ],
          "heatmap": [
           {
            "colorbar": {
             "outlinewidth": 0,
             "ticks": ""
            },
            "colorscale": [
             [
              0,
              "#0d0887"
             ],
             [
              0.1111111111111111,
              "#46039f"
             ],
             [
              0.2222222222222222,
              "#7201a8"
             ],
             [
              0.3333333333333333,
              "#9c179e"
             ],
             [
              0.4444444444444444,
              "#bd3786"
             ],
             [
              0.5555555555555556,
              "#d8576b"
             ],
             [
              0.6666666666666666,
              "#ed7953"
             ],
             [
              0.7777777777777778,
              "#fb9f3a"
             ],
             [
              0.8888888888888888,
              "#fdca26"
             ],
             [
              1,
              "#f0f921"
             ]
            ],
            "type": "heatmap"
           }
          ],
          "heatmapgl": [
           {
            "colorbar": {
             "outlinewidth": 0,
             "ticks": ""
            },
            "colorscale": [
             [
              0,
              "#0d0887"
             ],
             [
              0.1111111111111111,
              "#46039f"
             ],
             [
              0.2222222222222222,
              "#7201a8"
             ],
             [
              0.3333333333333333,
              "#9c179e"
             ],
             [
              0.4444444444444444,
              "#bd3786"
             ],
             [
              0.5555555555555556,
              "#d8576b"
             ],
             [
              0.6666666666666666,
              "#ed7953"
             ],
             [
              0.7777777777777778,
              "#fb9f3a"
             ],
             [
              0.8888888888888888,
              "#fdca26"
             ],
             [
              1,
              "#f0f921"
             ]
            ],
            "type": "heatmapgl"
           }
          ],
          "histogram": [
           {
            "marker": {
             "colorbar": {
              "outlinewidth": 0,
              "ticks": ""
             }
            },
            "type": "histogram"
           }
          ],
          "histogram2d": [
           {
            "colorbar": {
             "outlinewidth": 0,
             "ticks": ""
            },
            "colorscale": [
             [
              0,
              "#0d0887"
             ],
             [
              0.1111111111111111,
              "#46039f"
             ],
             [
              0.2222222222222222,
              "#7201a8"
             ],
             [
              0.3333333333333333,
              "#9c179e"
             ],
             [
              0.4444444444444444,
              "#bd3786"
             ],
             [
              0.5555555555555556,
              "#d8576b"
             ],
             [
              0.6666666666666666,
              "#ed7953"
             ],
             [
              0.7777777777777778,
              "#fb9f3a"
             ],
             [
              0.8888888888888888,
              "#fdca26"
             ],
             [
              1,
              "#f0f921"
             ]
            ],
            "type": "histogram2d"
           }
          ],
          "histogram2dcontour": [
           {
            "colorbar": {
             "outlinewidth": 0,
             "ticks": ""
            },
            "colorscale": [
             [
              0,
              "#0d0887"
             ],
             [
              0.1111111111111111,
              "#46039f"
             ],
             [
              0.2222222222222222,
              "#7201a8"
             ],
             [
              0.3333333333333333,
              "#9c179e"
             ],
             [
              0.4444444444444444,
              "#bd3786"
             ],
             [
              0.5555555555555556,
              "#d8576b"
             ],
             [
              0.6666666666666666,
              "#ed7953"
             ],
             [
              0.7777777777777778,
              "#fb9f3a"
             ],
             [
              0.8888888888888888,
              "#fdca26"
             ],
             [
              1,
              "#f0f921"
             ]
            ],
            "type": "histogram2dcontour"
           }
          ],
          "mesh3d": [
           {
            "colorbar": {
             "outlinewidth": 0,
             "ticks": ""
            },
            "type": "mesh3d"
           }
          ],
          "parcoords": [
           {
            "line": {
             "colorbar": {
              "outlinewidth": 0,
              "ticks": ""
             }
            },
            "type": "parcoords"
           }
          ],
          "pie": [
           {
            "automargin": true,
            "type": "pie"
           }
          ],
          "scatter": [
           {
            "marker": {
             "colorbar": {
              "outlinewidth": 0,
              "ticks": ""
             }
            },
            "type": "scatter"
           }
          ],
          "scatter3d": [
           {
            "line": {
             "colorbar": {
              "outlinewidth": 0,
              "ticks": ""
             }
            },
            "marker": {
             "colorbar": {
              "outlinewidth": 0,
              "ticks": ""
             }
            },
            "type": "scatter3d"
           }
          ],
          "scattercarpet": [
           {
            "marker": {
             "colorbar": {
              "outlinewidth": 0,
              "ticks": ""
             }
            },
            "type": "scattercarpet"
           }
          ],
          "scattergeo": [
           {
            "marker": {
             "colorbar": {
              "outlinewidth": 0,
              "ticks": ""
             }
            },
            "type": "scattergeo"
           }
          ],
          "scattergl": [
           {
            "marker": {
             "colorbar": {
              "outlinewidth": 0,
              "ticks": ""
             }
            },
            "type": "scattergl"
           }
          ],
          "scattermapbox": [
           {
            "marker": {
             "colorbar": {
              "outlinewidth": 0,
              "ticks": ""
             }
            },
            "type": "scattermapbox"
           }
          ],
          "scatterpolar": [
           {
            "marker": {
             "colorbar": {
              "outlinewidth": 0,
              "ticks": ""
             }
            },
            "type": "scatterpolar"
           }
          ],
          "scatterpolargl": [
           {
            "marker": {
             "colorbar": {
              "outlinewidth": 0,
              "ticks": ""
             }
            },
            "type": "scatterpolargl"
           }
          ],
          "scatterternary": [
           {
            "marker": {
             "colorbar": {
              "outlinewidth": 0,
              "ticks": ""
             }
            },
            "type": "scatterternary"
           }
          ],
          "surface": [
           {
            "colorbar": {
             "outlinewidth": 0,
             "ticks": ""
            },
            "colorscale": [
             [
              0,
              "#0d0887"
             ],
             [
              0.1111111111111111,
              "#46039f"
             ],
             [
              0.2222222222222222,
              "#7201a8"
             ],
             [
              0.3333333333333333,
              "#9c179e"
             ],
             [
              0.4444444444444444,
              "#bd3786"
             ],
             [
              0.5555555555555556,
              "#d8576b"
             ],
             [
              0.6666666666666666,
              "#ed7953"
             ],
             [
              0.7777777777777778,
              "#fb9f3a"
             ],
             [
              0.8888888888888888,
              "#fdca26"
             ],
             [
              1,
              "#f0f921"
             ]
            ],
            "type": "surface"
           }
          ],
          "table": [
           {
            "cells": {
             "fill": {
              "color": "#EBF0F8"
             },
             "line": {
              "color": "white"
             }
            },
            "header": {
             "fill": {
              "color": "#C8D4E3"
             },
             "line": {
              "color": "white"
             }
            },
            "type": "table"
           }
          ]
         },
         "layout": {
          "annotationdefaults": {
           "arrowcolor": "#2a3f5f",
           "arrowhead": 0,
           "arrowwidth": 1
          },
          "coloraxis": {
           "colorbar": {
            "outlinewidth": 0,
            "ticks": ""
           }
          },
          "colorscale": {
           "diverging": [
            [
             0,
             "#8e0152"
            ],
            [
             0.1,
             "#c51b7d"
            ],
            [
             0.2,
             "#de77ae"
            ],
            [
             0.3,
             "#f1b6da"
            ],
            [
             0.4,
             "#fde0ef"
            ],
            [
             0.5,
             "#f7f7f7"
            ],
            [
             0.6,
             "#e6f5d0"
            ],
            [
             0.7,
             "#b8e186"
            ],
            [
             0.8,
             "#7fbc41"
            ],
            [
             0.9,
             "#4d9221"
            ],
            [
             1,
             "#276419"
            ]
           ],
           "sequential": [
            [
             0,
             "#0d0887"
            ],
            [
             0.1111111111111111,
             "#46039f"
            ],
            [
             0.2222222222222222,
             "#7201a8"
            ],
            [
             0.3333333333333333,
             "#9c179e"
            ],
            [
             0.4444444444444444,
             "#bd3786"
            ],
            [
             0.5555555555555556,
             "#d8576b"
            ],
            [
             0.6666666666666666,
             "#ed7953"
            ],
            [
             0.7777777777777778,
             "#fb9f3a"
            ],
            [
             0.8888888888888888,
             "#fdca26"
            ],
            [
             1,
             "#f0f921"
            ]
           ],
           "sequentialminus": [
            [
             0,
             "#0d0887"
            ],
            [
             0.1111111111111111,
             "#46039f"
            ],
            [
             0.2222222222222222,
             "#7201a8"
            ],
            [
             0.3333333333333333,
             "#9c179e"
            ],
            [
             0.4444444444444444,
             "#bd3786"
            ],
            [
             0.5555555555555556,
             "#d8576b"
            ],
            [
             0.6666666666666666,
             "#ed7953"
            ],
            [
             0.7777777777777778,
             "#fb9f3a"
            ],
            [
             0.8888888888888888,
             "#fdca26"
            ],
            [
             1,
             "#f0f921"
            ]
           ]
          },
          "colorway": [
           "#636efa",
           "#EF553B",
           "#00cc96",
           "#ab63fa",
           "#FFA15A",
           "#19d3f3",
           "#FF6692",
           "#B6E880",
           "#FF97FF",
           "#FECB52"
          ],
          "font": {
           "color": "#2a3f5f"
          },
          "geo": {
           "bgcolor": "white",
           "lakecolor": "white",
           "landcolor": "#E5ECF6",
           "showlakes": true,
           "showland": true,
           "subunitcolor": "white"
          },
          "hoverlabel": {
           "align": "left"
          },
          "hovermode": "closest",
          "mapbox": {
           "style": "light"
          },
          "paper_bgcolor": "white",
          "plot_bgcolor": "#E5ECF6",
          "polar": {
           "angularaxis": {
            "gridcolor": "white",
            "linecolor": "white",
            "ticks": ""
           },
           "bgcolor": "#E5ECF6",
           "radialaxis": {
            "gridcolor": "white",
            "linecolor": "white",
            "ticks": ""
           }
          },
          "scene": {
           "xaxis": {
            "backgroundcolor": "#E5ECF6",
            "gridcolor": "white",
            "gridwidth": 2,
            "linecolor": "white",
            "showbackground": true,
            "ticks": "",
            "zerolinecolor": "white"
           },
           "yaxis": {
            "backgroundcolor": "#E5ECF6",
            "gridcolor": "white",
            "gridwidth": 2,
            "linecolor": "white",
            "showbackground": true,
            "ticks": "",
            "zerolinecolor": "white"
           },
           "zaxis": {
            "backgroundcolor": "#E5ECF6",
            "gridcolor": "white",
            "gridwidth": 2,
            "linecolor": "white",
            "showbackground": true,
            "ticks": "",
            "zerolinecolor": "white"
           }
          },
          "shapedefaults": {
           "line": {
            "color": "#2a3f5f"
           }
          },
          "ternary": {
           "aaxis": {
            "gridcolor": "white",
            "linecolor": "white",
            "ticks": ""
           },
           "baxis": {
            "gridcolor": "white",
            "linecolor": "white",
            "ticks": ""
           },
           "bgcolor": "#E5ECF6",
           "caxis": {
            "gridcolor": "white",
            "linecolor": "white",
            "ticks": ""
           }
          },
          "title": {
           "x": 0.05
          },
          "xaxis": {
           "automargin": true,
           "gridcolor": "white",
           "linecolor": "white",
           "ticks": "",
           "title": {
            "standoff": 15
           },
           "zerolinecolor": "white",
           "zerolinewidth": 2
          },
          "yaxis": {
           "automargin": true,
           "gridcolor": "white",
           "linecolor": "white",
           "ticks": "",
           "title": {
            "standoff": 15
           },
           "zerolinecolor": "white",
           "zerolinewidth": 2
          }
         }
        },
        "title": {
         "text": "Model Feature Coefficients",
         "x": 0.5,
         "xanchor": "center",
         "y": 0.95,
         "yanchor": "top"
        }
       }
      },
      "text/html": [
       "<div>\n",
       "        \n",
       "        \n",
       "            <div id=\"dfef68bd-f46f-4a1a-9615-765198c9f9a7\" class=\"plotly-graph-div\" style=\"height:525px; width:100%;\"></div>\n",
       "            <script type=\"text/javascript\">\n",
       "                require([\"plotly\"], function(Plotly) {\n",
       "                    window.PLOTLYENV=window.PLOTLYENV || {};\n",
       "                    \n",
       "                if (document.getElementById(\"dfef68bd-f46f-4a1a-9615-765198c9f9a7\")) {\n",
       "                    Plotly.newPlot(\n",
       "                        'dfef68bd-f46f-4a1a-9615-765198c9f9a7',\n",
       "                        [{\"name\": \"variable coefficients\", \"type\": \"bar\", \"x\": [\"score\", \"score_against\", \"yards\", \"yards_against\", \"run_plays\", \"run_plays_against\", \"pass_plays\", \"pass_plays_against\", \"to_for\", \"to_against\", \"fg_at\", \"fg_md\", \"fg_at_against\", \"fg_md_against\", \"pass_yards\", \"pass_yards_against\", \"run_yards\", \"run_yards_against\", \"pass_run_ratio\", \"yard_diff\", \"to_diff\", \"fg_rate\", \"fg_rate_against\", \"pass_yds_per_at\", \"run_yds_per_at\", \"pass_yds_per_at_against\", \"run_yds_per_at_against\", \"team_encode\", \"team_against_encode\"], \"y\": [0.01710076483558657, -0.017026425382473558, 0.0002321252686687527, -0.00032596480485164956, 0.005184509513698806, -0.008705624509913525, -0.006685976529717611, 0.007308127454521098, -0.006946576208576205, 0.005894692445139491, 0.012186084748991815, 0.012186084748991764, -0.01128226417168281, -0.01128226417168292, -0.00020636572129796238, 0.00034069944121435897, -0.0013319477631539654, 0.001575400644151249, -0.03455677605724572, 0.0005580900735245534, -0.012841268653715694, -0.1980202957500887, 0.171773421903949, -0.006892146246022726, 0.006623783776754175, 0.005925824973128386, -0.010748370546050663, 0.02006856359815789, -0.01852153917335873]}],\n",
       "                        {\"template\": {\"data\": {\"bar\": [{\"error_x\": {\"color\": \"#2a3f5f\"}, \"error_y\": {\"color\": \"#2a3f5f\"}, \"marker\": {\"line\": {\"color\": \"#E5ECF6\", \"width\": 0.5}}, \"type\": \"bar\"}], \"barpolar\": [{\"marker\": {\"line\": {\"color\": \"#E5ECF6\", \"width\": 0.5}}, \"type\": \"barpolar\"}], \"carpet\": [{\"aaxis\": {\"endlinecolor\": \"#2a3f5f\", \"gridcolor\": \"white\", \"linecolor\": \"white\", \"minorgridcolor\": \"white\", \"startlinecolor\": \"#2a3f5f\"}, \"baxis\": {\"endlinecolor\": \"#2a3f5f\", \"gridcolor\": \"white\", \"linecolor\": \"white\", \"minorgridcolor\": \"white\", \"startlinecolor\": \"#2a3f5f\"}, \"type\": \"carpet\"}], \"choropleth\": [{\"colorbar\": {\"outlinewidth\": 0, \"ticks\": \"\"}, \"type\": \"choropleth\"}], \"contour\": [{\"colorbar\": {\"outlinewidth\": 0, \"ticks\": \"\"}, \"colorscale\": [[0.0, \"#0d0887\"], [0.1111111111111111, \"#46039f\"], [0.2222222222222222, \"#7201a8\"], [0.3333333333333333, \"#9c179e\"], [0.4444444444444444, \"#bd3786\"], [0.5555555555555556, \"#d8576b\"], [0.6666666666666666, \"#ed7953\"], [0.7777777777777778, \"#fb9f3a\"], [0.8888888888888888, \"#fdca26\"], [1.0, \"#f0f921\"]], \"type\": \"contour\"}], \"contourcarpet\": [{\"colorbar\": {\"outlinewidth\": 0, \"ticks\": \"\"}, \"type\": \"contourcarpet\"}], \"heatmap\": [{\"colorbar\": {\"outlinewidth\": 0, \"ticks\": \"\"}, \"colorscale\": [[0.0, \"#0d0887\"], [0.1111111111111111, \"#46039f\"], [0.2222222222222222, \"#7201a8\"], [0.3333333333333333, \"#9c179e\"], [0.4444444444444444, \"#bd3786\"], [0.5555555555555556, \"#d8576b\"], [0.6666666666666666, \"#ed7953\"], [0.7777777777777778, \"#fb9f3a\"], [0.8888888888888888, \"#fdca26\"], [1.0, \"#f0f921\"]], \"type\": \"heatmap\"}], \"heatmapgl\": [{\"colorbar\": {\"outlinewidth\": 0, \"ticks\": \"\"}, \"colorscale\": [[0.0, \"#0d0887\"], [0.1111111111111111, \"#46039f\"], [0.2222222222222222, \"#7201a8\"], [0.3333333333333333, \"#9c179e\"], [0.4444444444444444, \"#bd3786\"], [0.5555555555555556, \"#d8576b\"], [0.6666666666666666, \"#ed7953\"], [0.7777777777777778, \"#fb9f3a\"], [0.8888888888888888, \"#fdca26\"], [1.0, \"#f0f921\"]], \"type\": \"heatmapgl\"}], \"histogram\": [{\"marker\": {\"colorbar\": {\"outlinewidth\": 0, \"ticks\": \"\"}}, \"type\": \"histogram\"}], \"histogram2d\": [{\"colorbar\": {\"outlinewidth\": 0, \"ticks\": \"\"}, \"colorscale\": [[0.0, \"#0d0887\"], [0.1111111111111111, \"#46039f\"], [0.2222222222222222, \"#7201a8\"], [0.3333333333333333, \"#9c179e\"], [0.4444444444444444, \"#bd3786\"], [0.5555555555555556, \"#d8576b\"], [0.6666666666666666, \"#ed7953\"], [0.7777777777777778, \"#fb9f3a\"], [0.8888888888888888, \"#fdca26\"], [1.0, \"#f0f921\"]], \"type\": \"histogram2d\"}], \"histogram2dcontour\": [{\"colorbar\": {\"outlinewidth\": 0, \"ticks\": \"\"}, \"colorscale\": [[0.0, \"#0d0887\"], [0.1111111111111111, \"#46039f\"], [0.2222222222222222, \"#7201a8\"], [0.3333333333333333, \"#9c179e\"], [0.4444444444444444, \"#bd3786\"], [0.5555555555555556, \"#d8576b\"], [0.6666666666666666, \"#ed7953\"], [0.7777777777777778, \"#fb9f3a\"], [0.8888888888888888, \"#fdca26\"], [1.0, \"#f0f921\"]], \"type\": \"histogram2dcontour\"}], \"mesh3d\": [{\"colorbar\": {\"outlinewidth\": 0, \"ticks\": \"\"}, \"type\": \"mesh3d\"}], \"parcoords\": [{\"line\": {\"colorbar\": {\"outlinewidth\": 0, \"ticks\": \"\"}}, \"type\": \"parcoords\"}], \"pie\": [{\"automargin\": true, \"type\": \"pie\"}], \"scatter\": [{\"marker\": {\"colorbar\": {\"outlinewidth\": 0, \"ticks\": \"\"}}, \"type\": \"scatter\"}], \"scatter3d\": [{\"line\": {\"colorbar\": {\"outlinewidth\": 0, \"ticks\": \"\"}}, \"marker\": {\"colorbar\": {\"outlinewidth\": 0, \"ticks\": \"\"}}, \"type\": \"scatter3d\"}], \"scattercarpet\": [{\"marker\": {\"colorbar\": {\"outlinewidth\": 0, \"ticks\": \"\"}}, \"type\": \"scattercarpet\"}], \"scattergeo\": [{\"marker\": {\"colorbar\": {\"outlinewidth\": 0, \"ticks\": \"\"}}, \"type\": \"scattergeo\"}], \"scattergl\": [{\"marker\": {\"colorbar\": {\"outlinewidth\": 0, \"ticks\": \"\"}}, \"type\": \"scattergl\"}], \"scattermapbox\": [{\"marker\": {\"colorbar\": {\"outlinewidth\": 0, \"ticks\": \"\"}}, \"type\": \"scattermapbox\"}], \"scatterpolar\": [{\"marker\": {\"colorbar\": {\"outlinewidth\": 0, \"ticks\": \"\"}}, \"type\": \"scatterpolar\"}], \"scatterpolargl\": [{\"marker\": {\"colorbar\": {\"outlinewidth\": 0, \"ticks\": \"\"}}, \"type\": \"scatterpolargl\"}], \"scatterternary\": [{\"marker\": {\"colorbar\": {\"outlinewidth\": 0, \"ticks\": \"\"}}, \"type\": \"scatterternary\"}], \"surface\": [{\"colorbar\": {\"outlinewidth\": 0, \"ticks\": \"\"}, \"colorscale\": [[0.0, \"#0d0887\"], [0.1111111111111111, \"#46039f\"], [0.2222222222222222, \"#7201a8\"], [0.3333333333333333, \"#9c179e\"], [0.4444444444444444, \"#bd3786\"], [0.5555555555555556, \"#d8576b\"], [0.6666666666666666, \"#ed7953\"], [0.7777777777777778, \"#fb9f3a\"], [0.8888888888888888, \"#fdca26\"], [1.0, \"#f0f921\"]], \"type\": \"surface\"}], \"table\": [{\"cells\": {\"fill\": {\"color\": \"#EBF0F8\"}, \"line\": {\"color\": \"white\"}}, \"header\": {\"fill\": {\"color\": \"#C8D4E3\"}, \"line\": {\"color\": \"white\"}}, \"type\": \"table\"}]}, \"layout\": {\"annotationdefaults\": {\"arrowcolor\": \"#2a3f5f\", \"arrowhead\": 0, \"arrowwidth\": 1}, \"coloraxis\": {\"colorbar\": {\"outlinewidth\": 0, \"ticks\": \"\"}}, \"colorscale\": {\"diverging\": [[0, \"#8e0152\"], [0.1, \"#c51b7d\"], [0.2, \"#de77ae\"], [0.3, \"#f1b6da\"], [0.4, \"#fde0ef\"], [0.5, \"#f7f7f7\"], [0.6, \"#e6f5d0\"], [0.7, \"#b8e186\"], [0.8, \"#7fbc41\"], [0.9, \"#4d9221\"], [1, \"#276419\"]], \"sequential\": [[0.0, \"#0d0887\"], [0.1111111111111111, \"#46039f\"], [0.2222222222222222, \"#7201a8\"], [0.3333333333333333, \"#9c179e\"], [0.4444444444444444, \"#bd3786\"], [0.5555555555555556, \"#d8576b\"], [0.6666666666666666, \"#ed7953\"], [0.7777777777777778, \"#fb9f3a\"], [0.8888888888888888, \"#fdca26\"], [1.0, \"#f0f921\"]], \"sequentialminus\": [[0.0, \"#0d0887\"], [0.1111111111111111, \"#46039f\"], [0.2222222222222222, \"#7201a8\"], [0.3333333333333333, \"#9c179e\"], [0.4444444444444444, \"#bd3786\"], [0.5555555555555556, \"#d8576b\"], [0.6666666666666666, \"#ed7953\"], [0.7777777777777778, \"#fb9f3a\"], [0.8888888888888888, \"#fdca26\"], [1.0, \"#f0f921\"]]}, \"colorway\": [\"#636efa\", \"#EF553B\", \"#00cc96\", \"#ab63fa\", \"#FFA15A\", \"#19d3f3\", \"#FF6692\", \"#B6E880\", \"#FF97FF\", \"#FECB52\"], \"font\": {\"color\": \"#2a3f5f\"}, \"geo\": {\"bgcolor\": \"white\", \"lakecolor\": \"white\", \"landcolor\": \"#E5ECF6\", \"showlakes\": true, \"showland\": true, \"subunitcolor\": \"white\"}, \"hoverlabel\": {\"align\": \"left\"}, \"hovermode\": \"closest\", \"mapbox\": {\"style\": \"light\"}, \"paper_bgcolor\": \"white\", \"plot_bgcolor\": \"#E5ECF6\", \"polar\": {\"angularaxis\": {\"gridcolor\": \"white\", \"linecolor\": \"white\", \"ticks\": \"\"}, \"bgcolor\": \"#E5ECF6\", \"radialaxis\": {\"gridcolor\": \"white\", \"linecolor\": \"white\", \"ticks\": \"\"}}, \"scene\": {\"xaxis\": {\"backgroundcolor\": \"#E5ECF6\", \"gridcolor\": \"white\", \"gridwidth\": 2, \"linecolor\": \"white\", \"showbackground\": true, \"ticks\": \"\", \"zerolinecolor\": \"white\"}, \"yaxis\": {\"backgroundcolor\": \"#E5ECF6\", \"gridcolor\": \"white\", \"gridwidth\": 2, \"linecolor\": \"white\", \"showbackground\": true, \"ticks\": \"\", \"zerolinecolor\": \"white\"}, \"zaxis\": {\"backgroundcolor\": \"#E5ECF6\", \"gridcolor\": \"white\", \"gridwidth\": 2, \"linecolor\": \"white\", \"showbackground\": true, \"ticks\": \"\", \"zerolinecolor\": \"white\"}}, \"shapedefaults\": {\"line\": {\"color\": \"#2a3f5f\"}}, \"ternary\": {\"aaxis\": {\"gridcolor\": \"white\", \"linecolor\": \"white\", \"ticks\": \"\"}, \"baxis\": {\"gridcolor\": \"white\", \"linecolor\": \"white\", \"ticks\": \"\"}, \"bgcolor\": \"#E5ECF6\", \"caxis\": {\"gridcolor\": \"white\", \"linecolor\": \"white\", \"ticks\": \"\"}}, \"title\": {\"x\": 0.05}, \"xaxis\": {\"automargin\": true, \"gridcolor\": \"white\", \"linecolor\": \"white\", \"ticks\": \"\", \"title\": {\"standoff\": 15}, \"zerolinecolor\": \"white\", \"zerolinewidth\": 2}, \"yaxis\": {\"automargin\": true, \"gridcolor\": \"white\", \"linecolor\": \"white\", \"ticks\": \"\", \"title\": {\"standoff\": 15}, \"zerolinecolor\": \"white\", \"zerolinewidth\": 2}}}, \"title\": {\"text\": \"Model Feature Coefficients\", \"x\": 0.5, \"xanchor\": \"center\", \"y\": 0.95, \"yanchor\": \"top\"}},\n",
       "                        {\"responsive\": true}\n",
       "                    ).then(function(){\n",
       "                            \n",
       "var gd = document.getElementById('dfef68bd-f46f-4a1a-9615-765198c9f9a7');\n",
       "var x = new MutationObserver(function (mutations, observer) {{\n",
       "        var display = window.getComputedStyle(gd).display;\n",
       "        if (!display || display === 'none') {{\n",
       "            console.log([gd, 'removed!']);\n",
       "            Plotly.purge(gd);\n",
       "            observer.disconnect();\n",
       "        }}\n",
       "}});\n",
       "\n",
       "// Listen for the removal of the full notebook cells\n",
       "var notebookContainer = gd.closest('#notebook-container');\n",
       "if (notebookContainer) {{\n",
       "    x.observe(notebookContainer, {childList: true});\n",
       "}}\n",
       "\n",
       "// Listen for the clearing of the current output cell\n",
       "var outputEl = gd.closest('.output');\n",
       "if (outputEl) {{\n",
       "    x.observe(outputEl, {childList: true});\n",
       "}}\n",
       "\n",
       "                        })\n",
       "                };\n",
       "                });\n",
       "            </script>\n",
       "        </div>"
      ]
     },
     "metadata": {},
     "output_type": "display_data"
    }
   ],
   "source": [
    "fig = go.Figure(data = go.Bar(name = 'variable coefficients', x = dep_var, y = list(model.coef_[0])))\n",
    "\n",
    "layout = go.Layout(\n",
    "    title = 'Model Feature Coeficients',\n",
    "    xaxis= dict(title= 'Dependent Variables',ticklen= 1,zeroline= False),\n",
    "    yaxis= dict(title= 'Coef',ticklen= 5,zeroline= False)\n",
    ")\n",
    "\n",
    "fig.update_layout(\n",
    "    title={\n",
    "        'text':'Model Feature Coefficients',\n",
    "        'y':0.95,\n",
    "        'x':0.5,\n",
    "        'xanchor': 'center',\n",
    "        'yanchor': 'top'})\n",
    "\n",
    "fig"
   ]
  },
  {
   "cell_type": "markdown",
   "metadata": {},
   "source": [
    "From above, we see that some variable appear to be more important than others such as, team against, score for and score against (which may be impacted by weather), pass/run ratio, turnover differential, and pass plays against versus run plays against. Using a basic model with some of these variables and impacts from weather should help us create some kind of game wins prediction."
   ]
  },
  {
   "cell_type": "markdown",
   "metadata": {},
   "source": [
    "<h2>Variables to Explore Affects of Weather On</h2><br>\n",
    "1. Score<br>\n",
    "2. Score against<br>\n",
    "3. pass/run ratio<br>\n",
    "4. to_diff<br>\n",
    "5. FG Attempts<br>\n",
    "6. FG Success Rate<br>\n",
    "\n",
    "<h2>Team Splitters</h2>\n",
    "1. Win Rank<br>\n",
    "2. Pass/Run Ratio Category (Pass Heavy, Middle, Run Heavy)<br>\n",
    "3. Typical Bad Weather Teams versus Good Weather or Dome<br>"
   ]
  },
  {
   "cell_type": "code",
   "execution_count": 211,
   "metadata": {},
   "outputs": [],
   "source": [
    "combined_df.to_csv('nfl_small_end_of_sum.csv')"
   ]
  },
  {
   "cell_type": "markdown",
   "metadata": {},
   "source": [
    "<h2>More Variables Exploration to Include in Summary DF</h2>"
   ]
  },
  {
   "cell_type": "code",
   "execution_count": 212,
   "metadata": {},
   "outputs": [
    {
     "data": {
      "text/html": [
       "<div>\n",
       "<style scoped>\n",
       "    .dataframe tbody tr th:only-of-type {\n",
       "        vertical-align: middle;\n",
       "    }\n",
       "\n",
       "    .dataframe tbody tr th {\n",
       "        vertical-align: top;\n",
       "    }\n",
       "\n",
       "    .dataframe thead th {\n",
       "        text-align: right;\n",
       "    }\n",
       "</style>\n",
       "<table border=\"1\" class=\"dataframe\">\n",
       "  <thead>\n",
       "    <tr style=\"text-align: right;\">\n",
       "      <th></th>\n",
       "      <th>index</th>\n",
       "      <th>game_id</th>\n",
       "      <th>game_date</th>\n",
       "      <th>time</th>\n",
       "      <th>quarter_seconds_remaining</th>\n",
       "      <th>half_seconds_remaining</th>\n",
       "      <th>game_seconds_remaining</th>\n",
       "      <th>game_half</th>\n",
       "      <th>quarter_end</th>\n",
       "      <th>qtr</th>\n",
       "      <th>home_team</th>\n",
       "      <th>away_team</th>\n",
       "      <th>posteam</th>\n",
       "      <th>posteam_type</th>\n",
       "      <th>defteam</th>\n",
       "      <th>side_of_field</th>\n",
       "      <th>yardline_100</th>\n",
       "      <th>drive</th>\n",
       "      <th>sp</th>\n",
       "      <th>down</th>\n",
       "      <th>goal_to_go</th>\n",
       "      <th>yrdln</th>\n",
       "      <th>ydstogo</th>\n",
       "      <th>ydsnet</th>\n",
       "      <th>desc</th>\n",
       "      <th>play_type</th>\n",
       "      <th>yards_gained</th>\n",
       "      <th>pass_length</th>\n",
       "      <th>air_yards</th>\n",
       "      <th>yards_after_catch</th>\n",
       "      <th>field_goal_result</th>\n",
       "      <th>kick_distance</th>\n",
       "      <th>extra_point_result</th>\n",
       "      <th>two_point_conv_result</th>\n",
       "      <th>td_team</th>\n",
       "      <th>total_home_score</th>\n",
       "      <th>total_away_score</th>\n",
       "      <th>posteam_score</th>\n",
       "      <th>defteam_score</th>\n",
       "      <th>sack</th>\n",
       "      <th>touchdown</th>\n",
       "      <th>pass_touchdown</th>\n",
       "      <th>rush_touchdown</th>\n",
       "      <th>return_touchdown</th>\n",
       "      <th>extra_point_attempt</th>\n",
       "      <th>two_point_attempt</th>\n",
       "      <th>field_goal_attempt</th>\n",
       "      <th>fumble</th>\n",
       "      <th>complete_pass</th>\n",
       "      <th>Start_Time</th>\n",
       "      <th>diff</th>\n",
       "      <th>Estimated_Time</th>\n",
       "      <th>Estimated Time (EST)</th>\n",
       "      <th>Estimated_Hour</th>\n",
       "      <th>Air Pressure (hPa)</th>\n",
       "      <th>City</th>\n",
       "      <th>Dewpoint (°C)</th>\n",
       "      <th>Field</th>\n",
       "      <th>Humidity (%)</th>\n",
       "      <th>Precipitation (mm)</th>\n",
       "      <th>Roof</th>\n",
       "      <th>Team Abbreviation</th>\n",
       "      <th>Temperature (°C)</th>\n",
       "      <th>Time (EST)</th>\n",
       "      <th>Time (GMT)</th>\n",
       "      <th>Wind Direction (deg)</th>\n",
       "      <th>Wind Speed (km/h)</th>\n",
       "      <th>added_time</th>\n",
       "      <th>game_name</th>\n",
       "      <th>end_of_drive</th>\n",
       "      <th>end_of_game</th>\n",
       "      <th>INT</th>\n",
       "      <th>ARI</th>\n",
       "      <th>ATL</th>\n",
       "      <th>BAL</th>\n",
       "      <th>BUF</th>\n",
       "      <th>CAR</th>\n",
       "      <th>CHI</th>\n",
       "      <th>CIN</th>\n",
       "      <th>CLE</th>\n",
       "      <th>DAL</th>\n",
       "      <th>DEN</th>\n",
       "      <th>DET</th>\n",
       "      <th>GB</th>\n",
       "      <th>HOU</th>\n",
       "      <th>IND</th>\n",
       "      <th>JAX</th>\n",
       "      <th>KC</th>\n",
       "      <th>LA</th>\n",
       "      <th>LAC</th>\n",
       "      <th>MIA</th>\n",
       "      <th>MIN</th>\n",
       "      <th>NE</th>\n",
       "      <th>NO</th>\n",
       "      <th>NYG</th>\n",
       "      <th>NYJ</th>\n",
       "      <th>OAK</th>\n",
       "      <th>PHI</th>\n",
       "      <th>PIT</th>\n",
       "      <th>SEA</th>\n",
       "      <th>SF</th>\n",
       "      <th>TB</th>\n",
       "      <th>TEN</th>\n",
       "      <th>WAS</th>\n",
       "      <th>year</th>\n",
       "      <th>week</th>\n",
       "      <th>home_team_win</th>\n",
       "      <th>away_team_win</th>\n",
       "    </tr>\n",
       "    <tr>\n",
       "      <th>play_id</th>\n",
       "      <th></th>\n",
       "      <th></th>\n",
       "      <th></th>\n",
       "      <th></th>\n",
       "      <th></th>\n",
       "      <th></th>\n",
       "      <th></th>\n",
       "      <th></th>\n",
       "      <th></th>\n",
       "      <th></th>\n",
       "      <th></th>\n",
       "      <th></th>\n",
       "      <th></th>\n",
       "      <th></th>\n",
       "      <th></th>\n",
       "      <th></th>\n",
       "      <th></th>\n",
       "      <th></th>\n",
       "      <th></th>\n",
       "      <th></th>\n",
       "      <th></th>\n",
       "      <th></th>\n",
       "      <th></th>\n",
       "      <th></th>\n",
       "      <th></th>\n",
       "      <th></th>\n",
       "      <th></th>\n",
       "      <th></th>\n",
       "      <th></th>\n",
       "      <th></th>\n",
       "      <th></th>\n",
       "      <th></th>\n",
       "      <th></th>\n",
       "      <th></th>\n",
       "      <th></th>\n",
       "      <th></th>\n",
       "      <th></th>\n",
       "      <th></th>\n",
       "      <th></th>\n",
       "      <th></th>\n",
       "      <th></th>\n",
       "      <th></th>\n",
       "      <th></th>\n",
       "      <th></th>\n",
       "      <th></th>\n",
       "      <th></th>\n",
       "      <th></th>\n",
       "      <th></th>\n",
       "      <th></th>\n",
       "      <th></th>\n",
       "      <th></th>\n",
       "      <th></th>\n",
       "      <th></th>\n",
       "      <th></th>\n",
       "      <th></th>\n",
       "      <th></th>\n",
       "      <th></th>\n",
       "      <th></th>\n",
       "      <th></th>\n",
       "      <th></th>\n",
       "      <th></th>\n",
       "      <th></th>\n",
       "      <th></th>\n",
       "      <th></th>\n",
       "      <th></th>\n",
       "      <th></th>\n",
       "      <th></th>\n",
       "      <th></th>\n",
       "      <th></th>\n",
       "      <th></th>\n",
       "      <th></th>\n",
       "      <th></th>\n",
       "      <th></th>\n",
       "      <th></th>\n",
       "      <th></th>\n",
       "      <th></th>\n",
       "      <th></th>\n",
       "      <th></th>\n",
       "      <th></th>\n",
       "      <th></th>\n",
       "      <th></th>\n",
       "      <th></th>\n",
       "      <th></th>\n",
       "      <th></th>\n",
       "      <th></th>\n",
       "      <th></th>\n",
       "      <th></th>\n",
       "      <th></th>\n",
       "      <th></th>\n",
       "      <th></th>\n",
       "      <th></th>\n",
       "      <th></th>\n",
       "      <th></th>\n",
       "      <th></th>\n",
       "      <th></th>\n",
       "      <th></th>\n",
       "      <th></th>\n",
       "      <th></th>\n",
       "      <th></th>\n",
       "      <th></th>\n",
       "      <th></th>\n",
       "      <th></th>\n",
       "      <th></th>\n",
       "      <th></th>\n",
       "      <th></th>\n",
       "      <th></th>\n",
       "      <th></th>\n",
       "      <th></th>\n",
       "    </tr>\n",
       "  </thead>\n",
       "  <tbody>\n",
       "    <tr>\n",
       "      <th>1219</th>\n",
       "      <td>362140</td>\n",
       "      <td>2017090700</td>\n",
       "      <td>2017-09-07 00:00:00</td>\n",
       "      <td>15:00</td>\n",
       "      <td>900.0</td>\n",
       "      <td>900.0</td>\n",
       "      <td>2700.0</td>\n",
       "      <td>Half1</td>\n",
       "      <td>0</td>\n",
       "      <td>2</td>\n",
       "      <td>NE</td>\n",
       "      <td>KC</td>\n",
       "      <td>NE</td>\n",
       "      <td>home</td>\n",
       "      <td>KC</td>\n",
       "      <td>KC</td>\n",
       "      <td>8.0</td>\n",
       "      <td>5</td>\n",
       "      <td>1</td>\n",
       "      <td>4.0</td>\n",
       "      <td>0.0</td>\n",
       "      <td>KC 8</td>\n",
       "      <td>1</td>\n",
       "      <td>67</td>\n",
       "      <td>(15:00) S.Gostkowski 25 yard field goal is GOO...</td>\n",
       "      <td>field_goal</td>\n",
       "      <td>0.0</td>\n",
       "      <td>0</td>\n",
       "      <td>0.0</td>\n",
       "      <td>0.0</td>\n",
       "      <td>made</td>\n",
       "      <td>25.0</td>\n",
       "      <td>NaN</td>\n",
       "      <td>NaN</td>\n",
       "      <td>NaN</td>\n",
       "      <td>10</td>\n",
       "      <td>7</td>\n",
       "      <td>7.0</td>\n",
       "      <td>7.0</td>\n",
       "      <td>0.0</td>\n",
       "      <td>0.0</td>\n",
       "      <td>0.0</td>\n",
       "      <td>0.0</td>\n",
       "      <td>0.0</td>\n",
       "      <td>0.0</td>\n",
       "      <td>0.0</td>\n",
       "      <td>1.0</td>\n",
       "      <td>0.0</td>\n",
       "      <td>0.0</td>\n",
       "      <td>2017-09-07 20:30:00</td>\n",
       "      <td>0 days 00:45:00.000000000</td>\n",
       "      <td>2017-09-07 21:15:00</td>\n",
       "      <td>2017-09-07 21:15:00</td>\n",
       "      <td>2017-09-07 21:00:00</td>\n",
       "      <td>1012.9</td>\n",
       "      <td>Foxborough</td>\n",
       "      <td>11.6</td>\n",
       "      <td>FieldTurf CORE</td>\n",
       "      <td>67.0</td>\n",
       "      <td>0.0</td>\n",
       "      <td>Open</td>\n",
       "      <td>NE</td>\n",
       "      <td>17.8</td>\n",
       "      <td>2017-09-07 21:00:00</td>\n",
       "      <td>2017-09-08 01:00:00</td>\n",
       "      <td>300.0</td>\n",
       "      <td>20.5</td>\n",
       "      <td>0</td>\n",
       "      <td>KC @ NE 2017-09-07</td>\n",
       "      <td>1</td>\n",
       "      <td>0</td>\n",
       "      <td>0</td>\n",
       "      <td>0</td>\n",
       "      <td>0</td>\n",
       "      <td>0</td>\n",
       "      <td>0</td>\n",
       "      <td>0</td>\n",
       "      <td>0</td>\n",
       "      <td>0</td>\n",
       "      <td>0</td>\n",
       "      <td>0</td>\n",
       "      <td>0</td>\n",
       "      <td>0</td>\n",
       "      <td>0</td>\n",
       "      <td>0</td>\n",
       "      <td>0</td>\n",
       "      <td>0</td>\n",
       "      <td>A</td>\n",
       "      <td>0</td>\n",
       "      <td>0</td>\n",
       "      <td>0</td>\n",
       "      <td>0</td>\n",
       "      <td>H</td>\n",
       "      <td>0</td>\n",
       "      <td>0</td>\n",
       "      <td>0</td>\n",
       "      <td>0</td>\n",
       "      <td>0</td>\n",
       "      <td>0</td>\n",
       "      <td>0</td>\n",
       "      <td>0</td>\n",
       "      <td>0</td>\n",
       "      <td>0</td>\n",
       "      <td>0</td>\n",
       "      <td>2017</td>\n",
       "      <td>1</td>\n",
       "      <td>1</td>\n",
       "      <td>0</td>\n",
       "    </tr>\n",
       "    <tr>\n",
       "      <th>3559</th>\n",
       "      <td>362239</td>\n",
       "      <td>2017090700</td>\n",
       "      <td>2017-09-07 00:00:00</td>\n",
       "      <td>00:12</td>\n",
       "      <td>12.0</td>\n",
       "      <td>912.0</td>\n",
       "      <td>912.0</td>\n",
       "      <td>Half2</td>\n",
       "      <td>0</td>\n",
       "      <td>3</td>\n",
       "      <td>NE</td>\n",
       "      <td>KC</td>\n",
       "      <td>NE</td>\n",
       "      <td>home</td>\n",
       "      <td>KC</td>\n",
       "      <td>KC</td>\n",
       "      <td>14.0</td>\n",
       "      <td>19</td>\n",
       "      <td>1</td>\n",
       "      <td>4.0</td>\n",
       "      <td>1.0</td>\n",
       "      <td>KC 14</td>\n",
       "      <td>14</td>\n",
       "      <td>58</td>\n",
       "      <td>(:12) S.Gostkowski 32 yard field goal is GOOD,...</td>\n",
       "      <td>field_goal</td>\n",
       "      <td>0.0</td>\n",
       "      <td>0</td>\n",
       "      <td>0.0</td>\n",
       "      <td>0.0</td>\n",
       "      <td>made</td>\n",
       "      <td>32.0</td>\n",
       "      <td>NaN</td>\n",
       "      <td>NaN</td>\n",
       "      <td>NaN</td>\n",
       "      <td>27</td>\n",
       "      <td>21</td>\n",
       "      <td>24.0</td>\n",
       "      <td>24.0</td>\n",
       "      <td>0.0</td>\n",
       "      <td>0.0</td>\n",
       "      <td>0.0</td>\n",
       "      <td>0.0</td>\n",
       "      <td>0.0</td>\n",
       "      <td>0.0</td>\n",
       "      <td>0.0</td>\n",
       "      <td>1.0</td>\n",
       "      <td>0.0</td>\n",
       "      <td>0.0</td>\n",
       "      <td>2017-09-07 20:30:00</td>\n",
       "      <td>0 days 02:14:24.000000000</td>\n",
       "      <td>2017-09-07 22:44:24</td>\n",
       "      <td>2017-09-07 22:44:24</td>\n",
       "      <td>2017-09-07 23:00:00</td>\n",
       "      <td>1013.5</td>\n",
       "      <td>Foxborough</td>\n",
       "      <td>11.1</td>\n",
       "      <td>FieldTurf CORE</td>\n",
       "      <td>65.0</td>\n",
       "      <td>0.0</td>\n",
       "      <td>Open</td>\n",
       "      <td>NE</td>\n",
       "      <td>17.8</td>\n",
       "      <td>2017-09-07 23:00:00</td>\n",
       "      <td>2017-09-08 03:00:00</td>\n",
       "      <td>230.0</td>\n",
       "      <td>11.2</td>\n",
       "      <td>0</td>\n",
       "      <td>KC @ NE 2017-09-07</td>\n",
       "      <td>1</td>\n",
       "      <td>0</td>\n",
       "      <td>0</td>\n",
       "      <td>0</td>\n",
       "      <td>0</td>\n",
       "      <td>0</td>\n",
       "      <td>0</td>\n",
       "      <td>0</td>\n",
       "      <td>0</td>\n",
       "      <td>0</td>\n",
       "      <td>0</td>\n",
       "      <td>0</td>\n",
       "      <td>0</td>\n",
       "      <td>0</td>\n",
       "      <td>0</td>\n",
       "      <td>0</td>\n",
       "      <td>0</td>\n",
       "      <td>0</td>\n",
       "      <td>A</td>\n",
       "      <td>0</td>\n",
       "      <td>0</td>\n",
       "      <td>0</td>\n",
       "      <td>0</td>\n",
       "      <td>H</td>\n",
       "      <td>0</td>\n",
       "      <td>0</td>\n",
       "      <td>0</td>\n",
       "      <td>0</td>\n",
       "      <td>0</td>\n",
       "      <td>0</td>\n",
       "      <td>0</td>\n",
       "      <td>0</td>\n",
       "      <td>0</td>\n",
       "      <td>0</td>\n",
       "      <td>0</td>\n",
       "      <td>2017</td>\n",
       "      <td>1</td>\n",
       "      <td>1</td>\n",
       "      <td>0</td>\n",
       "    </tr>\n",
       "    <tr>\n",
       "      <th>1451</th>\n",
       "      <td>362352</td>\n",
       "      <td>2017091000</td>\n",
       "      <td>2017-09-10 00:00:00</td>\n",
       "      <td>06:39</td>\n",
       "      <td>399.0</td>\n",
       "      <td>399.0</td>\n",
       "      <td>2199.0</td>\n",
       "      <td>Half1</td>\n",
       "      <td>0</td>\n",
       "      <td>2</td>\n",
       "      <td>BUF</td>\n",
       "      <td>NYJ</td>\n",
       "      <td>NYJ</td>\n",
       "      <td>away</td>\n",
       "      <td>BUF</td>\n",
       "      <td>BUF</td>\n",
       "      <td>30.0</td>\n",
       "      <td>6</td>\n",
       "      <td>1</td>\n",
       "      <td>4.0</td>\n",
       "      <td>0.0</td>\n",
       "      <td>BUF 30</td>\n",
       "      <td>6</td>\n",
       "      <td>45</td>\n",
       "      <td>(6:39) C.Catanzaro 48 yard field goal is GOOD,...</td>\n",
       "      <td>field_goal</td>\n",
       "      <td>0.0</td>\n",
       "      <td>0</td>\n",
       "      <td>0.0</td>\n",
       "      <td>0.0</td>\n",
       "      <td>made</td>\n",
       "      <td>48.0</td>\n",
       "      <td>NaN</td>\n",
       "      <td>NaN</td>\n",
       "      <td>NaN</td>\n",
       "      <td>7</td>\n",
       "      <td>3</td>\n",
       "      <td>0.0</td>\n",
       "      <td>0.0</td>\n",
       "      <td>0.0</td>\n",
       "      <td>0.0</td>\n",
       "      <td>0.0</td>\n",
       "      <td>0.0</td>\n",
       "      <td>0.0</td>\n",
       "      <td>0.0</td>\n",
       "      <td>0.0</td>\n",
       "      <td>1.0</td>\n",
       "      <td>0.0</td>\n",
       "      <td>0.0</td>\n",
       "      <td>2017-09-10 13:00:00</td>\n",
       "      <td>0 days 01:10:03.000000000</td>\n",
       "      <td>2017-09-10 14:10:03</td>\n",
       "      <td>2017-09-10 14:10:03</td>\n",
       "      <td>2017-09-10 14:00:00</td>\n",
       "      <td>1032.2</td>\n",
       "      <td>Orchard Park</td>\n",
       "      <td>7.1</td>\n",
       "      <td>A-Turf Titan 50</td>\n",
       "      <td>48.0</td>\n",
       "      <td>0.0</td>\n",
       "      <td>Open</td>\n",
       "      <td>BUF</td>\n",
       "      <td>18.3</td>\n",
       "      <td>2017-09-10 14:00:00</td>\n",
       "      <td>2017-09-10 18:00:00</td>\n",
       "      <td>30.0</td>\n",
       "      <td>5.4</td>\n",
       "      <td>0</td>\n",
       "      <td>NYJ @ BUF 2017-09-10</td>\n",
       "      <td>1</td>\n",
       "      <td>0</td>\n",
       "      <td>0</td>\n",
       "      <td>0</td>\n",
       "      <td>0</td>\n",
       "      <td>0</td>\n",
       "      <td>H</td>\n",
       "      <td>0</td>\n",
       "      <td>0</td>\n",
       "      <td>0</td>\n",
       "      <td>0</td>\n",
       "      <td>0</td>\n",
       "      <td>0</td>\n",
       "      <td>0</td>\n",
       "      <td>0</td>\n",
       "      <td>0</td>\n",
       "      <td>0</td>\n",
       "      <td>0</td>\n",
       "      <td>0</td>\n",
       "      <td>0</td>\n",
       "      <td>0</td>\n",
       "      <td>0</td>\n",
       "      <td>0</td>\n",
       "      <td>0</td>\n",
       "      <td>0</td>\n",
       "      <td>0</td>\n",
       "      <td>A</td>\n",
       "      <td>0</td>\n",
       "      <td>0</td>\n",
       "      <td>0</td>\n",
       "      <td>0</td>\n",
       "      <td>0</td>\n",
       "      <td>0</td>\n",
       "      <td>0</td>\n",
       "      <td>0</td>\n",
       "      <td>2017</td>\n",
       "      <td>1</td>\n",
       "      <td>1</td>\n",
       "      <td>0</td>\n",
       "    </tr>\n",
       "  </tbody>\n",
       "</table>\n",
       "</div>"
      ],
      "text/plain": [
       "          index     game_id            game_date   time  \\\n",
       "play_id                                                   \n",
       "1219     362140  2017090700  2017-09-07 00:00:00  15:00   \n",
       "3559     362239  2017090700  2017-09-07 00:00:00  00:12   \n",
       "1451     362352  2017091000  2017-09-10 00:00:00  06:39   \n",
       "\n",
       "         quarter_seconds_remaining  half_seconds_remaining  \\\n",
       "play_id                                                      \n",
       "1219                         900.0                   900.0   \n",
       "3559                          12.0                   912.0   \n",
       "1451                         399.0                   399.0   \n",
       "\n",
       "         game_seconds_remaining game_half  quarter_end  qtr home_team  \\\n",
       "play_id                                                                 \n",
       "1219                     2700.0     Half1            0    2        NE   \n",
       "3559                      912.0     Half2            0    3        NE   \n",
       "1451                     2199.0     Half1            0    2       BUF   \n",
       "\n",
       "        away_team posteam posteam_type defteam side_of_field  yardline_100  \\\n",
       "play_id                                                                      \n",
       "1219           KC      NE         home      KC            KC           8.0   \n",
       "3559           KC      NE         home      KC            KC          14.0   \n",
       "1451          NYJ     NYJ         away     BUF           BUF          30.0   \n",
       "\n",
       "         drive  sp  down  goal_to_go   yrdln  ydstogo  ydsnet  \\\n",
       "play_id                                                         \n",
       "1219         5   1   4.0         0.0    KC 8        1      67   \n",
       "3559        19   1   4.0         1.0   KC 14       14      58   \n",
       "1451         6   1   4.0         0.0  BUF 30        6      45   \n",
       "\n",
       "                                                      desc   play_type  \\\n",
       "play_id                                                                  \n",
       "1219     (15:00) S.Gostkowski 25 yard field goal is GOO...  field_goal   \n",
       "3559     (:12) S.Gostkowski 32 yard field goal is GOOD,...  field_goal   \n",
       "1451     (6:39) C.Catanzaro 48 yard field goal is GOOD,...  field_goal   \n",
       "\n",
       "         yards_gained pass_length  air_yards  yards_after_catch  \\\n",
       "play_id                                                           \n",
       "1219              0.0           0        0.0                0.0   \n",
       "3559              0.0           0        0.0                0.0   \n",
       "1451              0.0           0        0.0                0.0   \n",
       "\n",
       "        field_goal_result  kick_distance extra_point_result  \\\n",
       "play_id                                                       \n",
       "1219                 made           25.0                NaN   \n",
       "3559                 made           32.0                NaN   \n",
       "1451                 made           48.0                NaN   \n",
       "\n",
       "        two_point_conv_result td_team  total_home_score  total_away_score  \\\n",
       "play_id                                                                     \n",
       "1219                      NaN     NaN                10                 7   \n",
       "3559                      NaN     NaN                27                21   \n",
       "1451                      NaN     NaN                 7                 3   \n",
       "\n",
       "         posteam_score  defteam_score  sack  touchdown  pass_touchdown  \\\n",
       "play_id                                                                  \n",
       "1219               7.0            7.0   0.0        0.0             0.0   \n",
       "3559              24.0           24.0   0.0        0.0             0.0   \n",
       "1451               0.0            0.0   0.0        0.0             0.0   \n",
       "\n",
       "         rush_touchdown  return_touchdown  extra_point_attempt  \\\n",
       "play_id                                                          \n",
       "1219                0.0               0.0                  0.0   \n",
       "3559                0.0               0.0                  0.0   \n",
       "1451                0.0               0.0                  0.0   \n",
       "\n",
       "         two_point_attempt  field_goal_attempt  fumble  complete_pass  \\\n",
       "play_id                                                                 \n",
       "1219                   0.0                 1.0     0.0            0.0   \n",
       "3559                   0.0                 1.0     0.0            0.0   \n",
       "1451                   0.0                 1.0     0.0            0.0   \n",
       "\n",
       "                  Start_Time                       diff       Estimated_Time  \\\n",
       "play_id                                                                        \n",
       "1219     2017-09-07 20:30:00  0 days 00:45:00.000000000  2017-09-07 21:15:00   \n",
       "3559     2017-09-07 20:30:00  0 days 02:14:24.000000000  2017-09-07 22:44:24   \n",
       "1451     2017-09-10 13:00:00  0 days 01:10:03.000000000  2017-09-10 14:10:03   \n",
       "\n",
       "        Estimated Time (EST)       Estimated_Hour  Air Pressure (hPa)  \\\n",
       "play_id                                                                 \n",
       "1219     2017-09-07 21:15:00  2017-09-07 21:00:00              1012.9   \n",
       "3559     2017-09-07 22:44:24  2017-09-07 23:00:00              1013.5   \n",
       "1451     2017-09-10 14:10:03  2017-09-10 14:00:00              1032.2   \n",
       "\n",
       "                 City  Dewpoint (°C)            Field  Humidity (%)  \\\n",
       "play_id                                                               \n",
       "1219       Foxborough           11.6   FieldTurf CORE          67.0   \n",
       "3559       Foxborough           11.1   FieldTurf CORE          65.0   \n",
       "1451     Orchard Park            7.1  A-Turf Titan 50          48.0   \n",
       "\n",
       "         Precipitation (mm)  Roof Team Abbreviation  Temperature (°C)  \\\n",
       "play_id                                                                 \n",
       "1219                    0.0  Open                NE              17.8   \n",
       "3559                    0.0  Open                NE              17.8   \n",
       "1451                    0.0  Open               BUF              18.3   \n",
       "\n",
       "                  Time (EST)           Time (GMT)  Wind Direction (deg)  \\\n",
       "play_id                                                                   \n",
       "1219     2017-09-07 21:00:00  2017-09-08 01:00:00                 300.0   \n",
       "3559     2017-09-07 23:00:00  2017-09-08 03:00:00                 230.0   \n",
       "1451     2017-09-10 14:00:00  2017-09-10 18:00:00                  30.0   \n",
       "\n",
       "         Wind Speed (km/h)  added_time             game_name  end_of_drive  \\\n",
       "play_id                                                                      \n",
       "1219                  20.5           0    KC @ NE 2017-09-07             1   \n",
       "3559                  11.2           0    KC @ NE 2017-09-07             1   \n",
       "1451                   5.4           0  NYJ @ BUF 2017-09-10             1   \n",
       "\n",
       "         end_of_game  INT ARI ATL BAL BUF CAR CHI CIN CLE DAL DEN DET GB HOU  \\\n",
       "play_id                                                                        \n",
       "1219               0    0   0   0   0   0   0   0   0   0   0   0   0  0   0   \n",
       "3559               0    0   0   0   0   0   0   0   0   0   0   0   0  0   0   \n",
       "1451               0    0   0   0   0   H   0   0   0   0   0   0   0  0   0   \n",
       "\n",
       "        IND JAX KC LA LAC MIA MIN NE NO NYG NYJ OAK PHI PIT SEA SF TB TEN WAS  \\\n",
       "play_id                                                                         \n",
       "1219      0   0  A  0   0   0   0  H  0   0   0   0   0   0   0  0  0   0   0   \n",
       "3559      0   0  A  0   0   0   0  H  0   0   0   0   0   0   0  0  0   0   0   \n",
       "1451      0   0  0  0   0   0   0  0  0   0   A   0   0   0   0  0  0   0   0   \n",
       "\n",
       "         year  week  home_team_win  away_team_win  \n",
       "play_id                                            \n",
       "1219     2017     1              1              0  \n",
       "3559     2017     1              1              0  \n",
       "1451     2017     1              1              0  "
      ]
     },
     "execution_count": 212,
     "metadata": {},
     "output_type": "execute_result"
    }
   ],
   "source": [
    "nfl_small2_end_of_drive[nfl_small2_end_of_drive['field_goal_result'].notnull()].head(3)"
   ]
  },
  {
   "cell_type": "code",
   "execution_count": 213,
   "metadata": {},
   "outputs": [
    {
     "data": {
      "text/plain": [
       "array([nan, 'made', 'missed', 'blocked'], dtype=object)"
      ]
     },
     "execution_count": 213,
     "metadata": {},
     "output_type": "execute_result"
    }
   ],
   "source": [
    "#Can include field goals attempted and made\n",
    "nfl_small2_end_of_drive.field_goal_result.unique()"
   ]
  },
  {
   "cell_type": "code",
   "execution_count": 214,
   "metadata": {},
   "outputs": [
    {
     "data": {
      "text/plain": [
       "2"
      ]
     },
     "execution_count": 214,
     "metadata": {},
     "output_type": "execute_result"
    }
   ],
   "source": [
    "nfl_small2_end_of_drive[(nfl_small2_end_of_drive['game_id']==2017090700)&\\\n",
    "                        (nfl_small2_end_of_drive['home_team']=='NE')&\\\n",
    "                        (nfl_small2_end_of_drive['play_type']=='field_goal')\n",
    "                       ].field_goal_result.count()"
   ]
  },
  {
   "cell_type": "code",
   "execution_count": 215,
   "metadata": {},
   "outputs": [
    {
     "data": {
      "text/plain": [
       "2"
      ]
     },
     "execution_count": 215,
     "metadata": {},
     "output_type": "execute_result"
    }
   ],
   "source": [
    "nfl_small2_end_of_drive[(nfl_small2_end_of_drive['game_id']==2017090700)&\\\n",
    "                        (nfl_small2_end_of_drive['home_team']=='NE')\n",
    "                       ].field_goal_result.count()"
   ]
  },
  {
   "cell_type": "markdown",
   "metadata": {},
   "source": [
    "<h2>Dashboard Scrap</h2>"
   ]
  },
  {
   "cell_type": "code",
   "execution_count": 216,
   "metadata": {},
   "outputs": [],
   "source": [
    "game_dict = df.apply(lambda x : [x['game_id'], x['game_name']],axis=1)"
   ]
  },
  {
   "cell_type": "code",
   "execution_count": 217,
   "metadata": {},
   "outputs": [
    {
     "data": {
      "text/plain": [
       "0        [2017090700, KC @ NE 2017-09-07]\n",
       "1      [2017091000, NYJ @ BUF 2017-09-10]\n",
       "2      [2017091001, ATL @ CHI 2017-09-10]\n",
       "3      [2017091002, BAL @ CIN 2017-09-10]\n",
       "4      [2017091003, PIT @ CLE 2017-09-10]\n",
       "5      [2017091004, ARI @ DET 2017-09-10]\n",
       "6      [2017091005, JAX @ HOU 2017-09-10]\n",
       "7      [2017091007, OAK @ TEN 2017-09-10]\n",
       "8      [2017091008, PHI @ WAS 2017-09-10]\n",
       "9       [2017091009, IND @ LA 2017-09-10]\n",
       "10      [2017091010, SEA @ GB 2017-09-10]\n",
       "11      [2017091011, CAR @ SF 2017-09-10]\n",
       "12     [2017091012, NYG @ DAL 2017-09-10]\n",
       "13      [2017091100, NO @ MIN 2017-09-11]\n",
       "14     [2017091101, LAC @ DEN 2017-09-11]\n",
       "15     [2017091400, HOU @ CIN 2017-09-14]\n",
       "16     [2017091700, CLE @ BAL 2017-09-17]\n",
       "17     [2017091701, BUF @ CAR 2017-09-17]\n",
       "18     [2017091702, ARI @ IND 2017-09-17]\n",
       "19     [2017091703, TEN @ JAX 2017-09-17]\n",
       "20      [2017091704, PHI @ KC 2017-09-17]\n",
       "21       [2017091705, NE @ NO 2017-09-17]\n",
       "22     [2017091706, MIN @ PIT 2017-09-17]\n",
       "23      [2017091707, CHI @ TB 2017-09-17]\n",
       "24     [2017091708, MIA @ LAC 2017-09-17]\n",
       "25     [2017091709, NYJ @ OAK 2017-09-17]\n",
       "26     [2017091710, DAL @ DEN 2017-09-17]\n",
       "27      [2017091711, WAS @ LA 2017-09-17]\n",
       "28      [2017091712, SF @ SEA 2017-09-17]\n",
       "29      [2017091713, GB @ ATL 2017-09-17]\n",
       "30     [2017091800, DET @ NYG 2017-09-18]\n",
       "31       [2017092100, LA @ SF 2017-09-21]\n",
       "32     [2017092400, BAL @ JAX 2017-09-24]\n",
       "33     [2017092401, DEN @ BUF 2017-09-24]\n",
       "34      [2017092402, NO @ CAR 2017-09-24]\n",
       "35     [2017092403, PIT @ CHI 2017-09-24]\n",
       "36     [2017092404, ATL @ DET 2017-09-24]\n",
       "37     [2017092405, CLE @ IND 2017-09-24]\n",
       "38      [2017092406, TB @ MIN 2017-09-24]\n",
       "39      [2017092407, HOU @ NE 2017-09-24]\n",
       "40     [2017092408, MIA @ NYJ 2017-09-24]\n",
       "41     [2017092409, NYG @ PHI 2017-09-24]\n",
       "42     [2017092410, SEA @ TEN 2017-09-24]\n",
       "43      [2017092411, CIN @ GB 2017-09-24]\n",
       "44      [2017092412, KC @ LAC 2017-09-24]\n",
       "45     [2017092413, OAK @ WAS 2017-09-24]\n",
       "46     [2017092500, DAL @ ARI 2017-09-25]\n",
       "47      [2017092800, CHI @ GB 2017-09-28]\n",
       "48      [2017100100, NO @ MIA 2017-10-01]\n",
       "49     [2017100101, BUF @ ATL 2017-10-01]\n",
       "50     [2017100102, PIT @ BAL 2017-10-01]\n",
       "51     [2017100103, CIN @ CLE 2017-10-01]\n",
       "52      [2017100104, LA @ DAL 2017-10-01]\n",
       "53     [2017100105, TEN @ HOU 2017-10-01]\n",
       "54     [2017100106, DET @ MIN 2017-10-01]\n",
       "55      [2017100107, CAR @ NE 2017-10-01]\n",
       "56     [2017100108, JAX @ NYJ 2017-10-01]\n",
       "57      [2017100109, SF @ ARI 2017-10-01]\n",
       "58     [2017100110, PHI @ LAC 2017-10-01]\n",
       "59      [2017100111, NYG @ TB 2017-10-01]\n",
       "60     [2017100112, OAK @ DEN 2017-10-01]\n",
       "61     [2017100113, IND @ SEA 2017-10-01]\n",
       "62      [2017100200, WAS @ KC 2017-10-02]\n",
       "63       [2017100500, NE @ TB 2017-10-05]\n",
       "64     [2017100800, BUF @ CIN 2017-10-08]\n",
       "65     [2017100801, NYJ @ CLE 2017-10-08]\n",
       "66     [2017100802, CAR @ DET 2017-10-08]\n",
       "67      [2017100803, SF @ IND 2017-10-08]\n",
       "68     [2017100804, TEN @ MIA 2017-10-08]\n",
       "69     [2017100805, LAC @ NYG 2017-10-08]\n",
       "70     [2017100806, ARI @ PHI 2017-10-08]\n",
       "71     [2017100807, JAX @ PIT 2017-10-08]\n",
       "72      [2017100808, SEA @ LA 2017-10-08]\n",
       "73     [2017100809, BAL @ OAK 2017-10-08]\n",
       "74      [2017100810, GB @ DAL 2017-10-08]\n",
       "75      [2017100811, KC @ HOU 2017-10-08]\n",
       "76     [2017100900, MIN @ CHI 2017-10-09]\n",
       "77     [2017101200, PHI @ CAR 2017-10-12]\n",
       "78     [2017101500, MIA @ ATL 2017-10-15]\n",
       "79     [2017101501, CHI @ BAL 2017-10-15]\n",
       "80     [2017101502, CLE @ HOU 2017-10-15]\n",
       "81      [2017101503, GB @ MIN 2017-10-15]\n",
       "82      [2017101504, DET @ NO 2017-10-15]\n",
       "83      [2017101505, NE @ NYJ 2017-10-15]\n",
       "84      [2017101506, SF @ WAS 2017-10-15]\n",
       "85      [2017101507, TB @ ARI 2017-10-15]\n",
       "86      [2017101508, LA @ JAX 2017-10-15]\n",
       "87      [2017101509, PIT @ KC 2017-10-15]\n",
       "88     [2017101510, LAC @ OAK 2017-10-15]\n",
       "89     [2017101511, NYG @ DEN 2017-10-15]\n",
       "90     [2017101600, IND @ TEN 2017-10-16]\n",
       "91      [2017101900, KC @ OAK 2017-10-19]\n",
       "92      [2017102200, TB @ BUF 2017-10-22]\n",
       "93     [2017102201, CAR @ CHI 2017-10-22]\n",
       "94     [2017102202, TEN @ CLE 2017-10-22]\n",
       "95       [2017102203, NO @ GB 2017-10-22]\n",
       "96     [2017102204, JAX @ IND 2017-10-22]\n",
       "97      [2017102205, ARI @ LA 2017-10-22]\n",
       "98     [2017102206, NYJ @ MIA 2017-10-22]\n",
       "99     [2017102207, BAL @ MIN 2017-10-22]\n",
       "100    [2017102208, CIN @ PIT 2017-10-22]\n",
       "101     [2017102209, DAL @ SF 2017-10-22]\n",
       "102    [2017102210, DEN @ LAC 2017-10-22]\n",
       "103    [2017102211, SEA @ NYG 2017-10-22]\n",
       "104     [2017102212, ATL @ NE 2017-10-22]\n",
       "105    [2017102300, WAS @ PHI 2017-10-23]\n",
       "106    [2017102600, MIA @ BAL 2017-10-26]\n",
       "107    [2017102900, MIN @ CLE 2017-10-29]\n",
       "108    [2017102901, OAK @ BUF 2017-10-29]\n",
       "109    [2017102902, IND @ CIN 2017-10-29]\n",
       "110     [2017102903, LAC @ NE 2017-10-29]\n",
       "111     [2017102904, CHI @ NO 2017-10-29]\n",
       "112    [2017102905, ATL @ NYJ 2017-10-29]\n",
       "113     [2017102906, SF @ PHI 2017-10-29]\n",
       "114     [2017102907, CAR @ TB 2017-10-29]\n",
       "115    [2017102908, HOU @ SEA 2017-10-29]\n",
       "116    [2017102909, DAL @ WAS 2017-10-29]\n",
       "117    [2017102910, PIT @ DET 2017-10-29]\n",
       "118     [2017103000, DEN @ KC 2017-10-30]\n",
       "119    [2017110200, BUF @ NYJ 2017-11-02]\n",
       "120    [2017110500, ATL @ CAR 2017-11-05]\n",
       "121    [2017110501, IND @ HOU 2017-11-05]\n",
       "122    [2017110502, CIN @ JAX 2017-11-05]\n",
       "123      [2017110503, TB @ NO 2017-11-05]\n",
       "124     [2017110504, LA @ NYG 2017-11-05]\n",
       "125    [2017110505, DEN @ PHI 2017-11-05]\n",
       "126    [2017110506, BAL @ TEN 2017-11-05]\n",
       "127     [2017110507, ARI @ SF 2017-11-05]\n",
       "128    [2017110508, WAS @ SEA 2017-11-05]\n",
       "129     [2017110509, KC @ DAL 2017-11-05]\n",
       "130    [2017110510, OAK @ MIA 2017-11-05]\n",
       "131     [2017110600, DET @ GB 2017-11-06]\n",
       "132    [2017110900, SEA @ ARI 2017-11-09]\n",
       "133     [2017111200, NO @ BUF 2017-11-12]\n",
       "134     [2017111201, GB @ CHI 2017-11-12]\n",
       "135    [2017111202, CLE @ DET 2017-11-12]\n",
       "136    [2017111203, PIT @ IND 2017-11-12]\n",
       "137    [2017111204, LAC @ JAX 2017-11-12]\n",
       "138     [2017111205, NYJ @ TB 2017-11-12]\n",
       "139    [2017111206, CIN @ TEN 2017-11-12]\n",
       "140    [2017111207, MIN @ WAS 2017-11-12]\n",
       "141     [2017111208, HOU @ LA 2017-11-12]\n",
       "142    [2017111209, DAL @ ATL 2017-11-12]\n",
       "143     [2017111210, NYG @ SF 2017-11-12]\n",
       "144     [2017111211, NE @ DEN 2017-11-12]\n",
       "145    [2017111300, MIA @ CAR 2017-11-13]\n",
       "146    [2017111600, TEN @ PIT 2017-11-16]\n",
       "147    [2017111900, DET @ CHI 2017-11-19]\n",
       "148    [2017111901, JAX @ CLE 2017-11-19]\n",
       "149     [2017111902, BAL @ GB 2017-11-19]\n",
       "150    [2017111903, ARI @ HOU 2017-11-19]\n",
       "151     [2017111904, LA @ MIN 2017-11-19]\n",
       "152     [2017111905, WAS @ NO 2017-11-19]\n",
       "153     [2017111906, KC @ NYG 2017-11-19]\n",
       "154    [2017111907, BUF @ LAC 2017-11-19]\n",
       "155    [2017111908, CIN @ DEN 2017-11-19]\n",
       "156     [2017111909, NE @ OAK 2017-11-19]\n",
       "157    [2017111910, PHI @ DAL 2017-11-19]\n",
       "158     [2017111911, TB @ MIA 2017-11-19]\n",
       "159    [2017112000, ATL @ SEA 2017-11-20]\n",
       "160    [2017112300, MIN @ DET 2017-11-23]\n",
       "161    [2017112301, LAC @ DAL 2017-11-23]\n",
       "162    [2017112302, NYG @ WAS 2017-11-23]\n",
       "163     [2017112600, TB @ ATL 2017-11-26]\n",
       "164    [2017112601, CLE @ CIN 2017-11-26]\n",
       "165    [2017112602, TEN @ IND 2017-11-26]\n",
       "166     [2017112603, BUF @ KC 2017-11-26]\n",
       "167     [2017112604, MIA @ NE 2017-11-26]\n",
       "168    [2017112605, CAR @ NYJ 2017-11-26]\n",
       "169    [2017112606, CHI @ PHI 2017-11-26]\n",
       "170      [2017112607, NO @ LA 2017-11-26]\n",
       "171     [2017112608, SEA @ SF 2017-11-26]\n",
       "172    [2017112609, JAX @ ARI 2017-11-26]\n",
       "173    [2017112610, DEN @ OAK 2017-11-26]\n",
       "174     [2017112611, GB @ PIT 2017-11-26]\n",
       "175    [2017112700, HOU @ BAL 2017-11-27]\n",
       "176    [2017113000, WAS @ DAL 2017-11-30]\n",
       "177    [2017120300, MIN @ ATL 2017-12-03]\n",
       "178    [2017120301, DET @ BAL 2017-12-03]\n",
       "179     [2017120302, NE @ BUF 2017-12-03]\n",
       "180     [2017120303, SF @ CHI 2017-12-03]\n",
       "181      [2017120304, TB @ GB 2017-12-03]\n",
       "182    [2017120305, IND @ JAX 2017-12-03]\n",
       "183    [2017120306, DEN @ MIA 2017-12-03]\n",
       "184     [2017120307, CAR @ NO 2017-12-03]\n",
       "185     [2017120308, KC @ NYJ 2017-12-03]\n",
       "186    [2017120309, HOU @ TEN 2017-12-03]\n",
       "187    [2017120310, CLE @ LAC 2017-12-03]\n",
       "188     [2017120311, LA @ ARI 2017-12-03]\n",
       "189    [2017120312, NYG @ OAK 2017-12-03]\n",
       "190    [2017120313, PHI @ SEA 2017-12-03]\n",
       "191    [2017120400, PIT @ CIN 2017-12-04]\n",
       "192     [2017120700, NO @ ATL 2017-12-07]\n",
       "193    [2017121000, IND @ BUF 2017-12-10]\n",
       "194    [2017121001, MIN @ CAR 2017-12-10]\n",
       "195    [2017121002, CHI @ CIN 2017-12-10]\n",
       "196     [2017121003, GB @ CLE 2017-12-10]\n",
       "197     [2017121004, SF @ HOU 2017-12-10]\n",
       "198    [2017121005, SEA @ JAX 2017-12-10]\n",
       "199     [2017121006, OAK @ KC 2017-12-10]\n",
       "200     [2017121007, DET @ TB 2017-12-10]\n",
       "201    [2017121008, TEN @ ARI 2017-12-10]\n",
       "202    [2017121009, NYJ @ DEN 2017-12-10]\n",
       "203    [2017121010, WAS @ LAC 2017-12-10]\n",
       "204     [2017121011, PHI @ LA 2017-12-10]\n",
       "205    [2017121012, DAL @ NYG 2017-12-10]\n",
       "206    [2017121013, BAL @ PIT 2017-12-10]\n",
       "207     [2017121100, NE @ MIA 2017-12-11]\n",
       "208    [2017121400, DEN @ IND 2017-12-14]\n",
       "209    [2017121600, CHI @ DET 2017-12-16]\n",
       "210     [2017121601, LAC @ KC 2017-12-16]\n",
       "211    [2017121700, MIA @ BUF 2017-12-17]\n",
       "212     [2017121701, GB @ CAR 2017-12-17]\n",
       "213    [2017121702, BAL @ CLE 2017-12-17]\n",
       "214    [2017121703, HOU @ JAX 2017-12-17]\n",
       "215    [2017121704, CIN @ MIN 2017-12-17]\n",
       "216     [2017121705, NYJ @ NO 2017-12-17]\n",
       "217    [2017121706, PHI @ NYG 2017-12-17]\n",
       "218    [2017121707, ARI @ WAS 2017-12-17]\n",
       "219     [2017121708, LA @ SEA 2017-12-17]\n",
       "220     [2017121709, NE @ PIT 2017-12-17]\n",
       "221     [2017121710, TEN @ SF 2017-12-17]\n",
       "222    [2017121711, DAL @ OAK 2017-12-17]\n",
       "223     [2017121800, ATL @ TB 2017-12-18]\n",
       "224    [2017122300, IND @ BAL 2017-12-23]\n",
       "225     [2017122301, MIN @ GB 2017-12-23]\n",
       "226     [2017122400, TB @ CAR 2017-12-24]\n",
       "227    [2017122401, CLE @ CHI 2017-12-24]\n",
       "228    [2017122402, DET @ CIN 2017-12-24]\n",
       "229     [2017122403, MIA @ KC 2017-12-24]\n",
       "230     [2017122404, BUF @ NE 2017-12-24]\n",
       "231     [2017122405, ATL @ NO 2017-12-24]\n",
       "232    [2017122406, LAC @ NYJ 2017-12-24]\n",
       "233     [2017122407, LA @ TEN 2017-12-24]\n",
       "234    [2017122408, DEN @ WAS 2017-12-24]\n",
       "235     [2017122409, JAX @ SF 2017-12-24]\n",
       "236    [2017122410, NYG @ ARI 2017-12-24]\n",
       "237    [2017122411, SEA @ DAL 2017-12-24]\n",
       "238    [2017122500, PIT @ HOU 2017-12-25]\n",
       "239    [2017122501, OAK @ PHI 2017-12-25]\n",
       "240    [2017123100, CAR @ ATL 2017-12-31]\n",
       "241    [2017123101, CIN @ BAL 2017-12-31]\n",
       "242     [2017123102, GB @ DET 2017-12-31]\n",
       "243    [2017123103, HOU @ IND 2017-12-31]\n",
       "244    [2017123104, BUF @ MIA 2017-12-31]\n",
       "245    [2017123105, CHI @ MIN 2017-12-31]\n",
       "246     [2017123106, NYJ @ NE 2017-12-31]\n",
       "247    [2017123107, WAS @ NYG 2017-12-31]\n",
       "248    [2017123108, DAL @ PHI 2017-12-31]\n",
       "249    [2017123109, CLE @ PIT 2017-12-31]\n",
       "250      [2017123110, NO @ TB 2017-12-31]\n",
       "251    [2017123111, JAX @ TEN 2017-12-31]\n",
       "252     [2017123112, KC @ DEN 2017-12-31]\n",
       "253    [2017123113, OAK @ LAC 2017-12-31]\n",
       "254      [2017123114, SF @ LA 2017-12-31]\n",
       "255    [2017123115, ARI @ SEA 2017-12-31]\n",
       "256    [2018090600, ATL @ PHI 2018-09-06]\n",
       "257    [2018090900, BUF @ BAL 2018-09-09]\n",
       "258    [2018090901, PIT @ CLE 2018-09-09]\n",
       "259    [2018090902, CIN @ IND 2018-09-09]\n",
       "260    [2018090903, TEN @ MIA 2018-09-09]\n",
       "261     [2018090904, SF @ MIN 2018-09-09]\n",
       "262     [2018090905, HOU @ NE 2018-09-09]\n",
       "263      [2018090906, TB @ NO 2018-09-09]\n",
       "264    [2018090907, JAX @ NYG 2018-09-09]\n",
       "265     [2018090908, KC @ LAC 2018-09-09]\n",
       "266    [2018090909, WAS @ ARI 2018-09-09]\n",
       "267    [2018090910, DAL @ CAR 2018-09-09]\n",
       "268    [2018090911, SEA @ DEN 2018-09-09]\n",
       "269     [2018090912, CHI @ GB 2018-09-09]\n",
       "270    [2018091000, NYJ @ DET 2018-09-10]\n",
       "271     [2018091001, LA @ OAK 2018-09-10]\n",
       "272    [2018091300, BAL @ CIN 2018-09-13]\n",
       "273    [2018091600, CAR @ ATL 2018-09-16]\n",
       "274    [2018091601, LAC @ BUF 2018-09-16]\n",
       "275     [2018091602, MIN @ GB 2018-09-16]\n",
       "276     [2018091603, CLE @ NO 2018-09-16]\n",
       "277    [2018091604, MIA @ NYJ 2018-09-16]\n",
       "278     [2018091605, KC @ PIT 2018-09-16]\n",
       "279     [2018091606, PHI @ TB 2018-09-16]\n",
       "280    [2018091607, HOU @ TEN 2018-09-16]\n",
       "281    [2018091608, IND @ WAS 2018-09-16]\n",
       "282     [2018091609, ARI @ LA 2018-09-16]\n",
       "283     [2018091610, DET @ SF 2018-09-16]\n",
       "284    [2018091611, OAK @ DEN 2018-09-16]\n",
       "285     [2018091612, NE @ JAX 2018-09-16]\n",
       "286    [2018091613, NYG @ DAL 2018-09-16]\n",
       "287    [2018091700, SEA @ CHI 2018-09-17]\n",
       "288    [2018092000, NYJ @ CLE 2018-09-20]\n",
       "289     [2018092300, NO @ ATL 2018-09-23]\n",
       "290    [2018092301, DEN @ BAL 2018-09-23]\n",
       "291    [2018092302, CIN @ CAR 2018-09-23]\n",
       "292    [2018092303, NYG @ HOU 2018-09-23]\n",
       "293    [2018092304, TEN @ JAX 2018-09-23]\n",
       "294      [2018092305, SF @ KC 2018-09-23]\n",
       "295    [2018092306, OAK @ MIA 2018-09-23]\n",
       "296    [2018092307, BUF @ MIN 2018-09-23]\n",
       "297    [2018092308, IND @ PHI 2018-09-23]\n",
       "298     [2018092309, GB @ WAS 2018-09-23]\n",
       "299     [2018092310, LAC @ LA 2018-09-23]\n",
       "300    [2018092311, CHI @ ARI 2018-09-23]\n",
       "301    [2018092312, DAL @ SEA 2018-09-23]\n",
       "302     [2018092313, NE @ DET 2018-09-23]\n",
       "303     [2018092400, PIT @ TB 2018-09-24]\n",
       "304     [2018092700, MIN @ LA 2018-09-27]\n",
       "305    [2018093000, CIN @ ATL 2018-09-30]\n",
       "306     [2018093001, TB @ CHI 2018-09-30]\n",
       "307    [2018093002, DET @ DAL 2018-09-30]\n",
       "308     [2018093003, BUF @ GB 2018-09-30]\n",
       "309    [2018093004, HOU @ IND 2018-09-30]\n",
       "310    [2018093005, NYJ @ JAX 2018-09-30]\n",
       "311     [2018093006, MIA @ NE 2018-09-30]\n",
       "312    [2018093007, PHI @ TEN 2018-09-30]\n",
       "313    [2018093008, SEA @ ARI 2018-09-30]\n",
       "314    [2018093009, CLE @ OAK 2018-09-30]\n",
       "315     [2018093010, SF @ LAC 2018-09-30]\n",
       "316     [2018093011, NO @ NYG 2018-09-30]\n",
       "317    [2018093012, BAL @ PIT 2018-09-30]\n",
       "318     [2018100100, KC @ DEN 2018-10-01]\n",
       "319     [2018100400, IND @ NE 2018-10-04]\n",
       "320    [2018100700, TEN @ BUF 2018-10-07]\n",
       "321    [2018100701, NYG @ CAR 2018-10-07]\n",
       "322    [2018100702, MIA @ CIN 2018-10-07]\n",
       "323    [2018100703, BAL @ CLE 2018-10-07]\n",
       "324     [2018100704, GB @ DET 2018-10-07]\n",
       "325     [2018100705, JAX @ KC 2018-10-07]\n",
       "326    [2018100706, DEN @ NYJ 2018-10-07]\n",
       "327    [2018100707, ATL @ PIT 2018-10-07]\n",
       "328    [2018100708, OAK @ LAC 2018-10-07]\n",
       "329    [2018100709, MIN @ PHI 2018-10-07]\n",
       "330     [2018100710, ARI @ SF 2018-10-07]\n",
       "331     [2018100711, LA @ SEA 2018-10-07]\n",
       "332    [2018100712, DAL @ HOU 2018-10-07]\n",
       "333     [2018100800, WAS @ NO 2018-10-08]\n",
       "334    [2018101100, PHI @ NYG 2018-10-11]\n",
       "335     [2018101400, TB @ ATL 2018-10-14]\n",
       "336    [2018101401, PIT @ CIN 2018-10-14]\n",
       "337    [2018101402, LAC @ CLE 2018-10-14]\n",
       "338    [2018101403, BUF @ HOU 2018-10-14]\n",
       "339    [2018101404, CHI @ MIA 2018-10-14]\n",
       "340    [2018101405, ARI @ MIN 2018-10-14]\n",
       "341    [2018101406, IND @ NYJ 2018-10-14]\n",
       "342    [2018101407, SEA @ OAK 2018-10-14]\n",
       "343    [2018101408, CAR @ WAS 2018-10-14]\n",
       "344     [2018101409, LA @ DEN 2018-10-14]\n",
       "345    [2018101410, JAX @ DAL 2018-10-14]\n",
       "346    [2018101411, BAL @ TEN 2018-10-14]\n",
       "347      [2018101412, KC @ NE 2018-10-14]\n",
       "348      [2018101500, SF @ GB 2018-10-15]\n",
       "349    [2018101800, DEN @ ARI 2018-10-18]\n",
       "350    [2018102100, TEN @ LAC 2018-10-21]\n",
       "351     [2018102101, NO @ BAL 2018-10-21]\n",
       "352     [2018102102, NE @ CHI 2018-10-21]\n",
       "353    [2018102103, BUF @ IND 2018-10-21]\n",
       "354    [2018102104, HOU @ JAX 2018-10-21]\n",
       "355     [2018102105, CIN @ KC 2018-10-21]\n",
       "356    [2018102106, DET @ MIA 2018-10-21]\n",
       "357    [2018102107, MIN @ NYJ 2018-10-21]\n",
       "358    [2018102108, CAR @ PHI 2018-10-21]\n",
       "359     [2018102109, CLE @ TB 2018-10-21]\n",
       "360    [2018102110, DAL @ WAS 2018-10-21]\n",
       "361      [2018102111, LA @ SF 2018-10-21]\n",
       "362    [2018102200, NYG @ ATL 2018-10-22]\n",
       "363    [2018102500, MIA @ HOU 2018-10-25]\n",
       "364    [2018102800, PHI @ JAX 2018-10-28]\n",
       "365    [2018102801, BAL @ CAR 2018-10-28]\n",
       "366    [2018102802, NYJ @ CHI 2018-10-28]\n",
       "367     [2018102803, TB @ CIN 2018-10-28]\n",
       "368    [2018102804, SEA @ DET 2018-10-28]\n",
       "369     [2018102805, DEN @ KC 2018-10-28]\n",
       "370    [2018102806, WAS @ NYG 2018-10-28]\n",
       "371    [2018102807, CLE @ PIT 2018-10-28]\n",
       "372    [2018102808, IND @ OAK 2018-10-28]\n",
       "373     [2018102809, SF @ ARI 2018-10-28]\n",
       "374      [2018102810, GB @ LA 2018-10-28]\n",
       "375     [2018102811, NO @ MIN 2018-10-28]\n",
       "376     [2018102900, NE @ BUF 2018-10-29]\n",
       "377     [2018110100, OAK @ SF 2018-11-01]\n",
       "378    [2018110400, PIT @ BAL 2018-11-04]\n",
       "379    [2018110401, CHI @ BUF 2018-11-04]\n",
       "380     [2018110402, TB @ CAR 2018-11-04]\n",
       "381     [2018110403, KC @ CLE 2018-11-04]\n",
       "382    [2018110404, NYJ @ MIA 2018-11-04]\n",
       "383    [2018110405, DET @ MIN 2018-11-04]\n",
       "384    [2018110406, ATL @ WAS 2018-11-04]\n",
       "385    [2018110407, HOU @ DEN 2018-11-04]\n",
       "386    [2018110408, LAC @ SEA 2018-11-04]\n",
       "387      [2018110409, LA @ NO 2018-11-04]\n",
       "388      [2018110410, GB @ NE 2018-11-04]\n",
       "389    [2018110500, TEN @ DAL 2018-11-05]\n",
       "390    [2018110800, CAR @ PIT 2018-11-08]\n",
       "391    [2018111100, DET @ CHI 2018-11-11]\n",
       "392     [2018111101, NO @ CIN 2018-11-11]\n",
       "393    [2018111102, ATL @ CLE 2018-11-11]\n",
       "394     [2018111103, MIA @ GB 2018-11-11]\n",
       "395    [2018111104, JAX @ IND 2018-11-11]\n",
       "396     [2018111105, ARI @ KC 2018-11-11]\n",
       "397    [2018111106, BUF @ NYJ 2018-11-11]\n",
       "398     [2018111107, WAS @ TB 2018-11-11]\n",
       "399     [2018111108, NE @ TEN 2018-11-11]\n",
       "400    [2018111109, LAC @ OAK 2018-11-11]\n",
       "401     [2018111110, SEA @ LA 2018-11-11]\n",
       "402    [2018111111, DAL @ PHI 2018-11-11]\n",
       "403     [2018111200, NYG @ SF 2018-11-12]\n",
       "404     [2018111500, GB @ SEA 2018-11-15]\n",
       "405    [2018111800, DAL @ ATL 2018-11-18]\n",
       "406    [2018111801, CIN @ BAL 2018-11-18]\n",
       "407    [2018111802, MIN @ CHI 2018-11-18]\n",
       "408    [2018111803, CAR @ DET 2018-11-18]\n",
       "409    [2018111804, TEN @ IND 2018-11-18]\n",
       "410     [2018111805, TB @ NYG 2018-11-18]\n",
       "411    [2018111806, HOU @ WAS 2018-11-18]\n",
       "412    [2018111807, OAK @ ARI 2018-11-18]\n",
       "413    [2018111808, DEN @ LAC 2018-11-18]\n",
       "414     [2018111809, PHI @ NO 2018-11-18]\n",
       "415    [2018111810, PIT @ JAX 2018-11-18]\n",
       "416      [2018111900, KC @ LA 2018-11-19]\n",
       "417    [2018112200, CHI @ DET 2018-11-22]\n",
       "418    [2018112201, WAS @ DAL 2018-11-22]\n",
       "419     [2018112202, ATL @ NO 2018-11-22]\n",
       "420    [2018112500, OAK @ BAL 2018-11-25]\n",
       "421    [2018112501, JAX @ BUF 2018-11-25]\n",
       "422    [2018112502, SEA @ CAR 2018-11-25]\n",
       "423    [2018112503, CLE @ CIN 2018-11-25]\n",
       "424    [2018112504, MIA @ IND 2018-11-25]\n",
       "425     [2018112505, NE @ NYJ 2018-11-25]\n",
       "426    [2018112506, NYG @ PHI 2018-11-25]\n",
       "427      [2018112507, SF @ TB 2018-11-25]\n",
       "428    [2018112508, ARI @ LAC 2018-11-25]\n",
       "429    [2018112509, PIT @ DEN 2018-11-25]\n",
       "430     [2018112510, GB @ MIN 2018-11-25]\n",
       "431    [2018112600, TEN @ HOU 2018-11-26]\n",
       "432     [2018112900, NO @ DAL 2018-11-29]\n",
       "433    [2018120200, BAL @ ATL 2018-12-02]\n",
       "434    [2018120201, DEN @ CIN 2018-12-02]\n",
       "435     [2018120202, LA @ DET 2018-12-02]\n",
       "436     [2018120203, ARI @ GB 2018-12-02]\n",
       "437    [2018120204, CLE @ HOU 2018-12-02]\n",
       "438    [2018120205, IND @ JAX 2018-12-02]\n",
       "439    [2018120206, BUF @ MIA 2018-12-02]\n",
       "440    [2018120207, CHI @ NYG 2018-12-02]\n",
       "441    [2018120208, LAC @ PIT 2018-12-02]\n",
       "442     [2018120209, CAR @ TB 2018-12-02]\n",
       "443     [2018120210, KC @ OAK 2018-12-02]\n",
       "444    [2018120211, NYJ @ TEN 2018-12-02]\n",
       "445     [2018120212, MIN @ NE 2018-12-02]\n",
       "446     [2018120213, SF @ SEA 2018-12-02]\n",
       "447    [2018120300, WAS @ PHI 2018-12-03]\n",
       "448    [2018120600, JAX @ TEN 2018-12-06]\n",
       "449    [2018120900, NYJ @ BUF 2018-12-09]\n",
       "450     [2018120901, LA @ CHI 2018-12-09]\n",
       "451    [2018120902, CAR @ CLE 2018-12-09]\n",
       "452     [2018120903, ATL @ GB 2018-12-09]\n",
       "453    [2018120904, IND @ HOU 2018-12-09]\n",
       "454     [2018120905, BAL @ KC 2018-12-09]\n",
       "455     [2018120906, NE @ MIA 2018-12-09]\n",
       "456      [2018120907, NO @ TB 2018-12-09]\n",
       "457    [2018120908, NYG @ WAS 2018-12-09]\n",
       "458    [2018120909, CIN @ LAC 2018-12-09]\n",
       "459     [2018120910, DEN @ SF 2018-12-09]\n",
       "460    [2018120911, DET @ ARI 2018-12-09]\n",
       "461    [2018120912, PHI @ DAL 2018-12-09]\n",
       "462    [2018120913, PIT @ OAK 2018-12-09]\n",
       "463    [2018121000, MIN @ SEA 2018-12-10]\n",
       "464     [2018121300, LAC @ KC 2018-12-13]\n",
       "465    [2018121500, HOU @ NYJ 2018-12-15]\n",
       "466    [2018121501, CLE @ DEN 2018-12-15]\n",
       "467    [2018121600, ARI @ ATL 2018-12-16]\n",
       "468     [2018121601, TB @ BAL 2018-12-16]\n",
       "469    [2018121602, DET @ BUF 2018-12-16]\n",
       "470     [2018121603, GB @ CHI 2018-12-16]\n",
       "471    [2018121604, OAK @ CIN 2018-12-16]\n",
       "472    [2018121605, DAL @ IND 2018-12-16]\n",
       "473    [2018121606, WAS @ JAX 2018-12-16]\n",
       "474    [2018121607, MIA @ MIN 2018-12-16]\n",
       "475    [2018121608, TEN @ NYG 2018-12-16]\n",
       "476     [2018121609, SEA @ SF 2018-12-16]\n",
       "477     [2018121610, NE @ PIT 2018-12-16]\n",
       "478     [2018121611, PHI @ LA 2018-12-16]\n",
       "479     [2018121700, NO @ CAR 2018-12-17]\n",
       "dtype: object"
      ]
     },
     "execution_count": 217,
     "metadata": {},
     "output_type": "execute_result"
    }
   ],
   "source": [
    "game_dict"
   ]
  },
  {
   "cell_type": "code",
   "execution_count": 218,
   "metadata": {
    "scrolled": false
   },
   "outputs": [],
   "source": [
    "# [i for i in game_dict]"
   ]
  },
  {
   "cell_type": "code",
   "execution_count": 219,
   "metadata": {},
   "outputs": [],
   "source": [
    "nfl_small2_end_of_drive['cum_yds'] = nfl_small2_end_of_drive.groupby(['game_id'])['ydsnet'].cumsum()"
   ]
  },
  {
   "cell_type": "code",
   "execution_count": 220,
   "metadata": {},
   "outputs": [],
   "source": [
    "# Getting data from one game to explore further\n",
    "kc_ne_game = nfl_small2[nfl_small2['game_id']==2017090700].sort_values(by='play_id',ascending=True)"
   ]
  },
  {
   "cell_type": "code",
   "execution_count": 221,
   "metadata": {
    "scrolled": false
   },
   "outputs": [
    {
     "data": {
      "text/html": [
       "<div>\n",
       "<style scoped>\n",
       "    .dataframe tbody tr th:only-of-type {\n",
       "        vertical-align: middle;\n",
       "    }\n",
       "\n",
       "    .dataframe tbody tr th {\n",
       "        vertical-align: top;\n",
       "    }\n",
       "\n",
       "    .dataframe thead th {\n",
       "        text-align: right;\n",
       "    }\n",
       "</style>\n",
       "<table border=\"1\" class=\"dataframe\">\n",
       "  <thead>\n",
       "    <tr style=\"text-align: right;\">\n",
       "      <th></th>\n",
       "      <th>play_id</th>\n",
       "      <th>game_id</th>\n",
       "      <th>game_date</th>\n",
       "      <th>time</th>\n",
       "      <th>quarter_seconds_remaining</th>\n",
       "      <th>half_seconds_remaining</th>\n",
       "      <th>game_seconds_remaining</th>\n",
       "      <th>game_half</th>\n",
       "      <th>quarter_end</th>\n",
       "      <th>qtr</th>\n",
       "      <th>home_team</th>\n",
       "      <th>away_team</th>\n",
       "      <th>posteam</th>\n",
       "      <th>posteam_type</th>\n",
       "      <th>defteam</th>\n",
       "      <th>side_of_field</th>\n",
       "      <th>yardline_100</th>\n",
       "      <th>drive</th>\n",
       "      <th>sp</th>\n",
       "      <th>down</th>\n",
       "      <th>goal_to_go</th>\n",
       "      <th>yrdln</th>\n",
       "      <th>ydstogo</th>\n",
       "      <th>ydsnet</th>\n",
       "      <th>desc</th>\n",
       "      <th>play_type</th>\n",
       "      <th>yards_gained</th>\n",
       "      <th>pass_length</th>\n",
       "      <th>air_yards</th>\n",
       "      <th>yards_after_catch</th>\n",
       "      <th>field_goal_result</th>\n",
       "      <th>kick_distance</th>\n",
       "      <th>extra_point_result</th>\n",
       "      <th>two_point_conv_result</th>\n",
       "      <th>td_team</th>\n",
       "      <th>total_home_score</th>\n",
       "      <th>total_away_score</th>\n",
       "      <th>posteam_score</th>\n",
       "      <th>defteam_score</th>\n",
       "      <th>sack</th>\n",
       "      <th>touchdown</th>\n",
       "      <th>pass_touchdown</th>\n",
       "      <th>rush_touchdown</th>\n",
       "      <th>return_touchdown</th>\n",
       "      <th>extra_point_attempt</th>\n",
       "      <th>two_point_attempt</th>\n",
       "      <th>field_goal_attempt</th>\n",
       "      <th>fumble</th>\n",
       "      <th>complete_pass</th>\n",
       "      <th>Start_Time</th>\n",
       "      <th>diff</th>\n",
       "      <th>Estimated_Time</th>\n",
       "      <th>Estimated Time (EST)</th>\n",
       "      <th>Estimated_Hour</th>\n",
       "      <th>Air Pressure (hPa)</th>\n",
       "      <th>City</th>\n",
       "      <th>Dewpoint (°C)</th>\n",
       "      <th>Field</th>\n",
       "      <th>Humidity (%)</th>\n",
       "      <th>Precipitation (mm)</th>\n",
       "      <th>Roof</th>\n",
       "      <th>Team Abbreviation</th>\n",
       "      <th>Temperature (°C)</th>\n",
       "      <th>Time (EST)</th>\n",
       "      <th>Time (GMT)</th>\n",
       "      <th>Wind Direction (deg)</th>\n",
       "      <th>Wind Speed (km/h)</th>\n",
       "      <th>added_time</th>\n",
       "      <th>game_name</th>\n",
       "      <th>end_of_drive</th>\n",
       "      <th>end_of_game</th>\n",
       "      <th>INT</th>\n",
       "      <th>ARI</th>\n",
       "      <th>ATL</th>\n",
       "      <th>BAL</th>\n",
       "      <th>BUF</th>\n",
       "      <th>CAR</th>\n",
       "      <th>CHI</th>\n",
       "      <th>CIN</th>\n",
       "      <th>CLE</th>\n",
       "      <th>DAL</th>\n",
       "      <th>DEN</th>\n",
       "      <th>DET</th>\n",
       "      <th>GB</th>\n",
       "      <th>HOU</th>\n",
       "      <th>IND</th>\n",
       "      <th>JAX</th>\n",
       "      <th>KC</th>\n",
       "      <th>LA</th>\n",
       "      <th>LAC</th>\n",
       "      <th>MIA</th>\n",
       "      <th>MIN</th>\n",
       "      <th>NE</th>\n",
       "      <th>NO</th>\n",
       "      <th>NYG</th>\n",
       "      <th>NYJ</th>\n",
       "      <th>OAK</th>\n",
       "      <th>PHI</th>\n",
       "      <th>PIT</th>\n",
       "      <th>SEA</th>\n",
       "      <th>SF</th>\n",
       "      <th>TB</th>\n",
       "      <th>TEN</th>\n",
       "      <th>WAS</th>\n",
       "      <th>year</th>\n",
       "      <th>week</th>\n",
       "    </tr>\n",
       "    <tr>\n",
       "      <th>index</th>\n",
       "      <th></th>\n",
       "      <th></th>\n",
       "      <th></th>\n",
       "      <th></th>\n",
       "      <th></th>\n",
       "      <th></th>\n",
       "      <th></th>\n",
       "      <th></th>\n",
       "      <th></th>\n",
       "      <th></th>\n",
       "      <th></th>\n",
       "      <th></th>\n",
       "      <th></th>\n",
       "      <th></th>\n",
       "      <th></th>\n",
       "      <th></th>\n",
       "      <th></th>\n",
       "      <th></th>\n",
       "      <th></th>\n",
       "      <th></th>\n",
       "      <th></th>\n",
       "      <th></th>\n",
       "      <th></th>\n",
       "      <th></th>\n",
       "      <th></th>\n",
       "      <th></th>\n",
       "      <th></th>\n",
       "      <th></th>\n",
       "      <th></th>\n",
       "      <th></th>\n",
       "      <th></th>\n",
       "      <th></th>\n",
       "      <th></th>\n",
       "      <th></th>\n",
       "      <th></th>\n",
       "      <th></th>\n",
       "      <th></th>\n",
       "      <th></th>\n",
       "      <th></th>\n",
       "      <th></th>\n",
       "      <th></th>\n",
       "      <th></th>\n",
       "      <th></th>\n",
       "      <th></th>\n",
       "      <th></th>\n",
       "      <th></th>\n",
       "      <th></th>\n",
       "      <th></th>\n",
       "      <th></th>\n",
       "      <th></th>\n",
       "      <th></th>\n",
       "      <th></th>\n",
       "      <th></th>\n",
       "      <th></th>\n",
       "      <th></th>\n",
       "      <th></th>\n",
       "      <th></th>\n",
       "      <th></th>\n",
       "      <th></th>\n",
       "      <th></th>\n",
       "      <th></th>\n",
       "      <th></th>\n",
       "      <th></th>\n",
       "      <th></th>\n",
       "      <th></th>\n",
       "      <th></th>\n",
       "      <th></th>\n",
       "      <th></th>\n",
       "      <th></th>\n",
       "      <th></th>\n",
       "      <th></th>\n",
       "      <th></th>\n",
       "      <th></th>\n",
       "      <th></th>\n",
       "      <th></th>\n",
       "      <th></th>\n",
       "      <th></th>\n",
       "      <th></th>\n",
       "      <th></th>\n",
       "      <th></th>\n",
       "      <th></th>\n",
       "      <th></th>\n",
       "      <th></th>\n",
       "      <th></th>\n",
       "      <th></th>\n",
       "      <th></th>\n",
       "      <th></th>\n",
       "      <th></th>\n",
       "      <th></th>\n",
       "      <th></th>\n",
       "      <th></th>\n",
       "      <th></th>\n",
       "      <th></th>\n",
       "      <th></th>\n",
       "      <th></th>\n",
       "      <th></th>\n",
       "      <th></th>\n",
       "      <th></th>\n",
       "      <th></th>\n",
       "      <th></th>\n",
       "      <th></th>\n",
       "      <th></th>\n",
       "      <th></th>\n",
       "      <th></th>\n",
       "      <th></th>\n",
       "      <th></th>\n",
       "    </tr>\n",
       "  </thead>\n",
       "  <tbody>\n",
       "    <tr>\n",
       "      <th>362094</th>\n",
       "      <td>44</td>\n",
       "      <td>2017090700</td>\n",
       "      <td>2017-09-07 00:00:00</td>\n",
       "      <td>15:00</td>\n",
       "      <td>900.0</td>\n",
       "      <td>1800.0</td>\n",
       "      <td>3600.0</td>\n",
       "      <td>Half1</td>\n",
       "      <td>0</td>\n",
       "      <td>1</td>\n",
       "      <td>NE</td>\n",
       "      <td>KC</td>\n",
       "      <td>NE</td>\n",
       "      <td>home</td>\n",
       "      <td>KC</td>\n",
       "      <td>KC</td>\n",
       "      <td>35.0</td>\n",
       "      <td>1</td>\n",
       "      <td>0</td>\n",
       "      <td>NaN</td>\n",
       "      <td>0.0</td>\n",
       "      <td>KC 35</td>\n",
       "      <td>0</td>\n",
       "      <td>73</td>\n",
       "      <td>C.Santos kicks 64 yards from KC 35 to NE 1. D....</td>\n",
       "      <td>kickoff</td>\n",
       "      <td>0.0</td>\n",
       "      <td>0</td>\n",
       "      <td>0.0</td>\n",
       "      <td>0.0</td>\n",
       "      <td>NaN</td>\n",
       "      <td>64.0</td>\n",
       "      <td>NaN</td>\n",
       "      <td>NaN</td>\n",
       "      <td>NaN</td>\n",
       "      <td>0</td>\n",
       "      <td>0</td>\n",
       "      <td>0.0</td>\n",
       "      <td>0.0</td>\n",
       "      <td>0.0</td>\n",
       "      <td>0.0</td>\n",
       "      <td>0.0</td>\n",
       "      <td>0.0</td>\n",
       "      <td>0.0</td>\n",
       "      <td>0.0</td>\n",
       "      <td>0.0</td>\n",
       "      <td>0.0</td>\n",
       "      <td>0.0</td>\n",
       "      <td>0.0</td>\n",
       "      <td>2017-09-07 20:30:00</td>\n",
       "      <td>0 days 00:00:00.000000000</td>\n",
       "      <td>2017-09-07 20:30:00</td>\n",
       "      <td>2017-09-07 20:30:00</td>\n",
       "      <td>2017-09-07 20:00:00</td>\n",
       "      <td>1011.3</td>\n",
       "      <td>Foxborough</td>\n",
       "      <td>13.8</td>\n",
       "      <td>FieldTurf CORE</td>\n",
       "      <td>65.0</td>\n",
       "      <td>0.0</td>\n",
       "      <td>Open</td>\n",
       "      <td>NE</td>\n",
       "      <td>20.6</td>\n",
       "      <td>2017-09-07 20:00:00</td>\n",
       "      <td>2017-09-08 00:00:00</td>\n",
       "      <td>210.0</td>\n",
       "      <td>22.3</td>\n",
       "      <td>0</td>\n",
       "      <td>KC @ NE 2017-09-07</td>\n",
       "      <td>0</td>\n",
       "      <td>0</td>\n",
       "      <td>0</td>\n",
       "      <td>0</td>\n",
       "      <td>0</td>\n",
       "      <td>0</td>\n",
       "      <td>0</td>\n",
       "      <td>0</td>\n",
       "      <td>0</td>\n",
       "      <td>0</td>\n",
       "      <td>0</td>\n",
       "      <td>0</td>\n",
       "      <td>0</td>\n",
       "      <td>0</td>\n",
       "      <td>0</td>\n",
       "      <td>0</td>\n",
       "      <td>0</td>\n",
       "      <td>0</td>\n",
       "      <td>A</td>\n",
       "      <td>0</td>\n",
       "      <td>0</td>\n",
       "      <td>0</td>\n",
       "      <td>0</td>\n",
       "      <td>H</td>\n",
       "      <td>0</td>\n",
       "      <td>0</td>\n",
       "      <td>0</td>\n",
       "      <td>0</td>\n",
       "      <td>0</td>\n",
       "      <td>0</td>\n",
       "      <td>0</td>\n",
       "      <td>0</td>\n",
       "      <td>0</td>\n",
       "      <td>0</td>\n",
       "      <td>0</td>\n",
       "      <td>2017</td>\n",
       "      <td>1</td>\n",
       "    </tr>\n",
       "    <tr>\n",
       "      <th>362095</th>\n",
       "      <td>68</td>\n",
       "      <td>2017090700</td>\n",
       "      <td>2017-09-07 00:00:00</td>\n",
       "      <td>14:55</td>\n",
       "      <td>895.0</td>\n",
       "      <td>1795.0</td>\n",
       "      <td>3595.0</td>\n",
       "      <td>Half1</td>\n",
       "      <td>0</td>\n",
       "      <td>1</td>\n",
       "      <td>NE</td>\n",
       "      <td>KC</td>\n",
       "      <td>NE</td>\n",
       "      <td>home</td>\n",
       "      <td>KC</td>\n",
       "      <td>NE</td>\n",
       "      <td>73.0</td>\n",
       "      <td>1</td>\n",
       "      <td>0</td>\n",
       "      <td>1.0</td>\n",
       "      <td>0.0</td>\n",
       "      <td>NE 27</td>\n",
       "      <td>10</td>\n",
       "      <td>0</td>\n",
       "      <td>(14:55) NE 12-Brady 18th season as Patriots QB...</td>\n",
       "      <td>pass</td>\n",
       "      <td>0.0</td>\n",
       "      <td>deep</td>\n",
       "      <td>27.0</td>\n",
       "      <td>0.0</td>\n",
       "      <td>NaN</td>\n",
       "      <td>NaN</td>\n",
       "      <td>NaN</td>\n",
       "      <td>NaN</td>\n",
       "      <td>NaN</td>\n",
       "      <td>0</td>\n",
       "      <td>0</td>\n",
       "      <td>0.0</td>\n",
       "      <td>0.0</td>\n",
       "      <td>0.0</td>\n",
       "      <td>0.0</td>\n",
       "      <td>0.0</td>\n",
       "      <td>0.0</td>\n",
       "      <td>0.0</td>\n",
       "      <td>0.0</td>\n",
       "      <td>0.0</td>\n",
       "      <td>0.0</td>\n",
       "      <td>0.0</td>\n",
       "      <td>0.0</td>\n",
       "      <td>2017-09-07 20:30:00</td>\n",
       "      <td>0 days 00:00:15.000000000</td>\n",
       "      <td>2017-09-07 20:30:15</td>\n",
       "      <td>2017-09-07 20:30:15</td>\n",
       "      <td>2017-09-07 21:00:00</td>\n",
       "      <td>1012.9</td>\n",
       "      <td>Foxborough</td>\n",
       "      <td>11.6</td>\n",
       "      <td>FieldTurf CORE</td>\n",
       "      <td>67.0</td>\n",
       "      <td>0.0</td>\n",
       "      <td>Open</td>\n",
       "      <td>NE</td>\n",
       "      <td>17.8</td>\n",
       "      <td>2017-09-07 21:00:00</td>\n",
       "      <td>2017-09-08 01:00:00</td>\n",
       "      <td>300.0</td>\n",
       "      <td>20.5</td>\n",
       "      <td>0</td>\n",
       "      <td>KC @ NE 2017-09-07</td>\n",
       "      <td>0</td>\n",
       "      <td>0</td>\n",
       "      <td>0</td>\n",
       "      <td>0</td>\n",
       "      <td>0</td>\n",
       "      <td>0</td>\n",
       "      <td>0</td>\n",
       "      <td>0</td>\n",
       "      <td>0</td>\n",
       "      <td>0</td>\n",
       "      <td>0</td>\n",
       "      <td>0</td>\n",
       "      <td>0</td>\n",
       "      <td>0</td>\n",
       "      <td>0</td>\n",
       "      <td>0</td>\n",
       "      <td>0</td>\n",
       "      <td>0</td>\n",
       "      <td>A</td>\n",
       "      <td>0</td>\n",
       "      <td>0</td>\n",
       "      <td>0</td>\n",
       "      <td>0</td>\n",
       "      <td>H</td>\n",
       "      <td>0</td>\n",
       "      <td>0</td>\n",
       "      <td>0</td>\n",
       "      <td>0</td>\n",
       "      <td>0</td>\n",
       "      <td>0</td>\n",
       "      <td>0</td>\n",
       "      <td>0</td>\n",
       "      <td>0</td>\n",
       "      <td>0</td>\n",
       "      <td>0</td>\n",
       "      <td>2017</td>\n",
       "      <td>1</td>\n",
       "    </tr>\n",
       "    <tr>\n",
       "      <th>362096</th>\n",
       "      <td>94</td>\n",
       "      <td>2017090700</td>\n",
       "      <td>2017-09-07 00:00:00</td>\n",
       "      <td>14:49</td>\n",
       "      <td>889.0</td>\n",
       "      <td>1789.0</td>\n",
       "      <td>3589.0</td>\n",
       "      <td>Half1</td>\n",
       "      <td>0</td>\n",
       "      <td>1</td>\n",
       "      <td>NE</td>\n",
       "      <td>KC</td>\n",
       "      <td>NE</td>\n",
       "      <td>home</td>\n",
       "      <td>KC</td>\n",
       "      <td>NE</td>\n",
       "      <td>73.0</td>\n",
       "      <td>1</td>\n",
       "      <td>0</td>\n",
       "      <td>2.0</td>\n",
       "      <td>0.0</td>\n",
       "      <td>NE 27</td>\n",
       "      <td>10</td>\n",
       "      <td>8</td>\n",
       "      <td>(14:49) T.Brady pass short right to R.Burkhead...</td>\n",
       "      <td>pass</td>\n",
       "      <td>8.0</td>\n",
       "      <td>short</td>\n",
       "      <td>1.0</td>\n",
       "      <td>7.0</td>\n",
       "      <td>NaN</td>\n",
       "      <td>NaN</td>\n",
       "      <td>NaN</td>\n",
       "      <td>NaN</td>\n",
       "      <td>NaN</td>\n",
       "      <td>0</td>\n",
       "      <td>0</td>\n",
       "      <td>0.0</td>\n",
       "      <td>0.0</td>\n",
       "      <td>0.0</td>\n",
       "      <td>0.0</td>\n",
       "      <td>0.0</td>\n",
       "      <td>0.0</td>\n",
       "      <td>0.0</td>\n",
       "      <td>0.0</td>\n",
       "      <td>0.0</td>\n",
       "      <td>0.0</td>\n",
       "      <td>0.0</td>\n",
       "      <td>1.0</td>\n",
       "      <td>2017-09-07 20:30:00</td>\n",
       "      <td>0 days 00:00:33.000000000</td>\n",
       "      <td>2017-09-07 20:30:33</td>\n",
       "      <td>2017-09-07 20:30:33</td>\n",
       "      <td>2017-09-07 21:00:00</td>\n",
       "      <td>1012.9</td>\n",
       "      <td>Foxborough</td>\n",
       "      <td>11.6</td>\n",
       "      <td>FieldTurf CORE</td>\n",
       "      <td>67.0</td>\n",
       "      <td>0.0</td>\n",
       "      <td>Open</td>\n",
       "      <td>NE</td>\n",
       "      <td>17.8</td>\n",
       "      <td>2017-09-07 21:00:00</td>\n",
       "      <td>2017-09-08 01:00:00</td>\n",
       "      <td>300.0</td>\n",
       "      <td>20.5</td>\n",
       "      <td>0</td>\n",
       "      <td>KC @ NE 2017-09-07</td>\n",
       "      <td>0</td>\n",
       "      <td>0</td>\n",
       "      <td>0</td>\n",
       "      <td>0</td>\n",
       "      <td>0</td>\n",
       "      <td>0</td>\n",
       "      <td>0</td>\n",
       "      <td>0</td>\n",
       "      <td>0</td>\n",
       "      <td>0</td>\n",
       "      <td>0</td>\n",
       "      <td>0</td>\n",
       "      <td>0</td>\n",
       "      <td>0</td>\n",
       "      <td>0</td>\n",
       "      <td>0</td>\n",
       "      <td>0</td>\n",
       "      <td>0</td>\n",
       "      <td>A</td>\n",
       "      <td>0</td>\n",
       "      <td>0</td>\n",
       "      <td>0</td>\n",
       "      <td>0</td>\n",
       "      <td>H</td>\n",
       "      <td>0</td>\n",
       "      <td>0</td>\n",
       "      <td>0</td>\n",
       "      <td>0</td>\n",
       "      <td>0</td>\n",
       "      <td>0</td>\n",
       "      <td>0</td>\n",
       "      <td>0</td>\n",
       "      <td>0</td>\n",
       "      <td>0</td>\n",
       "      <td>0</td>\n",
       "      <td>2017</td>\n",
       "      <td>1</td>\n",
       "    </tr>\n",
       "    <tr>\n",
       "      <th>362097</th>\n",
       "      <td>118</td>\n",
       "      <td>2017090700</td>\n",
       "      <td>2017-09-07 00:00:00</td>\n",
       "      <td>14:14</td>\n",
       "      <td>854.0</td>\n",
       "      <td>1754.0</td>\n",
       "      <td>3554.0</td>\n",
       "      <td>Half1</td>\n",
       "      <td>0</td>\n",
       "      <td>1</td>\n",
       "      <td>NE</td>\n",
       "      <td>KC</td>\n",
       "      <td>NE</td>\n",
       "      <td>home</td>\n",
       "      <td>KC</td>\n",
       "      <td>NE</td>\n",
       "      <td>65.0</td>\n",
       "      <td>1</td>\n",
       "      <td>0</td>\n",
       "      <td>3.0</td>\n",
       "      <td>0.0</td>\n",
       "      <td>NE 35</td>\n",
       "      <td>2</td>\n",
       "      <td>73</td>\n",
       "      <td>(14:14) (Shotgun) J.White left guard to NE 43 ...</td>\n",
       "      <td>run</td>\n",
       "      <td>8.0</td>\n",
       "      <td>0</td>\n",
       "      <td>0.0</td>\n",
       "      <td>0.0</td>\n",
       "      <td>NaN</td>\n",
       "      <td>NaN</td>\n",
       "      <td>NaN</td>\n",
       "      <td>NaN</td>\n",
       "      <td>NaN</td>\n",
       "      <td>0</td>\n",
       "      <td>0</td>\n",
       "      <td>0.0</td>\n",
       "      <td>0.0</td>\n",
       "      <td>0.0</td>\n",
       "      <td>0.0</td>\n",
       "      <td>0.0</td>\n",
       "      <td>0.0</td>\n",
       "      <td>0.0</td>\n",
       "      <td>0.0</td>\n",
       "      <td>0.0</td>\n",
       "      <td>0.0</td>\n",
       "      <td>0.0</td>\n",
       "      <td>0.0</td>\n",
       "      <td>2017-09-07 20:30:00</td>\n",
       "      <td>0 days 00:02:18.000000000</td>\n",
       "      <td>2017-09-07 20:32:18</td>\n",
       "      <td>2017-09-07 20:32:18</td>\n",
       "      <td>2017-09-07 21:00:00</td>\n",
       "      <td>1012.9</td>\n",
       "      <td>Foxborough</td>\n",
       "      <td>11.6</td>\n",
       "      <td>FieldTurf CORE</td>\n",
       "      <td>67.0</td>\n",
       "      <td>0.0</td>\n",
       "      <td>Open</td>\n",
       "      <td>NE</td>\n",
       "      <td>17.8</td>\n",
       "      <td>2017-09-07 21:00:00</td>\n",
       "      <td>2017-09-08 01:00:00</td>\n",
       "      <td>300.0</td>\n",
       "      <td>20.5</td>\n",
       "      <td>0</td>\n",
       "      <td>KC @ NE 2017-09-07</td>\n",
       "      <td>0</td>\n",
       "      <td>0</td>\n",
       "      <td>0</td>\n",
       "      <td>0</td>\n",
       "      <td>0</td>\n",
       "      <td>0</td>\n",
       "      <td>0</td>\n",
       "      <td>0</td>\n",
       "      <td>0</td>\n",
       "      <td>0</td>\n",
       "      <td>0</td>\n",
       "      <td>0</td>\n",
       "      <td>0</td>\n",
       "      <td>0</td>\n",
       "      <td>0</td>\n",
       "      <td>0</td>\n",
       "      <td>0</td>\n",
       "      <td>0</td>\n",
       "      <td>A</td>\n",
       "      <td>0</td>\n",
       "      <td>0</td>\n",
       "      <td>0</td>\n",
       "      <td>0</td>\n",
       "      <td>H</td>\n",
       "      <td>0</td>\n",
       "      <td>0</td>\n",
       "      <td>0</td>\n",
       "      <td>0</td>\n",
       "      <td>0</td>\n",
       "      <td>0</td>\n",
       "      <td>0</td>\n",
       "      <td>0</td>\n",
       "      <td>0</td>\n",
       "      <td>0</td>\n",
       "      <td>0</td>\n",
       "      <td>2017</td>\n",
       "      <td>1</td>\n",
       "    </tr>\n",
       "    <tr>\n",
       "      <th>362098</th>\n",
       "      <td>139</td>\n",
       "      <td>2017090700</td>\n",
       "      <td>2017-09-07 00:00:00</td>\n",
       "      <td>13:52</td>\n",
       "      <td>832.0</td>\n",
       "      <td>1732.0</td>\n",
       "      <td>3532.0</td>\n",
       "      <td>Half1</td>\n",
       "      <td>0</td>\n",
       "      <td>1</td>\n",
       "      <td>NE</td>\n",
       "      <td>KC</td>\n",
       "      <td>NE</td>\n",
       "      <td>home</td>\n",
       "      <td>KC</td>\n",
       "      <td>NE</td>\n",
       "      <td>57.0</td>\n",
       "      <td>1</td>\n",
       "      <td>0</td>\n",
       "      <td>1.0</td>\n",
       "      <td>0.0</td>\n",
       "      <td>NE 43</td>\n",
       "      <td>10</td>\n",
       "      <td>19</td>\n",
       "      <td>(13:52) (No Huddle, Shotgun) J.White up the mi...</td>\n",
       "      <td>run</td>\n",
       "      <td>3.0</td>\n",
       "      <td>0</td>\n",
       "      <td>0.0</td>\n",
       "      <td>0.0</td>\n",
       "      <td>NaN</td>\n",
       "      <td>NaN</td>\n",
       "      <td>NaN</td>\n",
       "      <td>NaN</td>\n",
       "      <td>NaN</td>\n",
       "      <td>0</td>\n",
       "      <td>0</td>\n",
       "      <td>0.0</td>\n",
       "      <td>0.0</td>\n",
       "      <td>0.0</td>\n",
       "      <td>0.0</td>\n",
       "      <td>0.0</td>\n",
       "      <td>0.0</td>\n",
       "      <td>0.0</td>\n",
       "      <td>0.0</td>\n",
       "      <td>0.0</td>\n",
       "      <td>0.0</td>\n",
       "      <td>0.0</td>\n",
       "      <td>0.0</td>\n",
       "      <td>2017-09-07 20:30:00</td>\n",
       "      <td>0 days 00:03:24.000000000</td>\n",
       "      <td>2017-09-07 20:33:24</td>\n",
       "      <td>2017-09-07 20:33:24</td>\n",
       "      <td>2017-09-07 21:00:00</td>\n",
       "      <td>1012.9</td>\n",
       "      <td>Foxborough</td>\n",
       "      <td>11.6</td>\n",
       "      <td>FieldTurf CORE</td>\n",
       "      <td>67.0</td>\n",
       "      <td>0.0</td>\n",
       "      <td>Open</td>\n",
       "      <td>NE</td>\n",
       "      <td>17.8</td>\n",
       "      <td>2017-09-07 21:00:00</td>\n",
       "      <td>2017-09-08 01:00:00</td>\n",
       "      <td>300.0</td>\n",
       "      <td>20.5</td>\n",
       "      <td>0</td>\n",
       "      <td>KC @ NE 2017-09-07</td>\n",
       "      <td>0</td>\n",
       "      <td>0</td>\n",
       "      <td>0</td>\n",
       "      <td>0</td>\n",
       "      <td>0</td>\n",
       "      <td>0</td>\n",
       "      <td>0</td>\n",
       "      <td>0</td>\n",
       "      <td>0</td>\n",
       "      <td>0</td>\n",
       "      <td>0</td>\n",
       "      <td>0</td>\n",
       "      <td>0</td>\n",
       "      <td>0</td>\n",
       "      <td>0</td>\n",
       "      <td>0</td>\n",
       "      <td>0</td>\n",
       "      <td>0</td>\n",
       "      <td>A</td>\n",
       "      <td>0</td>\n",
       "      <td>0</td>\n",
       "      <td>0</td>\n",
       "      <td>0</td>\n",
       "      <td>H</td>\n",
       "      <td>0</td>\n",
       "      <td>0</td>\n",
       "      <td>0</td>\n",
       "      <td>0</td>\n",
       "      <td>0</td>\n",
       "      <td>0</td>\n",
       "      <td>0</td>\n",
       "      <td>0</td>\n",
       "      <td>0</td>\n",
       "      <td>0</td>\n",
       "      <td>0</td>\n",
       "      <td>2017</td>\n",
       "      <td>1</td>\n",
       "    </tr>\n",
       "  </tbody>\n",
       "</table>\n",
       "</div>"
      ],
      "text/plain": [
       "        play_id     game_id            game_date   time  \\\n",
       "index                                                     \n",
       "362094       44  2017090700  2017-09-07 00:00:00  15:00   \n",
       "362095       68  2017090700  2017-09-07 00:00:00  14:55   \n",
       "362096       94  2017090700  2017-09-07 00:00:00  14:49   \n",
       "362097      118  2017090700  2017-09-07 00:00:00  14:14   \n",
       "362098      139  2017090700  2017-09-07 00:00:00  13:52   \n",
       "\n",
       "        quarter_seconds_remaining  half_seconds_remaining  \\\n",
       "index                                                       \n",
       "362094                      900.0                  1800.0   \n",
       "362095                      895.0                  1795.0   \n",
       "362096                      889.0                  1789.0   \n",
       "362097                      854.0                  1754.0   \n",
       "362098                      832.0                  1732.0   \n",
       "\n",
       "        game_seconds_remaining game_half  quarter_end  qtr home_team  \\\n",
       "index                                                                  \n",
       "362094                  3600.0     Half1            0    1        NE   \n",
       "362095                  3595.0     Half1            0    1        NE   \n",
       "362096                  3589.0     Half1            0    1        NE   \n",
       "362097                  3554.0     Half1            0    1        NE   \n",
       "362098                  3532.0     Half1            0    1        NE   \n",
       "\n",
       "       away_team posteam posteam_type defteam side_of_field  yardline_100  \\\n",
       "index                                                                       \n",
       "362094        KC      NE         home      KC            KC          35.0   \n",
       "362095        KC      NE         home      KC            NE          73.0   \n",
       "362096        KC      NE         home      KC            NE          73.0   \n",
       "362097        KC      NE         home      KC            NE          65.0   \n",
       "362098        KC      NE         home      KC            NE          57.0   \n",
       "\n",
       "        drive  sp  down  goal_to_go  yrdln  ydstogo  ydsnet  \\\n",
       "index                                                         \n",
       "362094      1   0   NaN         0.0  KC 35        0      73   \n",
       "362095      1   0   1.0         0.0  NE 27       10       0   \n",
       "362096      1   0   2.0         0.0  NE 27       10       8   \n",
       "362097      1   0   3.0         0.0  NE 35        2      73   \n",
       "362098      1   0   1.0         0.0  NE 43       10      19   \n",
       "\n",
       "                                                     desc play_type  \\\n",
       "index                                                                 \n",
       "362094  C.Santos kicks 64 yards from KC 35 to NE 1. D....   kickoff   \n",
       "362095  (14:55) NE 12-Brady 18th season as Patriots QB...      pass   \n",
       "362096  (14:49) T.Brady pass short right to R.Burkhead...      pass   \n",
       "362097  (14:14) (Shotgun) J.White left guard to NE 43 ...       run   \n",
       "362098  (13:52) (No Huddle, Shotgun) J.White up the mi...       run   \n",
       "\n",
       "        yards_gained pass_length  air_yards  yards_after_catch  \\\n",
       "index                                                            \n",
       "362094           0.0           0        0.0                0.0   \n",
       "362095           0.0        deep       27.0                0.0   \n",
       "362096           8.0       short        1.0                7.0   \n",
       "362097           8.0           0        0.0                0.0   \n",
       "362098           3.0           0        0.0                0.0   \n",
       "\n",
       "       field_goal_result  kick_distance extra_point_result  \\\n",
       "index                                                        \n",
       "362094               NaN           64.0                NaN   \n",
       "362095               NaN            NaN                NaN   \n",
       "362096               NaN            NaN                NaN   \n",
       "362097               NaN            NaN                NaN   \n",
       "362098               NaN            NaN                NaN   \n",
       "\n",
       "       two_point_conv_result td_team  total_home_score  total_away_score  \\\n",
       "index                                                                      \n",
       "362094                   NaN     NaN                 0                 0   \n",
       "362095                   NaN     NaN                 0                 0   \n",
       "362096                   NaN     NaN                 0                 0   \n",
       "362097                   NaN     NaN                 0                 0   \n",
       "362098                   NaN     NaN                 0                 0   \n",
       "\n",
       "        posteam_score  defteam_score  sack  touchdown  pass_touchdown  \\\n",
       "index                                                                   \n",
       "362094            0.0            0.0   0.0        0.0             0.0   \n",
       "362095            0.0            0.0   0.0        0.0             0.0   \n",
       "362096            0.0            0.0   0.0        0.0             0.0   \n",
       "362097            0.0            0.0   0.0        0.0             0.0   \n",
       "362098            0.0            0.0   0.0        0.0             0.0   \n",
       "\n",
       "        rush_touchdown  return_touchdown  extra_point_attempt  \\\n",
       "index                                                           \n",
       "362094             0.0               0.0                  0.0   \n",
       "362095             0.0               0.0                  0.0   \n",
       "362096             0.0               0.0                  0.0   \n",
       "362097             0.0               0.0                  0.0   \n",
       "362098             0.0               0.0                  0.0   \n",
       "\n",
       "        two_point_attempt  field_goal_attempt  fumble  complete_pass  \\\n",
       "index                                                                  \n",
       "362094                0.0                 0.0     0.0            0.0   \n",
       "362095                0.0                 0.0     0.0            0.0   \n",
       "362096                0.0                 0.0     0.0            1.0   \n",
       "362097                0.0                 0.0     0.0            0.0   \n",
       "362098                0.0                 0.0     0.0            0.0   \n",
       "\n",
       "                 Start_Time                       diff       Estimated_Time  \\\n",
       "index                                                                         \n",
       "362094  2017-09-07 20:30:00  0 days 00:00:00.000000000  2017-09-07 20:30:00   \n",
       "362095  2017-09-07 20:30:00  0 days 00:00:15.000000000  2017-09-07 20:30:15   \n",
       "362096  2017-09-07 20:30:00  0 days 00:00:33.000000000  2017-09-07 20:30:33   \n",
       "362097  2017-09-07 20:30:00  0 days 00:02:18.000000000  2017-09-07 20:32:18   \n",
       "362098  2017-09-07 20:30:00  0 days 00:03:24.000000000  2017-09-07 20:33:24   \n",
       "\n",
       "       Estimated Time (EST)      Estimated_Hour  Air Pressure (hPa)  \\\n",
       "index                                                                 \n",
       "362094  2017-09-07 20:30:00 2017-09-07 20:00:00              1011.3   \n",
       "362095  2017-09-07 20:30:15 2017-09-07 21:00:00              1012.9   \n",
       "362096  2017-09-07 20:30:33 2017-09-07 21:00:00              1012.9   \n",
       "362097  2017-09-07 20:32:18 2017-09-07 21:00:00              1012.9   \n",
       "362098  2017-09-07 20:33:24 2017-09-07 21:00:00              1012.9   \n",
       "\n",
       "              City  Dewpoint (°C)           Field  Humidity (%)  \\\n",
       "index                                                             \n",
       "362094  Foxborough           13.8  FieldTurf CORE          65.0   \n",
       "362095  Foxborough           11.6  FieldTurf CORE          67.0   \n",
       "362096  Foxborough           11.6  FieldTurf CORE          67.0   \n",
       "362097  Foxborough           11.6  FieldTurf CORE          67.0   \n",
       "362098  Foxborough           11.6  FieldTurf CORE          67.0   \n",
       "\n",
       "        Precipitation (mm)  Roof Team Abbreviation  Temperature (°C)  \\\n",
       "index                                                                  \n",
       "362094                 0.0  Open                NE              20.6   \n",
       "362095                 0.0  Open                NE              17.8   \n",
       "362096                 0.0  Open                NE              17.8   \n",
       "362097                 0.0  Open                NE              17.8   \n",
       "362098                 0.0  Open                NE              17.8   \n",
       "\n",
       "                Time (EST)          Time (GMT)  Wind Direction (deg)  \\\n",
       "index                                                                  \n",
       "362094 2017-09-07 20:00:00 2017-09-08 00:00:00                 210.0   \n",
       "362095 2017-09-07 21:00:00 2017-09-08 01:00:00                 300.0   \n",
       "362096 2017-09-07 21:00:00 2017-09-08 01:00:00                 300.0   \n",
       "362097 2017-09-07 21:00:00 2017-09-08 01:00:00                 300.0   \n",
       "362098 2017-09-07 21:00:00 2017-09-08 01:00:00                 300.0   \n",
       "\n",
       "        Wind Speed (km/h)  added_time           game_name  end_of_drive  \\\n",
       "index                                                                     \n",
       "362094               22.3           0  KC @ NE 2017-09-07             0   \n",
       "362095               20.5           0  KC @ NE 2017-09-07             0   \n",
       "362096               20.5           0  KC @ NE 2017-09-07             0   \n",
       "362097               20.5           0  KC @ NE 2017-09-07             0   \n",
       "362098               20.5           0  KC @ NE 2017-09-07             0   \n",
       "\n",
       "        end_of_game  INT ARI ATL BAL BUF CAR CHI CIN CLE DAL DEN DET GB HOU  \\\n",
       "index                                                                         \n",
       "362094            0    0   0   0   0   0   0   0   0   0   0   0   0  0   0   \n",
       "362095            0    0   0   0   0   0   0   0   0   0   0   0   0  0   0   \n",
       "362096            0    0   0   0   0   0   0   0   0   0   0   0   0  0   0   \n",
       "362097            0    0   0   0   0   0   0   0   0   0   0   0   0  0   0   \n",
       "362098            0    0   0   0   0   0   0   0   0   0   0   0   0  0   0   \n",
       "\n",
       "       IND JAX KC LA LAC MIA MIN NE NO NYG NYJ OAK PHI PIT SEA SF TB TEN WAS  \\\n",
       "index                                                                          \n",
       "362094   0   0  A  0   0   0   0  H  0   0   0   0   0   0   0  0  0   0   0   \n",
       "362095   0   0  A  0   0   0   0  H  0   0   0   0   0   0   0  0  0   0   0   \n",
       "362096   0   0  A  0   0   0   0  H  0   0   0   0   0   0   0  0  0   0   0   \n",
       "362097   0   0  A  0   0   0   0  H  0   0   0   0   0   0   0  0  0   0   0   \n",
       "362098   0   0  A  0   0   0   0  H  0   0   0   0   0   0   0  0  0   0   0   \n",
       "\n",
       "        year  week  \n",
       "index               \n",
       "362094  2017     1  \n",
       "362095  2017     1  \n",
       "362096  2017     1  \n",
       "362097  2017     1  \n",
       "362098  2017     1  "
      ]
     },
     "execution_count": 221,
     "metadata": {},
     "output_type": "execute_result"
    }
   ],
   "source": [
    "kc_ne_game.head(5)"
   ]
  },
  {
   "cell_type": "code",
   "execution_count": 222,
   "metadata": {},
   "outputs": [
    {
     "data": {
      "text/plain": [
       "(195, 106)"
      ]
     },
     "execution_count": 222,
     "metadata": {},
     "output_type": "execute_result"
    }
   ],
   "source": [
    "kc_ne_game.shape"
   ]
  },
  {
   "cell_type": "code",
   "execution_count": 223,
   "metadata": {},
   "outputs": [
    {
     "ename": "KeyError",
     "evalue": "1",
     "output_type": "error",
     "traceback": [
      "\u001b[1;31m---------------------------------------------------------------------------\u001b[0m",
      "\u001b[1;31mKeyError\u001b[0m                                  Traceback (most recent call last)",
      "\u001b[1;32m~\\Anaconda3\\lib\\site-packages\\pandas\\core\\indexes\\base.py\u001b[0m in \u001b[0;36mget_loc\u001b[1;34m(self, key, method, tolerance)\u001b[0m\n\u001b[0;32m   2896\u001b[0m             \u001b[1;32mtry\u001b[0m\u001b[1;33m:\u001b[0m\u001b[1;33m\u001b[0m\u001b[1;33m\u001b[0m\u001b[0m\n\u001b[1;32m-> 2897\u001b[1;33m                 \u001b[1;32mreturn\u001b[0m \u001b[0mself\u001b[0m\u001b[1;33m.\u001b[0m\u001b[0m_engine\u001b[0m\u001b[1;33m.\u001b[0m\u001b[0mget_loc\u001b[0m\u001b[1;33m(\u001b[0m\u001b[0mkey\u001b[0m\u001b[1;33m)\u001b[0m\u001b[1;33m\u001b[0m\u001b[1;33m\u001b[0m\u001b[0m\n\u001b[0m\u001b[0;32m   2898\u001b[0m             \u001b[1;32mexcept\u001b[0m \u001b[0mKeyError\u001b[0m\u001b[1;33m:\u001b[0m\u001b[1;33m\u001b[0m\u001b[1;33m\u001b[0m\u001b[0m\n",
      "\u001b[1;32mpandas/_libs/index.pyx\u001b[0m in \u001b[0;36mpandas._libs.index.IndexEngine.get_loc\u001b[1;34m()\u001b[0m\n",
      "\u001b[1;32mpandas/_libs/index.pyx\u001b[0m in \u001b[0;36mpandas._libs.index.IndexEngine.get_loc\u001b[1;34m()\u001b[0m\n",
      "\u001b[1;32mpandas/_libs/hashtable_class_helper.pxi\u001b[0m in \u001b[0;36mpandas._libs.hashtable.Int64HashTable.get_item\u001b[1;34m()\u001b[0m\n",
      "\u001b[1;32mpandas/_libs/hashtable_class_helper.pxi\u001b[0m in \u001b[0;36mpandas._libs.hashtable.Int64HashTable.get_item\u001b[1;34m()\u001b[0m\n",
      "\u001b[1;31mKeyError\u001b[0m: 1",
      "\nDuring handling of the above exception, another exception occurred:\n",
      "\u001b[1;31mKeyError\u001b[0m                                  Traceback (most recent call last)",
      "\u001b[1;32m<ipython-input-223-f7a01d56f99c>\u001b[0m in \u001b[0;36m<module>\u001b[1;34m\u001b[0m\n\u001b[0;32m      2\u001b[0m \u001b[1;33m\u001b[0m\u001b[0m\n\u001b[0;32m      3\u001b[0m \u001b[1;32mfor\u001b[0m \u001b[0mi\u001b[0m \u001b[1;32min\u001b[0m \u001b[0mrange\u001b[0m\u001b[1;33m(\u001b[0m\u001b[1;36m0\u001b[0m\u001b[1;33m,\u001b[0m \u001b[0mlen\u001b[0m\u001b[1;33m(\u001b[0m\u001b[0mkc_ne_game\u001b[0m\u001b[1;33m)\u001b[0m\u001b[1;33m-\u001b[0m\u001b[1;36m1\u001b[0m\u001b[1;33m)\u001b[0m\u001b[1;33m:\u001b[0m\u001b[1;33m\u001b[0m\u001b[1;33m\u001b[0m\u001b[0m\n\u001b[1;32m----> 4\u001b[1;33m     \u001b[0mkc_ne_game\u001b[0m\u001b[1;33m.\u001b[0m\u001b[0mloc\u001b[0m\u001b[1;33m[\u001b[0m\u001b[0mi\u001b[0m\u001b[1;33m,\u001b[0m\u001b[1;34m'end_of_drive'\u001b[0m\u001b[1;33m]\u001b[0m \u001b[1;33m=\u001b[0m \u001b[0mkc_ne_game\u001b[0m\u001b[1;33m.\u001b[0m\u001b[0mloc\u001b[0m\u001b[1;33m[\u001b[0m\u001b[0mi\u001b[0m\u001b[1;33m+\u001b[0m\u001b[1;36m1\u001b[0m\u001b[1;33m,\u001b[0m\u001b[1;34m'drive'\u001b[0m\u001b[1;33m]\u001b[0m \u001b[1;33m-\u001b[0m \u001b[0mkc_ne_game\u001b[0m\u001b[1;33m.\u001b[0m\u001b[0mloc\u001b[0m\u001b[1;33m[\u001b[0m\u001b[0mi\u001b[0m\u001b[1;33m,\u001b[0m\u001b[1;34m'drive'\u001b[0m\u001b[1;33m]\u001b[0m\u001b[1;33m\u001b[0m\u001b[1;33m\u001b[0m\u001b[0m\n\u001b[0m\u001b[0;32m      5\u001b[0m \u001b[1;33m\u001b[0m\u001b[0m\n\u001b[0;32m      6\u001b[0m \u001b[1;31m# Adding one more for last drive of game\u001b[0m\u001b[1;33m\u001b[0m\u001b[1;33m\u001b[0m\u001b[1;33m\u001b[0m\u001b[0m\n",
      "\u001b[1;32m~\\Anaconda3\\lib\\site-packages\\pandas\\core\\indexing.py\u001b[0m in \u001b[0;36m__getitem__\u001b[1;34m(self, key)\u001b[0m\n\u001b[0;32m   1416\u001b[0m                 \u001b[1;32mexcept\u001b[0m \u001b[1;33m(\u001b[0m\u001b[0mKeyError\u001b[0m\u001b[1;33m,\u001b[0m \u001b[0mIndexError\u001b[0m\u001b[1;33m,\u001b[0m \u001b[0mAttributeError\u001b[0m\u001b[1;33m)\u001b[0m\u001b[1;33m:\u001b[0m\u001b[1;33m\u001b[0m\u001b[1;33m\u001b[0m\u001b[0m\n\u001b[0;32m   1417\u001b[0m                     \u001b[1;32mpass\u001b[0m\u001b[1;33m\u001b[0m\u001b[1;33m\u001b[0m\u001b[0m\n\u001b[1;32m-> 1418\u001b[1;33m             \u001b[1;32mreturn\u001b[0m \u001b[0mself\u001b[0m\u001b[1;33m.\u001b[0m\u001b[0m_getitem_tuple\u001b[0m\u001b[1;33m(\u001b[0m\u001b[0mkey\u001b[0m\u001b[1;33m)\u001b[0m\u001b[1;33m\u001b[0m\u001b[1;33m\u001b[0m\u001b[0m\n\u001b[0m\u001b[0;32m   1419\u001b[0m         \u001b[1;32melse\u001b[0m\u001b[1;33m:\u001b[0m\u001b[1;33m\u001b[0m\u001b[1;33m\u001b[0m\u001b[0m\n\u001b[0;32m   1420\u001b[0m             \u001b[1;31m# we by definition only have the 0th axis\u001b[0m\u001b[1;33m\u001b[0m\u001b[1;33m\u001b[0m\u001b[1;33m\u001b[0m\u001b[0m\n",
      "\u001b[1;32m~\\Anaconda3\\lib\\site-packages\\pandas\\core\\indexing.py\u001b[0m in \u001b[0;36m_getitem_tuple\u001b[1;34m(self, tup)\u001b[0m\n\u001b[0;32m    803\u001b[0m     \u001b[1;32mdef\u001b[0m \u001b[0m_getitem_tuple\u001b[0m\u001b[1;33m(\u001b[0m\u001b[0mself\u001b[0m\u001b[1;33m,\u001b[0m \u001b[0mtup\u001b[0m\u001b[1;33m)\u001b[0m\u001b[1;33m:\u001b[0m\u001b[1;33m\u001b[0m\u001b[1;33m\u001b[0m\u001b[0m\n\u001b[0;32m    804\u001b[0m         \u001b[1;32mtry\u001b[0m\u001b[1;33m:\u001b[0m\u001b[1;33m\u001b[0m\u001b[1;33m\u001b[0m\u001b[0m\n\u001b[1;32m--> 805\u001b[1;33m             \u001b[1;32mreturn\u001b[0m \u001b[0mself\u001b[0m\u001b[1;33m.\u001b[0m\u001b[0m_getitem_lowerdim\u001b[0m\u001b[1;33m(\u001b[0m\u001b[0mtup\u001b[0m\u001b[1;33m)\u001b[0m\u001b[1;33m\u001b[0m\u001b[1;33m\u001b[0m\u001b[0m\n\u001b[0m\u001b[0;32m    806\u001b[0m         \u001b[1;32mexcept\u001b[0m \u001b[0mIndexingError\u001b[0m\u001b[1;33m:\u001b[0m\u001b[1;33m\u001b[0m\u001b[1;33m\u001b[0m\u001b[0m\n\u001b[0;32m    807\u001b[0m             \u001b[1;32mpass\u001b[0m\u001b[1;33m\u001b[0m\u001b[1;33m\u001b[0m\u001b[0m\n",
      "\u001b[1;32m~\\Anaconda3\\lib\\site-packages\\pandas\\core\\indexing.py\u001b[0m in \u001b[0;36m_getitem_lowerdim\u001b[1;34m(self, tup)\u001b[0m\n\u001b[0;32m    927\u001b[0m         \u001b[1;32mfor\u001b[0m \u001b[0mi\u001b[0m\u001b[1;33m,\u001b[0m \u001b[0mkey\u001b[0m \u001b[1;32min\u001b[0m \u001b[0menumerate\u001b[0m\u001b[1;33m(\u001b[0m\u001b[0mtup\u001b[0m\u001b[1;33m)\u001b[0m\u001b[1;33m:\u001b[0m\u001b[1;33m\u001b[0m\u001b[1;33m\u001b[0m\u001b[0m\n\u001b[0;32m    928\u001b[0m             \u001b[1;32mif\u001b[0m \u001b[0mis_label_like\u001b[0m\u001b[1;33m(\u001b[0m\u001b[0mkey\u001b[0m\u001b[1;33m)\u001b[0m \u001b[1;32mor\u001b[0m \u001b[0misinstance\u001b[0m\u001b[1;33m(\u001b[0m\u001b[0mkey\u001b[0m\u001b[1;33m,\u001b[0m \u001b[0mtuple\u001b[0m\u001b[1;33m)\u001b[0m\u001b[1;33m:\u001b[0m\u001b[1;33m\u001b[0m\u001b[1;33m\u001b[0m\u001b[0m\n\u001b[1;32m--> 929\u001b[1;33m                 \u001b[0msection\u001b[0m \u001b[1;33m=\u001b[0m \u001b[0mself\u001b[0m\u001b[1;33m.\u001b[0m\u001b[0m_getitem_axis\u001b[0m\u001b[1;33m(\u001b[0m\u001b[0mkey\u001b[0m\u001b[1;33m,\u001b[0m \u001b[0maxis\u001b[0m\u001b[1;33m=\u001b[0m\u001b[0mi\u001b[0m\u001b[1;33m)\u001b[0m\u001b[1;33m\u001b[0m\u001b[1;33m\u001b[0m\u001b[0m\n\u001b[0m\u001b[0;32m    930\u001b[0m \u001b[1;33m\u001b[0m\u001b[0m\n\u001b[0;32m    931\u001b[0m                 \u001b[1;31m# we have yielded a scalar ?\u001b[0m\u001b[1;33m\u001b[0m\u001b[1;33m\u001b[0m\u001b[1;33m\u001b[0m\u001b[0m\n",
      "\u001b[1;32m~\\Anaconda3\\lib\\site-packages\\pandas\\core\\indexing.py\u001b[0m in \u001b[0;36m_getitem_axis\u001b[1;34m(self, key, axis)\u001b[0m\n\u001b[0;32m   1848\u001b[0m         \u001b[1;31m# fall thru to straight lookup\u001b[0m\u001b[1;33m\u001b[0m\u001b[1;33m\u001b[0m\u001b[1;33m\u001b[0m\u001b[0m\n\u001b[0;32m   1849\u001b[0m         \u001b[0mself\u001b[0m\u001b[1;33m.\u001b[0m\u001b[0m_validate_key\u001b[0m\u001b[1;33m(\u001b[0m\u001b[0mkey\u001b[0m\u001b[1;33m,\u001b[0m \u001b[0maxis\u001b[0m\u001b[1;33m)\u001b[0m\u001b[1;33m\u001b[0m\u001b[1;33m\u001b[0m\u001b[0m\n\u001b[1;32m-> 1850\u001b[1;33m         \u001b[1;32mreturn\u001b[0m \u001b[0mself\u001b[0m\u001b[1;33m.\u001b[0m\u001b[0m_get_label\u001b[0m\u001b[1;33m(\u001b[0m\u001b[0mkey\u001b[0m\u001b[1;33m,\u001b[0m \u001b[0maxis\u001b[0m\u001b[1;33m=\u001b[0m\u001b[0maxis\u001b[0m\u001b[1;33m)\u001b[0m\u001b[1;33m\u001b[0m\u001b[1;33m\u001b[0m\u001b[0m\n\u001b[0m\u001b[0;32m   1851\u001b[0m \u001b[1;33m\u001b[0m\u001b[0m\n\u001b[0;32m   1852\u001b[0m \u001b[1;33m\u001b[0m\u001b[0m\n",
      "\u001b[1;32m~\\Anaconda3\\lib\\site-packages\\pandas\\core\\indexing.py\u001b[0m in \u001b[0;36m_get_label\u001b[1;34m(self, label, axis)\u001b[0m\n\u001b[0;32m    158\u001b[0m             \u001b[1;32mraise\u001b[0m \u001b[0mIndexingError\u001b[0m\u001b[1;33m(\u001b[0m\u001b[1;34m\"no slices here, handle elsewhere\"\u001b[0m\u001b[1;33m)\u001b[0m\u001b[1;33m\u001b[0m\u001b[1;33m\u001b[0m\u001b[0m\n\u001b[0;32m    159\u001b[0m \u001b[1;33m\u001b[0m\u001b[0m\n\u001b[1;32m--> 160\u001b[1;33m         \u001b[1;32mreturn\u001b[0m \u001b[0mself\u001b[0m\u001b[1;33m.\u001b[0m\u001b[0mobj\u001b[0m\u001b[1;33m.\u001b[0m\u001b[0m_xs\u001b[0m\u001b[1;33m(\u001b[0m\u001b[0mlabel\u001b[0m\u001b[1;33m,\u001b[0m \u001b[0maxis\u001b[0m\u001b[1;33m=\u001b[0m\u001b[0maxis\u001b[0m\u001b[1;33m)\u001b[0m\u001b[1;33m\u001b[0m\u001b[1;33m\u001b[0m\u001b[0m\n\u001b[0m\u001b[0;32m    161\u001b[0m \u001b[1;33m\u001b[0m\u001b[0m\n\u001b[0;32m    162\u001b[0m     \u001b[1;32mdef\u001b[0m \u001b[0m_get_loc\u001b[0m\u001b[1;33m(\u001b[0m\u001b[0mself\u001b[0m\u001b[1;33m,\u001b[0m \u001b[0mkey\u001b[0m\u001b[1;33m:\u001b[0m \u001b[0mint\u001b[0m\u001b[1;33m,\u001b[0m \u001b[0maxis\u001b[0m\u001b[1;33m:\u001b[0m \u001b[0mint\u001b[0m\u001b[1;33m)\u001b[0m\u001b[1;33m:\u001b[0m\u001b[1;33m\u001b[0m\u001b[1;33m\u001b[0m\u001b[0m\n",
      "\u001b[1;32m~\\Anaconda3\\lib\\site-packages\\pandas\\core\\generic.py\u001b[0m in \u001b[0;36mxs\u001b[1;34m(self, key, axis, level, drop_level)\u001b[0m\n\u001b[0;32m   3735\u001b[0m             \u001b[0mloc\u001b[0m\u001b[1;33m,\u001b[0m \u001b[0mnew_index\u001b[0m \u001b[1;33m=\u001b[0m \u001b[0mself\u001b[0m\u001b[1;33m.\u001b[0m\u001b[0mindex\u001b[0m\u001b[1;33m.\u001b[0m\u001b[0mget_loc_level\u001b[0m\u001b[1;33m(\u001b[0m\u001b[0mkey\u001b[0m\u001b[1;33m,\u001b[0m \u001b[0mdrop_level\u001b[0m\u001b[1;33m=\u001b[0m\u001b[0mdrop_level\u001b[0m\u001b[1;33m)\u001b[0m\u001b[1;33m\u001b[0m\u001b[1;33m\u001b[0m\u001b[0m\n\u001b[0;32m   3736\u001b[0m         \u001b[1;32melse\u001b[0m\u001b[1;33m:\u001b[0m\u001b[1;33m\u001b[0m\u001b[1;33m\u001b[0m\u001b[0m\n\u001b[1;32m-> 3737\u001b[1;33m             \u001b[0mloc\u001b[0m \u001b[1;33m=\u001b[0m \u001b[0mself\u001b[0m\u001b[1;33m.\u001b[0m\u001b[0mindex\u001b[0m\u001b[1;33m.\u001b[0m\u001b[0mget_loc\u001b[0m\u001b[1;33m(\u001b[0m\u001b[0mkey\u001b[0m\u001b[1;33m)\u001b[0m\u001b[1;33m\u001b[0m\u001b[1;33m\u001b[0m\u001b[0m\n\u001b[0m\u001b[0;32m   3738\u001b[0m \u001b[1;33m\u001b[0m\u001b[0m\n\u001b[0;32m   3739\u001b[0m             \u001b[1;32mif\u001b[0m \u001b[0misinstance\u001b[0m\u001b[1;33m(\u001b[0m\u001b[0mloc\u001b[0m\u001b[1;33m,\u001b[0m \u001b[0mnp\u001b[0m\u001b[1;33m.\u001b[0m\u001b[0mndarray\u001b[0m\u001b[1;33m)\u001b[0m\u001b[1;33m:\u001b[0m\u001b[1;33m\u001b[0m\u001b[1;33m\u001b[0m\u001b[0m\n",
      "\u001b[1;32m~\\Anaconda3\\lib\\site-packages\\pandas\\core\\indexes\\base.py\u001b[0m in \u001b[0;36mget_loc\u001b[1;34m(self, key, method, tolerance)\u001b[0m\n\u001b[0;32m   2897\u001b[0m                 \u001b[1;32mreturn\u001b[0m \u001b[0mself\u001b[0m\u001b[1;33m.\u001b[0m\u001b[0m_engine\u001b[0m\u001b[1;33m.\u001b[0m\u001b[0mget_loc\u001b[0m\u001b[1;33m(\u001b[0m\u001b[0mkey\u001b[0m\u001b[1;33m)\u001b[0m\u001b[1;33m\u001b[0m\u001b[1;33m\u001b[0m\u001b[0m\n\u001b[0;32m   2898\u001b[0m             \u001b[1;32mexcept\u001b[0m \u001b[0mKeyError\u001b[0m\u001b[1;33m:\u001b[0m\u001b[1;33m\u001b[0m\u001b[1;33m\u001b[0m\u001b[0m\n\u001b[1;32m-> 2899\u001b[1;33m                 \u001b[1;32mreturn\u001b[0m \u001b[0mself\u001b[0m\u001b[1;33m.\u001b[0m\u001b[0m_engine\u001b[0m\u001b[1;33m.\u001b[0m\u001b[0mget_loc\u001b[0m\u001b[1;33m(\u001b[0m\u001b[0mself\u001b[0m\u001b[1;33m.\u001b[0m\u001b[0m_maybe_cast_indexer\u001b[0m\u001b[1;33m(\u001b[0m\u001b[0mkey\u001b[0m\u001b[1;33m)\u001b[0m\u001b[1;33m)\u001b[0m\u001b[1;33m\u001b[0m\u001b[1;33m\u001b[0m\u001b[0m\n\u001b[0m\u001b[0;32m   2900\u001b[0m         \u001b[0mindexer\u001b[0m \u001b[1;33m=\u001b[0m \u001b[0mself\u001b[0m\u001b[1;33m.\u001b[0m\u001b[0mget_indexer\u001b[0m\u001b[1;33m(\u001b[0m\u001b[1;33m[\u001b[0m\u001b[0mkey\u001b[0m\u001b[1;33m]\u001b[0m\u001b[1;33m,\u001b[0m \u001b[0mmethod\u001b[0m\u001b[1;33m=\u001b[0m\u001b[0mmethod\u001b[0m\u001b[1;33m,\u001b[0m \u001b[0mtolerance\u001b[0m\u001b[1;33m=\u001b[0m\u001b[0mtolerance\u001b[0m\u001b[1;33m)\u001b[0m\u001b[1;33m\u001b[0m\u001b[1;33m\u001b[0m\u001b[0m\n\u001b[0;32m   2901\u001b[0m         \u001b[1;32mif\u001b[0m \u001b[0mindexer\u001b[0m\u001b[1;33m.\u001b[0m\u001b[0mndim\u001b[0m \u001b[1;33m>\u001b[0m \u001b[1;36m1\u001b[0m \u001b[1;32mor\u001b[0m \u001b[0mindexer\u001b[0m\u001b[1;33m.\u001b[0m\u001b[0msize\u001b[0m \u001b[1;33m>\u001b[0m \u001b[1;36m1\u001b[0m\u001b[1;33m:\u001b[0m\u001b[1;33m\u001b[0m\u001b[1;33m\u001b[0m\u001b[0m\n",
      "\u001b[1;32mpandas/_libs/index.pyx\u001b[0m in \u001b[0;36mpandas._libs.index.IndexEngine.get_loc\u001b[1;34m()\u001b[0m\n",
      "\u001b[1;32mpandas/_libs/index.pyx\u001b[0m in \u001b[0;36mpandas._libs.index.IndexEngine.get_loc\u001b[1;34m()\u001b[0m\n",
      "\u001b[1;32mpandas/_libs/hashtable_class_helper.pxi\u001b[0m in \u001b[0;36mpandas._libs.hashtable.Int64HashTable.get_item\u001b[1;34m()\u001b[0m\n",
      "\u001b[1;32mpandas/_libs/hashtable_class_helper.pxi\u001b[0m in \u001b[0;36mpandas._libs.hashtable.Int64HashTable.get_item\u001b[1;34m()\u001b[0m\n",
      "\u001b[1;31mKeyError\u001b[0m: 1"
     ]
    }
   ],
   "source": [
    "# Creating end of drive column to easily sum data\n",
    "\n",
    "for i in range(0, len(kc_ne_game)-1):\n",
    "    kc_ne_game.loc[i,'end_of_drive'] = kc_ne_game.loc[i+1,'drive'] - kc_ne_game.loc[i,'drive']\n",
    "\n",
    "# Adding one more for last drive of game\n",
    "kc_ne_game.loc[len(kc_ne_game)-1,'end_of_drive'] = 1"
   ]
  },
  {
   "cell_type": "code",
   "execution_count": 224,
   "metadata": {},
   "outputs": [
    {
     "data": {
      "text/html": [
       "<div>\n",
       "<style scoped>\n",
       "    .dataframe tbody tr th:only-of-type {\n",
       "        vertical-align: middle;\n",
       "    }\n",
       "\n",
       "    .dataframe tbody tr th {\n",
       "        vertical-align: top;\n",
       "    }\n",
       "\n",
       "    .dataframe thead th {\n",
       "        text-align: right;\n",
       "    }\n",
       "</style>\n",
       "<table border=\"1\" class=\"dataframe\">\n",
       "  <thead>\n",
       "    <tr style=\"text-align: right;\">\n",
       "      <th></th>\n",
       "      <th>play_id</th>\n",
       "      <th>game_id</th>\n",
       "      <th>game_date</th>\n",
       "      <th>time</th>\n",
       "      <th>quarter_seconds_remaining</th>\n",
       "      <th>half_seconds_remaining</th>\n",
       "      <th>game_seconds_remaining</th>\n",
       "      <th>game_half</th>\n",
       "      <th>quarter_end</th>\n",
       "      <th>qtr</th>\n",
       "      <th>home_team</th>\n",
       "      <th>away_team</th>\n",
       "      <th>posteam</th>\n",
       "      <th>posteam_type</th>\n",
       "      <th>defteam</th>\n",
       "      <th>side_of_field</th>\n",
       "      <th>yardline_100</th>\n",
       "      <th>drive</th>\n",
       "      <th>sp</th>\n",
       "      <th>down</th>\n",
       "      <th>goal_to_go</th>\n",
       "      <th>yrdln</th>\n",
       "      <th>ydstogo</th>\n",
       "      <th>ydsnet</th>\n",
       "      <th>desc</th>\n",
       "      <th>play_type</th>\n",
       "      <th>yards_gained</th>\n",
       "      <th>pass_length</th>\n",
       "      <th>air_yards</th>\n",
       "      <th>yards_after_catch</th>\n",
       "      <th>field_goal_result</th>\n",
       "      <th>kick_distance</th>\n",
       "      <th>extra_point_result</th>\n",
       "      <th>two_point_conv_result</th>\n",
       "      <th>td_team</th>\n",
       "      <th>total_home_score</th>\n",
       "      <th>total_away_score</th>\n",
       "      <th>posteam_score</th>\n",
       "      <th>defteam_score</th>\n",
       "      <th>sack</th>\n",
       "      <th>touchdown</th>\n",
       "      <th>pass_touchdown</th>\n",
       "      <th>rush_touchdown</th>\n",
       "      <th>return_touchdown</th>\n",
       "      <th>extra_point_attempt</th>\n",
       "      <th>two_point_attempt</th>\n",
       "      <th>field_goal_attempt</th>\n",
       "      <th>fumble</th>\n",
       "      <th>complete_pass</th>\n",
       "      <th>Start_Time</th>\n",
       "      <th>diff</th>\n",
       "      <th>Estimated_Time</th>\n",
       "      <th>Estimated Time (EST)</th>\n",
       "      <th>Estimated_Hour</th>\n",
       "      <th>Air Pressure (hPa)</th>\n",
       "      <th>City</th>\n",
       "      <th>Dewpoint (°C)</th>\n",
       "      <th>Field</th>\n",
       "      <th>Humidity (%)</th>\n",
       "      <th>Precipitation (mm)</th>\n",
       "      <th>Roof</th>\n",
       "      <th>Team Abbreviation</th>\n",
       "      <th>Temperature (°C)</th>\n",
       "      <th>Time (EST)</th>\n",
       "      <th>Time (GMT)</th>\n",
       "      <th>Wind Direction (deg)</th>\n",
       "      <th>Wind Speed (km/h)</th>\n",
       "      <th>added_time</th>\n",
       "      <th>game_name</th>\n",
       "      <th>end_of_drive</th>\n",
       "      <th>end_of_game</th>\n",
       "      <th>INT</th>\n",
       "      <th>ARI</th>\n",
       "      <th>ATL</th>\n",
       "      <th>BAL</th>\n",
       "      <th>BUF</th>\n",
       "      <th>CAR</th>\n",
       "      <th>CHI</th>\n",
       "      <th>CIN</th>\n",
       "      <th>CLE</th>\n",
       "      <th>DAL</th>\n",
       "      <th>DEN</th>\n",
       "      <th>DET</th>\n",
       "      <th>GB</th>\n",
       "      <th>HOU</th>\n",
       "      <th>IND</th>\n",
       "      <th>JAX</th>\n",
       "      <th>KC</th>\n",
       "      <th>LA</th>\n",
       "      <th>LAC</th>\n",
       "      <th>MIA</th>\n",
       "      <th>MIN</th>\n",
       "      <th>NE</th>\n",
       "      <th>NO</th>\n",
       "      <th>NYG</th>\n",
       "      <th>NYJ</th>\n",
       "      <th>OAK</th>\n",
       "      <th>PHI</th>\n",
       "      <th>PIT</th>\n",
       "      <th>SEA</th>\n",
       "      <th>SF</th>\n",
       "      <th>TB</th>\n",
       "      <th>TEN</th>\n",
       "      <th>WAS</th>\n",
       "      <th>year</th>\n",
       "      <th>week</th>\n",
       "    </tr>\n",
       "    <tr>\n",
       "      <th>index</th>\n",
       "      <th></th>\n",
       "      <th></th>\n",
       "      <th></th>\n",
       "      <th></th>\n",
       "      <th></th>\n",
       "      <th></th>\n",
       "      <th></th>\n",
       "      <th></th>\n",
       "      <th></th>\n",
       "      <th></th>\n",
       "      <th></th>\n",
       "      <th></th>\n",
       "      <th></th>\n",
       "      <th></th>\n",
       "      <th></th>\n",
       "      <th></th>\n",
       "      <th></th>\n",
       "      <th></th>\n",
       "      <th></th>\n",
       "      <th></th>\n",
       "      <th></th>\n",
       "      <th></th>\n",
       "      <th></th>\n",
       "      <th></th>\n",
       "      <th></th>\n",
       "      <th></th>\n",
       "      <th></th>\n",
       "      <th></th>\n",
       "      <th></th>\n",
       "      <th></th>\n",
       "      <th></th>\n",
       "      <th></th>\n",
       "      <th></th>\n",
       "      <th></th>\n",
       "      <th></th>\n",
       "      <th></th>\n",
       "      <th></th>\n",
       "      <th></th>\n",
       "      <th></th>\n",
       "      <th></th>\n",
       "      <th></th>\n",
       "      <th></th>\n",
       "      <th></th>\n",
       "      <th></th>\n",
       "      <th></th>\n",
       "      <th></th>\n",
       "      <th></th>\n",
       "      <th></th>\n",
       "      <th></th>\n",
       "      <th></th>\n",
       "      <th></th>\n",
       "      <th></th>\n",
       "      <th></th>\n",
       "      <th></th>\n",
       "      <th></th>\n",
       "      <th></th>\n",
       "      <th></th>\n",
       "      <th></th>\n",
       "      <th></th>\n",
       "      <th></th>\n",
       "      <th></th>\n",
       "      <th></th>\n",
       "      <th></th>\n",
       "      <th></th>\n",
       "      <th></th>\n",
       "      <th></th>\n",
       "      <th></th>\n",
       "      <th></th>\n",
       "      <th></th>\n",
       "      <th></th>\n",
       "      <th></th>\n",
       "      <th></th>\n",
       "      <th></th>\n",
       "      <th></th>\n",
       "      <th></th>\n",
       "      <th></th>\n",
       "      <th></th>\n",
       "      <th></th>\n",
       "      <th></th>\n",
       "      <th></th>\n",
       "      <th></th>\n",
       "      <th></th>\n",
       "      <th></th>\n",
       "      <th></th>\n",
       "      <th></th>\n",
       "      <th></th>\n",
       "      <th></th>\n",
       "      <th></th>\n",
       "      <th></th>\n",
       "      <th></th>\n",
       "      <th></th>\n",
       "      <th></th>\n",
       "      <th></th>\n",
       "      <th></th>\n",
       "      <th></th>\n",
       "      <th></th>\n",
       "      <th></th>\n",
       "      <th></th>\n",
       "      <th></th>\n",
       "      <th></th>\n",
       "      <th></th>\n",
       "      <th></th>\n",
       "      <th></th>\n",
       "      <th></th>\n",
       "      <th></th>\n",
       "      <th></th>\n",
       "    </tr>\n",
       "  </thead>\n",
       "  <tbody>\n",
       "    <tr>\n",
       "      <th>362094</th>\n",
       "      <td>44</td>\n",
       "      <td>2017090700</td>\n",
       "      <td>2017-09-07 00:00:00</td>\n",
       "      <td>15:00</td>\n",
       "      <td>900.0</td>\n",
       "      <td>1800.0</td>\n",
       "      <td>3600.0</td>\n",
       "      <td>Half1</td>\n",
       "      <td>0</td>\n",
       "      <td>1</td>\n",
       "      <td>NE</td>\n",
       "      <td>KC</td>\n",
       "      <td>NE</td>\n",
       "      <td>home</td>\n",
       "      <td>KC</td>\n",
       "      <td>KC</td>\n",
       "      <td>35.0</td>\n",
       "      <td>1</td>\n",
       "      <td>0</td>\n",
       "      <td>NaN</td>\n",
       "      <td>0.0</td>\n",
       "      <td>KC 35</td>\n",
       "      <td>0</td>\n",
       "      <td>73</td>\n",
       "      <td>C.Santos kicks 64 yards from KC 35 to NE 1. D....</td>\n",
       "      <td>kickoff</td>\n",
       "      <td>0.0</td>\n",
       "      <td>0</td>\n",
       "      <td>0.0</td>\n",
       "      <td>0.0</td>\n",
       "      <td>NaN</td>\n",
       "      <td>64.0</td>\n",
       "      <td>NaN</td>\n",
       "      <td>NaN</td>\n",
       "      <td>NaN</td>\n",
       "      <td>0</td>\n",
       "      <td>0</td>\n",
       "      <td>0.0</td>\n",
       "      <td>0.0</td>\n",
       "      <td>0.0</td>\n",
       "      <td>0.0</td>\n",
       "      <td>0.0</td>\n",
       "      <td>0.0</td>\n",
       "      <td>0.0</td>\n",
       "      <td>0.0</td>\n",
       "      <td>0.0</td>\n",
       "      <td>0.0</td>\n",
       "      <td>0.0</td>\n",
       "      <td>0.0</td>\n",
       "      <td>2017-09-07 20:30:00</td>\n",
       "      <td>0 days 00:00:00.000000000</td>\n",
       "      <td>2017-09-07 20:30:00</td>\n",
       "      <td>2017-09-07 20:30:00</td>\n",
       "      <td>2017-09-07 20:00:00</td>\n",
       "      <td>1011.3</td>\n",
       "      <td>Foxborough</td>\n",
       "      <td>13.8</td>\n",
       "      <td>FieldTurf CORE</td>\n",
       "      <td>65.0</td>\n",
       "      <td>0.0</td>\n",
       "      <td>Open</td>\n",
       "      <td>NE</td>\n",
       "      <td>20.6</td>\n",
       "      <td>2017-09-07 20:00:00</td>\n",
       "      <td>2017-09-08 00:00:00</td>\n",
       "      <td>210.0</td>\n",
       "      <td>22.3</td>\n",
       "      <td>0</td>\n",
       "      <td>KC @ NE 2017-09-07</td>\n",
       "      <td>0</td>\n",
       "      <td>0</td>\n",
       "      <td>0</td>\n",
       "      <td>0</td>\n",
       "      <td>0</td>\n",
       "      <td>0</td>\n",
       "      <td>0</td>\n",
       "      <td>0</td>\n",
       "      <td>0</td>\n",
       "      <td>0</td>\n",
       "      <td>0</td>\n",
       "      <td>0</td>\n",
       "      <td>0</td>\n",
       "      <td>0</td>\n",
       "      <td>0</td>\n",
       "      <td>0</td>\n",
       "      <td>0</td>\n",
       "      <td>0</td>\n",
       "      <td>A</td>\n",
       "      <td>0</td>\n",
       "      <td>0</td>\n",
       "      <td>0</td>\n",
       "      <td>0</td>\n",
       "      <td>H</td>\n",
       "      <td>0</td>\n",
       "      <td>0</td>\n",
       "      <td>0</td>\n",
       "      <td>0</td>\n",
       "      <td>0</td>\n",
       "      <td>0</td>\n",
       "      <td>0</td>\n",
       "      <td>0</td>\n",
       "      <td>0</td>\n",
       "      <td>0</td>\n",
       "      <td>0</td>\n",
       "      <td>2017</td>\n",
       "      <td>1</td>\n",
       "    </tr>\n",
       "    <tr>\n",
       "      <th>362095</th>\n",
       "      <td>68</td>\n",
       "      <td>2017090700</td>\n",
       "      <td>2017-09-07 00:00:00</td>\n",
       "      <td>14:55</td>\n",
       "      <td>895.0</td>\n",
       "      <td>1795.0</td>\n",
       "      <td>3595.0</td>\n",
       "      <td>Half1</td>\n",
       "      <td>0</td>\n",
       "      <td>1</td>\n",
       "      <td>NE</td>\n",
       "      <td>KC</td>\n",
       "      <td>NE</td>\n",
       "      <td>home</td>\n",
       "      <td>KC</td>\n",
       "      <td>NE</td>\n",
       "      <td>73.0</td>\n",
       "      <td>1</td>\n",
       "      <td>0</td>\n",
       "      <td>1.0</td>\n",
       "      <td>0.0</td>\n",
       "      <td>NE 27</td>\n",
       "      <td>10</td>\n",
       "      <td>0</td>\n",
       "      <td>(14:55) NE 12-Brady 18th season as Patriots QB...</td>\n",
       "      <td>pass</td>\n",
       "      <td>0.0</td>\n",
       "      <td>deep</td>\n",
       "      <td>27.0</td>\n",
       "      <td>0.0</td>\n",
       "      <td>NaN</td>\n",
       "      <td>NaN</td>\n",
       "      <td>NaN</td>\n",
       "      <td>NaN</td>\n",
       "      <td>NaN</td>\n",
       "      <td>0</td>\n",
       "      <td>0</td>\n",
       "      <td>0.0</td>\n",
       "      <td>0.0</td>\n",
       "      <td>0.0</td>\n",
       "      <td>0.0</td>\n",
       "      <td>0.0</td>\n",
       "      <td>0.0</td>\n",
       "      <td>0.0</td>\n",
       "      <td>0.0</td>\n",
       "      <td>0.0</td>\n",
       "      <td>0.0</td>\n",
       "      <td>0.0</td>\n",
       "      <td>0.0</td>\n",
       "      <td>2017-09-07 20:30:00</td>\n",
       "      <td>0 days 00:00:15.000000000</td>\n",
       "      <td>2017-09-07 20:30:15</td>\n",
       "      <td>2017-09-07 20:30:15</td>\n",
       "      <td>2017-09-07 21:00:00</td>\n",
       "      <td>1012.9</td>\n",
       "      <td>Foxborough</td>\n",
       "      <td>11.6</td>\n",
       "      <td>FieldTurf CORE</td>\n",
       "      <td>67.0</td>\n",
       "      <td>0.0</td>\n",
       "      <td>Open</td>\n",
       "      <td>NE</td>\n",
       "      <td>17.8</td>\n",
       "      <td>2017-09-07 21:00:00</td>\n",
       "      <td>2017-09-08 01:00:00</td>\n",
       "      <td>300.0</td>\n",
       "      <td>20.5</td>\n",
       "      <td>0</td>\n",
       "      <td>KC @ NE 2017-09-07</td>\n",
       "      <td>0</td>\n",
       "      <td>0</td>\n",
       "      <td>0</td>\n",
       "      <td>0</td>\n",
       "      <td>0</td>\n",
       "      <td>0</td>\n",
       "      <td>0</td>\n",
       "      <td>0</td>\n",
       "      <td>0</td>\n",
       "      <td>0</td>\n",
       "      <td>0</td>\n",
       "      <td>0</td>\n",
       "      <td>0</td>\n",
       "      <td>0</td>\n",
       "      <td>0</td>\n",
       "      <td>0</td>\n",
       "      <td>0</td>\n",
       "      <td>0</td>\n",
       "      <td>A</td>\n",
       "      <td>0</td>\n",
       "      <td>0</td>\n",
       "      <td>0</td>\n",
       "      <td>0</td>\n",
       "      <td>H</td>\n",
       "      <td>0</td>\n",
       "      <td>0</td>\n",
       "      <td>0</td>\n",
       "      <td>0</td>\n",
       "      <td>0</td>\n",
       "      <td>0</td>\n",
       "      <td>0</td>\n",
       "      <td>0</td>\n",
       "      <td>0</td>\n",
       "      <td>0</td>\n",
       "      <td>0</td>\n",
       "      <td>2017</td>\n",
       "      <td>1</td>\n",
       "    </tr>\n",
       "    <tr>\n",
       "      <th>362096</th>\n",
       "      <td>94</td>\n",
       "      <td>2017090700</td>\n",
       "      <td>2017-09-07 00:00:00</td>\n",
       "      <td>14:49</td>\n",
       "      <td>889.0</td>\n",
       "      <td>1789.0</td>\n",
       "      <td>3589.0</td>\n",
       "      <td>Half1</td>\n",
       "      <td>0</td>\n",
       "      <td>1</td>\n",
       "      <td>NE</td>\n",
       "      <td>KC</td>\n",
       "      <td>NE</td>\n",
       "      <td>home</td>\n",
       "      <td>KC</td>\n",
       "      <td>NE</td>\n",
       "      <td>73.0</td>\n",
       "      <td>1</td>\n",
       "      <td>0</td>\n",
       "      <td>2.0</td>\n",
       "      <td>0.0</td>\n",
       "      <td>NE 27</td>\n",
       "      <td>10</td>\n",
       "      <td>8</td>\n",
       "      <td>(14:49) T.Brady pass short right to R.Burkhead...</td>\n",
       "      <td>pass</td>\n",
       "      <td>8.0</td>\n",
       "      <td>short</td>\n",
       "      <td>1.0</td>\n",
       "      <td>7.0</td>\n",
       "      <td>NaN</td>\n",
       "      <td>NaN</td>\n",
       "      <td>NaN</td>\n",
       "      <td>NaN</td>\n",
       "      <td>NaN</td>\n",
       "      <td>0</td>\n",
       "      <td>0</td>\n",
       "      <td>0.0</td>\n",
       "      <td>0.0</td>\n",
       "      <td>0.0</td>\n",
       "      <td>0.0</td>\n",
       "      <td>0.0</td>\n",
       "      <td>0.0</td>\n",
       "      <td>0.0</td>\n",
       "      <td>0.0</td>\n",
       "      <td>0.0</td>\n",
       "      <td>0.0</td>\n",
       "      <td>0.0</td>\n",
       "      <td>1.0</td>\n",
       "      <td>2017-09-07 20:30:00</td>\n",
       "      <td>0 days 00:00:33.000000000</td>\n",
       "      <td>2017-09-07 20:30:33</td>\n",
       "      <td>2017-09-07 20:30:33</td>\n",
       "      <td>2017-09-07 21:00:00</td>\n",
       "      <td>1012.9</td>\n",
       "      <td>Foxborough</td>\n",
       "      <td>11.6</td>\n",
       "      <td>FieldTurf CORE</td>\n",
       "      <td>67.0</td>\n",
       "      <td>0.0</td>\n",
       "      <td>Open</td>\n",
       "      <td>NE</td>\n",
       "      <td>17.8</td>\n",
       "      <td>2017-09-07 21:00:00</td>\n",
       "      <td>2017-09-08 01:00:00</td>\n",
       "      <td>300.0</td>\n",
       "      <td>20.5</td>\n",
       "      <td>0</td>\n",
       "      <td>KC @ NE 2017-09-07</td>\n",
       "      <td>0</td>\n",
       "      <td>0</td>\n",
       "      <td>0</td>\n",
       "      <td>0</td>\n",
       "      <td>0</td>\n",
       "      <td>0</td>\n",
       "      <td>0</td>\n",
       "      <td>0</td>\n",
       "      <td>0</td>\n",
       "      <td>0</td>\n",
       "      <td>0</td>\n",
       "      <td>0</td>\n",
       "      <td>0</td>\n",
       "      <td>0</td>\n",
       "      <td>0</td>\n",
       "      <td>0</td>\n",
       "      <td>0</td>\n",
       "      <td>0</td>\n",
       "      <td>A</td>\n",
       "      <td>0</td>\n",
       "      <td>0</td>\n",
       "      <td>0</td>\n",
       "      <td>0</td>\n",
       "      <td>H</td>\n",
       "      <td>0</td>\n",
       "      <td>0</td>\n",
       "      <td>0</td>\n",
       "      <td>0</td>\n",
       "      <td>0</td>\n",
       "      <td>0</td>\n",
       "      <td>0</td>\n",
       "      <td>0</td>\n",
       "      <td>0</td>\n",
       "      <td>0</td>\n",
       "      <td>0</td>\n",
       "      <td>2017</td>\n",
       "      <td>1</td>\n",
       "    </tr>\n",
       "    <tr>\n",
       "      <th>362097</th>\n",
       "      <td>118</td>\n",
       "      <td>2017090700</td>\n",
       "      <td>2017-09-07 00:00:00</td>\n",
       "      <td>14:14</td>\n",
       "      <td>854.0</td>\n",
       "      <td>1754.0</td>\n",
       "      <td>3554.0</td>\n",
       "      <td>Half1</td>\n",
       "      <td>0</td>\n",
       "      <td>1</td>\n",
       "      <td>NE</td>\n",
       "      <td>KC</td>\n",
       "      <td>NE</td>\n",
       "      <td>home</td>\n",
       "      <td>KC</td>\n",
       "      <td>NE</td>\n",
       "      <td>65.0</td>\n",
       "      <td>1</td>\n",
       "      <td>0</td>\n",
       "      <td>3.0</td>\n",
       "      <td>0.0</td>\n",
       "      <td>NE 35</td>\n",
       "      <td>2</td>\n",
       "      <td>73</td>\n",
       "      <td>(14:14) (Shotgun) J.White left guard to NE 43 ...</td>\n",
       "      <td>run</td>\n",
       "      <td>8.0</td>\n",
       "      <td>0</td>\n",
       "      <td>0.0</td>\n",
       "      <td>0.0</td>\n",
       "      <td>NaN</td>\n",
       "      <td>NaN</td>\n",
       "      <td>NaN</td>\n",
       "      <td>NaN</td>\n",
       "      <td>NaN</td>\n",
       "      <td>0</td>\n",
       "      <td>0</td>\n",
       "      <td>0.0</td>\n",
       "      <td>0.0</td>\n",
       "      <td>0.0</td>\n",
       "      <td>0.0</td>\n",
       "      <td>0.0</td>\n",
       "      <td>0.0</td>\n",
       "      <td>0.0</td>\n",
       "      <td>0.0</td>\n",
       "      <td>0.0</td>\n",
       "      <td>0.0</td>\n",
       "      <td>0.0</td>\n",
       "      <td>0.0</td>\n",
       "      <td>2017-09-07 20:30:00</td>\n",
       "      <td>0 days 00:02:18.000000000</td>\n",
       "      <td>2017-09-07 20:32:18</td>\n",
       "      <td>2017-09-07 20:32:18</td>\n",
       "      <td>2017-09-07 21:00:00</td>\n",
       "      <td>1012.9</td>\n",
       "      <td>Foxborough</td>\n",
       "      <td>11.6</td>\n",
       "      <td>FieldTurf CORE</td>\n",
       "      <td>67.0</td>\n",
       "      <td>0.0</td>\n",
       "      <td>Open</td>\n",
       "      <td>NE</td>\n",
       "      <td>17.8</td>\n",
       "      <td>2017-09-07 21:00:00</td>\n",
       "      <td>2017-09-08 01:00:00</td>\n",
       "      <td>300.0</td>\n",
       "      <td>20.5</td>\n",
       "      <td>0</td>\n",
       "      <td>KC @ NE 2017-09-07</td>\n",
       "      <td>0</td>\n",
       "      <td>0</td>\n",
       "      <td>0</td>\n",
       "      <td>0</td>\n",
       "      <td>0</td>\n",
       "      <td>0</td>\n",
       "      <td>0</td>\n",
       "      <td>0</td>\n",
       "      <td>0</td>\n",
       "      <td>0</td>\n",
       "      <td>0</td>\n",
       "      <td>0</td>\n",
       "      <td>0</td>\n",
       "      <td>0</td>\n",
       "      <td>0</td>\n",
       "      <td>0</td>\n",
       "      <td>0</td>\n",
       "      <td>0</td>\n",
       "      <td>A</td>\n",
       "      <td>0</td>\n",
       "      <td>0</td>\n",
       "      <td>0</td>\n",
       "      <td>0</td>\n",
       "      <td>H</td>\n",
       "      <td>0</td>\n",
       "      <td>0</td>\n",
       "      <td>0</td>\n",
       "      <td>0</td>\n",
       "      <td>0</td>\n",
       "      <td>0</td>\n",
       "      <td>0</td>\n",
       "      <td>0</td>\n",
       "      <td>0</td>\n",
       "      <td>0</td>\n",
       "      <td>0</td>\n",
       "      <td>2017</td>\n",
       "      <td>1</td>\n",
       "    </tr>\n",
       "    <tr>\n",
       "      <th>362098</th>\n",
       "      <td>139</td>\n",
       "      <td>2017090700</td>\n",
       "      <td>2017-09-07 00:00:00</td>\n",
       "      <td>13:52</td>\n",
       "      <td>832.0</td>\n",
       "      <td>1732.0</td>\n",
       "      <td>3532.0</td>\n",
       "      <td>Half1</td>\n",
       "      <td>0</td>\n",
       "      <td>1</td>\n",
       "      <td>NE</td>\n",
       "      <td>KC</td>\n",
       "      <td>NE</td>\n",
       "      <td>home</td>\n",
       "      <td>KC</td>\n",
       "      <td>NE</td>\n",
       "      <td>57.0</td>\n",
       "      <td>1</td>\n",
       "      <td>0</td>\n",
       "      <td>1.0</td>\n",
       "      <td>0.0</td>\n",
       "      <td>NE 43</td>\n",
       "      <td>10</td>\n",
       "      <td>19</td>\n",
       "      <td>(13:52) (No Huddle, Shotgun) J.White up the mi...</td>\n",
       "      <td>run</td>\n",
       "      <td>3.0</td>\n",
       "      <td>0</td>\n",
       "      <td>0.0</td>\n",
       "      <td>0.0</td>\n",
       "      <td>NaN</td>\n",
       "      <td>NaN</td>\n",
       "      <td>NaN</td>\n",
       "      <td>NaN</td>\n",
       "      <td>NaN</td>\n",
       "      <td>0</td>\n",
       "      <td>0</td>\n",
       "      <td>0.0</td>\n",
       "      <td>0.0</td>\n",
       "      <td>0.0</td>\n",
       "      <td>0.0</td>\n",
       "      <td>0.0</td>\n",
       "      <td>0.0</td>\n",
       "      <td>0.0</td>\n",
       "      <td>0.0</td>\n",
       "      <td>0.0</td>\n",
       "      <td>0.0</td>\n",
       "      <td>0.0</td>\n",
       "      <td>0.0</td>\n",
       "      <td>2017-09-07 20:30:00</td>\n",
       "      <td>0 days 00:03:24.000000000</td>\n",
       "      <td>2017-09-07 20:33:24</td>\n",
       "      <td>2017-09-07 20:33:24</td>\n",
       "      <td>2017-09-07 21:00:00</td>\n",
       "      <td>1012.9</td>\n",
       "      <td>Foxborough</td>\n",
       "      <td>11.6</td>\n",
       "      <td>FieldTurf CORE</td>\n",
       "      <td>67.0</td>\n",
       "      <td>0.0</td>\n",
       "      <td>Open</td>\n",
       "      <td>NE</td>\n",
       "      <td>17.8</td>\n",
       "      <td>2017-09-07 21:00:00</td>\n",
       "      <td>2017-09-08 01:00:00</td>\n",
       "      <td>300.0</td>\n",
       "      <td>20.5</td>\n",
       "      <td>0</td>\n",
       "      <td>KC @ NE 2017-09-07</td>\n",
       "      <td>0</td>\n",
       "      <td>0</td>\n",
       "      <td>0</td>\n",
       "      <td>0</td>\n",
       "      <td>0</td>\n",
       "      <td>0</td>\n",
       "      <td>0</td>\n",
       "      <td>0</td>\n",
       "      <td>0</td>\n",
       "      <td>0</td>\n",
       "      <td>0</td>\n",
       "      <td>0</td>\n",
       "      <td>0</td>\n",
       "      <td>0</td>\n",
       "      <td>0</td>\n",
       "      <td>0</td>\n",
       "      <td>0</td>\n",
       "      <td>0</td>\n",
       "      <td>A</td>\n",
       "      <td>0</td>\n",
       "      <td>0</td>\n",
       "      <td>0</td>\n",
       "      <td>0</td>\n",
       "      <td>H</td>\n",
       "      <td>0</td>\n",
       "      <td>0</td>\n",
       "      <td>0</td>\n",
       "      <td>0</td>\n",
       "      <td>0</td>\n",
       "      <td>0</td>\n",
       "      <td>0</td>\n",
       "      <td>0</td>\n",
       "      <td>0</td>\n",
       "      <td>0</td>\n",
       "      <td>0</td>\n",
       "      <td>2017</td>\n",
       "      <td>1</td>\n",
       "    </tr>\n",
       "  </tbody>\n",
       "</table>\n",
       "</div>"
      ],
      "text/plain": [
       "        play_id     game_id            game_date   time  \\\n",
       "index                                                     \n",
       "362094       44  2017090700  2017-09-07 00:00:00  15:00   \n",
       "362095       68  2017090700  2017-09-07 00:00:00  14:55   \n",
       "362096       94  2017090700  2017-09-07 00:00:00  14:49   \n",
       "362097      118  2017090700  2017-09-07 00:00:00  14:14   \n",
       "362098      139  2017090700  2017-09-07 00:00:00  13:52   \n",
       "\n",
       "        quarter_seconds_remaining  half_seconds_remaining  \\\n",
       "index                                                       \n",
       "362094                      900.0                  1800.0   \n",
       "362095                      895.0                  1795.0   \n",
       "362096                      889.0                  1789.0   \n",
       "362097                      854.0                  1754.0   \n",
       "362098                      832.0                  1732.0   \n",
       "\n",
       "        game_seconds_remaining game_half  quarter_end  qtr home_team  \\\n",
       "index                                                                  \n",
       "362094                  3600.0     Half1            0    1        NE   \n",
       "362095                  3595.0     Half1            0    1        NE   \n",
       "362096                  3589.0     Half1            0    1        NE   \n",
       "362097                  3554.0     Half1            0    1        NE   \n",
       "362098                  3532.0     Half1            0    1        NE   \n",
       "\n",
       "       away_team posteam posteam_type defteam side_of_field  yardline_100  \\\n",
       "index                                                                       \n",
       "362094        KC      NE         home      KC            KC          35.0   \n",
       "362095        KC      NE         home      KC            NE          73.0   \n",
       "362096        KC      NE         home      KC            NE          73.0   \n",
       "362097        KC      NE         home      KC            NE          65.0   \n",
       "362098        KC      NE         home      KC            NE          57.0   \n",
       "\n",
       "        drive  sp  down  goal_to_go  yrdln  ydstogo  ydsnet  \\\n",
       "index                                                         \n",
       "362094      1   0   NaN         0.0  KC 35        0      73   \n",
       "362095      1   0   1.0         0.0  NE 27       10       0   \n",
       "362096      1   0   2.0         0.0  NE 27       10       8   \n",
       "362097      1   0   3.0         0.0  NE 35        2      73   \n",
       "362098      1   0   1.0         0.0  NE 43       10      19   \n",
       "\n",
       "                                                     desc play_type  \\\n",
       "index                                                                 \n",
       "362094  C.Santos kicks 64 yards from KC 35 to NE 1. D....   kickoff   \n",
       "362095  (14:55) NE 12-Brady 18th season as Patriots QB...      pass   \n",
       "362096  (14:49) T.Brady pass short right to R.Burkhead...      pass   \n",
       "362097  (14:14) (Shotgun) J.White left guard to NE 43 ...       run   \n",
       "362098  (13:52) (No Huddle, Shotgun) J.White up the mi...       run   \n",
       "\n",
       "        yards_gained pass_length  air_yards  yards_after_catch  \\\n",
       "index                                                            \n",
       "362094           0.0           0        0.0                0.0   \n",
       "362095           0.0        deep       27.0                0.0   \n",
       "362096           8.0       short        1.0                7.0   \n",
       "362097           8.0           0        0.0                0.0   \n",
       "362098           3.0           0        0.0                0.0   \n",
       "\n",
       "       field_goal_result  kick_distance extra_point_result  \\\n",
       "index                                                        \n",
       "362094               NaN           64.0                NaN   \n",
       "362095               NaN            NaN                NaN   \n",
       "362096               NaN            NaN                NaN   \n",
       "362097               NaN            NaN                NaN   \n",
       "362098               NaN            NaN                NaN   \n",
       "\n",
       "       two_point_conv_result td_team  total_home_score  total_away_score  \\\n",
       "index                                                                      \n",
       "362094                   NaN     NaN                 0                 0   \n",
       "362095                   NaN     NaN                 0                 0   \n",
       "362096                   NaN     NaN                 0                 0   \n",
       "362097                   NaN     NaN                 0                 0   \n",
       "362098                   NaN     NaN                 0                 0   \n",
       "\n",
       "        posteam_score  defteam_score  sack  touchdown  pass_touchdown  \\\n",
       "index                                                                   \n",
       "362094            0.0            0.0   0.0        0.0             0.0   \n",
       "362095            0.0            0.0   0.0        0.0             0.0   \n",
       "362096            0.0            0.0   0.0        0.0             0.0   \n",
       "362097            0.0            0.0   0.0        0.0             0.0   \n",
       "362098            0.0            0.0   0.0        0.0             0.0   \n",
       "\n",
       "        rush_touchdown  return_touchdown  extra_point_attempt  \\\n",
       "index                                                           \n",
       "362094             0.0               0.0                  0.0   \n",
       "362095             0.0               0.0                  0.0   \n",
       "362096             0.0               0.0                  0.0   \n",
       "362097             0.0               0.0                  0.0   \n",
       "362098             0.0               0.0                  0.0   \n",
       "\n",
       "        two_point_attempt  field_goal_attempt  fumble  complete_pass  \\\n",
       "index                                                                  \n",
       "362094                0.0                 0.0     0.0            0.0   \n",
       "362095                0.0                 0.0     0.0            0.0   \n",
       "362096                0.0                 0.0     0.0            1.0   \n",
       "362097                0.0                 0.0     0.0            0.0   \n",
       "362098                0.0                 0.0     0.0            0.0   \n",
       "\n",
       "                 Start_Time                       diff       Estimated_Time  \\\n",
       "index                                                                         \n",
       "362094  2017-09-07 20:30:00  0 days 00:00:00.000000000  2017-09-07 20:30:00   \n",
       "362095  2017-09-07 20:30:00  0 days 00:00:15.000000000  2017-09-07 20:30:15   \n",
       "362096  2017-09-07 20:30:00  0 days 00:00:33.000000000  2017-09-07 20:30:33   \n",
       "362097  2017-09-07 20:30:00  0 days 00:02:18.000000000  2017-09-07 20:32:18   \n",
       "362098  2017-09-07 20:30:00  0 days 00:03:24.000000000  2017-09-07 20:33:24   \n",
       "\n",
       "       Estimated Time (EST)      Estimated_Hour  Air Pressure (hPa)  \\\n",
       "index                                                                 \n",
       "362094  2017-09-07 20:30:00 2017-09-07 20:00:00              1011.3   \n",
       "362095  2017-09-07 20:30:15 2017-09-07 21:00:00              1012.9   \n",
       "362096  2017-09-07 20:30:33 2017-09-07 21:00:00              1012.9   \n",
       "362097  2017-09-07 20:32:18 2017-09-07 21:00:00              1012.9   \n",
       "362098  2017-09-07 20:33:24 2017-09-07 21:00:00              1012.9   \n",
       "\n",
       "              City  Dewpoint (°C)           Field  Humidity (%)  \\\n",
       "index                                                             \n",
       "362094  Foxborough           13.8  FieldTurf CORE          65.0   \n",
       "362095  Foxborough           11.6  FieldTurf CORE          67.0   \n",
       "362096  Foxborough           11.6  FieldTurf CORE          67.0   \n",
       "362097  Foxborough           11.6  FieldTurf CORE          67.0   \n",
       "362098  Foxborough           11.6  FieldTurf CORE          67.0   \n",
       "\n",
       "        Precipitation (mm)  Roof Team Abbreviation  Temperature (°C)  \\\n",
       "index                                                                  \n",
       "362094                 0.0  Open                NE              20.6   \n",
       "362095                 0.0  Open                NE              17.8   \n",
       "362096                 0.0  Open                NE              17.8   \n",
       "362097                 0.0  Open                NE              17.8   \n",
       "362098                 0.0  Open                NE              17.8   \n",
       "\n",
       "                Time (EST)          Time (GMT)  Wind Direction (deg)  \\\n",
       "index                                                                  \n",
       "362094 2017-09-07 20:00:00 2017-09-08 00:00:00                 210.0   \n",
       "362095 2017-09-07 21:00:00 2017-09-08 01:00:00                 300.0   \n",
       "362096 2017-09-07 21:00:00 2017-09-08 01:00:00                 300.0   \n",
       "362097 2017-09-07 21:00:00 2017-09-08 01:00:00                 300.0   \n",
       "362098 2017-09-07 21:00:00 2017-09-08 01:00:00                 300.0   \n",
       "\n",
       "        Wind Speed (km/h)  added_time           game_name  end_of_drive  \\\n",
       "index                                                                     \n",
       "362094               22.3           0  KC @ NE 2017-09-07             0   \n",
       "362095               20.5           0  KC @ NE 2017-09-07             0   \n",
       "362096               20.5           0  KC @ NE 2017-09-07             0   \n",
       "362097               20.5           0  KC @ NE 2017-09-07             0   \n",
       "362098               20.5           0  KC @ NE 2017-09-07             0   \n",
       "\n",
       "        end_of_game  INT ARI ATL BAL BUF CAR CHI CIN CLE DAL DEN DET GB HOU  \\\n",
       "index                                                                         \n",
       "362094            0    0   0   0   0   0   0   0   0   0   0   0   0  0   0   \n",
       "362095            0    0   0   0   0   0   0   0   0   0   0   0   0  0   0   \n",
       "362096            0    0   0   0   0   0   0   0   0   0   0   0   0  0   0   \n",
       "362097            0    0   0   0   0   0   0   0   0   0   0   0   0  0   0   \n",
       "362098            0    0   0   0   0   0   0   0   0   0   0   0   0  0   0   \n",
       "\n",
       "       IND JAX KC LA LAC MIA MIN NE NO NYG NYJ OAK PHI PIT SEA SF TB TEN WAS  \\\n",
       "index                                                                          \n",
       "362094   0   0  A  0   0   0   0  H  0   0   0   0   0   0   0  0  0   0   0   \n",
       "362095   0   0  A  0   0   0   0  H  0   0   0   0   0   0   0  0  0   0   0   \n",
       "362096   0   0  A  0   0   0   0  H  0   0   0   0   0   0   0  0  0   0   0   \n",
       "362097   0   0  A  0   0   0   0  H  0   0   0   0   0   0   0  0  0   0   0   \n",
       "362098   0   0  A  0   0   0   0  H  0   0   0   0   0   0   0  0  0   0   0   \n",
       "\n",
       "        year  week  \n",
       "index               \n",
       "362094  2017     1  \n",
       "362095  2017     1  \n",
       "362096  2017     1  \n",
       "362097  2017     1  \n",
       "362098  2017     1  "
      ]
     },
     "execution_count": 224,
     "metadata": {},
     "output_type": "execute_result"
    }
   ],
   "source": [
    "# Ensuring end of drive column is created correctly\n",
    "kc_ne_game.head(5)"
   ]
  },
  {
   "cell_type": "code",
   "execution_count": 225,
   "metadata": {},
   "outputs": [
    {
     "data": {
      "text/html": [
       "<div>\n",
       "<style scoped>\n",
       "    .dataframe tbody tr th:only-of-type {\n",
       "        vertical-align: middle;\n",
       "    }\n",
       "\n",
       "    .dataframe tbody tr th {\n",
       "        vertical-align: top;\n",
       "    }\n",
       "\n",
       "    .dataframe thead th {\n",
       "        text-align: right;\n",
       "    }\n",
       "</style>\n",
       "<table border=\"1\" class=\"dataframe\">\n",
       "  <thead>\n",
       "    <tr style=\"text-align: right;\">\n",
       "      <th></th>\n",
       "      <th>play_id</th>\n",
       "      <th>game_id</th>\n",
       "      <th>game_date</th>\n",
       "      <th>time</th>\n",
       "      <th>quarter_seconds_remaining</th>\n",
       "      <th>half_seconds_remaining</th>\n",
       "      <th>game_seconds_remaining</th>\n",
       "      <th>game_half</th>\n",
       "      <th>quarter_end</th>\n",
       "      <th>qtr</th>\n",
       "      <th>home_team</th>\n",
       "      <th>away_team</th>\n",
       "      <th>posteam</th>\n",
       "      <th>posteam_type</th>\n",
       "      <th>defteam</th>\n",
       "      <th>side_of_field</th>\n",
       "      <th>yardline_100</th>\n",
       "      <th>drive</th>\n",
       "      <th>sp</th>\n",
       "      <th>down</th>\n",
       "      <th>goal_to_go</th>\n",
       "      <th>yrdln</th>\n",
       "      <th>ydstogo</th>\n",
       "      <th>ydsnet</th>\n",
       "      <th>desc</th>\n",
       "      <th>play_type</th>\n",
       "      <th>yards_gained</th>\n",
       "      <th>pass_length</th>\n",
       "      <th>air_yards</th>\n",
       "      <th>yards_after_catch</th>\n",
       "      <th>field_goal_result</th>\n",
       "      <th>kick_distance</th>\n",
       "      <th>extra_point_result</th>\n",
       "      <th>two_point_conv_result</th>\n",
       "      <th>td_team</th>\n",
       "      <th>total_home_score</th>\n",
       "      <th>total_away_score</th>\n",
       "      <th>posteam_score</th>\n",
       "      <th>defteam_score</th>\n",
       "      <th>sack</th>\n",
       "      <th>touchdown</th>\n",
       "      <th>pass_touchdown</th>\n",
       "      <th>rush_touchdown</th>\n",
       "      <th>return_touchdown</th>\n",
       "      <th>extra_point_attempt</th>\n",
       "      <th>two_point_attempt</th>\n",
       "      <th>field_goal_attempt</th>\n",
       "      <th>fumble</th>\n",
       "      <th>complete_pass</th>\n",
       "      <th>Start_Time</th>\n",
       "      <th>diff</th>\n",
       "      <th>Estimated_Time</th>\n",
       "      <th>Estimated Time (EST)</th>\n",
       "      <th>Estimated_Hour</th>\n",
       "      <th>Air Pressure (hPa)</th>\n",
       "      <th>City</th>\n",
       "      <th>Dewpoint (°C)</th>\n",
       "      <th>Field</th>\n",
       "      <th>Humidity (%)</th>\n",
       "      <th>Precipitation (mm)</th>\n",
       "      <th>Roof</th>\n",
       "      <th>Team Abbreviation</th>\n",
       "      <th>Temperature (°C)</th>\n",
       "      <th>Time (EST)</th>\n",
       "      <th>Time (GMT)</th>\n",
       "      <th>Wind Direction (deg)</th>\n",
       "      <th>Wind Speed (km/h)</th>\n",
       "      <th>added_time</th>\n",
       "      <th>game_name</th>\n",
       "      <th>end_of_drive</th>\n",
       "      <th>end_of_game</th>\n",
       "      <th>INT</th>\n",
       "      <th>ARI</th>\n",
       "      <th>ATL</th>\n",
       "      <th>BAL</th>\n",
       "      <th>BUF</th>\n",
       "      <th>CAR</th>\n",
       "      <th>CHI</th>\n",
       "      <th>CIN</th>\n",
       "      <th>CLE</th>\n",
       "      <th>DAL</th>\n",
       "      <th>DEN</th>\n",
       "      <th>DET</th>\n",
       "      <th>GB</th>\n",
       "      <th>HOU</th>\n",
       "      <th>IND</th>\n",
       "      <th>JAX</th>\n",
       "      <th>KC</th>\n",
       "      <th>LA</th>\n",
       "      <th>LAC</th>\n",
       "      <th>MIA</th>\n",
       "      <th>MIN</th>\n",
       "      <th>NE</th>\n",
       "      <th>NO</th>\n",
       "      <th>NYG</th>\n",
       "      <th>NYJ</th>\n",
       "      <th>OAK</th>\n",
       "      <th>PHI</th>\n",
       "      <th>PIT</th>\n",
       "      <th>SEA</th>\n",
       "      <th>SF</th>\n",
       "      <th>TB</th>\n",
       "      <th>TEN</th>\n",
       "      <th>WAS</th>\n",
       "      <th>year</th>\n",
       "      <th>week</th>\n",
       "    </tr>\n",
       "    <tr>\n",
       "      <th>index</th>\n",
       "      <th></th>\n",
       "      <th></th>\n",
       "      <th></th>\n",
       "      <th></th>\n",
       "      <th></th>\n",
       "      <th></th>\n",
       "      <th></th>\n",
       "      <th></th>\n",
       "      <th></th>\n",
       "      <th></th>\n",
       "      <th></th>\n",
       "      <th></th>\n",
       "      <th></th>\n",
       "      <th></th>\n",
       "      <th></th>\n",
       "      <th></th>\n",
       "      <th></th>\n",
       "      <th></th>\n",
       "      <th></th>\n",
       "      <th></th>\n",
       "      <th></th>\n",
       "      <th></th>\n",
       "      <th></th>\n",
       "      <th></th>\n",
       "      <th></th>\n",
       "      <th></th>\n",
       "      <th></th>\n",
       "      <th></th>\n",
       "      <th></th>\n",
       "      <th></th>\n",
       "      <th></th>\n",
       "      <th></th>\n",
       "      <th></th>\n",
       "      <th></th>\n",
       "      <th></th>\n",
       "      <th></th>\n",
       "      <th></th>\n",
       "      <th></th>\n",
       "      <th></th>\n",
       "      <th></th>\n",
       "      <th></th>\n",
       "      <th></th>\n",
       "      <th></th>\n",
       "      <th></th>\n",
       "      <th></th>\n",
       "      <th></th>\n",
       "      <th></th>\n",
       "      <th></th>\n",
       "      <th></th>\n",
       "      <th></th>\n",
       "      <th></th>\n",
       "      <th></th>\n",
       "      <th></th>\n",
       "      <th></th>\n",
       "      <th></th>\n",
       "      <th></th>\n",
       "      <th></th>\n",
       "      <th></th>\n",
       "      <th></th>\n",
       "      <th></th>\n",
       "      <th></th>\n",
       "      <th></th>\n",
       "      <th></th>\n",
       "      <th></th>\n",
       "      <th></th>\n",
       "      <th></th>\n",
       "      <th></th>\n",
       "      <th></th>\n",
       "      <th></th>\n",
       "      <th></th>\n",
       "      <th></th>\n",
       "      <th></th>\n",
       "      <th></th>\n",
       "      <th></th>\n",
       "      <th></th>\n",
       "      <th></th>\n",
       "      <th></th>\n",
       "      <th></th>\n",
       "      <th></th>\n",
       "      <th></th>\n",
       "      <th></th>\n",
       "      <th></th>\n",
       "      <th></th>\n",
       "      <th></th>\n",
       "      <th></th>\n",
       "      <th></th>\n",
       "      <th></th>\n",
       "      <th></th>\n",
       "      <th></th>\n",
       "      <th></th>\n",
       "      <th></th>\n",
       "      <th></th>\n",
       "      <th></th>\n",
       "      <th></th>\n",
       "      <th></th>\n",
       "      <th></th>\n",
       "      <th></th>\n",
       "      <th></th>\n",
       "      <th></th>\n",
       "      <th></th>\n",
       "      <th></th>\n",
       "      <th></th>\n",
       "      <th></th>\n",
       "      <th></th>\n",
       "      <th></th>\n",
       "      <th></th>\n",
       "    </tr>\n",
       "  </thead>\n",
       "  <tbody>\n",
       "    <tr>\n",
       "      <th>362106</th>\n",
       "      <td>364</td>\n",
       "      <td>2017090700</td>\n",
       "      <td>2017-09-07 00:00:00</td>\n",
       "      <td>12:08</td>\n",
       "      <td>728.0</td>\n",
       "      <td>1628.0</td>\n",
       "      <td>3428.0</td>\n",
       "      <td>Half1</td>\n",
       "      <td>0</td>\n",
       "      <td>1</td>\n",
       "      <td>NE</td>\n",
       "      <td>KC</td>\n",
       "      <td>NE</td>\n",
       "      <td>home</td>\n",
       "      <td>KC</td>\n",
       "      <td>KC</td>\n",
       "      <td>15.0</td>\n",
       "      <td>1</td>\n",
       "      <td>1</td>\n",
       "      <td>NaN</td>\n",
       "      <td>0.0</td>\n",
       "      <td>KC 15</td>\n",
       "      <td>0</td>\n",
       "      <td>73</td>\n",
       "      <td>S.Gostkowski extra point is GOOD, Center-J.Car...</td>\n",
       "      <td>extra_point</td>\n",
       "      <td>0.0</td>\n",
       "      <td>0</td>\n",
       "      <td>0.0</td>\n",
       "      <td>0.0</td>\n",
       "      <td>NaN</td>\n",
       "      <td>33.0</td>\n",
       "      <td>good</td>\n",
       "      <td>NaN</td>\n",
       "      <td>NaN</td>\n",
       "      <td>7</td>\n",
       "      <td>0</td>\n",
       "      <td>6.0</td>\n",
       "      <td>6.0</td>\n",
       "      <td>0.0</td>\n",
       "      <td>0.0</td>\n",
       "      <td>0.0</td>\n",
       "      <td>0.0</td>\n",
       "      <td>0.0</td>\n",
       "      <td>1.0</td>\n",
       "      <td>0.0</td>\n",
       "      <td>0.0</td>\n",
       "      <td>0.0</td>\n",
       "      <td>0.0</td>\n",
       "      <td>2017-09-07 20:30:00</td>\n",
       "      <td>0 days 00:08:36.000000000</td>\n",
       "      <td>2017-09-07 20:38:36</td>\n",
       "      <td>2017-09-07 20:38:36</td>\n",
       "      <td>2017-09-07 21:00:00</td>\n",
       "      <td>1012.9</td>\n",
       "      <td>Foxborough</td>\n",
       "      <td>11.6</td>\n",
       "      <td>FieldTurf CORE</td>\n",
       "      <td>67.0</td>\n",
       "      <td>0.0</td>\n",
       "      <td>Open</td>\n",
       "      <td>NE</td>\n",
       "      <td>17.8</td>\n",
       "      <td>2017-09-07 21:00:00</td>\n",
       "      <td>2017-09-08 01:00:00</td>\n",
       "      <td>300.0</td>\n",
       "      <td>20.5</td>\n",
       "      <td>0</td>\n",
       "      <td>KC @ NE 2017-09-07</td>\n",
       "      <td>1</td>\n",
       "      <td>0</td>\n",
       "      <td>0</td>\n",
       "      <td>0</td>\n",
       "      <td>0</td>\n",
       "      <td>0</td>\n",
       "      <td>0</td>\n",
       "      <td>0</td>\n",
       "      <td>0</td>\n",
       "      <td>0</td>\n",
       "      <td>0</td>\n",
       "      <td>0</td>\n",
       "      <td>0</td>\n",
       "      <td>0</td>\n",
       "      <td>0</td>\n",
       "      <td>0</td>\n",
       "      <td>0</td>\n",
       "      <td>0</td>\n",
       "      <td>A</td>\n",
       "      <td>0</td>\n",
       "      <td>0</td>\n",
       "      <td>0</td>\n",
       "      <td>0</td>\n",
       "      <td>H</td>\n",
       "      <td>0</td>\n",
       "      <td>0</td>\n",
       "      <td>0</td>\n",
       "      <td>0</td>\n",
       "      <td>0</td>\n",
       "      <td>0</td>\n",
       "      <td>0</td>\n",
       "      <td>0</td>\n",
       "      <td>0</td>\n",
       "      <td>0</td>\n",
       "      <td>0</td>\n",
       "      <td>2017</td>\n",
       "      <td>1</td>\n",
       "    </tr>\n",
       "    <tr>\n",
       "      <th>362108</th>\n",
       "      <td>395</td>\n",
       "      <td>2017090700</td>\n",
       "      <td>2017-09-07 00:00:00</td>\n",
       "      <td>12:08</td>\n",
       "      <td>728.0</td>\n",
       "      <td>1628.0</td>\n",
       "      <td>3428.0</td>\n",
       "      <td>Half1</td>\n",
       "      <td>0</td>\n",
       "      <td>1</td>\n",
       "      <td>NE</td>\n",
       "      <td>KC</td>\n",
       "      <td>KC</td>\n",
       "      <td>away</td>\n",
       "      <td>NE</td>\n",
       "      <td>KC</td>\n",
       "      <td>75.0</td>\n",
       "      <td>2</td>\n",
       "      <td>0</td>\n",
       "      <td>1.0</td>\n",
       "      <td>0.0</td>\n",
       "      <td>KC 25</td>\n",
       "      <td>10</td>\n",
       "      <td>7</td>\n",
       "      <td>(12:08) (Shotgun) K.Hunt right tackle to KC 32...</td>\n",
       "      <td>run</td>\n",
       "      <td>7.0</td>\n",
       "      <td>0</td>\n",
       "      <td>0.0</td>\n",
       "      <td>0.0</td>\n",
       "      <td>NaN</td>\n",
       "      <td>NaN</td>\n",
       "      <td>NaN</td>\n",
       "      <td>NaN</td>\n",
       "      <td>NaN</td>\n",
       "      <td>7</td>\n",
       "      <td>0</td>\n",
       "      <td>0.0</td>\n",
       "      <td>0.0</td>\n",
       "      <td>0.0</td>\n",
       "      <td>0.0</td>\n",
       "      <td>0.0</td>\n",
       "      <td>0.0</td>\n",
       "      <td>0.0</td>\n",
       "      <td>0.0</td>\n",
       "      <td>0.0</td>\n",
       "      <td>0.0</td>\n",
       "      <td>1.0</td>\n",
       "      <td>0.0</td>\n",
       "      <td>2017-09-07 20:30:00</td>\n",
       "      <td>0 days 00:08:36.000000000</td>\n",
       "      <td>2017-09-07 20:38:36</td>\n",
       "      <td>2017-09-07 20:38:36</td>\n",
       "      <td>2017-09-07 21:00:00</td>\n",
       "      <td>1012.9</td>\n",
       "      <td>Foxborough</td>\n",
       "      <td>11.6</td>\n",
       "      <td>FieldTurf CORE</td>\n",
       "      <td>67.0</td>\n",
       "      <td>0.0</td>\n",
       "      <td>Open</td>\n",
       "      <td>NE</td>\n",
       "      <td>17.8</td>\n",
       "      <td>2017-09-07 21:00:00</td>\n",
       "      <td>2017-09-08 01:00:00</td>\n",
       "      <td>300.0</td>\n",
       "      <td>20.5</td>\n",
       "      <td>0</td>\n",
       "      <td>KC @ NE 2017-09-07</td>\n",
       "      <td>1</td>\n",
       "      <td>0</td>\n",
       "      <td>0</td>\n",
       "      <td>0</td>\n",
       "      <td>0</td>\n",
       "      <td>0</td>\n",
       "      <td>0</td>\n",
       "      <td>0</td>\n",
       "      <td>0</td>\n",
       "      <td>0</td>\n",
       "      <td>0</td>\n",
       "      <td>0</td>\n",
       "      <td>0</td>\n",
       "      <td>0</td>\n",
       "      <td>0</td>\n",
       "      <td>0</td>\n",
       "      <td>0</td>\n",
       "      <td>0</td>\n",
       "      <td>A</td>\n",
       "      <td>0</td>\n",
       "      <td>0</td>\n",
       "      <td>0</td>\n",
       "      <td>0</td>\n",
       "      <td>H</td>\n",
       "      <td>0</td>\n",
       "      <td>0</td>\n",
       "      <td>0</td>\n",
       "      <td>0</td>\n",
       "      <td>0</td>\n",
       "      <td>0</td>\n",
       "      <td>0</td>\n",
       "      <td>0</td>\n",
       "      <td>0</td>\n",
       "      <td>0</td>\n",
       "      <td>0</td>\n",
       "      <td>2017</td>\n",
       "      <td>1</td>\n",
       "    </tr>\n",
       "    <tr>\n",
       "      <th>362116</th>\n",
       "      <td>653</td>\n",
       "      <td>2017090700</td>\n",
       "      <td>2017-09-07 00:00:00</td>\n",
       "      <td>09:34</td>\n",
       "      <td>574.0</td>\n",
       "      <td>1474.0</td>\n",
       "      <td>3274.0</td>\n",
       "      <td>Half1</td>\n",
       "      <td>0</td>\n",
       "      <td>1</td>\n",
       "      <td>NE</td>\n",
       "      <td>KC</td>\n",
       "      <td>NE</td>\n",
       "      <td>home</td>\n",
       "      <td>KC</td>\n",
       "      <td>KC</td>\n",
       "      <td>10.0</td>\n",
       "      <td>3</td>\n",
       "      <td>0</td>\n",
       "      <td>4.0</td>\n",
       "      <td>0.0</td>\n",
       "      <td>KC 10</td>\n",
       "      <td>1</td>\n",
       "      <td>22</td>\n",
       "      <td>(9:34) N.Solder reported in as eligible.  M.Gi...</td>\n",
       "      <td>run</td>\n",
       "      <td>0.0</td>\n",
       "      <td>0</td>\n",
       "      <td>0.0</td>\n",
       "      <td>0.0</td>\n",
       "      <td>NaN</td>\n",
       "      <td>NaN</td>\n",
       "      <td>NaN</td>\n",
       "      <td>NaN</td>\n",
       "      <td>NaN</td>\n",
       "      <td>7</td>\n",
       "      <td>0</td>\n",
       "      <td>7.0</td>\n",
       "      <td>7.0</td>\n",
       "      <td>0.0</td>\n",
       "      <td>0.0</td>\n",
       "      <td>0.0</td>\n",
       "      <td>0.0</td>\n",
       "      <td>0.0</td>\n",
       "      <td>0.0</td>\n",
       "      <td>0.0</td>\n",
       "      <td>0.0</td>\n",
       "      <td>0.0</td>\n",
       "      <td>0.0</td>\n",
       "      <td>2017-09-07 20:30:00</td>\n",
       "      <td>0 days 00:16:18.000000000</td>\n",
       "      <td>2017-09-07 20:46:18</td>\n",
       "      <td>2017-09-07 20:46:18</td>\n",
       "      <td>2017-09-07 21:00:00</td>\n",
       "      <td>1012.9</td>\n",
       "      <td>Foxborough</td>\n",
       "      <td>11.6</td>\n",
       "      <td>FieldTurf CORE</td>\n",
       "      <td>67.0</td>\n",
       "      <td>0.0</td>\n",
       "      <td>Open</td>\n",
       "      <td>NE</td>\n",
       "      <td>17.8</td>\n",
       "      <td>2017-09-07 21:00:00</td>\n",
       "      <td>2017-09-08 01:00:00</td>\n",
       "      <td>300.0</td>\n",
       "      <td>20.5</td>\n",
       "      <td>0</td>\n",
       "      <td>KC @ NE 2017-09-07</td>\n",
       "      <td>1</td>\n",
       "      <td>0</td>\n",
       "      <td>0</td>\n",
       "      <td>0</td>\n",
       "      <td>0</td>\n",
       "      <td>0</td>\n",
       "      <td>0</td>\n",
       "      <td>0</td>\n",
       "      <td>0</td>\n",
       "      <td>0</td>\n",
       "      <td>0</td>\n",
       "      <td>0</td>\n",
       "      <td>0</td>\n",
       "      <td>0</td>\n",
       "      <td>0</td>\n",
       "      <td>0</td>\n",
       "      <td>0</td>\n",
       "      <td>0</td>\n",
       "      <td>A</td>\n",
       "      <td>0</td>\n",
       "      <td>0</td>\n",
       "      <td>0</td>\n",
       "      <td>0</td>\n",
       "      <td>H</td>\n",
       "      <td>0</td>\n",
       "      <td>0</td>\n",
       "      <td>0</td>\n",
       "      <td>0</td>\n",
       "      <td>0</td>\n",
       "      <td>0</td>\n",
       "      <td>0</td>\n",
       "      <td>0</td>\n",
       "      <td>0</td>\n",
       "      <td>0</td>\n",
       "      <td>0</td>\n",
       "      <td>2017</td>\n",
       "      <td>1</td>\n",
       "    </tr>\n",
       "    <tr>\n",
       "      <th>362129</th>\n",
       "      <td>958</td>\n",
       "      <td>2017090700</td>\n",
       "      <td>2017-09-07 00:00:00</td>\n",
       "      <td>03:03</td>\n",
       "      <td>183.0</td>\n",
       "      <td>1083.0</td>\n",
       "      <td>2883.0</td>\n",
       "      <td>Half1</td>\n",
       "      <td>0</td>\n",
       "      <td>1</td>\n",
       "      <td>NE</td>\n",
       "      <td>KC</td>\n",
       "      <td>KC</td>\n",
       "      <td>away</td>\n",
       "      <td>NE</td>\n",
       "      <td>NE</td>\n",
       "      <td>15.0</td>\n",
       "      <td>4</td>\n",
       "      <td>1</td>\n",
       "      <td>NaN</td>\n",
       "      <td>0.0</td>\n",
       "      <td>NE 15</td>\n",
       "      <td>0</td>\n",
       "      <td>90</td>\n",
       "      <td>C.Santos extra point is GOOD, Center-J.Winches...</td>\n",
       "      <td>extra_point</td>\n",
       "      <td>0.0</td>\n",
       "      <td>0</td>\n",
       "      <td>0.0</td>\n",
       "      <td>0.0</td>\n",
       "      <td>NaN</td>\n",
       "      <td>33.0</td>\n",
       "      <td>good</td>\n",
       "      <td>NaN</td>\n",
       "      <td>NaN</td>\n",
       "      <td>7</td>\n",
       "      <td>7</td>\n",
       "      <td>6.0</td>\n",
       "      <td>6.0</td>\n",
       "      <td>0.0</td>\n",
       "      <td>0.0</td>\n",
       "      <td>0.0</td>\n",
       "      <td>0.0</td>\n",
       "      <td>0.0</td>\n",
       "      <td>1.0</td>\n",
       "      <td>0.0</td>\n",
       "      <td>0.0</td>\n",
       "      <td>0.0</td>\n",
       "      <td>0.0</td>\n",
       "      <td>2017-09-07 20:30:00</td>\n",
       "      <td>0 days 00:35:51.000000000</td>\n",
       "      <td>2017-09-07 21:05:51</td>\n",
       "      <td>2017-09-07 21:05:51</td>\n",
       "      <td>2017-09-07 21:00:00</td>\n",
       "      <td>1012.9</td>\n",
       "      <td>Foxborough</td>\n",
       "      <td>11.6</td>\n",
       "      <td>FieldTurf CORE</td>\n",
       "      <td>67.0</td>\n",
       "      <td>0.0</td>\n",
       "      <td>Open</td>\n",
       "      <td>NE</td>\n",
       "      <td>17.8</td>\n",
       "      <td>2017-09-07 21:00:00</td>\n",
       "      <td>2017-09-08 01:00:00</td>\n",
       "      <td>300.0</td>\n",
       "      <td>20.5</td>\n",
       "      <td>0</td>\n",
       "      <td>KC @ NE 2017-09-07</td>\n",
       "      <td>1</td>\n",
       "      <td>0</td>\n",
       "      <td>0</td>\n",
       "      <td>0</td>\n",
       "      <td>0</td>\n",
       "      <td>0</td>\n",
       "      <td>0</td>\n",
       "      <td>0</td>\n",
       "      <td>0</td>\n",
       "      <td>0</td>\n",
       "      <td>0</td>\n",
       "      <td>0</td>\n",
       "      <td>0</td>\n",
       "      <td>0</td>\n",
       "      <td>0</td>\n",
       "      <td>0</td>\n",
       "      <td>0</td>\n",
       "      <td>0</td>\n",
       "      <td>A</td>\n",
       "      <td>0</td>\n",
       "      <td>0</td>\n",
       "      <td>0</td>\n",
       "      <td>0</td>\n",
       "      <td>H</td>\n",
       "      <td>0</td>\n",
       "      <td>0</td>\n",
       "      <td>0</td>\n",
       "      <td>0</td>\n",
       "      <td>0</td>\n",
       "      <td>0</td>\n",
       "      <td>0</td>\n",
       "      <td>0</td>\n",
       "      <td>0</td>\n",
       "      <td>0</td>\n",
       "      <td>0</td>\n",
       "      <td>2017</td>\n",
       "      <td>1</td>\n",
       "    </tr>\n",
       "    <tr>\n",
       "      <th>362140</th>\n",
       "      <td>1219</td>\n",
       "      <td>2017090700</td>\n",
       "      <td>2017-09-07 00:00:00</td>\n",
       "      <td>15:00</td>\n",
       "      <td>900.0</td>\n",
       "      <td>900.0</td>\n",
       "      <td>2700.0</td>\n",
       "      <td>Half1</td>\n",
       "      <td>0</td>\n",
       "      <td>2</td>\n",
       "      <td>NE</td>\n",
       "      <td>KC</td>\n",
       "      <td>NE</td>\n",
       "      <td>home</td>\n",
       "      <td>KC</td>\n",
       "      <td>KC</td>\n",
       "      <td>8.0</td>\n",
       "      <td>5</td>\n",
       "      <td>1</td>\n",
       "      <td>4.0</td>\n",
       "      <td>0.0</td>\n",
       "      <td>KC 8</td>\n",
       "      <td>1</td>\n",
       "      <td>67</td>\n",
       "      <td>(15:00) S.Gostkowski 25 yard field goal is GOO...</td>\n",
       "      <td>field_goal</td>\n",
       "      <td>0.0</td>\n",
       "      <td>0</td>\n",
       "      <td>0.0</td>\n",
       "      <td>0.0</td>\n",
       "      <td>made</td>\n",
       "      <td>25.0</td>\n",
       "      <td>NaN</td>\n",
       "      <td>NaN</td>\n",
       "      <td>NaN</td>\n",
       "      <td>10</td>\n",
       "      <td>7</td>\n",
       "      <td>7.0</td>\n",
       "      <td>7.0</td>\n",
       "      <td>0.0</td>\n",
       "      <td>0.0</td>\n",
       "      <td>0.0</td>\n",
       "      <td>0.0</td>\n",
       "      <td>0.0</td>\n",
       "      <td>0.0</td>\n",
       "      <td>0.0</td>\n",
       "      <td>1.0</td>\n",
       "      <td>0.0</td>\n",
       "      <td>0.0</td>\n",
       "      <td>2017-09-07 20:30:00</td>\n",
       "      <td>0 days 00:45:00.000000000</td>\n",
       "      <td>2017-09-07 21:15:00</td>\n",
       "      <td>2017-09-07 21:15:00</td>\n",
       "      <td>2017-09-07 21:00:00</td>\n",
       "      <td>1012.9</td>\n",
       "      <td>Foxborough</td>\n",
       "      <td>11.6</td>\n",
       "      <td>FieldTurf CORE</td>\n",
       "      <td>67.0</td>\n",
       "      <td>0.0</td>\n",
       "      <td>Open</td>\n",
       "      <td>NE</td>\n",
       "      <td>17.8</td>\n",
       "      <td>2017-09-07 21:00:00</td>\n",
       "      <td>2017-09-08 01:00:00</td>\n",
       "      <td>300.0</td>\n",
       "      <td>20.5</td>\n",
       "      <td>0</td>\n",
       "      <td>KC @ NE 2017-09-07</td>\n",
       "      <td>1</td>\n",
       "      <td>0</td>\n",
       "      <td>0</td>\n",
       "      <td>0</td>\n",
       "      <td>0</td>\n",
       "      <td>0</td>\n",
       "      <td>0</td>\n",
       "      <td>0</td>\n",
       "      <td>0</td>\n",
       "      <td>0</td>\n",
       "      <td>0</td>\n",
       "      <td>0</td>\n",
       "      <td>0</td>\n",
       "      <td>0</td>\n",
       "      <td>0</td>\n",
       "      <td>0</td>\n",
       "      <td>0</td>\n",
       "      <td>0</td>\n",
       "      <td>A</td>\n",
       "      <td>0</td>\n",
       "      <td>0</td>\n",
       "      <td>0</td>\n",
       "      <td>0</td>\n",
       "      <td>H</td>\n",
       "      <td>0</td>\n",
       "      <td>0</td>\n",
       "      <td>0</td>\n",
       "      <td>0</td>\n",
       "      <td>0</td>\n",
       "      <td>0</td>\n",
       "      <td>0</td>\n",
       "      <td>0</td>\n",
       "      <td>0</td>\n",
       "      <td>0</td>\n",
       "      <td>0</td>\n",
       "      <td>2017</td>\n",
       "      <td>1</td>\n",
       "    </tr>\n",
       "  </tbody>\n",
       "</table>\n",
       "</div>"
      ],
      "text/plain": [
       "        play_id     game_id            game_date   time  \\\n",
       "index                                                     \n",
       "362106      364  2017090700  2017-09-07 00:00:00  12:08   \n",
       "362108      395  2017090700  2017-09-07 00:00:00  12:08   \n",
       "362116      653  2017090700  2017-09-07 00:00:00  09:34   \n",
       "362129      958  2017090700  2017-09-07 00:00:00  03:03   \n",
       "362140     1219  2017090700  2017-09-07 00:00:00  15:00   \n",
       "\n",
       "        quarter_seconds_remaining  half_seconds_remaining  \\\n",
       "index                                                       \n",
       "362106                      728.0                  1628.0   \n",
       "362108                      728.0                  1628.0   \n",
       "362116                      574.0                  1474.0   \n",
       "362129                      183.0                  1083.0   \n",
       "362140                      900.0                   900.0   \n",
       "\n",
       "        game_seconds_remaining game_half  quarter_end  qtr home_team  \\\n",
       "index                                                                  \n",
       "362106                  3428.0     Half1            0    1        NE   \n",
       "362108                  3428.0     Half1            0    1        NE   \n",
       "362116                  3274.0     Half1            0    1        NE   \n",
       "362129                  2883.0     Half1            0    1        NE   \n",
       "362140                  2700.0     Half1            0    2        NE   \n",
       "\n",
       "       away_team posteam posteam_type defteam side_of_field  yardline_100  \\\n",
       "index                                                                       \n",
       "362106        KC      NE         home      KC            KC          15.0   \n",
       "362108        KC      KC         away      NE            KC          75.0   \n",
       "362116        KC      NE         home      KC            KC          10.0   \n",
       "362129        KC      KC         away      NE            NE          15.0   \n",
       "362140        KC      NE         home      KC            KC           8.0   \n",
       "\n",
       "        drive  sp  down  goal_to_go  yrdln  ydstogo  ydsnet  \\\n",
       "index                                                         \n",
       "362106      1   1   NaN         0.0  KC 15        0      73   \n",
       "362108      2   0   1.0         0.0  KC 25       10       7   \n",
       "362116      3   0   4.0         0.0  KC 10        1      22   \n",
       "362129      4   1   NaN         0.0  NE 15        0      90   \n",
       "362140      5   1   4.0         0.0   KC 8        1      67   \n",
       "\n",
       "                                                     desc    play_type  \\\n",
       "index                                                                    \n",
       "362106  S.Gostkowski extra point is GOOD, Center-J.Car...  extra_point   \n",
       "362108  (12:08) (Shotgun) K.Hunt right tackle to KC 32...          run   \n",
       "362116  (9:34) N.Solder reported in as eligible.  M.Gi...          run   \n",
       "362129  C.Santos extra point is GOOD, Center-J.Winches...  extra_point   \n",
       "362140  (15:00) S.Gostkowski 25 yard field goal is GOO...   field_goal   \n",
       "\n",
       "        yards_gained pass_length  air_yards  yards_after_catch  \\\n",
       "index                                                            \n",
       "362106           0.0           0        0.0                0.0   \n",
       "362108           7.0           0        0.0                0.0   \n",
       "362116           0.0           0        0.0                0.0   \n",
       "362129           0.0           0        0.0                0.0   \n",
       "362140           0.0           0        0.0                0.0   \n",
       "\n",
       "       field_goal_result  kick_distance extra_point_result  \\\n",
       "index                                                        \n",
       "362106               NaN           33.0               good   \n",
       "362108               NaN            NaN                NaN   \n",
       "362116               NaN            NaN                NaN   \n",
       "362129               NaN           33.0               good   \n",
       "362140              made           25.0                NaN   \n",
       "\n",
       "       two_point_conv_result td_team  total_home_score  total_away_score  \\\n",
       "index                                                                      \n",
       "362106                   NaN     NaN                 7                 0   \n",
       "362108                   NaN     NaN                 7                 0   \n",
       "362116                   NaN     NaN                 7                 0   \n",
       "362129                   NaN     NaN                 7                 7   \n",
       "362140                   NaN     NaN                10                 7   \n",
       "\n",
       "        posteam_score  defteam_score  sack  touchdown  pass_touchdown  \\\n",
       "index                                                                   \n",
       "362106            6.0            6.0   0.0        0.0             0.0   \n",
       "362108            0.0            0.0   0.0        0.0             0.0   \n",
       "362116            7.0            7.0   0.0        0.0             0.0   \n",
       "362129            6.0            6.0   0.0        0.0             0.0   \n",
       "362140            7.0            7.0   0.0        0.0             0.0   \n",
       "\n",
       "        rush_touchdown  return_touchdown  extra_point_attempt  \\\n",
       "index                                                           \n",
       "362106             0.0               0.0                  1.0   \n",
       "362108             0.0               0.0                  0.0   \n",
       "362116             0.0               0.0                  0.0   \n",
       "362129             0.0               0.0                  1.0   \n",
       "362140             0.0               0.0                  0.0   \n",
       "\n",
       "        two_point_attempt  field_goal_attempt  fumble  complete_pass  \\\n",
       "index                                                                  \n",
       "362106                0.0                 0.0     0.0            0.0   \n",
       "362108                0.0                 0.0     1.0            0.0   \n",
       "362116                0.0                 0.0     0.0            0.0   \n",
       "362129                0.0                 0.0     0.0            0.0   \n",
       "362140                0.0                 1.0     0.0            0.0   \n",
       "\n",
       "                 Start_Time                       diff       Estimated_Time  \\\n",
       "index                                                                         \n",
       "362106  2017-09-07 20:30:00  0 days 00:08:36.000000000  2017-09-07 20:38:36   \n",
       "362108  2017-09-07 20:30:00  0 days 00:08:36.000000000  2017-09-07 20:38:36   \n",
       "362116  2017-09-07 20:30:00  0 days 00:16:18.000000000  2017-09-07 20:46:18   \n",
       "362129  2017-09-07 20:30:00  0 days 00:35:51.000000000  2017-09-07 21:05:51   \n",
       "362140  2017-09-07 20:30:00  0 days 00:45:00.000000000  2017-09-07 21:15:00   \n",
       "\n",
       "       Estimated Time (EST)      Estimated_Hour  Air Pressure (hPa)  \\\n",
       "index                                                                 \n",
       "362106  2017-09-07 20:38:36 2017-09-07 21:00:00              1012.9   \n",
       "362108  2017-09-07 20:38:36 2017-09-07 21:00:00              1012.9   \n",
       "362116  2017-09-07 20:46:18 2017-09-07 21:00:00              1012.9   \n",
       "362129  2017-09-07 21:05:51 2017-09-07 21:00:00              1012.9   \n",
       "362140  2017-09-07 21:15:00 2017-09-07 21:00:00              1012.9   \n",
       "\n",
       "              City  Dewpoint (°C)           Field  Humidity (%)  \\\n",
       "index                                                             \n",
       "362106  Foxborough           11.6  FieldTurf CORE          67.0   \n",
       "362108  Foxborough           11.6  FieldTurf CORE          67.0   \n",
       "362116  Foxborough           11.6  FieldTurf CORE          67.0   \n",
       "362129  Foxborough           11.6  FieldTurf CORE          67.0   \n",
       "362140  Foxborough           11.6  FieldTurf CORE          67.0   \n",
       "\n",
       "        Precipitation (mm)  Roof Team Abbreviation  Temperature (°C)  \\\n",
       "index                                                                  \n",
       "362106                 0.0  Open                NE              17.8   \n",
       "362108                 0.0  Open                NE              17.8   \n",
       "362116                 0.0  Open                NE              17.8   \n",
       "362129                 0.0  Open                NE              17.8   \n",
       "362140                 0.0  Open                NE              17.8   \n",
       "\n",
       "                Time (EST)          Time (GMT)  Wind Direction (deg)  \\\n",
       "index                                                                  \n",
       "362106 2017-09-07 21:00:00 2017-09-08 01:00:00                 300.0   \n",
       "362108 2017-09-07 21:00:00 2017-09-08 01:00:00                 300.0   \n",
       "362116 2017-09-07 21:00:00 2017-09-08 01:00:00                 300.0   \n",
       "362129 2017-09-07 21:00:00 2017-09-08 01:00:00                 300.0   \n",
       "362140 2017-09-07 21:00:00 2017-09-08 01:00:00                 300.0   \n",
       "\n",
       "        Wind Speed (km/h)  added_time           game_name  end_of_drive  \\\n",
       "index                                                                     \n",
       "362106               20.5           0  KC @ NE 2017-09-07             1   \n",
       "362108               20.5           0  KC @ NE 2017-09-07             1   \n",
       "362116               20.5           0  KC @ NE 2017-09-07             1   \n",
       "362129               20.5           0  KC @ NE 2017-09-07             1   \n",
       "362140               20.5           0  KC @ NE 2017-09-07             1   \n",
       "\n",
       "        end_of_game  INT ARI ATL BAL BUF CAR CHI CIN CLE DAL DEN DET GB HOU  \\\n",
       "index                                                                         \n",
       "362106            0    0   0   0   0   0   0   0   0   0   0   0   0  0   0   \n",
       "362108            0    0   0   0   0   0   0   0   0   0   0   0   0  0   0   \n",
       "362116            0    0   0   0   0   0   0   0   0   0   0   0   0  0   0   \n",
       "362129            0    0   0   0   0   0   0   0   0   0   0   0   0  0   0   \n",
       "362140            0    0   0   0   0   0   0   0   0   0   0   0   0  0   0   \n",
       "\n",
       "       IND JAX KC LA LAC MIA MIN NE NO NYG NYJ OAK PHI PIT SEA SF TB TEN WAS  \\\n",
       "index                                                                          \n",
       "362106   0   0  A  0   0   0   0  H  0   0   0   0   0   0   0  0  0   0   0   \n",
       "362108   0   0  A  0   0   0   0  H  0   0   0   0   0   0   0  0  0   0   0   \n",
       "362116   0   0  A  0   0   0   0  H  0   0   0   0   0   0   0  0  0   0   0   \n",
       "362129   0   0  A  0   0   0   0  H  0   0   0   0   0   0   0  0  0   0   0   \n",
       "362140   0   0  A  0   0   0   0  H  0   0   0   0   0   0   0  0  0   0   0   \n",
       "\n",
       "        year  week  \n",
       "index               \n",
       "362106  2017     1  \n",
       "362108  2017     1  \n",
       "362116  2017     1  \n",
       "362129  2017     1  \n",
       "362140  2017     1  "
      ]
     },
     "execution_count": 225,
     "metadata": {},
     "output_type": "execute_result"
    }
   ],
   "source": [
    "# Pulling end of drive rows only\n",
    "kc_ne_game[kc_ne_game['end_of_drive'] == 1].head()"
   ]
  },
  {
   "cell_type": "code",
   "execution_count": 226,
   "metadata": {},
   "outputs": [
    {
     "data": {
      "text/html": [
       "<div>\n",
       "<style scoped>\n",
       "    .dataframe tbody tr th:only-of-type {\n",
       "        vertical-align: middle;\n",
       "    }\n",
       "\n",
       "    .dataframe tbody tr th {\n",
       "        vertical-align: top;\n",
       "    }\n",
       "\n",
       "    .dataframe thead th {\n",
       "        text-align: right;\n",
       "    }\n",
       "</style>\n",
       "<table border=\"1\" class=\"dataframe\">\n",
       "  <thead>\n",
       "    <tr style=\"text-align: right;\">\n",
       "      <th></th>\n",
       "      <th></th>\n",
       "      <th>ydsnet</th>\n",
       "    </tr>\n",
       "    <tr>\n",
       "      <th>posteam</th>\n",
       "      <th>drive</th>\n",
       "      <th></th>\n",
       "    </tr>\n",
       "  </thead>\n",
       "  <tbody>\n",
       "    <tr>\n",
       "      <th rowspan=\"5\" valign=\"top\">KC</th>\n",
       "      <th>2</th>\n",
       "      <td>7</td>\n",
       "    </tr>\n",
       "    <tr>\n",
       "      <th>4</th>\n",
       "      <td>90</td>\n",
       "    </tr>\n",
       "    <tr>\n",
       "      <th>6</th>\n",
       "      <td>1</td>\n",
       "    </tr>\n",
       "    <tr>\n",
       "      <th>8</th>\n",
       "      <td>6</td>\n",
       "    </tr>\n",
       "    <tr>\n",
       "      <th>10</th>\n",
       "      <td>92</td>\n",
       "    </tr>\n",
       "    <tr>\n",
       "      <th rowspan=\"6\" valign=\"top\">NE</th>\n",
       "      <th>1</th>\n",
       "      <td>73</td>\n",
       "    </tr>\n",
       "    <tr>\n",
       "      <th>3</th>\n",
       "      <td>22</td>\n",
       "    </tr>\n",
       "    <tr>\n",
       "      <th>5</th>\n",
       "      <td>67</td>\n",
       "    </tr>\n",
       "    <tr>\n",
       "      <th>7</th>\n",
       "      <td>82</td>\n",
       "    </tr>\n",
       "    <tr>\n",
       "      <th>9</th>\n",
       "      <td>4</td>\n",
       "    </tr>\n",
       "    <tr>\n",
       "      <th>11</th>\n",
       "      <td>-1</td>\n",
       "    </tr>\n",
       "  </tbody>\n",
       "</table>\n",
       "</div>"
      ],
      "text/plain": [
       "               ydsnet\n",
       "posteam drive        \n",
       "KC      2           7\n",
       "        4          90\n",
       "        6           1\n",
       "        8           6\n",
       "        10         92\n",
       "NE      1          73\n",
       "        3          22\n",
       "        5          67\n",
       "        7          82\n",
       "        9           4\n",
       "        11         -1"
      ]
     },
     "execution_count": 226,
     "metadata": {},
     "output_type": "execute_result"
    }
   ],
   "source": [
    "# There appears to be something wrong with yardage data for TEN\n",
    "# https://www.espn.com/nfl/playbyplay?gameId=290910023\n",
    "kc_ne_game[(kc_ne_game['end_of_drive'] == 1)&(kc_ne_game['game_half'] == 'Half1')]\\\n",
    "                                            .groupby(['posteam','drive']).agg({'ydsnet':np.sum})"
   ]
  },
  {
   "cell_type": "code",
   "execution_count": 227,
   "metadata": {},
   "outputs": [
    {
     "data": {
      "text/plain": [
       "index\n",
       "362106    73\n",
       "362108     7\n",
       "362116    22\n",
       "362129    90\n",
       "362140    67\n",
       "362145     1\n",
       "362158    82\n",
       "362165     6\n",
       "362169     4\n",
       "362188    92\n",
       "362190    -1\n",
       "Name: ydsnet, dtype: int64"
      ]
     },
     "execution_count": 227,
     "metadata": {},
     "output_type": "execute_result"
    }
   ],
   "source": [
    "kc_ne_game[(kc_ne_game['end_of_drive'] == 1)&(kc_ne_game['game_half'] == 'Half1')]\\\n",
    "                                            .groupby(['posteam','drive'])['ydsnet'].cumsum()"
   ]
  },
  {
   "cell_type": "code",
   "execution_count": 228,
   "metadata": {},
   "outputs": [],
   "source": [
    "trace1 = go.Scatter(\n",
    "      x = kc_ne_game['drive'], \n",
    "      y = kc_ne_game['total_home_score'], \n",
    "      mode = 'lines', \n",
    "      name = 'New England',\n",
    "      type = \"scatter\"\n",
    "    )\n",
    "\n",
    "trace2 = go.Scatter(\n",
    "      x = kc_ne_game['drive'], \n",
    "      y = kc_ne_game['total_away_score'], \n",
    "      mode = \"lines\", \n",
    "      name = 'Kansas City',\n",
    "      type = \"scatter\"\n",
    "    )\n",
    "\n",
    "data = [trace1,trace2]"
   ]
  },
  {
   "cell_type": "code",
   "execution_count": 229,
   "metadata": {},
   "outputs": [
    {
     "data": {
      "application/vnd.plotly.v1+json": {
       "config": {
        "plotlyServerURL": "https://plot.ly"
       },
       "data": [
        {
         "mode": "lines",
         "name": "New England",
         "type": "scatter",
         "x": [
          1,
          1,
          1,
          1,
          1,
          1,
          1,
          1,
          1,
          1,
          1,
          1,
          2,
          2,
          3,
          3,
          3,
          3,
          3,
          3,
          3,
          3,
          4,
          4,
          4,
          4,
          4,
          4,
          4,
          4,
          4,
          4,
          4,
          4,
          4,
          5,
          5,
          5,
          5,
          5,
          5,
          5,
          5,
          5,
          5,
          6,
          6,
          6,
          6,
          6,
          7,
          7,
          7,
          7,
          7,
          7,
          7,
          7,
          7,
          7,
          7,
          7,
          7,
          8,
          8,
          8,
          8,
          8,
          8,
          8,
          9,
          9,
          9,
          9,
          10,
          10,
          10,
          10,
          10,
          10,
          10,
          10,
          10,
          10,
          10,
          10,
          10,
          10,
          10,
          10,
          10,
          10,
          11,
          11,
          12,
          12,
          12,
          12,
          12,
          12,
          12,
          13,
          13,
          13,
          13,
          13,
          13,
          14,
          14,
          15,
          15,
          15,
          15,
          15,
          15,
          15,
          15,
          16,
          16,
          16,
          16,
          17,
          17,
          17,
          17,
          17,
          17,
          18,
          18,
          18,
          18,
          18,
          18,
          18,
          19,
          19,
          19,
          19,
          19,
          19,
          19,
          20,
          20,
          20,
          20,
          20,
          20,
          21,
          21,
          21,
          21,
          21,
          21,
          22,
          22,
          22,
          22,
          22,
          23,
          23,
          23,
          23,
          23,
          23,
          24,
          24,
          24,
          24,
          24,
          24,
          24,
          24,
          24,
          25,
          25,
          25,
          25,
          25,
          26,
          26,
          26,
          27,
          27,
          27,
          27,
          27,
          28,
          28,
          28,
          28,
          28,
          28,
          28,
          28,
          28
         ],
         "y": [
          0,
          0,
          0,
          0,
          0,
          0,
          0,
          0,
          0,
          0,
          6,
          7,
          7,
          7,
          7,
          7,
          7,
          7,
          7,
          7,
          7,
          7,
          7,
          7,
          7,
          7,
          7,
          7,
          7,
          7,
          7,
          7,
          7,
          7,
          7,
          7,
          7,
          7,
          7,
          7,
          7,
          7,
          7,
          7,
          10,
          10,
          10,
          10,
          10,
          10,
          10,
          10,
          10,
          10,
          10,
          10,
          10,
          10,
          10,
          10,
          10,
          16,
          17,
          17,
          17,
          17,
          17,
          17,
          17,
          17,
          17,
          17,
          17,
          17,
          17,
          17,
          17,
          17,
          17,
          17,
          17,
          17,
          17,
          17,
          17,
          17,
          17,
          17,
          17,
          17,
          17,
          17,
          17,
          17,
          17,
          17,
          17,
          17,
          17,
          17,
          17,
          17,
          17,
          17,
          17,
          17,
          17,
          17,
          17,
          17,
          17,
          17,
          17,
          17,
          17,
          17,
          17,
          17,
          17,
          17,
          17,
          17,
          17,
          17,
          17,
          23,
          24,
          24,
          24,
          24,
          24,
          24,
          24,
          24,
          24,
          24,
          24,
          24,
          24,
          24,
          27,
          27,
          27,
          27,
          27,
          27,
          27,
          27,
          27,
          27,
          27,
          27,
          27,
          27,
          27,
          27,
          27,
          27,
          27,
          27,
          27,
          27,
          27,
          27,
          27,
          27,
          27,
          27,
          27,
          27,
          27,
          27,
          27,
          27,
          27,
          27,
          27,
          27,
          27,
          27,
          27,
          27,
          27,
          27,
          27,
          27,
          27,
          27,
          27,
          27,
          27,
          27,
          27,
          27,
          27
         ]
        },
        {
         "mode": "lines",
         "name": "Kansas City",
         "type": "scatter",
         "x": [
          1,
          1,
          1,
          1,
          1,
          1,
          1,
          1,
          1,
          1,
          1,
          1,
          2,
          2,
          3,
          3,
          3,
          3,
          3,
          3,
          3,
          3,
          4,
          4,
          4,
          4,
          4,
          4,
          4,
          4,
          4,
          4,
          4,
          4,
          4,
          5,
          5,
          5,
          5,
          5,
          5,
          5,
          5,
          5,
          5,
          6,
          6,
          6,
          6,
          6,
          7,
          7,
          7,
          7,
          7,
          7,
          7,
          7,
          7,
          7,
          7,
          7,
          7,
          8,
          8,
          8,
          8,
          8,
          8,
          8,
          9,
          9,
          9,
          9,
          10,
          10,
          10,
          10,
          10,
          10,
          10,
          10,
          10,
          10,
          10,
          10,
          10,
          10,
          10,
          10,
          10,
          10,
          11,
          11,
          12,
          12,
          12,
          12,
          12,
          12,
          12,
          13,
          13,
          13,
          13,
          13,
          13,
          14,
          14,
          15,
          15,
          15,
          15,
          15,
          15,
          15,
          15,
          16,
          16,
          16,
          16,
          17,
          17,
          17,
          17,
          17,
          17,
          18,
          18,
          18,
          18,
          18,
          18,
          18,
          19,
          19,
          19,
          19,
          19,
          19,
          19,
          20,
          20,
          20,
          20,
          20,
          20,
          21,
          21,
          21,
          21,
          21,
          21,
          22,
          22,
          22,
          22,
          22,
          23,
          23,
          23,
          23,
          23,
          23,
          24,
          24,
          24,
          24,
          24,
          24,
          24,
          24,
          24,
          25,
          25,
          25,
          25,
          25,
          26,
          26,
          26,
          27,
          27,
          27,
          27,
          27,
          28,
          28,
          28,
          28,
          28,
          28,
          28,
          28,
          28
         ],
         "y": [
          0,
          0,
          0,
          0,
          0,
          0,
          0,
          0,
          0,
          0,
          0,
          0,
          0,
          0,
          0,
          0,
          0,
          0,
          0,
          0,
          0,
          0,
          0,
          0,
          0,
          0,
          0,
          0,
          0,
          0,
          0,
          0,
          0,
          6,
          7,
          7,
          7,
          7,
          7,
          7,
          7,
          7,
          7,
          7,
          7,
          7,
          7,
          7,
          7,
          7,
          7,
          7,
          7,
          7,
          7,
          7,
          7,
          7,
          7,
          7,
          7,
          7,
          7,
          7,
          7,
          7,
          7,
          7,
          7,
          7,
          7,
          7,
          7,
          7,
          7,
          7,
          7,
          7,
          7,
          7,
          7,
          7,
          7,
          7,
          7,
          7,
          7,
          7,
          7,
          7,
          13,
          14,
          14,
          14,
          14,
          14,
          14,
          14,
          14,
          14,
          14,
          14,
          14,
          14,
          14,
          14,
          14,
          20,
          21,
          21,
          21,
          21,
          21,
          21,
          21,
          21,
          21,
          21,
          21,
          21,
          21,
          21,
          21,
          21,
          21,
          21,
          21,
          21,
          21,
          21,
          21,
          21,
          21,
          21,
          21,
          21,
          21,
          21,
          21,
          21,
          21,
          21,
          21,
          21,
          21,
          27,
          28,
          28,
          28,
          28,
          28,
          28,
          28,
          28,
          28,
          28,
          28,
          28,
          28,
          28,
          28,
          28,
          28,
          28,
          28,
          28,
          28,
          28,
          28,
          28,
          28,
          34,
          35,
          35,
          35,
          35,
          35,
          35,
          35,
          41,
          42,
          42,
          42,
          42,
          42,
          42,
          42,
          42,
          42,
          42,
          42,
          42,
          42,
          42,
          42
         ]
        }
       ],
       "layout": {
        "template": {
         "data": {
          "bar": [
           {
            "error_x": {
             "color": "#2a3f5f"
            },
            "error_y": {
             "color": "#2a3f5f"
            },
            "marker": {
             "line": {
              "color": "#E5ECF6",
              "width": 0.5
             }
            },
            "type": "bar"
           }
          ],
          "barpolar": [
           {
            "marker": {
             "line": {
              "color": "#E5ECF6",
              "width": 0.5
             }
            },
            "type": "barpolar"
           }
          ],
          "carpet": [
           {
            "aaxis": {
             "endlinecolor": "#2a3f5f",
             "gridcolor": "white",
             "linecolor": "white",
             "minorgridcolor": "white",
             "startlinecolor": "#2a3f5f"
            },
            "baxis": {
             "endlinecolor": "#2a3f5f",
             "gridcolor": "white",
             "linecolor": "white",
             "minorgridcolor": "white",
             "startlinecolor": "#2a3f5f"
            },
            "type": "carpet"
           }
          ],
          "choropleth": [
           {
            "colorbar": {
             "outlinewidth": 0,
             "ticks": ""
            },
            "type": "choropleth"
           }
          ],
          "contour": [
           {
            "colorbar": {
             "outlinewidth": 0,
             "ticks": ""
            },
            "colorscale": [
             [
              0,
              "#0d0887"
             ],
             [
              0.1111111111111111,
              "#46039f"
             ],
             [
              0.2222222222222222,
              "#7201a8"
             ],
             [
              0.3333333333333333,
              "#9c179e"
             ],
             [
              0.4444444444444444,
              "#bd3786"
             ],
             [
              0.5555555555555556,
              "#d8576b"
             ],
             [
              0.6666666666666666,
              "#ed7953"
             ],
             [
              0.7777777777777778,
              "#fb9f3a"
             ],
             [
              0.8888888888888888,
              "#fdca26"
             ],
             [
              1,
              "#f0f921"
             ]
            ],
            "type": "contour"
           }
          ],
          "contourcarpet": [
           {
            "colorbar": {
             "outlinewidth": 0,
             "ticks": ""
            },
            "type": "contourcarpet"
           }
          ],
          "heatmap": [
           {
            "colorbar": {
             "outlinewidth": 0,
             "ticks": ""
            },
            "colorscale": [
             [
              0,
              "#0d0887"
             ],
             [
              0.1111111111111111,
              "#46039f"
             ],
             [
              0.2222222222222222,
              "#7201a8"
             ],
             [
              0.3333333333333333,
              "#9c179e"
             ],
             [
              0.4444444444444444,
              "#bd3786"
             ],
             [
              0.5555555555555556,
              "#d8576b"
             ],
             [
              0.6666666666666666,
              "#ed7953"
             ],
             [
              0.7777777777777778,
              "#fb9f3a"
             ],
             [
              0.8888888888888888,
              "#fdca26"
             ],
             [
              1,
              "#f0f921"
             ]
            ],
            "type": "heatmap"
           }
          ],
          "heatmapgl": [
           {
            "colorbar": {
             "outlinewidth": 0,
             "ticks": ""
            },
            "colorscale": [
             [
              0,
              "#0d0887"
             ],
             [
              0.1111111111111111,
              "#46039f"
             ],
             [
              0.2222222222222222,
              "#7201a8"
             ],
             [
              0.3333333333333333,
              "#9c179e"
             ],
             [
              0.4444444444444444,
              "#bd3786"
             ],
             [
              0.5555555555555556,
              "#d8576b"
             ],
             [
              0.6666666666666666,
              "#ed7953"
             ],
             [
              0.7777777777777778,
              "#fb9f3a"
             ],
             [
              0.8888888888888888,
              "#fdca26"
             ],
             [
              1,
              "#f0f921"
             ]
            ],
            "type": "heatmapgl"
           }
          ],
          "histogram": [
           {
            "marker": {
             "colorbar": {
              "outlinewidth": 0,
              "ticks": ""
             }
            },
            "type": "histogram"
           }
          ],
          "histogram2d": [
           {
            "colorbar": {
             "outlinewidth": 0,
             "ticks": ""
            },
            "colorscale": [
             [
              0,
              "#0d0887"
             ],
             [
              0.1111111111111111,
              "#46039f"
             ],
             [
              0.2222222222222222,
              "#7201a8"
             ],
             [
              0.3333333333333333,
              "#9c179e"
             ],
             [
              0.4444444444444444,
              "#bd3786"
             ],
             [
              0.5555555555555556,
              "#d8576b"
             ],
             [
              0.6666666666666666,
              "#ed7953"
             ],
             [
              0.7777777777777778,
              "#fb9f3a"
             ],
             [
              0.8888888888888888,
              "#fdca26"
             ],
             [
              1,
              "#f0f921"
             ]
            ],
            "type": "histogram2d"
           }
          ],
          "histogram2dcontour": [
           {
            "colorbar": {
             "outlinewidth": 0,
             "ticks": ""
            },
            "colorscale": [
             [
              0,
              "#0d0887"
             ],
             [
              0.1111111111111111,
              "#46039f"
             ],
             [
              0.2222222222222222,
              "#7201a8"
             ],
             [
              0.3333333333333333,
              "#9c179e"
             ],
             [
              0.4444444444444444,
              "#bd3786"
             ],
             [
              0.5555555555555556,
              "#d8576b"
             ],
             [
              0.6666666666666666,
              "#ed7953"
             ],
             [
              0.7777777777777778,
              "#fb9f3a"
             ],
             [
              0.8888888888888888,
              "#fdca26"
             ],
             [
              1,
              "#f0f921"
             ]
            ],
            "type": "histogram2dcontour"
           }
          ],
          "mesh3d": [
           {
            "colorbar": {
             "outlinewidth": 0,
             "ticks": ""
            },
            "type": "mesh3d"
           }
          ],
          "parcoords": [
           {
            "line": {
             "colorbar": {
              "outlinewidth": 0,
              "ticks": ""
             }
            },
            "type": "parcoords"
           }
          ],
          "pie": [
           {
            "automargin": true,
            "type": "pie"
           }
          ],
          "scatter": [
           {
            "marker": {
             "colorbar": {
              "outlinewidth": 0,
              "ticks": ""
             }
            },
            "type": "scatter"
           }
          ],
          "scatter3d": [
           {
            "line": {
             "colorbar": {
              "outlinewidth": 0,
              "ticks": ""
             }
            },
            "marker": {
             "colorbar": {
              "outlinewidth": 0,
              "ticks": ""
             }
            },
            "type": "scatter3d"
           }
          ],
          "scattercarpet": [
           {
            "marker": {
             "colorbar": {
              "outlinewidth": 0,
              "ticks": ""
             }
            },
            "type": "scattercarpet"
           }
          ],
          "scattergeo": [
           {
            "marker": {
             "colorbar": {
              "outlinewidth": 0,
              "ticks": ""
             }
            },
            "type": "scattergeo"
           }
          ],
          "scattergl": [
           {
            "marker": {
             "colorbar": {
              "outlinewidth": 0,
              "ticks": ""
             }
            },
            "type": "scattergl"
           }
          ],
          "scattermapbox": [
           {
            "marker": {
             "colorbar": {
              "outlinewidth": 0,
              "ticks": ""
             }
            },
            "type": "scattermapbox"
           }
          ],
          "scatterpolar": [
           {
            "marker": {
             "colorbar": {
              "outlinewidth": 0,
              "ticks": ""
             }
            },
            "type": "scatterpolar"
           }
          ],
          "scatterpolargl": [
           {
            "marker": {
             "colorbar": {
              "outlinewidth": 0,
              "ticks": ""
             }
            },
            "type": "scatterpolargl"
           }
          ],
          "scatterternary": [
           {
            "marker": {
             "colorbar": {
              "outlinewidth": 0,
              "ticks": ""
             }
            },
            "type": "scatterternary"
           }
          ],
          "surface": [
           {
            "colorbar": {
             "outlinewidth": 0,
             "ticks": ""
            },
            "colorscale": [
             [
              0,
              "#0d0887"
             ],
             [
              0.1111111111111111,
              "#46039f"
             ],
             [
              0.2222222222222222,
              "#7201a8"
             ],
             [
              0.3333333333333333,
              "#9c179e"
             ],
             [
              0.4444444444444444,
              "#bd3786"
             ],
             [
              0.5555555555555556,
              "#d8576b"
             ],
             [
              0.6666666666666666,
              "#ed7953"
             ],
             [
              0.7777777777777778,
              "#fb9f3a"
             ],
             [
              0.8888888888888888,
              "#fdca26"
             ],
             [
              1,
              "#f0f921"
             ]
            ],
            "type": "surface"
           }
          ],
          "table": [
           {
            "cells": {
             "fill": {
              "color": "#EBF0F8"
             },
             "line": {
              "color": "white"
             }
            },
            "header": {
             "fill": {
              "color": "#C8D4E3"
             },
             "line": {
              "color": "white"
             }
            },
            "type": "table"
           }
          ]
         },
         "layout": {
          "annotationdefaults": {
           "arrowcolor": "#2a3f5f",
           "arrowhead": 0,
           "arrowwidth": 1
          },
          "coloraxis": {
           "colorbar": {
            "outlinewidth": 0,
            "ticks": ""
           }
          },
          "colorscale": {
           "diverging": [
            [
             0,
             "#8e0152"
            ],
            [
             0.1,
             "#c51b7d"
            ],
            [
             0.2,
             "#de77ae"
            ],
            [
             0.3,
             "#f1b6da"
            ],
            [
             0.4,
             "#fde0ef"
            ],
            [
             0.5,
             "#f7f7f7"
            ],
            [
             0.6,
             "#e6f5d0"
            ],
            [
             0.7,
             "#b8e186"
            ],
            [
             0.8,
             "#7fbc41"
            ],
            [
             0.9,
             "#4d9221"
            ],
            [
             1,
             "#276419"
            ]
           ],
           "sequential": [
            [
             0,
             "#0d0887"
            ],
            [
             0.1111111111111111,
             "#46039f"
            ],
            [
             0.2222222222222222,
             "#7201a8"
            ],
            [
             0.3333333333333333,
             "#9c179e"
            ],
            [
             0.4444444444444444,
             "#bd3786"
            ],
            [
             0.5555555555555556,
             "#d8576b"
            ],
            [
             0.6666666666666666,
             "#ed7953"
            ],
            [
             0.7777777777777778,
             "#fb9f3a"
            ],
            [
             0.8888888888888888,
             "#fdca26"
            ],
            [
             1,
             "#f0f921"
            ]
           ],
           "sequentialminus": [
            [
             0,
             "#0d0887"
            ],
            [
             0.1111111111111111,
             "#46039f"
            ],
            [
             0.2222222222222222,
             "#7201a8"
            ],
            [
             0.3333333333333333,
             "#9c179e"
            ],
            [
             0.4444444444444444,
             "#bd3786"
            ],
            [
             0.5555555555555556,
             "#d8576b"
            ],
            [
             0.6666666666666666,
             "#ed7953"
            ],
            [
             0.7777777777777778,
             "#fb9f3a"
            ],
            [
             0.8888888888888888,
             "#fdca26"
            ],
            [
             1,
             "#f0f921"
            ]
           ]
          },
          "colorway": [
           "#636efa",
           "#EF553B",
           "#00cc96",
           "#ab63fa",
           "#FFA15A",
           "#19d3f3",
           "#FF6692",
           "#B6E880",
           "#FF97FF",
           "#FECB52"
          ],
          "font": {
           "color": "#2a3f5f"
          },
          "geo": {
           "bgcolor": "white",
           "lakecolor": "white",
           "landcolor": "#E5ECF6",
           "showlakes": true,
           "showland": true,
           "subunitcolor": "white"
          },
          "hoverlabel": {
           "align": "left"
          },
          "hovermode": "closest",
          "mapbox": {
           "style": "light"
          },
          "paper_bgcolor": "white",
          "plot_bgcolor": "#E5ECF6",
          "polar": {
           "angularaxis": {
            "gridcolor": "white",
            "linecolor": "white",
            "ticks": ""
           },
           "bgcolor": "#E5ECF6",
           "radialaxis": {
            "gridcolor": "white",
            "linecolor": "white",
            "ticks": ""
           }
          },
          "scene": {
           "xaxis": {
            "backgroundcolor": "#E5ECF6",
            "gridcolor": "white",
            "gridwidth": 2,
            "linecolor": "white",
            "showbackground": true,
            "ticks": "",
            "zerolinecolor": "white"
           },
           "yaxis": {
            "backgroundcolor": "#E5ECF6",
            "gridcolor": "white",
            "gridwidth": 2,
            "linecolor": "white",
            "showbackground": true,
            "ticks": "",
            "zerolinecolor": "white"
           },
           "zaxis": {
            "backgroundcolor": "#E5ECF6",
            "gridcolor": "white",
            "gridwidth": 2,
            "linecolor": "white",
            "showbackground": true,
            "ticks": "",
            "zerolinecolor": "white"
           }
          },
          "shapedefaults": {
           "line": {
            "color": "#2a3f5f"
           }
          },
          "ternary": {
           "aaxis": {
            "gridcolor": "white",
            "linecolor": "white",
            "ticks": ""
           },
           "baxis": {
            "gridcolor": "white",
            "linecolor": "white",
            "ticks": ""
           },
           "bgcolor": "#E5ECF6",
           "caxis": {
            "gridcolor": "white",
            "linecolor": "white",
            "ticks": ""
           }
          },
          "title": {
           "x": 0.05
          },
          "xaxis": {
           "automargin": true,
           "gridcolor": "white",
           "linecolor": "white",
           "ticks": "",
           "title": {
            "standoff": 15
           },
           "zerolinecolor": "white",
           "zerolinewidth": 2
          },
          "yaxis": {
           "automargin": true,
           "gridcolor": "white",
           "linecolor": "white",
           "ticks": "",
           "title": {
            "standoff": 15
           },
           "zerolinecolor": "white",
           "zerolinewidth": 2
          }
         }
        },
        "title": {
         "text": "End of Drive Score",
         "x": 0.5,
         "xanchor": "center",
         "y": 0.9,
         "yanchor": "top"
        },
        "xaxis": {
         "ticklen": 1,
         "title": {
          "text": "Drive"
         },
         "zeroline": false
        },
        "yaxis": {
         "ticklen": 5,
         "title": {
          "text": "Points"
         },
         "zeroline": false
        }
       }
      },
      "text/html": [
       "<div>\n",
       "        \n",
       "        \n",
       "            <div id=\"db62b83c-0d5f-4397-95bd-94bf0b7e3445\" class=\"plotly-graph-div\" style=\"height:525px; width:100%;\"></div>\n",
       "            <script type=\"text/javascript\">\n",
       "                require([\"plotly\"], function(Plotly) {\n",
       "                    window.PLOTLYENV=window.PLOTLYENV || {};\n",
       "                    \n",
       "                if (document.getElementById(\"db62b83c-0d5f-4397-95bd-94bf0b7e3445\")) {\n",
       "                    Plotly.newPlot(\n",
       "                        'db62b83c-0d5f-4397-95bd-94bf0b7e3445',\n",
       "                        [{\"mode\": \"lines\", \"name\": \"New England\", \"type\": \"scatter\", \"x\": [1, 1, 1, 1, 1, 1, 1, 1, 1, 1, 1, 1, 2, 2, 3, 3, 3, 3, 3, 3, 3, 3, 4, 4, 4, 4, 4, 4, 4, 4, 4, 4, 4, 4, 4, 5, 5, 5, 5, 5, 5, 5, 5, 5, 5, 6, 6, 6, 6, 6, 7, 7, 7, 7, 7, 7, 7, 7, 7, 7, 7, 7, 7, 8, 8, 8, 8, 8, 8, 8, 9, 9, 9, 9, 10, 10, 10, 10, 10, 10, 10, 10, 10, 10, 10, 10, 10, 10, 10, 10, 10, 10, 11, 11, 12, 12, 12, 12, 12, 12, 12, 13, 13, 13, 13, 13, 13, 14, 14, 15, 15, 15, 15, 15, 15, 15, 15, 16, 16, 16, 16, 17, 17, 17, 17, 17, 17, 18, 18, 18, 18, 18, 18, 18, 19, 19, 19, 19, 19, 19, 19, 20, 20, 20, 20, 20, 20, 21, 21, 21, 21, 21, 21, 22, 22, 22, 22, 22, 23, 23, 23, 23, 23, 23, 24, 24, 24, 24, 24, 24, 24, 24, 24, 25, 25, 25, 25, 25, 26, 26, 26, 27, 27, 27, 27, 27, 28, 28, 28, 28, 28, 28, 28, 28, 28], \"y\": [0, 0, 0, 0, 0, 0, 0, 0, 0, 0, 6, 7, 7, 7, 7, 7, 7, 7, 7, 7, 7, 7, 7, 7, 7, 7, 7, 7, 7, 7, 7, 7, 7, 7, 7, 7, 7, 7, 7, 7, 7, 7, 7, 7, 10, 10, 10, 10, 10, 10, 10, 10, 10, 10, 10, 10, 10, 10, 10, 10, 10, 16, 17, 17, 17, 17, 17, 17, 17, 17, 17, 17, 17, 17, 17, 17, 17, 17, 17, 17, 17, 17, 17, 17, 17, 17, 17, 17, 17, 17, 17, 17, 17, 17, 17, 17, 17, 17, 17, 17, 17, 17, 17, 17, 17, 17, 17, 17, 17, 17, 17, 17, 17, 17, 17, 17, 17, 17, 17, 17, 17, 17, 17, 17, 17, 23, 24, 24, 24, 24, 24, 24, 24, 24, 24, 24, 24, 24, 24, 24, 27, 27, 27, 27, 27, 27, 27, 27, 27, 27, 27, 27, 27, 27, 27, 27, 27, 27, 27, 27, 27, 27, 27, 27, 27, 27, 27, 27, 27, 27, 27, 27, 27, 27, 27, 27, 27, 27, 27, 27, 27, 27, 27, 27, 27, 27, 27, 27, 27, 27, 27, 27, 27, 27, 27]}, {\"mode\": \"lines\", \"name\": \"Kansas City\", \"type\": \"scatter\", \"x\": [1, 1, 1, 1, 1, 1, 1, 1, 1, 1, 1, 1, 2, 2, 3, 3, 3, 3, 3, 3, 3, 3, 4, 4, 4, 4, 4, 4, 4, 4, 4, 4, 4, 4, 4, 5, 5, 5, 5, 5, 5, 5, 5, 5, 5, 6, 6, 6, 6, 6, 7, 7, 7, 7, 7, 7, 7, 7, 7, 7, 7, 7, 7, 8, 8, 8, 8, 8, 8, 8, 9, 9, 9, 9, 10, 10, 10, 10, 10, 10, 10, 10, 10, 10, 10, 10, 10, 10, 10, 10, 10, 10, 11, 11, 12, 12, 12, 12, 12, 12, 12, 13, 13, 13, 13, 13, 13, 14, 14, 15, 15, 15, 15, 15, 15, 15, 15, 16, 16, 16, 16, 17, 17, 17, 17, 17, 17, 18, 18, 18, 18, 18, 18, 18, 19, 19, 19, 19, 19, 19, 19, 20, 20, 20, 20, 20, 20, 21, 21, 21, 21, 21, 21, 22, 22, 22, 22, 22, 23, 23, 23, 23, 23, 23, 24, 24, 24, 24, 24, 24, 24, 24, 24, 25, 25, 25, 25, 25, 26, 26, 26, 27, 27, 27, 27, 27, 28, 28, 28, 28, 28, 28, 28, 28, 28], \"y\": [0, 0, 0, 0, 0, 0, 0, 0, 0, 0, 0, 0, 0, 0, 0, 0, 0, 0, 0, 0, 0, 0, 0, 0, 0, 0, 0, 0, 0, 0, 0, 0, 0, 6, 7, 7, 7, 7, 7, 7, 7, 7, 7, 7, 7, 7, 7, 7, 7, 7, 7, 7, 7, 7, 7, 7, 7, 7, 7, 7, 7, 7, 7, 7, 7, 7, 7, 7, 7, 7, 7, 7, 7, 7, 7, 7, 7, 7, 7, 7, 7, 7, 7, 7, 7, 7, 7, 7, 7, 7, 13, 14, 14, 14, 14, 14, 14, 14, 14, 14, 14, 14, 14, 14, 14, 14, 14, 20, 21, 21, 21, 21, 21, 21, 21, 21, 21, 21, 21, 21, 21, 21, 21, 21, 21, 21, 21, 21, 21, 21, 21, 21, 21, 21, 21, 21, 21, 21, 21, 21, 21, 21, 21, 21, 21, 27, 28, 28, 28, 28, 28, 28, 28, 28, 28, 28, 28, 28, 28, 28, 28, 28, 28, 28, 28, 28, 28, 28, 28, 28, 28, 34, 35, 35, 35, 35, 35, 35, 35, 41, 42, 42, 42, 42, 42, 42, 42, 42, 42, 42, 42, 42, 42, 42, 42]}],\n",
       "                        {\"template\": {\"data\": {\"bar\": [{\"error_x\": {\"color\": \"#2a3f5f\"}, \"error_y\": {\"color\": \"#2a3f5f\"}, \"marker\": {\"line\": {\"color\": \"#E5ECF6\", \"width\": 0.5}}, \"type\": \"bar\"}], \"barpolar\": [{\"marker\": {\"line\": {\"color\": \"#E5ECF6\", \"width\": 0.5}}, \"type\": \"barpolar\"}], \"carpet\": [{\"aaxis\": {\"endlinecolor\": \"#2a3f5f\", \"gridcolor\": \"white\", \"linecolor\": \"white\", \"minorgridcolor\": \"white\", \"startlinecolor\": \"#2a3f5f\"}, \"baxis\": {\"endlinecolor\": \"#2a3f5f\", \"gridcolor\": \"white\", \"linecolor\": \"white\", \"minorgridcolor\": \"white\", \"startlinecolor\": \"#2a3f5f\"}, \"type\": \"carpet\"}], \"choropleth\": [{\"colorbar\": {\"outlinewidth\": 0, \"ticks\": \"\"}, \"type\": \"choropleth\"}], \"contour\": [{\"colorbar\": {\"outlinewidth\": 0, \"ticks\": \"\"}, \"colorscale\": [[0.0, \"#0d0887\"], [0.1111111111111111, \"#46039f\"], [0.2222222222222222, \"#7201a8\"], [0.3333333333333333, \"#9c179e\"], [0.4444444444444444, \"#bd3786\"], [0.5555555555555556, \"#d8576b\"], [0.6666666666666666, \"#ed7953\"], [0.7777777777777778, \"#fb9f3a\"], [0.8888888888888888, \"#fdca26\"], [1.0, \"#f0f921\"]], \"type\": \"contour\"}], \"contourcarpet\": [{\"colorbar\": {\"outlinewidth\": 0, \"ticks\": \"\"}, \"type\": \"contourcarpet\"}], \"heatmap\": [{\"colorbar\": {\"outlinewidth\": 0, \"ticks\": \"\"}, \"colorscale\": [[0.0, \"#0d0887\"], [0.1111111111111111, \"#46039f\"], [0.2222222222222222, \"#7201a8\"], [0.3333333333333333, \"#9c179e\"], [0.4444444444444444, \"#bd3786\"], [0.5555555555555556, \"#d8576b\"], [0.6666666666666666, \"#ed7953\"], [0.7777777777777778, \"#fb9f3a\"], [0.8888888888888888, \"#fdca26\"], [1.0, \"#f0f921\"]], \"type\": \"heatmap\"}], \"heatmapgl\": [{\"colorbar\": {\"outlinewidth\": 0, \"ticks\": \"\"}, \"colorscale\": [[0.0, \"#0d0887\"], [0.1111111111111111, \"#46039f\"], [0.2222222222222222, \"#7201a8\"], [0.3333333333333333, \"#9c179e\"], [0.4444444444444444, \"#bd3786\"], [0.5555555555555556, \"#d8576b\"], [0.6666666666666666, \"#ed7953\"], [0.7777777777777778, \"#fb9f3a\"], [0.8888888888888888, \"#fdca26\"], [1.0, \"#f0f921\"]], \"type\": \"heatmapgl\"}], \"histogram\": [{\"marker\": {\"colorbar\": {\"outlinewidth\": 0, \"ticks\": \"\"}}, \"type\": \"histogram\"}], \"histogram2d\": [{\"colorbar\": {\"outlinewidth\": 0, \"ticks\": \"\"}, \"colorscale\": [[0.0, \"#0d0887\"], [0.1111111111111111, \"#46039f\"], [0.2222222222222222, \"#7201a8\"], [0.3333333333333333, \"#9c179e\"], [0.4444444444444444, \"#bd3786\"], [0.5555555555555556, \"#d8576b\"], [0.6666666666666666, \"#ed7953\"], [0.7777777777777778, \"#fb9f3a\"], [0.8888888888888888, \"#fdca26\"], [1.0, \"#f0f921\"]], \"type\": \"histogram2d\"}], \"histogram2dcontour\": [{\"colorbar\": {\"outlinewidth\": 0, \"ticks\": \"\"}, \"colorscale\": [[0.0, \"#0d0887\"], [0.1111111111111111, \"#46039f\"], [0.2222222222222222, \"#7201a8\"], [0.3333333333333333, \"#9c179e\"], [0.4444444444444444, \"#bd3786\"], [0.5555555555555556, \"#d8576b\"], [0.6666666666666666, \"#ed7953\"], [0.7777777777777778, \"#fb9f3a\"], [0.8888888888888888, \"#fdca26\"], [1.0, \"#f0f921\"]], \"type\": \"histogram2dcontour\"}], \"mesh3d\": [{\"colorbar\": {\"outlinewidth\": 0, \"ticks\": \"\"}, \"type\": \"mesh3d\"}], \"parcoords\": [{\"line\": {\"colorbar\": {\"outlinewidth\": 0, \"ticks\": \"\"}}, \"type\": \"parcoords\"}], \"pie\": [{\"automargin\": true, \"type\": \"pie\"}], \"scatter\": [{\"marker\": {\"colorbar\": {\"outlinewidth\": 0, \"ticks\": \"\"}}, \"type\": \"scatter\"}], \"scatter3d\": [{\"line\": {\"colorbar\": {\"outlinewidth\": 0, \"ticks\": \"\"}}, \"marker\": {\"colorbar\": {\"outlinewidth\": 0, \"ticks\": \"\"}}, \"type\": \"scatter3d\"}], \"scattercarpet\": [{\"marker\": {\"colorbar\": {\"outlinewidth\": 0, \"ticks\": \"\"}}, \"type\": \"scattercarpet\"}], \"scattergeo\": [{\"marker\": {\"colorbar\": {\"outlinewidth\": 0, \"ticks\": \"\"}}, \"type\": \"scattergeo\"}], \"scattergl\": [{\"marker\": {\"colorbar\": {\"outlinewidth\": 0, \"ticks\": \"\"}}, \"type\": \"scattergl\"}], \"scattermapbox\": [{\"marker\": {\"colorbar\": {\"outlinewidth\": 0, \"ticks\": \"\"}}, \"type\": \"scattermapbox\"}], \"scatterpolar\": [{\"marker\": {\"colorbar\": {\"outlinewidth\": 0, \"ticks\": \"\"}}, \"type\": \"scatterpolar\"}], \"scatterpolargl\": [{\"marker\": {\"colorbar\": {\"outlinewidth\": 0, \"ticks\": \"\"}}, \"type\": \"scatterpolargl\"}], \"scatterternary\": [{\"marker\": {\"colorbar\": {\"outlinewidth\": 0, \"ticks\": \"\"}}, \"type\": \"scatterternary\"}], \"surface\": [{\"colorbar\": {\"outlinewidth\": 0, \"ticks\": \"\"}, \"colorscale\": [[0.0, \"#0d0887\"], [0.1111111111111111, \"#46039f\"], [0.2222222222222222, \"#7201a8\"], [0.3333333333333333, \"#9c179e\"], [0.4444444444444444, \"#bd3786\"], [0.5555555555555556, \"#d8576b\"], [0.6666666666666666, \"#ed7953\"], [0.7777777777777778, \"#fb9f3a\"], [0.8888888888888888, \"#fdca26\"], [1.0, \"#f0f921\"]], \"type\": \"surface\"}], \"table\": [{\"cells\": {\"fill\": {\"color\": \"#EBF0F8\"}, \"line\": {\"color\": \"white\"}}, \"header\": {\"fill\": {\"color\": \"#C8D4E3\"}, \"line\": {\"color\": \"white\"}}, \"type\": \"table\"}]}, \"layout\": {\"annotationdefaults\": {\"arrowcolor\": \"#2a3f5f\", \"arrowhead\": 0, \"arrowwidth\": 1}, \"coloraxis\": {\"colorbar\": {\"outlinewidth\": 0, \"ticks\": \"\"}}, \"colorscale\": {\"diverging\": [[0, \"#8e0152\"], [0.1, \"#c51b7d\"], [0.2, \"#de77ae\"], [0.3, \"#f1b6da\"], [0.4, \"#fde0ef\"], [0.5, \"#f7f7f7\"], [0.6, \"#e6f5d0\"], [0.7, \"#b8e186\"], [0.8, \"#7fbc41\"], [0.9, \"#4d9221\"], [1, \"#276419\"]], \"sequential\": [[0.0, \"#0d0887\"], [0.1111111111111111, \"#46039f\"], [0.2222222222222222, \"#7201a8\"], [0.3333333333333333, \"#9c179e\"], [0.4444444444444444, \"#bd3786\"], [0.5555555555555556, \"#d8576b\"], [0.6666666666666666, \"#ed7953\"], [0.7777777777777778, \"#fb9f3a\"], [0.8888888888888888, \"#fdca26\"], [1.0, \"#f0f921\"]], \"sequentialminus\": [[0.0, \"#0d0887\"], [0.1111111111111111, \"#46039f\"], [0.2222222222222222, \"#7201a8\"], [0.3333333333333333, \"#9c179e\"], [0.4444444444444444, \"#bd3786\"], [0.5555555555555556, \"#d8576b\"], [0.6666666666666666, \"#ed7953\"], [0.7777777777777778, \"#fb9f3a\"], [0.8888888888888888, \"#fdca26\"], [1.0, \"#f0f921\"]]}, \"colorway\": [\"#636efa\", \"#EF553B\", \"#00cc96\", \"#ab63fa\", \"#FFA15A\", \"#19d3f3\", \"#FF6692\", \"#B6E880\", \"#FF97FF\", \"#FECB52\"], \"font\": {\"color\": \"#2a3f5f\"}, \"geo\": {\"bgcolor\": \"white\", \"lakecolor\": \"white\", \"landcolor\": \"#E5ECF6\", \"showlakes\": true, \"showland\": true, \"subunitcolor\": \"white\"}, \"hoverlabel\": {\"align\": \"left\"}, \"hovermode\": \"closest\", \"mapbox\": {\"style\": \"light\"}, \"paper_bgcolor\": \"white\", \"plot_bgcolor\": \"#E5ECF6\", \"polar\": {\"angularaxis\": {\"gridcolor\": \"white\", \"linecolor\": \"white\", \"ticks\": \"\"}, \"bgcolor\": \"#E5ECF6\", \"radialaxis\": {\"gridcolor\": \"white\", \"linecolor\": \"white\", \"ticks\": \"\"}}, \"scene\": {\"xaxis\": {\"backgroundcolor\": \"#E5ECF6\", \"gridcolor\": \"white\", \"gridwidth\": 2, \"linecolor\": \"white\", \"showbackground\": true, \"ticks\": \"\", \"zerolinecolor\": \"white\"}, \"yaxis\": {\"backgroundcolor\": \"#E5ECF6\", \"gridcolor\": \"white\", \"gridwidth\": 2, \"linecolor\": \"white\", \"showbackground\": true, \"ticks\": \"\", \"zerolinecolor\": \"white\"}, \"zaxis\": {\"backgroundcolor\": \"#E5ECF6\", \"gridcolor\": \"white\", \"gridwidth\": 2, \"linecolor\": \"white\", \"showbackground\": true, \"ticks\": \"\", \"zerolinecolor\": \"white\"}}, \"shapedefaults\": {\"line\": {\"color\": \"#2a3f5f\"}}, \"ternary\": {\"aaxis\": {\"gridcolor\": \"white\", \"linecolor\": \"white\", \"ticks\": \"\"}, \"baxis\": {\"gridcolor\": \"white\", \"linecolor\": \"white\", \"ticks\": \"\"}, \"bgcolor\": \"#E5ECF6\", \"caxis\": {\"gridcolor\": \"white\", \"linecolor\": \"white\", \"ticks\": \"\"}}, \"title\": {\"x\": 0.05}, \"xaxis\": {\"automargin\": true, \"gridcolor\": \"white\", \"linecolor\": \"white\", \"ticks\": \"\", \"title\": {\"standoff\": 15}, \"zerolinecolor\": \"white\", \"zerolinewidth\": 2}, \"yaxis\": {\"automargin\": true, \"gridcolor\": \"white\", \"linecolor\": \"white\", \"ticks\": \"\", \"title\": {\"standoff\": 15}, \"zerolinecolor\": \"white\", \"zerolinewidth\": 2}}}, \"title\": {\"text\": \"End of Drive Score\", \"x\": 0.5, \"xanchor\": \"center\", \"y\": 0.9, \"yanchor\": \"top\"}, \"xaxis\": {\"ticklen\": 1, \"title\": {\"text\": \"Drive\"}, \"zeroline\": false}, \"yaxis\": {\"ticklen\": 5, \"title\": {\"text\": \"Points\"}, \"zeroline\": false}},\n",
       "                        {\"responsive\": true}\n",
       "                    ).then(function(){\n",
       "                            \n",
       "var gd = document.getElementById('db62b83c-0d5f-4397-95bd-94bf0b7e3445');\n",
       "var x = new MutationObserver(function (mutations, observer) {{\n",
       "        var display = window.getComputedStyle(gd).display;\n",
       "        if (!display || display === 'none') {{\n",
       "            console.log([gd, 'removed!']);\n",
       "            Plotly.purge(gd);\n",
       "            observer.disconnect();\n",
       "        }}\n",
       "}});\n",
       "\n",
       "// Listen for the removal of the full notebook cells\n",
       "var notebookContainer = gd.closest('#notebook-container');\n",
       "if (notebookContainer) {{\n",
       "    x.observe(notebookContainer, {childList: true});\n",
       "}}\n",
       "\n",
       "// Listen for the clearing of the current output cell\n",
       "var outputEl = gd.closest('.output');\n",
       "if (outputEl) {{\n",
       "    x.observe(outputEl, {childList: true});\n",
       "}}\n",
       "\n",
       "                        })\n",
       "                };\n",
       "                });\n",
       "            </script>\n",
       "        </div>"
      ]
     },
     "metadata": {},
     "output_type": "display_data"
    }
   ],
   "source": [
    "layout = go.Layout(\n",
    "    title = 'End of Drive Score',\n",
    "    xaxis= dict(title= 'Drive',ticklen= 1,zeroline= False),\n",
    "    yaxis= dict(title= 'Points',ticklen= 5,zeroline= False)\n",
    ")\n",
    "\n",
    "fig = go.Figure(data = data, layout = layout)\n",
    "\n",
    "fig.update_layout(\n",
    "    title={\n",
    "        'y':0.9,\n",
    "        'x':0.5,\n",
    "        'xanchor': 'center',\n",
    "        'yanchor': 'top'})\n",
    "fig"
   ]
  },
  {
   "cell_type": "markdown",
   "metadata": {},
   "source": [
    "<h2>Matplotlib Version</h2>"
   ]
  },
  {
   "cell_type": "code",
   "execution_count": 230,
   "metadata": {},
   "outputs": [
    {
     "data": {
      "image/png": "[encoded data removed]",
      "text/plain": [
       "<Figure size 1440x504 with 1 Axes>"
      ]
     },
     "metadata": {},
     "output_type": "display_data"
    }
   ],
   "source": [
    "# Reset Fig\n",
    "plt.close('all')\n",
    "plt.style.use('seaborn')\n",
    "fig, ax1 = plt.subplots(figsize=(20,7))\n",
    "# plt.gca().invert_xaxis()\n",
    "\n",
    "line1 = ax1.plot(kc_ne_game['drive'],kc_ne_game['total_home_score'],'y--',label='PIT')\n",
    "line2 = ax1.plot(kc_ne_game['drive'],kc_ne_game['total_away_score'],'b-',label='TEN')\n",
    "\n",
    "ax1.set_xlabel('Drive Number',fontsize=14)\n",
    "ax1.set_ylabel('End of Drive Score',fontsize=14)\n",
    "ax1.set_title(\"End of Drive Score\",fontsize=14,fontweight='bold')\n",
    "\n",
    "ax1.legend(loc=4,fontsize=16)\n",
    "\n",
    "plt.show()"
   ]
  },
  {
   "cell_type": "markdown",
   "metadata": {},
   "source": [
    "<h2>Adding Weather Effects</h2>"
   ]
  },
  {
   "cell_type": "code",
   "execution_count": 246,
   "metadata": {},
   "outputs": [
    {
     "data": {
      "text/html": [
       "<div>\n",
       "<style scoped>\n",
       "    .dataframe tbody tr th:only-of-type {\n",
       "        vertical-align: middle;\n",
       "    }\n",
       "\n",
       "    .dataframe tbody tr th {\n",
       "        vertical-align: top;\n",
       "    }\n",
       "\n",
       "    .dataframe thead th {\n",
       "        text-align: right;\n",
       "    }\n",
       "</style>\n",
       "<table border=\"1\" class=\"dataframe\">\n",
       "  <thead>\n",
       "    <tr style=\"text-align: right;\">\n",
       "      <th></th>\n",
       "      <th>game_id</th>\n",
       "      <th>Team</th>\n",
       "      <th>team_against</th>\n",
       "      <th>score</th>\n",
       "      <th>score_against</th>\n",
       "      <th>yards</th>\n",
       "      <th>yards_against</th>\n",
       "      <th>run_plays</th>\n",
       "      <th>run_plays_against</th>\n",
       "      <th>pass_plays</th>\n",
       "      <th>pass_plays_against</th>\n",
       "      <th>to_for</th>\n",
       "      <th>to_against</th>\n",
       "      <th>fg_at</th>\n",
       "      <th>fg_md</th>\n",
       "      <th>fg_at_against</th>\n",
       "      <th>fg_md_against</th>\n",
       "      <th>pass_yards</th>\n",
       "      <th>pass_yards_against</th>\n",
       "      <th>run_yards</th>\n",
       "      <th>run_yards_against</th>\n",
       "      <th>win</th>\n",
       "      <th>pass_run_ratio</th>\n",
       "      <th>yard_diff</th>\n",
       "      <th>to_diff</th>\n",
       "      <th>fg_rate</th>\n",
       "      <th>fg_rate_against</th>\n",
       "      <th>pass_yds_per_at</th>\n",
       "      <th>run_yds_per_at</th>\n",
       "      <th>pass_yds_per_at_against</th>\n",
       "      <th>run_yds_per_at_against</th>\n",
       "      <th>team_encode</th>\n",
       "      <th>team_against_encode</th>\n",
       "    </tr>\n",
       "  </thead>\n",
       "  <tbody>\n",
       "    <tr>\n",
       "      <th>0</th>\n",
       "      <td>2017090700</td>\n",
       "      <td>NE</td>\n",
       "      <td>KC</td>\n",
       "      <td>27</td>\n",
       "      <td>42</td>\n",
       "      <td>425.0</td>\n",
       "      <td>538.0</td>\n",
       "      <td>34.0</td>\n",
       "      <td>24.0</td>\n",
       "      <td>39.0</td>\n",
       "      <td>38.0</td>\n",
       "      <td>2.0</td>\n",
       "      <td>1.0</td>\n",
       "      <td>2.0</td>\n",
       "      <td>2.0</td>\n",
       "      <td>0.0</td>\n",
       "      <td>0.0</td>\n",
       "      <td>247.0</td>\n",
       "      <td>352.0</td>\n",
       "      <td>125.0</td>\n",
       "      <td>191.0</td>\n",
       "      <td>0.0</td>\n",
       "      <td>1.15</td>\n",
       "      <td>-113.0</td>\n",
       "      <td>1.0</td>\n",
       "      <td>1.0</td>\n",
       "      <td>0.5</td>\n",
       "      <td>6.333333</td>\n",
       "      <td>3.676471</td>\n",
       "      <td>9.263158</td>\n",
       "      <td>7.958333</td>\n",
       "      <td>5</td>\n",
       "      <td>5</td>\n",
       "    </tr>\n",
       "    <tr>\n",
       "      <th>1</th>\n",
       "      <td>2017091000</td>\n",
       "      <td>BUF</td>\n",
       "      <td>NYJ</td>\n",
       "      <td>21</td>\n",
       "      <td>12</td>\n",
       "      <td>400.0</td>\n",
       "      <td>199.0</td>\n",
       "      <td>39.0</td>\n",
       "      <td>14.0</td>\n",
       "      <td>29.0</td>\n",
       "      <td>41.0</td>\n",
       "      <td>2.0</td>\n",
       "      <td>3.0</td>\n",
       "      <td>1.0</td>\n",
       "      <td>1.0</td>\n",
       "      <td>2.0</td>\n",
       "      <td>2.0</td>\n",
       "      <td>218.0</td>\n",
       "      <td>176.0</td>\n",
       "      <td>193.0</td>\n",
       "      <td>39.0</td>\n",
       "      <td>1.0</td>\n",
       "      <td>0.74</td>\n",
       "      <td>201.0</td>\n",
       "      <td>-1.0</td>\n",
       "      <td>1.0</td>\n",
       "      <td>1.0</td>\n",
       "      <td>7.517241</td>\n",
       "      <td>4.948718</td>\n",
       "      <td>4.292683</td>\n",
       "      <td>2.785714</td>\n",
       "      <td>3</td>\n",
       "      <td>1</td>\n",
       "    </tr>\n",
       "    <tr>\n",
       "      <th>2</th>\n",
       "      <td>2017091001</td>\n",
       "      <td>CHI</td>\n",
       "      <td>ATL</td>\n",
       "      <td>17</td>\n",
       "      <td>23</td>\n",
       "      <td>306.0</td>\n",
       "      <td>372.0</td>\n",
       "      <td>19.0</td>\n",
       "      <td>21.0</td>\n",
       "      <td>44.0</td>\n",
       "      <td>32.0</td>\n",
       "      <td>3.0</td>\n",
       "      <td>0.0</td>\n",
       "      <td>1.0</td>\n",
       "      <td>1.0</td>\n",
       "      <td>3.0</td>\n",
       "      <td>3.0</td>\n",
       "      <td>176.0</td>\n",
       "      <td>308.0</td>\n",
       "      <td>125.0</td>\n",
       "      <td>66.0</td>\n",
       "      <td>0.0</td>\n",
       "      <td>2.32</td>\n",
       "      <td>-66.0</td>\n",
       "      <td>3.0</td>\n",
       "      <td>1.0</td>\n",
       "      <td>1.0</td>\n",
       "      <td>4.000000</td>\n",
       "      <td>6.578947</td>\n",
       "      <td>9.625000</td>\n",
       "      <td>3.142857</td>\n",
       "      <td>3</td>\n",
       "      <td>3</td>\n",
       "    </tr>\n",
       "    <tr>\n",
       "      <th>3</th>\n",
       "      <td>2017091002</td>\n",
       "      <td>CIN</td>\n",
       "      <td>BAL</td>\n",
       "      <td>0</td>\n",
       "      <td>20</td>\n",
       "      <td>217.0</td>\n",
       "      <td>255.0</td>\n",
       "      <td>22.0</td>\n",
       "      <td>42.0</td>\n",
       "      <td>36.0</td>\n",
       "      <td>18.0</td>\n",
       "      <td>7.0</td>\n",
       "      <td>1.0</td>\n",
       "      <td>0.0</td>\n",
       "      <td>0.0</td>\n",
       "      <td>2.0</td>\n",
       "      <td>2.0</td>\n",
       "      <td>144.0</td>\n",
       "      <td>111.0</td>\n",
       "      <td>77.0</td>\n",
       "      <td>157.0</td>\n",
       "      <td>0.0</td>\n",
       "      <td>1.64</td>\n",
       "      <td>-38.0</td>\n",
       "      <td>6.0</td>\n",
       "      <td>0.5</td>\n",
       "      <td>1.0</td>\n",
       "      <td>4.000000</td>\n",
       "      <td>3.500000</td>\n",
       "      <td>6.166667</td>\n",
       "      <td>3.738095</td>\n",
       "      <td>2</td>\n",
       "      <td>4</td>\n",
       "    </tr>\n",
       "    <tr>\n",
       "      <th>4</th>\n",
       "      <td>2017091003</td>\n",
       "      <td>CLE</td>\n",
       "      <td>PIT</td>\n",
       "      <td>18</td>\n",
       "      <td>20</td>\n",
       "      <td>293.0</td>\n",
       "      <td>287.0</td>\n",
       "      <td>26.0</td>\n",
       "      <td>14.0</td>\n",
       "      <td>37.0</td>\n",
       "      <td>37.0</td>\n",
       "      <td>2.0</td>\n",
       "      <td>3.0</td>\n",
       "      <td>1.0</td>\n",
       "      <td>1.0</td>\n",
       "      <td>0.0</td>\n",
       "      <td>0.0</td>\n",
       "      <td>180.0</td>\n",
       "      <td>255.0</td>\n",
       "      <td>59.0</td>\n",
       "      <td>43.0</td>\n",
       "      <td>0.0</td>\n",
       "      <td>1.42</td>\n",
       "      <td>6.0</td>\n",
       "      <td>-1.0</td>\n",
       "      <td>1.0</td>\n",
       "      <td>0.5</td>\n",
       "      <td>4.864865</td>\n",
       "      <td>2.269231</td>\n",
       "      <td>6.891892</td>\n",
       "      <td>3.071429</td>\n",
       "      <td>1</td>\n",
       "      <td>5</td>\n",
       "    </tr>\n",
       "  </tbody>\n",
       "</table>\n",
       "</div>"
      ],
      "text/plain": [
       "      game_id Team team_against  score  score_against  yards  yards_against  \\\n",
       "0  2017090700   NE           KC     27             42  425.0          538.0   \n",
       "1  2017091000  BUF          NYJ     21             12  400.0          199.0   \n",
       "2  2017091001  CHI          ATL     17             23  306.0          372.0   \n",
       "3  2017091002  CIN          BAL      0             20  217.0          255.0   \n",
       "4  2017091003  CLE          PIT     18             20  293.0          287.0   \n",
       "\n",
       "   run_plays  run_plays_against  pass_plays  pass_plays_against  to_for  \\\n",
       "0       34.0               24.0        39.0                38.0     2.0   \n",
       "1       39.0               14.0        29.0                41.0     2.0   \n",
       "2       19.0               21.0        44.0                32.0     3.0   \n",
       "3       22.0               42.0        36.0                18.0     7.0   \n",
       "4       26.0               14.0        37.0                37.0     2.0   \n",
       "\n",
       "   to_against  fg_at  fg_md  fg_at_against  fg_md_against  pass_yards  \\\n",
       "0         1.0    2.0    2.0            0.0            0.0       247.0   \n",
       "1         3.0    1.0    1.0            2.0            2.0       218.0   \n",
       "2         0.0    1.0    1.0            3.0            3.0       176.0   \n",
       "3         1.0    0.0    0.0            2.0            2.0       144.0   \n",
       "4         3.0    1.0    1.0            0.0            0.0       180.0   \n",
       "\n",
       "   pass_yards_against  run_yards  run_yards_against  win  pass_run_ratio  \\\n",
       "0               352.0      125.0              191.0  0.0            1.15   \n",
       "1               176.0      193.0               39.0  1.0            0.74   \n",
       "2               308.0      125.0               66.0  0.0            2.32   \n",
       "3               111.0       77.0              157.0  0.0            1.64   \n",
       "4               255.0       59.0               43.0  0.0            1.42   \n",
       "\n",
       "   yard_diff  to_diff  fg_rate  fg_rate_against  pass_yds_per_at  \\\n",
       "0     -113.0      1.0      1.0              0.5         6.333333   \n",
       "1      201.0     -1.0      1.0              1.0         7.517241   \n",
       "2      -66.0      3.0      1.0              1.0         4.000000   \n",
       "3      -38.0      6.0      0.5              1.0         4.000000   \n",
       "4        6.0     -1.0      1.0              0.5         4.864865   \n",
       "\n",
       "   run_yds_per_at  pass_yds_per_at_against  run_yds_per_at_against  \\\n",
       "0        3.676471                 9.263158                7.958333   \n",
       "1        4.948718                 4.292683                2.785714   \n",
       "2        6.578947                 9.625000                3.142857   \n",
       "3        3.500000                 6.166667                3.738095   \n",
       "4        2.269231                 6.891892                3.071429   \n",
       "\n",
       "   team_encode  team_against_encode  \n",
       "0            5                    5  \n",
       "1            3                    1  \n",
       "2            3                    3  \n",
       "3            2                    4  \n",
       "4            1                    5  "
      ]
     },
     "execution_count": 246,
     "metadata": {},
     "output_type": "execute_result"
    }
   ],
   "source": [
    "combined_df = pd.read_csv('nfl_small_end_of_sum.csv').drop(columns=['Unnamed: 0'])\n",
    "combined_df.head()"
   ]
  },
  {
   "cell_type": "code",
   "execution_count": 240,
   "metadata": {},
   "outputs": [
    {
     "data": {
      "text/html": [
       "<div>\n",
       "<style scoped>\n",
       "    .dataframe tbody tr th:only-of-type {\n",
       "        vertical-align: middle;\n",
       "    }\n",
       "\n",
       "    .dataframe tbody tr th {\n",
       "        vertical-align: top;\n",
       "    }\n",
       "\n",
       "    .dataframe thead th {\n",
       "        text-align: right;\n",
       "    }\n",
       "</style>\n",
       "<table border=\"1\" class=\"dataframe\">\n",
       "  <thead>\n",
       "    <tr style=\"text-align: right;\">\n",
       "      <th></th>\n",
       "      <th>play_id</th>\n",
       "      <th>game_id</th>\n",
       "      <th>game_date</th>\n",
       "      <th>time</th>\n",
       "      <th>quarter_seconds_remaining</th>\n",
       "      <th>half_seconds_remaining</th>\n",
       "      <th>game_seconds_remaining</th>\n",
       "      <th>game_half</th>\n",
       "      <th>quarter_end</th>\n",
       "      <th>qtr</th>\n",
       "      <th>home_team</th>\n",
       "      <th>away_team</th>\n",
       "      <th>posteam</th>\n",
       "      <th>posteam_type</th>\n",
       "      <th>defteam</th>\n",
       "      <th>side_of_field</th>\n",
       "      <th>yardline_100</th>\n",
       "      <th>drive</th>\n",
       "      <th>sp</th>\n",
       "      <th>down</th>\n",
       "      <th>goal_to_go</th>\n",
       "      <th>yrdln</th>\n",
       "      <th>ydstogo</th>\n",
       "      <th>ydsnet</th>\n",
       "      <th>desc</th>\n",
       "      <th>play_type</th>\n",
       "      <th>yards_gained</th>\n",
       "      <th>pass_length</th>\n",
       "      <th>air_yards</th>\n",
       "      <th>yards_after_catch</th>\n",
       "      <th>field_goal_result</th>\n",
       "      <th>kick_distance</th>\n",
       "      <th>extra_point_result</th>\n",
       "      <th>two_point_conv_result</th>\n",
       "      <th>td_team</th>\n",
       "      <th>total_home_score</th>\n",
       "      <th>total_away_score</th>\n",
       "      <th>posteam_score</th>\n",
       "      <th>defteam_score</th>\n",
       "      <th>sack</th>\n",
       "      <th>touchdown</th>\n",
       "      <th>pass_touchdown</th>\n",
       "      <th>rush_touchdown</th>\n",
       "      <th>return_touchdown</th>\n",
       "      <th>extra_point_attempt</th>\n",
       "      <th>two_point_attempt</th>\n",
       "      <th>field_goal_attempt</th>\n",
       "      <th>fumble</th>\n",
       "      <th>complete_pass</th>\n",
       "      <th>Start_Time</th>\n",
       "      <th>diff</th>\n",
       "      <th>Estimated_Time</th>\n",
       "      <th>Estimated Time (EST)</th>\n",
       "      <th>Estimated_Hour</th>\n",
       "      <th>Air Pressure (hPa)</th>\n",
       "      <th>City</th>\n",
       "      <th>Dewpoint (°C)</th>\n",
       "      <th>Field</th>\n",
       "      <th>Humidity (%)</th>\n",
       "      <th>Precipitation (mm)</th>\n",
       "      <th>Roof</th>\n",
       "      <th>Team Abbreviation</th>\n",
       "      <th>Temperature (°C)</th>\n",
       "      <th>Time (EST)</th>\n",
       "      <th>Time (GMT)</th>\n",
       "      <th>Wind Direction (deg)</th>\n",
       "      <th>Wind Speed (km/h)</th>\n",
       "      <th>added_time</th>\n",
       "      <th>game_name</th>\n",
       "      <th>end_of_drive</th>\n",
       "      <th>end_of_game</th>\n",
       "      <th>INT</th>\n",
       "      <th>ARI</th>\n",
       "      <th>ATL</th>\n",
       "      <th>BAL</th>\n",
       "      <th>BUF</th>\n",
       "      <th>CAR</th>\n",
       "      <th>CHI</th>\n",
       "      <th>CIN</th>\n",
       "      <th>CLE</th>\n",
       "      <th>DAL</th>\n",
       "      <th>DEN</th>\n",
       "      <th>DET</th>\n",
       "      <th>GB</th>\n",
       "      <th>HOU</th>\n",
       "      <th>IND</th>\n",
       "      <th>JAX</th>\n",
       "      <th>KC</th>\n",
       "      <th>LA</th>\n",
       "      <th>LAC</th>\n",
       "      <th>MIA</th>\n",
       "      <th>MIN</th>\n",
       "      <th>NE</th>\n",
       "      <th>NO</th>\n",
       "      <th>NYG</th>\n",
       "      <th>NYJ</th>\n",
       "      <th>OAK</th>\n",
       "      <th>PHI</th>\n",
       "      <th>PIT</th>\n",
       "      <th>SEA</th>\n",
       "      <th>SF</th>\n",
       "      <th>TB</th>\n",
       "      <th>TEN</th>\n",
       "      <th>WAS</th>\n",
       "      <th>year</th>\n",
       "      <th>week</th>\n",
       "    </tr>\n",
       "    <tr>\n",
       "      <th>index</th>\n",
       "      <th></th>\n",
       "      <th></th>\n",
       "      <th></th>\n",
       "      <th></th>\n",
       "      <th></th>\n",
       "      <th></th>\n",
       "      <th></th>\n",
       "      <th></th>\n",
       "      <th></th>\n",
       "      <th></th>\n",
       "      <th></th>\n",
       "      <th></th>\n",
       "      <th></th>\n",
       "      <th></th>\n",
       "      <th></th>\n",
       "      <th></th>\n",
       "      <th></th>\n",
       "      <th></th>\n",
       "      <th></th>\n",
       "      <th></th>\n",
       "      <th></th>\n",
       "      <th></th>\n",
       "      <th></th>\n",
       "      <th></th>\n",
       "      <th></th>\n",
       "      <th></th>\n",
       "      <th></th>\n",
       "      <th></th>\n",
       "      <th></th>\n",
       "      <th></th>\n",
       "      <th></th>\n",
       "      <th></th>\n",
       "      <th></th>\n",
       "      <th></th>\n",
       "      <th></th>\n",
       "      <th></th>\n",
       "      <th></th>\n",
       "      <th></th>\n",
       "      <th></th>\n",
       "      <th></th>\n",
       "      <th></th>\n",
       "      <th></th>\n",
       "      <th></th>\n",
       "      <th></th>\n",
       "      <th></th>\n",
       "      <th></th>\n",
       "      <th></th>\n",
       "      <th></th>\n",
       "      <th></th>\n",
       "      <th></th>\n",
       "      <th></th>\n",
       "      <th></th>\n",
       "      <th></th>\n",
       "      <th></th>\n",
       "      <th></th>\n",
       "      <th></th>\n",
       "      <th></th>\n",
       "      <th></th>\n",
       "      <th></th>\n",
       "      <th></th>\n",
       "      <th></th>\n",
       "      <th></th>\n",
       "      <th></th>\n",
       "      <th></th>\n",
       "      <th></th>\n",
       "      <th></th>\n",
       "      <th></th>\n",
       "      <th></th>\n",
       "      <th></th>\n",
       "      <th></th>\n",
       "      <th></th>\n",
       "      <th></th>\n",
       "      <th></th>\n",
       "      <th></th>\n",
       "      <th></th>\n",
       "      <th></th>\n",
       "      <th></th>\n",
       "      <th></th>\n",
       "      <th></th>\n",
       "      <th></th>\n",
       "      <th></th>\n",
       "      <th></th>\n",
       "      <th></th>\n",
       "      <th></th>\n",
       "      <th></th>\n",
       "      <th></th>\n",
       "      <th></th>\n",
       "      <th></th>\n",
       "      <th></th>\n",
       "      <th></th>\n",
       "      <th></th>\n",
       "      <th></th>\n",
       "      <th></th>\n",
       "      <th></th>\n",
       "      <th></th>\n",
       "      <th></th>\n",
       "      <th></th>\n",
       "      <th></th>\n",
       "      <th></th>\n",
       "      <th></th>\n",
       "      <th></th>\n",
       "      <th></th>\n",
       "      <th></th>\n",
       "      <th></th>\n",
       "      <th></th>\n",
       "      <th></th>\n",
       "    </tr>\n",
       "  </thead>\n",
       "  <tbody>\n",
       "    <tr>\n",
       "      <th>362094</th>\n",
       "      <td>44</td>\n",
       "      <td>2017090700</td>\n",
       "      <td>2017-09-07 00:00:00</td>\n",
       "      <td>15:00</td>\n",
       "      <td>900.0</td>\n",
       "      <td>1800.0</td>\n",
       "      <td>3600.0</td>\n",
       "      <td>Half1</td>\n",
       "      <td>0</td>\n",
       "      <td>1</td>\n",
       "      <td>NE</td>\n",
       "      <td>KC</td>\n",
       "      <td>NE</td>\n",
       "      <td>home</td>\n",
       "      <td>KC</td>\n",
       "      <td>KC</td>\n",
       "      <td>35.0</td>\n",
       "      <td>1</td>\n",
       "      <td>0</td>\n",
       "      <td>NaN</td>\n",
       "      <td>0.0</td>\n",
       "      <td>KC 35</td>\n",
       "      <td>0</td>\n",
       "      <td>73</td>\n",
       "      <td>C.Santos kicks 64 yards from KC 35 to NE 1. D....</td>\n",
       "      <td>kickoff</td>\n",
       "      <td>0.0</td>\n",
       "      <td>0</td>\n",
       "      <td>0.0</td>\n",
       "      <td>0.0</td>\n",
       "      <td>NaN</td>\n",
       "      <td>64.0</td>\n",
       "      <td>NaN</td>\n",
       "      <td>NaN</td>\n",
       "      <td>NaN</td>\n",
       "      <td>0</td>\n",
       "      <td>0</td>\n",
       "      <td>0.0</td>\n",
       "      <td>0.0</td>\n",
       "      <td>0.0</td>\n",
       "      <td>0.0</td>\n",
       "      <td>0.0</td>\n",
       "      <td>0.0</td>\n",
       "      <td>0.0</td>\n",
       "      <td>0.0</td>\n",
       "      <td>0.0</td>\n",
       "      <td>0.0</td>\n",
       "      <td>0.0</td>\n",
       "      <td>0.0</td>\n",
       "      <td>2017-09-07 20:30:00</td>\n",
       "      <td>0 days 00:00:00.000000000</td>\n",
       "      <td>2017-09-07 20:30:00</td>\n",
       "      <td>2017-09-07 20:30:00</td>\n",
       "      <td>2017-09-07 20:00:00</td>\n",
       "      <td>1011.3</td>\n",
       "      <td>Foxborough</td>\n",
       "      <td>13.8</td>\n",
       "      <td>FieldTurf CORE</td>\n",
       "      <td>65.0</td>\n",
       "      <td>0.0</td>\n",
       "      <td>Open</td>\n",
       "      <td>NE</td>\n",
       "      <td>20.6</td>\n",
       "      <td>2017-09-07 20:00:00</td>\n",
       "      <td>2017-09-08 00:00:00</td>\n",
       "      <td>210.0</td>\n",
       "      <td>22.3</td>\n",
       "      <td>0</td>\n",
       "      <td>KC @ NE 2017-09-07</td>\n",
       "      <td>0</td>\n",
       "      <td>0</td>\n",
       "      <td>0</td>\n",
       "      <td>0</td>\n",
       "      <td>0</td>\n",
       "      <td>0</td>\n",
       "      <td>0</td>\n",
       "      <td>0</td>\n",
       "      <td>0</td>\n",
       "      <td>0</td>\n",
       "      <td>0</td>\n",
       "      <td>0</td>\n",
       "      <td>0</td>\n",
       "      <td>0</td>\n",
       "      <td>0</td>\n",
       "      <td>0</td>\n",
       "      <td>0</td>\n",
       "      <td>0</td>\n",
       "      <td>A</td>\n",
       "      <td>0</td>\n",
       "      <td>0</td>\n",
       "      <td>0</td>\n",
       "      <td>0</td>\n",
       "      <td>H</td>\n",
       "      <td>0</td>\n",
       "      <td>0</td>\n",
       "      <td>0</td>\n",
       "      <td>0</td>\n",
       "      <td>0</td>\n",
       "      <td>0</td>\n",
       "      <td>0</td>\n",
       "      <td>0</td>\n",
       "      <td>0</td>\n",
       "      <td>0</td>\n",
       "      <td>0</td>\n",
       "      <td>2017</td>\n",
       "      <td>1</td>\n",
       "    </tr>\n",
       "    <tr>\n",
       "      <th>362095</th>\n",
       "      <td>68</td>\n",
       "      <td>2017090700</td>\n",
       "      <td>2017-09-07 00:00:00</td>\n",
       "      <td>14:55</td>\n",
       "      <td>895.0</td>\n",
       "      <td>1795.0</td>\n",
       "      <td>3595.0</td>\n",
       "      <td>Half1</td>\n",
       "      <td>0</td>\n",
       "      <td>1</td>\n",
       "      <td>NE</td>\n",
       "      <td>KC</td>\n",
       "      <td>NE</td>\n",
       "      <td>home</td>\n",
       "      <td>KC</td>\n",
       "      <td>NE</td>\n",
       "      <td>73.0</td>\n",
       "      <td>1</td>\n",
       "      <td>0</td>\n",
       "      <td>1.0</td>\n",
       "      <td>0.0</td>\n",
       "      <td>NE 27</td>\n",
       "      <td>10</td>\n",
       "      <td>0</td>\n",
       "      <td>(14:55) NE 12-Brady 18th season as Patriots QB...</td>\n",
       "      <td>pass</td>\n",
       "      <td>0.0</td>\n",
       "      <td>deep</td>\n",
       "      <td>27.0</td>\n",
       "      <td>0.0</td>\n",
       "      <td>NaN</td>\n",
       "      <td>NaN</td>\n",
       "      <td>NaN</td>\n",
       "      <td>NaN</td>\n",
       "      <td>NaN</td>\n",
       "      <td>0</td>\n",
       "      <td>0</td>\n",
       "      <td>0.0</td>\n",
       "      <td>0.0</td>\n",
       "      <td>0.0</td>\n",
       "      <td>0.0</td>\n",
       "      <td>0.0</td>\n",
       "      <td>0.0</td>\n",
       "      <td>0.0</td>\n",
       "      <td>0.0</td>\n",
       "      <td>0.0</td>\n",
       "      <td>0.0</td>\n",
       "      <td>0.0</td>\n",
       "      <td>0.0</td>\n",
       "      <td>2017-09-07 20:30:00</td>\n",
       "      <td>0 days 00:00:15.000000000</td>\n",
       "      <td>2017-09-07 20:30:15</td>\n",
       "      <td>2017-09-07 20:30:15</td>\n",
       "      <td>2017-09-07 21:00:00</td>\n",
       "      <td>1012.9</td>\n",
       "      <td>Foxborough</td>\n",
       "      <td>11.6</td>\n",
       "      <td>FieldTurf CORE</td>\n",
       "      <td>67.0</td>\n",
       "      <td>0.0</td>\n",
       "      <td>Open</td>\n",
       "      <td>NE</td>\n",
       "      <td>17.8</td>\n",
       "      <td>2017-09-07 21:00:00</td>\n",
       "      <td>2017-09-08 01:00:00</td>\n",
       "      <td>300.0</td>\n",
       "      <td>20.5</td>\n",
       "      <td>0</td>\n",
       "      <td>KC @ NE 2017-09-07</td>\n",
       "      <td>0</td>\n",
       "      <td>0</td>\n",
       "      <td>0</td>\n",
       "      <td>0</td>\n",
       "      <td>0</td>\n",
       "      <td>0</td>\n",
       "      <td>0</td>\n",
       "      <td>0</td>\n",
       "      <td>0</td>\n",
       "      <td>0</td>\n",
       "      <td>0</td>\n",
       "      <td>0</td>\n",
       "      <td>0</td>\n",
       "      <td>0</td>\n",
       "      <td>0</td>\n",
       "      <td>0</td>\n",
       "      <td>0</td>\n",
       "      <td>0</td>\n",
       "      <td>A</td>\n",
       "      <td>0</td>\n",
       "      <td>0</td>\n",
       "      <td>0</td>\n",
       "      <td>0</td>\n",
       "      <td>H</td>\n",
       "      <td>0</td>\n",
       "      <td>0</td>\n",
       "      <td>0</td>\n",
       "      <td>0</td>\n",
       "      <td>0</td>\n",
       "      <td>0</td>\n",
       "      <td>0</td>\n",
       "      <td>0</td>\n",
       "      <td>0</td>\n",
       "      <td>0</td>\n",
       "      <td>0</td>\n",
       "      <td>2017</td>\n",
       "      <td>1</td>\n",
       "    </tr>\n",
       "    <tr>\n",
       "      <th>362096</th>\n",
       "      <td>94</td>\n",
       "      <td>2017090700</td>\n",
       "      <td>2017-09-07 00:00:00</td>\n",
       "      <td>14:49</td>\n",
       "      <td>889.0</td>\n",
       "      <td>1789.0</td>\n",
       "      <td>3589.0</td>\n",
       "      <td>Half1</td>\n",
       "      <td>0</td>\n",
       "      <td>1</td>\n",
       "      <td>NE</td>\n",
       "      <td>KC</td>\n",
       "      <td>NE</td>\n",
       "      <td>home</td>\n",
       "      <td>KC</td>\n",
       "      <td>NE</td>\n",
       "      <td>73.0</td>\n",
       "      <td>1</td>\n",
       "      <td>0</td>\n",
       "      <td>2.0</td>\n",
       "      <td>0.0</td>\n",
       "      <td>NE 27</td>\n",
       "      <td>10</td>\n",
       "      <td>8</td>\n",
       "      <td>(14:49) T.Brady pass short right to R.Burkhead...</td>\n",
       "      <td>pass</td>\n",
       "      <td>8.0</td>\n",
       "      <td>short</td>\n",
       "      <td>1.0</td>\n",
       "      <td>7.0</td>\n",
       "      <td>NaN</td>\n",
       "      <td>NaN</td>\n",
       "      <td>NaN</td>\n",
       "      <td>NaN</td>\n",
       "      <td>NaN</td>\n",
       "      <td>0</td>\n",
       "      <td>0</td>\n",
       "      <td>0.0</td>\n",
       "      <td>0.0</td>\n",
       "      <td>0.0</td>\n",
       "      <td>0.0</td>\n",
       "      <td>0.0</td>\n",
       "      <td>0.0</td>\n",
       "      <td>0.0</td>\n",
       "      <td>0.0</td>\n",
       "      <td>0.0</td>\n",
       "      <td>0.0</td>\n",
       "      <td>0.0</td>\n",
       "      <td>1.0</td>\n",
       "      <td>2017-09-07 20:30:00</td>\n",
       "      <td>0 days 00:00:33.000000000</td>\n",
       "      <td>2017-09-07 20:30:33</td>\n",
       "      <td>2017-09-07 20:30:33</td>\n",
       "      <td>2017-09-07 21:00:00</td>\n",
       "      <td>1012.9</td>\n",
       "      <td>Foxborough</td>\n",
       "      <td>11.6</td>\n",
       "      <td>FieldTurf CORE</td>\n",
       "      <td>67.0</td>\n",
       "      <td>0.0</td>\n",
       "      <td>Open</td>\n",
       "      <td>NE</td>\n",
       "      <td>17.8</td>\n",
       "      <td>2017-09-07 21:00:00</td>\n",
       "      <td>2017-09-08 01:00:00</td>\n",
       "      <td>300.0</td>\n",
       "      <td>20.5</td>\n",
       "      <td>0</td>\n",
       "      <td>KC @ NE 2017-09-07</td>\n",
       "      <td>0</td>\n",
       "      <td>0</td>\n",
       "      <td>0</td>\n",
       "      <td>0</td>\n",
       "      <td>0</td>\n",
       "      <td>0</td>\n",
       "      <td>0</td>\n",
       "      <td>0</td>\n",
       "      <td>0</td>\n",
       "      <td>0</td>\n",
       "      <td>0</td>\n",
       "      <td>0</td>\n",
       "      <td>0</td>\n",
       "      <td>0</td>\n",
       "      <td>0</td>\n",
       "      <td>0</td>\n",
       "      <td>0</td>\n",
       "      <td>0</td>\n",
       "      <td>A</td>\n",
       "      <td>0</td>\n",
       "      <td>0</td>\n",
       "      <td>0</td>\n",
       "      <td>0</td>\n",
       "      <td>H</td>\n",
       "      <td>0</td>\n",
       "      <td>0</td>\n",
       "      <td>0</td>\n",
       "      <td>0</td>\n",
       "      <td>0</td>\n",
       "      <td>0</td>\n",
       "      <td>0</td>\n",
       "      <td>0</td>\n",
       "      <td>0</td>\n",
       "      <td>0</td>\n",
       "      <td>0</td>\n",
       "      <td>2017</td>\n",
       "      <td>1</td>\n",
       "    </tr>\n",
       "    <tr>\n",
       "      <th>362097</th>\n",
       "      <td>118</td>\n",
       "      <td>2017090700</td>\n",
       "      <td>2017-09-07 00:00:00</td>\n",
       "      <td>14:14</td>\n",
       "      <td>854.0</td>\n",
       "      <td>1754.0</td>\n",
       "      <td>3554.0</td>\n",
       "      <td>Half1</td>\n",
       "      <td>0</td>\n",
       "      <td>1</td>\n",
       "      <td>NE</td>\n",
       "      <td>KC</td>\n",
       "      <td>NE</td>\n",
       "      <td>home</td>\n",
       "      <td>KC</td>\n",
       "      <td>NE</td>\n",
       "      <td>65.0</td>\n",
       "      <td>1</td>\n",
       "      <td>0</td>\n",
       "      <td>3.0</td>\n",
       "      <td>0.0</td>\n",
       "      <td>NE 35</td>\n",
       "      <td>2</td>\n",
       "      <td>73</td>\n",
       "      <td>(14:14) (Shotgun) J.White left guard to NE 43 ...</td>\n",
       "      <td>run</td>\n",
       "      <td>8.0</td>\n",
       "      <td>0</td>\n",
       "      <td>0.0</td>\n",
       "      <td>0.0</td>\n",
       "      <td>NaN</td>\n",
       "      <td>NaN</td>\n",
       "      <td>NaN</td>\n",
       "      <td>NaN</td>\n",
       "      <td>NaN</td>\n",
       "      <td>0</td>\n",
       "      <td>0</td>\n",
       "      <td>0.0</td>\n",
       "      <td>0.0</td>\n",
       "      <td>0.0</td>\n",
       "      <td>0.0</td>\n",
       "      <td>0.0</td>\n",
       "      <td>0.0</td>\n",
       "      <td>0.0</td>\n",
       "      <td>0.0</td>\n",
       "      <td>0.0</td>\n",
       "      <td>0.0</td>\n",
       "      <td>0.0</td>\n",
       "      <td>0.0</td>\n",
       "      <td>2017-09-07 20:30:00</td>\n",
       "      <td>0 days 00:02:18.000000000</td>\n",
       "      <td>2017-09-07 20:32:18</td>\n",
       "      <td>2017-09-07 20:32:18</td>\n",
       "      <td>2017-09-07 21:00:00</td>\n",
       "      <td>1012.9</td>\n",
       "      <td>Foxborough</td>\n",
       "      <td>11.6</td>\n",
       "      <td>FieldTurf CORE</td>\n",
       "      <td>67.0</td>\n",
       "      <td>0.0</td>\n",
       "      <td>Open</td>\n",
       "      <td>NE</td>\n",
       "      <td>17.8</td>\n",
       "      <td>2017-09-07 21:00:00</td>\n",
       "      <td>2017-09-08 01:00:00</td>\n",
       "      <td>300.0</td>\n",
       "      <td>20.5</td>\n",
       "      <td>0</td>\n",
       "      <td>KC @ NE 2017-09-07</td>\n",
       "      <td>0</td>\n",
       "      <td>0</td>\n",
       "      <td>0</td>\n",
       "      <td>0</td>\n",
       "      <td>0</td>\n",
       "      <td>0</td>\n",
       "      <td>0</td>\n",
       "      <td>0</td>\n",
       "      <td>0</td>\n",
       "      <td>0</td>\n",
       "      <td>0</td>\n",
       "      <td>0</td>\n",
       "      <td>0</td>\n",
       "      <td>0</td>\n",
       "      <td>0</td>\n",
       "      <td>0</td>\n",
       "      <td>0</td>\n",
       "      <td>0</td>\n",
       "      <td>A</td>\n",
       "      <td>0</td>\n",
       "      <td>0</td>\n",
       "      <td>0</td>\n",
       "      <td>0</td>\n",
       "      <td>H</td>\n",
       "      <td>0</td>\n",
       "      <td>0</td>\n",
       "      <td>0</td>\n",
       "      <td>0</td>\n",
       "      <td>0</td>\n",
       "      <td>0</td>\n",
       "      <td>0</td>\n",
       "      <td>0</td>\n",
       "      <td>0</td>\n",
       "      <td>0</td>\n",
       "      <td>0</td>\n",
       "      <td>2017</td>\n",
       "      <td>1</td>\n",
       "    </tr>\n",
       "    <tr>\n",
       "      <th>362098</th>\n",
       "      <td>139</td>\n",
       "      <td>2017090700</td>\n",
       "      <td>2017-09-07 00:00:00</td>\n",
       "      <td>13:52</td>\n",
       "      <td>832.0</td>\n",
       "      <td>1732.0</td>\n",
       "      <td>3532.0</td>\n",
       "      <td>Half1</td>\n",
       "      <td>0</td>\n",
       "      <td>1</td>\n",
       "      <td>NE</td>\n",
       "      <td>KC</td>\n",
       "      <td>NE</td>\n",
       "      <td>home</td>\n",
       "      <td>KC</td>\n",
       "      <td>NE</td>\n",
       "      <td>57.0</td>\n",
       "      <td>1</td>\n",
       "      <td>0</td>\n",
       "      <td>1.0</td>\n",
       "      <td>0.0</td>\n",
       "      <td>NE 43</td>\n",
       "      <td>10</td>\n",
       "      <td>19</td>\n",
       "      <td>(13:52) (No Huddle, Shotgun) J.White up the mi...</td>\n",
       "      <td>run</td>\n",
       "      <td>3.0</td>\n",
       "      <td>0</td>\n",
       "      <td>0.0</td>\n",
       "      <td>0.0</td>\n",
       "      <td>NaN</td>\n",
       "      <td>NaN</td>\n",
       "      <td>NaN</td>\n",
       "      <td>NaN</td>\n",
       "      <td>NaN</td>\n",
       "      <td>0</td>\n",
       "      <td>0</td>\n",
       "      <td>0.0</td>\n",
       "      <td>0.0</td>\n",
       "      <td>0.0</td>\n",
       "      <td>0.0</td>\n",
       "      <td>0.0</td>\n",
       "      <td>0.0</td>\n",
       "      <td>0.0</td>\n",
       "      <td>0.0</td>\n",
       "      <td>0.0</td>\n",
       "      <td>0.0</td>\n",
       "      <td>0.0</td>\n",
       "      <td>0.0</td>\n",
       "      <td>2017-09-07 20:30:00</td>\n",
       "      <td>0 days 00:03:24.000000000</td>\n",
       "      <td>2017-09-07 20:33:24</td>\n",
       "      <td>2017-09-07 20:33:24</td>\n",
       "      <td>2017-09-07 21:00:00</td>\n",
       "      <td>1012.9</td>\n",
       "      <td>Foxborough</td>\n",
       "      <td>11.6</td>\n",
       "      <td>FieldTurf CORE</td>\n",
       "      <td>67.0</td>\n",
       "      <td>0.0</td>\n",
       "      <td>Open</td>\n",
       "      <td>NE</td>\n",
       "      <td>17.8</td>\n",
       "      <td>2017-09-07 21:00:00</td>\n",
       "      <td>2017-09-08 01:00:00</td>\n",
       "      <td>300.0</td>\n",
       "      <td>20.5</td>\n",
       "      <td>0</td>\n",
       "      <td>KC @ NE 2017-09-07</td>\n",
       "      <td>0</td>\n",
       "      <td>0</td>\n",
       "      <td>0</td>\n",
       "      <td>0</td>\n",
       "      <td>0</td>\n",
       "      <td>0</td>\n",
       "      <td>0</td>\n",
       "      <td>0</td>\n",
       "      <td>0</td>\n",
       "      <td>0</td>\n",
       "      <td>0</td>\n",
       "      <td>0</td>\n",
       "      <td>0</td>\n",
       "      <td>0</td>\n",
       "      <td>0</td>\n",
       "      <td>0</td>\n",
       "      <td>0</td>\n",
       "      <td>0</td>\n",
       "      <td>A</td>\n",
       "      <td>0</td>\n",
       "      <td>0</td>\n",
       "      <td>0</td>\n",
       "      <td>0</td>\n",
       "      <td>H</td>\n",
       "      <td>0</td>\n",
       "      <td>0</td>\n",
       "      <td>0</td>\n",
       "      <td>0</td>\n",
       "      <td>0</td>\n",
       "      <td>0</td>\n",
       "      <td>0</td>\n",
       "      <td>0</td>\n",
       "      <td>0</td>\n",
       "      <td>0</td>\n",
       "      <td>0</td>\n",
       "      <td>2017</td>\n",
       "      <td>1</td>\n",
       "    </tr>\n",
       "  </tbody>\n",
       "</table>\n",
       "</div>"
      ],
      "text/plain": [
       "        play_id     game_id            game_date   time  \\\n",
       "index                                                     \n",
       "362094       44  2017090700  2017-09-07 00:00:00  15:00   \n",
       "362095       68  2017090700  2017-09-07 00:00:00  14:55   \n",
       "362096       94  2017090700  2017-09-07 00:00:00  14:49   \n",
       "362097      118  2017090700  2017-09-07 00:00:00  14:14   \n",
       "362098      139  2017090700  2017-09-07 00:00:00  13:52   \n",
       "\n",
       "        quarter_seconds_remaining  half_seconds_remaining  \\\n",
       "index                                                       \n",
       "362094                      900.0                  1800.0   \n",
       "362095                      895.0                  1795.0   \n",
       "362096                      889.0                  1789.0   \n",
       "362097                      854.0                  1754.0   \n",
       "362098                      832.0                  1732.0   \n",
       "\n",
       "        game_seconds_remaining game_half  quarter_end  qtr home_team  \\\n",
       "index                                                                  \n",
       "362094                  3600.0     Half1            0    1        NE   \n",
       "362095                  3595.0     Half1            0    1        NE   \n",
       "362096                  3589.0     Half1            0    1        NE   \n",
       "362097                  3554.0     Half1            0    1        NE   \n",
       "362098                  3532.0     Half1            0    1        NE   \n",
       "\n",
       "       away_team posteam posteam_type defteam side_of_field  yardline_100  \\\n",
       "index                                                                       \n",
       "362094        KC      NE         home      KC            KC          35.0   \n",
       "362095        KC      NE         home      KC            NE          73.0   \n",
       "362096        KC      NE         home      KC            NE          73.0   \n",
       "362097        KC      NE         home      KC            NE          65.0   \n",
       "362098        KC      NE         home      KC            NE          57.0   \n",
       "\n",
       "        drive  sp  down  goal_to_go  yrdln  ydstogo  ydsnet  \\\n",
       "index                                                         \n",
       "362094      1   0   NaN         0.0  KC 35        0      73   \n",
       "362095      1   0   1.0         0.0  NE 27       10       0   \n",
       "362096      1   0   2.0         0.0  NE 27       10       8   \n",
       "362097      1   0   3.0         0.0  NE 35        2      73   \n",
       "362098      1   0   1.0         0.0  NE 43       10      19   \n",
       "\n",
       "                                                     desc play_type  \\\n",
       "index                                                                 \n",
       "362094  C.Santos kicks 64 yards from KC 35 to NE 1. D....   kickoff   \n",
       "362095  (14:55) NE 12-Brady 18th season as Patriots QB...      pass   \n",
       "362096  (14:49) T.Brady pass short right to R.Burkhead...      pass   \n",
       "362097  (14:14) (Shotgun) J.White left guard to NE 43 ...       run   \n",
       "362098  (13:52) (No Huddle, Shotgun) J.White up the mi...       run   \n",
       "\n",
       "        yards_gained pass_length  air_yards  yards_after_catch  \\\n",
       "index                                                            \n",
       "362094           0.0           0        0.0                0.0   \n",
       "362095           0.0        deep       27.0                0.0   \n",
       "362096           8.0       short        1.0                7.0   \n",
       "362097           8.0           0        0.0                0.0   \n",
       "362098           3.0           0        0.0                0.0   \n",
       "\n",
       "       field_goal_result  kick_distance extra_point_result  \\\n",
       "index                                                        \n",
       "362094               NaN           64.0                NaN   \n",
       "362095               NaN            NaN                NaN   \n",
       "362096               NaN            NaN                NaN   \n",
       "362097               NaN            NaN                NaN   \n",
       "362098               NaN            NaN                NaN   \n",
       "\n",
       "       two_point_conv_result td_team  total_home_score  total_away_score  \\\n",
       "index                                                                      \n",
       "362094                   NaN     NaN                 0                 0   \n",
       "362095                   NaN     NaN                 0                 0   \n",
       "362096                   NaN     NaN                 0                 0   \n",
       "362097                   NaN     NaN                 0                 0   \n",
       "362098                   NaN     NaN                 0                 0   \n",
       "\n",
       "        posteam_score  defteam_score  sack  touchdown  pass_touchdown  \\\n",
       "index                                                                   \n",
       "362094            0.0            0.0   0.0        0.0             0.0   \n",
       "362095            0.0            0.0   0.0        0.0             0.0   \n",
       "362096            0.0            0.0   0.0        0.0             0.0   \n",
       "362097            0.0            0.0   0.0        0.0             0.0   \n",
       "362098            0.0            0.0   0.0        0.0             0.0   \n",
       "\n",
       "        rush_touchdown  return_touchdown  extra_point_attempt  \\\n",
       "index                                                           \n",
       "362094             0.0               0.0                  0.0   \n",
       "362095             0.0               0.0                  0.0   \n",
       "362096             0.0               0.0                  0.0   \n",
       "362097             0.0               0.0                  0.0   \n",
       "362098             0.0               0.0                  0.0   \n",
       "\n",
       "        two_point_attempt  field_goal_attempt  fumble  complete_pass  \\\n",
       "index                                                                  \n",
       "362094                0.0                 0.0     0.0            0.0   \n",
       "362095                0.0                 0.0     0.0            0.0   \n",
       "362096                0.0                 0.0     0.0            1.0   \n",
       "362097                0.0                 0.0     0.0            0.0   \n",
       "362098                0.0                 0.0     0.0            0.0   \n",
       "\n",
       "                 Start_Time                       diff       Estimated_Time  \\\n",
       "index                                                                         \n",
       "362094  2017-09-07 20:30:00  0 days 00:00:00.000000000  2017-09-07 20:30:00   \n",
       "362095  2017-09-07 20:30:00  0 days 00:00:15.000000000  2017-09-07 20:30:15   \n",
       "362096  2017-09-07 20:30:00  0 days 00:00:33.000000000  2017-09-07 20:30:33   \n",
       "362097  2017-09-07 20:30:00  0 days 00:02:18.000000000  2017-09-07 20:32:18   \n",
       "362098  2017-09-07 20:30:00  0 days 00:03:24.000000000  2017-09-07 20:33:24   \n",
       "\n",
       "       Estimated Time (EST)      Estimated_Hour  Air Pressure (hPa)  \\\n",
       "index                                                                 \n",
       "362094  2017-09-07 20:30:00 2017-09-07 20:00:00              1011.3   \n",
       "362095  2017-09-07 20:30:15 2017-09-07 21:00:00              1012.9   \n",
       "362096  2017-09-07 20:30:33 2017-09-07 21:00:00              1012.9   \n",
       "362097  2017-09-07 20:32:18 2017-09-07 21:00:00              1012.9   \n",
       "362098  2017-09-07 20:33:24 2017-09-07 21:00:00              1012.9   \n",
       "\n",
       "              City  Dewpoint (°C)           Field  Humidity (%)  \\\n",
       "index                                                             \n",
       "362094  Foxborough           13.8  FieldTurf CORE          65.0   \n",
       "362095  Foxborough           11.6  FieldTurf CORE          67.0   \n",
       "362096  Foxborough           11.6  FieldTurf CORE          67.0   \n",
       "362097  Foxborough           11.6  FieldTurf CORE          67.0   \n",
       "362098  Foxborough           11.6  FieldTurf CORE          67.0   \n",
       "\n",
       "        Precipitation (mm)  Roof Team Abbreviation  Temperature (°C)  \\\n",
       "index                                                                  \n",
       "362094                 0.0  Open                NE              20.6   \n",
       "362095                 0.0  Open                NE              17.8   \n",
       "362096                 0.0  Open                NE              17.8   \n",
       "362097                 0.0  Open                NE              17.8   \n",
       "362098                 0.0  Open                NE              17.8   \n",
       "\n",
       "                Time (EST)          Time (GMT)  Wind Direction (deg)  \\\n",
       "index                                                                  \n",
       "362094 2017-09-07 20:00:00 2017-09-08 00:00:00                 210.0   \n",
       "362095 2017-09-07 21:00:00 2017-09-08 01:00:00                 300.0   \n",
       "362096 2017-09-07 21:00:00 2017-09-08 01:00:00                 300.0   \n",
       "362097 2017-09-07 21:00:00 2017-09-08 01:00:00                 300.0   \n",
       "362098 2017-09-07 21:00:00 2017-09-08 01:00:00                 300.0   \n",
       "\n",
       "        Wind Speed (km/h)  added_time           game_name  end_of_drive  \\\n",
       "index                                                                     \n",
       "362094               22.3           0  KC @ NE 2017-09-07             0   \n",
       "362095               20.5           0  KC @ NE 2017-09-07             0   \n",
       "362096               20.5           0  KC @ NE 2017-09-07             0   \n",
       "362097               20.5           0  KC @ NE 2017-09-07             0   \n",
       "362098               20.5           0  KC @ NE 2017-09-07             0   \n",
       "\n",
       "        end_of_game  INT ARI ATL BAL BUF CAR CHI CIN CLE DAL DEN DET GB HOU  \\\n",
       "index                                                                         \n",
       "362094            0    0   0   0   0   0   0   0   0   0   0   0   0  0   0   \n",
       "362095            0    0   0   0   0   0   0   0   0   0   0   0   0  0   0   \n",
       "362096            0    0   0   0   0   0   0   0   0   0   0   0   0  0   0   \n",
       "362097            0    0   0   0   0   0   0   0   0   0   0   0   0  0   0   \n",
       "362098            0    0   0   0   0   0   0   0   0   0   0   0   0  0   0   \n",
       "\n",
       "       IND JAX KC LA LAC MIA MIN NE NO NYG NYJ OAK PHI PIT SEA SF TB TEN WAS  \\\n",
       "index                                                                          \n",
       "362094   0   0  A  0   0   0   0  H  0   0   0   0   0   0   0  0  0   0   0   \n",
       "362095   0   0  A  0   0   0   0  H  0   0   0   0   0   0   0  0  0   0   0   \n",
       "362096   0   0  A  0   0   0   0  H  0   0   0   0   0   0   0  0  0   0   0   \n",
       "362097   0   0  A  0   0   0   0  H  0   0   0   0   0   0   0  0  0   0   0   \n",
       "362098   0   0  A  0   0   0   0  H  0   0   0   0   0   0   0  0  0   0   0   \n",
       "\n",
       "        year  week  \n",
       "index               \n",
       "362094  2017     1  \n",
       "362095  2017     1  \n",
       "362096  2017     1  \n",
       "362097  2017     1  \n",
       "362098  2017     1  "
      ]
     },
     "execution_count": 240,
     "metadata": {},
     "output_type": "execute_result"
    }
   ],
   "source": [
    "nfl_small2.head()"
   ]
  },
  {
   "cell_type": "code",
   "execution_count": 255,
   "metadata": {},
   "outputs": [],
   "source": [
    "# combining combined_df and nfl_small2 for weather data using average per game for each value\n",
    "\n",
    "def agg_func_for_weather(x):\n",
    "    values = {\n",
    "        'Temperature (°C)':x['Temperature (°C)'].mean(),\n",
    "        'Air Pressure (hPa)':x['Air Pressure (hPa)'].mean(),\n",
    "        'City':x['City'].iloc[0],\n",
    "        'Field':x['Field'].iloc[0],\n",
    "        'Dewpoint (°C)':x['Dewpoint (°C)'].mean(),\n",
    "        'Precipitation (mm)':x['Precipitation (mm)'].mean(),\n",
    "        'Wind Speed (km/h)':x['Wind Speed (km/h)'].mean()\n",
    "    }\n",
    "    return pd.Series(values)"
   ]
  },
  {
   "cell_type": "code",
   "execution_count": 256,
   "metadata": {},
   "outputs": [],
   "source": [
    "weather_avg_df = nfl_small2.groupby(['game_id']).apply(lambda x: agg_func_for_weather(x))"
   ]
  },
  {
   "cell_type": "code",
   "execution_count": 257,
   "metadata": {},
   "outputs": [
    {
     "data": {
      "text/html": [
       "<div>\n",
       "<style scoped>\n",
       "    .dataframe tbody tr th:only-of-type {\n",
       "        vertical-align: middle;\n",
       "    }\n",
       "\n",
       "    .dataframe tbody tr th {\n",
       "        vertical-align: top;\n",
       "    }\n",
       "\n",
       "    .dataframe thead th {\n",
       "        text-align: right;\n",
       "    }\n",
       "</style>\n",
       "<table border=\"1\" class=\"dataframe\">\n",
       "  <thead>\n",
       "    <tr style=\"text-align: right;\">\n",
       "      <th></th>\n",
       "      <th>Temperature (°C)</th>\n",
       "      <th>Air Pressure (hPa)</th>\n",
       "      <th>City</th>\n",
       "      <th>Field</th>\n",
       "      <th>Dewpoint (°C)</th>\n",
       "      <th>Precipitation (mm)</th>\n",
       "      <th>Wind Speed (km/h)</th>\n",
       "    </tr>\n",
       "    <tr>\n",
       "      <th>game_id</th>\n",
       "      <th></th>\n",
       "      <th></th>\n",
       "      <th></th>\n",
       "      <th></th>\n",
       "      <th></th>\n",
       "      <th></th>\n",
       "      <th></th>\n",
       "    </tr>\n",
       "  </thead>\n",
       "  <tbody>\n",
       "    <tr>\n",
       "      <th>2017090700</th>\n",
       "      <td>17.814359</td>\n",
       "      <td>1013.282564</td>\n",
       "      <td>Foxborough</td>\n",
       "      <td>FieldTurf CORE</td>\n",
       "      <td>11.439487</td>\n",
       "      <td>0.0</td>\n",
       "      <td>13.215385</td>\n",
       "    </tr>\n",
       "    <tr>\n",
       "      <th>2017091000</th>\n",
       "      <td>18.531928</td>\n",
       "      <td>1031.807229</td>\n",
       "      <td>Orchard Park</td>\n",
       "      <td>A-Turf Titan 50</td>\n",
       "      <td>7.090964</td>\n",
       "      <td>0.0</td>\n",
       "      <td>10.100000</td>\n",
       "    </tr>\n",
       "    <tr>\n",
       "      <th>2017091001</th>\n",
       "      <td>20.807006</td>\n",
       "      <td>1029.624841</td>\n",
       "      <td>Chicago</td>\n",
       "      <td>Kentucky bluegrass</td>\n",
       "      <td>6.575159</td>\n",
       "      <td>0.0</td>\n",
       "      <td>16.600000</td>\n",
       "    </tr>\n",
       "    <tr>\n",
       "      <th>2017091002</th>\n",
       "      <td>21.979141</td>\n",
       "      <td>1027.619632</td>\n",
       "      <td>Cincinnati</td>\n",
       "      <td>UBU Speed Series S5-M Synthetic Turf</td>\n",
       "      <td>8.545399</td>\n",
       "      <td>0.0</td>\n",
       "      <td>20.901227</td>\n",
       "    </tr>\n",
       "    <tr>\n",
       "      <th>2017091003</th>\n",
       "      <td>21.227848</td>\n",
       "      <td>1031.128481</td>\n",
       "      <td>Cleveland</td>\n",
       "      <td>Kentucky bluegrass</td>\n",
       "      <td>8.108861</td>\n",
       "      <td>0.0</td>\n",
       "      <td>12.922152</td>\n",
       "    </tr>\n",
       "  </tbody>\n",
       "</table>\n",
       "</div>"
      ],
      "text/plain": [
       "            Temperature (°C)  Air Pressure (hPa)          City  \\\n",
       "game_id                                                          \n",
       "2017090700         17.814359         1013.282564    Foxborough   \n",
       "2017091000         18.531928         1031.807229  Orchard Park   \n",
       "2017091001         20.807006         1029.624841       Chicago   \n",
       "2017091002         21.979141         1027.619632    Cincinnati   \n",
       "2017091003         21.227848         1031.128481     Cleveland   \n",
       "\n",
       "                                           Field  Dewpoint (°C)  \\\n",
       "game_id                                                           \n",
       "2017090700                        FieldTurf CORE      11.439487   \n",
       "2017091000                       A-Turf Titan 50       7.090964   \n",
       "2017091001                    Kentucky bluegrass       6.575159   \n",
       "2017091002  UBU Speed Series S5-M Synthetic Turf       8.545399   \n",
       "2017091003                    Kentucky bluegrass       8.108861   \n",
       "\n",
       "            Precipitation (mm)  Wind Speed (km/h)  \n",
       "game_id                                            \n",
       "2017090700                 0.0          13.215385  \n",
       "2017091000                 0.0          10.100000  \n",
       "2017091001                 0.0          16.600000  \n",
       "2017091002                 0.0          20.901227  \n",
       "2017091003                 0.0          12.922152  "
      ]
     },
     "execution_count": 257,
     "metadata": {},
     "output_type": "execute_result"
    }
   ],
   "source": [
    "weather_avg_df.head()"
   ]
  },
  {
   "cell_type": "code",
   "execution_count": 262,
   "metadata": {},
   "outputs": [],
   "source": [
    "combined_weather_avg_df = combined_df.merge(weather_avg_df, left_on = ['game_id'], right_on = ['game_id'])"
   ]
  },
  {
   "cell_type": "code",
   "execution_count": 263,
   "metadata": {},
   "outputs": [
    {
     "data": {
      "text/html": [
       "<div>\n",
       "<style scoped>\n",
       "    .dataframe tbody tr th:only-of-type {\n",
       "        vertical-align: middle;\n",
       "    }\n",
       "\n",
       "    .dataframe tbody tr th {\n",
       "        vertical-align: top;\n",
       "    }\n",
       "\n",
       "    .dataframe thead th {\n",
       "        text-align: right;\n",
       "    }\n",
       "</style>\n",
       "<table border=\"1\" class=\"dataframe\">\n",
       "  <thead>\n",
       "    <tr style=\"text-align: right;\">\n",
       "      <th></th>\n",
       "      <th>game_id</th>\n",
       "      <th>Team</th>\n",
       "      <th>team_against</th>\n",
       "      <th>score</th>\n",
       "      <th>score_against</th>\n",
       "      <th>yards</th>\n",
       "      <th>yards_against</th>\n",
       "      <th>run_plays</th>\n",
       "      <th>run_plays_against</th>\n",
       "      <th>pass_plays</th>\n",
       "      <th>pass_plays_against</th>\n",
       "      <th>to_for</th>\n",
       "      <th>to_against</th>\n",
       "      <th>fg_at</th>\n",
       "      <th>fg_md</th>\n",
       "      <th>fg_at_against</th>\n",
       "      <th>fg_md_against</th>\n",
       "      <th>pass_yards</th>\n",
       "      <th>pass_yards_against</th>\n",
       "      <th>run_yards</th>\n",
       "      <th>run_yards_against</th>\n",
       "      <th>win</th>\n",
       "      <th>pass_run_ratio</th>\n",
       "      <th>yard_diff</th>\n",
       "      <th>to_diff</th>\n",
       "      <th>fg_rate</th>\n",
       "      <th>fg_rate_against</th>\n",
       "      <th>pass_yds_per_at</th>\n",
       "      <th>run_yds_per_at</th>\n",
       "      <th>pass_yds_per_at_against</th>\n",
       "      <th>run_yds_per_at_against</th>\n",
       "      <th>team_encode</th>\n",
       "      <th>team_against_encode</th>\n",
       "      <th>Temperature (°C)</th>\n",
       "      <th>Air Pressure (hPa)</th>\n",
       "      <th>City</th>\n",
       "      <th>Field</th>\n",
       "      <th>Dewpoint (°C)</th>\n",
       "      <th>Precipitation (mm)</th>\n",
       "      <th>Wind Speed (km/h)</th>\n",
       "    </tr>\n",
       "  </thead>\n",
       "  <tbody>\n",
       "    <tr>\n",
       "      <th>0</th>\n",
       "      <td>2017090700</td>\n",
       "      <td>NE</td>\n",
       "      <td>KC</td>\n",
       "      <td>27</td>\n",
       "      <td>42</td>\n",
       "      <td>425.0</td>\n",
       "      <td>538.0</td>\n",
       "      <td>34.0</td>\n",
       "      <td>24.0</td>\n",
       "      <td>39.0</td>\n",
       "      <td>38.0</td>\n",
       "      <td>2.0</td>\n",
       "      <td>1.0</td>\n",
       "      <td>2.0</td>\n",
       "      <td>2.0</td>\n",
       "      <td>0.0</td>\n",
       "      <td>0.0</td>\n",
       "      <td>247.0</td>\n",
       "      <td>352.0</td>\n",
       "      <td>125.0</td>\n",
       "      <td>191.0</td>\n",
       "      <td>0.0</td>\n",
       "      <td>1.15</td>\n",
       "      <td>-113.0</td>\n",
       "      <td>1.0</td>\n",
       "      <td>1.0</td>\n",
       "      <td>0.5</td>\n",
       "      <td>6.333333</td>\n",
       "      <td>3.676471</td>\n",
       "      <td>9.263158</td>\n",
       "      <td>7.958333</td>\n",
       "      <td>5</td>\n",
       "      <td>5</td>\n",
       "      <td>17.814359</td>\n",
       "      <td>1013.282564</td>\n",
       "      <td>Foxborough</td>\n",
       "      <td>FieldTurf CORE</td>\n",
       "      <td>11.439487</td>\n",
       "      <td>0.0</td>\n",
       "      <td>13.215385</td>\n",
       "    </tr>\n",
       "    <tr>\n",
       "      <th>1</th>\n",
       "      <td>2017090700</td>\n",
       "      <td>KC</td>\n",
       "      <td>NE</td>\n",
       "      <td>42</td>\n",
       "      <td>27</td>\n",
       "      <td>538.0</td>\n",
       "      <td>425.0</td>\n",
       "      <td>24.0</td>\n",
       "      <td>34.0</td>\n",
       "      <td>38.0</td>\n",
       "      <td>39.0</td>\n",
       "      <td>1.0</td>\n",
       "      <td>2.0</td>\n",
       "      <td>0.0</td>\n",
       "      <td>0.0</td>\n",
       "      <td>2.0</td>\n",
       "      <td>2.0</td>\n",
       "      <td>352.0</td>\n",
       "      <td>247.0</td>\n",
       "      <td>191.0</td>\n",
       "      <td>125.0</td>\n",
       "      <td>1.0</td>\n",
       "      <td>1.58</td>\n",
       "      <td>113.0</td>\n",
       "      <td>-1.0</td>\n",
       "      <td>0.5</td>\n",
       "      <td>1.0</td>\n",
       "      <td>9.263158</td>\n",
       "      <td>7.958333</td>\n",
       "      <td>6.333333</td>\n",
       "      <td>3.676471</td>\n",
       "      <td>5</td>\n",
       "      <td>5</td>\n",
       "      <td>17.814359</td>\n",
       "      <td>1013.282564</td>\n",
       "      <td>Foxborough</td>\n",
       "      <td>FieldTurf CORE</td>\n",
       "      <td>11.439487</td>\n",
       "      <td>0.0</td>\n",
       "      <td>13.215385</td>\n",
       "    </tr>\n",
       "    <tr>\n",
       "      <th>2</th>\n",
       "      <td>2017091000</td>\n",
       "      <td>BUF</td>\n",
       "      <td>NYJ</td>\n",
       "      <td>21</td>\n",
       "      <td>12</td>\n",
       "      <td>400.0</td>\n",
       "      <td>199.0</td>\n",
       "      <td>39.0</td>\n",
       "      <td>14.0</td>\n",
       "      <td>29.0</td>\n",
       "      <td>41.0</td>\n",
       "      <td>2.0</td>\n",
       "      <td>3.0</td>\n",
       "      <td>1.0</td>\n",
       "      <td>1.0</td>\n",
       "      <td>2.0</td>\n",
       "      <td>2.0</td>\n",
       "      <td>218.0</td>\n",
       "      <td>176.0</td>\n",
       "      <td>193.0</td>\n",
       "      <td>39.0</td>\n",
       "      <td>1.0</td>\n",
       "      <td>0.74</td>\n",
       "      <td>201.0</td>\n",
       "      <td>-1.0</td>\n",
       "      <td>1.0</td>\n",
       "      <td>1.0</td>\n",
       "      <td>7.517241</td>\n",
       "      <td>4.948718</td>\n",
       "      <td>4.292683</td>\n",
       "      <td>2.785714</td>\n",
       "      <td>3</td>\n",
       "      <td>1</td>\n",
       "      <td>18.531928</td>\n",
       "      <td>1031.807229</td>\n",
       "      <td>Orchard Park</td>\n",
       "      <td>A-Turf Titan 50</td>\n",
       "      <td>7.090964</td>\n",
       "      <td>0.0</td>\n",
       "      <td>10.100000</td>\n",
       "    </tr>\n",
       "    <tr>\n",
       "      <th>3</th>\n",
       "      <td>2017091000</td>\n",
       "      <td>NYJ</td>\n",
       "      <td>BUF</td>\n",
       "      <td>12</td>\n",
       "      <td>21</td>\n",
       "      <td>199.0</td>\n",
       "      <td>400.0</td>\n",
       "      <td>14.0</td>\n",
       "      <td>39.0</td>\n",
       "      <td>41.0</td>\n",
       "      <td>29.0</td>\n",
       "      <td>3.0</td>\n",
       "      <td>2.0</td>\n",
       "      <td>2.0</td>\n",
       "      <td>2.0</td>\n",
       "      <td>1.0</td>\n",
       "      <td>1.0</td>\n",
       "      <td>176.0</td>\n",
       "      <td>218.0</td>\n",
       "      <td>39.0</td>\n",
       "      <td>193.0</td>\n",
       "      <td>0.0</td>\n",
       "      <td>2.93</td>\n",
       "      <td>-201.0</td>\n",
       "      <td>1.0</td>\n",
       "      <td>1.0</td>\n",
       "      <td>1.0</td>\n",
       "      <td>4.292683</td>\n",
       "      <td>2.785714</td>\n",
       "      <td>7.517241</td>\n",
       "      <td>4.948718</td>\n",
       "      <td>1</td>\n",
       "      <td>3</td>\n",
       "      <td>18.531928</td>\n",
       "      <td>1031.807229</td>\n",
       "      <td>Orchard Park</td>\n",
       "      <td>A-Turf Titan 50</td>\n",
       "      <td>7.090964</td>\n",
       "      <td>0.0</td>\n",
       "      <td>10.100000</td>\n",
       "    </tr>\n",
       "    <tr>\n",
       "      <th>4</th>\n",
       "      <td>2017091001</td>\n",
       "      <td>CHI</td>\n",
       "      <td>ATL</td>\n",
       "      <td>17</td>\n",
       "      <td>23</td>\n",
       "      <td>306.0</td>\n",
       "      <td>372.0</td>\n",
       "      <td>19.0</td>\n",
       "      <td>21.0</td>\n",
       "      <td>44.0</td>\n",
       "      <td>32.0</td>\n",
       "      <td>3.0</td>\n",
       "      <td>0.0</td>\n",
       "      <td>1.0</td>\n",
       "      <td>1.0</td>\n",
       "      <td>3.0</td>\n",
       "      <td>3.0</td>\n",
       "      <td>176.0</td>\n",
       "      <td>308.0</td>\n",
       "      <td>125.0</td>\n",
       "      <td>66.0</td>\n",
       "      <td>0.0</td>\n",
       "      <td>2.32</td>\n",
       "      <td>-66.0</td>\n",
       "      <td>3.0</td>\n",
       "      <td>1.0</td>\n",
       "      <td>1.0</td>\n",
       "      <td>4.000000</td>\n",
       "      <td>6.578947</td>\n",
       "      <td>9.625000</td>\n",
       "      <td>3.142857</td>\n",
       "      <td>3</td>\n",
       "      <td>3</td>\n",
       "      <td>20.807006</td>\n",
       "      <td>1029.624841</td>\n",
       "      <td>Chicago</td>\n",
       "      <td>Kentucky bluegrass</td>\n",
       "      <td>6.575159</td>\n",
       "      <td>0.0</td>\n",
       "      <td>16.600000</td>\n",
       "    </tr>\n",
       "  </tbody>\n",
       "</table>\n",
       "</div>"
      ],
      "text/plain": [
       "      game_id Team team_against  score  score_against  yards  yards_against  \\\n",
       "0  2017090700   NE           KC     27             42  425.0          538.0   \n",
       "1  2017090700   KC           NE     42             27  538.0          425.0   \n",
       "2  2017091000  BUF          NYJ     21             12  400.0          199.0   \n",
       "3  2017091000  NYJ          BUF     12             21  199.0          400.0   \n",
       "4  2017091001  CHI          ATL     17             23  306.0          372.0   \n",
       "\n",
       "   run_plays  run_plays_against  pass_plays  pass_plays_against  to_for  \\\n",
       "0       34.0               24.0        39.0                38.0     2.0   \n",
       "1       24.0               34.0        38.0                39.0     1.0   \n",
       "2       39.0               14.0        29.0                41.0     2.0   \n",
       "3       14.0               39.0        41.0                29.0     3.0   \n",
       "4       19.0               21.0        44.0                32.0     3.0   \n",
       "\n",
       "   to_against  fg_at  fg_md  fg_at_against  fg_md_against  pass_yards  \\\n",
       "0         1.0    2.0    2.0            0.0            0.0       247.0   \n",
       "1         2.0    0.0    0.0            2.0            2.0       352.0   \n",
       "2         3.0    1.0    1.0            2.0            2.0       218.0   \n",
       "3         2.0    2.0    2.0            1.0            1.0       176.0   \n",
       "4         0.0    1.0    1.0            3.0            3.0       176.0   \n",
       "\n",
       "   pass_yards_against  run_yards  run_yards_against  win  pass_run_ratio  \\\n",
       "0               352.0      125.0              191.0  0.0            1.15   \n",
       "1               247.0      191.0              125.0  1.0            1.58   \n",
       "2               176.0      193.0               39.0  1.0            0.74   \n",
       "3               218.0       39.0              193.0  0.0            2.93   \n",
       "4               308.0      125.0               66.0  0.0            2.32   \n",
       "\n",
       "   yard_diff  to_diff  fg_rate  fg_rate_against  pass_yds_per_at  \\\n",
       "0     -113.0      1.0      1.0              0.5         6.333333   \n",
       "1      113.0     -1.0      0.5              1.0         9.263158   \n",
       "2      201.0     -1.0      1.0              1.0         7.517241   \n",
       "3     -201.0      1.0      1.0              1.0         4.292683   \n",
       "4      -66.0      3.0      1.0              1.0         4.000000   \n",
       "\n",
       "   run_yds_per_at  pass_yds_per_at_against  run_yds_per_at_against  \\\n",
       "0        3.676471                 9.263158                7.958333   \n",
       "1        7.958333                 6.333333                3.676471   \n",
       "2        4.948718                 4.292683                2.785714   \n",
       "3        2.785714                 7.517241                4.948718   \n",
       "4        6.578947                 9.625000                3.142857   \n",
       "\n",
       "   team_encode  team_against_encode  Temperature (°C)  Air Pressure (hPa)  \\\n",
       "0            5                    5         17.814359         1013.282564   \n",
       "1            5                    5         17.814359         1013.282564   \n",
       "2            3                    1         18.531928         1031.807229   \n",
       "3            1                    3         18.531928         1031.807229   \n",
       "4            3                    3         20.807006         1029.624841   \n",
       "\n",
       "           City               Field  Dewpoint (°C)  Precipitation (mm)  \\\n",
       "0    Foxborough      FieldTurf CORE      11.439487                 0.0   \n",
       "1    Foxborough      FieldTurf CORE      11.439487                 0.0   \n",
       "2  Orchard Park     A-Turf Titan 50       7.090964                 0.0   \n",
       "3  Orchard Park     A-Turf Titan 50       7.090964                 0.0   \n",
       "4       Chicago  Kentucky bluegrass       6.575159                 0.0   \n",
       "\n",
       "   Wind Speed (km/h)  \n",
       "0          13.215385  \n",
       "1          13.215385  \n",
       "2          10.100000  \n",
       "3          10.100000  \n",
       "4          16.600000  "
      ]
     },
     "execution_count": 263,
     "metadata": {},
     "output_type": "execute_result"
    }
   ],
   "source": [
    "combined_weather_avg_df.head()"
   ]
  },
  {
   "cell_type": "code",
   "execution_count": null,
   "metadata": {},
   "outputs": [],
   "source": []
  }
 ],
 "metadata": {
  "kernelspec": {
   "display_name": "Python 3",
   "language": "python",
   "name": "python3"
  },
  "language_info": {
   "codemirror_mode": {
    "name": "ipython",
    "version": 3
   },
   "file_extension": ".py",
   "mimetype": "text/x-python",
   "name": "python",
   "nbconvert_exporter": "python",
   "pygments_lexer": "ipython3",
   "version": "3.6.9"
  },
  "latex_envs": {
   "LaTeX_envs_menu_present": true,
   "autoclose": false,
   "autocomplete": true,
   "bibliofile": "biblio.bib",
   "cite_by": "apalike",
   "current_citInitial": 1,
   "eqLabelWithNumbers": true,
   "eqNumInitial": 1,
   "hotkeys": {
    "equation": "Ctrl-E",
    "itemize": "Ctrl-I"
   },
   "labels_anchors": false,
   "latex_user_defs": false,
   "report_style_numbering": false,
   "user_envs_cfg": false
  }
 },
 "nbformat": 4,
 "nbformat_minor": 2
}
