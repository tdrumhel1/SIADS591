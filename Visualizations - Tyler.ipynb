{
 "cells": [
  {
   "cell_type": "code",
   "execution_count": 19,
   "metadata": {},
   "outputs": [],
   "source": [
    "import pandas as pd\n",
    "import numpy as np\n",
    "import matplotlib\n",
    "import matplotlib.pyplot as plt\n",
    "from datetime import datetime\n",
    "from datetime import time\n",
    "import pickle"
   ]
  },
  {
   "cell_type": "code",
   "execution_count": 20,
   "metadata": {},
   "outputs": [],
   "source": [
    "import plotly\n",
    "import plotly.graph_objs as go\n",
    "import chart_studio.plotly as py\n",
    "from chart_studio.plotly import plot, iplot\n",
    "import plotly.express as px"
   ]
  },
  {
   "cell_type": "code",
   "execution_count": 21,
   "metadata": {},
   "outputs": [],
   "source": [
    "# Setting pandas to display columns\n",
    "pd.set_option('display.max_columns', None)"
   ]
  },
  {
   "cell_type": "code",
   "execution_count": 22,
   "metadata": {},
   "outputs": [],
   "source": [
    "nfl_small2_end_of_drive = pd.read_csv('nfl_small_end_of_drive.csv',index_col=1)\n",
    "nfl_small2_end_of_drive['KC'] = nfl_small2_end_of_drive['KC'].astype('str')\n",
    "nfl_small2_end_of_drive['LAC'] = nfl_small2_end_of_drive['LAC'].astype('str')"
   ]
  },
  {
   "cell_type": "code",
   "execution_count": 23,
   "metadata": {},
   "outputs": [],
   "source": [
    "# list(nfl_small2_end_of_drive.columns)"
   ]
  },
  {
   "cell_type": "code",
   "execution_count": 24,
   "metadata": {},
   "outputs": [
    {
     "data": {
      "text/plain": [
       "['ARI', 'ATL', 'BAL', 'BUF', 'CAR']"
      ]
     },
     "execution_count": 24,
     "metadata": {},
     "output_type": "execute_result"
    }
   ],
   "source": [
    "# Getting teams to add team matrix for easier filtering\n",
    "teams = list(nfl_small2_end_of_drive.groupby('posteam').sum().index)\n",
    "teams[:5]"
   ]
  },
  {
   "cell_type": "code",
   "execution_count": 25,
   "metadata": {},
   "outputs": [
    {
     "data": {
      "text/html": [
       "<div>\n",
       "<style scoped>\n",
       "    .dataframe tbody tr th:only-of-type {\n",
       "        vertical-align: middle;\n",
       "    }\n",
       "\n",
       "    .dataframe tbody tr th {\n",
       "        vertical-align: top;\n",
       "    }\n",
       "\n",
       "    .dataframe thead th {\n",
       "        text-align: right;\n",
       "    }\n",
       "</style>\n",
       "<table border=\"1\" class=\"dataframe\">\n",
       "  <thead>\n",
       "    <tr style=\"text-align: right;\">\n",
       "      <th></th>\n",
       "      <th>index</th>\n",
       "      <th>game_id</th>\n",
       "      <th>game_date</th>\n",
       "      <th>time</th>\n",
       "      <th>quarter_seconds_remaining</th>\n",
       "      <th>half_seconds_remaining</th>\n",
       "      <th>game_seconds_remaining</th>\n",
       "      <th>game_half</th>\n",
       "      <th>quarter_end</th>\n",
       "      <th>qtr</th>\n",
       "      <th>home_team</th>\n",
       "      <th>away_team</th>\n",
       "      <th>posteam</th>\n",
       "      <th>posteam_type</th>\n",
       "      <th>defteam</th>\n",
       "      <th>side_of_field</th>\n",
       "      <th>yardline_100</th>\n",
       "      <th>drive</th>\n",
       "      <th>sp</th>\n",
       "      <th>down</th>\n",
       "      <th>goal_to_go</th>\n",
       "      <th>yrdln</th>\n",
       "      <th>ydstogo</th>\n",
       "      <th>ydsnet</th>\n",
       "      <th>desc</th>\n",
       "      <th>play_type</th>\n",
       "      <th>yards_gained</th>\n",
       "      <th>pass_length</th>\n",
       "      <th>air_yards</th>\n",
       "      <th>yards_after_catch</th>\n",
       "      <th>field_goal_result</th>\n",
       "      <th>kick_distance</th>\n",
       "      <th>extra_point_result</th>\n",
       "      <th>two_point_conv_result</th>\n",
       "      <th>td_team</th>\n",
       "      <th>total_home_score</th>\n",
       "      <th>total_away_score</th>\n",
       "      <th>posteam_score</th>\n",
       "      <th>defteam_score</th>\n",
       "      <th>sack</th>\n",
       "      <th>touchdown</th>\n",
       "      <th>pass_touchdown</th>\n",
       "      <th>rush_touchdown</th>\n",
       "      <th>return_touchdown</th>\n",
       "      <th>extra_point_attempt</th>\n",
       "      <th>two_point_attempt</th>\n",
       "      <th>field_goal_attempt</th>\n",
       "      <th>fumble</th>\n",
       "      <th>complete_pass</th>\n",
       "      <th>Start_Time</th>\n",
       "      <th>year</th>\n",
       "      <th>diff</th>\n",
       "      <th>Estimated_Time</th>\n",
       "      <th>Estimated Time (EST)</th>\n",
       "      <th>Estimated_Hour</th>\n",
       "      <th>Air Pressure (hPa)</th>\n",
       "      <th>City</th>\n",
       "      <th>Dewpoint (°C)</th>\n",
       "      <th>Field</th>\n",
       "      <th>Humidity (%)</th>\n",
       "      <th>Precipitation (mm)</th>\n",
       "      <th>Roof</th>\n",
       "      <th>Team Abbreviation</th>\n",
       "      <th>Temperature (°C)</th>\n",
       "      <th>Time (EST)</th>\n",
       "      <th>Time (GMT)</th>\n",
       "      <th>Unnamed: 0_y</th>\n",
       "      <th>Wind Direction (deg)</th>\n",
       "      <th>Wind Speed (km/h)</th>\n",
       "      <th>added_time</th>\n",
       "      <th>game_name</th>\n",
       "      <th>end_of_drive</th>\n",
       "      <th>end_of_game</th>\n",
       "      <th>INT</th>\n",
       "      <th>ARI</th>\n",
       "      <th>ATL</th>\n",
       "      <th>BAL</th>\n",
       "      <th>BUF</th>\n",
       "      <th>CAR</th>\n",
       "      <th>CHI</th>\n",
       "      <th>CIN</th>\n",
       "      <th>CLE</th>\n",
       "      <th>DAL</th>\n",
       "      <th>DEN</th>\n",
       "      <th>DET</th>\n",
       "      <th>GB</th>\n",
       "      <th>HOU</th>\n",
       "      <th>IND</th>\n",
       "      <th>JAX</th>\n",
       "      <th>KC</th>\n",
       "      <th>LA</th>\n",
       "      <th>LAC</th>\n",
       "      <th>MIA</th>\n",
       "      <th>MIN</th>\n",
       "      <th>NE</th>\n",
       "      <th>NO</th>\n",
       "      <th>NYG</th>\n",
       "      <th>NYJ</th>\n",
       "      <th>OAK</th>\n",
       "      <th>PHI</th>\n",
       "      <th>PIT</th>\n",
       "      <th>SEA</th>\n",
       "      <th>SF</th>\n",
       "      <th>TB</th>\n",
       "      <th>TEN</th>\n",
       "      <th>WAS</th>\n",
       "      <th>week</th>\n",
       "    </tr>\n",
       "    <tr>\n",
       "      <th>play_id</th>\n",
       "      <th></th>\n",
       "      <th></th>\n",
       "      <th></th>\n",
       "      <th></th>\n",
       "      <th></th>\n",
       "      <th></th>\n",
       "      <th></th>\n",
       "      <th></th>\n",
       "      <th></th>\n",
       "      <th></th>\n",
       "      <th></th>\n",
       "      <th></th>\n",
       "      <th></th>\n",
       "      <th></th>\n",
       "      <th></th>\n",
       "      <th></th>\n",
       "      <th></th>\n",
       "      <th></th>\n",
       "      <th></th>\n",
       "      <th></th>\n",
       "      <th></th>\n",
       "      <th></th>\n",
       "      <th></th>\n",
       "      <th></th>\n",
       "      <th></th>\n",
       "      <th></th>\n",
       "      <th></th>\n",
       "      <th></th>\n",
       "      <th></th>\n",
       "      <th></th>\n",
       "      <th></th>\n",
       "      <th></th>\n",
       "      <th></th>\n",
       "      <th></th>\n",
       "      <th></th>\n",
       "      <th></th>\n",
       "      <th></th>\n",
       "      <th></th>\n",
       "      <th></th>\n",
       "      <th></th>\n",
       "      <th></th>\n",
       "      <th></th>\n",
       "      <th></th>\n",
       "      <th></th>\n",
       "      <th></th>\n",
       "      <th></th>\n",
       "      <th></th>\n",
       "      <th></th>\n",
       "      <th></th>\n",
       "      <th></th>\n",
       "      <th></th>\n",
       "      <th></th>\n",
       "      <th></th>\n",
       "      <th></th>\n",
       "      <th></th>\n",
       "      <th></th>\n",
       "      <th></th>\n",
       "      <th></th>\n",
       "      <th></th>\n",
       "      <th></th>\n",
       "      <th></th>\n",
       "      <th></th>\n",
       "      <th></th>\n",
       "      <th></th>\n",
       "      <th></th>\n",
       "      <th></th>\n",
       "      <th></th>\n",
       "      <th></th>\n",
       "      <th></th>\n",
       "      <th></th>\n",
       "      <th></th>\n",
       "      <th></th>\n",
       "      <th></th>\n",
       "      <th></th>\n",
       "      <th></th>\n",
       "      <th></th>\n",
       "      <th></th>\n",
       "      <th></th>\n",
       "      <th></th>\n",
       "      <th></th>\n",
       "      <th></th>\n",
       "      <th></th>\n",
       "      <th></th>\n",
       "      <th></th>\n",
       "      <th></th>\n",
       "      <th></th>\n",
       "      <th></th>\n",
       "      <th></th>\n",
       "      <th></th>\n",
       "      <th></th>\n",
       "      <th></th>\n",
       "      <th></th>\n",
       "      <th></th>\n",
       "      <th></th>\n",
       "      <th></th>\n",
       "      <th></th>\n",
       "      <th></th>\n",
       "      <th></th>\n",
       "      <th></th>\n",
       "      <th></th>\n",
       "      <th></th>\n",
       "      <th></th>\n",
       "      <th></th>\n",
       "      <th></th>\n",
       "      <th></th>\n",
       "      <th></th>\n",
       "      <th></th>\n",
       "    </tr>\n",
       "  </thead>\n",
       "  <tbody>\n",
       "    <tr>\n",
       "      <td>36</td>\n",
       "      <td>270409</td>\n",
       "      <td>2015091000</td>\n",
       "      <td>2015-09-10 00:00:00</td>\n",
       "      <td>15:00</td>\n",
       "      <td>900.0</td>\n",
       "      <td>1800.0</td>\n",
       "      <td>3600.0</td>\n",
       "      <td>Half1</td>\n",
       "      <td>0</td>\n",
       "      <td>1</td>\n",
       "      <td>NE</td>\n",
       "      <td>PIT</td>\n",
       "      <td>PIT</td>\n",
       "      <td>away</td>\n",
       "      <td>NE</td>\n",
       "      <td>NE</td>\n",
       "      <td>35.0</td>\n",
       "      <td>1</td>\n",
       "      <td>0</td>\n",
       "      <td>NaN</td>\n",
       "      <td>0.0</td>\n",
       "      <td>NE 35</td>\n",
       "      <td>0</td>\n",
       "      <td>0</td>\n",
       "      <td>S.Gostkowski kicks 65 yards from NE 35 to end ...</td>\n",
       "      <td>kickoff</td>\n",
       "      <td>0.0</td>\n",
       "      <td>0</td>\n",
       "      <td>0.0</td>\n",
       "      <td>0.0</td>\n",
       "      <td>NaN</td>\n",
       "      <td>NaN</td>\n",
       "      <td>NaN</td>\n",
       "      <td>NaN</td>\n",
       "      <td>NaN</td>\n",
       "      <td>0</td>\n",
       "      <td>0</td>\n",
       "      <td>0.0</td>\n",
       "      <td>0.0</td>\n",
       "      <td>0.0</td>\n",
       "      <td>0.0</td>\n",
       "      <td>0.0</td>\n",
       "      <td>0.0</td>\n",
       "      <td>0.0</td>\n",
       "      <td>0.0</td>\n",
       "      <td>0.0</td>\n",
       "      <td>0.0</td>\n",
       "      <td>0.0</td>\n",
       "      <td>0.0</td>\n",
       "      <td>2015-09-10 20:40:00</td>\n",
       "      <td>2015.0</td>\n",
       "      <td>0 days 00:00:00.000000000</td>\n",
       "      <td>2015-09-10 20:40:00</td>\n",
       "      <td>2015-09-10 20:40:00</td>\n",
       "      <td>2015-09-10 21:00:00</td>\n",
       "      <td>1010.6</td>\n",
       "      <td>Foxborough</td>\n",
       "      <td>16.1</td>\n",
       "      <td>FieldTurf CORE</td>\n",
       "      <td>87.0</td>\n",
       "      <td>0.3</td>\n",
       "      <td>Open</td>\n",
       "      <td>NE</td>\n",
       "      <td>18.3</td>\n",
       "      <td>2015-09-10 21:00:00</td>\n",
       "      <td>2015-09-11 01:00:00</td>\n",
       "      <td>NaN</td>\n",
       "      <td>30.0</td>\n",
       "      <td>20.5</td>\n",
       "      <td>0</td>\n",
       "      <td>PIT @ NE 2015-09-10</td>\n",
       "      <td>0</td>\n",
       "      <td>0</td>\n",
       "      <td>0</td>\n",
       "      <td>0</td>\n",
       "      <td>0</td>\n",
       "      <td>0</td>\n",
       "      <td>0</td>\n",
       "      <td>0</td>\n",
       "      <td>0</td>\n",
       "      <td>0</td>\n",
       "      <td>0</td>\n",
       "      <td>0</td>\n",
       "      <td>0</td>\n",
       "      <td>0</td>\n",
       "      <td>0</td>\n",
       "      <td>0</td>\n",
       "      <td>0</td>\n",
       "      <td>0</td>\n",
       "      <td>0</td>\n",
       "      <td>0</td>\n",
       "      <td>0</td>\n",
       "      <td>0</td>\n",
       "      <td>0</td>\n",
       "      <td>H</td>\n",
       "      <td>0</td>\n",
       "      <td>0</td>\n",
       "      <td>0</td>\n",
       "      <td>0</td>\n",
       "      <td>0</td>\n",
       "      <td>A</td>\n",
       "      <td>0</td>\n",
       "      <td>0</td>\n",
       "      <td>0</td>\n",
       "      <td>0</td>\n",
       "      <td>0</td>\n",
       "      <td>1</td>\n",
       "    </tr>\n",
       "    <tr>\n",
       "      <td>51</td>\n",
       "      <td>270410</td>\n",
       "      <td>2015091000</td>\n",
       "      <td>2015-09-10 00:00:00</td>\n",
       "      <td>15:00</td>\n",
       "      <td>900.0</td>\n",
       "      <td>1800.0</td>\n",
       "      <td>3600.0</td>\n",
       "      <td>Half1</td>\n",
       "      <td>0</td>\n",
       "      <td>1</td>\n",
       "      <td>NE</td>\n",
       "      <td>PIT</td>\n",
       "      <td>PIT</td>\n",
       "      <td>away</td>\n",
       "      <td>NE</td>\n",
       "      <td>PIT</td>\n",
       "      <td>80.0</td>\n",
       "      <td>1</td>\n",
       "      <td>0</td>\n",
       "      <td>1.0</td>\n",
       "      <td>0.0</td>\n",
       "      <td>PIT 20</td>\n",
       "      <td>10</td>\n",
       "      <td>18</td>\n",
       "      <td>(15:00) De.Williams right tackle to PIT 38 for...</td>\n",
       "      <td>run</td>\n",
       "      <td>18.0</td>\n",
       "      <td>0</td>\n",
       "      <td>0.0</td>\n",
       "      <td>0.0</td>\n",
       "      <td>NaN</td>\n",
       "      <td>NaN</td>\n",
       "      <td>NaN</td>\n",
       "      <td>NaN</td>\n",
       "      <td>NaN</td>\n",
       "      <td>0</td>\n",
       "      <td>0</td>\n",
       "      <td>0.0</td>\n",
       "      <td>0.0</td>\n",
       "      <td>0.0</td>\n",
       "      <td>0.0</td>\n",
       "      <td>0.0</td>\n",
       "      <td>0.0</td>\n",
       "      <td>0.0</td>\n",
       "      <td>0.0</td>\n",
       "      <td>0.0</td>\n",
       "      <td>0.0</td>\n",
       "      <td>0.0</td>\n",
       "      <td>0.0</td>\n",
       "      <td>2015-09-10 20:40:00</td>\n",
       "      <td>2015.0</td>\n",
       "      <td>0 days 00:00:00.000000000</td>\n",
       "      <td>2015-09-10 20:40:00</td>\n",
       "      <td>2015-09-10 20:40:00</td>\n",
       "      <td>2015-09-10 21:00:00</td>\n",
       "      <td>1010.6</td>\n",
       "      <td>Foxborough</td>\n",
       "      <td>16.1</td>\n",
       "      <td>FieldTurf CORE</td>\n",
       "      <td>87.0</td>\n",
       "      <td>0.3</td>\n",
       "      <td>Open</td>\n",
       "      <td>NE</td>\n",
       "      <td>18.3</td>\n",
       "      <td>2015-09-10 21:00:00</td>\n",
       "      <td>2015-09-11 01:00:00</td>\n",
       "      <td>NaN</td>\n",
       "      <td>30.0</td>\n",
       "      <td>20.5</td>\n",
       "      <td>0</td>\n",
       "      <td>PIT @ NE 2015-09-10</td>\n",
       "      <td>0</td>\n",
       "      <td>0</td>\n",
       "      <td>0</td>\n",
       "      <td>0</td>\n",
       "      <td>0</td>\n",
       "      <td>0</td>\n",
       "      <td>0</td>\n",
       "      <td>0</td>\n",
       "      <td>0</td>\n",
       "      <td>0</td>\n",
       "      <td>0</td>\n",
       "      <td>0</td>\n",
       "      <td>0</td>\n",
       "      <td>0</td>\n",
       "      <td>0</td>\n",
       "      <td>0</td>\n",
       "      <td>0</td>\n",
       "      <td>0</td>\n",
       "      <td>0</td>\n",
       "      <td>0</td>\n",
       "      <td>0</td>\n",
       "      <td>0</td>\n",
       "      <td>0</td>\n",
       "      <td>H</td>\n",
       "      <td>0</td>\n",
       "      <td>0</td>\n",
       "      <td>0</td>\n",
       "      <td>0</td>\n",
       "      <td>0</td>\n",
       "      <td>A</td>\n",
       "      <td>0</td>\n",
       "      <td>0</td>\n",
       "      <td>0</td>\n",
       "      <td>0</td>\n",
       "      <td>0</td>\n",
       "      <td>1</td>\n",
       "    </tr>\n",
       "    <tr>\n",
       "      <td>72</td>\n",
       "      <td>270411</td>\n",
       "      <td>2015091000</td>\n",
       "      <td>2015-09-10 00:00:00</td>\n",
       "      <td>14:21</td>\n",
       "      <td>861.0</td>\n",
       "      <td>1761.0</td>\n",
       "      <td>3561.0</td>\n",
       "      <td>Half1</td>\n",
       "      <td>0</td>\n",
       "      <td>1</td>\n",
       "      <td>NE</td>\n",
       "      <td>PIT</td>\n",
       "      <td>PIT</td>\n",
       "      <td>away</td>\n",
       "      <td>NE</td>\n",
       "      <td>PIT</td>\n",
       "      <td>62.0</td>\n",
       "      <td>1</td>\n",
       "      <td>0</td>\n",
       "      <td>1.0</td>\n",
       "      <td>0.0</td>\n",
       "      <td>PIT 38</td>\n",
       "      <td>10</td>\n",
       "      <td>31</td>\n",
       "      <td>(14:21) B.Roethlisberger pass short right to A...</td>\n",
       "      <td>pass</td>\n",
       "      <td>9.0</td>\n",
       "      <td>short</td>\n",
       "      <td>-4.0</td>\n",
       "      <td>13.0</td>\n",
       "      <td>NaN</td>\n",
       "      <td>NaN</td>\n",
       "      <td>NaN</td>\n",
       "      <td>NaN</td>\n",
       "      <td>NaN</td>\n",
       "      <td>0</td>\n",
       "      <td>0</td>\n",
       "      <td>0.0</td>\n",
       "      <td>0.0</td>\n",
       "      <td>0.0</td>\n",
       "      <td>0.0</td>\n",
       "      <td>0.0</td>\n",
       "      <td>0.0</td>\n",
       "      <td>0.0</td>\n",
       "      <td>0.0</td>\n",
       "      <td>0.0</td>\n",
       "      <td>0.0</td>\n",
       "      <td>0.0</td>\n",
       "      <td>1.0</td>\n",
       "      <td>2015-09-10 20:40:00</td>\n",
       "      <td>2015.0</td>\n",
       "      <td>0 days 00:01:57.000000000</td>\n",
       "      <td>2015-09-10 20:41:57</td>\n",
       "      <td>2015-09-10 20:41:57</td>\n",
       "      <td>2015-09-10 21:00:00</td>\n",
       "      <td>1010.6</td>\n",
       "      <td>Foxborough</td>\n",
       "      <td>16.1</td>\n",
       "      <td>FieldTurf CORE</td>\n",
       "      <td>87.0</td>\n",
       "      <td>0.3</td>\n",
       "      <td>Open</td>\n",
       "      <td>NE</td>\n",
       "      <td>18.3</td>\n",
       "      <td>2015-09-10 21:00:00</td>\n",
       "      <td>2015-09-11 01:00:00</td>\n",
       "      <td>NaN</td>\n",
       "      <td>30.0</td>\n",
       "      <td>20.5</td>\n",
       "      <td>0</td>\n",
       "      <td>PIT @ NE 2015-09-10</td>\n",
       "      <td>0</td>\n",
       "      <td>0</td>\n",
       "      <td>0</td>\n",
       "      <td>0</td>\n",
       "      <td>0</td>\n",
       "      <td>0</td>\n",
       "      <td>0</td>\n",
       "      <td>0</td>\n",
       "      <td>0</td>\n",
       "      <td>0</td>\n",
       "      <td>0</td>\n",
       "      <td>0</td>\n",
       "      <td>0</td>\n",
       "      <td>0</td>\n",
       "      <td>0</td>\n",
       "      <td>0</td>\n",
       "      <td>0</td>\n",
       "      <td>0</td>\n",
       "      <td>0</td>\n",
       "      <td>0</td>\n",
       "      <td>0</td>\n",
       "      <td>0</td>\n",
       "      <td>0</td>\n",
       "      <td>H</td>\n",
       "      <td>0</td>\n",
       "      <td>0</td>\n",
       "      <td>0</td>\n",
       "      <td>0</td>\n",
       "      <td>0</td>\n",
       "      <td>A</td>\n",
       "      <td>0</td>\n",
       "      <td>0</td>\n",
       "      <td>0</td>\n",
       "      <td>0</td>\n",
       "      <td>0</td>\n",
       "      <td>1</td>\n",
       "    </tr>\n",
       "    <tr>\n",
       "      <td>101</td>\n",
       "      <td>270412</td>\n",
       "      <td>2015091000</td>\n",
       "      <td>2015-09-10 00:00:00</td>\n",
       "      <td>14:04</td>\n",
       "      <td>844.0</td>\n",
       "      <td>1744.0</td>\n",
       "      <td>3544.0</td>\n",
       "      <td>Half1</td>\n",
       "      <td>0</td>\n",
       "      <td>1</td>\n",
       "      <td>NE</td>\n",
       "      <td>PIT</td>\n",
       "      <td>PIT</td>\n",
       "      <td>away</td>\n",
       "      <td>NE</td>\n",
       "      <td>PIT</td>\n",
       "      <td>53.0</td>\n",
       "      <td>1</td>\n",
       "      <td>0</td>\n",
       "      <td>2.0</td>\n",
       "      <td>0.0</td>\n",
       "      <td>PIT 47</td>\n",
       "      <td>1</td>\n",
       "      <td>31</td>\n",
       "      <td>(14:04) De.Williams right guard to NE 49 for 4...</td>\n",
       "      <td>run</td>\n",
       "      <td>4.0</td>\n",
       "      <td>0</td>\n",
       "      <td>0.0</td>\n",
       "      <td>0.0</td>\n",
       "      <td>NaN</td>\n",
       "      <td>NaN</td>\n",
       "      <td>NaN</td>\n",
       "      <td>NaN</td>\n",
       "      <td>NaN</td>\n",
       "      <td>0</td>\n",
       "      <td>0</td>\n",
       "      <td>0.0</td>\n",
       "      <td>0.0</td>\n",
       "      <td>0.0</td>\n",
       "      <td>0.0</td>\n",
       "      <td>0.0</td>\n",
       "      <td>0.0</td>\n",
       "      <td>0.0</td>\n",
       "      <td>0.0</td>\n",
       "      <td>0.0</td>\n",
       "      <td>0.0</td>\n",
       "      <td>0.0</td>\n",
       "      <td>0.0</td>\n",
       "      <td>2015-09-10 20:40:00</td>\n",
       "      <td>2015.0</td>\n",
       "      <td>0 days 00:02:48.000000000</td>\n",
       "      <td>2015-09-10 20:42:48</td>\n",
       "      <td>2015-09-10 20:42:48</td>\n",
       "      <td>2015-09-10 21:00:00</td>\n",
       "      <td>1010.6</td>\n",
       "      <td>Foxborough</td>\n",
       "      <td>16.1</td>\n",
       "      <td>FieldTurf CORE</td>\n",
       "      <td>87.0</td>\n",
       "      <td>0.3</td>\n",
       "      <td>Open</td>\n",
       "      <td>NE</td>\n",
       "      <td>18.3</td>\n",
       "      <td>2015-09-10 21:00:00</td>\n",
       "      <td>2015-09-11 01:00:00</td>\n",
       "      <td>NaN</td>\n",
       "      <td>30.0</td>\n",
       "      <td>20.5</td>\n",
       "      <td>0</td>\n",
       "      <td>PIT @ NE 2015-09-10</td>\n",
       "      <td>0</td>\n",
       "      <td>0</td>\n",
       "      <td>0</td>\n",
       "      <td>0</td>\n",
       "      <td>0</td>\n",
       "      <td>0</td>\n",
       "      <td>0</td>\n",
       "      <td>0</td>\n",
       "      <td>0</td>\n",
       "      <td>0</td>\n",
       "      <td>0</td>\n",
       "      <td>0</td>\n",
       "      <td>0</td>\n",
       "      <td>0</td>\n",
       "      <td>0</td>\n",
       "      <td>0</td>\n",
       "      <td>0</td>\n",
       "      <td>0</td>\n",
       "      <td>0</td>\n",
       "      <td>0</td>\n",
       "      <td>0</td>\n",
       "      <td>0</td>\n",
       "      <td>0</td>\n",
       "      <td>H</td>\n",
       "      <td>0</td>\n",
       "      <td>0</td>\n",
       "      <td>0</td>\n",
       "      <td>0</td>\n",
       "      <td>0</td>\n",
       "      <td>A</td>\n",
       "      <td>0</td>\n",
       "      <td>0</td>\n",
       "      <td>0</td>\n",
       "      <td>0</td>\n",
       "      <td>0</td>\n",
       "      <td>1</td>\n",
       "    </tr>\n",
       "    <tr>\n",
       "      <td>122</td>\n",
       "      <td>270413</td>\n",
       "      <td>2015091000</td>\n",
       "      <td>2015-09-10 00:00:00</td>\n",
       "      <td>13:26</td>\n",
       "      <td>806.0</td>\n",
       "      <td>1706.0</td>\n",
       "      <td>3506.0</td>\n",
       "      <td>Half1</td>\n",
       "      <td>0</td>\n",
       "      <td>1</td>\n",
       "      <td>NE</td>\n",
       "      <td>PIT</td>\n",
       "      <td>PIT</td>\n",
       "      <td>away</td>\n",
       "      <td>NE</td>\n",
       "      <td>NE</td>\n",
       "      <td>49.0</td>\n",
       "      <td>1</td>\n",
       "      <td>0</td>\n",
       "      <td>1.0</td>\n",
       "      <td>0.0</td>\n",
       "      <td>NE 49</td>\n",
       "      <td>10</td>\n",
       "      <td>45</td>\n",
       "      <td>(13:26) B.Roethlisberger pass short right to H...</td>\n",
       "      <td>pass</td>\n",
       "      <td>14.0</td>\n",
       "      <td>short</td>\n",
       "      <td>9.0</td>\n",
       "      <td>5.0</td>\n",
       "      <td>NaN</td>\n",
       "      <td>NaN</td>\n",
       "      <td>NaN</td>\n",
       "      <td>NaN</td>\n",
       "      <td>NaN</td>\n",
       "      <td>0</td>\n",
       "      <td>0</td>\n",
       "      <td>0.0</td>\n",
       "      <td>0.0</td>\n",
       "      <td>0.0</td>\n",
       "      <td>0.0</td>\n",
       "      <td>0.0</td>\n",
       "      <td>0.0</td>\n",
       "      <td>0.0</td>\n",
       "      <td>0.0</td>\n",
       "      <td>0.0</td>\n",
       "      <td>0.0</td>\n",
       "      <td>0.0</td>\n",
       "      <td>1.0</td>\n",
       "      <td>2015-09-10 20:40:00</td>\n",
       "      <td>2015.0</td>\n",
       "      <td>0 days 00:04:42.000000000</td>\n",
       "      <td>2015-09-10 20:44:42</td>\n",
       "      <td>2015-09-10 20:44:42</td>\n",
       "      <td>2015-09-10 21:00:00</td>\n",
       "      <td>1010.6</td>\n",
       "      <td>Foxborough</td>\n",
       "      <td>16.1</td>\n",
       "      <td>FieldTurf CORE</td>\n",
       "      <td>87.0</td>\n",
       "      <td>0.3</td>\n",
       "      <td>Open</td>\n",
       "      <td>NE</td>\n",
       "      <td>18.3</td>\n",
       "      <td>2015-09-10 21:00:00</td>\n",
       "      <td>2015-09-11 01:00:00</td>\n",
       "      <td>NaN</td>\n",
       "      <td>30.0</td>\n",
       "      <td>20.5</td>\n",
       "      <td>0</td>\n",
       "      <td>PIT @ NE 2015-09-10</td>\n",
       "      <td>0</td>\n",
       "      <td>0</td>\n",
       "      <td>0</td>\n",
       "      <td>0</td>\n",
       "      <td>0</td>\n",
       "      <td>0</td>\n",
       "      <td>0</td>\n",
       "      <td>0</td>\n",
       "      <td>0</td>\n",
       "      <td>0</td>\n",
       "      <td>0</td>\n",
       "      <td>0</td>\n",
       "      <td>0</td>\n",
       "      <td>0</td>\n",
       "      <td>0</td>\n",
       "      <td>0</td>\n",
       "      <td>0</td>\n",
       "      <td>0</td>\n",
       "      <td>0</td>\n",
       "      <td>0</td>\n",
       "      <td>0</td>\n",
       "      <td>0</td>\n",
       "      <td>0</td>\n",
       "      <td>H</td>\n",
       "      <td>0</td>\n",
       "      <td>0</td>\n",
       "      <td>0</td>\n",
       "      <td>0</td>\n",
       "      <td>0</td>\n",
       "      <td>A</td>\n",
       "      <td>0</td>\n",
       "      <td>0</td>\n",
       "      <td>0</td>\n",
       "      <td>0</td>\n",
       "      <td>0</td>\n",
       "      <td>1</td>\n",
       "    </tr>\n",
       "  </tbody>\n",
       "</table>\n",
       "</div>"
      ],
      "text/plain": [
       "          index     game_id            game_date   time  \\\n",
       "play_id                                                   \n",
       "36       270409  2015091000  2015-09-10 00:00:00  15:00   \n",
       "51       270410  2015091000  2015-09-10 00:00:00  15:00   \n",
       "72       270411  2015091000  2015-09-10 00:00:00  14:21   \n",
       "101      270412  2015091000  2015-09-10 00:00:00  14:04   \n",
       "122      270413  2015091000  2015-09-10 00:00:00  13:26   \n",
       "\n",
       "         quarter_seconds_remaining  half_seconds_remaining  \\\n",
       "play_id                                                      \n",
       "36                           900.0                  1800.0   \n",
       "51                           900.0                  1800.0   \n",
       "72                           861.0                  1761.0   \n",
       "101                          844.0                  1744.0   \n",
       "122                          806.0                  1706.0   \n",
       "\n",
       "         game_seconds_remaining game_half  quarter_end  qtr home_team  \\\n",
       "play_id                                                                 \n",
       "36                       3600.0     Half1            0    1        NE   \n",
       "51                       3600.0     Half1            0    1        NE   \n",
       "72                       3561.0     Half1            0    1        NE   \n",
       "101                      3544.0     Half1            0    1        NE   \n",
       "122                      3506.0     Half1            0    1        NE   \n",
       "\n",
       "        away_team posteam posteam_type defteam side_of_field  yardline_100  \\\n",
       "play_id                                                                      \n",
       "36            PIT     PIT         away      NE            NE          35.0   \n",
       "51            PIT     PIT         away      NE           PIT          80.0   \n",
       "72            PIT     PIT         away      NE           PIT          62.0   \n",
       "101           PIT     PIT         away      NE           PIT          53.0   \n",
       "122           PIT     PIT         away      NE            NE          49.0   \n",
       "\n",
       "         drive  sp  down  goal_to_go   yrdln  ydstogo  ydsnet  \\\n",
       "play_id                                                         \n",
       "36           1   0   NaN         0.0   NE 35        0       0   \n",
       "51           1   0   1.0         0.0  PIT 20       10      18   \n",
       "72           1   0   1.0         0.0  PIT 38       10      31   \n",
       "101          1   0   2.0         0.0  PIT 47        1      31   \n",
       "122          1   0   1.0         0.0   NE 49       10      45   \n",
       "\n",
       "                                                      desc play_type  \\\n",
       "play_id                                                                \n",
       "36       S.Gostkowski kicks 65 yards from NE 35 to end ...   kickoff   \n",
       "51       (15:00) De.Williams right tackle to PIT 38 for...       run   \n",
       "72       (14:21) B.Roethlisberger pass short right to A...      pass   \n",
       "101      (14:04) De.Williams right guard to NE 49 for 4...       run   \n",
       "122      (13:26) B.Roethlisberger pass short right to H...      pass   \n",
       "\n",
       "         yards_gained pass_length  air_yards  yards_after_catch  \\\n",
       "play_id                                                           \n",
       "36                0.0           0        0.0                0.0   \n",
       "51               18.0           0        0.0                0.0   \n",
       "72                9.0       short       -4.0               13.0   \n",
       "101               4.0           0        0.0                0.0   \n",
       "122              14.0       short        9.0                5.0   \n",
       "\n",
       "        field_goal_result  kick_distance extra_point_result  \\\n",
       "play_id                                                       \n",
       "36                    NaN            NaN                NaN   \n",
       "51                    NaN            NaN                NaN   \n",
       "72                    NaN            NaN                NaN   \n",
       "101                   NaN            NaN                NaN   \n",
       "122                   NaN            NaN                NaN   \n",
       "\n",
       "        two_point_conv_result td_team  total_home_score  total_away_score  \\\n",
       "play_id                                                                     \n",
       "36                        NaN     NaN                 0                 0   \n",
       "51                        NaN     NaN                 0                 0   \n",
       "72                        NaN     NaN                 0                 0   \n",
       "101                       NaN     NaN                 0                 0   \n",
       "122                       NaN     NaN                 0                 0   \n",
       "\n",
       "         posteam_score  defteam_score  sack  touchdown  pass_touchdown  \\\n",
       "play_id                                                                  \n",
       "36                 0.0            0.0   0.0        0.0             0.0   \n",
       "51                 0.0            0.0   0.0        0.0             0.0   \n",
       "72                 0.0            0.0   0.0        0.0             0.0   \n",
       "101                0.0            0.0   0.0        0.0             0.0   \n",
       "122                0.0            0.0   0.0        0.0             0.0   \n",
       "\n",
       "         rush_touchdown  return_touchdown  extra_point_attempt  \\\n",
       "play_id                                                          \n",
       "36                  0.0               0.0                  0.0   \n",
       "51                  0.0               0.0                  0.0   \n",
       "72                  0.0               0.0                  0.0   \n",
       "101                 0.0               0.0                  0.0   \n",
       "122                 0.0               0.0                  0.0   \n",
       "\n",
       "         two_point_attempt  field_goal_attempt  fumble  complete_pass  \\\n",
       "play_id                                                                 \n",
       "36                     0.0                 0.0     0.0            0.0   \n",
       "51                     0.0                 0.0     0.0            0.0   \n",
       "72                     0.0                 0.0     0.0            1.0   \n",
       "101                    0.0                 0.0     0.0            0.0   \n",
       "122                    0.0                 0.0     0.0            1.0   \n",
       "\n",
       "                  Start_Time    year                       diff  \\\n",
       "play_id                                                           \n",
       "36       2015-09-10 20:40:00  2015.0  0 days 00:00:00.000000000   \n",
       "51       2015-09-10 20:40:00  2015.0  0 days 00:00:00.000000000   \n",
       "72       2015-09-10 20:40:00  2015.0  0 days 00:01:57.000000000   \n",
       "101      2015-09-10 20:40:00  2015.0  0 days 00:02:48.000000000   \n",
       "122      2015-09-10 20:40:00  2015.0  0 days 00:04:42.000000000   \n",
       "\n",
       "              Estimated_Time Estimated Time (EST)       Estimated_Hour  \\\n",
       "play_id                                                                  \n",
       "36       2015-09-10 20:40:00  2015-09-10 20:40:00  2015-09-10 21:00:00   \n",
       "51       2015-09-10 20:40:00  2015-09-10 20:40:00  2015-09-10 21:00:00   \n",
       "72       2015-09-10 20:41:57  2015-09-10 20:41:57  2015-09-10 21:00:00   \n",
       "101      2015-09-10 20:42:48  2015-09-10 20:42:48  2015-09-10 21:00:00   \n",
       "122      2015-09-10 20:44:42  2015-09-10 20:44:42  2015-09-10 21:00:00   \n",
       "\n",
       "         Air Pressure (hPa)        City  Dewpoint (°C)           Field  \\\n",
       "play_id                                                                  \n",
       "36                   1010.6  Foxborough           16.1  FieldTurf CORE   \n",
       "51                   1010.6  Foxborough           16.1  FieldTurf CORE   \n",
       "72                   1010.6  Foxborough           16.1  FieldTurf CORE   \n",
       "101                  1010.6  Foxborough           16.1  FieldTurf CORE   \n",
       "122                  1010.6  Foxborough           16.1  FieldTurf CORE   \n",
       "\n",
       "         Humidity (%)  Precipitation (mm)  Roof Team Abbreviation  \\\n",
       "play_id                                                             \n",
       "36               87.0                 0.3  Open                NE   \n",
       "51               87.0                 0.3  Open                NE   \n",
       "72               87.0                 0.3  Open                NE   \n",
       "101              87.0                 0.3  Open                NE   \n",
       "122              87.0                 0.3  Open                NE   \n",
       "\n",
       "         Temperature (°C)           Time (EST)           Time (GMT)  \\\n",
       "play_id                                                               \n",
       "36                   18.3  2015-09-10 21:00:00  2015-09-11 01:00:00   \n",
       "51                   18.3  2015-09-10 21:00:00  2015-09-11 01:00:00   \n",
       "72                   18.3  2015-09-10 21:00:00  2015-09-11 01:00:00   \n",
       "101                  18.3  2015-09-10 21:00:00  2015-09-11 01:00:00   \n",
       "122                  18.3  2015-09-10 21:00:00  2015-09-11 01:00:00   \n",
       "\n",
       "         Unnamed: 0_y  Wind Direction (deg)  Wind Speed (km/h)  added_time  \\\n",
       "play_id                                                                      \n",
       "36                NaN                  30.0               20.5           0   \n",
       "51                NaN                  30.0               20.5           0   \n",
       "72                NaN                  30.0               20.5           0   \n",
       "101               NaN                  30.0               20.5           0   \n",
       "122               NaN                  30.0               20.5           0   \n",
       "\n",
       "                   game_name  end_of_drive  end_of_game  INT ARI ATL BAL BUF  \\\n",
       "play_id                                                                        \n",
       "36       PIT @ NE 2015-09-10             0            0    0   0   0   0   0   \n",
       "51       PIT @ NE 2015-09-10             0            0    0   0   0   0   0   \n",
       "72       PIT @ NE 2015-09-10             0            0    0   0   0   0   0   \n",
       "101      PIT @ NE 2015-09-10             0            0    0   0   0   0   0   \n",
       "122      PIT @ NE 2015-09-10             0            0    0   0   0   0   0   \n",
       "\n",
       "        CAR CHI CIN CLE DAL DEN DET GB HOU IND JAX KC LA LAC MIA MIN NE NO  \\\n",
       "play_id                                                                      \n",
       "36        0   0   0   0   0   0   0  0   0   0   0  0  0   0   0   0  H  0   \n",
       "51        0   0   0   0   0   0   0  0   0   0   0  0  0   0   0   0  H  0   \n",
       "72        0   0   0   0   0   0   0  0   0   0   0  0  0   0   0   0  H  0   \n",
       "101       0   0   0   0   0   0   0  0   0   0   0  0  0   0   0   0  H  0   \n",
       "122       0   0   0   0   0   0   0  0   0   0   0  0  0   0   0   0  H  0   \n",
       "\n",
       "        NYG NYJ OAK PHI PIT SEA SF TB TEN WAS  week  \n",
       "play_id                                              \n",
       "36        0   0   0   0   A   0  0  0   0   0     1  \n",
       "51        0   0   0   0   A   0  0  0   0   0     1  \n",
       "72        0   0   0   0   A   0  0  0   0   0     1  \n",
       "101       0   0   0   0   A   0  0  0   0   0     1  \n",
       "122       0   0   0   0   A   0  0  0   0   0     1  "
      ]
     },
     "execution_count": 25,
     "metadata": {},
     "output_type": "execute_result"
    }
   ],
   "source": [
    "nfl_small2_end_of_drive.head(5)"
   ]
  },
  {
   "cell_type": "code",
   "execution_count": 26,
   "metadata": {},
   "outputs": [],
   "source": [
    "# Checking this game, the yard totals look right, but the overall don't match online either \n",
    "# UPDATE: ydsnet is how far down the field the team drove, including penalties\n",
    "# https://www.pro-football-reference.com/boxscores/201709100cle.htm#all_vis_drives\n",
    "# nfl_small2_end_of_drive[(nfl_small2_end_of_drive['home_team']=='CLE')\\\n",
    "#                         & (nfl_small2_end_of_drive['week'] == 1)].to_csv('nfl_small_yard_explore.csv')"
   ]
  },
  {
   "cell_type": "code",
   "execution_count": 27,
   "metadata": {},
   "outputs": [],
   "source": [
    "x_axis = nfl_small2_end_of_drive[(nfl_small2_end_of_drive['posteam']=='CLE')&\\\n",
    "                                 (nfl_small2_end_of_drive['year']==2017)].groupby('week').sum().index\n",
    "\n",
    "y_axis = nfl_small2_end_of_drive[(nfl_small2_end_of_drive['posteam']=='CLE') &\\\n",
    "                        (nfl_small2_end_of_drive['end_of_drive']==1)&\\\n",
    "                        (nfl_small2_end_of_drive['year']==2017)]\\\n",
    "                        .groupby('week').sum()['ydsnet'].values\n",
    "\n",
    "x_axis2 = nfl_small2_end_of_drive[(nfl_small2_end_of_drive['posteam']=='CLE')&\\\n",
    "                                 (nfl_small2_end_of_drive['year']==2018)].groupby('week').sum().index\n",
    "\n",
    "y_axis2 = nfl_small2_end_of_drive[(nfl_small2_end_of_drive['posteam']=='CLE') &\\\n",
    "                        (nfl_small2_end_of_drive['end_of_drive']==1)&\\\n",
    "                        (nfl_small2_end_of_drive['year']==2018)]\\\n",
    "                        .groupby('week').sum()['ydsnet'].values\n",
    "\n",
    "x_axis3 = nfl_small2_end_of_drive[(nfl_small2_end_of_drive['posteam']=='CLE')&\\\n",
    "                                 (nfl_small2_end_of_drive['year']==2016)].groupby('week').sum().index\n",
    "\n",
    "y_axis3 = nfl_small2_end_of_drive[(nfl_small2_end_of_drive['posteam']=='CLE') &\\\n",
    "                        (nfl_small2_end_of_drive['end_of_drive']==1)&\\\n",
    "                        (nfl_small2_end_of_drive['year']==2016)]\\\n",
    "                        .groupby('week').sum()['ydsnet'].values"
   ]
  },
  {
   "cell_type": "code",
   "execution_count": 28,
   "metadata": {},
   "outputs": [
    {
     "data": {
      "application/vnd.plotly.v1+json": {
       "config": {
        "plotlyServerURL": "https://plot.ly"
       },
       "data": [
        {
         "mode": "lines",
         "name": "2016",
         "type": "scatter",
         "x": [
          1,
          2,
          3,
          4,
          5,
          6,
          7,
          8,
          10,
          12,
          13,
          15,
          16
         ],
         "y": [
          279,
          353,
          393,
          383,
          283,
          343,
          342,
          661,
          379,
          237,
          270,
          297,
          418
         ]
        },
        {
         "mode": "lines",
         "name": "2017",
         "type": "scatter",
         "x": [
          1,
          2,
          3,
          4,
          5,
          6,
          7,
          8,
          9,
          10,
          11,
          12,
          13,
          14,
          15,
          16
         ],
         "y": [
          293,
          367,
          349,
          227,
          400,
          238,
          264,
          296,
          424,
          184,
          370,
          324,
          335,
          273,
          228,
          352
         ]
        },
        {
         "mode": "lines",
         "name": "2018",
         "type": "scatter",
         "x": [
          1,
          2,
          3,
          4,
          5,
          6,
          7,
          9,
          10,
          11,
          12,
          13,
          14
         ],
         "y": [
          360,
          360,
          318,
          502,
          382,
          581,
          239,
          404,
          407,
          367,
          450,
          324,
          299
         ]
        }
       ],
       "layout": {
        "template": {
         "data": {
          "bar": [
           {
            "error_x": {
             "color": "#2a3f5f"
            },
            "error_y": {
             "color": "#2a3f5f"
            },
            "marker": {
             "line": {
              "color": "#E5ECF6",
              "width": 0.5
             }
            },
            "type": "bar"
           }
          ],
          "barpolar": [
           {
            "marker": {
             "line": {
              "color": "#E5ECF6",
              "width": 0.5
             }
            },
            "type": "barpolar"
           }
          ],
          "carpet": [
           {
            "aaxis": {
             "endlinecolor": "#2a3f5f",
             "gridcolor": "white",
             "linecolor": "white",
             "minorgridcolor": "white",
             "startlinecolor": "#2a3f5f"
            },
            "baxis": {
             "endlinecolor": "#2a3f5f",
             "gridcolor": "white",
             "linecolor": "white",
             "minorgridcolor": "white",
             "startlinecolor": "#2a3f5f"
            },
            "type": "carpet"
           }
          ],
          "choropleth": [
           {
            "colorbar": {
             "outlinewidth": 0,
             "ticks": ""
            },
            "type": "choropleth"
           }
          ],
          "contour": [
           {
            "colorbar": {
             "outlinewidth": 0,
             "ticks": ""
            },
            "colorscale": [
             [
              0,
              "#0d0887"
             ],
             [
              0.1111111111111111,
              "#46039f"
             ],
             [
              0.2222222222222222,
              "#7201a8"
             ],
             [
              0.3333333333333333,
              "#9c179e"
             ],
             [
              0.4444444444444444,
              "#bd3786"
             ],
             [
              0.5555555555555556,
              "#d8576b"
             ],
             [
              0.6666666666666666,
              "#ed7953"
             ],
             [
              0.7777777777777778,
              "#fb9f3a"
             ],
             [
              0.8888888888888888,
              "#fdca26"
             ],
             [
              1,
              "#f0f921"
             ]
            ],
            "type": "contour"
           }
          ],
          "contourcarpet": [
           {
            "colorbar": {
             "outlinewidth": 0,
             "ticks": ""
            },
            "type": "contourcarpet"
           }
          ],
          "heatmap": [
           {
            "colorbar": {
             "outlinewidth": 0,
             "ticks": ""
            },
            "colorscale": [
             [
              0,
              "#0d0887"
             ],
             [
              0.1111111111111111,
              "#46039f"
             ],
             [
              0.2222222222222222,
              "#7201a8"
             ],
             [
              0.3333333333333333,
              "#9c179e"
             ],
             [
              0.4444444444444444,
              "#bd3786"
             ],
             [
              0.5555555555555556,
              "#d8576b"
             ],
             [
              0.6666666666666666,
              "#ed7953"
             ],
             [
              0.7777777777777778,
              "#fb9f3a"
             ],
             [
              0.8888888888888888,
              "#fdca26"
             ],
             [
              1,
              "#f0f921"
             ]
            ],
            "type": "heatmap"
           }
          ],
          "heatmapgl": [
           {
            "colorbar": {
             "outlinewidth": 0,
             "ticks": ""
            },
            "colorscale": [
             [
              0,
              "#0d0887"
             ],
             [
              0.1111111111111111,
              "#46039f"
             ],
             [
              0.2222222222222222,
              "#7201a8"
             ],
             [
              0.3333333333333333,
              "#9c179e"
             ],
             [
              0.4444444444444444,
              "#bd3786"
             ],
             [
              0.5555555555555556,
              "#d8576b"
             ],
             [
              0.6666666666666666,
              "#ed7953"
             ],
             [
              0.7777777777777778,
              "#fb9f3a"
             ],
             [
              0.8888888888888888,
              "#fdca26"
             ],
             [
              1,
              "#f0f921"
             ]
            ],
            "type": "heatmapgl"
           }
          ],
          "histogram": [
           {
            "marker": {
             "colorbar": {
              "outlinewidth": 0,
              "ticks": ""
             }
            },
            "type": "histogram"
           }
          ],
          "histogram2d": [
           {
            "colorbar": {
             "outlinewidth": 0,
             "ticks": ""
            },
            "colorscale": [
             [
              0,
              "#0d0887"
             ],
             [
              0.1111111111111111,
              "#46039f"
             ],
             [
              0.2222222222222222,
              "#7201a8"
             ],
             [
              0.3333333333333333,
              "#9c179e"
             ],
             [
              0.4444444444444444,
              "#bd3786"
             ],
             [
              0.5555555555555556,
              "#d8576b"
             ],
             [
              0.6666666666666666,
              "#ed7953"
             ],
             [
              0.7777777777777778,
              "#fb9f3a"
             ],
             [
              0.8888888888888888,
              "#fdca26"
             ],
             [
              1,
              "#f0f921"
             ]
            ],
            "type": "histogram2d"
           }
          ],
          "histogram2dcontour": [
           {
            "colorbar": {
             "outlinewidth": 0,
             "ticks": ""
            },
            "colorscale": [
             [
              0,
              "#0d0887"
             ],
             [
              0.1111111111111111,
              "#46039f"
             ],
             [
              0.2222222222222222,
              "#7201a8"
             ],
             [
              0.3333333333333333,
              "#9c179e"
             ],
             [
              0.4444444444444444,
              "#bd3786"
             ],
             [
              0.5555555555555556,
              "#d8576b"
             ],
             [
              0.6666666666666666,
              "#ed7953"
             ],
             [
              0.7777777777777778,
              "#fb9f3a"
             ],
             [
              0.8888888888888888,
              "#fdca26"
             ],
             [
              1,
              "#f0f921"
             ]
            ],
            "type": "histogram2dcontour"
           }
          ],
          "mesh3d": [
           {
            "colorbar": {
             "outlinewidth": 0,
             "ticks": ""
            },
            "type": "mesh3d"
           }
          ],
          "parcoords": [
           {
            "line": {
             "colorbar": {
              "outlinewidth": 0,
              "ticks": ""
             }
            },
            "type": "parcoords"
           }
          ],
          "pie": [
           {
            "automargin": true,
            "type": "pie"
           }
          ],
          "scatter": [
           {
            "marker": {
             "colorbar": {
              "outlinewidth": 0,
              "ticks": ""
             }
            },
            "type": "scatter"
           }
          ],
          "scatter3d": [
           {
            "line": {
             "colorbar": {
              "outlinewidth": 0,
              "ticks": ""
             }
            },
            "marker": {
             "colorbar": {
              "outlinewidth": 0,
              "ticks": ""
             }
            },
            "type": "scatter3d"
           }
          ],
          "scattercarpet": [
           {
            "marker": {
             "colorbar": {
              "outlinewidth": 0,
              "ticks": ""
             }
            },
            "type": "scattercarpet"
           }
          ],
          "scattergeo": [
           {
            "marker": {
             "colorbar": {
              "outlinewidth": 0,
              "ticks": ""
             }
            },
            "type": "scattergeo"
           }
          ],
          "scattergl": [
           {
            "marker": {
             "colorbar": {
              "outlinewidth": 0,
              "ticks": ""
             }
            },
            "type": "scattergl"
           }
          ],
          "scattermapbox": [
           {
            "marker": {
             "colorbar": {
              "outlinewidth": 0,
              "ticks": ""
             }
            },
            "type": "scattermapbox"
           }
          ],
          "scatterpolar": [
           {
            "marker": {
             "colorbar": {
              "outlinewidth": 0,
              "ticks": ""
             }
            },
            "type": "scatterpolar"
           }
          ],
          "scatterpolargl": [
           {
            "marker": {
             "colorbar": {
              "outlinewidth": 0,
              "ticks": ""
             }
            },
            "type": "scatterpolargl"
           }
          ],
          "scatterternary": [
           {
            "marker": {
             "colorbar": {
              "outlinewidth": 0,
              "ticks": ""
             }
            },
            "type": "scatterternary"
           }
          ],
          "surface": [
           {
            "colorbar": {
             "outlinewidth": 0,
             "ticks": ""
            },
            "colorscale": [
             [
              0,
              "#0d0887"
             ],
             [
              0.1111111111111111,
              "#46039f"
             ],
             [
              0.2222222222222222,
              "#7201a8"
             ],
             [
              0.3333333333333333,
              "#9c179e"
             ],
             [
              0.4444444444444444,
              "#bd3786"
             ],
             [
              0.5555555555555556,
              "#d8576b"
             ],
             [
              0.6666666666666666,
              "#ed7953"
             ],
             [
              0.7777777777777778,
              "#fb9f3a"
             ],
             [
              0.8888888888888888,
              "#fdca26"
             ],
             [
              1,
              "#f0f921"
             ]
            ],
            "type": "surface"
           }
          ],
          "table": [
           {
            "cells": {
             "fill": {
              "color": "#EBF0F8"
             },
             "line": {
              "color": "white"
             }
            },
            "header": {
             "fill": {
              "color": "#C8D4E3"
             },
             "line": {
              "color": "white"
             }
            },
            "type": "table"
           }
          ]
         },
         "layout": {
          "annotationdefaults": {
           "arrowcolor": "#2a3f5f",
           "arrowhead": 0,
           "arrowwidth": 1
          },
          "coloraxis": {
           "colorbar": {
            "outlinewidth": 0,
            "ticks": ""
           }
          },
          "colorscale": {
           "diverging": [
            [
             0,
             "#8e0152"
            ],
            [
             0.1,
             "#c51b7d"
            ],
            [
             0.2,
             "#de77ae"
            ],
            [
             0.3,
             "#f1b6da"
            ],
            [
             0.4,
             "#fde0ef"
            ],
            [
             0.5,
             "#f7f7f7"
            ],
            [
             0.6,
             "#e6f5d0"
            ],
            [
             0.7,
             "#b8e186"
            ],
            [
             0.8,
             "#7fbc41"
            ],
            [
             0.9,
             "#4d9221"
            ],
            [
             1,
             "#276419"
            ]
           ],
           "sequential": [
            [
             0,
             "#0d0887"
            ],
            [
             0.1111111111111111,
             "#46039f"
            ],
            [
             0.2222222222222222,
             "#7201a8"
            ],
            [
             0.3333333333333333,
             "#9c179e"
            ],
            [
             0.4444444444444444,
             "#bd3786"
            ],
            [
             0.5555555555555556,
             "#d8576b"
            ],
            [
             0.6666666666666666,
             "#ed7953"
            ],
            [
             0.7777777777777778,
             "#fb9f3a"
            ],
            [
             0.8888888888888888,
             "#fdca26"
            ],
            [
             1,
             "#f0f921"
            ]
           ],
           "sequentialminus": [
            [
             0,
             "#0d0887"
            ],
            [
             0.1111111111111111,
             "#46039f"
            ],
            [
             0.2222222222222222,
             "#7201a8"
            ],
            [
             0.3333333333333333,
             "#9c179e"
            ],
            [
             0.4444444444444444,
             "#bd3786"
            ],
            [
             0.5555555555555556,
             "#d8576b"
            ],
            [
             0.6666666666666666,
             "#ed7953"
            ],
            [
             0.7777777777777778,
             "#fb9f3a"
            ],
            [
             0.8888888888888888,
             "#fdca26"
            ],
            [
             1,
             "#f0f921"
            ]
           ]
          },
          "colorway": [
           "#636efa",
           "#EF553B",
           "#00cc96",
           "#ab63fa",
           "#FFA15A",
           "#19d3f3",
           "#FF6692",
           "#B6E880",
           "#FF97FF",
           "#FECB52"
          ],
          "font": {
           "color": "#2a3f5f"
          },
          "geo": {
           "bgcolor": "white",
           "lakecolor": "white",
           "landcolor": "#E5ECF6",
           "showlakes": true,
           "showland": true,
           "subunitcolor": "white"
          },
          "hoverlabel": {
           "align": "left"
          },
          "hovermode": "closest",
          "mapbox": {
           "style": "light"
          },
          "paper_bgcolor": "white",
          "plot_bgcolor": "#E5ECF6",
          "polar": {
           "angularaxis": {
            "gridcolor": "white",
            "linecolor": "white",
            "ticks": ""
           },
           "bgcolor": "#E5ECF6",
           "radialaxis": {
            "gridcolor": "white",
            "linecolor": "white",
            "ticks": ""
           }
          },
          "scene": {
           "xaxis": {
            "backgroundcolor": "#E5ECF6",
            "gridcolor": "white",
            "gridwidth": 2,
            "linecolor": "white",
            "showbackground": true,
            "ticks": "",
            "zerolinecolor": "white"
           },
           "yaxis": {
            "backgroundcolor": "#E5ECF6",
            "gridcolor": "white",
            "gridwidth": 2,
            "linecolor": "white",
            "showbackground": true,
            "ticks": "",
            "zerolinecolor": "white"
           },
           "zaxis": {
            "backgroundcolor": "#E5ECF6",
            "gridcolor": "white",
            "gridwidth": 2,
            "linecolor": "white",
            "showbackground": true,
            "ticks": "",
            "zerolinecolor": "white"
           }
          },
          "shapedefaults": {
           "line": {
            "color": "#2a3f5f"
           }
          },
          "ternary": {
           "aaxis": {
            "gridcolor": "white",
            "linecolor": "white",
            "ticks": ""
           },
           "baxis": {
            "gridcolor": "white",
            "linecolor": "white",
            "ticks": ""
           },
           "bgcolor": "#E5ECF6",
           "caxis": {
            "gridcolor": "white",
            "linecolor": "white",
            "ticks": ""
           }
          },
          "title": {
           "x": 0.05
          },
          "xaxis": {
           "automargin": true,
           "gridcolor": "white",
           "linecolor": "white",
           "ticks": "",
           "title": {
            "standoff": 15
           },
           "zerolinecolor": "white",
           "zerolinewidth": 2
          },
          "yaxis": {
           "automargin": true,
           "gridcolor": "white",
           "linecolor": "white",
           "ticks": "",
           "title": {
            "standoff": 15
           },
           "zerolinecolor": "white",
           "zerolinewidth": 2
          }
         }
        },
        "title": {
         "text": "End of Game Yards: CLE",
         "x": 0.5,
         "xanchor": "center",
         "y": 0.9,
         "yanchor": "top"
        },
        "xaxis": {
         "ticklen": 1,
         "title": {
          "text": "Game"
         },
         "zeroline": false
        },
        "yaxis": {
         "ticklen": 5,
         "title": {
          "text": "Yards"
         },
         "zeroline": false
        }
       }
      },
      "text/html": [
       "<div>\n",
       "        \n",
       "        \n",
       "            <div id=\"9222e145-75fe-4364-b046-623a32feb3e7\" class=\"plotly-graph-div\" style=\"height:525px; width:100%;\"></div>\n",
       "            <script type=\"text/javascript\">\n",
       "                require([\"plotly\"], function(Plotly) {\n",
       "                    window.PLOTLYENV=window.PLOTLYENV || {};\n",
       "                    \n",
       "                if (document.getElementById(\"9222e145-75fe-4364-b046-623a32feb3e7\")) {\n",
       "                    Plotly.newPlot(\n",
       "                        '9222e145-75fe-4364-b046-623a32feb3e7',\n",
       "                        [{\"mode\": \"lines\", \"name\": \"2016\", \"type\": \"scatter\", \"x\": [1, 2, 3, 4, 5, 6, 7, 8, 10, 12, 13, 15, 16], \"y\": [279, 353, 393, 383, 283, 343, 342, 661, 379, 237, 270, 297, 418]}, {\"mode\": \"lines\", \"name\": \"2017\", \"type\": \"scatter\", \"x\": [1, 2, 3, 4, 5, 6, 7, 8, 9, 10, 11, 12, 13, 14, 15, 16], \"y\": [293, 367, 349, 227, 400, 238, 264, 296, 424, 184, 370, 324, 335, 273, 228, 352]}, {\"mode\": \"lines\", \"name\": \"2018\", \"type\": \"scatter\", \"x\": [1, 2, 3, 4, 5, 6, 7, 9, 10, 11, 12, 13, 14], \"y\": [360, 360, 318, 502, 382, 581, 239, 404, 407, 367, 450, 324, 299]}],\n",
       "                        {\"template\": {\"data\": {\"bar\": [{\"error_x\": {\"color\": \"#2a3f5f\"}, \"error_y\": {\"color\": \"#2a3f5f\"}, \"marker\": {\"line\": {\"color\": \"#E5ECF6\", \"width\": 0.5}}, \"type\": \"bar\"}], \"barpolar\": [{\"marker\": {\"line\": {\"color\": \"#E5ECF6\", \"width\": 0.5}}, \"type\": \"barpolar\"}], \"carpet\": [{\"aaxis\": {\"endlinecolor\": \"#2a3f5f\", \"gridcolor\": \"white\", \"linecolor\": \"white\", \"minorgridcolor\": \"white\", \"startlinecolor\": \"#2a3f5f\"}, \"baxis\": {\"endlinecolor\": \"#2a3f5f\", \"gridcolor\": \"white\", \"linecolor\": \"white\", \"minorgridcolor\": \"white\", \"startlinecolor\": \"#2a3f5f\"}, \"type\": \"carpet\"}], \"choropleth\": [{\"colorbar\": {\"outlinewidth\": 0, \"ticks\": \"\"}, \"type\": \"choropleth\"}], \"contour\": [{\"colorbar\": {\"outlinewidth\": 0, \"ticks\": \"\"}, \"colorscale\": [[0.0, \"#0d0887\"], [0.1111111111111111, \"#46039f\"], [0.2222222222222222, \"#7201a8\"], [0.3333333333333333, \"#9c179e\"], [0.4444444444444444, \"#bd3786\"], [0.5555555555555556, \"#d8576b\"], [0.6666666666666666, \"#ed7953\"], [0.7777777777777778, \"#fb9f3a\"], [0.8888888888888888, \"#fdca26\"], [1.0, \"#f0f921\"]], \"type\": \"contour\"}], \"contourcarpet\": [{\"colorbar\": {\"outlinewidth\": 0, \"ticks\": \"\"}, \"type\": \"contourcarpet\"}], \"heatmap\": [{\"colorbar\": {\"outlinewidth\": 0, \"ticks\": \"\"}, \"colorscale\": [[0.0, \"#0d0887\"], [0.1111111111111111, \"#46039f\"], [0.2222222222222222, \"#7201a8\"], [0.3333333333333333, \"#9c179e\"], [0.4444444444444444, \"#bd3786\"], [0.5555555555555556, \"#d8576b\"], [0.6666666666666666, \"#ed7953\"], [0.7777777777777778, \"#fb9f3a\"], [0.8888888888888888, \"#fdca26\"], [1.0, \"#f0f921\"]], \"type\": \"heatmap\"}], \"heatmapgl\": [{\"colorbar\": {\"outlinewidth\": 0, \"ticks\": \"\"}, \"colorscale\": [[0.0, \"#0d0887\"], [0.1111111111111111, \"#46039f\"], [0.2222222222222222, \"#7201a8\"], [0.3333333333333333, \"#9c179e\"], [0.4444444444444444, \"#bd3786\"], [0.5555555555555556, \"#d8576b\"], [0.6666666666666666, \"#ed7953\"], [0.7777777777777778, \"#fb9f3a\"], [0.8888888888888888, \"#fdca26\"], [1.0, \"#f0f921\"]], \"type\": \"heatmapgl\"}], \"histogram\": [{\"marker\": {\"colorbar\": {\"outlinewidth\": 0, \"ticks\": \"\"}}, \"type\": \"histogram\"}], \"histogram2d\": [{\"colorbar\": {\"outlinewidth\": 0, \"ticks\": \"\"}, \"colorscale\": [[0.0, \"#0d0887\"], [0.1111111111111111, \"#46039f\"], [0.2222222222222222, \"#7201a8\"], [0.3333333333333333, \"#9c179e\"], [0.4444444444444444, \"#bd3786\"], [0.5555555555555556, \"#d8576b\"], [0.6666666666666666, \"#ed7953\"], [0.7777777777777778, \"#fb9f3a\"], [0.8888888888888888, \"#fdca26\"], [1.0, \"#f0f921\"]], \"type\": \"histogram2d\"}], \"histogram2dcontour\": [{\"colorbar\": {\"outlinewidth\": 0, \"ticks\": \"\"}, \"colorscale\": [[0.0, \"#0d0887\"], [0.1111111111111111, \"#46039f\"], [0.2222222222222222, \"#7201a8\"], [0.3333333333333333, \"#9c179e\"], [0.4444444444444444, \"#bd3786\"], [0.5555555555555556, \"#d8576b\"], [0.6666666666666666, \"#ed7953\"], [0.7777777777777778, \"#fb9f3a\"], [0.8888888888888888, \"#fdca26\"], [1.0, \"#f0f921\"]], \"type\": \"histogram2dcontour\"}], \"mesh3d\": [{\"colorbar\": {\"outlinewidth\": 0, \"ticks\": \"\"}, \"type\": \"mesh3d\"}], \"parcoords\": [{\"line\": {\"colorbar\": {\"outlinewidth\": 0, \"ticks\": \"\"}}, \"type\": \"parcoords\"}], \"pie\": [{\"automargin\": true, \"type\": \"pie\"}], \"scatter\": [{\"marker\": {\"colorbar\": {\"outlinewidth\": 0, \"ticks\": \"\"}}, \"type\": \"scatter\"}], \"scatter3d\": [{\"line\": {\"colorbar\": {\"outlinewidth\": 0, \"ticks\": \"\"}}, \"marker\": {\"colorbar\": {\"outlinewidth\": 0, \"ticks\": \"\"}}, \"type\": \"scatter3d\"}], \"scattercarpet\": [{\"marker\": {\"colorbar\": {\"outlinewidth\": 0, \"ticks\": \"\"}}, \"type\": \"scattercarpet\"}], \"scattergeo\": [{\"marker\": {\"colorbar\": {\"outlinewidth\": 0, \"ticks\": \"\"}}, \"type\": \"scattergeo\"}], \"scattergl\": [{\"marker\": {\"colorbar\": {\"outlinewidth\": 0, \"ticks\": \"\"}}, \"type\": \"scattergl\"}], \"scattermapbox\": [{\"marker\": {\"colorbar\": {\"outlinewidth\": 0, \"ticks\": \"\"}}, \"type\": \"scattermapbox\"}], \"scatterpolar\": [{\"marker\": {\"colorbar\": {\"outlinewidth\": 0, \"ticks\": \"\"}}, \"type\": \"scatterpolar\"}], \"scatterpolargl\": [{\"marker\": {\"colorbar\": {\"outlinewidth\": 0, \"ticks\": \"\"}}, \"type\": \"scatterpolargl\"}], \"scatterternary\": [{\"marker\": {\"colorbar\": {\"outlinewidth\": 0, \"ticks\": \"\"}}, \"type\": \"scatterternary\"}], \"surface\": [{\"colorbar\": {\"outlinewidth\": 0, \"ticks\": \"\"}, \"colorscale\": [[0.0, \"#0d0887\"], [0.1111111111111111, \"#46039f\"], [0.2222222222222222, \"#7201a8\"], [0.3333333333333333, \"#9c179e\"], [0.4444444444444444, \"#bd3786\"], [0.5555555555555556, \"#d8576b\"], [0.6666666666666666, \"#ed7953\"], [0.7777777777777778, \"#fb9f3a\"], [0.8888888888888888, \"#fdca26\"], [1.0, \"#f0f921\"]], \"type\": \"surface\"}], \"table\": [{\"cells\": {\"fill\": {\"color\": \"#EBF0F8\"}, \"line\": {\"color\": \"white\"}}, \"header\": {\"fill\": {\"color\": \"#C8D4E3\"}, \"line\": {\"color\": \"white\"}}, \"type\": \"table\"}]}, \"layout\": {\"annotationdefaults\": {\"arrowcolor\": \"#2a3f5f\", \"arrowhead\": 0, \"arrowwidth\": 1}, \"coloraxis\": {\"colorbar\": {\"outlinewidth\": 0, \"ticks\": \"\"}}, \"colorscale\": {\"diverging\": [[0, \"#8e0152\"], [0.1, \"#c51b7d\"], [0.2, \"#de77ae\"], [0.3, \"#f1b6da\"], [0.4, \"#fde0ef\"], [0.5, \"#f7f7f7\"], [0.6, \"#e6f5d0\"], [0.7, \"#b8e186\"], [0.8, \"#7fbc41\"], [0.9, \"#4d9221\"], [1, \"#276419\"]], \"sequential\": [[0.0, \"#0d0887\"], [0.1111111111111111, \"#46039f\"], [0.2222222222222222, \"#7201a8\"], [0.3333333333333333, \"#9c179e\"], [0.4444444444444444, \"#bd3786\"], [0.5555555555555556, \"#d8576b\"], [0.6666666666666666, \"#ed7953\"], [0.7777777777777778, \"#fb9f3a\"], [0.8888888888888888, \"#fdca26\"], [1.0, \"#f0f921\"]], \"sequentialminus\": [[0.0, \"#0d0887\"], [0.1111111111111111, \"#46039f\"], [0.2222222222222222, \"#7201a8\"], [0.3333333333333333, \"#9c179e\"], [0.4444444444444444, \"#bd3786\"], [0.5555555555555556, \"#d8576b\"], [0.6666666666666666, \"#ed7953\"], [0.7777777777777778, \"#fb9f3a\"], [0.8888888888888888, \"#fdca26\"], [1.0, \"#f0f921\"]]}, \"colorway\": [\"#636efa\", \"#EF553B\", \"#00cc96\", \"#ab63fa\", \"#FFA15A\", \"#19d3f3\", \"#FF6692\", \"#B6E880\", \"#FF97FF\", \"#FECB52\"], \"font\": {\"color\": \"#2a3f5f\"}, \"geo\": {\"bgcolor\": \"white\", \"lakecolor\": \"white\", \"landcolor\": \"#E5ECF6\", \"showlakes\": true, \"showland\": true, \"subunitcolor\": \"white\"}, \"hoverlabel\": {\"align\": \"left\"}, \"hovermode\": \"closest\", \"mapbox\": {\"style\": \"light\"}, \"paper_bgcolor\": \"white\", \"plot_bgcolor\": \"#E5ECF6\", \"polar\": {\"angularaxis\": {\"gridcolor\": \"white\", \"linecolor\": \"white\", \"ticks\": \"\"}, \"bgcolor\": \"#E5ECF6\", \"radialaxis\": {\"gridcolor\": \"white\", \"linecolor\": \"white\", \"ticks\": \"\"}}, \"scene\": {\"xaxis\": {\"backgroundcolor\": \"#E5ECF6\", \"gridcolor\": \"white\", \"gridwidth\": 2, \"linecolor\": \"white\", \"showbackground\": true, \"ticks\": \"\", \"zerolinecolor\": \"white\"}, \"yaxis\": {\"backgroundcolor\": \"#E5ECF6\", \"gridcolor\": \"white\", \"gridwidth\": 2, \"linecolor\": \"white\", \"showbackground\": true, \"ticks\": \"\", \"zerolinecolor\": \"white\"}, \"zaxis\": {\"backgroundcolor\": \"#E5ECF6\", \"gridcolor\": \"white\", \"gridwidth\": 2, \"linecolor\": \"white\", \"showbackground\": true, \"ticks\": \"\", \"zerolinecolor\": \"white\"}}, \"shapedefaults\": {\"line\": {\"color\": \"#2a3f5f\"}}, \"ternary\": {\"aaxis\": {\"gridcolor\": \"white\", \"linecolor\": \"white\", \"ticks\": \"\"}, \"baxis\": {\"gridcolor\": \"white\", \"linecolor\": \"white\", \"ticks\": \"\"}, \"bgcolor\": \"#E5ECF6\", \"caxis\": {\"gridcolor\": \"white\", \"linecolor\": \"white\", \"ticks\": \"\"}}, \"title\": {\"x\": 0.05}, \"xaxis\": {\"automargin\": true, \"gridcolor\": \"white\", \"linecolor\": \"white\", \"ticks\": \"\", \"title\": {\"standoff\": 15}, \"zerolinecolor\": \"white\", \"zerolinewidth\": 2}, \"yaxis\": {\"automargin\": true, \"gridcolor\": \"white\", \"linecolor\": \"white\", \"ticks\": \"\", \"title\": {\"standoff\": 15}, \"zerolinecolor\": \"white\", \"zerolinewidth\": 2}}}, \"title\": {\"text\": \"End of Game Yards: CLE\", \"x\": 0.5, \"xanchor\": \"center\", \"y\": 0.9, \"yanchor\": \"top\"}, \"xaxis\": {\"ticklen\": 1, \"title\": {\"text\": \"Game\"}, \"zeroline\": false}, \"yaxis\": {\"ticklen\": 5, \"title\": {\"text\": \"Yards\"}, \"zeroline\": false}},\n",
       "                        {\"responsive\": true}\n",
       "                    ).then(function(){\n",
       "                            \n",
       "var gd = document.getElementById('9222e145-75fe-4364-b046-623a32feb3e7');\n",
       "var x = new MutationObserver(function (mutations, observer) {{\n",
       "        var display = window.getComputedStyle(gd).display;\n",
       "        if (!display || display === 'none') {{\n",
       "            console.log([gd, 'removed!']);\n",
       "            Plotly.purge(gd);\n",
       "            observer.disconnect();\n",
       "        }}\n",
       "}});\n",
       "\n",
       "// Listen for the removal of the full notebook cells\n",
       "var notebookContainer = gd.closest('#notebook-container');\n",
       "if (notebookContainer) {{\n",
       "    x.observe(notebookContainer, {childList: true});\n",
       "}}\n",
       "\n",
       "// Listen for the clearing of the current output cell\n",
       "var outputEl = gd.closest('.output');\n",
       "if (outputEl) {{\n",
       "    x.observe(outputEl, {childList: true});\n",
       "}}\n",
       "\n",
       "                        })\n",
       "                };\n",
       "                });\n",
       "            </script>\n",
       "        </div>"
      ]
     },
     "metadata": {},
     "output_type": "display_data"
    }
   ],
   "source": [
    "trace2016 = go.Scatter(\n",
    "      x = x_axis3, \n",
    "      y = y_axis3, \n",
    "      mode = 'lines', \n",
    "      name = '2016',\n",
    "      type = \"scatter\"\n",
    "    )\n",
    "\n",
    "\n",
    "\n",
    "trace2017 = go.Scatter(\n",
    "      x = x_axis, \n",
    "      y = y_axis, \n",
    "      mode = 'lines', \n",
    "      name = '2017',\n",
    "      type = \"scatter\"\n",
    "    )\n",
    "\n",
    "trace2018 = go.Scatter(\n",
    "      x = x_axis2, \n",
    "      y = y_axis2, \n",
    "      mode = 'lines', \n",
    "      name = '2018',\n",
    "      type = \"scatter\"\n",
    "    )\n",
    "\n",
    "\n",
    "layout = go.Layout(\n",
    "    title = 'End of Game Yards: {}'.format('CLE'),\n",
    "    xaxis= dict(title= 'Game',ticklen= 1,zeroline= False),\n",
    "    yaxis= dict(title= 'Yards',ticklen= 5,zeroline= False)\n",
    ")\n",
    "\n",
    "fig = go.Figure(data = [trace2016,trace2017,trace2018], layout = layout)\n",
    "\n",
    "fig.update_layout(\n",
    "    title={\n",
    "        'y':0.9,\n",
    "        'x':0.5,\n",
    "        'xanchor': 'center',\n",
    "        'yanchor': 'top'})\n",
    "fig"
   ]
  },
  {
   "cell_type": "code",
   "execution_count": 29,
   "metadata": {},
   "outputs": [
    {
     "data": {
      "text/html": [
       "<div>\n",
       "<style scoped>\n",
       "    .dataframe tbody tr th:only-of-type {\n",
       "        vertical-align: middle;\n",
       "    }\n",
       "\n",
       "    .dataframe tbody tr th {\n",
       "        vertical-align: top;\n",
       "    }\n",
       "\n",
       "    .dataframe thead th {\n",
       "        text-align: right;\n",
       "    }\n",
       "</style>\n",
       "<table border=\"1\" class=\"dataframe\">\n",
       "  <thead>\n",
       "    <tr style=\"text-align: right;\">\n",
       "      <th></th>\n",
       "      <th>index</th>\n",
       "      <th>game_id</th>\n",
       "      <th>game_date</th>\n",
       "      <th>time</th>\n",
       "      <th>quarter_seconds_remaining</th>\n",
       "      <th>half_seconds_remaining</th>\n",
       "      <th>game_seconds_remaining</th>\n",
       "      <th>game_half</th>\n",
       "      <th>quarter_end</th>\n",
       "      <th>qtr</th>\n",
       "      <th>home_team</th>\n",
       "      <th>away_team</th>\n",
       "      <th>posteam</th>\n",
       "      <th>posteam_type</th>\n",
       "      <th>defteam</th>\n",
       "      <th>side_of_field</th>\n",
       "      <th>yardline_100</th>\n",
       "      <th>drive</th>\n",
       "      <th>sp</th>\n",
       "      <th>down</th>\n",
       "      <th>goal_to_go</th>\n",
       "      <th>yrdln</th>\n",
       "      <th>ydstogo</th>\n",
       "      <th>ydsnet</th>\n",
       "      <th>desc</th>\n",
       "      <th>play_type</th>\n",
       "      <th>yards_gained</th>\n",
       "      <th>pass_length</th>\n",
       "      <th>air_yards</th>\n",
       "      <th>yards_after_catch</th>\n",
       "      <th>field_goal_result</th>\n",
       "      <th>kick_distance</th>\n",
       "      <th>extra_point_result</th>\n",
       "      <th>two_point_conv_result</th>\n",
       "      <th>td_team</th>\n",
       "      <th>total_home_score</th>\n",
       "      <th>total_away_score</th>\n",
       "      <th>posteam_score</th>\n",
       "      <th>defteam_score</th>\n",
       "      <th>sack</th>\n",
       "      <th>touchdown</th>\n",
       "      <th>pass_touchdown</th>\n",
       "      <th>rush_touchdown</th>\n",
       "      <th>return_touchdown</th>\n",
       "      <th>extra_point_attempt</th>\n",
       "      <th>two_point_attempt</th>\n",
       "      <th>field_goal_attempt</th>\n",
       "      <th>fumble</th>\n",
       "      <th>complete_pass</th>\n",
       "      <th>Start_Time</th>\n",
       "      <th>year</th>\n",
       "      <th>diff</th>\n",
       "      <th>Estimated_Time</th>\n",
       "      <th>Estimated Time (EST)</th>\n",
       "      <th>Estimated_Hour</th>\n",
       "      <th>Air Pressure (hPa)</th>\n",
       "      <th>City</th>\n",
       "      <th>Dewpoint (°C)</th>\n",
       "      <th>Field</th>\n",
       "      <th>Humidity (%)</th>\n",
       "      <th>Precipitation (mm)</th>\n",
       "      <th>Roof</th>\n",
       "      <th>Team Abbreviation</th>\n",
       "      <th>Temperature (°C)</th>\n",
       "      <th>Time (EST)</th>\n",
       "      <th>Time (GMT)</th>\n",
       "      <th>Unnamed: 0_y</th>\n",
       "      <th>Wind Direction (deg)</th>\n",
       "      <th>Wind Speed (km/h)</th>\n",
       "      <th>added_time</th>\n",
       "      <th>game_name</th>\n",
       "      <th>end_of_drive</th>\n",
       "      <th>end_of_game</th>\n",
       "      <th>INT</th>\n",
       "      <th>ARI</th>\n",
       "      <th>ATL</th>\n",
       "      <th>BAL</th>\n",
       "      <th>BUF</th>\n",
       "      <th>CAR</th>\n",
       "      <th>CHI</th>\n",
       "      <th>CIN</th>\n",
       "      <th>CLE</th>\n",
       "      <th>DAL</th>\n",
       "      <th>DEN</th>\n",
       "      <th>DET</th>\n",
       "      <th>GB</th>\n",
       "      <th>HOU</th>\n",
       "      <th>IND</th>\n",
       "      <th>JAX</th>\n",
       "      <th>KC</th>\n",
       "      <th>LA</th>\n",
       "      <th>LAC</th>\n",
       "      <th>MIA</th>\n",
       "      <th>MIN</th>\n",
       "      <th>NE</th>\n",
       "      <th>NO</th>\n",
       "      <th>NYG</th>\n",
       "      <th>NYJ</th>\n",
       "      <th>OAK</th>\n",
       "      <th>PHI</th>\n",
       "      <th>PIT</th>\n",
       "      <th>SEA</th>\n",
       "      <th>SF</th>\n",
       "      <th>TB</th>\n",
       "      <th>TEN</th>\n",
       "      <th>WAS</th>\n",
       "      <th>week</th>\n",
       "    </tr>\n",
       "    <tr>\n",
       "      <th>play_id</th>\n",
       "      <th></th>\n",
       "      <th></th>\n",
       "      <th></th>\n",
       "      <th></th>\n",
       "      <th></th>\n",
       "      <th></th>\n",
       "      <th></th>\n",
       "      <th></th>\n",
       "      <th></th>\n",
       "      <th></th>\n",
       "      <th></th>\n",
       "      <th></th>\n",
       "      <th></th>\n",
       "      <th></th>\n",
       "      <th></th>\n",
       "      <th></th>\n",
       "      <th></th>\n",
       "      <th></th>\n",
       "      <th></th>\n",
       "      <th></th>\n",
       "      <th></th>\n",
       "      <th></th>\n",
       "      <th></th>\n",
       "      <th></th>\n",
       "      <th></th>\n",
       "      <th></th>\n",
       "      <th></th>\n",
       "      <th></th>\n",
       "      <th></th>\n",
       "      <th></th>\n",
       "      <th></th>\n",
       "      <th></th>\n",
       "      <th></th>\n",
       "      <th></th>\n",
       "      <th></th>\n",
       "      <th></th>\n",
       "      <th></th>\n",
       "      <th></th>\n",
       "      <th></th>\n",
       "      <th></th>\n",
       "      <th></th>\n",
       "      <th></th>\n",
       "      <th></th>\n",
       "      <th></th>\n",
       "      <th></th>\n",
       "      <th></th>\n",
       "      <th></th>\n",
       "      <th></th>\n",
       "      <th></th>\n",
       "      <th></th>\n",
       "      <th></th>\n",
       "      <th></th>\n",
       "      <th></th>\n",
       "      <th></th>\n",
       "      <th></th>\n",
       "      <th></th>\n",
       "      <th></th>\n",
       "      <th></th>\n",
       "      <th></th>\n",
       "      <th></th>\n",
       "      <th></th>\n",
       "      <th></th>\n",
       "      <th></th>\n",
       "      <th></th>\n",
       "      <th></th>\n",
       "      <th></th>\n",
       "      <th></th>\n",
       "      <th></th>\n",
       "      <th></th>\n",
       "      <th></th>\n",
       "      <th></th>\n",
       "      <th></th>\n",
       "      <th></th>\n",
       "      <th></th>\n",
       "      <th></th>\n",
       "      <th></th>\n",
       "      <th></th>\n",
       "      <th></th>\n",
       "      <th></th>\n",
       "      <th></th>\n",
       "      <th></th>\n",
       "      <th></th>\n",
       "      <th></th>\n",
       "      <th></th>\n",
       "      <th></th>\n",
       "      <th></th>\n",
       "      <th></th>\n",
       "      <th></th>\n",
       "      <th></th>\n",
       "      <th></th>\n",
       "      <th></th>\n",
       "      <th></th>\n",
       "      <th></th>\n",
       "      <th></th>\n",
       "      <th></th>\n",
       "      <th></th>\n",
       "      <th></th>\n",
       "      <th></th>\n",
       "      <th></th>\n",
       "      <th></th>\n",
       "      <th></th>\n",
       "      <th></th>\n",
       "      <th></th>\n",
       "      <th></th>\n",
       "      <th></th>\n",
       "      <th></th>\n",
       "      <th></th>\n",
       "    </tr>\n",
       "  </thead>\n",
       "  <tbody>\n",
       "    <tr>\n",
       "      <td>36</td>\n",
       "      <td>270409</td>\n",
       "      <td>2015091000</td>\n",
       "      <td>2015-09-10 00:00:00</td>\n",
       "      <td>15:00</td>\n",
       "      <td>900.0</td>\n",
       "      <td>1800.0</td>\n",
       "      <td>3600.0</td>\n",
       "      <td>Half1</td>\n",
       "      <td>0</td>\n",
       "      <td>1</td>\n",
       "      <td>NE</td>\n",
       "      <td>PIT</td>\n",
       "      <td>PIT</td>\n",
       "      <td>away</td>\n",
       "      <td>NE</td>\n",
       "      <td>NE</td>\n",
       "      <td>35.0</td>\n",
       "      <td>1</td>\n",
       "      <td>0</td>\n",
       "      <td>NaN</td>\n",
       "      <td>0.0</td>\n",
       "      <td>NE 35</td>\n",
       "      <td>0</td>\n",
       "      <td>0</td>\n",
       "      <td>S.Gostkowski kicks 65 yards from NE 35 to end ...</td>\n",
       "      <td>kickoff</td>\n",
       "      <td>0.0</td>\n",
       "      <td>0</td>\n",
       "      <td>0.0</td>\n",
       "      <td>0.0</td>\n",
       "      <td>NaN</td>\n",
       "      <td>NaN</td>\n",
       "      <td>NaN</td>\n",
       "      <td>NaN</td>\n",
       "      <td>NaN</td>\n",
       "      <td>0</td>\n",
       "      <td>0</td>\n",
       "      <td>0.0</td>\n",
       "      <td>0.0</td>\n",
       "      <td>0.0</td>\n",
       "      <td>0.0</td>\n",
       "      <td>0.0</td>\n",
       "      <td>0.0</td>\n",
       "      <td>0.0</td>\n",
       "      <td>0.0</td>\n",
       "      <td>0.0</td>\n",
       "      <td>0.0</td>\n",
       "      <td>0.0</td>\n",
       "      <td>0.0</td>\n",
       "      <td>2015-09-10 20:40:00</td>\n",
       "      <td>2015.0</td>\n",
       "      <td>0 days 00:00:00.000000000</td>\n",
       "      <td>2015-09-10 20:40:00</td>\n",
       "      <td>2015-09-10 20:40:00</td>\n",
       "      <td>2015-09-10 21:00:00</td>\n",
       "      <td>1010.6</td>\n",
       "      <td>Foxborough</td>\n",
       "      <td>16.1</td>\n",
       "      <td>FieldTurf CORE</td>\n",
       "      <td>87.0</td>\n",
       "      <td>0.3</td>\n",
       "      <td>Open</td>\n",
       "      <td>NE</td>\n",
       "      <td>18.3</td>\n",
       "      <td>2015-09-10 21:00:00</td>\n",
       "      <td>2015-09-11 01:00:00</td>\n",
       "      <td>NaN</td>\n",
       "      <td>30.0</td>\n",
       "      <td>20.5</td>\n",
       "      <td>0</td>\n",
       "      <td>PIT @ NE 2015-09-10</td>\n",
       "      <td>0</td>\n",
       "      <td>0</td>\n",
       "      <td>0</td>\n",
       "      <td>0</td>\n",
       "      <td>0</td>\n",
       "      <td>0</td>\n",
       "      <td>0</td>\n",
       "      <td>0</td>\n",
       "      <td>0</td>\n",
       "      <td>0</td>\n",
       "      <td>0</td>\n",
       "      <td>0</td>\n",
       "      <td>0</td>\n",
       "      <td>0</td>\n",
       "      <td>0</td>\n",
       "      <td>0</td>\n",
       "      <td>0</td>\n",
       "      <td>0</td>\n",
       "      <td>0</td>\n",
       "      <td>0</td>\n",
       "      <td>0</td>\n",
       "      <td>0</td>\n",
       "      <td>0</td>\n",
       "      <td>H</td>\n",
       "      <td>0</td>\n",
       "      <td>0</td>\n",
       "      <td>0</td>\n",
       "      <td>0</td>\n",
       "      <td>0</td>\n",
       "      <td>A</td>\n",
       "      <td>0</td>\n",
       "      <td>0</td>\n",
       "      <td>0</td>\n",
       "      <td>0</td>\n",
       "      <td>0</td>\n",
       "      <td>1</td>\n",
       "    </tr>\n",
       "    <tr>\n",
       "      <td>51</td>\n",
       "      <td>270410</td>\n",
       "      <td>2015091000</td>\n",
       "      <td>2015-09-10 00:00:00</td>\n",
       "      <td>15:00</td>\n",
       "      <td>900.0</td>\n",
       "      <td>1800.0</td>\n",
       "      <td>3600.0</td>\n",
       "      <td>Half1</td>\n",
       "      <td>0</td>\n",
       "      <td>1</td>\n",
       "      <td>NE</td>\n",
       "      <td>PIT</td>\n",
       "      <td>PIT</td>\n",
       "      <td>away</td>\n",
       "      <td>NE</td>\n",
       "      <td>PIT</td>\n",
       "      <td>80.0</td>\n",
       "      <td>1</td>\n",
       "      <td>0</td>\n",
       "      <td>1.0</td>\n",
       "      <td>0.0</td>\n",
       "      <td>PIT 20</td>\n",
       "      <td>10</td>\n",
       "      <td>18</td>\n",
       "      <td>(15:00) De.Williams right tackle to PIT 38 for...</td>\n",
       "      <td>run</td>\n",
       "      <td>18.0</td>\n",
       "      <td>0</td>\n",
       "      <td>0.0</td>\n",
       "      <td>0.0</td>\n",
       "      <td>NaN</td>\n",
       "      <td>NaN</td>\n",
       "      <td>NaN</td>\n",
       "      <td>NaN</td>\n",
       "      <td>NaN</td>\n",
       "      <td>0</td>\n",
       "      <td>0</td>\n",
       "      <td>0.0</td>\n",
       "      <td>0.0</td>\n",
       "      <td>0.0</td>\n",
       "      <td>0.0</td>\n",
       "      <td>0.0</td>\n",
       "      <td>0.0</td>\n",
       "      <td>0.0</td>\n",
       "      <td>0.0</td>\n",
       "      <td>0.0</td>\n",
       "      <td>0.0</td>\n",
       "      <td>0.0</td>\n",
       "      <td>0.0</td>\n",
       "      <td>2015-09-10 20:40:00</td>\n",
       "      <td>2015.0</td>\n",
       "      <td>0 days 00:00:00.000000000</td>\n",
       "      <td>2015-09-10 20:40:00</td>\n",
       "      <td>2015-09-10 20:40:00</td>\n",
       "      <td>2015-09-10 21:00:00</td>\n",
       "      <td>1010.6</td>\n",
       "      <td>Foxborough</td>\n",
       "      <td>16.1</td>\n",
       "      <td>FieldTurf CORE</td>\n",
       "      <td>87.0</td>\n",
       "      <td>0.3</td>\n",
       "      <td>Open</td>\n",
       "      <td>NE</td>\n",
       "      <td>18.3</td>\n",
       "      <td>2015-09-10 21:00:00</td>\n",
       "      <td>2015-09-11 01:00:00</td>\n",
       "      <td>NaN</td>\n",
       "      <td>30.0</td>\n",
       "      <td>20.5</td>\n",
       "      <td>0</td>\n",
       "      <td>PIT @ NE 2015-09-10</td>\n",
       "      <td>0</td>\n",
       "      <td>0</td>\n",
       "      <td>0</td>\n",
       "      <td>0</td>\n",
       "      <td>0</td>\n",
       "      <td>0</td>\n",
       "      <td>0</td>\n",
       "      <td>0</td>\n",
       "      <td>0</td>\n",
       "      <td>0</td>\n",
       "      <td>0</td>\n",
       "      <td>0</td>\n",
       "      <td>0</td>\n",
       "      <td>0</td>\n",
       "      <td>0</td>\n",
       "      <td>0</td>\n",
       "      <td>0</td>\n",
       "      <td>0</td>\n",
       "      <td>0</td>\n",
       "      <td>0</td>\n",
       "      <td>0</td>\n",
       "      <td>0</td>\n",
       "      <td>0</td>\n",
       "      <td>H</td>\n",
       "      <td>0</td>\n",
       "      <td>0</td>\n",
       "      <td>0</td>\n",
       "      <td>0</td>\n",
       "      <td>0</td>\n",
       "      <td>A</td>\n",
       "      <td>0</td>\n",
       "      <td>0</td>\n",
       "      <td>0</td>\n",
       "      <td>0</td>\n",
       "      <td>0</td>\n",
       "      <td>1</td>\n",
       "    </tr>\n",
       "    <tr>\n",
       "      <td>72</td>\n",
       "      <td>270411</td>\n",
       "      <td>2015091000</td>\n",
       "      <td>2015-09-10 00:00:00</td>\n",
       "      <td>14:21</td>\n",
       "      <td>861.0</td>\n",
       "      <td>1761.0</td>\n",
       "      <td>3561.0</td>\n",
       "      <td>Half1</td>\n",
       "      <td>0</td>\n",
       "      <td>1</td>\n",
       "      <td>NE</td>\n",
       "      <td>PIT</td>\n",
       "      <td>PIT</td>\n",
       "      <td>away</td>\n",
       "      <td>NE</td>\n",
       "      <td>PIT</td>\n",
       "      <td>62.0</td>\n",
       "      <td>1</td>\n",
       "      <td>0</td>\n",
       "      <td>1.0</td>\n",
       "      <td>0.0</td>\n",
       "      <td>PIT 38</td>\n",
       "      <td>10</td>\n",
       "      <td>31</td>\n",
       "      <td>(14:21) B.Roethlisberger pass short right to A...</td>\n",
       "      <td>pass</td>\n",
       "      <td>9.0</td>\n",
       "      <td>short</td>\n",
       "      <td>-4.0</td>\n",
       "      <td>13.0</td>\n",
       "      <td>NaN</td>\n",
       "      <td>NaN</td>\n",
       "      <td>NaN</td>\n",
       "      <td>NaN</td>\n",
       "      <td>NaN</td>\n",
       "      <td>0</td>\n",
       "      <td>0</td>\n",
       "      <td>0.0</td>\n",
       "      <td>0.0</td>\n",
       "      <td>0.0</td>\n",
       "      <td>0.0</td>\n",
       "      <td>0.0</td>\n",
       "      <td>0.0</td>\n",
       "      <td>0.0</td>\n",
       "      <td>0.0</td>\n",
       "      <td>0.0</td>\n",
       "      <td>0.0</td>\n",
       "      <td>0.0</td>\n",
       "      <td>1.0</td>\n",
       "      <td>2015-09-10 20:40:00</td>\n",
       "      <td>2015.0</td>\n",
       "      <td>0 days 00:01:57.000000000</td>\n",
       "      <td>2015-09-10 20:41:57</td>\n",
       "      <td>2015-09-10 20:41:57</td>\n",
       "      <td>2015-09-10 21:00:00</td>\n",
       "      <td>1010.6</td>\n",
       "      <td>Foxborough</td>\n",
       "      <td>16.1</td>\n",
       "      <td>FieldTurf CORE</td>\n",
       "      <td>87.0</td>\n",
       "      <td>0.3</td>\n",
       "      <td>Open</td>\n",
       "      <td>NE</td>\n",
       "      <td>18.3</td>\n",
       "      <td>2015-09-10 21:00:00</td>\n",
       "      <td>2015-09-11 01:00:00</td>\n",
       "      <td>NaN</td>\n",
       "      <td>30.0</td>\n",
       "      <td>20.5</td>\n",
       "      <td>0</td>\n",
       "      <td>PIT @ NE 2015-09-10</td>\n",
       "      <td>0</td>\n",
       "      <td>0</td>\n",
       "      <td>0</td>\n",
       "      <td>0</td>\n",
       "      <td>0</td>\n",
       "      <td>0</td>\n",
       "      <td>0</td>\n",
       "      <td>0</td>\n",
       "      <td>0</td>\n",
       "      <td>0</td>\n",
       "      <td>0</td>\n",
       "      <td>0</td>\n",
       "      <td>0</td>\n",
       "      <td>0</td>\n",
       "      <td>0</td>\n",
       "      <td>0</td>\n",
       "      <td>0</td>\n",
       "      <td>0</td>\n",
       "      <td>0</td>\n",
       "      <td>0</td>\n",
       "      <td>0</td>\n",
       "      <td>0</td>\n",
       "      <td>0</td>\n",
       "      <td>H</td>\n",
       "      <td>0</td>\n",
       "      <td>0</td>\n",
       "      <td>0</td>\n",
       "      <td>0</td>\n",
       "      <td>0</td>\n",
       "      <td>A</td>\n",
       "      <td>0</td>\n",
       "      <td>0</td>\n",
       "      <td>0</td>\n",
       "      <td>0</td>\n",
       "      <td>0</td>\n",
       "      <td>1</td>\n",
       "    </tr>\n",
       "  </tbody>\n",
       "</table>\n",
       "</div>"
      ],
      "text/plain": [
       "          index     game_id            game_date   time  \\\n",
       "play_id                                                   \n",
       "36       270409  2015091000  2015-09-10 00:00:00  15:00   \n",
       "51       270410  2015091000  2015-09-10 00:00:00  15:00   \n",
       "72       270411  2015091000  2015-09-10 00:00:00  14:21   \n",
       "\n",
       "         quarter_seconds_remaining  half_seconds_remaining  \\\n",
       "play_id                                                      \n",
       "36                           900.0                  1800.0   \n",
       "51                           900.0                  1800.0   \n",
       "72                           861.0                  1761.0   \n",
       "\n",
       "         game_seconds_remaining game_half  quarter_end  qtr home_team  \\\n",
       "play_id                                                                 \n",
       "36                       3600.0     Half1            0    1        NE   \n",
       "51                       3600.0     Half1            0    1        NE   \n",
       "72                       3561.0     Half1            0    1        NE   \n",
       "\n",
       "        away_team posteam posteam_type defteam side_of_field  yardline_100  \\\n",
       "play_id                                                                      \n",
       "36            PIT     PIT         away      NE            NE          35.0   \n",
       "51            PIT     PIT         away      NE           PIT          80.0   \n",
       "72            PIT     PIT         away      NE           PIT          62.0   \n",
       "\n",
       "         drive  sp  down  goal_to_go   yrdln  ydstogo  ydsnet  \\\n",
       "play_id                                                         \n",
       "36           1   0   NaN         0.0   NE 35        0       0   \n",
       "51           1   0   1.0         0.0  PIT 20       10      18   \n",
       "72           1   0   1.0         0.0  PIT 38       10      31   \n",
       "\n",
       "                                                      desc play_type  \\\n",
       "play_id                                                                \n",
       "36       S.Gostkowski kicks 65 yards from NE 35 to end ...   kickoff   \n",
       "51       (15:00) De.Williams right tackle to PIT 38 for...       run   \n",
       "72       (14:21) B.Roethlisberger pass short right to A...      pass   \n",
       "\n",
       "         yards_gained pass_length  air_yards  yards_after_catch  \\\n",
       "play_id                                                           \n",
       "36                0.0           0        0.0                0.0   \n",
       "51               18.0           0        0.0                0.0   \n",
       "72                9.0       short       -4.0               13.0   \n",
       "\n",
       "        field_goal_result  kick_distance extra_point_result  \\\n",
       "play_id                                                       \n",
       "36                    NaN            NaN                NaN   \n",
       "51                    NaN            NaN                NaN   \n",
       "72                    NaN            NaN                NaN   \n",
       "\n",
       "        two_point_conv_result td_team  total_home_score  total_away_score  \\\n",
       "play_id                                                                     \n",
       "36                        NaN     NaN                 0                 0   \n",
       "51                        NaN     NaN                 0                 0   \n",
       "72                        NaN     NaN                 0                 0   \n",
       "\n",
       "         posteam_score  defteam_score  sack  touchdown  pass_touchdown  \\\n",
       "play_id                                                                  \n",
       "36                 0.0            0.0   0.0        0.0             0.0   \n",
       "51                 0.0            0.0   0.0        0.0             0.0   \n",
       "72                 0.0            0.0   0.0        0.0             0.0   \n",
       "\n",
       "         rush_touchdown  return_touchdown  extra_point_attempt  \\\n",
       "play_id                                                          \n",
       "36                  0.0               0.0                  0.0   \n",
       "51                  0.0               0.0                  0.0   \n",
       "72                  0.0               0.0                  0.0   \n",
       "\n",
       "         two_point_attempt  field_goal_attempt  fumble  complete_pass  \\\n",
       "play_id                                                                 \n",
       "36                     0.0                 0.0     0.0            0.0   \n",
       "51                     0.0                 0.0     0.0            0.0   \n",
       "72                     0.0                 0.0     0.0            1.0   \n",
       "\n",
       "                  Start_Time    year                       diff  \\\n",
       "play_id                                                           \n",
       "36       2015-09-10 20:40:00  2015.0  0 days 00:00:00.000000000   \n",
       "51       2015-09-10 20:40:00  2015.0  0 days 00:00:00.000000000   \n",
       "72       2015-09-10 20:40:00  2015.0  0 days 00:01:57.000000000   \n",
       "\n",
       "              Estimated_Time Estimated Time (EST)       Estimated_Hour  \\\n",
       "play_id                                                                  \n",
       "36       2015-09-10 20:40:00  2015-09-10 20:40:00  2015-09-10 21:00:00   \n",
       "51       2015-09-10 20:40:00  2015-09-10 20:40:00  2015-09-10 21:00:00   \n",
       "72       2015-09-10 20:41:57  2015-09-10 20:41:57  2015-09-10 21:00:00   \n",
       "\n",
       "         Air Pressure (hPa)        City  Dewpoint (°C)           Field  \\\n",
       "play_id                                                                  \n",
       "36                   1010.6  Foxborough           16.1  FieldTurf CORE   \n",
       "51                   1010.6  Foxborough           16.1  FieldTurf CORE   \n",
       "72                   1010.6  Foxborough           16.1  FieldTurf CORE   \n",
       "\n",
       "         Humidity (%)  Precipitation (mm)  Roof Team Abbreviation  \\\n",
       "play_id                                                             \n",
       "36               87.0                 0.3  Open                NE   \n",
       "51               87.0                 0.3  Open                NE   \n",
       "72               87.0                 0.3  Open                NE   \n",
       "\n",
       "         Temperature (°C)           Time (EST)           Time (GMT)  \\\n",
       "play_id                                                               \n",
       "36                   18.3  2015-09-10 21:00:00  2015-09-11 01:00:00   \n",
       "51                   18.3  2015-09-10 21:00:00  2015-09-11 01:00:00   \n",
       "72                   18.3  2015-09-10 21:00:00  2015-09-11 01:00:00   \n",
       "\n",
       "         Unnamed: 0_y  Wind Direction (deg)  Wind Speed (km/h)  added_time  \\\n",
       "play_id                                                                      \n",
       "36                NaN                  30.0               20.5           0   \n",
       "51                NaN                  30.0               20.5           0   \n",
       "72                NaN                  30.0               20.5           0   \n",
       "\n",
       "                   game_name  end_of_drive  end_of_game  INT ARI ATL BAL BUF  \\\n",
       "play_id                                                                        \n",
       "36       PIT @ NE 2015-09-10             0            0    0   0   0   0   0   \n",
       "51       PIT @ NE 2015-09-10             0            0    0   0   0   0   0   \n",
       "72       PIT @ NE 2015-09-10             0            0    0   0   0   0   0   \n",
       "\n",
       "        CAR CHI CIN CLE DAL DEN DET GB HOU IND JAX KC LA LAC MIA MIN NE NO  \\\n",
       "play_id                                                                      \n",
       "36        0   0   0   0   0   0   0  0   0   0   0  0  0   0   0   0  H  0   \n",
       "51        0   0   0   0   0   0   0  0   0   0   0  0  0   0   0   0  H  0   \n",
       "72        0   0   0   0   0   0   0  0   0   0   0  0  0   0   0   0  H  0   \n",
       "\n",
       "        NYG NYJ OAK PHI PIT SEA SF TB TEN WAS  week  \n",
       "play_id                                              \n",
       "36        0   0   0   0   A   0  0  0   0   0     1  \n",
       "51        0   0   0   0   A   0  0  0   0   0     1  \n",
       "72        0   0   0   0   A   0  0  0   0   0     1  "
      ]
     },
     "execution_count": 29,
     "metadata": {},
     "output_type": "execute_result"
    }
   ],
   "source": [
    "nfl_small2_end_of_drive.head(3)"
   ]
  },
  {
   "cell_type": "code",
   "execution_count": 30,
   "metadata": {},
   "outputs": [],
   "source": [
    "from plotly.subplots import make_subplots"
   ]
  },
  {
   "cell_type": "code",
   "execution_count": 31,
   "metadata": {},
   "outputs": [
    {
     "data": {
      "application/vnd.plotly.v1+json": {
       "config": {
        "plotlyServerURL": "https://plot.ly"
       },
       "data": [
        {
         "line": {
          "color": "black"
         },
         "mode": "lines",
         "name": "ARI",
         "type": "scatter",
         "x": [
          1,
          2,
          3,
          4,
          5,
          6,
          7,
          8,
          9,
          10,
          11,
          12,
          13,
          14,
          15,
          16
         ],
         "xaxis": "x",
         "y": [
          427,
          300,
          446,
          447,
          345,
          469,
          414,
          491,
          451,
          383,
          337,
          524,
          393,
          493,
          381,
          232
         ],
         "yaxis": "y"
        },
        {
         "line": {
          "color": "red"
         },
         "mode": "lines",
         "name": "ARI",
         "type": "scatter",
         "x": [
          1,
          2,
          3,
          4,
          5,
          6,
          7,
          9,
          10,
          11,
          12,
          13,
          14,
          15,
          16
         ],
         "xaxis": "x",
         "y": [
          344,
          416,
          348,
          420,
          288,
          839,
          340,
          443,
          290,
          332,
          369,
          302,
          425,
          370,
          344
         ],
         "yaxis": "y"
        },
        {
         "line": {
          "color": "green"
         },
         "mode": "lines",
         "name": "ARI",
         "type": "scatter",
         "x": [
          1,
          2,
          3,
          4,
          5,
          7,
          9,
          10,
          11,
          12,
          13,
          14,
          15,
          16
         ],
         "xaxis": "x",
         "y": [
          309,
          389,
          332,
          358,
          739,
          193,
          657,
          292,
          346,
          312,
          261,
          286,
          289,
          259
         ],
         "yaxis": "y"
        },
        {
         "line": {
          "color": "blue"
         },
         "mode": "lines",
         "name": "ARI",
         "type": "scatter",
         "x": [
          1,
          2,
          3,
          4,
          5,
          6,
          7,
          8,
          10,
          11,
          12,
          13,
          14
         ],
         "xaxis": "x",
         "y": [
          213,
          137,
          221,
          263,
          220,
          269,
          223,
          323,
          802,
          149,
          315,
          279,
          253
         ],
         "yaxis": "y"
        },
        {
         "line": {
          "color": "black"
         },
         "mode": "lines",
         "name": "ATL",
         "type": "scatter",
         "x": [
          1,
          2,
          3,
          4,
          5,
          6,
          7,
          9,
          10,
          11,
          12,
          13,
          14,
          15,
          16
         ],
         "xaxis": "x2",
         "y": [
          395,
          402,
          440,
          378,
          418,
          791,
          496,
          302,
          375,
          329,
          319,
          230,
          328,
          373,
          419
         ],
         "yaxis": "y2"
        },
        {
         "line": {
          "color": "red"
         },
         "mode": "lines",
         "name": "ATL",
         "type": "scatter",
         "x": [
          1,
          2,
          3,
          4,
          5,
          7,
          8,
          9,
          11,
          12,
          13,
          14,
          15,
          16
         ],
         "xaxis": "x2",
         "y": [
          376,
          530,
          442,
          571,
          734,
          753,
          461,
          303,
          360,
          418,
          286,
          550,
          408,
          465
         ],
         "yaxis": "y2"
        },
        {
         "line": {
          "color": "green"
         },
         "mode": "lines",
         "name": "ATL",
         "type": "scatter",
         "x": [
          1,
          2,
          3,
          4,
          5,
          7,
          8,
          9,
          10,
          11,
          12,
          13,
          14,
          15,
          16
         ],
         "xaxis": "x2",
         "y": [
          372,
          364,
          428,
          391,
          339,
          343,
          386,
          691,
          279,
          516,
          275,
          343,
          410,
          331,
          371
         ],
         "yaxis": "y2"
        },
        {
         "line": {
          "color": "blue"
         },
         "mode": "lines",
         "name": "ATL",
         "type": "scatter",
         "x": [
          1,
          2,
          3,
          4,
          5,
          7,
          8,
          10,
          11,
          12,
          13,
          14
         ],
         "xaxis": "x2",
         "y": [
          299,
          442,
          411,
          495,
          740,
          423,
          491,
          1118,
          366,
          131,
          344,
          435
         ],
         "yaxis": "y2"
        },
        {
         "line": {
          "color": "black"
         },
         "mode": "lines",
         "name": "BAL",
         "type": "scatter",
         "x": [
          1,
          2,
          3,
          4,
          5,
          6,
          7,
          8,
          9,
          10,
          11,
          12,
          13,
          14,
          15,
          16
         ],
         "xaxis": "x3",
         "y": [
          173,
          493,
          411,
          356,
          377,
          420,
          278,
          365,
          397,
          388,
          336,
          375,
          302,
          366,
          386,
          341
         ],
         "yaxis": "y3"
        },
        {
         "line": {
          "color": "red"
         },
         "mode": "lines",
         "name": "BAL",
         "type": "scatter",
         "x": [
          1,
          2,
          3,
          4,
          5,
          6,
          7,
          8,
          10,
          11,
          12,
          13,
          14,
          15,
          16
         ],
         "xaxis": "x3",
         "y": [
          308,
          382,
          283,
          414,
          306,
          391,
          245,
          274,
          766,
          311,
          496,
          348,
          340,
          370,
          335
         ],
         "yaxis": "y3"
        },
        {
         "line": {
          "color": "green"
         },
         "mode": "lines",
         "name": "BAL",
         "type": "scatter",
         "x": [
          1,
          2,
          3,
          4,
          5,
          6,
          7,
          8,
          10,
          11,
          12,
          13,
          14,
          15,
          16
         ],
         "xaxis": "x3",
         "y": [
          268,
          337,
          186,
          288,
          365,
          291,
          503,
          341,
          219,
          294,
          370,
          413,
          376,
          323,
          312
         ],
         "yaxis": "y3"
        },
        {
         "line": {
          "color": "blue"
         },
         "mode": "lines",
         "name": "BAL",
         "type": "scatter",
         "x": [
          1,
          2,
          3,
          4,
          5,
          6,
          7,
          8,
          10,
          11,
          12,
          13,
          14
         ],
         "xaxis": "x3",
         "y": [
          369,
          425,
          342,
          451,
          410,
          712,
          325,
          265,
          400,
          416,
          366,
          321,
          370
         ],
         "yaxis": "y3"
        },
        {
         "line": {
          "color": "black"
         },
         "mode": "lines",
         "name": "BUF",
         "type": "scatter",
         "x": [
          1,
          2,
          3,
          4,
          6,
          7,
          8,
          9,
          10,
          11,
          12,
          13,
          14,
          15,
          16
         ],
         "xaxis": "x4",
         "y": [
          342,
          349,
          428,
          522,
          368,
          377,
          420,
          280,
          319,
          415,
          390,
          412,
          454,
          408,
          295
         ],
         "yaxis": "y4"
        },
        {
         "line": {
          "color": "red"
         },
         "mode": "lines",
         "name": "BUF",
         "type": "scatter",
         "x": [
          1,
          2,
          3,
          4,
          5,
          6,
          7,
          8,
          10,
          11,
          12,
          13,
          15,
          16
         ],
         "xaxis": "x4",
         "y": [
          160,
          393,
          296,
          378,
          305,
          491,
          269,
          805,
          342,
          306,
          382,
          726,
          589,
          230
         ],
         "yaxis": "y4"
        },
        {
         "line": {
          "color": "green"
         },
         "mode": "lines",
         "name": "BUF",
         "type": "scatter",
         "x": [
          1,
          2,
          3,
          4,
          5,
          6,
          8,
          9,
          10,
          11,
          12,
          13,
          14,
          15,
          16
         ],
         "xaxis": "x4",
         "y": [
          408,
          176,
          272,
          281,
          221,
          434,
          331,
          505,
          393,
          268,
          268,
          319,
          329,
          326,
          312
         ],
         "yaxis": "y4"
        },
        {
         "line": {
          "color": "blue"
         },
         "mode": "lines",
         "name": "BUF",
         "type": "scatter",
         "x": [
          1,
          2,
          3,
          4,
          5,
          6,
          7,
          8,
          10,
          11,
          12,
          13,
          14
         ],
         "xaxis": "x4",
         "y": [
          153,
          293,
          292,
          145,
          223,
          229,
          303,
          597,
          902,
          327,
          417,
          368,
          312
         ],
         "yaxis": "y4"
        },
        {
         "line": {
          "color": "black"
         },
         "mode": "lines",
         "name": "CAR",
         "type": "scatter",
         "x": [
          1,
          2,
          3,
          4,
          6,
          7,
          8,
          9,
          10,
          11,
          12,
          13,
          14,
          15,
          16
         ],
         "xaxis": "x5",
         "y": [
          263,
          350,
          431,
          244,
          383,
          394,
          806,
          303,
          368,
          294,
          497,
          424,
          480,
          268,
          366
         ],
         "yaxis": "y5"
        },
        {
         "line": {
          "color": "red"
         },
         "mode": "lines",
         "name": "CAR",
         "type": "scatter",
         "x": [
          1,
          2,
          3,
          4,
          5,
          7,
          8,
          9,
          10,
          11,
          12,
          13,
          14,
          15,
          16
         ],
         "xaxis": "x5",
         "y": [
          333,
          529,
          306,
          382,
          822,
          349,
          244,
          341,
          223,
          358,
          271,
          272,
          438,
          302,
          335
         ],
         "yaxis": "y5"
        },
        {
         "line": {
          "color": "green"
         },
         "mode": "lines",
         "name": "CAR",
         "type": "scatter",
         "x": [
          1,
          2,
          3,
          4,
          5,
          6,
          7,
          9,
          11,
          12,
          13,
          14,
          15,
          16
         ],
         "xaxis": "x5",
         "y": [
          287,
          255,
          288,
          444,
          362,
          305,
          547,
          878,
          299,
          279,
          345,
          387,
          255,
          248
         ],
         "yaxis": "y5"
        },
        {
         "line": {
          "color": "blue"
         },
         "mode": "lines",
         "name": "CAR",
         "type": "scatter",
         "x": [
          1,
          2,
          3,
          5,
          7,
          8,
          9,
          10,
          11,
          12,
          13,
          14
         ],
         "xaxis": "x5",
         "y": [
          293,
          439,
          377,
          702,
          759,
          407,
          242,
          629,
          476,
          444,
          393,
          247
         ],
         "yaxis": "y5"
        },
        {
         "line": {
          "color": "black"
         },
         "mode": "lines",
         "name": "CHI",
         "type": "scatter",
         "x": [
          1,
          2,
          3,
          4,
          5,
          6,
          7,
          9,
          10,
          11,
          12,
          13,
          14,
          15,
          16
         ],
         "xaxis": "x6",
         "y": [
          402,
          335,
          146,
          371,
          328,
          446,
          305,
          845,
          347,
          290,
          364,
          377,
          293,
          327,
          342
         ],
         "yaxis": "y6"
        },
        {
         "line": {
          "color": "red"
         },
         "mode": "lines",
         "name": "CHI",
         "type": "scatter",
         "x": [
          1,
          2,
          3,
          4,
          5,
          6,
          7,
          9,
          10,
          12,
          13,
          14,
          15,
          16
         ],
         "xaxis": "x6",
         "y": [
          258,
          284,
          390,
          408,
          911,
          189,
          403,
          283,
          315,
          903,
          296,
          449,
          458,
          323
         ],
         "yaxis": "y6"
        },
        {
         "line": {
          "color": "green"
         },
         "mode": "lines",
         "name": "CHI",
         "type": "scatter",
         "x": [
          1,
          3,
          4,
          5,
          6,
          7,
          9,
          10,
          11,
          12,
          13,
          14,
          15,
          16
         ],
         "xaxis": "x6",
         "y": [
          611,
          304,
          308,
          276,
          342,
          460,
          323,
          398,
          140,
          147,
          482,
          349,
          230,
          201
         ],
         "yaxis": "y6"
        },
        {
         "line": {
          "color": "blue"
         },
         "mode": "lines",
         "name": "CHI",
         "type": "scatter",
         "x": [
          1,
          2,
          3,
          4,
          6,
          7,
          8,
          9,
          10,
          11,
          12,
          13,
          14
         ],
         "xaxis": "x6",
         "y": [
          294,
          271,
          316,
          483,
          467,
          453,
          585,
          404,
          714,
          264,
          376,
          294,
          332
         ],
         "yaxis": "y6"
        },
        {
         "line": {
          "color": "black"
         },
         "mode": "lines",
         "name": "CIN",
         "type": "scatter",
         "x": [
          1,
          2,
          3,
          4,
          5,
          6,
          8,
          9,
          10,
          11,
          12,
          13,
          14,
          15,
          16
         ],
         "xaxis": "x7",
         "y": [
          396,
          389,
          458,
          447,
          419,
          355,
          296,
          627,
          377,
          376,
          377,
          385,
          242,
          294,
          292
         ],
         "yaxis": "y7"
        },
        {
         "line": {
          "color": "red"
         },
         "mode": "lines",
         "name": "CIN",
         "type": "scatter",
         "x": [
          1,
          2,
          3,
          4,
          5,
          6,
          7,
          8,
          9,
          10,
          11,
          12,
          14,
          15,
          16
         ],
         "xaxis": "x7",
         "y": [
          381,
          412,
          332,
          362,
          345,
          357,
          559,
          415,
          264,
          300,
          325,
          772,
          222,
          294,
          371
         ],
         "yaxis": "y7"
        },
        {
         "line": {
          "color": "green"
         },
         "mode": "lines",
         "name": "CIN",
         "type": "scatter",
         "x": [
          1,
          2,
          3,
          4,
          5,
          7,
          8,
          9,
          10,
          11,
          12,
          13,
          14,
          15,
          16
         ],
         "xaxis": "x7",
         "y": [
          221,
          295,
          301,
          350,
          384,
          179,
          424,
          308,
          190,
          361,
          353,
          234,
          161,
          364,
          359
         ],
         "yaxis": "y7"
        },
        {
         "line": {
          "color": "blue"
         },
         "mode": "lines",
         "name": "CIN",
         "type": "scatter",
         "x": [
          1,
          2,
          3,
          4,
          5,
          6,
          7,
          9,
          10,
          11,
          12,
          13,
          14
         ],
         "xaxis": "x7",
         "y": [
          330,
          373,
          396,
          407,
          332,
          275,
          641,
          284,
          539,
          372,
          313,
          295,
          294
         ],
         "yaxis": "y7"
        },
        {
         "line": {
          "color": "black"
         },
         "mode": "lines",
         "name": "CLE",
         "type": "scatter",
         "x": [
          1,
          2,
          3,
          4,
          5,
          6,
          8,
          9,
          10,
          11,
          12,
          13,
          14,
          15,
          16
         ],
         "xaxis": "x8",
         "y": [
          321,
          276,
          355,
          434,
          507,
          662,
          254,
          213,
          342,
          338,
          273,
          481,
          230,
          368,
          263
         ],
         "yaxis": "y8"
        },
        {
         "line": {
          "color": "red"
         },
         "mode": "lines",
         "name": "CLE",
         "type": "scatter",
         "x": [
          1,
          2,
          3,
          4,
          5,
          6,
          7,
          8,
          10,
          12,
          13,
          15,
          16
         ],
         "xaxis": "x8",
         "y": [
          288,
          387,
          432,
          380,
          262,
          341,
          352,
          631,
          353,
          254,
          269,
          251,
          437
         ],
         "yaxis": "y8"
        },
        {
         "line": {
          "color": "green"
         },
         "mode": "lines",
         "name": "CLE",
         "type": "scatter",
         "x": [
          1,
          2,
          3,
          4,
          5,
          6,
          7,
          8,
          9,
          10,
          11,
          12,
          13,
          14,
          15,
          16
         ],
         "xaxis": "x8",
         "y": [
          239,
          386,
          346,
          215,
          419,
          247,
          284,
          276,
          413,
          184,
          405,
          291,
          345,
          266,
          253,
          374
         ],
         "yaxis": "y8"
        },
        {
         "line": {
          "color": "blue"
         },
         "mode": "lines",
         "name": "CLE",
         "type": "scatter",
         "x": [
          1,
          2,
          3,
          4,
          5,
          6,
          7,
          9,
          10,
          11,
          12,
          13,
          14
         ],
         "xaxis": "x8",
         "y": [
          327,
          327,
          325,
          491,
          416,
          624,
          237,
          388,
          854,
          342,
          428,
          348,
          309
         ],
         "yaxis": "y8"
        },
        {
         "line": {
          "color": "black"
         },
         "mode": "lines",
         "name": "DAL",
         "type": "scatter",
         "x": [
          1,
          2,
          3,
          4,
          7,
          8,
          9,
          10,
          11,
          12,
          13,
          14,
          15,
          16
         ],
         "xaxis": "x9",
         "y": [
          436,
          359,
          347,
          599,
          460,
          631,
          216,
          386,
          212,
          317,
          270,
          309,
          307,
          512
         ],
         "yaxis": "y9"
        },
        {
         "line": {
          "color": "red"
         },
         "mode": "lines",
         "name": "DAL",
         "type": "scatter",
         "x": [
          1,
          2,
          3,
          4,
          5,
          7,
          8,
          9,
          10,
          11,
          12,
          14,
          15,
          16
         ],
         "xaxis": "x9",
         "y": [
          328,
          380,
          447,
          428,
          826,
          460,
          423,
          422,
          417,
          353,
          524,
          449,
          375,
          195
         ],
         "yaxis": "y9"
        },
        {
         "line": {
          "color": "green"
         },
         "mode": "lines",
         "name": "DAL",
         "type": "scatter",
         "x": [
          1,
          2,
          3,
          4,
          5,
          7,
          9,
          10,
          11,
          12,
          13,
          14,
          15,
          16
         ],
         "xaxis": "x9",
         "y": [
          392,
          268,
          273,
          440,
          408,
          808,
          608,
          225,
          247,
          275,
          454,
          330,
          283,
          301
         ],
         "yaxis": "y9"
        },
        {
         "line": {
          "color": "blue"
         },
         "mode": "lines",
         "name": "DAL",
         "type": "scatter",
         "x": [
          1,
          2,
          3,
          4,
          5,
          6,
          8,
          9,
          10,
          11,
          12,
          13,
          14
         ],
         "xaxis": "x9",
         "y": [
          234,
          298,
          303,
          414,
          292,
          701,
          297,
          410,
          733,
          404,
          308,
          576,
          292
         ],
         "yaxis": "y9"
        },
        {
         "line": {
          "color": "black"
         },
         "mode": "lines",
         "name": "DEN",
         "type": "scatter",
         "x": [
          1,
          2,
          3,
          4,
          5,
          6,
          7,
          9,
          10,
          11,
          12,
          13,
          14,
          15,
          16
         ],
         "xaxis": "x10",
         "y": [
          219,
          299,
          354,
          344,
          297,
          442,
          500,
          530,
          389,
          433,
          293,
          310,
          385,
          390,
          503
         ],
         "yaxis": "y10"
        },
        {
         "line": {
          "color": "red"
         },
         "mode": "lines",
         "name": "DEN",
         "type": "scatter",
         "x": [
          1,
          2,
          3,
          4,
          5,
          6,
          7,
          8,
          9,
          11,
          12,
          13,
          14,
          15,
          16
         ],
         "xaxis": "x10",
         "y": [
          307,
          400,
          355,
          307,
          267,
          304,
          347,
          324,
          636,
          464,
          206,
          348,
          309,
          246,
          349
         ],
         "yaxis": "y10"
        },
        {
         "line": {
          "color": "green"
         },
         "mode": "lines",
         "name": "DEN",
         "type": "scatter",
         "x": [
          1,
          2,
          3,
          4,
          6,
          7,
          8,
          9,
          10,
          11,
          12,
          13,
          14,
          15,
          16
         ],
         "xaxis": "x10",
         "y": [
          321,
          379,
          366,
          298,
          412,
          251,
          364,
          565,
          341,
          219,
          270,
          273,
          464,
          332,
          336
         ],
         "yaxis": "y10"
        },
        {
         "line": {
          "color": "blue"
         },
         "mode": "lines",
         "name": "DEN",
         "type": "scatter",
         "x": [
          1,
          2,
          3,
          4,
          5,
          6,
          7,
          8,
          9,
          10,
          11,
          12,
          13,
          14
         ],
         "xaxis": "x10",
         "y": [
          470,
          385,
          293,
          385,
          436,
          357,
          309,
          411,
          348,
          325,
          308,
          361,
          274,
          270
         ],
         "yaxis": "y10"
        },
        {
         "line": {
          "color": "black"
         },
         "mode": "lines",
         "name": "DET",
         "type": "scatter",
         "x": [
          1,
          2,
          3,
          4,
          5,
          6,
          8,
          9,
          10,
          11,
          12,
          13,
          14,
          15,
          16
         ],
         "xaxis": "x11",
         "y": [
          302,
          323,
          290,
          256,
          436,
          820,
          276,
          287,
          375,
          430,
          306,
          331,
          396,
          371,
          349
         ],
         "yaxis": "y11"
        },
        {
         "line": {
          "color": "red"
         },
         "mode": "lines",
         "name": "DET",
         "type": "scatter",
         "x": [
          1,
          2,
          3,
          4,
          6,
          7,
          8,
          10,
          11,
          12,
          13,
          15,
          16
         ],
         "xaxis": "x11",
         "y": [
          448,
          375,
          418,
          507,
          348,
          344,
          600,
          277,
          308,
          422,
          647,
          319,
          408
         ],
         "yaxis": "y11"
        },
        {
         "line": {
          "color": "green"
         },
         "mode": "lines",
         "name": "DET",
         "type": "scatter",
         "x": [
          1,
          2,
          3,
          4,
          5,
          8,
          9,
          10,
          11,
          12,
          13,
          14,
          15,
          16
         ],
         "xaxis": "x11",
         "y": [
          367,
          257,
          324,
          253,
          589,
          899,
          345,
          352,
          289,
          372,
          434,
          293,
          276,
          358
         ],
         "yaxis": "y11"
        },
        {
         "line": {
          "color": "blue"
         },
         "mode": "lines",
         "name": "DET",
         "type": "scatter",
         "x": [
          1,
          2,
          3,
          4,
          5,
          7,
          9,
          10,
          11,
          12,
          13,
          14
         ],
         "xaxis": "x11",
         "y": [
          339,
          427,
          414,
          382,
          264,
          788,
          514,
          614,
          333,
          310,
          218,
          313
         ],
         "yaxis": "y11"
        },
        {
         "line": {
          "color": "black"
         },
         "mode": "lines",
         "name": "GB",
         "type": "scatter",
         "x": [
          1,
          2,
          3,
          4,
          5,
          6,
          7,
          8,
          9,
          10,
          11,
          12,
          13,
          14,
          15,
          16
         ],
         "xaxis": "x12",
         "y": [
          322,
          363,
          448,
          362,
          322,
          370,
          140,
          404,
          372,
          322,
          365,
          313,
          435,
          293,
          180,
          350
         ],
         "yaxis": "y12"
        },
        {
         "line": {
          "color": "red"
         },
         "mode": "lines",
         "name": "GB",
         "type": "scatter",
         "x": [
          1,
          2,
          3,
          5,
          6,
          7,
          9,
          10,
          11,
          12,
          13,
          14,
          15,
          16
         ],
         "xaxis": "x12",
         "y": [
          294,
          263,
          324,
          778,
          406,
          333,
          405,
          826,
          387,
          309,
          330,
          451,
          348,
          450
         ],
         "yaxis": "y12"
        },
        {
         "line": {
          "color": "green"
         },
         "mode": "lines",
         "name": "GB",
         "type": "scatter",
         "x": [
          1,
          2,
          3,
          4,
          5,
          6,
          8,
          9,
          10,
          11,
          12,
          13,
          14,
          15,
          16
         ],
         "xaxis": "x12",
         "y": [
          370,
          367,
          344,
          256,
          342,
          487,
          311,
          342,
          265,
          307,
          276,
          341,
          384,
          239,
          258
         ],
         "yaxis": "y12"
        },
        {
         "line": {
          "color": "blue"
         },
         "mode": "lines",
         "name": "GB",
         "type": "scatter",
         "x": [
          1,
          2,
          3,
          4,
          5,
          6,
          8,
          9,
          10,
          11,
          12,
          13,
          14
         ],
         "xaxis": "x12",
         "y": [
          370,
          351,
          340,
          423,
          523,
          521,
          359,
          368,
          1113,
          254,
          325,
          300,
          325
         ],
         "yaxis": "y12"
        },
        {
         "line": {
          "color": "black"
         },
         "mode": "lines",
         "name": "HOU",
         "type": "scatter",
         "x": [
          1,
          2,
          3,
          4,
          5,
          6,
          7,
          9,
          10,
          11,
          12,
          13,
          14,
          15,
          16
         ],
         "xaxis": "x13",
         "y": [
          398,
          300,
          413,
          428,
          444,
          704,
          270,
          256,
          364,
          362,
          403,
          189,
          305,
          330,
          402
         ],
         "yaxis": "y13"
        },
        {
         "line": {
          "color": "red"
         },
         "mode": "lines",
         "name": "HOU",
         "type": "scatter",
         "x": [
          1,
          2,
          3,
          4,
          5,
          6,
          7,
          8,
          9,
          10,
          11,
          12,
          13,
          14,
          15,
          16
         ],
         "xaxis": "x13",
         "y": [
          344,
          351,
          284,
          359,
          214,
          414,
          271,
          269,
          273,
          354,
          353,
          307,
          316,
          389,
          250,
          289
         ],
         "yaxis": "y13"
        },
        {
         "line": {
          "color": "green"
         },
         "mode": "lines",
         "name": "HOU",
         "type": "scatter",
         "x": [
          1,
          2,
          3,
          4,
          5,
          6,
          7,
          9,
          10,
          11,
          12,
          13,
          14,
          15,
          16
         ],
         "xaxis": "x13",
         "y": [
          203,
          266,
          417,
          445,
          394,
          342,
          509,
          571,
          357,
          303,
          384,
          311,
          186,
          227,
          209
         ],
         "yaxis": "y13"
        },
        {
         "line": {
          "color": "blue"
         },
         "mode": "lines",
         "name": "HOU",
         "type": "scatter",
         "x": [
          1,
          2,
          3,
          4,
          5,
          6,
          7,
          8,
          9,
          10,
          11,
          12,
          13,
          14
         ],
         "xaxis": "x13",
         "y": [
          325,
          437,
          427,
          466,
          462,
          216,
          272,
          427,
          290,
          320,
          462,
          384,
          315,
          286
         ],
         "yaxis": "y13"
        },
        {
         "line": {
          "color": "black"
         },
         "mode": "lines",
         "name": "IND",
         "type": "scatter",
         "x": [
          1,
          2,
          3,
          4,
          5,
          7,
          8,
          9,
          10,
          11,
          12,
          13,
          14,
          15,
          16
         ],
         "xaxis": "x14",
         "y": [
          306,
          343,
          378,
          326,
          732,
          376,
          359,
          365,
          276,
          336,
          240,
          322,
          190,
          268,
          327
         ],
         "yaxis": "y14"
        },
        {
         "line": {
          "color": "red"
         },
         "mode": "lines",
         "name": "IND",
         "type": "scatter",
         "x": [
          1,
          2,
          3,
          4,
          5,
          6,
          7,
          9,
          11,
          12,
          13,
          14,
          15,
          16
         ],
         "xaxis": "x14",
         "y": [
          452,
          253,
          410,
          284,
          396,
          392,
          699,
          355,
          637,
          421,
          348,
          411,
          393,
          384
         ],
         "yaxis": "y14"
        },
        {
         "line": {
          "color": "green"
         },
         "mode": "lines",
         "name": "IND",
         "type": "scatter",
         "x": [
          1,
          2,
          3,
          4,
          5,
          6,
          7,
          8,
          9,
          11,
          12,
          13,
          14,
          15,
          16
         ],
         "xaxis": "x14",
         "y": [
          225,
          266,
          335,
          237,
          447,
          297,
          232,
          331,
          638,
          254,
          290,
          227,
          228,
          296,
          250
         ],
         "yaxis": "y14"
        },
        {
         "line": {
          "color": "blue"
         },
         "mode": "lines",
         "name": "IND",
         "type": "scatter",
         "x": [
          1,
          2,
          3,
          4,
          5,
          6,
          7,
          9,
          10,
          11,
          12,
          13,
          14
         ],
         "xaxis": "x14",
         "y": [
          380,
          281,
          209,
          480,
          439,
          428,
          841,
          368,
          765,
          455,
          265,
          436,
          370
         ],
         "yaxis": "y14"
        },
        {
         "line": {
          "color": "black"
         },
         "mode": "lines",
         "name": "JAX",
         "type": "scatter",
         "x": [
          1,
          2,
          3,
          4,
          5,
          6,
          7,
          8,
          9,
          10,
          11,
          12,
          13,
          14,
          15,
          16
         ],
         "xaxis": "x15",
         "y": [
          265,
          396,
          293,
          431,
          325,
          394,
          295,
          436,
          258,
          308,
          420,
          383,
          380,
          357,
          414,
          215
         ],
         "yaxis": "y15"
        },
        {
         "line": {
          "color": "red"
         },
         "mode": "lines",
         "name": "JAX",
         "type": "scatter",
         "x": [
          1,
          2,
          3,
          4,
          5,
          7,
          8,
          9,
          10,
          11,
          12,
          13,
          14,
          15,
          16
         ],
         "xaxis": "x15",
         "y": [
          348,
          388,
          216,
          331,
          317,
          344,
          821,
          329,
          285,
          301,
          333,
          315,
          150,
          415,
          470
         ],
         "yaxis": "y15"
        },
        {
         "line": {
          "color": "green"
         },
         "mode": "lines",
         "name": "JAX",
         "type": "scatter",
         "x": [
          1,
          2,
          3,
          4,
          5,
          6,
          7,
          8,
          9,
          10,
          11,
          12,
          13,
          14,
          15,
          16
         ],
         "xaxis": "x15",
         "y": [
          280,
          310,
          440,
          311,
          313,
          389,
          518,
          407,
          400,
          284,
          219,
          428,
          425,
          464,
          474,
          229
         ],
         "yaxis": "y15"
        },
        {
         "line": {
          "color": "blue"
         },
         "mode": "lines",
         "name": "JAX",
         "type": "scatter",
         "x": [
          1,
          2,
          3,
          4,
          5,
          6,
          7,
          8,
          9,
          10,
          11,
          12,
          13,
          14
         ],
         "xaxis": "x15",
         "y": [
          305,
          480,
          232,
          503,
          502,
          204,
          259,
          335,
          415,
          658,
          333,
          211,
          255,
          192
         ],
         "yaxis": "y15"
        },
        {
         "line": {
          "color": "black"
         },
         "mode": "lines",
         "name": "KC",
         "type": "scatter",
         "x": [
          1,
          2,
          3,
          4,
          5,
          7,
          8,
          9,
          10,
          11,
          12,
          13,
          14,
          15,
          16
         ],
         "xaxis": "x16",
         "y": [
          330,
          314,
          328,
          461,
          615,
          377,
          340,
          303,
          385,
          413,
          232,
          329,
          277,
          258,
          339
         ],
         "yaxis": "y16"
        },
        {
         "line": {
          "color": "red"
         },
         "mode": "lines",
         "name": "KC",
         "type": "scatter",
         "x": [
          1,
          2,
          3,
          4,
          6,
          7,
          8,
          9,
          10,
          11,
          12,
          13,
          14,
          15,
          16
         ],
         "xaxis": "x16",
         "y": [
          413,
          291,
          293,
          357,
          732,
          422,
          231,
          256,
          343,
          275,
          389,
          323,
          317,
          484,
          365
         ],
         "yaxis": "y16"
        },
        {
         "line": {
          "color": "green"
         },
         "mode": "lines",
         "name": "KC",
         "type": "scatter",
         "x": [
          1,
          2,
          3,
          4,
          5,
          6,
          7,
          8,
          9,
          10,
          11,
          12,
          13,
          14,
          15,
          16
         ],
         "xaxis": "x16",
         "y": [
          537,
          344,
          311,
          397,
          450,
          251,
          425,
          276,
          323,
          363,
          236,
          474,
          408,
          397,
          404,
          379
         ],
         "yaxis": "y16"
        },
        {
         "line": {
          "color": "blue"
         },
         "mode": "lines",
         "name": "KC",
         "type": "scatter",
         "x": [
          1,
          2,
          3,
          4,
          5,
          6,
          7,
          8,
          9,
          10,
          11,
          12,
          13,
          14
         ],
         "xaxis": "x16",
         "y": [
          362,
          449,
          384,
          446,
          424,
          446,
          551,
          340,
          499,
          660,
          546,
          469,
          442,
          294
         ],
         "yaxis": "y16"
        },
        {
         "line": {
          "color": "black"
         },
         "mode": "lines",
         "name": "LA",
         "type": "scatter",
         "x": [
          1,
          2,
          3,
          4,
          5,
          6,
          8,
          9,
          10,
          11,
          12,
          13,
          14,
          15,
          16
         ],
         "xaxis": "x17",
         "y": [
          352,
          213,
          258,
          328,
          334,
          308,
          710,
          285,
          213,
          345,
          212,
          317,
          319,
          207,
          364
         ],
         "yaxis": "y17"
        },
        {
         "line": {
          "color": "red"
         },
         "mode": "lines",
         "name": "LA",
         "type": "scatter",
         "x": [
          1,
          2,
          3,
          4,
          5,
          6,
          7,
          8,
          10,
          11,
          12,
          13,
          14,
          15,
          16
         ],
         "xaxis": "x17",
         "y": [
          185,
          283,
          320,
          288,
          345,
          387,
          345,
          339,
          552,
          247,
          162,
          312,
          183,
          177,
          123
         ],
         "yaxis": "y17"
        },
        {
         "line": {
          "color": "green"
         },
         "mode": "lines",
         "name": "LA",
         "type": "scatter",
         "x": [
          1,
          2,
          3,
          4,
          5,
          6,
          7,
          8,
          9,
          10,
          11,
          12,
          13,
          14,
          15,
          16
         ],
         "xaxis": "x17",
         "y": [
          372,
          332,
          418,
          412,
          375,
          249,
          425,
          473,
          443,
          254,
          415,
          303,
          307,
          352,
          402,
          251
         ],
         "yaxis": "y17"
        },
        {
         "line": {
          "color": "blue"
         },
         "mode": "lines",
         "name": "LA",
         "type": "scatter",
         "x": [
          1,
          2,
          3,
          4,
          5,
          6,
          7,
          8,
          9,
          10,
          11,
          12,
          13,
          14
         ],
         "xaxis": "x17",
         "y": [
          365,
          438,
          521,
          556,
          468,
          444,
          331,
          903,
          456,
          456,
          455,
          344,
          214,
          407
         ],
         "yaxis": "y17"
        },
        {
         "line": {
          "color": "black"
         },
         "mode": "lines",
         "name": "LAC",
         "type": "scatter",
         "x": [
          1,
          2,
          3,
          4,
          5,
          6,
          8,
          9,
          10,
          11,
          12,
          13,
          14,
          15,
          16
         ],
         "xaxis": "x18",
         "y": [
          483,
          354,
          369,
          438,
          406,
          969,
          371,
          339,
          201,
          369,
          272,
          280,
          442,
          343,
          317
         ],
         "yaxis": "y18"
        },
        {
         "line": {
          "color": "red"
         },
         "mode": "lines",
         "name": "LAC",
         "type": "scatter",
         "x": [
          1,
          2,
          3,
          4,
          5,
          6,
          7,
          8,
          9,
          11,
          12,
          13,
          14,
          15,
          16
         ],
         "xaxis": "x18",
         "y": [
          388,
          357,
          356,
          346,
          423,
          265,
          426,
          369,
          855,
          302,
          330,
          278,
          263,
          356,
          398
         ],
         "yaxis": "y18"
        },
        {
         "line": {
          "color": "green"
         },
         "mode": "lines",
         "name": "LAC",
         "type": "scatter",
         "x": [
          1,
          3,
          4,
          5,
          6,
          7,
          8,
          9,
          10,
          11,
          12,
          13,
          14,
          15,
          16
         ],
         "xaxis": "x18",
         "y": [
          616,
          330,
          400,
          382,
          343,
          242,
          349,
          322,
          429,
          515,
          429,
          488,
          307,
          379,
          495
         ],
         "yaxis": "y18"
        },
        {
         "line": {
          "color": "blue"
         },
         "mode": "lines",
         "name": "LAC",
         "type": "scatter",
         "x": [
          1,
          2,
          3,
          4,
          5,
          6,
          7,
          8,
          9,
          10,
          11,
          12,
          13,
          14
         ],
         "xaxis": "x18",
         "y": [
          545,
          349,
          356,
          370,
          412,
          449,
          344,
          375,
          335,
          814,
          414,
          373,
          288,
          409
         ],
         "yaxis": "y18"
        },
        {
         "line": {
          "color": "black"
         },
         "mode": "lines",
         "name": "MIA",
         "type": "scatter",
         "x": [
          1,
          2,
          3,
          4,
          5,
          6,
          7,
          8,
          9,
          10,
          11,
          12,
          13,
          14,
          15,
          16
         ],
         "xaxis": "x19",
         "y": [
          256,
          386,
          393,
          226,
          434,
          503,
          270,
          397,
          289,
          210,
          333,
          219,
          363,
          231,
          361,
          438
         ],
         "yaxis": "y19"
        },
        {
         "line": {
          "color": "red"
         },
         "mode": "lines",
         "name": "MIA",
         "type": "scatter",
         "x": [
          1,
          2,
          3,
          4,
          5,
          6,
          7,
          9,
          10,
          11,
          12,
          13,
          14,
          15,
          16
         ],
         "xaxis": "x19",
         "y": [
          222,
          459,
          426,
          222,
          200,
          474,
          456,
          611,
          240,
          358,
          277,
          314,
          303,
          494,
          280
         ],
         "yaxis": "y19"
        },
        {
         "line": {
          "color": "green"
         },
         "mode": "lines",
         "name": "MIA",
         "type": "scatter",
         "x": [
          1,
          3,
          4,
          5,
          7,
          9,
          10,
          11,
          12,
          13,
          14,
          15,
          16
         ],
         "xaxis": "x19",
         "y": [
          336,
          225,
          186,
          467,
          553,
          710,
          448,
          221,
          367,
          362,
          349,
          345,
          356
         ],
         "yaxis": "y19"
        },
        {
         "line": {
          "color": "blue"
         },
         "mode": "lines",
         "name": "MIA",
         "type": "scatter",
         "x": [
          1,
          2,
          3,
          4,
          5,
          6,
          7,
          8,
          9,
          10,
          11,
          12,
          13,
          14
         ],
         "xaxis": "x19",
         "y": [
          342,
          257,
          373,
          172,
          297,
          543,
          322,
          370,
          168,
          588,
          314,
          175,
          412,
          193
         ],
         "yaxis": "y19"
        },
        {
         "line": {
          "color": "black"
         },
         "mode": "lines",
         "name": "MIN",
         "type": "scatter",
         "x": [
          1,
          2,
          3,
          4,
          5,
          6,
          7,
          8,
          9,
          10,
          11,
          12,
          13,
          14,
          15,
          16
         ],
         "xaxis": "x20",
         "y": [
          248,
          350,
          284,
          325,
          321,
          425,
          327,
          295,
          385,
          342,
          365,
          125,
          389,
          350,
          368,
          242
         ],
         "yaxis": "y20"
        },
        {
         "line": {
          "color": "red"
         },
         "mode": "lines",
         "name": "MIN",
         "type": "scatter",
         "x": [
          1,
          2,
          3,
          4,
          5,
          6,
          7,
          8,
          9,
          10,
          11,
          12,
          13,
          14,
          15,
          16
         ],
         "xaxis": "x20",
         "y": [
          301,
          284,
          213,
          366,
          351,
          282,
          258,
          337,
          331,
          217,
          306,
          318,
          377,
          282,
          446,
          374
         ],
         "yaxis": "y20"
        },
        {
         "line": {
          "color": "green"
         },
         "mode": "lines",
         "name": "MIN",
         "type": "scatter",
         "x": [
          1,
          2,
          4,
          5,
          6,
          7,
          8,
          9,
          10,
          11,
          12,
          13,
          14,
          15,
          16
         ],
         "xaxis": "x20",
         "y": [
          468,
          731,
          284,
          300,
          351,
          357,
          377,
          406,
          451,
          408,
          312,
          358,
          346,
          236,
          327
         ],
         "yaxis": "y20"
        },
        {
         "line": {
          "color": "blue"
         },
         "mode": "lines",
         "name": "MIN",
         "type": "scatter",
         "x": [
          1,
          2,
          3,
          4,
          5,
          6,
          7,
          9,
          10,
          11,
          12,
          13,
          14
         ],
         "xaxis": "x20",
         "y": [
          343,
          482,
          292,
          448,
          375,
          411,
          736,
          283,
          270,
          416,
          278,
          276,
          418
         ],
         "yaxis": "y20"
        },
        {
         "line": {
          "color": "black"
         },
         "mode": "lines",
         "name": "NE",
         "type": "scatter",
         "x": [
          1,
          2,
          3,
          4,
          5,
          6,
          7,
          8,
          10,
          11,
          12,
          13,
          14,
          15,
          16
         ],
         "xaxis": "x21",
         "y": [
          361,
          507,
          471,
          356,
          417,
          353,
          437,
          460,
          762,
          301,
          427,
          313,
          346,
          284,
          196
         ],
         "yaxis": "y21"
        },
        {
         "line": {
          "color": "red"
         },
         "mode": "lines",
         "name": "NE",
         "type": "scatter",
         "x": [
          1,
          2,
          3,
          4,
          5,
          6,
          7,
          8,
          9,
          10,
          11,
          12,
          13,
          14,
          15,
          16
         ],
         "xaxis": "x21",
         "y": [
          363,
          465,
          282,
          277,
          501,
          437,
          362,
          357,
          385,
          444,
          377,
          402,
          496,
          313,
          325,
          398
         ],
         "yaxis": "y21"
        },
        {
         "line": {
          "color": "green"
         },
         "mode": "lines",
         "name": "NE",
         "type": "scatter",
         "x": [
          1,
          2,
          3,
          4,
          6,
          7,
          8,
          9,
          10,
          11,
          12,
          13,
          14,
          15,
          16
         ],
         "xaxis": "x21",
         "y": [
          371,
          555,
          398,
          775,
          375,
          403,
          387,
          396,
          420,
          417,
          435,
          248,
          362,
          411,
          330
         ],
         "yaxis": "y21"
        },
        {
         "line": {
          "color": "blue"
         },
         "mode": "lines",
         "name": "NE",
         "type": "scatter",
         "x": [
          1,
          2,
          3,
          4,
          5,
          6,
          7,
          8,
          9,
          10,
          11,
          12,
          13,
          14
         ],
         "xaxis": "x21",
         "y": [
          389,
          302,
          209,
          449,
          438,
          500,
          381,
          387,
          717,
          284,
          498,
          471,
          421,
          368
         ],
         "yaxis": "y21"
        },
        {
         "line": {
          "color": "black"
         },
         "mode": "lines",
         "name": "NO",
         "type": "scatter",
         "x": [
          1,
          2,
          3,
          4,
          5,
          6,
          7,
          8,
          9,
          11,
          12,
          13,
          14,
          15,
          16
         ],
         "xaxis": "x22",
         "y": [
          408,
          323,
          380,
          438,
          388,
          385,
          449,
          1030,
          350,
          268,
          336,
          388,
          399,
          537,
          390
         ],
         "yaxis": "y22"
        },
        {
         "line": {
          "color": "red"
         },
         "mode": "lines",
         "name": "NO",
         "type": "scatter",
         "x": [
          1,
          2,
          3,
          4,
          5,
          6,
          7,
          8,
          9,
          10,
          11,
          12,
          13,
          14,
          15,
          16
         ],
         "xaxis": "x22",
         "y": [
          507,
          288,
          476,
          275,
          523,
          463,
          375,
          571,
          373,
          371,
          555,
          369,
          294,
          488,
          419,
          473
         ],
         "yaxis": "y22"
        },
        {
         "line": {
          "color": "green"
         },
         "mode": "lines",
         "name": "NO",
         "type": "scatter",
         "x": [
          1,
          2,
          3,
          4,
          5,
          6,
          7,
          8,
          9,
          10,
          11,
          12,
          13,
          14,
          15,
          16
         ],
         "xaxis": "x22",
         "y": [
          344,
          429,
          362,
          347,
          379,
          485,
          387,
          407,
          482,
          537,
          346,
          400,
          306,
          416,
          315,
          323
         ],
         "yaxis": "y22"
        },
        {
         "line": {
          "color": "blue"
         },
         "mode": "lines",
         "name": "NO",
         "type": "scatter",
         "x": [
          1,
          2,
          3,
          4,
          6,
          7,
          8,
          9,
          10,
          11,
          12,
          13,
          14
         ],
         "xaxis": "x22",
         "y": [
          479,
          277,
          534,
          836,
          339,
          270,
          487,
          509,
          1055,
          312,
          176,
          300,
          346
         ],
         "yaxis": "y22"
        },
        {
         "line": {
          "color": "black"
         },
         "mode": "lines",
         "name": "NYG",
         "type": "scatter",
         "x": [
          1,
          2,
          3,
          4,
          5,
          6,
          7,
          8,
          10,
          11,
          12,
          13,
          14,
          15,
          16
         ],
         "xaxis": "x23",
         "y": [
          289,
          388,
          363,
          305,
          525,
          247,
          289,
          743,
          422,
          332,
          355,
          429,
          406,
          363,
          502
         ],
         "yaxis": "y23"
        },
        {
         "line": {
          "color": "red"
         },
         "mode": "lines",
         "name": "NYG",
         "type": "scatter",
         "x": [
          1,
          2,
          3,
          4,
          5,
          6,
          7,
          8,
          9,
          10,
          12,
          13,
          15,
          16
         ],
         "xaxis": "x23",
         "y": [
          316,
          417,
          457,
          339,
          219,
          435,
          232,
          302,
          351,
          329,
          494,
          300,
          470,
          332
         ],
         "yaxis": "y23"
        },
        {
         "line": {
          "color": "green"
         },
         "mode": "lines",
         "name": "NYG",
         "type": "scatter",
         "x": [
          1,
          2,
          3,
          5,
          6,
          8,
          10,
          11,
          12,
          13,
          14,
          15,
          16
         ],
         "xaxis": "x23",
         "y": [
          233,
          270,
          794,
          335,
          443,
          319,
          693,
          170,
          265,
          330,
          504,
          293,
          381
         ],
         "yaxis": "y23"
        },
        {
         "line": {
          "color": "blue"
         },
         "mode": "lines",
         "name": "NYG",
         "type": "scatter",
         "x": [
          1,
          2,
          3,
          4,
          5,
          6,
          7,
          10,
          11,
          12,
          13,
          14
         ],
         "xaxis": "x23",
         "y": [
          324,
          255,
          379,
          301,
          434,
          401,
          738,
          913,
          402,
          338,
          402,
          260
         ],
         "yaxis": "y23"
        },
        {
         "line": {
          "color": "black"
         },
         "mode": "lines",
         "name": "NYJ",
         "type": "scatter",
         "x": [
          1,
          2,
          3,
          4,
          6,
          7,
          8,
          9,
          10,
          11,
          12,
          13,
          14,
          15,
          16
         ],
         "xaxis": "x24",
         "y": [
          333,
          344,
          323,
          425,
          846,
          366,
          290,
          318,
          267,
          411,
          463,
          439,
          372,
          428,
          300
         ],
         "yaxis": "y24"
        },
        {
         "line": {
          "color": "red"
         },
         "mode": "lines",
         "name": "NYJ",
         "type": "scatter",
         "x": [
          1,
          2,
          3,
          4,
          5,
          6,
          7,
          8,
          9,
          10,
          11,
          12,
          13,
          14,
          15,
          16
         ],
         "xaxis": "x24",
         "y": [
          340,
          493,
          305,
          305,
          316,
          230,
          344,
          393,
          324,
          296,
          333,
          250,
          406,
          360,
          239,
          329
         ],
         "yaxis": "y24"
        },
        {
         "line": {
          "color": "green"
         },
         "mode": "lines",
         "name": "NYJ",
         "type": "scatter",
         "x": [
          1,
          2,
          3,
          4,
          5,
          6,
          7,
          8,
          9,
          11,
          12,
          13,
          14,
          15,
          16
         ],
         "xaxis": "x24",
         "y": [
          214,
          271,
          336,
          471,
          212,
          408,
          272,
          279,
          606,
          391,
          490,
          100,
          294,
          295,
          247
         ],
         "yaxis": "y24"
        },
        {
         "line": {
          "color": "blue"
         },
         "mode": "lines",
         "name": "NYJ",
         "type": "scatter",
         "x": [
          1,
          2,
          3,
          4,
          5,
          6,
          7,
          8,
          9,
          10,
          11,
          12,
          13,
          14
         ],
         "xaxis": "x24",
         "y": [
          349,
          362,
          268,
          178,
          512,
          374,
          263,
          207,
          282,
          398,
          338,
          280,
          248,
          318
         ],
         "yaxis": "y24"
        },
        {
         "line": {
          "color": "black"
         },
         "mode": "lines",
         "name": "OAK",
         "type": "scatter",
         "x": [
          1,
          2,
          3,
          4,
          5,
          6,
          7,
          9,
          10,
          11,
          12,
          13,
          14,
          15,
          16
         ],
         "xaxis": "x25",
         "y": [
          246,
          448,
          469,
          243,
          288,
          412,
          451,
          811,
          214,
          402,
          361,
          126,
          372,
          283,
          205
         ],
         "yaxis": "y25"
        },
        {
         "line": {
          "color": "red"
         },
         "mode": "lines",
         "name": "OAK",
         "type": "scatter",
         "x": [
          1,
          2,
          3,
          4,
          5,
          6,
          7,
          9,
          10,
          11,
          12,
          13,
          14,
          15,
          16
         ],
         "xaxis": "x25",
         "y": [
          490,
          454,
          368,
          261,
          391,
          286,
          970,
          397,
          325,
          367,
          401,
          244,
          345,
          459,
          221
         ],
         "yaxis": "y25"
        },
        {
         "line": {
          "color": "green"
         },
         "mode": "lines",
         "name": "OAK",
         "type": "scatter",
         "x": [
          1,
          2,
          3,
          4,
          5,
          6,
          7,
          8,
          9,
          10,
          11,
          12,
          13,
          14,
          15,
          16
         ],
         "xaxis": "x25",
         "y": [
          359,
          410,
          128,
          254,
          245,
          274,
          505,
          367,
          379,
          346,
          348,
          401,
          270,
          293,
          274,
          336
         ],
         "yaxis": "y25"
        },
        {
         "line": {
          "color": "blue"
         },
         "mode": "lines",
         "name": "OAK",
         "type": "scatter",
         "x": [
          1,
          2,
          3,
          4,
          5,
          6,
          7,
          9,
          10,
          11,
          12,
          13,
          14
         ],
         "xaxis": "x25",
         "y": [
          395,
          373,
          434,
          567,
          289,
          185,
          347,
          559,
          642,
          249,
          442,
          354,
          297
         ],
         "yaxis": "y25"
        },
        {
         "line": {
          "color": "black"
         },
         "mode": "lines",
         "name": "PHI",
         "type": "scatter",
         "x": [
          1,
          2,
          3,
          4,
          5,
          6,
          7,
          8,
          9,
          10,
          11,
          12,
          13,
          14,
          15,
          16
         ],
         "xaxis": "x26",
         "y": [
          399,
          226,
          231,
          320,
          519,
          425,
          349,
          459,
          436,
          383,
          227,
          248,
          348,
          424,
          398,
          435
         ],
         "yaxis": "y26"
        },
        {
         "line": {
          "color": "red"
         },
         "mode": "lines",
         "name": "PHI",
         "type": "scatter",
         "x": [
          1,
          2,
          3,
          4,
          6,
          7,
          8,
          9,
          10,
          11,
          12,
          13,
          14,
          15,
          16
         ],
         "xaxis": "x26",
         "y": [
          403,
          280,
          426,
          346,
          480,
          291,
          443,
          431,
          310,
          292,
          359,
          371,
          330,
          286,
          346
         ],
         "yaxis": "y26"
        },
        {
         "line": {
          "color": "green"
         },
         "mode": "lines",
         "name": "PHI",
         "type": "scatter",
         "x": [
          1,
          2,
          3,
          4,
          5,
          6,
          8,
          9,
          10,
          11,
          12,
          13,
          14,
          15,
          16
         ],
         "xaxis": "x26",
         "y": [
          356,
          406,
          354,
          454,
          419,
          683,
          304,
          419,
          387,
          420,
          425,
          455,
          341,
          216,
          219
         ],
         "yaxis": "y26"
        },
        {
         "line": {
          "color": "blue"
         },
         "mode": "lines",
         "name": "PHI",
         "type": "scatter",
         "x": [
          1,
          2,
          3,
          4,
          5,
          6,
          7,
          8,
          9,
          10,
          11,
          12,
          13,
          14
         ],
         "xaxis": "x26",
         "y": [
          234,
          412,
          379,
          432,
          366,
          379,
          342,
          395,
          421,
          617,
          345,
          438,
          256,
          381
         ],
         "yaxis": "y26"
        },
        {
         "line": {
          "color": "black"
         },
         "mode": "lines",
         "name": "PIT",
         "type": "scatter",
         "x": [
          1,
          2,
          3,
          4,
          5,
          6,
          7,
          8,
          9,
          10,
          11,
          12,
          13,
          14,
          15,
          16
         ],
         "xaxis": "x27",
         "y": [
          466,
          457,
          259,
          263,
          349,
          310,
          339,
          356,
          599,
          461,
          540,
          524,
          354,
          377,
          303,
          381
         ],
         "yaxis": "y27"
        },
        {
         "line": {
          "color": "red"
         },
         "mode": "lines",
         "name": "PIT",
         "type": "scatter",
         "x": [
          1,
          2,
          3,
          4,
          5,
          6,
          7,
          8,
          9,
          10,
          11,
          12,
          13,
          14,
          15,
          16
         ],
         "xaxis": "x27",
         "y": [
          435,
          374,
          251,
          438,
          433,
          299,
          375,
          277,
          448,
          315,
          369,
          389,
          460,
          382,
          406,
          312
         ],
         "yaxis": "y27"
        },
        {
         "line": {
          "color": "green"
         },
         "mode": "lines",
         "name": "PIT",
         "type": "scatter",
         "x": [
          1,
          2,
          3,
          4,
          5,
          6,
          7,
          8,
          9,
          10,
          11,
          12,
          13,
          14,
          15,
          16
         ],
         "xaxis": "x27",
         "y": [
          290,
          335,
          282,
          381,
          364,
          439,
          420,
          392,
          318,
          357,
          464,
          374,
          545,
          413,
          330,
          348
         ],
         "yaxis": "y27"
        },
        {
         "line": {
          "color": "blue"
         },
         "mode": "lines",
         "name": "PIT",
         "type": "scatter",
         "x": [
          1,
          2,
          3,
          4,
          5,
          6,
          7,
          8,
          9,
          10,
          11,
          12,
          13,
          14
         ],
         "xaxis": "x27",
         "y": [
          472,
          477,
          413,
          286,
          381,
          483,
          421,
          395,
          457,
          780,
          527,
          336,
          340,
          376
         ],
         "yaxis": "y27"
        },
        {
         "line": {
          "color": "black"
         },
         "mode": "lines",
         "name": "SEA",
         "type": "scatter",
         "x": [
          1,
          2,
          3,
          4,
          5,
          6,
          7,
          8,
          9,
          10,
          11,
          12,
          13,
          14,
          15,
          16
         ],
         "xaxis": "x28",
         "y": [
          345,
          324,
          371,
          345,
          397,
          334,
          388,
          323,
          343,
          508,
          436,
          433,
          424,
          423,
          313,
          354
         ],
         "yaxis": "y28"
        },
        {
         "line": {
          "color": "red"
         },
         "mode": "lines",
         "name": "SEA",
         "type": "scatter",
         "x": [
          1,
          2,
          3,
          4,
          5,
          6,
          7,
          8,
          9,
          10,
          11,
          12,
          13,
          14,
          15,
          16
         ],
         "xaxis": "x28",
         "y": [
          352,
          306,
          418,
          354,
          333,
          257,
          359,
          278,
          420,
          439,
          245,
          534,
          354,
          299,
          393,
          376
         ],
         "yaxis": "y28"
        },
        {
         "line": {
          "color": "green"
         },
         "mode": "lines",
         "name": "SEA",
         "type": "scatter",
         "x": [
          1,
          2,
          3,
          4,
          5,
          6,
          7,
          8,
          9,
          10,
          11,
          12,
          13,
          14,
          15,
          16
         ],
         "xaxis": "x28",
         "y": [
          225,
          312,
          433,
          479,
          241,
          425,
          479,
          431,
          287,
          362,
          318,
          293,
          401,
          149,
          136,
          296
         ],
         "yaxis": "y28"
        },
        {
         "line": {
          "color": "blue"
         },
         "mode": "lines",
         "name": "SEA",
         "type": "scatter",
         "x": [
          1,
          2,
          3,
          4,
          5,
          6,
          7,
          8,
          9,
          10,
          11,
          12,
          13,
          14
         ],
         "xaxis": "x28",
         "y": [
          306,
          276,
          295,
          331,
          373,
          369,
          413,
          356,
          414,
          792,
          397,
          331,
          276,
          378
         ],
         "yaxis": "y28"
        },
        {
         "line": {
          "color": "black"
         },
         "mode": "lines",
         "name": "SF",
         "type": "scatter",
         "x": [
          1,
          2,
          3,
          4,
          5,
          6,
          7,
          8,
          9,
          10,
          11,
          12,
          13,
          14,
          15,
          16
         ],
         "xaxis": "x29",
         "y": [
          395,
          411,
          156,
          196,
          380,
          391,
          142,
          189,
          317,
          306,
          368,
          291,
          221,
          318,
          322,
          458
         ],
         "yaxis": "y29"
        },
        {
         "line": {
          "color": "red"
         },
         "mode": "lines",
         "name": "SF",
         "type": "scatter",
         "x": [
          1,
          2,
          3,
          4,
          5,
          6,
          8,
          9,
          10,
          11,
          12,
          13,
          14,
          15,
          16
         ],
         "xaxis": "x29",
         "y": [
          320,
          302,
          256,
          295,
          286,
          573,
          486,
          281,
          299,
          475,
          147,
          364,
          272,
          325,
          253
         ],
         "yaxis": "y29"
        },
        {
         "line": {
          "color": "green"
         },
         "mode": "lines",
         "name": "SF",
         "type": "scatter",
         "x": [
          1,
          2,
          3,
          4,
          5,
          7,
          8,
          9,
          10,
          11,
          12,
          13,
          14,
          15,
          16
         ],
         "xaxis": "x29",
         "y": [
          217,
          248,
          421,
          305,
          737,
          290,
          238,
          329,
          474,
          280,
          388,
          416,
          414,
          369,
          463
         ],
         "yaxis": "y29"
        },
        {
         "line": {
          "color": "blue"
         },
         "mode": "lines",
         "name": "SF",
         "type": "scatter",
         "x": [
          1,
          2,
          3,
          4,
          5,
          6,
          7,
          8,
          9,
          10,
          11,
          12,
          13,
          14
         ],
         "xaxis": "x29",
         "y": [
          327,
          346,
          408,
          364,
          447,
          401,
          228,
          267,
          405,
          748,
          342,
          452,
          389,
          351
         ],
         "yaxis": "y29"
        },
        {
         "line": {
          "color": "black"
         },
         "mode": "lines",
         "name": "TB",
         "type": "scatter",
         "x": [
          1,
          2,
          3,
          4,
          5,
          7,
          8,
          9,
          10,
          11,
          12,
          13,
          14,
          15,
          16
         ],
         "xaxis": "x30",
         "y": [
          273,
          333,
          318,
          411,
          369,
          769,
          385,
          327,
          521,
          344,
          388,
          291,
          509,
          389,
          386
         ],
         "yaxis": "y30"
        },
        {
         "line": {
          "color": "red"
         },
         "mode": "lines",
         "name": "TB",
         "type": "scatter",
         "x": [
          1,
          2,
          3,
          4,
          5,
          6,
          7,
          8,
          9,
          10,
          11,
          12,
          13,
          14,
          15,
          16
         ],
         "xaxis": "x30",
         "y": [
          371,
          306,
          472,
          215,
          317,
          513,
          272,
          398,
          360,
          442,
          338,
          351,
          270,
          276,
          349,
          300
         ],
         "yaxis": "y30"
        },
        {
         "line": {
          "color": "green"
         },
         "mode": "lines",
         "name": "TB",
         "type": "scatter",
         "x": [
          1,
          2,
          3,
          4,
          5,
          6,
          7,
          8,
          9,
          10,
          11,
          12,
          13,
          14,
          15,
          16
         ],
         "xaxis": "x30",
         "y": [
          311,
          342,
          434,
          409,
          414,
          447,
          279,
          200,
          271,
          321,
          373,
          395,
          400,
          373,
          392,
          457
         ],
         "yaxis": "y30"
        },
        {
         "line": {
          "color": "blue"
         },
         "mode": "lines",
         "name": "TB",
         "type": "scatter",
         "x": [
          1,
          2,
          3,
          4,
          5,
          6,
          7,
          8,
          9,
          10,
          11,
          12,
          13,
          14
         ],
         "xaxis": "x30",
         "y": [
          529,
          436,
          455,
          311,
          512,
          456,
          578,
          301,
          501,
          1011,
          412,
          315,
          279,
          241
         ],
         "yaxis": "y30"
        },
        {
         "line": {
          "color": "black"
         },
         "mode": "lines",
         "name": "TEN",
         "type": "scatter",
         "x": [
          1,
          2,
          3,
          4,
          5,
          6,
          7,
          8,
          9,
          10,
          11,
          12,
          13,
          14,
          15,
          16
         ],
         "xaxis": "x31",
         "y": [
          309,
          385,
          433,
          276,
          299,
          256,
          211,
          485,
          242,
          316,
          251,
          467,
          294,
          282,
          257,
          231
         ],
         "yaxis": "y31"
        },
        {
         "line": {
          "color": "red"
         },
         "mode": "lines",
         "name": "TEN",
         "type": "scatter",
         "x": [
          1,
          2,
          3,
          4,
          5,
          6,
          7,
          8,
          9,
          10,
          11,
          12,
          13,
          14,
          15,
          16
         ],
         "xaxis": "x31",
         "y": [
          316,
          363,
          393,
          320,
          398,
          407,
          331,
          494,
          393,
          446,
          351,
          386,
          253,
          389,
          263,
          236
         ],
         "yaxis": "y31"
        },
        {
         "line": {
          "color": "green"
         },
         "mode": "lines",
         "name": "TEN",
         "type": "scatter",
         "x": [
          1,
          2,
          3,
          4,
          5,
          6,
          7,
          8,
          9,
          10,
          11,
          12,
          13,
          14,
          15,
          16
         ],
         "xaxis": "x31",
         "y": [
          350,
          390,
          420,
          195,
          188,
          473,
          269,
          257,
          416,
          316,
          276,
          344,
          204,
          328,
          366,
          232
         ],
         "yaxis": "y31"
        },
        {
         "line": {
          "color": "blue"
         },
         "mode": "lines",
         "name": "TEN",
         "type": "scatter",
         "x": [
          1,
          2,
          3,
          4,
          5,
          6,
          7,
          8,
          9,
          10,
          11,
          12,
          13,
          14
         ],
         "xaxis": "x31",
         "y": [
          336,
          283,
          233,
          397,
          221,
          106,
          390,
          340,
          385,
          648,
          365,
          403,
          426,
          301
         ],
         "yaxis": "y31"
        },
        {
         "line": {
          "color": "black"
         },
         "mode": "lines",
         "name": "WAS",
         "type": "scatter",
         "x": [
          1,
          2,
          3,
          4,
          5,
          6,
          7,
          8,
          9,
          10,
          11,
          12,
          13,
          14,
          15,
          16
         ],
         "xaxis": "x32",
         "y": [
          349,
          373,
          395,
          417,
          270,
          225,
          355,
          250,
          514,
          186,
          407,
          266,
          374,
          431,
          420,
          437
         ],
         "yaxis": "y32"
        },
        {
         "line": {
          "color": "red"
         },
         "mode": "lines",
         "name": "WAS",
         "type": "scatter",
         "x": [
          1,
          2,
          3,
          4,
          5,
          6,
          7,
          8,
          9,
          10,
          11,
          12,
          13,
          14,
          15,
          16
         ],
         "xaxis": "x32",
         "y": [
          384,
          432,
          403,
          301,
          310,
          493,
          417,
          546,
          388,
          515,
          505,
          333,
          334,
          335,
          478,
          284
         ],
         "yaxis": "y32"
        },
        {
         "line": {
          "color": "green"
         },
         "mode": "lines",
         "name": "WAS",
         "type": "scatter",
         "x": [
          1,
          2,
          3,
          4,
          5,
          6,
          7,
          8,
          9,
          10,
          11,
          12,
          13,
          14,
          15,
          16
         ],
         "xaxis": "x32",
         "y": [
          264,
          385,
          472,
          331,
          419,
          344,
          285,
          244,
          394,
          456,
          323,
          280,
          201,
          218,
          386,
          197
         ],
         "yaxis": "y32"
        },
        {
         "line": {
          "color": "blue"
         },
         "mode": "lines",
         "name": "WAS",
         "type": "scatter",
         "x": [
          1,
          2,
          3,
          4,
          5,
          6,
          7,
          8,
          9,
          10,
          11,
          12,
          13,
          14
         ],
         "xaxis": "x32",
         "y": [
          429,
          334,
          386,
          283,
          288,
          305,
          360,
          366,
          286,
          564,
          331,
          235,
          292,
          245
         ],
         "yaxis": "y32"
        }
       ],
       "layout": {
        "annotations": [
         {
          "font": {
           "size": 16
          },
          "showarrow": false,
          "text": "ARI",
          "x": 0.06944444444444445,
          "xanchor": "center",
          "xref": "paper",
          "y": 0.9999999999999999,
          "yanchor": "bottom",
          "yref": "paper"
         },
         {
          "font": {
           "size": 16
          },
          "showarrow": false,
          "text": "ATL",
          "x": 0.24166666666666667,
          "xanchor": "center",
          "xref": "paper",
          "y": 0.9999999999999999,
          "yanchor": "bottom",
          "yref": "paper"
         },
         {
          "font": {
           "size": 16
          },
          "showarrow": false,
          "text": "BAL",
          "x": 0.41388888888888886,
          "xanchor": "center",
          "xref": "paper",
          "y": 0.9999999999999999,
          "yanchor": "bottom",
          "yref": "paper"
         },
         {
          "font": {
           "size": 16
          },
          "showarrow": false,
          "text": "BUF",
          "x": 0.5861111111111112,
          "xanchor": "center",
          "xref": "paper",
          "y": 0.9999999999999999,
          "yanchor": "bottom",
          "yref": "paper"
         },
         {
          "font": {
           "size": 16
          },
          "showarrow": false,
          "text": "CAR",
          "x": 0.7583333333333333,
          "xanchor": "center",
          "xref": "paper",
          "y": 0.9999999999999999,
          "yanchor": "bottom",
          "yref": "paper"
         },
         {
          "font": {
           "size": 16
          },
          "showarrow": false,
          "text": "CHI",
          "x": 0.9305555555555556,
          "xanchor": "center",
          "xref": "paper",
          "y": 0.9999999999999999,
          "yanchor": "bottom",
          "yref": "paper"
         },
         {
          "font": {
           "size": 16
          },
          "showarrow": false,
          "text": "CIN",
          "x": 0.06944444444444445,
          "xanchor": "center",
          "xref": "paper",
          "y": 0.8194444444444444,
          "yanchor": "bottom",
          "yref": "paper"
         },
         {
          "font": {
           "size": 16
          },
          "showarrow": false,
          "text": "CLE",
          "x": 0.24166666666666667,
          "xanchor": "center",
          "xref": "paper",
          "y": 0.8194444444444444,
          "yanchor": "bottom",
          "yref": "paper"
         },
         {
          "font": {
           "size": 16
          },
          "showarrow": false,
          "text": "DAL",
          "x": 0.41388888888888886,
          "xanchor": "center",
          "xref": "paper",
          "y": 0.8194444444444444,
          "yanchor": "bottom",
          "yref": "paper"
         },
         {
          "font": {
           "size": 16
          },
          "showarrow": false,
          "text": "DEN",
          "x": 0.5861111111111112,
          "xanchor": "center",
          "xref": "paper",
          "y": 0.8194444444444444,
          "yanchor": "bottom",
          "yref": "paper"
         },
         {
          "font": {
           "size": 16
          },
          "showarrow": false,
          "text": "DET",
          "x": 0.7583333333333333,
          "xanchor": "center",
          "xref": "paper",
          "y": 0.8194444444444444,
          "yanchor": "bottom",
          "yref": "paper"
         },
         {
          "font": {
           "size": 16
          },
          "showarrow": false,
          "text": "GB",
          "x": 0.9305555555555556,
          "xanchor": "center",
          "xref": "paper",
          "y": 0.8194444444444444,
          "yanchor": "bottom",
          "yref": "paper"
         },
         {
          "font": {
           "size": 16
          },
          "showarrow": false,
          "text": "HOU",
          "x": 0.06944444444444445,
          "xanchor": "center",
          "xref": "paper",
          "y": 0.638888888888889,
          "yanchor": "bottom",
          "yref": "paper"
         },
         {
          "font": {
           "size": 16
          },
          "showarrow": false,
          "text": "IND",
          "x": 0.24166666666666667,
          "xanchor": "center",
          "xref": "paper",
          "y": 0.638888888888889,
          "yanchor": "bottom",
          "yref": "paper"
         },
         {
          "font": {
           "size": 16
          },
          "showarrow": false,
          "text": "JAX",
          "x": 0.41388888888888886,
          "xanchor": "center",
          "xref": "paper",
          "y": 0.638888888888889,
          "yanchor": "bottom",
          "yref": "paper"
         },
         {
          "font": {
           "size": 16
          },
          "showarrow": false,
          "text": "KC",
          "x": 0.5861111111111112,
          "xanchor": "center",
          "xref": "paper",
          "y": 0.638888888888889,
          "yanchor": "bottom",
          "yref": "paper"
         },
         {
          "font": {
           "size": 16
          },
          "showarrow": false,
          "text": "LA",
          "x": 0.7583333333333333,
          "xanchor": "center",
          "xref": "paper",
          "y": 0.638888888888889,
          "yanchor": "bottom",
          "yref": "paper"
         },
         {
          "font": {
           "size": 16
          },
          "showarrow": false,
          "text": "LAC",
          "x": 0.9305555555555556,
          "xanchor": "center",
          "xref": "paper",
          "y": 0.638888888888889,
          "yanchor": "bottom",
          "yref": "paper"
         },
         {
          "font": {
           "size": 16
          },
          "showarrow": false,
          "text": "MIA",
          "x": 0.06944444444444445,
          "xanchor": "center",
          "xref": "paper",
          "y": 0.4583333333333333,
          "yanchor": "bottom",
          "yref": "paper"
         },
         {
          "font": {
           "size": 16
          },
          "showarrow": false,
          "text": "MIN",
          "x": 0.24166666666666667,
          "xanchor": "center",
          "xref": "paper",
          "y": 0.4583333333333333,
          "yanchor": "bottom",
          "yref": "paper"
         },
         {
          "font": {
           "size": 16
          },
          "showarrow": false,
          "text": "NE",
          "x": 0.41388888888888886,
          "xanchor": "center",
          "xref": "paper",
          "y": 0.4583333333333333,
          "yanchor": "bottom",
          "yref": "paper"
         },
         {
          "font": {
           "size": 16
          },
          "showarrow": false,
          "text": "NO",
          "x": 0.5861111111111112,
          "xanchor": "center",
          "xref": "paper",
          "y": 0.4583333333333333,
          "yanchor": "bottom",
          "yref": "paper"
         },
         {
          "font": {
           "size": 16
          },
          "showarrow": false,
          "text": "NYG",
          "x": 0.7583333333333333,
          "xanchor": "center",
          "xref": "paper",
          "y": 0.4583333333333333,
          "yanchor": "bottom",
          "yref": "paper"
         },
         {
          "font": {
           "size": 16
          },
          "showarrow": false,
          "text": "NYJ",
          "x": 0.9305555555555556,
          "xanchor": "center",
          "xref": "paper",
          "y": 0.4583333333333333,
          "yanchor": "bottom",
          "yref": "paper"
         },
         {
          "font": {
           "size": 16
          },
          "showarrow": false,
          "text": "OAK",
          "x": 0.06944444444444445,
          "xanchor": "center",
          "xref": "paper",
          "y": 0.2777777777777778,
          "yanchor": "bottom",
          "yref": "paper"
         },
         {
          "font": {
           "size": 16
          },
          "showarrow": false,
          "text": "PHI",
          "x": 0.24166666666666667,
          "xanchor": "center",
          "xref": "paper",
          "y": 0.2777777777777778,
          "yanchor": "bottom",
          "yref": "paper"
         },
         {
          "font": {
           "size": 16
          },
          "showarrow": false,
          "text": "PIT",
          "x": 0.41388888888888886,
          "xanchor": "center",
          "xref": "paper",
          "y": 0.2777777777777778,
          "yanchor": "bottom",
          "yref": "paper"
         },
         {
          "font": {
           "size": 16
          },
          "showarrow": false,
          "text": "SEA",
          "x": 0.5861111111111112,
          "xanchor": "center",
          "xref": "paper",
          "y": 0.2777777777777778,
          "yanchor": "bottom",
          "yref": "paper"
         },
         {
          "font": {
           "size": 16
          },
          "showarrow": false,
          "text": "SF",
          "x": 0.7583333333333333,
          "xanchor": "center",
          "xref": "paper",
          "y": 0.2777777777777778,
          "yanchor": "bottom",
          "yref": "paper"
         },
         {
          "font": {
           "size": 16
          },
          "showarrow": false,
          "text": "TB",
          "x": 0.9305555555555556,
          "xanchor": "center",
          "xref": "paper",
          "y": 0.2777777777777778,
          "yanchor": "bottom",
          "yref": "paper"
         },
         {
          "font": {
           "size": 16
          },
          "showarrow": false,
          "text": "TEN",
          "x": 0.06944444444444445,
          "xanchor": "center",
          "xref": "paper",
          "y": 0.09722222222222222,
          "yanchor": "bottom",
          "yref": "paper"
         },
         {
          "font": {
           "size": 16
          },
          "showarrow": false,
          "text": "WAS",
          "x": 0.24166666666666667,
          "xanchor": "center",
          "xref": "paper",
          "y": 0.09722222222222222,
          "yanchor": "bottom",
          "yref": "paper"
         }
        ],
        "height": 700,
        "showlegend": false,
        "template": {
         "data": {
          "bar": [
           {
            "error_x": {
             "color": "#2a3f5f"
            },
            "error_y": {
             "color": "#2a3f5f"
            },
            "marker": {
             "line": {
              "color": "#E5ECF6",
              "width": 0.5
             }
            },
            "type": "bar"
           }
          ],
          "barpolar": [
           {
            "marker": {
             "line": {
              "color": "#E5ECF6",
              "width": 0.5
             }
            },
            "type": "barpolar"
           }
          ],
          "carpet": [
           {
            "aaxis": {
             "endlinecolor": "#2a3f5f",
             "gridcolor": "white",
             "linecolor": "white",
             "minorgridcolor": "white",
             "startlinecolor": "#2a3f5f"
            },
            "baxis": {
             "endlinecolor": "#2a3f5f",
             "gridcolor": "white",
             "linecolor": "white",
             "minorgridcolor": "white",
             "startlinecolor": "#2a3f5f"
            },
            "type": "carpet"
           }
          ],
          "choropleth": [
           {
            "colorbar": {
             "outlinewidth": 0,
             "ticks": ""
            },
            "type": "choropleth"
           }
          ],
          "contour": [
           {
            "colorbar": {
             "outlinewidth": 0,
             "ticks": ""
            },
            "colorscale": [
             [
              0,
              "#0d0887"
             ],
             [
              0.1111111111111111,
              "#46039f"
             ],
             [
              0.2222222222222222,
              "#7201a8"
             ],
             [
              0.3333333333333333,
              "#9c179e"
             ],
             [
              0.4444444444444444,
              "#bd3786"
             ],
             [
              0.5555555555555556,
              "#d8576b"
             ],
             [
              0.6666666666666666,
              "#ed7953"
             ],
             [
              0.7777777777777778,
              "#fb9f3a"
             ],
             [
              0.8888888888888888,
              "#fdca26"
             ],
             [
              1,
              "#f0f921"
             ]
            ],
            "type": "contour"
           }
          ],
          "contourcarpet": [
           {
            "colorbar": {
             "outlinewidth": 0,
             "ticks": ""
            },
            "type": "contourcarpet"
           }
          ],
          "heatmap": [
           {
            "colorbar": {
             "outlinewidth": 0,
             "ticks": ""
            },
            "colorscale": [
             [
              0,
              "#0d0887"
             ],
             [
              0.1111111111111111,
              "#46039f"
             ],
             [
              0.2222222222222222,
              "#7201a8"
             ],
             [
              0.3333333333333333,
              "#9c179e"
             ],
             [
              0.4444444444444444,
              "#bd3786"
             ],
             [
              0.5555555555555556,
              "#d8576b"
             ],
             [
              0.6666666666666666,
              "#ed7953"
             ],
             [
              0.7777777777777778,
              "#fb9f3a"
             ],
             [
              0.8888888888888888,
              "#fdca26"
             ],
             [
              1,
              "#f0f921"
             ]
            ],
            "type": "heatmap"
           }
          ],
          "heatmapgl": [
           {
            "colorbar": {
             "outlinewidth": 0,
             "ticks": ""
            },
            "colorscale": [
             [
              0,
              "#0d0887"
             ],
             [
              0.1111111111111111,
              "#46039f"
             ],
             [
              0.2222222222222222,
              "#7201a8"
             ],
             [
              0.3333333333333333,
              "#9c179e"
             ],
             [
              0.4444444444444444,
              "#bd3786"
             ],
             [
              0.5555555555555556,
              "#d8576b"
             ],
             [
              0.6666666666666666,
              "#ed7953"
             ],
             [
              0.7777777777777778,
              "#fb9f3a"
             ],
             [
              0.8888888888888888,
              "#fdca26"
             ],
             [
              1,
              "#f0f921"
             ]
            ],
            "type": "heatmapgl"
           }
          ],
          "histogram": [
           {
            "marker": {
             "colorbar": {
              "outlinewidth": 0,
              "ticks": ""
             }
            },
            "type": "histogram"
           }
          ],
          "histogram2d": [
           {
            "colorbar": {
             "outlinewidth": 0,
             "ticks": ""
            },
            "colorscale": [
             [
              0,
              "#0d0887"
             ],
             [
              0.1111111111111111,
              "#46039f"
             ],
             [
              0.2222222222222222,
              "#7201a8"
             ],
             [
              0.3333333333333333,
              "#9c179e"
             ],
             [
              0.4444444444444444,
              "#bd3786"
             ],
             [
              0.5555555555555556,
              "#d8576b"
             ],
             [
              0.6666666666666666,
              "#ed7953"
             ],
             [
              0.7777777777777778,
              "#fb9f3a"
             ],
             [
              0.8888888888888888,
              "#fdca26"
             ],
             [
              1,
              "#f0f921"
             ]
            ],
            "type": "histogram2d"
           }
          ],
          "histogram2dcontour": [
           {
            "colorbar": {
             "outlinewidth": 0,
             "ticks": ""
            },
            "colorscale": [
             [
              0,
              "#0d0887"
             ],
             [
              0.1111111111111111,
              "#46039f"
             ],
             [
              0.2222222222222222,
              "#7201a8"
             ],
             [
              0.3333333333333333,
              "#9c179e"
             ],
             [
              0.4444444444444444,
              "#bd3786"
             ],
             [
              0.5555555555555556,
              "#d8576b"
             ],
             [
              0.6666666666666666,
              "#ed7953"
             ],
             [
              0.7777777777777778,
              "#fb9f3a"
             ],
             [
              0.8888888888888888,
              "#fdca26"
             ],
             [
              1,
              "#f0f921"
             ]
            ],
            "type": "histogram2dcontour"
           }
          ],
          "mesh3d": [
           {
            "colorbar": {
             "outlinewidth": 0,
             "ticks": ""
            },
            "type": "mesh3d"
           }
          ],
          "parcoords": [
           {
            "line": {
             "colorbar": {
              "outlinewidth": 0,
              "ticks": ""
             }
            },
            "type": "parcoords"
           }
          ],
          "pie": [
           {
            "automargin": true,
            "type": "pie"
           }
          ],
          "scatter": [
           {
            "marker": {
             "colorbar": {
              "outlinewidth": 0,
              "ticks": ""
             }
            },
            "type": "scatter"
           }
          ],
          "scatter3d": [
           {
            "line": {
             "colorbar": {
              "outlinewidth": 0,
              "ticks": ""
             }
            },
            "marker": {
             "colorbar": {
              "outlinewidth": 0,
              "ticks": ""
             }
            },
            "type": "scatter3d"
           }
          ],
          "scattercarpet": [
           {
            "marker": {
             "colorbar": {
              "outlinewidth": 0,
              "ticks": ""
             }
            },
            "type": "scattercarpet"
           }
          ],
          "scattergeo": [
           {
            "marker": {
             "colorbar": {
              "outlinewidth": 0,
              "ticks": ""
             }
            },
            "type": "scattergeo"
           }
          ],
          "scattergl": [
           {
            "marker": {
             "colorbar": {
              "outlinewidth": 0,
              "ticks": ""
             }
            },
            "type": "scattergl"
           }
          ],
          "scattermapbox": [
           {
            "marker": {
             "colorbar": {
              "outlinewidth": 0,
              "ticks": ""
             }
            },
            "type": "scattermapbox"
           }
          ],
          "scatterpolar": [
           {
            "marker": {
             "colorbar": {
              "outlinewidth": 0,
              "ticks": ""
             }
            },
            "type": "scatterpolar"
           }
          ],
          "scatterpolargl": [
           {
            "marker": {
             "colorbar": {
              "outlinewidth": 0,
              "ticks": ""
             }
            },
            "type": "scatterpolargl"
           }
          ],
          "scatterternary": [
           {
            "marker": {
             "colorbar": {
              "outlinewidth": 0,
              "ticks": ""
             }
            },
            "type": "scatterternary"
           }
          ],
          "surface": [
           {
            "colorbar": {
             "outlinewidth": 0,
             "ticks": ""
            },
            "colorscale": [
             [
              0,
              "#0d0887"
             ],
             [
              0.1111111111111111,
              "#46039f"
             ],
             [
              0.2222222222222222,
              "#7201a8"
             ],
             [
              0.3333333333333333,
              "#9c179e"
             ],
             [
              0.4444444444444444,
              "#bd3786"
             ],
             [
              0.5555555555555556,
              "#d8576b"
             ],
             [
              0.6666666666666666,
              "#ed7953"
             ],
             [
              0.7777777777777778,
              "#fb9f3a"
             ],
             [
              0.8888888888888888,
              "#fdca26"
             ],
             [
              1,
              "#f0f921"
             ]
            ],
            "type": "surface"
           }
          ],
          "table": [
           {
            "cells": {
             "fill": {
              "color": "#EBF0F8"
             },
             "line": {
              "color": "white"
             }
            },
            "header": {
             "fill": {
              "color": "#C8D4E3"
             },
             "line": {
              "color": "white"
             }
            },
            "type": "table"
           }
          ]
         },
         "layout": {
          "annotationdefaults": {
           "arrowcolor": "#2a3f5f",
           "arrowhead": 0,
           "arrowwidth": 1
          },
          "coloraxis": {
           "colorbar": {
            "outlinewidth": 0,
            "ticks": ""
           }
          },
          "colorscale": {
           "diverging": [
            [
             0,
             "#8e0152"
            ],
            [
             0.1,
             "#c51b7d"
            ],
            [
             0.2,
             "#de77ae"
            ],
            [
             0.3,
             "#f1b6da"
            ],
            [
             0.4,
             "#fde0ef"
            ],
            [
             0.5,
             "#f7f7f7"
            ],
            [
             0.6,
             "#e6f5d0"
            ],
            [
             0.7,
             "#b8e186"
            ],
            [
             0.8,
             "#7fbc41"
            ],
            [
             0.9,
             "#4d9221"
            ],
            [
             1,
             "#276419"
            ]
           ],
           "sequential": [
            [
             0,
             "#0d0887"
            ],
            [
             0.1111111111111111,
             "#46039f"
            ],
            [
             0.2222222222222222,
             "#7201a8"
            ],
            [
             0.3333333333333333,
             "#9c179e"
            ],
            [
             0.4444444444444444,
             "#bd3786"
            ],
            [
             0.5555555555555556,
             "#d8576b"
            ],
            [
             0.6666666666666666,
             "#ed7953"
            ],
            [
             0.7777777777777778,
             "#fb9f3a"
            ],
            [
             0.8888888888888888,
             "#fdca26"
            ],
            [
             1,
             "#f0f921"
            ]
           ],
           "sequentialminus": [
            [
             0,
             "#0d0887"
            ],
            [
             0.1111111111111111,
             "#46039f"
            ],
            [
             0.2222222222222222,
             "#7201a8"
            ],
            [
             0.3333333333333333,
             "#9c179e"
            ],
            [
             0.4444444444444444,
             "#bd3786"
            ],
            [
             0.5555555555555556,
             "#d8576b"
            ],
            [
             0.6666666666666666,
             "#ed7953"
            ],
            [
             0.7777777777777778,
             "#fb9f3a"
            ],
            [
             0.8888888888888888,
             "#fdca26"
            ],
            [
             1,
             "#f0f921"
            ]
           ]
          },
          "colorway": [
           "#636efa",
           "#EF553B",
           "#00cc96",
           "#ab63fa",
           "#FFA15A",
           "#19d3f3",
           "#FF6692",
           "#B6E880",
           "#FF97FF",
           "#FECB52"
          ],
          "font": {
           "color": "#2a3f5f"
          },
          "geo": {
           "bgcolor": "white",
           "lakecolor": "white",
           "landcolor": "#E5ECF6",
           "showlakes": true,
           "showland": true,
           "subunitcolor": "white"
          },
          "hoverlabel": {
           "align": "left"
          },
          "hovermode": "closest",
          "mapbox": {
           "style": "light"
          },
          "paper_bgcolor": "white",
          "plot_bgcolor": "#E5ECF6",
          "polar": {
           "angularaxis": {
            "gridcolor": "white",
            "linecolor": "white",
            "ticks": ""
           },
           "bgcolor": "#E5ECF6",
           "radialaxis": {
            "gridcolor": "white",
            "linecolor": "white",
            "ticks": ""
           }
          },
          "scene": {
           "xaxis": {
            "backgroundcolor": "#E5ECF6",
            "gridcolor": "white",
            "gridwidth": 2,
            "linecolor": "white",
            "showbackground": true,
            "ticks": "",
            "zerolinecolor": "white"
           },
           "yaxis": {
            "backgroundcolor": "#E5ECF6",
            "gridcolor": "white",
            "gridwidth": 2,
            "linecolor": "white",
            "showbackground": true,
            "ticks": "",
            "zerolinecolor": "white"
           },
           "zaxis": {
            "backgroundcolor": "#E5ECF6",
            "gridcolor": "white",
            "gridwidth": 2,
            "linecolor": "white",
            "showbackground": true,
            "ticks": "",
            "zerolinecolor": "white"
           }
          },
          "shapedefaults": {
           "line": {
            "color": "#2a3f5f"
           }
          },
          "ternary": {
           "aaxis": {
            "gridcolor": "white",
            "linecolor": "white",
            "ticks": ""
           },
           "baxis": {
            "gridcolor": "white",
            "linecolor": "white",
            "ticks": ""
           },
           "bgcolor": "#E5ECF6",
           "caxis": {
            "gridcolor": "white",
            "linecolor": "white",
            "ticks": ""
           }
          },
          "title": {
           "x": 0.05
          },
          "xaxis": {
           "automargin": true,
           "gridcolor": "white",
           "linecolor": "white",
           "ticks": "",
           "title": {
            "standoff": 15
           },
           "zerolinecolor": "white",
           "zerolinewidth": 2
          },
          "yaxis": {
           "automargin": true,
           "gridcolor": "white",
           "linecolor": "white",
           "ticks": "",
           "title": {
            "standoff": 15
           },
           "zerolinecolor": "white",
           "zerolinewidth": 2
          }
         }
        },
        "title": {
         "text": "Team Yards Per Game",
         "x": 0.5,
         "xanchor": "center",
         "y": 0.95,
         "yanchor": "top"
        },
        "width": 1000,
        "xaxis": {
         "anchor": "y",
         "domain": [
          0,
          0.1388888888888889
         ],
         "showticklabels": false,
         "zeroline": false
        },
        "xaxis10": {
         "anchor": "y10",
         "domain": [
          0.5166666666666667,
          0.6555555555555557
         ],
         "showticklabels": false,
         "zeroline": false
        },
        "xaxis11": {
         "anchor": "y11",
         "domain": [
          0.6888888888888889,
          0.8277777777777777
         ],
         "showticklabels": false,
         "zeroline": false
        },
        "xaxis12": {
         "anchor": "y12",
         "domain": [
          0.861111111111111,
          1
         ],
         "showticklabels": false,
         "zeroline": false
        },
        "xaxis13": {
         "anchor": "y13",
         "domain": [
          0,
          0.1388888888888889
         ],
         "showticklabels": false,
         "zeroline": false
        },
        "xaxis14": {
         "anchor": "y14",
         "domain": [
          0.17222222222222222,
          0.3111111111111111
         ],
         "showticklabels": false,
         "zeroline": false
        },
        "xaxis15": {
         "anchor": "y15",
         "domain": [
          0.34444444444444444,
          0.48333333333333334
         ],
         "showticklabels": false,
         "zeroline": false
        },
        "xaxis16": {
         "anchor": "y16",
         "domain": [
          0.5166666666666667,
          0.6555555555555557
         ],
         "showticklabels": false,
         "zeroline": false
        },
        "xaxis17": {
         "anchor": "y17",
         "domain": [
          0.6888888888888889,
          0.8277777777777777
         ],
         "showticklabels": false,
         "zeroline": false
        },
        "xaxis18": {
         "anchor": "y18",
         "domain": [
          0.861111111111111,
          1
         ],
         "showticklabels": false,
         "zeroline": false
        },
        "xaxis19": {
         "anchor": "y19",
         "domain": [
          0,
          0.1388888888888889
         ],
         "showticklabels": false,
         "zeroline": false
        },
        "xaxis2": {
         "anchor": "y2",
         "domain": [
          0.17222222222222222,
          0.3111111111111111
         ],
         "showticklabels": false,
         "zeroline": false
        },
        "xaxis20": {
         "anchor": "y20",
         "domain": [
          0.17222222222222222,
          0.3111111111111111
         ],
         "showticklabels": false,
         "zeroline": false
        },
        "xaxis21": {
         "anchor": "y21",
         "domain": [
          0.34444444444444444,
          0.48333333333333334
         ],
         "showticklabels": false,
         "zeroline": false
        },
        "xaxis22": {
         "anchor": "y22",
         "domain": [
          0.5166666666666667,
          0.6555555555555557
         ],
         "showticklabels": false,
         "zeroline": false
        },
        "xaxis23": {
         "anchor": "y23",
         "domain": [
          0.6888888888888889,
          0.8277777777777777
         ],
         "showticklabels": false,
         "zeroline": false
        },
        "xaxis24": {
         "anchor": "y24",
         "domain": [
          0.861111111111111,
          1
         ],
         "showticklabels": false,
         "zeroline": false
        },
        "xaxis25": {
         "anchor": "y25",
         "domain": [
          0,
          0.1388888888888889
         ],
         "showticklabels": false,
         "zeroline": false
        },
        "xaxis26": {
         "anchor": "y26",
         "domain": [
          0.17222222222222222,
          0.3111111111111111
         ],
         "showticklabels": false,
         "zeroline": false
        },
        "xaxis27": {
         "anchor": "y27",
         "domain": [
          0.34444444444444444,
          0.48333333333333334
         ],
         "showticklabels": false,
         "zeroline": false
        },
        "xaxis28": {
         "anchor": "y28",
         "domain": [
          0.5166666666666667,
          0.6555555555555557
         ],
         "showticklabels": false,
         "zeroline": false
        },
        "xaxis29": {
         "anchor": "y29",
         "domain": [
          0.6888888888888889,
          0.8277777777777777
         ],
         "showticklabels": false,
         "zeroline": false
        },
        "xaxis3": {
         "anchor": "y3",
         "domain": [
          0.34444444444444444,
          0.48333333333333334
         ],
         "showticklabels": false,
         "zeroline": false
        },
        "xaxis30": {
         "anchor": "y30",
         "domain": [
          0.861111111111111,
          1
         ],
         "showticklabels": false,
         "zeroline": false
        },
        "xaxis31": {
         "anchor": "y31",
         "domain": [
          0,
          0.1388888888888889
         ],
         "showticklabels": false,
         "zeroline": false
        },
        "xaxis32": {
         "anchor": "y32",
         "domain": [
          0.17222222222222222,
          0.3111111111111111
         ],
         "showticklabels": false,
         "zeroline": false
        },
        "xaxis33": {
         "anchor": "y33",
         "domain": [
          0.34444444444444444,
          0.48333333333333334
         ],
         "showticklabels": false,
         "zeroline": false
        },
        "xaxis34": {
         "anchor": "y34",
         "domain": [
          0.5166666666666667,
          0.6555555555555557
         ],
         "showticklabels": false,
         "zeroline": false
        },
        "xaxis35": {
         "anchor": "y35",
         "domain": [
          0.6888888888888889,
          0.8277777777777777
         ],
         "showticklabels": false,
         "zeroline": false
        },
        "xaxis36": {
         "anchor": "y36",
         "domain": [
          0.861111111111111,
          1
         ],
         "showticklabels": false,
         "zeroline": false
        },
        "xaxis4": {
         "anchor": "y4",
         "domain": [
          0.5166666666666667,
          0.6555555555555557
         ],
         "showticklabels": false,
         "zeroline": false
        },
        "xaxis5": {
         "anchor": "y5",
         "domain": [
          0.6888888888888889,
          0.8277777777777777
         ],
         "showticklabels": false,
         "zeroline": false
        },
        "xaxis6": {
         "anchor": "y6",
         "domain": [
          0.861111111111111,
          1
         ],
         "showticklabels": false,
         "zeroline": false
        },
        "xaxis7": {
         "anchor": "y7",
         "domain": [
          0,
          0.1388888888888889
         ],
         "showticklabels": false,
         "zeroline": false
        },
        "xaxis8": {
         "anchor": "y8",
         "domain": [
          0.17222222222222222,
          0.3111111111111111
         ],
         "showticklabels": false,
         "zeroline": false
        },
        "xaxis9": {
         "anchor": "y9",
         "domain": [
          0.34444444444444444,
          0.48333333333333334
         ],
         "showticklabels": false,
         "zeroline": false
        },
        "yaxis": {
         "anchor": "x",
         "domain": [
          0.9027777777777777,
          0.9999999999999999
         ],
         "dtick": 250,
         "range": [
          0,
          1000
         ],
         "tickfont": {
          "size": 9
         }
        },
        "yaxis10": {
         "anchor": "x10",
         "domain": [
          0.7222222222222222,
          0.8194444444444444
         ],
         "dtick": 250,
         "range": [
          0,
          1000
         ],
         "tickfont": {
          "size": 9
         }
        },
        "yaxis11": {
         "anchor": "x11",
         "domain": [
          0.7222222222222222,
          0.8194444444444444
         ],
         "dtick": 250,
         "range": [
          0,
          1000
         ],
         "tickfont": {
          "size": 9
         }
        },
        "yaxis12": {
         "anchor": "x12",
         "domain": [
          0.7222222222222222,
          0.8194444444444444
         ],
         "dtick": 250,
         "range": [
          0,
          1000
         ],
         "tickfont": {
          "size": 9
         }
        },
        "yaxis13": {
         "anchor": "x13",
         "domain": [
          0.5416666666666667,
          0.638888888888889
         ],
         "dtick": 250,
         "range": [
          0,
          1000
         ],
         "tickfont": {
          "size": 9
         }
        },
        "yaxis14": {
         "anchor": "x14",
         "domain": [
          0.5416666666666667,
          0.638888888888889
         ],
         "dtick": 250,
         "range": [
          0,
          1000
         ],
         "tickfont": {
          "size": 9
         }
        },
        "yaxis15": {
         "anchor": "x15",
         "domain": [
          0.5416666666666667,
          0.638888888888889
         ],
         "dtick": 250,
         "range": [
          0,
          1000
         ],
         "tickfont": {
          "size": 9
         }
        },
        "yaxis16": {
         "anchor": "x16",
         "domain": [
          0.5416666666666667,
          0.638888888888889
         ],
         "dtick": 250,
         "range": [
          0,
          1000
         ],
         "tickfont": {
          "size": 9
         }
        },
        "yaxis17": {
         "anchor": "x17",
         "domain": [
          0.5416666666666667,
          0.638888888888889
         ],
         "dtick": 250,
         "range": [
          0,
          1000
         ],
         "tickfont": {
          "size": 9
         }
        },
        "yaxis18": {
         "anchor": "x18",
         "domain": [
          0.5416666666666667,
          0.638888888888889
         ],
         "dtick": 250,
         "range": [
          0,
          1000
         ],
         "tickfont": {
          "size": 9
         }
        },
        "yaxis19": {
         "anchor": "x19",
         "domain": [
          0.3611111111111111,
          0.4583333333333333
         ],
         "dtick": 250,
         "range": [
          0,
          1000
         ],
         "tickfont": {
          "size": 9
         }
        },
        "yaxis2": {
         "anchor": "x2",
         "domain": [
          0.9027777777777777,
          0.9999999999999999
         ],
         "dtick": 250,
         "range": [
          0,
          1000
         ],
         "tickfont": {
          "size": 9
         }
        },
        "yaxis20": {
         "anchor": "x20",
         "domain": [
          0.3611111111111111,
          0.4583333333333333
         ],
         "dtick": 250,
         "range": [
          0,
          1000
         ],
         "tickfont": {
          "size": 9
         }
        },
        "yaxis21": {
         "anchor": "x21",
         "domain": [
          0.3611111111111111,
          0.4583333333333333
         ],
         "dtick": 250,
         "range": [
          0,
          1000
         ],
         "tickfont": {
          "size": 9
         }
        },
        "yaxis22": {
         "anchor": "x22",
         "domain": [
          0.3611111111111111,
          0.4583333333333333
         ],
         "dtick": 250,
         "range": [
          0,
          1000
         ],
         "tickfont": {
          "size": 9
         }
        },
        "yaxis23": {
         "anchor": "x23",
         "domain": [
          0.3611111111111111,
          0.4583333333333333
         ],
         "dtick": 250,
         "range": [
          0,
          1000
         ],
         "tickfont": {
          "size": 9
         }
        },
        "yaxis24": {
         "anchor": "x24",
         "domain": [
          0.3611111111111111,
          0.4583333333333333
         ],
         "dtick": 250,
         "range": [
          0,
          1000
         ],
         "tickfont": {
          "size": 9
         }
        },
        "yaxis25": {
         "anchor": "x25",
         "domain": [
          0.18055555555555555,
          0.2777777777777778
         ],
         "dtick": 250,
         "range": [
          0,
          1000
         ],
         "tickfont": {
          "size": 9
         }
        },
        "yaxis26": {
         "anchor": "x26",
         "domain": [
          0.18055555555555555,
          0.2777777777777778
         ],
         "dtick": 250,
         "range": [
          0,
          1000
         ],
         "tickfont": {
          "size": 9
         }
        },
        "yaxis27": {
         "anchor": "x27",
         "domain": [
          0.18055555555555555,
          0.2777777777777778
         ],
         "dtick": 250,
         "range": [
          0,
          1000
         ],
         "tickfont": {
          "size": 9
         }
        },
        "yaxis28": {
         "anchor": "x28",
         "domain": [
          0.18055555555555555,
          0.2777777777777778
         ],
         "dtick": 250,
         "range": [
          0,
          1000
         ],
         "tickfont": {
          "size": 9
         }
        },
        "yaxis29": {
         "anchor": "x29",
         "domain": [
          0.18055555555555555,
          0.2777777777777778
         ],
         "dtick": 250,
         "range": [
          0,
          1000
         ],
         "tickfont": {
          "size": 9
         }
        },
        "yaxis3": {
         "anchor": "x3",
         "domain": [
          0.9027777777777777,
          0.9999999999999999
         ],
         "dtick": 250,
         "range": [
          0,
          1000
         ],
         "tickfont": {
          "size": 9
         }
        },
        "yaxis30": {
         "anchor": "x30",
         "domain": [
          0.18055555555555555,
          0.2777777777777778
         ],
         "dtick": 250,
         "range": [
          0,
          1000
         ],
         "tickfont": {
          "size": 9
         }
        },
        "yaxis31": {
         "anchor": "x31",
         "domain": [
          0,
          0.09722222222222222
         ],
         "dtick": 250,
         "range": [
          0,
          1000
         ],
         "tickfont": {
          "size": 9
         }
        },
        "yaxis32": {
         "anchor": "x32",
         "domain": [
          0,
          0.09722222222222222
         ],
         "dtick": 250,
         "range": [
          0,
          1000
         ],
         "tickfont": {
          "size": 9
         }
        },
        "yaxis33": {
         "anchor": "x33",
         "domain": [
          0,
          0.09722222222222222
         ],
         "tickfont": {
          "size": 9
         }
        },
        "yaxis34": {
         "anchor": "x34",
         "domain": [
          0,
          0.09722222222222222
         ],
         "tickfont": {
          "size": 9
         }
        },
        "yaxis35": {
         "anchor": "x35",
         "domain": [
          0,
          0.09722222222222222
         ],
         "tickfont": {
          "size": 9
         }
        },
        "yaxis36": {
         "anchor": "x36",
         "domain": [
          0,
          0.09722222222222222
         ],
         "tickfont": {
          "size": 9
         }
        },
        "yaxis4": {
         "anchor": "x4",
         "domain": [
          0.9027777777777777,
          0.9999999999999999
         ],
         "dtick": 250,
         "range": [
          0,
          1000
         ],
         "tickfont": {
          "size": 9
         }
        },
        "yaxis5": {
         "anchor": "x5",
         "domain": [
          0.9027777777777777,
          0.9999999999999999
         ],
         "dtick": 250,
         "range": [
          0,
          1000
         ],
         "tickfont": {
          "size": 9
         }
        },
        "yaxis6": {
         "anchor": "x6",
         "domain": [
          0.9027777777777777,
          0.9999999999999999
         ],
         "dtick": 250,
         "range": [
          0,
          1000
         ],
         "tickfont": {
          "size": 9
         }
        },
        "yaxis7": {
         "anchor": "x7",
         "domain": [
          0.7222222222222222,
          0.8194444444444444
         ],
         "dtick": 250,
         "range": [
          0,
          1000
         ],
         "tickfont": {
          "size": 9
         }
        },
        "yaxis8": {
         "anchor": "x8",
         "domain": [
          0.7222222222222222,
          0.8194444444444444
         ],
         "dtick": 250,
         "range": [
          0,
          1000
         ],
         "tickfont": {
          "size": 9
         }
        },
        "yaxis9": {
         "anchor": "x9",
         "domain": [
          0.7222222222222222,
          0.8194444444444444
         ],
         "dtick": 250,
         "range": [
          0,
          1000
         ],
         "tickfont": {
          "size": 9
         }
        }
       }
      },
      "text/html": [
       "<div>\n",
       "        \n",
       "        \n",
       "            <div id=\"4c045202-e57d-4bc4-8bf9-0fe977534fbc\" class=\"plotly-graph-div\" style=\"height:700px; width:1000px;\"></div>\n",
       "            <script type=\"text/javascript\">\n",
       "                require([\"plotly\"], function(Plotly) {\n",
       "                    window.PLOTLYENV=window.PLOTLYENV || {};\n",
       "                    \n",
       "                if (document.getElementById(\"4c045202-e57d-4bc4-8bf9-0fe977534fbc\")) {\n",
       "                    Plotly.newPlot(\n",
       "                        '4c045202-e57d-4bc4-8bf9-0fe977534fbc',\n",
       "                        [{\"line\": {\"color\": \"black\"}, \"mode\": \"lines\", \"name\": \"ARI\", \"type\": \"scatter\", \"x\": [1, 2, 3, 4, 5, 6, 7, 8, 9, 10, 11, 12, 13, 14, 15, 16], \"xaxis\": \"x\", \"y\": [427.0, 300.0, 446.0, 447.0, 345.0, 469.0, 414.0, 491.0, 451.0, 383.0, 337.0, 524.0, 393.0, 493.0, 381.0, 232.0], \"yaxis\": \"y\"}, {\"line\": {\"color\": \"red\"}, \"mode\": \"lines\", \"name\": \"ARI\", \"type\": \"scatter\", \"x\": [1, 2, 3, 4, 5, 6, 7, 9, 10, 11, 12, 13, 14, 15, 16], \"xaxis\": \"x\", \"y\": [344.0, 416.0, 348.0, 420.0, 288.0, 839.0, 340.0, 443.0, 290.0, 332.0, 369.0, 302.0, 425.0, 370.0, 344.0], \"yaxis\": \"y\"}, {\"line\": {\"color\": \"green\"}, \"mode\": \"lines\", \"name\": \"ARI\", \"type\": \"scatter\", \"x\": [1, 2, 3, 4, 5, 7, 9, 10, 11, 12, 13, 14, 15, 16], \"xaxis\": \"x\", \"y\": [309.0, 389.0, 332.0, 358.0, 739.0, 193.0, 657.0, 292.0, 346.0, 312.0, 261.0, 286.0, 289.0, 259.0], \"yaxis\": \"y\"}, {\"line\": {\"color\": \"blue\"}, \"mode\": \"lines\", \"name\": \"ARI\", \"type\": \"scatter\", \"x\": [1, 2, 3, 4, 5, 6, 7, 8, 10, 11, 12, 13, 14], \"xaxis\": \"x\", \"y\": [213.0, 137.0, 221.0, 263.0, 220.0, 269.0, 223.0, 323.0, 802.0, 149.0, 315.0, 279.0, 253.0], \"yaxis\": \"y\"}, {\"line\": {\"color\": \"black\"}, \"mode\": \"lines\", \"name\": \"ATL\", \"type\": \"scatter\", \"x\": [1, 2, 3, 4, 5, 6, 7, 9, 10, 11, 12, 13, 14, 15, 16], \"xaxis\": \"x2\", \"y\": [395.0, 402.0, 440.0, 378.0, 418.0, 791.0, 496.0, 302.0, 375.0, 329.0, 319.0, 230.0, 328.0, 373.0, 419.0], \"yaxis\": \"y2\"}, {\"line\": {\"color\": \"red\"}, \"mode\": \"lines\", \"name\": \"ATL\", \"type\": \"scatter\", \"x\": [1, 2, 3, 4, 5, 7, 8, 9, 11, 12, 13, 14, 15, 16], \"xaxis\": \"x2\", \"y\": [376.0, 530.0, 442.0, 571.0, 734.0, 753.0, 461.0, 303.0, 360.0, 418.0, 286.0, 550.0, 408.0, 465.0], \"yaxis\": \"y2\"}, {\"line\": {\"color\": \"green\"}, \"mode\": \"lines\", \"name\": \"ATL\", \"type\": \"scatter\", \"x\": [1, 2, 3, 4, 5, 7, 8, 9, 10, 11, 12, 13, 14, 15, 16], \"xaxis\": \"x2\", \"y\": [372.0, 364.0, 428.0, 391.0, 339.0, 343.0, 386.0, 691.0, 279.0, 516.0, 275.0, 343.0, 410.0, 331.0, 371.0], \"yaxis\": \"y2\"}, {\"line\": {\"color\": \"blue\"}, \"mode\": \"lines\", \"name\": \"ATL\", \"type\": \"scatter\", \"x\": [1, 2, 3, 4, 5, 7, 8, 10, 11, 12, 13, 14], \"xaxis\": \"x2\", \"y\": [299.0, 442.0, 411.0, 495.0, 740.0, 423.0, 491.0, 1118.0, 366.0, 131.0, 344.0, 435.0], \"yaxis\": \"y2\"}, {\"line\": {\"color\": \"black\"}, \"mode\": \"lines\", \"name\": \"BAL\", \"type\": \"scatter\", \"x\": [1, 2, 3, 4, 5, 6, 7, 8, 9, 10, 11, 12, 13, 14, 15, 16], \"xaxis\": \"x3\", \"y\": [173.0, 493.0, 411.0, 356.0, 377.0, 420.0, 278.0, 365.0, 397.0, 388.0, 336.0, 375.0, 302.0, 366.0, 386.0, 341.0], \"yaxis\": \"y3\"}, {\"line\": {\"color\": \"red\"}, \"mode\": \"lines\", \"name\": \"BAL\", \"type\": \"scatter\", \"x\": [1, 2, 3, 4, 5, 6, 7, 8, 10, 11, 12, 13, 14, 15, 16], \"xaxis\": \"x3\", \"y\": [308.0, 382.0, 283.0, 414.0, 306.0, 391.0, 245.0, 274.0, 766.0, 311.0, 496.0, 348.0, 340.0, 370.0, 335.0], \"yaxis\": \"y3\"}, {\"line\": {\"color\": \"green\"}, \"mode\": \"lines\", \"name\": \"BAL\", \"type\": \"scatter\", \"x\": [1, 2, 3, 4, 5, 6, 7, 8, 10, 11, 12, 13, 14, 15, 16], \"xaxis\": \"x3\", \"y\": [268.0, 337.0, 186.0, 288.0, 365.0, 291.0, 503.0, 341.0, 219.0, 294.0, 370.0, 413.0, 376.0, 323.0, 312.0], \"yaxis\": \"y3\"}, {\"line\": {\"color\": \"blue\"}, \"mode\": \"lines\", \"name\": \"BAL\", \"type\": \"scatter\", \"x\": [1, 2, 3, 4, 5, 6, 7, 8, 10, 11, 12, 13, 14], \"xaxis\": \"x3\", \"y\": [369.0, 425.0, 342.0, 451.0, 410.0, 712.0, 325.0, 265.0, 400.0, 416.0, 366.0, 321.0, 370.0], \"yaxis\": \"y3\"}, {\"line\": {\"color\": \"black\"}, \"mode\": \"lines\", \"name\": \"BUF\", \"type\": \"scatter\", \"x\": [1, 2, 3, 4, 6, 7, 8, 9, 10, 11, 12, 13, 14, 15, 16], \"xaxis\": \"x4\", \"y\": [342.0, 349.0, 428.0, 522.0, 368.0, 377.0, 420.0, 280.0, 319.0, 415.0, 390.0, 412.0, 454.0, 408.0, 295.0], \"yaxis\": \"y4\"}, {\"line\": {\"color\": \"red\"}, \"mode\": \"lines\", \"name\": \"BUF\", \"type\": \"scatter\", \"x\": [1, 2, 3, 4, 5, 6, 7, 8, 10, 11, 12, 13, 15, 16], \"xaxis\": \"x4\", \"y\": [160.0, 393.0, 296.0, 378.0, 305.0, 491.0, 269.0, 805.0, 342.0, 306.0, 382.0, 726.0, 589.0, 230.0], \"yaxis\": \"y4\"}, {\"line\": {\"color\": \"green\"}, \"mode\": \"lines\", \"name\": \"BUF\", \"type\": \"scatter\", \"x\": [1, 2, 3, 4, 5, 6, 8, 9, 10, 11, 12, 13, 14, 15, 16], \"xaxis\": \"x4\", \"y\": [408.0, 176.0, 272.0, 281.0, 221.0, 434.0, 331.0, 505.0, 393.0, 268.0, 268.0, 319.0, 329.0, 326.0, 312.0], \"yaxis\": \"y4\"}, {\"line\": {\"color\": \"blue\"}, \"mode\": \"lines\", \"name\": \"BUF\", \"type\": \"scatter\", \"x\": [1, 2, 3, 4, 5, 6, 7, 8, 10, 11, 12, 13, 14], \"xaxis\": \"x4\", \"y\": [153.0, 293.0, 292.0, 145.0, 223.0, 229.0, 303.0, 597.0, 902.0, 327.0, 417.0, 368.0, 312.0], \"yaxis\": \"y4\"}, {\"line\": {\"color\": \"black\"}, \"mode\": \"lines\", \"name\": \"CAR\", \"type\": \"scatter\", \"x\": [1, 2, 3, 4, 6, 7, 8, 9, 10, 11, 12, 13, 14, 15, 16], \"xaxis\": \"x5\", \"y\": [263.0, 350.0, 431.0, 244.0, 383.0, 394.0, 806.0, 303.0, 368.0, 294.0, 497.0, 424.0, 480.0, 268.0, 366.0], \"yaxis\": \"y5\"}, {\"line\": {\"color\": \"red\"}, \"mode\": \"lines\", \"name\": \"CAR\", \"type\": \"scatter\", \"x\": [1, 2, 3, 4, 5, 7, 8, 9, 10, 11, 12, 13, 14, 15, 16], \"xaxis\": \"x5\", \"y\": [333.0, 529.0, 306.0, 382.0, 822.0, 349.0, 244.0, 341.0, 223.0, 358.0, 271.0, 272.0, 438.0, 302.0, 335.0], \"yaxis\": \"y5\"}, {\"line\": {\"color\": \"green\"}, \"mode\": \"lines\", \"name\": \"CAR\", \"type\": \"scatter\", \"x\": [1, 2, 3, 4, 5, 6, 7, 9, 11, 12, 13, 14, 15, 16], \"xaxis\": \"x5\", \"y\": [287.0, 255.0, 288.0, 444.0, 362.0, 305.0, 547.0, 878.0, 299.0, 279.0, 345.0, 387.0, 255.0, 248.0], \"yaxis\": \"y5\"}, {\"line\": {\"color\": \"blue\"}, \"mode\": \"lines\", \"name\": \"CAR\", \"type\": \"scatter\", \"x\": [1, 2, 3, 5, 7, 8, 9, 10, 11, 12, 13, 14], \"xaxis\": \"x5\", \"y\": [293.0, 439.0, 377.0, 702.0, 759.0, 407.0, 242.0, 629.0, 476.0, 444.0, 393.0, 247.0], \"yaxis\": \"y5\"}, {\"line\": {\"color\": \"black\"}, \"mode\": \"lines\", \"name\": \"CHI\", \"type\": \"scatter\", \"x\": [1, 2, 3, 4, 5, 6, 7, 9, 10, 11, 12, 13, 14, 15, 16], \"xaxis\": \"x6\", \"y\": [402.0, 335.0, 146.0, 371.0, 328.0, 446.0, 305.0, 845.0, 347.0, 290.0, 364.0, 377.0, 293.0, 327.0, 342.0], \"yaxis\": \"y6\"}, {\"line\": {\"color\": \"red\"}, \"mode\": \"lines\", \"name\": \"CHI\", \"type\": \"scatter\", \"x\": [1, 2, 3, 4, 5, 6, 7, 9, 10, 12, 13, 14, 15, 16], \"xaxis\": \"x6\", \"y\": [258.0, 284.0, 390.0, 408.0, 911.0, 189.0, 403.0, 283.0, 315.0, 903.0, 296.0, 449.0, 458.0, 323.0], \"yaxis\": \"y6\"}, {\"line\": {\"color\": \"green\"}, \"mode\": \"lines\", \"name\": \"CHI\", \"type\": \"scatter\", \"x\": [1, 3, 4, 5, 6, 7, 9, 10, 11, 12, 13, 14, 15, 16], \"xaxis\": \"x6\", \"y\": [611.0, 304.0, 308.0, 276.0, 342.0, 460.0, 323.0, 398.0, 140.0, 147.0, 482.0, 349.0, 230.0, 201.0], \"yaxis\": \"y6\"}, {\"line\": {\"color\": \"blue\"}, \"mode\": \"lines\", \"name\": \"CHI\", \"type\": \"scatter\", \"x\": [1, 2, 3, 4, 6, 7, 8, 9, 10, 11, 12, 13, 14], \"xaxis\": \"x6\", \"y\": [294.0, 271.0, 316.0, 483.0, 467.0, 453.0, 585.0, 404.0, 714.0, 264.0, 376.0, 294.0, 332.0], \"yaxis\": \"y6\"}, {\"line\": {\"color\": \"black\"}, \"mode\": \"lines\", \"name\": \"CIN\", \"type\": \"scatter\", \"x\": [1, 2, 3, 4, 5, 6, 8, 9, 10, 11, 12, 13, 14, 15, 16], \"xaxis\": \"x7\", \"y\": [396.0, 389.0, 458.0, 447.0, 419.0, 355.0, 296.0, 627.0, 377.0, 376.0, 377.0, 385.0, 242.0, 294.0, 292.0], \"yaxis\": \"y7\"}, {\"line\": {\"color\": \"red\"}, \"mode\": \"lines\", \"name\": \"CIN\", \"type\": \"scatter\", \"x\": [1, 2, 3, 4, 5, 6, 7, 8, 9, 10, 11, 12, 14, 15, 16], \"xaxis\": \"x7\", \"y\": [381.0, 412.0, 332.0, 362.0, 345.0, 357.0, 559.0, 415.0, 264.0, 300.0, 325.0, 772.0, 222.0, 294.0, 371.0], \"yaxis\": \"y7\"}, {\"line\": {\"color\": \"green\"}, \"mode\": \"lines\", \"name\": \"CIN\", \"type\": \"scatter\", \"x\": [1, 2, 3, 4, 5, 7, 8, 9, 10, 11, 12, 13, 14, 15, 16], \"xaxis\": \"x7\", \"y\": [221.0, 295.0, 301.0, 350.0, 384.0, 179.0, 424.0, 308.0, 190.0, 361.0, 353.0, 234.0, 161.0, 364.0, 359.0], \"yaxis\": \"y7\"}, {\"line\": {\"color\": \"blue\"}, \"mode\": \"lines\", \"name\": \"CIN\", \"type\": \"scatter\", \"x\": [1, 2, 3, 4, 5, 6, 7, 9, 10, 11, 12, 13, 14], \"xaxis\": \"x7\", \"y\": [330.0, 373.0, 396.0, 407.0, 332.0, 275.0, 641.0, 284.0, 539.0, 372.0, 313.0, 295.0, 294.0], \"yaxis\": \"y7\"}, {\"line\": {\"color\": \"black\"}, \"mode\": \"lines\", \"name\": \"CLE\", \"type\": \"scatter\", \"x\": [1, 2, 3, 4, 5, 6, 8, 9, 10, 11, 12, 13, 14, 15, 16], \"xaxis\": \"x8\", \"y\": [321.0, 276.0, 355.0, 434.0, 507.0, 662.0, 254.0, 213.0, 342.0, 338.0, 273.0, 481.0, 230.0, 368.0, 263.0], \"yaxis\": \"y8\"}, {\"line\": {\"color\": \"red\"}, \"mode\": \"lines\", \"name\": \"CLE\", \"type\": \"scatter\", \"x\": [1, 2, 3, 4, 5, 6, 7, 8, 10, 12, 13, 15, 16], \"xaxis\": \"x8\", \"y\": [288.0, 387.0, 432.0, 380.0, 262.0, 341.0, 352.0, 631.0, 353.0, 254.0, 269.0, 251.0, 437.0], \"yaxis\": \"y8\"}, {\"line\": {\"color\": \"green\"}, \"mode\": \"lines\", \"name\": \"CLE\", \"type\": \"scatter\", \"x\": [1, 2, 3, 4, 5, 6, 7, 8, 9, 10, 11, 12, 13, 14, 15, 16], \"xaxis\": \"x8\", \"y\": [239.0, 386.0, 346.0, 215.0, 419.0, 247.0, 284.0, 276.0, 413.0, 184.0, 405.0, 291.0, 345.0, 266.0, 253.0, 374.0], \"yaxis\": \"y8\"}, {\"line\": {\"color\": \"blue\"}, \"mode\": \"lines\", \"name\": \"CLE\", \"type\": \"scatter\", \"x\": [1, 2, 3, 4, 5, 6, 7, 9, 10, 11, 12, 13, 14], \"xaxis\": \"x8\", \"y\": [327.0, 327.0, 325.0, 491.0, 416.0, 624.0, 237.0, 388.0, 854.0, 342.0, 428.0, 348.0, 309.0], \"yaxis\": \"y8\"}, {\"line\": {\"color\": \"black\"}, \"mode\": \"lines\", \"name\": \"DAL\", \"type\": \"scatter\", \"x\": [1, 2, 3, 4, 7, 8, 9, 10, 11, 12, 13, 14, 15, 16], \"xaxis\": \"x9\", \"y\": [436.0, 359.0, 347.0, 599.0, 460.0, 631.0, 216.0, 386.0, 212.0, 317.0, 270.0, 309.0, 307.0, 512.0], \"yaxis\": \"y9\"}, {\"line\": {\"color\": \"red\"}, \"mode\": \"lines\", \"name\": \"DAL\", \"type\": \"scatter\", \"x\": [1, 2, 3, 4, 5, 7, 8, 9, 10, 11, 12, 14, 15, 16], \"xaxis\": \"x9\", \"y\": [328.0, 380.0, 447.0, 428.0, 826.0, 460.0, 423.0, 422.0, 417.0, 353.0, 524.0, 449.0, 375.0, 195.0], \"yaxis\": \"y9\"}, {\"line\": {\"color\": \"green\"}, \"mode\": \"lines\", \"name\": \"DAL\", \"type\": \"scatter\", \"x\": [1, 2, 3, 4, 5, 7, 9, 10, 11, 12, 13, 14, 15, 16], \"xaxis\": \"x9\", \"y\": [392.0, 268.0, 273.0, 440.0, 408.0, 808.0, 608.0, 225.0, 247.0, 275.0, 454.0, 330.0, 283.0, 301.0], \"yaxis\": \"y9\"}, {\"line\": {\"color\": \"blue\"}, \"mode\": \"lines\", \"name\": \"DAL\", \"type\": \"scatter\", \"x\": [1, 2, 3, 4, 5, 6, 8, 9, 10, 11, 12, 13, 14], \"xaxis\": \"x9\", \"y\": [234.0, 298.0, 303.0, 414.0, 292.0, 701.0, 297.0, 410.0, 733.0, 404.0, 308.0, 576.0, 292.0], \"yaxis\": \"y9\"}, {\"line\": {\"color\": \"black\"}, \"mode\": \"lines\", \"name\": \"DEN\", \"type\": \"scatter\", \"x\": [1, 2, 3, 4, 5, 6, 7, 9, 10, 11, 12, 13, 14, 15, 16], \"xaxis\": \"x10\", \"y\": [219.0, 299.0, 354.0, 344.0, 297.0, 442.0, 500.0, 530.0, 389.0, 433.0, 293.0, 310.0, 385.0, 390.0, 503.0], \"yaxis\": \"y10\"}, {\"line\": {\"color\": \"red\"}, \"mode\": \"lines\", \"name\": \"DEN\", \"type\": \"scatter\", \"x\": [1, 2, 3, 4, 5, 6, 7, 8, 9, 11, 12, 13, 14, 15, 16], \"xaxis\": \"x10\", \"y\": [307.0, 400.0, 355.0, 307.0, 267.0, 304.0, 347.0, 324.0, 636.0, 464.0, 206.0, 348.0, 309.0, 246.0, 349.0], \"yaxis\": \"y10\"}, {\"line\": {\"color\": \"green\"}, \"mode\": \"lines\", \"name\": \"DEN\", \"type\": \"scatter\", \"x\": [1, 2, 3, 4, 6, 7, 8, 9, 10, 11, 12, 13, 14, 15, 16], \"xaxis\": \"x10\", \"y\": [321.0, 379.0, 366.0, 298.0, 412.0, 251.0, 364.0, 565.0, 341.0, 219.0, 270.0, 273.0, 464.0, 332.0, 336.0], \"yaxis\": \"y10\"}, {\"line\": {\"color\": \"blue\"}, \"mode\": \"lines\", \"name\": \"DEN\", \"type\": \"scatter\", \"x\": [1, 2, 3, 4, 5, 6, 7, 8, 9, 10, 11, 12, 13, 14], \"xaxis\": \"x10\", \"y\": [470.0, 385.0, 293.0, 385.0, 436.0, 357.0, 309.0, 411.0, 348.0, 325.0, 308.0, 361.0, 274.0, 270.0], \"yaxis\": \"y10\"}, {\"line\": {\"color\": \"black\"}, \"mode\": \"lines\", \"name\": \"DET\", \"type\": \"scatter\", \"x\": [1, 2, 3, 4, 5, 6, 8, 9, 10, 11, 12, 13, 14, 15, 16], \"xaxis\": \"x11\", \"y\": [302.0, 323.0, 290.0, 256.0, 436.0, 820.0, 276.0, 287.0, 375.0, 430.0, 306.0, 331.0, 396.0, 371.0, 349.0], \"yaxis\": \"y11\"}, {\"line\": {\"color\": \"red\"}, \"mode\": \"lines\", \"name\": \"DET\", \"type\": \"scatter\", \"x\": [1, 2, 3, 4, 6, 7, 8, 10, 11, 12, 13, 15, 16], \"xaxis\": \"x11\", \"y\": [448.0, 375.0, 418.0, 507.0, 348.0, 344.0, 600.0, 277.0, 308.0, 422.0, 647.0, 319.0, 408.0], \"yaxis\": \"y11\"}, {\"line\": {\"color\": \"green\"}, \"mode\": \"lines\", \"name\": \"DET\", \"type\": \"scatter\", \"x\": [1, 2, 3, 4, 5, 8, 9, 10, 11, 12, 13, 14, 15, 16], \"xaxis\": \"x11\", \"y\": [367.0, 257.0, 324.0, 253.0, 589.0, 899.0, 345.0, 352.0, 289.0, 372.0, 434.0, 293.0, 276.0, 358.0], \"yaxis\": \"y11\"}, {\"line\": {\"color\": \"blue\"}, \"mode\": \"lines\", \"name\": \"DET\", \"type\": \"scatter\", \"x\": [1, 2, 3, 4, 5, 7, 9, 10, 11, 12, 13, 14], \"xaxis\": \"x11\", \"y\": [339.0, 427.0, 414.0, 382.0, 264.0, 788.0, 514.0, 614.0, 333.0, 310.0, 218.0, 313.0], \"yaxis\": \"y11\"}, {\"line\": {\"color\": \"black\"}, \"mode\": \"lines\", \"name\": \"GB\", \"type\": \"scatter\", \"x\": [1, 2, 3, 4, 5, 6, 7, 8, 9, 10, 11, 12, 13, 14, 15, 16], \"xaxis\": \"x12\", \"y\": [322.0, 363.0, 448.0, 362.0, 322.0, 370.0, 140.0, 404.0, 372.0, 322.0, 365.0, 313.0, 435.0, 293.0, 180.0, 350.0], \"yaxis\": \"y12\"}, {\"line\": {\"color\": \"red\"}, \"mode\": \"lines\", \"name\": \"GB\", \"type\": \"scatter\", \"x\": [1, 2, 3, 5, 6, 7, 9, 10, 11, 12, 13, 14, 15, 16], \"xaxis\": \"x12\", \"y\": [294.0, 263.0, 324.0, 778.0, 406.0, 333.0, 405.0, 826.0, 387.0, 309.0, 330.0, 451.0, 348.0, 450.0], \"yaxis\": \"y12\"}, {\"line\": {\"color\": \"green\"}, \"mode\": \"lines\", \"name\": \"GB\", \"type\": \"scatter\", \"x\": [1, 2, 3, 4, 5, 6, 8, 9, 10, 11, 12, 13, 14, 15, 16], \"xaxis\": \"x12\", \"y\": [370.0, 367.0, 344.0, 256.0, 342.0, 487.0, 311.0, 342.0, 265.0, 307.0, 276.0, 341.0, 384.0, 239.0, 258.0], \"yaxis\": \"y12\"}, {\"line\": {\"color\": \"blue\"}, \"mode\": \"lines\", \"name\": \"GB\", \"type\": \"scatter\", \"x\": [1, 2, 3, 4, 5, 6, 8, 9, 10, 11, 12, 13, 14], \"xaxis\": \"x12\", \"y\": [370.0, 351.0, 340.0, 423.0, 523.0, 521.0, 359.0, 368.0, 1113.0, 254.0, 325.0, 300.0, 325.0], \"yaxis\": \"y12\"}, {\"line\": {\"color\": \"black\"}, \"mode\": \"lines\", \"name\": \"HOU\", \"type\": \"scatter\", \"x\": [1, 2, 3, 4, 5, 6, 7, 9, 10, 11, 12, 13, 14, 15, 16], \"xaxis\": \"x13\", \"y\": [398.0, 300.0, 413.0, 428.0, 444.0, 704.0, 270.0, 256.0, 364.0, 362.0, 403.0, 189.0, 305.0, 330.0, 402.0], \"yaxis\": \"y13\"}, {\"line\": {\"color\": \"red\"}, \"mode\": \"lines\", \"name\": \"HOU\", \"type\": \"scatter\", \"x\": [1, 2, 3, 4, 5, 6, 7, 8, 9, 10, 11, 12, 13, 14, 15, 16], \"xaxis\": \"x13\", \"y\": [344.0, 351.0, 284.0, 359.0, 214.0, 414.0, 271.0, 269.0, 273.0, 354.0, 353.0, 307.0, 316.0, 389.0, 250.0, 289.0], \"yaxis\": \"y13\"}, {\"line\": {\"color\": \"green\"}, \"mode\": \"lines\", \"name\": \"HOU\", \"type\": \"scatter\", \"x\": [1, 2, 3, 4, 5, 6, 7, 9, 10, 11, 12, 13, 14, 15, 16], \"xaxis\": \"x13\", \"y\": [203.0, 266.0, 417.0, 445.0, 394.0, 342.0, 509.0, 571.0, 357.0, 303.0, 384.0, 311.0, 186.0, 227.0, 209.0], \"yaxis\": \"y13\"}, {\"line\": {\"color\": \"blue\"}, \"mode\": \"lines\", \"name\": \"HOU\", \"type\": \"scatter\", \"x\": [1, 2, 3, 4, 5, 6, 7, 8, 9, 10, 11, 12, 13, 14], \"xaxis\": \"x13\", \"y\": [325.0, 437.0, 427.0, 466.0, 462.0, 216.0, 272.0, 427.0, 290.0, 320.0, 462.0, 384.0, 315.0, 286.0], \"yaxis\": \"y13\"}, {\"line\": {\"color\": \"black\"}, \"mode\": \"lines\", \"name\": \"IND\", \"type\": \"scatter\", \"x\": [1, 2, 3, 4, 5, 7, 8, 9, 10, 11, 12, 13, 14, 15, 16], \"xaxis\": \"x14\", \"y\": [306.0, 343.0, 378.0, 326.0, 732.0, 376.0, 359.0, 365.0, 276.0, 336.0, 240.0, 322.0, 190.0, 268.0, 327.0], \"yaxis\": \"y14\"}, {\"line\": {\"color\": \"red\"}, \"mode\": \"lines\", \"name\": \"IND\", \"type\": \"scatter\", \"x\": [1, 2, 3, 4, 5, 6, 7, 9, 11, 12, 13, 14, 15, 16], \"xaxis\": \"x14\", \"y\": [452.0, 253.0, 410.0, 284.0, 396.0, 392.0, 699.0, 355.0, 637.0, 421.0, 348.0, 411.0, 393.0, 384.0], \"yaxis\": \"y14\"}, {\"line\": {\"color\": \"green\"}, \"mode\": \"lines\", \"name\": \"IND\", \"type\": \"scatter\", \"x\": [1, 2, 3, 4, 5, 6, 7, 8, 9, 11, 12, 13, 14, 15, 16], \"xaxis\": \"x14\", \"y\": [225.0, 266.0, 335.0, 237.0, 447.0, 297.0, 232.0, 331.0, 638.0, 254.0, 290.0, 227.0, 228.0, 296.0, 250.0], \"yaxis\": \"y14\"}, {\"line\": {\"color\": \"blue\"}, \"mode\": \"lines\", \"name\": \"IND\", \"type\": \"scatter\", \"x\": [1, 2, 3, 4, 5, 6, 7, 9, 10, 11, 12, 13, 14], \"xaxis\": \"x14\", \"y\": [380.0, 281.0, 209.0, 480.0, 439.0, 428.0, 841.0, 368.0, 765.0, 455.0, 265.0, 436.0, 370.0], \"yaxis\": \"y14\"}, {\"line\": {\"color\": \"black\"}, \"mode\": \"lines\", \"name\": \"JAX\", \"type\": \"scatter\", \"x\": [1, 2, 3, 4, 5, 6, 7, 8, 9, 10, 11, 12, 13, 14, 15, 16], \"xaxis\": \"x15\", \"y\": [265.0, 396.0, 293.0, 431.0, 325.0, 394.0, 295.0, 436.0, 258.0, 308.0, 420.0, 383.0, 380.0, 357.0, 414.0, 215.0], \"yaxis\": \"y15\"}, {\"line\": {\"color\": \"red\"}, \"mode\": \"lines\", \"name\": \"JAX\", \"type\": \"scatter\", \"x\": [1, 2, 3, 4, 5, 7, 8, 9, 10, 11, 12, 13, 14, 15, 16], \"xaxis\": \"x15\", \"y\": [348.0, 388.0, 216.0, 331.0, 317.0, 344.0, 821.0, 329.0, 285.0, 301.0, 333.0, 315.0, 150.0, 415.0, 470.0], \"yaxis\": \"y15\"}, {\"line\": {\"color\": \"green\"}, \"mode\": \"lines\", \"name\": \"JAX\", \"type\": \"scatter\", \"x\": [1, 2, 3, 4, 5, 6, 7, 8, 9, 10, 11, 12, 13, 14, 15, 16], \"xaxis\": \"x15\", \"y\": [280.0, 310.0, 440.0, 311.0, 313.0, 389.0, 518.0, 407.0, 400.0, 284.0, 219.0, 428.0, 425.0, 464.0, 474.0, 229.0], \"yaxis\": \"y15\"}, {\"line\": {\"color\": \"blue\"}, \"mode\": \"lines\", \"name\": \"JAX\", \"type\": \"scatter\", \"x\": [1, 2, 3, 4, 5, 6, 7, 8, 9, 10, 11, 12, 13, 14], \"xaxis\": \"x15\", \"y\": [305.0, 480.0, 232.0, 503.0, 502.0, 204.0, 259.0, 335.0, 415.0, 658.0, 333.0, 211.0, 255.0, 192.0], \"yaxis\": \"y15\"}, {\"line\": {\"color\": \"black\"}, \"mode\": \"lines\", \"name\": \"KC\", \"type\": \"scatter\", \"x\": [1, 2, 3, 4, 5, 7, 8, 9, 10, 11, 12, 13, 14, 15, 16], \"xaxis\": \"x16\", \"y\": [330.0, 314.0, 328.0, 461.0, 615.0, 377.0, 340.0, 303.0, 385.0, 413.0, 232.0, 329.0, 277.0, 258.0, 339.0], \"yaxis\": \"y16\"}, {\"line\": {\"color\": \"red\"}, \"mode\": \"lines\", \"name\": \"KC\", \"type\": \"scatter\", \"x\": [1, 2, 3, 4, 6, 7, 8, 9, 10, 11, 12, 13, 14, 15, 16], \"xaxis\": \"x16\", \"y\": [413.0, 291.0, 293.0, 357.0, 732.0, 422.0, 231.0, 256.0, 343.0, 275.0, 389.0, 323.0, 317.0, 484.0, 365.0], \"yaxis\": \"y16\"}, {\"line\": {\"color\": \"green\"}, \"mode\": \"lines\", \"name\": \"KC\", \"type\": \"scatter\", \"x\": [1, 2, 3, 4, 5, 6, 7, 8, 9, 10, 11, 12, 13, 14, 15, 16], \"xaxis\": \"x16\", \"y\": [537.0, 344.0, 311.0, 397.0, 450.0, 251.0, 425.0, 276.0, 323.0, 363.0, 236.0, 474.0, 408.0, 397.0, 404.0, 379.0], \"yaxis\": \"y16\"}, {\"line\": {\"color\": \"blue\"}, \"mode\": \"lines\", \"name\": \"KC\", \"type\": \"scatter\", \"x\": [1, 2, 3, 4, 5, 6, 7, 8, 9, 10, 11, 12, 13, 14], \"xaxis\": \"x16\", \"y\": [362.0, 449.0, 384.0, 446.0, 424.0, 446.0, 551.0, 340.0, 499.0, 660.0, 546.0, 469.0, 442.0, 294.0], \"yaxis\": \"y16\"}, {\"line\": {\"color\": \"black\"}, \"mode\": \"lines\", \"name\": \"LA\", \"type\": \"scatter\", \"x\": [1, 2, 3, 4, 5, 6, 8, 9, 10, 11, 12, 13, 14, 15, 16], \"xaxis\": \"x17\", \"y\": [352.0, 213.0, 258.0, 328.0, 334.0, 308.0, 710.0, 285.0, 213.0, 345.0, 212.0, 317.0, 319.0, 207.0, 364.0], \"yaxis\": \"y17\"}, {\"line\": {\"color\": \"red\"}, \"mode\": \"lines\", \"name\": \"LA\", \"type\": \"scatter\", \"x\": [1, 2, 3, 4, 5, 6, 7, 8, 10, 11, 12, 13, 14, 15, 16], \"xaxis\": \"x17\", \"y\": [185.0, 283.0, 320.0, 288.0, 345.0, 387.0, 345.0, 339.0, 552.0, 247.0, 162.0, 312.0, 183.0, 177.0, 123.0], \"yaxis\": \"y17\"}, {\"line\": {\"color\": \"green\"}, \"mode\": \"lines\", \"name\": \"LA\", \"type\": \"scatter\", \"x\": [1, 2, 3, 4, 5, 6, 7, 8, 9, 10, 11, 12, 13, 14, 15, 16], \"xaxis\": \"x17\", \"y\": [372.0, 332.0, 418.0, 412.0, 375.0, 249.0, 425.0, 473.0, 443.0, 254.0, 415.0, 303.0, 307.0, 352.0, 402.0, 251.0], \"yaxis\": \"y17\"}, {\"line\": {\"color\": \"blue\"}, \"mode\": \"lines\", \"name\": \"LA\", \"type\": \"scatter\", \"x\": [1, 2, 3, 4, 5, 6, 7, 8, 9, 10, 11, 12, 13, 14], \"xaxis\": \"x17\", \"y\": [365.0, 438.0, 521.0, 556.0, 468.0, 444.0, 331.0, 903.0, 456.0, 456.0, 455.0, 344.0, 214.0, 407.0], \"yaxis\": \"y17\"}, {\"line\": {\"color\": \"black\"}, \"mode\": \"lines\", \"name\": \"LAC\", \"type\": \"scatter\", \"x\": [1, 2, 3, 4, 5, 6, 8, 9, 10, 11, 12, 13, 14, 15, 16], \"xaxis\": \"x18\", \"y\": [483.0, 354.0, 369.0, 438.0, 406.0, 969.0, 371.0, 339.0, 201.0, 369.0, 272.0, 280.0, 442.0, 343.0, 317.0], \"yaxis\": \"y18\"}, {\"line\": {\"color\": \"red\"}, \"mode\": \"lines\", \"name\": \"LAC\", \"type\": \"scatter\", \"x\": [1, 2, 3, 4, 5, 6, 7, 8, 9, 11, 12, 13, 14, 15, 16], \"xaxis\": \"x18\", \"y\": [388.0, 357.0, 356.0, 346.0, 423.0, 265.0, 426.0, 369.0, 855.0, 302.0, 330.0, 278.0, 263.0, 356.0, 398.0], \"yaxis\": \"y18\"}, {\"line\": {\"color\": \"green\"}, \"mode\": \"lines\", \"name\": \"LAC\", \"type\": \"scatter\", \"x\": [1, 3, 4, 5, 6, 7, 8, 9, 10, 11, 12, 13, 14, 15, 16], \"xaxis\": \"x18\", \"y\": [616.0, 330.0, 400.0, 382.0, 343.0, 242.0, 349.0, 322.0, 429.0, 515.0, 429.0, 488.0, 307.0, 379.0, 495.0], \"yaxis\": \"y18\"}, {\"line\": {\"color\": \"blue\"}, \"mode\": \"lines\", \"name\": \"LAC\", \"type\": \"scatter\", \"x\": [1, 2, 3, 4, 5, 6, 7, 8, 9, 10, 11, 12, 13, 14], \"xaxis\": \"x18\", \"y\": [545.0, 349.0, 356.0, 370.0, 412.0, 449.0, 344.0, 375.0, 335.0, 814.0, 414.0, 373.0, 288.0, 409.0], \"yaxis\": \"y18\"}, {\"line\": {\"color\": \"black\"}, \"mode\": \"lines\", \"name\": \"MIA\", \"type\": \"scatter\", \"x\": [1, 2, 3, 4, 5, 6, 7, 8, 9, 10, 11, 12, 13, 14, 15, 16], \"xaxis\": \"x19\", \"y\": [256.0, 386.0, 393.0, 226.0, 434.0, 503.0, 270.0, 397.0, 289.0, 210.0, 333.0, 219.0, 363.0, 231.0, 361.0, 438.0], \"yaxis\": \"y19\"}, {\"line\": {\"color\": \"red\"}, \"mode\": \"lines\", \"name\": \"MIA\", \"type\": \"scatter\", \"x\": [1, 2, 3, 4, 5, 6, 7, 9, 10, 11, 12, 13, 14, 15, 16], \"xaxis\": \"x19\", \"y\": [222.0, 459.0, 426.0, 222.0, 200.0, 474.0, 456.0, 611.0, 240.0, 358.0, 277.0, 314.0, 303.0, 494.0, 280.0], \"yaxis\": \"y19\"}, {\"line\": {\"color\": \"green\"}, \"mode\": \"lines\", \"name\": \"MIA\", \"type\": \"scatter\", \"x\": [1, 3, 4, 5, 7, 9, 10, 11, 12, 13, 14, 15, 16], \"xaxis\": \"x19\", \"y\": [336.0, 225.0, 186.0, 467.0, 553.0, 710.0, 448.0, 221.0, 367.0, 362.0, 349.0, 345.0, 356.0], \"yaxis\": \"y19\"}, {\"line\": {\"color\": \"blue\"}, \"mode\": \"lines\", \"name\": \"MIA\", \"type\": \"scatter\", \"x\": [1, 2, 3, 4, 5, 6, 7, 8, 9, 10, 11, 12, 13, 14], \"xaxis\": \"x19\", \"y\": [342.0, 257.0, 373.0, 172.0, 297.0, 543.0, 322.0, 370.0, 168.0, 588.0, 314.0, 175.0, 412.0, 193.0], \"yaxis\": \"y19\"}, {\"line\": {\"color\": \"black\"}, \"mode\": \"lines\", \"name\": \"MIN\", \"type\": \"scatter\", \"x\": [1, 2, 3, 4, 5, 6, 7, 8, 9, 10, 11, 12, 13, 14, 15, 16], \"xaxis\": \"x20\", \"y\": [248.0, 350.0, 284.0, 325.0, 321.0, 425.0, 327.0, 295.0, 385.0, 342.0, 365.0, 125.0, 389.0, 350.0, 368.0, 242.0], \"yaxis\": \"y20\"}, {\"line\": {\"color\": \"red\"}, \"mode\": \"lines\", \"name\": \"MIN\", \"type\": \"scatter\", \"x\": [1, 2, 3, 4, 5, 6, 7, 8, 9, 10, 11, 12, 13, 14, 15, 16], \"xaxis\": \"x20\", \"y\": [301.0, 284.0, 213.0, 366.0, 351.0, 282.0, 258.0, 337.0, 331.0, 217.0, 306.0, 318.0, 377.0, 282.0, 446.0, 374.0], \"yaxis\": \"y20\"}, {\"line\": {\"color\": \"green\"}, \"mode\": \"lines\", \"name\": \"MIN\", \"type\": \"scatter\", \"x\": [1, 2, 4, 5, 6, 7, 8, 9, 10, 11, 12, 13, 14, 15, 16], \"xaxis\": \"x20\", \"y\": [468.0, 731.0, 284.0, 300.0, 351.0, 357.0, 377.0, 406.0, 451.0, 408.0, 312.0, 358.0, 346.0, 236.0, 327.0], \"yaxis\": \"y20\"}, {\"line\": {\"color\": \"blue\"}, \"mode\": \"lines\", \"name\": \"MIN\", \"type\": \"scatter\", \"x\": [1, 2, 3, 4, 5, 6, 7, 9, 10, 11, 12, 13, 14], \"xaxis\": \"x20\", \"y\": [343.0, 482.0, 292.0, 448.0, 375.0, 411.0, 736.0, 283.0, 270.0, 416.0, 278.0, 276.0, 418.0], \"yaxis\": \"y20\"}, {\"line\": {\"color\": \"black\"}, \"mode\": \"lines\", \"name\": \"NE\", \"type\": \"scatter\", \"x\": [1, 2, 3, 4, 5, 6, 7, 8, 10, 11, 12, 13, 14, 15, 16], \"xaxis\": \"x21\", \"y\": [361.0, 507.0, 471.0, 356.0, 417.0, 353.0, 437.0, 460.0, 762.0, 301.0, 427.0, 313.0, 346.0, 284.0, 196.0], \"yaxis\": \"y21\"}, {\"line\": {\"color\": \"red\"}, \"mode\": \"lines\", \"name\": \"NE\", \"type\": \"scatter\", \"x\": [1, 2, 3, 4, 5, 6, 7, 8, 9, 10, 11, 12, 13, 14, 15, 16], \"xaxis\": \"x21\", \"y\": [363.0, 465.0, 282.0, 277.0, 501.0, 437.0, 362.0, 357.0, 385.0, 444.0, 377.0, 402.0, 496.0, 313.0, 325.0, 398.0], \"yaxis\": \"y21\"}, {\"line\": {\"color\": \"green\"}, \"mode\": \"lines\", \"name\": \"NE\", \"type\": \"scatter\", \"x\": [1, 2, 3, 4, 6, 7, 8, 9, 10, 11, 12, 13, 14, 15, 16], \"xaxis\": \"x21\", \"y\": [371.0, 555.0, 398.0, 775.0, 375.0, 403.0, 387.0, 396.0, 420.0, 417.0, 435.0, 248.0, 362.0, 411.0, 330.0], \"yaxis\": \"y21\"}, {\"line\": {\"color\": \"blue\"}, \"mode\": \"lines\", \"name\": \"NE\", \"type\": \"scatter\", \"x\": [1, 2, 3, 4, 5, 6, 7, 8, 9, 10, 11, 12, 13, 14], \"xaxis\": \"x21\", \"y\": [389.0, 302.0, 209.0, 449.0, 438.0, 500.0, 381.0, 387.0, 717.0, 284.0, 498.0, 471.0, 421.0, 368.0], \"yaxis\": \"y21\"}, {\"line\": {\"color\": \"black\"}, \"mode\": \"lines\", \"name\": \"NO\", \"type\": \"scatter\", \"x\": [1, 2, 3, 4, 5, 6, 7, 8, 9, 11, 12, 13, 14, 15, 16], \"xaxis\": \"x22\", \"y\": [408.0, 323.0, 380.0, 438.0, 388.0, 385.0, 449.0, 1030.0, 350.0, 268.0, 336.0, 388.0, 399.0, 537.0, 390.0], \"yaxis\": \"y22\"}, {\"line\": {\"color\": \"red\"}, \"mode\": \"lines\", \"name\": \"NO\", \"type\": \"scatter\", \"x\": [1, 2, 3, 4, 5, 6, 7, 8, 9, 10, 11, 12, 13, 14, 15, 16], \"xaxis\": \"x22\", \"y\": [507.0, 288.0, 476.0, 275.0, 523.0, 463.0, 375.0, 571.0, 373.0, 371.0, 555.0, 369.0, 294.0, 488.0, 419.0, 473.0], \"yaxis\": \"y22\"}, {\"line\": {\"color\": \"green\"}, \"mode\": \"lines\", \"name\": \"NO\", \"type\": \"scatter\", \"x\": [1, 2, 3, 4, 5, 6, 7, 8, 9, 10, 11, 12, 13, 14, 15, 16], \"xaxis\": \"x22\", \"y\": [344.0, 429.0, 362.0, 347.0, 379.0, 485.0, 387.0, 407.0, 482.0, 537.0, 346.0, 400.0, 306.0, 416.0, 315.0, 323.0], \"yaxis\": \"y22\"}, {\"line\": {\"color\": \"blue\"}, \"mode\": \"lines\", \"name\": \"NO\", \"type\": \"scatter\", \"x\": [1, 2, 3, 4, 6, 7, 8, 9, 10, 11, 12, 13, 14], \"xaxis\": \"x22\", \"y\": [479.0, 277.0, 534.0, 836.0, 339.0, 270.0, 487.0, 509.0, 1055.0, 312.0, 176.0, 300.0, 346.0], \"yaxis\": \"y22\"}, {\"line\": {\"color\": \"black\"}, \"mode\": \"lines\", \"name\": \"NYG\", \"type\": \"scatter\", \"x\": [1, 2, 3, 4, 5, 6, 7, 8, 10, 11, 12, 13, 14, 15, 16], \"xaxis\": \"x23\", \"y\": [289.0, 388.0, 363.0, 305.0, 525.0, 247.0, 289.0, 743.0, 422.0, 332.0, 355.0, 429.0, 406.0, 363.0, 502.0], \"yaxis\": \"y23\"}, {\"line\": {\"color\": \"red\"}, \"mode\": \"lines\", \"name\": \"NYG\", \"type\": \"scatter\", \"x\": [1, 2, 3, 4, 5, 6, 7, 8, 9, 10, 12, 13, 15, 16], \"xaxis\": \"x23\", \"y\": [316.0, 417.0, 457.0, 339.0, 219.0, 435.0, 232.0, 302.0, 351.0, 329.0, 494.0, 300.0, 470.0, 332.0], \"yaxis\": \"y23\"}, {\"line\": {\"color\": \"green\"}, \"mode\": \"lines\", \"name\": \"NYG\", \"type\": \"scatter\", \"x\": [1, 2, 3, 5, 6, 8, 10, 11, 12, 13, 14, 15, 16], \"xaxis\": \"x23\", \"y\": [233.0, 270.0, 794.0, 335.0, 443.0, 319.0, 693.0, 170.0, 265.0, 330.0, 504.0, 293.0, 381.0], \"yaxis\": \"y23\"}, {\"line\": {\"color\": \"blue\"}, \"mode\": \"lines\", \"name\": \"NYG\", \"type\": \"scatter\", \"x\": [1, 2, 3, 4, 5, 6, 7, 10, 11, 12, 13, 14], \"xaxis\": \"x23\", \"y\": [324.0, 255.0, 379.0, 301.0, 434.0, 401.0, 738.0, 913.0, 402.0, 338.0, 402.0, 260.0], \"yaxis\": \"y23\"}, {\"line\": {\"color\": \"black\"}, \"mode\": \"lines\", \"name\": \"NYJ\", \"type\": \"scatter\", \"x\": [1, 2, 3, 4, 6, 7, 8, 9, 10, 11, 12, 13, 14, 15, 16], \"xaxis\": \"x24\", \"y\": [333.0, 344.0, 323.0, 425.0, 846.0, 366.0, 290.0, 318.0, 267.0, 411.0, 463.0, 439.0, 372.0, 428.0, 300.0], \"yaxis\": \"y24\"}, {\"line\": {\"color\": \"red\"}, \"mode\": \"lines\", \"name\": \"NYJ\", \"type\": \"scatter\", \"x\": [1, 2, 3, 4, 5, 6, 7, 8, 9, 10, 11, 12, 13, 14, 15, 16], \"xaxis\": \"x24\", \"y\": [340.0, 493.0, 305.0, 305.0, 316.0, 230.0, 344.0, 393.0, 324.0, 296.0, 333.0, 250.0, 406.0, 360.0, 239.0, 329.0], \"yaxis\": \"y24\"}, {\"line\": {\"color\": \"green\"}, \"mode\": \"lines\", \"name\": \"NYJ\", \"type\": \"scatter\", \"x\": [1, 2, 3, 4, 5, 6, 7, 8, 9, 11, 12, 13, 14, 15, 16], \"xaxis\": \"x24\", \"y\": [214.0, 271.0, 336.0, 471.0, 212.0, 408.0, 272.0, 279.0, 606.0, 391.0, 490.0, 100.0, 294.0, 295.0, 247.0], \"yaxis\": \"y24\"}, {\"line\": {\"color\": \"blue\"}, \"mode\": \"lines\", \"name\": \"NYJ\", \"type\": \"scatter\", \"x\": [1, 2, 3, 4, 5, 6, 7, 8, 9, 10, 11, 12, 13, 14], \"xaxis\": \"x24\", \"y\": [349.0, 362.0, 268.0, 178.0, 512.0, 374.0, 263.0, 207.0, 282.0, 398.0, 338.0, 280.0, 248.0, 318.0], \"yaxis\": \"y24\"}, {\"line\": {\"color\": \"black\"}, \"mode\": \"lines\", \"name\": \"OAK\", \"type\": \"scatter\", \"x\": [1, 2, 3, 4, 5, 6, 7, 9, 10, 11, 12, 13, 14, 15, 16], \"xaxis\": \"x25\", \"y\": [246.0, 448.0, 469.0, 243.0, 288.0, 412.0, 451.0, 811.0, 214.0, 402.0, 361.0, 126.0, 372.0, 283.0, 205.0], \"yaxis\": \"y25\"}, {\"line\": {\"color\": \"red\"}, \"mode\": \"lines\", \"name\": \"OAK\", \"type\": \"scatter\", \"x\": [1, 2, 3, 4, 5, 6, 7, 9, 10, 11, 12, 13, 14, 15, 16], \"xaxis\": \"x25\", \"y\": [490.0, 454.0, 368.0, 261.0, 391.0, 286.0, 970.0, 397.0, 325.0, 367.0, 401.0, 244.0, 345.0, 459.0, 221.0], \"yaxis\": \"y25\"}, {\"line\": {\"color\": \"green\"}, \"mode\": \"lines\", \"name\": \"OAK\", \"type\": \"scatter\", \"x\": [1, 2, 3, 4, 5, 6, 7, 8, 9, 10, 11, 12, 13, 14, 15, 16], \"xaxis\": \"x25\", \"y\": [359.0, 410.0, 128.0, 254.0, 245.0, 274.0, 505.0, 367.0, 379.0, 346.0, 348.0, 401.0, 270.0, 293.0, 274.0, 336.0], \"yaxis\": \"y25\"}, {\"line\": {\"color\": \"blue\"}, \"mode\": \"lines\", \"name\": \"OAK\", \"type\": \"scatter\", \"x\": [1, 2, 3, 4, 5, 6, 7, 9, 10, 11, 12, 13, 14], \"xaxis\": \"x25\", \"y\": [395.0, 373.0, 434.0, 567.0, 289.0, 185.0, 347.0, 559.0, 642.0, 249.0, 442.0, 354.0, 297.0], \"yaxis\": \"y25\"}, {\"line\": {\"color\": \"black\"}, \"mode\": \"lines\", \"name\": \"PHI\", \"type\": \"scatter\", \"x\": [1, 2, 3, 4, 5, 6, 7, 8, 9, 10, 11, 12, 13, 14, 15, 16], \"xaxis\": \"x26\", \"y\": [399.0, 226.0, 231.0, 320.0, 519.0, 425.0, 349.0, 459.0, 436.0, 383.0, 227.0, 248.0, 348.0, 424.0, 398.0, 435.0], \"yaxis\": \"y26\"}, {\"line\": {\"color\": \"red\"}, \"mode\": \"lines\", \"name\": \"PHI\", \"type\": \"scatter\", \"x\": [1, 2, 3, 4, 6, 7, 8, 9, 10, 11, 12, 13, 14, 15, 16], \"xaxis\": \"x26\", \"y\": [403.0, 280.0, 426.0, 346.0, 480.0, 291.0, 443.0, 431.0, 310.0, 292.0, 359.0, 371.0, 330.0, 286.0, 346.0], \"yaxis\": \"y26\"}, {\"line\": {\"color\": \"green\"}, \"mode\": \"lines\", \"name\": \"PHI\", \"type\": \"scatter\", \"x\": [1, 2, 3, 4, 5, 6, 8, 9, 10, 11, 12, 13, 14, 15, 16], \"xaxis\": \"x26\", \"y\": [356.0, 406.0, 354.0, 454.0, 419.0, 683.0, 304.0, 419.0, 387.0, 420.0, 425.0, 455.0, 341.0, 216.0, 219.0], \"yaxis\": \"y26\"}, {\"line\": {\"color\": \"blue\"}, \"mode\": \"lines\", \"name\": \"PHI\", \"type\": \"scatter\", \"x\": [1, 2, 3, 4, 5, 6, 7, 8, 9, 10, 11, 12, 13, 14], \"xaxis\": \"x26\", \"y\": [234.0, 412.0, 379.0, 432.0, 366.0, 379.0, 342.0, 395.0, 421.0, 617.0, 345.0, 438.0, 256.0, 381.0], \"yaxis\": \"y26\"}, {\"line\": {\"color\": \"black\"}, \"mode\": \"lines\", \"name\": \"PIT\", \"type\": \"scatter\", \"x\": [1, 2, 3, 4, 5, 6, 7, 8, 9, 10, 11, 12, 13, 14, 15, 16], \"xaxis\": \"x27\", \"y\": [466.0, 457.0, 259.0, 263.0, 349.0, 310.0, 339.0, 356.0, 599.0, 461.0, 540.0, 524.0, 354.0, 377.0, 303.0, 381.0], \"yaxis\": \"y27\"}, {\"line\": {\"color\": \"red\"}, \"mode\": \"lines\", \"name\": \"PIT\", \"type\": \"scatter\", \"x\": [1, 2, 3, 4, 5, 6, 7, 8, 9, 10, 11, 12, 13, 14, 15, 16], \"xaxis\": \"x27\", \"y\": [435.0, 374.0, 251.0, 438.0, 433.0, 299.0, 375.0, 277.0, 448.0, 315.0, 369.0, 389.0, 460.0, 382.0, 406.0, 312.0], \"yaxis\": \"y27\"}, {\"line\": {\"color\": \"green\"}, \"mode\": \"lines\", \"name\": \"PIT\", \"type\": \"scatter\", \"x\": [1, 2, 3, 4, 5, 6, 7, 8, 9, 10, 11, 12, 13, 14, 15, 16], \"xaxis\": \"x27\", \"y\": [290.0, 335.0, 282.0, 381.0, 364.0, 439.0, 420.0, 392.0, 318.0, 357.0, 464.0, 374.0, 545.0, 413.0, 330.0, 348.0], \"yaxis\": \"y27\"}, {\"line\": {\"color\": \"blue\"}, \"mode\": \"lines\", \"name\": \"PIT\", \"type\": \"scatter\", \"x\": [1, 2, 3, 4, 5, 6, 7, 8, 9, 10, 11, 12, 13, 14], \"xaxis\": \"x27\", \"y\": [472.0, 477.0, 413.0, 286.0, 381.0, 483.0, 421.0, 395.0, 457.0, 780.0, 527.0, 336.0, 340.0, 376.0], \"yaxis\": \"y27\"}, {\"line\": {\"color\": \"black\"}, \"mode\": \"lines\", \"name\": \"SEA\", \"type\": \"scatter\", \"x\": [1, 2, 3, 4, 5, 6, 7, 8, 9, 10, 11, 12, 13, 14, 15, 16], \"xaxis\": \"x28\", \"y\": [345.0, 324.0, 371.0, 345.0, 397.0, 334.0, 388.0, 323.0, 343.0, 508.0, 436.0, 433.0, 424.0, 423.0, 313.0, 354.0], \"yaxis\": \"y28\"}, {\"line\": {\"color\": \"red\"}, \"mode\": \"lines\", \"name\": \"SEA\", \"type\": \"scatter\", \"x\": [1, 2, 3, 4, 5, 6, 7, 8, 9, 10, 11, 12, 13, 14, 15, 16], \"xaxis\": \"x28\", \"y\": [352.0, 306.0, 418.0, 354.0, 333.0, 257.0, 359.0, 278.0, 420.0, 439.0, 245.0, 534.0, 354.0, 299.0, 393.0, 376.0], \"yaxis\": \"y28\"}, {\"line\": {\"color\": \"green\"}, \"mode\": \"lines\", \"name\": \"SEA\", \"type\": \"scatter\", \"x\": [1, 2, 3, 4, 5, 6, 7, 8, 9, 10, 11, 12, 13, 14, 15, 16], \"xaxis\": \"x28\", \"y\": [225.0, 312.0, 433.0, 479.0, 241.0, 425.0, 479.0, 431.0, 287.0, 362.0, 318.0, 293.0, 401.0, 149.0, 136.0, 296.0], \"yaxis\": \"y28\"}, {\"line\": {\"color\": \"blue\"}, \"mode\": \"lines\", \"name\": \"SEA\", \"type\": \"scatter\", \"x\": [1, 2, 3, 4, 5, 6, 7, 8, 9, 10, 11, 12, 13, 14], \"xaxis\": \"x28\", \"y\": [306.0, 276.0, 295.0, 331.0, 373.0, 369.0, 413.0, 356.0, 414.0, 792.0, 397.0, 331.0, 276.0, 378.0], \"yaxis\": \"y28\"}, {\"line\": {\"color\": \"black\"}, \"mode\": \"lines\", \"name\": \"SF\", \"type\": \"scatter\", \"x\": [1, 2, 3, 4, 5, 6, 7, 8, 9, 10, 11, 12, 13, 14, 15, 16], \"xaxis\": \"x29\", \"y\": [395.0, 411.0, 156.0, 196.0, 380.0, 391.0, 142.0, 189.0, 317.0, 306.0, 368.0, 291.0, 221.0, 318.0, 322.0, 458.0], \"yaxis\": \"y29\"}, {\"line\": {\"color\": \"red\"}, \"mode\": \"lines\", \"name\": \"SF\", \"type\": \"scatter\", \"x\": [1, 2, 3, 4, 5, 6, 8, 9, 10, 11, 12, 13, 14, 15, 16], \"xaxis\": \"x29\", \"y\": [320.0, 302.0, 256.0, 295.0, 286.0, 573.0, 486.0, 281.0, 299.0, 475.0, 147.0, 364.0, 272.0, 325.0, 253.0], \"yaxis\": \"y29\"}, {\"line\": {\"color\": \"green\"}, \"mode\": \"lines\", \"name\": \"SF\", \"type\": \"scatter\", \"x\": [1, 2, 3, 4, 5, 7, 8, 9, 10, 11, 12, 13, 14, 15, 16], \"xaxis\": \"x29\", \"y\": [217.0, 248.0, 421.0, 305.0, 737.0, 290.0, 238.0, 329.0, 474.0, 280.0, 388.0, 416.0, 414.0, 369.0, 463.0], \"yaxis\": \"y29\"}, {\"line\": {\"color\": \"blue\"}, \"mode\": \"lines\", \"name\": \"SF\", \"type\": \"scatter\", \"x\": [1, 2, 3, 4, 5, 6, 7, 8, 9, 10, 11, 12, 13, 14], \"xaxis\": \"x29\", \"y\": [327.0, 346.0, 408.0, 364.0, 447.0, 401.0, 228.0, 267.0, 405.0, 748.0, 342.0, 452.0, 389.0, 351.0], \"yaxis\": \"y29\"}, {\"line\": {\"color\": \"black\"}, \"mode\": \"lines\", \"name\": \"TB\", \"type\": \"scatter\", \"x\": [1, 2, 3, 4, 5, 7, 8, 9, 10, 11, 12, 13, 14, 15, 16], \"xaxis\": \"x30\", \"y\": [273.0, 333.0, 318.0, 411.0, 369.0, 769.0, 385.0, 327.0, 521.0, 344.0, 388.0, 291.0, 509.0, 389.0, 386.0], \"yaxis\": \"y30\"}, {\"line\": {\"color\": \"red\"}, \"mode\": \"lines\", \"name\": \"TB\", \"type\": \"scatter\", \"x\": [1, 2, 3, 4, 5, 6, 7, 8, 9, 10, 11, 12, 13, 14, 15, 16], \"xaxis\": \"x30\", \"y\": [371.0, 306.0, 472.0, 215.0, 317.0, 513.0, 272.0, 398.0, 360.0, 442.0, 338.0, 351.0, 270.0, 276.0, 349.0, 300.0], \"yaxis\": \"y30\"}, {\"line\": {\"color\": \"green\"}, \"mode\": \"lines\", \"name\": \"TB\", \"type\": \"scatter\", \"x\": [1, 2, 3, 4, 5, 6, 7, 8, 9, 10, 11, 12, 13, 14, 15, 16], \"xaxis\": \"x30\", \"y\": [311.0, 342.0, 434.0, 409.0, 414.0, 447.0, 279.0, 200.0, 271.0, 321.0, 373.0, 395.0, 400.0, 373.0, 392.0, 457.0], \"yaxis\": \"y30\"}, {\"line\": {\"color\": \"blue\"}, \"mode\": \"lines\", \"name\": \"TB\", \"type\": \"scatter\", \"x\": [1, 2, 3, 4, 5, 6, 7, 8, 9, 10, 11, 12, 13, 14], \"xaxis\": \"x30\", \"y\": [529.0, 436.0, 455.0, 311.0, 512.0, 456.0, 578.0, 301.0, 501.0, 1011.0, 412.0, 315.0, 279.0, 241.0], \"yaxis\": \"y30\"}, {\"line\": {\"color\": \"black\"}, \"mode\": \"lines\", \"name\": \"TEN\", \"type\": \"scatter\", \"x\": [1, 2, 3, 4, 5, 6, 7, 8, 9, 10, 11, 12, 13, 14, 15, 16], \"xaxis\": \"x31\", \"y\": [309.0, 385.0, 433.0, 276.0, 299.0, 256.0, 211.0, 485.0, 242.0, 316.0, 251.0, 467.0, 294.0, 282.0, 257.0, 231.0], \"yaxis\": \"y31\"}, {\"line\": {\"color\": \"red\"}, \"mode\": \"lines\", \"name\": \"TEN\", \"type\": \"scatter\", \"x\": [1, 2, 3, 4, 5, 6, 7, 8, 9, 10, 11, 12, 13, 14, 15, 16], \"xaxis\": \"x31\", \"y\": [316.0, 363.0, 393.0, 320.0, 398.0, 407.0, 331.0, 494.0, 393.0, 446.0, 351.0, 386.0, 253.0, 389.0, 263.0, 236.0], \"yaxis\": \"y31\"}, {\"line\": {\"color\": \"green\"}, \"mode\": \"lines\", \"name\": \"TEN\", \"type\": \"scatter\", \"x\": [1, 2, 3, 4, 5, 6, 7, 8, 9, 10, 11, 12, 13, 14, 15, 16], \"xaxis\": \"x31\", \"y\": [350.0, 390.0, 420.0, 195.0, 188.0, 473.0, 269.0, 257.0, 416.0, 316.0, 276.0, 344.0, 204.0, 328.0, 366.0, 232.0], \"yaxis\": \"y31\"}, {\"line\": {\"color\": \"blue\"}, \"mode\": \"lines\", \"name\": \"TEN\", \"type\": \"scatter\", \"x\": [1, 2, 3, 4, 5, 6, 7, 8, 9, 10, 11, 12, 13, 14], \"xaxis\": \"x31\", \"y\": [336.0, 283.0, 233.0, 397.0, 221.0, 106.0, 390.0, 340.0, 385.0, 648.0, 365.0, 403.0, 426.0, 301.0], \"yaxis\": \"y31\"}, {\"line\": {\"color\": \"black\"}, \"mode\": \"lines\", \"name\": \"WAS\", \"type\": \"scatter\", \"x\": [1, 2, 3, 4, 5, 6, 7, 8, 9, 10, 11, 12, 13, 14, 15, 16], \"xaxis\": \"x32\", \"y\": [349.0, 373.0, 395.0, 417.0, 270.0, 225.0, 355.0, 250.0, 514.0, 186.0, 407.0, 266.0, 374.0, 431.0, 420.0, 437.0], \"yaxis\": \"y32\"}, {\"line\": {\"color\": \"red\"}, \"mode\": \"lines\", \"name\": \"WAS\", \"type\": \"scatter\", \"x\": [1, 2, 3, 4, 5, 6, 7, 8, 9, 10, 11, 12, 13, 14, 15, 16], \"xaxis\": \"x32\", \"y\": [384.0, 432.0, 403.0, 301.0, 310.0, 493.0, 417.0, 546.0, 388.0, 515.0, 505.0, 333.0, 334.0, 335.0, 478.0, 284.0], \"yaxis\": \"y32\"}, {\"line\": {\"color\": \"green\"}, \"mode\": \"lines\", \"name\": \"WAS\", \"type\": \"scatter\", \"x\": [1, 2, 3, 4, 5, 6, 7, 8, 9, 10, 11, 12, 13, 14, 15, 16], \"xaxis\": \"x32\", \"y\": [264.0, 385.0, 472.0, 331.0, 419.0, 344.0, 285.0, 244.0, 394.0, 456.0, 323.0, 280.0, 201.0, 218.0, 386.0, 197.0], \"yaxis\": \"y32\"}, {\"line\": {\"color\": \"blue\"}, \"mode\": \"lines\", \"name\": \"WAS\", \"type\": \"scatter\", \"x\": [1, 2, 3, 4, 5, 6, 7, 8, 9, 10, 11, 12, 13, 14], \"xaxis\": \"x32\", \"y\": [429.0, 334.0, 386.0, 283.0, 288.0, 305.0, 360.0, 366.0, 286.0, 564.0, 331.0, 235.0, 292.0, 245.0], \"yaxis\": \"y32\"}],\n",
       "                        {\"annotations\": [{\"font\": {\"size\": 16}, \"showarrow\": false, \"text\": \"ARI\", \"x\": 0.06944444444444445, \"xanchor\": \"center\", \"xref\": \"paper\", \"y\": 0.9999999999999999, \"yanchor\": \"bottom\", \"yref\": \"paper\"}, {\"font\": {\"size\": 16}, \"showarrow\": false, \"text\": \"ATL\", \"x\": 0.24166666666666667, \"xanchor\": \"center\", \"xref\": \"paper\", \"y\": 0.9999999999999999, \"yanchor\": \"bottom\", \"yref\": \"paper\"}, {\"font\": {\"size\": 16}, \"showarrow\": false, \"text\": \"BAL\", \"x\": 0.41388888888888886, \"xanchor\": \"center\", \"xref\": \"paper\", \"y\": 0.9999999999999999, \"yanchor\": \"bottom\", \"yref\": \"paper\"}, {\"font\": {\"size\": 16}, \"showarrow\": false, \"text\": \"BUF\", \"x\": 0.5861111111111112, \"xanchor\": \"center\", \"xref\": \"paper\", \"y\": 0.9999999999999999, \"yanchor\": \"bottom\", \"yref\": \"paper\"}, {\"font\": {\"size\": 16}, \"showarrow\": false, \"text\": \"CAR\", \"x\": 0.7583333333333333, \"xanchor\": \"center\", \"xref\": \"paper\", \"y\": 0.9999999999999999, \"yanchor\": \"bottom\", \"yref\": \"paper\"}, {\"font\": {\"size\": 16}, \"showarrow\": false, \"text\": \"CHI\", \"x\": 0.9305555555555556, \"xanchor\": \"center\", \"xref\": \"paper\", \"y\": 0.9999999999999999, \"yanchor\": \"bottom\", \"yref\": \"paper\"}, {\"font\": {\"size\": 16}, \"showarrow\": false, \"text\": \"CIN\", \"x\": 0.06944444444444445, \"xanchor\": \"center\", \"xref\": \"paper\", \"y\": 0.8194444444444444, \"yanchor\": \"bottom\", \"yref\": \"paper\"}, {\"font\": {\"size\": 16}, \"showarrow\": false, \"text\": \"CLE\", \"x\": 0.24166666666666667, \"xanchor\": \"center\", \"xref\": \"paper\", \"y\": 0.8194444444444444, \"yanchor\": \"bottom\", \"yref\": \"paper\"}, {\"font\": {\"size\": 16}, \"showarrow\": false, \"text\": \"DAL\", \"x\": 0.41388888888888886, \"xanchor\": \"center\", \"xref\": \"paper\", \"y\": 0.8194444444444444, \"yanchor\": \"bottom\", \"yref\": \"paper\"}, {\"font\": {\"size\": 16}, \"showarrow\": false, \"text\": \"DEN\", \"x\": 0.5861111111111112, \"xanchor\": \"center\", \"xref\": \"paper\", \"y\": 0.8194444444444444, \"yanchor\": \"bottom\", \"yref\": \"paper\"}, {\"font\": {\"size\": 16}, \"showarrow\": false, \"text\": \"DET\", \"x\": 0.7583333333333333, \"xanchor\": \"center\", \"xref\": \"paper\", \"y\": 0.8194444444444444, \"yanchor\": \"bottom\", \"yref\": \"paper\"}, {\"font\": {\"size\": 16}, \"showarrow\": false, \"text\": \"GB\", \"x\": 0.9305555555555556, \"xanchor\": \"center\", \"xref\": \"paper\", \"y\": 0.8194444444444444, \"yanchor\": \"bottom\", \"yref\": \"paper\"}, {\"font\": {\"size\": 16}, \"showarrow\": false, \"text\": \"HOU\", \"x\": 0.06944444444444445, \"xanchor\": \"center\", \"xref\": \"paper\", \"y\": 0.638888888888889, \"yanchor\": \"bottom\", \"yref\": \"paper\"}, {\"font\": {\"size\": 16}, \"showarrow\": false, \"text\": \"IND\", \"x\": 0.24166666666666667, \"xanchor\": \"center\", \"xref\": \"paper\", \"y\": 0.638888888888889, \"yanchor\": \"bottom\", \"yref\": \"paper\"}, {\"font\": {\"size\": 16}, \"showarrow\": false, \"text\": \"JAX\", \"x\": 0.41388888888888886, \"xanchor\": \"center\", \"xref\": \"paper\", \"y\": 0.638888888888889, \"yanchor\": \"bottom\", \"yref\": \"paper\"}, {\"font\": {\"size\": 16}, \"showarrow\": false, \"text\": \"KC\", \"x\": 0.5861111111111112, \"xanchor\": \"center\", \"xref\": \"paper\", \"y\": 0.638888888888889, \"yanchor\": \"bottom\", \"yref\": \"paper\"}, {\"font\": {\"size\": 16}, \"showarrow\": false, \"text\": \"LA\", \"x\": 0.7583333333333333, \"xanchor\": \"center\", \"xref\": \"paper\", \"y\": 0.638888888888889, \"yanchor\": \"bottom\", \"yref\": \"paper\"}, {\"font\": {\"size\": 16}, \"showarrow\": false, \"text\": \"LAC\", \"x\": 0.9305555555555556, \"xanchor\": \"center\", \"xref\": \"paper\", \"y\": 0.638888888888889, \"yanchor\": \"bottom\", \"yref\": \"paper\"}, {\"font\": {\"size\": 16}, \"showarrow\": false, \"text\": \"MIA\", \"x\": 0.06944444444444445, \"xanchor\": \"center\", \"xref\": \"paper\", \"y\": 0.4583333333333333, \"yanchor\": \"bottom\", \"yref\": \"paper\"}, {\"font\": {\"size\": 16}, \"showarrow\": false, \"text\": \"MIN\", \"x\": 0.24166666666666667, \"xanchor\": \"center\", \"xref\": \"paper\", \"y\": 0.4583333333333333, \"yanchor\": \"bottom\", \"yref\": \"paper\"}, {\"font\": {\"size\": 16}, \"showarrow\": false, \"text\": \"NE\", \"x\": 0.41388888888888886, \"xanchor\": \"center\", \"xref\": \"paper\", \"y\": 0.4583333333333333, \"yanchor\": \"bottom\", \"yref\": \"paper\"}, {\"font\": {\"size\": 16}, \"showarrow\": false, \"text\": \"NO\", \"x\": 0.5861111111111112, \"xanchor\": \"center\", \"xref\": \"paper\", \"y\": 0.4583333333333333, \"yanchor\": \"bottom\", \"yref\": \"paper\"}, {\"font\": {\"size\": 16}, \"showarrow\": false, \"text\": \"NYG\", \"x\": 0.7583333333333333, \"xanchor\": \"center\", \"xref\": \"paper\", \"y\": 0.4583333333333333, \"yanchor\": \"bottom\", \"yref\": \"paper\"}, {\"font\": {\"size\": 16}, \"showarrow\": false, \"text\": \"NYJ\", \"x\": 0.9305555555555556, \"xanchor\": \"center\", \"xref\": \"paper\", \"y\": 0.4583333333333333, \"yanchor\": \"bottom\", \"yref\": \"paper\"}, {\"font\": {\"size\": 16}, \"showarrow\": false, \"text\": \"OAK\", \"x\": 0.06944444444444445, \"xanchor\": \"center\", \"xref\": \"paper\", \"y\": 0.2777777777777778, \"yanchor\": \"bottom\", \"yref\": \"paper\"}, {\"font\": {\"size\": 16}, \"showarrow\": false, \"text\": \"PHI\", \"x\": 0.24166666666666667, \"xanchor\": \"center\", \"xref\": \"paper\", \"y\": 0.2777777777777778, \"yanchor\": \"bottom\", \"yref\": \"paper\"}, {\"font\": {\"size\": 16}, \"showarrow\": false, \"text\": \"PIT\", \"x\": 0.41388888888888886, \"xanchor\": \"center\", \"xref\": \"paper\", \"y\": 0.2777777777777778, \"yanchor\": \"bottom\", \"yref\": \"paper\"}, {\"font\": {\"size\": 16}, \"showarrow\": false, \"text\": \"SEA\", \"x\": 0.5861111111111112, \"xanchor\": \"center\", \"xref\": \"paper\", \"y\": 0.2777777777777778, \"yanchor\": \"bottom\", \"yref\": \"paper\"}, {\"font\": {\"size\": 16}, \"showarrow\": false, \"text\": \"SF\", \"x\": 0.7583333333333333, \"xanchor\": \"center\", \"xref\": \"paper\", \"y\": 0.2777777777777778, \"yanchor\": \"bottom\", \"yref\": \"paper\"}, {\"font\": {\"size\": 16}, \"showarrow\": false, \"text\": \"TB\", \"x\": 0.9305555555555556, \"xanchor\": \"center\", \"xref\": \"paper\", \"y\": 0.2777777777777778, \"yanchor\": \"bottom\", \"yref\": \"paper\"}, {\"font\": {\"size\": 16}, \"showarrow\": false, \"text\": \"TEN\", \"x\": 0.06944444444444445, \"xanchor\": \"center\", \"xref\": \"paper\", \"y\": 0.09722222222222222, \"yanchor\": \"bottom\", \"yref\": \"paper\"}, {\"font\": {\"size\": 16}, \"showarrow\": false, \"text\": \"WAS\", \"x\": 0.24166666666666667, \"xanchor\": \"center\", \"xref\": \"paper\", \"y\": 0.09722222222222222, \"yanchor\": \"bottom\", \"yref\": \"paper\"}], \"height\": 700, \"showlegend\": false, \"template\": {\"data\": {\"bar\": [{\"error_x\": {\"color\": \"#2a3f5f\"}, \"error_y\": {\"color\": \"#2a3f5f\"}, \"marker\": {\"line\": {\"color\": \"#E5ECF6\", \"width\": 0.5}}, \"type\": \"bar\"}], \"barpolar\": [{\"marker\": {\"line\": {\"color\": \"#E5ECF6\", \"width\": 0.5}}, \"type\": \"barpolar\"}], \"carpet\": [{\"aaxis\": {\"endlinecolor\": \"#2a3f5f\", \"gridcolor\": \"white\", \"linecolor\": \"white\", \"minorgridcolor\": \"white\", \"startlinecolor\": \"#2a3f5f\"}, \"baxis\": {\"endlinecolor\": \"#2a3f5f\", \"gridcolor\": \"white\", \"linecolor\": \"white\", \"minorgridcolor\": \"white\", \"startlinecolor\": \"#2a3f5f\"}, \"type\": \"carpet\"}], \"choropleth\": [{\"colorbar\": {\"outlinewidth\": 0, \"ticks\": \"\"}, \"type\": \"choropleth\"}], \"contour\": [{\"colorbar\": {\"outlinewidth\": 0, \"ticks\": \"\"}, \"colorscale\": [[0.0, \"#0d0887\"], [0.1111111111111111, \"#46039f\"], [0.2222222222222222, \"#7201a8\"], [0.3333333333333333, \"#9c179e\"], [0.4444444444444444, \"#bd3786\"], [0.5555555555555556, \"#d8576b\"], [0.6666666666666666, \"#ed7953\"], [0.7777777777777778, \"#fb9f3a\"], [0.8888888888888888, \"#fdca26\"], [1.0, \"#f0f921\"]], \"type\": \"contour\"}], \"contourcarpet\": [{\"colorbar\": {\"outlinewidth\": 0, \"ticks\": \"\"}, \"type\": \"contourcarpet\"}], \"heatmap\": [{\"colorbar\": {\"outlinewidth\": 0, \"ticks\": \"\"}, \"colorscale\": [[0.0, \"#0d0887\"], [0.1111111111111111, \"#46039f\"], [0.2222222222222222, \"#7201a8\"], [0.3333333333333333, \"#9c179e\"], [0.4444444444444444, \"#bd3786\"], [0.5555555555555556, \"#d8576b\"], [0.6666666666666666, \"#ed7953\"], [0.7777777777777778, \"#fb9f3a\"], [0.8888888888888888, \"#fdca26\"], [1.0, \"#f0f921\"]], \"type\": \"heatmap\"}], \"heatmapgl\": [{\"colorbar\": {\"outlinewidth\": 0, \"ticks\": \"\"}, \"colorscale\": [[0.0, \"#0d0887\"], [0.1111111111111111, \"#46039f\"], [0.2222222222222222, \"#7201a8\"], [0.3333333333333333, \"#9c179e\"], [0.4444444444444444, \"#bd3786\"], [0.5555555555555556, \"#d8576b\"], [0.6666666666666666, \"#ed7953\"], [0.7777777777777778, \"#fb9f3a\"], [0.8888888888888888, \"#fdca26\"], [1.0, \"#f0f921\"]], \"type\": \"heatmapgl\"}], \"histogram\": [{\"marker\": {\"colorbar\": {\"outlinewidth\": 0, \"ticks\": \"\"}}, \"type\": \"histogram\"}], \"histogram2d\": [{\"colorbar\": {\"outlinewidth\": 0, \"ticks\": \"\"}, \"colorscale\": [[0.0, \"#0d0887\"], [0.1111111111111111, \"#46039f\"], [0.2222222222222222, \"#7201a8\"], [0.3333333333333333, \"#9c179e\"], [0.4444444444444444, \"#bd3786\"], [0.5555555555555556, \"#d8576b\"], [0.6666666666666666, \"#ed7953\"], [0.7777777777777778, \"#fb9f3a\"], [0.8888888888888888, \"#fdca26\"], [1.0, \"#f0f921\"]], \"type\": \"histogram2d\"}], \"histogram2dcontour\": [{\"colorbar\": {\"outlinewidth\": 0, \"ticks\": \"\"}, \"colorscale\": [[0.0, \"#0d0887\"], [0.1111111111111111, \"#46039f\"], [0.2222222222222222, \"#7201a8\"], [0.3333333333333333, \"#9c179e\"], [0.4444444444444444, \"#bd3786\"], [0.5555555555555556, \"#d8576b\"], [0.6666666666666666, \"#ed7953\"], [0.7777777777777778, \"#fb9f3a\"], [0.8888888888888888, \"#fdca26\"], [1.0, \"#f0f921\"]], \"type\": \"histogram2dcontour\"}], \"mesh3d\": [{\"colorbar\": {\"outlinewidth\": 0, \"ticks\": \"\"}, \"type\": \"mesh3d\"}], \"parcoords\": [{\"line\": {\"colorbar\": {\"outlinewidth\": 0, \"ticks\": \"\"}}, \"type\": \"parcoords\"}], \"pie\": [{\"automargin\": true, \"type\": \"pie\"}], \"scatter\": [{\"marker\": {\"colorbar\": {\"outlinewidth\": 0, \"ticks\": \"\"}}, \"type\": \"scatter\"}], \"scatter3d\": [{\"line\": {\"colorbar\": {\"outlinewidth\": 0, \"ticks\": \"\"}}, \"marker\": {\"colorbar\": {\"outlinewidth\": 0, \"ticks\": \"\"}}, \"type\": \"scatter3d\"}], \"scattercarpet\": [{\"marker\": {\"colorbar\": {\"outlinewidth\": 0, \"ticks\": \"\"}}, \"type\": \"scattercarpet\"}], \"scattergeo\": [{\"marker\": {\"colorbar\": {\"outlinewidth\": 0, \"ticks\": \"\"}}, \"type\": \"scattergeo\"}], \"scattergl\": [{\"marker\": {\"colorbar\": {\"outlinewidth\": 0, \"ticks\": \"\"}}, \"type\": \"scattergl\"}], \"scattermapbox\": [{\"marker\": {\"colorbar\": {\"outlinewidth\": 0, \"ticks\": \"\"}}, \"type\": \"scattermapbox\"}], \"scatterpolar\": [{\"marker\": {\"colorbar\": {\"outlinewidth\": 0, \"ticks\": \"\"}}, \"type\": \"scatterpolar\"}], \"scatterpolargl\": [{\"marker\": {\"colorbar\": {\"outlinewidth\": 0, \"ticks\": \"\"}}, \"type\": \"scatterpolargl\"}], \"scatterternary\": [{\"marker\": {\"colorbar\": {\"outlinewidth\": 0, \"ticks\": \"\"}}, \"type\": \"scatterternary\"}], \"surface\": [{\"colorbar\": {\"outlinewidth\": 0, \"ticks\": \"\"}, \"colorscale\": [[0.0, \"#0d0887\"], [0.1111111111111111, \"#46039f\"], [0.2222222222222222, \"#7201a8\"], [0.3333333333333333, \"#9c179e\"], [0.4444444444444444, \"#bd3786\"], [0.5555555555555556, \"#d8576b\"], [0.6666666666666666, \"#ed7953\"], [0.7777777777777778, \"#fb9f3a\"], [0.8888888888888888, \"#fdca26\"], [1.0, \"#f0f921\"]], \"type\": \"surface\"}], \"table\": [{\"cells\": {\"fill\": {\"color\": \"#EBF0F8\"}, \"line\": {\"color\": \"white\"}}, \"header\": {\"fill\": {\"color\": \"#C8D4E3\"}, \"line\": {\"color\": \"white\"}}, \"type\": \"table\"}]}, \"layout\": {\"annotationdefaults\": {\"arrowcolor\": \"#2a3f5f\", \"arrowhead\": 0, \"arrowwidth\": 1}, \"coloraxis\": {\"colorbar\": {\"outlinewidth\": 0, \"ticks\": \"\"}}, \"colorscale\": {\"diverging\": [[0, \"#8e0152\"], [0.1, \"#c51b7d\"], [0.2, \"#de77ae\"], [0.3, \"#f1b6da\"], [0.4, \"#fde0ef\"], [0.5, \"#f7f7f7\"], [0.6, \"#e6f5d0\"], [0.7, \"#b8e186\"], [0.8, \"#7fbc41\"], [0.9, \"#4d9221\"], [1, \"#276419\"]], \"sequential\": [[0.0, \"#0d0887\"], [0.1111111111111111, \"#46039f\"], [0.2222222222222222, \"#7201a8\"], [0.3333333333333333, \"#9c179e\"], [0.4444444444444444, \"#bd3786\"], [0.5555555555555556, \"#d8576b\"], [0.6666666666666666, \"#ed7953\"], [0.7777777777777778, \"#fb9f3a\"], [0.8888888888888888, \"#fdca26\"], [1.0, \"#f0f921\"]], \"sequentialminus\": [[0.0, \"#0d0887\"], [0.1111111111111111, \"#46039f\"], [0.2222222222222222, \"#7201a8\"], [0.3333333333333333, \"#9c179e\"], [0.4444444444444444, \"#bd3786\"], [0.5555555555555556, \"#d8576b\"], [0.6666666666666666, \"#ed7953\"], [0.7777777777777778, \"#fb9f3a\"], [0.8888888888888888, \"#fdca26\"], [1.0, \"#f0f921\"]]}, \"colorway\": [\"#636efa\", \"#EF553B\", \"#00cc96\", \"#ab63fa\", \"#FFA15A\", \"#19d3f3\", \"#FF6692\", \"#B6E880\", \"#FF97FF\", \"#FECB52\"], \"font\": {\"color\": \"#2a3f5f\"}, \"geo\": {\"bgcolor\": \"white\", \"lakecolor\": \"white\", \"landcolor\": \"#E5ECF6\", \"showlakes\": true, \"showland\": true, \"subunitcolor\": \"white\"}, \"hoverlabel\": {\"align\": \"left\"}, \"hovermode\": \"closest\", \"mapbox\": {\"style\": \"light\"}, \"paper_bgcolor\": \"white\", \"plot_bgcolor\": \"#E5ECF6\", \"polar\": {\"angularaxis\": {\"gridcolor\": \"white\", \"linecolor\": \"white\", \"ticks\": \"\"}, \"bgcolor\": \"#E5ECF6\", \"radialaxis\": {\"gridcolor\": \"white\", \"linecolor\": \"white\", \"ticks\": \"\"}}, \"scene\": {\"xaxis\": {\"backgroundcolor\": \"#E5ECF6\", \"gridcolor\": \"white\", \"gridwidth\": 2, \"linecolor\": \"white\", \"showbackground\": true, \"ticks\": \"\", \"zerolinecolor\": \"white\"}, \"yaxis\": {\"backgroundcolor\": \"#E5ECF6\", \"gridcolor\": \"white\", \"gridwidth\": 2, \"linecolor\": \"white\", \"showbackground\": true, \"ticks\": \"\", \"zerolinecolor\": \"white\"}, \"zaxis\": {\"backgroundcolor\": \"#E5ECF6\", \"gridcolor\": \"white\", \"gridwidth\": 2, \"linecolor\": \"white\", \"showbackground\": true, \"ticks\": \"\", \"zerolinecolor\": \"white\"}}, \"shapedefaults\": {\"line\": {\"color\": \"#2a3f5f\"}}, \"ternary\": {\"aaxis\": {\"gridcolor\": \"white\", \"linecolor\": \"white\", \"ticks\": \"\"}, \"baxis\": {\"gridcolor\": \"white\", \"linecolor\": \"white\", \"ticks\": \"\"}, \"bgcolor\": \"#E5ECF6\", \"caxis\": {\"gridcolor\": \"white\", \"linecolor\": \"white\", \"ticks\": \"\"}}, \"title\": {\"x\": 0.05}, \"xaxis\": {\"automargin\": true, \"gridcolor\": \"white\", \"linecolor\": \"white\", \"ticks\": \"\", \"title\": {\"standoff\": 15}, \"zerolinecolor\": \"white\", \"zerolinewidth\": 2}, \"yaxis\": {\"automargin\": true, \"gridcolor\": \"white\", \"linecolor\": \"white\", \"ticks\": \"\", \"title\": {\"standoff\": 15}, \"zerolinecolor\": \"white\", \"zerolinewidth\": 2}}}, \"title\": {\"text\": \"Team Yards Per Game\", \"x\": 0.5, \"xanchor\": \"center\", \"y\": 0.95, \"yanchor\": \"top\"}, \"width\": 1000, \"xaxis\": {\"anchor\": \"y\", \"domain\": [0.0, 0.1388888888888889], \"showticklabels\": false, \"zeroline\": false}, \"xaxis10\": {\"anchor\": \"y10\", \"domain\": [0.5166666666666667, 0.6555555555555557], \"showticklabels\": false, \"zeroline\": false}, \"xaxis11\": {\"anchor\": \"y11\", \"domain\": [0.6888888888888889, 0.8277777777777777], \"showticklabels\": false, \"zeroline\": false}, \"xaxis12\": {\"anchor\": \"y12\", \"domain\": [0.861111111111111, 1.0], \"showticklabels\": false, \"zeroline\": false}, \"xaxis13\": {\"anchor\": \"y13\", \"domain\": [0.0, 0.1388888888888889], \"showticklabels\": false, \"zeroline\": false}, \"xaxis14\": {\"anchor\": \"y14\", \"domain\": [0.17222222222222222, 0.3111111111111111], \"showticklabels\": false, \"zeroline\": false}, \"xaxis15\": {\"anchor\": \"y15\", \"domain\": [0.34444444444444444, 0.48333333333333334], \"showticklabels\": false, \"zeroline\": false}, \"xaxis16\": {\"anchor\": \"y16\", \"domain\": [0.5166666666666667, 0.6555555555555557], \"showticklabels\": false, \"zeroline\": false}, \"xaxis17\": {\"anchor\": \"y17\", \"domain\": [0.6888888888888889, 0.8277777777777777], \"showticklabels\": false, \"zeroline\": false}, \"xaxis18\": {\"anchor\": \"y18\", \"domain\": [0.861111111111111, 1.0], \"showticklabels\": false, \"zeroline\": false}, \"xaxis19\": {\"anchor\": \"y19\", \"domain\": [0.0, 0.1388888888888889], \"showticklabels\": false, \"zeroline\": false}, \"xaxis2\": {\"anchor\": \"y2\", \"domain\": [0.17222222222222222, 0.3111111111111111], \"showticklabels\": false, \"zeroline\": false}, \"xaxis20\": {\"anchor\": \"y20\", \"domain\": [0.17222222222222222, 0.3111111111111111], \"showticklabels\": false, \"zeroline\": false}, \"xaxis21\": {\"anchor\": \"y21\", \"domain\": [0.34444444444444444, 0.48333333333333334], \"showticklabels\": false, \"zeroline\": false}, \"xaxis22\": {\"anchor\": \"y22\", \"domain\": [0.5166666666666667, 0.6555555555555557], \"showticklabels\": false, \"zeroline\": false}, \"xaxis23\": {\"anchor\": \"y23\", \"domain\": [0.6888888888888889, 0.8277777777777777], \"showticklabels\": false, \"zeroline\": false}, \"xaxis24\": {\"anchor\": \"y24\", \"domain\": [0.861111111111111, 1.0], \"showticklabels\": false, \"zeroline\": false}, \"xaxis25\": {\"anchor\": \"y25\", \"domain\": [0.0, 0.1388888888888889], \"showticklabels\": false, \"zeroline\": false}, \"xaxis26\": {\"anchor\": \"y26\", \"domain\": [0.17222222222222222, 0.3111111111111111], \"showticklabels\": false, \"zeroline\": false}, \"xaxis27\": {\"anchor\": \"y27\", \"domain\": [0.34444444444444444, 0.48333333333333334], \"showticklabels\": false, \"zeroline\": false}, \"xaxis28\": {\"anchor\": \"y28\", \"domain\": [0.5166666666666667, 0.6555555555555557], \"showticklabels\": false, \"zeroline\": false}, \"xaxis29\": {\"anchor\": \"y29\", \"domain\": [0.6888888888888889, 0.8277777777777777], \"showticklabels\": false, \"zeroline\": false}, \"xaxis3\": {\"anchor\": \"y3\", \"domain\": [0.34444444444444444, 0.48333333333333334], \"showticklabels\": false, \"zeroline\": false}, \"xaxis30\": {\"anchor\": \"y30\", \"domain\": [0.861111111111111, 1.0], \"showticklabels\": false, \"zeroline\": false}, \"xaxis31\": {\"anchor\": \"y31\", \"domain\": [0.0, 0.1388888888888889], \"showticklabels\": false, \"zeroline\": false}, \"xaxis32\": {\"anchor\": \"y32\", \"domain\": [0.17222222222222222, 0.3111111111111111], \"showticklabels\": false, \"zeroline\": false}, \"xaxis33\": {\"anchor\": \"y33\", \"domain\": [0.34444444444444444, 0.48333333333333334], \"showticklabels\": false, \"zeroline\": false}, \"xaxis34\": {\"anchor\": \"y34\", \"domain\": [0.5166666666666667, 0.6555555555555557], \"showticklabels\": false, \"zeroline\": false}, \"xaxis35\": {\"anchor\": \"y35\", \"domain\": [0.6888888888888889, 0.8277777777777777], \"showticklabels\": false, \"zeroline\": false}, \"xaxis36\": {\"anchor\": \"y36\", \"domain\": [0.861111111111111, 1.0], \"showticklabels\": false, \"zeroline\": false}, \"xaxis4\": {\"anchor\": \"y4\", \"domain\": [0.5166666666666667, 0.6555555555555557], \"showticklabels\": false, \"zeroline\": false}, \"xaxis5\": {\"anchor\": \"y5\", \"domain\": [0.6888888888888889, 0.8277777777777777], \"showticklabels\": false, \"zeroline\": false}, \"xaxis6\": {\"anchor\": \"y6\", \"domain\": [0.861111111111111, 1.0], \"showticklabels\": false, \"zeroline\": false}, \"xaxis7\": {\"anchor\": \"y7\", \"domain\": [0.0, 0.1388888888888889], \"showticklabels\": false, \"zeroline\": false}, \"xaxis8\": {\"anchor\": \"y8\", \"domain\": [0.17222222222222222, 0.3111111111111111], \"showticklabels\": false, \"zeroline\": false}, \"xaxis9\": {\"anchor\": \"y9\", \"domain\": [0.34444444444444444, 0.48333333333333334], \"showticklabels\": false, \"zeroline\": false}, \"yaxis\": {\"anchor\": \"x\", \"domain\": [0.9027777777777777, 0.9999999999999999], \"dtick\": 250, \"range\": [0, 1000], \"tickfont\": {\"size\": 9}}, \"yaxis10\": {\"anchor\": \"x10\", \"domain\": [0.7222222222222222, 0.8194444444444444], \"dtick\": 250, \"range\": [0, 1000], \"tickfont\": {\"size\": 9}}, \"yaxis11\": {\"anchor\": \"x11\", \"domain\": [0.7222222222222222, 0.8194444444444444], \"dtick\": 250, \"range\": [0, 1000], \"tickfont\": {\"size\": 9}}, \"yaxis12\": {\"anchor\": \"x12\", \"domain\": [0.7222222222222222, 0.8194444444444444], \"dtick\": 250, \"range\": [0, 1000], \"tickfont\": {\"size\": 9}}, \"yaxis13\": {\"anchor\": \"x13\", \"domain\": [0.5416666666666667, 0.638888888888889], \"dtick\": 250, \"range\": [0, 1000], \"tickfont\": {\"size\": 9}}, \"yaxis14\": {\"anchor\": \"x14\", \"domain\": [0.5416666666666667, 0.638888888888889], \"dtick\": 250, \"range\": [0, 1000], \"tickfont\": {\"size\": 9}}, \"yaxis15\": {\"anchor\": \"x15\", \"domain\": [0.5416666666666667, 0.638888888888889], \"dtick\": 250, \"range\": [0, 1000], \"tickfont\": {\"size\": 9}}, \"yaxis16\": {\"anchor\": \"x16\", \"domain\": [0.5416666666666667, 0.638888888888889], \"dtick\": 250, \"range\": [0, 1000], \"tickfont\": {\"size\": 9}}, \"yaxis17\": {\"anchor\": \"x17\", \"domain\": [0.5416666666666667, 0.638888888888889], \"dtick\": 250, \"range\": [0, 1000], \"tickfont\": {\"size\": 9}}, \"yaxis18\": {\"anchor\": \"x18\", \"domain\": [0.5416666666666667, 0.638888888888889], \"dtick\": 250, \"range\": [0, 1000], \"tickfont\": {\"size\": 9}}, \"yaxis19\": {\"anchor\": \"x19\", \"domain\": [0.3611111111111111, 0.4583333333333333], \"dtick\": 250, \"range\": [0, 1000], \"tickfont\": {\"size\": 9}}, \"yaxis2\": {\"anchor\": \"x2\", \"domain\": [0.9027777777777777, 0.9999999999999999], \"dtick\": 250, \"range\": [0, 1000], \"tickfont\": {\"size\": 9}}, \"yaxis20\": {\"anchor\": \"x20\", \"domain\": [0.3611111111111111, 0.4583333333333333], \"dtick\": 250, \"range\": [0, 1000], \"tickfont\": {\"size\": 9}}, \"yaxis21\": {\"anchor\": \"x21\", \"domain\": [0.3611111111111111, 0.4583333333333333], \"dtick\": 250, \"range\": [0, 1000], \"tickfont\": {\"size\": 9}}, \"yaxis22\": {\"anchor\": \"x22\", \"domain\": [0.3611111111111111, 0.4583333333333333], \"dtick\": 250, \"range\": [0, 1000], \"tickfont\": {\"size\": 9}}, \"yaxis23\": {\"anchor\": \"x23\", \"domain\": [0.3611111111111111, 0.4583333333333333], \"dtick\": 250, \"range\": [0, 1000], \"tickfont\": {\"size\": 9}}, \"yaxis24\": {\"anchor\": \"x24\", \"domain\": [0.3611111111111111, 0.4583333333333333], \"dtick\": 250, \"range\": [0, 1000], \"tickfont\": {\"size\": 9}}, \"yaxis25\": {\"anchor\": \"x25\", \"domain\": [0.18055555555555555, 0.2777777777777778], \"dtick\": 250, \"range\": [0, 1000], \"tickfont\": {\"size\": 9}}, \"yaxis26\": {\"anchor\": \"x26\", \"domain\": [0.18055555555555555, 0.2777777777777778], \"dtick\": 250, \"range\": [0, 1000], \"tickfont\": {\"size\": 9}}, \"yaxis27\": {\"anchor\": \"x27\", \"domain\": [0.18055555555555555, 0.2777777777777778], \"dtick\": 250, \"range\": [0, 1000], \"tickfont\": {\"size\": 9}}, \"yaxis28\": {\"anchor\": \"x28\", \"domain\": [0.18055555555555555, 0.2777777777777778], \"dtick\": 250, \"range\": [0, 1000], \"tickfont\": {\"size\": 9}}, \"yaxis29\": {\"anchor\": \"x29\", \"domain\": [0.18055555555555555, 0.2777777777777778], \"dtick\": 250, \"range\": [0, 1000], \"tickfont\": {\"size\": 9}}, \"yaxis3\": {\"anchor\": \"x3\", \"domain\": [0.9027777777777777, 0.9999999999999999], \"dtick\": 250, \"range\": [0, 1000], \"tickfont\": {\"size\": 9}}, \"yaxis30\": {\"anchor\": \"x30\", \"domain\": [0.18055555555555555, 0.2777777777777778], \"dtick\": 250, \"range\": [0, 1000], \"tickfont\": {\"size\": 9}}, \"yaxis31\": {\"anchor\": \"x31\", \"domain\": [0.0, 0.09722222222222222], \"dtick\": 250, \"range\": [0, 1000], \"tickfont\": {\"size\": 9}}, \"yaxis32\": {\"anchor\": \"x32\", \"domain\": [0.0, 0.09722222222222222], \"dtick\": 250, \"range\": [0, 1000], \"tickfont\": {\"size\": 9}}, \"yaxis33\": {\"anchor\": \"x33\", \"domain\": [0.0, 0.09722222222222222], \"tickfont\": {\"size\": 9}}, \"yaxis34\": {\"anchor\": \"x34\", \"domain\": [0.0, 0.09722222222222222], \"tickfont\": {\"size\": 9}}, \"yaxis35\": {\"anchor\": \"x35\", \"domain\": [0.0, 0.09722222222222222], \"tickfont\": {\"size\": 9}}, \"yaxis36\": {\"anchor\": \"x36\", \"domain\": [0.0, 0.09722222222222222], \"tickfont\": {\"size\": 9}}, \"yaxis4\": {\"anchor\": \"x4\", \"domain\": [0.9027777777777777, 0.9999999999999999], \"dtick\": 250, \"range\": [0, 1000], \"tickfont\": {\"size\": 9}}, \"yaxis5\": {\"anchor\": \"x5\", \"domain\": [0.9027777777777777, 0.9999999999999999], \"dtick\": 250, \"range\": [0, 1000], \"tickfont\": {\"size\": 9}}, \"yaxis6\": {\"anchor\": \"x6\", \"domain\": [0.9027777777777777, 0.9999999999999999], \"dtick\": 250, \"range\": [0, 1000], \"tickfont\": {\"size\": 9}}, \"yaxis7\": {\"anchor\": \"x7\", \"domain\": [0.7222222222222222, 0.8194444444444444], \"dtick\": 250, \"range\": [0, 1000], \"tickfont\": {\"size\": 9}}, \"yaxis8\": {\"anchor\": \"x8\", \"domain\": [0.7222222222222222, 0.8194444444444444], \"dtick\": 250, \"range\": [0, 1000], \"tickfont\": {\"size\": 9}}, \"yaxis9\": {\"anchor\": \"x9\", \"domain\": [0.7222222222222222, 0.8194444444444444], \"dtick\": 250, \"range\": [0, 1000], \"tickfont\": {\"size\": 9}}},\n",
       "                        {\"responsive\": true}\n",
       "                    ).then(function(){\n",
       "                            \n",
       "var gd = document.getElementById('4c045202-e57d-4bc4-8bf9-0fe977534fbc');\n",
       "var x = new MutationObserver(function (mutations, observer) {{\n",
       "        var display = window.getComputedStyle(gd).display;\n",
       "        if (!display || display === 'none') {{\n",
       "            console.log([gd, 'removed!']);\n",
       "            Plotly.purge(gd);\n",
       "            observer.disconnect();\n",
       "        }}\n",
       "}});\n",
       "\n",
       "// Listen for the removal of the full notebook cells\n",
       "var notebookContainer = gd.closest('#notebook-container');\n",
       "if (notebookContainer) {{\n",
       "    x.observe(notebookContainer, {childList: true});\n",
       "}}\n",
       "\n",
       "// Listen for the clearing of the current output cell\n",
       "var outputEl = gd.closest('.output');\n",
       "if (outputEl) {{\n",
       "    x.observe(outputEl, {childList: true});\n",
       "}}\n",
       "\n",
       "                        })\n",
       "                };\n",
       "                });\n",
       "            </script>\n",
       "        </div>"
      ]
     },
     "metadata": {},
     "output_type": "display_data"
    }
   ],
   "source": [
    "# Includes Penalty Yards with current approach\n",
    "fig = make_subplots(rows=6, cols=6,subplot_titles=teams)\n",
    "\n",
    "teams = list(nfl_small2_end_of_drive.groupby('posteam').sum().index)\n",
    "years = [2015,2016,2017,2018]\n",
    "row = 1\n",
    "col = 1\n",
    "\n",
    "for team in teams:\n",
    "    for year in years:\n",
    "    \n",
    "        x_axis = nfl_small2_end_of_drive[(nfl_small2_end_of_drive['posteam']==team) &\\\n",
    "                                    (nfl_small2_end_of_drive['year']==year)].groupby('week').sum().index\n",
    "    \n",
    "        y_axis = nfl_small2_end_of_drive[(nfl_small2_end_of_drive['posteam']==team) &\\\n",
    "#                         (nfl_small2_end_of_drive['end_of_drive']==1)&\\\n",
    "                        (nfl_small2_end_of_drive['year']==year)]\\\n",
    "                        .groupby('week').sum()['yards_gained'].values\n",
    "        \n",
    "        if year == 2015:\n",
    "            color = 'black'\n",
    "        elif year == 2016:\n",
    "            color = 'red'\n",
    "        elif year == 2017:\n",
    "            color = 'green'\n",
    "        else:\n",
    "            color = 'blue'\n",
    "    \n",
    "        fig.add_trace(\n",
    "        go.Scatter(\n",
    "            x = x_axis, \n",
    "            y = y_axis, \n",
    "            mode = 'lines', \n",
    "            name = team,\n",
    "            type = \"scatter\",line_color=color),\n",
    "        row=row, col=col\n",
    "            ).update_yaxes(range=[0, 1000], dtick=250, row=row, col=col)\n",
    "    \n",
    "    if col == 6:\n",
    "        if row == 6:\n",
    "            break\n",
    "        else:\n",
    "            row += 1\n",
    "            col = 1\n",
    "    else:\n",
    "        col += 1\n",
    "        \n",
    "        \n",
    "fig.update_layout(height=700, width=1000, template='plotly')\\\n",
    "    .update_xaxes(zeroline= False,showticklabels=False)\\\n",
    "    .update_yaxes(tickfont=dict(size=9))\\\n",
    "    .update_layout(showlegend=False,title={'text': \"Team Yards Per Game\",\n",
    "                                        'y':0.95,\n",
    "                                        'x':0.5,\n",
    "                                        'xanchor': 'center',\n",
    "                                        'yanchor': 'top'})"
   ]
  },
  {
   "cell_type": "code",
   "execution_count": 53,
   "metadata": {},
   "outputs": [],
   "source": [
    "# nfl_small2_end_of_drive[(nfl_small2_end_of_drive['end_of_game'] == 1) &\\\n",
    "#                                             (nfl_small2_end_of_drive['year'] == 2017) &\\\n",
    "#                                             (nfl_small2_end_of_drive['PHI'] == 'H')]"
   ]
  },
  {
   "cell_type": "code",
   "execution_count": 54,
   "metadata": {},
   "outputs": [],
   "source": [
    "# nfl_small2_end_of_drive[(nfl_small2_end_of_drive['game_id'] == 2017092409)].tail(20)"
   ]
  },
  {
   "cell_type": "markdown",
   "metadata": {},
   "source": [
    "# Start of Report Team Stat Background"
   ]
  },
  {
   "cell_type": "code",
   "execution_count": 55,
   "metadata": {},
   "outputs": [],
   "source": [
    "nfl_small2_end_of_drive['home_team_win'] = np.where(nfl_small2_end_of_drive['total_home_score']\\\n",
    "                              > nfl_small2_end_of_drive['total_away_score'],1,0)\n",
    "\n",
    "nfl_small2_end_of_drive['away_team_win'] = np.where(nfl_small2_end_of_drive['total_home_score']\\\n",
    "                              < nfl_small2_end_of_drive['total_away_score'],1,0)"
   ]
  },
  {
   "cell_type": "code",
   "execution_count": 56,
   "metadata": {},
   "outputs": [],
   "source": [
    "# Team wins overall for sorting\n",
    "team_wins_overall = []\n",
    "\n",
    "for team in teams:\n",
    "    home_wins = sum(nfl_small2_end_of_drive[(nfl_small2_end_of_drive['end_of_game'] == 1) &\\\n",
    "                                            (nfl_small2_end_of_drive[team] == 'H')\n",
    "                                           ]['home_team_win'])\n",
    "\n",
    "    away_wins = sum(nfl_small2_end_of_drive[(nfl_small2_end_of_drive['end_of_game'] == 1) &\\\n",
    "                                                 (nfl_small2_end_of_drive[team] == 'A')\n",
    "                                           ]['away_team_win'])\n",
    "    \n",
    "    all_wins = home_wins + away_wins\n",
    "    \n",
    "    team_wins_overall.append(round(all_wins,0))\n",
    "    \n",
    "team_by_wins = pd.DataFrame({'team':teams,'wins':team_wins_overall}).sort_values(by=['wins'])"
   ]
  },
  {
   "cell_type": "code",
   "execution_count": 57,
   "metadata": {},
   "outputs": [
    {
     "data": {
      "text/html": [
       "<div>\n",
       "<style scoped>\n",
       "    .dataframe tbody tr th:only-of-type {\n",
       "        vertical-align: middle;\n",
       "    }\n",
       "\n",
       "    .dataframe tbody tr th {\n",
       "        vertical-align: top;\n",
       "    }\n",
       "\n",
       "    .dataframe thead th {\n",
       "        text-align: right;\n",
       "    }\n",
       "</style>\n",
       "<table border=\"1\" class=\"dataframe\">\n",
       "  <thead>\n",
       "    <tr style=\"text-align: right;\">\n",
       "      <th></th>\n",
       "      <th>team</th>\n",
       "      <th>wins</th>\n",
       "      <th>binned</th>\n",
       "    </tr>\n",
       "  </thead>\n",
       "  <tbody>\n",
       "    <tr>\n",
       "      <td>3</td>\n",
       "      <td>BUF</td>\n",
       "      <td>14</td>\n",
       "      <td>19 or Less</td>\n",
       "    </tr>\n",
       "    <tr>\n",
       "      <td>13</td>\n",
       "      <td>IND</td>\n",
       "      <td>12</td>\n",
       "      <td>12 or Less</td>\n",
       "    </tr>\n",
       "    <tr>\n",
       "      <td>10</td>\n",
       "      <td>DET</td>\n",
       "      <td>14</td>\n",
       "      <td>19 or Less</td>\n",
       "    </tr>\n",
       "    <tr>\n",
       "      <td>0</td>\n",
       "      <td>ARI</td>\n",
       "      <td>11</td>\n",
       "      <td>12 or Less</td>\n",
       "    </tr>\n",
       "    <tr>\n",
       "      <td>2</td>\n",
       "      <td>BAL</td>\n",
       "      <td>17</td>\n",
       "      <td>19 or Less</td>\n",
       "    </tr>\n",
       "    <tr>\n",
       "      <td>7</td>\n",
       "      <td>CLE</td>\n",
       "      <td>6</td>\n",
       "      <td>12 or Less</td>\n",
       "    </tr>\n",
       "    <tr>\n",
       "      <td>11</td>\n",
       "      <td>GB</td>\n",
       "      <td>12</td>\n",
       "      <td>12 or Less</td>\n",
       "    </tr>\n",
       "    <tr>\n",
       "      <td>16</td>\n",
       "      <td>LA</td>\n",
       "      <td>22</td>\n",
       "      <td>20+ Wins</td>\n",
       "    </tr>\n",
       "    <tr>\n",
       "      <td>19</td>\n",
       "      <td>MIN</td>\n",
       "      <td>21</td>\n",
       "      <td>20+ Wins</td>\n",
       "    </tr>\n",
       "    <tr>\n",
       "      <td>8</td>\n",
       "      <td>DAL</td>\n",
       "      <td>17</td>\n",
       "      <td>19 or Less</td>\n",
       "    </tr>\n",
       "  </tbody>\n",
       "</table>\n",
       "</div>"
      ],
      "text/plain": [
       "   team  wins      binned\n",
       "3   BUF    14  19 or Less\n",
       "13  IND    12  12 or Less\n",
       "10  DET    14  19 or Less\n",
       "0   ARI    11  12 or Less\n",
       "2   BAL    17  19 or Less\n",
       "7   CLE     6  12 or Less\n",
       "11   GB    12  12 or Less\n",
       "16   LA    22    20+ Wins\n",
       "19  MIN    21    20+ Wins\n",
       "8   DAL    17  19 or Less"
      ]
     },
     "execution_count": 57,
     "metadata": {},
     "output_type": "execute_result"
    }
   ],
   "source": [
    "bins = [0, 12, 19, 32]\n",
    "labels = ['12 or Less', '19 or Less','20+ Wins']\n",
    "team_by_wins['binned'] = pd.cut(team_by_wins['wins'], bins, labels=labels)\n",
    "\n",
    "team_by_wins.sample(10)"
   ]
  },
  {
   "cell_type": "code",
   "execution_count": 58,
   "metadata": {},
   "outputs": [],
   "source": [
    "# Team wins by year\n",
    "team_wins_2017 = []\n",
    "for team in team_by_wins['team']:\n",
    "    home_wins = sum(nfl_small2_end_of_drive[(nfl_small2_end_of_drive['end_of_game'] == 1) &\\\n",
    "                                            (nfl_small2_end_of_drive['year'] == 2017) &\\\n",
    "                                            (nfl_small2_end_of_drive[team] == 'H')\n",
    "                                           ]['home_team_win'])\n",
    "\n",
    "    away_wins = sum(nfl_small2_end_of_drive[(nfl_small2_end_of_drive['end_of_game'] == 1) &\\\n",
    "                                                 (nfl_small2_end_of_drive['year'] == 2017) &\\\n",
    "                                                 (nfl_small2_end_of_drive[team] == 'A')\n",
    "                                           ]['away_team_win'])\n",
    "    \n",
    "    all_wins = home_wins + away_wins\n",
    "    \n",
    "    team_wins_2017.append(round(all_wins,0))\n",
    "    \n",
    "team_wins_2018 = []\n",
    "for team in team_by_wins['team']:\n",
    "    home_wins = sum(nfl_small2_end_of_drive[(nfl_small2_end_of_drive['end_of_game'] == 1) &\\\n",
    "                                            (nfl_small2_end_of_drive['year'] == 2018) &\\\n",
    "                                            (nfl_small2_end_of_drive[team] == 'H')\n",
    "                                           ]['home_team_win'])\n",
    "\n",
    "    away_wins = sum(nfl_small2_end_of_drive[(nfl_small2_end_of_drive['end_of_game'] == 1) &\\\n",
    "                                                 (nfl_small2_end_of_drive['year'] == 2018) &\\\n",
    "                                                 (nfl_small2_end_of_drive[team] == 'A')\n",
    "                                           ]['away_team_win'])\n",
    "    \n",
    "    all_wins = home_wins + away_wins\n",
    "    \n",
    "    team_wins_2018.append(round(all_wins,0))"
   ]
  },
  {
   "cell_type": "code",
   "execution_count": 59,
   "metadata": {
    "scrolled": false
   },
   "outputs": [
    {
     "data": {
      "application/vnd.plotly.v1+json": {
       "config": {
        "plotlyServerURL": "https://plot.ly"
       },
       "data": [
        {
         "name": "2017",
         "type": "bar",
         "x": [
          "CLE",
          "NYG",
          "OAK",
          "NYJ",
          "TB",
          "SF",
          "ARI",
          "DEN",
          "CIN",
          "GB",
          "IND",
          "MIA",
          "JAX",
          "WAS",
          "DET",
          "BUF",
          "HOU",
          "ATL",
          "CHI",
          "CAR",
          "SEA",
          "BAL",
          "TEN",
          "DAL",
          "LAC",
          "PHI",
          "MIN",
          "PIT",
          "KC",
          "NE",
          "LA",
          "NO"
         ],
         "y": [
          0,
          3,
          6,
          5,
          5,
          6,
          8,
          5,
          6,
          7,
          4,
          6,
          10,
          7,
          9,
          9,
          4,
          10,
          5,
          11,
          9,
          9,
          9,
          9,
          9,
          13,
          13,
          13,
          10,
          13,
          11,
          11
         ]
        },
        {
         "name": "2018",
         "type": "bar",
         "x": [
          "CLE",
          "NYG",
          "OAK",
          "NYJ",
          "TB",
          "SF",
          "ARI",
          "DEN",
          "CIN",
          "GB",
          "IND",
          "MIA",
          "JAX",
          "WAS",
          "DET",
          "BUF",
          "HOU",
          "ATL",
          "CHI",
          "CAR",
          "SEA",
          "BAL",
          "TEN",
          "DAL",
          "LAC",
          "PHI",
          "MIN",
          "PIT",
          "KC",
          "NE",
          "LA",
          "NO"
         ],
         "y": [
          6,
          5,
          3,
          4,
          5,
          4,
          3,
          6,
          6,
          5,
          8,
          7,
          4,
          7,
          5,
          5,
          10,
          5,
          10,
          6,
          8,
          8,
          8,
          8,
          11,
          7,
          8,
          8,
          11,
          9,
          11,
          12
         ]
        }
       ],
       "layout": {
        "barmode": "group",
        "template": {
         "data": {
          "bar": [
           {
            "error_x": {
             "color": "#2a3f5f"
            },
            "error_y": {
             "color": "#2a3f5f"
            },
            "marker": {
             "line": {
              "color": "#E5ECF6",
              "width": 0.5
             }
            },
            "type": "bar"
           }
          ],
          "barpolar": [
           {
            "marker": {
             "line": {
              "color": "#E5ECF6",
              "width": 0.5
             }
            },
            "type": "barpolar"
           }
          ],
          "carpet": [
           {
            "aaxis": {
             "endlinecolor": "#2a3f5f",
             "gridcolor": "white",
             "linecolor": "white",
             "minorgridcolor": "white",
             "startlinecolor": "#2a3f5f"
            },
            "baxis": {
             "endlinecolor": "#2a3f5f",
             "gridcolor": "white",
             "linecolor": "white",
             "minorgridcolor": "white",
             "startlinecolor": "#2a3f5f"
            },
            "type": "carpet"
           }
          ],
          "choropleth": [
           {
            "colorbar": {
             "outlinewidth": 0,
             "ticks": ""
            },
            "type": "choropleth"
           }
          ],
          "contour": [
           {
            "colorbar": {
             "outlinewidth": 0,
             "ticks": ""
            },
            "colorscale": [
             [
              0,
              "#0d0887"
             ],
             [
              0.1111111111111111,
              "#46039f"
             ],
             [
              0.2222222222222222,
              "#7201a8"
             ],
             [
              0.3333333333333333,
              "#9c179e"
             ],
             [
              0.4444444444444444,
              "#bd3786"
             ],
             [
              0.5555555555555556,
              "#d8576b"
             ],
             [
              0.6666666666666666,
              "#ed7953"
             ],
             [
              0.7777777777777778,
              "#fb9f3a"
             ],
             [
              0.8888888888888888,
              "#fdca26"
             ],
             [
              1,
              "#f0f921"
             ]
            ],
            "type": "contour"
           }
          ],
          "contourcarpet": [
           {
            "colorbar": {
             "outlinewidth": 0,
             "ticks": ""
            },
            "type": "contourcarpet"
           }
          ],
          "heatmap": [
           {
            "colorbar": {
             "outlinewidth": 0,
             "ticks": ""
            },
            "colorscale": [
             [
              0,
              "#0d0887"
             ],
             [
              0.1111111111111111,
              "#46039f"
             ],
             [
              0.2222222222222222,
              "#7201a8"
             ],
             [
              0.3333333333333333,
              "#9c179e"
             ],
             [
              0.4444444444444444,
              "#bd3786"
             ],
             [
              0.5555555555555556,
              "#d8576b"
             ],
             [
              0.6666666666666666,
              "#ed7953"
             ],
             [
              0.7777777777777778,
              "#fb9f3a"
             ],
             [
              0.8888888888888888,
              "#fdca26"
             ],
             [
              1,
              "#f0f921"
             ]
            ],
            "type": "heatmap"
           }
          ],
          "heatmapgl": [
           {
            "colorbar": {
             "outlinewidth": 0,
             "ticks": ""
            },
            "colorscale": [
             [
              0,
              "#0d0887"
             ],
             [
              0.1111111111111111,
              "#46039f"
             ],
             [
              0.2222222222222222,
              "#7201a8"
             ],
             [
              0.3333333333333333,
              "#9c179e"
             ],
             [
              0.4444444444444444,
              "#bd3786"
             ],
             [
              0.5555555555555556,
              "#d8576b"
             ],
             [
              0.6666666666666666,
              "#ed7953"
             ],
             [
              0.7777777777777778,
              "#fb9f3a"
             ],
             [
              0.8888888888888888,
              "#fdca26"
             ],
             [
              1,
              "#f0f921"
             ]
            ],
            "type": "heatmapgl"
           }
          ],
          "histogram": [
           {
            "marker": {
             "colorbar": {
              "outlinewidth": 0,
              "ticks": ""
             }
            },
            "type": "histogram"
           }
          ],
          "histogram2d": [
           {
            "colorbar": {
             "outlinewidth": 0,
             "ticks": ""
            },
            "colorscale": [
             [
              0,
              "#0d0887"
             ],
             [
              0.1111111111111111,
              "#46039f"
             ],
             [
              0.2222222222222222,
              "#7201a8"
             ],
             [
              0.3333333333333333,
              "#9c179e"
             ],
             [
              0.4444444444444444,
              "#bd3786"
             ],
             [
              0.5555555555555556,
              "#d8576b"
             ],
             [
              0.6666666666666666,
              "#ed7953"
             ],
             [
              0.7777777777777778,
              "#fb9f3a"
             ],
             [
              0.8888888888888888,
              "#fdca26"
             ],
             [
              1,
              "#f0f921"
             ]
            ],
            "type": "histogram2d"
           }
          ],
          "histogram2dcontour": [
           {
            "colorbar": {
             "outlinewidth": 0,
             "ticks": ""
            },
            "colorscale": [
             [
              0,
              "#0d0887"
             ],
             [
              0.1111111111111111,
              "#46039f"
             ],
             [
              0.2222222222222222,
              "#7201a8"
             ],
             [
              0.3333333333333333,
              "#9c179e"
             ],
             [
              0.4444444444444444,
              "#bd3786"
             ],
             [
              0.5555555555555556,
              "#d8576b"
             ],
             [
              0.6666666666666666,
              "#ed7953"
             ],
             [
              0.7777777777777778,
              "#fb9f3a"
             ],
             [
              0.8888888888888888,
              "#fdca26"
             ],
             [
              1,
              "#f0f921"
             ]
            ],
            "type": "histogram2dcontour"
           }
          ],
          "mesh3d": [
           {
            "colorbar": {
             "outlinewidth": 0,
             "ticks": ""
            },
            "type": "mesh3d"
           }
          ],
          "parcoords": [
           {
            "line": {
             "colorbar": {
              "outlinewidth": 0,
              "ticks": ""
             }
            },
            "type": "parcoords"
           }
          ],
          "pie": [
           {
            "automargin": true,
            "type": "pie"
           }
          ],
          "scatter": [
           {
            "marker": {
             "colorbar": {
              "outlinewidth": 0,
              "ticks": ""
             }
            },
            "type": "scatter"
           }
          ],
          "scatter3d": [
           {
            "line": {
             "colorbar": {
              "outlinewidth": 0,
              "ticks": ""
             }
            },
            "marker": {
             "colorbar": {
              "outlinewidth": 0,
              "ticks": ""
             }
            },
            "type": "scatter3d"
           }
          ],
          "scattercarpet": [
           {
            "marker": {
             "colorbar": {
              "outlinewidth": 0,
              "ticks": ""
             }
            },
            "type": "scattercarpet"
           }
          ],
          "scattergeo": [
           {
            "marker": {
             "colorbar": {
              "outlinewidth": 0,
              "ticks": ""
             }
            },
            "type": "scattergeo"
           }
          ],
          "scattergl": [
           {
            "marker": {
             "colorbar": {
              "outlinewidth": 0,
              "ticks": ""
             }
            },
            "type": "scattergl"
           }
          ],
          "scattermapbox": [
           {
            "marker": {
             "colorbar": {
              "outlinewidth": 0,
              "ticks": ""
             }
            },
            "type": "scattermapbox"
           }
          ],
          "scatterpolar": [
           {
            "marker": {
             "colorbar": {
              "outlinewidth": 0,
              "ticks": ""
             }
            },
            "type": "scatterpolar"
           }
          ],
          "scatterpolargl": [
           {
            "marker": {
             "colorbar": {
              "outlinewidth": 0,
              "ticks": ""
             }
            },
            "type": "scatterpolargl"
           }
          ],
          "scatterternary": [
           {
            "marker": {
             "colorbar": {
              "outlinewidth": 0,
              "ticks": ""
             }
            },
            "type": "scatterternary"
           }
          ],
          "surface": [
           {
            "colorbar": {
             "outlinewidth": 0,
             "ticks": ""
            },
            "colorscale": [
             [
              0,
              "#0d0887"
             ],
             [
              0.1111111111111111,
              "#46039f"
             ],
             [
              0.2222222222222222,
              "#7201a8"
             ],
             [
              0.3333333333333333,
              "#9c179e"
             ],
             [
              0.4444444444444444,
              "#bd3786"
             ],
             [
              0.5555555555555556,
              "#d8576b"
             ],
             [
              0.6666666666666666,
              "#ed7953"
             ],
             [
              0.7777777777777778,
              "#fb9f3a"
             ],
             [
              0.8888888888888888,
              "#fdca26"
             ],
             [
              1,
              "#f0f921"
             ]
            ],
            "type": "surface"
           }
          ],
          "table": [
           {
            "cells": {
             "fill": {
              "color": "#EBF0F8"
             },
             "line": {
              "color": "white"
             }
            },
            "header": {
             "fill": {
              "color": "#C8D4E3"
             },
             "line": {
              "color": "white"
             }
            },
            "type": "table"
           }
          ]
         },
         "layout": {
          "annotationdefaults": {
           "arrowcolor": "#2a3f5f",
           "arrowhead": 0,
           "arrowwidth": 1
          },
          "coloraxis": {
           "colorbar": {
            "outlinewidth": 0,
            "ticks": ""
           }
          },
          "colorscale": {
           "diverging": [
            [
             0,
             "#8e0152"
            ],
            [
             0.1,
             "#c51b7d"
            ],
            [
             0.2,
             "#de77ae"
            ],
            [
             0.3,
             "#f1b6da"
            ],
            [
             0.4,
             "#fde0ef"
            ],
            [
             0.5,
             "#f7f7f7"
            ],
            [
             0.6,
             "#e6f5d0"
            ],
            [
             0.7,
             "#b8e186"
            ],
            [
             0.8,
             "#7fbc41"
            ],
            [
             0.9,
             "#4d9221"
            ],
            [
             1,
             "#276419"
            ]
           ],
           "sequential": [
            [
             0,
             "#0d0887"
            ],
            [
             0.1111111111111111,
             "#46039f"
            ],
            [
             0.2222222222222222,
             "#7201a8"
            ],
            [
             0.3333333333333333,
             "#9c179e"
            ],
            [
             0.4444444444444444,
             "#bd3786"
            ],
            [
             0.5555555555555556,
             "#d8576b"
            ],
            [
             0.6666666666666666,
             "#ed7953"
            ],
            [
             0.7777777777777778,
             "#fb9f3a"
            ],
            [
             0.8888888888888888,
             "#fdca26"
            ],
            [
             1,
             "#f0f921"
            ]
           ],
           "sequentialminus": [
            [
             0,
             "#0d0887"
            ],
            [
             0.1111111111111111,
             "#46039f"
            ],
            [
             0.2222222222222222,
             "#7201a8"
            ],
            [
             0.3333333333333333,
             "#9c179e"
            ],
            [
             0.4444444444444444,
             "#bd3786"
            ],
            [
             0.5555555555555556,
             "#d8576b"
            ],
            [
             0.6666666666666666,
             "#ed7953"
            ],
            [
             0.7777777777777778,
             "#fb9f3a"
            ],
            [
             0.8888888888888888,
             "#fdca26"
            ],
            [
             1,
             "#f0f921"
            ]
           ]
          },
          "colorway": [
           "#636efa",
           "#EF553B",
           "#00cc96",
           "#ab63fa",
           "#FFA15A",
           "#19d3f3",
           "#FF6692",
           "#B6E880",
           "#FF97FF",
           "#FECB52"
          ],
          "font": {
           "color": "#2a3f5f"
          },
          "geo": {
           "bgcolor": "white",
           "lakecolor": "white",
           "landcolor": "#E5ECF6",
           "showlakes": true,
           "showland": true,
           "subunitcolor": "white"
          },
          "hoverlabel": {
           "align": "left"
          },
          "hovermode": "closest",
          "mapbox": {
           "style": "light"
          },
          "paper_bgcolor": "white",
          "plot_bgcolor": "#E5ECF6",
          "polar": {
           "angularaxis": {
            "gridcolor": "white",
            "linecolor": "white",
            "ticks": ""
           },
           "bgcolor": "#E5ECF6",
           "radialaxis": {
            "gridcolor": "white",
            "linecolor": "white",
            "ticks": ""
           }
          },
          "scene": {
           "xaxis": {
            "backgroundcolor": "#E5ECF6",
            "gridcolor": "white",
            "gridwidth": 2,
            "linecolor": "white",
            "showbackground": true,
            "ticks": "",
            "zerolinecolor": "white"
           },
           "yaxis": {
            "backgroundcolor": "#E5ECF6",
            "gridcolor": "white",
            "gridwidth": 2,
            "linecolor": "white",
            "showbackground": true,
            "ticks": "",
            "zerolinecolor": "white"
           },
           "zaxis": {
            "backgroundcolor": "#E5ECF6",
            "gridcolor": "white",
            "gridwidth": 2,
            "linecolor": "white",
            "showbackground": true,
            "ticks": "",
            "zerolinecolor": "white"
           }
          },
          "shapedefaults": {
           "line": {
            "color": "#2a3f5f"
           }
          },
          "ternary": {
           "aaxis": {
            "gridcolor": "white",
            "linecolor": "white",
            "ticks": ""
           },
           "baxis": {
            "gridcolor": "white",
            "linecolor": "white",
            "ticks": ""
           },
           "bgcolor": "#E5ECF6",
           "caxis": {
            "gridcolor": "white",
            "linecolor": "white",
            "ticks": ""
           }
          },
          "title": {
           "x": 0.05
          },
          "xaxis": {
           "automargin": true,
           "gridcolor": "white",
           "linecolor": "white",
           "ticks": "",
           "title": {
            "standoff": 15
           },
           "zerolinecolor": "white",
           "zerolinewidth": 2
          },
          "yaxis": {
           "automargin": true,
           "gridcolor": "white",
           "linecolor": "white",
           "ticks": "",
           "title": {
            "standoff": 15
           },
           "zerolinecolor": "white",
           "zerolinewidth": 2
          }
         }
        },
        "title": {
         "text": "Total Wins by Year",
         "x": 0.5,
         "xanchor": "center",
         "y": 0.95,
         "yanchor": "top"
        }
       }
      },
      "text/html": [
       "<div>\n",
       "        \n",
       "        \n",
       "            <div id=\"eb1b52e9-d59e-4bbf-b115-6c6647686780\" class=\"plotly-graph-div\" style=\"height:525px; width:100%;\"></div>\n",
       "            <script type=\"text/javascript\">\n",
       "                require([\"plotly\"], function(Plotly) {\n",
       "                    window.PLOTLYENV=window.PLOTLYENV || {};\n",
       "                    \n",
       "                if (document.getElementById(\"eb1b52e9-d59e-4bbf-b115-6c6647686780\")) {\n",
       "                    Plotly.newPlot(\n",
       "                        'eb1b52e9-d59e-4bbf-b115-6c6647686780',\n",
       "                        [{\"name\": \"2017\", \"type\": \"bar\", \"x\": [\"CLE\", \"NYG\", \"OAK\", \"NYJ\", \"TB\", \"SF\", \"ARI\", \"DEN\", \"CIN\", \"GB\", \"IND\", \"MIA\", \"JAX\", \"WAS\", \"DET\", \"BUF\", \"HOU\", \"ATL\", \"CHI\", \"CAR\", \"SEA\", \"BAL\", \"TEN\", \"DAL\", \"LAC\", \"PHI\", \"MIN\", \"PIT\", \"KC\", \"NE\", \"LA\", \"NO\"], \"y\": [0, 3, 6, 5, 5, 6, 8, 5, 6, 7, 4, 6, 10, 7, 9, 9, 4, 10, 5, 11, 9, 9, 9, 9, 9, 13, 13, 13, 10, 13, 11, 11]}, {\"name\": \"2018\", \"type\": \"bar\", \"x\": [\"CLE\", \"NYG\", \"OAK\", \"NYJ\", \"TB\", \"SF\", \"ARI\", \"DEN\", \"CIN\", \"GB\", \"IND\", \"MIA\", \"JAX\", \"WAS\", \"DET\", \"BUF\", \"HOU\", \"ATL\", \"CHI\", \"CAR\", \"SEA\", \"BAL\", \"TEN\", \"DAL\", \"LAC\", \"PHI\", \"MIN\", \"PIT\", \"KC\", \"NE\", \"LA\", \"NO\"], \"y\": [6, 5, 3, 4, 5, 4, 3, 6, 6, 5, 8, 7, 4, 7, 5, 5, 10, 5, 10, 6, 8, 8, 8, 8, 11, 7, 8, 8, 11, 9, 11, 12]}],\n",
       "                        {\"barmode\": \"group\", \"template\": {\"data\": {\"bar\": [{\"error_x\": {\"color\": \"#2a3f5f\"}, \"error_y\": {\"color\": \"#2a3f5f\"}, \"marker\": {\"line\": {\"color\": \"#E5ECF6\", \"width\": 0.5}}, \"type\": \"bar\"}], \"barpolar\": [{\"marker\": {\"line\": {\"color\": \"#E5ECF6\", \"width\": 0.5}}, \"type\": \"barpolar\"}], \"carpet\": [{\"aaxis\": {\"endlinecolor\": \"#2a3f5f\", \"gridcolor\": \"white\", \"linecolor\": \"white\", \"minorgridcolor\": \"white\", \"startlinecolor\": \"#2a3f5f\"}, \"baxis\": {\"endlinecolor\": \"#2a3f5f\", \"gridcolor\": \"white\", \"linecolor\": \"white\", \"minorgridcolor\": \"white\", \"startlinecolor\": \"#2a3f5f\"}, \"type\": \"carpet\"}], \"choropleth\": [{\"colorbar\": {\"outlinewidth\": 0, \"ticks\": \"\"}, \"type\": \"choropleth\"}], \"contour\": [{\"colorbar\": {\"outlinewidth\": 0, \"ticks\": \"\"}, \"colorscale\": [[0.0, \"#0d0887\"], [0.1111111111111111, \"#46039f\"], [0.2222222222222222, \"#7201a8\"], [0.3333333333333333, \"#9c179e\"], [0.4444444444444444, \"#bd3786\"], [0.5555555555555556, \"#d8576b\"], [0.6666666666666666, \"#ed7953\"], [0.7777777777777778, \"#fb9f3a\"], [0.8888888888888888, \"#fdca26\"], [1.0, \"#f0f921\"]], \"type\": \"contour\"}], \"contourcarpet\": [{\"colorbar\": {\"outlinewidth\": 0, \"ticks\": \"\"}, \"type\": \"contourcarpet\"}], \"heatmap\": [{\"colorbar\": {\"outlinewidth\": 0, \"ticks\": \"\"}, \"colorscale\": [[0.0, \"#0d0887\"], [0.1111111111111111, \"#46039f\"], [0.2222222222222222, \"#7201a8\"], [0.3333333333333333, \"#9c179e\"], [0.4444444444444444, \"#bd3786\"], [0.5555555555555556, \"#d8576b\"], [0.6666666666666666, \"#ed7953\"], [0.7777777777777778, \"#fb9f3a\"], [0.8888888888888888, \"#fdca26\"], [1.0, \"#f0f921\"]], \"type\": \"heatmap\"}], \"heatmapgl\": [{\"colorbar\": {\"outlinewidth\": 0, \"ticks\": \"\"}, \"colorscale\": [[0.0, \"#0d0887\"], [0.1111111111111111, \"#46039f\"], [0.2222222222222222, \"#7201a8\"], [0.3333333333333333, \"#9c179e\"], [0.4444444444444444, \"#bd3786\"], [0.5555555555555556, \"#d8576b\"], [0.6666666666666666, \"#ed7953\"], [0.7777777777777778, \"#fb9f3a\"], [0.8888888888888888, \"#fdca26\"], [1.0, \"#f0f921\"]], \"type\": \"heatmapgl\"}], \"histogram\": [{\"marker\": {\"colorbar\": {\"outlinewidth\": 0, \"ticks\": \"\"}}, \"type\": \"histogram\"}], \"histogram2d\": [{\"colorbar\": {\"outlinewidth\": 0, \"ticks\": \"\"}, \"colorscale\": [[0.0, \"#0d0887\"], [0.1111111111111111, \"#46039f\"], [0.2222222222222222, \"#7201a8\"], [0.3333333333333333, \"#9c179e\"], [0.4444444444444444, \"#bd3786\"], [0.5555555555555556, \"#d8576b\"], [0.6666666666666666, \"#ed7953\"], [0.7777777777777778, \"#fb9f3a\"], [0.8888888888888888, \"#fdca26\"], [1.0, \"#f0f921\"]], \"type\": \"histogram2d\"}], \"histogram2dcontour\": [{\"colorbar\": {\"outlinewidth\": 0, \"ticks\": \"\"}, \"colorscale\": [[0.0, \"#0d0887\"], [0.1111111111111111, \"#46039f\"], [0.2222222222222222, \"#7201a8\"], [0.3333333333333333, \"#9c179e\"], [0.4444444444444444, \"#bd3786\"], [0.5555555555555556, \"#d8576b\"], [0.6666666666666666, \"#ed7953\"], [0.7777777777777778, \"#fb9f3a\"], [0.8888888888888888, \"#fdca26\"], [1.0, \"#f0f921\"]], \"type\": \"histogram2dcontour\"}], \"mesh3d\": [{\"colorbar\": {\"outlinewidth\": 0, \"ticks\": \"\"}, \"type\": \"mesh3d\"}], \"parcoords\": [{\"line\": {\"colorbar\": {\"outlinewidth\": 0, \"ticks\": \"\"}}, \"type\": \"parcoords\"}], \"pie\": [{\"automargin\": true, \"type\": \"pie\"}], \"scatter\": [{\"marker\": {\"colorbar\": {\"outlinewidth\": 0, \"ticks\": \"\"}}, \"type\": \"scatter\"}], \"scatter3d\": [{\"line\": {\"colorbar\": {\"outlinewidth\": 0, \"ticks\": \"\"}}, \"marker\": {\"colorbar\": {\"outlinewidth\": 0, \"ticks\": \"\"}}, \"type\": \"scatter3d\"}], \"scattercarpet\": [{\"marker\": {\"colorbar\": {\"outlinewidth\": 0, \"ticks\": \"\"}}, \"type\": \"scattercarpet\"}], \"scattergeo\": [{\"marker\": {\"colorbar\": {\"outlinewidth\": 0, \"ticks\": \"\"}}, \"type\": \"scattergeo\"}], \"scattergl\": [{\"marker\": {\"colorbar\": {\"outlinewidth\": 0, \"ticks\": \"\"}}, \"type\": \"scattergl\"}], \"scattermapbox\": [{\"marker\": {\"colorbar\": {\"outlinewidth\": 0, \"ticks\": \"\"}}, \"type\": \"scattermapbox\"}], \"scatterpolar\": [{\"marker\": {\"colorbar\": {\"outlinewidth\": 0, \"ticks\": \"\"}}, \"type\": \"scatterpolar\"}], \"scatterpolargl\": [{\"marker\": {\"colorbar\": {\"outlinewidth\": 0, \"ticks\": \"\"}}, \"type\": \"scatterpolargl\"}], \"scatterternary\": [{\"marker\": {\"colorbar\": {\"outlinewidth\": 0, \"ticks\": \"\"}}, \"type\": \"scatterternary\"}], \"surface\": [{\"colorbar\": {\"outlinewidth\": 0, \"ticks\": \"\"}, \"colorscale\": [[0.0, \"#0d0887\"], [0.1111111111111111, \"#46039f\"], [0.2222222222222222, \"#7201a8\"], [0.3333333333333333, \"#9c179e\"], [0.4444444444444444, \"#bd3786\"], [0.5555555555555556, \"#d8576b\"], [0.6666666666666666, \"#ed7953\"], [0.7777777777777778, \"#fb9f3a\"], [0.8888888888888888, \"#fdca26\"], [1.0, \"#f0f921\"]], \"type\": \"surface\"}], \"table\": [{\"cells\": {\"fill\": {\"color\": \"#EBF0F8\"}, \"line\": {\"color\": \"white\"}}, \"header\": {\"fill\": {\"color\": \"#C8D4E3\"}, \"line\": {\"color\": \"white\"}}, \"type\": \"table\"}]}, \"layout\": {\"annotationdefaults\": {\"arrowcolor\": \"#2a3f5f\", \"arrowhead\": 0, \"arrowwidth\": 1}, \"coloraxis\": {\"colorbar\": {\"outlinewidth\": 0, \"ticks\": \"\"}}, \"colorscale\": {\"diverging\": [[0, \"#8e0152\"], [0.1, \"#c51b7d\"], [0.2, \"#de77ae\"], [0.3, \"#f1b6da\"], [0.4, \"#fde0ef\"], [0.5, \"#f7f7f7\"], [0.6, \"#e6f5d0\"], [0.7, \"#b8e186\"], [0.8, \"#7fbc41\"], [0.9, \"#4d9221\"], [1, \"#276419\"]], \"sequential\": [[0.0, \"#0d0887\"], [0.1111111111111111, \"#46039f\"], [0.2222222222222222, \"#7201a8\"], [0.3333333333333333, \"#9c179e\"], [0.4444444444444444, \"#bd3786\"], [0.5555555555555556, \"#d8576b\"], [0.6666666666666666, \"#ed7953\"], [0.7777777777777778, \"#fb9f3a\"], [0.8888888888888888, \"#fdca26\"], [1.0, \"#f0f921\"]], \"sequentialminus\": [[0.0, \"#0d0887\"], [0.1111111111111111, \"#46039f\"], [0.2222222222222222, \"#7201a8\"], [0.3333333333333333, \"#9c179e\"], [0.4444444444444444, \"#bd3786\"], [0.5555555555555556, \"#d8576b\"], [0.6666666666666666, \"#ed7953\"], [0.7777777777777778, \"#fb9f3a\"], [0.8888888888888888, \"#fdca26\"], [1.0, \"#f0f921\"]]}, \"colorway\": [\"#636efa\", \"#EF553B\", \"#00cc96\", \"#ab63fa\", \"#FFA15A\", \"#19d3f3\", \"#FF6692\", \"#B6E880\", \"#FF97FF\", \"#FECB52\"], \"font\": {\"color\": \"#2a3f5f\"}, \"geo\": {\"bgcolor\": \"white\", \"lakecolor\": \"white\", \"landcolor\": \"#E5ECF6\", \"showlakes\": true, \"showland\": true, \"subunitcolor\": \"white\"}, \"hoverlabel\": {\"align\": \"left\"}, \"hovermode\": \"closest\", \"mapbox\": {\"style\": \"light\"}, \"paper_bgcolor\": \"white\", \"plot_bgcolor\": \"#E5ECF6\", \"polar\": {\"angularaxis\": {\"gridcolor\": \"white\", \"linecolor\": \"white\", \"ticks\": \"\"}, \"bgcolor\": \"#E5ECF6\", \"radialaxis\": {\"gridcolor\": \"white\", \"linecolor\": \"white\", \"ticks\": \"\"}}, \"scene\": {\"xaxis\": {\"backgroundcolor\": \"#E5ECF6\", \"gridcolor\": \"white\", \"gridwidth\": 2, \"linecolor\": \"white\", \"showbackground\": true, \"ticks\": \"\", \"zerolinecolor\": \"white\"}, \"yaxis\": {\"backgroundcolor\": \"#E5ECF6\", \"gridcolor\": \"white\", \"gridwidth\": 2, \"linecolor\": \"white\", \"showbackground\": true, \"ticks\": \"\", \"zerolinecolor\": \"white\"}, \"zaxis\": {\"backgroundcolor\": \"#E5ECF6\", \"gridcolor\": \"white\", \"gridwidth\": 2, \"linecolor\": \"white\", \"showbackground\": true, \"ticks\": \"\", \"zerolinecolor\": \"white\"}}, \"shapedefaults\": {\"line\": {\"color\": \"#2a3f5f\"}}, \"ternary\": {\"aaxis\": {\"gridcolor\": \"white\", \"linecolor\": \"white\", \"ticks\": \"\"}, \"baxis\": {\"gridcolor\": \"white\", \"linecolor\": \"white\", \"ticks\": \"\"}, \"bgcolor\": \"#E5ECF6\", \"caxis\": {\"gridcolor\": \"white\", \"linecolor\": \"white\", \"ticks\": \"\"}}, \"title\": {\"x\": 0.05}, \"xaxis\": {\"automargin\": true, \"gridcolor\": \"white\", \"linecolor\": \"white\", \"ticks\": \"\", \"title\": {\"standoff\": 15}, \"zerolinecolor\": \"white\", \"zerolinewidth\": 2}, \"yaxis\": {\"automargin\": true, \"gridcolor\": \"white\", \"linecolor\": \"white\", \"ticks\": \"\", \"title\": {\"standoff\": 15}, \"zerolinecolor\": \"white\", \"zerolinewidth\": 2}}}, \"title\": {\"text\": \"Total Wins by Year\", \"x\": 0.5, \"xanchor\": \"center\", \"y\": 0.95, \"yanchor\": \"top\"}},\n",
       "                        {\"responsive\": true}\n",
       "                    ).then(function(){\n",
       "                            \n",
       "var gd = document.getElementById('eb1b52e9-d59e-4bbf-b115-6c6647686780');\n",
       "var x = new MutationObserver(function (mutations, observer) {{\n",
       "        var display = window.getComputedStyle(gd).display;\n",
       "        if (!display || display === 'none') {{\n",
       "            console.log([gd, 'removed!']);\n",
       "            Plotly.purge(gd);\n",
       "            observer.disconnect();\n",
       "        }}\n",
       "}});\n",
       "\n",
       "// Listen for the removal of the full notebook cells\n",
       "var notebookContainer = gd.closest('#notebook-container');\n",
       "if (notebookContainer) {{\n",
       "    x.observe(notebookContainer, {childList: true});\n",
       "}}\n",
       "\n",
       "// Listen for the clearing of the current output cell\n",
       "var outputEl = gd.closest('.output');\n",
       "if (outputEl) {{\n",
       "    x.observe(outputEl, {childList: true});\n",
       "}}\n",
       "\n",
       "                        })\n",
       "                };\n",
       "                });\n",
       "            </script>\n",
       "        </div>"
      ]
     },
     "metadata": {},
     "output_type": "display_data"
    }
   ],
   "source": [
    "fig = go.Figure(data=[go.Bar(name='2017', x = team_by_wins['team'], y = team_wins_2017),\\\n",
    "                      go.Bar(name='2018', x = team_by_wins['team'], y = team_wins_2018)])\n",
    "\n",
    "layout = go.Layout(\n",
    "    title = 'Total Wins (2017 & 2018)',\n",
    "    xaxis= dict(title= 'Team',ticklen= 1,zeroline= False),\n",
    "    yaxis= dict(title= 'Wins',ticklen= 5,zeroline= False)\n",
    ")\n",
    "\n",
    "fig.update_layout(\n",
    "    title={\n",
    "        'text':'Total Wins by Year',\n",
    "        'y':0.95,\n",
    "        'x':0.5,\n",
    "        'xanchor': 'center',\n",
    "        'yanchor': 'top'},\n",
    "        barmode='group')\n",
    "fig"
   ]
  },
  {
   "cell_type": "markdown",
   "metadata": {},
   "source": [
    "You have a few distinct groups of teams based on number of wins. You have the \"underacheivers\" with 6 or less wins per season, you have the \"middle of the pack\" with 10 or less wins per season, and you have the \"overachievers\" with 10+ wins per season."
   ]
  },
  {
   "cell_type": "code",
   "execution_count": 60,
   "metadata": {},
   "outputs": [],
   "source": [
    "yd_avg2017 = []\n",
    "for team in team_by_wins['team']:\n",
    "    yd_avg2017.append(round(np.mean(nfl_small2_end_of_drive[(nfl_small2_end_of_drive['posteam']==team) &\\\n",
    "                                                        (nfl_small2_end_of_drive['year']==2017)&\\\n",
    "                                                        (nfl_small2_end_of_drive['end_of_drive']==1)]\\\n",
    "                    .groupby('week').sum()['ydsnet'].values),0))\n",
    "    \n",
    "yd_avg2018 = []\n",
    "for team in team_by_wins['team']:\n",
    "    yd_avg2018.append(round(np.mean(nfl_small2_end_of_drive[(nfl_small2_end_of_drive['posteam']==team) &\\\n",
    "                                                        (nfl_small2_end_of_drive['year']==2018)&\\\n",
    "                                                        (nfl_small2_end_of_drive['end_of_drive']==1)]\\\n",
    "                    .groupby('week').sum()['ydsnet'].values),0))"
   ]
  },
  {
   "cell_type": "code",
   "execution_count": 61,
   "metadata": {
    "code_folding": []
   },
   "outputs": [
    {
     "data": {
      "application/vnd.plotly.v1+json": {
       "config": {
        "plotlyServerURL": "https://plot.ly"
       },
       "data": [
        {
         "name": "2017",
         "type": "bar",
         "x": [
          "CLE",
          "NYG",
          "OAK",
          "NYJ",
          "TB",
          "SF",
          "ARI",
          "DEN",
          "CIN",
          "GB",
          "IND",
          "MIA",
          "JAX",
          "WAS",
          "DET",
          "BUF",
          "HOU",
          "ATL",
          "CHI",
          "CAR",
          "SEA",
          "BAL",
          "TEN",
          "DAL",
          "LAC",
          "PHI",
          "MIN",
          "PIT",
          "KC",
          "NE",
          "LA",
          "NO"
         ],
         "y": [
          308,
          382,
          319,
          328,
          360,
          362,
          371,
          340,
          301,
          332,
          302,
          370,
          371,
          319,
          387,
          318,
          355,
          385,
          315,
          378,
          319,
          334,
          317,
          384,
          408,
          391,
          388,
          385,
          372,
          433,
          362,
          383
         ]
        },
        {
         "name": "2018",
         "type": "bar",
         "x": [
          "CLE",
          "NYG",
          "OAK",
          "NYJ",
          "TB",
          "SF",
          "ARI",
          "DEN",
          "CIN",
          "GB",
          "IND",
          "MIA",
          "JAX",
          "WAS",
          "DET",
          "BUF",
          "HOU",
          "ATL",
          "CHI",
          "CAR",
          "SEA",
          "BAL",
          "TEN",
          "DAL",
          "LAC",
          "PHI",
          "MIN",
          "PIT",
          "KC",
          "NE",
          "LA",
          "NO"
         ],
         "y": [
          384,
          403,
          361,
          288,
          448,
          368,
          258,
          350,
          378,
          394,
          447,
          296,
          331,
          329,
          397,
          316,
          363,
          449,
          422,
          463,
          377,
          396,
          336,
          392,
          416,
          383,
          379,
          446,
          425,
          398,
          458,
          457
         ]
        }
       ],
       "layout": {
        "barmode": "group",
        "template": {
         "data": {
          "bar": [
           {
            "error_x": {
             "color": "#2a3f5f"
            },
            "error_y": {
             "color": "#2a3f5f"
            },
            "marker": {
             "line": {
              "color": "#E5ECF6",
              "width": 0.5
             }
            },
            "type": "bar"
           }
          ],
          "barpolar": [
           {
            "marker": {
             "line": {
              "color": "#E5ECF6",
              "width": 0.5
             }
            },
            "type": "barpolar"
           }
          ],
          "carpet": [
           {
            "aaxis": {
             "endlinecolor": "#2a3f5f",
             "gridcolor": "white",
             "linecolor": "white",
             "minorgridcolor": "white",
             "startlinecolor": "#2a3f5f"
            },
            "baxis": {
             "endlinecolor": "#2a3f5f",
             "gridcolor": "white",
             "linecolor": "white",
             "minorgridcolor": "white",
             "startlinecolor": "#2a3f5f"
            },
            "type": "carpet"
           }
          ],
          "choropleth": [
           {
            "colorbar": {
             "outlinewidth": 0,
             "ticks": ""
            },
            "type": "choropleth"
           }
          ],
          "contour": [
           {
            "colorbar": {
             "outlinewidth": 0,
             "ticks": ""
            },
            "colorscale": [
             [
              0,
              "#0d0887"
             ],
             [
              0.1111111111111111,
              "#46039f"
             ],
             [
              0.2222222222222222,
              "#7201a8"
             ],
             [
              0.3333333333333333,
              "#9c179e"
             ],
             [
              0.4444444444444444,
              "#bd3786"
             ],
             [
              0.5555555555555556,
              "#d8576b"
             ],
             [
              0.6666666666666666,
              "#ed7953"
             ],
             [
              0.7777777777777778,
              "#fb9f3a"
             ],
             [
              0.8888888888888888,
              "#fdca26"
             ],
             [
              1,
              "#f0f921"
             ]
            ],
            "type": "contour"
           }
          ],
          "contourcarpet": [
           {
            "colorbar": {
             "outlinewidth": 0,
             "ticks": ""
            },
            "type": "contourcarpet"
           }
          ],
          "heatmap": [
           {
            "colorbar": {
             "outlinewidth": 0,
             "ticks": ""
            },
            "colorscale": [
             [
              0,
              "#0d0887"
             ],
             [
              0.1111111111111111,
              "#46039f"
             ],
             [
              0.2222222222222222,
              "#7201a8"
             ],
             [
              0.3333333333333333,
              "#9c179e"
             ],
             [
              0.4444444444444444,
              "#bd3786"
             ],
             [
              0.5555555555555556,
              "#d8576b"
             ],
             [
              0.6666666666666666,
              "#ed7953"
             ],
             [
              0.7777777777777778,
              "#fb9f3a"
             ],
             [
              0.8888888888888888,
              "#fdca26"
             ],
             [
              1,
              "#f0f921"
             ]
            ],
            "type": "heatmap"
           }
          ],
          "heatmapgl": [
           {
            "colorbar": {
             "outlinewidth": 0,
             "ticks": ""
            },
            "colorscale": [
             [
              0,
              "#0d0887"
             ],
             [
              0.1111111111111111,
              "#46039f"
             ],
             [
              0.2222222222222222,
              "#7201a8"
             ],
             [
              0.3333333333333333,
              "#9c179e"
             ],
             [
              0.4444444444444444,
              "#bd3786"
             ],
             [
              0.5555555555555556,
              "#d8576b"
             ],
             [
              0.6666666666666666,
              "#ed7953"
             ],
             [
              0.7777777777777778,
              "#fb9f3a"
             ],
             [
              0.8888888888888888,
              "#fdca26"
             ],
             [
              1,
              "#f0f921"
             ]
            ],
            "type": "heatmapgl"
           }
          ],
          "histogram": [
           {
            "marker": {
             "colorbar": {
              "outlinewidth": 0,
              "ticks": ""
             }
            },
            "type": "histogram"
           }
          ],
          "histogram2d": [
           {
            "colorbar": {
             "outlinewidth": 0,
             "ticks": ""
            },
            "colorscale": [
             [
              0,
              "#0d0887"
             ],
             [
              0.1111111111111111,
              "#46039f"
             ],
             [
              0.2222222222222222,
              "#7201a8"
             ],
             [
              0.3333333333333333,
              "#9c179e"
             ],
             [
              0.4444444444444444,
              "#bd3786"
             ],
             [
              0.5555555555555556,
              "#d8576b"
             ],
             [
              0.6666666666666666,
              "#ed7953"
             ],
             [
              0.7777777777777778,
              "#fb9f3a"
             ],
             [
              0.8888888888888888,
              "#fdca26"
             ],
             [
              1,
              "#f0f921"
             ]
            ],
            "type": "histogram2d"
           }
          ],
          "histogram2dcontour": [
           {
            "colorbar": {
             "outlinewidth": 0,
             "ticks": ""
            },
            "colorscale": [
             [
              0,
              "#0d0887"
             ],
             [
              0.1111111111111111,
              "#46039f"
             ],
             [
              0.2222222222222222,
              "#7201a8"
             ],
             [
              0.3333333333333333,
              "#9c179e"
             ],
             [
              0.4444444444444444,
              "#bd3786"
             ],
             [
              0.5555555555555556,
              "#d8576b"
             ],
             [
              0.6666666666666666,
              "#ed7953"
             ],
             [
              0.7777777777777778,
              "#fb9f3a"
             ],
             [
              0.8888888888888888,
              "#fdca26"
             ],
             [
              1,
              "#f0f921"
             ]
            ],
            "type": "histogram2dcontour"
           }
          ],
          "mesh3d": [
           {
            "colorbar": {
             "outlinewidth": 0,
             "ticks": ""
            },
            "type": "mesh3d"
           }
          ],
          "parcoords": [
           {
            "line": {
             "colorbar": {
              "outlinewidth": 0,
              "ticks": ""
             }
            },
            "type": "parcoords"
           }
          ],
          "pie": [
           {
            "automargin": true,
            "type": "pie"
           }
          ],
          "scatter": [
           {
            "marker": {
             "colorbar": {
              "outlinewidth": 0,
              "ticks": ""
             }
            },
            "type": "scatter"
           }
          ],
          "scatter3d": [
           {
            "line": {
             "colorbar": {
              "outlinewidth": 0,
              "ticks": ""
             }
            },
            "marker": {
             "colorbar": {
              "outlinewidth": 0,
              "ticks": ""
             }
            },
            "type": "scatter3d"
           }
          ],
          "scattercarpet": [
           {
            "marker": {
             "colorbar": {
              "outlinewidth": 0,
              "ticks": ""
             }
            },
            "type": "scattercarpet"
           }
          ],
          "scattergeo": [
           {
            "marker": {
             "colorbar": {
              "outlinewidth": 0,
              "ticks": ""
             }
            },
            "type": "scattergeo"
           }
          ],
          "scattergl": [
           {
            "marker": {
             "colorbar": {
              "outlinewidth": 0,
              "ticks": ""
             }
            },
            "type": "scattergl"
           }
          ],
          "scattermapbox": [
           {
            "marker": {
             "colorbar": {
              "outlinewidth": 0,
              "ticks": ""
             }
            },
            "type": "scattermapbox"
           }
          ],
          "scatterpolar": [
           {
            "marker": {
             "colorbar": {
              "outlinewidth": 0,
              "ticks": ""
             }
            },
            "type": "scatterpolar"
           }
          ],
          "scatterpolargl": [
           {
            "marker": {
             "colorbar": {
              "outlinewidth": 0,
              "ticks": ""
             }
            },
            "type": "scatterpolargl"
           }
          ],
          "scatterternary": [
           {
            "marker": {
             "colorbar": {
              "outlinewidth": 0,
              "ticks": ""
             }
            },
            "type": "scatterternary"
           }
          ],
          "surface": [
           {
            "colorbar": {
             "outlinewidth": 0,
             "ticks": ""
            },
            "colorscale": [
             [
              0,
              "#0d0887"
             ],
             [
              0.1111111111111111,
              "#46039f"
             ],
             [
              0.2222222222222222,
              "#7201a8"
             ],
             [
              0.3333333333333333,
              "#9c179e"
             ],
             [
              0.4444444444444444,
              "#bd3786"
             ],
             [
              0.5555555555555556,
              "#d8576b"
             ],
             [
              0.6666666666666666,
              "#ed7953"
             ],
             [
              0.7777777777777778,
              "#fb9f3a"
             ],
             [
              0.8888888888888888,
              "#fdca26"
             ],
             [
              1,
              "#f0f921"
             ]
            ],
            "type": "surface"
           }
          ],
          "table": [
           {
            "cells": {
             "fill": {
              "color": "#EBF0F8"
             },
             "line": {
              "color": "white"
             }
            },
            "header": {
             "fill": {
              "color": "#C8D4E3"
             },
             "line": {
              "color": "white"
             }
            },
            "type": "table"
           }
          ]
         },
         "layout": {
          "annotationdefaults": {
           "arrowcolor": "#2a3f5f",
           "arrowhead": 0,
           "arrowwidth": 1
          },
          "coloraxis": {
           "colorbar": {
            "outlinewidth": 0,
            "ticks": ""
           }
          },
          "colorscale": {
           "diverging": [
            [
             0,
             "#8e0152"
            ],
            [
             0.1,
             "#c51b7d"
            ],
            [
             0.2,
             "#de77ae"
            ],
            [
             0.3,
             "#f1b6da"
            ],
            [
             0.4,
             "#fde0ef"
            ],
            [
             0.5,
             "#f7f7f7"
            ],
            [
             0.6,
             "#e6f5d0"
            ],
            [
             0.7,
             "#b8e186"
            ],
            [
             0.8,
             "#7fbc41"
            ],
            [
             0.9,
             "#4d9221"
            ],
            [
             1,
             "#276419"
            ]
           ],
           "sequential": [
            [
             0,
             "#0d0887"
            ],
            [
             0.1111111111111111,
             "#46039f"
            ],
            [
             0.2222222222222222,
             "#7201a8"
            ],
            [
             0.3333333333333333,
             "#9c179e"
            ],
            [
             0.4444444444444444,
             "#bd3786"
            ],
            [
             0.5555555555555556,
             "#d8576b"
            ],
            [
             0.6666666666666666,
             "#ed7953"
            ],
            [
             0.7777777777777778,
             "#fb9f3a"
            ],
            [
             0.8888888888888888,
             "#fdca26"
            ],
            [
             1,
             "#f0f921"
            ]
           ],
           "sequentialminus": [
            [
             0,
             "#0d0887"
            ],
            [
             0.1111111111111111,
             "#46039f"
            ],
            [
             0.2222222222222222,
             "#7201a8"
            ],
            [
             0.3333333333333333,
             "#9c179e"
            ],
            [
             0.4444444444444444,
             "#bd3786"
            ],
            [
             0.5555555555555556,
             "#d8576b"
            ],
            [
             0.6666666666666666,
             "#ed7953"
            ],
            [
             0.7777777777777778,
             "#fb9f3a"
            ],
            [
             0.8888888888888888,
             "#fdca26"
            ],
            [
             1,
             "#f0f921"
            ]
           ]
          },
          "colorway": [
           "#636efa",
           "#EF553B",
           "#00cc96",
           "#ab63fa",
           "#FFA15A",
           "#19d3f3",
           "#FF6692",
           "#B6E880",
           "#FF97FF",
           "#FECB52"
          ],
          "font": {
           "color": "#2a3f5f"
          },
          "geo": {
           "bgcolor": "white",
           "lakecolor": "white",
           "landcolor": "#E5ECF6",
           "showlakes": true,
           "showland": true,
           "subunitcolor": "white"
          },
          "hoverlabel": {
           "align": "left"
          },
          "hovermode": "closest",
          "mapbox": {
           "style": "light"
          },
          "paper_bgcolor": "white",
          "plot_bgcolor": "#E5ECF6",
          "polar": {
           "angularaxis": {
            "gridcolor": "white",
            "linecolor": "white",
            "ticks": ""
           },
           "bgcolor": "#E5ECF6",
           "radialaxis": {
            "gridcolor": "white",
            "linecolor": "white",
            "ticks": ""
           }
          },
          "scene": {
           "xaxis": {
            "backgroundcolor": "#E5ECF6",
            "gridcolor": "white",
            "gridwidth": 2,
            "linecolor": "white",
            "showbackground": true,
            "ticks": "",
            "zerolinecolor": "white"
           },
           "yaxis": {
            "backgroundcolor": "#E5ECF6",
            "gridcolor": "white",
            "gridwidth": 2,
            "linecolor": "white",
            "showbackground": true,
            "ticks": "",
            "zerolinecolor": "white"
           },
           "zaxis": {
            "backgroundcolor": "#E5ECF6",
            "gridcolor": "white",
            "gridwidth": 2,
            "linecolor": "white",
            "showbackground": true,
            "ticks": "",
            "zerolinecolor": "white"
           }
          },
          "shapedefaults": {
           "line": {
            "color": "#2a3f5f"
           }
          },
          "ternary": {
           "aaxis": {
            "gridcolor": "white",
            "linecolor": "white",
            "ticks": ""
           },
           "baxis": {
            "gridcolor": "white",
            "linecolor": "white",
            "ticks": ""
           },
           "bgcolor": "#E5ECF6",
           "caxis": {
            "gridcolor": "white",
            "linecolor": "white",
            "ticks": ""
           }
          },
          "title": {
           "x": 0.05
          },
          "xaxis": {
           "automargin": true,
           "gridcolor": "white",
           "linecolor": "white",
           "ticks": "",
           "title": {
            "standoff": 15
           },
           "zerolinecolor": "white",
           "zerolinewidth": 2
          },
          "yaxis": {
           "automargin": true,
           "gridcolor": "white",
           "linecolor": "white",
           "ticks": "",
           "title": {
            "standoff": 15
           },
           "zerolinecolor": "white",
           "zerolinewidth": 2
          }
         }
        },
        "title": {
         "text": "Avg Yards Per Game",
         "x": 0.5,
         "xanchor": "center",
         "y": 0.95,
         "yanchor": "top"
        }
       }
      },
      "text/html": [
       "<div>\n",
       "        \n",
       "        \n",
       "            <div id=\"1d75f1aa-df11-4dc3-b8ee-309ddc6d2be7\" class=\"plotly-graph-div\" style=\"height:525px; width:100%;\"></div>\n",
       "            <script type=\"text/javascript\">\n",
       "                require([\"plotly\"], function(Plotly) {\n",
       "                    window.PLOTLYENV=window.PLOTLYENV || {};\n",
       "                    \n",
       "                if (document.getElementById(\"1d75f1aa-df11-4dc3-b8ee-309ddc6d2be7\")) {\n",
       "                    Plotly.newPlot(\n",
       "                        '1d75f1aa-df11-4dc3-b8ee-309ddc6d2be7',\n",
       "                        [{\"name\": \"2017\", \"type\": \"bar\", \"x\": [\"CLE\", \"NYG\", \"OAK\", \"NYJ\", \"TB\", \"SF\", \"ARI\", \"DEN\", \"CIN\", \"GB\", \"IND\", \"MIA\", \"JAX\", \"WAS\", \"DET\", \"BUF\", \"HOU\", \"ATL\", \"CHI\", \"CAR\", \"SEA\", \"BAL\", \"TEN\", \"DAL\", \"LAC\", \"PHI\", \"MIN\", \"PIT\", \"KC\", \"NE\", \"LA\", \"NO\"], \"y\": [308.0, 382.0, 319.0, 328.0, 360.0, 362.0, 371.0, 340.0, 301.0, 332.0, 302.0, 370.0, 371.0, 319.0, 387.0, 318.0, 355.0, 385.0, 315.0, 378.0, 319.0, 334.0, 317.0, 384.0, 408.0, 391.0, 388.0, 385.0, 372.0, 433.0, 362.0, 383.0]}, {\"name\": \"2018\", \"type\": \"bar\", \"x\": [\"CLE\", \"NYG\", \"OAK\", \"NYJ\", \"TB\", \"SF\", \"ARI\", \"DEN\", \"CIN\", \"GB\", \"IND\", \"MIA\", \"JAX\", \"WAS\", \"DET\", \"BUF\", \"HOU\", \"ATL\", \"CHI\", \"CAR\", \"SEA\", \"BAL\", \"TEN\", \"DAL\", \"LAC\", \"PHI\", \"MIN\", \"PIT\", \"KC\", \"NE\", \"LA\", \"NO\"], \"y\": [384.0, 403.0, 361.0, 288.0, 448.0, 368.0, 258.0, 350.0, 378.0, 394.0, 447.0, 296.0, 331.0, 329.0, 397.0, 316.0, 363.0, 449.0, 422.0, 463.0, 377.0, 396.0, 336.0, 392.0, 416.0, 383.0, 379.0, 446.0, 425.0, 398.0, 458.0, 457.0]}],\n",
       "                        {\"barmode\": \"group\", \"template\": {\"data\": {\"bar\": [{\"error_x\": {\"color\": \"#2a3f5f\"}, \"error_y\": {\"color\": \"#2a3f5f\"}, \"marker\": {\"line\": {\"color\": \"#E5ECF6\", \"width\": 0.5}}, \"type\": \"bar\"}], \"barpolar\": [{\"marker\": {\"line\": {\"color\": \"#E5ECF6\", \"width\": 0.5}}, \"type\": \"barpolar\"}], \"carpet\": [{\"aaxis\": {\"endlinecolor\": \"#2a3f5f\", \"gridcolor\": \"white\", \"linecolor\": \"white\", \"minorgridcolor\": \"white\", \"startlinecolor\": \"#2a3f5f\"}, \"baxis\": {\"endlinecolor\": \"#2a3f5f\", \"gridcolor\": \"white\", \"linecolor\": \"white\", \"minorgridcolor\": \"white\", \"startlinecolor\": \"#2a3f5f\"}, \"type\": \"carpet\"}], \"choropleth\": [{\"colorbar\": {\"outlinewidth\": 0, \"ticks\": \"\"}, \"type\": \"choropleth\"}], \"contour\": [{\"colorbar\": {\"outlinewidth\": 0, \"ticks\": \"\"}, \"colorscale\": [[0.0, \"#0d0887\"], [0.1111111111111111, \"#46039f\"], [0.2222222222222222, \"#7201a8\"], [0.3333333333333333, \"#9c179e\"], [0.4444444444444444, \"#bd3786\"], [0.5555555555555556, \"#d8576b\"], [0.6666666666666666, \"#ed7953\"], [0.7777777777777778, \"#fb9f3a\"], [0.8888888888888888, \"#fdca26\"], [1.0, \"#f0f921\"]], \"type\": \"contour\"}], \"contourcarpet\": [{\"colorbar\": {\"outlinewidth\": 0, \"ticks\": \"\"}, \"type\": \"contourcarpet\"}], \"heatmap\": [{\"colorbar\": {\"outlinewidth\": 0, \"ticks\": \"\"}, \"colorscale\": [[0.0, \"#0d0887\"], [0.1111111111111111, \"#46039f\"], [0.2222222222222222, \"#7201a8\"], [0.3333333333333333, \"#9c179e\"], [0.4444444444444444, \"#bd3786\"], [0.5555555555555556, \"#d8576b\"], [0.6666666666666666, \"#ed7953\"], [0.7777777777777778, \"#fb9f3a\"], [0.8888888888888888, \"#fdca26\"], [1.0, \"#f0f921\"]], \"type\": \"heatmap\"}], \"heatmapgl\": [{\"colorbar\": {\"outlinewidth\": 0, \"ticks\": \"\"}, \"colorscale\": [[0.0, \"#0d0887\"], [0.1111111111111111, \"#46039f\"], [0.2222222222222222, \"#7201a8\"], [0.3333333333333333, \"#9c179e\"], [0.4444444444444444, \"#bd3786\"], [0.5555555555555556, \"#d8576b\"], [0.6666666666666666, \"#ed7953\"], [0.7777777777777778, \"#fb9f3a\"], [0.8888888888888888, \"#fdca26\"], [1.0, \"#f0f921\"]], \"type\": \"heatmapgl\"}], \"histogram\": [{\"marker\": {\"colorbar\": {\"outlinewidth\": 0, \"ticks\": \"\"}}, \"type\": \"histogram\"}], \"histogram2d\": [{\"colorbar\": {\"outlinewidth\": 0, \"ticks\": \"\"}, \"colorscale\": [[0.0, \"#0d0887\"], [0.1111111111111111, \"#46039f\"], [0.2222222222222222, \"#7201a8\"], [0.3333333333333333, \"#9c179e\"], [0.4444444444444444, \"#bd3786\"], [0.5555555555555556, \"#d8576b\"], [0.6666666666666666, \"#ed7953\"], [0.7777777777777778, \"#fb9f3a\"], [0.8888888888888888, \"#fdca26\"], [1.0, \"#f0f921\"]], \"type\": \"histogram2d\"}], \"histogram2dcontour\": [{\"colorbar\": {\"outlinewidth\": 0, \"ticks\": \"\"}, \"colorscale\": [[0.0, \"#0d0887\"], [0.1111111111111111, \"#46039f\"], [0.2222222222222222, \"#7201a8\"], [0.3333333333333333, \"#9c179e\"], [0.4444444444444444, \"#bd3786\"], [0.5555555555555556, \"#d8576b\"], [0.6666666666666666, \"#ed7953\"], [0.7777777777777778, \"#fb9f3a\"], [0.8888888888888888, \"#fdca26\"], [1.0, \"#f0f921\"]], \"type\": \"histogram2dcontour\"}], \"mesh3d\": [{\"colorbar\": {\"outlinewidth\": 0, \"ticks\": \"\"}, \"type\": \"mesh3d\"}], \"parcoords\": [{\"line\": {\"colorbar\": {\"outlinewidth\": 0, \"ticks\": \"\"}}, \"type\": \"parcoords\"}], \"pie\": [{\"automargin\": true, \"type\": \"pie\"}], \"scatter\": [{\"marker\": {\"colorbar\": {\"outlinewidth\": 0, \"ticks\": \"\"}}, \"type\": \"scatter\"}], \"scatter3d\": [{\"line\": {\"colorbar\": {\"outlinewidth\": 0, \"ticks\": \"\"}}, \"marker\": {\"colorbar\": {\"outlinewidth\": 0, \"ticks\": \"\"}}, \"type\": \"scatter3d\"}], \"scattercarpet\": [{\"marker\": {\"colorbar\": {\"outlinewidth\": 0, \"ticks\": \"\"}}, \"type\": \"scattercarpet\"}], \"scattergeo\": [{\"marker\": {\"colorbar\": {\"outlinewidth\": 0, \"ticks\": \"\"}}, \"type\": \"scattergeo\"}], \"scattergl\": [{\"marker\": {\"colorbar\": {\"outlinewidth\": 0, \"ticks\": \"\"}}, \"type\": \"scattergl\"}], \"scattermapbox\": [{\"marker\": {\"colorbar\": {\"outlinewidth\": 0, \"ticks\": \"\"}}, \"type\": \"scattermapbox\"}], \"scatterpolar\": [{\"marker\": {\"colorbar\": {\"outlinewidth\": 0, \"ticks\": \"\"}}, \"type\": \"scatterpolar\"}], \"scatterpolargl\": [{\"marker\": {\"colorbar\": {\"outlinewidth\": 0, \"ticks\": \"\"}}, \"type\": \"scatterpolargl\"}], \"scatterternary\": [{\"marker\": {\"colorbar\": {\"outlinewidth\": 0, \"ticks\": \"\"}}, \"type\": \"scatterternary\"}], \"surface\": [{\"colorbar\": {\"outlinewidth\": 0, \"ticks\": \"\"}, \"colorscale\": [[0.0, \"#0d0887\"], [0.1111111111111111, \"#46039f\"], [0.2222222222222222, \"#7201a8\"], [0.3333333333333333, \"#9c179e\"], [0.4444444444444444, \"#bd3786\"], [0.5555555555555556, \"#d8576b\"], [0.6666666666666666, \"#ed7953\"], [0.7777777777777778, \"#fb9f3a\"], [0.8888888888888888, \"#fdca26\"], [1.0, \"#f0f921\"]], \"type\": \"surface\"}], \"table\": [{\"cells\": {\"fill\": {\"color\": \"#EBF0F8\"}, \"line\": {\"color\": \"white\"}}, \"header\": {\"fill\": {\"color\": \"#C8D4E3\"}, \"line\": {\"color\": \"white\"}}, \"type\": \"table\"}]}, \"layout\": {\"annotationdefaults\": {\"arrowcolor\": \"#2a3f5f\", \"arrowhead\": 0, \"arrowwidth\": 1}, \"coloraxis\": {\"colorbar\": {\"outlinewidth\": 0, \"ticks\": \"\"}}, \"colorscale\": {\"diverging\": [[0, \"#8e0152\"], [0.1, \"#c51b7d\"], [0.2, \"#de77ae\"], [0.3, \"#f1b6da\"], [0.4, \"#fde0ef\"], [0.5, \"#f7f7f7\"], [0.6, \"#e6f5d0\"], [0.7, \"#b8e186\"], [0.8, \"#7fbc41\"], [0.9, \"#4d9221\"], [1, \"#276419\"]], \"sequential\": [[0.0, \"#0d0887\"], [0.1111111111111111, \"#46039f\"], [0.2222222222222222, \"#7201a8\"], [0.3333333333333333, \"#9c179e\"], [0.4444444444444444, \"#bd3786\"], [0.5555555555555556, \"#d8576b\"], [0.6666666666666666, \"#ed7953\"], [0.7777777777777778, \"#fb9f3a\"], [0.8888888888888888, \"#fdca26\"], [1.0, \"#f0f921\"]], \"sequentialminus\": [[0.0, \"#0d0887\"], [0.1111111111111111, \"#46039f\"], [0.2222222222222222, \"#7201a8\"], [0.3333333333333333, \"#9c179e\"], [0.4444444444444444, \"#bd3786\"], [0.5555555555555556, \"#d8576b\"], [0.6666666666666666, \"#ed7953\"], [0.7777777777777778, \"#fb9f3a\"], [0.8888888888888888, \"#fdca26\"], [1.0, \"#f0f921\"]]}, \"colorway\": [\"#636efa\", \"#EF553B\", \"#00cc96\", \"#ab63fa\", \"#FFA15A\", \"#19d3f3\", \"#FF6692\", \"#B6E880\", \"#FF97FF\", \"#FECB52\"], \"font\": {\"color\": \"#2a3f5f\"}, \"geo\": {\"bgcolor\": \"white\", \"lakecolor\": \"white\", \"landcolor\": \"#E5ECF6\", \"showlakes\": true, \"showland\": true, \"subunitcolor\": \"white\"}, \"hoverlabel\": {\"align\": \"left\"}, \"hovermode\": \"closest\", \"mapbox\": {\"style\": \"light\"}, \"paper_bgcolor\": \"white\", \"plot_bgcolor\": \"#E5ECF6\", \"polar\": {\"angularaxis\": {\"gridcolor\": \"white\", \"linecolor\": \"white\", \"ticks\": \"\"}, \"bgcolor\": \"#E5ECF6\", \"radialaxis\": {\"gridcolor\": \"white\", \"linecolor\": \"white\", \"ticks\": \"\"}}, \"scene\": {\"xaxis\": {\"backgroundcolor\": \"#E5ECF6\", \"gridcolor\": \"white\", \"gridwidth\": 2, \"linecolor\": \"white\", \"showbackground\": true, \"ticks\": \"\", \"zerolinecolor\": \"white\"}, \"yaxis\": {\"backgroundcolor\": \"#E5ECF6\", \"gridcolor\": \"white\", \"gridwidth\": 2, \"linecolor\": \"white\", \"showbackground\": true, \"ticks\": \"\", \"zerolinecolor\": \"white\"}, \"zaxis\": {\"backgroundcolor\": \"#E5ECF6\", \"gridcolor\": \"white\", \"gridwidth\": 2, \"linecolor\": \"white\", \"showbackground\": true, \"ticks\": \"\", \"zerolinecolor\": \"white\"}}, \"shapedefaults\": {\"line\": {\"color\": \"#2a3f5f\"}}, \"ternary\": {\"aaxis\": {\"gridcolor\": \"white\", \"linecolor\": \"white\", \"ticks\": \"\"}, \"baxis\": {\"gridcolor\": \"white\", \"linecolor\": \"white\", \"ticks\": \"\"}, \"bgcolor\": \"#E5ECF6\", \"caxis\": {\"gridcolor\": \"white\", \"linecolor\": \"white\", \"ticks\": \"\"}}, \"title\": {\"x\": 0.05}, \"xaxis\": {\"automargin\": true, \"gridcolor\": \"white\", \"linecolor\": \"white\", \"ticks\": \"\", \"title\": {\"standoff\": 15}, \"zerolinecolor\": \"white\", \"zerolinewidth\": 2}, \"yaxis\": {\"automargin\": true, \"gridcolor\": \"white\", \"linecolor\": \"white\", \"ticks\": \"\", \"title\": {\"standoff\": 15}, \"zerolinecolor\": \"white\", \"zerolinewidth\": 2}}}, \"title\": {\"text\": \"Avg Yards Per Game\", \"x\": 0.5, \"xanchor\": \"center\", \"y\": 0.95, \"yanchor\": \"top\"}},\n",
       "                        {\"responsive\": true}\n",
       "                    ).then(function(){\n",
       "                            \n",
       "var gd = document.getElementById('1d75f1aa-df11-4dc3-b8ee-309ddc6d2be7');\n",
       "var x = new MutationObserver(function (mutations, observer) {{\n",
       "        var display = window.getComputedStyle(gd).display;\n",
       "        if (!display || display === 'none') {{\n",
       "            console.log([gd, 'removed!']);\n",
       "            Plotly.purge(gd);\n",
       "            observer.disconnect();\n",
       "        }}\n",
       "}});\n",
       "\n",
       "// Listen for the removal of the full notebook cells\n",
       "var notebookContainer = gd.closest('#notebook-container');\n",
       "if (notebookContainer) {{\n",
       "    x.observe(notebookContainer, {childList: true});\n",
       "}}\n",
       "\n",
       "// Listen for the clearing of the current output cell\n",
       "var outputEl = gd.closest('.output');\n",
       "if (outputEl) {{\n",
       "    x.observe(outputEl, {childList: true});\n",
       "}}\n",
       "\n",
       "                        })\n",
       "                };\n",
       "                });\n",
       "            </script>\n",
       "        </div>"
      ]
     },
     "metadata": {},
     "output_type": "display_data"
    }
   ],
   "source": [
    "fig = go.Figure(data=[go.Bar(name='2017', x = team_by_wins['team'], y = yd_avg2017),\\\n",
    "                      go.Bar(name='2018', x = team_by_wins['team'], y = yd_avg2018)])\n",
    "\n",
    "layout = go.Layout(\n",
    "    title = 'Avg Yard Per Game',\n",
    "    xaxis= dict(title= 'Game',ticklen= 1,zeroline= False),\n",
    "    yaxis= dict(title= 'Yards',ticklen= 5,zeroline= False)\n",
    ")\n",
    "\n",
    "fig.update_layout(\n",
    "    title={\n",
    "        'text':'Avg Yards Per Game',\n",
    "        'y':0.95,\n",
    "        'x':0.5,\n",
    "        'xanchor': 'center',\n",
    "        'yanchor': 'top'},\n",
    "    barmode='group')\n",
    "fig"
   ]
  },
  {
   "cell_type": "markdown",
   "metadata": {},
   "source": [
    "These Win buckets do not quite correlate with a team's ability to move the ball"
   ]
  },
  {
   "cell_type": "code",
   "execution_count": 62,
   "metadata": {},
   "outputs": [],
   "source": [
    "def_yd_avg2017 = []\n",
    "for team in team_by_wins['team']:\n",
    "    def_yd_avg2017.append(round(np.mean(nfl_small2_end_of_drive[(nfl_small2_end_of_drive[team] != '0') &\\\n",
    "                                                        (nfl_small2_end_of_drive['posteam']!=team) &\\\n",
    "                                                        (nfl_small2_end_of_drive['year']==2017)&\\\n",
    "                                                        (nfl_small2_end_of_drive['end_of_drive']==1)]\\\n",
    "                    .groupby('week').sum()['ydsnet'].values),0))\n",
    "    \n",
    "def_yd_avg2018 = []\n",
    "for team in team_by_wins['team']:\n",
    "    def_yd_avg2018.append(round(np.mean(nfl_small2_end_of_drive[(nfl_small2_end_of_drive[team] != '0') &\\\n",
    "                                                        (nfl_small2_end_of_drive['posteam']!=team) &\\\n",
    "                                                        (nfl_small2_end_of_drive['year']==2018)&\\\n",
    "                                                        (nfl_small2_end_of_drive['end_of_drive']==1)]\\\n",
    "                    .groupby('week').sum()['ydsnet'].values),0))"
   ]
  },
  {
   "cell_type": "code",
   "execution_count": 63,
   "metadata": {},
   "outputs": [
    {
     "data": {
      "application/vnd.plotly.v1+json": {
       "config": {
        "plotlyServerURL": "https://plot.ly"
       },
       "data": [
        {
         "name": "2017",
         "type": "bar",
         "x": [
          "CLE",
          "NYG",
          "OAK",
          "NYJ",
          "TB",
          "SF",
          "ARI",
          "DEN",
          "CIN",
          "GB",
          "IND",
          "MIA",
          "JAX",
          "WAS",
          "DET",
          "BUF",
          "HOU",
          "ATL",
          "CHI",
          "CAR",
          "SEA",
          "BAL",
          "TEN",
          "DAL",
          "LAC",
          "PHI",
          "MIN",
          "PIT",
          "KC",
          "NE",
          "LA",
          "NO"
         ],
         "y": [
          333,
          453,
          345,
          384,
          366,
          380,
          352,
          309,
          370,
          376,
          388,
          406,
          281,
          334,
          411,
          378,
          379,
          334,
          358,
          360,
          338,
          347,
          321,
          375,
          348,
          329,
          300,
          305,
          370,
          392,
          339,
          339
         ]
        },
        {
         "name": "2018",
         "type": "bar",
         "x": [
          "CLE",
          "NYG",
          "OAK",
          "NYJ",
          "TB",
          "SF",
          "ARI",
          "DEN",
          "CIN",
          "GB",
          "IND",
          "MIA",
          "JAX",
          "WAS",
          "DET",
          "BUF",
          "HOU",
          "ATL",
          "CHI",
          "CAR",
          "SEA",
          "BAL",
          "TEN",
          "DAL",
          "LAC",
          "PHI",
          "MIN",
          "PIT",
          "KC",
          "NE",
          "LA",
          "NO"
         ],
         "y": [
          419,
          426,
          412,
          364,
          407,
          352,
          377,
          369,
          481,
          376,
          392,
          411,
          348,
          389,
          414,
          320,
          342,
          441,
          358,
          446,
          400,
          303,
          337,
          370,
          358,
          399,
          340,
          360,
          419,
          363,
          388,
          407
         ]
        }
       ],
       "layout": {
        "barmode": "group",
        "template": {
         "data": {
          "bar": [
           {
            "error_x": {
             "color": "#2a3f5f"
            },
            "error_y": {
             "color": "#2a3f5f"
            },
            "marker": {
             "line": {
              "color": "#E5ECF6",
              "width": 0.5
             }
            },
            "type": "bar"
           }
          ],
          "barpolar": [
           {
            "marker": {
             "line": {
              "color": "#E5ECF6",
              "width": 0.5
             }
            },
            "type": "barpolar"
           }
          ],
          "carpet": [
           {
            "aaxis": {
             "endlinecolor": "#2a3f5f",
             "gridcolor": "white",
             "linecolor": "white",
             "minorgridcolor": "white",
             "startlinecolor": "#2a3f5f"
            },
            "baxis": {
             "endlinecolor": "#2a3f5f",
             "gridcolor": "white",
             "linecolor": "white",
             "minorgridcolor": "white",
             "startlinecolor": "#2a3f5f"
            },
            "type": "carpet"
           }
          ],
          "choropleth": [
           {
            "colorbar": {
             "outlinewidth": 0,
             "ticks": ""
            },
            "type": "choropleth"
           }
          ],
          "contour": [
           {
            "colorbar": {
             "outlinewidth": 0,
             "ticks": ""
            },
            "colorscale": [
             [
              0,
              "#0d0887"
             ],
             [
              0.1111111111111111,
              "#46039f"
             ],
             [
              0.2222222222222222,
              "#7201a8"
             ],
             [
              0.3333333333333333,
              "#9c179e"
             ],
             [
              0.4444444444444444,
              "#bd3786"
             ],
             [
              0.5555555555555556,
              "#d8576b"
             ],
             [
              0.6666666666666666,
              "#ed7953"
             ],
             [
              0.7777777777777778,
              "#fb9f3a"
             ],
             [
              0.8888888888888888,
              "#fdca26"
             ],
             [
              1,
              "#f0f921"
             ]
            ],
            "type": "contour"
           }
          ],
          "contourcarpet": [
           {
            "colorbar": {
             "outlinewidth": 0,
             "ticks": ""
            },
            "type": "contourcarpet"
           }
          ],
          "heatmap": [
           {
            "colorbar": {
             "outlinewidth": 0,
             "ticks": ""
            },
            "colorscale": [
             [
              0,
              "#0d0887"
             ],
             [
              0.1111111111111111,
              "#46039f"
             ],
             [
              0.2222222222222222,
              "#7201a8"
             ],
             [
              0.3333333333333333,
              "#9c179e"
             ],
             [
              0.4444444444444444,
              "#bd3786"
             ],
             [
              0.5555555555555556,
              "#d8576b"
             ],
             [
              0.6666666666666666,
              "#ed7953"
             ],
             [
              0.7777777777777778,
              "#fb9f3a"
             ],
             [
              0.8888888888888888,
              "#fdca26"
             ],
             [
              1,
              "#f0f921"
             ]
            ],
            "type": "heatmap"
           }
          ],
          "heatmapgl": [
           {
            "colorbar": {
             "outlinewidth": 0,
             "ticks": ""
            },
            "colorscale": [
             [
              0,
              "#0d0887"
             ],
             [
              0.1111111111111111,
              "#46039f"
             ],
             [
              0.2222222222222222,
              "#7201a8"
             ],
             [
              0.3333333333333333,
              "#9c179e"
             ],
             [
              0.4444444444444444,
              "#bd3786"
             ],
             [
              0.5555555555555556,
              "#d8576b"
             ],
             [
              0.6666666666666666,
              "#ed7953"
             ],
             [
              0.7777777777777778,
              "#fb9f3a"
             ],
             [
              0.8888888888888888,
              "#fdca26"
             ],
             [
              1,
              "#f0f921"
             ]
            ],
            "type": "heatmapgl"
           }
          ],
          "histogram": [
           {
            "marker": {
             "colorbar": {
              "outlinewidth": 0,
              "ticks": ""
             }
            },
            "type": "histogram"
           }
          ],
          "histogram2d": [
           {
            "colorbar": {
             "outlinewidth": 0,
             "ticks": ""
            },
            "colorscale": [
             [
              0,
              "#0d0887"
             ],
             [
              0.1111111111111111,
              "#46039f"
             ],
             [
              0.2222222222222222,
              "#7201a8"
             ],
             [
              0.3333333333333333,
              "#9c179e"
             ],
             [
              0.4444444444444444,
              "#bd3786"
             ],
             [
              0.5555555555555556,
              "#d8576b"
             ],
             [
              0.6666666666666666,
              "#ed7953"
             ],
             [
              0.7777777777777778,
              "#fb9f3a"
             ],
             [
              0.8888888888888888,
              "#fdca26"
             ],
             [
              1,
              "#f0f921"
             ]
            ],
            "type": "histogram2d"
           }
          ],
          "histogram2dcontour": [
           {
            "colorbar": {
             "outlinewidth": 0,
             "ticks": ""
            },
            "colorscale": [
             [
              0,
              "#0d0887"
             ],
             [
              0.1111111111111111,
              "#46039f"
             ],
             [
              0.2222222222222222,
              "#7201a8"
             ],
             [
              0.3333333333333333,
              "#9c179e"
             ],
             [
              0.4444444444444444,
              "#bd3786"
             ],
             [
              0.5555555555555556,
              "#d8576b"
             ],
             [
              0.6666666666666666,
              "#ed7953"
             ],
             [
              0.7777777777777778,
              "#fb9f3a"
             ],
             [
              0.8888888888888888,
              "#fdca26"
             ],
             [
              1,
              "#f0f921"
             ]
            ],
            "type": "histogram2dcontour"
           }
          ],
          "mesh3d": [
           {
            "colorbar": {
             "outlinewidth": 0,
             "ticks": ""
            },
            "type": "mesh3d"
           }
          ],
          "parcoords": [
           {
            "line": {
             "colorbar": {
              "outlinewidth": 0,
              "ticks": ""
             }
            },
            "type": "parcoords"
           }
          ],
          "pie": [
           {
            "automargin": true,
            "type": "pie"
           }
          ],
          "scatter": [
           {
            "marker": {
             "colorbar": {
              "outlinewidth": 0,
              "ticks": ""
             }
            },
            "type": "scatter"
           }
          ],
          "scatter3d": [
           {
            "line": {
             "colorbar": {
              "outlinewidth": 0,
              "ticks": ""
             }
            },
            "marker": {
             "colorbar": {
              "outlinewidth": 0,
              "ticks": ""
             }
            },
            "type": "scatter3d"
           }
          ],
          "scattercarpet": [
           {
            "marker": {
             "colorbar": {
              "outlinewidth": 0,
              "ticks": ""
             }
            },
            "type": "scattercarpet"
           }
          ],
          "scattergeo": [
           {
            "marker": {
             "colorbar": {
              "outlinewidth": 0,
              "ticks": ""
             }
            },
            "type": "scattergeo"
           }
          ],
          "scattergl": [
           {
            "marker": {
             "colorbar": {
              "outlinewidth": 0,
              "ticks": ""
             }
            },
            "type": "scattergl"
           }
          ],
          "scattermapbox": [
           {
            "marker": {
             "colorbar": {
              "outlinewidth": 0,
              "ticks": ""
             }
            },
            "type": "scattermapbox"
           }
          ],
          "scatterpolar": [
           {
            "marker": {
             "colorbar": {
              "outlinewidth": 0,
              "ticks": ""
             }
            },
            "type": "scatterpolar"
           }
          ],
          "scatterpolargl": [
           {
            "marker": {
             "colorbar": {
              "outlinewidth": 0,
              "ticks": ""
             }
            },
            "type": "scatterpolargl"
           }
          ],
          "scatterternary": [
           {
            "marker": {
             "colorbar": {
              "outlinewidth": 0,
              "ticks": ""
             }
            },
            "type": "scatterternary"
           }
          ],
          "surface": [
           {
            "colorbar": {
             "outlinewidth": 0,
             "ticks": ""
            },
            "colorscale": [
             [
              0,
              "#0d0887"
             ],
             [
              0.1111111111111111,
              "#46039f"
             ],
             [
              0.2222222222222222,
              "#7201a8"
             ],
             [
              0.3333333333333333,
              "#9c179e"
             ],
             [
              0.4444444444444444,
              "#bd3786"
             ],
             [
              0.5555555555555556,
              "#d8576b"
             ],
             [
              0.6666666666666666,
              "#ed7953"
             ],
             [
              0.7777777777777778,
              "#fb9f3a"
             ],
             [
              0.8888888888888888,
              "#fdca26"
             ],
             [
              1,
              "#f0f921"
             ]
            ],
            "type": "surface"
           }
          ],
          "table": [
           {
            "cells": {
             "fill": {
              "color": "#EBF0F8"
             },
             "line": {
              "color": "white"
             }
            },
            "header": {
             "fill": {
              "color": "#C8D4E3"
             },
             "line": {
              "color": "white"
             }
            },
            "type": "table"
           }
          ]
         },
         "layout": {
          "annotationdefaults": {
           "arrowcolor": "#2a3f5f",
           "arrowhead": 0,
           "arrowwidth": 1
          },
          "coloraxis": {
           "colorbar": {
            "outlinewidth": 0,
            "ticks": ""
           }
          },
          "colorscale": {
           "diverging": [
            [
             0,
             "#8e0152"
            ],
            [
             0.1,
             "#c51b7d"
            ],
            [
             0.2,
             "#de77ae"
            ],
            [
             0.3,
             "#f1b6da"
            ],
            [
             0.4,
             "#fde0ef"
            ],
            [
             0.5,
             "#f7f7f7"
            ],
            [
             0.6,
             "#e6f5d0"
            ],
            [
             0.7,
             "#b8e186"
            ],
            [
             0.8,
             "#7fbc41"
            ],
            [
             0.9,
             "#4d9221"
            ],
            [
             1,
             "#276419"
            ]
           ],
           "sequential": [
            [
             0,
             "#0d0887"
            ],
            [
             0.1111111111111111,
             "#46039f"
            ],
            [
             0.2222222222222222,
             "#7201a8"
            ],
            [
             0.3333333333333333,
             "#9c179e"
            ],
            [
             0.4444444444444444,
             "#bd3786"
            ],
            [
             0.5555555555555556,
             "#d8576b"
            ],
            [
             0.6666666666666666,
             "#ed7953"
            ],
            [
             0.7777777777777778,
             "#fb9f3a"
            ],
            [
             0.8888888888888888,
             "#fdca26"
            ],
            [
             1,
             "#f0f921"
            ]
           ],
           "sequentialminus": [
            [
             0,
             "#0d0887"
            ],
            [
             0.1111111111111111,
             "#46039f"
            ],
            [
             0.2222222222222222,
             "#7201a8"
            ],
            [
             0.3333333333333333,
             "#9c179e"
            ],
            [
             0.4444444444444444,
             "#bd3786"
            ],
            [
             0.5555555555555556,
             "#d8576b"
            ],
            [
             0.6666666666666666,
             "#ed7953"
            ],
            [
             0.7777777777777778,
             "#fb9f3a"
            ],
            [
             0.8888888888888888,
             "#fdca26"
            ],
            [
             1,
             "#f0f921"
            ]
           ]
          },
          "colorway": [
           "#636efa",
           "#EF553B",
           "#00cc96",
           "#ab63fa",
           "#FFA15A",
           "#19d3f3",
           "#FF6692",
           "#B6E880",
           "#FF97FF",
           "#FECB52"
          ],
          "font": {
           "color": "#2a3f5f"
          },
          "geo": {
           "bgcolor": "white",
           "lakecolor": "white",
           "landcolor": "#E5ECF6",
           "showlakes": true,
           "showland": true,
           "subunitcolor": "white"
          },
          "hoverlabel": {
           "align": "left"
          },
          "hovermode": "closest",
          "mapbox": {
           "style": "light"
          },
          "paper_bgcolor": "white",
          "plot_bgcolor": "#E5ECF6",
          "polar": {
           "angularaxis": {
            "gridcolor": "white",
            "linecolor": "white",
            "ticks": ""
           },
           "bgcolor": "#E5ECF6",
           "radialaxis": {
            "gridcolor": "white",
            "linecolor": "white",
            "ticks": ""
           }
          },
          "scene": {
           "xaxis": {
            "backgroundcolor": "#E5ECF6",
            "gridcolor": "white",
            "gridwidth": 2,
            "linecolor": "white",
            "showbackground": true,
            "ticks": "",
            "zerolinecolor": "white"
           },
           "yaxis": {
            "backgroundcolor": "#E5ECF6",
            "gridcolor": "white",
            "gridwidth": 2,
            "linecolor": "white",
            "showbackground": true,
            "ticks": "",
            "zerolinecolor": "white"
           },
           "zaxis": {
            "backgroundcolor": "#E5ECF6",
            "gridcolor": "white",
            "gridwidth": 2,
            "linecolor": "white",
            "showbackground": true,
            "ticks": "",
            "zerolinecolor": "white"
           }
          },
          "shapedefaults": {
           "line": {
            "color": "#2a3f5f"
           }
          },
          "ternary": {
           "aaxis": {
            "gridcolor": "white",
            "linecolor": "white",
            "ticks": ""
           },
           "baxis": {
            "gridcolor": "white",
            "linecolor": "white",
            "ticks": ""
           },
           "bgcolor": "#E5ECF6",
           "caxis": {
            "gridcolor": "white",
            "linecolor": "white",
            "ticks": ""
           }
          },
          "title": {
           "x": 0.05
          },
          "xaxis": {
           "automargin": true,
           "gridcolor": "white",
           "linecolor": "white",
           "ticks": "",
           "title": {
            "standoff": 15
           },
           "zerolinecolor": "white",
           "zerolinewidth": 2
          },
          "yaxis": {
           "automargin": true,
           "gridcolor": "white",
           "linecolor": "white",
           "ticks": "",
           "title": {
            "standoff": 15
           },
           "zerolinecolor": "white",
           "zerolinewidth": 2
          }
         }
        },
        "title": {
         "text": "Avg Yards Allowed Per Game By Team",
         "x": 0.5,
         "xanchor": "center",
         "y": 0.95,
         "yanchor": "top"
        }
       }
      },
      "text/html": [
       "<div>\n",
       "        \n",
       "        \n",
       "            <div id=\"a5efc371-9207-49d7-abaa-9d0405d346ca\" class=\"plotly-graph-div\" style=\"height:525px; width:100%;\"></div>\n",
       "            <script type=\"text/javascript\">\n",
       "                require([\"plotly\"], function(Plotly) {\n",
       "                    window.PLOTLYENV=window.PLOTLYENV || {};\n",
       "                    \n",
       "                if (document.getElementById(\"a5efc371-9207-49d7-abaa-9d0405d346ca\")) {\n",
       "                    Plotly.newPlot(\n",
       "                        'a5efc371-9207-49d7-abaa-9d0405d346ca',\n",
       "                        [{\"name\": \"2017\", \"type\": \"bar\", \"x\": [\"CLE\", \"NYG\", \"OAK\", \"NYJ\", \"TB\", \"SF\", \"ARI\", \"DEN\", \"CIN\", \"GB\", \"IND\", \"MIA\", \"JAX\", \"WAS\", \"DET\", \"BUF\", \"HOU\", \"ATL\", \"CHI\", \"CAR\", \"SEA\", \"BAL\", \"TEN\", \"DAL\", \"LAC\", \"PHI\", \"MIN\", \"PIT\", \"KC\", \"NE\", \"LA\", \"NO\"], \"y\": [333.0, 453.0, 345.0, 384.0, 366.0, 380.0, 352.0, 309.0, 370.0, 376.0, 388.0, 406.0, 281.0, 334.0, 411.0, 378.0, 379.0, 334.0, 358.0, 360.0, 338.0, 347.0, 321.0, 375.0, 348.0, 329.0, 300.0, 305.0, 370.0, 392.0, 339.0, 339.0]}, {\"name\": \"2018\", \"type\": \"bar\", \"x\": [\"CLE\", \"NYG\", \"OAK\", \"NYJ\", \"TB\", \"SF\", \"ARI\", \"DEN\", \"CIN\", \"GB\", \"IND\", \"MIA\", \"JAX\", \"WAS\", \"DET\", \"BUF\", \"HOU\", \"ATL\", \"CHI\", \"CAR\", \"SEA\", \"BAL\", \"TEN\", \"DAL\", \"LAC\", \"PHI\", \"MIN\", \"PIT\", \"KC\", \"NE\", \"LA\", \"NO\"], \"y\": [419.0, 426.0, 412.0, 364.0, 407.0, 352.0, 377.0, 369.0, 481.0, 376.0, 392.0, 411.0, 348.0, 389.0, 414.0, 320.0, 342.0, 441.0, 358.0, 446.0, 400.0, 303.0, 337.0, 370.0, 358.0, 399.0, 340.0, 360.0, 419.0, 363.0, 388.0, 407.0]}],\n",
       "                        {\"barmode\": \"group\", \"template\": {\"data\": {\"bar\": [{\"error_x\": {\"color\": \"#2a3f5f\"}, \"error_y\": {\"color\": \"#2a3f5f\"}, \"marker\": {\"line\": {\"color\": \"#E5ECF6\", \"width\": 0.5}}, \"type\": \"bar\"}], \"barpolar\": [{\"marker\": {\"line\": {\"color\": \"#E5ECF6\", \"width\": 0.5}}, \"type\": \"barpolar\"}], \"carpet\": [{\"aaxis\": {\"endlinecolor\": \"#2a3f5f\", \"gridcolor\": \"white\", \"linecolor\": \"white\", \"minorgridcolor\": \"white\", \"startlinecolor\": \"#2a3f5f\"}, \"baxis\": {\"endlinecolor\": \"#2a3f5f\", \"gridcolor\": \"white\", \"linecolor\": \"white\", \"minorgridcolor\": \"white\", \"startlinecolor\": \"#2a3f5f\"}, \"type\": \"carpet\"}], \"choropleth\": [{\"colorbar\": {\"outlinewidth\": 0, \"ticks\": \"\"}, \"type\": \"choropleth\"}], \"contour\": [{\"colorbar\": {\"outlinewidth\": 0, \"ticks\": \"\"}, \"colorscale\": [[0.0, \"#0d0887\"], [0.1111111111111111, \"#46039f\"], [0.2222222222222222, \"#7201a8\"], [0.3333333333333333, \"#9c179e\"], [0.4444444444444444, \"#bd3786\"], [0.5555555555555556, \"#d8576b\"], [0.6666666666666666, \"#ed7953\"], [0.7777777777777778, \"#fb9f3a\"], [0.8888888888888888, \"#fdca26\"], [1.0, \"#f0f921\"]], \"type\": \"contour\"}], \"contourcarpet\": [{\"colorbar\": {\"outlinewidth\": 0, \"ticks\": \"\"}, \"type\": \"contourcarpet\"}], \"heatmap\": [{\"colorbar\": {\"outlinewidth\": 0, \"ticks\": \"\"}, \"colorscale\": [[0.0, \"#0d0887\"], [0.1111111111111111, \"#46039f\"], [0.2222222222222222, \"#7201a8\"], [0.3333333333333333, \"#9c179e\"], [0.4444444444444444, \"#bd3786\"], [0.5555555555555556, \"#d8576b\"], [0.6666666666666666, \"#ed7953\"], [0.7777777777777778, \"#fb9f3a\"], [0.8888888888888888, \"#fdca26\"], [1.0, \"#f0f921\"]], \"type\": \"heatmap\"}], \"heatmapgl\": [{\"colorbar\": {\"outlinewidth\": 0, \"ticks\": \"\"}, \"colorscale\": [[0.0, \"#0d0887\"], [0.1111111111111111, \"#46039f\"], [0.2222222222222222, \"#7201a8\"], [0.3333333333333333, \"#9c179e\"], [0.4444444444444444, \"#bd3786\"], [0.5555555555555556, \"#d8576b\"], [0.6666666666666666, \"#ed7953\"], [0.7777777777777778, \"#fb9f3a\"], [0.8888888888888888, \"#fdca26\"], [1.0, \"#f0f921\"]], \"type\": \"heatmapgl\"}], \"histogram\": [{\"marker\": {\"colorbar\": {\"outlinewidth\": 0, \"ticks\": \"\"}}, \"type\": \"histogram\"}], \"histogram2d\": [{\"colorbar\": {\"outlinewidth\": 0, \"ticks\": \"\"}, \"colorscale\": [[0.0, \"#0d0887\"], [0.1111111111111111, \"#46039f\"], [0.2222222222222222, \"#7201a8\"], [0.3333333333333333, \"#9c179e\"], [0.4444444444444444, \"#bd3786\"], [0.5555555555555556, \"#d8576b\"], [0.6666666666666666, \"#ed7953\"], [0.7777777777777778, \"#fb9f3a\"], [0.8888888888888888, \"#fdca26\"], [1.0, \"#f0f921\"]], \"type\": \"histogram2d\"}], \"histogram2dcontour\": [{\"colorbar\": {\"outlinewidth\": 0, \"ticks\": \"\"}, \"colorscale\": [[0.0, \"#0d0887\"], [0.1111111111111111, \"#46039f\"], [0.2222222222222222, \"#7201a8\"], [0.3333333333333333, \"#9c179e\"], [0.4444444444444444, \"#bd3786\"], [0.5555555555555556, \"#d8576b\"], [0.6666666666666666, \"#ed7953\"], [0.7777777777777778, \"#fb9f3a\"], [0.8888888888888888, \"#fdca26\"], [1.0, \"#f0f921\"]], \"type\": \"histogram2dcontour\"}], \"mesh3d\": [{\"colorbar\": {\"outlinewidth\": 0, \"ticks\": \"\"}, \"type\": \"mesh3d\"}], \"parcoords\": [{\"line\": {\"colorbar\": {\"outlinewidth\": 0, \"ticks\": \"\"}}, \"type\": \"parcoords\"}], \"pie\": [{\"automargin\": true, \"type\": \"pie\"}], \"scatter\": [{\"marker\": {\"colorbar\": {\"outlinewidth\": 0, \"ticks\": \"\"}}, \"type\": \"scatter\"}], \"scatter3d\": [{\"line\": {\"colorbar\": {\"outlinewidth\": 0, \"ticks\": \"\"}}, \"marker\": {\"colorbar\": {\"outlinewidth\": 0, \"ticks\": \"\"}}, \"type\": \"scatter3d\"}], \"scattercarpet\": [{\"marker\": {\"colorbar\": {\"outlinewidth\": 0, \"ticks\": \"\"}}, \"type\": \"scattercarpet\"}], \"scattergeo\": [{\"marker\": {\"colorbar\": {\"outlinewidth\": 0, \"ticks\": \"\"}}, \"type\": \"scattergeo\"}], \"scattergl\": [{\"marker\": {\"colorbar\": {\"outlinewidth\": 0, \"ticks\": \"\"}}, \"type\": \"scattergl\"}], \"scattermapbox\": [{\"marker\": {\"colorbar\": {\"outlinewidth\": 0, \"ticks\": \"\"}}, \"type\": \"scattermapbox\"}], \"scatterpolar\": [{\"marker\": {\"colorbar\": {\"outlinewidth\": 0, \"ticks\": \"\"}}, \"type\": \"scatterpolar\"}], \"scatterpolargl\": [{\"marker\": {\"colorbar\": {\"outlinewidth\": 0, \"ticks\": \"\"}}, \"type\": \"scatterpolargl\"}], \"scatterternary\": [{\"marker\": {\"colorbar\": {\"outlinewidth\": 0, \"ticks\": \"\"}}, \"type\": \"scatterternary\"}], \"surface\": [{\"colorbar\": {\"outlinewidth\": 0, \"ticks\": \"\"}, \"colorscale\": [[0.0, \"#0d0887\"], [0.1111111111111111, \"#46039f\"], [0.2222222222222222, \"#7201a8\"], [0.3333333333333333, \"#9c179e\"], [0.4444444444444444, \"#bd3786\"], [0.5555555555555556, \"#d8576b\"], [0.6666666666666666, \"#ed7953\"], [0.7777777777777778, \"#fb9f3a\"], [0.8888888888888888, \"#fdca26\"], [1.0, \"#f0f921\"]], \"type\": \"surface\"}], \"table\": [{\"cells\": {\"fill\": {\"color\": \"#EBF0F8\"}, \"line\": {\"color\": \"white\"}}, \"header\": {\"fill\": {\"color\": \"#C8D4E3\"}, \"line\": {\"color\": \"white\"}}, \"type\": \"table\"}]}, \"layout\": {\"annotationdefaults\": {\"arrowcolor\": \"#2a3f5f\", \"arrowhead\": 0, \"arrowwidth\": 1}, \"coloraxis\": {\"colorbar\": {\"outlinewidth\": 0, \"ticks\": \"\"}}, \"colorscale\": {\"diverging\": [[0, \"#8e0152\"], [0.1, \"#c51b7d\"], [0.2, \"#de77ae\"], [0.3, \"#f1b6da\"], [0.4, \"#fde0ef\"], [0.5, \"#f7f7f7\"], [0.6, \"#e6f5d0\"], [0.7, \"#b8e186\"], [0.8, \"#7fbc41\"], [0.9, \"#4d9221\"], [1, \"#276419\"]], \"sequential\": [[0.0, \"#0d0887\"], [0.1111111111111111, \"#46039f\"], [0.2222222222222222, \"#7201a8\"], [0.3333333333333333, \"#9c179e\"], [0.4444444444444444, \"#bd3786\"], [0.5555555555555556, \"#d8576b\"], [0.6666666666666666, \"#ed7953\"], [0.7777777777777778, \"#fb9f3a\"], [0.8888888888888888, \"#fdca26\"], [1.0, \"#f0f921\"]], \"sequentialminus\": [[0.0, \"#0d0887\"], [0.1111111111111111, \"#46039f\"], [0.2222222222222222, \"#7201a8\"], [0.3333333333333333, \"#9c179e\"], [0.4444444444444444, \"#bd3786\"], [0.5555555555555556, \"#d8576b\"], [0.6666666666666666, \"#ed7953\"], [0.7777777777777778, \"#fb9f3a\"], [0.8888888888888888, \"#fdca26\"], [1.0, \"#f0f921\"]]}, \"colorway\": [\"#636efa\", \"#EF553B\", \"#00cc96\", \"#ab63fa\", \"#FFA15A\", \"#19d3f3\", \"#FF6692\", \"#B6E880\", \"#FF97FF\", \"#FECB52\"], \"font\": {\"color\": \"#2a3f5f\"}, \"geo\": {\"bgcolor\": \"white\", \"lakecolor\": \"white\", \"landcolor\": \"#E5ECF6\", \"showlakes\": true, \"showland\": true, \"subunitcolor\": \"white\"}, \"hoverlabel\": {\"align\": \"left\"}, \"hovermode\": \"closest\", \"mapbox\": {\"style\": \"light\"}, \"paper_bgcolor\": \"white\", \"plot_bgcolor\": \"#E5ECF6\", \"polar\": {\"angularaxis\": {\"gridcolor\": \"white\", \"linecolor\": \"white\", \"ticks\": \"\"}, \"bgcolor\": \"#E5ECF6\", \"radialaxis\": {\"gridcolor\": \"white\", \"linecolor\": \"white\", \"ticks\": \"\"}}, \"scene\": {\"xaxis\": {\"backgroundcolor\": \"#E5ECF6\", \"gridcolor\": \"white\", \"gridwidth\": 2, \"linecolor\": \"white\", \"showbackground\": true, \"ticks\": \"\", \"zerolinecolor\": \"white\"}, \"yaxis\": {\"backgroundcolor\": \"#E5ECF6\", \"gridcolor\": \"white\", \"gridwidth\": 2, \"linecolor\": \"white\", \"showbackground\": true, \"ticks\": \"\", \"zerolinecolor\": \"white\"}, \"zaxis\": {\"backgroundcolor\": \"#E5ECF6\", \"gridcolor\": \"white\", \"gridwidth\": 2, \"linecolor\": \"white\", \"showbackground\": true, \"ticks\": \"\", \"zerolinecolor\": \"white\"}}, \"shapedefaults\": {\"line\": {\"color\": \"#2a3f5f\"}}, \"ternary\": {\"aaxis\": {\"gridcolor\": \"white\", \"linecolor\": \"white\", \"ticks\": \"\"}, \"baxis\": {\"gridcolor\": \"white\", \"linecolor\": \"white\", \"ticks\": \"\"}, \"bgcolor\": \"#E5ECF6\", \"caxis\": {\"gridcolor\": \"white\", \"linecolor\": \"white\", \"ticks\": \"\"}}, \"title\": {\"x\": 0.05}, \"xaxis\": {\"automargin\": true, \"gridcolor\": \"white\", \"linecolor\": \"white\", \"ticks\": \"\", \"title\": {\"standoff\": 15}, \"zerolinecolor\": \"white\", \"zerolinewidth\": 2}, \"yaxis\": {\"automargin\": true, \"gridcolor\": \"white\", \"linecolor\": \"white\", \"ticks\": \"\", \"title\": {\"standoff\": 15}, \"zerolinecolor\": \"white\", \"zerolinewidth\": 2}}}, \"title\": {\"text\": \"Avg Yards Allowed Per Game By Team\", \"x\": 0.5, \"xanchor\": \"center\", \"y\": 0.95, \"yanchor\": \"top\"}},\n",
       "                        {\"responsive\": true}\n",
       "                    ).then(function(){\n",
       "                            \n",
       "var gd = document.getElementById('a5efc371-9207-49d7-abaa-9d0405d346ca');\n",
       "var x = new MutationObserver(function (mutations, observer) {{\n",
       "        var display = window.getComputedStyle(gd).display;\n",
       "        if (!display || display === 'none') {{\n",
       "            console.log([gd, 'removed!']);\n",
       "            Plotly.purge(gd);\n",
       "            observer.disconnect();\n",
       "        }}\n",
       "}});\n",
       "\n",
       "// Listen for the removal of the full notebook cells\n",
       "var notebookContainer = gd.closest('#notebook-container');\n",
       "if (notebookContainer) {{\n",
       "    x.observe(notebookContainer, {childList: true});\n",
       "}}\n",
       "\n",
       "// Listen for the clearing of the current output cell\n",
       "var outputEl = gd.closest('.output');\n",
       "if (outputEl) {{\n",
       "    x.observe(outputEl, {childList: true});\n",
       "}}\n",
       "\n",
       "                        })\n",
       "                };\n",
       "                });\n",
       "            </script>\n",
       "        </div>"
      ]
     },
     "metadata": {},
     "output_type": "display_data"
    }
   ],
   "source": [
    "fig = go.Figure(data=[go.Bar(name='2017', x = team_by_wins['team'], y = def_yd_avg2017),\\\n",
    "                      go.Bar(name='2018', x = team_by_wins['team'], y = def_yd_avg2018)])\n",
    "\n",
    "layout = go.Layout(\n",
    "    title = 'Avg Yard Per Game',\n",
    "    xaxis= dict(title= 'Game',ticklen= 1,zeroline= False),\n",
    "    yaxis= dict(title= 'Yards',ticklen= 5,zeroline= False)\n",
    ")\n",
    "\n",
    "fig.update_layout(\n",
    "    title={\n",
    "        'text':'Avg Yards Allowed Per Game By Team',\n",
    "        'y':0.95,\n",
    "        'x':0.5,\n",
    "        'xanchor': 'center',\n",
    "        'yanchor': 'top'},\n",
    "    barmode='group')\n",
    "fig"
   ]
  },
  {
   "cell_type": "markdown",
   "metadata": {},
   "source": [
    "Teams who tend to perform more poorly seem to give up more yards per game."
   ]
  },
  {
   "cell_type": "code",
   "execution_count": null,
   "metadata": {
    "code_folding": [
     0
    ]
   },
   "outputs": [],
   "source": [
    "# nfl_small2_end_of_drive[(nfl_small2_end_of_drive['posteam']=='CLE') &\\\n",
    "#                                                     (nfl_small2_end_of_drive['year']==2017)&\\\n",
    "#                                                     (nfl_small2_end_of_drive['end_of_drive']==1)]\\\n",
    "#                     .groupby('week').sum()['ydsnet'].values"
   ]
  },
  {
   "cell_type": "code",
   "execution_count": 67,
   "metadata": {},
   "outputs": [],
   "source": [
    "avg_yard_diff_2017 = []\n",
    "for team in team_by_wins['team']:\n",
    "    \n",
    "    team_yd_2017 = nfl_small2_end_of_drive[(nfl_small2_end_of_drive['posteam']==team) &\\\n",
    "                                                    (nfl_small2_end_of_drive['year']==2017)&\\\n",
    "                                                    (nfl_small2_end_of_drive['end_of_drive']==1)]\\\n",
    "                    .groupby('week').sum()['ydsnet'].values\n",
    "    \n",
    "    \n",
    "    team_def_yd_2017 = nfl_small2_end_of_drive[(nfl_small2_end_of_drive[team] != '0') &\\\n",
    "                                                        (nfl_small2_end_of_drive['posteam']!=team) &\\\n",
    "                                                        (nfl_small2_end_of_drive['year']==2017)&\\\n",
    "                                                        (nfl_small2_end_of_drive['end_of_drive']==1)]\\\n",
    "                    .groupby('week').sum()['ydsnet'].values\n",
    "    \n",
    "    team_yard_diff_2017 = [a_i - b_i for a_i, b_i in zip(team_yd_2017, team_def_yd_2017)]\n",
    "    \n",
    "    \n",
    "    avg_yard_diff_2017.append(np.round(np.mean(team_yard_diff_2017),2))\n",
    "    \n",
    "    \n",
    "avg_yard_diff_2018 = []\n",
    "for team in team_by_wins['team']:\n",
    "    \n",
    "    team_yd_2018 = nfl_small2_end_of_drive[(nfl_small2_end_of_drive['posteam']==team) &\\\n",
    "                                                    (nfl_small2_end_of_drive['year']==2018)&\\\n",
    "                                                    (nfl_small2_end_of_drive['end_of_drive']==1)]\\\n",
    "                    .groupby('week').sum()['ydsnet'].values\n",
    "    \n",
    "    \n",
    "    team_def_yd_2018 = nfl_small2_end_of_drive[(nfl_small2_end_of_drive[team] != '0') &\\\n",
    "                                                        (nfl_small2_end_of_drive['posteam']!=team) &\\\n",
    "                                                        (nfl_small2_end_of_drive['year']==2018)&\\\n",
    "                                                        (nfl_small2_end_of_drive['end_of_drive']==1)]\\\n",
    "                    .groupby('week').sum()['ydsnet'].values\n",
    "    \n",
    "    team_yard_diff_2018 = [a_i - b_i for a_i, b_i in zip(team_yd_2018, team_def_yd_2018)]\n",
    "    \n",
    "    \n",
    "    avg_yard_diff_2018.append(np.round(np.mean(team_yard_diff_2018),2))\n",
    "    \n",
    "    "
   ]
  },
  {
   "cell_type": "code",
   "execution_count": 68,
   "metadata": {
    "code_folding": [],
    "scrolled": false
   },
   "outputs": [
    {
     "data": {
      "application/vnd.plotly.v1+json": {
       "config": {
        "plotlyServerURL": "https://plot.ly"
       },
       "data": [
        {
         "name": "2017",
         "type": "bar",
         "x": [
          "CLE",
          "NYG",
          "OAK",
          "NYJ",
          "TB",
          "SF",
          "ARI",
          "DEN",
          "CIN",
          "GB",
          "IND",
          "MIA",
          "JAX",
          "WAS",
          "DET",
          "BUF",
          "HOU",
          "ATL",
          "CHI",
          "CAR",
          "SEA",
          "BAL",
          "TEN",
          "DAL",
          "LAC",
          "PHI",
          "MIN",
          "PIT",
          "KC",
          "NE",
          "LA",
          "NO"
         ],
         "y": [
          -25.31,
          -70.92,
          -26.62,
          -56.07,
          -6.38,
          -17.33,
          18.43,
          30.87,
          -68.27,
          -43.67,
          -86.13,
          -35.54,
          89.81,
          -15.25,
          -24.21,
          -60.33,
          -23.73,
          50.87,
          -43,
          17.43,
          -19.06,
          -13.07,
          -4.38,
          8.5,
          59.47,
          62.2,
          87.8,
          79.31,
          1.81,
          41.13,
          22.75,
          43.81
         ]
        },
        {
         "name": "2018",
         "type": "bar",
         "x": [
          "CLE",
          "NYG",
          "OAK",
          "NYJ",
          "TB",
          "SF",
          "ARI",
          "DEN",
          "CIN",
          "GB",
          "IND",
          "MIA",
          "JAX",
          "WAS",
          "DET",
          "BUF",
          "HOU",
          "ATL",
          "CHI",
          "CAR",
          "SEA",
          "BAL",
          "TEN",
          "DAL",
          "LAC",
          "PHI",
          "MIN",
          "PIT",
          "KC",
          "NE",
          "LA",
          "NO"
         ],
         "y": [
          -34.69,
          -23.17,
          -51.85,
          -76.14,
          40.15,
          15.86,
          -118.85,
          -19.71,
          -103,
          17.77,
          54.67,
          -114.57,
          -17.23,
          -60.31,
          -17,
          -3.77,
          21,
          7.5,
          64.33,
          17.36,
          -23,
          92.62,
          -0.38,
          21.67,
          58.15,
          -16.15,
          39.69,
          85.15,
          6,
          35,
          70,
          50
         ]
        }
       ],
       "layout": {
        "barmode": "group",
        "template": {
         "data": {
          "bar": [
           {
            "error_x": {
             "color": "#2a3f5f"
            },
            "error_y": {
             "color": "#2a3f5f"
            },
            "marker": {
             "line": {
              "color": "#E5ECF6",
              "width": 0.5
             }
            },
            "type": "bar"
           }
          ],
          "barpolar": [
           {
            "marker": {
             "line": {
              "color": "#E5ECF6",
              "width": 0.5
             }
            },
            "type": "barpolar"
           }
          ],
          "carpet": [
           {
            "aaxis": {
             "endlinecolor": "#2a3f5f",
             "gridcolor": "white",
             "linecolor": "white",
             "minorgridcolor": "white",
             "startlinecolor": "#2a3f5f"
            },
            "baxis": {
             "endlinecolor": "#2a3f5f",
             "gridcolor": "white",
             "linecolor": "white",
             "minorgridcolor": "white",
             "startlinecolor": "#2a3f5f"
            },
            "type": "carpet"
           }
          ],
          "choropleth": [
           {
            "colorbar": {
             "outlinewidth": 0,
             "ticks": ""
            },
            "type": "choropleth"
           }
          ],
          "contour": [
           {
            "colorbar": {
             "outlinewidth": 0,
             "ticks": ""
            },
            "colorscale": [
             [
              0,
              "#0d0887"
             ],
             [
              0.1111111111111111,
              "#46039f"
             ],
             [
              0.2222222222222222,
              "#7201a8"
             ],
             [
              0.3333333333333333,
              "#9c179e"
             ],
             [
              0.4444444444444444,
              "#bd3786"
             ],
             [
              0.5555555555555556,
              "#d8576b"
             ],
             [
              0.6666666666666666,
              "#ed7953"
             ],
             [
              0.7777777777777778,
              "#fb9f3a"
             ],
             [
              0.8888888888888888,
              "#fdca26"
             ],
             [
              1,
              "#f0f921"
             ]
            ],
            "type": "contour"
           }
          ],
          "contourcarpet": [
           {
            "colorbar": {
             "outlinewidth": 0,
             "ticks": ""
            },
            "type": "contourcarpet"
           }
          ],
          "heatmap": [
           {
            "colorbar": {
             "outlinewidth": 0,
             "ticks": ""
            },
            "colorscale": [
             [
              0,
              "#0d0887"
             ],
             [
              0.1111111111111111,
              "#46039f"
             ],
             [
              0.2222222222222222,
              "#7201a8"
             ],
             [
              0.3333333333333333,
              "#9c179e"
             ],
             [
              0.4444444444444444,
              "#bd3786"
             ],
             [
              0.5555555555555556,
              "#d8576b"
             ],
             [
              0.6666666666666666,
              "#ed7953"
             ],
             [
              0.7777777777777778,
              "#fb9f3a"
             ],
             [
              0.8888888888888888,
              "#fdca26"
             ],
             [
              1,
              "#f0f921"
             ]
            ],
            "type": "heatmap"
           }
          ],
          "heatmapgl": [
           {
            "colorbar": {
             "outlinewidth": 0,
             "ticks": ""
            },
            "colorscale": [
             [
              0,
              "#0d0887"
             ],
             [
              0.1111111111111111,
              "#46039f"
             ],
             [
              0.2222222222222222,
              "#7201a8"
             ],
             [
              0.3333333333333333,
              "#9c179e"
             ],
             [
              0.4444444444444444,
              "#bd3786"
             ],
             [
              0.5555555555555556,
              "#d8576b"
             ],
             [
              0.6666666666666666,
              "#ed7953"
             ],
             [
              0.7777777777777778,
              "#fb9f3a"
             ],
             [
              0.8888888888888888,
              "#fdca26"
             ],
             [
              1,
              "#f0f921"
             ]
            ],
            "type": "heatmapgl"
           }
          ],
          "histogram": [
           {
            "marker": {
             "colorbar": {
              "outlinewidth": 0,
              "ticks": ""
             }
            },
            "type": "histogram"
           }
          ],
          "histogram2d": [
           {
            "colorbar": {
             "outlinewidth": 0,
             "ticks": ""
            },
            "colorscale": [
             [
              0,
              "#0d0887"
             ],
             [
              0.1111111111111111,
              "#46039f"
             ],
             [
              0.2222222222222222,
              "#7201a8"
             ],
             [
              0.3333333333333333,
              "#9c179e"
             ],
             [
              0.4444444444444444,
              "#bd3786"
             ],
             [
              0.5555555555555556,
              "#d8576b"
             ],
             [
              0.6666666666666666,
              "#ed7953"
             ],
             [
              0.7777777777777778,
              "#fb9f3a"
             ],
             [
              0.8888888888888888,
              "#fdca26"
             ],
             [
              1,
              "#f0f921"
             ]
            ],
            "type": "histogram2d"
           }
          ],
          "histogram2dcontour": [
           {
            "colorbar": {
             "outlinewidth": 0,
             "ticks": ""
            },
            "colorscale": [
             [
              0,
              "#0d0887"
             ],
             [
              0.1111111111111111,
              "#46039f"
             ],
             [
              0.2222222222222222,
              "#7201a8"
             ],
             [
              0.3333333333333333,
              "#9c179e"
             ],
             [
              0.4444444444444444,
              "#bd3786"
             ],
             [
              0.5555555555555556,
              "#d8576b"
             ],
             [
              0.6666666666666666,
              "#ed7953"
             ],
             [
              0.7777777777777778,
              "#fb9f3a"
             ],
             [
              0.8888888888888888,
              "#fdca26"
             ],
             [
              1,
              "#f0f921"
             ]
            ],
            "type": "histogram2dcontour"
           }
          ],
          "mesh3d": [
           {
            "colorbar": {
             "outlinewidth": 0,
             "ticks": ""
            },
            "type": "mesh3d"
           }
          ],
          "parcoords": [
           {
            "line": {
             "colorbar": {
              "outlinewidth": 0,
              "ticks": ""
             }
            },
            "type": "parcoords"
           }
          ],
          "pie": [
           {
            "automargin": true,
            "type": "pie"
           }
          ],
          "scatter": [
           {
            "marker": {
             "colorbar": {
              "outlinewidth": 0,
              "ticks": ""
             }
            },
            "type": "scatter"
           }
          ],
          "scatter3d": [
           {
            "line": {
             "colorbar": {
              "outlinewidth": 0,
              "ticks": ""
             }
            },
            "marker": {
             "colorbar": {
              "outlinewidth": 0,
              "ticks": ""
             }
            },
            "type": "scatter3d"
           }
          ],
          "scattercarpet": [
           {
            "marker": {
             "colorbar": {
              "outlinewidth": 0,
              "ticks": ""
             }
            },
            "type": "scattercarpet"
           }
          ],
          "scattergeo": [
           {
            "marker": {
             "colorbar": {
              "outlinewidth": 0,
              "ticks": ""
             }
            },
            "type": "scattergeo"
           }
          ],
          "scattergl": [
           {
            "marker": {
             "colorbar": {
              "outlinewidth": 0,
              "ticks": ""
             }
            },
            "type": "scattergl"
           }
          ],
          "scattermapbox": [
           {
            "marker": {
             "colorbar": {
              "outlinewidth": 0,
              "ticks": ""
             }
            },
            "type": "scattermapbox"
           }
          ],
          "scatterpolar": [
           {
            "marker": {
             "colorbar": {
              "outlinewidth": 0,
              "ticks": ""
             }
            },
            "type": "scatterpolar"
           }
          ],
          "scatterpolargl": [
           {
            "marker": {
             "colorbar": {
              "outlinewidth": 0,
              "ticks": ""
             }
            },
            "type": "scatterpolargl"
           }
          ],
          "scatterternary": [
           {
            "marker": {
             "colorbar": {
              "outlinewidth": 0,
              "ticks": ""
             }
            },
            "type": "scatterternary"
           }
          ],
          "surface": [
           {
            "colorbar": {
             "outlinewidth": 0,
             "ticks": ""
            },
            "colorscale": [
             [
              0,
              "#0d0887"
             ],
             [
              0.1111111111111111,
              "#46039f"
             ],
             [
              0.2222222222222222,
              "#7201a8"
             ],
             [
              0.3333333333333333,
              "#9c179e"
             ],
             [
              0.4444444444444444,
              "#bd3786"
             ],
             [
              0.5555555555555556,
              "#d8576b"
             ],
             [
              0.6666666666666666,
              "#ed7953"
             ],
             [
              0.7777777777777778,
              "#fb9f3a"
             ],
             [
              0.8888888888888888,
              "#fdca26"
             ],
             [
              1,
              "#f0f921"
             ]
            ],
            "type": "surface"
           }
          ],
          "table": [
           {
            "cells": {
             "fill": {
              "color": "#EBF0F8"
             },
             "line": {
              "color": "white"
             }
            },
            "header": {
             "fill": {
              "color": "#C8D4E3"
             },
             "line": {
              "color": "white"
             }
            },
            "type": "table"
           }
          ]
         },
         "layout": {
          "annotationdefaults": {
           "arrowcolor": "#2a3f5f",
           "arrowhead": 0,
           "arrowwidth": 1
          },
          "coloraxis": {
           "colorbar": {
            "outlinewidth": 0,
            "ticks": ""
           }
          },
          "colorscale": {
           "diverging": [
            [
             0,
             "#8e0152"
            ],
            [
             0.1,
             "#c51b7d"
            ],
            [
             0.2,
             "#de77ae"
            ],
            [
             0.3,
             "#f1b6da"
            ],
            [
             0.4,
             "#fde0ef"
            ],
            [
             0.5,
             "#f7f7f7"
            ],
            [
             0.6,
             "#e6f5d0"
            ],
            [
             0.7,
             "#b8e186"
            ],
            [
             0.8,
             "#7fbc41"
            ],
            [
             0.9,
             "#4d9221"
            ],
            [
             1,
             "#276419"
            ]
           ],
           "sequential": [
            [
             0,
             "#0d0887"
            ],
            [
             0.1111111111111111,
             "#46039f"
            ],
            [
             0.2222222222222222,
             "#7201a8"
            ],
            [
             0.3333333333333333,
             "#9c179e"
            ],
            [
             0.4444444444444444,
             "#bd3786"
            ],
            [
             0.5555555555555556,
             "#d8576b"
            ],
            [
             0.6666666666666666,
             "#ed7953"
            ],
            [
             0.7777777777777778,
             "#fb9f3a"
            ],
            [
             0.8888888888888888,
             "#fdca26"
            ],
            [
             1,
             "#f0f921"
            ]
           ],
           "sequentialminus": [
            [
             0,
             "#0d0887"
            ],
            [
             0.1111111111111111,
             "#46039f"
            ],
            [
             0.2222222222222222,
             "#7201a8"
            ],
            [
             0.3333333333333333,
             "#9c179e"
            ],
            [
             0.4444444444444444,
             "#bd3786"
            ],
            [
             0.5555555555555556,
             "#d8576b"
            ],
            [
             0.6666666666666666,
             "#ed7953"
            ],
            [
             0.7777777777777778,
             "#fb9f3a"
            ],
            [
             0.8888888888888888,
             "#fdca26"
            ],
            [
             1,
             "#f0f921"
            ]
           ]
          },
          "colorway": [
           "#636efa",
           "#EF553B",
           "#00cc96",
           "#ab63fa",
           "#FFA15A",
           "#19d3f3",
           "#FF6692",
           "#B6E880",
           "#FF97FF",
           "#FECB52"
          ],
          "font": {
           "color": "#2a3f5f"
          },
          "geo": {
           "bgcolor": "white",
           "lakecolor": "white",
           "landcolor": "#E5ECF6",
           "showlakes": true,
           "showland": true,
           "subunitcolor": "white"
          },
          "hoverlabel": {
           "align": "left"
          },
          "hovermode": "closest",
          "mapbox": {
           "style": "light"
          },
          "paper_bgcolor": "white",
          "plot_bgcolor": "#E5ECF6",
          "polar": {
           "angularaxis": {
            "gridcolor": "white",
            "linecolor": "white",
            "ticks": ""
           },
           "bgcolor": "#E5ECF6",
           "radialaxis": {
            "gridcolor": "white",
            "linecolor": "white",
            "ticks": ""
           }
          },
          "scene": {
           "xaxis": {
            "backgroundcolor": "#E5ECF6",
            "gridcolor": "white",
            "gridwidth": 2,
            "linecolor": "white",
            "showbackground": true,
            "ticks": "",
            "zerolinecolor": "white"
           },
           "yaxis": {
            "backgroundcolor": "#E5ECF6",
            "gridcolor": "white",
            "gridwidth": 2,
            "linecolor": "white",
            "showbackground": true,
            "ticks": "",
            "zerolinecolor": "white"
           },
           "zaxis": {
            "backgroundcolor": "#E5ECF6",
            "gridcolor": "white",
            "gridwidth": 2,
            "linecolor": "white",
            "showbackground": true,
            "ticks": "",
            "zerolinecolor": "white"
           }
          },
          "shapedefaults": {
           "line": {
            "color": "#2a3f5f"
           }
          },
          "ternary": {
           "aaxis": {
            "gridcolor": "white",
            "linecolor": "white",
            "ticks": ""
           },
           "baxis": {
            "gridcolor": "white",
            "linecolor": "white",
            "ticks": ""
           },
           "bgcolor": "#E5ECF6",
           "caxis": {
            "gridcolor": "white",
            "linecolor": "white",
            "ticks": ""
           }
          },
          "title": {
           "x": 0.05
          },
          "xaxis": {
           "automargin": true,
           "gridcolor": "white",
           "linecolor": "white",
           "ticks": "",
           "title": {
            "standoff": 15
           },
           "zerolinecolor": "white",
           "zerolinewidth": 2
          },
          "yaxis": {
           "automargin": true,
           "gridcolor": "white",
           "linecolor": "white",
           "ticks": "",
           "title": {
            "standoff": 15
           },
           "zerolinecolor": "white",
           "zerolinewidth": 2
          }
         }
        },
        "title": {
         "text": "Yard Differential Per Game By Team",
         "x": 0.5,
         "xanchor": "center",
         "y": 0.95,
         "yanchor": "top"
        }
       }
      },
      "text/html": [
       "<div>\n",
       "        \n",
       "        \n",
       "            <div id=\"20df9e05-480f-4926-97ea-94108b9364c9\" class=\"plotly-graph-div\" style=\"height:525px; width:100%;\"></div>\n",
       "            <script type=\"text/javascript\">\n",
       "                require([\"plotly\"], function(Plotly) {\n",
       "                    window.PLOTLYENV=window.PLOTLYENV || {};\n",
       "                    \n",
       "                if (document.getElementById(\"20df9e05-480f-4926-97ea-94108b9364c9\")) {\n",
       "                    Plotly.newPlot(\n",
       "                        '20df9e05-480f-4926-97ea-94108b9364c9',\n",
       "                        [{\"name\": \"2017\", \"type\": \"bar\", \"x\": [\"CLE\", \"NYG\", \"OAK\", \"NYJ\", \"TB\", \"SF\", \"ARI\", \"DEN\", \"CIN\", \"GB\", \"IND\", \"MIA\", \"JAX\", \"WAS\", \"DET\", \"BUF\", \"HOU\", \"ATL\", \"CHI\", \"CAR\", \"SEA\", \"BAL\", \"TEN\", \"DAL\", \"LAC\", \"PHI\", \"MIN\", \"PIT\", \"KC\", \"NE\", \"LA\", \"NO\"], \"y\": [-25.31, -70.92, -26.62, -56.07, -6.38, -17.33, 18.43, 30.87, -68.27, -43.67, -86.13, -35.54, 89.81, -15.25, -24.21, -60.33, -23.73, 50.87, -43.0, 17.43, -19.06, -13.07, -4.38, 8.5, 59.47, 62.2, 87.8, 79.31, 1.81, 41.13, 22.75, 43.81]}, {\"name\": \"2018\", \"type\": \"bar\", \"x\": [\"CLE\", \"NYG\", \"OAK\", \"NYJ\", \"TB\", \"SF\", \"ARI\", \"DEN\", \"CIN\", \"GB\", \"IND\", \"MIA\", \"JAX\", \"WAS\", \"DET\", \"BUF\", \"HOU\", \"ATL\", \"CHI\", \"CAR\", \"SEA\", \"BAL\", \"TEN\", \"DAL\", \"LAC\", \"PHI\", \"MIN\", \"PIT\", \"KC\", \"NE\", \"LA\", \"NO\"], \"y\": [-34.69, -23.17, -51.85, -76.14, 40.15, 15.86, -118.85, -19.71, -103.0, 17.77, 54.67, -114.57, -17.23, -60.31, -17.0, -3.77, 21.0, 7.5, 64.33, 17.36, -23.0, 92.62, -0.38, 21.67, 58.15, -16.15, 39.69, 85.15, 6.0, 35.0, 70.0, 50.0]}],\n",
       "                        {\"barmode\": \"group\", \"template\": {\"data\": {\"bar\": [{\"error_x\": {\"color\": \"#2a3f5f\"}, \"error_y\": {\"color\": \"#2a3f5f\"}, \"marker\": {\"line\": {\"color\": \"#E5ECF6\", \"width\": 0.5}}, \"type\": \"bar\"}], \"barpolar\": [{\"marker\": {\"line\": {\"color\": \"#E5ECF6\", \"width\": 0.5}}, \"type\": \"barpolar\"}], \"carpet\": [{\"aaxis\": {\"endlinecolor\": \"#2a3f5f\", \"gridcolor\": \"white\", \"linecolor\": \"white\", \"minorgridcolor\": \"white\", \"startlinecolor\": \"#2a3f5f\"}, \"baxis\": {\"endlinecolor\": \"#2a3f5f\", \"gridcolor\": \"white\", \"linecolor\": \"white\", \"minorgridcolor\": \"white\", \"startlinecolor\": \"#2a3f5f\"}, \"type\": \"carpet\"}], \"choropleth\": [{\"colorbar\": {\"outlinewidth\": 0, \"ticks\": \"\"}, \"type\": \"choropleth\"}], \"contour\": [{\"colorbar\": {\"outlinewidth\": 0, \"ticks\": \"\"}, \"colorscale\": [[0.0, \"#0d0887\"], [0.1111111111111111, \"#46039f\"], [0.2222222222222222, \"#7201a8\"], [0.3333333333333333, \"#9c179e\"], [0.4444444444444444, \"#bd3786\"], [0.5555555555555556, \"#d8576b\"], [0.6666666666666666, \"#ed7953\"], [0.7777777777777778, \"#fb9f3a\"], [0.8888888888888888, \"#fdca26\"], [1.0, \"#f0f921\"]], \"type\": \"contour\"}], \"contourcarpet\": [{\"colorbar\": {\"outlinewidth\": 0, \"ticks\": \"\"}, \"type\": \"contourcarpet\"}], \"heatmap\": [{\"colorbar\": {\"outlinewidth\": 0, \"ticks\": \"\"}, \"colorscale\": [[0.0, \"#0d0887\"], [0.1111111111111111, \"#46039f\"], [0.2222222222222222, \"#7201a8\"], [0.3333333333333333, \"#9c179e\"], [0.4444444444444444, \"#bd3786\"], [0.5555555555555556, \"#d8576b\"], [0.6666666666666666, \"#ed7953\"], [0.7777777777777778, \"#fb9f3a\"], [0.8888888888888888, \"#fdca26\"], [1.0, \"#f0f921\"]], \"type\": \"heatmap\"}], \"heatmapgl\": [{\"colorbar\": {\"outlinewidth\": 0, \"ticks\": \"\"}, \"colorscale\": [[0.0, \"#0d0887\"], [0.1111111111111111, \"#46039f\"], [0.2222222222222222, \"#7201a8\"], [0.3333333333333333, \"#9c179e\"], [0.4444444444444444, \"#bd3786\"], [0.5555555555555556, \"#d8576b\"], [0.6666666666666666, \"#ed7953\"], [0.7777777777777778, \"#fb9f3a\"], [0.8888888888888888, \"#fdca26\"], [1.0, \"#f0f921\"]], \"type\": \"heatmapgl\"}], \"histogram\": [{\"marker\": {\"colorbar\": {\"outlinewidth\": 0, \"ticks\": \"\"}}, \"type\": \"histogram\"}], \"histogram2d\": [{\"colorbar\": {\"outlinewidth\": 0, \"ticks\": \"\"}, \"colorscale\": [[0.0, \"#0d0887\"], [0.1111111111111111, \"#46039f\"], [0.2222222222222222, \"#7201a8\"], [0.3333333333333333, \"#9c179e\"], [0.4444444444444444, \"#bd3786\"], [0.5555555555555556, \"#d8576b\"], [0.6666666666666666, \"#ed7953\"], [0.7777777777777778, \"#fb9f3a\"], [0.8888888888888888, \"#fdca26\"], [1.0, \"#f0f921\"]], \"type\": \"histogram2d\"}], \"histogram2dcontour\": [{\"colorbar\": {\"outlinewidth\": 0, \"ticks\": \"\"}, \"colorscale\": [[0.0, \"#0d0887\"], [0.1111111111111111, \"#46039f\"], [0.2222222222222222, \"#7201a8\"], [0.3333333333333333, \"#9c179e\"], [0.4444444444444444, \"#bd3786\"], [0.5555555555555556, \"#d8576b\"], [0.6666666666666666, \"#ed7953\"], [0.7777777777777778, \"#fb9f3a\"], [0.8888888888888888, \"#fdca26\"], [1.0, \"#f0f921\"]], \"type\": \"histogram2dcontour\"}], \"mesh3d\": [{\"colorbar\": {\"outlinewidth\": 0, \"ticks\": \"\"}, \"type\": \"mesh3d\"}], \"parcoords\": [{\"line\": {\"colorbar\": {\"outlinewidth\": 0, \"ticks\": \"\"}}, \"type\": \"parcoords\"}], \"pie\": [{\"automargin\": true, \"type\": \"pie\"}], \"scatter\": [{\"marker\": {\"colorbar\": {\"outlinewidth\": 0, \"ticks\": \"\"}}, \"type\": \"scatter\"}], \"scatter3d\": [{\"line\": {\"colorbar\": {\"outlinewidth\": 0, \"ticks\": \"\"}}, \"marker\": {\"colorbar\": {\"outlinewidth\": 0, \"ticks\": \"\"}}, \"type\": \"scatter3d\"}], \"scattercarpet\": [{\"marker\": {\"colorbar\": {\"outlinewidth\": 0, \"ticks\": \"\"}}, \"type\": \"scattercarpet\"}], \"scattergeo\": [{\"marker\": {\"colorbar\": {\"outlinewidth\": 0, \"ticks\": \"\"}}, \"type\": \"scattergeo\"}], \"scattergl\": [{\"marker\": {\"colorbar\": {\"outlinewidth\": 0, \"ticks\": \"\"}}, \"type\": \"scattergl\"}], \"scattermapbox\": [{\"marker\": {\"colorbar\": {\"outlinewidth\": 0, \"ticks\": \"\"}}, \"type\": \"scattermapbox\"}], \"scatterpolar\": [{\"marker\": {\"colorbar\": {\"outlinewidth\": 0, \"ticks\": \"\"}}, \"type\": \"scatterpolar\"}], \"scatterpolargl\": [{\"marker\": {\"colorbar\": {\"outlinewidth\": 0, \"ticks\": \"\"}}, \"type\": \"scatterpolargl\"}], \"scatterternary\": [{\"marker\": {\"colorbar\": {\"outlinewidth\": 0, \"ticks\": \"\"}}, \"type\": \"scatterternary\"}], \"surface\": [{\"colorbar\": {\"outlinewidth\": 0, \"ticks\": \"\"}, \"colorscale\": [[0.0, \"#0d0887\"], [0.1111111111111111, \"#46039f\"], [0.2222222222222222, \"#7201a8\"], [0.3333333333333333, \"#9c179e\"], [0.4444444444444444, \"#bd3786\"], [0.5555555555555556, \"#d8576b\"], [0.6666666666666666, \"#ed7953\"], [0.7777777777777778, \"#fb9f3a\"], [0.8888888888888888, \"#fdca26\"], [1.0, \"#f0f921\"]], \"type\": \"surface\"}], \"table\": [{\"cells\": {\"fill\": {\"color\": \"#EBF0F8\"}, \"line\": {\"color\": \"white\"}}, \"header\": {\"fill\": {\"color\": \"#C8D4E3\"}, \"line\": {\"color\": \"white\"}}, \"type\": \"table\"}]}, \"layout\": {\"annotationdefaults\": {\"arrowcolor\": \"#2a3f5f\", \"arrowhead\": 0, \"arrowwidth\": 1}, \"coloraxis\": {\"colorbar\": {\"outlinewidth\": 0, \"ticks\": \"\"}}, \"colorscale\": {\"diverging\": [[0, \"#8e0152\"], [0.1, \"#c51b7d\"], [0.2, \"#de77ae\"], [0.3, \"#f1b6da\"], [0.4, \"#fde0ef\"], [0.5, \"#f7f7f7\"], [0.6, \"#e6f5d0\"], [0.7, \"#b8e186\"], [0.8, \"#7fbc41\"], [0.9, \"#4d9221\"], [1, \"#276419\"]], \"sequential\": [[0.0, \"#0d0887\"], [0.1111111111111111, \"#46039f\"], [0.2222222222222222, \"#7201a8\"], [0.3333333333333333, \"#9c179e\"], [0.4444444444444444, \"#bd3786\"], [0.5555555555555556, \"#d8576b\"], [0.6666666666666666, \"#ed7953\"], [0.7777777777777778, \"#fb9f3a\"], [0.8888888888888888, \"#fdca26\"], [1.0, \"#f0f921\"]], \"sequentialminus\": [[0.0, \"#0d0887\"], [0.1111111111111111, \"#46039f\"], [0.2222222222222222, \"#7201a8\"], [0.3333333333333333, \"#9c179e\"], [0.4444444444444444, \"#bd3786\"], [0.5555555555555556, \"#d8576b\"], [0.6666666666666666, \"#ed7953\"], [0.7777777777777778, \"#fb9f3a\"], [0.8888888888888888, \"#fdca26\"], [1.0, \"#f0f921\"]]}, \"colorway\": [\"#636efa\", \"#EF553B\", \"#00cc96\", \"#ab63fa\", \"#FFA15A\", \"#19d3f3\", \"#FF6692\", \"#B6E880\", \"#FF97FF\", \"#FECB52\"], \"font\": {\"color\": \"#2a3f5f\"}, \"geo\": {\"bgcolor\": \"white\", \"lakecolor\": \"white\", \"landcolor\": \"#E5ECF6\", \"showlakes\": true, \"showland\": true, \"subunitcolor\": \"white\"}, \"hoverlabel\": {\"align\": \"left\"}, \"hovermode\": \"closest\", \"mapbox\": {\"style\": \"light\"}, \"paper_bgcolor\": \"white\", \"plot_bgcolor\": \"#E5ECF6\", \"polar\": {\"angularaxis\": {\"gridcolor\": \"white\", \"linecolor\": \"white\", \"ticks\": \"\"}, \"bgcolor\": \"#E5ECF6\", \"radialaxis\": {\"gridcolor\": \"white\", \"linecolor\": \"white\", \"ticks\": \"\"}}, \"scene\": {\"xaxis\": {\"backgroundcolor\": \"#E5ECF6\", \"gridcolor\": \"white\", \"gridwidth\": 2, \"linecolor\": \"white\", \"showbackground\": true, \"ticks\": \"\", \"zerolinecolor\": \"white\"}, \"yaxis\": {\"backgroundcolor\": \"#E5ECF6\", \"gridcolor\": \"white\", \"gridwidth\": 2, \"linecolor\": \"white\", \"showbackground\": true, \"ticks\": \"\", \"zerolinecolor\": \"white\"}, \"zaxis\": {\"backgroundcolor\": \"#E5ECF6\", \"gridcolor\": \"white\", \"gridwidth\": 2, \"linecolor\": \"white\", \"showbackground\": true, \"ticks\": \"\", \"zerolinecolor\": \"white\"}}, \"shapedefaults\": {\"line\": {\"color\": \"#2a3f5f\"}}, \"ternary\": {\"aaxis\": {\"gridcolor\": \"white\", \"linecolor\": \"white\", \"ticks\": \"\"}, \"baxis\": {\"gridcolor\": \"white\", \"linecolor\": \"white\", \"ticks\": \"\"}, \"bgcolor\": \"#E5ECF6\", \"caxis\": {\"gridcolor\": \"white\", \"linecolor\": \"white\", \"ticks\": \"\"}}, \"title\": {\"x\": 0.05}, \"xaxis\": {\"automargin\": true, \"gridcolor\": \"white\", \"linecolor\": \"white\", \"ticks\": \"\", \"title\": {\"standoff\": 15}, \"zerolinecolor\": \"white\", \"zerolinewidth\": 2}, \"yaxis\": {\"automargin\": true, \"gridcolor\": \"white\", \"linecolor\": \"white\", \"ticks\": \"\", \"title\": {\"standoff\": 15}, \"zerolinecolor\": \"white\", \"zerolinewidth\": 2}}}, \"title\": {\"text\": \"Yard Differential Per Game By Team\", \"x\": 0.5, \"xanchor\": \"center\", \"y\": 0.95, \"yanchor\": \"top\"}},\n",
       "                        {\"responsive\": true}\n",
       "                    ).then(function(){\n",
       "                            \n",
       "var gd = document.getElementById('20df9e05-480f-4926-97ea-94108b9364c9');\n",
       "var x = new MutationObserver(function (mutations, observer) {{\n",
       "        var display = window.getComputedStyle(gd).display;\n",
       "        if (!display || display === 'none') {{\n",
       "            console.log([gd, 'removed!']);\n",
       "            Plotly.purge(gd);\n",
       "            observer.disconnect();\n",
       "        }}\n",
       "}});\n",
       "\n",
       "// Listen for the removal of the full notebook cells\n",
       "var notebookContainer = gd.closest('#notebook-container');\n",
       "if (notebookContainer) {{\n",
       "    x.observe(notebookContainer, {childList: true});\n",
       "}}\n",
       "\n",
       "// Listen for the clearing of the current output cell\n",
       "var outputEl = gd.closest('.output');\n",
       "if (outputEl) {{\n",
       "    x.observe(outputEl, {childList: true});\n",
       "}}\n",
       "\n",
       "                        })\n",
       "                };\n",
       "                });\n",
       "            </script>\n",
       "        </div>"
      ]
     },
     "metadata": {},
     "output_type": "display_data"
    }
   ],
   "source": [
    "fig = go.Figure(data=[go.Bar(name='2017', x = team_by_wins['team'], y = avg_yard_diff_2017),\\\n",
    "                      go.Bar(name='2018', x = team_by_wins['team'], y = avg_yard_diff_2018)])\n",
    "\n",
    "layout = go.Layout(\n",
    "    title = 'Avg Yard Per Game',\n",
    "    xaxis= dict(title= 'Game',ticklen= 1,zeroline= False),\n",
    "    yaxis= dict(title= 'Yards',ticklen= 5,zeroline= False)\n",
    ")\n",
    "\n",
    "fig.update_layout(\n",
    "    title={\n",
    "        'text':'Yard Differential Per Game By Team',\n",
    "        'y':0.95,\n",
    "        'x':0.5,\n",
    "        'xanchor': 'center',\n",
    "        'yanchor': 'top'},\n",
    "    barmode='group')\n",
    "fig"
   ]
  },
  {
   "cell_type": "markdown",
   "metadata": {},
   "source": [
    "And as expected, average yard differential per game is directly correlated to a team's chance of winning.\n",
    "\n",
    "Looking at Wins and Yard Differential together, good and bad teams are impervious to the random aspects of the game. Teams closer to average may be more affected by changes to weather or other factors..."
   ]
  },
  {
   "cell_type": "code",
   "execution_count": 69,
   "metadata": {},
   "outputs": [],
   "source": [
    "pt_avg2017 = []\n",
    "for team in team_by_wins['team']:\n",
    "    \n",
    "    home_list = list(nfl_small2_end_of_drive[(nfl_small2_end_of_drive['end_of_game'] == 1) &\\\n",
    "                        (nfl_small2_end_of_drive[team] == 'H')&(nfl_small2_end_of_drive['year'] == 2017)\n",
    "                       ]['total_home_score'])\n",
    "\n",
    "    away_list = list(nfl_small2_end_of_drive[(nfl_small2_end_of_drive['end_of_game'] == 1) &\\\n",
    "                        (nfl_small2_end_of_drive[team] == 'A')&(nfl_small2_end_of_drive['year'] == 2017)\n",
    "                       ]['total_away_score'])\n",
    "    \n",
    "    new_list = home_list + away_list\n",
    "    \n",
    "    pt_avg2017.append(round(np.mean(new_list),0))\n",
    "\n",
    "pt_avg2018 = []\n",
    "\n",
    "for team in team_by_wins['team']:\n",
    "    \n",
    "    home_list = list(nfl_small2_end_of_drive[(nfl_small2_end_of_drive['end_of_game'] == 1) &\\\n",
    "                        (nfl_small2_end_of_drive[team] == 'H')&(nfl_small2_end_of_drive['year'] == 2018)\n",
    "                       ]['total_home_score'])\n",
    "\n",
    "    away_list = list(nfl_small2_end_of_drive[(nfl_small2_end_of_drive['end_of_game'] == 1) &\\\n",
    "                        (nfl_small2_end_of_drive[team] == 'A')&(nfl_small2_end_of_drive['year'] == 2018)\n",
    "                       ]['total_away_score'])\n",
    "    \n",
    "    new_list = home_list + away_list\n",
    "    \n",
    "    pt_avg2018.append(round(np.mean(new_list),0))\n",
    "    "
   ]
  },
  {
   "cell_type": "code",
   "execution_count": 70,
   "metadata": {},
   "outputs": [
    {
     "data": {
      "application/vnd.plotly.v1+json": {
       "config": {
        "plotlyServerURL": "https://plot.ly"
       },
       "data": [
        {
         "name": "2017",
         "type": "bar",
         "x": [
          "CLE",
          "NYG",
          "OAK",
          "NYJ",
          "TB",
          "SF",
          "ARI",
          "DEN",
          "CIN",
          "GB",
          "IND",
          "MIA",
          "JAX",
          "WAS",
          "DET",
          "BUF",
          "HOU",
          "ATL",
          "CHI",
          "CAR",
          "SEA",
          "BAL",
          "TEN",
          "DAL",
          "LAC",
          "PHI",
          "MIN",
          "PIT",
          "KC",
          "NE",
          "LA",
          "NO"
         ],
         "y": [
          15,
          15,
          19,
          19,
          21,
          21,
          18,
          18,
          18,
          20,
          16,
          17,
          26,
          21,
          25,
          19,
          21,
          22,
          16,
          23,
          23,
          24,
          21,
          22,
          22,
          28,
          24,
          25,
          26,
          28,
          30,
          28
         ]
        },
        {
         "name": "2018",
         "type": "bar",
         "x": [
          "CLE",
          "NYG",
          "OAK",
          "NYJ",
          "TB",
          "SF",
          "ARI",
          "DEN",
          "CIN",
          "GB",
          "IND",
          "MIA",
          "JAX",
          "WAS",
          "DET",
          "BUF",
          "HOU",
          "ATL",
          "CHI",
          "CAR",
          "SEA",
          "BAL",
          "TEN",
          "DAL",
          "LAC",
          "PHI",
          "MIN",
          "PIT",
          "KC",
          "NE",
          "LA",
          "NO"
         ],
         "y": [
          22,
          22,
          18,
          21,
          24,
          21,
          14,
          22,
          24,
          24,
          27,
          21,
          16,
          19,
          20,
          15,
          25,
          25,
          27,
          24,
          26,
          24,
          19,
          20,
          28,
          22,
          23,
          27,
          35,
          27,
          32,
          33
         ]
        }
       ],
       "layout": {
        "barmode": "group",
        "template": {
         "data": {
          "bar": [
           {
            "error_x": {
             "color": "#2a3f5f"
            },
            "error_y": {
             "color": "#2a3f5f"
            },
            "marker": {
             "line": {
              "color": "#E5ECF6",
              "width": 0.5
             }
            },
            "type": "bar"
           }
          ],
          "barpolar": [
           {
            "marker": {
             "line": {
              "color": "#E5ECF6",
              "width": 0.5
             }
            },
            "type": "barpolar"
           }
          ],
          "carpet": [
           {
            "aaxis": {
             "endlinecolor": "#2a3f5f",
             "gridcolor": "white",
             "linecolor": "white",
             "minorgridcolor": "white",
             "startlinecolor": "#2a3f5f"
            },
            "baxis": {
             "endlinecolor": "#2a3f5f",
             "gridcolor": "white",
             "linecolor": "white",
             "minorgridcolor": "white",
             "startlinecolor": "#2a3f5f"
            },
            "type": "carpet"
           }
          ],
          "choropleth": [
           {
            "colorbar": {
             "outlinewidth": 0,
             "ticks": ""
            },
            "type": "choropleth"
           }
          ],
          "contour": [
           {
            "colorbar": {
             "outlinewidth": 0,
             "ticks": ""
            },
            "colorscale": [
             [
              0,
              "#0d0887"
             ],
             [
              0.1111111111111111,
              "#46039f"
             ],
             [
              0.2222222222222222,
              "#7201a8"
             ],
             [
              0.3333333333333333,
              "#9c179e"
             ],
             [
              0.4444444444444444,
              "#bd3786"
             ],
             [
              0.5555555555555556,
              "#d8576b"
             ],
             [
              0.6666666666666666,
              "#ed7953"
             ],
             [
              0.7777777777777778,
              "#fb9f3a"
             ],
             [
              0.8888888888888888,
              "#fdca26"
             ],
             [
              1,
              "#f0f921"
             ]
            ],
            "type": "contour"
           }
          ],
          "contourcarpet": [
           {
            "colorbar": {
             "outlinewidth": 0,
             "ticks": ""
            },
            "type": "contourcarpet"
           }
          ],
          "heatmap": [
           {
            "colorbar": {
             "outlinewidth": 0,
             "ticks": ""
            },
            "colorscale": [
             [
              0,
              "#0d0887"
             ],
             [
              0.1111111111111111,
              "#46039f"
             ],
             [
              0.2222222222222222,
              "#7201a8"
             ],
             [
              0.3333333333333333,
              "#9c179e"
             ],
             [
              0.4444444444444444,
              "#bd3786"
             ],
             [
              0.5555555555555556,
              "#d8576b"
             ],
             [
              0.6666666666666666,
              "#ed7953"
             ],
             [
              0.7777777777777778,
              "#fb9f3a"
             ],
             [
              0.8888888888888888,
              "#fdca26"
             ],
             [
              1,
              "#f0f921"
             ]
            ],
            "type": "heatmap"
           }
          ],
          "heatmapgl": [
           {
            "colorbar": {
             "outlinewidth": 0,
             "ticks": ""
            },
            "colorscale": [
             [
              0,
              "#0d0887"
             ],
             [
              0.1111111111111111,
              "#46039f"
             ],
             [
              0.2222222222222222,
              "#7201a8"
             ],
             [
              0.3333333333333333,
              "#9c179e"
             ],
             [
              0.4444444444444444,
              "#bd3786"
             ],
             [
              0.5555555555555556,
              "#d8576b"
             ],
             [
              0.6666666666666666,
              "#ed7953"
             ],
             [
              0.7777777777777778,
              "#fb9f3a"
             ],
             [
              0.8888888888888888,
              "#fdca26"
             ],
             [
              1,
              "#f0f921"
             ]
            ],
            "type": "heatmapgl"
           }
          ],
          "histogram": [
           {
            "marker": {
             "colorbar": {
              "outlinewidth": 0,
              "ticks": ""
             }
            },
            "type": "histogram"
           }
          ],
          "histogram2d": [
           {
            "colorbar": {
             "outlinewidth": 0,
             "ticks": ""
            },
            "colorscale": [
             [
              0,
              "#0d0887"
             ],
             [
              0.1111111111111111,
              "#46039f"
             ],
             [
              0.2222222222222222,
              "#7201a8"
             ],
             [
              0.3333333333333333,
              "#9c179e"
             ],
             [
              0.4444444444444444,
              "#bd3786"
             ],
             [
              0.5555555555555556,
              "#d8576b"
             ],
             [
              0.6666666666666666,
              "#ed7953"
             ],
             [
              0.7777777777777778,
              "#fb9f3a"
             ],
             [
              0.8888888888888888,
              "#fdca26"
             ],
             [
              1,
              "#f0f921"
             ]
            ],
            "type": "histogram2d"
           }
          ],
          "histogram2dcontour": [
           {
            "colorbar": {
             "outlinewidth": 0,
             "ticks": ""
            },
            "colorscale": [
             [
              0,
              "#0d0887"
             ],
             [
              0.1111111111111111,
              "#46039f"
             ],
             [
              0.2222222222222222,
              "#7201a8"
             ],
             [
              0.3333333333333333,
              "#9c179e"
             ],
             [
              0.4444444444444444,
              "#bd3786"
             ],
             [
              0.5555555555555556,
              "#d8576b"
             ],
             [
              0.6666666666666666,
              "#ed7953"
             ],
             [
              0.7777777777777778,
              "#fb9f3a"
             ],
             [
              0.8888888888888888,
              "#fdca26"
             ],
             [
              1,
              "#f0f921"
             ]
            ],
            "type": "histogram2dcontour"
           }
          ],
          "mesh3d": [
           {
            "colorbar": {
             "outlinewidth": 0,
             "ticks": ""
            },
            "type": "mesh3d"
           }
          ],
          "parcoords": [
           {
            "line": {
             "colorbar": {
              "outlinewidth": 0,
              "ticks": ""
             }
            },
            "type": "parcoords"
           }
          ],
          "pie": [
           {
            "automargin": true,
            "type": "pie"
           }
          ],
          "scatter": [
           {
            "marker": {
             "colorbar": {
              "outlinewidth": 0,
              "ticks": ""
             }
            },
            "type": "scatter"
           }
          ],
          "scatter3d": [
           {
            "line": {
             "colorbar": {
              "outlinewidth": 0,
              "ticks": ""
             }
            },
            "marker": {
             "colorbar": {
              "outlinewidth": 0,
              "ticks": ""
             }
            },
            "type": "scatter3d"
           }
          ],
          "scattercarpet": [
           {
            "marker": {
             "colorbar": {
              "outlinewidth": 0,
              "ticks": ""
             }
            },
            "type": "scattercarpet"
           }
          ],
          "scattergeo": [
           {
            "marker": {
             "colorbar": {
              "outlinewidth": 0,
              "ticks": ""
             }
            },
            "type": "scattergeo"
           }
          ],
          "scattergl": [
           {
            "marker": {
             "colorbar": {
              "outlinewidth": 0,
              "ticks": ""
             }
            },
            "type": "scattergl"
           }
          ],
          "scattermapbox": [
           {
            "marker": {
             "colorbar": {
              "outlinewidth": 0,
              "ticks": ""
             }
            },
            "type": "scattermapbox"
           }
          ],
          "scatterpolar": [
           {
            "marker": {
             "colorbar": {
              "outlinewidth": 0,
              "ticks": ""
             }
            },
            "type": "scatterpolar"
           }
          ],
          "scatterpolargl": [
           {
            "marker": {
             "colorbar": {
              "outlinewidth": 0,
              "ticks": ""
             }
            },
            "type": "scatterpolargl"
           }
          ],
          "scatterternary": [
           {
            "marker": {
             "colorbar": {
              "outlinewidth": 0,
              "ticks": ""
             }
            },
            "type": "scatterternary"
           }
          ],
          "surface": [
           {
            "colorbar": {
             "outlinewidth": 0,
             "ticks": ""
            },
            "colorscale": [
             [
              0,
              "#0d0887"
             ],
             [
              0.1111111111111111,
              "#46039f"
             ],
             [
              0.2222222222222222,
              "#7201a8"
             ],
             [
              0.3333333333333333,
              "#9c179e"
             ],
             [
              0.4444444444444444,
              "#bd3786"
             ],
             [
              0.5555555555555556,
              "#d8576b"
             ],
             [
              0.6666666666666666,
              "#ed7953"
             ],
             [
              0.7777777777777778,
              "#fb9f3a"
             ],
             [
              0.8888888888888888,
              "#fdca26"
             ],
             [
              1,
              "#f0f921"
             ]
            ],
            "type": "surface"
           }
          ],
          "table": [
           {
            "cells": {
             "fill": {
              "color": "#EBF0F8"
             },
             "line": {
              "color": "white"
             }
            },
            "header": {
             "fill": {
              "color": "#C8D4E3"
             },
             "line": {
              "color": "white"
             }
            },
            "type": "table"
           }
          ]
         },
         "layout": {
          "annotationdefaults": {
           "arrowcolor": "#2a3f5f",
           "arrowhead": 0,
           "arrowwidth": 1
          },
          "coloraxis": {
           "colorbar": {
            "outlinewidth": 0,
            "ticks": ""
           }
          },
          "colorscale": {
           "diverging": [
            [
             0,
             "#8e0152"
            ],
            [
             0.1,
             "#c51b7d"
            ],
            [
             0.2,
             "#de77ae"
            ],
            [
             0.3,
             "#f1b6da"
            ],
            [
             0.4,
             "#fde0ef"
            ],
            [
             0.5,
             "#f7f7f7"
            ],
            [
             0.6,
             "#e6f5d0"
            ],
            [
             0.7,
             "#b8e186"
            ],
            [
             0.8,
             "#7fbc41"
            ],
            [
             0.9,
             "#4d9221"
            ],
            [
             1,
             "#276419"
            ]
           ],
           "sequential": [
            [
             0,
             "#0d0887"
            ],
            [
             0.1111111111111111,
             "#46039f"
            ],
            [
             0.2222222222222222,
             "#7201a8"
            ],
            [
             0.3333333333333333,
             "#9c179e"
            ],
            [
             0.4444444444444444,
             "#bd3786"
            ],
            [
             0.5555555555555556,
             "#d8576b"
            ],
            [
             0.6666666666666666,
             "#ed7953"
            ],
            [
             0.7777777777777778,
             "#fb9f3a"
            ],
            [
             0.8888888888888888,
             "#fdca26"
            ],
            [
             1,
             "#f0f921"
            ]
           ],
           "sequentialminus": [
            [
             0,
             "#0d0887"
            ],
            [
             0.1111111111111111,
             "#46039f"
            ],
            [
             0.2222222222222222,
             "#7201a8"
            ],
            [
             0.3333333333333333,
             "#9c179e"
            ],
            [
             0.4444444444444444,
             "#bd3786"
            ],
            [
             0.5555555555555556,
             "#d8576b"
            ],
            [
             0.6666666666666666,
             "#ed7953"
            ],
            [
             0.7777777777777778,
             "#fb9f3a"
            ],
            [
             0.8888888888888888,
             "#fdca26"
            ],
            [
             1,
             "#f0f921"
            ]
           ]
          },
          "colorway": [
           "#636efa",
           "#EF553B",
           "#00cc96",
           "#ab63fa",
           "#FFA15A",
           "#19d3f3",
           "#FF6692",
           "#B6E880",
           "#FF97FF",
           "#FECB52"
          ],
          "font": {
           "color": "#2a3f5f"
          },
          "geo": {
           "bgcolor": "white",
           "lakecolor": "white",
           "landcolor": "#E5ECF6",
           "showlakes": true,
           "showland": true,
           "subunitcolor": "white"
          },
          "hoverlabel": {
           "align": "left"
          },
          "hovermode": "closest",
          "mapbox": {
           "style": "light"
          },
          "paper_bgcolor": "white",
          "plot_bgcolor": "#E5ECF6",
          "polar": {
           "angularaxis": {
            "gridcolor": "white",
            "linecolor": "white",
            "ticks": ""
           },
           "bgcolor": "#E5ECF6",
           "radialaxis": {
            "gridcolor": "white",
            "linecolor": "white",
            "ticks": ""
           }
          },
          "scene": {
           "xaxis": {
            "backgroundcolor": "#E5ECF6",
            "gridcolor": "white",
            "gridwidth": 2,
            "linecolor": "white",
            "showbackground": true,
            "ticks": "",
            "zerolinecolor": "white"
           },
           "yaxis": {
            "backgroundcolor": "#E5ECF6",
            "gridcolor": "white",
            "gridwidth": 2,
            "linecolor": "white",
            "showbackground": true,
            "ticks": "",
            "zerolinecolor": "white"
           },
           "zaxis": {
            "backgroundcolor": "#E5ECF6",
            "gridcolor": "white",
            "gridwidth": 2,
            "linecolor": "white",
            "showbackground": true,
            "ticks": "",
            "zerolinecolor": "white"
           }
          },
          "shapedefaults": {
           "line": {
            "color": "#2a3f5f"
           }
          },
          "ternary": {
           "aaxis": {
            "gridcolor": "white",
            "linecolor": "white",
            "ticks": ""
           },
           "baxis": {
            "gridcolor": "white",
            "linecolor": "white",
            "ticks": ""
           },
           "bgcolor": "#E5ECF6",
           "caxis": {
            "gridcolor": "white",
            "linecolor": "white",
            "ticks": ""
           }
          },
          "title": {
           "x": 0.05
          },
          "xaxis": {
           "automargin": true,
           "gridcolor": "white",
           "linecolor": "white",
           "ticks": "",
           "title": {
            "standoff": 15
           },
           "zerolinecolor": "white",
           "zerolinewidth": 2
          },
          "yaxis": {
           "automargin": true,
           "gridcolor": "white",
           "linecolor": "white",
           "ticks": "",
           "title": {
            "standoff": 15
           },
           "zerolinecolor": "white",
           "zerolinewidth": 2
          }
         }
        },
        "title": {
         "text": "Avg Points Per Game By Team",
         "x": 0.5,
         "xanchor": "center",
         "y": 0.95,
         "yanchor": "top"
        }
       }
      },
      "text/html": [
       "<div>\n",
       "        \n",
       "        \n",
       "            <div id=\"c57a18a2-da26-452f-818e-1be3528c1135\" class=\"plotly-graph-div\" style=\"height:525px; width:100%;\"></div>\n",
       "            <script type=\"text/javascript\">\n",
       "                require([\"plotly\"], function(Plotly) {\n",
       "                    window.PLOTLYENV=window.PLOTLYENV || {};\n",
       "                    \n",
       "                if (document.getElementById(\"c57a18a2-da26-452f-818e-1be3528c1135\")) {\n",
       "                    Plotly.newPlot(\n",
       "                        'c57a18a2-da26-452f-818e-1be3528c1135',\n",
       "                        [{\"name\": \"2017\", \"type\": \"bar\", \"x\": [\"CLE\", \"NYG\", \"OAK\", \"NYJ\", \"TB\", \"SF\", \"ARI\", \"DEN\", \"CIN\", \"GB\", \"IND\", \"MIA\", \"JAX\", \"WAS\", \"DET\", \"BUF\", \"HOU\", \"ATL\", \"CHI\", \"CAR\", \"SEA\", \"BAL\", \"TEN\", \"DAL\", \"LAC\", \"PHI\", \"MIN\", \"PIT\", \"KC\", \"NE\", \"LA\", \"NO\"], \"y\": [15.0, 15.0, 19.0, 19.0, 21.0, 21.0, 18.0, 18.0, 18.0, 20.0, 16.0, 17.0, 26.0, 21.0, 25.0, 19.0, 21.0, 22.0, 16.0, 23.0, 23.0, 24.0, 21.0, 22.0, 22.0, 28.0, 24.0, 25.0, 26.0, 28.0, 30.0, 28.0]}, {\"name\": \"2018\", \"type\": \"bar\", \"x\": [\"CLE\", \"NYG\", \"OAK\", \"NYJ\", \"TB\", \"SF\", \"ARI\", \"DEN\", \"CIN\", \"GB\", \"IND\", \"MIA\", \"JAX\", \"WAS\", \"DET\", \"BUF\", \"HOU\", \"ATL\", \"CHI\", \"CAR\", \"SEA\", \"BAL\", \"TEN\", \"DAL\", \"LAC\", \"PHI\", \"MIN\", \"PIT\", \"KC\", \"NE\", \"LA\", \"NO\"], \"y\": [22.0, 22.0, 18.0, 21.0, 24.0, 21.0, 14.0, 22.0, 24.0, 24.0, 27.0, 21.0, 16.0, 19.0, 20.0, 15.0, 25.0, 25.0, 27.0, 24.0, 26.0, 24.0, 19.0, 20.0, 28.0, 22.0, 23.0, 27.0, 35.0, 27.0, 32.0, 33.0]}],\n",
       "                        {\"barmode\": \"group\", \"template\": {\"data\": {\"bar\": [{\"error_x\": {\"color\": \"#2a3f5f\"}, \"error_y\": {\"color\": \"#2a3f5f\"}, \"marker\": {\"line\": {\"color\": \"#E5ECF6\", \"width\": 0.5}}, \"type\": \"bar\"}], \"barpolar\": [{\"marker\": {\"line\": {\"color\": \"#E5ECF6\", \"width\": 0.5}}, \"type\": \"barpolar\"}], \"carpet\": [{\"aaxis\": {\"endlinecolor\": \"#2a3f5f\", \"gridcolor\": \"white\", \"linecolor\": \"white\", \"minorgridcolor\": \"white\", \"startlinecolor\": \"#2a3f5f\"}, \"baxis\": {\"endlinecolor\": \"#2a3f5f\", \"gridcolor\": \"white\", \"linecolor\": \"white\", \"minorgridcolor\": \"white\", \"startlinecolor\": \"#2a3f5f\"}, \"type\": \"carpet\"}], \"choropleth\": [{\"colorbar\": {\"outlinewidth\": 0, \"ticks\": \"\"}, \"type\": \"choropleth\"}], \"contour\": [{\"colorbar\": {\"outlinewidth\": 0, \"ticks\": \"\"}, \"colorscale\": [[0.0, \"#0d0887\"], [0.1111111111111111, \"#46039f\"], [0.2222222222222222, \"#7201a8\"], [0.3333333333333333, \"#9c179e\"], [0.4444444444444444, \"#bd3786\"], [0.5555555555555556, \"#d8576b\"], [0.6666666666666666, \"#ed7953\"], [0.7777777777777778, \"#fb9f3a\"], [0.8888888888888888, \"#fdca26\"], [1.0, \"#f0f921\"]], \"type\": \"contour\"}], \"contourcarpet\": [{\"colorbar\": {\"outlinewidth\": 0, \"ticks\": \"\"}, \"type\": \"contourcarpet\"}], \"heatmap\": [{\"colorbar\": {\"outlinewidth\": 0, \"ticks\": \"\"}, \"colorscale\": [[0.0, \"#0d0887\"], [0.1111111111111111, \"#46039f\"], [0.2222222222222222, \"#7201a8\"], [0.3333333333333333, \"#9c179e\"], [0.4444444444444444, \"#bd3786\"], [0.5555555555555556, \"#d8576b\"], [0.6666666666666666, \"#ed7953\"], [0.7777777777777778, \"#fb9f3a\"], [0.8888888888888888, \"#fdca26\"], [1.0, \"#f0f921\"]], \"type\": \"heatmap\"}], \"heatmapgl\": [{\"colorbar\": {\"outlinewidth\": 0, \"ticks\": \"\"}, \"colorscale\": [[0.0, \"#0d0887\"], [0.1111111111111111, \"#46039f\"], [0.2222222222222222, \"#7201a8\"], [0.3333333333333333, \"#9c179e\"], [0.4444444444444444, \"#bd3786\"], [0.5555555555555556, \"#d8576b\"], [0.6666666666666666, \"#ed7953\"], [0.7777777777777778, \"#fb9f3a\"], [0.8888888888888888, \"#fdca26\"], [1.0, \"#f0f921\"]], \"type\": \"heatmapgl\"}], \"histogram\": [{\"marker\": {\"colorbar\": {\"outlinewidth\": 0, \"ticks\": \"\"}}, \"type\": \"histogram\"}], \"histogram2d\": [{\"colorbar\": {\"outlinewidth\": 0, \"ticks\": \"\"}, \"colorscale\": [[0.0, \"#0d0887\"], [0.1111111111111111, \"#46039f\"], [0.2222222222222222, \"#7201a8\"], [0.3333333333333333, \"#9c179e\"], [0.4444444444444444, \"#bd3786\"], [0.5555555555555556, \"#d8576b\"], [0.6666666666666666, \"#ed7953\"], [0.7777777777777778, \"#fb9f3a\"], [0.8888888888888888, \"#fdca26\"], [1.0, \"#f0f921\"]], \"type\": \"histogram2d\"}], \"histogram2dcontour\": [{\"colorbar\": {\"outlinewidth\": 0, \"ticks\": \"\"}, \"colorscale\": [[0.0, \"#0d0887\"], [0.1111111111111111, \"#46039f\"], [0.2222222222222222, \"#7201a8\"], [0.3333333333333333, \"#9c179e\"], [0.4444444444444444, \"#bd3786\"], [0.5555555555555556, \"#d8576b\"], [0.6666666666666666, \"#ed7953\"], [0.7777777777777778, \"#fb9f3a\"], [0.8888888888888888, \"#fdca26\"], [1.0, \"#f0f921\"]], \"type\": \"histogram2dcontour\"}], \"mesh3d\": [{\"colorbar\": {\"outlinewidth\": 0, \"ticks\": \"\"}, \"type\": \"mesh3d\"}], \"parcoords\": [{\"line\": {\"colorbar\": {\"outlinewidth\": 0, \"ticks\": \"\"}}, \"type\": \"parcoords\"}], \"pie\": [{\"automargin\": true, \"type\": \"pie\"}], \"scatter\": [{\"marker\": {\"colorbar\": {\"outlinewidth\": 0, \"ticks\": \"\"}}, \"type\": \"scatter\"}], \"scatter3d\": [{\"line\": {\"colorbar\": {\"outlinewidth\": 0, \"ticks\": \"\"}}, \"marker\": {\"colorbar\": {\"outlinewidth\": 0, \"ticks\": \"\"}}, \"type\": \"scatter3d\"}], \"scattercarpet\": [{\"marker\": {\"colorbar\": {\"outlinewidth\": 0, \"ticks\": \"\"}}, \"type\": \"scattercarpet\"}], \"scattergeo\": [{\"marker\": {\"colorbar\": {\"outlinewidth\": 0, \"ticks\": \"\"}}, \"type\": \"scattergeo\"}], \"scattergl\": [{\"marker\": {\"colorbar\": {\"outlinewidth\": 0, \"ticks\": \"\"}}, \"type\": \"scattergl\"}], \"scattermapbox\": [{\"marker\": {\"colorbar\": {\"outlinewidth\": 0, \"ticks\": \"\"}}, \"type\": \"scattermapbox\"}], \"scatterpolar\": [{\"marker\": {\"colorbar\": {\"outlinewidth\": 0, \"ticks\": \"\"}}, \"type\": \"scatterpolar\"}], \"scatterpolargl\": [{\"marker\": {\"colorbar\": {\"outlinewidth\": 0, \"ticks\": \"\"}}, \"type\": \"scatterpolargl\"}], \"scatterternary\": [{\"marker\": {\"colorbar\": {\"outlinewidth\": 0, \"ticks\": \"\"}}, \"type\": \"scatterternary\"}], \"surface\": [{\"colorbar\": {\"outlinewidth\": 0, \"ticks\": \"\"}, \"colorscale\": [[0.0, \"#0d0887\"], [0.1111111111111111, \"#46039f\"], [0.2222222222222222, \"#7201a8\"], [0.3333333333333333, \"#9c179e\"], [0.4444444444444444, \"#bd3786\"], [0.5555555555555556, \"#d8576b\"], [0.6666666666666666, \"#ed7953\"], [0.7777777777777778, \"#fb9f3a\"], [0.8888888888888888, \"#fdca26\"], [1.0, \"#f0f921\"]], \"type\": \"surface\"}], \"table\": [{\"cells\": {\"fill\": {\"color\": \"#EBF0F8\"}, \"line\": {\"color\": \"white\"}}, \"header\": {\"fill\": {\"color\": \"#C8D4E3\"}, \"line\": {\"color\": \"white\"}}, \"type\": \"table\"}]}, \"layout\": {\"annotationdefaults\": {\"arrowcolor\": \"#2a3f5f\", \"arrowhead\": 0, \"arrowwidth\": 1}, \"coloraxis\": {\"colorbar\": {\"outlinewidth\": 0, \"ticks\": \"\"}}, \"colorscale\": {\"diverging\": [[0, \"#8e0152\"], [0.1, \"#c51b7d\"], [0.2, \"#de77ae\"], [0.3, \"#f1b6da\"], [0.4, \"#fde0ef\"], [0.5, \"#f7f7f7\"], [0.6, \"#e6f5d0\"], [0.7, \"#b8e186\"], [0.8, \"#7fbc41\"], [0.9, \"#4d9221\"], [1, \"#276419\"]], \"sequential\": [[0.0, \"#0d0887\"], [0.1111111111111111, \"#46039f\"], [0.2222222222222222, \"#7201a8\"], [0.3333333333333333, \"#9c179e\"], [0.4444444444444444, \"#bd3786\"], [0.5555555555555556, \"#d8576b\"], [0.6666666666666666, \"#ed7953\"], [0.7777777777777778, \"#fb9f3a\"], [0.8888888888888888, \"#fdca26\"], [1.0, \"#f0f921\"]], \"sequentialminus\": [[0.0, \"#0d0887\"], [0.1111111111111111, \"#46039f\"], [0.2222222222222222, \"#7201a8\"], [0.3333333333333333, \"#9c179e\"], [0.4444444444444444, \"#bd3786\"], [0.5555555555555556, \"#d8576b\"], [0.6666666666666666, \"#ed7953\"], [0.7777777777777778, \"#fb9f3a\"], [0.8888888888888888, \"#fdca26\"], [1.0, \"#f0f921\"]]}, \"colorway\": [\"#636efa\", \"#EF553B\", \"#00cc96\", \"#ab63fa\", \"#FFA15A\", \"#19d3f3\", \"#FF6692\", \"#B6E880\", \"#FF97FF\", \"#FECB52\"], \"font\": {\"color\": \"#2a3f5f\"}, \"geo\": {\"bgcolor\": \"white\", \"lakecolor\": \"white\", \"landcolor\": \"#E5ECF6\", \"showlakes\": true, \"showland\": true, \"subunitcolor\": \"white\"}, \"hoverlabel\": {\"align\": \"left\"}, \"hovermode\": \"closest\", \"mapbox\": {\"style\": \"light\"}, \"paper_bgcolor\": \"white\", \"plot_bgcolor\": \"#E5ECF6\", \"polar\": {\"angularaxis\": {\"gridcolor\": \"white\", \"linecolor\": \"white\", \"ticks\": \"\"}, \"bgcolor\": \"#E5ECF6\", \"radialaxis\": {\"gridcolor\": \"white\", \"linecolor\": \"white\", \"ticks\": \"\"}}, \"scene\": {\"xaxis\": {\"backgroundcolor\": \"#E5ECF6\", \"gridcolor\": \"white\", \"gridwidth\": 2, \"linecolor\": \"white\", \"showbackground\": true, \"ticks\": \"\", \"zerolinecolor\": \"white\"}, \"yaxis\": {\"backgroundcolor\": \"#E5ECF6\", \"gridcolor\": \"white\", \"gridwidth\": 2, \"linecolor\": \"white\", \"showbackground\": true, \"ticks\": \"\", \"zerolinecolor\": \"white\"}, \"zaxis\": {\"backgroundcolor\": \"#E5ECF6\", \"gridcolor\": \"white\", \"gridwidth\": 2, \"linecolor\": \"white\", \"showbackground\": true, \"ticks\": \"\", \"zerolinecolor\": \"white\"}}, \"shapedefaults\": {\"line\": {\"color\": \"#2a3f5f\"}}, \"ternary\": {\"aaxis\": {\"gridcolor\": \"white\", \"linecolor\": \"white\", \"ticks\": \"\"}, \"baxis\": {\"gridcolor\": \"white\", \"linecolor\": \"white\", \"ticks\": \"\"}, \"bgcolor\": \"#E5ECF6\", \"caxis\": {\"gridcolor\": \"white\", \"linecolor\": \"white\", \"ticks\": \"\"}}, \"title\": {\"x\": 0.05}, \"xaxis\": {\"automargin\": true, \"gridcolor\": \"white\", \"linecolor\": \"white\", \"ticks\": \"\", \"title\": {\"standoff\": 15}, \"zerolinecolor\": \"white\", \"zerolinewidth\": 2}, \"yaxis\": {\"automargin\": true, \"gridcolor\": \"white\", \"linecolor\": \"white\", \"ticks\": \"\", \"title\": {\"standoff\": 15}, \"zerolinecolor\": \"white\", \"zerolinewidth\": 2}}}, \"title\": {\"text\": \"Avg Points Per Game By Team\", \"x\": 0.5, \"xanchor\": \"center\", \"y\": 0.95, \"yanchor\": \"top\"}},\n",
       "                        {\"responsive\": true}\n",
       "                    ).then(function(){\n",
       "                            \n",
       "var gd = document.getElementById('c57a18a2-da26-452f-818e-1be3528c1135');\n",
       "var x = new MutationObserver(function (mutations, observer) {{\n",
       "        var display = window.getComputedStyle(gd).display;\n",
       "        if (!display || display === 'none') {{\n",
       "            console.log([gd, 'removed!']);\n",
       "            Plotly.purge(gd);\n",
       "            observer.disconnect();\n",
       "        }}\n",
       "}});\n",
       "\n",
       "// Listen for the removal of the full notebook cells\n",
       "var notebookContainer = gd.closest('#notebook-container');\n",
       "if (notebookContainer) {{\n",
       "    x.observe(notebookContainer, {childList: true});\n",
       "}}\n",
       "\n",
       "// Listen for the clearing of the current output cell\n",
       "var outputEl = gd.closest('.output');\n",
       "if (outputEl) {{\n",
       "    x.observe(outputEl, {childList: true});\n",
       "}}\n",
       "\n",
       "                        })\n",
       "                };\n",
       "                });\n",
       "            </script>\n",
       "        </div>"
      ]
     },
     "metadata": {},
     "output_type": "display_data"
    }
   ],
   "source": [
    "fig = go.Figure(data=[go.Bar(name='2017', x = team_by_wins['team'], y = pt_avg2017),\\\n",
    "                      go.Bar(name='2018', x = team_by_wins['team'], y = pt_avg2018)])\n",
    "\n",
    "layout = go.Layout(\n",
    "    title = 'Avg Points Per Game',\n",
    "    xaxis= dict(title= 'Game',ticklen= 1,zeroline= False),\n",
    "    yaxis= dict(title= 'Points',ticklen= 5,zeroline= False)\n",
    ")\n",
    "\n",
    "fig.update_layout(\n",
    "    title={\n",
    "        'text':'Avg Points Per Game By Team',\n",
    "        'y':0.95,\n",
    "        'x':0.5,\n",
    "        'xanchor': 'center',\n",
    "        'yanchor': 'top'},\n",
    "        barmode='group')\n",
    "fig"
   ]
  },
  {
   "cell_type": "markdown",
   "metadata": {},
   "source": [
    "Average points per game do not directly correlate to wins, and yard differential appears to be a better indicator. Yard differential may even help us understand weather impacts."
   ]
  },
  {
   "cell_type": "code",
   "execution_count": 71,
   "metadata": {},
   "outputs": [],
   "source": [
    "team_pass_yards_2017 = []\n",
    "team_run_yards_2017 = []\n",
    "for team in team_by_wins['team']:\n",
    "    pass_yards_2017 = sum(nfl_small2_end_of_drive[(nfl_small2_end_of_drive['posteam']==team) &\\\n",
    "                                             (nfl_small2_end_of_drive['year'] == 2017) &\\\n",
    "                                            (nfl_small2_end_of_drive['play_type'] == 'pass')]['yards_gained'])/16\n",
    "\n",
    "    run_yards_2017 = sum(nfl_small2_end_of_drive[(nfl_small2_end_of_drive['posteam']==team) &\\\n",
    "                                            (nfl_small2_end_of_drive['year'] == 2017) &\\\n",
    "                                            (nfl_small2_end_of_drive['play_type'] == 'run')]['yards_gained'])/16\n",
    "\n",
    "    \n",
    "    \n",
    "    team_pass_yards_2017.append(pass_yards_2017)\n",
    "    team_run_yards_2017.append(run_yards_2017)\n",
    "\n",
    "\n",
    "team_pass_yards_2018 = []\n",
    "team_run_yards_2018 = []\n",
    "for team in team_by_wins['team']:\n",
    "    pass_yards_2018 = sum(nfl_small2_end_of_drive[(nfl_small2_end_of_drive['posteam']==team) &\\\n",
    "                                             (nfl_small2_end_of_drive['year'] == 2018) &\\\n",
    "                                            (nfl_small2_end_of_drive['play_type'] == 'pass')]['yards_gained'])/14\n",
    "\n",
    "    run_yards_2018 = sum(nfl_small2_end_of_drive[(nfl_small2_end_of_drive['posteam']==team) &\\\n",
    "                                            (nfl_small2_end_of_drive['year'] == 2018) &\\\n",
    "                                            (nfl_small2_end_of_drive['play_type'] == 'run')]['yards_gained'])/14\n",
    "\n",
    "    \n",
    "    \n",
    "    team_pass_yards_2018.append(pass_yards_2018)\n",
    "    team_run_yards_2018.append(run_yards_2018)"
   ]
  },
  {
   "cell_type": "code",
   "execution_count": 72,
   "metadata": {},
   "outputs": [
    {
     "data": {
      "application/vnd.plotly.v1+json": {
       "config": {
        "plotlyServerURL": "https://plot.ly"
       },
       "data": [
        {
         "marker": {
          "size": 12
         },
         "mode": "markers",
         "name": "2017",
         "text": [
          "ARI",
          "ATL",
          "BAL",
          "BUF",
          "CAR",
          "CHI",
          "CIN",
          "CLE",
          "DAL",
          "DEN",
          "DET",
          "GB",
          "HOU",
          "IND",
          "JAX",
          "KC",
          "LA",
          "LAC",
          "MIA",
          "MIN",
          "NE",
          "NO",
          "NYG",
          "NYJ",
          "OAK",
          "PHI",
          "PIT",
          "SEA",
          "SF",
          "TB",
          "TEN",
          "WAS"
         ],
         "type": "scatter",
         "x": [
          201.75,
          217.4375,
          227.1875,
          198.875,
          273.125,
          245.3125,
          227.3125,
          208.4375,
          195.125,
          198.0625,
          180.75,
          220.9375,
          224.9375,
          234.4375,
          261.6875,
          176.5625,
          204.875,
          249.375,
          173.9375,
          192.3125,
          228.4375,
          189.375,
          199.4375,
          196.375,
          276.9375,
          233.5625,
          234.5625,
          274.25,
          256.5,
          274.75,
          239.75,
          262.0625
         ],
         "y": [
          107.375,
          97.5625,
          97.75,
          107.4375,
          90.9375,
          104.625,
          87.4375,
          116.75,
          86.25,
          108,
          104.5,
          87.3125,
          144.1875,
          91.125,
          76.875,
          127.1875,
          115.4375,
          116.1875,
          112.1875,
          132.9375,
          101.8125,
          117.0625,
          115.375,
          136.125,
          100.9375,
          133.5625,
          124.0625,
          105.5625,
          117.6875,
          118.8125,
          123.125,
          130.875
         ]
        },
        {
         "marker": {
          "size": 12
         },
         "mode": "markers",
         "name": "2018",
         "text": [
          "ARI",
          "ATL",
          "BAL",
          "BUF",
          "CAR",
          "CHI",
          "CIN",
          "CLE",
          "DAL",
          "DEN",
          "DET",
          "GB",
          "HOU",
          "IND",
          "JAX",
          "KC",
          "LA",
          "LAC",
          "MIA",
          "MIN",
          "NE",
          "NO",
          "NYG",
          "NYJ",
          "OAK",
          "PHI",
          "PIT",
          "SEA",
          "SF",
          "TB",
          "TEN",
          "WAS"
         ],
         "type": "scatter",
         "x": [
          250.28571428571428,
          258.85714285714283,
          259.42857142857144,
          201.64285714285714,
          347.42857142857144,
          258.7857142857143,
          172.78571428571428,
          229.07142857142858,
          234.71428571428572,
          277.2857142857143,
          294.2142857142857,
          201.28571428571428,
          230.42857142857142,
          214,
          242.57142857142858,
          186,
          233.14285714285714,
          311,
          251.42857142857142,
          244.92857142857142,
          205.21428571428572,
          227.92857142857142,
          203.78571428571428,
          232.64285714285714,
          286.57142857142856,
          281,
          264.35714285714283,
          335.07142857142856,
          328,
          295.7857142857143,
          314.14285714285717,
          277.57142857142856
         ],
         "y": [
          137.35714285714286,
          109.14285714285714,
          107.92857142857143,
          111.92857142857143,
          105.85714285714286,
          133.21428571428572,
          89.78571428571429,
          123.85714285714286,
          112.14285714285714,
          121.28571428571429,
          115.64285714285714,
          122.78571428571429,
          118.71428571428571,
          122.57142857142857,
          109.14285714285714,
          140.42857142857142,
          131,
          96,
          124.85714285714286,
          142.5,
          174.71428571428572,
          142.78571428571428,
          142.14285714285714,
          144,
          130.92857142857142,
          105.14285714285714,
          95.42857142857143,
          104.85714285714286,
          123.71428571428571,
          120.42857142857143,
          141.28571428571428,
          147.21428571428572
         ]
        }
       ],
       "layout": {
        "template": {
         "data": {
          "bar": [
           {
            "error_x": {
             "color": "#2a3f5f"
            },
            "error_y": {
             "color": "#2a3f5f"
            },
            "marker": {
             "line": {
              "color": "#E5ECF6",
              "width": 0.5
             }
            },
            "type": "bar"
           }
          ],
          "barpolar": [
           {
            "marker": {
             "line": {
              "color": "#E5ECF6",
              "width": 0.5
             }
            },
            "type": "barpolar"
           }
          ],
          "carpet": [
           {
            "aaxis": {
             "endlinecolor": "#2a3f5f",
             "gridcolor": "white",
             "linecolor": "white",
             "minorgridcolor": "white",
             "startlinecolor": "#2a3f5f"
            },
            "baxis": {
             "endlinecolor": "#2a3f5f",
             "gridcolor": "white",
             "linecolor": "white",
             "minorgridcolor": "white",
             "startlinecolor": "#2a3f5f"
            },
            "type": "carpet"
           }
          ],
          "choropleth": [
           {
            "colorbar": {
             "outlinewidth": 0,
             "ticks": ""
            },
            "type": "choropleth"
           }
          ],
          "contour": [
           {
            "colorbar": {
             "outlinewidth": 0,
             "ticks": ""
            },
            "colorscale": [
             [
              0,
              "#0d0887"
             ],
             [
              0.1111111111111111,
              "#46039f"
             ],
             [
              0.2222222222222222,
              "#7201a8"
             ],
             [
              0.3333333333333333,
              "#9c179e"
             ],
             [
              0.4444444444444444,
              "#bd3786"
             ],
             [
              0.5555555555555556,
              "#d8576b"
             ],
             [
              0.6666666666666666,
              "#ed7953"
             ],
             [
              0.7777777777777778,
              "#fb9f3a"
             ],
             [
              0.8888888888888888,
              "#fdca26"
             ],
             [
              1,
              "#f0f921"
             ]
            ],
            "type": "contour"
           }
          ],
          "contourcarpet": [
           {
            "colorbar": {
             "outlinewidth": 0,
             "ticks": ""
            },
            "type": "contourcarpet"
           }
          ],
          "heatmap": [
           {
            "colorbar": {
             "outlinewidth": 0,
             "ticks": ""
            },
            "colorscale": [
             [
              0,
              "#0d0887"
             ],
             [
              0.1111111111111111,
              "#46039f"
             ],
             [
              0.2222222222222222,
              "#7201a8"
             ],
             [
              0.3333333333333333,
              "#9c179e"
             ],
             [
              0.4444444444444444,
              "#bd3786"
             ],
             [
              0.5555555555555556,
              "#d8576b"
             ],
             [
              0.6666666666666666,
              "#ed7953"
             ],
             [
              0.7777777777777778,
              "#fb9f3a"
             ],
             [
              0.8888888888888888,
              "#fdca26"
             ],
             [
              1,
              "#f0f921"
             ]
            ],
            "type": "heatmap"
           }
          ],
          "heatmapgl": [
           {
            "colorbar": {
             "outlinewidth": 0,
             "ticks": ""
            },
            "colorscale": [
             [
              0,
              "#0d0887"
             ],
             [
              0.1111111111111111,
              "#46039f"
             ],
             [
              0.2222222222222222,
              "#7201a8"
             ],
             [
              0.3333333333333333,
              "#9c179e"
             ],
             [
              0.4444444444444444,
              "#bd3786"
             ],
             [
              0.5555555555555556,
              "#d8576b"
             ],
             [
              0.6666666666666666,
              "#ed7953"
             ],
             [
              0.7777777777777778,
              "#fb9f3a"
             ],
             [
              0.8888888888888888,
              "#fdca26"
             ],
             [
              1,
              "#f0f921"
             ]
            ],
            "type": "heatmapgl"
           }
          ],
          "histogram": [
           {
            "marker": {
             "colorbar": {
              "outlinewidth": 0,
              "ticks": ""
             }
            },
            "type": "histogram"
           }
          ],
          "histogram2d": [
           {
            "colorbar": {
             "outlinewidth": 0,
             "ticks": ""
            },
            "colorscale": [
             [
              0,
              "#0d0887"
             ],
             [
              0.1111111111111111,
              "#46039f"
             ],
             [
              0.2222222222222222,
              "#7201a8"
             ],
             [
              0.3333333333333333,
              "#9c179e"
             ],
             [
              0.4444444444444444,
              "#bd3786"
             ],
             [
              0.5555555555555556,
              "#d8576b"
             ],
             [
              0.6666666666666666,
              "#ed7953"
             ],
             [
              0.7777777777777778,
              "#fb9f3a"
             ],
             [
              0.8888888888888888,
              "#fdca26"
             ],
             [
              1,
              "#f0f921"
             ]
            ],
            "type": "histogram2d"
           }
          ],
          "histogram2dcontour": [
           {
            "colorbar": {
             "outlinewidth": 0,
             "ticks": ""
            },
            "colorscale": [
             [
              0,
              "#0d0887"
             ],
             [
              0.1111111111111111,
              "#46039f"
             ],
             [
              0.2222222222222222,
              "#7201a8"
             ],
             [
              0.3333333333333333,
              "#9c179e"
             ],
             [
              0.4444444444444444,
              "#bd3786"
             ],
             [
              0.5555555555555556,
              "#d8576b"
             ],
             [
              0.6666666666666666,
              "#ed7953"
             ],
             [
              0.7777777777777778,
              "#fb9f3a"
             ],
             [
              0.8888888888888888,
              "#fdca26"
             ],
             [
              1,
              "#f0f921"
             ]
            ],
            "type": "histogram2dcontour"
           }
          ],
          "mesh3d": [
           {
            "colorbar": {
             "outlinewidth": 0,
             "ticks": ""
            },
            "type": "mesh3d"
           }
          ],
          "parcoords": [
           {
            "line": {
             "colorbar": {
              "outlinewidth": 0,
              "ticks": ""
             }
            },
            "type": "parcoords"
           }
          ],
          "pie": [
           {
            "automargin": true,
            "type": "pie"
           }
          ],
          "scatter": [
           {
            "marker": {
             "colorbar": {
              "outlinewidth": 0,
              "ticks": ""
             }
            },
            "type": "scatter"
           }
          ],
          "scatter3d": [
           {
            "line": {
             "colorbar": {
              "outlinewidth": 0,
              "ticks": ""
             }
            },
            "marker": {
             "colorbar": {
              "outlinewidth": 0,
              "ticks": ""
             }
            },
            "type": "scatter3d"
           }
          ],
          "scattercarpet": [
           {
            "marker": {
             "colorbar": {
              "outlinewidth": 0,
              "ticks": ""
             }
            },
            "type": "scattercarpet"
           }
          ],
          "scattergeo": [
           {
            "marker": {
             "colorbar": {
              "outlinewidth": 0,
              "ticks": ""
             }
            },
            "type": "scattergeo"
           }
          ],
          "scattergl": [
           {
            "marker": {
             "colorbar": {
              "outlinewidth": 0,
              "ticks": ""
             }
            },
            "type": "scattergl"
           }
          ],
          "scattermapbox": [
           {
            "marker": {
             "colorbar": {
              "outlinewidth": 0,
              "ticks": ""
             }
            },
            "type": "scattermapbox"
           }
          ],
          "scatterpolar": [
           {
            "marker": {
             "colorbar": {
              "outlinewidth": 0,
              "ticks": ""
             }
            },
            "type": "scatterpolar"
           }
          ],
          "scatterpolargl": [
           {
            "marker": {
             "colorbar": {
              "outlinewidth": 0,
              "ticks": ""
             }
            },
            "type": "scatterpolargl"
           }
          ],
          "scatterternary": [
           {
            "marker": {
             "colorbar": {
              "outlinewidth": 0,
              "ticks": ""
             }
            },
            "type": "scatterternary"
           }
          ],
          "surface": [
           {
            "colorbar": {
             "outlinewidth": 0,
             "ticks": ""
            },
            "colorscale": [
             [
              0,
              "#0d0887"
             ],
             [
              0.1111111111111111,
              "#46039f"
             ],
             [
              0.2222222222222222,
              "#7201a8"
             ],
             [
              0.3333333333333333,
              "#9c179e"
             ],
             [
              0.4444444444444444,
              "#bd3786"
             ],
             [
              0.5555555555555556,
              "#d8576b"
             ],
             [
              0.6666666666666666,
              "#ed7953"
             ],
             [
              0.7777777777777778,
              "#fb9f3a"
             ],
             [
              0.8888888888888888,
              "#fdca26"
             ],
             [
              1,
              "#f0f921"
             ]
            ],
            "type": "surface"
           }
          ],
          "table": [
           {
            "cells": {
             "fill": {
              "color": "#EBF0F8"
             },
             "line": {
              "color": "white"
             }
            },
            "header": {
             "fill": {
              "color": "#C8D4E3"
             },
             "line": {
              "color": "white"
             }
            },
            "type": "table"
           }
          ]
         },
         "layout": {
          "annotationdefaults": {
           "arrowcolor": "#2a3f5f",
           "arrowhead": 0,
           "arrowwidth": 1
          },
          "coloraxis": {
           "colorbar": {
            "outlinewidth": 0,
            "ticks": ""
           }
          },
          "colorscale": {
           "diverging": [
            [
             0,
             "#8e0152"
            ],
            [
             0.1,
             "#c51b7d"
            ],
            [
             0.2,
             "#de77ae"
            ],
            [
             0.3,
             "#f1b6da"
            ],
            [
             0.4,
             "#fde0ef"
            ],
            [
             0.5,
             "#f7f7f7"
            ],
            [
             0.6,
             "#e6f5d0"
            ],
            [
             0.7,
             "#b8e186"
            ],
            [
             0.8,
             "#7fbc41"
            ],
            [
             0.9,
             "#4d9221"
            ],
            [
             1,
             "#276419"
            ]
           ],
           "sequential": [
            [
             0,
             "#0d0887"
            ],
            [
             0.1111111111111111,
             "#46039f"
            ],
            [
             0.2222222222222222,
             "#7201a8"
            ],
            [
             0.3333333333333333,
             "#9c179e"
            ],
            [
             0.4444444444444444,
             "#bd3786"
            ],
            [
             0.5555555555555556,
             "#d8576b"
            ],
            [
             0.6666666666666666,
             "#ed7953"
            ],
            [
             0.7777777777777778,
             "#fb9f3a"
            ],
            [
             0.8888888888888888,
             "#fdca26"
            ],
            [
             1,
             "#f0f921"
            ]
           ],
           "sequentialminus": [
            [
             0,
             "#0d0887"
            ],
            [
             0.1111111111111111,
             "#46039f"
            ],
            [
             0.2222222222222222,
             "#7201a8"
            ],
            [
             0.3333333333333333,
             "#9c179e"
            ],
            [
             0.4444444444444444,
             "#bd3786"
            ],
            [
             0.5555555555555556,
             "#d8576b"
            ],
            [
             0.6666666666666666,
             "#ed7953"
            ],
            [
             0.7777777777777778,
             "#fb9f3a"
            ],
            [
             0.8888888888888888,
             "#fdca26"
            ],
            [
             1,
             "#f0f921"
            ]
           ]
          },
          "colorway": [
           "#636efa",
           "#EF553B",
           "#00cc96",
           "#ab63fa",
           "#FFA15A",
           "#19d3f3",
           "#FF6692",
           "#B6E880",
           "#FF97FF",
           "#FECB52"
          ],
          "font": {
           "color": "#2a3f5f"
          },
          "geo": {
           "bgcolor": "white",
           "lakecolor": "white",
           "landcolor": "#E5ECF6",
           "showlakes": true,
           "showland": true,
           "subunitcolor": "white"
          },
          "hoverlabel": {
           "align": "left"
          },
          "hovermode": "closest",
          "mapbox": {
           "style": "light"
          },
          "paper_bgcolor": "white",
          "plot_bgcolor": "#E5ECF6",
          "polar": {
           "angularaxis": {
            "gridcolor": "white",
            "linecolor": "white",
            "ticks": ""
           },
           "bgcolor": "#E5ECF6",
           "radialaxis": {
            "gridcolor": "white",
            "linecolor": "white",
            "ticks": ""
           }
          },
          "scene": {
           "xaxis": {
            "backgroundcolor": "#E5ECF6",
            "gridcolor": "white",
            "gridwidth": 2,
            "linecolor": "white",
            "showbackground": true,
            "ticks": "",
            "zerolinecolor": "white"
           },
           "yaxis": {
            "backgroundcolor": "#E5ECF6",
            "gridcolor": "white",
            "gridwidth": 2,
            "linecolor": "white",
            "showbackground": true,
            "ticks": "",
            "zerolinecolor": "white"
           },
           "zaxis": {
            "backgroundcolor": "#E5ECF6",
            "gridcolor": "white",
            "gridwidth": 2,
            "linecolor": "white",
            "showbackground": true,
            "ticks": "",
            "zerolinecolor": "white"
           }
          },
          "shapedefaults": {
           "line": {
            "color": "#2a3f5f"
           }
          },
          "ternary": {
           "aaxis": {
            "gridcolor": "white",
            "linecolor": "white",
            "ticks": ""
           },
           "baxis": {
            "gridcolor": "white",
            "linecolor": "white",
            "ticks": ""
           },
           "bgcolor": "#E5ECF6",
           "caxis": {
            "gridcolor": "white",
            "linecolor": "white",
            "ticks": ""
           }
          },
          "title": {
           "x": 0.05
          },
          "xaxis": {
           "automargin": true,
           "gridcolor": "white",
           "linecolor": "white",
           "ticks": "",
           "title": {
            "standoff": 15
           },
           "zerolinecolor": "white",
           "zerolinewidth": 2
          },
          "yaxis": {
           "automargin": true,
           "gridcolor": "white",
           "linecolor": "white",
           "ticks": "",
           "title": {
            "standoff": 15
           },
           "zerolinecolor": "white",
           "zerolinewidth": 2
          }
         }
        },
        "title": {
         "text": "Run to Pass Ratio (Avg Game Yards)",
         "x": 0.5,
         "xanchor": "center",
         "y": 0.9,
         "yanchor": "top"
        },
        "xaxis": {
         "ticklen": 1,
         "title": {
          "text": "Passing Yards"
         }
        },
        "yaxis": {
         "ticklen": 5,
         "title": {
          "text": "Rushing Yards"
         }
        }
       }
      },
      "text/html": [
       "<div>\n",
       "        \n",
       "        \n",
       "            <div id=\"05f85956-88fb-41e6-85c0-5c218bfb7016\" class=\"plotly-graph-div\" style=\"height:525px; width:100%;\"></div>\n",
       "            <script type=\"text/javascript\">\n",
       "                require([\"plotly\"], function(Plotly) {\n",
       "                    window.PLOTLYENV=window.PLOTLYENV || {};\n",
       "                    \n",
       "                if (document.getElementById(\"05f85956-88fb-41e6-85c0-5c218bfb7016\")) {\n",
       "                    Plotly.newPlot(\n",
       "                        '05f85956-88fb-41e6-85c0-5c218bfb7016',\n",
       "                        [{\"marker\": {\"size\": 12}, \"mode\": \"markers\", \"name\": \"2017\", \"text\": [\"ARI\", \"ATL\", \"BAL\", \"BUF\", \"CAR\", \"CHI\", \"CIN\", \"CLE\", \"DAL\", \"DEN\", \"DET\", \"GB\", \"HOU\", \"IND\", \"JAX\", \"KC\", \"LA\", \"LAC\", \"MIA\", \"MIN\", \"NE\", \"NO\", \"NYG\", \"NYJ\", \"OAK\", \"PHI\", \"PIT\", \"SEA\", \"SF\", \"TB\", \"TEN\", \"WAS\"], \"type\": \"scatter\", \"x\": [201.75, 217.4375, 227.1875, 198.875, 273.125, 245.3125, 227.3125, 208.4375, 195.125, 198.0625, 180.75, 220.9375, 224.9375, 234.4375, 261.6875, 176.5625, 204.875, 249.375, 173.9375, 192.3125, 228.4375, 189.375, 199.4375, 196.375, 276.9375, 233.5625, 234.5625, 274.25, 256.5, 274.75, 239.75, 262.0625], \"y\": [107.375, 97.5625, 97.75, 107.4375, 90.9375, 104.625, 87.4375, 116.75, 86.25, 108.0, 104.5, 87.3125, 144.1875, 91.125, 76.875, 127.1875, 115.4375, 116.1875, 112.1875, 132.9375, 101.8125, 117.0625, 115.375, 136.125, 100.9375, 133.5625, 124.0625, 105.5625, 117.6875, 118.8125, 123.125, 130.875]}, {\"marker\": {\"size\": 12}, \"mode\": \"markers\", \"name\": \"2018\", \"text\": [\"ARI\", \"ATL\", \"BAL\", \"BUF\", \"CAR\", \"CHI\", \"CIN\", \"CLE\", \"DAL\", \"DEN\", \"DET\", \"GB\", \"HOU\", \"IND\", \"JAX\", \"KC\", \"LA\", \"LAC\", \"MIA\", \"MIN\", \"NE\", \"NO\", \"NYG\", \"NYJ\", \"OAK\", \"PHI\", \"PIT\", \"SEA\", \"SF\", \"TB\", \"TEN\", \"WAS\"], \"type\": \"scatter\", \"x\": [250.28571428571428, 258.85714285714283, 259.42857142857144, 201.64285714285714, 347.42857142857144, 258.7857142857143, 172.78571428571428, 229.07142857142858, 234.71428571428572, 277.2857142857143, 294.2142857142857, 201.28571428571428, 230.42857142857142, 214.0, 242.57142857142858, 186.0, 233.14285714285714, 311.0, 251.42857142857142, 244.92857142857142, 205.21428571428572, 227.92857142857142, 203.78571428571428, 232.64285714285714, 286.57142857142856, 281.0, 264.35714285714283, 335.07142857142856, 328.0, 295.7857142857143, 314.14285714285717, 277.57142857142856], \"y\": [137.35714285714286, 109.14285714285714, 107.92857142857143, 111.92857142857143, 105.85714285714286, 133.21428571428572, 89.78571428571429, 123.85714285714286, 112.14285714285714, 121.28571428571429, 115.64285714285714, 122.78571428571429, 118.71428571428571, 122.57142857142857, 109.14285714285714, 140.42857142857142, 131.0, 96.0, 124.85714285714286, 142.5, 174.71428571428572, 142.78571428571428, 142.14285714285714, 144.0, 130.92857142857142, 105.14285714285714, 95.42857142857143, 104.85714285714286, 123.71428571428571, 120.42857142857143, 141.28571428571428, 147.21428571428572]}],\n",
       "                        {\"template\": {\"data\": {\"bar\": [{\"error_x\": {\"color\": \"#2a3f5f\"}, \"error_y\": {\"color\": \"#2a3f5f\"}, \"marker\": {\"line\": {\"color\": \"#E5ECF6\", \"width\": 0.5}}, \"type\": \"bar\"}], \"barpolar\": [{\"marker\": {\"line\": {\"color\": \"#E5ECF6\", \"width\": 0.5}}, \"type\": \"barpolar\"}], \"carpet\": [{\"aaxis\": {\"endlinecolor\": \"#2a3f5f\", \"gridcolor\": \"white\", \"linecolor\": \"white\", \"minorgridcolor\": \"white\", \"startlinecolor\": \"#2a3f5f\"}, \"baxis\": {\"endlinecolor\": \"#2a3f5f\", \"gridcolor\": \"white\", \"linecolor\": \"white\", \"minorgridcolor\": \"white\", \"startlinecolor\": \"#2a3f5f\"}, \"type\": \"carpet\"}], \"choropleth\": [{\"colorbar\": {\"outlinewidth\": 0, \"ticks\": \"\"}, \"type\": \"choropleth\"}], \"contour\": [{\"colorbar\": {\"outlinewidth\": 0, \"ticks\": \"\"}, \"colorscale\": [[0.0, \"#0d0887\"], [0.1111111111111111, \"#46039f\"], [0.2222222222222222, \"#7201a8\"], [0.3333333333333333, \"#9c179e\"], [0.4444444444444444, \"#bd3786\"], [0.5555555555555556, \"#d8576b\"], [0.6666666666666666, \"#ed7953\"], [0.7777777777777778, \"#fb9f3a\"], [0.8888888888888888, \"#fdca26\"], [1.0, \"#f0f921\"]], \"type\": \"contour\"}], \"contourcarpet\": [{\"colorbar\": {\"outlinewidth\": 0, \"ticks\": \"\"}, \"type\": \"contourcarpet\"}], \"heatmap\": [{\"colorbar\": {\"outlinewidth\": 0, \"ticks\": \"\"}, \"colorscale\": [[0.0, \"#0d0887\"], [0.1111111111111111, \"#46039f\"], [0.2222222222222222, \"#7201a8\"], [0.3333333333333333, \"#9c179e\"], [0.4444444444444444, \"#bd3786\"], [0.5555555555555556, \"#d8576b\"], [0.6666666666666666, \"#ed7953\"], [0.7777777777777778, \"#fb9f3a\"], [0.8888888888888888, \"#fdca26\"], [1.0, \"#f0f921\"]], \"type\": \"heatmap\"}], \"heatmapgl\": [{\"colorbar\": {\"outlinewidth\": 0, \"ticks\": \"\"}, \"colorscale\": [[0.0, \"#0d0887\"], [0.1111111111111111, \"#46039f\"], [0.2222222222222222, \"#7201a8\"], [0.3333333333333333, \"#9c179e\"], [0.4444444444444444, \"#bd3786\"], [0.5555555555555556, \"#d8576b\"], [0.6666666666666666, \"#ed7953\"], [0.7777777777777778, \"#fb9f3a\"], [0.8888888888888888, \"#fdca26\"], [1.0, \"#f0f921\"]], \"type\": \"heatmapgl\"}], \"histogram\": [{\"marker\": {\"colorbar\": {\"outlinewidth\": 0, \"ticks\": \"\"}}, \"type\": \"histogram\"}], \"histogram2d\": [{\"colorbar\": {\"outlinewidth\": 0, \"ticks\": \"\"}, \"colorscale\": [[0.0, \"#0d0887\"], [0.1111111111111111, \"#46039f\"], [0.2222222222222222, \"#7201a8\"], [0.3333333333333333, \"#9c179e\"], [0.4444444444444444, \"#bd3786\"], [0.5555555555555556, \"#d8576b\"], [0.6666666666666666, \"#ed7953\"], [0.7777777777777778, \"#fb9f3a\"], [0.8888888888888888, \"#fdca26\"], [1.0, \"#f0f921\"]], \"type\": \"histogram2d\"}], \"histogram2dcontour\": [{\"colorbar\": {\"outlinewidth\": 0, \"ticks\": \"\"}, \"colorscale\": [[0.0, \"#0d0887\"], [0.1111111111111111, \"#46039f\"], [0.2222222222222222, \"#7201a8\"], [0.3333333333333333, \"#9c179e\"], [0.4444444444444444, \"#bd3786\"], [0.5555555555555556, \"#d8576b\"], [0.6666666666666666, \"#ed7953\"], [0.7777777777777778, \"#fb9f3a\"], [0.8888888888888888, \"#fdca26\"], [1.0, \"#f0f921\"]], \"type\": \"histogram2dcontour\"}], \"mesh3d\": [{\"colorbar\": {\"outlinewidth\": 0, \"ticks\": \"\"}, \"type\": \"mesh3d\"}], \"parcoords\": [{\"line\": {\"colorbar\": {\"outlinewidth\": 0, \"ticks\": \"\"}}, \"type\": \"parcoords\"}], \"pie\": [{\"automargin\": true, \"type\": \"pie\"}], \"scatter\": [{\"marker\": {\"colorbar\": {\"outlinewidth\": 0, \"ticks\": \"\"}}, \"type\": \"scatter\"}], \"scatter3d\": [{\"line\": {\"colorbar\": {\"outlinewidth\": 0, \"ticks\": \"\"}}, \"marker\": {\"colorbar\": {\"outlinewidth\": 0, \"ticks\": \"\"}}, \"type\": \"scatter3d\"}], \"scattercarpet\": [{\"marker\": {\"colorbar\": {\"outlinewidth\": 0, \"ticks\": \"\"}}, \"type\": \"scattercarpet\"}], \"scattergeo\": [{\"marker\": {\"colorbar\": {\"outlinewidth\": 0, \"ticks\": \"\"}}, \"type\": \"scattergeo\"}], \"scattergl\": [{\"marker\": {\"colorbar\": {\"outlinewidth\": 0, \"ticks\": \"\"}}, \"type\": \"scattergl\"}], \"scattermapbox\": [{\"marker\": {\"colorbar\": {\"outlinewidth\": 0, \"ticks\": \"\"}}, \"type\": \"scattermapbox\"}], \"scatterpolar\": [{\"marker\": {\"colorbar\": {\"outlinewidth\": 0, \"ticks\": \"\"}}, \"type\": \"scatterpolar\"}], \"scatterpolargl\": [{\"marker\": {\"colorbar\": {\"outlinewidth\": 0, \"ticks\": \"\"}}, \"type\": \"scatterpolargl\"}], \"scatterternary\": [{\"marker\": {\"colorbar\": {\"outlinewidth\": 0, \"ticks\": \"\"}}, \"type\": \"scatterternary\"}], \"surface\": [{\"colorbar\": {\"outlinewidth\": 0, \"ticks\": \"\"}, \"colorscale\": [[0.0, \"#0d0887\"], [0.1111111111111111, \"#46039f\"], [0.2222222222222222, \"#7201a8\"], [0.3333333333333333, \"#9c179e\"], [0.4444444444444444, \"#bd3786\"], [0.5555555555555556, \"#d8576b\"], [0.6666666666666666, \"#ed7953\"], [0.7777777777777778, \"#fb9f3a\"], [0.8888888888888888, \"#fdca26\"], [1.0, \"#f0f921\"]], \"type\": \"surface\"}], \"table\": [{\"cells\": {\"fill\": {\"color\": \"#EBF0F8\"}, \"line\": {\"color\": \"white\"}}, \"header\": {\"fill\": {\"color\": \"#C8D4E3\"}, \"line\": {\"color\": \"white\"}}, \"type\": \"table\"}]}, \"layout\": {\"annotationdefaults\": {\"arrowcolor\": \"#2a3f5f\", \"arrowhead\": 0, \"arrowwidth\": 1}, \"coloraxis\": {\"colorbar\": {\"outlinewidth\": 0, \"ticks\": \"\"}}, \"colorscale\": {\"diverging\": [[0, \"#8e0152\"], [0.1, \"#c51b7d\"], [0.2, \"#de77ae\"], [0.3, \"#f1b6da\"], [0.4, \"#fde0ef\"], [0.5, \"#f7f7f7\"], [0.6, \"#e6f5d0\"], [0.7, \"#b8e186\"], [0.8, \"#7fbc41\"], [0.9, \"#4d9221\"], [1, \"#276419\"]], \"sequential\": [[0.0, \"#0d0887\"], [0.1111111111111111, \"#46039f\"], [0.2222222222222222, \"#7201a8\"], [0.3333333333333333, \"#9c179e\"], [0.4444444444444444, \"#bd3786\"], [0.5555555555555556, \"#d8576b\"], [0.6666666666666666, \"#ed7953\"], [0.7777777777777778, \"#fb9f3a\"], [0.8888888888888888, \"#fdca26\"], [1.0, \"#f0f921\"]], \"sequentialminus\": [[0.0, \"#0d0887\"], [0.1111111111111111, \"#46039f\"], [0.2222222222222222, \"#7201a8\"], [0.3333333333333333, \"#9c179e\"], [0.4444444444444444, \"#bd3786\"], [0.5555555555555556, \"#d8576b\"], [0.6666666666666666, \"#ed7953\"], [0.7777777777777778, \"#fb9f3a\"], [0.8888888888888888, \"#fdca26\"], [1.0, \"#f0f921\"]]}, \"colorway\": [\"#636efa\", \"#EF553B\", \"#00cc96\", \"#ab63fa\", \"#FFA15A\", \"#19d3f3\", \"#FF6692\", \"#B6E880\", \"#FF97FF\", \"#FECB52\"], \"font\": {\"color\": \"#2a3f5f\"}, \"geo\": {\"bgcolor\": \"white\", \"lakecolor\": \"white\", \"landcolor\": \"#E5ECF6\", \"showlakes\": true, \"showland\": true, \"subunitcolor\": \"white\"}, \"hoverlabel\": {\"align\": \"left\"}, \"hovermode\": \"closest\", \"mapbox\": {\"style\": \"light\"}, \"paper_bgcolor\": \"white\", \"plot_bgcolor\": \"#E5ECF6\", \"polar\": {\"angularaxis\": {\"gridcolor\": \"white\", \"linecolor\": \"white\", \"ticks\": \"\"}, \"bgcolor\": \"#E5ECF6\", \"radialaxis\": {\"gridcolor\": \"white\", \"linecolor\": \"white\", \"ticks\": \"\"}}, \"scene\": {\"xaxis\": {\"backgroundcolor\": \"#E5ECF6\", \"gridcolor\": \"white\", \"gridwidth\": 2, \"linecolor\": \"white\", \"showbackground\": true, \"ticks\": \"\", \"zerolinecolor\": \"white\"}, \"yaxis\": {\"backgroundcolor\": \"#E5ECF6\", \"gridcolor\": \"white\", \"gridwidth\": 2, \"linecolor\": \"white\", \"showbackground\": true, \"ticks\": \"\", \"zerolinecolor\": \"white\"}, \"zaxis\": {\"backgroundcolor\": \"#E5ECF6\", \"gridcolor\": \"white\", \"gridwidth\": 2, \"linecolor\": \"white\", \"showbackground\": true, \"ticks\": \"\", \"zerolinecolor\": \"white\"}}, \"shapedefaults\": {\"line\": {\"color\": \"#2a3f5f\"}}, \"ternary\": {\"aaxis\": {\"gridcolor\": \"white\", \"linecolor\": \"white\", \"ticks\": \"\"}, \"baxis\": {\"gridcolor\": \"white\", \"linecolor\": \"white\", \"ticks\": \"\"}, \"bgcolor\": \"#E5ECF6\", \"caxis\": {\"gridcolor\": \"white\", \"linecolor\": \"white\", \"ticks\": \"\"}}, \"title\": {\"x\": 0.05}, \"xaxis\": {\"automargin\": true, \"gridcolor\": \"white\", \"linecolor\": \"white\", \"ticks\": \"\", \"title\": {\"standoff\": 15}, \"zerolinecolor\": \"white\", \"zerolinewidth\": 2}, \"yaxis\": {\"automargin\": true, \"gridcolor\": \"white\", \"linecolor\": \"white\", \"ticks\": \"\", \"title\": {\"standoff\": 15}, \"zerolinecolor\": \"white\", \"zerolinewidth\": 2}}}, \"title\": {\"text\": \"Run to Pass Ratio (Avg Game Yards)\", \"x\": 0.5, \"xanchor\": \"center\", \"y\": 0.9, \"yanchor\": \"top\"}, \"xaxis\": {\"ticklen\": 1, \"title\": {\"text\": \"Passing Yards\"}}, \"yaxis\": {\"ticklen\": 5, \"title\": {\"text\": \"Rushing Yards\"}}},\n",
       "                        {\"responsive\": true}\n",
       "                    ).then(function(){\n",
       "                            \n",
       "var gd = document.getElementById('05f85956-88fb-41e6-85c0-5c218bfb7016');\n",
       "var x = new MutationObserver(function (mutations, observer) {{\n",
       "        var display = window.getComputedStyle(gd).display;\n",
       "        if (!display || display === 'none') {{\n",
       "            console.log([gd, 'removed!']);\n",
       "            Plotly.purge(gd);\n",
       "            observer.disconnect();\n",
       "        }}\n",
       "}});\n",
       "\n",
       "// Listen for the removal of the full notebook cells\n",
       "var notebookContainer = gd.closest('#notebook-container');\n",
       "if (notebookContainer) {{\n",
       "    x.observe(notebookContainer, {childList: true});\n",
       "}}\n",
       "\n",
       "// Listen for the clearing of the current output cell\n",
       "var outputEl = gd.closest('.output');\n",
       "if (outputEl) {{\n",
       "    x.observe(outputEl, {childList: true});\n",
       "}}\n",
       "\n",
       "                        })\n",
       "                };\n",
       "                });\n",
       "            </script>\n",
       "        </div>"
      ]
     },
     "metadata": {},
     "output_type": "display_data"
    }
   ],
   "source": [
    "fig = go.Figure()\n",
    "\n",
    "\n",
    "fig.add_trace(go.Scatter(name='2017',x=team_pass_yards_2017, y=team_run_yards_2017, mode='markers',\\\n",
    "                                   text=teams, marker=dict(size=12))\n",
    "             )\n",
    "              \n",
    "fig.add_trace(go.Scatter(name='2018',x=team_pass_yards_2018, y=team_run_yards_2018, mode='markers',\\\n",
    "                                   text=teams, marker=dict(size=12))\n",
    "             )              \n",
    "              \n",
    "\n",
    "                               \n",
    "\n",
    "fig.update_layout(\n",
    "    title={\n",
    "        'text':'Run to Pass Ratio (Avg Game Yards)',\n",
    "        'y':0.9,\n",
    "        'x':0.5,\n",
    "        'xanchor': 'center',\n",
    "        'yanchor': 'top'},\n",
    "    xaxis= dict(title= 'Passing Yards',ticklen= 1),\n",
    "    yaxis= dict(title= 'Rushing Yards',ticklen= 5))\n",
    "\n",
    "fig"
   ]
  },
  {
   "cell_type": "code",
   "execution_count": 73,
   "metadata": {},
   "outputs": [],
   "source": [
    "pass_run_ratio_2017 = [round(x/y,2) for x,y in zip(team_pass_yards_2017, team_run_yards_2017)]\n",
    "pass_run_ratio_2018 = [round(x/y,2) for x,y in zip(team_pass_yards_2018, team_run_yards_2018)]"
   ]
  },
  {
   "cell_type": "code",
   "execution_count": 74,
   "metadata": {},
   "outputs": [
    {
     "data": {
      "application/vnd.plotly.v1+json": {
       "config": {
        "plotlyServerURL": "https://plot.ly"
       },
       "data": [
        {
         "name": "2017",
         "type": "bar",
         "x": [
          "CLE",
          "NYG",
          "OAK",
          "NYJ",
          "TB",
          "SF",
          "ARI",
          "DEN",
          "CIN",
          "GB",
          "IND",
          "MIA",
          "JAX",
          "WAS",
          "DET",
          "BUF",
          "HOU",
          "ATL",
          "CHI",
          "CAR",
          "SEA",
          "BAL",
          "TEN",
          "DAL",
          "LAC",
          "PHI",
          "MIN",
          "PIT",
          "KC",
          "NE",
          "LA",
          "NO"
         ],
         "y": [
          1.88,
          2.23,
          2.32,
          1.85,
          3,
          2.34,
          2.6,
          1.79,
          2.26,
          1.83,
          1.73,
          2.53,
          1.56,
          2.57,
          3.4,
          1.39,
          1.77,
          2.15,
          1.55,
          1.45,
          2.24,
          1.62,
          1.73,
          1.44,
          2.74,
          1.75,
          1.89,
          2.6,
          2.18,
          2.31,
          1.95,
          2
         ]
        },
        {
         "name": "2018",
         "type": "bar",
         "x": [
          "CLE",
          "NYG",
          "OAK",
          "NYJ",
          "TB",
          "SF",
          "ARI",
          "DEN",
          "CIN",
          "GB",
          "IND",
          "MIA",
          "JAX",
          "WAS",
          "DET",
          "BUF",
          "HOU",
          "ATL",
          "CHI",
          "CAR",
          "SEA",
          "BAL",
          "TEN",
          "DAL",
          "LAC",
          "PHI",
          "MIN",
          "PIT",
          "KC",
          "NE",
          "LA",
          "NO"
         ],
         "y": [
          1.82,
          2.37,
          2.4,
          1.8,
          3.28,
          1.94,
          1.92,
          1.85,
          2.09,
          2.29,
          2.54,
          1.64,
          1.94,
          1.75,
          2.22,
          1.32,
          1.78,
          3.24,
          2.01,
          1.72,
          1.17,
          1.6,
          1.43,
          1.62,
          2.19,
          2.67,
          2.77,
          3.2,
          2.65,
          2.46,
          2.22,
          1.89
         ]
        }
       ],
       "layout": {
        "barmode": "group",
        "template": {
         "data": {
          "bar": [
           {
            "error_x": {
             "color": "#2a3f5f"
            },
            "error_y": {
             "color": "#2a3f5f"
            },
            "marker": {
             "line": {
              "color": "#E5ECF6",
              "width": 0.5
             }
            },
            "type": "bar"
           }
          ],
          "barpolar": [
           {
            "marker": {
             "line": {
              "color": "#E5ECF6",
              "width": 0.5
             }
            },
            "type": "barpolar"
           }
          ],
          "carpet": [
           {
            "aaxis": {
             "endlinecolor": "#2a3f5f",
             "gridcolor": "white",
             "linecolor": "white",
             "minorgridcolor": "white",
             "startlinecolor": "#2a3f5f"
            },
            "baxis": {
             "endlinecolor": "#2a3f5f",
             "gridcolor": "white",
             "linecolor": "white",
             "minorgridcolor": "white",
             "startlinecolor": "#2a3f5f"
            },
            "type": "carpet"
           }
          ],
          "choropleth": [
           {
            "colorbar": {
             "outlinewidth": 0,
             "ticks": ""
            },
            "type": "choropleth"
           }
          ],
          "contour": [
           {
            "colorbar": {
             "outlinewidth": 0,
             "ticks": ""
            },
            "colorscale": [
             [
              0,
              "#0d0887"
             ],
             [
              0.1111111111111111,
              "#46039f"
             ],
             [
              0.2222222222222222,
              "#7201a8"
             ],
             [
              0.3333333333333333,
              "#9c179e"
             ],
             [
              0.4444444444444444,
              "#bd3786"
             ],
             [
              0.5555555555555556,
              "#d8576b"
             ],
             [
              0.6666666666666666,
              "#ed7953"
             ],
             [
              0.7777777777777778,
              "#fb9f3a"
             ],
             [
              0.8888888888888888,
              "#fdca26"
             ],
             [
              1,
              "#f0f921"
             ]
            ],
            "type": "contour"
           }
          ],
          "contourcarpet": [
           {
            "colorbar": {
             "outlinewidth": 0,
             "ticks": ""
            },
            "type": "contourcarpet"
           }
          ],
          "heatmap": [
           {
            "colorbar": {
             "outlinewidth": 0,
             "ticks": ""
            },
            "colorscale": [
             [
              0,
              "#0d0887"
             ],
             [
              0.1111111111111111,
              "#46039f"
             ],
             [
              0.2222222222222222,
              "#7201a8"
             ],
             [
              0.3333333333333333,
              "#9c179e"
             ],
             [
              0.4444444444444444,
              "#bd3786"
             ],
             [
              0.5555555555555556,
              "#d8576b"
             ],
             [
              0.6666666666666666,
              "#ed7953"
             ],
             [
              0.7777777777777778,
              "#fb9f3a"
             ],
             [
              0.8888888888888888,
              "#fdca26"
             ],
             [
              1,
              "#f0f921"
             ]
            ],
            "type": "heatmap"
           }
          ],
          "heatmapgl": [
           {
            "colorbar": {
             "outlinewidth": 0,
             "ticks": ""
            },
            "colorscale": [
             [
              0,
              "#0d0887"
             ],
             [
              0.1111111111111111,
              "#46039f"
             ],
             [
              0.2222222222222222,
              "#7201a8"
             ],
             [
              0.3333333333333333,
              "#9c179e"
             ],
             [
              0.4444444444444444,
              "#bd3786"
             ],
             [
              0.5555555555555556,
              "#d8576b"
             ],
             [
              0.6666666666666666,
              "#ed7953"
             ],
             [
              0.7777777777777778,
              "#fb9f3a"
             ],
             [
              0.8888888888888888,
              "#fdca26"
             ],
             [
              1,
              "#f0f921"
             ]
            ],
            "type": "heatmapgl"
           }
          ],
          "histogram": [
           {
            "marker": {
             "colorbar": {
              "outlinewidth": 0,
              "ticks": ""
             }
            },
            "type": "histogram"
           }
          ],
          "histogram2d": [
           {
            "colorbar": {
             "outlinewidth": 0,
             "ticks": ""
            },
            "colorscale": [
             [
              0,
              "#0d0887"
             ],
             [
              0.1111111111111111,
              "#46039f"
             ],
             [
              0.2222222222222222,
              "#7201a8"
             ],
             [
              0.3333333333333333,
              "#9c179e"
             ],
             [
              0.4444444444444444,
              "#bd3786"
             ],
             [
              0.5555555555555556,
              "#d8576b"
             ],
             [
              0.6666666666666666,
              "#ed7953"
             ],
             [
              0.7777777777777778,
              "#fb9f3a"
             ],
             [
              0.8888888888888888,
              "#fdca26"
             ],
             [
              1,
              "#f0f921"
             ]
            ],
            "type": "histogram2d"
           }
          ],
          "histogram2dcontour": [
           {
            "colorbar": {
             "outlinewidth": 0,
             "ticks": ""
            },
            "colorscale": [
             [
              0,
              "#0d0887"
             ],
             [
              0.1111111111111111,
              "#46039f"
             ],
             [
              0.2222222222222222,
              "#7201a8"
             ],
             [
              0.3333333333333333,
              "#9c179e"
             ],
             [
              0.4444444444444444,
              "#bd3786"
             ],
             [
              0.5555555555555556,
              "#d8576b"
             ],
             [
              0.6666666666666666,
              "#ed7953"
             ],
             [
              0.7777777777777778,
              "#fb9f3a"
             ],
             [
              0.8888888888888888,
              "#fdca26"
             ],
             [
              1,
              "#f0f921"
             ]
            ],
            "type": "histogram2dcontour"
           }
          ],
          "mesh3d": [
           {
            "colorbar": {
             "outlinewidth": 0,
             "ticks": ""
            },
            "type": "mesh3d"
           }
          ],
          "parcoords": [
           {
            "line": {
             "colorbar": {
              "outlinewidth": 0,
              "ticks": ""
             }
            },
            "type": "parcoords"
           }
          ],
          "pie": [
           {
            "automargin": true,
            "type": "pie"
           }
          ],
          "scatter": [
           {
            "marker": {
             "colorbar": {
              "outlinewidth": 0,
              "ticks": ""
             }
            },
            "type": "scatter"
           }
          ],
          "scatter3d": [
           {
            "line": {
             "colorbar": {
              "outlinewidth": 0,
              "ticks": ""
             }
            },
            "marker": {
             "colorbar": {
              "outlinewidth": 0,
              "ticks": ""
             }
            },
            "type": "scatter3d"
           }
          ],
          "scattercarpet": [
           {
            "marker": {
             "colorbar": {
              "outlinewidth": 0,
              "ticks": ""
             }
            },
            "type": "scattercarpet"
           }
          ],
          "scattergeo": [
           {
            "marker": {
             "colorbar": {
              "outlinewidth": 0,
              "ticks": ""
             }
            },
            "type": "scattergeo"
           }
          ],
          "scattergl": [
           {
            "marker": {
             "colorbar": {
              "outlinewidth": 0,
              "ticks": ""
             }
            },
            "type": "scattergl"
           }
          ],
          "scattermapbox": [
           {
            "marker": {
             "colorbar": {
              "outlinewidth": 0,
              "ticks": ""
             }
            },
            "type": "scattermapbox"
           }
          ],
          "scatterpolar": [
           {
            "marker": {
             "colorbar": {
              "outlinewidth": 0,
              "ticks": ""
             }
            },
            "type": "scatterpolar"
           }
          ],
          "scatterpolargl": [
           {
            "marker": {
             "colorbar": {
              "outlinewidth": 0,
              "ticks": ""
             }
            },
            "type": "scatterpolargl"
           }
          ],
          "scatterternary": [
           {
            "marker": {
             "colorbar": {
              "outlinewidth": 0,
              "ticks": ""
             }
            },
            "type": "scatterternary"
           }
          ],
          "surface": [
           {
            "colorbar": {
             "outlinewidth": 0,
             "ticks": ""
            },
            "colorscale": [
             [
              0,
              "#0d0887"
             ],
             [
              0.1111111111111111,
              "#46039f"
             ],
             [
              0.2222222222222222,
              "#7201a8"
             ],
             [
              0.3333333333333333,
              "#9c179e"
             ],
             [
              0.4444444444444444,
              "#bd3786"
             ],
             [
              0.5555555555555556,
              "#d8576b"
             ],
             [
              0.6666666666666666,
              "#ed7953"
             ],
             [
              0.7777777777777778,
              "#fb9f3a"
             ],
             [
              0.8888888888888888,
              "#fdca26"
             ],
             [
              1,
              "#f0f921"
             ]
            ],
            "type": "surface"
           }
          ],
          "table": [
           {
            "cells": {
             "fill": {
              "color": "#EBF0F8"
             },
             "line": {
              "color": "white"
             }
            },
            "header": {
             "fill": {
              "color": "#C8D4E3"
             },
             "line": {
              "color": "white"
             }
            },
            "type": "table"
           }
          ]
         },
         "layout": {
          "annotationdefaults": {
           "arrowcolor": "#2a3f5f",
           "arrowhead": 0,
           "arrowwidth": 1
          },
          "coloraxis": {
           "colorbar": {
            "outlinewidth": 0,
            "ticks": ""
           }
          },
          "colorscale": {
           "diverging": [
            [
             0,
             "#8e0152"
            ],
            [
             0.1,
             "#c51b7d"
            ],
            [
             0.2,
             "#de77ae"
            ],
            [
             0.3,
             "#f1b6da"
            ],
            [
             0.4,
             "#fde0ef"
            ],
            [
             0.5,
             "#f7f7f7"
            ],
            [
             0.6,
             "#e6f5d0"
            ],
            [
             0.7,
             "#b8e186"
            ],
            [
             0.8,
             "#7fbc41"
            ],
            [
             0.9,
             "#4d9221"
            ],
            [
             1,
             "#276419"
            ]
           ],
           "sequential": [
            [
             0,
             "#0d0887"
            ],
            [
             0.1111111111111111,
             "#46039f"
            ],
            [
             0.2222222222222222,
             "#7201a8"
            ],
            [
             0.3333333333333333,
             "#9c179e"
            ],
            [
             0.4444444444444444,
             "#bd3786"
            ],
            [
             0.5555555555555556,
             "#d8576b"
            ],
            [
             0.6666666666666666,
             "#ed7953"
            ],
            [
             0.7777777777777778,
             "#fb9f3a"
            ],
            [
             0.8888888888888888,
             "#fdca26"
            ],
            [
             1,
             "#f0f921"
            ]
           ],
           "sequentialminus": [
            [
             0,
             "#0d0887"
            ],
            [
             0.1111111111111111,
             "#46039f"
            ],
            [
             0.2222222222222222,
             "#7201a8"
            ],
            [
             0.3333333333333333,
             "#9c179e"
            ],
            [
             0.4444444444444444,
             "#bd3786"
            ],
            [
             0.5555555555555556,
             "#d8576b"
            ],
            [
             0.6666666666666666,
             "#ed7953"
            ],
            [
             0.7777777777777778,
             "#fb9f3a"
            ],
            [
             0.8888888888888888,
             "#fdca26"
            ],
            [
             1,
             "#f0f921"
            ]
           ]
          },
          "colorway": [
           "#636efa",
           "#EF553B",
           "#00cc96",
           "#ab63fa",
           "#FFA15A",
           "#19d3f3",
           "#FF6692",
           "#B6E880",
           "#FF97FF",
           "#FECB52"
          ],
          "font": {
           "color": "#2a3f5f"
          },
          "geo": {
           "bgcolor": "white",
           "lakecolor": "white",
           "landcolor": "#E5ECF6",
           "showlakes": true,
           "showland": true,
           "subunitcolor": "white"
          },
          "hoverlabel": {
           "align": "left"
          },
          "hovermode": "closest",
          "mapbox": {
           "style": "light"
          },
          "paper_bgcolor": "white",
          "plot_bgcolor": "#E5ECF6",
          "polar": {
           "angularaxis": {
            "gridcolor": "white",
            "linecolor": "white",
            "ticks": ""
           },
           "bgcolor": "#E5ECF6",
           "radialaxis": {
            "gridcolor": "white",
            "linecolor": "white",
            "ticks": ""
           }
          },
          "scene": {
           "xaxis": {
            "backgroundcolor": "#E5ECF6",
            "gridcolor": "white",
            "gridwidth": 2,
            "linecolor": "white",
            "showbackground": true,
            "ticks": "",
            "zerolinecolor": "white"
           },
           "yaxis": {
            "backgroundcolor": "#E5ECF6",
            "gridcolor": "white",
            "gridwidth": 2,
            "linecolor": "white",
            "showbackground": true,
            "ticks": "",
            "zerolinecolor": "white"
           },
           "zaxis": {
            "backgroundcolor": "#E5ECF6",
            "gridcolor": "white",
            "gridwidth": 2,
            "linecolor": "white",
            "showbackground": true,
            "ticks": "",
            "zerolinecolor": "white"
           }
          },
          "shapedefaults": {
           "line": {
            "color": "#2a3f5f"
           }
          },
          "ternary": {
           "aaxis": {
            "gridcolor": "white",
            "linecolor": "white",
            "ticks": ""
           },
           "baxis": {
            "gridcolor": "white",
            "linecolor": "white",
            "ticks": ""
           },
           "bgcolor": "#E5ECF6",
           "caxis": {
            "gridcolor": "white",
            "linecolor": "white",
            "ticks": ""
           }
          },
          "title": {
           "x": 0.05
          },
          "xaxis": {
           "automargin": true,
           "gridcolor": "white",
           "linecolor": "white",
           "ticks": "",
           "title": {
            "standoff": 15
           },
           "zerolinecolor": "white",
           "zerolinewidth": 2
          },
          "yaxis": {
           "automargin": true,
           "gridcolor": "white",
           "linecolor": "white",
           "ticks": "",
           "title": {
            "standoff": 15
           },
           "zerolinecolor": "white",
           "zerolinewidth": 2
          }
         }
        },
        "title": {
         "text": "Pass to Run Ratio (2017 & 2018)",
         "x": 0.5,
         "xanchor": "center",
         "y": 0.95,
         "yanchor": "top"
        }
       }
      },
      "text/html": [
       "<div>\n",
       "        \n",
       "        \n",
       "            <div id=\"949c8234-665c-4a70-a398-c6e33bf013a7\" class=\"plotly-graph-div\" style=\"height:525px; width:100%;\"></div>\n",
       "            <script type=\"text/javascript\">\n",
       "                require([\"plotly\"], function(Plotly) {\n",
       "                    window.PLOTLYENV=window.PLOTLYENV || {};\n",
       "                    \n",
       "                if (document.getElementById(\"949c8234-665c-4a70-a398-c6e33bf013a7\")) {\n",
       "                    Plotly.newPlot(\n",
       "                        '949c8234-665c-4a70-a398-c6e33bf013a7',\n",
       "                        [{\"name\": \"2017\", \"type\": \"bar\", \"x\": [\"CLE\", \"NYG\", \"OAK\", \"NYJ\", \"TB\", \"SF\", \"ARI\", \"DEN\", \"CIN\", \"GB\", \"IND\", \"MIA\", \"JAX\", \"WAS\", \"DET\", \"BUF\", \"HOU\", \"ATL\", \"CHI\", \"CAR\", \"SEA\", \"BAL\", \"TEN\", \"DAL\", \"LAC\", \"PHI\", \"MIN\", \"PIT\", \"KC\", \"NE\", \"LA\", \"NO\"], \"y\": [1.88, 2.23, 2.32, 1.85, 3.0, 2.34, 2.6, 1.79, 2.26, 1.83, 1.73, 2.53, 1.56, 2.57, 3.4, 1.39, 1.77, 2.15, 1.55, 1.45, 2.24, 1.62, 1.73, 1.44, 2.74, 1.75, 1.89, 2.6, 2.18, 2.31, 1.95, 2.0]}, {\"name\": \"2018\", \"type\": \"bar\", \"x\": [\"CLE\", \"NYG\", \"OAK\", \"NYJ\", \"TB\", \"SF\", \"ARI\", \"DEN\", \"CIN\", \"GB\", \"IND\", \"MIA\", \"JAX\", \"WAS\", \"DET\", \"BUF\", \"HOU\", \"ATL\", \"CHI\", \"CAR\", \"SEA\", \"BAL\", \"TEN\", \"DAL\", \"LAC\", \"PHI\", \"MIN\", \"PIT\", \"KC\", \"NE\", \"LA\", \"NO\"], \"y\": [1.82, 2.37, 2.4, 1.8, 3.28, 1.94, 1.92, 1.85, 2.09, 2.29, 2.54, 1.64, 1.94, 1.75, 2.22, 1.32, 1.78, 3.24, 2.01, 1.72, 1.17, 1.6, 1.43, 1.62, 2.19, 2.67, 2.77, 3.2, 2.65, 2.46, 2.22, 1.89]}],\n",
       "                        {\"barmode\": \"group\", \"template\": {\"data\": {\"bar\": [{\"error_x\": {\"color\": \"#2a3f5f\"}, \"error_y\": {\"color\": \"#2a3f5f\"}, \"marker\": {\"line\": {\"color\": \"#E5ECF6\", \"width\": 0.5}}, \"type\": \"bar\"}], \"barpolar\": [{\"marker\": {\"line\": {\"color\": \"#E5ECF6\", \"width\": 0.5}}, \"type\": \"barpolar\"}], \"carpet\": [{\"aaxis\": {\"endlinecolor\": \"#2a3f5f\", \"gridcolor\": \"white\", \"linecolor\": \"white\", \"minorgridcolor\": \"white\", \"startlinecolor\": \"#2a3f5f\"}, \"baxis\": {\"endlinecolor\": \"#2a3f5f\", \"gridcolor\": \"white\", \"linecolor\": \"white\", \"minorgridcolor\": \"white\", \"startlinecolor\": \"#2a3f5f\"}, \"type\": \"carpet\"}], \"choropleth\": [{\"colorbar\": {\"outlinewidth\": 0, \"ticks\": \"\"}, \"type\": \"choropleth\"}], \"contour\": [{\"colorbar\": {\"outlinewidth\": 0, \"ticks\": \"\"}, \"colorscale\": [[0.0, \"#0d0887\"], [0.1111111111111111, \"#46039f\"], [0.2222222222222222, \"#7201a8\"], [0.3333333333333333, \"#9c179e\"], [0.4444444444444444, \"#bd3786\"], [0.5555555555555556, \"#d8576b\"], [0.6666666666666666, \"#ed7953\"], [0.7777777777777778, \"#fb9f3a\"], [0.8888888888888888, \"#fdca26\"], [1.0, \"#f0f921\"]], \"type\": \"contour\"}], \"contourcarpet\": [{\"colorbar\": {\"outlinewidth\": 0, \"ticks\": \"\"}, \"type\": \"contourcarpet\"}], \"heatmap\": [{\"colorbar\": {\"outlinewidth\": 0, \"ticks\": \"\"}, \"colorscale\": [[0.0, \"#0d0887\"], [0.1111111111111111, \"#46039f\"], [0.2222222222222222, \"#7201a8\"], [0.3333333333333333, \"#9c179e\"], [0.4444444444444444, \"#bd3786\"], [0.5555555555555556, \"#d8576b\"], [0.6666666666666666, \"#ed7953\"], [0.7777777777777778, \"#fb9f3a\"], [0.8888888888888888, \"#fdca26\"], [1.0, \"#f0f921\"]], \"type\": \"heatmap\"}], \"heatmapgl\": [{\"colorbar\": {\"outlinewidth\": 0, \"ticks\": \"\"}, \"colorscale\": [[0.0, \"#0d0887\"], [0.1111111111111111, \"#46039f\"], [0.2222222222222222, \"#7201a8\"], [0.3333333333333333, \"#9c179e\"], [0.4444444444444444, \"#bd3786\"], [0.5555555555555556, \"#d8576b\"], [0.6666666666666666, \"#ed7953\"], [0.7777777777777778, \"#fb9f3a\"], [0.8888888888888888, \"#fdca26\"], [1.0, \"#f0f921\"]], \"type\": \"heatmapgl\"}], \"histogram\": [{\"marker\": {\"colorbar\": {\"outlinewidth\": 0, \"ticks\": \"\"}}, \"type\": \"histogram\"}], \"histogram2d\": [{\"colorbar\": {\"outlinewidth\": 0, \"ticks\": \"\"}, \"colorscale\": [[0.0, \"#0d0887\"], [0.1111111111111111, \"#46039f\"], [0.2222222222222222, \"#7201a8\"], [0.3333333333333333, \"#9c179e\"], [0.4444444444444444, \"#bd3786\"], [0.5555555555555556, \"#d8576b\"], [0.6666666666666666, \"#ed7953\"], [0.7777777777777778, \"#fb9f3a\"], [0.8888888888888888, \"#fdca26\"], [1.0, \"#f0f921\"]], \"type\": \"histogram2d\"}], \"histogram2dcontour\": [{\"colorbar\": {\"outlinewidth\": 0, \"ticks\": \"\"}, \"colorscale\": [[0.0, \"#0d0887\"], [0.1111111111111111, \"#46039f\"], [0.2222222222222222, \"#7201a8\"], [0.3333333333333333, \"#9c179e\"], [0.4444444444444444, \"#bd3786\"], [0.5555555555555556, \"#d8576b\"], [0.6666666666666666, \"#ed7953\"], [0.7777777777777778, \"#fb9f3a\"], [0.8888888888888888, \"#fdca26\"], [1.0, \"#f0f921\"]], \"type\": \"histogram2dcontour\"}], \"mesh3d\": [{\"colorbar\": {\"outlinewidth\": 0, \"ticks\": \"\"}, \"type\": \"mesh3d\"}], \"parcoords\": [{\"line\": {\"colorbar\": {\"outlinewidth\": 0, \"ticks\": \"\"}}, \"type\": \"parcoords\"}], \"pie\": [{\"automargin\": true, \"type\": \"pie\"}], \"scatter\": [{\"marker\": {\"colorbar\": {\"outlinewidth\": 0, \"ticks\": \"\"}}, \"type\": \"scatter\"}], \"scatter3d\": [{\"line\": {\"colorbar\": {\"outlinewidth\": 0, \"ticks\": \"\"}}, \"marker\": {\"colorbar\": {\"outlinewidth\": 0, \"ticks\": \"\"}}, \"type\": \"scatter3d\"}], \"scattercarpet\": [{\"marker\": {\"colorbar\": {\"outlinewidth\": 0, \"ticks\": \"\"}}, \"type\": \"scattercarpet\"}], \"scattergeo\": [{\"marker\": {\"colorbar\": {\"outlinewidth\": 0, \"ticks\": \"\"}}, \"type\": \"scattergeo\"}], \"scattergl\": [{\"marker\": {\"colorbar\": {\"outlinewidth\": 0, \"ticks\": \"\"}}, \"type\": \"scattergl\"}], \"scattermapbox\": [{\"marker\": {\"colorbar\": {\"outlinewidth\": 0, \"ticks\": \"\"}}, \"type\": \"scattermapbox\"}], \"scatterpolar\": [{\"marker\": {\"colorbar\": {\"outlinewidth\": 0, \"ticks\": \"\"}}, \"type\": \"scatterpolar\"}], \"scatterpolargl\": [{\"marker\": {\"colorbar\": {\"outlinewidth\": 0, \"ticks\": \"\"}}, \"type\": \"scatterpolargl\"}], \"scatterternary\": [{\"marker\": {\"colorbar\": {\"outlinewidth\": 0, \"ticks\": \"\"}}, \"type\": \"scatterternary\"}], \"surface\": [{\"colorbar\": {\"outlinewidth\": 0, \"ticks\": \"\"}, \"colorscale\": [[0.0, \"#0d0887\"], [0.1111111111111111, \"#46039f\"], [0.2222222222222222, \"#7201a8\"], [0.3333333333333333, \"#9c179e\"], [0.4444444444444444, \"#bd3786\"], [0.5555555555555556, \"#d8576b\"], [0.6666666666666666, \"#ed7953\"], [0.7777777777777778, \"#fb9f3a\"], [0.8888888888888888, \"#fdca26\"], [1.0, \"#f0f921\"]], \"type\": \"surface\"}], \"table\": [{\"cells\": {\"fill\": {\"color\": \"#EBF0F8\"}, \"line\": {\"color\": \"white\"}}, \"header\": {\"fill\": {\"color\": \"#C8D4E3\"}, \"line\": {\"color\": \"white\"}}, \"type\": \"table\"}]}, \"layout\": {\"annotationdefaults\": {\"arrowcolor\": \"#2a3f5f\", \"arrowhead\": 0, \"arrowwidth\": 1}, \"coloraxis\": {\"colorbar\": {\"outlinewidth\": 0, \"ticks\": \"\"}}, \"colorscale\": {\"diverging\": [[0, \"#8e0152\"], [0.1, \"#c51b7d\"], [0.2, \"#de77ae\"], [0.3, \"#f1b6da\"], [0.4, \"#fde0ef\"], [0.5, \"#f7f7f7\"], [0.6, \"#e6f5d0\"], [0.7, \"#b8e186\"], [0.8, \"#7fbc41\"], [0.9, \"#4d9221\"], [1, \"#276419\"]], \"sequential\": [[0.0, \"#0d0887\"], [0.1111111111111111, \"#46039f\"], [0.2222222222222222, \"#7201a8\"], [0.3333333333333333, \"#9c179e\"], [0.4444444444444444, \"#bd3786\"], [0.5555555555555556, \"#d8576b\"], [0.6666666666666666, \"#ed7953\"], [0.7777777777777778, \"#fb9f3a\"], [0.8888888888888888, \"#fdca26\"], [1.0, \"#f0f921\"]], \"sequentialminus\": [[0.0, \"#0d0887\"], [0.1111111111111111, \"#46039f\"], [0.2222222222222222, \"#7201a8\"], [0.3333333333333333, \"#9c179e\"], [0.4444444444444444, \"#bd3786\"], [0.5555555555555556, \"#d8576b\"], [0.6666666666666666, \"#ed7953\"], [0.7777777777777778, \"#fb9f3a\"], [0.8888888888888888, \"#fdca26\"], [1.0, \"#f0f921\"]]}, \"colorway\": [\"#636efa\", \"#EF553B\", \"#00cc96\", \"#ab63fa\", \"#FFA15A\", \"#19d3f3\", \"#FF6692\", \"#B6E880\", \"#FF97FF\", \"#FECB52\"], \"font\": {\"color\": \"#2a3f5f\"}, \"geo\": {\"bgcolor\": \"white\", \"lakecolor\": \"white\", \"landcolor\": \"#E5ECF6\", \"showlakes\": true, \"showland\": true, \"subunitcolor\": \"white\"}, \"hoverlabel\": {\"align\": \"left\"}, \"hovermode\": \"closest\", \"mapbox\": {\"style\": \"light\"}, \"paper_bgcolor\": \"white\", \"plot_bgcolor\": \"#E5ECF6\", \"polar\": {\"angularaxis\": {\"gridcolor\": \"white\", \"linecolor\": \"white\", \"ticks\": \"\"}, \"bgcolor\": \"#E5ECF6\", \"radialaxis\": {\"gridcolor\": \"white\", \"linecolor\": \"white\", \"ticks\": \"\"}}, \"scene\": {\"xaxis\": {\"backgroundcolor\": \"#E5ECF6\", \"gridcolor\": \"white\", \"gridwidth\": 2, \"linecolor\": \"white\", \"showbackground\": true, \"ticks\": \"\", \"zerolinecolor\": \"white\"}, \"yaxis\": {\"backgroundcolor\": \"#E5ECF6\", \"gridcolor\": \"white\", \"gridwidth\": 2, \"linecolor\": \"white\", \"showbackground\": true, \"ticks\": \"\", \"zerolinecolor\": \"white\"}, \"zaxis\": {\"backgroundcolor\": \"#E5ECF6\", \"gridcolor\": \"white\", \"gridwidth\": 2, \"linecolor\": \"white\", \"showbackground\": true, \"ticks\": \"\", \"zerolinecolor\": \"white\"}}, \"shapedefaults\": {\"line\": {\"color\": \"#2a3f5f\"}}, \"ternary\": {\"aaxis\": {\"gridcolor\": \"white\", \"linecolor\": \"white\", \"ticks\": \"\"}, \"baxis\": {\"gridcolor\": \"white\", \"linecolor\": \"white\", \"ticks\": \"\"}, \"bgcolor\": \"#E5ECF6\", \"caxis\": {\"gridcolor\": \"white\", \"linecolor\": \"white\", \"ticks\": \"\"}}, \"title\": {\"x\": 0.05}, \"xaxis\": {\"automargin\": true, \"gridcolor\": \"white\", \"linecolor\": \"white\", \"ticks\": \"\", \"title\": {\"standoff\": 15}, \"zerolinecolor\": \"white\", \"zerolinewidth\": 2}, \"yaxis\": {\"automargin\": true, \"gridcolor\": \"white\", \"linecolor\": \"white\", \"ticks\": \"\", \"title\": {\"standoff\": 15}, \"zerolinecolor\": \"white\", \"zerolinewidth\": 2}}}, \"title\": {\"text\": \"Pass to Run Ratio (2017 & 2018)\", \"x\": 0.5, \"xanchor\": \"center\", \"y\": 0.95, \"yanchor\": \"top\"}},\n",
       "                        {\"responsive\": true}\n",
       "                    ).then(function(){\n",
       "                            \n",
       "var gd = document.getElementById('949c8234-665c-4a70-a398-c6e33bf013a7');\n",
       "var x = new MutationObserver(function (mutations, observer) {{\n",
       "        var display = window.getComputedStyle(gd).display;\n",
       "        if (!display || display === 'none') {{\n",
       "            console.log([gd, 'removed!']);\n",
       "            Plotly.purge(gd);\n",
       "            observer.disconnect();\n",
       "        }}\n",
       "}});\n",
       "\n",
       "// Listen for the removal of the full notebook cells\n",
       "var notebookContainer = gd.closest('#notebook-container');\n",
       "if (notebookContainer) {{\n",
       "    x.observe(notebookContainer, {childList: true});\n",
       "}}\n",
       "\n",
       "// Listen for the clearing of the current output cell\n",
       "var outputEl = gd.closest('.output');\n",
       "if (outputEl) {{\n",
       "    x.observe(outputEl, {childList: true});\n",
       "}}\n",
       "\n",
       "                        })\n",
       "                };\n",
       "                });\n",
       "            </script>\n",
       "        </div>"
      ]
     },
     "metadata": {},
     "output_type": "display_data"
    }
   ],
   "source": [
    "fig = go.Figure(data = [go.Bar(name = '2017', x = team_by_wins['team'], y = pass_run_ratio_2017),\\\n",
    "                        go.Bar(name = '2018', x = team_by_wins['team'], y = pass_run_ratio_2018)\n",
    "                       ])\n",
    "\n",
    "layout = go.Layout(\n",
    "    title = 'Pass to Run Ratio (2017 & 2018)',\n",
    "    xaxis= dict(title= 'Team',ticklen= 1,zeroline= False),\n",
    "    yaxis= dict(title= 'Pass/Run Ratio',ticklen= 5,zeroline= False)\n",
    ")\n",
    "\n",
    "fig.update_layout(\n",
    "    title={\n",
    "        'text':'Pass to Run Ratio (2017 & 2018)',\n",
    "        'y':0.95,\n",
    "        'x':0.5,\n",
    "        'xanchor': 'center',\n",
    "        'yanchor': 'top'},\n",
    "        barmode='group')\n",
    "\n",
    "fig"
   ]
  },
  {
   "cell_type": "code",
   "execution_count": 75,
   "metadata": {},
   "outputs": [
    {
     "data": {
      "text/html": [
       "<div>\n",
       "<style scoped>\n",
       "    .dataframe tbody tr th:only-of-type {\n",
       "        vertical-align: middle;\n",
       "    }\n",
       "\n",
       "    .dataframe tbody tr th {\n",
       "        vertical-align: top;\n",
       "    }\n",
       "\n",
       "    .dataframe thead th {\n",
       "        text-align: right;\n",
       "    }\n",
       "</style>\n",
       "<table border=\"1\" class=\"dataframe\">\n",
       "  <thead>\n",
       "    <tr style=\"text-align: right;\">\n",
       "      <th></th>\n",
       "      <th>index</th>\n",
       "      <th>game_id</th>\n",
       "      <th>game_date</th>\n",
       "      <th>time</th>\n",
       "      <th>quarter_seconds_remaining</th>\n",
       "      <th>half_seconds_remaining</th>\n",
       "      <th>game_seconds_remaining</th>\n",
       "      <th>game_half</th>\n",
       "      <th>quarter_end</th>\n",
       "      <th>qtr</th>\n",
       "      <th>home_team</th>\n",
       "      <th>away_team</th>\n",
       "      <th>posteam</th>\n",
       "      <th>posteam_type</th>\n",
       "      <th>defteam</th>\n",
       "      <th>side_of_field</th>\n",
       "      <th>yardline_100</th>\n",
       "      <th>drive</th>\n",
       "      <th>sp</th>\n",
       "      <th>down</th>\n",
       "      <th>goal_to_go</th>\n",
       "      <th>yrdln</th>\n",
       "      <th>ydstogo</th>\n",
       "      <th>ydsnet</th>\n",
       "      <th>desc</th>\n",
       "      <th>play_type</th>\n",
       "      <th>yards_gained</th>\n",
       "      <th>pass_length</th>\n",
       "      <th>air_yards</th>\n",
       "      <th>yards_after_catch</th>\n",
       "      <th>field_goal_result</th>\n",
       "      <th>kick_distance</th>\n",
       "      <th>extra_point_result</th>\n",
       "      <th>two_point_conv_result</th>\n",
       "      <th>td_team</th>\n",
       "      <th>total_home_score</th>\n",
       "      <th>total_away_score</th>\n",
       "      <th>posteam_score</th>\n",
       "      <th>defteam_score</th>\n",
       "      <th>sack</th>\n",
       "      <th>touchdown</th>\n",
       "      <th>pass_touchdown</th>\n",
       "      <th>rush_touchdown</th>\n",
       "      <th>return_touchdown</th>\n",
       "      <th>extra_point_attempt</th>\n",
       "      <th>two_point_attempt</th>\n",
       "      <th>field_goal_attempt</th>\n",
       "      <th>fumble</th>\n",
       "      <th>complete_pass</th>\n",
       "      <th>Start_Time</th>\n",
       "      <th>diff</th>\n",
       "      <th>Estimated_Time</th>\n",
       "      <th>Estimated Time (EST)</th>\n",
       "      <th>Estimated_Hour</th>\n",
       "      <th>Air Pressure (hPa)</th>\n",
       "      <th>City</th>\n",
       "      <th>Dewpoint (°C)</th>\n",
       "      <th>Field</th>\n",
       "      <th>Humidity (%)</th>\n",
       "      <th>Precipitation (mm)</th>\n",
       "      <th>Roof</th>\n",
       "      <th>Team Abbreviation</th>\n",
       "      <th>Temperature (°C)</th>\n",
       "      <th>Time (EST)</th>\n",
       "      <th>Time (GMT)</th>\n",
       "      <th>Wind Direction (deg)</th>\n",
       "      <th>Wind Speed (km/h)</th>\n",
       "      <th>added_time</th>\n",
       "      <th>game_name</th>\n",
       "      <th>end_of_drive</th>\n",
       "      <th>end_of_game</th>\n",
       "      <th>INT</th>\n",
       "      <th>ARI</th>\n",
       "      <th>ATL</th>\n",
       "      <th>BAL</th>\n",
       "      <th>BUF</th>\n",
       "      <th>CAR</th>\n",
       "      <th>CHI</th>\n",
       "      <th>CIN</th>\n",
       "      <th>CLE</th>\n",
       "      <th>DAL</th>\n",
       "      <th>DEN</th>\n",
       "      <th>DET</th>\n",
       "      <th>GB</th>\n",
       "      <th>HOU</th>\n",
       "      <th>IND</th>\n",
       "      <th>JAX</th>\n",
       "      <th>KC</th>\n",
       "      <th>LA</th>\n",
       "      <th>LAC</th>\n",
       "      <th>MIA</th>\n",
       "      <th>MIN</th>\n",
       "      <th>NE</th>\n",
       "      <th>NO</th>\n",
       "      <th>NYG</th>\n",
       "      <th>NYJ</th>\n",
       "      <th>OAK</th>\n",
       "      <th>PHI</th>\n",
       "      <th>PIT</th>\n",
       "      <th>SEA</th>\n",
       "      <th>SF</th>\n",
       "      <th>TB</th>\n",
       "      <th>TEN</th>\n",
       "      <th>WAS</th>\n",
       "      <th>year</th>\n",
       "      <th>week</th>\n",
       "      <th>home_team_win</th>\n",
       "      <th>away_team_win</th>\n",
       "    </tr>\n",
       "    <tr>\n",
       "      <th>play_id</th>\n",
       "      <th></th>\n",
       "      <th></th>\n",
       "      <th></th>\n",
       "      <th></th>\n",
       "      <th></th>\n",
       "      <th></th>\n",
       "      <th></th>\n",
       "      <th></th>\n",
       "      <th></th>\n",
       "      <th></th>\n",
       "      <th></th>\n",
       "      <th></th>\n",
       "      <th></th>\n",
       "      <th></th>\n",
       "      <th></th>\n",
       "      <th></th>\n",
       "      <th></th>\n",
       "      <th></th>\n",
       "      <th></th>\n",
       "      <th></th>\n",
       "      <th></th>\n",
       "      <th></th>\n",
       "      <th></th>\n",
       "      <th></th>\n",
       "      <th></th>\n",
       "      <th></th>\n",
       "      <th></th>\n",
       "      <th></th>\n",
       "      <th></th>\n",
       "      <th></th>\n",
       "      <th></th>\n",
       "      <th></th>\n",
       "      <th></th>\n",
       "      <th></th>\n",
       "      <th></th>\n",
       "      <th></th>\n",
       "      <th></th>\n",
       "      <th></th>\n",
       "      <th></th>\n",
       "      <th></th>\n",
       "      <th></th>\n",
       "      <th></th>\n",
       "      <th></th>\n",
       "      <th></th>\n",
       "      <th></th>\n",
       "      <th></th>\n",
       "      <th></th>\n",
       "      <th></th>\n",
       "      <th></th>\n",
       "      <th></th>\n",
       "      <th></th>\n",
       "      <th></th>\n",
       "      <th></th>\n",
       "      <th></th>\n",
       "      <th></th>\n",
       "      <th></th>\n",
       "      <th></th>\n",
       "      <th></th>\n",
       "      <th></th>\n",
       "      <th></th>\n",
       "      <th></th>\n",
       "      <th></th>\n",
       "      <th></th>\n",
       "      <th></th>\n",
       "      <th></th>\n",
       "      <th></th>\n",
       "      <th></th>\n",
       "      <th></th>\n",
       "      <th></th>\n",
       "      <th></th>\n",
       "      <th></th>\n",
       "      <th></th>\n",
       "      <th></th>\n",
       "      <th></th>\n",
       "      <th></th>\n",
       "      <th></th>\n",
       "      <th></th>\n",
       "      <th></th>\n",
       "      <th></th>\n",
       "      <th></th>\n",
       "      <th></th>\n",
       "      <th></th>\n",
       "      <th></th>\n",
       "      <th></th>\n",
       "      <th></th>\n",
       "      <th></th>\n",
       "      <th></th>\n",
       "      <th></th>\n",
       "      <th></th>\n",
       "      <th></th>\n",
       "      <th></th>\n",
       "      <th></th>\n",
       "      <th></th>\n",
       "      <th></th>\n",
       "      <th></th>\n",
       "      <th></th>\n",
       "      <th></th>\n",
       "      <th></th>\n",
       "      <th></th>\n",
       "      <th></th>\n",
       "      <th></th>\n",
       "      <th></th>\n",
       "      <th></th>\n",
       "      <th></th>\n",
       "      <th></th>\n",
       "      <th></th>\n",
       "      <th></th>\n",
       "      <th></th>\n",
       "    </tr>\n",
       "  </thead>\n",
       "  <tbody>\n",
       "    <tr>\n",
       "      <td>3101</td>\n",
       "      <td>362416</td>\n",
       "      <td>2017091000</td>\n",
       "      <td>2017-09-10 00:00:00</td>\n",
       "      <td>02:00</td>\n",
       "      <td>120.0</td>\n",
       "      <td>1020.0</td>\n",
       "      <td>1020.0</td>\n",
       "      <td>Half2</td>\n",
       "      <td>0</td>\n",
       "      <td>3</td>\n",
       "      <td>BUF</td>\n",
       "      <td>NYJ</td>\n",
       "      <td>NYJ</td>\n",
       "      <td>away</td>\n",
       "      <td>BUF</td>\n",
       "      <td>BUF</td>\n",
       "      <td>2.0</td>\n",
       "      <td>15</td>\n",
       "      <td>0</td>\n",
       "      <td>NaN</td>\n",
       "      <td>0.0</td>\n",
       "      <td>BUF 2</td>\n",
       "      <td>0</td>\n",
       "      <td>75</td>\n",
       "      <td>TWO-POINT CONVERSION ATTEMPT. J.McCown pass to...</td>\n",
       "      <td>pass</td>\n",
       "      <td>0.0</td>\n",
       "      <td>0</td>\n",
       "      <td>0.0</td>\n",
       "      <td>0.0</td>\n",
       "      <td>NaN</td>\n",
       "      <td>NaN</td>\n",
       "      <td>NaN</td>\n",
       "      <td>failure</td>\n",
       "      <td>NaN</td>\n",
       "      <td>14</td>\n",
       "      <td>12</td>\n",
       "      <td>12.0</td>\n",
       "      <td>12.0</td>\n",
       "      <td>0.0</td>\n",
       "      <td>0.0</td>\n",
       "      <td>0.0</td>\n",
       "      <td>0.0</td>\n",
       "      <td>0.0</td>\n",
       "      <td>0.0</td>\n",
       "      <td>1.0</td>\n",
       "      <td>0.0</td>\n",
       "      <td>0.0</td>\n",
       "      <td>0.0</td>\n",
       "      <td>2017-09-10 13:00:00</td>\n",
       "      <td>0 days 02:09:00.000000000</td>\n",
       "      <td>2017-09-10 15:09:00</td>\n",
       "      <td>2017-09-10 15:09:00</td>\n",
       "      <td>2017-09-10 15:00:00</td>\n",
       "      <td>1031.5</td>\n",
       "      <td>Orchard Park</td>\n",
       "      <td>6.7</td>\n",
       "      <td>A-Turf Titan 50</td>\n",
       "      <td>45.0</td>\n",
       "      <td>0.0</td>\n",
       "      <td>Open</td>\n",
       "      <td>BUF</td>\n",
       "      <td>18.9</td>\n",
       "      <td>2017-09-10 15:00:00</td>\n",
       "      <td>2017-09-10 19:00:00</td>\n",
       "      <td>30.0</td>\n",
       "      <td>14.8</td>\n",
       "      <td>0</td>\n",
       "      <td>NYJ @ BUF 2017-09-10</td>\n",
       "      <td>1</td>\n",
       "      <td>0</td>\n",
       "      <td>1</td>\n",
       "      <td>0</td>\n",
       "      <td>0</td>\n",
       "      <td>0</td>\n",
       "      <td>H</td>\n",
       "      <td>0</td>\n",
       "      <td>0</td>\n",
       "      <td>0</td>\n",
       "      <td>0</td>\n",
       "      <td>0</td>\n",
       "      <td>0</td>\n",
       "      <td>0</td>\n",
       "      <td>0</td>\n",
       "      <td>0</td>\n",
       "      <td>0</td>\n",
       "      <td>0</td>\n",
       "      <td>0</td>\n",
       "      <td>0</td>\n",
       "      <td>0</td>\n",
       "      <td>0</td>\n",
       "      <td>0</td>\n",
       "      <td>0</td>\n",
       "      <td>0</td>\n",
       "      <td>0</td>\n",
       "      <td>A</td>\n",
       "      <td>0</td>\n",
       "      <td>0</td>\n",
       "      <td>0</td>\n",
       "      <td>0</td>\n",
       "      <td>0</td>\n",
       "      <td>0</td>\n",
       "      <td>0</td>\n",
       "      <td>0</td>\n",
       "      <td>2017</td>\n",
       "      <td>1</td>\n",
       "      <td>1</td>\n",
       "      <td>0</td>\n",
       "    </tr>\n",
       "    <tr>\n",
       "      <td>3765</td>\n",
       "      <td>362443</td>\n",
       "      <td>2017091000</td>\n",
       "      <td>2017-09-10 00:00:00</td>\n",
       "      <td>06:44</td>\n",
       "      <td>404.0</td>\n",
       "      <td>404.0</td>\n",
       "      <td>404.0</td>\n",
       "      <td>Half2</td>\n",
       "      <td>0</td>\n",
       "      <td>4</td>\n",
       "      <td>BUF</td>\n",
       "      <td>NYJ</td>\n",
       "      <td>NYJ</td>\n",
       "      <td>away</td>\n",
       "      <td>BUF</td>\n",
       "      <td>BUF</td>\n",
       "      <td>37.0</td>\n",
       "      <td>19</td>\n",
       "      <td>0</td>\n",
       "      <td>3.0</td>\n",
       "      <td>0.0</td>\n",
       "      <td>BUF 37</td>\n",
       "      <td>8</td>\n",
       "      <td>2</td>\n",
       "      <td>(6:44) (Shotgun) J.McCown pass short right int...</td>\n",
       "      <td>pass</td>\n",
       "      <td>0.0</td>\n",
       "      <td>short</td>\n",
       "      <td>14.0</td>\n",
       "      <td>0.0</td>\n",
       "      <td>NaN</td>\n",
       "      <td>NaN</td>\n",
       "      <td>NaN</td>\n",
       "      <td>NaN</td>\n",
       "      <td>NaN</td>\n",
       "      <td>21</td>\n",
       "      <td>12</td>\n",
       "      <td>12.0</td>\n",
       "      <td>12.0</td>\n",
       "      <td>0.0</td>\n",
       "      <td>0.0</td>\n",
       "      <td>0.0</td>\n",
       "      <td>0.0</td>\n",
       "      <td>0.0</td>\n",
       "      <td>0.0</td>\n",
       "      <td>0.0</td>\n",
       "      <td>0.0</td>\n",
       "      <td>0.0</td>\n",
       "      <td>0.0</td>\n",
       "      <td>2017-09-10 13:00:00</td>\n",
       "      <td>0 days 02:39:48.000000000</td>\n",
       "      <td>2017-09-10 15:39:48</td>\n",
       "      <td>2017-09-10 15:39:48</td>\n",
       "      <td>2017-09-10 16:00:00</td>\n",
       "      <td>1031.1</td>\n",
       "      <td>Orchard Park</td>\n",
       "      <td>6.7</td>\n",
       "      <td>A-Turf Titan 50</td>\n",
       "      <td>45.0</td>\n",
       "      <td>0.0</td>\n",
       "      <td>Open</td>\n",
       "      <td>BUF</td>\n",
       "      <td>18.9</td>\n",
       "      <td>2017-09-10 16:00:00</td>\n",
       "      <td>2017-09-10 20:00:00</td>\n",
       "      <td>10.0</td>\n",
       "      <td>11.2</td>\n",
       "      <td>0</td>\n",
       "      <td>NYJ @ BUF 2017-09-10</td>\n",
       "      <td>1</td>\n",
       "      <td>0</td>\n",
       "      <td>1</td>\n",
       "      <td>0</td>\n",
       "      <td>0</td>\n",
       "      <td>0</td>\n",
       "      <td>H</td>\n",
       "      <td>0</td>\n",
       "      <td>0</td>\n",
       "      <td>0</td>\n",
       "      <td>0</td>\n",
       "      <td>0</td>\n",
       "      <td>0</td>\n",
       "      <td>0</td>\n",
       "      <td>0</td>\n",
       "      <td>0</td>\n",
       "      <td>0</td>\n",
       "      <td>0</td>\n",
       "      <td>0</td>\n",
       "      <td>0</td>\n",
       "      <td>0</td>\n",
       "      <td>0</td>\n",
       "      <td>0</td>\n",
       "      <td>0</td>\n",
       "      <td>0</td>\n",
       "      <td>0</td>\n",
       "      <td>A</td>\n",
       "      <td>0</td>\n",
       "      <td>0</td>\n",
       "      <td>0</td>\n",
       "      <td>0</td>\n",
       "      <td>0</td>\n",
       "      <td>0</td>\n",
       "      <td>0</td>\n",
       "      <td>0</td>\n",
       "      <td>2017</td>\n",
       "      <td>1</td>\n",
       "      <td>1</td>\n",
       "      <td>0</td>\n",
       "    </tr>\n",
       "    <tr>\n",
       "      <td>4344</td>\n",
       "      <td>362465</td>\n",
       "      <td>2017091000</td>\n",
       "      <td>2017-09-10 00:00:00</td>\n",
       "      <td>01:44</td>\n",
       "      <td>104.0</td>\n",
       "      <td>104.0</td>\n",
       "      <td>104.0</td>\n",
       "      <td>Half2</td>\n",
       "      <td>0</td>\n",
       "      <td>4</td>\n",
       "      <td>BUF</td>\n",
       "      <td>NYJ</td>\n",
       "      <td>NYJ</td>\n",
       "      <td>away</td>\n",
       "      <td>BUF</td>\n",
       "      <td>NYJ</td>\n",
       "      <td>59.0</td>\n",
       "      <td>23</td>\n",
       "      <td>0</td>\n",
       "      <td>1.0</td>\n",
       "      <td>0.0</td>\n",
       "      <td>NYJ 41</td>\n",
       "      <td>10</td>\n",
       "      <td>0</td>\n",
       "      <td>(1:44) (Shotgun) J.McCown pass deep left inten...</td>\n",
       "      <td>pass</td>\n",
       "      <td>0.0</td>\n",
       "      <td>deep</td>\n",
       "      <td>18.0</td>\n",
       "      <td>0.0</td>\n",
       "      <td>NaN</td>\n",
       "      <td>NaN</td>\n",
       "      <td>NaN</td>\n",
       "      <td>NaN</td>\n",
       "      <td>NaN</td>\n",
       "      <td>21</td>\n",
       "      <td>12</td>\n",
       "      <td>12.0</td>\n",
       "      <td>12.0</td>\n",
       "      <td>0.0</td>\n",
       "      <td>0.0</td>\n",
       "      <td>0.0</td>\n",
       "      <td>0.0</td>\n",
       "      <td>0.0</td>\n",
       "      <td>0.0</td>\n",
       "      <td>0.0</td>\n",
       "      <td>0.0</td>\n",
       "      <td>0.0</td>\n",
       "      <td>0.0</td>\n",
       "      <td>2017-09-10 13:00:00</td>\n",
       "      <td>0 days 02:54:48.000000000</td>\n",
       "      <td>2017-09-10 15:54:48</td>\n",
       "      <td>2017-09-10 15:54:48</td>\n",
       "      <td>2017-09-10 16:00:00</td>\n",
       "      <td>1031.1</td>\n",
       "      <td>Orchard Park</td>\n",
       "      <td>6.7</td>\n",
       "      <td>A-Turf Titan 50</td>\n",
       "      <td>45.0</td>\n",
       "      <td>0.0</td>\n",
       "      <td>Open</td>\n",
       "      <td>BUF</td>\n",
       "      <td>18.9</td>\n",
       "      <td>2017-09-10 16:00:00</td>\n",
       "      <td>2017-09-10 20:00:00</td>\n",
       "      <td>10.0</td>\n",
       "      <td>11.2</td>\n",
       "      <td>0</td>\n",
       "      <td>NYJ @ BUF 2017-09-10</td>\n",
       "      <td>1</td>\n",
       "      <td>0</td>\n",
       "      <td>1</td>\n",
       "      <td>0</td>\n",
       "      <td>0</td>\n",
       "      <td>0</td>\n",
       "      <td>H</td>\n",
       "      <td>0</td>\n",
       "      <td>0</td>\n",
       "      <td>0</td>\n",
       "      <td>0</td>\n",
       "      <td>0</td>\n",
       "      <td>0</td>\n",
       "      <td>0</td>\n",
       "      <td>0</td>\n",
       "      <td>0</td>\n",
       "      <td>0</td>\n",
       "      <td>0</td>\n",
       "      <td>0</td>\n",
       "      <td>0</td>\n",
       "      <td>0</td>\n",
       "      <td>0</td>\n",
       "      <td>0</td>\n",
       "      <td>0</td>\n",
       "      <td>0</td>\n",
       "      <td>0</td>\n",
       "      <td>A</td>\n",
       "      <td>0</td>\n",
       "      <td>0</td>\n",
       "      <td>0</td>\n",
       "      <td>0</td>\n",
       "      <td>0</td>\n",
       "      <td>0</td>\n",
       "      <td>0</td>\n",
       "      <td>0</td>\n",
       "      <td>2017</td>\n",
       "      <td>1</td>\n",
       "      <td>1</td>\n",
       "      <td>0</td>\n",
       "    </tr>\n",
       "  </tbody>\n",
       "</table>\n",
       "</div>"
      ],
      "text/plain": [
       "          index     game_id            game_date   time  \\\n",
       "play_id                                                   \n",
       "3101     362416  2017091000  2017-09-10 00:00:00  02:00   \n",
       "3765     362443  2017091000  2017-09-10 00:00:00  06:44   \n",
       "4344     362465  2017091000  2017-09-10 00:00:00  01:44   \n",
       "\n",
       "         quarter_seconds_remaining  half_seconds_remaining  \\\n",
       "play_id                                                      \n",
       "3101                         120.0                  1020.0   \n",
       "3765                         404.0                   404.0   \n",
       "4344                         104.0                   104.0   \n",
       "\n",
       "         game_seconds_remaining game_half  quarter_end  qtr home_team  \\\n",
       "play_id                                                                 \n",
       "3101                     1020.0     Half2            0    3       BUF   \n",
       "3765                      404.0     Half2            0    4       BUF   \n",
       "4344                      104.0     Half2            0    4       BUF   \n",
       "\n",
       "        away_team posteam posteam_type defteam side_of_field  yardline_100  \\\n",
       "play_id                                                                      \n",
       "3101          NYJ     NYJ         away     BUF           BUF           2.0   \n",
       "3765          NYJ     NYJ         away     BUF           BUF          37.0   \n",
       "4344          NYJ     NYJ         away     BUF           NYJ          59.0   \n",
       "\n",
       "         drive  sp  down  goal_to_go   yrdln  ydstogo  ydsnet  \\\n",
       "play_id                                                         \n",
       "3101        15   0   NaN         0.0   BUF 2        0      75   \n",
       "3765        19   0   3.0         0.0  BUF 37        8       2   \n",
       "4344        23   0   1.0         0.0  NYJ 41       10       0   \n",
       "\n",
       "                                                      desc play_type  \\\n",
       "play_id                                                                \n",
       "3101     TWO-POINT CONVERSION ATTEMPT. J.McCown pass to...      pass   \n",
       "3765     (6:44) (Shotgun) J.McCown pass short right int...      pass   \n",
       "4344     (1:44) (Shotgun) J.McCown pass deep left inten...      pass   \n",
       "\n",
       "         yards_gained pass_length  air_yards  yards_after_catch  \\\n",
       "play_id                                                           \n",
       "3101              0.0           0        0.0                0.0   \n",
       "3765              0.0       short       14.0                0.0   \n",
       "4344              0.0        deep       18.0                0.0   \n",
       "\n",
       "        field_goal_result  kick_distance extra_point_result  \\\n",
       "play_id                                                       \n",
       "3101                  NaN            NaN                NaN   \n",
       "3765                  NaN            NaN                NaN   \n",
       "4344                  NaN            NaN                NaN   \n",
       "\n",
       "        two_point_conv_result td_team  total_home_score  total_away_score  \\\n",
       "play_id                                                                     \n",
       "3101                  failure     NaN                14                12   \n",
       "3765                      NaN     NaN                21                12   \n",
       "4344                      NaN     NaN                21                12   \n",
       "\n",
       "         posteam_score  defteam_score  sack  touchdown  pass_touchdown  \\\n",
       "play_id                                                                  \n",
       "3101              12.0           12.0   0.0        0.0             0.0   \n",
       "3765              12.0           12.0   0.0        0.0             0.0   \n",
       "4344              12.0           12.0   0.0        0.0             0.0   \n",
       "\n",
       "         rush_touchdown  return_touchdown  extra_point_attempt  \\\n",
       "play_id                                                          \n",
       "3101                0.0               0.0                  0.0   \n",
       "3765                0.0               0.0                  0.0   \n",
       "4344                0.0               0.0                  0.0   \n",
       "\n",
       "         two_point_attempt  field_goal_attempt  fumble  complete_pass  \\\n",
       "play_id                                                                 \n",
       "3101                   1.0                 0.0     0.0            0.0   \n",
       "3765                   0.0                 0.0     0.0            0.0   \n",
       "4344                   0.0                 0.0     0.0            0.0   \n",
       "\n",
       "                  Start_Time                       diff       Estimated_Time  \\\n",
       "play_id                                                                        \n",
       "3101     2017-09-10 13:00:00  0 days 02:09:00.000000000  2017-09-10 15:09:00   \n",
       "3765     2017-09-10 13:00:00  0 days 02:39:48.000000000  2017-09-10 15:39:48   \n",
       "4344     2017-09-10 13:00:00  0 days 02:54:48.000000000  2017-09-10 15:54:48   \n",
       "\n",
       "        Estimated Time (EST)       Estimated_Hour  Air Pressure (hPa)  \\\n",
       "play_id                                                                 \n",
       "3101     2017-09-10 15:09:00  2017-09-10 15:00:00              1031.5   \n",
       "3765     2017-09-10 15:39:48  2017-09-10 16:00:00              1031.1   \n",
       "4344     2017-09-10 15:54:48  2017-09-10 16:00:00              1031.1   \n",
       "\n",
       "                 City  Dewpoint (°C)            Field  Humidity (%)  \\\n",
       "play_id                                                               \n",
       "3101     Orchard Park            6.7  A-Turf Titan 50          45.0   \n",
       "3765     Orchard Park            6.7  A-Turf Titan 50          45.0   \n",
       "4344     Orchard Park            6.7  A-Turf Titan 50          45.0   \n",
       "\n",
       "         Precipitation (mm)  Roof Team Abbreviation  Temperature (°C)  \\\n",
       "play_id                                                                 \n",
       "3101                    0.0  Open               BUF              18.9   \n",
       "3765                    0.0  Open               BUF              18.9   \n",
       "4344                    0.0  Open               BUF              18.9   \n",
       "\n",
       "                  Time (EST)           Time (GMT)  Wind Direction (deg)  \\\n",
       "play_id                                                                   \n",
       "3101     2017-09-10 15:00:00  2017-09-10 19:00:00                  30.0   \n",
       "3765     2017-09-10 16:00:00  2017-09-10 20:00:00                  10.0   \n",
       "4344     2017-09-10 16:00:00  2017-09-10 20:00:00                  10.0   \n",
       "\n",
       "         Wind Speed (km/h)  added_time             game_name  end_of_drive  \\\n",
       "play_id                                                                      \n",
       "3101                  14.8           0  NYJ @ BUF 2017-09-10             1   \n",
       "3765                  11.2           0  NYJ @ BUF 2017-09-10             1   \n",
       "4344                  11.2           0  NYJ @ BUF 2017-09-10             1   \n",
       "\n",
       "         end_of_game  INT ARI ATL BAL BUF CAR CHI CIN CLE DAL DEN DET GB HOU  \\\n",
       "play_id                                                                        \n",
       "3101               0    1   0   0   0   H   0   0   0   0   0   0   0  0   0   \n",
       "3765               0    1   0   0   0   H   0   0   0   0   0   0   0  0   0   \n",
       "4344               0    1   0   0   0   H   0   0   0   0   0   0   0  0   0   \n",
       "\n",
       "        IND JAX KC LA LAC MIA MIN NE NO NYG NYJ OAK PHI PIT SEA SF TB TEN WAS  \\\n",
       "play_id                                                                         \n",
       "3101      0   0  0  0   0   0   0  0  0   0   A   0   0   0   0  0  0   0   0   \n",
       "3765      0   0  0  0   0   0   0  0  0   0   A   0   0   0   0  0  0   0   0   \n",
       "4344      0   0  0  0   0   0   0  0  0   0   A   0   0   0   0  0  0   0   0   \n",
       "\n",
       "         year  week  home_team_win  away_team_win  \n",
       "play_id                                            \n",
       "3101     2017     1              1              0  \n",
       "3765     2017     1              1              0  \n",
       "4344     2017     1              1              0  "
      ]
     },
     "execution_count": 75,
     "metadata": {},
     "output_type": "execute_result"
    }
   ],
   "source": [
    "nfl_small2_end_of_drive[nfl_small2_end_of_drive['INT'] == 1].head(3)"
   ]
  },
  {
   "cell_type": "code",
   "execution_count": 76,
   "metadata": {
    "scrolled": true
   },
   "outputs": [
    {
     "data": {
      "text/plain": [
       "52"
      ]
     },
     "execution_count": 76,
     "metadata": {},
     "output_type": "execute_result"
    }
   ],
   "source": [
    "len(nfl_small2_end_of_drive[(nfl_small2_end_of_drive['posteam']=='CLE') &\\\n",
    "                                             (nfl_small2_end_of_drive['year'] == 2017) &\\\n",
    "                                            ((nfl_small2_end_of_drive['INT'] == 1) |\\\n",
    "                                             (nfl_small2_end_of_drive['fumble'] == 1))\n",
    "                           ].index)"
   ]
  },
  {
   "cell_type": "code",
   "execution_count": 77,
   "metadata": {},
   "outputs": [
    {
     "data": {
      "text/plain": [
       "1367"
      ]
     },
     "execution_count": 77,
     "metadata": {},
     "output_type": "execute_result"
    }
   ],
   "source": [
    "len(nfl_small2_end_of_drive[(nfl_small2_end_of_drive['posteam']=='CLE') &\\\n",
    "                                             (nfl_small2_end_of_drive['year'] == 2017)\n",
    "                           ].index)"
   ]
  },
  {
   "cell_type": "code",
   "execution_count": 78,
   "metadata": {},
   "outputs": [],
   "source": [
    "TO_rate_2017 = []\n",
    "for team in team_by_wins['team']:\n",
    "    int_2017 = len(nfl_small2_end_of_drive[(nfl_small2_end_of_drive['posteam']==team) &\\\n",
    "                                             (nfl_small2_end_of_drive['year'] == 2017) &\\\n",
    "                                            ((nfl_small2_end_of_drive['INT'] == 1) |\\\n",
    "                                             (nfl_small2_end_of_drive['fumble'] == 1))].index)\n",
    "\n",
    "    off_play_2017 = len(nfl_small2_end_of_drive[(nfl_small2_end_of_drive['posteam']==team) &\\\n",
    "                                             (nfl_small2_end_of_drive['year'] == 2017)\n",
    "                           ].index)\n",
    "\n",
    "    TO_rate_2017.append(round(int_2017/off_play_2017,3))\n",
    "    \n",
    "TO_rate_2018 = []\n",
    "for team in team_by_wins['team']:\n",
    "    int_2018 = len(nfl_small2_end_of_drive[(nfl_small2_end_of_drive['posteam']==team) &\\\n",
    "                                             (nfl_small2_end_of_drive['year'] == 2018) &\\\n",
    "                                            ((nfl_small2_end_of_drive['INT'] == 1) |\\\n",
    "                                             (nfl_small2_end_of_drive['fumble'] == 1))].index)\n",
    "\n",
    "    off_play_2018 = len(nfl_small2_end_of_drive[(nfl_small2_end_of_drive['posteam']==team) &\\\n",
    "                                             (nfl_small2_end_of_drive['year'] == 2018)\n",
    "                           ].index)\n",
    "\n",
    "    TO_rate_2018.append(round(int_2018/off_play_2018,3))\n"
   ]
  },
  {
   "cell_type": "code",
   "execution_count": 79,
   "metadata": {},
   "outputs": [
    {
     "data": {
      "text/plain": [
       "[0.038, 0.035, 0.039, 0.032]"
      ]
     },
     "execution_count": 79,
     "metadata": {},
     "output_type": "execute_result"
    }
   ],
   "source": [
    "TO_rate_2017[:4]"
   ]
  },
  {
   "cell_type": "code",
   "execution_count": 80,
   "metadata": {},
   "outputs": [
    {
     "data": {
      "application/vnd.plotly.v1+json": {
       "config": {
        "plotlyServerURL": "https://plot.ly"
       },
       "data": [
        {
         "name": "2017",
         "type": "bar",
         "x": [
          "CLE",
          "NYG",
          "OAK",
          "NYJ",
          "TB",
          "SF",
          "ARI",
          "DEN",
          "CIN",
          "GB",
          "IND",
          "MIA",
          "JAX",
          "WAS",
          "DET",
          "BUF",
          "HOU",
          "ATL",
          "CHI",
          "CAR",
          "SEA",
          "BAL",
          "TEN",
          "DAL",
          "LAC",
          "PHI",
          "MIN",
          "PIT",
          "KC",
          "NE",
          "LA",
          "NO"
         ],
         "y": [
          0.038,
          0.035,
          0.039,
          0.032,
          0.04,
          0.027,
          0.034,
          0.037,
          0.03,
          0.032,
          0.033,
          0.043,
          0.03,
          0.033,
          0.029,
          0.028,
          0.033,
          0.026,
          0.038,
          0.031,
          0.03,
          0.025,
          0.025,
          0.023,
          0.024,
          0.03,
          0.02,
          0.023,
          0.021,
          0.018,
          0.026,
          0.022
         ]
        },
        {
         "name": "2018",
         "type": "bar",
         "x": [
          "CLE",
          "NYG",
          "OAK",
          "NYJ",
          "TB",
          "SF",
          "ARI",
          "DEN",
          "CIN",
          "GB",
          "IND",
          "MIA",
          "JAX",
          "WAS",
          "DET",
          "BUF",
          "HOU",
          "ATL",
          "CHI",
          "CAR",
          "SEA",
          "BAL",
          "TEN",
          "DAL",
          "LAC",
          "PHI",
          "MIN",
          "PIT",
          "KC",
          "NE",
          "LA",
          "NO"
         ],
         "y": [
          0.04,
          0.032,
          0.026,
          0.034,
          0.042,
          0.035,
          0.047,
          0.031,
          0.023,
          0.021,
          0.032,
          0.029,
          0.039,
          0.029,
          0.029,
          0.043,
          0.027,
          0.039,
          0.028,
          0.037,
          0.024,
          0.028,
          0.025,
          0.031,
          0.022,
          0.031,
          0.038,
          0.031,
          0.022,
          0.023,
          0.025,
          0.017
         ]
        }
       ],
       "layout": {
        "barmode": "group",
        "template": {
         "data": {
          "bar": [
           {
            "error_x": {
             "color": "#2a3f5f"
            },
            "error_y": {
             "color": "#2a3f5f"
            },
            "marker": {
             "line": {
              "color": "#E5ECF6",
              "width": 0.5
             }
            },
            "type": "bar"
           }
          ],
          "barpolar": [
           {
            "marker": {
             "line": {
              "color": "#E5ECF6",
              "width": 0.5
             }
            },
            "type": "barpolar"
           }
          ],
          "carpet": [
           {
            "aaxis": {
             "endlinecolor": "#2a3f5f",
             "gridcolor": "white",
             "linecolor": "white",
             "minorgridcolor": "white",
             "startlinecolor": "#2a3f5f"
            },
            "baxis": {
             "endlinecolor": "#2a3f5f",
             "gridcolor": "white",
             "linecolor": "white",
             "minorgridcolor": "white",
             "startlinecolor": "#2a3f5f"
            },
            "type": "carpet"
           }
          ],
          "choropleth": [
           {
            "colorbar": {
             "outlinewidth": 0,
             "ticks": ""
            },
            "type": "choropleth"
           }
          ],
          "contour": [
           {
            "colorbar": {
             "outlinewidth": 0,
             "ticks": ""
            },
            "colorscale": [
             [
              0,
              "#0d0887"
             ],
             [
              0.1111111111111111,
              "#46039f"
             ],
             [
              0.2222222222222222,
              "#7201a8"
             ],
             [
              0.3333333333333333,
              "#9c179e"
             ],
             [
              0.4444444444444444,
              "#bd3786"
             ],
             [
              0.5555555555555556,
              "#d8576b"
             ],
             [
              0.6666666666666666,
              "#ed7953"
             ],
             [
              0.7777777777777778,
              "#fb9f3a"
             ],
             [
              0.8888888888888888,
              "#fdca26"
             ],
             [
              1,
              "#f0f921"
             ]
            ],
            "type": "contour"
           }
          ],
          "contourcarpet": [
           {
            "colorbar": {
             "outlinewidth": 0,
             "ticks": ""
            },
            "type": "contourcarpet"
           }
          ],
          "heatmap": [
           {
            "colorbar": {
             "outlinewidth": 0,
             "ticks": ""
            },
            "colorscale": [
             [
              0,
              "#0d0887"
             ],
             [
              0.1111111111111111,
              "#46039f"
             ],
             [
              0.2222222222222222,
              "#7201a8"
             ],
             [
              0.3333333333333333,
              "#9c179e"
             ],
             [
              0.4444444444444444,
              "#bd3786"
             ],
             [
              0.5555555555555556,
              "#d8576b"
             ],
             [
              0.6666666666666666,
              "#ed7953"
             ],
             [
              0.7777777777777778,
              "#fb9f3a"
             ],
             [
              0.8888888888888888,
              "#fdca26"
             ],
             [
              1,
              "#f0f921"
             ]
            ],
            "type": "heatmap"
           }
          ],
          "heatmapgl": [
           {
            "colorbar": {
             "outlinewidth": 0,
             "ticks": ""
            },
            "colorscale": [
             [
              0,
              "#0d0887"
             ],
             [
              0.1111111111111111,
              "#46039f"
             ],
             [
              0.2222222222222222,
              "#7201a8"
             ],
             [
              0.3333333333333333,
              "#9c179e"
             ],
             [
              0.4444444444444444,
              "#bd3786"
             ],
             [
              0.5555555555555556,
              "#d8576b"
             ],
             [
              0.6666666666666666,
              "#ed7953"
             ],
             [
              0.7777777777777778,
              "#fb9f3a"
             ],
             [
              0.8888888888888888,
              "#fdca26"
             ],
             [
              1,
              "#f0f921"
             ]
            ],
            "type": "heatmapgl"
           }
          ],
          "histogram": [
           {
            "marker": {
             "colorbar": {
              "outlinewidth": 0,
              "ticks": ""
             }
            },
            "type": "histogram"
           }
          ],
          "histogram2d": [
           {
            "colorbar": {
             "outlinewidth": 0,
             "ticks": ""
            },
            "colorscale": [
             [
              0,
              "#0d0887"
             ],
             [
              0.1111111111111111,
              "#46039f"
             ],
             [
              0.2222222222222222,
              "#7201a8"
             ],
             [
              0.3333333333333333,
              "#9c179e"
             ],
             [
              0.4444444444444444,
              "#bd3786"
             ],
             [
              0.5555555555555556,
              "#d8576b"
             ],
             [
              0.6666666666666666,
              "#ed7953"
             ],
             [
              0.7777777777777778,
              "#fb9f3a"
             ],
             [
              0.8888888888888888,
              "#fdca26"
             ],
             [
              1,
              "#f0f921"
             ]
            ],
            "type": "histogram2d"
           }
          ],
          "histogram2dcontour": [
           {
            "colorbar": {
             "outlinewidth": 0,
             "ticks": ""
            },
            "colorscale": [
             [
              0,
              "#0d0887"
             ],
             [
              0.1111111111111111,
              "#46039f"
             ],
             [
              0.2222222222222222,
              "#7201a8"
             ],
             [
              0.3333333333333333,
              "#9c179e"
             ],
             [
              0.4444444444444444,
              "#bd3786"
             ],
             [
              0.5555555555555556,
              "#d8576b"
             ],
             [
              0.6666666666666666,
              "#ed7953"
             ],
             [
              0.7777777777777778,
              "#fb9f3a"
             ],
             [
              0.8888888888888888,
              "#fdca26"
             ],
             [
              1,
              "#f0f921"
             ]
            ],
            "type": "histogram2dcontour"
           }
          ],
          "mesh3d": [
           {
            "colorbar": {
             "outlinewidth": 0,
             "ticks": ""
            },
            "type": "mesh3d"
           }
          ],
          "parcoords": [
           {
            "line": {
             "colorbar": {
              "outlinewidth": 0,
              "ticks": ""
             }
            },
            "type": "parcoords"
           }
          ],
          "pie": [
           {
            "automargin": true,
            "type": "pie"
           }
          ],
          "scatter": [
           {
            "marker": {
             "colorbar": {
              "outlinewidth": 0,
              "ticks": ""
             }
            },
            "type": "scatter"
           }
          ],
          "scatter3d": [
           {
            "line": {
             "colorbar": {
              "outlinewidth": 0,
              "ticks": ""
             }
            },
            "marker": {
             "colorbar": {
              "outlinewidth": 0,
              "ticks": ""
             }
            },
            "type": "scatter3d"
           }
          ],
          "scattercarpet": [
           {
            "marker": {
             "colorbar": {
              "outlinewidth": 0,
              "ticks": ""
             }
            },
            "type": "scattercarpet"
           }
          ],
          "scattergeo": [
           {
            "marker": {
             "colorbar": {
              "outlinewidth": 0,
              "ticks": ""
             }
            },
            "type": "scattergeo"
           }
          ],
          "scattergl": [
           {
            "marker": {
             "colorbar": {
              "outlinewidth": 0,
              "ticks": ""
             }
            },
            "type": "scattergl"
           }
          ],
          "scattermapbox": [
           {
            "marker": {
             "colorbar": {
              "outlinewidth": 0,
              "ticks": ""
             }
            },
            "type": "scattermapbox"
           }
          ],
          "scatterpolar": [
           {
            "marker": {
             "colorbar": {
              "outlinewidth": 0,
              "ticks": ""
             }
            },
            "type": "scatterpolar"
           }
          ],
          "scatterpolargl": [
           {
            "marker": {
             "colorbar": {
              "outlinewidth": 0,
              "ticks": ""
             }
            },
            "type": "scatterpolargl"
           }
          ],
          "scatterternary": [
           {
            "marker": {
             "colorbar": {
              "outlinewidth": 0,
              "ticks": ""
             }
            },
            "type": "scatterternary"
           }
          ],
          "surface": [
           {
            "colorbar": {
             "outlinewidth": 0,
             "ticks": ""
            },
            "colorscale": [
             [
              0,
              "#0d0887"
             ],
             [
              0.1111111111111111,
              "#46039f"
             ],
             [
              0.2222222222222222,
              "#7201a8"
             ],
             [
              0.3333333333333333,
              "#9c179e"
             ],
             [
              0.4444444444444444,
              "#bd3786"
             ],
             [
              0.5555555555555556,
              "#d8576b"
             ],
             [
              0.6666666666666666,
              "#ed7953"
             ],
             [
              0.7777777777777778,
              "#fb9f3a"
             ],
             [
              0.8888888888888888,
              "#fdca26"
             ],
             [
              1,
              "#f0f921"
             ]
            ],
            "type": "surface"
           }
          ],
          "table": [
           {
            "cells": {
             "fill": {
              "color": "#EBF0F8"
             },
             "line": {
              "color": "white"
             }
            },
            "header": {
             "fill": {
              "color": "#C8D4E3"
             },
             "line": {
              "color": "white"
             }
            },
            "type": "table"
           }
          ]
         },
         "layout": {
          "annotationdefaults": {
           "arrowcolor": "#2a3f5f",
           "arrowhead": 0,
           "arrowwidth": 1
          },
          "coloraxis": {
           "colorbar": {
            "outlinewidth": 0,
            "ticks": ""
           }
          },
          "colorscale": {
           "diverging": [
            [
             0,
             "#8e0152"
            ],
            [
             0.1,
             "#c51b7d"
            ],
            [
             0.2,
             "#de77ae"
            ],
            [
             0.3,
             "#f1b6da"
            ],
            [
             0.4,
             "#fde0ef"
            ],
            [
             0.5,
             "#f7f7f7"
            ],
            [
             0.6,
             "#e6f5d0"
            ],
            [
             0.7,
             "#b8e186"
            ],
            [
             0.8,
             "#7fbc41"
            ],
            [
             0.9,
             "#4d9221"
            ],
            [
             1,
             "#276419"
            ]
           ],
           "sequential": [
            [
             0,
             "#0d0887"
            ],
            [
             0.1111111111111111,
             "#46039f"
            ],
            [
             0.2222222222222222,
             "#7201a8"
            ],
            [
             0.3333333333333333,
             "#9c179e"
            ],
            [
             0.4444444444444444,
             "#bd3786"
            ],
            [
             0.5555555555555556,
             "#d8576b"
            ],
            [
             0.6666666666666666,
             "#ed7953"
            ],
            [
             0.7777777777777778,
             "#fb9f3a"
            ],
            [
             0.8888888888888888,
             "#fdca26"
            ],
            [
             1,
             "#f0f921"
            ]
           ],
           "sequentialminus": [
            [
             0,
             "#0d0887"
            ],
            [
             0.1111111111111111,
             "#46039f"
            ],
            [
             0.2222222222222222,
             "#7201a8"
            ],
            [
             0.3333333333333333,
             "#9c179e"
            ],
            [
             0.4444444444444444,
             "#bd3786"
            ],
            [
             0.5555555555555556,
             "#d8576b"
            ],
            [
             0.6666666666666666,
             "#ed7953"
            ],
            [
             0.7777777777777778,
             "#fb9f3a"
            ],
            [
             0.8888888888888888,
             "#fdca26"
            ],
            [
             1,
             "#f0f921"
            ]
           ]
          },
          "colorway": [
           "#636efa",
           "#EF553B",
           "#00cc96",
           "#ab63fa",
           "#FFA15A",
           "#19d3f3",
           "#FF6692",
           "#B6E880",
           "#FF97FF",
           "#FECB52"
          ],
          "font": {
           "color": "#2a3f5f"
          },
          "geo": {
           "bgcolor": "white",
           "lakecolor": "white",
           "landcolor": "#E5ECF6",
           "showlakes": true,
           "showland": true,
           "subunitcolor": "white"
          },
          "hoverlabel": {
           "align": "left"
          },
          "hovermode": "closest",
          "mapbox": {
           "style": "light"
          },
          "paper_bgcolor": "white",
          "plot_bgcolor": "#E5ECF6",
          "polar": {
           "angularaxis": {
            "gridcolor": "white",
            "linecolor": "white",
            "ticks": ""
           },
           "bgcolor": "#E5ECF6",
           "radialaxis": {
            "gridcolor": "white",
            "linecolor": "white",
            "ticks": ""
           }
          },
          "scene": {
           "xaxis": {
            "backgroundcolor": "#E5ECF6",
            "gridcolor": "white",
            "gridwidth": 2,
            "linecolor": "white",
            "showbackground": true,
            "ticks": "",
            "zerolinecolor": "white"
           },
           "yaxis": {
            "backgroundcolor": "#E5ECF6",
            "gridcolor": "white",
            "gridwidth": 2,
            "linecolor": "white",
            "showbackground": true,
            "ticks": "",
            "zerolinecolor": "white"
           },
           "zaxis": {
            "backgroundcolor": "#E5ECF6",
            "gridcolor": "white",
            "gridwidth": 2,
            "linecolor": "white",
            "showbackground": true,
            "ticks": "",
            "zerolinecolor": "white"
           }
          },
          "shapedefaults": {
           "line": {
            "color": "#2a3f5f"
           }
          },
          "ternary": {
           "aaxis": {
            "gridcolor": "white",
            "linecolor": "white",
            "ticks": ""
           },
           "baxis": {
            "gridcolor": "white",
            "linecolor": "white",
            "ticks": ""
           },
           "bgcolor": "#E5ECF6",
           "caxis": {
            "gridcolor": "white",
            "linecolor": "white",
            "ticks": ""
           }
          },
          "title": {
           "x": 0.05
          },
          "xaxis": {
           "automargin": true,
           "gridcolor": "white",
           "linecolor": "white",
           "ticks": "",
           "title": {
            "standoff": 15
           },
           "zerolinecolor": "white",
           "zerolinewidth": 2
          },
          "yaxis": {
           "automargin": true,
           "gridcolor": "white",
           "linecolor": "white",
           "ticks": "",
           "title": {
            "standoff": 15
           },
           "zerolinecolor": "white",
           "zerolinewidth": 2
          }
         }
        },
        "title": {
         "text": "Turnover Rate per Year (2017 & 2018)",
         "x": 0.5,
         "xanchor": "center",
         "y": 0.95,
         "yanchor": "top"
        }
       }
      },
      "text/html": [
       "<div>\n",
       "        \n",
       "        \n",
       "            <div id=\"7663906b-4623-42de-9daa-f867492313db\" class=\"plotly-graph-div\" style=\"height:525px; width:100%;\"></div>\n",
       "            <script type=\"text/javascript\">\n",
       "                require([\"plotly\"], function(Plotly) {\n",
       "                    window.PLOTLYENV=window.PLOTLYENV || {};\n",
       "                    \n",
       "                if (document.getElementById(\"7663906b-4623-42de-9daa-f867492313db\")) {\n",
       "                    Plotly.newPlot(\n",
       "                        '7663906b-4623-42de-9daa-f867492313db',\n",
       "                        [{\"name\": \"2017\", \"type\": \"bar\", \"x\": [\"CLE\", \"NYG\", \"OAK\", \"NYJ\", \"TB\", \"SF\", \"ARI\", \"DEN\", \"CIN\", \"GB\", \"IND\", \"MIA\", \"JAX\", \"WAS\", \"DET\", \"BUF\", \"HOU\", \"ATL\", \"CHI\", \"CAR\", \"SEA\", \"BAL\", \"TEN\", \"DAL\", \"LAC\", \"PHI\", \"MIN\", \"PIT\", \"KC\", \"NE\", \"LA\", \"NO\"], \"y\": [0.038, 0.035, 0.039, 0.032, 0.04, 0.027, 0.034, 0.037, 0.03, 0.032, 0.033, 0.043, 0.03, 0.033, 0.029, 0.028, 0.033, 0.026, 0.038, 0.031, 0.03, 0.025, 0.025, 0.023, 0.024, 0.03, 0.02, 0.023, 0.021, 0.018, 0.026, 0.022]}, {\"name\": \"2018\", \"type\": \"bar\", \"x\": [\"CLE\", \"NYG\", \"OAK\", \"NYJ\", \"TB\", \"SF\", \"ARI\", \"DEN\", \"CIN\", \"GB\", \"IND\", \"MIA\", \"JAX\", \"WAS\", \"DET\", \"BUF\", \"HOU\", \"ATL\", \"CHI\", \"CAR\", \"SEA\", \"BAL\", \"TEN\", \"DAL\", \"LAC\", \"PHI\", \"MIN\", \"PIT\", \"KC\", \"NE\", \"LA\", \"NO\"], \"y\": [0.04, 0.032, 0.026, 0.034, 0.042, 0.035, 0.047, 0.031, 0.023, 0.021, 0.032, 0.029, 0.039, 0.029, 0.029, 0.043, 0.027, 0.039, 0.028, 0.037, 0.024, 0.028, 0.025, 0.031, 0.022, 0.031, 0.038, 0.031, 0.022, 0.023, 0.025, 0.017]}],\n",
       "                        {\"barmode\": \"group\", \"template\": {\"data\": {\"bar\": [{\"error_x\": {\"color\": \"#2a3f5f\"}, \"error_y\": {\"color\": \"#2a3f5f\"}, \"marker\": {\"line\": {\"color\": \"#E5ECF6\", \"width\": 0.5}}, \"type\": \"bar\"}], \"barpolar\": [{\"marker\": {\"line\": {\"color\": \"#E5ECF6\", \"width\": 0.5}}, \"type\": \"barpolar\"}], \"carpet\": [{\"aaxis\": {\"endlinecolor\": \"#2a3f5f\", \"gridcolor\": \"white\", \"linecolor\": \"white\", \"minorgridcolor\": \"white\", \"startlinecolor\": \"#2a3f5f\"}, \"baxis\": {\"endlinecolor\": \"#2a3f5f\", \"gridcolor\": \"white\", \"linecolor\": \"white\", \"minorgridcolor\": \"white\", \"startlinecolor\": \"#2a3f5f\"}, \"type\": \"carpet\"}], \"choropleth\": [{\"colorbar\": {\"outlinewidth\": 0, \"ticks\": \"\"}, \"type\": \"choropleth\"}], \"contour\": [{\"colorbar\": {\"outlinewidth\": 0, \"ticks\": \"\"}, \"colorscale\": [[0.0, \"#0d0887\"], [0.1111111111111111, \"#46039f\"], [0.2222222222222222, \"#7201a8\"], [0.3333333333333333, \"#9c179e\"], [0.4444444444444444, \"#bd3786\"], [0.5555555555555556, \"#d8576b\"], [0.6666666666666666, \"#ed7953\"], [0.7777777777777778, \"#fb9f3a\"], [0.8888888888888888, \"#fdca26\"], [1.0, \"#f0f921\"]], \"type\": \"contour\"}], \"contourcarpet\": [{\"colorbar\": {\"outlinewidth\": 0, \"ticks\": \"\"}, \"type\": \"contourcarpet\"}], \"heatmap\": [{\"colorbar\": {\"outlinewidth\": 0, \"ticks\": \"\"}, \"colorscale\": [[0.0, \"#0d0887\"], [0.1111111111111111, \"#46039f\"], [0.2222222222222222, \"#7201a8\"], [0.3333333333333333, \"#9c179e\"], [0.4444444444444444, \"#bd3786\"], [0.5555555555555556, \"#d8576b\"], [0.6666666666666666, \"#ed7953\"], [0.7777777777777778, \"#fb9f3a\"], [0.8888888888888888, \"#fdca26\"], [1.0, \"#f0f921\"]], \"type\": \"heatmap\"}], \"heatmapgl\": [{\"colorbar\": {\"outlinewidth\": 0, \"ticks\": \"\"}, \"colorscale\": [[0.0, \"#0d0887\"], [0.1111111111111111, \"#46039f\"], [0.2222222222222222, \"#7201a8\"], [0.3333333333333333, \"#9c179e\"], [0.4444444444444444, \"#bd3786\"], [0.5555555555555556, \"#d8576b\"], [0.6666666666666666, \"#ed7953\"], [0.7777777777777778, \"#fb9f3a\"], [0.8888888888888888, \"#fdca26\"], [1.0, \"#f0f921\"]], \"type\": \"heatmapgl\"}], \"histogram\": [{\"marker\": {\"colorbar\": {\"outlinewidth\": 0, \"ticks\": \"\"}}, \"type\": \"histogram\"}], \"histogram2d\": [{\"colorbar\": {\"outlinewidth\": 0, \"ticks\": \"\"}, \"colorscale\": [[0.0, \"#0d0887\"], [0.1111111111111111, \"#46039f\"], [0.2222222222222222, \"#7201a8\"], [0.3333333333333333, \"#9c179e\"], [0.4444444444444444, \"#bd3786\"], [0.5555555555555556, \"#d8576b\"], [0.6666666666666666, \"#ed7953\"], [0.7777777777777778, \"#fb9f3a\"], [0.8888888888888888, \"#fdca26\"], [1.0, \"#f0f921\"]], \"type\": \"histogram2d\"}], \"histogram2dcontour\": [{\"colorbar\": {\"outlinewidth\": 0, \"ticks\": \"\"}, \"colorscale\": [[0.0, \"#0d0887\"], [0.1111111111111111, \"#46039f\"], [0.2222222222222222, \"#7201a8\"], [0.3333333333333333, \"#9c179e\"], [0.4444444444444444, \"#bd3786\"], [0.5555555555555556, \"#d8576b\"], [0.6666666666666666, \"#ed7953\"], [0.7777777777777778, \"#fb9f3a\"], [0.8888888888888888, \"#fdca26\"], [1.0, \"#f0f921\"]], \"type\": \"histogram2dcontour\"}], \"mesh3d\": [{\"colorbar\": {\"outlinewidth\": 0, \"ticks\": \"\"}, \"type\": \"mesh3d\"}], \"parcoords\": [{\"line\": {\"colorbar\": {\"outlinewidth\": 0, \"ticks\": \"\"}}, \"type\": \"parcoords\"}], \"pie\": [{\"automargin\": true, \"type\": \"pie\"}], \"scatter\": [{\"marker\": {\"colorbar\": {\"outlinewidth\": 0, \"ticks\": \"\"}}, \"type\": \"scatter\"}], \"scatter3d\": [{\"line\": {\"colorbar\": {\"outlinewidth\": 0, \"ticks\": \"\"}}, \"marker\": {\"colorbar\": {\"outlinewidth\": 0, \"ticks\": \"\"}}, \"type\": \"scatter3d\"}], \"scattercarpet\": [{\"marker\": {\"colorbar\": {\"outlinewidth\": 0, \"ticks\": \"\"}}, \"type\": \"scattercarpet\"}], \"scattergeo\": [{\"marker\": {\"colorbar\": {\"outlinewidth\": 0, \"ticks\": \"\"}}, \"type\": \"scattergeo\"}], \"scattergl\": [{\"marker\": {\"colorbar\": {\"outlinewidth\": 0, \"ticks\": \"\"}}, \"type\": \"scattergl\"}], \"scattermapbox\": [{\"marker\": {\"colorbar\": {\"outlinewidth\": 0, \"ticks\": \"\"}}, \"type\": \"scattermapbox\"}], \"scatterpolar\": [{\"marker\": {\"colorbar\": {\"outlinewidth\": 0, \"ticks\": \"\"}}, \"type\": \"scatterpolar\"}], \"scatterpolargl\": [{\"marker\": {\"colorbar\": {\"outlinewidth\": 0, \"ticks\": \"\"}}, \"type\": \"scatterpolargl\"}], \"scatterternary\": [{\"marker\": {\"colorbar\": {\"outlinewidth\": 0, \"ticks\": \"\"}}, \"type\": \"scatterternary\"}], \"surface\": [{\"colorbar\": {\"outlinewidth\": 0, \"ticks\": \"\"}, \"colorscale\": [[0.0, \"#0d0887\"], [0.1111111111111111, \"#46039f\"], [0.2222222222222222, \"#7201a8\"], [0.3333333333333333, \"#9c179e\"], [0.4444444444444444, \"#bd3786\"], [0.5555555555555556, \"#d8576b\"], [0.6666666666666666, \"#ed7953\"], [0.7777777777777778, \"#fb9f3a\"], [0.8888888888888888, \"#fdca26\"], [1.0, \"#f0f921\"]], \"type\": \"surface\"}], \"table\": [{\"cells\": {\"fill\": {\"color\": \"#EBF0F8\"}, \"line\": {\"color\": \"white\"}}, \"header\": {\"fill\": {\"color\": \"#C8D4E3\"}, \"line\": {\"color\": \"white\"}}, \"type\": \"table\"}]}, \"layout\": {\"annotationdefaults\": {\"arrowcolor\": \"#2a3f5f\", \"arrowhead\": 0, \"arrowwidth\": 1}, \"coloraxis\": {\"colorbar\": {\"outlinewidth\": 0, \"ticks\": \"\"}}, \"colorscale\": {\"diverging\": [[0, \"#8e0152\"], [0.1, \"#c51b7d\"], [0.2, \"#de77ae\"], [0.3, \"#f1b6da\"], [0.4, \"#fde0ef\"], [0.5, \"#f7f7f7\"], [0.6, \"#e6f5d0\"], [0.7, \"#b8e186\"], [0.8, \"#7fbc41\"], [0.9, \"#4d9221\"], [1, \"#276419\"]], \"sequential\": [[0.0, \"#0d0887\"], [0.1111111111111111, \"#46039f\"], [0.2222222222222222, \"#7201a8\"], [0.3333333333333333, \"#9c179e\"], [0.4444444444444444, \"#bd3786\"], [0.5555555555555556, \"#d8576b\"], [0.6666666666666666, \"#ed7953\"], [0.7777777777777778, \"#fb9f3a\"], [0.8888888888888888, \"#fdca26\"], [1.0, \"#f0f921\"]], \"sequentialminus\": [[0.0, \"#0d0887\"], [0.1111111111111111, \"#46039f\"], [0.2222222222222222, \"#7201a8\"], [0.3333333333333333, \"#9c179e\"], [0.4444444444444444, \"#bd3786\"], [0.5555555555555556, \"#d8576b\"], [0.6666666666666666, \"#ed7953\"], [0.7777777777777778, \"#fb9f3a\"], [0.8888888888888888, \"#fdca26\"], [1.0, \"#f0f921\"]]}, \"colorway\": [\"#636efa\", \"#EF553B\", \"#00cc96\", \"#ab63fa\", \"#FFA15A\", \"#19d3f3\", \"#FF6692\", \"#B6E880\", \"#FF97FF\", \"#FECB52\"], \"font\": {\"color\": \"#2a3f5f\"}, \"geo\": {\"bgcolor\": \"white\", \"lakecolor\": \"white\", \"landcolor\": \"#E5ECF6\", \"showlakes\": true, \"showland\": true, \"subunitcolor\": \"white\"}, \"hoverlabel\": {\"align\": \"left\"}, \"hovermode\": \"closest\", \"mapbox\": {\"style\": \"light\"}, \"paper_bgcolor\": \"white\", \"plot_bgcolor\": \"#E5ECF6\", \"polar\": {\"angularaxis\": {\"gridcolor\": \"white\", \"linecolor\": \"white\", \"ticks\": \"\"}, \"bgcolor\": \"#E5ECF6\", \"radialaxis\": {\"gridcolor\": \"white\", \"linecolor\": \"white\", \"ticks\": \"\"}}, \"scene\": {\"xaxis\": {\"backgroundcolor\": \"#E5ECF6\", \"gridcolor\": \"white\", \"gridwidth\": 2, \"linecolor\": \"white\", \"showbackground\": true, \"ticks\": \"\", \"zerolinecolor\": \"white\"}, \"yaxis\": {\"backgroundcolor\": \"#E5ECF6\", \"gridcolor\": \"white\", \"gridwidth\": 2, \"linecolor\": \"white\", \"showbackground\": true, \"ticks\": \"\", \"zerolinecolor\": \"white\"}, \"zaxis\": {\"backgroundcolor\": \"#E5ECF6\", \"gridcolor\": \"white\", \"gridwidth\": 2, \"linecolor\": \"white\", \"showbackground\": true, \"ticks\": \"\", \"zerolinecolor\": \"white\"}}, \"shapedefaults\": {\"line\": {\"color\": \"#2a3f5f\"}}, \"ternary\": {\"aaxis\": {\"gridcolor\": \"white\", \"linecolor\": \"white\", \"ticks\": \"\"}, \"baxis\": {\"gridcolor\": \"white\", \"linecolor\": \"white\", \"ticks\": \"\"}, \"bgcolor\": \"#E5ECF6\", \"caxis\": {\"gridcolor\": \"white\", \"linecolor\": \"white\", \"ticks\": \"\"}}, \"title\": {\"x\": 0.05}, \"xaxis\": {\"automargin\": true, \"gridcolor\": \"white\", \"linecolor\": \"white\", \"ticks\": \"\", \"title\": {\"standoff\": 15}, \"zerolinecolor\": \"white\", \"zerolinewidth\": 2}, \"yaxis\": {\"automargin\": true, \"gridcolor\": \"white\", \"linecolor\": \"white\", \"ticks\": \"\", \"title\": {\"standoff\": 15}, \"zerolinecolor\": \"white\", \"zerolinewidth\": 2}}}, \"title\": {\"text\": \"Turnover Rate per Year (2017 & 2018)\", \"x\": 0.5, \"xanchor\": \"center\", \"y\": 0.95, \"yanchor\": \"top\"}},\n",
       "                        {\"responsive\": true}\n",
       "                    ).then(function(){\n",
       "                            \n",
       "var gd = document.getElementById('7663906b-4623-42de-9daa-f867492313db');\n",
       "var x = new MutationObserver(function (mutations, observer) {{\n",
       "        var display = window.getComputedStyle(gd).display;\n",
       "        if (!display || display === 'none') {{\n",
       "            console.log([gd, 'removed!']);\n",
       "            Plotly.purge(gd);\n",
       "            observer.disconnect();\n",
       "        }}\n",
       "}});\n",
       "\n",
       "// Listen for the removal of the full notebook cells\n",
       "var notebookContainer = gd.closest('#notebook-container');\n",
       "if (notebookContainer) {{\n",
       "    x.observe(notebookContainer, {childList: true});\n",
       "}}\n",
       "\n",
       "// Listen for the clearing of the current output cell\n",
       "var outputEl = gd.closest('.output');\n",
       "if (outputEl) {{\n",
       "    x.observe(outputEl, {childList: true});\n",
       "}}\n",
       "\n",
       "                        })\n",
       "                };\n",
       "                });\n",
       "            </script>\n",
       "        </div>"
      ]
     },
     "metadata": {},
     "output_type": "display_data"
    }
   ],
   "source": [
    "fig = go.Figure(data = [go.Bar(name = '2017', x = team_by_wins['team'], y = TO_rate_2017),\\\n",
    "                        go.Bar(name = '2018', x = team_by_wins['team'], y = TO_rate_2018)\n",
    "                       ])\n",
    "\n",
    "layout = go.Layout(\n",
    "    title = 'Turnover Rate per Year (2017 & 2018)',\n",
    "    xaxis= dict(title= 'Team',ticklen= 1,zeroline= False),\n",
    "    yaxis= dict(title= 'TO Rate',ticklen= 5,zeroline= False)\n",
    ")\n",
    "\n",
    "fig.update_layout(\n",
    "    title={\n",
    "        'text':'Turnover Rate per Year (2017 & 2018)',\n",
    "        'y':0.95,\n",
    "        'x':0.5,\n",
    "        'xanchor': 'center',\n",
    "        'yanchor': 'top'},\n",
    "        barmode='group')\n",
    "\n",
    "fig"
   ]
  },
  {
   "cell_type": "markdown",
   "metadata": {},
   "source": [
    "Also, as expected, teams more likely to win seem to turn the ball over less"
   ]
  },
  {
   "cell_type": "code",
   "execution_count": 81,
   "metadata": {},
   "outputs": [],
   "source": [
    "df = nfl_small2_end_of_drive.groupby(['game_id','game_name']).count().reset_index()[['game_id','game_name']]"
   ]
  },
  {
   "cell_type": "markdown",
   "metadata": {},
   "source": [
    "<h2>Feature Analysis for Weather</h2>"
   ]
  },
  {
   "cell_type": "code",
   "execution_count": 82,
   "metadata": {},
   "outputs": [],
   "source": [
    "# Using a form of Joey's agg function\n",
    "def my_aggfunc(x):\n",
    "    values = {\n",
    "        'pass_home':x[x['posteam_type']=='home']['play_type'].eq('pass').sum(),\n",
    "        'pass_away':x[x['posteam_type']=='away']['play_type'].eq('pass').sum(),\n",
    "        \n",
    "        'run_home':x[x['posteam_type']=='home']['play_type'].eq('run').sum(),\n",
    "        'run_away':x[x['posteam_type']=='away']['play_type'].eq('run').sum(),\n",
    "        \n",
    "        'TO_home':x[x['posteam_type']=='home']['INT'].sum() +\\\n",
    "        x[x['posteam_type']=='home']['fumble'].sum(),\n",
    "        'TO_away':x[x['posteam_type']=='away']['INT'].sum() +\\\n",
    "        x[x['posteam_type']=='away']['fumble'].sum(),\n",
    "        \n",
    "        'yards_home':x[(x['posteam_type']=='home') & (x['end_of_drive']==1)]['ydsnet'].sum(),\n",
    "        'yards_away':x[(x['posteam_type']=='away') & (x['end_of_drive']==1)]['ydsnet'].sum(),\n",
    "        \n",
    "        'fg_at_home':x[(x['posteam_type']=='home')&(x['play_type']=='field_goal')]['play_type'].count(),\n",
    "        'fg_at_away':x[(x['posteam_type']=='away')&(x['play_type']=='field_goal')]['play_type'].count(),\n",
    "        \n",
    "        'fg_md_home':x[(x['posteam_type']=='home')&(x['play_type']=='field_goal')]['play_type'].count(),\n",
    "        'fg_md_away':x[(x['posteam_type']=='away')&(x['play_type']=='field_goal')]['play_type'].count(),\n",
    "        \n",
    "        'pass_yards_home':x[(x['posteam_type']=='home')&(x['play_type']=='pass')]['yards_gained'].sum(),\n",
    "        'pass_yards_away':x[(x['posteam_type']=='away')&(x['play_type']=='pass')]['yards_gained'].sum(),\n",
    "        \n",
    "        'run_yards_home':x[(x['posteam_type']=='home')&(x['play_type']=='run')]['yards_gained'].sum(),\n",
    "        'run_yards_away':x[(x['posteam_type']=='away')&(x['play_type']=='run')]['yards_gained'].sum()\n",
    "        \n",
    "    }\n",
    "    return pd.Series(values)"
   ]
  },
  {
   "cell_type": "code",
   "execution_count": 83,
   "metadata": {},
   "outputs": [],
   "source": [
    "new_df = pd.DataFrame()\n",
    "new_df = nfl_small2_end_of_drive.groupby(['game_id']).apply(my_aggfunc)\n"
   ]
  },
  {
   "cell_type": "code",
   "execution_count": 84,
   "metadata": {},
   "outputs": [],
   "source": [
    "new_df['home_team'] = nfl_small2_end_of_drive.groupby('game_id')['home_team'].first()\n",
    "new_df['away_team'] = nfl_small2_end_of_drive.groupby('game_id')['away_team'].first()\n",
    "new_df['home_score'] = nfl_small2_end_of_drive.groupby('game_id')['total_home_score'].last()\n",
    "new_df['away_score'] = nfl_small2_end_of_drive.groupby('game_id')['total_away_score'].last()"
   ]
  },
  {
   "cell_type": "code",
   "execution_count": 85,
   "metadata": {},
   "outputs": [
    {
     "data": {
      "text/html": [
       "<div>\n",
       "<style scoped>\n",
       "    .dataframe tbody tr th:only-of-type {\n",
       "        vertical-align: middle;\n",
       "    }\n",
       "\n",
       "    .dataframe tbody tr th {\n",
       "        vertical-align: top;\n",
       "    }\n",
       "\n",
       "    .dataframe thead th {\n",
       "        text-align: right;\n",
       "    }\n",
       "</style>\n",
       "<table border=\"1\" class=\"dataframe\">\n",
       "  <thead>\n",
       "    <tr style=\"text-align: right;\">\n",
       "      <th></th>\n",
       "      <th>game_id</th>\n",
       "      <th>pass_home</th>\n",
       "      <th>pass_away</th>\n",
       "      <th>run_home</th>\n",
       "      <th>run_away</th>\n",
       "      <th>TO_home</th>\n",
       "      <th>TO_away</th>\n",
       "      <th>yards_home</th>\n",
       "      <th>yards_away</th>\n",
       "      <th>fg_at_home</th>\n",
       "      <th>fg_at_away</th>\n",
       "      <th>fg_md_home</th>\n",
       "      <th>fg_md_away</th>\n",
       "      <th>pass_yards_home</th>\n",
       "      <th>pass_yards_away</th>\n",
       "      <th>run_yards_home</th>\n",
       "      <th>run_yards_away</th>\n",
       "      <th>home_team</th>\n",
       "      <th>away_team</th>\n",
       "      <th>home_score</th>\n",
       "      <th>away_score</th>\n",
       "    </tr>\n",
       "  </thead>\n",
       "  <tbody>\n",
       "    <tr>\n",
       "      <td>0</td>\n",
       "      <td>2017090700</td>\n",
       "      <td>39.0</td>\n",
       "      <td>38.0</td>\n",
       "      <td>34.0</td>\n",
       "      <td>24.0</td>\n",
       "      <td>2.0</td>\n",
       "      <td>1.0</td>\n",
       "      <td>425.0</td>\n",
       "      <td>538.0</td>\n",
       "      <td>2.0</td>\n",
       "      <td>0.0</td>\n",
       "      <td>2.0</td>\n",
       "      <td>0.0</td>\n",
       "      <td>247.0</td>\n",
       "      <td>352.0</td>\n",
       "      <td>125.0</td>\n",
       "      <td>191.0</td>\n",
       "      <td>NE</td>\n",
       "      <td>KC</td>\n",
       "      <td>27</td>\n",
       "      <td>42</td>\n",
       "    </tr>\n",
       "    <tr>\n",
       "      <td>1</td>\n",
       "      <td>2017091000</td>\n",
       "      <td>29.0</td>\n",
       "      <td>41.0</td>\n",
       "      <td>39.0</td>\n",
       "      <td>14.0</td>\n",
       "      <td>2.0</td>\n",
       "      <td>3.0</td>\n",
       "      <td>400.0</td>\n",
       "      <td>199.0</td>\n",
       "      <td>1.0</td>\n",
       "      <td>2.0</td>\n",
       "      <td>1.0</td>\n",
       "      <td>2.0</td>\n",
       "      <td>218.0</td>\n",
       "      <td>176.0</td>\n",
       "      <td>193.0</td>\n",
       "      <td>39.0</td>\n",
       "      <td>BUF</td>\n",
       "      <td>NYJ</td>\n",
       "      <td>21</td>\n",
       "      <td>12</td>\n",
       "    </tr>\n",
       "    <tr>\n",
       "      <td>2</td>\n",
       "      <td>2017091001</td>\n",
       "      <td>44.0</td>\n",
       "      <td>32.0</td>\n",
       "      <td>19.0</td>\n",
       "      <td>21.0</td>\n",
       "      <td>3.0</td>\n",
       "      <td>0.0</td>\n",
       "      <td>306.0</td>\n",
       "      <td>372.0</td>\n",
       "      <td>1.0</td>\n",
       "      <td>3.0</td>\n",
       "      <td>1.0</td>\n",
       "      <td>3.0</td>\n",
       "      <td>176.0</td>\n",
       "      <td>308.0</td>\n",
       "      <td>125.0</td>\n",
       "      <td>66.0</td>\n",
       "      <td>CHI</td>\n",
       "      <td>ATL</td>\n",
       "      <td>17</td>\n",
       "      <td>23</td>\n",
       "    </tr>\n",
       "    <tr>\n",
       "      <td>3</td>\n",
       "      <td>2017091002</td>\n",
       "      <td>36.0</td>\n",
       "      <td>18.0</td>\n",
       "      <td>22.0</td>\n",
       "      <td>42.0</td>\n",
       "      <td>7.0</td>\n",
       "      <td>1.0</td>\n",
       "      <td>217.0</td>\n",
       "      <td>255.0</td>\n",
       "      <td>0.0</td>\n",
       "      <td>2.0</td>\n",
       "      <td>0.0</td>\n",
       "      <td>2.0</td>\n",
       "      <td>144.0</td>\n",
       "      <td>111.0</td>\n",
       "      <td>77.0</td>\n",
       "      <td>157.0</td>\n",
       "      <td>CIN</td>\n",
       "      <td>BAL</td>\n",
       "      <td>0</td>\n",
       "      <td>20</td>\n",
       "    </tr>\n",
       "    <tr>\n",
       "      <td>4</td>\n",
       "      <td>2017091003</td>\n",
       "      <td>37.0</td>\n",
       "      <td>37.0</td>\n",
       "      <td>26.0</td>\n",
       "      <td>14.0</td>\n",
       "      <td>2.0</td>\n",
       "      <td>3.0</td>\n",
       "      <td>293.0</td>\n",
       "      <td>287.0</td>\n",
       "      <td>1.0</td>\n",
       "      <td>0.0</td>\n",
       "      <td>1.0</td>\n",
       "      <td>0.0</td>\n",
       "      <td>180.0</td>\n",
       "      <td>255.0</td>\n",
       "      <td>59.0</td>\n",
       "      <td>43.0</td>\n",
       "      <td>CLE</td>\n",
       "      <td>PIT</td>\n",
       "      <td>18</td>\n",
       "      <td>20</td>\n",
       "    </tr>\n",
       "  </tbody>\n",
       "</table>\n",
       "</div>"
      ],
      "text/plain": [
       "      game_id  pass_home  pass_away  run_home  run_away  TO_home  TO_away  \\\n",
       "0  2017090700       39.0       38.0      34.0      24.0      2.0      1.0   \n",
       "1  2017091000       29.0       41.0      39.0      14.0      2.0      3.0   \n",
       "2  2017091001       44.0       32.0      19.0      21.0      3.0      0.0   \n",
       "3  2017091002       36.0       18.0      22.0      42.0      7.0      1.0   \n",
       "4  2017091003       37.0       37.0      26.0      14.0      2.0      3.0   \n",
       "\n",
       "   yards_home  yards_away  fg_at_home  fg_at_away  fg_md_home  fg_md_away  \\\n",
       "0       425.0       538.0         2.0         0.0         2.0         0.0   \n",
       "1       400.0       199.0         1.0         2.0         1.0         2.0   \n",
       "2       306.0       372.0         1.0         3.0         1.0         3.0   \n",
       "3       217.0       255.0         0.0         2.0         0.0         2.0   \n",
       "4       293.0       287.0         1.0         0.0         1.0         0.0   \n",
       "\n",
       "   pass_yards_home  pass_yards_away  run_yards_home  run_yards_away home_team  \\\n",
       "0            247.0            352.0           125.0           191.0        NE   \n",
       "1            218.0            176.0           193.0            39.0       BUF   \n",
       "2            176.0            308.0           125.0            66.0       CHI   \n",
       "3            144.0            111.0            77.0           157.0       CIN   \n",
       "4            180.0            255.0            59.0            43.0       CLE   \n",
       "\n",
       "  away_team  home_score  away_score  \n",
       "0        KC          27          42  \n",
       "1       NYJ          21          12  \n",
       "2       ATL          17          23  \n",
       "3       BAL           0          20  \n",
       "4       PIT          18          20  "
      ]
     },
     "execution_count": 85,
     "metadata": {},
     "output_type": "execute_result"
    }
   ],
   "source": [
    "new_df.reset_index().head()"
   ]
  },
  {
   "cell_type": "code",
   "execution_count": 86,
   "metadata": {
    "scrolled": true
   },
   "outputs": [],
   "source": [
    "# new_df['pass_ratio'] = new_df['']"
   ]
  },
  {
   "cell_type": "code",
   "execution_count": 87,
   "metadata": {},
   "outputs": [],
   "source": [
    "away_cols = ['pass_away','run_away','TO_away','yards_away','away_team','home_score','away_score']"
   ]
  },
  {
   "cell_type": "code",
   "execution_count": 88,
   "metadata": {},
   "outputs": [],
   "source": [
    "test_df = new_df.reset_index()[['game_id','home_team','away_team']]\\\n",
    "                .melt(id_vars='game_id',var_name = 'home_away',value_name=\"Team\")\n"
   ]
  },
  {
   "cell_type": "code",
   "execution_count": 89,
   "metadata": {},
   "outputs": [
    {
     "data": {
      "text/html": [
       "<div>\n",
       "<style scoped>\n",
       "    .dataframe tbody tr th:only-of-type {\n",
       "        vertical-align: middle;\n",
       "    }\n",
       "\n",
       "    .dataframe tbody tr th {\n",
       "        vertical-align: top;\n",
       "    }\n",
       "\n",
       "    .dataframe thead th {\n",
       "        text-align: right;\n",
       "    }\n",
       "</style>\n",
       "<table border=\"1\" class=\"dataframe\">\n",
       "  <thead>\n",
       "    <tr style=\"text-align: right;\">\n",
       "      <th></th>\n",
       "      <th>game_id</th>\n",
       "      <th>home_away</th>\n",
       "      <th>Team</th>\n",
       "    </tr>\n",
       "  </thead>\n",
       "  <tbody>\n",
       "    <tr>\n",
       "      <td>0</td>\n",
       "      <td>2017090700</td>\n",
       "      <td>home_team</td>\n",
       "      <td>NE</td>\n",
       "    </tr>\n",
       "    <tr>\n",
       "      <td>480</td>\n",
       "      <td>2017090700</td>\n",
       "      <td>away_team</td>\n",
       "      <td>KC</td>\n",
       "    </tr>\n",
       "  </tbody>\n",
       "</table>\n",
       "</div>"
      ],
      "text/plain": [
       "        game_id  home_away Team\n",
       "0    2017090700  home_team   NE\n",
       "480  2017090700  away_team   KC"
      ]
     },
     "execution_count": 89,
     "metadata": {},
     "output_type": "execute_result"
    }
   ],
   "source": [
    "test_df[test_df['game_id']==2017090700]"
   ]
  },
  {
   "cell_type": "code",
   "execution_count": 90,
   "metadata": {},
   "outputs": [],
   "source": [
    "test_df_home = test_df.merge(new_df.reset_index(),how='inner',left_on=['game_id','Team'],\\\n",
    "                             right_on=['game_id','home_team'])\n",
    "# test_df = test_df.merge(new_df.reset_index(),how='left',left_on=['game_id','Team'],right_on=['game_id','away_team'])"
   ]
  },
  {
   "cell_type": "code",
   "execution_count": 91,
   "metadata": {},
   "outputs": [],
   "source": [
    "# Setting variables for Home Team\n",
    "test_df_home['team_against'] = test_df_home[test_df_home['home_away']=='home_team']['away_team']\n",
    "test_df_home['score'] = test_df_home[test_df_home['home_away']=='home_team']['home_score']\n",
    "test_df_home['score_against'] = test_df_home[test_df_home['home_away']=='home_team']['away_score']\n",
    "\n",
    "test_df_home['yards'] = test_df_home[test_df_home['home_away']=='home_team']['yards_home']\n",
    "test_df_home['yards_against'] = test_df_home[test_df_home['home_away']=='home_team']['yards_away']\n",
    "\n",
    "test_df_home['run_plays'] = test_df_home[test_df_home['home_away']=='home_team']['run_home']\n",
    "test_df_home['run_plays_against'] = test_df_home[test_df_home['home_away']=='home_team']['run_away']\n",
    "\n",
    "test_df_home['pass_plays'] = test_df_home[test_df_home['home_away']=='home_team']['pass_home']\n",
    "test_df_home['pass_plays_against'] = test_df_home[test_df_home['home_away']=='home_team']['pass_away']\n",
    "\n",
    "test_df_home['to_for'] = test_df_home[test_df_home['home_away']=='home_team']['TO_home']\n",
    "test_df_home['to_against'] = test_df_home[test_df_home['home_away']=='home_team']['TO_away']\n",
    "\n",
    "test_df_home['fg_at'] = test_df_home[test_df_home['home_away']=='home_team']['fg_at_home']\n",
    "test_df_home['fg_md'] = test_df_home[test_df_home['home_away']=='home_team']['fg_md_home']\n",
    "\n",
    "test_df_home['fg_at_against'] = test_df_home[test_df_home['home_away']=='home_team']['fg_at_away']\n",
    "test_df_home['fg_md_against'] = test_df_home[test_df_home['home_away']=='home_team']['fg_md_away']\n",
    "\n",
    "test_df_home['pass_yards'] = test_df_home[test_df_home['home_away']=='home_team']['pass_yards_home']\n",
    "test_df_home['pass_yards_against'] = test_df_home[test_df_home['home_away']=='home_team']['pass_yards_away']\n",
    "\n",
    "test_df_home['run_yards'] = test_df_home[test_df_home['home_away']=='home_team']['run_yards_home']\n",
    "test_df_home['run_yards_against'] = test_df_home[test_df_home['home_away']=='home_team']['run_yards_away']\n",
    "\n",
    "# Add other field goal columns\n",
    "\n"
   ]
  },
  {
   "cell_type": "code",
   "execution_count": 92,
   "metadata": {},
   "outputs": [
    {
     "data": {
      "text/html": [
       "<div>\n",
       "<style scoped>\n",
       "    .dataframe tbody tr th:only-of-type {\n",
       "        vertical-align: middle;\n",
       "    }\n",
       "\n",
       "    .dataframe tbody tr th {\n",
       "        vertical-align: top;\n",
       "    }\n",
       "\n",
       "    .dataframe thead th {\n",
       "        text-align: right;\n",
       "    }\n",
       "</style>\n",
       "<table border=\"1\" class=\"dataframe\">\n",
       "  <thead>\n",
       "    <tr style=\"text-align: right;\">\n",
       "      <th></th>\n",
       "      <th>game_id</th>\n",
       "      <th>home_away</th>\n",
       "      <th>Team</th>\n",
       "      <th>pass_home</th>\n",
       "      <th>pass_away</th>\n",
       "      <th>run_home</th>\n",
       "      <th>run_away</th>\n",
       "      <th>TO_home</th>\n",
       "      <th>TO_away</th>\n",
       "      <th>yards_home</th>\n",
       "      <th>yards_away</th>\n",
       "      <th>fg_at_home</th>\n",
       "      <th>fg_at_away</th>\n",
       "      <th>fg_md_home</th>\n",
       "      <th>fg_md_away</th>\n",
       "      <th>pass_yards_home</th>\n",
       "      <th>pass_yards_away</th>\n",
       "      <th>run_yards_home</th>\n",
       "      <th>run_yards_away</th>\n",
       "      <th>home_team</th>\n",
       "      <th>away_team</th>\n",
       "      <th>home_score</th>\n",
       "      <th>away_score</th>\n",
       "      <th>team_against</th>\n",
       "      <th>score</th>\n",
       "      <th>score_against</th>\n",
       "      <th>yards</th>\n",
       "      <th>yards_against</th>\n",
       "      <th>run_plays</th>\n",
       "      <th>run_plays_against</th>\n",
       "      <th>pass_plays</th>\n",
       "      <th>pass_plays_against</th>\n",
       "      <th>to_for</th>\n",
       "      <th>to_against</th>\n",
       "      <th>fg_at</th>\n",
       "      <th>fg_md</th>\n",
       "      <th>fg_at_against</th>\n",
       "      <th>fg_md_against</th>\n",
       "      <th>pass_yards</th>\n",
       "      <th>pass_yards_against</th>\n",
       "      <th>run_yards</th>\n",
       "      <th>run_yards_against</th>\n",
       "    </tr>\n",
       "  </thead>\n",
       "  <tbody>\n",
       "    <tr>\n",
       "      <td>0</td>\n",
       "      <td>2017090700</td>\n",
       "      <td>home_team</td>\n",
       "      <td>NE</td>\n",
       "      <td>39.0</td>\n",
       "      <td>38.0</td>\n",
       "      <td>34.0</td>\n",
       "      <td>24.0</td>\n",
       "      <td>2.0</td>\n",
       "      <td>1.0</td>\n",
       "      <td>425.0</td>\n",
       "      <td>538.0</td>\n",
       "      <td>2.0</td>\n",
       "      <td>0.0</td>\n",
       "      <td>2.0</td>\n",
       "      <td>0.0</td>\n",
       "      <td>247.0</td>\n",
       "      <td>352.0</td>\n",
       "      <td>125.0</td>\n",
       "      <td>191.0</td>\n",
       "      <td>NE</td>\n",
       "      <td>KC</td>\n",
       "      <td>27</td>\n",
       "      <td>42</td>\n",
       "      <td>KC</td>\n",
       "      <td>27</td>\n",
       "      <td>42</td>\n",
       "      <td>425.0</td>\n",
       "      <td>538.0</td>\n",
       "      <td>34.0</td>\n",
       "      <td>24.0</td>\n",
       "      <td>39.0</td>\n",
       "      <td>38.0</td>\n",
       "      <td>2.0</td>\n",
       "      <td>1.0</td>\n",
       "      <td>2.0</td>\n",
       "      <td>2.0</td>\n",
       "      <td>0.0</td>\n",
       "      <td>0.0</td>\n",
       "      <td>247.0</td>\n",
       "      <td>352.0</td>\n",
       "      <td>125.0</td>\n",
       "      <td>191.0</td>\n",
       "    </tr>\n",
       "  </tbody>\n",
       "</table>\n",
       "</div>"
      ],
      "text/plain": [
       "      game_id  home_away Team  pass_home  pass_away  run_home  run_away  \\\n",
       "0  2017090700  home_team   NE       39.0       38.0      34.0      24.0   \n",
       "\n",
       "   TO_home  TO_away  yards_home  yards_away  fg_at_home  fg_at_away  \\\n",
       "0      2.0      1.0       425.0       538.0         2.0         0.0   \n",
       "\n",
       "   fg_md_home  fg_md_away  pass_yards_home  pass_yards_away  run_yards_home  \\\n",
       "0         2.0         0.0            247.0            352.0           125.0   \n",
       "\n",
       "   run_yards_away home_team away_team  home_score  away_score team_against  \\\n",
       "0           191.0        NE        KC          27          42           KC   \n",
       "\n",
       "   score  score_against  yards  yards_against  run_plays  run_plays_against  \\\n",
       "0     27             42  425.0          538.0       34.0               24.0   \n",
       "\n",
       "   pass_plays  pass_plays_against  to_for  to_against  fg_at  fg_md  \\\n",
       "0        39.0                38.0     2.0         1.0    2.0    2.0   \n",
       "\n",
       "   fg_at_against  fg_md_against  pass_yards  pass_yards_against  run_yards  \\\n",
       "0            0.0            0.0       247.0               352.0      125.0   \n",
       "\n",
       "   run_yards_against  \n",
       "0              191.0  "
      ]
     },
     "execution_count": 92,
     "metadata": {},
     "output_type": "execute_result"
    }
   ],
   "source": [
    "test_df_home[test_df_home['game_id']==2017090700]"
   ]
  },
  {
   "cell_type": "code",
   "execution_count": 93,
   "metadata": {},
   "outputs": [
    {
     "data": {
      "text/html": [
       "<div>\n",
       "<style scoped>\n",
       "    .dataframe tbody tr th:only-of-type {\n",
       "        vertical-align: middle;\n",
       "    }\n",
       "\n",
       "    .dataframe tbody tr th {\n",
       "        vertical-align: top;\n",
       "    }\n",
       "\n",
       "    .dataframe thead th {\n",
       "        text-align: right;\n",
       "    }\n",
       "</style>\n",
       "<table border=\"1\" class=\"dataframe\">\n",
       "  <thead>\n",
       "    <tr style=\"text-align: right;\">\n",
       "      <th></th>\n",
       "      <th>game_id</th>\n",
       "      <th>home_away</th>\n",
       "      <th>Team</th>\n",
       "      <th>pass_home</th>\n",
       "      <th>pass_away</th>\n",
       "      <th>run_home</th>\n",
       "      <th>run_away</th>\n",
       "      <th>TO_home</th>\n",
       "      <th>TO_away</th>\n",
       "      <th>yards_home</th>\n",
       "      <th>yards_away</th>\n",
       "      <th>fg_at_home</th>\n",
       "      <th>fg_at_away</th>\n",
       "      <th>fg_md_home</th>\n",
       "      <th>fg_md_away</th>\n",
       "      <th>pass_yards_home</th>\n",
       "      <th>pass_yards_away</th>\n",
       "      <th>run_yards_home</th>\n",
       "      <th>run_yards_away</th>\n",
       "      <th>home_team</th>\n",
       "      <th>away_team</th>\n",
       "      <th>home_score</th>\n",
       "      <th>away_score</th>\n",
       "    </tr>\n",
       "  </thead>\n",
       "  <tbody>\n",
       "    <tr>\n",
       "      <td>0</td>\n",
       "      <td>2017090700</td>\n",
       "      <td>away_team</td>\n",
       "      <td>KC</td>\n",
       "      <td>39.0</td>\n",
       "      <td>38.0</td>\n",
       "      <td>34.0</td>\n",
       "      <td>24.0</td>\n",
       "      <td>2.0</td>\n",
       "      <td>1.0</td>\n",
       "      <td>425.0</td>\n",
       "      <td>538.0</td>\n",
       "      <td>2.0</td>\n",
       "      <td>0.0</td>\n",
       "      <td>2.0</td>\n",
       "      <td>0.0</td>\n",
       "      <td>247.0</td>\n",
       "      <td>352.0</td>\n",
       "      <td>125.0</td>\n",
       "      <td>191.0</td>\n",
       "      <td>NE</td>\n",
       "      <td>KC</td>\n",
       "      <td>27</td>\n",
       "      <td>42</td>\n",
       "    </tr>\n",
       "  </tbody>\n",
       "</table>\n",
       "</div>"
      ],
      "text/plain": [
       "      game_id  home_away Team  pass_home  pass_away  run_home  run_away  \\\n",
       "0  2017090700  away_team   KC       39.0       38.0      34.0      24.0   \n",
       "\n",
       "   TO_home  TO_away  yards_home  yards_away  fg_at_home  fg_at_away  \\\n",
       "0      2.0      1.0       425.0       538.0         2.0         0.0   \n",
       "\n",
       "   fg_md_home  fg_md_away  pass_yards_home  pass_yards_away  run_yards_home  \\\n",
       "0         2.0         0.0            247.0            352.0           125.0   \n",
       "\n",
       "   run_yards_away home_team away_team  home_score  away_score  \n",
       "0           191.0        NE        KC          27          42  "
      ]
     },
     "execution_count": 93,
     "metadata": {},
     "output_type": "execute_result"
    }
   ],
   "source": [
    "# Creating away only df to merge records from hoem and away team stats\n",
    "test_df_away = test_df.merge(new_df.reset_index(),how='inner',left_on=['game_id','Team'],right_on=['game_id','away_team'])\n",
    "test_df_away[test_df_away['game_id']==2017090700]\n"
   ]
  },
  {
   "cell_type": "code",
   "execution_count": 94,
   "metadata": {},
   "outputs": [
    {
     "data": {
      "text/html": [
       "<div>\n",
       "<style scoped>\n",
       "    .dataframe tbody tr th:only-of-type {\n",
       "        vertical-align: middle;\n",
       "    }\n",
       "\n",
       "    .dataframe tbody tr th {\n",
       "        vertical-align: top;\n",
       "    }\n",
       "\n",
       "    .dataframe thead th {\n",
       "        text-align: right;\n",
       "    }\n",
       "</style>\n",
       "<table border=\"1\" class=\"dataframe\">\n",
       "  <thead>\n",
       "    <tr style=\"text-align: right;\">\n",
       "      <th></th>\n",
       "      <th>game_id</th>\n",
       "      <th>home_away</th>\n",
       "      <th>Team</th>\n",
       "      <th>pass_home</th>\n",
       "      <th>pass_away</th>\n",
       "      <th>run_home</th>\n",
       "      <th>run_away</th>\n",
       "      <th>TO_home</th>\n",
       "      <th>TO_away</th>\n",
       "      <th>yards_home</th>\n",
       "      <th>yards_away</th>\n",
       "      <th>fg_at_home</th>\n",
       "      <th>fg_at_away</th>\n",
       "      <th>fg_md_home</th>\n",
       "      <th>fg_md_away</th>\n",
       "      <th>pass_yards_home</th>\n",
       "      <th>pass_yards_away</th>\n",
       "      <th>run_yards_home</th>\n",
       "      <th>run_yards_away</th>\n",
       "      <th>home_team</th>\n",
       "      <th>away_team</th>\n",
       "      <th>home_score</th>\n",
       "      <th>away_score</th>\n",
       "      <th>team_against</th>\n",
       "      <th>score</th>\n",
       "      <th>score_against</th>\n",
       "      <th>yards</th>\n",
       "      <th>yards_against</th>\n",
       "      <th>run_plays</th>\n",
       "      <th>run_plays_against</th>\n",
       "      <th>pass_plays</th>\n",
       "      <th>pass_plays_against</th>\n",
       "      <th>to_for</th>\n",
       "      <th>to_against</th>\n",
       "      <th>fg_at</th>\n",
       "      <th>fg_md</th>\n",
       "      <th>fg_at_against</th>\n",
       "      <th>fg_md_against</th>\n",
       "      <th>pass_yards</th>\n",
       "      <th>pass_yards_against</th>\n",
       "      <th>run_yards</th>\n",
       "      <th>run_yards_against</th>\n",
       "    </tr>\n",
       "  </thead>\n",
       "  <tbody>\n",
       "    <tr>\n",
       "      <td>0</td>\n",
       "      <td>2017090700</td>\n",
       "      <td>away_team</td>\n",
       "      <td>KC</td>\n",
       "      <td>39.0</td>\n",
       "      <td>38.0</td>\n",
       "      <td>34.0</td>\n",
       "      <td>24.0</td>\n",
       "      <td>2.0</td>\n",
       "      <td>1.0</td>\n",
       "      <td>425.0</td>\n",
       "      <td>538.0</td>\n",
       "      <td>2.0</td>\n",
       "      <td>0.0</td>\n",
       "      <td>2.0</td>\n",
       "      <td>0.0</td>\n",
       "      <td>247.0</td>\n",
       "      <td>352.0</td>\n",
       "      <td>125.0</td>\n",
       "      <td>191.0</td>\n",
       "      <td>NE</td>\n",
       "      <td>KC</td>\n",
       "      <td>27</td>\n",
       "      <td>42</td>\n",
       "      <td>NE</td>\n",
       "      <td>42</td>\n",
       "      <td>27</td>\n",
       "      <td>538.0</td>\n",
       "      <td>425.0</td>\n",
       "      <td>24.0</td>\n",
       "      <td>34.0</td>\n",
       "      <td>38.0</td>\n",
       "      <td>39.0</td>\n",
       "      <td>1.0</td>\n",
       "      <td>2.0</td>\n",
       "      <td>0.0</td>\n",
       "      <td>0.0</td>\n",
       "      <td>2.0</td>\n",
       "      <td>2.0</td>\n",
       "      <td>352.0</td>\n",
       "      <td>247.0</td>\n",
       "      <td>191.0</td>\n",
       "      <td>125.0</td>\n",
       "    </tr>\n",
       "  </tbody>\n",
       "</table>\n",
       "</div>"
      ],
      "text/plain": [
       "      game_id  home_away Team  pass_home  pass_away  run_home  run_away  \\\n",
       "0  2017090700  away_team   KC       39.0       38.0      34.0      24.0   \n",
       "\n",
       "   TO_home  TO_away  yards_home  yards_away  fg_at_home  fg_at_away  \\\n",
       "0      2.0      1.0       425.0       538.0         2.0         0.0   \n",
       "\n",
       "   fg_md_home  fg_md_away  pass_yards_home  pass_yards_away  run_yards_home  \\\n",
       "0         2.0         0.0            247.0            352.0           125.0   \n",
       "\n",
       "   run_yards_away home_team away_team  home_score  away_score team_against  \\\n",
       "0           191.0        NE        KC          27          42           NE   \n",
       "\n",
       "   score  score_against  yards  yards_against  run_plays  run_plays_against  \\\n",
       "0     42             27  538.0          425.0       24.0               34.0   \n",
       "\n",
       "   pass_plays  pass_plays_against  to_for  to_against  fg_at  fg_md  \\\n",
       "0        38.0                39.0     1.0         2.0    0.0    0.0   \n",
       "\n",
       "   fg_at_against  fg_md_against  pass_yards  pass_yards_against  run_yards  \\\n",
       "0            2.0            2.0       352.0               247.0      191.0   \n",
       "\n",
       "   run_yards_against  \n",
       "0              125.0  "
      ]
     },
     "execution_count": 94,
     "metadata": {},
     "output_type": "execute_result"
    }
   ],
   "source": [
    "# Setting variables for Away Team\n",
    "test_df_away['team_against'] = test_df_away[test_df_away['home_away']=='away_team']['home_team']\n",
    "test_df_away['score'] = test_df_away[test_df_away['home_away']=='away_team']['away_score']\n",
    "test_df_away['score_against'] = test_df_away[test_df_away['home_away']=='away_team']['home_score']\n",
    "\n",
    "test_df_away['yards'] = test_df_away[test_df_away['home_away']=='away_team']['yards_away']\n",
    "test_df_away['yards_against'] = test_df_away[test_df_away['home_away']=='away_team']['yards_home']\n",
    "\n",
    "test_df_away['run_plays'] = test_df_away[test_df_away['home_away']=='away_team']['run_away']\n",
    "test_df_away['run_plays_against'] = test_df_away[test_df_away['home_away']=='away_team']['run_home']\n",
    "\n",
    "test_df_away['pass_plays'] = test_df_away[test_df_away['home_away']=='away_team']['pass_away']\n",
    "test_df_away['pass_plays_against'] = test_df_away[test_df_away['home_away']=='away_team']['pass_home']\n",
    "\n",
    "test_df_away['to_for'] = test_df_away[test_df_away['home_away']=='away_team']['TO_away']\n",
    "test_df_away['to_against'] = test_df_away[test_df_away['home_away']=='away_team']['TO_home']\n",
    "\n",
    "test_df_away['fg_at'] = test_df_away[test_df_away['home_away']=='away_team']['fg_at_away']\n",
    "test_df_away['fg_md'] = test_df_away[test_df_away['home_away']=='away_team']['fg_md_away']\n",
    "\n",
    "test_df_away['fg_at_against'] = test_df_away[test_df_away['home_away']=='away_team']['fg_at_home']\n",
    "test_df_away['fg_md_against'] = test_df_away[test_df_away['home_away']=='away_team']['fg_md_home']\n",
    "\n",
    "test_df_away['pass_yards'] = test_df_away[test_df_away['home_away']=='away_team']['pass_yards_away']\n",
    "test_df_away['pass_yards_against'] = test_df_away[test_df_away['home_away']=='away_team']['pass_yards_home']\n",
    "\n",
    "test_df_away['run_yards'] = test_df_away[test_df_away['home_away']=='away_team']['run_yards_away']\n",
    "test_df_away['run_yards_against'] = test_df_away[test_df_away['home_away']=='away_team']['run_yards_home']\n",
    "\n",
    "test_df_away[test_df_away['game_id']==2017090700]"
   ]
  },
  {
   "cell_type": "code",
   "execution_count": 95,
   "metadata": {},
   "outputs": [],
   "source": [
    "# Creating cols filter for new df\n",
    "new_cols = ['game_id','Team','team_against','score','score_against','yards','yards_against','run_plays',\\\n",
    "            'run_plays_against','pass_plays','pass_plays_against','to_for','to_against','fg_at',\\\n",
    "           'fg_md','fg_at_against','fg_md_against','pass_yards','pass_yards_against','run_yards','run_yards_against']\n"
   ]
  },
  {
   "cell_type": "code",
   "execution_count": 96,
   "metadata": {},
   "outputs": [
    {
     "data": {
      "text/html": [
       "<div>\n",
       "<style scoped>\n",
       "    .dataframe tbody tr th:only-of-type {\n",
       "        vertical-align: middle;\n",
       "    }\n",
       "\n",
       "    .dataframe tbody tr th {\n",
       "        vertical-align: top;\n",
       "    }\n",
       "\n",
       "    .dataframe thead th {\n",
       "        text-align: right;\n",
       "    }\n",
       "</style>\n",
       "<table border=\"1\" class=\"dataframe\">\n",
       "  <thead>\n",
       "    <tr style=\"text-align: right;\">\n",
       "      <th></th>\n",
       "      <th>game_id</th>\n",
       "      <th>Team</th>\n",
       "      <th>team_against</th>\n",
       "      <th>score</th>\n",
       "      <th>score_against</th>\n",
       "      <th>yards</th>\n",
       "      <th>yards_against</th>\n",
       "      <th>run_plays</th>\n",
       "      <th>run_plays_against</th>\n",
       "      <th>pass_plays</th>\n",
       "      <th>pass_plays_against</th>\n",
       "      <th>to_for</th>\n",
       "      <th>to_against</th>\n",
       "      <th>fg_at</th>\n",
       "      <th>fg_md</th>\n",
       "      <th>fg_at_against</th>\n",
       "      <th>fg_md_against</th>\n",
       "      <th>pass_yards</th>\n",
       "      <th>pass_yards_against</th>\n",
       "      <th>run_yards</th>\n",
       "      <th>run_yards_against</th>\n",
       "    </tr>\n",
       "  </thead>\n",
       "  <tbody>\n",
       "    <tr>\n",
       "      <td>0</td>\n",
       "      <td>2017090700</td>\n",
       "      <td>NE</td>\n",
       "      <td>KC</td>\n",
       "      <td>27</td>\n",
       "      <td>42</td>\n",
       "      <td>425.0</td>\n",
       "      <td>538.0</td>\n",
       "      <td>34.0</td>\n",
       "      <td>24.0</td>\n",
       "      <td>39.0</td>\n",
       "      <td>38.0</td>\n",
       "      <td>2.0</td>\n",
       "      <td>1.0</td>\n",
       "      <td>2.0</td>\n",
       "      <td>2.0</td>\n",
       "      <td>0.0</td>\n",
       "      <td>0.0</td>\n",
       "      <td>247.0</td>\n",
       "      <td>352.0</td>\n",
       "      <td>125.0</td>\n",
       "      <td>191.0</td>\n",
       "    </tr>\n",
       "    <tr>\n",
       "      <td>480</td>\n",
       "      <td>2017090700</td>\n",
       "      <td>KC</td>\n",
       "      <td>NE</td>\n",
       "      <td>42</td>\n",
       "      <td>27</td>\n",
       "      <td>538.0</td>\n",
       "      <td>425.0</td>\n",
       "      <td>24.0</td>\n",
       "      <td>34.0</td>\n",
       "      <td>38.0</td>\n",
       "      <td>39.0</td>\n",
       "      <td>1.0</td>\n",
       "      <td>2.0</td>\n",
       "      <td>0.0</td>\n",
       "      <td>0.0</td>\n",
       "      <td>2.0</td>\n",
       "      <td>2.0</td>\n",
       "      <td>352.0</td>\n",
       "      <td>247.0</td>\n",
       "      <td>191.0</td>\n",
       "      <td>125.0</td>\n",
       "    </tr>\n",
       "  </tbody>\n",
       "</table>\n",
       "</div>"
      ],
      "text/plain": [
       "        game_id Team team_against  score  score_against  yards  yards_against  \\\n",
       "0    2017090700   NE           KC     27             42  425.0          538.0   \n",
       "480  2017090700   KC           NE     42             27  538.0          425.0   \n",
       "\n",
       "     run_plays  run_plays_against  pass_plays  pass_plays_against  to_for  \\\n",
       "0         34.0               24.0        39.0                38.0     2.0   \n",
       "480       24.0               34.0        38.0                39.0     1.0   \n",
       "\n",
       "     to_against  fg_at  fg_md  fg_at_against  fg_md_against  pass_yards  \\\n",
       "0           1.0    2.0    2.0            0.0            0.0       247.0   \n",
       "480         2.0    0.0    0.0            2.0            2.0       352.0   \n",
       "\n",
       "     pass_yards_against  run_yards  run_yards_against  \n",
       "0                 352.0      125.0              191.0  \n",
       "480               247.0      191.0              125.0  "
      ]
     },
     "execution_count": 96,
     "metadata": {},
     "output_type": "execute_result"
    }
   ],
   "source": [
    "# Combining home and away dfs\n",
    "combined_df = test_df_home[new_cols].append(test_df_away[new_cols],ignore_index=True)\n",
    "combined_df[combined_df['game_id']==2017090700]"
   ]
  },
  {
   "cell_type": "code",
   "execution_count": 97,
   "metadata": {},
   "outputs": [],
   "source": [
    "# Creating my target variable wins\n",
    "combined_df.loc[combined_df['score'] > combined_df['score_against'],'win'] = 1\n",
    "\n",
    "combined_df['win'].fillna(0,inplace=True)"
   ]
  },
  {
   "cell_type": "code",
   "execution_count": 98,
   "metadata": {},
   "outputs": [
    {
     "data": {
      "text/html": [
       "<div>\n",
       "<style scoped>\n",
       "    .dataframe tbody tr th:only-of-type {\n",
       "        vertical-align: middle;\n",
       "    }\n",
       "\n",
       "    .dataframe tbody tr th {\n",
       "        vertical-align: top;\n",
       "    }\n",
       "\n",
       "    .dataframe thead th {\n",
       "        text-align: right;\n",
       "    }\n",
       "</style>\n",
       "<table border=\"1\" class=\"dataframe\">\n",
       "  <thead>\n",
       "    <tr style=\"text-align: right;\">\n",
       "      <th></th>\n",
       "      <th>game_id</th>\n",
       "      <th>Team</th>\n",
       "      <th>team_against</th>\n",
       "      <th>score</th>\n",
       "      <th>score_against</th>\n",
       "      <th>yards</th>\n",
       "      <th>yards_against</th>\n",
       "      <th>run_plays</th>\n",
       "      <th>run_plays_against</th>\n",
       "      <th>pass_plays</th>\n",
       "      <th>pass_plays_against</th>\n",
       "      <th>to_for</th>\n",
       "      <th>to_against</th>\n",
       "      <th>fg_at</th>\n",
       "      <th>fg_md</th>\n",
       "      <th>fg_at_against</th>\n",
       "      <th>fg_md_against</th>\n",
       "      <th>pass_yards</th>\n",
       "      <th>pass_yards_against</th>\n",
       "      <th>run_yards</th>\n",
       "      <th>run_yards_against</th>\n",
       "      <th>win</th>\n",
       "    </tr>\n",
       "  </thead>\n",
       "  <tbody>\n",
       "    <tr>\n",
       "      <td>0</td>\n",
       "      <td>2017090700</td>\n",
       "      <td>NE</td>\n",
       "      <td>KC</td>\n",
       "      <td>27</td>\n",
       "      <td>42</td>\n",
       "      <td>425.0</td>\n",
       "      <td>538.0</td>\n",
       "      <td>34.0</td>\n",
       "      <td>24.0</td>\n",
       "      <td>39.0</td>\n",
       "      <td>38.0</td>\n",
       "      <td>2.0</td>\n",
       "      <td>1.0</td>\n",
       "      <td>2.0</td>\n",
       "      <td>2.0</td>\n",
       "      <td>0.0</td>\n",
       "      <td>0.0</td>\n",
       "      <td>247.0</td>\n",
       "      <td>352.0</td>\n",
       "      <td>125.0</td>\n",
       "      <td>191.0</td>\n",
       "      <td>0.0</td>\n",
       "    </tr>\n",
       "    <tr>\n",
       "      <td>480</td>\n",
       "      <td>2017090700</td>\n",
       "      <td>KC</td>\n",
       "      <td>NE</td>\n",
       "      <td>42</td>\n",
       "      <td>27</td>\n",
       "      <td>538.0</td>\n",
       "      <td>425.0</td>\n",
       "      <td>24.0</td>\n",
       "      <td>34.0</td>\n",
       "      <td>38.0</td>\n",
       "      <td>39.0</td>\n",
       "      <td>1.0</td>\n",
       "      <td>2.0</td>\n",
       "      <td>0.0</td>\n",
       "      <td>0.0</td>\n",
       "      <td>2.0</td>\n",
       "      <td>2.0</td>\n",
       "      <td>352.0</td>\n",
       "      <td>247.0</td>\n",
       "      <td>191.0</td>\n",
       "      <td>125.0</td>\n",
       "      <td>1.0</td>\n",
       "    </tr>\n",
       "  </tbody>\n",
       "</table>\n",
       "</div>"
      ],
      "text/plain": [
       "        game_id Team team_against  score  score_against  yards  yards_against  \\\n",
       "0    2017090700   NE           KC     27             42  425.0          538.0   \n",
       "480  2017090700   KC           NE     42             27  538.0          425.0   \n",
       "\n",
       "     run_plays  run_plays_against  pass_plays  pass_plays_against  to_for  \\\n",
       "0         34.0               24.0        39.0                38.0     2.0   \n",
       "480       24.0               34.0        38.0                39.0     1.0   \n",
       "\n",
       "     to_against  fg_at  fg_md  fg_at_against  fg_md_against  pass_yards  \\\n",
       "0           1.0    2.0    2.0            0.0            0.0       247.0   \n",
       "480         2.0    0.0    0.0            2.0            2.0       352.0   \n",
       "\n",
       "     pass_yards_against  run_yards  run_yards_against  win  \n",
       "0                 352.0      125.0              191.0  0.0  \n",
       "480               247.0      191.0              125.0  1.0  "
      ]
     },
     "execution_count": 98,
     "metadata": {},
     "output_type": "execute_result"
    }
   ],
   "source": [
    "combined_df[combined_df['game_id']==2017090700]"
   ]
  },
  {
   "cell_type": "code",
   "execution_count": 99,
   "metadata": {},
   "outputs": [],
   "source": [
    "# Creating additional variables\n",
    "\n",
    "combined_df['pass_run_ratio'] = round(combined_df['pass_plays'] / combined_df['run_plays'],2)\n",
    "combined_df['yard_diff'] = combined_df['yards'] - combined_df['yards_against']\n",
    "combined_df['to_diff'] = combined_df['to_for'] - combined_df['to_against']\n",
    "\n",
    "combined_df['fg_rate'] = round(combined_df['fg_md'] / combined_df['fg_at'],2)\n",
    "combined_df['fg_rate_against'] = round(combined_df['fg_md_against'] / combined_df['fg_at_against'],2)\n",
    "\n",
    "# Setting fg rates to 50% for teams not attempting field goals\n",
    "combined_df['fg_rate'].fillna(0.5,inplace=True)\n",
    "combined_df['fg_rate_against'].fillna(0.5,inplace=True)\n",
    "\n",
    "combined_df['pass_yds_per_at'] = combined_df['pass_yards'] / combined_df['pass_plays']\n",
    "combined_df['run_yds_per_at'] = combined_df['run_yards'] / combined_df['run_plays']\n",
    "\n",
    "combined_df['pass_yds_per_at_against'] = combined_df['pass_yards_against'] / combined_df['pass_plays_against']\n",
    "combined_df['run_yds_per_at_against'] = combined_df['run_yards_against'] / combined_df['run_plays_against']\n"
   ]
  },
  {
   "cell_type": "code",
   "execution_count": 100,
   "metadata": {},
   "outputs": [],
   "source": [
    "# Creating team encoding based off 2017/2018 wins\n",
    "team_encode = {'CLE':1,'NYG':1,'OAK':1,'NYJ':1,'TB':1,'SF':1,'ARI':1,\\\n",
    "               'DEN':2,'CIN':2,'GB':2,'IND':2,'MIA':2,'JAX':3,'WAS':3,\\\n",
    "               'DET':3,'BUF':3,'HOU':3,'ATL':3,'CHI':3,'CAR':3,\\\n",
    "               'SEA':4,'BAL':4,'TEN':4,'DAL':4,'LAC':4,'PHI':4,'MIN':4,'PIT':5,\\\n",
    "               'KC':5,'NE':5,'LA':5,'NO':5}"
   ]
  },
  {
   "cell_type": "code",
   "execution_count": 101,
   "metadata": {},
   "outputs": [],
   "source": [
    "combined_df['team_encode'] = combined_df.replace({'Team':team_encode})['Team']\n",
    "combined_df['team_against_encode'] = combined_df.replace({'team_against':team_encode})['team_against']\n"
   ]
  },
  {
   "cell_type": "code",
   "execution_count": 102,
   "metadata": {},
   "outputs": [
    {
     "data": {
      "text/html": [
       "<div>\n",
       "<style scoped>\n",
       "    .dataframe tbody tr th:only-of-type {\n",
       "        vertical-align: middle;\n",
       "    }\n",
       "\n",
       "    .dataframe tbody tr th {\n",
       "        vertical-align: top;\n",
       "    }\n",
       "\n",
       "    .dataframe thead th {\n",
       "        text-align: right;\n",
       "    }\n",
       "</style>\n",
       "<table border=\"1\" class=\"dataframe\">\n",
       "  <thead>\n",
       "    <tr style=\"text-align: right;\">\n",
       "      <th></th>\n",
       "      <th>game_id</th>\n",
       "      <th>Team</th>\n",
       "      <th>team_against</th>\n",
       "      <th>score</th>\n",
       "      <th>score_against</th>\n",
       "      <th>yards</th>\n",
       "      <th>yards_against</th>\n",
       "      <th>run_plays</th>\n",
       "      <th>run_plays_against</th>\n",
       "      <th>pass_plays</th>\n",
       "      <th>pass_plays_against</th>\n",
       "      <th>to_for</th>\n",
       "      <th>to_against</th>\n",
       "      <th>fg_at</th>\n",
       "      <th>fg_md</th>\n",
       "      <th>fg_at_against</th>\n",
       "      <th>fg_md_against</th>\n",
       "      <th>pass_yards</th>\n",
       "      <th>pass_yards_against</th>\n",
       "      <th>run_yards</th>\n",
       "      <th>run_yards_against</th>\n",
       "      <th>win</th>\n",
       "      <th>pass_run_ratio</th>\n",
       "      <th>yard_diff</th>\n",
       "      <th>to_diff</th>\n",
       "      <th>fg_rate</th>\n",
       "      <th>fg_rate_against</th>\n",
       "      <th>pass_yds_per_at</th>\n",
       "      <th>run_yds_per_at</th>\n",
       "      <th>pass_yds_per_at_against</th>\n",
       "      <th>run_yds_per_at_against</th>\n",
       "      <th>team_encode</th>\n",
       "      <th>team_against_encode</th>\n",
       "    </tr>\n",
       "  </thead>\n",
       "  <tbody>\n",
       "    <tr>\n",
       "      <td>0</td>\n",
       "      <td>2017090700</td>\n",
       "      <td>NE</td>\n",
       "      <td>KC</td>\n",
       "      <td>27</td>\n",
       "      <td>42</td>\n",
       "      <td>425.0</td>\n",
       "      <td>538.0</td>\n",
       "      <td>34.0</td>\n",
       "      <td>24.0</td>\n",
       "      <td>39.0</td>\n",
       "      <td>38.0</td>\n",
       "      <td>2.0</td>\n",
       "      <td>1.0</td>\n",
       "      <td>2.0</td>\n",
       "      <td>2.0</td>\n",
       "      <td>0.0</td>\n",
       "      <td>0.0</td>\n",
       "      <td>247.0</td>\n",
       "      <td>352.0</td>\n",
       "      <td>125.0</td>\n",
       "      <td>191.0</td>\n",
       "      <td>0.0</td>\n",
       "      <td>1.15</td>\n",
       "      <td>-113.0</td>\n",
       "      <td>1.0</td>\n",
       "      <td>1.0</td>\n",
       "      <td>0.5</td>\n",
       "      <td>6.333333</td>\n",
       "      <td>3.676471</td>\n",
       "      <td>9.263158</td>\n",
       "      <td>7.958333</td>\n",
       "      <td>5</td>\n",
       "      <td>5</td>\n",
       "    </tr>\n",
       "    <tr>\n",
       "      <td>480</td>\n",
       "      <td>2017090700</td>\n",
       "      <td>KC</td>\n",
       "      <td>NE</td>\n",
       "      <td>42</td>\n",
       "      <td>27</td>\n",
       "      <td>538.0</td>\n",
       "      <td>425.0</td>\n",
       "      <td>24.0</td>\n",
       "      <td>34.0</td>\n",
       "      <td>38.0</td>\n",
       "      <td>39.0</td>\n",
       "      <td>1.0</td>\n",
       "      <td>2.0</td>\n",
       "      <td>0.0</td>\n",
       "      <td>0.0</td>\n",
       "      <td>2.0</td>\n",
       "      <td>2.0</td>\n",
       "      <td>352.0</td>\n",
       "      <td>247.0</td>\n",
       "      <td>191.0</td>\n",
       "      <td>125.0</td>\n",
       "      <td>1.0</td>\n",
       "      <td>1.58</td>\n",
       "      <td>113.0</td>\n",
       "      <td>-1.0</td>\n",
       "      <td>0.5</td>\n",
       "      <td>1.0</td>\n",
       "      <td>9.263158</td>\n",
       "      <td>7.958333</td>\n",
       "      <td>6.333333</td>\n",
       "      <td>3.676471</td>\n",
       "      <td>5</td>\n",
       "      <td>5</td>\n",
       "    </tr>\n",
       "  </tbody>\n",
       "</table>\n",
       "</div>"
      ],
      "text/plain": [
       "        game_id Team team_against  score  score_against  yards  yards_against  \\\n",
       "0    2017090700   NE           KC     27             42  425.0          538.0   \n",
       "480  2017090700   KC           NE     42             27  538.0          425.0   \n",
       "\n",
       "     run_plays  run_plays_against  pass_plays  pass_plays_against  to_for  \\\n",
       "0         34.0               24.0        39.0                38.0     2.0   \n",
       "480       24.0               34.0        38.0                39.0     1.0   \n",
       "\n",
       "     to_against  fg_at  fg_md  fg_at_against  fg_md_against  pass_yards  \\\n",
       "0           1.0    2.0    2.0            0.0            0.0       247.0   \n",
       "480         2.0    0.0    0.0            2.0            2.0       352.0   \n",
       "\n",
       "     pass_yards_against  run_yards  run_yards_against  win  pass_run_ratio  \\\n",
       "0                 352.0      125.0              191.0  0.0            1.15   \n",
       "480               247.0      191.0              125.0  1.0            1.58   \n",
       "\n",
       "     yard_diff  to_diff  fg_rate  fg_rate_against  pass_yds_per_at  \\\n",
       "0       -113.0      1.0      1.0              0.5         6.333333   \n",
       "480      113.0     -1.0      0.5              1.0         9.263158   \n",
       "\n",
       "     run_yds_per_at  pass_yds_per_at_against  run_yds_per_at_against  \\\n",
       "0          3.676471                 9.263158                7.958333   \n",
       "480        7.958333                 6.333333                3.676471   \n",
       "\n",
       "     team_encode  team_against_encode  \n",
       "0              5                    5  \n",
       "480            5                    5  "
      ]
     },
     "execution_count": 102,
     "metadata": {},
     "output_type": "execute_result"
    }
   ],
   "source": [
    "combined_df[combined_df['game_id']==2017090700]"
   ]
  },
  {
   "cell_type": "code",
   "execution_count": 103,
   "metadata": {},
   "outputs": [
    {
     "data": {
      "text/plain": [
       "Index(['game_id', 'Team', 'team_against', 'score', 'score_against', 'yards',\n",
       "       'yards_against', 'run_plays', 'run_plays_against', 'pass_plays',\n",
       "       'pass_plays_against', 'to_for', 'to_against', 'fg_at', 'fg_md',\n",
       "       'fg_at_against', 'fg_md_against', 'pass_yards', 'pass_yards_against',\n",
       "       'run_yards', 'run_yards_against', 'win', 'pass_run_ratio', 'yard_diff',\n",
       "       'to_diff', 'fg_rate', 'fg_rate_against', 'pass_yds_per_at',\n",
       "       'run_yds_per_at', 'pass_yds_per_at_against', 'run_yds_per_at_against',\n",
       "       'team_encode', 'team_against_encode'],\n",
       "      dtype='object')"
      ]
     },
     "execution_count": 103,
     "metadata": {},
     "output_type": "execute_result"
    }
   ],
   "source": [
    "combined_df.columns"
   ]
  },
  {
   "cell_type": "code",
   "execution_count": 104,
   "metadata": {},
   "outputs": [],
   "source": [
    "from sklearn.linear_model import LinearRegression"
   ]
  },
  {
   "cell_type": "code",
   "execution_count": 105,
   "metadata": {},
   "outputs": [
    {
     "data": {
      "text/html": [
       "<div>\n",
       "<style scoped>\n",
       "    .dataframe tbody tr th:only-of-type {\n",
       "        vertical-align: middle;\n",
       "    }\n",
       "\n",
       "    .dataframe tbody tr th {\n",
       "        vertical-align: top;\n",
       "    }\n",
       "\n",
       "    .dataframe thead th {\n",
       "        text-align: right;\n",
       "    }\n",
       "</style>\n",
       "<table border=\"1\" class=\"dataframe\">\n",
       "  <thead>\n",
       "    <tr style=\"text-align: right;\">\n",
       "      <th></th>\n",
       "      <th>score</th>\n",
       "      <th>score_against</th>\n",
       "      <th>yards</th>\n",
       "      <th>yards_against</th>\n",
       "      <th>run_plays</th>\n",
       "      <th>run_plays_against</th>\n",
       "      <th>pass_plays</th>\n",
       "      <th>pass_plays_against</th>\n",
       "      <th>to_for</th>\n",
       "      <th>to_against</th>\n",
       "      <th>fg_at</th>\n",
       "      <th>fg_md</th>\n",
       "      <th>fg_at_against</th>\n",
       "      <th>fg_md_against</th>\n",
       "      <th>pass_yards</th>\n",
       "      <th>pass_yards_against</th>\n",
       "      <th>run_yards</th>\n",
       "      <th>run_yards_against</th>\n",
       "      <th>pass_run_ratio</th>\n",
       "      <th>yard_diff</th>\n",
       "      <th>to_diff</th>\n",
       "      <th>fg_rate</th>\n",
       "      <th>fg_rate_against</th>\n",
       "      <th>pass_yds_per_at</th>\n",
       "      <th>run_yds_per_at</th>\n",
       "      <th>pass_yds_per_at_against</th>\n",
       "      <th>run_yds_per_at_against</th>\n",
       "      <th>team_encode</th>\n",
       "      <th>team_against_encode</th>\n",
       "    </tr>\n",
       "  </thead>\n",
       "  <tbody>\n",
       "    <tr>\n",
       "      <td>0</td>\n",
       "      <td>27</td>\n",
       "      <td>42</td>\n",
       "      <td>425.0</td>\n",
       "      <td>538.0</td>\n",
       "      <td>34.0</td>\n",
       "      <td>24.0</td>\n",
       "      <td>39.0</td>\n",
       "      <td>38.0</td>\n",
       "      <td>2.0</td>\n",
       "      <td>1.0</td>\n",
       "      <td>2.0</td>\n",
       "      <td>2.0</td>\n",
       "      <td>0.0</td>\n",
       "      <td>0.0</td>\n",
       "      <td>247.0</td>\n",
       "      <td>352.0</td>\n",
       "      <td>125.0</td>\n",
       "      <td>191.0</td>\n",
       "      <td>1.15</td>\n",
       "      <td>-113.0</td>\n",
       "      <td>1.0</td>\n",
       "      <td>1.0</td>\n",
       "      <td>0.5</td>\n",
       "      <td>6.333333</td>\n",
       "      <td>3.676471</td>\n",
       "      <td>9.263158</td>\n",
       "      <td>7.958333</td>\n",
       "      <td>5</td>\n",
       "      <td>5</td>\n",
       "    </tr>\n",
       "    <tr>\n",
       "      <td>1</td>\n",
       "      <td>21</td>\n",
       "      <td>12</td>\n",
       "      <td>400.0</td>\n",
       "      <td>199.0</td>\n",
       "      <td>39.0</td>\n",
       "      <td>14.0</td>\n",
       "      <td>29.0</td>\n",
       "      <td>41.0</td>\n",
       "      <td>2.0</td>\n",
       "      <td>3.0</td>\n",
       "      <td>1.0</td>\n",
       "      <td>1.0</td>\n",
       "      <td>2.0</td>\n",
       "      <td>2.0</td>\n",
       "      <td>218.0</td>\n",
       "      <td>176.0</td>\n",
       "      <td>193.0</td>\n",
       "      <td>39.0</td>\n",
       "      <td>0.74</td>\n",
       "      <td>201.0</td>\n",
       "      <td>-1.0</td>\n",
       "      <td>1.0</td>\n",
       "      <td>1.0</td>\n",
       "      <td>7.517241</td>\n",
       "      <td>4.948718</td>\n",
       "      <td>4.292683</td>\n",
       "      <td>2.785714</td>\n",
       "      <td>3</td>\n",
       "      <td>1</td>\n",
       "    </tr>\n",
       "  </tbody>\n",
       "</table>\n",
       "</div>"
      ],
      "text/plain": [
       "   score  score_against  yards  yards_against  run_plays  run_plays_against  \\\n",
       "0     27             42  425.0          538.0       34.0               24.0   \n",
       "1     21             12  400.0          199.0       39.0               14.0   \n",
       "\n",
       "   pass_plays  pass_plays_against  to_for  to_against  fg_at  fg_md  \\\n",
       "0        39.0                38.0     2.0         1.0    2.0    2.0   \n",
       "1        29.0                41.0     2.0         3.0    1.0    1.0   \n",
       "\n",
       "   fg_at_against  fg_md_against  pass_yards  pass_yards_against  run_yards  \\\n",
       "0            0.0            0.0       247.0               352.0      125.0   \n",
       "1            2.0            2.0       218.0               176.0      193.0   \n",
       "\n",
       "   run_yards_against  pass_run_ratio  yard_diff  to_diff  fg_rate  \\\n",
       "0              191.0            1.15     -113.0      1.0      1.0   \n",
       "1               39.0            0.74      201.0     -1.0      1.0   \n",
       "\n",
       "   fg_rate_against  pass_yds_per_at  run_yds_per_at  pass_yds_per_at_against  \\\n",
       "0              0.5         6.333333        3.676471                 9.263158   \n",
       "1              1.0         7.517241        4.948718                 4.292683   \n",
       "\n",
       "   run_yds_per_at_against  team_encode  team_against_encode  \n",
       "0                7.958333            5                    5  \n",
       "1                2.785714            3                    1  "
      ]
     },
     "execution_count": 105,
     "metadata": {},
     "output_type": "execute_result"
    }
   ],
   "source": [
    "# Dependent variables\n",
    "dep_var = ['score', 'score_against', 'yards',\n",
    "       'yards_against', 'run_plays', 'run_plays_against', 'pass_plays',\n",
    "       'pass_plays_against', 'to_for', 'to_against', 'fg_at', 'fg_md',\n",
    "       'fg_at_against', 'fg_md_against', 'pass_yards', 'pass_yards_against',\n",
    "       'run_yards', 'run_yards_against', 'pass_run_ratio', 'yard_diff',\n",
    "       'to_diff', 'fg_rate', 'fg_rate_against', 'pass_yds_per_at',\n",
    "       'run_yds_per_at', 'pass_yds_per_at_against', 'run_yds_per_at_against',\n",
    "       'team_encode', 'team_against_encode']\n",
    "X = pd.DataFrame(combined_df, columns = dep_var)\n",
    "X.head(2)"
   ]
  },
  {
   "cell_type": "code",
   "execution_count": 106,
   "metadata": {},
   "outputs": [],
   "source": [
    "y = combined_df[['win']]"
   ]
  },
  {
   "cell_type": "code",
   "execution_count": 107,
   "metadata": {},
   "outputs": [],
   "source": [
    "model = LinearRegression().fit(X, y)"
   ]
  },
  {
   "cell_type": "code",
   "execution_count": 108,
   "metadata": {},
   "outputs": [
    {
     "data": {
      "application/vnd.plotly.v1+json": {
       "config": {
        "plotlyServerURL": "https://plot.ly"
       },
       "data": [
        {
         "name": "variable coefficients",
         "type": "bar",
         "x": [
          "score",
          "score_against",
          "yards",
          "yards_against",
          "run_plays",
          "run_plays_against",
          "pass_plays",
          "pass_plays_against",
          "to_for",
          "to_against",
          "fg_at",
          "fg_md",
          "fg_at_against",
          "fg_md_against",
          "pass_yards",
          "pass_yards_against",
          "run_yards",
          "run_yards_against",
          "pass_run_ratio",
          "yard_diff",
          "to_diff",
          "fg_rate",
          "fg_rate_against",
          "pass_yds_per_at",
          "run_yds_per_at",
          "pass_yds_per_at_against",
          "run_yds_per_at_against",
          "team_encode",
          "team_against_encode"
         ],
         "y": [
          0.017100764835586545,
          -0.01702642538247354,
          0.0002321252686689115,
          -0.0003259648048518035,
          0.005184509513698793,
          -0.00870562450991356,
          -0.006685976529717564,
          0.007308127454521123,
          -0.006946576208576142,
          0.005894692445139425,
          0.012186084748991787,
          0.012186084748991837,
          -0.01128226417168288,
          -0.011282264171682868,
          -0.00020636572129797498,
          0.00034069944121434574,
          -0.0013319477631539634,
          0.0015754006441512423,
          -0.034556776057245775,
          0.0005580900735243925,
          -0.012841268653715753,
          -0.19802029575008906,
          0.17177342190394912,
          -0.006892146246022647,
          0.006623783776754201,
          0.00592582497312843,
          -0.010748370546050736,
          0.02006856359815787,
          -0.018521539173358758
         ]
        }
       ],
       "layout": {
        "template": {
         "data": {
          "bar": [
           {
            "error_x": {
             "color": "#2a3f5f"
            },
            "error_y": {
             "color": "#2a3f5f"
            },
            "marker": {
             "line": {
              "color": "#E5ECF6",
              "width": 0.5
             }
            },
            "type": "bar"
           }
          ],
          "barpolar": [
           {
            "marker": {
             "line": {
              "color": "#E5ECF6",
              "width": 0.5
             }
            },
            "type": "barpolar"
           }
          ],
          "carpet": [
           {
            "aaxis": {
             "endlinecolor": "#2a3f5f",
             "gridcolor": "white",
             "linecolor": "white",
             "minorgridcolor": "white",
             "startlinecolor": "#2a3f5f"
            },
            "baxis": {
             "endlinecolor": "#2a3f5f",
             "gridcolor": "white",
             "linecolor": "white",
             "minorgridcolor": "white",
             "startlinecolor": "#2a3f5f"
            },
            "type": "carpet"
           }
          ],
          "choropleth": [
           {
            "colorbar": {
             "outlinewidth": 0,
             "ticks": ""
            },
            "type": "choropleth"
           }
          ],
          "contour": [
           {
            "colorbar": {
             "outlinewidth": 0,
             "ticks": ""
            },
            "colorscale": [
             [
              0,
              "#0d0887"
             ],
             [
              0.1111111111111111,
              "#46039f"
             ],
             [
              0.2222222222222222,
              "#7201a8"
             ],
             [
              0.3333333333333333,
              "#9c179e"
             ],
             [
              0.4444444444444444,
              "#bd3786"
             ],
             [
              0.5555555555555556,
              "#d8576b"
             ],
             [
              0.6666666666666666,
              "#ed7953"
             ],
             [
              0.7777777777777778,
              "#fb9f3a"
             ],
             [
              0.8888888888888888,
              "#fdca26"
             ],
             [
              1,
              "#f0f921"
             ]
            ],
            "type": "contour"
           }
          ],
          "contourcarpet": [
           {
            "colorbar": {
             "outlinewidth": 0,
             "ticks": ""
            },
            "type": "contourcarpet"
           }
          ],
          "heatmap": [
           {
            "colorbar": {
             "outlinewidth": 0,
             "ticks": ""
            },
            "colorscale": [
             [
              0,
              "#0d0887"
             ],
             [
              0.1111111111111111,
              "#46039f"
             ],
             [
              0.2222222222222222,
              "#7201a8"
             ],
             [
              0.3333333333333333,
              "#9c179e"
             ],
             [
              0.4444444444444444,
              "#bd3786"
             ],
             [
              0.5555555555555556,
              "#d8576b"
             ],
             [
              0.6666666666666666,
              "#ed7953"
             ],
             [
              0.7777777777777778,
              "#fb9f3a"
             ],
             [
              0.8888888888888888,
              "#fdca26"
             ],
             [
              1,
              "#f0f921"
             ]
            ],
            "type": "heatmap"
           }
          ],
          "heatmapgl": [
           {
            "colorbar": {
             "outlinewidth": 0,
             "ticks": ""
            },
            "colorscale": [
             [
              0,
              "#0d0887"
             ],
             [
              0.1111111111111111,
              "#46039f"
             ],
             [
              0.2222222222222222,
              "#7201a8"
             ],
             [
              0.3333333333333333,
              "#9c179e"
             ],
             [
              0.4444444444444444,
              "#bd3786"
             ],
             [
              0.5555555555555556,
              "#d8576b"
             ],
             [
              0.6666666666666666,
              "#ed7953"
             ],
             [
              0.7777777777777778,
              "#fb9f3a"
             ],
             [
              0.8888888888888888,
              "#fdca26"
             ],
             [
              1,
              "#f0f921"
             ]
            ],
            "type": "heatmapgl"
           }
          ],
          "histogram": [
           {
            "marker": {
             "colorbar": {
              "outlinewidth": 0,
              "ticks": ""
             }
            },
            "type": "histogram"
           }
          ],
          "histogram2d": [
           {
            "colorbar": {
             "outlinewidth": 0,
             "ticks": ""
            },
            "colorscale": [
             [
              0,
              "#0d0887"
             ],
             [
              0.1111111111111111,
              "#46039f"
             ],
             [
              0.2222222222222222,
              "#7201a8"
             ],
             [
              0.3333333333333333,
              "#9c179e"
             ],
             [
              0.4444444444444444,
              "#bd3786"
             ],
             [
              0.5555555555555556,
              "#d8576b"
             ],
             [
              0.6666666666666666,
              "#ed7953"
             ],
             [
              0.7777777777777778,
              "#fb9f3a"
             ],
             [
              0.8888888888888888,
              "#fdca26"
             ],
             [
              1,
              "#f0f921"
             ]
            ],
            "type": "histogram2d"
           }
          ],
          "histogram2dcontour": [
           {
            "colorbar": {
             "outlinewidth": 0,
             "ticks": ""
            },
            "colorscale": [
             [
              0,
              "#0d0887"
             ],
             [
              0.1111111111111111,
              "#46039f"
             ],
             [
              0.2222222222222222,
              "#7201a8"
             ],
             [
              0.3333333333333333,
              "#9c179e"
             ],
             [
              0.4444444444444444,
              "#bd3786"
             ],
             [
              0.5555555555555556,
              "#d8576b"
             ],
             [
              0.6666666666666666,
              "#ed7953"
             ],
             [
              0.7777777777777778,
              "#fb9f3a"
             ],
             [
              0.8888888888888888,
              "#fdca26"
             ],
             [
              1,
              "#f0f921"
             ]
            ],
            "type": "histogram2dcontour"
           }
          ],
          "mesh3d": [
           {
            "colorbar": {
             "outlinewidth": 0,
             "ticks": ""
            },
            "type": "mesh3d"
           }
          ],
          "parcoords": [
           {
            "line": {
             "colorbar": {
              "outlinewidth": 0,
              "ticks": ""
             }
            },
            "type": "parcoords"
           }
          ],
          "pie": [
           {
            "automargin": true,
            "type": "pie"
           }
          ],
          "scatter": [
           {
            "marker": {
             "colorbar": {
              "outlinewidth": 0,
              "ticks": ""
             }
            },
            "type": "scatter"
           }
          ],
          "scatter3d": [
           {
            "line": {
             "colorbar": {
              "outlinewidth": 0,
              "ticks": ""
             }
            },
            "marker": {
             "colorbar": {
              "outlinewidth": 0,
              "ticks": ""
             }
            },
            "type": "scatter3d"
           }
          ],
          "scattercarpet": [
           {
            "marker": {
             "colorbar": {
              "outlinewidth": 0,
              "ticks": ""
             }
            },
            "type": "scattercarpet"
           }
          ],
          "scattergeo": [
           {
            "marker": {
             "colorbar": {
              "outlinewidth": 0,
              "ticks": ""
             }
            },
            "type": "scattergeo"
           }
          ],
          "scattergl": [
           {
            "marker": {
             "colorbar": {
              "outlinewidth": 0,
              "ticks": ""
             }
            },
            "type": "scattergl"
           }
          ],
          "scattermapbox": [
           {
            "marker": {
             "colorbar": {
              "outlinewidth": 0,
              "ticks": ""
             }
            },
            "type": "scattermapbox"
           }
          ],
          "scatterpolar": [
           {
            "marker": {
             "colorbar": {
              "outlinewidth": 0,
              "ticks": ""
             }
            },
            "type": "scatterpolar"
           }
          ],
          "scatterpolargl": [
           {
            "marker": {
             "colorbar": {
              "outlinewidth": 0,
              "ticks": ""
             }
            },
            "type": "scatterpolargl"
           }
          ],
          "scatterternary": [
           {
            "marker": {
             "colorbar": {
              "outlinewidth": 0,
              "ticks": ""
             }
            },
            "type": "scatterternary"
           }
          ],
          "surface": [
           {
            "colorbar": {
             "outlinewidth": 0,
             "ticks": ""
            },
            "colorscale": [
             [
              0,
              "#0d0887"
             ],
             [
              0.1111111111111111,
              "#46039f"
             ],
             [
              0.2222222222222222,
              "#7201a8"
             ],
             [
              0.3333333333333333,
              "#9c179e"
             ],
             [
              0.4444444444444444,
              "#bd3786"
             ],
             [
              0.5555555555555556,
              "#d8576b"
             ],
             [
              0.6666666666666666,
              "#ed7953"
             ],
             [
              0.7777777777777778,
              "#fb9f3a"
             ],
             [
              0.8888888888888888,
              "#fdca26"
             ],
             [
              1,
              "#f0f921"
             ]
            ],
            "type": "surface"
           }
          ],
          "table": [
           {
            "cells": {
             "fill": {
              "color": "#EBF0F8"
             },
             "line": {
              "color": "white"
             }
            },
            "header": {
             "fill": {
              "color": "#C8D4E3"
             },
             "line": {
              "color": "white"
             }
            },
            "type": "table"
           }
          ]
         },
         "layout": {
          "annotationdefaults": {
           "arrowcolor": "#2a3f5f",
           "arrowhead": 0,
           "arrowwidth": 1
          },
          "coloraxis": {
           "colorbar": {
            "outlinewidth": 0,
            "ticks": ""
           }
          },
          "colorscale": {
           "diverging": [
            [
             0,
             "#8e0152"
            ],
            [
             0.1,
             "#c51b7d"
            ],
            [
             0.2,
             "#de77ae"
            ],
            [
             0.3,
             "#f1b6da"
            ],
            [
             0.4,
             "#fde0ef"
            ],
            [
             0.5,
             "#f7f7f7"
            ],
            [
             0.6,
             "#e6f5d0"
            ],
            [
             0.7,
             "#b8e186"
            ],
            [
             0.8,
             "#7fbc41"
            ],
            [
             0.9,
             "#4d9221"
            ],
            [
             1,
             "#276419"
            ]
           ],
           "sequential": [
            [
             0,
             "#0d0887"
            ],
            [
             0.1111111111111111,
             "#46039f"
            ],
            [
             0.2222222222222222,
             "#7201a8"
            ],
            [
             0.3333333333333333,
             "#9c179e"
            ],
            [
             0.4444444444444444,
             "#bd3786"
            ],
            [
             0.5555555555555556,
             "#d8576b"
            ],
            [
             0.6666666666666666,
             "#ed7953"
            ],
            [
             0.7777777777777778,
             "#fb9f3a"
            ],
            [
             0.8888888888888888,
             "#fdca26"
            ],
            [
             1,
             "#f0f921"
            ]
           ],
           "sequentialminus": [
            [
             0,
             "#0d0887"
            ],
            [
             0.1111111111111111,
             "#46039f"
            ],
            [
             0.2222222222222222,
             "#7201a8"
            ],
            [
             0.3333333333333333,
             "#9c179e"
            ],
            [
             0.4444444444444444,
             "#bd3786"
            ],
            [
             0.5555555555555556,
             "#d8576b"
            ],
            [
             0.6666666666666666,
             "#ed7953"
            ],
            [
             0.7777777777777778,
             "#fb9f3a"
            ],
            [
             0.8888888888888888,
             "#fdca26"
            ],
            [
             1,
             "#f0f921"
            ]
           ]
          },
          "colorway": [
           "#636efa",
           "#EF553B",
           "#00cc96",
           "#ab63fa",
           "#FFA15A",
           "#19d3f3",
           "#FF6692",
           "#B6E880",
           "#FF97FF",
           "#FECB52"
          ],
          "font": {
           "color": "#2a3f5f"
          },
          "geo": {
           "bgcolor": "white",
           "lakecolor": "white",
           "landcolor": "#E5ECF6",
           "showlakes": true,
           "showland": true,
           "subunitcolor": "white"
          },
          "hoverlabel": {
           "align": "left"
          },
          "hovermode": "closest",
          "mapbox": {
           "style": "light"
          },
          "paper_bgcolor": "white",
          "plot_bgcolor": "#E5ECF6",
          "polar": {
           "angularaxis": {
            "gridcolor": "white",
            "linecolor": "white",
            "ticks": ""
           },
           "bgcolor": "#E5ECF6",
           "radialaxis": {
            "gridcolor": "white",
            "linecolor": "white",
            "ticks": ""
           }
          },
          "scene": {
           "xaxis": {
            "backgroundcolor": "#E5ECF6",
            "gridcolor": "white",
            "gridwidth": 2,
            "linecolor": "white",
            "showbackground": true,
            "ticks": "",
            "zerolinecolor": "white"
           },
           "yaxis": {
            "backgroundcolor": "#E5ECF6",
            "gridcolor": "white",
            "gridwidth": 2,
            "linecolor": "white",
            "showbackground": true,
            "ticks": "",
            "zerolinecolor": "white"
           },
           "zaxis": {
            "backgroundcolor": "#E5ECF6",
            "gridcolor": "white",
            "gridwidth": 2,
            "linecolor": "white",
            "showbackground": true,
            "ticks": "",
            "zerolinecolor": "white"
           }
          },
          "shapedefaults": {
           "line": {
            "color": "#2a3f5f"
           }
          },
          "ternary": {
           "aaxis": {
            "gridcolor": "white",
            "linecolor": "white",
            "ticks": ""
           },
           "baxis": {
            "gridcolor": "white",
            "linecolor": "white",
            "ticks": ""
           },
           "bgcolor": "#E5ECF6",
           "caxis": {
            "gridcolor": "white",
            "linecolor": "white",
            "ticks": ""
           }
          },
          "title": {
           "x": 0.05
          },
          "xaxis": {
           "automargin": true,
           "gridcolor": "white",
           "linecolor": "white",
           "ticks": "",
           "title": {
            "standoff": 15
           },
           "zerolinecolor": "white",
           "zerolinewidth": 2
          },
          "yaxis": {
           "automargin": true,
           "gridcolor": "white",
           "linecolor": "white",
           "ticks": "",
           "title": {
            "standoff": 15
           },
           "zerolinecolor": "white",
           "zerolinewidth": 2
          }
         }
        },
        "title": {
         "text": "Model Feature Coefficients",
         "x": 0.5,
         "xanchor": "center",
         "y": 0.95,
         "yanchor": "top"
        }
       }
      },
      "text/html": [
       "<div>\n",
       "        \n",
       "        \n",
       "            <div id=\"bb9b3fe4-b589-4125-bad8-0d928d5a2573\" class=\"plotly-graph-div\" style=\"height:525px; width:100%;\"></div>\n",
       "            <script type=\"text/javascript\">\n",
       "                require([\"plotly\"], function(Plotly) {\n",
       "                    window.PLOTLYENV=window.PLOTLYENV || {};\n",
       "                    \n",
       "                if (document.getElementById(\"bb9b3fe4-b589-4125-bad8-0d928d5a2573\")) {\n",
       "                    Plotly.newPlot(\n",
       "                        'bb9b3fe4-b589-4125-bad8-0d928d5a2573',\n",
       "                        [{\"name\": \"variable coefficients\", \"type\": \"bar\", \"x\": [\"score\", \"score_against\", \"yards\", \"yards_against\", \"run_plays\", \"run_plays_against\", \"pass_plays\", \"pass_plays_against\", \"to_for\", \"to_against\", \"fg_at\", \"fg_md\", \"fg_at_against\", \"fg_md_against\", \"pass_yards\", \"pass_yards_against\", \"run_yards\", \"run_yards_against\", \"pass_run_ratio\", \"yard_diff\", \"to_diff\", \"fg_rate\", \"fg_rate_against\", \"pass_yds_per_at\", \"run_yds_per_at\", \"pass_yds_per_at_against\", \"run_yds_per_at_against\", \"team_encode\", \"team_against_encode\"], \"y\": [0.017100764835586545, -0.01702642538247354, 0.0002321252686689115, -0.0003259648048518035, 0.005184509513698793, -0.00870562450991356, -0.006685976529717564, 0.007308127454521123, -0.006946576208576142, 0.005894692445139425, 0.012186084748991787, 0.012186084748991837, -0.01128226417168288, -0.011282264171682868, -0.00020636572129797498, 0.00034069944121434574, -0.0013319477631539634, 0.0015754006441512423, -0.034556776057245775, 0.0005580900735243925, -0.012841268653715753, -0.19802029575008906, 0.17177342190394912, -0.006892146246022647, 0.006623783776754201, 0.00592582497312843, -0.010748370546050736, 0.02006856359815787, -0.018521539173358758]}],\n",
       "                        {\"template\": {\"data\": {\"bar\": [{\"error_x\": {\"color\": \"#2a3f5f\"}, \"error_y\": {\"color\": \"#2a3f5f\"}, \"marker\": {\"line\": {\"color\": \"#E5ECF6\", \"width\": 0.5}}, \"type\": \"bar\"}], \"barpolar\": [{\"marker\": {\"line\": {\"color\": \"#E5ECF6\", \"width\": 0.5}}, \"type\": \"barpolar\"}], \"carpet\": [{\"aaxis\": {\"endlinecolor\": \"#2a3f5f\", \"gridcolor\": \"white\", \"linecolor\": \"white\", \"minorgridcolor\": \"white\", \"startlinecolor\": \"#2a3f5f\"}, \"baxis\": {\"endlinecolor\": \"#2a3f5f\", \"gridcolor\": \"white\", \"linecolor\": \"white\", \"minorgridcolor\": \"white\", \"startlinecolor\": \"#2a3f5f\"}, \"type\": \"carpet\"}], \"choropleth\": [{\"colorbar\": {\"outlinewidth\": 0, \"ticks\": \"\"}, \"type\": \"choropleth\"}], \"contour\": [{\"colorbar\": {\"outlinewidth\": 0, \"ticks\": \"\"}, \"colorscale\": [[0.0, \"#0d0887\"], [0.1111111111111111, \"#46039f\"], [0.2222222222222222, \"#7201a8\"], [0.3333333333333333, \"#9c179e\"], [0.4444444444444444, \"#bd3786\"], [0.5555555555555556, \"#d8576b\"], [0.6666666666666666, \"#ed7953\"], [0.7777777777777778, \"#fb9f3a\"], [0.8888888888888888, \"#fdca26\"], [1.0, \"#f0f921\"]], \"type\": \"contour\"}], \"contourcarpet\": [{\"colorbar\": {\"outlinewidth\": 0, \"ticks\": \"\"}, \"type\": \"contourcarpet\"}], \"heatmap\": [{\"colorbar\": {\"outlinewidth\": 0, \"ticks\": \"\"}, \"colorscale\": [[0.0, \"#0d0887\"], [0.1111111111111111, \"#46039f\"], [0.2222222222222222, \"#7201a8\"], [0.3333333333333333, \"#9c179e\"], [0.4444444444444444, \"#bd3786\"], [0.5555555555555556, \"#d8576b\"], [0.6666666666666666, \"#ed7953\"], [0.7777777777777778, \"#fb9f3a\"], [0.8888888888888888, \"#fdca26\"], [1.0, \"#f0f921\"]], \"type\": \"heatmap\"}], \"heatmapgl\": [{\"colorbar\": {\"outlinewidth\": 0, \"ticks\": \"\"}, \"colorscale\": [[0.0, \"#0d0887\"], [0.1111111111111111, \"#46039f\"], [0.2222222222222222, \"#7201a8\"], [0.3333333333333333, \"#9c179e\"], [0.4444444444444444, \"#bd3786\"], [0.5555555555555556, \"#d8576b\"], [0.6666666666666666, \"#ed7953\"], [0.7777777777777778, \"#fb9f3a\"], [0.8888888888888888, \"#fdca26\"], [1.0, \"#f0f921\"]], \"type\": \"heatmapgl\"}], \"histogram\": [{\"marker\": {\"colorbar\": {\"outlinewidth\": 0, \"ticks\": \"\"}}, \"type\": \"histogram\"}], \"histogram2d\": [{\"colorbar\": {\"outlinewidth\": 0, \"ticks\": \"\"}, \"colorscale\": [[0.0, \"#0d0887\"], [0.1111111111111111, \"#46039f\"], [0.2222222222222222, \"#7201a8\"], [0.3333333333333333, \"#9c179e\"], [0.4444444444444444, \"#bd3786\"], [0.5555555555555556, \"#d8576b\"], [0.6666666666666666, \"#ed7953\"], [0.7777777777777778, \"#fb9f3a\"], [0.8888888888888888, \"#fdca26\"], [1.0, \"#f0f921\"]], \"type\": \"histogram2d\"}], \"histogram2dcontour\": [{\"colorbar\": {\"outlinewidth\": 0, \"ticks\": \"\"}, \"colorscale\": [[0.0, \"#0d0887\"], [0.1111111111111111, \"#46039f\"], [0.2222222222222222, \"#7201a8\"], [0.3333333333333333, \"#9c179e\"], [0.4444444444444444, \"#bd3786\"], [0.5555555555555556, \"#d8576b\"], [0.6666666666666666, \"#ed7953\"], [0.7777777777777778, \"#fb9f3a\"], [0.8888888888888888, \"#fdca26\"], [1.0, \"#f0f921\"]], \"type\": \"histogram2dcontour\"}], \"mesh3d\": [{\"colorbar\": {\"outlinewidth\": 0, \"ticks\": \"\"}, \"type\": \"mesh3d\"}], \"parcoords\": [{\"line\": {\"colorbar\": {\"outlinewidth\": 0, \"ticks\": \"\"}}, \"type\": \"parcoords\"}], \"pie\": [{\"automargin\": true, \"type\": \"pie\"}], \"scatter\": [{\"marker\": {\"colorbar\": {\"outlinewidth\": 0, \"ticks\": \"\"}}, \"type\": \"scatter\"}], \"scatter3d\": [{\"line\": {\"colorbar\": {\"outlinewidth\": 0, \"ticks\": \"\"}}, \"marker\": {\"colorbar\": {\"outlinewidth\": 0, \"ticks\": \"\"}}, \"type\": \"scatter3d\"}], \"scattercarpet\": [{\"marker\": {\"colorbar\": {\"outlinewidth\": 0, \"ticks\": \"\"}}, \"type\": \"scattercarpet\"}], \"scattergeo\": [{\"marker\": {\"colorbar\": {\"outlinewidth\": 0, \"ticks\": \"\"}}, \"type\": \"scattergeo\"}], \"scattergl\": [{\"marker\": {\"colorbar\": {\"outlinewidth\": 0, \"ticks\": \"\"}}, \"type\": \"scattergl\"}], \"scattermapbox\": [{\"marker\": {\"colorbar\": {\"outlinewidth\": 0, \"ticks\": \"\"}}, \"type\": \"scattermapbox\"}], \"scatterpolar\": [{\"marker\": {\"colorbar\": {\"outlinewidth\": 0, \"ticks\": \"\"}}, \"type\": \"scatterpolar\"}], \"scatterpolargl\": [{\"marker\": {\"colorbar\": {\"outlinewidth\": 0, \"ticks\": \"\"}}, \"type\": \"scatterpolargl\"}], \"scatterternary\": [{\"marker\": {\"colorbar\": {\"outlinewidth\": 0, \"ticks\": \"\"}}, \"type\": \"scatterternary\"}], \"surface\": [{\"colorbar\": {\"outlinewidth\": 0, \"ticks\": \"\"}, \"colorscale\": [[0.0, \"#0d0887\"], [0.1111111111111111, \"#46039f\"], [0.2222222222222222, \"#7201a8\"], [0.3333333333333333, \"#9c179e\"], [0.4444444444444444, \"#bd3786\"], [0.5555555555555556, \"#d8576b\"], [0.6666666666666666, \"#ed7953\"], [0.7777777777777778, \"#fb9f3a\"], [0.8888888888888888, \"#fdca26\"], [1.0, \"#f0f921\"]], \"type\": \"surface\"}], \"table\": [{\"cells\": {\"fill\": {\"color\": \"#EBF0F8\"}, \"line\": {\"color\": \"white\"}}, \"header\": {\"fill\": {\"color\": \"#C8D4E3\"}, \"line\": {\"color\": \"white\"}}, \"type\": \"table\"}]}, \"layout\": {\"annotationdefaults\": {\"arrowcolor\": \"#2a3f5f\", \"arrowhead\": 0, \"arrowwidth\": 1}, \"coloraxis\": {\"colorbar\": {\"outlinewidth\": 0, \"ticks\": \"\"}}, \"colorscale\": {\"diverging\": [[0, \"#8e0152\"], [0.1, \"#c51b7d\"], [0.2, \"#de77ae\"], [0.3, \"#f1b6da\"], [0.4, \"#fde0ef\"], [0.5, \"#f7f7f7\"], [0.6, \"#e6f5d0\"], [0.7, \"#b8e186\"], [0.8, \"#7fbc41\"], [0.9, \"#4d9221\"], [1, \"#276419\"]], \"sequential\": [[0.0, \"#0d0887\"], [0.1111111111111111, \"#46039f\"], [0.2222222222222222, \"#7201a8\"], [0.3333333333333333, \"#9c179e\"], [0.4444444444444444, \"#bd3786\"], [0.5555555555555556, \"#d8576b\"], [0.6666666666666666, \"#ed7953\"], [0.7777777777777778, \"#fb9f3a\"], [0.8888888888888888, \"#fdca26\"], [1.0, \"#f0f921\"]], \"sequentialminus\": [[0.0, \"#0d0887\"], [0.1111111111111111, \"#46039f\"], [0.2222222222222222, \"#7201a8\"], [0.3333333333333333, \"#9c179e\"], [0.4444444444444444, \"#bd3786\"], [0.5555555555555556, \"#d8576b\"], [0.6666666666666666, \"#ed7953\"], [0.7777777777777778, \"#fb9f3a\"], [0.8888888888888888, \"#fdca26\"], [1.0, \"#f0f921\"]]}, \"colorway\": [\"#636efa\", \"#EF553B\", \"#00cc96\", \"#ab63fa\", \"#FFA15A\", \"#19d3f3\", \"#FF6692\", \"#B6E880\", \"#FF97FF\", \"#FECB52\"], \"font\": {\"color\": \"#2a3f5f\"}, \"geo\": {\"bgcolor\": \"white\", \"lakecolor\": \"white\", \"landcolor\": \"#E5ECF6\", \"showlakes\": true, \"showland\": true, \"subunitcolor\": \"white\"}, \"hoverlabel\": {\"align\": \"left\"}, \"hovermode\": \"closest\", \"mapbox\": {\"style\": \"light\"}, \"paper_bgcolor\": \"white\", \"plot_bgcolor\": \"#E5ECF6\", \"polar\": {\"angularaxis\": {\"gridcolor\": \"white\", \"linecolor\": \"white\", \"ticks\": \"\"}, \"bgcolor\": \"#E5ECF6\", \"radialaxis\": {\"gridcolor\": \"white\", \"linecolor\": \"white\", \"ticks\": \"\"}}, \"scene\": {\"xaxis\": {\"backgroundcolor\": \"#E5ECF6\", \"gridcolor\": \"white\", \"gridwidth\": 2, \"linecolor\": \"white\", \"showbackground\": true, \"ticks\": \"\", \"zerolinecolor\": \"white\"}, \"yaxis\": {\"backgroundcolor\": \"#E5ECF6\", \"gridcolor\": \"white\", \"gridwidth\": 2, \"linecolor\": \"white\", \"showbackground\": true, \"ticks\": \"\", \"zerolinecolor\": \"white\"}, \"zaxis\": {\"backgroundcolor\": \"#E5ECF6\", \"gridcolor\": \"white\", \"gridwidth\": 2, \"linecolor\": \"white\", \"showbackground\": true, \"ticks\": \"\", \"zerolinecolor\": \"white\"}}, \"shapedefaults\": {\"line\": {\"color\": \"#2a3f5f\"}}, \"ternary\": {\"aaxis\": {\"gridcolor\": \"white\", \"linecolor\": \"white\", \"ticks\": \"\"}, \"baxis\": {\"gridcolor\": \"white\", \"linecolor\": \"white\", \"ticks\": \"\"}, \"bgcolor\": \"#E5ECF6\", \"caxis\": {\"gridcolor\": \"white\", \"linecolor\": \"white\", \"ticks\": \"\"}}, \"title\": {\"x\": 0.05}, \"xaxis\": {\"automargin\": true, \"gridcolor\": \"white\", \"linecolor\": \"white\", \"ticks\": \"\", \"title\": {\"standoff\": 15}, \"zerolinecolor\": \"white\", \"zerolinewidth\": 2}, \"yaxis\": {\"automargin\": true, \"gridcolor\": \"white\", \"linecolor\": \"white\", \"ticks\": \"\", \"title\": {\"standoff\": 15}, \"zerolinecolor\": \"white\", \"zerolinewidth\": 2}}}, \"title\": {\"text\": \"Model Feature Coefficients\", \"x\": 0.5, \"xanchor\": \"center\", \"y\": 0.95, \"yanchor\": \"top\"}},\n",
       "                        {\"responsive\": true}\n",
       "                    ).then(function(){\n",
       "                            \n",
       "var gd = document.getElementById('bb9b3fe4-b589-4125-bad8-0d928d5a2573');\n",
       "var x = new MutationObserver(function (mutations, observer) {{\n",
       "        var display = window.getComputedStyle(gd).display;\n",
       "        if (!display || display === 'none') {{\n",
       "            console.log([gd, 'removed!']);\n",
       "            Plotly.purge(gd);\n",
       "            observer.disconnect();\n",
       "        }}\n",
       "}});\n",
       "\n",
       "// Listen for the removal of the full notebook cells\n",
       "var notebookContainer = gd.closest('#notebook-container');\n",
       "if (notebookContainer) {{\n",
       "    x.observe(notebookContainer, {childList: true});\n",
       "}}\n",
       "\n",
       "// Listen for the clearing of the current output cell\n",
       "var outputEl = gd.closest('.output');\n",
       "if (outputEl) {{\n",
       "    x.observe(outputEl, {childList: true});\n",
       "}}\n",
       "\n",
       "                        })\n",
       "                };\n",
       "                });\n",
       "            </script>\n",
       "        </div>"
      ]
     },
     "metadata": {},
     "output_type": "display_data"
    }
   ],
   "source": [
    "fig = go.Figure(data = go.Bar(name = 'variable coefficients', x = dep_var, y = list(model.coef_[0])))\n",
    "\n",
    "layout = go.Layout(\n",
    "    title = 'Model Feature Coeficients',\n",
    "    xaxis= dict(title= 'Dependent Variables',ticklen= 1,zeroline= False),\n",
    "    yaxis= dict(title= 'Coef',ticklen= 5,zeroline= False)\n",
    ")\n",
    "\n",
    "fig.update_layout(\n",
    "    title={\n",
    "        'text':'Model Feature Coefficients',\n",
    "        'y':0.95,\n",
    "        'x':0.5,\n",
    "        'xanchor': 'center',\n",
    "        'yanchor': 'top'})\n",
    "\n",
    "fig"
   ]
  },
  {
   "cell_type": "markdown",
   "metadata": {},
   "source": [
    "From above, we see that some variable appear to be more important than others such as, team against, score for and score against (which may be impacted by weather), pass/run ratio, turnover differential, and pass plays against versus run plays against. Using a basic model with some of these variables and impacts from weather should help us create some kind of game wins prediction."
   ]
  },
  {
   "cell_type": "markdown",
   "metadata": {},
   "source": [
    "<h2>Variables to Explore Affects of Weather On</h2><br>\n",
    "1. Score<br>\n",
    "2. Score against<br>\n",
    "3. pass/run ratio<br>\n",
    "4. to_diff<br>\n",
    "5. FG Attempts<br>\n",
    "6. FG Success Rate<br>\n",
    "\n",
    "<h2>Team Splitters</h2>\n",
    "1. Win Rank<br>\n",
    "2. Pass/Run Ratio Category (Pass Heavy, Middle, Run Heavy)<br>\n",
    "3. Typical Bad Weather Teams versus Good Weather or Dome<br>"
   ]
  },
  {
   "cell_type": "code",
   "execution_count": 109,
   "metadata": {},
   "outputs": [],
   "source": [
    "combined_df.to_csv('nfl_small_end_of_sum.csv')"
   ]
  },
  {
   "cell_type": "markdown",
   "metadata": {},
   "source": [
    "<h2>More Variables Exploration to Include in Summary DF</h2>"
   ]
  },
  {
   "cell_type": "code",
   "execution_count": null,
   "metadata": {},
   "outputs": [],
   "source": [
    "nfl_small2_end_of_drive[nfl_small2_end_of_drive['field_goal_result'].notnull()].head(3)"
   ]
  },
  {
   "cell_type": "code",
   "execution_count": null,
   "metadata": {},
   "outputs": [],
   "source": [
    "#Can include field goals attempted and made\n",
    "nfl_small2_end_of_drive.field_goal_result.unique()"
   ]
  },
  {
   "cell_type": "code",
   "execution_count": null,
   "metadata": {},
   "outputs": [],
   "source": [
    "nfl_small2_end_of_drive[(nfl_small2_end_of_drive['game_id']==2017090700)&\\\n",
    "                        (nfl_small2_end_of_drive['home_team']=='NE')&\\\n",
    "                        (nfl_small2_end_of_drive['play_type']=='field_goal')\n",
    "                       ].field_goal_result.count()"
   ]
  },
  {
   "cell_type": "code",
   "execution_count": null,
   "metadata": {},
   "outputs": [],
   "source": [
    "nfl_small2_end_of_drive[(nfl_small2_end_of_drive['game_id']==2017090700)&\\\n",
    "                        (nfl_small2_end_of_drive['home_team']=='NE')\n",
    "                       ].field_goal_result.count()"
   ]
  },
  {
   "cell_type": "markdown",
   "metadata": {},
   "source": [
    "<h2>Dashboard Scrap</h2>"
   ]
  },
  {
   "cell_type": "code",
   "execution_count": null,
   "metadata": {},
   "outputs": [],
   "source": [
    "game_dict = df.apply(lambda x : [x['game_id'], x['game_name']],axis=1)"
   ]
  },
  {
   "cell_type": "code",
   "execution_count": null,
   "metadata": {},
   "outputs": [],
   "source": [
    "game_dict"
   ]
  },
  {
   "cell_type": "code",
   "execution_count": null,
   "metadata": {
    "scrolled": false
   },
   "outputs": [],
   "source": [
    "# [i for i in game_dict]"
   ]
  },
  {
   "cell_type": "code",
   "execution_count": null,
   "metadata": {},
   "outputs": [],
   "source": [
    "nfl_small2_end_of_drive['cum_yds'] = nfl_small2_end_of_drive.groupby(['game_id'])['ydsnet'].cumsum()"
   ]
  },
  {
   "cell_type": "code",
   "execution_count": null,
   "metadata": {},
   "outputs": [],
   "source": [
    "# Getting data from one game to explore further\n",
    "kc_ne_game = nfl_small2[nfl_small2['game_id']==2017090700].sort_values(by='play_id',ascending=True)"
   ]
  },
  {
   "cell_type": "code",
   "execution_count": null,
   "metadata": {
    "scrolled": false
   },
   "outputs": [],
   "source": [
    "kc_ne_game.head(5)"
   ]
  },
  {
   "cell_type": "code",
   "execution_count": null,
   "metadata": {},
   "outputs": [],
   "source": [
    "kc_ne_game.shape"
   ]
  },
  {
   "cell_type": "code",
   "execution_count": null,
   "metadata": {},
   "outputs": [],
   "source": [
    "# Creating end of drive column to easily sum data\n",
    "\n",
    "for i in range(0, len(kc_ne_game)-1):\n",
    "    kc_ne_game.loc[i,'end_of_drive'] = kc_ne_game.loc[i+1,'drive'] - kc_ne_game.loc[i,'drive']\n",
    "\n",
    "# Adding one more for last drive of game\n",
    "kc_ne_game.loc[len(kc_ne_game)-1,'end_of_drive'] = 1"
   ]
  },
  {
   "cell_type": "code",
   "execution_count": null,
   "metadata": {},
   "outputs": [],
   "source": [
    "# Ensuring end of drive column is created correctly\n",
    "kc_ne_game.head(5)"
   ]
  },
  {
   "cell_type": "code",
   "execution_count": null,
   "metadata": {},
   "outputs": [],
   "source": [
    "# Pulling end of drive rows only\n",
    "kc_ne_game[kc_ne_game['end_of_drive'] == 1].head()"
   ]
  },
  {
   "cell_type": "code",
   "execution_count": null,
   "metadata": {},
   "outputs": [],
   "source": [
    "# There appears to be something wrong with yardage data for TEN\n",
    "# https://www.espn.com/nfl/playbyplay?gameId=290910023\n",
    "kc_ne_game[(kc_ne_game['end_of_drive'] == 1)&(kc_ne_game['game_half'] == 'Half1')]\\\n",
    "                                            .groupby(['posteam','drive']).agg({'ydsnet':np.sum})"
   ]
  },
  {
   "cell_type": "code",
   "execution_count": null,
   "metadata": {},
   "outputs": [],
   "source": [
    "kc_ne_game[(kc_ne_game['end_of_drive'] == 1)&(kc_ne_game['game_half'] == 'Half1')]\\\n",
    "                                            .groupby(['posteam','drive'])['ydsnet'].cumsum()"
   ]
  },
  {
   "cell_type": "code",
   "execution_count": null,
   "metadata": {},
   "outputs": [],
   "source": [
    "trace1 = go.Scatter(\n",
    "      x = kc_ne_game['drive'], \n",
    "      y = kc_ne_game['total_home_score'], \n",
    "      mode = 'lines', \n",
    "      name = 'New England',\n",
    "      type = \"scatter\"\n",
    "    )\n",
    "\n",
    "trace2 = go.Scatter(\n",
    "      x = kc_ne_game['drive'], \n",
    "      y = kc_ne_game['total_away_score'], \n",
    "      mode = \"lines\", \n",
    "      name = 'Kansas City',\n",
    "      type = \"scatter\"\n",
    "    )\n",
    "\n",
    "data = [trace1,trace2]"
   ]
  },
  {
   "cell_type": "code",
   "execution_count": null,
   "metadata": {},
   "outputs": [],
   "source": [
    "layout = go.Layout(\n",
    "    title = 'End of Drive Score',\n",
    "    xaxis= dict(title= 'Drive',ticklen= 1,zeroline= False),\n",
    "    yaxis= dict(title= 'Points',ticklen= 5,zeroline= False)\n",
    ")\n",
    "\n",
    "fig = go.Figure(data = data, layout = layout)\n",
    "\n",
    "fig.update_layout(\n",
    "    title={\n",
    "        'y':0.9,\n",
    "        'x':0.5,\n",
    "        'xanchor': 'center',\n",
    "        'yanchor': 'top'})\n",
    "fig"
   ]
  },
  {
   "cell_type": "markdown",
   "metadata": {},
   "source": [
    "<h2>Matplotlib Version</h2>"
   ]
  },
  {
   "cell_type": "code",
   "execution_count": null,
   "metadata": {},
   "outputs": [],
   "source": [
    "# Reset Fig\n",
    "plt.close('all')\n",
    "plt.style.use('seaborn')\n",
    "fig, ax1 = plt.subplots(figsize=(20,7))\n",
    "# plt.gca().invert_xaxis()\n",
    "\n",
    "line1 = ax1.plot(kc_ne_game['drive'],kc_ne_game['total_home_score'],'y--',label='PIT')\n",
    "line2 = ax1.plot(kc_ne_game['drive'],kc_ne_game['total_away_score'],'b-',label='TEN')\n",
    "\n",
    "ax1.set_xlabel('Drive Number',fontsize=14)\n",
    "ax1.set_ylabel('End of Drive Score',fontsize=14)\n",
    "ax1.set_title(\"End of Drive Score\",fontsize=14,fontweight='bold')\n",
    "\n",
    "ax1.legend(loc=4,fontsize=16)\n",
    "\n",
    "plt.show()"
   ]
  },
  {
   "cell_type": "markdown",
   "metadata": {},
   "source": [
    "<h2>Combining weather data with dataframe data</h2>"
   ]
  },
  {
   "cell_type": "code",
   "execution_count": null,
   "metadata": {},
   "outputs": [],
   "source": [
    "import os\n",
    "import re\n",
    "def load_weather():\n",
    "\n",
    "    # mapping out each stadium with their own weather dataframe in a dictionary\n",
    "       \n",
    "    weather_path = os.getcwd() + '\\\\historicalweatherdata'\n",
    "    files = os.listdir(weather_path)\n",
    "    df = pd.DataFrame()\n",
    "    for name in files:\n",
    "        if '.csv' in name and len(name) <= 7:\n",
    "            \n",
    "            df2 = pd.read_csv(weather_path + '\\\\' + name)\n",
    "            df = pd.concat([df, df2], sort=True)\n",
    "    \n",
    "    df = df.drop(['time_local'], axis=1)\n",
    "    df['Time (GMT)'] = pd.to_datetime(df['Time (GMT)'])\n",
    "    df['Time (EST)'] = pd.to_datetime(df['Time (EST)'])\n",
    "    \n",
    "    df = df.sort_values(by=['Team Abbreviation', 'Time (EST)'])\n",
    "    \n",
    "    return df"
   ]
  },
  {
   "cell_type": "code",
   "execution_count": null,
   "metadata": {},
   "outputs": [],
   "source": [
    "weather_df = load_weather()"
   ]
  },
  {
   "cell_type": "code",
   "execution_count": null,
   "metadata": {},
   "outputs": [],
   "source": [
    "weather_df.head(10)"
   ]
  },
  {
   "cell_type": "code",
   "execution_count": null,
   "metadata": {},
   "outputs": [],
   "source": [
    "weather_df.dtypes"
   ]
  },
  {
   "cell_type": "code",
   "execution_count": null,
   "metadata": {},
   "outputs": [],
   "source": [
    "nfl_small2.head()"
   ]
  },
  {
   "cell_type": "code",
   "execution_count": null,
   "metadata": {},
   "outputs": [],
   "source": [
    "nfl_small2['Estimated_Hour'] = nfl_small2['Estimated_Time'].dt.round('H')\n",
    "nfl_weather = pd.merge(nfl_small2, weather_df, how = 'left', left_on = ['home_team', 'Estimated_Hour'], right_on = ['Team Abbreviation', 'Time (EST)'])\n",
    "nfl_weather.sample(10)"
   ]
  },
  {
   "cell_type": "code",
   "execution_count": null,
   "metadata": {},
   "outputs": [],
   "source": [
    "nfl_weather.dtypes"
   ]
  },
  {
   "cell_type": "code",
   "execution_count": null,
   "metadata": {},
   "outputs": [],
   "source": [
    "nfl_weather.info()"
   ]
  },
  {
   "cell_type": "code",
   "execution_count": null,
   "metadata": {},
   "outputs": [],
   "source": [
    "nfl_small2.info(), weather_df.info()"
   ]
  },
  {
   "cell_type": "code",
   "execution_count": null,
   "metadata": {},
   "outputs": [],
   "source": [
    "with open ('stadium_dict.pkl', 'rb') as handle:\n",
    "    stadium_dict = pickle.load(handle)\n",
    "\n",
    "for k, v in stadium_dict.items():\n",
    "    print(k,v)"
   ]
  },
  {
   "cell_type": "code",
   "execution_count": null,
   "metadata": {},
   "outputs": [],
   "source": [
    "print(nfl_weather['Roof'].info())\n",
    "nfl_weather['Roof'] = nfl_weather.apply(lambda x: stadium_dict[x['Hmoe']])\n"
   ]
  },
  {
   "cell_type": "code",
   "execution_count": null,
   "metadata": {},
   "outputs": [],
   "source": [
    "nfl_weather.info()"
   ]
  },
  {
   "cell_type": "code",
   "execution_count": null,
   "metadata": {},
   "outputs": [],
   "source": [
    "nfl_weather[nfl_weather[['Roof', 'Team Abbreviation']].isnull().any(axis=1)].sample(200)"
   ]
  },
  {
   "cell_type": "code",
   "execution_count": null,
   "metadata": {},
   "outputs": [],
   "source": []
  }
 ],
 "metadata": {
  "kernelspec": {
   "display_name": "Python 3",
   "language": "python",
   "name": "python3"
  },
  "language_info": {
   "codemirror_mode": {
    "name": "ipython",
    "version": 3
   },
   "file_extension": ".py",
   "mimetype": "text/x-python",
   "name": "python",
   "nbconvert_exporter": "python",
   "pygments_lexer": "ipython3",
   "version": "3.7.4"
  },
  "latex_envs": {
   "LaTeX_envs_menu_present": true,
   "autoclose": false,
   "autocomplete": true,
   "bibliofile": "biblio.bib",
   "cite_by": "apalike",
   "current_citInitial": 1,
   "eqLabelWithNumbers": true,
   "eqNumInitial": 1,
   "hotkeys": {
    "equation": "Ctrl-E",
    "itemize": "Ctrl-I"
   },
   "labels_anchors": false,
   "latex_user_defs": false,
   "report_style_numbering": false,
   "user_envs_cfg": false
  }
 },
 "nbformat": 4,
 "nbformat_minor": 2
}
