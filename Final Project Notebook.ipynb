{
 "cells": [
  {
   "cell_type": "markdown",
   "metadata": {},
   "source": [
    "<h1>Weather Effects on NFL Play-By-Play Performance</h1>"
   ]
  },
  {
   "cell_type": "markdown",
   "metadata": {},
   "source": [
    "A common thought as it pertains to the affects of weather on NFL games is that weather plays an important factor on how teams choose play calling and how they perform given certain weather conditions. We are aiming to understand how weather changes intragame affect how teams perform in the moment and ultimately help determine the outcome."
   ]
  },
  {
   "cell_type": "markdown",
   "metadata": {},
   "source": [
    "<h2>Background on American Football</h2> <br>\n",
    "American Football is played between two teams in which each team is looking to advance a football down a 100 yard field to score a Touchdown (7 pts) or Field Goal (3 pts). Both teams are on the field at the same time, and the team advancing the football is called the <b>Offense (blue)</b> and the team trying to keep the Offense from advancing the football is call the <b>Defense (red).</b>"
   ]
  },
  {
   "cell_type": "markdown",
   "metadata": {},
   "source": [
    "![Football_field](footballfield.jpg)"
   ]
  },
  {
   "cell_type": "code",
   "execution_count": null,
   "metadata": {},
   "outputs": [],
   "source": []
  },
  {
   "cell_type": "markdown",
   "metadata": {},
   "source": [
    "<h2>The Game</h2><br>\n",
    "Each game is made up of 4 15 minute quarters. After the first two quarters, we have Halftime, where the teams will take a short break. Teams will flip a coin to see who starts with the ball at the beginning of the game, and the team that does not start with the ball at the beginning of the game will get the ball at halftime.<br>\n",
    "\n",
    "<h3>A Series</h3><br>\n",
    "The team on offense will four plays, or downs, to get 10 yards and reset their down counter. If a team does not get 10 yards on 4 downs, or gives the ball to the other defending team (turnover), then that team turns the ball over. A series ends when a team has turned the ball over or gotten ten or more yards.<br>\n",
    "\n",
    "<h3>A Drive</h3><br>\n",
    "A Drive is a collection of sequential series run by the offense until they have either score or turned the ball over (which also happens at halftime).\n"
   ]
  },
  {
   "cell_type": "markdown",
   "metadata": {},
   "source": [
    "<h3>Playing conditions</h3>\n",
    "Teams play in stadiums seating between 60 and 80k people. They range in design, but most fit into two categories; Open Air (or exposed to outside weather) or Enclosed (not exposed to outside weather)<br>\n",
    "\n",
    "<b>The field can be made up of a couple types of surfaces:</b><br>\n",
    "-Natural Grass<br>\n",
    "-Artifical Turf (Used mostly for Enclosed Stadiums, but also in some Open Air Stadiums)<br>"
   ]
  },
  {
   "cell_type": "code",
   "execution_count": null,
   "metadata": {
    "cell_style": "center"
   },
   "outputs": [],
   "source": []
  },
  {
   "cell_type": "markdown",
   "metadata": {
    "cell_style": "split"
   },
   "source": [
    "<h2>The NFL</h2><br>\n",
    "The NFL, or National Football League, is the American league for American Football, and considered the most prevalant in the world. There are 32 teams from across the continental USA split into two conferences call the AFC and NFC."
   ]
  },
  {
   "cell_type": "markdown",
   "metadata": {
    "cell_style": "split"
   },
   "source": [
    "<img src=\"NFL_Logo.png\" style=width:250px;height:350px>"
   ]
  },
  {
   "cell_type": "code",
   "execution_count": null,
   "metadata": {},
   "outputs": [],
   "source": []
  },
  {
   "cell_type": "markdown",
   "metadata": {},
   "source": [
    "<h2>The Teams</h2>"
   ]
  },
  {
   "cell_type": "markdown",
   "metadata": {},
   "source": [
    "<img src=\"nfl_team_logos.png\" style=width:650px;height:1050px>"
   ]
  },
  {
   "cell_type": "code",
   "execution_count": null,
   "metadata": {},
   "outputs": [],
   "source": []
  }
 ],
 "metadata": {
  "kernelspec": {
   "display_name": "Python 3",
   "language": "python",
   "name": "python3"
  },
  "language_info": {
   "codemirror_mode": {
    "name": "ipython",
    "version": 3
   },
   "file_extension": ".py",
   "mimetype": "text/x-python",
   "name": "python",
   "nbconvert_exporter": "python",
   "pygments_lexer": "ipython3",
   "version": "3.7.4"
  },
  "latex_envs": {
   "LaTeX_envs_menu_present": true,
   "autoclose": false,
   "autocomplete": true,
   "bibliofile": "biblio.bib",
   "cite_by": "apalike",
   "current_citInitial": 1,
   "eqLabelWithNumbers": true,
   "eqNumInitial": 1,
   "hotkeys": {
    "equation": "Ctrl-E",
    "itemize": "Ctrl-I"
   },
   "labels_anchors": false,
   "latex_user_defs": false,
   "report_style_numbering": false,
   "user_envs_cfg": false
  }
 },
 "nbformat": 4,
 "nbformat_minor": 2
}
