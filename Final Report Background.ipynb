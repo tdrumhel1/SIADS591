{
 "cells": [
  {
   "cell_type": "code",
   "execution_count": 36,
   "metadata": {},
   "outputs": [],
   "source": [
    "import pandas as pd\n",
    "import numpy as np\n",
    "import matplotlib\n",
    "import matplotlib.pyplot as plt\n",
    "from datetime import datetime\n",
    "from datetime import time\n",
    "\n",
    "import plotly\n",
    "import plotly.graph_objs as go\n",
    "import chart_studio.plotly as py\n",
    "from chart_studio.plotly import plot, iplot\n",
    "import plotly.express as px\n",
    "\n",
    "# Setting pandas to display columns\n",
    "pd.set_option('display.max_columns', None)"
   ]
  },
  {
   "cell_type": "code",
   "execution_count": 37,
   "metadata": {},
   "outputs": [],
   "source": [
    "nfl_small2_end_of_drive = pd.read_csv('nfl_small_end_of_drive.csv',index_col=1,\\\n",
    "    dtype= {'ARI' : 'str','ATL' : 'str', 'BAL' : 'str', 'BUF' : 'str', 'CAR' : 'str',\n",
    "             'CHI' : 'str', 'CIN' : 'str', 'CLE' : 'str', 'DAL' : 'str', 'DEN' : 'str',\n",
    "             'DET' : 'str', 'GB' : 'str', 'HOU' : 'str', 'IND' : 'str', 'JAX' : 'str',\n",
    "             'KC' : 'str', 'LA' : 'str', 'LAC' : 'str', 'MIA' : 'str', 'MIN' : 'str',\n",
    "             'NE' : 'str', 'NO' : 'str', 'NYG' : 'str','NYJ' : 'str', 'OAK' : 'str',\n",
    "             'PHI' : 'str', 'PIT' : 'str','SEA' : 'str', 'SF' : 'str', 'TB' : 'str',\n",
    "             'TEN' : 'str', 'WAS' : 'str'})\n"
   ]
  },
  {
   "cell_type": "code",
   "execution_count": 38,
   "metadata": {},
   "outputs": [
    {
     "data": {
      "text/html": [
       "<div>\n",
       "<style scoped>\n",
       "    .dataframe tbody tr th:only-of-type {\n",
       "        vertical-align: middle;\n",
       "    }\n",
       "\n",
       "    .dataframe tbody tr th {\n",
       "        vertical-align: top;\n",
       "    }\n",
       "\n",
       "    .dataframe thead th {\n",
       "        text-align: right;\n",
       "    }\n",
       "</style>\n",
       "<table border=\"1\" class=\"dataframe\">\n",
       "  <thead>\n",
       "    <tr style=\"text-align: right;\">\n",
       "      <th></th>\n",
       "      <th>index</th>\n",
       "      <th>game_id</th>\n",
       "      <th>game_date</th>\n",
       "      <th>time</th>\n",
       "      <th>quarter_seconds_remaining</th>\n",
       "      <th>half_seconds_remaining</th>\n",
       "      <th>game_seconds_remaining</th>\n",
       "      <th>game_half</th>\n",
       "      <th>quarter_end</th>\n",
       "      <th>qtr</th>\n",
       "      <th>home_team</th>\n",
       "      <th>away_team</th>\n",
       "      <th>posteam</th>\n",
       "      <th>posteam_type</th>\n",
       "      <th>defteam</th>\n",
       "      <th>side_of_field</th>\n",
       "      <th>yardline_100</th>\n",
       "      <th>drive</th>\n",
       "      <th>sp</th>\n",
       "      <th>down</th>\n",
       "      <th>goal_to_go</th>\n",
       "      <th>yrdln</th>\n",
       "      <th>ydstogo</th>\n",
       "      <th>ydsnet</th>\n",
       "      <th>desc</th>\n",
       "      <th>play_type</th>\n",
       "      <th>yards_gained</th>\n",
       "      <th>pass_length</th>\n",
       "      <th>air_yards</th>\n",
       "      <th>yards_after_catch</th>\n",
       "      <th>field_goal_result</th>\n",
       "      <th>kick_distance</th>\n",
       "      <th>extra_point_result</th>\n",
       "      <th>two_point_conv_result</th>\n",
       "      <th>td_team</th>\n",
       "      <th>total_home_score</th>\n",
       "      <th>total_away_score</th>\n",
       "      <th>posteam_score</th>\n",
       "      <th>defteam_score</th>\n",
       "      <th>sack</th>\n",
       "      <th>touchdown</th>\n",
       "      <th>pass_touchdown</th>\n",
       "      <th>rush_touchdown</th>\n",
       "      <th>return_touchdown</th>\n",
       "      <th>extra_point_attempt</th>\n",
       "      <th>two_point_attempt</th>\n",
       "      <th>field_goal_attempt</th>\n",
       "      <th>fumble</th>\n",
       "      <th>complete_pass</th>\n",
       "      <th>Start_Time</th>\n",
       "      <th>year</th>\n",
       "      <th>diff</th>\n",
       "      <th>Estimated_Time</th>\n",
       "      <th>Estimated Time (EST)</th>\n",
       "      <th>Estimated_Hour</th>\n",
       "      <th>Air Pressure (hPa)</th>\n",
       "      <th>City</th>\n",
       "      <th>Dewpoint (°C)</th>\n",
       "      <th>Field</th>\n",
       "      <th>Humidity (%)</th>\n",
       "      <th>Precipitation (mm)</th>\n",
       "      <th>Roof</th>\n",
       "      <th>Team Abbreviation</th>\n",
       "      <th>Temperature (°C)</th>\n",
       "      <th>Time (EST)</th>\n",
       "      <th>Time (GMT)</th>\n",
       "      <th>Unnamed: 0_y</th>\n",
       "      <th>Wind Direction (deg)</th>\n",
       "      <th>Wind Speed (km/h)</th>\n",
       "      <th>added_time</th>\n",
       "      <th>game_name</th>\n",
       "      <th>end_of_drive</th>\n",
       "      <th>end_of_game</th>\n",
       "      <th>INT</th>\n",
       "      <th>ARI</th>\n",
       "      <th>ATL</th>\n",
       "      <th>BAL</th>\n",
       "      <th>BUF</th>\n",
       "      <th>CAR</th>\n",
       "      <th>CHI</th>\n",
       "      <th>CIN</th>\n",
       "      <th>CLE</th>\n",
       "      <th>DAL</th>\n",
       "      <th>DEN</th>\n",
       "      <th>DET</th>\n",
       "      <th>GB</th>\n",
       "      <th>HOU</th>\n",
       "      <th>IND</th>\n",
       "      <th>JAX</th>\n",
       "      <th>KC</th>\n",
       "      <th>LA</th>\n",
       "      <th>LAC</th>\n",
       "      <th>MIA</th>\n",
       "      <th>MIN</th>\n",
       "      <th>NE</th>\n",
       "      <th>NO</th>\n",
       "      <th>NYG</th>\n",
       "      <th>NYJ</th>\n",
       "      <th>OAK</th>\n",
       "      <th>PHI</th>\n",
       "      <th>PIT</th>\n",
       "      <th>SEA</th>\n",
       "      <th>SF</th>\n",
       "      <th>TB</th>\n",
       "      <th>TEN</th>\n",
       "      <th>WAS</th>\n",
       "      <th>week</th>\n",
       "    </tr>\n",
       "    <tr>\n",
       "      <th>play_id</th>\n",
       "      <th></th>\n",
       "      <th></th>\n",
       "      <th></th>\n",
       "      <th></th>\n",
       "      <th></th>\n",
       "      <th></th>\n",
       "      <th></th>\n",
       "      <th></th>\n",
       "      <th></th>\n",
       "      <th></th>\n",
       "      <th></th>\n",
       "      <th></th>\n",
       "      <th></th>\n",
       "      <th></th>\n",
       "      <th></th>\n",
       "      <th></th>\n",
       "      <th></th>\n",
       "      <th></th>\n",
       "      <th></th>\n",
       "      <th></th>\n",
       "      <th></th>\n",
       "      <th></th>\n",
       "      <th></th>\n",
       "      <th></th>\n",
       "      <th></th>\n",
       "      <th></th>\n",
       "      <th></th>\n",
       "      <th></th>\n",
       "      <th></th>\n",
       "      <th></th>\n",
       "      <th></th>\n",
       "      <th></th>\n",
       "      <th></th>\n",
       "      <th></th>\n",
       "      <th></th>\n",
       "      <th></th>\n",
       "      <th></th>\n",
       "      <th></th>\n",
       "      <th></th>\n",
       "      <th></th>\n",
       "      <th></th>\n",
       "      <th></th>\n",
       "      <th></th>\n",
       "      <th></th>\n",
       "      <th></th>\n",
       "      <th></th>\n",
       "      <th></th>\n",
       "      <th></th>\n",
       "      <th></th>\n",
       "      <th></th>\n",
       "      <th></th>\n",
       "      <th></th>\n",
       "      <th></th>\n",
       "      <th></th>\n",
       "      <th></th>\n",
       "      <th></th>\n",
       "      <th></th>\n",
       "      <th></th>\n",
       "      <th></th>\n",
       "      <th></th>\n",
       "      <th></th>\n",
       "      <th></th>\n",
       "      <th></th>\n",
       "      <th></th>\n",
       "      <th></th>\n",
       "      <th></th>\n",
       "      <th></th>\n",
       "      <th></th>\n",
       "      <th></th>\n",
       "      <th></th>\n",
       "      <th></th>\n",
       "      <th></th>\n",
       "      <th></th>\n",
       "      <th></th>\n",
       "      <th></th>\n",
       "      <th></th>\n",
       "      <th></th>\n",
       "      <th></th>\n",
       "      <th></th>\n",
       "      <th></th>\n",
       "      <th></th>\n",
       "      <th></th>\n",
       "      <th></th>\n",
       "      <th></th>\n",
       "      <th></th>\n",
       "      <th></th>\n",
       "      <th></th>\n",
       "      <th></th>\n",
       "      <th></th>\n",
       "      <th></th>\n",
       "      <th></th>\n",
       "      <th></th>\n",
       "      <th></th>\n",
       "      <th></th>\n",
       "      <th></th>\n",
       "      <th></th>\n",
       "      <th></th>\n",
       "      <th></th>\n",
       "      <th></th>\n",
       "      <th></th>\n",
       "      <th></th>\n",
       "      <th></th>\n",
       "      <th></th>\n",
       "      <th></th>\n",
       "      <th></th>\n",
       "      <th></th>\n",
       "      <th></th>\n",
       "    </tr>\n",
       "  </thead>\n",
       "  <tbody>\n",
       "    <tr>\n",
       "      <td>36</td>\n",
       "      <td>270409</td>\n",
       "      <td>2015091000</td>\n",
       "      <td>2015-09-10 00:00:00</td>\n",
       "      <td>15:00</td>\n",
       "      <td>900.0</td>\n",
       "      <td>1800.0</td>\n",
       "      <td>3600.0</td>\n",
       "      <td>Half1</td>\n",
       "      <td>0</td>\n",
       "      <td>1</td>\n",
       "      <td>NE</td>\n",
       "      <td>PIT</td>\n",
       "      <td>PIT</td>\n",
       "      <td>away</td>\n",
       "      <td>NE</td>\n",
       "      <td>NE</td>\n",
       "      <td>35.0</td>\n",
       "      <td>1</td>\n",
       "      <td>0</td>\n",
       "      <td>NaN</td>\n",
       "      <td>0.0</td>\n",
       "      <td>NE 35</td>\n",
       "      <td>0</td>\n",
       "      <td>0</td>\n",
       "      <td>S.Gostkowski kicks 65 yards from NE 35 to end ...</td>\n",
       "      <td>kickoff</td>\n",
       "      <td>0.0</td>\n",
       "      <td>0</td>\n",
       "      <td>0.0</td>\n",
       "      <td>0.0</td>\n",
       "      <td>NaN</td>\n",
       "      <td>NaN</td>\n",
       "      <td>NaN</td>\n",
       "      <td>NaN</td>\n",
       "      <td>NaN</td>\n",
       "      <td>0</td>\n",
       "      <td>0</td>\n",
       "      <td>0.0</td>\n",
       "      <td>0.0</td>\n",
       "      <td>0.0</td>\n",
       "      <td>0.0</td>\n",
       "      <td>0.0</td>\n",
       "      <td>0.0</td>\n",
       "      <td>0.0</td>\n",
       "      <td>0.0</td>\n",
       "      <td>0.0</td>\n",
       "      <td>0.0</td>\n",
       "      <td>0.0</td>\n",
       "      <td>0.0</td>\n",
       "      <td>2015-09-10 20:40:00</td>\n",
       "      <td>2015.0</td>\n",
       "      <td>0 days 00:00:00.000000000</td>\n",
       "      <td>2015-09-10 20:40:00</td>\n",
       "      <td>2015-09-10 20:40:00</td>\n",
       "      <td>2015-09-10 21:00:00</td>\n",
       "      <td>1010.6</td>\n",
       "      <td>Foxborough</td>\n",
       "      <td>16.1</td>\n",
       "      <td>FieldTurf CORE</td>\n",
       "      <td>87.0</td>\n",
       "      <td>0.3</td>\n",
       "      <td>Open</td>\n",
       "      <td>NE</td>\n",
       "      <td>18.3</td>\n",
       "      <td>2015-09-10 21:00:00</td>\n",
       "      <td>2015-09-11 01:00:00</td>\n",
       "      <td>NaN</td>\n",
       "      <td>30.0</td>\n",
       "      <td>20.5</td>\n",
       "      <td>0</td>\n",
       "      <td>PIT @ NE 2015-09-10</td>\n",
       "      <td>0</td>\n",
       "      <td>0</td>\n",
       "      <td>0</td>\n",
       "      <td>0</td>\n",
       "      <td>0</td>\n",
       "      <td>0</td>\n",
       "      <td>0</td>\n",
       "      <td>0</td>\n",
       "      <td>0</td>\n",
       "      <td>0</td>\n",
       "      <td>0</td>\n",
       "      <td>0</td>\n",
       "      <td>0</td>\n",
       "      <td>0</td>\n",
       "      <td>0</td>\n",
       "      <td>0</td>\n",
       "      <td>0</td>\n",
       "      <td>0</td>\n",
       "      <td>0</td>\n",
       "      <td>0</td>\n",
       "      <td>0</td>\n",
       "      <td>0</td>\n",
       "      <td>0</td>\n",
       "      <td>H</td>\n",
       "      <td>0</td>\n",
       "      <td>0</td>\n",
       "      <td>0</td>\n",
       "      <td>0</td>\n",
       "      <td>0</td>\n",
       "      <td>A</td>\n",
       "      <td>0</td>\n",
       "      <td>0</td>\n",
       "      <td>0</td>\n",
       "      <td>0</td>\n",
       "      <td>0</td>\n",
       "      <td>1</td>\n",
       "    </tr>\n",
       "    <tr>\n",
       "      <td>51</td>\n",
       "      <td>270410</td>\n",
       "      <td>2015091000</td>\n",
       "      <td>2015-09-10 00:00:00</td>\n",
       "      <td>15:00</td>\n",
       "      <td>900.0</td>\n",
       "      <td>1800.0</td>\n",
       "      <td>3600.0</td>\n",
       "      <td>Half1</td>\n",
       "      <td>0</td>\n",
       "      <td>1</td>\n",
       "      <td>NE</td>\n",
       "      <td>PIT</td>\n",
       "      <td>PIT</td>\n",
       "      <td>away</td>\n",
       "      <td>NE</td>\n",
       "      <td>PIT</td>\n",
       "      <td>80.0</td>\n",
       "      <td>1</td>\n",
       "      <td>0</td>\n",
       "      <td>1.0</td>\n",
       "      <td>0.0</td>\n",
       "      <td>PIT 20</td>\n",
       "      <td>10</td>\n",
       "      <td>18</td>\n",
       "      <td>(15:00) De.Williams right tackle to PIT 38 for...</td>\n",
       "      <td>run</td>\n",
       "      <td>18.0</td>\n",
       "      <td>0</td>\n",
       "      <td>0.0</td>\n",
       "      <td>0.0</td>\n",
       "      <td>NaN</td>\n",
       "      <td>NaN</td>\n",
       "      <td>NaN</td>\n",
       "      <td>NaN</td>\n",
       "      <td>NaN</td>\n",
       "      <td>0</td>\n",
       "      <td>0</td>\n",
       "      <td>0.0</td>\n",
       "      <td>0.0</td>\n",
       "      <td>0.0</td>\n",
       "      <td>0.0</td>\n",
       "      <td>0.0</td>\n",
       "      <td>0.0</td>\n",
       "      <td>0.0</td>\n",
       "      <td>0.0</td>\n",
       "      <td>0.0</td>\n",
       "      <td>0.0</td>\n",
       "      <td>0.0</td>\n",
       "      <td>0.0</td>\n",
       "      <td>2015-09-10 20:40:00</td>\n",
       "      <td>2015.0</td>\n",
       "      <td>0 days 00:00:00.000000000</td>\n",
       "      <td>2015-09-10 20:40:00</td>\n",
       "      <td>2015-09-10 20:40:00</td>\n",
       "      <td>2015-09-10 21:00:00</td>\n",
       "      <td>1010.6</td>\n",
       "      <td>Foxborough</td>\n",
       "      <td>16.1</td>\n",
       "      <td>FieldTurf CORE</td>\n",
       "      <td>87.0</td>\n",
       "      <td>0.3</td>\n",
       "      <td>Open</td>\n",
       "      <td>NE</td>\n",
       "      <td>18.3</td>\n",
       "      <td>2015-09-10 21:00:00</td>\n",
       "      <td>2015-09-11 01:00:00</td>\n",
       "      <td>NaN</td>\n",
       "      <td>30.0</td>\n",
       "      <td>20.5</td>\n",
       "      <td>0</td>\n",
       "      <td>PIT @ NE 2015-09-10</td>\n",
       "      <td>0</td>\n",
       "      <td>0</td>\n",
       "      <td>0</td>\n",
       "      <td>0</td>\n",
       "      <td>0</td>\n",
       "      <td>0</td>\n",
       "      <td>0</td>\n",
       "      <td>0</td>\n",
       "      <td>0</td>\n",
       "      <td>0</td>\n",
       "      <td>0</td>\n",
       "      <td>0</td>\n",
       "      <td>0</td>\n",
       "      <td>0</td>\n",
       "      <td>0</td>\n",
       "      <td>0</td>\n",
       "      <td>0</td>\n",
       "      <td>0</td>\n",
       "      <td>0</td>\n",
       "      <td>0</td>\n",
       "      <td>0</td>\n",
       "      <td>0</td>\n",
       "      <td>0</td>\n",
       "      <td>H</td>\n",
       "      <td>0</td>\n",
       "      <td>0</td>\n",
       "      <td>0</td>\n",
       "      <td>0</td>\n",
       "      <td>0</td>\n",
       "      <td>A</td>\n",
       "      <td>0</td>\n",
       "      <td>0</td>\n",
       "      <td>0</td>\n",
       "      <td>0</td>\n",
       "      <td>0</td>\n",
       "      <td>1</td>\n",
       "    </tr>\n",
       "    <tr>\n",
       "      <td>72</td>\n",
       "      <td>270411</td>\n",
       "      <td>2015091000</td>\n",
       "      <td>2015-09-10 00:00:00</td>\n",
       "      <td>14:21</td>\n",
       "      <td>861.0</td>\n",
       "      <td>1761.0</td>\n",
       "      <td>3561.0</td>\n",
       "      <td>Half1</td>\n",
       "      <td>0</td>\n",
       "      <td>1</td>\n",
       "      <td>NE</td>\n",
       "      <td>PIT</td>\n",
       "      <td>PIT</td>\n",
       "      <td>away</td>\n",
       "      <td>NE</td>\n",
       "      <td>PIT</td>\n",
       "      <td>62.0</td>\n",
       "      <td>1</td>\n",
       "      <td>0</td>\n",
       "      <td>1.0</td>\n",
       "      <td>0.0</td>\n",
       "      <td>PIT 38</td>\n",
       "      <td>10</td>\n",
       "      <td>31</td>\n",
       "      <td>(14:21) B.Roethlisberger pass short right to A...</td>\n",
       "      <td>pass</td>\n",
       "      <td>9.0</td>\n",
       "      <td>short</td>\n",
       "      <td>-4.0</td>\n",
       "      <td>13.0</td>\n",
       "      <td>NaN</td>\n",
       "      <td>NaN</td>\n",
       "      <td>NaN</td>\n",
       "      <td>NaN</td>\n",
       "      <td>NaN</td>\n",
       "      <td>0</td>\n",
       "      <td>0</td>\n",
       "      <td>0.0</td>\n",
       "      <td>0.0</td>\n",
       "      <td>0.0</td>\n",
       "      <td>0.0</td>\n",
       "      <td>0.0</td>\n",
       "      <td>0.0</td>\n",
       "      <td>0.0</td>\n",
       "      <td>0.0</td>\n",
       "      <td>0.0</td>\n",
       "      <td>0.0</td>\n",
       "      <td>0.0</td>\n",
       "      <td>1.0</td>\n",
       "      <td>2015-09-10 20:40:00</td>\n",
       "      <td>2015.0</td>\n",
       "      <td>0 days 00:01:57.000000000</td>\n",
       "      <td>2015-09-10 20:41:57</td>\n",
       "      <td>2015-09-10 20:41:57</td>\n",
       "      <td>2015-09-10 21:00:00</td>\n",
       "      <td>1010.6</td>\n",
       "      <td>Foxborough</td>\n",
       "      <td>16.1</td>\n",
       "      <td>FieldTurf CORE</td>\n",
       "      <td>87.0</td>\n",
       "      <td>0.3</td>\n",
       "      <td>Open</td>\n",
       "      <td>NE</td>\n",
       "      <td>18.3</td>\n",
       "      <td>2015-09-10 21:00:00</td>\n",
       "      <td>2015-09-11 01:00:00</td>\n",
       "      <td>NaN</td>\n",
       "      <td>30.0</td>\n",
       "      <td>20.5</td>\n",
       "      <td>0</td>\n",
       "      <td>PIT @ NE 2015-09-10</td>\n",
       "      <td>0</td>\n",
       "      <td>0</td>\n",
       "      <td>0</td>\n",
       "      <td>0</td>\n",
       "      <td>0</td>\n",
       "      <td>0</td>\n",
       "      <td>0</td>\n",
       "      <td>0</td>\n",
       "      <td>0</td>\n",
       "      <td>0</td>\n",
       "      <td>0</td>\n",
       "      <td>0</td>\n",
       "      <td>0</td>\n",
       "      <td>0</td>\n",
       "      <td>0</td>\n",
       "      <td>0</td>\n",
       "      <td>0</td>\n",
       "      <td>0</td>\n",
       "      <td>0</td>\n",
       "      <td>0</td>\n",
       "      <td>0</td>\n",
       "      <td>0</td>\n",
       "      <td>0</td>\n",
       "      <td>H</td>\n",
       "      <td>0</td>\n",
       "      <td>0</td>\n",
       "      <td>0</td>\n",
       "      <td>0</td>\n",
       "      <td>0</td>\n",
       "      <td>A</td>\n",
       "      <td>0</td>\n",
       "      <td>0</td>\n",
       "      <td>0</td>\n",
       "      <td>0</td>\n",
       "      <td>0</td>\n",
       "      <td>1</td>\n",
       "    </tr>\n",
       "    <tr>\n",
       "      <td>101</td>\n",
       "      <td>270412</td>\n",
       "      <td>2015091000</td>\n",
       "      <td>2015-09-10 00:00:00</td>\n",
       "      <td>14:04</td>\n",
       "      <td>844.0</td>\n",
       "      <td>1744.0</td>\n",
       "      <td>3544.0</td>\n",
       "      <td>Half1</td>\n",
       "      <td>0</td>\n",
       "      <td>1</td>\n",
       "      <td>NE</td>\n",
       "      <td>PIT</td>\n",
       "      <td>PIT</td>\n",
       "      <td>away</td>\n",
       "      <td>NE</td>\n",
       "      <td>PIT</td>\n",
       "      <td>53.0</td>\n",
       "      <td>1</td>\n",
       "      <td>0</td>\n",
       "      <td>2.0</td>\n",
       "      <td>0.0</td>\n",
       "      <td>PIT 47</td>\n",
       "      <td>1</td>\n",
       "      <td>31</td>\n",
       "      <td>(14:04) De.Williams right guard to NE 49 for 4...</td>\n",
       "      <td>run</td>\n",
       "      <td>4.0</td>\n",
       "      <td>0</td>\n",
       "      <td>0.0</td>\n",
       "      <td>0.0</td>\n",
       "      <td>NaN</td>\n",
       "      <td>NaN</td>\n",
       "      <td>NaN</td>\n",
       "      <td>NaN</td>\n",
       "      <td>NaN</td>\n",
       "      <td>0</td>\n",
       "      <td>0</td>\n",
       "      <td>0.0</td>\n",
       "      <td>0.0</td>\n",
       "      <td>0.0</td>\n",
       "      <td>0.0</td>\n",
       "      <td>0.0</td>\n",
       "      <td>0.0</td>\n",
       "      <td>0.0</td>\n",
       "      <td>0.0</td>\n",
       "      <td>0.0</td>\n",
       "      <td>0.0</td>\n",
       "      <td>0.0</td>\n",
       "      <td>0.0</td>\n",
       "      <td>2015-09-10 20:40:00</td>\n",
       "      <td>2015.0</td>\n",
       "      <td>0 days 00:02:48.000000000</td>\n",
       "      <td>2015-09-10 20:42:48</td>\n",
       "      <td>2015-09-10 20:42:48</td>\n",
       "      <td>2015-09-10 21:00:00</td>\n",
       "      <td>1010.6</td>\n",
       "      <td>Foxborough</td>\n",
       "      <td>16.1</td>\n",
       "      <td>FieldTurf CORE</td>\n",
       "      <td>87.0</td>\n",
       "      <td>0.3</td>\n",
       "      <td>Open</td>\n",
       "      <td>NE</td>\n",
       "      <td>18.3</td>\n",
       "      <td>2015-09-10 21:00:00</td>\n",
       "      <td>2015-09-11 01:00:00</td>\n",
       "      <td>NaN</td>\n",
       "      <td>30.0</td>\n",
       "      <td>20.5</td>\n",
       "      <td>0</td>\n",
       "      <td>PIT @ NE 2015-09-10</td>\n",
       "      <td>0</td>\n",
       "      <td>0</td>\n",
       "      <td>0</td>\n",
       "      <td>0</td>\n",
       "      <td>0</td>\n",
       "      <td>0</td>\n",
       "      <td>0</td>\n",
       "      <td>0</td>\n",
       "      <td>0</td>\n",
       "      <td>0</td>\n",
       "      <td>0</td>\n",
       "      <td>0</td>\n",
       "      <td>0</td>\n",
       "      <td>0</td>\n",
       "      <td>0</td>\n",
       "      <td>0</td>\n",
       "      <td>0</td>\n",
       "      <td>0</td>\n",
       "      <td>0</td>\n",
       "      <td>0</td>\n",
       "      <td>0</td>\n",
       "      <td>0</td>\n",
       "      <td>0</td>\n",
       "      <td>H</td>\n",
       "      <td>0</td>\n",
       "      <td>0</td>\n",
       "      <td>0</td>\n",
       "      <td>0</td>\n",
       "      <td>0</td>\n",
       "      <td>A</td>\n",
       "      <td>0</td>\n",
       "      <td>0</td>\n",
       "      <td>0</td>\n",
       "      <td>0</td>\n",
       "      <td>0</td>\n",
       "      <td>1</td>\n",
       "    </tr>\n",
       "    <tr>\n",
       "      <td>122</td>\n",
       "      <td>270413</td>\n",
       "      <td>2015091000</td>\n",
       "      <td>2015-09-10 00:00:00</td>\n",
       "      <td>13:26</td>\n",
       "      <td>806.0</td>\n",
       "      <td>1706.0</td>\n",
       "      <td>3506.0</td>\n",
       "      <td>Half1</td>\n",
       "      <td>0</td>\n",
       "      <td>1</td>\n",
       "      <td>NE</td>\n",
       "      <td>PIT</td>\n",
       "      <td>PIT</td>\n",
       "      <td>away</td>\n",
       "      <td>NE</td>\n",
       "      <td>NE</td>\n",
       "      <td>49.0</td>\n",
       "      <td>1</td>\n",
       "      <td>0</td>\n",
       "      <td>1.0</td>\n",
       "      <td>0.0</td>\n",
       "      <td>NE 49</td>\n",
       "      <td>10</td>\n",
       "      <td>45</td>\n",
       "      <td>(13:26) B.Roethlisberger pass short right to H...</td>\n",
       "      <td>pass</td>\n",
       "      <td>14.0</td>\n",
       "      <td>short</td>\n",
       "      <td>9.0</td>\n",
       "      <td>5.0</td>\n",
       "      <td>NaN</td>\n",
       "      <td>NaN</td>\n",
       "      <td>NaN</td>\n",
       "      <td>NaN</td>\n",
       "      <td>NaN</td>\n",
       "      <td>0</td>\n",
       "      <td>0</td>\n",
       "      <td>0.0</td>\n",
       "      <td>0.0</td>\n",
       "      <td>0.0</td>\n",
       "      <td>0.0</td>\n",
       "      <td>0.0</td>\n",
       "      <td>0.0</td>\n",
       "      <td>0.0</td>\n",
       "      <td>0.0</td>\n",
       "      <td>0.0</td>\n",
       "      <td>0.0</td>\n",
       "      <td>0.0</td>\n",
       "      <td>1.0</td>\n",
       "      <td>2015-09-10 20:40:00</td>\n",
       "      <td>2015.0</td>\n",
       "      <td>0 days 00:04:42.000000000</td>\n",
       "      <td>2015-09-10 20:44:42</td>\n",
       "      <td>2015-09-10 20:44:42</td>\n",
       "      <td>2015-09-10 21:00:00</td>\n",
       "      <td>1010.6</td>\n",
       "      <td>Foxborough</td>\n",
       "      <td>16.1</td>\n",
       "      <td>FieldTurf CORE</td>\n",
       "      <td>87.0</td>\n",
       "      <td>0.3</td>\n",
       "      <td>Open</td>\n",
       "      <td>NE</td>\n",
       "      <td>18.3</td>\n",
       "      <td>2015-09-10 21:00:00</td>\n",
       "      <td>2015-09-11 01:00:00</td>\n",
       "      <td>NaN</td>\n",
       "      <td>30.0</td>\n",
       "      <td>20.5</td>\n",
       "      <td>0</td>\n",
       "      <td>PIT @ NE 2015-09-10</td>\n",
       "      <td>0</td>\n",
       "      <td>0</td>\n",
       "      <td>0</td>\n",
       "      <td>0</td>\n",
       "      <td>0</td>\n",
       "      <td>0</td>\n",
       "      <td>0</td>\n",
       "      <td>0</td>\n",
       "      <td>0</td>\n",
       "      <td>0</td>\n",
       "      <td>0</td>\n",
       "      <td>0</td>\n",
       "      <td>0</td>\n",
       "      <td>0</td>\n",
       "      <td>0</td>\n",
       "      <td>0</td>\n",
       "      <td>0</td>\n",
       "      <td>0</td>\n",
       "      <td>0</td>\n",
       "      <td>0</td>\n",
       "      <td>0</td>\n",
       "      <td>0</td>\n",
       "      <td>0</td>\n",
       "      <td>H</td>\n",
       "      <td>0</td>\n",
       "      <td>0</td>\n",
       "      <td>0</td>\n",
       "      <td>0</td>\n",
       "      <td>0</td>\n",
       "      <td>A</td>\n",
       "      <td>0</td>\n",
       "      <td>0</td>\n",
       "      <td>0</td>\n",
       "      <td>0</td>\n",
       "      <td>0</td>\n",
       "      <td>1</td>\n",
       "    </tr>\n",
       "  </tbody>\n",
       "</table>\n",
       "</div>"
      ],
      "text/plain": [
       "          index     game_id            game_date   time  \\\n",
       "play_id                                                   \n",
       "36       270409  2015091000  2015-09-10 00:00:00  15:00   \n",
       "51       270410  2015091000  2015-09-10 00:00:00  15:00   \n",
       "72       270411  2015091000  2015-09-10 00:00:00  14:21   \n",
       "101      270412  2015091000  2015-09-10 00:00:00  14:04   \n",
       "122      270413  2015091000  2015-09-10 00:00:00  13:26   \n",
       "\n",
       "         quarter_seconds_remaining  half_seconds_remaining  \\\n",
       "play_id                                                      \n",
       "36                           900.0                  1800.0   \n",
       "51                           900.0                  1800.0   \n",
       "72                           861.0                  1761.0   \n",
       "101                          844.0                  1744.0   \n",
       "122                          806.0                  1706.0   \n",
       "\n",
       "         game_seconds_remaining game_half  quarter_end  qtr home_team  \\\n",
       "play_id                                                                 \n",
       "36                       3600.0     Half1            0    1        NE   \n",
       "51                       3600.0     Half1            0    1        NE   \n",
       "72                       3561.0     Half1            0    1        NE   \n",
       "101                      3544.0     Half1            0    1        NE   \n",
       "122                      3506.0     Half1            0    1        NE   \n",
       "\n",
       "        away_team posteam posteam_type defteam side_of_field  yardline_100  \\\n",
       "play_id                                                                      \n",
       "36            PIT     PIT         away      NE            NE          35.0   \n",
       "51            PIT     PIT         away      NE           PIT          80.0   \n",
       "72            PIT     PIT         away      NE           PIT          62.0   \n",
       "101           PIT     PIT         away      NE           PIT          53.0   \n",
       "122           PIT     PIT         away      NE            NE          49.0   \n",
       "\n",
       "         drive  sp  down  goal_to_go   yrdln  ydstogo  ydsnet  \\\n",
       "play_id                                                         \n",
       "36           1   0   NaN         0.0   NE 35        0       0   \n",
       "51           1   0   1.0         0.0  PIT 20       10      18   \n",
       "72           1   0   1.0         0.0  PIT 38       10      31   \n",
       "101          1   0   2.0         0.0  PIT 47        1      31   \n",
       "122          1   0   1.0         0.0   NE 49       10      45   \n",
       "\n",
       "                                                      desc play_type  \\\n",
       "play_id                                                                \n",
       "36       S.Gostkowski kicks 65 yards from NE 35 to end ...   kickoff   \n",
       "51       (15:00) De.Williams right tackle to PIT 38 for...       run   \n",
       "72       (14:21) B.Roethlisberger pass short right to A...      pass   \n",
       "101      (14:04) De.Williams right guard to NE 49 for 4...       run   \n",
       "122      (13:26) B.Roethlisberger pass short right to H...      pass   \n",
       "\n",
       "         yards_gained pass_length  air_yards  yards_after_catch  \\\n",
       "play_id                                                           \n",
       "36                0.0           0        0.0                0.0   \n",
       "51               18.0           0        0.0                0.0   \n",
       "72                9.0       short       -4.0               13.0   \n",
       "101               4.0           0        0.0                0.0   \n",
       "122              14.0       short        9.0                5.0   \n",
       "\n",
       "        field_goal_result  kick_distance extra_point_result  \\\n",
       "play_id                                                       \n",
       "36                    NaN            NaN                NaN   \n",
       "51                    NaN            NaN                NaN   \n",
       "72                    NaN            NaN                NaN   \n",
       "101                   NaN            NaN                NaN   \n",
       "122                   NaN            NaN                NaN   \n",
       "\n",
       "        two_point_conv_result td_team  total_home_score  total_away_score  \\\n",
       "play_id                                                                     \n",
       "36                        NaN     NaN                 0                 0   \n",
       "51                        NaN     NaN                 0                 0   \n",
       "72                        NaN     NaN                 0                 0   \n",
       "101                       NaN     NaN                 0                 0   \n",
       "122                       NaN     NaN                 0                 0   \n",
       "\n",
       "         posteam_score  defteam_score  sack  touchdown  pass_touchdown  \\\n",
       "play_id                                                                  \n",
       "36                 0.0            0.0   0.0        0.0             0.0   \n",
       "51                 0.0            0.0   0.0        0.0             0.0   \n",
       "72                 0.0            0.0   0.0        0.0             0.0   \n",
       "101                0.0            0.0   0.0        0.0             0.0   \n",
       "122                0.0            0.0   0.0        0.0             0.0   \n",
       "\n",
       "         rush_touchdown  return_touchdown  extra_point_attempt  \\\n",
       "play_id                                                          \n",
       "36                  0.0               0.0                  0.0   \n",
       "51                  0.0               0.0                  0.0   \n",
       "72                  0.0               0.0                  0.0   \n",
       "101                 0.0               0.0                  0.0   \n",
       "122                 0.0               0.0                  0.0   \n",
       "\n",
       "         two_point_attempt  field_goal_attempt  fumble  complete_pass  \\\n",
       "play_id                                                                 \n",
       "36                     0.0                 0.0     0.0            0.0   \n",
       "51                     0.0                 0.0     0.0            0.0   \n",
       "72                     0.0                 0.0     0.0            1.0   \n",
       "101                    0.0                 0.0     0.0            0.0   \n",
       "122                    0.0                 0.0     0.0            1.0   \n",
       "\n",
       "                  Start_Time    year                       diff  \\\n",
       "play_id                                                           \n",
       "36       2015-09-10 20:40:00  2015.0  0 days 00:00:00.000000000   \n",
       "51       2015-09-10 20:40:00  2015.0  0 days 00:00:00.000000000   \n",
       "72       2015-09-10 20:40:00  2015.0  0 days 00:01:57.000000000   \n",
       "101      2015-09-10 20:40:00  2015.0  0 days 00:02:48.000000000   \n",
       "122      2015-09-10 20:40:00  2015.0  0 days 00:04:42.000000000   \n",
       "\n",
       "              Estimated_Time Estimated Time (EST)       Estimated_Hour  \\\n",
       "play_id                                                                  \n",
       "36       2015-09-10 20:40:00  2015-09-10 20:40:00  2015-09-10 21:00:00   \n",
       "51       2015-09-10 20:40:00  2015-09-10 20:40:00  2015-09-10 21:00:00   \n",
       "72       2015-09-10 20:41:57  2015-09-10 20:41:57  2015-09-10 21:00:00   \n",
       "101      2015-09-10 20:42:48  2015-09-10 20:42:48  2015-09-10 21:00:00   \n",
       "122      2015-09-10 20:44:42  2015-09-10 20:44:42  2015-09-10 21:00:00   \n",
       "\n",
       "         Air Pressure (hPa)        City  Dewpoint (°C)           Field  \\\n",
       "play_id                                                                  \n",
       "36                   1010.6  Foxborough           16.1  FieldTurf CORE   \n",
       "51                   1010.6  Foxborough           16.1  FieldTurf CORE   \n",
       "72                   1010.6  Foxborough           16.1  FieldTurf CORE   \n",
       "101                  1010.6  Foxborough           16.1  FieldTurf CORE   \n",
       "122                  1010.6  Foxborough           16.1  FieldTurf CORE   \n",
       "\n",
       "         Humidity (%)  Precipitation (mm)  Roof Team Abbreviation  \\\n",
       "play_id                                                             \n",
       "36               87.0                 0.3  Open                NE   \n",
       "51               87.0                 0.3  Open                NE   \n",
       "72               87.0                 0.3  Open                NE   \n",
       "101              87.0                 0.3  Open                NE   \n",
       "122              87.0                 0.3  Open                NE   \n",
       "\n",
       "         Temperature (°C)           Time (EST)           Time (GMT)  \\\n",
       "play_id                                                               \n",
       "36                   18.3  2015-09-10 21:00:00  2015-09-11 01:00:00   \n",
       "51                   18.3  2015-09-10 21:00:00  2015-09-11 01:00:00   \n",
       "72                   18.3  2015-09-10 21:00:00  2015-09-11 01:00:00   \n",
       "101                  18.3  2015-09-10 21:00:00  2015-09-11 01:00:00   \n",
       "122                  18.3  2015-09-10 21:00:00  2015-09-11 01:00:00   \n",
       "\n",
       "         Unnamed: 0_y  Wind Direction (deg)  Wind Speed (km/h)  added_time  \\\n",
       "play_id                                                                      \n",
       "36                NaN                  30.0               20.5           0   \n",
       "51                NaN                  30.0               20.5           0   \n",
       "72                NaN                  30.0               20.5           0   \n",
       "101               NaN                  30.0               20.5           0   \n",
       "122               NaN                  30.0               20.5           0   \n",
       "\n",
       "                   game_name  end_of_drive  end_of_game  INT ARI ATL BAL BUF  \\\n",
       "play_id                                                                        \n",
       "36       PIT @ NE 2015-09-10             0            0    0   0   0   0   0   \n",
       "51       PIT @ NE 2015-09-10             0            0    0   0   0   0   0   \n",
       "72       PIT @ NE 2015-09-10             0            0    0   0   0   0   0   \n",
       "101      PIT @ NE 2015-09-10             0            0    0   0   0   0   0   \n",
       "122      PIT @ NE 2015-09-10             0            0    0   0   0   0   0   \n",
       "\n",
       "        CAR CHI CIN CLE DAL DEN DET GB HOU IND JAX KC LA LAC MIA MIN NE NO  \\\n",
       "play_id                                                                      \n",
       "36        0   0   0   0   0   0   0  0   0   0   0  0  0   0   0   0  H  0   \n",
       "51        0   0   0   0   0   0   0  0   0   0   0  0  0   0   0   0  H  0   \n",
       "72        0   0   0   0   0   0   0  0   0   0   0  0  0   0   0   0  H  0   \n",
       "101       0   0   0   0   0   0   0  0   0   0   0  0  0   0   0   0  H  0   \n",
       "122       0   0   0   0   0   0   0  0   0   0   0  0  0   0   0   0  H  0   \n",
       "\n",
       "        NYG NYJ OAK PHI PIT SEA SF TB TEN WAS  week  \n",
       "play_id                                              \n",
       "36        0   0   0   0   A   0  0  0   0   0     1  \n",
       "51        0   0   0   0   A   0  0  0   0   0     1  \n",
       "72        0   0   0   0   A   0  0  0   0   0     1  \n",
       "101       0   0   0   0   A   0  0  0   0   0     1  \n",
       "122       0   0   0   0   A   0  0  0   0   0     1  "
      ]
     },
     "execution_count": 38,
     "metadata": {},
     "output_type": "execute_result"
    }
   ],
   "source": [
    "nfl_small2_end_of_drive.head()"
   ]
  },
  {
   "cell_type": "code",
   "execution_count": 39,
   "metadata": {},
   "outputs": [
    {
     "data": {
      "text/plain": [
       "['ARI', 'ATL', 'BAL', 'BUF']"
      ]
     },
     "execution_count": 39,
     "metadata": {},
     "output_type": "execute_result"
    }
   ],
   "source": [
    "# Getting teams to add team matrix for easier filtering\n",
    "teams = list(nfl_small2_end_of_drive.groupby('posteam').sum().index)\n",
    "teams[:4]"
   ]
  },
  {
   "cell_type": "code",
   "execution_count": 40,
   "metadata": {},
   "outputs": [
    {
     "data": {
      "text/plain": [
       "array([2015., 2016., 2017., 2018.])"
      ]
     },
     "execution_count": 40,
     "metadata": {},
     "output_type": "execute_result"
    }
   ],
   "source": [
    "nfl_small2_end_of_drive.year.unique()"
   ]
  },
  {
   "cell_type": "code",
   "execution_count": 41,
   "metadata": {},
   "outputs": [],
   "source": [
    "# Creating Home and Away Win Columns\n",
    "nfl_small2_end_of_drive['home_team_win'] = np.where(nfl_small2_end_of_drive['total_home_score']\\\n",
    "                              > nfl_small2_end_of_drive['total_away_score'],1,0)\n",
    "\n",
    "nfl_small2_end_of_drive['away_team_win'] = np.where(nfl_small2_end_of_drive['total_home_score']\\\n",
    "                              < nfl_small2_end_of_drive['total_away_score'],1,0)"
   ]
  },
  {
   "cell_type": "code",
   "execution_count": 42,
   "metadata": {},
   "outputs": [
    {
     "data": {
      "text/plain": [
       "2"
      ]
     },
     "execution_count": 42,
     "metadata": {},
     "output_type": "execute_result"
    }
   ],
   "source": [
    "sum(nfl_small2_end_of_drive[(nfl_small2_end_of_drive['end_of_game'] == 1) &\\\n",
    "                                            (nfl_small2_end_of_drive['year'] == 2015) &\\\n",
    "                                            (nfl_small2_end_of_drive['CLE'] == 'H')\n",
    "                                           ]['home_team_win'])"
   ]
  },
  {
   "cell_type": "code",
   "execution_count": 43,
   "metadata": {
    "scrolled": true
   },
   "outputs": [],
   "source": [
    "# Team wins overall for sorting\n",
    "team_wins_overall = []\n",
    "years = [2015,2016,2017,2018]\n",
    "year_list = []\n",
    "team_list = []\n",
    "\n",
    "for team in teams:\n",
    "    for year in years:\n",
    "        home_wins = sum(nfl_small2_end_of_drive[(nfl_small2_end_of_drive['end_of_game'] == 1) &\\\n",
    "                                                (nfl_small2_end_of_drive['year'] == year) &\\\n",
    "                                                (nfl_small2_end_of_drive[team] == 'H')\n",
    "                                               ]['home_team_win'])\n",
    "\n",
    "        away_wins = sum(nfl_small2_end_of_drive[(nfl_small2_end_of_drive['end_of_game'] == 1) &\\\n",
    "                                                (nfl_small2_end_of_drive['year'] == year) &\\\n",
    "                                                (nfl_small2_end_of_drive[team] == 'A')\n",
    "                                               ]['away_team_win'])\n",
    "\n",
    "        # Due to lack of data, normalizing 2018 to 16 week season\n",
    "        if year == 2018:\n",
    "            all_wins = np.round((home_wins + away_wins) * 16/14,0)\n",
    "            team_wins_overall.append(round(all_wins,0))\n",
    "            year_list.append(year)\n",
    "            team_list.append(team)\n",
    "            \n",
    "        else:\n",
    "            all_wins = home_wins + away_wins\n",
    "            team_wins_overall.append(round(all_wins,0))\n",
    "            year_list.append(year)\n",
    "            team_list.append(team)\n",
    "\n",
    "team_by_wins = pd.DataFrame({'team':team_list,'wins':team_wins_overall,'year':year_list}).sort_values(by=['wins'])"
   ]
  },
  {
   "cell_type": "code",
   "execution_count": 44,
   "metadata": {},
   "outputs": [],
   "source": [
    "team_win_list = list(team_by_wins.groupby('team').agg({'wins':'sum'}).sort_values(by=['wins']).index)"
   ]
  },
  {
   "cell_type": "code",
   "execution_count": 45,
   "metadata": {},
   "outputs": [],
   "source": [
    "# Team wins overall for sorting\n",
    "team_wins_overall = []\n",
    "years = [2015,2016,2017,2018]\n",
    "year_list = []\n",
    "team_list = []\n",
    "\n",
    "for team in team_win_list:\n",
    "    for year in years:\n",
    "        home_wins = sum(nfl_small2_end_of_drive[(nfl_small2_end_of_drive['end_of_game'] == 1) &\\\n",
    "                                                (nfl_small2_end_of_drive['year'] == year) &\\\n",
    "                                                (nfl_small2_end_of_drive[team] == 'H')\n",
    "                                               ]['home_team_win'])\n",
    "\n",
    "        away_wins = sum(nfl_small2_end_of_drive[(nfl_small2_end_of_drive['end_of_game'] == 1) &\\\n",
    "                                                (nfl_small2_end_of_drive['year'] == year) &\\\n",
    "                                                (nfl_small2_end_of_drive[team] == 'A')\n",
    "                                               ]['away_team_win'])\n",
    "\n",
    "        # Due to lack of data, normalizing 2018 to 16 week season\n",
    "        if year == 2018:\n",
    "            all_wins = np.round((home_wins + away_wins) * 16/14,0)\n",
    "            team_wins_overall.append(round(all_wins,0))\n",
    "            year_list.append(year)\n",
    "            team_list.append(team)\n",
    "            \n",
    "        else:\n",
    "            all_wins = home_wins + away_wins\n",
    "            team_wins_overall.append(round(all_wins,0))\n",
    "            year_list.append(year)\n",
    "            team_list.append(team)\n",
    "\n",
    "team_by_wins = pd.DataFrame({'team':team_list,'wins':team_wins_overall,'year':year_list})"
   ]
  },
  {
   "cell_type": "code",
   "execution_count": 46,
   "metadata": {},
   "outputs": [
    {
     "data": {
      "text/html": [
       "<div>\n",
       "<style scoped>\n",
       "    .dataframe tbody tr th:only-of-type {\n",
       "        vertical-align: middle;\n",
       "    }\n",
       "\n",
       "    .dataframe tbody tr th {\n",
       "        vertical-align: top;\n",
       "    }\n",
       "\n",
       "    .dataframe thead th {\n",
       "        text-align: right;\n",
       "    }\n",
       "</style>\n",
       "<table border=\"1\" class=\"dataframe\">\n",
       "  <thead>\n",
       "    <tr style=\"text-align: right;\">\n",
       "      <th></th>\n",
       "      <th>team</th>\n",
       "      <th>wins</th>\n",
       "      <th>year</th>\n",
       "      <th>binned</th>\n",
       "    </tr>\n",
       "  </thead>\n",
       "  <tbody>\n",
       "    <tr>\n",
       "      <td>0</td>\n",
       "      <td>CLE</td>\n",
       "      <td>3.0</td>\n",
       "      <td>2015</td>\n",
       "      <td>5 or Less</td>\n",
       "    </tr>\n",
       "    <tr>\n",
       "      <td>1</td>\n",
       "      <td>CLE</td>\n",
       "      <td>1.0</td>\n",
       "      <td>2016</td>\n",
       "      <td>5 or Less</td>\n",
       "    </tr>\n",
       "    <tr>\n",
       "      <td>2</td>\n",
       "      <td>CLE</td>\n",
       "      <td>0.0</td>\n",
       "      <td>2017</td>\n",
       "      <td>5 or Less</td>\n",
       "    </tr>\n",
       "    <tr>\n",
       "      <td>3</td>\n",
       "      <td>CLE</td>\n",
       "      <td>7.0</td>\n",
       "      <td>2018</td>\n",
       "      <td>Between 6 and 9</td>\n",
       "    </tr>\n",
       "    <tr>\n",
       "      <td>4</td>\n",
       "      <td>SF</td>\n",
       "      <td>5.0</td>\n",
       "      <td>2015</td>\n",
       "      <td>5 or Less</td>\n",
       "    </tr>\n",
       "    <tr>\n",
       "      <td>...</td>\n",
       "      <td>...</td>\n",
       "      <td>...</td>\n",
       "      <td>...</td>\n",
       "      <td>...</td>\n",
       "    </tr>\n",
       "    <tr>\n",
       "      <td>123</td>\n",
       "      <td>KC</td>\n",
       "      <td>13.0</td>\n",
       "      <td>2018</td>\n",
       "      <td>10+ Wins</td>\n",
       "    </tr>\n",
       "    <tr>\n",
       "      <td>124</td>\n",
       "      <td>NE</td>\n",
       "      <td>12.0</td>\n",
       "      <td>2015</td>\n",
       "      <td>10+ Wins</td>\n",
       "    </tr>\n",
       "    <tr>\n",
       "      <td>125</td>\n",
       "      <td>NE</td>\n",
       "      <td>14.0</td>\n",
       "      <td>2016</td>\n",
       "      <td>10+ Wins</td>\n",
       "    </tr>\n",
       "    <tr>\n",
       "      <td>126</td>\n",
       "      <td>NE</td>\n",
       "      <td>13.0</td>\n",
       "      <td>2017</td>\n",
       "      <td>10+ Wins</td>\n",
       "    </tr>\n",
       "    <tr>\n",
       "      <td>127</td>\n",
       "      <td>NE</td>\n",
       "      <td>10.0</td>\n",
       "      <td>2018</td>\n",
       "      <td>Between 6 and 9</td>\n",
       "    </tr>\n",
       "  </tbody>\n",
       "</table>\n",
       "<p>128 rows × 4 columns</p>\n",
       "</div>"
      ],
      "text/plain": [
       "    team  wins  year           binned\n",
       "0    CLE   3.0  2015        5 or Less\n",
       "1    CLE   1.0  2016        5 or Less\n",
       "2    CLE   0.0  2017        5 or Less\n",
       "3    CLE   7.0  2018  Between 6 and 9\n",
       "4     SF   5.0  2015        5 or Less\n",
       "..   ...   ...   ...              ...\n",
       "123   KC  13.0  2018         10+ Wins\n",
       "124   NE  12.0  2015         10+ Wins\n",
       "125   NE  14.0  2016         10+ Wins\n",
       "126   NE  13.0  2017         10+ Wins\n",
       "127   NE  10.0  2018  Between 6 and 9\n",
       "\n",
       "[128 rows x 4 columns]"
      ]
     },
     "execution_count": 46,
     "metadata": {},
     "output_type": "execute_result"
    }
   ],
   "source": [
    "# Could change this to mathematical bins\n",
    "# bins = [0, 7, 10, 17]\n",
    "labels = ['5 or Less', 'Between 6 and 9','10+ Wins']\n",
    "team_by_wins['binned'] = pd.cut(team_by_wins['wins'], bins=3, labels=labels)\n",
    "\n",
    "team_by_wins"
   ]
  },
  {
   "cell_type": "code",
   "execution_count": 47,
   "metadata": {},
   "outputs": [
    {
     "data": {
      "text/plain": [
       "count    128.000000\n",
       "mean       7.960938\n",
       "std        3.038862\n",
       "min        0.000000\n",
       "25%        6.000000\n",
       "50%        8.000000\n",
       "75%       10.000000\n",
       "max       15.000000\n",
       "Name: wins, dtype: float64"
      ]
     },
     "execution_count": 47,
     "metadata": {},
     "output_type": "execute_result"
    }
   ],
   "source": [
    "team_by_wins.wins.describe() #.plot(kind='hist',bins=3)"
   ]
  },
  {
   "cell_type": "code",
   "execution_count": 48,
   "metadata": {},
   "outputs": [
    {
     "data": {
      "application/vnd.plotly.v1+json": {
       "config": {
        "plotlyServerURL": "https://plot.ly"
       },
       "data": [
        {
         "name": "Total",
         "type": "bar",
         "x": [
          "CLE",
          "CLE",
          "CLE",
          "CLE",
          "SF",
          "SF",
          "SF",
          "SF",
          "JAX",
          "JAX",
          "JAX",
          "JAX",
          "TB",
          "TB",
          "TB",
          "TB",
          "CHI",
          "CHI",
          "CHI",
          "CHI",
          "NYJ",
          "NYJ",
          "NYJ",
          "NYJ",
          "NYG",
          "NYG",
          "NYG",
          "NYG",
          "OAK",
          "OAK",
          "OAK",
          "OAK",
          "IND",
          "IND",
          "IND",
          "IND",
          "MIA",
          "MIA",
          "MIA",
          "MIA",
          "BUF",
          "BUF",
          "BUF",
          "BUF",
          "ARI",
          "ARI",
          "ARI",
          "ARI",
          "TEN",
          "TEN",
          "TEN",
          "TEN",
          "CIN",
          "CIN",
          "CIN",
          "CIN",
          "BAL",
          "BAL",
          "BAL",
          "BAL",
          "DET",
          "DET",
          "DET",
          "DET",
          "LAC",
          "LAC",
          "LAC",
          "LAC",
          "WAS",
          "WAS",
          "WAS",
          "WAS",
          "DEN",
          "DEN",
          "DEN",
          "DEN",
          "HOU",
          "HOU",
          "HOU",
          "HOU",
          "GB",
          "GB",
          "GB",
          "GB",
          "DAL",
          "DAL",
          "DAL",
          "DAL",
          "PHI",
          "PHI",
          "PHI",
          "PHI",
          "LA",
          "LA",
          "LA",
          "LA",
          "ATL",
          "ATL",
          "ATL",
          "ATL",
          "SEA",
          "SEA",
          "SEA",
          "SEA",
          "NO",
          "NO",
          "NO",
          "NO",
          "CAR",
          "CAR",
          "CAR",
          "CAR",
          "MIN",
          "MIN",
          "MIN",
          "MIN",
          "PIT",
          "PIT",
          "PIT",
          "PIT",
          "KC",
          "KC",
          "KC",
          "KC",
          "NE",
          "NE",
          "NE",
          "NE"
         ],
         "y": [
          3,
          1,
          0,
          7,
          5,
          2,
          6,
          5,
          5,
          3,
          10,
          5,
          6,
          8,
          5,
          6,
          6,
          3,
          5,
          11,
          10,
          5,
          5,
          5,
          6,
          10,
          3,
          6,
          7,
          12,
          6,
          3,
          8,
          8,
          4,
          9,
          5,
          10,
          6,
          8,
          8,
          7,
          9,
          6,
          13,
          7,
          8,
          3,
          3,
          10,
          9,
          9,
          12,
          6,
          6,
          7,
          5,
          8,
          9,
          9,
          7,
          9,
          9,
          6,
          4,
          5,
          9,
          13,
          9,
          8,
          7,
          8,
          12,
          8,
          5,
          7,
          9,
          9,
          4,
          11,
          10,
          10,
          7,
          6,
          4,
          13,
          9,
          9,
          7,
          7,
          13,
          8,
          7,
          4,
          11,
          13,
          8,
          12,
          10,
          6,
          10,
          10,
          9,
          9,
          7,
          7,
          11,
          14,
          15,
          6,
          11,
          7,
          11,
          8,
          13,
          9,
          10,
          11,
          13,
          9,
          11,
          11,
          10,
          13,
          12,
          14,
          13,
          10
         ]
        }
       ],
       "layout": {
        "template": {
         "data": {
          "bar": [
           {
            "error_x": {
             "color": "#2a3f5f"
            },
            "error_y": {
             "color": "#2a3f5f"
            },
            "marker": {
             "line": {
              "color": "#E5ECF6",
              "width": 0.5
             }
            },
            "type": "bar"
           }
          ],
          "barpolar": [
           {
            "marker": {
             "line": {
              "color": "#E5ECF6",
              "width": 0.5
             }
            },
            "type": "barpolar"
           }
          ],
          "carpet": [
           {
            "aaxis": {
             "endlinecolor": "#2a3f5f",
             "gridcolor": "white",
             "linecolor": "white",
             "minorgridcolor": "white",
             "startlinecolor": "#2a3f5f"
            },
            "baxis": {
             "endlinecolor": "#2a3f5f",
             "gridcolor": "white",
             "linecolor": "white",
             "minorgridcolor": "white",
             "startlinecolor": "#2a3f5f"
            },
            "type": "carpet"
           }
          ],
          "choropleth": [
           {
            "colorbar": {
             "outlinewidth": 0,
             "ticks": ""
            },
            "type": "choropleth"
           }
          ],
          "contour": [
           {
            "colorbar": {
             "outlinewidth": 0,
             "ticks": ""
            },
            "colorscale": [
             [
              0,
              "#0d0887"
             ],
             [
              0.1111111111111111,
              "#46039f"
             ],
             [
              0.2222222222222222,
              "#7201a8"
             ],
             [
              0.3333333333333333,
              "#9c179e"
             ],
             [
              0.4444444444444444,
              "#bd3786"
             ],
             [
              0.5555555555555556,
              "#d8576b"
             ],
             [
              0.6666666666666666,
              "#ed7953"
             ],
             [
              0.7777777777777778,
              "#fb9f3a"
             ],
             [
              0.8888888888888888,
              "#fdca26"
             ],
             [
              1,
              "#f0f921"
             ]
            ],
            "type": "contour"
           }
          ],
          "contourcarpet": [
           {
            "colorbar": {
             "outlinewidth": 0,
             "ticks": ""
            },
            "type": "contourcarpet"
           }
          ],
          "heatmap": [
           {
            "colorbar": {
             "outlinewidth": 0,
             "ticks": ""
            },
            "colorscale": [
             [
              0,
              "#0d0887"
             ],
             [
              0.1111111111111111,
              "#46039f"
             ],
             [
              0.2222222222222222,
              "#7201a8"
             ],
             [
              0.3333333333333333,
              "#9c179e"
             ],
             [
              0.4444444444444444,
              "#bd3786"
             ],
             [
              0.5555555555555556,
              "#d8576b"
             ],
             [
              0.6666666666666666,
              "#ed7953"
             ],
             [
              0.7777777777777778,
              "#fb9f3a"
             ],
             [
              0.8888888888888888,
              "#fdca26"
             ],
             [
              1,
              "#f0f921"
             ]
            ],
            "type": "heatmap"
           }
          ],
          "heatmapgl": [
           {
            "colorbar": {
             "outlinewidth": 0,
             "ticks": ""
            },
            "colorscale": [
             [
              0,
              "#0d0887"
             ],
             [
              0.1111111111111111,
              "#46039f"
             ],
             [
              0.2222222222222222,
              "#7201a8"
             ],
             [
              0.3333333333333333,
              "#9c179e"
             ],
             [
              0.4444444444444444,
              "#bd3786"
             ],
             [
              0.5555555555555556,
              "#d8576b"
             ],
             [
              0.6666666666666666,
              "#ed7953"
             ],
             [
              0.7777777777777778,
              "#fb9f3a"
             ],
             [
              0.8888888888888888,
              "#fdca26"
             ],
             [
              1,
              "#f0f921"
             ]
            ],
            "type": "heatmapgl"
           }
          ],
          "histogram": [
           {
            "marker": {
             "colorbar": {
              "outlinewidth": 0,
              "ticks": ""
             }
            },
            "type": "histogram"
           }
          ],
          "histogram2d": [
           {
            "colorbar": {
             "outlinewidth": 0,
             "ticks": ""
            },
            "colorscale": [
             [
              0,
              "#0d0887"
             ],
             [
              0.1111111111111111,
              "#46039f"
             ],
             [
              0.2222222222222222,
              "#7201a8"
             ],
             [
              0.3333333333333333,
              "#9c179e"
             ],
             [
              0.4444444444444444,
              "#bd3786"
             ],
             [
              0.5555555555555556,
              "#d8576b"
             ],
             [
              0.6666666666666666,
              "#ed7953"
             ],
             [
              0.7777777777777778,
              "#fb9f3a"
             ],
             [
              0.8888888888888888,
              "#fdca26"
             ],
             [
              1,
              "#f0f921"
             ]
            ],
            "type": "histogram2d"
           }
          ],
          "histogram2dcontour": [
           {
            "colorbar": {
             "outlinewidth": 0,
             "ticks": ""
            },
            "colorscale": [
             [
              0,
              "#0d0887"
             ],
             [
              0.1111111111111111,
              "#46039f"
             ],
             [
              0.2222222222222222,
              "#7201a8"
             ],
             [
              0.3333333333333333,
              "#9c179e"
             ],
             [
              0.4444444444444444,
              "#bd3786"
             ],
             [
              0.5555555555555556,
              "#d8576b"
             ],
             [
              0.6666666666666666,
              "#ed7953"
             ],
             [
              0.7777777777777778,
              "#fb9f3a"
             ],
             [
              0.8888888888888888,
              "#fdca26"
             ],
             [
              1,
              "#f0f921"
             ]
            ],
            "type": "histogram2dcontour"
           }
          ],
          "mesh3d": [
           {
            "colorbar": {
             "outlinewidth": 0,
             "ticks": ""
            },
            "type": "mesh3d"
           }
          ],
          "parcoords": [
           {
            "line": {
             "colorbar": {
              "outlinewidth": 0,
              "ticks": ""
             }
            },
            "type": "parcoords"
           }
          ],
          "pie": [
           {
            "automargin": true,
            "type": "pie"
           }
          ],
          "scatter": [
           {
            "marker": {
             "colorbar": {
              "outlinewidth": 0,
              "ticks": ""
             }
            },
            "type": "scatter"
           }
          ],
          "scatter3d": [
           {
            "line": {
             "colorbar": {
              "outlinewidth": 0,
              "ticks": ""
             }
            },
            "marker": {
             "colorbar": {
              "outlinewidth": 0,
              "ticks": ""
             }
            },
            "type": "scatter3d"
           }
          ],
          "scattercarpet": [
           {
            "marker": {
             "colorbar": {
              "outlinewidth": 0,
              "ticks": ""
             }
            },
            "type": "scattercarpet"
           }
          ],
          "scattergeo": [
           {
            "marker": {
             "colorbar": {
              "outlinewidth": 0,
              "ticks": ""
             }
            },
            "type": "scattergeo"
           }
          ],
          "scattergl": [
           {
            "marker": {
             "colorbar": {
              "outlinewidth": 0,
              "ticks": ""
             }
            },
            "type": "scattergl"
           }
          ],
          "scattermapbox": [
           {
            "marker": {
             "colorbar": {
              "outlinewidth": 0,
              "ticks": ""
             }
            },
            "type": "scattermapbox"
           }
          ],
          "scatterpolar": [
           {
            "marker": {
             "colorbar": {
              "outlinewidth": 0,
              "ticks": ""
             }
            },
            "type": "scatterpolar"
           }
          ],
          "scatterpolargl": [
           {
            "marker": {
             "colorbar": {
              "outlinewidth": 0,
              "ticks": ""
             }
            },
            "type": "scatterpolargl"
           }
          ],
          "scatterternary": [
           {
            "marker": {
             "colorbar": {
              "outlinewidth": 0,
              "ticks": ""
             }
            },
            "type": "scatterternary"
           }
          ],
          "surface": [
           {
            "colorbar": {
             "outlinewidth": 0,
             "ticks": ""
            },
            "colorscale": [
             [
              0,
              "#0d0887"
             ],
             [
              0.1111111111111111,
              "#46039f"
             ],
             [
              0.2222222222222222,
              "#7201a8"
             ],
             [
              0.3333333333333333,
              "#9c179e"
             ],
             [
              0.4444444444444444,
              "#bd3786"
             ],
             [
              0.5555555555555556,
              "#d8576b"
             ],
             [
              0.6666666666666666,
              "#ed7953"
             ],
             [
              0.7777777777777778,
              "#fb9f3a"
             ],
             [
              0.8888888888888888,
              "#fdca26"
             ],
             [
              1,
              "#f0f921"
             ]
            ],
            "type": "surface"
           }
          ],
          "table": [
           {
            "cells": {
             "fill": {
              "color": "#EBF0F8"
             },
             "line": {
              "color": "white"
             }
            },
            "header": {
             "fill": {
              "color": "#C8D4E3"
             },
             "line": {
              "color": "white"
             }
            },
            "type": "table"
           }
          ]
         },
         "layout": {
          "annotationdefaults": {
           "arrowcolor": "#2a3f5f",
           "arrowhead": 0,
           "arrowwidth": 1
          },
          "coloraxis": {
           "colorbar": {
            "outlinewidth": 0,
            "ticks": ""
           }
          },
          "colorscale": {
           "diverging": [
            [
             0,
             "#8e0152"
            ],
            [
             0.1,
             "#c51b7d"
            ],
            [
             0.2,
             "#de77ae"
            ],
            [
             0.3,
             "#f1b6da"
            ],
            [
             0.4,
             "#fde0ef"
            ],
            [
             0.5,
             "#f7f7f7"
            ],
            [
             0.6,
             "#e6f5d0"
            ],
            [
             0.7,
             "#b8e186"
            ],
            [
             0.8,
             "#7fbc41"
            ],
            [
             0.9,
             "#4d9221"
            ],
            [
             1,
             "#276419"
            ]
           ],
           "sequential": [
            [
             0,
             "#0d0887"
            ],
            [
             0.1111111111111111,
             "#46039f"
            ],
            [
             0.2222222222222222,
             "#7201a8"
            ],
            [
             0.3333333333333333,
             "#9c179e"
            ],
            [
             0.4444444444444444,
             "#bd3786"
            ],
            [
             0.5555555555555556,
             "#d8576b"
            ],
            [
             0.6666666666666666,
             "#ed7953"
            ],
            [
             0.7777777777777778,
             "#fb9f3a"
            ],
            [
             0.8888888888888888,
             "#fdca26"
            ],
            [
             1,
             "#f0f921"
            ]
           ],
           "sequentialminus": [
            [
             0,
             "#0d0887"
            ],
            [
             0.1111111111111111,
             "#46039f"
            ],
            [
             0.2222222222222222,
             "#7201a8"
            ],
            [
             0.3333333333333333,
             "#9c179e"
            ],
            [
             0.4444444444444444,
             "#bd3786"
            ],
            [
             0.5555555555555556,
             "#d8576b"
            ],
            [
             0.6666666666666666,
             "#ed7953"
            ],
            [
             0.7777777777777778,
             "#fb9f3a"
            ],
            [
             0.8888888888888888,
             "#fdca26"
            ],
            [
             1,
             "#f0f921"
            ]
           ]
          },
          "colorway": [
           "#636efa",
           "#EF553B",
           "#00cc96",
           "#ab63fa",
           "#FFA15A",
           "#19d3f3",
           "#FF6692",
           "#B6E880",
           "#FF97FF",
           "#FECB52"
          ],
          "font": {
           "color": "#2a3f5f"
          },
          "geo": {
           "bgcolor": "white",
           "lakecolor": "white",
           "landcolor": "#E5ECF6",
           "showlakes": true,
           "showland": true,
           "subunitcolor": "white"
          },
          "hoverlabel": {
           "align": "left"
          },
          "hovermode": "closest",
          "mapbox": {
           "style": "light"
          },
          "paper_bgcolor": "white",
          "plot_bgcolor": "#E5ECF6",
          "polar": {
           "angularaxis": {
            "gridcolor": "white",
            "linecolor": "white",
            "ticks": ""
           },
           "bgcolor": "#E5ECF6",
           "radialaxis": {
            "gridcolor": "white",
            "linecolor": "white",
            "ticks": ""
           }
          },
          "scene": {
           "xaxis": {
            "backgroundcolor": "#E5ECF6",
            "gridcolor": "white",
            "gridwidth": 2,
            "linecolor": "white",
            "showbackground": true,
            "ticks": "",
            "zerolinecolor": "white"
           },
           "yaxis": {
            "backgroundcolor": "#E5ECF6",
            "gridcolor": "white",
            "gridwidth": 2,
            "linecolor": "white",
            "showbackground": true,
            "ticks": "",
            "zerolinecolor": "white"
           },
           "zaxis": {
            "backgroundcolor": "#E5ECF6",
            "gridcolor": "white",
            "gridwidth": 2,
            "linecolor": "white",
            "showbackground": true,
            "ticks": "",
            "zerolinecolor": "white"
           }
          },
          "shapedefaults": {
           "line": {
            "color": "#2a3f5f"
           }
          },
          "ternary": {
           "aaxis": {
            "gridcolor": "white",
            "linecolor": "white",
            "ticks": ""
           },
           "baxis": {
            "gridcolor": "white",
            "linecolor": "white",
            "ticks": ""
           },
           "bgcolor": "#E5ECF6",
           "caxis": {
            "gridcolor": "white",
            "linecolor": "white",
            "ticks": ""
           }
          },
          "title": {
           "x": 0.05
          },
          "xaxis": {
           "automargin": true,
           "gridcolor": "white",
           "linecolor": "white",
           "ticks": "",
           "title": {
            "standoff": 15
           },
           "zerolinecolor": "white",
           "zerolinewidth": 2
          },
          "yaxis": {
           "automargin": true,
           "gridcolor": "white",
           "linecolor": "white",
           "ticks": "",
           "title": {
            "standoff": 15
           },
           "zerolinecolor": "white",
           "zerolinewidth": 2
          }
         }
        },
        "title": {
         "text": "<b>Total Wins by Team</b><br>(2015 thru 2018)",
         "x": 0.5,
         "xanchor": "center",
         "y": 0.95,
         "yanchor": "top"
        }
       }
      },
      "text/html": [
       "<div>\n",
       "        \n",
       "        \n",
       "            <div id=\"fc7b0e18-2fad-4c59-a372-48d0cda79ac2\" class=\"plotly-graph-div\" style=\"height:525px; width:100%;\"></div>\n",
       "            <script type=\"text/javascript\">\n",
       "                require([\"plotly\"], function(Plotly) {\n",
       "                    window.PLOTLYENV=window.PLOTLYENV || {};\n",
       "                    \n",
       "                if (document.getElementById(\"fc7b0e18-2fad-4c59-a372-48d0cda79ac2\")) {\n",
       "                    Plotly.newPlot(\n",
       "                        'fc7b0e18-2fad-4c59-a372-48d0cda79ac2',\n",
       "                        [{\"name\": \"Total\", \"type\": \"bar\", \"x\": [\"CLE\", \"CLE\", \"CLE\", \"CLE\", \"SF\", \"SF\", \"SF\", \"SF\", \"JAX\", \"JAX\", \"JAX\", \"JAX\", \"TB\", \"TB\", \"TB\", \"TB\", \"CHI\", \"CHI\", \"CHI\", \"CHI\", \"NYJ\", \"NYJ\", \"NYJ\", \"NYJ\", \"NYG\", \"NYG\", \"NYG\", \"NYG\", \"OAK\", \"OAK\", \"OAK\", \"OAK\", \"IND\", \"IND\", \"IND\", \"IND\", \"MIA\", \"MIA\", \"MIA\", \"MIA\", \"BUF\", \"BUF\", \"BUF\", \"BUF\", \"ARI\", \"ARI\", \"ARI\", \"ARI\", \"TEN\", \"TEN\", \"TEN\", \"TEN\", \"CIN\", \"CIN\", \"CIN\", \"CIN\", \"BAL\", \"BAL\", \"BAL\", \"BAL\", \"DET\", \"DET\", \"DET\", \"DET\", \"LAC\", \"LAC\", \"LAC\", \"LAC\", \"WAS\", \"WAS\", \"WAS\", \"WAS\", \"DEN\", \"DEN\", \"DEN\", \"DEN\", \"HOU\", \"HOU\", \"HOU\", \"HOU\", \"GB\", \"GB\", \"GB\", \"GB\", \"DAL\", \"DAL\", \"DAL\", \"DAL\", \"PHI\", \"PHI\", \"PHI\", \"PHI\", \"LA\", \"LA\", \"LA\", \"LA\", \"ATL\", \"ATL\", \"ATL\", \"ATL\", \"SEA\", \"SEA\", \"SEA\", \"SEA\", \"NO\", \"NO\", \"NO\", \"NO\", \"CAR\", \"CAR\", \"CAR\", \"CAR\", \"MIN\", \"MIN\", \"MIN\", \"MIN\", \"PIT\", \"PIT\", \"PIT\", \"PIT\", \"KC\", \"KC\", \"KC\", \"KC\", \"NE\", \"NE\", \"NE\", \"NE\"], \"y\": [3.0, 1.0, 0.0, 7.0, 5.0, 2.0, 6.0, 5.0, 5.0, 3.0, 10.0, 5.0, 6.0, 8.0, 5.0, 6.0, 6.0, 3.0, 5.0, 11.0, 10.0, 5.0, 5.0, 5.0, 6.0, 10.0, 3.0, 6.0, 7.0, 12.0, 6.0, 3.0, 8.0, 8.0, 4.0, 9.0, 5.0, 10.0, 6.0, 8.0, 8.0, 7.0, 9.0, 6.0, 13.0, 7.0, 8.0, 3.0, 3.0, 10.0, 9.0, 9.0, 12.0, 6.0, 6.0, 7.0, 5.0, 8.0, 9.0, 9.0, 7.0, 9.0, 9.0, 6.0, 4.0, 5.0, 9.0, 13.0, 9.0, 8.0, 7.0, 8.0, 12.0, 8.0, 5.0, 7.0, 9.0, 9.0, 4.0, 11.0, 10.0, 10.0, 7.0, 6.0, 4.0, 13.0, 9.0, 9.0, 7.0, 7.0, 13.0, 8.0, 7.0, 4.0, 11.0, 13.0, 8.0, 12.0, 10.0, 6.0, 10.0, 10.0, 9.0, 9.0, 7.0, 7.0, 11.0, 14.0, 15.0, 6.0, 11.0, 7.0, 11.0, 8.0, 13.0, 9.0, 10.0, 11.0, 13.0, 9.0, 11.0, 11.0, 10.0, 13.0, 12.0, 14.0, 13.0, 10.0]}],\n",
       "                        {\"template\": {\"data\": {\"bar\": [{\"error_x\": {\"color\": \"#2a3f5f\"}, \"error_y\": {\"color\": \"#2a3f5f\"}, \"marker\": {\"line\": {\"color\": \"#E5ECF6\", \"width\": 0.5}}, \"type\": \"bar\"}], \"barpolar\": [{\"marker\": {\"line\": {\"color\": \"#E5ECF6\", \"width\": 0.5}}, \"type\": \"barpolar\"}], \"carpet\": [{\"aaxis\": {\"endlinecolor\": \"#2a3f5f\", \"gridcolor\": \"white\", \"linecolor\": \"white\", \"minorgridcolor\": \"white\", \"startlinecolor\": \"#2a3f5f\"}, \"baxis\": {\"endlinecolor\": \"#2a3f5f\", \"gridcolor\": \"white\", \"linecolor\": \"white\", \"minorgridcolor\": \"white\", \"startlinecolor\": \"#2a3f5f\"}, \"type\": \"carpet\"}], \"choropleth\": [{\"colorbar\": {\"outlinewidth\": 0, \"ticks\": \"\"}, \"type\": \"choropleth\"}], \"contour\": [{\"colorbar\": {\"outlinewidth\": 0, \"ticks\": \"\"}, \"colorscale\": [[0.0, \"#0d0887\"], [0.1111111111111111, \"#46039f\"], [0.2222222222222222, \"#7201a8\"], [0.3333333333333333, \"#9c179e\"], [0.4444444444444444, \"#bd3786\"], [0.5555555555555556, \"#d8576b\"], [0.6666666666666666, \"#ed7953\"], [0.7777777777777778, \"#fb9f3a\"], [0.8888888888888888, \"#fdca26\"], [1.0, \"#f0f921\"]], \"type\": \"contour\"}], \"contourcarpet\": [{\"colorbar\": {\"outlinewidth\": 0, \"ticks\": \"\"}, \"type\": \"contourcarpet\"}], \"heatmap\": [{\"colorbar\": {\"outlinewidth\": 0, \"ticks\": \"\"}, \"colorscale\": [[0.0, \"#0d0887\"], [0.1111111111111111, \"#46039f\"], [0.2222222222222222, \"#7201a8\"], [0.3333333333333333, \"#9c179e\"], [0.4444444444444444, \"#bd3786\"], [0.5555555555555556, \"#d8576b\"], [0.6666666666666666, \"#ed7953\"], [0.7777777777777778, \"#fb9f3a\"], [0.8888888888888888, \"#fdca26\"], [1.0, \"#f0f921\"]], \"type\": \"heatmap\"}], \"heatmapgl\": [{\"colorbar\": {\"outlinewidth\": 0, \"ticks\": \"\"}, \"colorscale\": [[0.0, \"#0d0887\"], [0.1111111111111111, \"#46039f\"], [0.2222222222222222, \"#7201a8\"], [0.3333333333333333, \"#9c179e\"], [0.4444444444444444, \"#bd3786\"], [0.5555555555555556, \"#d8576b\"], [0.6666666666666666, \"#ed7953\"], [0.7777777777777778, \"#fb9f3a\"], [0.8888888888888888, \"#fdca26\"], [1.0, \"#f0f921\"]], \"type\": \"heatmapgl\"}], \"histogram\": [{\"marker\": {\"colorbar\": {\"outlinewidth\": 0, \"ticks\": \"\"}}, \"type\": \"histogram\"}], \"histogram2d\": [{\"colorbar\": {\"outlinewidth\": 0, \"ticks\": \"\"}, \"colorscale\": [[0.0, \"#0d0887\"], [0.1111111111111111, \"#46039f\"], [0.2222222222222222, \"#7201a8\"], [0.3333333333333333, \"#9c179e\"], [0.4444444444444444, \"#bd3786\"], [0.5555555555555556, \"#d8576b\"], [0.6666666666666666, \"#ed7953\"], [0.7777777777777778, \"#fb9f3a\"], [0.8888888888888888, \"#fdca26\"], [1.0, \"#f0f921\"]], \"type\": \"histogram2d\"}], \"histogram2dcontour\": [{\"colorbar\": {\"outlinewidth\": 0, \"ticks\": \"\"}, \"colorscale\": [[0.0, \"#0d0887\"], [0.1111111111111111, \"#46039f\"], [0.2222222222222222, \"#7201a8\"], [0.3333333333333333, \"#9c179e\"], [0.4444444444444444, \"#bd3786\"], [0.5555555555555556, \"#d8576b\"], [0.6666666666666666, \"#ed7953\"], [0.7777777777777778, \"#fb9f3a\"], [0.8888888888888888, \"#fdca26\"], [1.0, \"#f0f921\"]], \"type\": \"histogram2dcontour\"}], \"mesh3d\": [{\"colorbar\": {\"outlinewidth\": 0, \"ticks\": \"\"}, \"type\": \"mesh3d\"}], \"parcoords\": [{\"line\": {\"colorbar\": {\"outlinewidth\": 0, \"ticks\": \"\"}}, \"type\": \"parcoords\"}], \"pie\": [{\"automargin\": true, \"type\": \"pie\"}], \"scatter\": [{\"marker\": {\"colorbar\": {\"outlinewidth\": 0, \"ticks\": \"\"}}, \"type\": \"scatter\"}], \"scatter3d\": [{\"line\": {\"colorbar\": {\"outlinewidth\": 0, \"ticks\": \"\"}}, \"marker\": {\"colorbar\": {\"outlinewidth\": 0, \"ticks\": \"\"}}, \"type\": \"scatter3d\"}], \"scattercarpet\": [{\"marker\": {\"colorbar\": {\"outlinewidth\": 0, \"ticks\": \"\"}}, \"type\": \"scattercarpet\"}], \"scattergeo\": [{\"marker\": {\"colorbar\": {\"outlinewidth\": 0, \"ticks\": \"\"}}, \"type\": \"scattergeo\"}], \"scattergl\": [{\"marker\": {\"colorbar\": {\"outlinewidth\": 0, \"ticks\": \"\"}}, \"type\": \"scattergl\"}], \"scattermapbox\": [{\"marker\": {\"colorbar\": {\"outlinewidth\": 0, \"ticks\": \"\"}}, \"type\": \"scattermapbox\"}], \"scatterpolar\": [{\"marker\": {\"colorbar\": {\"outlinewidth\": 0, \"ticks\": \"\"}}, \"type\": \"scatterpolar\"}], \"scatterpolargl\": [{\"marker\": {\"colorbar\": {\"outlinewidth\": 0, \"ticks\": \"\"}}, \"type\": \"scatterpolargl\"}], \"scatterternary\": [{\"marker\": {\"colorbar\": {\"outlinewidth\": 0, \"ticks\": \"\"}}, \"type\": \"scatterternary\"}], \"surface\": [{\"colorbar\": {\"outlinewidth\": 0, \"ticks\": \"\"}, \"colorscale\": [[0.0, \"#0d0887\"], [0.1111111111111111, \"#46039f\"], [0.2222222222222222, \"#7201a8\"], [0.3333333333333333, \"#9c179e\"], [0.4444444444444444, \"#bd3786\"], [0.5555555555555556, \"#d8576b\"], [0.6666666666666666, \"#ed7953\"], [0.7777777777777778, \"#fb9f3a\"], [0.8888888888888888, \"#fdca26\"], [1.0, \"#f0f921\"]], \"type\": \"surface\"}], \"table\": [{\"cells\": {\"fill\": {\"color\": \"#EBF0F8\"}, \"line\": {\"color\": \"white\"}}, \"header\": {\"fill\": {\"color\": \"#C8D4E3\"}, \"line\": {\"color\": \"white\"}}, \"type\": \"table\"}]}, \"layout\": {\"annotationdefaults\": {\"arrowcolor\": \"#2a3f5f\", \"arrowhead\": 0, \"arrowwidth\": 1}, \"coloraxis\": {\"colorbar\": {\"outlinewidth\": 0, \"ticks\": \"\"}}, \"colorscale\": {\"diverging\": [[0, \"#8e0152\"], [0.1, \"#c51b7d\"], [0.2, \"#de77ae\"], [0.3, \"#f1b6da\"], [0.4, \"#fde0ef\"], [0.5, \"#f7f7f7\"], [0.6, \"#e6f5d0\"], [0.7, \"#b8e186\"], [0.8, \"#7fbc41\"], [0.9, \"#4d9221\"], [1, \"#276419\"]], \"sequential\": [[0.0, \"#0d0887\"], [0.1111111111111111, \"#46039f\"], [0.2222222222222222, \"#7201a8\"], [0.3333333333333333, \"#9c179e\"], [0.4444444444444444, \"#bd3786\"], [0.5555555555555556, \"#d8576b\"], [0.6666666666666666, \"#ed7953\"], [0.7777777777777778, \"#fb9f3a\"], [0.8888888888888888, \"#fdca26\"], [1.0, \"#f0f921\"]], \"sequentialminus\": [[0.0, \"#0d0887\"], [0.1111111111111111, \"#46039f\"], [0.2222222222222222, \"#7201a8\"], [0.3333333333333333, \"#9c179e\"], [0.4444444444444444, \"#bd3786\"], [0.5555555555555556, \"#d8576b\"], [0.6666666666666666, \"#ed7953\"], [0.7777777777777778, \"#fb9f3a\"], [0.8888888888888888, \"#fdca26\"], [1.0, \"#f0f921\"]]}, \"colorway\": [\"#636efa\", \"#EF553B\", \"#00cc96\", \"#ab63fa\", \"#FFA15A\", \"#19d3f3\", \"#FF6692\", \"#B6E880\", \"#FF97FF\", \"#FECB52\"], \"font\": {\"color\": \"#2a3f5f\"}, \"geo\": {\"bgcolor\": \"white\", \"lakecolor\": \"white\", \"landcolor\": \"#E5ECF6\", \"showlakes\": true, \"showland\": true, \"subunitcolor\": \"white\"}, \"hoverlabel\": {\"align\": \"left\"}, \"hovermode\": \"closest\", \"mapbox\": {\"style\": \"light\"}, \"paper_bgcolor\": \"white\", \"plot_bgcolor\": \"#E5ECF6\", \"polar\": {\"angularaxis\": {\"gridcolor\": \"white\", \"linecolor\": \"white\", \"ticks\": \"\"}, \"bgcolor\": \"#E5ECF6\", \"radialaxis\": {\"gridcolor\": \"white\", \"linecolor\": \"white\", \"ticks\": \"\"}}, \"scene\": {\"xaxis\": {\"backgroundcolor\": \"#E5ECF6\", \"gridcolor\": \"white\", \"gridwidth\": 2, \"linecolor\": \"white\", \"showbackground\": true, \"ticks\": \"\", \"zerolinecolor\": \"white\"}, \"yaxis\": {\"backgroundcolor\": \"#E5ECF6\", \"gridcolor\": \"white\", \"gridwidth\": 2, \"linecolor\": \"white\", \"showbackground\": true, \"ticks\": \"\", \"zerolinecolor\": \"white\"}, \"zaxis\": {\"backgroundcolor\": \"#E5ECF6\", \"gridcolor\": \"white\", \"gridwidth\": 2, \"linecolor\": \"white\", \"showbackground\": true, \"ticks\": \"\", \"zerolinecolor\": \"white\"}}, \"shapedefaults\": {\"line\": {\"color\": \"#2a3f5f\"}}, \"ternary\": {\"aaxis\": {\"gridcolor\": \"white\", \"linecolor\": \"white\", \"ticks\": \"\"}, \"baxis\": {\"gridcolor\": \"white\", \"linecolor\": \"white\", \"ticks\": \"\"}, \"bgcolor\": \"#E5ECF6\", \"caxis\": {\"gridcolor\": \"white\", \"linecolor\": \"white\", \"ticks\": \"\"}}, \"title\": {\"x\": 0.05}, \"xaxis\": {\"automargin\": true, \"gridcolor\": \"white\", \"linecolor\": \"white\", \"ticks\": \"\", \"title\": {\"standoff\": 15}, \"zerolinecolor\": \"white\", \"zerolinewidth\": 2}, \"yaxis\": {\"automargin\": true, \"gridcolor\": \"white\", \"linecolor\": \"white\", \"ticks\": \"\", \"title\": {\"standoff\": 15}, \"zerolinecolor\": \"white\", \"zerolinewidth\": 2}}}, \"title\": {\"text\": \"<b>Total Wins by Team</b><br>(2015 thru 2018)\", \"x\": 0.5, \"xanchor\": \"center\", \"y\": 0.95, \"yanchor\": \"top\"}},\n",
       "                        {\"responsive\": true}\n",
       "                    ).then(function(){\n",
       "                            \n",
       "var gd = document.getElementById('fc7b0e18-2fad-4c59-a372-48d0cda79ac2');\n",
       "var x = new MutationObserver(function (mutations, observer) {{\n",
       "        var display = window.getComputedStyle(gd).display;\n",
       "        if (!display || display === 'none') {{\n",
       "            console.log([gd, 'removed!']);\n",
       "            Plotly.purge(gd);\n",
       "            observer.disconnect();\n",
       "        }}\n",
       "}});\n",
       "\n",
       "// Listen for the removal of the full notebook cells\n",
       "var notebookContainer = gd.closest('#notebook-container');\n",
       "if (notebookContainer) {{\n",
       "    x.observe(notebookContainer, {childList: true});\n",
       "}}\n",
       "\n",
       "// Listen for the clearing of the current output cell\n",
       "var outputEl = gd.closest('.output');\n",
       "if (outputEl) {{\n",
       "    x.observe(outputEl, {childList: true});\n",
       "}}\n",
       "\n",
       "                        })\n",
       "                };\n",
       "                });\n",
       "            </script>\n",
       "        </div>"
      ]
     },
     "metadata": {},
     "output_type": "display_data"
    }
   ],
   "source": [
    "fig = go.Figure(data=[go.Bar(name='Total', x = team_by_wins['team'], y = team_by_wins['wins'])])\n",
    "\n",
    "layout = go.Layout(\n",
    "    title = 'Total Wins By Team (2015 - 2018)',\n",
    "    xaxis= dict(title= 'Team',ticklen= 1,zeroline= False),\n",
    "    yaxis= dict(title= 'Wins',ticklen= 5,zeroline= False)\n",
    ")\n",
    "\n",
    "fig.update_layout(\n",
    "    title={\n",
    "        'text':'<b>'+'Total Wins by Team'+'</b>'+'<br>(2015 thru 2018)',\n",
    "        'y':0.95,\n",
    "        'x':0.5,\n",
    "        'xanchor': 'center',\n",
    "        'yanchor': 'top'})\n",
    "fig"
   ]
  },
  {
   "cell_type": "markdown",
   "metadata": {},
   "source": [
    "For the four years from 2015 thru 2018, we can naturally break teams into groups of successfulness, start with our top 7. Then we have quite a few middle of the pack teams, and an obvious group of bottom dwellers. One of our team member's favorite being the Cleveland Browns..."
   ]
  },
  {
   "cell_type": "code",
   "execution_count": 49,
   "metadata": {},
   "outputs": [],
   "source": [
    "# Team wins by year\n",
    "team_wins_2015 = []\n",
    "teams = list(team_by_wins['team'].unique())\n",
    "for team in teams:\n",
    "    home_wins = sum(nfl_small2_end_of_drive[(nfl_small2_end_of_drive['end_of_game'] == 1) &\\\n",
    "                                            (nfl_small2_end_of_drive['year'] == 2015) &\\\n",
    "                                            (nfl_small2_end_of_drive[team] == 'H')\n",
    "                                           ]['home_team_win'])\n",
    "\n",
    "    away_wins = sum(nfl_small2_end_of_drive[(nfl_small2_end_of_drive['end_of_game'] == 1) &\\\n",
    "                                                 (nfl_small2_end_of_drive['year'] == 2015) &\\\n",
    "                                                 (nfl_small2_end_of_drive[team] == 'A')\n",
    "                                           ]['away_team_win'])\n",
    "    \n",
    "    all_wins = home_wins + away_wins\n",
    "    \n",
    "    team_wins_2015.append(round(all_wins,0))\n",
    "\n",
    "\n",
    "team_wins_2016 = []\n",
    "for team in teams:\n",
    "    home_wins = sum(nfl_small2_end_of_drive[(nfl_small2_end_of_drive['end_of_game'] == 1) &\\\n",
    "                                            (nfl_small2_end_of_drive['year'] == 2016) &\\\n",
    "                                            (nfl_small2_end_of_drive[team] == 'H')\n",
    "                                           ]['home_team_win'])\n",
    "\n",
    "    away_wins = sum(nfl_small2_end_of_drive[(nfl_small2_end_of_drive['end_of_game'] == 1) &\\\n",
    "                                                 (nfl_small2_end_of_drive['year'] == 2016) &\\\n",
    "                                                 (nfl_small2_end_of_drive[team] == 'A')\n",
    "                                           ]['away_team_win'])\n",
    "    \n",
    "    all_wins = home_wins + away_wins\n",
    "    \n",
    "    team_wins_2016.append(round(all_wins,0))\n",
    "\n",
    "team_wins_2017 = []\n",
    "for team in teams:\n",
    "    home_wins = sum(nfl_small2_end_of_drive[(nfl_small2_end_of_drive['end_of_game'] == 1) &\\\n",
    "                                            (nfl_small2_end_of_drive['year'] == 2017) &\\\n",
    "                                            (nfl_small2_end_of_drive[team] == 'H')\n",
    "                                           ]['home_team_win'])\n",
    "\n",
    "    away_wins = sum(nfl_small2_end_of_drive[(nfl_small2_end_of_drive['end_of_game'] == 1) &\\\n",
    "                                                 (nfl_small2_end_of_drive['year'] == 2017) &\\\n",
    "                                                 (nfl_small2_end_of_drive[team] == 'A')\n",
    "                                           ]['away_team_win'])\n",
    "    \n",
    "    all_wins = home_wins + away_wins\n",
    "    \n",
    "    team_wins_2017.append(round(all_wins,0))\n",
    "    \n",
    "team_wins_2018 = []\n",
    "for team in teams:\n",
    "    home_wins = sum(nfl_small2_end_of_drive[(nfl_small2_end_of_drive['end_of_game'] == 1) &\\\n",
    "                                            (nfl_small2_end_of_drive['year'] == 2018) &\\\n",
    "                                            (nfl_small2_end_of_drive[team] == 'H')\n",
    "                                           ]['home_team_win'])\n",
    "\n",
    "    away_wins = sum(nfl_small2_end_of_drive[(nfl_small2_end_of_drive['end_of_game'] == 1) &\\\n",
    "                                                 (nfl_small2_end_of_drive['year'] == 2018) &\\\n",
    "                                                 (nfl_small2_end_of_drive[team] == 'A')\n",
    "                                           ]['away_team_win'])\n",
    "    \n",
    "    all_wins = (home_wins + away_wins)*16/14\n",
    "    \n",
    "    team_wins_2018.append(round(all_wins,0))"
   ]
  },
  {
   "cell_type": "code",
   "execution_count": 50,
   "metadata": {
    "scrolled": false
   },
   "outputs": [
    {
     "data": {
      "application/vnd.plotly.v1+json": {
       "config": {
        "plotlyServerURL": "https://plot.ly"
       },
       "data": [
        {
         "name": "2015",
         "type": "bar",
         "x": [
          "CLE",
          "SF",
          "JAX",
          "TB",
          "CHI",
          "NYJ",
          "NYG",
          "OAK",
          "IND",
          "MIA",
          "BUF",
          "ARI",
          "TEN",
          "CIN",
          "BAL",
          "DET",
          "LAC",
          "WAS",
          "DEN",
          "HOU",
          "GB",
          "DAL",
          "PHI",
          "LA",
          "ATL",
          "SEA",
          "NO",
          "CAR",
          "MIN",
          "PIT",
          "KC",
          "NE"
         ],
         "y": [
          3,
          5,
          5,
          6,
          6,
          10,
          6,
          7,
          8,
          5,
          8,
          13,
          3,
          12,
          5,
          7,
          4,
          9,
          12,
          9,
          10,
          4,
          7,
          7,
          8,
          10,
          7,
          15,
          11,
          10,
          11,
          12
         ]
        },
        {
         "name": "2016",
         "type": "bar",
         "x": [
          "CLE",
          "SF",
          "JAX",
          "TB",
          "CHI",
          "NYJ",
          "NYG",
          "OAK",
          "IND",
          "MIA",
          "BUF",
          "ARI",
          "TEN",
          "CIN",
          "BAL",
          "DET",
          "LAC",
          "WAS",
          "DEN",
          "HOU",
          "GB",
          "DAL",
          "PHI",
          "LA",
          "ATL",
          "SEA",
          "NO",
          "CAR",
          "MIN",
          "PIT",
          "KC",
          "NE"
         ],
         "y": [
          1,
          2,
          3,
          8,
          3,
          5,
          10,
          12,
          8,
          10,
          7,
          7,
          10,
          6,
          8,
          9,
          5,
          8,
          8,
          9,
          10,
          13,
          7,
          4,
          12,
          10,
          7,
          6,
          8,
          11,
          11,
          14
         ]
        },
        {
         "name": "2017",
         "type": "bar",
         "x": [
          "CLE",
          "SF",
          "JAX",
          "TB",
          "CHI",
          "NYJ",
          "NYG",
          "OAK",
          "IND",
          "MIA",
          "BUF",
          "ARI",
          "TEN",
          "CIN",
          "BAL",
          "DET",
          "LAC",
          "WAS",
          "DEN",
          "HOU",
          "GB",
          "DAL",
          "PHI",
          "LA",
          "ATL",
          "SEA",
          "NO",
          "CAR",
          "MIN",
          "PIT",
          "KC",
          "NE"
         ],
         "y": [
          0,
          6,
          10,
          5,
          5,
          5,
          3,
          6,
          4,
          6,
          9,
          8,
          9,
          6,
          9,
          9,
          9,
          7,
          5,
          4,
          7,
          9,
          13,
          11,
          10,
          9,
          11,
          11,
          13,
          13,
          10,
          13
         ]
        },
        {
         "name": "2018",
         "type": "bar",
         "x": [
          "CLE",
          "SF",
          "JAX",
          "TB",
          "CHI",
          "NYJ",
          "NYG",
          "OAK",
          "IND",
          "MIA",
          "BUF",
          "ARI",
          "TEN",
          "CIN",
          "BAL",
          "DET",
          "LAC",
          "WAS",
          "DEN",
          "HOU",
          "GB",
          "DAL",
          "PHI",
          "LA",
          "ATL",
          "SEA",
          "NO",
          "CAR",
          "MIN",
          "PIT",
          "KC",
          "NE"
         ],
         "y": [
          7,
          5,
          5,
          6,
          11,
          5,
          6,
          3,
          9,
          8,
          6,
          3,
          9,
          7,
          9,
          6,
          13,
          8,
          7,
          11,
          6,
          9,
          8,
          13,
          6,
          9,
          14,
          7,
          9,
          9,
          13,
          10
         ]
        }
       ],
       "layout": {
        "barmode": "group",
        "height": 600,
        "template": {
         "data": {
          "bar": [
           {
            "error_x": {
             "color": "#2a3f5f"
            },
            "error_y": {
             "color": "#2a3f5f"
            },
            "marker": {
             "line": {
              "color": "#E5ECF6",
              "width": 0.5
             }
            },
            "type": "bar"
           }
          ],
          "barpolar": [
           {
            "marker": {
             "line": {
              "color": "#E5ECF6",
              "width": 0.5
             }
            },
            "type": "barpolar"
           }
          ],
          "carpet": [
           {
            "aaxis": {
             "endlinecolor": "#2a3f5f",
             "gridcolor": "white",
             "linecolor": "white",
             "minorgridcolor": "white",
             "startlinecolor": "#2a3f5f"
            },
            "baxis": {
             "endlinecolor": "#2a3f5f",
             "gridcolor": "white",
             "linecolor": "white",
             "minorgridcolor": "white",
             "startlinecolor": "#2a3f5f"
            },
            "type": "carpet"
           }
          ],
          "choropleth": [
           {
            "colorbar": {
             "outlinewidth": 0,
             "ticks": ""
            },
            "type": "choropleth"
           }
          ],
          "contour": [
           {
            "colorbar": {
             "outlinewidth": 0,
             "ticks": ""
            },
            "colorscale": [
             [
              0,
              "#0d0887"
             ],
             [
              0.1111111111111111,
              "#46039f"
             ],
             [
              0.2222222222222222,
              "#7201a8"
             ],
             [
              0.3333333333333333,
              "#9c179e"
             ],
             [
              0.4444444444444444,
              "#bd3786"
             ],
             [
              0.5555555555555556,
              "#d8576b"
             ],
             [
              0.6666666666666666,
              "#ed7953"
             ],
             [
              0.7777777777777778,
              "#fb9f3a"
             ],
             [
              0.8888888888888888,
              "#fdca26"
             ],
             [
              1,
              "#f0f921"
             ]
            ],
            "type": "contour"
           }
          ],
          "contourcarpet": [
           {
            "colorbar": {
             "outlinewidth": 0,
             "ticks": ""
            },
            "type": "contourcarpet"
           }
          ],
          "heatmap": [
           {
            "colorbar": {
             "outlinewidth": 0,
             "ticks": ""
            },
            "colorscale": [
             [
              0,
              "#0d0887"
             ],
             [
              0.1111111111111111,
              "#46039f"
             ],
             [
              0.2222222222222222,
              "#7201a8"
             ],
             [
              0.3333333333333333,
              "#9c179e"
             ],
             [
              0.4444444444444444,
              "#bd3786"
             ],
             [
              0.5555555555555556,
              "#d8576b"
             ],
             [
              0.6666666666666666,
              "#ed7953"
             ],
             [
              0.7777777777777778,
              "#fb9f3a"
             ],
             [
              0.8888888888888888,
              "#fdca26"
             ],
             [
              1,
              "#f0f921"
             ]
            ],
            "type": "heatmap"
           }
          ],
          "heatmapgl": [
           {
            "colorbar": {
             "outlinewidth": 0,
             "ticks": ""
            },
            "colorscale": [
             [
              0,
              "#0d0887"
             ],
             [
              0.1111111111111111,
              "#46039f"
             ],
             [
              0.2222222222222222,
              "#7201a8"
             ],
             [
              0.3333333333333333,
              "#9c179e"
             ],
             [
              0.4444444444444444,
              "#bd3786"
             ],
             [
              0.5555555555555556,
              "#d8576b"
             ],
             [
              0.6666666666666666,
              "#ed7953"
             ],
             [
              0.7777777777777778,
              "#fb9f3a"
             ],
             [
              0.8888888888888888,
              "#fdca26"
             ],
             [
              1,
              "#f0f921"
             ]
            ],
            "type": "heatmapgl"
           }
          ],
          "histogram": [
           {
            "marker": {
             "colorbar": {
              "outlinewidth": 0,
              "ticks": ""
             }
            },
            "type": "histogram"
           }
          ],
          "histogram2d": [
           {
            "colorbar": {
             "outlinewidth": 0,
             "ticks": ""
            },
            "colorscale": [
             [
              0,
              "#0d0887"
             ],
             [
              0.1111111111111111,
              "#46039f"
             ],
             [
              0.2222222222222222,
              "#7201a8"
             ],
             [
              0.3333333333333333,
              "#9c179e"
             ],
             [
              0.4444444444444444,
              "#bd3786"
             ],
             [
              0.5555555555555556,
              "#d8576b"
             ],
             [
              0.6666666666666666,
              "#ed7953"
             ],
             [
              0.7777777777777778,
              "#fb9f3a"
             ],
             [
              0.8888888888888888,
              "#fdca26"
             ],
             [
              1,
              "#f0f921"
             ]
            ],
            "type": "histogram2d"
           }
          ],
          "histogram2dcontour": [
           {
            "colorbar": {
             "outlinewidth": 0,
             "ticks": ""
            },
            "colorscale": [
             [
              0,
              "#0d0887"
             ],
             [
              0.1111111111111111,
              "#46039f"
             ],
             [
              0.2222222222222222,
              "#7201a8"
             ],
             [
              0.3333333333333333,
              "#9c179e"
             ],
             [
              0.4444444444444444,
              "#bd3786"
             ],
             [
              0.5555555555555556,
              "#d8576b"
             ],
             [
              0.6666666666666666,
              "#ed7953"
             ],
             [
              0.7777777777777778,
              "#fb9f3a"
             ],
             [
              0.8888888888888888,
              "#fdca26"
             ],
             [
              1,
              "#f0f921"
             ]
            ],
            "type": "histogram2dcontour"
           }
          ],
          "mesh3d": [
           {
            "colorbar": {
             "outlinewidth": 0,
             "ticks": ""
            },
            "type": "mesh3d"
           }
          ],
          "parcoords": [
           {
            "line": {
             "colorbar": {
              "outlinewidth": 0,
              "ticks": ""
             }
            },
            "type": "parcoords"
           }
          ],
          "pie": [
           {
            "automargin": true,
            "type": "pie"
           }
          ],
          "scatter": [
           {
            "marker": {
             "colorbar": {
              "outlinewidth": 0,
              "ticks": ""
             }
            },
            "type": "scatter"
           }
          ],
          "scatter3d": [
           {
            "line": {
             "colorbar": {
              "outlinewidth": 0,
              "ticks": ""
             }
            },
            "marker": {
             "colorbar": {
              "outlinewidth": 0,
              "ticks": ""
             }
            },
            "type": "scatter3d"
           }
          ],
          "scattercarpet": [
           {
            "marker": {
             "colorbar": {
              "outlinewidth": 0,
              "ticks": ""
             }
            },
            "type": "scattercarpet"
           }
          ],
          "scattergeo": [
           {
            "marker": {
             "colorbar": {
              "outlinewidth": 0,
              "ticks": ""
             }
            },
            "type": "scattergeo"
           }
          ],
          "scattergl": [
           {
            "marker": {
             "colorbar": {
              "outlinewidth": 0,
              "ticks": ""
             }
            },
            "type": "scattergl"
           }
          ],
          "scattermapbox": [
           {
            "marker": {
             "colorbar": {
              "outlinewidth": 0,
              "ticks": ""
             }
            },
            "type": "scattermapbox"
           }
          ],
          "scatterpolar": [
           {
            "marker": {
             "colorbar": {
              "outlinewidth": 0,
              "ticks": ""
             }
            },
            "type": "scatterpolar"
           }
          ],
          "scatterpolargl": [
           {
            "marker": {
             "colorbar": {
              "outlinewidth": 0,
              "ticks": ""
             }
            },
            "type": "scatterpolargl"
           }
          ],
          "scatterternary": [
           {
            "marker": {
             "colorbar": {
              "outlinewidth": 0,
              "ticks": ""
             }
            },
            "type": "scatterternary"
           }
          ],
          "surface": [
           {
            "colorbar": {
             "outlinewidth": 0,
             "ticks": ""
            },
            "colorscale": [
             [
              0,
              "#0d0887"
             ],
             [
              0.1111111111111111,
              "#46039f"
             ],
             [
              0.2222222222222222,
              "#7201a8"
             ],
             [
              0.3333333333333333,
              "#9c179e"
             ],
             [
              0.4444444444444444,
              "#bd3786"
             ],
             [
              0.5555555555555556,
              "#d8576b"
             ],
             [
              0.6666666666666666,
              "#ed7953"
             ],
             [
              0.7777777777777778,
              "#fb9f3a"
             ],
             [
              0.8888888888888888,
              "#fdca26"
             ],
             [
              1,
              "#f0f921"
             ]
            ],
            "type": "surface"
           }
          ],
          "table": [
           {
            "cells": {
             "fill": {
              "color": "#EBF0F8"
             },
             "line": {
              "color": "white"
             }
            },
            "header": {
             "fill": {
              "color": "#C8D4E3"
             },
             "line": {
              "color": "white"
             }
            },
            "type": "table"
           }
          ]
         },
         "layout": {
          "annotationdefaults": {
           "arrowcolor": "#2a3f5f",
           "arrowhead": 0,
           "arrowwidth": 1
          },
          "coloraxis": {
           "colorbar": {
            "outlinewidth": 0,
            "ticks": ""
           }
          },
          "colorscale": {
           "diverging": [
            [
             0,
             "#8e0152"
            ],
            [
             0.1,
             "#c51b7d"
            ],
            [
             0.2,
             "#de77ae"
            ],
            [
             0.3,
             "#f1b6da"
            ],
            [
             0.4,
             "#fde0ef"
            ],
            [
             0.5,
             "#f7f7f7"
            ],
            [
             0.6,
             "#e6f5d0"
            ],
            [
             0.7,
             "#b8e186"
            ],
            [
             0.8,
             "#7fbc41"
            ],
            [
             0.9,
             "#4d9221"
            ],
            [
             1,
             "#276419"
            ]
           ],
           "sequential": [
            [
             0,
             "#0d0887"
            ],
            [
             0.1111111111111111,
             "#46039f"
            ],
            [
             0.2222222222222222,
             "#7201a8"
            ],
            [
             0.3333333333333333,
             "#9c179e"
            ],
            [
             0.4444444444444444,
             "#bd3786"
            ],
            [
             0.5555555555555556,
             "#d8576b"
            ],
            [
             0.6666666666666666,
             "#ed7953"
            ],
            [
             0.7777777777777778,
             "#fb9f3a"
            ],
            [
             0.8888888888888888,
             "#fdca26"
            ],
            [
             1,
             "#f0f921"
            ]
           ],
           "sequentialminus": [
            [
             0,
             "#0d0887"
            ],
            [
             0.1111111111111111,
             "#46039f"
            ],
            [
             0.2222222222222222,
             "#7201a8"
            ],
            [
             0.3333333333333333,
             "#9c179e"
            ],
            [
             0.4444444444444444,
             "#bd3786"
            ],
            [
             0.5555555555555556,
             "#d8576b"
            ],
            [
             0.6666666666666666,
             "#ed7953"
            ],
            [
             0.7777777777777778,
             "#fb9f3a"
            ],
            [
             0.8888888888888888,
             "#fdca26"
            ],
            [
             1,
             "#f0f921"
            ]
           ]
          },
          "colorway": [
           "#636efa",
           "#EF553B",
           "#00cc96",
           "#ab63fa",
           "#FFA15A",
           "#19d3f3",
           "#FF6692",
           "#B6E880",
           "#FF97FF",
           "#FECB52"
          ],
          "font": {
           "color": "#2a3f5f"
          },
          "geo": {
           "bgcolor": "white",
           "lakecolor": "white",
           "landcolor": "#E5ECF6",
           "showlakes": true,
           "showland": true,
           "subunitcolor": "white"
          },
          "hoverlabel": {
           "align": "left"
          },
          "hovermode": "closest",
          "mapbox": {
           "style": "light"
          },
          "paper_bgcolor": "white",
          "plot_bgcolor": "#E5ECF6",
          "polar": {
           "angularaxis": {
            "gridcolor": "white",
            "linecolor": "white",
            "ticks": ""
           },
           "bgcolor": "#E5ECF6",
           "radialaxis": {
            "gridcolor": "white",
            "linecolor": "white",
            "ticks": ""
           }
          },
          "scene": {
           "xaxis": {
            "backgroundcolor": "#E5ECF6",
            "gridcolor": "white",
            "gridwidth": 2,
            "linecolor": "white",
            "showbackground": true,
            "ticks": "",
            "zerolinecolor": "white"
           },
           "yaxis": {
            "backgroundcolor": "#E5ECF6",
            "gridcolor": "white",
            "gridwidth": 2,
            "linecolor": "white",
            "showbackground": true,
            "ticks": "",
            "zerolinecolor": "white"
           },
           "zaxis": {
            "backgroundcolor": "#E5ECF6",
            "gridcolor": "white",
            "gridwidth": 2,
            "linecolor": "white",
            "showbackground": true,
            "ticks": "",
            "zerolinecolor": "white"
           }
          },
          "shapedefaults": {
           "line": {
            "color": "#2a3f5f"
           }
          },
          "ternary": {
           "aaxis": {
            "gridcolor": "white",
            "linecolor": "white",
            "ticks": ""
           },
           "baxis": {
            "gridcolor": "white",
            "linecolor": "white",
            "ticks": ""
           },
           "bgcolor": "#E5ECF6",
           "caxis": {
            "gridcolor": "white",
            "linecolor": "white",
            "ticks": ""
           }
          },
          "title": {
           "x": 0.05
          },
          "xaxis": {
           "automargin": true,
           "gridcolor": "white",
           "linecolor": "white",
           "ticks": "",
           "title": {
            "standoff": 15
           },
           "zerolinecolor": "white",
           "zerolinewidth": 2
          },
          "yaxis": {
           "automargin": true,
           "gridcolor": "white",
           "linecolor": "white",
           "ticks": "",
           "title": {
            "standoff": 15
           },
           "zerolinecolor": "white",
           "zerolinewidth": 2
          }
         }
        },
        "title": {
         "text": "<b>Total Wins by Year</b><br>(2015 thru 2018)",
         "x": 0.5,
         "xanchor": "center",
         "y": 0.95,
         "yanchor": "top"
        },
        "width": 1000
       }
      },
      "text/html": [
       "<div>\n",
       "        \n",
       "        \n",
       "            <div id=\"ea506b54-7f7b-4cb0-9041-6125bab63036\" class=\"plotly-graph-div\" style=\"height:600px; width:1000px;\"></div>\n",
       "            <script type=\"text/javascript\">\n",
       "                require([\"plotly\"], function(Plotly) {\n",
       "                    window.PLOTLYENV=window.PLOTLYENV || {};\n",
       "                    \n",
       "                if (document.getElementById(\"ea506b54-7f7b-4cb0-9041-6125bab63036\")) {\n",
       "                    Plotly.newPlot(\n",
       "                        'ea506b54-7f7b-4cb0-9041-6125bab63036',\n",
       "                        [{\"name\": \"2015\", \"type\": \"bar\", \"x\": [\"CLE\", \"SF\", \"JAX\", \"TB\", \"CHI\", \"NYJ\", \"NYG\", \"OAK\", \"IND\", \"MIA\", \"BUF\", \"ARI\", \"TEN\", \"CIN\", \"BAL\", \"DET\", \"LAC\", \"WAS\", \"DEN\", \"HOU\", \"GB\", \"DAL\", \"PHI\", \"LA\", \"ATL\", \"SEA\", \"NO\", \"CAR\", \"MIN\", \"PIT\", \"KC\", \"NE\"], \"y\": [3, 5, 5, 6, 6, 10, 6, 7, 8, 5, 8, 13, 3, 12, 5, 7, 4, 9, 12, 9, 10, 4, 7, 7, 8, 10, 7, 15, 11, 10, 11, 12]}, {\"name\": \"2016\", \"type\": \"bar\", \"x\": [\"CLE\", \"SF\", \"JAX\", \"TB\", \"CHI\", \"NYJ\", \"NYG\", \"OAK\", \"IND\", \"MIA\", \"BUF\", \"ARI\", \"TEN\", \"CIN\", \"BAL\", \"DET\", \"LAC\", \"WAS\", \"DEN\", \"HOU\", \"GB\", \"DAL\", \"PHI\", \"LA\", \"ATL\", \"SEA\", \"NO\", \"CAR\", \"MIN\", \"PIT\", \"KC\", \"NE\"], \"y\": [1, 2, 3, 8, 3, 5, 10, 12, 8, 10, 7, 7, 10, 6, 8, 9, 5, 8, 8, 9, 10, 13, 7, 4, 12, 10, 7, 6, 8, 11, 11, 14]}, {\"name\": \"2017\", \"type\": \"bar\", \"x\": [\"CLE\", \"SF\", \"JAX\", \"TB\", \"CHI\", \"NYJ\", \"NYG\", \"OAK\", \"IND\", \"MIA\", \"BUF\", \"ARI\", \"TEN\", \"CIN\", \"BAL\", \"DET\", \"LAC\", \"WAS\", \"DEN\", \"HOU\", \"GB\", \"DAL\", \"PHI\", \"LA\", \"ATL\", \"SEA\", \"NO\", \"CAR\", \"MIN\", \"PIT\", \"KC\", \"NE\"], \"y\": [0, 6, 10, 5, 5, 5, 3, 6, 4, 6, 9, 8, 9, 6, 9, 9, 9, 7, 5, 4, 7, 9, 13, 11, 10, 9, 11, 11, 13, 13, 10, 13]}, {\"name\": \"2018\", \"type\": \"bar\", \"x\": [\"CLE\", \"SF\", \"JAX\", \"TB\", \"CHI\", \"NYJ\", \"NYG\", \"OAK\", \"IND\", \"MIA\", \"BUF\", \"ARI\", \"TEN\", \"CIN\", \"BAL\", \"DET\", \"LAC\", \"WAS\", \"DEN\", \"HOU\", \"GB\", \"DAL\", \"PHI\", \"LA\", \"ATL\", \"SEA\", \"NO\", \"CAR\", \"MIN\", \"PIT\", \"KC\", \"NE\"], \"y\": [7.0, 5.0, 5.0, 6.0, 11.0, 5.0, 6.0, 3.0, 9.0, 8.0, 6.0, 3.0, 9.0, 7.0, 9.0, 6.0, 13.0, 8.0, 7.0, 11.0, 6.0, 9.0, 8.0, 13.0, 6.0, 9.0, 14.0, 7.0, 9.0, 9.0, 13.0, 10.0]}],\n",
       "                        {\"barmode\": \"group\", \"height\": 600, \"template\": {\"data\": {\"bar\": [{\"error_x\": {\"color\": \"#2a3f5f\"}, \"error_y\": {\"color\": \"#2a3f5f\"}, \"marker\": {\"line\": {\"color\": \"#E5ECF6\", \"width\": 0.5}}, \"type\": \"bar\"}], \"barpolar\": [{\"marker\": {\"line\": {\"color\": \"#E5ECF6\", \"width\": 0.5}}, \"type\": \"barpolar\"}], \"carpet\": [{\"aaxis\": {\"endlinecolor\": \"#2a3f5f\", \"gridcolor\": \"white\", \"linecolor\": \"white\", \"minorgridcolor\": \"white\", \"startlinecolor\": \"#2a3f5f\"}, \"baxis\": {\"endlinecolor\": \"#2a3f5f\", \"gridcolor\": \"white\", \"linecolor\": \"white\", \"minorgridcolor\": \"white\", \"startlinecolor\": \"#2a3f5f\"}, \"type\": \"carpet\"}], \"choropleth\": [{\"colorbar\": {\"outlinewidth\": 0, \"ticks\": \"\"}, \"type\": \"choropleth\"}], \"contour\": [{\"colorbar\": {\"outlinewidth\": 0, \"ticks\": \"\"}, \"colorscale\": [[0.0, \"#0d0887\"], [0.1111111111111111, \"#46039f\"], [0.2222222222222222, \"#7201a8\"], [0.3333333333333333, \"#9c179e\"], [0.4444444444444444, \"#bd3786\"], [0.5555555555555556, \"#d8576b\"], [0.6666666666666666, \"#ed7953\"], [0.7777777777777778, \"#fb9f3a\"], [0.8888888888888888, \"#fdca26\"], [1.0, \"#f0f921\"]], \"type\": \"contour\"}], \"contourcarpet\": [{\"colorbar\": {\"outlinewidth\": 0, \"ticks\": \"\"}, \"type\": \"contourcarpet\"}], \"heatmap\": [{\"colorbar\": {\"outlinewidth\": 0, \"ticks\": \"\"}, \"colorscale\": [[0.0, \"#0d0887\"], [0.1111111111111111, \"#46039f\"], [0.2222222222222222, \"#7201a8\"], [0.3333333333333333, \"#9c179e\"], [0.4444444444444444, \"#bd3786\"], [0.5555555555555556, \"#d8576b\"], [0.6666666666666666, \"#ed7953\"], [0.7777777777777778, \"#fb9f3a\"], [0.8888888888888888, \"#fdca26\"], [1.0, \"#f0f921\"]], \"type\": \"heatmap\"}], \"heatmapgl\": [{\"colorbar\": {\"outlinewidth\": 0, \"ticks\": \"\"}, \"colorscale\": [[0.0, \"#0d0887\"], [0.1111111111111111, \"#46039f\"], [0.2222222222222222, \"#7201a8\"], [0.3333333333333333, \"#9c179e\"], [0.4444444444444444, \"#bd3786\"], [0.5555555555555556, \"#d8576b\"], [0.6666666666666666, \"#ed7953\"], [0.7777777777777778, \"#fb9f3a\"], [0.8888888888888888, \"#fdca26\"], [1.0, \"#f0f921\"]], \"type\": \"heatmapgl\"}], \"histogram\": [{\"marker\": {\"colorbar\": {\"outlinewidth\": 0, \"ticks\": \"\"}}, \"type\": \"histogram\"}], \"histogram2d\": [{\"colorbar\": {\"outlinewidth\": 0, \"ticks\": \"\"}, \"colorscale\": [[0.0, \"#0d0887\"], [0.1111111111111111, \"#46039f\"], [0.2222222222222222, \"#7201a8\"], [0.3333333333333333, \"#9c179e\"], [0.4444444444444444, \"#bd3786\"], [0.5555555555555556, \"#d8576b\"], [0.6666666666666666, \"#ed7953\"], [0.7777777777777778, \"#fb9f3a\"], [0.8888888888888888, \"#fdca26\"], [1.0, \"#f0f921\"]], \"type\": \"histogram2d\"}], \"histogram2dcontour\": [{\"colorbar\": {\"outlinewidth\": 0, \"ticks\": \"\"}, \"colorscale\": [[0.0, \"#0d0887\"], [0.1111111111111111, \"#46039f\"], [0.2222222222222222, \"#7201a8\"], [0.3333333333333333, \"#9c179e\"], [0.4444444444444444, \"#bd3786\"], [0.5555555555555556, \"#d8576b\"], [0.6666666666666666, \"#ed7953\"], [0.7777777777777778, \"#fb9f3a\"], [0.8888888888888888, \"#fdca26\"], [1.0, \"#f0f921\"]], \"type\": \"histogram2dcontour\"}], \"mesh3d\": [{\"colorbar\": {\"outlinewidth\": 0, \"ticks\": \"\"}, \"type\": \"mesh3d\"}], \"parcoords\": [{\"line\": {\"colorbar\": {\"outlinewidth\": 0, \"ticks\": \"\"}}, \"type\": \"parcoords\"}], \"pie\": [{\"automargin\": true, \"type\": \"pie\"}], \"scatter\": [{\"marker\": {\"colorbar\": {\"outlinewidth\": 0, \"ticks\": \"\"}}, \"type\": \"scatter\"}], \"scatter3d\": [{\"line\": {\"colorbar\": {\"outlinewidth\": 0, \"ticks\": \"\"}}, \"marker\": {\"colorbar\": {\"outlinewidth\": 0, \"ticks\": \"\"}}, \"type\": \"scatter3d\"}], \"scattercarpet\": [{\"marker\": {\"colorbar\": {\"outlinewidth\": 0, \"ticks\": \"\"}}, \"type\": \"scattercarpet\"}], \"scattergeo\": [{\"marker\": {\"colorbar\": {\"outlinewidth\": 0, \"ticks\": \"\"}}, \"type\": \"scattergeo\"}], \"scattergl\": [{\"marker\": {\"colorbar\": {\"outlinewidth\": 0, \"ticks\": \"\"}}, \"type\": \"scattergl\"}], \"scattermapbox\": [{\"marker\": {\"colorbar\": {\"outlinewidth\": 0, \"ticks\": \"\"}}, \"type\": \"scattermapbox\"}], \"scatterpolar\": [{\"marker\": {\"colorbar\": {\"outlinewidth\": 0, \"ticks\": \"\"}}, \"type\": \"scatterpolar\"}], \"scatterpolargl\": [{\"marker\": {\"colorbar\": {\"outlinewidth\": 0, \"ticks\": \"\"}}, \"type\": \"scatterpolargl\"}], \"scatterternary\": [{\"marker\": {\"colorbar\": {\"outlinewidth\": 0, \"ticks\": \"\"}}, \"type\": \"scatterternary\"}], \"surface\": [{\"colorbar\": {\"outlinewidth\": 0, \"ticks\": \"\"}, \"colorscale\": [[0.0, \"#0d0887\"], [0.1111111111111111, \"#46039f\"], [0.2222222222222222, \"#7201a8\"], [0.3333333333333333, \"#9c179e\"], [0.4444444444444444, \"#bd3786\"], [0.5555555555555556, \"#d8576b\"], [0.6666666666666666, \"#ed7953\"], [0.7777777777777778, \"#fb9f3a\"], [0.8888888888888888, \"#fdca26\"], [1.0, \"#f0f921\"]], \"type\": \"surface\"}], \"table\": [{\"cells\": {\"fill\": {\"color\": \"#EBF0F8\"}, \"line\": {\"color\": \"white\"}}, \"header\": {\"fill\": {\"color\": \"#C8D4E3\"}, \"line\": {\"color\": \"white\"}}, \"type\": \"table\"}]}, \"layout\": {\"annotationdefaults\": {\"arrowcolor\": \"#2a3f5f\", \"arrowhead\": 0, \"arrowwidth\": 1}, \"coloraxis\": {\"colorbar\": {\"outlinewidth\": 0, \"ticks\": \"\"}}, \"colorscale\": {\"diverging\": [[0, \"#8e0152\"], [0.1, \"#c51b7d\"], [0.2, \"#de77ae\"], [0.3, \"#f1b6da\"], [0.4, \"#fde0ef\"], [0.5, \"#f7f7f7\"], [0.6, \"#e6f5d0\"], [0.7, \"#b8e186\"], [0.8, \"#7fbc41\"], [0.9, \"#4d9221\"], [1, \"#276419\"]], \"sequential\": [[0.0, \"#0d0887\"], [0.1111111111111111, \"#46039f\"], [0.2222222222222222, \"#7201a8\"], [0.3333333333333333, \"#9c179e\"], [0.4444444444444444, \"#bd3786\"], [0.5555555555555556, \"#d8576b\"], [0.6666666666666666, \"#ed7953\"], [0.7777777777777778, \"#fb9f3a\"], [0.8888888888888888, \"#fdca26\"], [1.0, \"#f0f921\"]], \"sequentialminus\": [[0.0, \"#0d0887\"], [0.1111111111111111, \"#46039f\"], [0.2222222222222222, \"#7201a8\"], [0.3333333333333333, \"#9c179e\"], [0.4444444444444444, \"#bd3786\"], [0.5555555555555556, \"#d8576b\"], [0.6666666666666666, \"#ed7953\"], [0.7777777777777778, \"#fb9f3a\"], [0.8888888888888888, \"#fdca26\"], [1.0, \"#f0f921\"]]}, \"colorway\": [\"#636efa\", \"#EF553B\", \"#00cc96\", \"#ab63fa\", \"#FFA15A\", \"#19d3f3\", \"#FF6692\", \"#B6E880\", \"#FF97FF\", \"#FECB52\"], \"font\": {\"color\": \"#2a3f5f\"}, \"geo\": {\"bgcolor\": \"white\", \"lakecolor\": \"white\", \"landcolor\": \"#E5ECF6\", \"showlakes\": true, \"showland\": true, \"subunitcolor\": \"white\"}, \"hoverlabel\": {\"align\": \"left\"}, \"hovermode\": \"closest\", \"mapbox\": {\"style\": \"light\"}, \"paper_bgcolor\": \"white\", \"plot_bgcolor\": \"#E5ECF6\", \"polar\": {\"angularaxis\": {\"gridcolor\": \"white\", \"linecolor\": \"white\", \"ticks\": \"\"}, \"bgcolor\": \"#E5ECF6\", \"radialaxis\": {\"gridcolor\": \"white\", \"linecolor\": \"white\", \"ticks\": \"\"}}, \"scene\": {\"xaxis\": {\"backgroundcolor\": \"#E5ECF6\", \"gridcolor\": \"white\", \"gridwidth\": 2, \"linecolor\": \"white\", \"showbackground\": true, \"ticks\": \"\", \"zerolinecolor\": \"white\"}, \"yaxis\": {\"backgroundcolor\": \"#E5ECF6\", \"gridcolor\": \"white\", \"gridwidth\": 2, \"linecolor\": \"white\", \"showbackground\": true, \"ticks\": \"\", \"zerolinecolor\": \"white\"}, \"zaxis\": {\"backgroundcolor\": \"#E5ECF6\", \"gridcolor\": \"white\", \"gridwidth\": 2, \"linecolor\": \"white\", \"showbackground\": true, \"ticks\": \"\", \"zerolinecolor\": \"white\"}}, \"shapedefaults\": {\"line\": {\"color\": \"#2a3f5f\"}}, \"ternary\": {\"aaxis\": {\"gridcolor\": \"white\", \"linecolor\": \"white\", \"ticks\": \"\"}, \"baxis\": {\"gridcolor\": \"white\", \"linecolor\": \"white\", \"ticks\": \"\"}, \"bgcolor\": \"#E5ECF6\", \"caxis\": {\"gridcolor\": \"white\", \"linecolor\": \"white\", \"ticks\": \"\"}}, \"title\": {\"x\": 0.05}, \"xaxis\": {\"automargin\": true, \"gridcolor\": \"white\", \"linecolor\": \"white\", \"ticks\": \"\", \"title\": {\"standoff\": 15}, \"zerolinecolor\": \"white\", \"zerolinewidth\": 2}, \"yaxis\": {\"automargin\": true, \"gridcolor\": \"white\", \"linecolor\": \"white\", \"ticks\": \"\", \"title\": {\"standoff\": 15}, \"zerolinecolor\": \"white\", \"zerolinewidth\": 2}}}, \"title\": {\"text\": \"<b>Total Wins by Year</b><br>(2015 thru 2018)\", \"x\": 0.5, \"xanchor\": \"center\", \"y\": 0.95, \"yanchor\": \"top\"}, \"width\": 1000},\n",
       "                        {\"responsive\": true}\n",
       "                    ).then(function(){\n",
       "                            \n",
       "var gd = document.getElementById('ea506b54-7f7b-4cb0-9041-6125bab63036');\n",
       "var x = new MutationObserver(function (mutations, observer) {{\n",
       "        var display = window.getComputedStyle(gd).display;\n",
       "        if (!display || display === 'none') {{\n",
       "            console.log([gd, 'removed!']);\n",
       "            Plotly.purge(gd);\n",
       "            observer.disconnect();\n",
       "        }}\n",
       "}});\n",
       "\n",
       "// Listen for the removal of the full notebook cells\n",
       "var notebookContainer = gd.closest('#notebook-container');\n",
       "if (notebookContainer) {{\n",
       "    x.observe(notebookContainer, {childList: true});\n",
       "}}\n",
       "\n",
       "// Listen for the clearing of the current output cell\n",
       "var outputEl = gd.closest('.output');\n",
       "if (outputEl) {{\n",
       "    x.observe(outputEl, {childList: true});\n",
       "}}\n",
       "\n",
       "                        })\n",
       "                };\n",
       "                });\n",
       "            </script>\n",
       "        </div>"
      ]
     },
     "metadata": {},
     "output_type": "display_data"
    }
   ],
   "source": [
    "fig = go.Figure(data=[go.Bar(name='2015', x = teams, y = team_wins_2015),\\\n",
    "                      go.Bar(name='2016', x = teams, y = team_wins_2016),\\\n",
    "                      go.Bar(name='2017', x = teams, y = team_wins_2017),\\\n",
    "                      go.Bar(name='2018', x = teams, y = team_wins_2018)])\n",
    "\n",
    "layout = go.Layout(\n",
    "    title = 'Total Wins By Year (2015 - 2018)',\n",
    "    xaxis= dict(title= 'Team',ticklen= 1,zeroline= False),\n",
    "    yaxis= dict(title= 'Wins',ticklen= 5,zeroline= False)\n",
    "    \n",
    ")\n",
    "\n",
    "fig.update_layout(\n",
    "    title={\n",
    "        'text':'<b>'+'Total Wins by Year'+'</b>'+'<br>(2015 thru 2018)',\n",
    "        'y':0.95,\n",
    "        'x':0.5,\n",
    "        'xanchor': 'center',\n",
    "        'yanchor': 'top'},\n",
    "        barmode='group',width=1000, height=600)\n",
    "fig"
   ]
  },
  {
   "cell_type": "markdown",
   "metadata": {},
   "source": [
    "We see mostly steady win totals, but not some teams have over or underpreformed. We are assuming Total Wins over a four year period is indicative of how good a team is.\n",
    "\n",
    "-Needs to be corrected for proper win totals?   \n",
    "-Needs dividers between teams?"
   ]
  },
  {
   "cell_type": "code",
   "execution_count": 51,
   "metadata": {},
   "outputs": [
    {
     "data": {
      "text/html": [
       "<div>\n",
       "<style scoped>\n",
       "    .dataframe tbody tr th:only-of-type {\n",
       "        vertical-align: middle;\n",
       "    }\n",
       "\n",
       "    .dataframe tbody tr th {\n",
       "        vertical-align: top;\n",
       "    }\n",
       "\n",
       "    .dataframe thead th {\n",
       "        text-align: right;\n",
       "    }\n",
       "</style>\n",
       "<table border=\"1\" class=\"dataframe\">\n",
       "  <thead>\n",
       "    <tr style=\"text-align: right;\">\n",
       "      <th></th>\n",
       "      <th>team</th>\n",
       "      <th>wins</th>\n",
       "      <th>year</th>\n",
       "      <th>binned</th>\n",
       "    </tr>\n",
       "  </thead>\n",
       "  <tbody>\n",
       "    <tr>\n",
       "      <td>0</td>\n",
       "      <td>CLE</td>\n",
       "      <td>3.0</td>\n",
       "      <td>2015</td>\n",
       "      <td>5 or Less</td>\n",
       "    </tr>\n",
       "    <tr>\n",
       "      <td>1</td>\n",
       "      <td>CLE</td>\n",
       "      <td>1.0</td>\n",
       "      <td>2016</td>\n",
       "      <td>5 or Less</td>\n",
       "    </tr>\n",
       "    <tr>\n",
       "      <td>2</td>\n",
       "      <td>CLE</td>\n",
       "      <td>0.0</td>\n",
       "      <td>2017</td>\n",
       "      <td>5 or Less</td>\n",
       "    </tr>\n",
       "    <tr>\n",
       "      <td>3</td>\n",
       "      <td>CLE</td>\n",
       "      <td>7.0</td>\n",
       "      <td>2018</td>\n",
       "      <td>Between 6 and 9</td>\n",
       "    </tr>\n",
       "    <tr>\n",
       "      <td>4</td>\n",
       "      <td>SF</td>\n",
       "      <td>5.0</td>\n",
       "      <td>2015</td>\n",
       "      <td>5 or Less</td>\n",
       "    </tr>\n",
       "  </tbody>\n",
       "</table>\n",
       "</div>"
      ],
      "text/plain": [
       "  team  wins  year           binned\n",
       "0  CLE   3.0  2015        5 or Less\n",
       "1  CLE   1.0  2016        5 or Less\n",
       "2  CLE   0.0  2017        5 or Less\n",
       "3  CLE   7.0  2018  Between 6 and 9\n",
       "4   SF   5.0  2015        5 or Less"
      ]
     },
     "execution_count": 51,
     "metadata": {},
     "output_type": "execute_result"
    }
   ],
   "source": [
    "team_by_wins.head()"
   ]
  },
  {
   "cell_type": "code",
   "execution_count": 52,
   "metadata": {},
   "outputs": [],
   "source": [
    "x2015 = team_by_wins[team_by_wins['year']==2015].groupby('binned').count().index\n",
    "y2015 = team_by_wins[team_by_wins['year']==2015].groupby('binned').count()['team'].values\n",
    "\n",
    "x2016 = team_by_wins[team_by_wins['year']==2016].groupby('binned').count().index\n",
    "y2016 = team_by_wins[team_by_wins['year']==2016].groupby('binned').count()['team'].values\n",
    "\n",
    "x2017 = team_by_wins[team_by_wins['year']==2017].groupby('binned').count().index\n",
    "y2017 = team_by_wins[team_by_wins['year']==2017].groupby('binned').count()['team'].values\n",
    "\n",
    "x2018 = team_by_wins[team_by_wins['year']==2018].groupby('binned').count().index\n",
    "y2018 = team_by_wins[team_by_wins['year']==2018].groupby('binned').count()['team'].values"
   ]
  },
  {
   "cell_type": "code",
   "execution_count": 53,
   "metadata": {},
   "outputs": [
    {
     "data": {
      "application/vnd.plotly.v1+json": {
       "config": {
        "plotlyServerURL": "https://plot.ly"
       },
       "data": [
        {
         "name": "2015",
         "type": "bar",
         "x": [
          "5 or Less",
          "Between 6 and 9",
          "10+ Wins"
         ],
         "y": [
          8,
          17,
          7
         ]
        },
        {
         "name": "2016",
         "type": "bar",
         "x": [
          "5 or Less",
          "Between 6 and 9",
          "10+ Wins"
         ],
         "y": [
          7,
          19,
          6
         ]
        },
        {
         "name": "2017",
         "type": "bar",
         "x": [
          "5 or Less",
          "Between 6 and 9",
          "10+ Wins"
         ],
         "y": [
          8,
          17,
          7
         ]
        },
        {
         "name": "2018",
         "type": "bar",
         "x": [
          "5 or Less",
          "Between 6 and 9",
          "10+ Wins"
         ],
         "y": [
          5,
          21,
          6
         ]
        }
       ],
       "layout": {
        "barmode": "group",
        "height": 600,
        "template": {
         "data": {
          "bar": [
           {
            "error_x": {
             "color": "#2a3f5f"
            },
            "error_y": {
             "color": "#2a3f5f"
            },
            "marker": {
             "line": {
              "color": "#E5ECF6",
              "width": 0.5
             }
            },
            "type": "bar"
           }
          ],
          "barpolar": [
           {
            "marker": {
             "line": {
              "color": "#E5ECF6",
              "width": 0.5
             }
            },
            "type": "barpolar"
           }
          ],
          "carpet": [
           {
            "aaxis": {
             "endlinecolor": "#2a3f5f",
             "gridcolor": "white",
             "linecolor": "white",
             "minorgridcolor": "white",
             "startlinecolor": "#2a3f5f"
            },
            "baxis": {
             "endlinecolor": "#2a3f5f",
             "gridcolor": "white",
             "linecolor": "white",
             "minorgridcolor": "white",
             "startlinecolor": "#2a3f5f"
            },
            "type": "carpet"
           }
          ],
          "choropleth": [
           {
            "colorbar": {
             "outlinewidth": 0,
             "ticks": ""
            },
            "type": "choropleth"
           }
          ],
          "contour": [
           {
            "colorbar": {
             "outlinewidth": 0,
             "ticks": ""
            },
            "colorscale": [
             [
              0,
              "#0d0887"
             ],
             [
              0.1111111111111111,
              "#46039f"
             ],
             [
              0.2222222222222222,
              "#7201a8"
             ],
             [
              0.3333333333333333,
              "#9c179e"
             ],
             [
              0.4444444444444444,
              "#bd3786"
             ],
             [
              0.5555555555555556,
              "#d8576b"
             ],
             [
              0.6666666666666666,
              "#ed7953"
             ],
             [
              0.7777777777777778,
              "#fb9f3a"
             ],
             [
              0.8888888888888888,
              "#fdca26"
             ],
             [
              1,
              "#f0f921"
             ]
            ],
            "type": "contour"
           }
          ],
          "contourcarpet": [
           {
            "colorbar": {
             "outlinewidth": 0,
             "ticks": ""
            },
            "type": "contourcarpet"
           }
          ],
          "heatmap": [
           {
            "colorbar": {
             "outlinewidth": 0,
             "ticks": ""
            },
            "colorscale": [
             [
              0,
              "#0d0887"
             ],
             [
              0.1111111111111111,
              "#46039f"
             ],
             [
              0.2222222222222222,
              "#7201a8"
             ],
             [
              0.3333333333333333,
              "#9c179e"
             ],
             [
              0.4444444444444444,
              "#bd3786"
             ],
             [
              0.5555555555555556,
              "#d8576b"
             ],
             [
              0.6666666666666666,
              "#ed7953"
             ],
             [
              0.7777777777777778,
              "#fb9f3a"
             ],
             [
              0.8888888888888888,
              "#fdca26"
             ],
             [
              1,
              "#f0f921"
             ]
            ],
            "type": "heatmap"
           }
          ],
          "heatmapgl": [
           {
            "colorbar": {
             "outlinewidth": 0,
             "ticks": ""
            },
            "colorscale": [
             [
              0,
              "#0d0887"
             ],
             [
              0.1111111111111111,
              "#46039f"
             ],
             [
              0.2222222222222222,
              "#7201a8"
             ],
             [
              0.3333333333333333,
              "#9c179e"
             ],
             [
              0.4444444444444444,
              "#bd3786"
             ],
             [
              0.5555555555555556,
              "#d8576b"
             ],
             [
              0.6666666666666666,
              "#ed7953"
             ],
             [
              0.7777777777777778,
              "#fb9f3a"
             ],
             [
              0.8888888888888888,
              "#fdca26"
             ],
             [
              1,
              "#f0f921"
             ]
            ],
            "type": "heatmapgl"
           }
          ],
          "histogram": [
           {
            "marker": {
             "colorbar": {
              "outlinewidth": 0,
              "ticks": ""
             }
            },
            "type": "histogram"
           }
          ],
          "histogram2d": [
           {
            "colorbar": {
             "outlinewidth": 0,
             "ticks": ""
            },
            "colorscale": [
             [
              0,
              "#0d0887"
             ],
             [
              0.1111111111111111,
              "#46039f"
             ],
             [
              0.2222222222222222,
              "#7201a8"
             ],
             [
              0.3333333333333333,
              "#9c179e"
             ],
             [
              0.4444444444444444,
              "#bd3786"
             ],
             [
              0.5555555555555556,
              "#d8576b"
             ],
             [
              0.6666666666666666,
              "#ed7953"
             ],
             [
              0.7777777777777778,
              "#fb9f3a"
             ],
             [
              0.8888888888888888,
              "#fdca26"
             ],
             [
              1,
              "#f0f921"
             ]
            ],
            "type": "histogram2d"
           }
          ],
          "histogram2dcontour": [
           {
            "colorbar": {
             "outlinewidth": 0,
             "ticks": ""
            },
            "colorscale": [
             [
              0,
              "#0d0887"
             ],
             [
              0.1111111111111111,
              "#46039f"
             ],
             [
              0.2222222222222222,
              "#7201a8"
             ],
             [
              0.3333333333333333,
              "#9c179e"
             ],
             [
              0.4444444444444444,
              "#bd3786"
             ],
             [
              0.5555555555555556,
              "#d8576b"
             ],
             [
              0.6666666666666666,
              "#ed7953"
             ],
             [
              0.7777777777777778,
              "#fb9f3a"
             ],
             [
              0.8888888888888888,
              "#fdca26"
             ],
             [
              1,
              "#f0f921"
             ]
            ],
            "type": "histogram2dcontour"
           }
          ],
          "mesh3d": [
           {
            "colorbar": {
             "outlinewidth": 0,
             "ticks": ""
            },
            "type": "mesh3d"
           }
          ],
          "parcoords": [
           {
            "line": {
             "colorbar": {
              "outlinewidth": 0,
              "ticks": ""
             }
            },
            "type": "parcoords"
           }
          ],
          "pie": [
           {
            "automargin": true,
            "type": "pie"
           }
          ],
          "scatter": [
           {
            "marker": {
             "colorbar": {
              "outlinewidth": 0,
              "ticks": ""
             }
            },
            "type": "scatter"
           }
          ],
          "scatter3d": [
           {
            "line": {
             "colorbar": {
              "outlinewidth": 0,
              "ticks": ""
             }
            },
            "marker": {
             "colorbar": {
              "outlinewidth": 0,
              "ticks": ""
             }
            },
            "type": "scatter3d"
           }
          ],
          "scattercarpet": [
           {
            "marker": {
             "colorbar": {
              "outlinewidth": 0,
              "ticks": ""
             }
            },
            "type": "scattercarpet"
           }
          ],
          "scattergeo": [
           {
            "marker": {
             "colorbar": {
              "outlinewidth": 0,
              "ticks": ""
             }
            },
            "type": "scattergeo"
           }
          ],
          "scattergl": [
           {
            "marker": {
             "colorbar": {
              "outlinewidth": 0,
              "ticks": ""
             }
            },
            "type": "scattergl"
           }
          ],
          "scattermapbox": [
           {
            "marker": {
             "colorbar": {
              "outlinewidth": 0,
              "ticks": ""
             }
            },
            "type": "scattermapbox"
           }
          ],
          "scatterpolar": [
           {
            "marker": {
             "colorbar": {
              "outlinewidth": 0,
              "ticks": ""
             }
            },
            "type": "scatterpolar"
           }
          ],
          "scatterpolargl": [
           {
            "marker": {
             "colorbar": {
              "outlinewidth": 0,
              "ticks": ""
             }
            },
            "type": "scatterpolargl"
           }
          ],
          "scatterternary": [
           {
            "marker": {
             "colorbar": {
              "outlinewidth": 0,
              "ticks": ""
             }
            },
            "type": "scatterternary"
           }
          ],
          "surface": [
           {
            "colorbar": {
             "outlinewidth": 0,
             "ticks": ""
            },
            "colorscale": [
             [
              0,
              "#0d0887"
             ],
             [
              0.1111111111111111,
              "#46039f"
             ],
             [
              0.2222222222222222,
              "#7201a8"
             ],
             [
              0.3333333333333333,
              "#9c179e"
             ],
             [
              0.4444444444444444,
              "#bd3786"
             ],
             [
              0.5555555555555556,
              "#d8576b"
             ],
             [
              0.6666666666666666,
              "#ed7953"
             ],
             [
              0.7777777777777778,
              "#fb9f3a"
             ],
             [
              0.8888888888888888,
              "#fdca26"
             ],
             [
              1,
              "#f0f921"
             ]
            ],
            "type": "surface"
           }
          ],
          "table": [
           {
            "cells": {
             "fill": {
              "color": "#EBF0F8"
             },
             "line": {
              "color": "white"
             }
            },
            "header": {
             "fill": {
              "color": "#C8D4E3"
             },
             "line": {
              "color": "white"
             }
            },
            "type": "table"
           }
          ]
         },
         "layout": {
          "annotationdefaults": {
           "arrowcolor": "#2a3f5f",
           "arrowhead": 0,
           "arrowwidth": 1
          },
          "coloraxis": {
           "colorbar": {
            "outlinewidth": 0,
            "ticks": ""
           }
          },
          "colorscale": {
           "diverging": [
            [
             0,
             "#8e0152"
            ],
            [
             0.1,
             "#c51b7d"
            ],
            [
             0.2,
             "#de77ae"
            ],
            [
             0.3,
             "#f1b6da"
            ],
            [
             0.4,
             "#fde0ef"
            ],
            [
             0.5,
             "#f7f7f7"
            ],
            [
             0.6,
             "#e6f5d0"
            ],
            [
             0.7,
             "#b8e186"
            ],
            [
             0.8,
             "#7fbc41"
            ],
            [
             0.9,
             "#4d9221"
            ],
            [
             1,
             "#276419"
            ]
           ],
           "sequential": [
            [
             0,
             "#0d0887"
            ],
            [
             0.1111111111111111,
             "#46039f"
            ],
            [
             0.2222222222222222,
             "#7201a8"
            ],
            [
             0.3333333333333333,
             "#9c179e"
            ],
            [
             0.4444444444444444,
             "#bd3786"
            ],
            [
             0.5555555555555556,
             "#d8576b"
            ],
            [
             0.6666666666666666,
             "#ed7953"
            ],
            [
             0.7777777777777778,
             "#fb9f3a"
            ],
            [
             0.8888888888888888,
             "#fdca26"
            ],
            [
             1,
             "#f0f921"
            ]
           ],
           "sequentialminus": [
            [
             0,
             "#0d0887"
            ],
            [
             0.1111111111111111,
             "#46039f"
            ],
            [
             0.2222222222222222,
             "#7201a8"
            ],
            [
             0.3333333333333333,
             "#9c179e"
            ],
            [
             0.4444444444444444,
             "#bd3786"
            ],
            [
             0.5555555555555556,
             "#d8576b"
            ],
            [
             0.6666666666666666,
             "#ed7953"
            ],
            [
             0.7777777777777778,
             "#fb9f3a"
            ],
            [
             0.8888888888888888,
             "#fdca26"
            ],
            [
             1,
             "#f0f921"
            ]
           ]
          },
          "colorway": [
           "#636efa",
           "#EF553B",
           "#00cc96",
           "#ab63fa",
           "#FFA15A",
           "#19d3f3",
           "#FF6692",
           "#B6E880",
           "#FF97FF",
           "#FECB52"
          ],
          "font": {
           "color": "#2a3f5f"
          },
          "geo": {
           "bgcolor": "white",
           "lakecolor": "white",
           "landcolor": "#E5ECF6",
           "showlakes": true,
           "showland": true,
           "subunitcolor": "white"
          },
          "hoverlabel": {
           "align": "left"
          },
          "hovermode": "closest",
          "mapbox": {
           "style": "light"
          },
          "paper_bgcolor": "white",
          "plot_bgcolor": "#E5ECF6",
          "polar": {
           "angularaxis": {
            "gridcolor": "white",
            "linecolor": "white",
            "ticks": ""
           },
           "bgcolor": "#E5ECF6",
           "radialaxis": {
            "gridcolor": "white",
            "linecolor": "white",
            "ticks": ""
           }
          },
          "scene": {
           "xaxis": {
            "backgroundcolor": "#E5ECF6",
            "gridcolor": "white",
            "gridwidth": 2,
            "linecolor": "white",
            "showbackground": true,
            "ticks": "",
            "zerolinecolor": "white"
           },
           "yaxis": {
            "backgroundcolor": "#E5ECF6",
            "gridcolor": "white",
            "gridwidth": 2,
            "linecolor": "white",
            "showbackground": true,
            "ticks": "",
            "zerolinecolor": "white"
           },
           "zaxis": {
            "backgroundcolor": "#E5ECF6",
            "gridcolor": "white",
            "gridwidth": 2,
            "linecolor": "white",
            "showbackground": true,
            "ticks": "",
            "zerolinecolor": "white"
           }
          },
          "shapedefaults": {
           "line": {
            "color": "#2a3f5f"
           }
          },
          "ternary": {
           "aaxis": {
            "gridcolor": "white",
            "linecolor": "white",
            "ticks": ""
           },
           "baxis": {
            "gridcolor": "white",
            "linecolor": "white",
            "ticks": ""
           },
           "bgcolor": "#E5ECF6",
           "caxis": {
            "gridcolor": "white",
            "linecolor": "white",
            "ticks": ""
           }
          },
          "title": {
           "x": 0.05
          },
          "xaxis": {
           "automargin": true,
           "gridcolor": "white",
           "linecolor": "white",
           "ticks": "",
           "title": {
            "standoff": 15
           },
           "zerolinecolor": "white",
           "zerolinewidth": 2
          },
          "yaxis": {
           "automargin": true,
           "gridcolor": "white",
           "linecolor": "white",
           "ticks": "",
           "title": {
            "standoff": 15
           },
           "zerolinecolor": "white",
           "zerolinewidth": 2
          }
         }
        },
        "title": {
         "text": "<b>Total Wins by Year</b><br>(2015 thru 2018)",
         "x": 0.5,
         "xanchor": "center",
         "y": 0.95,
         "yanchor": "top"
        },
        "width": 1000
       }
      },
      "text/html": [
       "<div>\n",
       "        \n",
       "        \n",
       "            <div id=\"85b47b2f-274f-42e3-a0ed-9cfe7126bea8\" class=\"plotly-graph-div\" style=\"height:600px; width:1000px;\"></div>\n",
       "            <script type=\"text/javascript\">\n",
       "                require([\"plotly\"], function(Plotly) {\n",
       "                    window.PLOTLYENV=window.PLOTLYENV || {};\n",
       "                    \n",
       "                if (document.getElementById(\"85b47b2f-274f-42e3-a0ed-9cfe7126bea8\")) {\n",
       "                    Plotly.newPlot(\n",
       "                        '85b47b2f-274f-42e3-a0ed-9cfe7126bea8',\n",
       "                        [{\"name\": \"2015\", \"type\": \"bar\", \"x\": [\"5 or Less\", \"Between 6 and 9\", \"10+ Wins\"], \"y\": [8, 17, 7]}, {\"name\": \"2016\", \"type\": \"bar\", \"x\": [\"5 or Less\", \"Between 6 and 9\", \"10+ Wins\"], \"y\": [7, 19, 6]}, {\"name\": \"2017\", \"type\": \"bar\", \"x\": [\"5 or Less\", \"Between 6 and 9\", \"10+ Wins\"], \"y\": [8, 17, 7]}, {\"name\": \"2018\", \"type\": \"bar\", \"x\": [\"5 or Less\", \"Between 6 and 9\", \"10+ Wins\"], \"y\": [5, 21, 6]}],\n",
       "                        {\"barmode\": \"group\", \"height\": 600, \"template\": {\"data\": {\"bar\": [{\"error_x\": {\"color\": \"#2a3f5f\"}, \"error_y\": {\"color\": \"#2a3f5f\"}, \"marker\": {\"line\": {\"color\": \"#E5ECF6\", \"width\": 0.5}}, \"type\": \"bar\"}], \"barpolar\": [{\"marker\": {\"line\": {\"color\": \"#E5ECF6\", \"width\": 0.5}}, \"type\": \"barpolar\"}], \"carpet\": [{\"aaxis\": {\"endlinecolor\": \"#2a3f5f\", \"gridcolor\": \"white\", \"linecolor\": \"white\", \"minorgridcolor\": \"white\", \"startlinecolor\": \"#2a3f5f\"}, \"baxis\": {\"endlinecolor\": \"#2a3f5f\", \"gridcolor\": \"white\", \"linecolor\": \"white\", \"minorgridcolor\": \"white\", \"startlinecolor\": \"#2a3f5f\"}, \"type\": \"carpet\"}], \"choropleth\": [{\"colorbar\": {\"outlinewidth\": 0, \"ticks\": \"\"}, \"type\": \"choropleth\"}], \"contour\": [{\"colorbar\": {\"outlinewidth\": 0, \"ticks\": \"\"}, \"colorscale\": [[0.0, \"#0d0887\"], [0.1111111111111111, \"#46039f\"], [0.2222222222222222, \"#7201a8\"], [0.3333333333333333, \"#9c179e\"], [0.4444444444444444, \"#bd3786\"], [0.5555555555555556, \"#d8576b\"], [0.6666666666666666, \"#ed7953\"], [0.7777777777777778, \"#fb9f3a\"], [0.8888888888888888, \"#fdca26\"], [1.0, \"#f0f921\"]], \"type\": \"contour\"}], \"contourcarpet\": [{\"colorbar\": {\"outlinewidth\": 0, \"ticks\": \"\"}, \"type\": \"contourcarpet\"}], \"heatmap\": [{\"colorbar\": {\"outlinewidth\": 0, \"ticks\": \"\"}, \"colorscale\": [[0.0, \"#0d0887\"], [0.1111111111111111, \"#46039f\"], [0.2222222222222222, \"#7201a8\"], [0.3333333333333333, \"#9c179e\"], [0.4444444444444444, \"#bd3786\"], [0.5555555555555556, \"#d8576b\"], [0.6666666666666666, \"#ed7953\"], [0.7777777777777778, \"#fb9f3a\"], [0.8888888888888888, \"#fdca26\"], [1.0, \"#f0f921\"]], \"type\": \"heatmap\"}], \"heatmapgl\": [{\"colorbar\": {\"outlinewidth\": 0, \"ticks\": \"\"}, \"colorscale\": [[0.0, \"#0d0887\"], [0.1111111111111111, \"#46039f\"], [0.2222222222222222, \"#7201a8\"], [0.3333333333333333, \"#9c179e\"], [0.4444444444444444, \"#bd3786\"], [0.5555555555555556, \"#d8576b\"], [0.6666666666666666, \"#ed7953\"], [0.7777777777777778, \"#fb9f3a\"], [0.8888888888888888, \"#fdca26\"], [1.0, \"#f0f921\"]], \"type\": \"heatmapgl\"}], \"histogram\": [{\"marker\": {\"colorbar\": {\"outlinewidth\": 0, \"ticks\": \"\"}}, \"type\": \"histogram\"}], \"histogram2d\": [{\"colorbar\": {\"outlinewidth\": 0, \"ticks\": \"\"}, \"colorscale\": [[0.0, \"#0d0887\"], [0.1111111111111111, \"#46039f\"], [0.2222222222222222, \"#7201a8\"], [0.3333333333333333, \"#9c179e\"], [0.4444444444444444, \"#bd3786\"], [0.5555555555555556, \"#d8576b\"], [0.6666666666666666, \"#ed7953\"], [0.7777777777777778, \"#fb9f3a\"], [0.8888888888888888, \"#fdca26\"], [1.0, \"#f0f921\"]], \"type\": \"histogram2d\"}], \"histogram2dcontour\": [{\"colorbar\": {\"outlinewidth\": 0, \"ticks\": \"\"}, \"colorscale\": [[0.0, \"#0d0887\"], [0.1111111111111111, \"#46039f\"], [0.2222222222222222, \"#7201a8\"], [0.3333333333333333, \"#9c179e\"], [0.4444444444444444, \"#bd3786\"], [0.5555555555555556, \"#d8576b\"], [0.6666666666666666, \"#ed7953\"], [0.7777777777777778, \"#fb9f3a\"], [0.8888888888888888, \"#fdca26\"], [1.0, \"#f0f921\"]], \"type\": \"histogram2dcontour\"}], \"mesh3d\": [{\"colorbar\": {\"outlinewidth\": 0, \"ticks\": \"\"}, \"type\": \"mesh3d\"}], \"parcoords\": [{\"line\": {\"colorbar\": {\"outlinewidth\": 0, \"ticks\": \"\"}}, \"type\": \"parcoords\"}], \"pie\": [{\"automargin\": true, \"type\": \"pie\"}], \"scatter\": [{\"marker\": {\"colorbar\": {\"outlinewidth\": 0, \"ticks\": \"\"}}, \"type\": \"scatter\"}], \"scatter3d\": [{\"line\": {\"colorbar\": {\"outlinewidth\": 0, \"ticks\": \"\"}}, \"marker\": {\"colorbar\": {\"outlinewidth\": 0, \"ticks\": \"\"}}, \"type\": \"scatter3d\"}], \"scattercarpet\": [{\"marker\": {\"colorbar\": {\"outlinewidth\": 0, \"ticks\": \"\"}}, \"type\": \"scattercarpet\"}], \"scattergeo\": [{\"marker\": {\"colorbar\": {\"outlinewidth\": 0, \"ticks\": \"\"}}, \"type\": \"scattergeo\"}], \"scattergl\": [{\"marker\": {\"colorbar\": {\"outlinewidth\": 0, \"ticks\": \"\"}}, \"type\": \"scattergl\"}], \"scattermapbox\": [{\"marker\": {\"colorbar\": {\"outlinewidth\": 0, \"ticks\": \"\"}}, \"type\": \"scattermapbox\"}], \"scatterpolar\": [{\"marker\": {\"colorbar\": {\"outlinewidth\": 0, \"ticks\": \"\"}}, \"type\": \"scatterpolar\"}], \"scatterpolargl\": [{\"marker\": {\"colorbar\": {\"outlinewidth\": 0, \"ticks\": \"\"}}, \"type\": \"scatterpolargl\"}], \"scatterternary\": [{\"marker\": {\"colorbar\": {\"outlinewidth\": 0, \"ticks\": \"\"}}, \"type\": \"scatterternary\"}], \"surface\": [{\"colorbar\": {\"outlinewidth\": 0, \"ticks\": \"\"}, \"colorscale\": [[0.0, \"#0d0887\"], [0.1111111111111111, \"#46039f\"], [0.2222222222222222, \"#7201a8\"], [0.3333333333333333, \"#9c179e\"], [0.4444444444444444, \"#bd3786\"], [0.5555555555555556, \"#d8576b\"], [0.6666666666666666, \"#ed7953\"], [0.7777777777777778, \"#fb9f3a\"], [0.8888888888888888, \"#fdca26\"], [1.0, \"#f0f921\"]], \"type\": \"surface\"}], \"table\": [{\"cells\": {\"fill\": {\"color\": \"#EBF0F8\"}, \"line\": {\"color\": \"white\"}}, \"header\": {\"fill\": {\"color\": \"#C8D4E3\"}, \"line\": {\"color\": \"white\"}}, \"type\": \"table\"}]}, \"layout\": {\"annotationdefaults\": {\"arrowcolor\": \"#2a3f5f\", \"arrowhead\": 0, \"arrowwidth\": 1}, \"coloraxis\": {\"colorbar\": {\"outlinewidth\": 0, \"ticks\": \"\"}}, \"colorscale\": {\"diverging\": [[0, \"#8e0152\"], [0.1, \"#c51b7d\"], [0.2, \"#de77ae\"], [0.3, \"#f1b6da\"], [0.4, \"#fde0ef\"], [0.5, \"#f7f7f7\"], [0.6, \"#e6f5d0\"], [0.7, \"#b8e186\"], [0.8, \"#7fbc41\"], [0.9, \"#4d9221\"], [1, \"#276419\"]], \"sequential\": [[0.0, \"#0d0887\"], [0.1111111111111111, \"#46039f\"], [0.2222222222222222, \"#7201a8\"], [0.3333333333333333, \"#9c179e\"], [0.4444444444444444, \"#bd3786\"], [0.5555555555555556, \"#d8576b\"], [0.6666666666666666, \"#ed7953\"], [0.7777777777777778, \"#fb9f3a\"], [0.8888888888888888, \"#fdca26\"], [1.0, \"#f0f921\"]], \"sequentialminus\": [[0.0, \"#0d0887\"], [0.1111111111111111, \"#46039f\"], [0.2222222222222222, \"#7201a8\"], [0.3333333333333333, \"#9c179e\"], [0.4444444444444444, \"#bd3786\"], [0.5555555555555556, \"#d8576b\"], [0.6666666666666666, \"#ed7953\"], [0.7777777777777778, \"#fb9f3a\"], [0.8888888888888888, \"#fdca26\"], [1.0, \"#f0f921\"]]}, \"colorway\": [\"#636efa\", \"#EF553B\", \"#00cc96\", \"#ab63fa\", \"#FFA15A\", \"#19d3f3\", \"#FF6692\", \"#B6E880\", \"#FF97FF\", \"#FECB52\"], \"font\": {\"color\": \"#2a3f5f\"}, \"geo\": {\"bgcolor\": \"white\", \"lakecolor\": \"white\", \"landcolor\": \"#E5ECF6\", \"showlakes\": true, \"showland\": true, \"subunitcolor\": \"white\"}, \"hoverlabel\": {\"align\": \"left\"}, \"hovermode\": \"closest\", \"mapbox\": {\"style\": \"light\"}, \"paper_bgcolor\": \"white\", \"plot_bgcolor\": \"#E5ECF6\", \"polar\": {\"angularaxis\": {\"gridcolor\": \"white\", \"linecolor\": \"white\", \"ticks\": \"\"}, \"bgcolor\": \"#E5ECF6\", \"radialaxis\": {\"gridcolor\": \"white\", \"linecolor\": \"white\", \"ticks\": \"\"}}, \"scene\": {\"xaxis\": {\"backgroundcolor\": \"#E5ECF6\", \"gridcolor\": \"white\", \"gridwidth\": 2, \"linecolor\": \"white\", \"showbackground\": true, \"ticks\": \"\", \"zerolinecolor\": \"white\"}, \"yaxis\": {\"backgroundcolor\": \"#E5ECF6\", \"gridcolor\": \"white\", \"gridwidth\": 2, \"linecolor\": \"white\", \"showbackground\": true, \"ticks\": \"\", \"zerolinecolor\": \"white\"}, \"zaxis\": {\"backgroundcolor\": \"#E5ECF6\", \"gridcolor\": \"white\", \"gridwidth\": 2, \"linecolor\": \"white\", \"showbackground\": true, \"ticks\": \"\", \"zerolinecolor\": \"white\"}}, \"shapedefaults\": {\"line\": {\"color\": \"#2a3f5f\"}}, \"ternary\": {\"aaxis\": {\"gridcolor\": \"white\", \"linecolor\": \"white\", \"ticks\": \"\"}, \"baxis\": {\"gridcolor\": \"white\", \"linecolor\": \"white\", \"ticks\": \"\"}, \"bgcolor\": \"#E5ECF6\", \"caxis\": {\"gridcolor\": \"white\", \"linecolor\": \"white\", \"ticks\": \"\"}}, \"title\": {\"x\": 0.05}, \"xaxis\": {\"automargin\": true, \"gridcolor\": \"white\", \"linecolor\": \"white\", \"ticks\": \"\", \"title\": {\"standoff\": 15}, \"zerolinecolor\": \"white\", \"zerolinewidth\": 2}, \"yaxis\": {\"automargin\": true, \"gridcolor\": \"white\", \"linecolor\": \"white\", \"ticks\": \"\", \"title\": {\"standoff\": 15}, \"zerolinecolor\": \"white\", \"zerolinewidth\": 2}}}, \"title\": {\"text\": \"<b>Total Wins by Year</b><br>(2015 thru 2018)\", \"x\": 0.5, \"xanchor\": \"center\", \"y\": 0.95, \"yanchor\": \"top\"}, \"width\": 1000},\n",
       "                        {\"responsive\": true}\n",
       "                    ).then(function(){\n",
       "                            \n",
       "var gd = document.getElementById('85b47b2f-274f-42e3-a0ed-9cfe7126bea8');\n",
       "var x = new MutationObserver(function (mutations, observer) {{\n",
       "        var display = window.getComputedStyle(gd).display;\n",
       "        if (!display || display === 'none') {{\n",
       "            console.log([gd, 'removed!']);\n",
       "            Plotly.purge(gd);\n",
       "            observer.disconnect();\n",
       "        }}\n",
       "}});\n",
       "\n",
       "// Listen for the removal of the full notebook cells\n",
       "var notebookContainer = gd.closest('#notebook-container');\n",
       "if (notebookContainer) {{\n",
       "    x.observe(notebookContainer, {childList: true});\n",
       "}}\n",
       "\n",
       "// Listen for the clearing of the current output cell\n",
       "var outputEl = gd.closest('.output');\n",
       "if (outputEl) {{\n",
       "    x.observe(outputEl, {childList: true});\n",
       "}}\n",
       "\n",
       "                        })\n",
       "                };\n",
       "                });\n",
       "            </script>\n",
       "        </div>"
      ]
     },
     "metadata": {},
     "output_type": "display_data"
    }
   ],
   "source": [
    "fig = go.Figure(data=[go.Bar(name='2015', x = x2015, y = y2015),\\\n",
    "                      go.Bar(name='2016', x = x2016, y = y2016),\\\n",
    "                      go.Bar(name='2017', x = x2017, y = y2017),\\\n",
    "                      go.Bar(name='2018', x = x2018, y = y2018)])\n",
    "\n",
    "layout = go.Layout(\n",
    "    title = 'Total Wins By Year (2015 - 2018)',\n",
    "    xaxis= dict(title= 'Team',ticklen= 1,zeroline= False),\n",
    "    yaxis= dict(title= 'Wins',ticklen= 5,zeroline= False)\n",
    "    \n",
    ")\n",
    "\n",
    "fig.update_layout(\n",
    "    title={\n",
    "        'text':'<b>'+'Total Wins by Year'+'</b>'+'<br>(2015 thru 2018)',\n",
    "        'y':0.95,\n",
    "        'x':0.5,\n",
    "        'xanchor': 'center',\n",
    "        'yanchor': 'top'},\n",
    "        barmode='group',width=1000, height=600)\n",
    "fig"
   ]
  },
  {
   "cell_type": "markdown",
   "metadata": {},
   "source": [
    "<h2>Creating end of game summary metrics</h2>"
   ]
  },
  {
   "cell_type": "code",
   "execution_count": 54,
   "metadata": {},
   "outputs": [
    {
     "data": {
      "text/html": [
       "<div>\n",
       "<style scoped>\n",
       "    .dataframe tbody tr th:only-of-type {\n",
       "        vertical-align: middle;\n",
       "    }\n",
       "\n",
       "    .dataframe tbody tr th {\n",
       "        vertical-align: top;\n",
       "    }\n",
       "\n",
       "    .dataframe thead th {\n",
       "        text-align: right;\n",
       "    }\n",
       "</style>\n",
       "<table border=\"1\" class=\"dataframe\">\n",
       "  <thead>\n",
       "    <tr style=\"text-align: right;\">\n",
       "      <th></th>\n",
       "      <th>game_id</th>\n",
       "      <th>Team</th>\n",
       "      <th>team_against</th>\n",
       "      <th>score</th>\n",
       "      <th>score_against</th>\n",
       "      <th>yards</th>\n",
       "      <th>yards_against</th>\n",
       "      <th>run_plays</th>\n",
       "      <th>run_plays_against</th>\n",
       "      <th>pass_plays</th>\n",
       "      <th>pass_plays_against</th>\n",
       "      <th>to_for</th>\n",
       "      <th>to_against</th>\n",
       "      <th>fg_at</th>\n",
       "      <th>fg_md</th>\n",
       "      <th>fg_at_against</th>\n",
       "      <th>fg_md_against</th>\n",
       "      <th>pass_yards</th>\n",
       "      <th>pass_yards_against</th>\n",
       "      <th>run_yards</th>\n",
       "      <th>run_yards_against</th>\n",
       "      <th>win</th>\n",
       "      <th>pass_run_ratio</th>\n",
       "      <th>yard_diff</th>\n",
       "      <th>to_diff</th>\n",
       "      <th>fg_rate</th>\n",
       "      <th>fg_rate_against</th>\n",
       "      <th>pass_yds_per_at</th>\n",
       "      <th>run_yds_per_at</th>\n",
       "      <th>pass_yds_per_at_against</th>\n",
       "      <th>run_yds_per_at_against</th>\n",
       "      <th>year</th>\n",
       "      <th>binned</th>\n",
       "    </tr>\n",
       "  </thead>\n",
       "  <tbody>\n",
       "    <tr>\n",
       "      <td>0</td>\n",
       "      <td>2015091000</td>\n",
       "      <td>NE</td>\n",
       "      <td>PIT</td>\n",
       "      <td>28</td>\n",
       "      <td>21</td>\n",
       "      <td>366.0</td>\n",
       "      <td>429.0</td>\n",
       "      <td>23.0</td>\n",
       "      <td>25.0</td>\n",
       "      <td>34.0</td>\n",
       "      <td>42.0</td>\n",
       "      <td>1.0</td>\n",
       "      <td>2.0</td>\n",
       "      <td>0.0</td>\n",
       "      <td>0.0</td>\n",
       "      <td>4.0</td>\n",
       "      <td>4.0</td>\n",
       "      <td>281.0</td>\n",
       "      <td>332.0</td>\n",
       "      <td>82.0</td>\n",
       "      <td>134.0</td>\n",
       "      <td>1.0</td>\n",
       "      <td>1.48</td>\n",
       "      <td>-63.0</td>\n",
       "      <td>1.0</td>\n",
       "      <td>0.5</td>\n",
       "      <td>1.0</td>\n",
       "      <td>8.264706</td>\n",
       "      <td>3.565217</td>\n",
       "      <td>7.904762</td>\n",
       "      <td>5.360000</td>\n",
       "      <td>2015</td>\n",
       "      <td>10+ Wins</td>\n",
       "    </tr>\n",
       "    <tr>\n",
       "      <td>1</td>\n",
       "      <td>2015091300</td>\n",
       "      <td>CHI</td>\n",
       "      <td>GB</td>\n",
       "      <td>23</td>\n",
       "      <td>31</td>\n",
       "      <td>416.0</td>\n",
       "      <td>336.0</td>\n",
       "      <td>33.0</td>\n",
       "      <td>28.0</td>\n",
       "      <td>36.0</td>\n",
       "      <td>23.0</td>\n",
       "      <td>1.0</td>\n",
       "      <td>0.0</td>\n",
       "      <td>3.0</td>\n",
       "      <td>3.0</td>\n",
       "      <td>1.0</td>\n",
       "      <td>1.0</td>\n",
       "      <td>213.0</td>\n",
       "      <td>189.0</td>\n",
       "      <td>189.0</td>\n",
       "      <td>134.0</td>\n",
       "      <td>0.0</td>\n",
       "      <td>1.09</td>\n",
       "      <td>80.0</td>\n",
       "      <td>-1.0</td>\n",
       "      <td>1.0</td>\n",
       "      <td>1.0</td>\n",
       "      <td>5.916667</td>\n",
       "      <td>5.727273</td>\n",
       "      <td>8.217391</td>\n",
       "      <td>4.785714</td>\n",
       "      <td>2015</td>\n",
       "      <td>5 or Less</td>\n",
       "    </tr>\n",
       "    <tr>\n",
       "      <td>2</td>\n",
       "      <td>2015091301</td>\n",
       "      <td>LA</td>\n",
       "      <td>SEA</td>\n",
       "      <td>33</td>\n",
       "      <td>29</td>\n",
       "      <td>354.0</td>\n",
       "      <td>338.0</td>\n",
       "      <td>26.0</td>\n",
       "      <td>32.0</td>\n",
       "      <td>29.0</td>\n",
       "      <td>47.0</td>\n",
       "      <td>3.0</td>\n",
       "      <td>1.0</td>\n",
       "      <td>2.0</td>\n",
       "      <td>2.0</td>\n",
       "      <td>3.0</td>\n",
       "      <td>3.0</td>\n",
       "      <td>276.0</td>\n",
       "      <td>219.0</td>\n",
       "      <td>76.0</td>\n",
       "      <td>127.0</td>\n",
       "      <td>1.0</td>\n",
       "      <td>1.12</td>\n",
       "      <td>16.0</td>\n",
       "      <td>-2.0</td>\n",
       "      <td>1.0</td>\n",
       "      <td>1.0</td>\n",
       "      <td>9.517241</td>\n",
       "      <td>2.923077</td>\n",
       "      <td>4.659574</td>\n",
       "      <td>3.968750</td>\n",
       "      <td>2015</td>\n",
       "      <td>5 or Less</td>\n",
       "    </tr>\n",
       "    <tr>\n",
       "      <td>3</td>\n",
       "      <td>2015091302</td>\n",
       "      <td>JAX</td>\n",
       "      <td>CAR</td>\n",
       "      <td>9</td>\n",
       "      <td>19</td>\n",
       "      <td>255.0</td>\n",
       "      <td>253.0</td>\n",
       "      <td>21.0</td>\n",
       "      <td>33.0</td>\n",
       "      <td>44.0</td>\n",
       "      <td>33.0</td>\n",
       "      <td>4.0</td>\n",
       "      <td>1.0</td>\n",
       "      <td>2.0</td>\n",
       "      <td>2.0</td>\n",
       "      <td>4.0</td>\n",
       "      <td>4.0</td>\n",
       "      <td>169.0</td>\n",
       "      <td>158.0</td>\n",
       "      <td>96.0</td>\n",
       "      <td>107.0</td>\n",
       "      <td>0.0</td>\n",
       "      <td>2.10</td>\n",
       "      <td>2.0</td>\n",
       "      <td>-3.0</td>\n",
       "      <td>1.0</td>\n",
       "      <td>1.0</td>\n",
       "      <td>3.840909</td>\n",
       "      <td>4.571429</td>\n",
       "      <td>4.787879</td>\n",
       "      <td>3.242424</td>\n",
       "      <td>2015</td>\n",
       "      <td>5 or Less</td>\n",
       "    </tr>\n",
       "    <tr>\n",
       "      <td>4</td>\n",
       "      <td>2015091303</td>\n",
       "      <td>WAS</td>\n",
       "      <td>MIA</td>\n",
       "      <td>10</td>\n",
       "      <td>16</td>\n",
       "      <td>290.0</td>\n",
       "      <td>264.0</td>\n",
       "      <td>36.0</td>\n",
       "      <td>17.0</td>\n",
       "      <td>32.0</td>\n",
       "      <td>37.0</td>\n",
       "      <td>4.0</td>\n",
       "      <td>2.0</td>\n",
       "      <td>2.0</td>\n",
       "      <td>2.0</td>\n",
       "      <td>1.0</td>\n",
       "      <td>1.0</td>\n",
       "      <td>188.0</td>\n",
       "      <td>182.0</td>\n",
       "      <td>162.0</td>\n",
       "      <td>75.0</td>\n",
       "      <td>0.0</td>\n",
       "      <td>0.89</td>\n",
       "      <td>26.0</td>\n",
       "      <td>-2.0</td>\n",
       "      <td>1.0</td>\n",
       "      <td>1.0</td>\n",
       "      <td>5.875000</td>\n",
       "      <td>4.500000</td>\n",
       "      <td>4.918919</td>\n",
       "      <td>4.411765</td>\n",
       "      <td>2015</td>\n",
       "      <td>Between 6 and 9</td>\n",
       "    </tr>\n",
       "  </tbody>\n",
       "</table>\n",
       "</div>"
      ],
      "text/plain": [
       "      game_id Team team_against  score  score_against  yards  yards_against  \\\n",
       "0  2015091000   NE          PIT     28             21  366.0          429.0   \n",
       "1  2015091300  CHI           GB     23             31  416.0          336.0   \n",
       "2  2015091301   LA          SEA     33             29  354.0          338.0   \n",
       "3  2015091302  JAX          CAR      9             19  255.0          253.0   \n",
       "4  2015091303  WAS          MIA     10             16  290.0          264.0   \n",
       "\n",
       "   run_plays  run_plays_against  pass_plays  pass_plays_against  to_for  \\\n",
       "0       23.0               25.0        34.0                42.0     1.0   \n",
       "1       33.0               28.0        36.0                23.0     1.0   \n",
       "2       26.0               32.0        29.0                47.0     3.0   \n",
       "3       21.0               33.0        44.0                33.0     4.0   \n",
       "4       36.0               17.0        32.0                37.0     4.0   \n",
       "\n",
       "   to_against  fg_at  fg_md  fg_at_against  fg_md_against  pass_yards  \\\n",
       "0         2.0    0.0    0.0            4.0            4.0       281.0   \n",
       "1         0.0    3.0    3.0            1.0            1.0       213.0   \n",
       "2         1.0    2.0    2.0            3.0            3.0       276.0   \n",
       "3         1.0    2.0    2.0            4.0            4.0       169.0   \n",
       "4         2.0    2.0    2.0            1.0            1.0       188.0   \n",
       "\n",
       "   pass_yards_against  run_yards  run_yards_against  win  pass_run_ratio  \\\n",
       "0               332.0       82.0              134.0  1.0            1.48   \n",
       "1               189.0      189.0              134.0  0.0            1.09   \n",
       "2               219.0       76.0              127.0  1.0            1.12   \n",
       "3               158.0       96.0              107.0  0.0            2.10   \n",
       "4               182.0      162.0               75.0  0.0            0.89   \n",
       "\n",
       "   yard_diff  to_diff  fg_rate  fg_rate_against  pass_yds_per_at  \\\n",
       "0      -63.0      1.0      0.5              1.0         8.264706   \n",
       "1       80.0     -1.0      1.0              1.0         5.916667   \n",
       "2       16.0     -2.0      1.0              1.0         9.517241   \n",
       "3        2.0     -3.0      1.0              1.0         3.840909   \n",
       "4       26.0     -2.0      1.0              1.0         5.875000   \n",
       "\n",
       "   run_yds_per_at  pass_yds_per_at_against  run_yds_per_at_against  year  \\\n",
       "0        3.565217                 7.904762                5.360000  2015   \n",
       "1        5.727273                 8.217391                4.785714  2015   \n",
       "2        2.923077                 4.659574                3.968750  2015   \n",
       "3        4.571429                 4.787879                3.242424  2015   \n",
       "4        4.500000                 4.918919                4.411765  2015   \n",
       "\n",
       "            binned  \n",
       "0         10+ Wins  \n",
       "1        5 or Less  \n",
       "2        5 or Less  \n",
       "3        5 or Less  \n",
       "4  Between 6 and 9  "
      ]
     },
     "execution_count": 54,
     "metadata": {},
     "output_type": "execute_result"
    }
   ],
   "source": [
    "nfl_end_of_game = pd.read_csv('nfl_end_of_game.csv',index_col=0)\n",
    "nfl_end_of_game.head()"
   ]
  },
  {
   "cell_type": "code",
   "execution_count": 55,
   "metadata": {},
   "outputs": [
    {
     "data": {
      "text/plain": [
       "Index(['game_id', 'Team', 'team_against', 'score', 'score_against', 'yards',\n",
       "       'yards_against', 'run_plays', 'run_plays_against', 'pass_plays',\n",
       "       'pass_plays_against', 'to_for', 'to_against', 'fg_at', 'fg_md',\n",
       "       'fg_at_against', 'fg_md_against', 'pass_yards', 'pass_yards_against',\n",
       "       'run_yards', 'run_yards_against', 'win', 'pass_run_ratio', 'yard_diff',\n",
       "       'to_diff', 'fg_rate', 'fg_rate_against', 'pass_yds_per_at',\n",
       "       'run_yds_per_at', 'pass_yds_per_at_against', 'run_yds_per_at_against',\n",
       "       'year', 'binned'],\n",
       "      dtype='object')"
      ]
     },
     "execution_count": 55,
     "metadata": {},
     "output_type": "execute_result"
    }
   ],
   "source": [
    "nfl_end_of_game.columns"
   ]
  },
  {
   "cell_type": "code",
   "execution_count": 56,
   "metadata": {},
   "outputs": [],
   "source": [
    "# Adding numeric win group to allow for correlation\n",
    "win_dict = {'36+ Wins':2,'35 or Less':1,'24 or Less':0}\n",
    "nfl_end_of_game['win_group_num'] = nfl_end_of_game['binned'].map(win_dict)"
   ]
  },
  {
   "cell_type": "code",
   "execution_count": 57,
   "metadata": {},
   "outputs": [],
   "source": [
    "corr_cols = ['yards','yards_against', 'run_plays', 'run_plays_against', 'pass_plays',\\\n",
    "       'pass_plays_against','yard_diff','to_for', 'to_against', 'to_diff','fg_rate',\\\n",
    "        'fg_rate_against','pass_yds_per_at','pass_run_ratio','run_yds_per_at', \n",
    "             'pass_yds_per_at_against', 'run_yds_per_at_against']"
   ]
  },
  {
   "cell_type": "code",
   "execution_count": 58,
   "metadata": {},
   "outputs": [],
   "source": [
    "corr_df = nfl_end_of_game[corr_cols].apply(lambda x: x.corr(nfl_end_of_game.win)).sort_values(kind=\"quicksort\")"
   ]
  },
  {
   "cell_type": "code",
   "execution_count": 59,
   "metadata": {},
   "outputs": [
    {
     "data": {
      "application/vnd.plotly.v1+json": {
       "config": {
        "plotlyServerURL": "https://plot.ly"
       },
       "data": [
        {
         "name": "Corr",
         "type": "bar",
         "x": [
          "pass_run_ratio",
          "run_plays_against",
          "to_for",
          "pass_yds_per_at_against",
          "pass_plays",
          "yards_against",
          "fg_rate_against",
          "run_yds_per_at_against",
          "run_yds_per_at",
          "fg_rate",
          "yards",
          "pass_plays_against",
          "pass_yds_per_at",
          "yard_diff",
          "to_against",
          "run_plays",
          "to_diff"
         ],
         "y": [
          -0.47892151619680123,
          -0.4668522670505419,
          -0.4506379191754777,
          -0.39583055392500527,
          -0.3455872945169473,
          -0.30404685125324005,
          -0.12868650747106855,
          -0.09850268621501217,
          0.10222682259277668,
          0.1262202052114816,
          0.30322550873879256,
          0.3406619570025857,
          0.39993102510829076,
          0.43976366596319844,
          0.4489196605059513,
          0.46142470513434203,
          0.5792325140897664
         ]
        }
       ],
       "layout": {
        "template": {
         "data": {
          "bar": [
           {
            "error_x": {
             "color": "#2a3f5f"
            },
            "error_y": {
             "color": "#2a3f5f"
            },
            "marker": {
             "line": {
              "color": "#E5ECF6",
              "width": 0.5
             }
            },
            "type": "bar"
           }
          ],
          "barpolar": [
           {
            "marker": {
             "line": {
              "color": "#E5ECF6",
              "width": 0.5
             }
            },
            "type": "barpolar"
           }
          ],
          "carpet": [
           {
            "aaxis": {
             "endlinecolor": "#2a3f5f",
             "gridcolor": "white",
             "linecolor": "white",
             "minorgridcolor": "white",
             "startlinecolor": "#2a3f5f"
            },
            "baxis": {
             "endlinecolor": "#2a3f5f",
             "gridcolor": "white",
             "linecolor": "white",
             "minorgridcolor": "white",
             "startlinecolor": "#2a3f5f"
            },
            "type": "carpet"
           }
          ],
          "choropleth": [
           {
            "colorbar": {
             "outlinewidth": 0,
             "ticks": ""
            },
            "type": "choropleth"
           }
          ],
          "contour": [
           {
            "colorbar": {
             "outlinewidth": 0,
             "ticks": ""
            },
            "colorscale": [
             [
              0,
              "#0d0887"
             ],
             [
              0.1111111111111111,
              "#46039f"
             ],
             [
              0.2222222222222222,
              "#7201a8"
             ],
             [
              0.3333333333333333,
              "#9c179e"
             ],
             [
              0.4444444444444444,
              "#bd3786"
             ],
             [
              0.5555555555555556,
              "#d8576b"
             ],
             [
              0.6666666666666666,
              "#ed7953"
             ],
             [
              0.7777777777777778,
              "#fb9f3a"
             ],
             [
              0.8888888888888888,
              "#fdca26"
             ],
             [
              1,
              "#f0f921"
             ]
            ],
            "type": "contour"
           }
          ],
          "contourcarpet": [
           {
            "colorbar": {
             "outlinewidth": 0,
             "ticks": ""
            },
            "type": "contourcarpet"
           }
          ],
          "heatmap": [
           {
            "colorbar": {
             "outlinewidth": 0,
             "ticks": ""
            },
            "colorscale": [
             [
              0,
              "#0d0887"
             ],
             [
              0.1111111111111111,
              "#46039f"
             ],
             [
              0.2222222222222222,
              "#7201a8"
             ],
             [
              0.3333333333333333,
              "#9c179e"
             ],
             [
              0.4444444444444444,
              "#bd3786"
             ],
             [
              0.5555555555555556,
              "#d8576b"
             ],
             [
              0.6666666666666666,
              "#ed7953"
             ],
             [
              0.7777777777777778,
              "#fb9f3a"
             ],
             [
              0.8888888888888888,
              "#fdca26"
             ],
             [
              1,
              "#f0f921"
             ]
            ],
            "type": "heatmap"
           }
          ],
          "heatmapgl": [
           {
            "colorbar": {
             "outlinewidth": 0,
             "ticks": ""
            },
            "colorscale": [
             [
              0,
              "#0d0887"
             ],
             [
              0.1111111111111111,
              "#46039f"
             ],
             [
              0.2222222222222222,
              "#7201a8"
             ],
             [
              0.3333333333333333,
              "#9c179e"
             ],
             [
              0.4444444444444444,
              "#bd3786"
             ],
             [
              0.5555555555555556,
              "#d8576b"
             ],
             [
              0.6666666666666666,
              "#ed7953"
             ],
             [
              0.7777777777777778,
              "#fb9f3a"
             ],
             [
              0.8888888888888888,
              "#fdca26"
             ],
             [
              1,
              "#f0f921"
             ]
            ],
            "type": "heatmapgl"
           }
          ],
          "histogram": [
           {
            "marker": {
             "colorbar": {
              "outlinewidth": 0,
              "ticks": ""
             }
            },
            "type": "histogram"
           }
          ],
          "histogram2d": [
           {
            "colorbar": {
             "outlinewidth": 0,
             "ticks": ""
            },
            "colorscale": [
             [
              0,
              "#0d0887"
             ],
             [
              0.1111111111111111,
              "#46039f"
             ],
             [
              0.2222222222222222,
              "#7201a8"
             ],
             [
              0.3333333333333333,
              "#9c179e"
             ],
             [
              0.4444444444444444,
              "#bd3786"
             ],
             [
              0.5555555555555556,
              "#d8576b"
             ],
             [
              0.6666666666666666,
              "#ed7953"
             ],
             [
              0.7777777777777778,
              "#fb9f3a"
             ],
             [
              0.8888888888888888,
              "#fdca26"
             ],
             [
              1,
              "#f0f921"
             ]
            ],
            "type": "histogram2d"
           }
          ],
          "histogram2dcontour": [
           {
            "colorbar": {
             "outlinewidth": 0,
             "ticks": ""
            },
            "colorscale": [
             [
              0,
              "#0d0887"
             ],
             [
              0.1111111111111111,
              "#46039f"
             ],
             [
              0.2222222222222222,
              "#7201a8"
             ],
             [
              0.3333333333333333,
              "#9c179e"
             ],
             [
              0.4444444444444444,
              "#bd3786"
             ],
             [
              0.5555555555555556,
              "#d8576b"
             ],
             [
              0.6666666666666666,
              "#ed7953"
             ],
             [
              0.7777777777777778,
              "#fb9f3a"
             ],
             [
              0.8888888888888888,
              "#fdca26"
             ],
             [
              1,
              "#f0f921"
             ]
            ],
            "type": "histogram2dcontour"
           }
          ],
          "mesh3d": [
           {
            "colorbar": {
             "outlinewidth": 0,
             "ticks": ""
            },
            "type": "mesh3d"
           }
          ],
          "parcoords": [
           {
            "line": {
             "colorbar": {
              "outlinewidth": 0,
              "ticks": ""
             }
            },
            "type": "parcoords"
           }
          ],
          "pie": [
           {
            "automargin": true,
            "type": "pie"
           }
          ],
          "scatter": [
           {
            "marker": {
             "colorbar": {
              "outlinewidth": 0,
              "ticks": ""
             }
            },
            "type": "scatter"
           }
          ],
          "scatter3d": [
           {
            "line": {
             "colorbar": {
              "outlinewidth": 0,
              "ticks": ""
             }
            },
            "marker": {
             "colorbar": {
              "outlinewidth": 0,
              "ticks": ""
             }
            },
            "type": "scatter3d"
           }
          ],
          "scattercarpet": [
           {
            "marker": {
             "colorbar": {
              "outlinewidth": 0,
              "ticks": ""
             }
            },
            "type": "scattercarpet"
           }
          ],
          "scattergeo": [
           {
            "marker": {
             "colorbar": {
              "outlinewidth": 0,
              "ticks": ""
             }
            },
            "type": "scattergeo"
           }
          ],
          "scattergl": [
           {
            "marker": {
             "colorbar": {
              "outlinewidth": 0,
              "ticks": ""
             }
            },
            "type": "scattergl"
           }
          ],
          "scattermapbox": [
           {
            "marker": {
             "colorbar": {
              "outlinewidth": 0,
              "ticks": ""
             }
            },
            "type": "scattermapbox"
           }
          ],
          "scatterpolar": [
           {
            "marker": {
             "colorbar": {
              "outlinewidth": 0,
              "ticks": ""
             }
            },
            "type": "scatterpolar"
           }
          ],
          "scatterpolargl": [
           {
            "marker": {
             "colorbar": {
              "outlinewidth": 0,
              "ticks": ""
             }
            },
            "type": "scatterpolargl"
           }
          ],
          "scatterternary": [
           {
            "marker": {
             "colorbar": {
              "outlinewidth": 0,
              "ticks": ""
             }
            },
            "type": "scatterternary"
           }
          ],
          "surface": [
           {
            "colorbar": {
             "outlinewidth": 0,
             "ticks": ""
            },
            "colorscale": [
             [
              0,
              "#0d0887"
             ],
             [
              0.1111111111111111,
              "#46039f"
             ],
             [
              0.2222222222222222,
              "#7201a8"
             ],
             [
              0.3333333333333333,
              "#9c179e"
             ],
             [
              0.4444444444444444,
              "#bd3786"
             ],
             [
              0.5555555555555556,
              "#d8576b"
             ],
             [
              0.6666666666666666,
              "#ed7953"
             ],
             [
              0.7777777777777778,
              "#fb9f3a"
             ],
             [
              0.8888888888888888,
              "#fdca26"
             ],
             [
              1,
              "#f0f921"
             ]
            ],
            "type": "surface"
           }
          ],
          "table": [
           {
            "cells": {
             "fill": {
              "color": "#EBF0F8"
             },
             "line": {
              "color": "white"
             }
            },
            "header": {
             "fill": {
              "color": "#C8D4E3"
             },
             "line": {
              "color": "white"
             }
            },
            "type": "table"
           }
          ]
         },
         "layout": {
          "annotationdefaults": {
           "arrowcolor": "#2a3f5f",
           "arrowhead": 0,
           "arrowwidth": 1
          },
          "coloraxis": {
           "colorbar": {
            "outlinewidth": 0,
            "ticks": ""
           }
          },
          "colorscale": {
           "diverging": [
            [
             0,
             "#8e0152"
            ],
            [
             0.1,
             "#c51b7d"
            ],
            [
             0.2,
             "#de77ae"
            ],
            [
             0.3,
             "#f1b6da"
            ],
            [
             0.4,
             "#fde0ef"
            ],
            [
             0.5,
             "#f7f7f7"
            ],
            [
             0.6,
             "#e6f5d0"
            ],
            [
             0.7,
             "#b8e186"
            ],
            [
             0.8,
             "#7fbc41"
            ],
            [
             0.9,
             "#4d9221"
            ],
            [
             1,
             "#276419"
            ]
           ],
           "sequential": [
            [
             0,
             "#0d0887"
            ],
            [
             0.1111111111111111,
             "#46039f"
            ],
            [
             0.2222222222222222,
             "#7201a8"
            ],
            [
             0.3333333333333333,
             "#9c179e"
            ],
            [
             0.4444444444444444,
             "#bd3786"
            ],
            [
             0.5555555555555556,
             "#d8576b"
            ],
            [
             0.6666666666666666,
             "#ed7953"
            ],
            [
             0.7777777777777778,
             "#fb9f3a"
            ],
            [
             0.8888888888888888,
             "#fdca26"
            ],
            [
             1,
             "#f0f921"
            ]
           ],
           "sequentialminus": [
            [
             0,
             "#0d0887"
            ],
            [
             0.1111111111111111,
             "#46039f"
            ],
            [
             0.2222222222222222,
             "#7201a8"
            ],
            [
             0.3333333333333333,
             "#9c179e"
            ],
            [
             0.4444444444444444,
             "#bd3786"
            ],
            [
             0.5555555555555556,
             "#d8576b"
            ],
            [
             0.6666666666666666,
             "#ed7953"
            ],
            [
             0.7777777777777778,
             "#fb9f3a"
            ],
            [
             0.8888888888888888,
             "#fdca26"
            ],
            [
             1,
             "#f0f921"
            ]
           ]
          },
          "colorway": [
           "#636efa",
           "#EF553B",
           "#00cc96",
           "#ab63fa",
           "#FFA15A",
           "#19d3f3",
           "#FF6692",
           "#B6E880",
           "#FF97FF",
           "#FECB52"
          ],
          "font": {
           "color": "#2a3f5f"
          },
          "geo": {
           "bgcolor": "white",
           "lakecolor": "white",
           "landcolor": "#E5ECF6",
           "showlakes": true,
           "showland": true,
           "subunitcolor": "white"
          },
          "hoverlabel": {
           "align": "left"
          },
          "hovermode": "closest",
          "mapbox": {
           "style": "light"
          },
          "paper_bgcolor": "white",
          "plot_bgcolor": "#E5ECF6",
          "polar": {
           "angularaxis": {
            "gridcolor": "white",
            "linecolor": "white",
            "ticks": ""
           },
           "bgcolor": "#E5ECF6",
           "radialaxis": {
            "gridcolor": "white",
            "linecolor": "white",
            "ticks": ""
           }
          },
          "scene": {
           "xaxis": {
            "backgroundcolor": "#E5ECF6",
            "gridcolor": "white",
            "gridwidth": 2,
            "linecolor": "white",
            "showbackground": true,
            "ticks": "",
            "zerolinecolor": "white"
           },
           "yaxis": {
            "backgroundcolor": "#E5ECF6",
            "gridcolor": "white",
            "gridwidth": 2,
            "linecolor": "white",
            "showbackground": true,
            "ticks": "",
            "zerolinecolor": "white"
           },
           "zaxis": {
            "backgroundcolor": "#E5ECF6",
            "gridcolor": "white",
            "gridwidth": 2,
            "linecolor": "white",
            "showbackground": true,
            "ticks": "",
            "zerolinecolor": "white"
           }
          },
          "shapedefaults": {
           "line": {
            "color": "#2a3f5f"
           }
          },
          "ternary": {
           "aaxis": {
            "gridcolor": "white",
            "linecolor": "white",
            "ticks": ""
           },
           "baxis": {
            "gridcolor": "white",
            "linecolor": "white",
            "ticks": ""
           },
           "bgcolor": "#E5ECF6",
           "caxis": {
            "gridcolor": "white",
            "linecolor": "white",
            "ticks": ""
           }
          },
          "title": {
           "x": 0.05
          },
          "xaxis": {
           "automargin": true,
           "gridcolor": "white",
           "linecolor": "white",
           "ticks": "",
           "title": {
            "standoff": 15
           },
           "zerolinecolor": "white",
           "zerolinewidth": 2
          },
          "yaxis": {
           "automargin": true,
           "gridcolor": "white",
           "linecolor": "white",
           "ticks": "",
           "title": {
            "standoff": 15
           },
           "zerolinecolor": "white",
           "zerolinewidth": 2
          }
         }
        },
        "title": {
         "text": "<b>Variables by Win Correlation</b><br>(Based on Individual Game Results)",
         "x": 0.5,
         "xanchor": "center",
         "y": 0.95,
         "yanchor": "top"
        }
       }
      },
      "text/html": [
       "<div>\n",
       "        \n",
       "        \n",
       "            <div id=\"e9ac308a-d586-4356-8cd4-1e363fd8ef4e\" class=\"plotly-graph-div\" style=\"height:525px; width:100%;\"></div>\n",
       "            <script type=\"text/javascript\">\n",
       "                require([\"plotly\"], function(Plotly) {\n",
       "                    window.PLOTLYENV=window.PLOTLYENV || {};\n",
       "                    \n",
       "                if (document.getElementById(\"e9ac308a-d586-4356-8cd4-1e363fd8ef4e\")) {\n",
       "                    Plotly.newPlot(\n",
       "                        'e9ac308a-d586-4356-8cd4-1e363fd8ef4e',\n",
       "                        [{\"name\": \"Corr\", \"type\": \"bar\", \"x\": [\"pass_run_ratio\", \"run_plays_against\", \"to_for\", \"pass_yds_per_at_against\", \"pass_plays\", \"yards_against\", \"fg_rate_against\", \"run_yds_per_at_against\", \"run_yds_per_at\", \"fg_rate\", \"yards\", \"pass_plays_against\", \"pass_yds_per_at\", \"yard_diff\", \"to_against\", \"run_plays\", \"to_diff\"], \"y\": [-0.47892151619680123, -0.4668522670505419, -0.4506379191754777, -0.39583055392500527, -0.3455872945169473, -0.30404685125324005, -0.12868650747106855, -0.09850268621501217, 0.10222682259277668, 0.1262202052114816, 0.30322550873879256, 0.3406619570025857, 0.39993102510829076, 0.43976366596319844, 0.4489196605059513, 0.46142470513434203, 0.5792325140897664]}],\n",
       "                        {\"template\": {\"data\": {\"bar\": [{\"error_x\": {\"color\": \"#2a3f5f\"}, \"error_y\": {\"color\": \"#2a3f5f\"}, \"marker\": {\"line\": {\"color\": \"#E5ECF6\", \"width\": 0.5}}, \"type\": \"bar\"}], \"barpolar\": [{\"marker\": {\"line\": {\"color\": \"#E5ECF6\", \"width\": 0.5}}, \"type\": \"barpolar\"}], \"carpet\": [{\"aaxis\": {\"endlinecolor\": \"#2a3f5f\", \"gridcolor\": \"white\", \"linecolor\": \"white\", \"minorgridcolor\": \"white\", \"startlinecolor\": \"#2a3f5f\"}, \"baxis\": {\"endlinecolor\": \"#2a3f5f\", \"gridcolor\": \"white\", \"linecolor\": \"white\", \"minorgridcolor\": \"white\", \"startlinecolor\": \"#2a3f5f\"}, \"type\": \"carpet\"}], \"choropleth\": [{\"colorbar\": {\"outlinewidth\": 0, \"ticks\": \"\"}, \"type\": \"choropleth\"}], \"contour\": [{\"colorbar\": {\"outlinewidth\": 0, \"ticks\": \"\"}, \"colorscale\": [[0.0, \"#0d0887\"], [0.1111111111111111, \"#46039f\"], [0.2222222222222222, \"#7201a8\"], [0.3333333333333333, \"#9c179e\"], [0.4444444444444444, \"#bd3786\"], [0.5555555555555556, \"#d8576b\"], [0.6666666666666666, \"#ed7953\"], [0.7777777777777778, \"#fb9f3a\"], [0.8888888888888888, \"#fdca26\"], [1.0, \"#f0f921\"]], \"type\": \"contour\"}], \"contourcarpet\": [{\"colorbar\": {\"outlinewidth\": 0, \"ticks\": \"\"}, \"type\": \"contourcarpet\"}], \"heatmap\": [{\"colorbar\": {\"outlinewidth\": 0, \"ticks\": \"\"}, \"colorscale\": [[0.0, \"#0d0887\"], [0.1111111111111111, \"#46039f\"], [0.2222222222222222, \"#7201a8\"], [0.3333333333333333, \"#9c179e\"], [0.4444444444444444, \"#bd3786\"], [0.5555555555555556, \"#d8576b\"], [0.6666666666666666, \"#ed7953\"], [0.7777777777777778, \"#fb9f3a\"], [0.8888888888888888, \"#fdca26\"], [1.0, \"#f0f921\"]], \"type\": \"heatmap\"}], \"heatmapgl\": [{\"colorbar\": {\"outlinewidth\": 0, \"ticks\": \"\"}, \"colorscale\": [[0.0, \"#0d0887\"], [0.1111111111111111, \"#46039f\"], [0.2222222222222222, \"#7201a8\"], [0.3333333333333333, \"#9c179e\"], [0.4444444444444444, \"#bd3786\"], [0.5555555555555556, \"#d8576b\"], [0.6666666666666666, \"#ed7953\"], [0.7777777777777778, \"#fb9f3a\"], [0.8888888888888888, \"#fdca26\"], [1.0, \"#f0f921\"]], \"type\": \"heatmapgl\"}], \"histogram\": [{\"marker\": {\"colorbar\": {\"outlinewidth\": 0, \"ticks\": \"\"}}, \"type\": \"histogram\"}], \"histogram2d\": [{\"colorbar\": {\"outlinewidth\": 0, \"ticks\": \"\"}, \"colorscale\": [[0.0, \"#0d0887\"], [0.1111111111111111, \"#46039f\"], [0.2222222222222222, \"#7201a8\"], [0.3333333333333333, \"#9c179e\"], [0.4444444444444444, \"#bd3786\"], [0.5555555555555556, \"#d8576b\"], [0.6666666666666666, \"#ed7953\"], [0.7777777777777778, \"#fb9f3a\"], [0.8888888888888888, \"#fdca26\"], [1.0, \"#f0f921\"]], \"type\": \"histogram2d\"}], \"histogram2dcontour\": [{\"colorbar\": {\"outlinewidth\": 0, \"ticks\": \"\"}, \"colorscale\": [[0.0, \"#0d0887\"], [0.1111111111111111, \"#46039f\"], [0.2222222222222222, \"#7201a8\"], [0.3333333333333333, \"#9c179e\"], [0.4444444444444444, \"#bd3786\"], [0.5555555555555556, \"#d8576b\"], [0.6666666666666666, \"#ed7953\"], [0.7777777777777778, \"#fb9f3a\"], [0.8888888888888888, \"#fdca26\"], [1.0, \"#f0f921\"]], \"type\": \"histogram2dcontour\"}], \"mesh3d\": [{\"colorbar\": {\"outlinewidth\": 0, \"ticks\": \"\"}, \"type\": \"mesh3d\"}], \"parcoords\": [{\"line\": {\"colorbar\": {\"outlinewidth\": 0, \"ticks\": \"\"}}, \"type\": \"parcoords\"}], \"pie\": [{\"automargin\": true, \"type\": \"pie\"}], \"scatter\": [{\"marker\": {\"colorbar\": {\"outlinewidth\": 0, \"ticks\": \"\"}}, \"type\": \"scatter\"}], \"scatter3d\": [{\"line\": {\"colorbar\": {\"outlinewidth\": 0, \"ticks\": \"\"}}, \"marker\": {\"colorbar\": {\"outlinewidth\": 0, \"ticks\": \"\"}}, \"type\": \"scatter3d\"}], \"scattercarpet\": [{\"marker\": {\"colorbar\": {\"outlinewidth\": 0, \"ticks\": \"\"}}, \"type\": \"scattercarpet\"}], \"scattergeo\": [{\"marker\": {\"colorbar\": {\"outlinewidth\": 0, \"ticks\": \"\"}}, \"type\": \"scattergeo\"}], \"scattergl\": [{\"marker\": {\"colorbar\": {\"outlinewidth\": 0, \"ticks\": \"\"}}, \"type\": \"scattergl\"}], \"scattermapbox\": [{\"marker\": {\"colorbar\": {\"outlinewidth\": 0, \"ticks\": \"\"}}, \"type\": \"scattermapbox\"}], \"scatterpolar\": [{\"marker\": {\"colorbar\": {\"outlinewidth\": 0, \"ticks\": \"\"}}, \"type\": \"scatterpolar\"}], \"scatterpolargl\": [{\"marker\": {\"colorbar\": {\"outlinewidth\": 0, \"ticks\": \"\"}}, \"type\": \"scatterpolargl\"}], \"scatterternary\": [{\"marker\": {\"colorbar\": {\"outlinewidth\": 0, \"ticks\": \"\"}}, \"type\": \"scatterternary\"}], \"surface\": [{\"colorbar\": {\"outlinewidth\": 0, \"ticks\": \"\"}, \"colorscale\": [[0.0, \"#0d0887\"], [0.1111111111111111, \"#46039f\"], [0.2222222222222222, \"#7201a8\"], [0.3333333333333333, \"#9c179e\"], [0.4444444444444444, \"#bd3786\"], [0.5555555555555556, \"#d8576b\"], [0.6666666666666666, \"#ed7953\"], [0.7777777777777778, \"#fb9f3a\"], [0.8888888888888888, \"#fdca26\"], [1.0, \"#f0f921\"]], \"type\": \"surface\"}], \"table\": [{\"cells\": {\"fill\": {\"color\": \"#EBF0F8\"}, \"line\": {\"color\": \"white\"}}, \"header\": {\"fill\": {\"color\": \"#C8D4E3\"}, \"line\": {\"color\": \"white\"}}, \"type\": \"table\"}]}, \"layout\": {\"annotationdefaults\": {\"arrowcolor\": \"#2a3f5f\", \"arrowhead\": 0, \"arrowwidth\": 1}, \"coloraxis\": {\"colorbar\": {\"outlinewidth\": 0, \"ticks\": \"\"}}, \"colorscale\": {\"diverging\": [[0, \"#8e0152\"], [0.1, \"#c51b7d\"], [0.2, \"#de77ae\"], [0.3, \"#f1b6da\"], [0.4, \"#fde0ef\"], [0.5, \"#f7f7f7\"], [0.6, \"#e6f5d0\"], [0.7, \"#b8e186\"], [0.8, \"#7fbc41\"], [0.9, \"#4d9221\"], [1, \"#276419\"]], \"sequential\": [[0.0, \"#0d0887\"], [0.1111111111111111, \"#46039f\"], [0.2222222222222222, \"#7201a8\"], [0.3333333333333333, \"#9c179e\"], [0.4444444444444444, \"#bd3786\"], [0.5555555555555556, \"#d8576b\"], [0.6666666666666666, \"#ed7953\"], [0.7777777777777778, \"#fb9f3a\"], [0.8888888888888888, \"#fdca26\"], [1.0, \"#f0f921\"]], \"sequentialminus\": [[0.0, \"#0d0887\"], [0.1111111111111111, \"#46039f\"], [0.2222222222222222, \"#7201a8\"], [0.3333333333333333, \"#9c179e\"], [0.4444444444444444, \"#bd3786\"], [0.5555555555555556, \"#d8576b\"], [0.6666666666666666, \"#ed7953\"], [0.7777777777777778, \"#fb9f3a\"], [0.8888888888888888, \"#fdca26\"], [1.0, \"#f0f921\"]]}, \"colorway\": [\"#636efa\", \"#EF553B\", \"#00cc96\", \"#ab63fa\", \"#FFA15A\", \"#19d3f3\", \"#FF6692\", \"#B6E880\", \"#FF97FF\", \"#FECB52\"], \"font\": {\"color\": \"#2a3f5f\"}, \"geo\": {\"bgcolor\": \"white\", \"lakecolor\": \"white\", \"landcolor\": \"#E5ECF6\", \"showlakes\": true, \"showland\": true, \"subunitcolor\": \"white\"}, \"hoverlabel\": {\"align\": \"left\"}, \"hovermode\": \"closest\", \"mapbox\": {\"style\": \"light\"}, \"paper_bgcolor\": \"white\", \"plot_bgcolor\": \"#E5ECF6\", \"polar\": {\"angularaxis\": {\"gridcolor\": \"white\", \"linecolor\": \"white\", \"ticks\": \"\"}, \"bgcolor\": \"#E5ECF6\", \"radialaxis\": {\"gridcolor\": \"white\", \"linecolor\": \"white\", \"ticks\": \"\"}}, \"scene\": {\"xaxis\": {\"backgroundcolor\": \"#E5ECF6\", \"gridcolor\": \"white\", \"gridwidth\": 2, \"linecolor\": \"white\", \"showbackground\": true, \"ticks\": \"\", \"zerolinecolor\": \"white\"}, \"yaxis\": {\"backgroundcolor\": \"#E5ECF6\", \"gridcolor\": \"white\", \"gridwidth\": 2, \"linecolor\": \"white\", \"showbackground\": true, \"ticks\": \"\", \"zerolinecolor\": \"white\"}, \"zaxis\": {\"backgroundcolor\": \"#E5ECF6\", \"gridcolor\": \"white\", \"gridwidth\": 2, \"linecolor\": \"white\", \"showbackground\": true, \"ticks\": \"\", \"zerolinecolor\": \"white\"}}, \"shapedefaults\": {\"line\": {\"color\": \"#2a3f5f\"}}, \"ternary\": {\"aaxis\": {\"gridcolor\": \"white\", \"linecolor\": \"white\", \"ticks\": \"\"}, \"baxis\": {\"gridcolor\": \"white\", \"linecolor\": \"white\", \"ticks\": \"\"}, \"bgcolor\": \"#E5ECF6\", \"caxis\": {\"gridcolor\": \"white\", \"linecolor\": \"white\", \"ticks\": \"\"}}, \"title\": {\"x\": 0.05}, \"xaxis\": {\"automargin\": true, \"gridcolor\": \"white\", \"linecolor\": \"white\", \"ticks\": \"\", \"title\": {\"standoff\": 15}, \"zerolinecolor\": \"white\", \"zerolinewidth\": 2}, \"yaxis\": {\"automargin\": true, \"gridcolor\": \"white\", \"linecolor\": \"white\", \"ticks\": \"\", \"title\": {\"standoff\": 15}, \"zerolinecolor\": \"white\", \"zerolinewidth\": 2}}}, \"title\": {\"text\": \"<b>Variables by Win Correlation</b><br>(Based on Individual Game Results)\", \"x\": 0.5, \"xanchor\": \"center\", \"y\": 0.95, \"yanchor\": \"top\"}},\n",
       "                        {\"responsive\": true}\n",
       "                    ).then(function(){\n",
       "                            \n",
       "var gd = document.getElementById('e9ac308a-d586-4356-8cd4-1e363fd8ef4e');\n",
       "var x = new MutationObserver(function (mutations, observer) {{\n",
       "        var display = window.getComputedStyle(gd).display;\n",
       "        if (!display || display === 'none') {{\n",
       "            console.log([gd, 'removed!']);\n",
       "            Plotly.purge(gd);\n",
       "            observer.disconnect();\n",
       "        }}\n",
       "}});\n",
       "\n",
       "// Listen for the removal of the full notebook cells\n",
       "var notebookContainer = gd.closest('#notebook-container');\n",
       "if (notebookContainer) {{\n",
       "    x.observe(notebookContainer, {childList: true});\n",
       "}}\n",
       "\n",
       "// Listen for the clearing of the current output cell\n",
       "var outputEl = gd.closest('.output');\n",
       "if (outputEl) {{\n",
       "    x.observe(outputEl, {childList: true});\n",
       "}}\n",
       "\n",
       "                        })\n",
       "                };\n",
       "                });\n",
       "            </script>\n",
       "        </div>"
      ]
     },
     "metadata": {},
     "output_type": "display_data"
    }
   ],
   "source": [
    "fig = go.Figure(data=[go.Bar(name='Corr', x = corr_df.index, y = corr_df.values)])\n",
    "\n",
    "layout = go.Layout(\n",
    "    title = 'Variables by Win Correlation',\n",
    "    xaxis= dict(title= 'Variable',ticklen= 1,zeroline= False),\n",
    "    yaxis= dict(title= 'Correlation',ticklen= 5,zeroline= False)\n",
    ")\n",
    "\n",
    "fig.update_layout(\n",
    "    title={\n",
    "        'text':'<b>'+'Variables by Win Correlation'+'</b>'+'<br>(Based on Individual Game Results)',\n",
    "        'y':0.95,\n",
    "        'x':0.5,\n",
    "        'xanchor': 'center',\n",
    "        'yanchor': 'top'})\n",
    "fig"
   ]
  },
  {
   "cell_type": "markdown",
   "metadata": {},
   "source": [
    "As you can imagine, factors such as Total Yards and Yard Differential play a factor in wins, but so does turnovers (TOs), Pass to Run Ratio, and Pass Yards Per Attempt, which may change as weather changes"
   ]
  },
  {
   "cell_type": "markdown",
   "metadata": {},
   "source": [
    "<h2>Keying in on some individual variables</h2>"
   ]
  },
  {
   "cell_type": "code",
   "execution_count": 60,
   "metadata": {},
   "outputs": [],
   "source": [
    "color_dict = {'10+ Wins': 'rgb(215,48,39)', 'Between 6 and 9': 'rgb(253,253,32)','5 or Less': 'rgb(42,55,230)'}\n",
    "color_group = nfl_end_of_game['binned'].map(color_dict)"
   ]
  },
  {
   "cell_type": "code",
   "execution_count": 61,
   "metadata": {},
   "outputs": [
    {
     "data": {
      "text/html": [
       "<div>\n",
       "<style scoped>\n",
       "    .dataframe tbody tr th:only-of-type {\n",
       "        vertical-align: middle;\n",
       "    }\n",
       "\n",
       "    .dataframe tbody tr th {\n",
       "        vertical-align: top;\n",
       "    }\n",
       "\n",
       "    .dataframe thead th {\n",
       "        text-align: right;\n",
       "    }\n",
       "</style>\n",
       "<table border=\"1\" class=\"dataframe\">\n",
       "  <thead>\n",
       "    <tr style=\"text-align: right;\">\n",
       "      <th></th>\n",
       "      <th>game_id</th>\n",
       "      <th>Team</th>\n",
       "      <th>team_against</th>\n",
       "      <th>score</th>\n",
       "      <th>score_against</th>\n",
       "      <th>yards</th>\n",
       "      <th>yards_against</th>\n",
       "      <th>run_plays</th>\n",
       "      <th>run_plays_against</th>\n",
       "      <th>pass_plays</th>\n",
       "      <th>pass_plays_against</th>\n",
       "      <th>to_for</th>\n",
       "      <th>to_against</th>\n",
       "      <th>fg_at</th>\n",
       "      <th>fg_md</th>\n",
       "      <th>fg_at_against</th>\n",
       "      <th>fg_md_against</th>\n",
       "      <th>pass_yards</th>\n",
       "      <th>pass_yards_against</th>\n",
       "      <th>run_yards</th>\n",
       "      <th>run_yards_against</th>\n",
       "      <th>win</th>\n",
       "      <th>pass_run_ratio</th>\n",
       "      <th>yard_diff</th>\n",
       "      <th>to_diff</th>\n",
       "      <th>fg_rate</th>\n",
       "      <th>fg_rate_against</th>\n",
       "      <th>pass_yds_per_at</th>\n",
       "      <th>run_yds_per_at</th>\n",
       "      <th>pass_yds_per_at_against</th>\n",
       "      <th>run_yds_per_at_against</th>\n",
       "      <th>year</th>\n",
       "      <th>binned</th>\n",
       "      <th>win_group_num</th>\n",
       "    </tr>\n",
       "  </thead>\n",
       "  <tbody>\n",
       "    <tr>\n",
       "      <td>0</td>\n",
       "      <td>2015091000</td>\n",
       "      <td>NE</td>\n",
       "      <td>PIT</td>\n",
       "      <td>28</td>\n",
       "      <td>21</td>\n",
       "      <td>366.0</td>\n",
       "      <td>429.0</td>\n",
       "      <td>23.0</td>\n",
       "      <td>25.0</td>\n",
       "      <td>34.0</td>\n",
       "      <td>42.0</td>\n",
       "      <td>1.0</td>\n",
       "      <td>2.0</td>\n",
       "      <td>0.0</td>\n",
       "      <td>0.0</td>\n",
       "      <td>4.0</td>\n",
       "      <td>4.0</td>\n",
       "      <td>281.0</td>\n",
       "      <td>332.0</td>\n",
       "      <td>82.0</td>\n",
       "      <td>134.0</td>\n",
       "      <td>1.0</td>\n",
       "      <td>1.48</td>\n",
       "      <td>-63.0</td>\n",
       "      <td>1.0</td>\n",
       "      <td>0.5</td>\n",
       "      <td>1.0</td>\n",
       "      <td>8.264706</td>\n",
       "      <td>3.565217</td>\n",
       "      <td>7.904762</td>\n",
       "      <td>5.360000</td>\n",
       "      <td>2015</td>\n",
       "      <td>10+ Wins</td>\n",
       "      <td>NaN</td>\n",
       "    </tr>\n",
       "    <tr>\n",
       "      <td>1</td>\n",
       "      <td>2015091300</td>\n",
       "      <td>CHI</td>\n",
       "      <td>GB</td>\n",
       "      <td>23</td>\n",
       "      <td>31</td>\n",
       "      <td>416.0</td>\n",
       "      <td>336.0</td>\n",
       "      <td>33.0</td>\n",
       "      <td>28.0</td>\n",
       "      <td>36.0</td>\n",
       "      <td>23.0</td>\n",
       "      <td>1.0</td>\n",
       "      <td>0.0</td>\n",
       "      <td>3.0</td>\n",
       "      <td>3.0</td>\n",
       "      <td>1.0</td>\n",
       "      <td>1.0</td>\n",
       "      <td>213.0</td>\n",
       "      <td>189.0</td>\n",
       "      <td>189.0</td>\n",
       "      <td>134.0</td>\n",
       "      <td>0.0</td>\n",
       "      <td>1.09</td>\n",
       "      <td>80.0</td>\n",
       "      <td>-1.0</td>\n",
       "      <td>1.0</td>\n",
       "      <td>1.0</td>\n",
       "      <td>5.916667</td>\n",
       "      <td>5.727273</td>\n",
       "      <td>8.217391</td>\n",
       "      <td>4.785714</td>\n",
       "      <td>2015</td>\n",
       "      <td>5 or Less</td>\n",
       "      <td>NaN</td>\n",
       "    </tr>\n",
       "    <tr>\n",
       "      <td>2</td>\n",
       "      <td>2015091301</td>\n",
       "      <td>LA</td>\n",
       "      <td>SEA</td>\n",
       "      <td>33</td>\n",
       "      <td>29</td>\n",
       "      <td>354.0</td>\n",
       "      <td>338.0</td>\n",
       "      <td>26.0</td>\n",
       "      <td>32.0</td>\n",
       "      <td>29.0</td>\n",
       "      <td>47.0</td>\n",
       "      <td>3.0</td>\n",
       "      <td>1.0</td>\n",
       "      <td>2.0</td>\n",
       "      <td>2.0</td>\n",
       "      <td>3.0</td>\n",
       "      <td>3.0</td>\n",
       "      <td>276.0</td>\n",
       "      <td>219.0</td>\n",
       "      <td>76.0</td>\n",
       "      <td>127.0</td>\n",
       "      <td>1.0</td>\n",
       "      <td>1.12</td>\n",
       "      <td>16.0</td>\n",
       "      <td>-2.0</td>\n",
       "      <td>1.0</td>\n",
       "      <td>1.0</td>\n",
       "      <td>9.517241</td>\n",
       "      <td>2.923077</td>\n",
       "      <td>4.659574</td>\n",
       "      <td>3.968750</td>\n",
       "      <td>2015</td>\n",
       "      <td>5 or Less</td>\n",
       "      <td>NaN</td>\n",
       "    </tr>\n",
       "    <tr>\n",
       "      <td>3</td>\n",
       "      <td>2015091302</td>\n",
       "      <td>JAX</td>\n",
       "      <td>CAR</td>\n",
       "      <td>9</td>\n",
       "      <td>19</td>\n",
       "      <td>255.0</td>\n",
       "      <td>253.0</td>\n",
       "      <td>21.0</td>\n",
       "      <td>33.0</td>\n",
       "      <td>44.0</td>\n",
       "      <td>33.0</td>\n",
       "      <td>4.0</td>\n",
       "      <td>1.0</td>\n",
       "      <td>2.0</td>\n",
       "      <td>2.0</td>\n",
       "      <td>4.0</td>\n",
       "      <td>4.0</td>\n",
       "      <td>169.0</td>\n",
       "      <td>158.0</td>\n",
       "      <td>96.0</td>\n",
       "      <td>107.0</td>\n",
       "      <td>0.0</td>\n",
       "      <td>2.10</td>\n",
       "      <td>2.0</td>\n",
       "      <td>-3.0</td>\n",
       "      <td>1.0</td>\n",
       "      <td>1.0</td>\n",
       "      <td>3.840909</td>\n",
       "      <td>4.571429</td>\n",
       "      <td>4.787879</td>\n",
       "      <td>3.242424</td>\n",
       "      <td>2015</td>\n",
       "      <td>5 or Less</td>\n",
       "      <td>NaN</td>\n",
       "    </tr>\n",
       "    <tr>\n",
       "      <td>4</td>\n",
       "      <td>2015091303</td>\n",
       "      <td>WAS</td>\n",
       "      <td>MIA</td>\n",
       "      <td>10</td>\n",
       "      <td>16</td>\n",
       "      <td>290.0</td>\n",
       "      <td>264.0</td>\n",
       "      <td>36.0</td>\n",
       "      <td>17.0</td>\n",
       "      <td>32.0</td>\n",
       "      <td>37.0</td>\n",
       "      <td>4.0</td>\n",
       "      <td>2.0</td>\n",
       "      <td>2.0</td>\n",
       "      <td>2.0</td>\n",
       "      <td>1.0</td>\n",
       "      <td>1.0</td>\n",
       "      <td>188.0</td>\n",
       "      <td>182.0</td>\n",
       "      <td>162.0</td>\n",
       "      <td>75.0</td>\n",
       "      <td>0.0</td>\n",
       "      <td>0.89</td>\n",
       "      <td>26.0</td>\n",
       "      <td>-2.0</td>\n",
       "      <td>1.0</td>\n",
       "      <td>1.0</td>\n",
       "      <td>5.875000</td>\n",
       "      <td>4.500000</td>\n",
       "      <td>4.918919</td>\n",
       "      <td>4.411765</td>\n",
       "      <td>2015</td>\n",
       "      <td>Between 6 and 9</td>\n",
       "      <td>NaN</td>\n",
       "    </tr>\n",
       "  </tbody>\n",
       "</table>\n",
       "</div>"
      ],
      "text/plain": [
       "      game_id Team team_against  score  score_against  yards  yards_against  \\\n",
       "0  2015091000   NE          PIT     28             21  366.0          429.0   \n",
       "1  2015091300  CHI           GB     23             31  416.0          336.0   \n",
       "2  2015091301   LA          SEA     33             29  354.0          338.0   \n",
       "3  2015091302  JAX          CAR      9             19  255.0          253.0   \n",
       "4  2015091303  WAS          MIA     10             16  290.0          264.0   \n",
       "\n",
       "   run_plays  run_plays_against  pass_plays  pass_plays_against  to_for  \\\n",
       "0       23.0               25.0        34.0                42.0     1.0   \n",
       "1       33.0               28.0        36.0                23.0     1.0   \n",
       "2       26.0               32.0        29.0                47.0     3.0   \n",
       "3       21.0               33.0        44.0                33.0     4.0   \n",
       "4       36.0               17.0        32.0                37.0     4.0   \n",
       "\n",
       "   to_against  fg_at  fg_md  fg_at_against  fg_md_against  pass_yards  \\\n",
       "0         2.0    0.0    0.0            4.0            4.0       281.0   \n",
       "1         0.0    3.0    3.0            1.0            1.0       213.0   \n",
       "2         1.0    2.0    2.0            3.0            3.0       276.0   \n",
       "3         1.0    2.0    2.0            4.0            4.0       169.0   \n",
       "4         2.0    2.0    2.0            1.0            1.0       188.0   \n",
       "\n",
       "   pass_yards_against  run_yards  run_yards_against  win  pass_run_ratio  \\\n",
       "0               332.0       82.0              134.0  1.0            1.48   \n",
       "1               189.0      189.0              134.0  0.0            1.09   \n",
       "2               219.0       76.0              127.0  1.0            1.12   \n",
       "3               158.0       96.0              107.0  0.0            2.10   \n",
       "4               182.0      162.0               75.0  0.0            0.89   \n",
       "\n",
       "   yard_diff  to_diff  fg_rate  fg_rate_against  pass_yds_per_at  \\\n",
       "0      -63.0      1.0      0.5              1.0         8.264706   \n",
       "1       80.0     -1.0      1.0              1.0         5.916667   \n",
       "2       16.0     -2.0      1.0              1.0         9.517241   \n",
       "3        2.0     -3.0      1.0              1.0         3.840909   \n",
       "4       26.0     -2.0      1.0              1.0         5.875000   \n",
       "\n",
       "   run_yds_per_at  pass_yds_per_at_against  run_yds_per_at_against  year  \\\n",
       "0        3.565217                 7.904762                5.360000  2015   \n",
       "1        5.727273                 8.217391                4.785714  2015   \n",
       "2        2.923077                 4.659574                3.968750  2015   \n",
       "3        4.571429                 4.787879                3.242424  2015   \n",
       "4        4.500000                 4.918919                4.411765  2015   \n",
       "\n",
       "            binned  win_group_num  \n",
       "0         10+ Wins            NaN  \n",
       "1        5 or Less            NaN  \n",
       "2        5 or Less            NaN  \n",
       "3        5 or Less            NaN  \n",
       "4  Between 6 and 9            NaN  "
      ]
     },
     "execution_count": 61,
     "metadata": {},
     "output_type": "execute_result"
    }
   ],
   "source": [
    "nfl_end_of_game.head()"
   ]
  },
  {
   "cell_type": "code",
   "execution_count": 62,
   "metadata": {},
   "outputs": [
    {
     "data": {
      "text/html": [
       "<div>\n",
       "<style scoped>\n",
       "    .dataframe tbody tr th:only-of-type {\n",
       "        vertical-align: middle;\n",
       "    }\n",
       "\n",
       "    .dataframe tbody tr th {\n",
       "        vertical-align: top;\n",
       "    }\n",
       "\n",
       "    .dataframe thead th {\n",
       "        text-align: right;\n",
       "    }\n",
       "</style>\n",
       "<table border=\"1\" class=\"dataframe\">\n",
       "  <thead>\n",
       "    <tr style=\"text-align: right;\">\n",
       "      <th></th>\n",
       "      <th>pass_run_ratio</th>\n",
       "    </tr>\n",
       "    <tr>\n",
       "      <th>binned</th>\n",
       "      <th></th>\n",
       "    </tr>\n",
       "  </thead>\n",
       "  <tbody>\n",
       "    <tr>\n",
       "      <td>10+ Wins</td>\n",
       "      <td>1.490016</td>\n",
       "    </tr>\n",
       "    <tr>\n",
       "      <td>5 or Less</td>\n",
       "      <td>1.714849</td>\n",
       "    </tr>\n",
       "    <tr>\n",
       "      <td>Between 6 and 9</td>\n",
       "      <td>1.662046</td>\n",
       "    </tr>\n",
       "  </tbody>\n",
       "</table>\n",
       "</div>"
      ],
      "text/plain": [
       "                 pass_run_ratio\n",
       "binned                         \n",
       "10+ Wins               1.490016\n",
       "5 or Less              1.714849\n",
       "Between 6 and 9        1.662046"
      ]
     },
     "execution_count": 62,
     "metadata": {},
     "output_type": "execute_result"
    }
   ],
   "source": [
    "nfl_end_of_game.groupby('binned').agg({'pass_run_ratio':'mean'}).sort_values(by=['binned'])"
   ]
  },
  {
   "cell_type": "code",
   "execution_count": 63,
   "metadata": {},
   "outputs": [],
   "source": [
    "# Create categorical variable and order for binned\n",
    "nfl_end_of_game['binned'] = pd.Categorical(nfl_end_of_game['binned'], \\\n",
    "                                        categories=['5 or Less','Between 6 and 9','10+ Wins'],\\\n",
    "                                        ordered=True)"
   ]
  },
  {
   "cell_type": "code",
   "execution_count": 64,
   "metadata": {},
   "outputs": [
    {
     "data": {
      "application/vnd.plotly.v1+json": {
       "config": {
        "plotlyServerURL": "https://plot.ly"
       },
       "data": [
        {
         "name": "pass to run",
         "type": "bar",
         "x": [
          "5 or Less",
          "Between 6 and 9",
          "10+ Wins"
         ],
         "y": [
          1.714849162011173,
          1.662045929018789,
          1.490016447368421
         ]
        }
       ],
       "layout": {
        "template": {
         "data": {
          "bar": [
           {
            "error_x": {
             "color": "#2a3f5f"
            },
            "error_y": {
             "color": "#2a3f5f"
            },
            "marker": {
             "line": {
              "color": "#E5ECF6",
              "width": 0.5
             }
            },
            "type": "bar"
           }
          ],
          "barpolar": [
           {
            "marker": {
             "line": {
              "color": "#E5ECF6",
              "width": 0.5
             }
            },
            "type": "barpolar"
           }
          ],
          "carpet": [
           {
            "aaxis": {
             "endlinecolor": "#2a3f5f",
             "gridcolor": "white",
             "linecolor": "white",
             "minorgridcolor": "white",
             "startlinecolor": "#2a3f5f"
            },
            "baxis": {
             "endlinecolor": "#2a3f5f",
             "gridcolor": "white",
             "linecolor": "white",
             "minorgridcolor": "white",
             "startlinecolor": "#2a3f5f"
            },
            "type": "carpet"
           }
          ],
          "choropleth": [
           {
            "colorbar": {
             "outlinewidth": 0,
             "ticks": ""
            },
            "type": "choropleth"
           }
          ],
          "contour": [
           {
            "colorbar": {
             "outlinewidth": 0,
             "ticks": ""
            },
            "colorscale": [
             [
              0,
              "#0d0887"
             ],
             [
              0.1111111111111111,
              "#46039f"
             ],
             [
              0.2222222222222222,
              "#7201a8"
             ],
             [
              0.3333333333333333,
              "#9c179e"
             ],
             [
              0.4444444444444444,
              "#bd3786"
             ],
             [
              0.5555555555555556,
              "#d8576b"
             ],
             [
              0.6666666666666666,
              "#ed7953"
             ],
             [
              0.7777777777777778,
              "#fb9f3a"
             ],
             [
              0.8888888888888888,
              "#fdca26"
             ],
             [
              1,
              "#f0f921"
             ]
            ],
            "type": "contour"
           }
          ],
          "contourcarpet": [
           {
            "colorbar": {
             "outlinewidth": 0,
             "ticks": ""
            },
            "type": "contourcarpet"
           }
          ],
          "heatmap": [
           {
            "colorbar": {
             "outlinewidth": 0,
             "ticks": ""
            },
            "colorscale": [
             [
              0,
              "#0d0887"
             ],
             [
              0.1111111111111111,
              "#46039f"
             ],
             [
              0.2222222222222222,
              "#7201a8"
             ],
             [
              0.3333333333333333,
              "#9c179e"
             ],
             [
              0.4444444444444444,
              "#bd3786"
             ],
             [
              0.5555555555555556,
              "#d8576b"
             ],
             [
              0.6666666666666666,
              "#ed7953"
             ],
             [
              0.7777777777777778,
              "#fb9f3a"
             ],
             [
              0.8888888888888888,
              "#fdca26"
             ],
             [
              1,
              "#f0f921"
             ]
            ],
            "type": "heatmap"
           }
          ],
          "heatmapgl": [
           {
            "colorbar": {
             "outlinewidth": 0,
             "ticks": ""
            },
            "colorscale": [
             [
              0,
              "#0d0887"
             ],
             [
              0.1111111111111111,
              "#46039f"
             ],
             [
              0.2222222222222222,
              "#7201a8"
             ],
             [
              0.3333333333333333,
              "#9c179e"
             ],
             [
              0.4444444444444444,
              "#bd3786"
             ],
             [
              0.5555555555555556,
              "#d8576b"
             ],
             [
              0.6666666666666666,
              "#ed7953"
             ],
             [
              0.7777777777777778,
              "#fb9f3a"
             ],
             [
              0.8888888888888888,
              "#fdca26"
             ],
             [
              1,
              "#f0f921"
             ]
            ],
            "type": "heatmapgl"
           }
          ],
          "histogram": [
           {
            "marker": {
             "colorbar": {
              "outlinewidth": 0,
              "ticks": ""
             }
            },
            "type": "histogram"
           }
          ],
          "histogram2d": [
           {
            "colorbar": {
             "outlinewidth": 0,
             "ticks": ""
            },
            "colorscale": [
             [
              0,
              "#0d0887"
             ],
             [
              0.1111111111111111,
              "#46039f"
             ],
             [
              0.2222222222222222,
              "#7201a8"
             ],
             [
              0.3333333333333333,
              "#9c179e"
             ],
             [
              0.4444444444444444,
              "#bd3786"
             ],
             [
              0.5555555555555556,
              "#d8576b"
             ],
             [
              0.6666666666666666,
              "#ed7953"
             ],
             [
              0.7777777777777778,
              "#fb9f3a"
             ],
             [
              0.8888888888888888,
              "#fdca26"
             ],
             [
              1,
              "#f0f921"
             ]
            ],
            "type": "histogram2d"
           }
          ],
          "histogram2dcontour": [
           {
            "colorbar": {
             "outlinewidth": 0,
             "ticks": ""
            },
            "colorscale": [
             [
              0,
              "#0d0887"
             ],
             [
              0.1111111111111111,
              "#46039f"
             ],
             [
              0.2222222222222222,
              "#7201a8"
             ],
             [
              0.3333333333333333,
              "#9c179e"
             ],
             [
              0.4444444444444444,
              "#bd3786"
             ],
             [
              0.5555555555555556,
              "#d8576b"
             ],
             [
              0.6666666666666666,
              "#ed7953"
             ],
             [
              0.7777777777777778,
              "#fb9f3a"
             ],
             [
              0.8888888888888888,
              "#fdca26"
             ],
             [
              1,
              "#f0f921"
             ]
            ],
            "type": "histogram2dcontour"
           }
          ],
          "mesh3d": [
           {
            "colorbar": {
             "outlinewidth": 0,
             "ticks": ""
            },
            "type": "mesh3d"
           }
          ],
          "parcoords": [
           {
            "line": {
             "colorbar": {
              "outlinewidth": 0,
              "ticks": ""
             }
            },
            "type": "parcoords"
           }
          ],
          "pie": [
           {
            "automargin": true,
            "type": "pie"
           }
          ],
          "scatter": [
           {
            "marker": {
             "colorbar": {
              "outlinewidth": 0,
              "ticks": ""
             }
            },
            "type": "scatter"
           }
          ],
          "scatter3d": [
           {
            "line": {
             "colorbar": {
              "outlinewidth": 0,
              "ticks": ""
             }
            },
            "marker": {
             "colorbar": {
              "outlinewidth": 0,
              "ticks": ""
             }
            },
            "type": "scatter3d"
           }
          ],
          "scattercarpet": [
           {
            "marker": {
             "colorbar": {
              "outlinewidth": 0,
              "ticks": ""
             }
            },
            "type": "scattercarpet"
           }
          ],
          "scattergeo": [
           {
            "marker": {
             "colorbar": {
              "outlinewidth": 0,
              "ticks": ""
             }
            },
            "type": "scattergeo"
           }
          ],
          "scattergl": [
           {
            "marker": {
             "colorbar": {
              "outlinewidth": 0,
              "ticks": ""
             }
            },
            "type": "scattergl"
           }
          ],
          "scattermapbox": [
           {
            "marker": {
             "colorbar": {
              "outlinewidth": 0,
              "ticks": ""
             }
            },
            "type": "scattermapbox"
           }
          ],
          "scatterpolar": [
           {
            "marker": {
             "colorbar": {
              "outlinewidth": 0,
              "ticks": ""
             }
            },
            "type": "scatterpolar"
           }
          ],
          "scatterpolargl": [
           {
            "marker": {
             "colorbar": {
              "outlinewidth": 0,
              "ticks": ""
             }
            },
            "type": "scatterpolargl"
           }
          ],
          "scatterternary": [
           {
            "marker": {
             "colorbar": {
              "outlinewidth": 0,
              "ticks": ""
             }
            },
            "type": "scatterternary"
           }
          ],
          "surface": [
           {
            "colorbar": {
             "outlinewidth": 0,
             "ticks": ""
            },
            "colorscale": [
             [
              0,
              "#0d0887"
             ],
             [
              0.1111111111111111,
              "#46039f"
             ],
             [
              0.2222222222222222,
              "#7201a8"
             ],
             [
              0.3333333333333333,
              "#9c179e"
             ],
             [
              0.4444444444444444,
              "#bd3786"
             ],
             [
              0.5555555555555556,
              "#d8576b"
             ],
             [
              0.6666666666666666,
              "#ed7953"
             ],
             [
              0.7777777777777778,
              "#fb9f3a"
             ],
             [
              0.8888888888888888,
              "#fdca26"
             ],
             [
              1,
              "#f0f921"
             ]
            ],
            "type": "surface"
           }
          ],
          "table": [
           {
            "cells": {
             "fill": {
              "color": "#EBF0F8"
             },
             "line": {
              "color": "white"
             }
            },
            "header": {
             "fill": {
              "color": "#C8D4E3"
             },
             "line": {
              "color": "white"
             }
            },
            "type": "table"
           }
          ]
         },
         "layout": {
          "annotationdefaults": {
           "arrowcolor": "#2a3f5f",
           "arrowhead": 0,
           "arrowwidth": 1
          },
          "coloraxis": {
           "colorbar": {
            "outlinewidth": 0,
            "ticks": ""
           }
          },
          "colorscale": {
           "diverging": [
            [
             0,
             "#8e0152"
            ],
            [
             0.1,
             "#c51b7d"
            ],
            [
             0.2,
             "#de77ae"
            ],
            [
             0.3,
             "#f1b6da"
            ],
            [
             0.4,
             "#fde0ef"
            ],
            [
             0.5,
             "#f7f7f7"
            ],
            [
             0.6,
             "#e6f5d0"
            ],
            [
             0.7,
             "#b8e186"
            ],
            [
             0.8,
             "#7fbc41"
            ],
            [
             0.9,
             "#4d9221"
            ],
            [
             1,
             "#276419"
            ]
           ],
           "sequential": [
            [
             0,
             "#0d0887"
            ],
            [
             0.1111111111111111,
             "#46039f"
            ],
            [
             0.2222222222222222,
             "#7201a8"
            ],
            [
             0.3333333333333333,
             "#9c179e"
            ],
            [
             0.4444444444444444,
             "#bd3786"
            ],
            [
             0.5555555555555556,
             "#d8576b"
            ],
            [
             0.6666666666666666,
             "#ed7953"
            ],
            [
             0.7777777777777778,
             "#fb9f3a"
            ],
            [
             0.8888888888888888,
             "#fdca26"
            ],
            [
             1,
             "#f0f921"
            ]
           ],
           "sequentialminus": [
            [
             0,
             "#0d0887"
            ],
            [
             0.1111111111111111,
             "#46039f"
            ],
            [
             0.2222222222222222,
             "#7201a8"
            ],
            [
             0.3333333333333333,
             "#9c179e"
            ],
            [
             0.4444444444444444,
             "#bd3786"
            ],
            [
             0.5555555555555556,
             "#d8576b"
            ],
            [
             0.6666666666666666,
             "#ed7953"
            ],
            [
             0.7777777777777778,
             "#fb9f3a"
            ],
            [
             0.8888888888888888,
             "#fdca26"
            ],
            [
             1,
             "#f0f921"
            ]
           ]
          },
          "colorway": [
           "#636efa",
           "#EF553B",
           "#00cc96",
           "#ab63fa",
           "#FFA15A",
           "#19d3f3",
           "#FF6692",
           "#B6E880",
           "#FF97FF",
           "#FECB52"
          ],
          "font": {
           "color": "#2a3f5f"
          },
          "geo": {
           "bgcolor": "white",
           "lakecolor": "white",
           "landcolor": "#E5ECF6",
           "showlakes": true,
           "showland": true,
           "subunitcolor": "white"
          },
          "hoverlabel": {
           "align": "left"
          },
          "hovermode": "closest",
          "mapbox": {
           "style": "light"
          },
          "paper_bgcolor": "white",
          "plot_bgcolor": "#E5ECF6",
          "polar": {
           "angularaxis": {
            "gridcolor": "white",
            "linecolor": "white",
            "ticks": ""
           },
           "bgcolor": "#E5ECF6",
           "radialaxis": {
            "gridcolor": "white",
            "linecolor": "white",
            "ticks": ""
           }
          },
          "scene": {
           "xaxis": {
            "backgroundcolor": "#E5ECF6",
            "gridcolor": "white",
            "gridwidth": 2,
            "linecolor": "white",
            "showbackground": true,
            "ticks": "",
            "zerolinecolor": "white"
           },
           "yaxis": {
            "backgroundcolor": "#E5ECF6",
            "gridcolor": "white",
            "gridwidth": 2,
            "linecolor": "white",
            "showbackground": true,
            "ticks": "",
            "zerolinecolor": "white"
           },
           "zaxis": {
            "backgroundcolor": "#E5ECF6",
            "gridcolor": "white",
            "gridwidth": 2,
            "linecolor": "white",
            "showbackground": true,
            "ticks": "",
            "zerolinecolor": "white"
           }
          },
          "shapedefaults": {
           "line": {
            "color": "#2a3f5f"
           }
          },
          "ternary": {
           "aaxis": {
            "gridcolor": "white",
            "linecolor": "white",
            "ticks": ""
           },
           "baxis": {
            "gridcolor": "white",
            "linecolor": "white",
            "ticks": ""
           },
           "bgcolor": "#E5ECF6",
           "caxis": {
            "gridcolor": "white",
            "linecolor": "white",
            "ticks": ""
           }
          },
          "title": {
           "x": 0.05
          },
          "xaxis": {
           "automargin": true,
           "gridcolor": "white",
           "linecolor": "white",
           "ticks": "",
           "title": {
            "standoff": 15
           },
           "zerolinecolor": "white",
           "zerolinewidth": 2
          },
          "yaxis": {
           "automargin": true,
           "gridcolor": "white",
           "linecolor": "white",
           "ticks": "",
           "title": {
            "standoff": 15
           },
           "zerolinecolor": "white",
           "zerolinewidth": 2
          }
         }
        },
        "title": {
         "text": "<b>Pass to Run Ratio</b><br>(Pass Plays / Run Plays)",
         "x": 0.5,
         "xanchor": "center",
         "y": 0.9,
         "yanchor": "top"
        }
       }
      },
      "text/html": [
       "<div>\n",
       "        \n",
       "        \n",
       "            <div id=\"074109d2-cae9-4229-bbbd-a39874f77b0a\" class=\"plotly-graph-div\" style=\"height:525px; width:100%;\"></div>\n",
       "            <script type=\"text/javascript\">\n",
       "                require([\"plotly\"], function(Plotly) {\n",
       "                    window.PLOTLYENV=window.PLOTLYENV || {};\n",
       "                    \n",
       "                if (document.getElementById(\"074109d2-cae9-4229-bbbd-a39874f77b0a\")) {\n",
       "                    Plotly.newPlot(\n",
       "                        '074109d2-cae9-4229-bbbd-a39874f77b0a',\n",
       "                        [{\"name\": \"pass to run\", \"type\": \"bar\", \"x\": [\"5 or Less\", \"Between 6 and 9\", \"10+ Wins\"], \"y\": [1.714849162011173, 1.662045929018789, 1.490016447368421]}],\n",
       "                        {\"template\": {\"data\": {\"bar\": [{\"error_x\": {\"color\": \"#2a3f5f\"}, \"error_y\": {\"color\": \"#2a3f5f\"}, \"marker\": {\"line\": {\"color\": \"#E5ECF6\", \"width\": 0.5}}, \"type\": \"bar\"}], \"barpolar\": [{\"marker\": {\"line\": {\"color\": \"#E5ECF6\", \"width\": 0.5}}, \"type\": \"barpolar\"}], \"carpet\": [{\"aaxis\": {\"endlinecolor\": \"#2a3f5f\", \"gridcolor\": \"white\", \"linecolor\": \"white\", \"minorgridcolor\": \"white\", \"startlinecolor\": \"#2a3f5f\"}, \"baxis\": {\"endlinecolor\": \"#2a3f5f\", \"gridcolor\": \"white\", \"linecolor\": \"white\", \"minorgridcolor\": \"white\", \"startlinecolor\": \"#2a3f5f\"}, \"type\": \"carpet\"}], \"choropleth\": [{\"colorbar\": {\"outlinewidth\": 0, \"ticks\": \"\"}, \"type\": \"choropleth\"}], \"contour\": [{\"colorbar\": {\"outlinewidth\": 0, \"ticks\": \"\"}, \"colorscale\": [[0.0, \"#0d0887\"], [0.1111111111111111, \"#46039f\"], [0.2222222222222222, \"#7201a8\"], [0.3333333333333333, \"#9c179e\"], [0.4444444444444444, \"#bd3786\"], [0.5555555555555556, \"#d8576b\"], [0.6666666666666666, \"#ed7953\"], [0.7777777777777778, \"#fb9f3a\"], [0.8888888888888888, \"#fdca26\"], [1.0, \"#f0f921\"]], \"type\": \"contour\"}], \"contourcarpet\": [{\"colorbar\": {\"outlinewidth\": 0, \"ticks\": \"\"}, \"type\": \"contourcarpet\"}], \"heatmap\": [{\"colorbar\": {\"outlinewidth\": 0, \"ticks\": \"\"}, \"colorscale\": [[0.0, \"#0d0887\"], [0.1111111111111111, \"#46039f\"], [0.2222222222222222, \"#7201a8\"], [0.3333333333333333, \"#9c179e\"], [0.4444444444444444, \"#bd3786\"], [0.5555555555555556, \"#d8576b\"], [0.6666666666666666, \"#ed7953\"], [0.7777777777777778, \"#fb9f3a\"], [0.8888888888888888, \"#fdca26\"], [1.0, \"#f0f921\"]], \"type\": \"heatmap\"}], \"heatmapgl\": [{\"colorbar\": {\"outlinewidth\": 0, \"ticks\": \"\"}, \"colorscale\": [[0.0, \"#0d0887\"], [0.1111111111111111, \"#46039f\"], [0.2222222222222222, \"#7201a8\"], [0.3333333333333333, \"#9c179e\"], [0.4444444444444444, \"#bd3786\"], [0.5555555555555556, \"#d8576b\"], [0.6666666666666666, \"#ed7953\"], [0.7777777777777778, \"#fb9f3a\"], [0.8888888888888888, \"#fdca26\"], [1.0, \"#f0f921\"]], \"type\": \"heatmapgl\"}], \"histogram\": [{\"marker\": {\"colorbar\": {\"outlinewidth\": 0, \"ticks\": \"\"}}, \"type\": \"histogram\"}], \"histogram2d\": [{\"colorbar\": {\"outlinewidth\": 0, \"ticks\": \"\"}, \"colorscale\": [[0.0, \"#0d0887\"], [0.1111111111111111, \"#46039f\"], [0.2222222222222222, \"#7201a8\"], [0.3333333333333333, \"#9c179e\"], [0.4444444444444444, \"#bd3786\"], [0.5555555555555556, \"#d8576b\"], [0.6666666666666666, \"#ed7953\"], [0.7777777777777778, \"#fb9f3a\"], [0.8888888888888888, \"#fdca26\"], [1.0, \"#f0f921\"]], \"type\": \"histogram2d\"}], \"histogram2dcontour\": [{\"colorbar\": {\"outlinewidth\": 0, \"ticks\": \"\"}, \"colorscale\": [[0.0, \"#0d0887\"], [0.1111111111111111, \"#46039f\"], [0.2222222222222222, \"#7201a8\"], [0.3333333333333333, \"#9c179e\"], [0.4444444444444444, \"#bd3786\"], [0.5555555555555556, \"#d8576b\"], [0.6666666666666666, \"#ed7953\"], [0.7777777777777778, \"#fb9f3a\"], [0.8888888888888888, \"#fdca26\"], [1.0, \"#f0f921\"]], \"type\": \"histogram2dcontour\"}], \"mesh3d\": [{\"colorbar\": {\"outlinewidth\": 0, \"ticks\": \"\"}, \"type\": \"mesh3d\"}], \"parcoords\": [{\"line\": {\"colorbar\": {\"outlinewidth\": 0, \"ticks\": \"\"}}, \"type\": \"parcoords\"}], \"pie\": [{\"automargin\": true, \"type\": \"pie\"}], \"scatter\": [{\"marker\": {\"colorbar\": {\"outlinewidth\": 0, \"ticks\": \"\"}}, \"type\": \"scatter\"}], \"scatter3d\": [{\"line\": {\"colorbar\": {\"outlinewidth\": 0, \"ticks\": \"\"}}, \"marker\": {\"colorbar\": {\"outlinewidth\": 0, \"ticks\": \"\"}}, \"type\": \"scatter3d\"}], \"scattercarpet\": [{\"marker\": {\"colorbar\": {\"outlinewidth\": 0, \"ticks\": \"\"}}, \"type\": \"scattercarpet\"}], \"scattergeo\": [{\"marker\": {\"colorbar\": {\"outlinewidth\": 0, \"ticks\": \"\"}}, \"type\": \"scattergeo\"}], \"scattergl\": [{\"marker\": {\"colorbar\": {\"outlinewidth\": 0, \"ticks\": \"\"}}, \"type\": \"scattergl\"}], \"scattermapbox\": [{\"marker\": {\"colorbar\": {\"outlinewidth\": 0, \"ticks\": \"\"}}, \"type\": \"scattermapbox\"}], \"scatterpolar\": [{\"marker\": {\"colorbar\": {\"outlinewidth\": 0, \"ticks\": \"\"}}, \"type\": \"scatterpolar\"}], \"scatterpolargl\": [{\"marker\": {\"colorbar\": {\"outlinewidth\": 0, \"ticks\": \"\"}}, \"type\": \"scatterpolargl\"}], \"scatterternary\": [{\"marker\": {\"colorbar\": {\"outlinewidth\": 0, \"ticks\": \"\"}}, \"type\": \"scatterternary\"}], \"surface\": [{\"colorbar\": {\"outlinewidth\": 0, \"ticks\": \"\"}, \"colorscale\": [[0.0, \"#0d0887\"], [0.1111111111111111, \"#46039f\"], [0.2222222222222222, \"#7201a8\"], [0.3333333333333333, \"#9c179e\"], [0.4444444444444444, \"#bd3786\"], [0.5555555555555556, \"#d8576b\"], [0.6666666666666666, \"#ed7953\"], [0.7777777777777778, \"#fb9f3a\"], [0.8888888888888888, \"#fdca26\"], [1.0, \"#f0f921\"]], \"type\": \"surface\"}], \"table\": [{\"cells\": {\"fill\": {\"color\": \"#EBF0F8\"}, \"line\": {\"color\": \"white\"}}, \"header\": {\"fill\": {\"color\": \"#C8D4E3\"}, \"line\": {\"color\": \"white\"}}, \"type\": \"table\"}]}, \"layout\": {\"annotationdefaults\": {\"arrowcolor\": \"#2a3f5f\", \"arrowhead\": 0, \"arrowwidth\": 1}, \"coloraxis\": {\"colorbar\": {\"outlinewidth\": 0, \"ticks\": \"\"}}, \"colorscale\": {\"diverging\": [[0, \"#8e0152\"], [0.1, \"#c51b7d\"], [0.2, \"#de77ae\"], [0.3, \"#f1b6da\"], [0.4, \"#fde0ef\"], [0.5, \"#f7f7f7\"], [0.6, \"#e6f5d0\"], [0.7, \"#b8e186\"], [0.8, \"#7fbc41\"], [0.9, \"#4d9221\"], [1, \"#276419\"]], \"sequential\": [[0.0, \"#0d0887\"], [0.1111111111111111, \"#46039f\"], [0.2222222222222222, \"#7201a8\"], [0.3333333333333333, \"#9c179e\"], [0.4444444444444444, \"#bd3786\"], [0.5555555555555556, \"#d8576b\"], [0.6666666666666666, \"#ed7953\"], [0.7777777777777778, \"#fb9f3a\"], [0.8888888888888888, \"#fdca26\"], [1.0, \"#f0f921\"]], \"sequentialminus\": [[0.0, \"#0d0887\"], [0.1111111111111111, \"#46039f\"], [0.2222222222222222, \"#7201a8\"], [0.3333333333333333, \"#9c179e\"], [0.4444444444444444, \"#bd3786\"], [0.5555555555555556, \"#d8576b\"], [0.6666666666666666, \"#ed7953\"], [0.7777777777777778, \"#fb9f3a\"], [0.8888888888888888, \"#fdca26\"], [1.0, \"#f0f921\"]]}, \"colorway\": [\"#636efa\", \"#EF553B\", \"#00cc96\", \"#ab63fa\", \"#FFA15A\", \"#19d3f3\", \"#FF6692\", \"#B6E880\", \"#FF97FF\", \"#FECB52\"], \"font\": {\"color\": \"#2a3f5f\"}, \"geo\": {\"bgcolor\": \"white\", \"lakecolor\": \"white\", \"landcolor\": \"#E5ECF6\", \"showlakes\": true, \"showland\": true, \"subunitcolor\": \"white\"}, \"hoverlabel\": {\"align\": \"left\"}, \"hovermode\": \"closest\", \"mapbox\": {\"style\": \"light\"}, \"paper_bgcolor\": \"white\", \"plot_bgcolor\": \"#E5ECF6\", \"polar\": {\"angularaxis\": {\"gridcolor\": \"white\", \"linecolor\": \"white\", \"ticks\": \"\"}, \"bgcolor\": \"#E5ECF6\", \"radialaxis\": {\"gridcolor\": \"white\", \"linecolor\": \"white\", \"ticks\": \"\"}}, \"scene\": {\"xaxis\": {\"backgroundcolor\": \"#E5ECF6\", \"gridcolor\": \"white\", \"gridwidth\": 2, \"linecolor\": \"white\", \"showbackground\": true, \"ticks\": \"\", \"zerolinecolor\": \"white\"}, \"yaxis\": {\"backgroundcolor\": \"#E5ECF6\", \"gridcolor\": \"white\", \"gridwidth\": 2, \"linecolor\": \"white\", \"showbackground\": true, \"ticks\": \"\", \"zerolinecolor\": \"white\"}, \"zaxis\": {\"backgroundcolor\": \"#E5ECF6\", \"gridcolor\": \"white\", \"gridwidth\": 2, \"linecolor\": \"white\", \"showbackground\": true, \"ticks\": \"\", \"zerolinecolor\": \"white\"}}, \"shapedefaults\": {\"line\": {\"color\": \"#2a3f5f\"}}, \"ternary\": {\"aaxis\": {\"gridcolor\": \"white\", \"linecolor\": \"white\", \"ticks\": \"\"}, \"baxis\": {\"gridcolor\": \"white\", \"linecolor\": \"white\", \"ticks\": \"\"}, \"bgcolor\": \"#E5ECF6\", \"caxis\": {\"gridcolor\": \"white\", \"linecolor\": \"white\", \"ticks\": \"\"}}, \"title\": {\"x\": 0.05}, \"xaxis\": {\"automargin\": true, \"gridcolor\": \"white\", \"linecolor\": \"white\", \"ticks\": \"\", \"title\": {\"standoff\": 15}, \"zerolinecolor\": \"white\", \"zerolinewidth\": 2}, \"yaxis\": {\"automargin\": true, \"gridcolor\": \"white\", \"linecolor\": \"white\", \"ticks\": \"\", \"title\": {\"standoff\": 15}, \"zerolinecolor\": \"white\", \"zerolinewidth\": 2}}}, \"title\": {\"text\": \"<b>Pass to Run Ratio</b><br>(Pass Plays / Run Plays)\", \"x\": 0.5, \"xanchor\": \"center\", \"y\": 0.9, \"yanchor\": \"top\"}},\n",
       "                        {\"responsive\": true}\n",
       "                    ).then(function(){\n",
       "                            \n",
       "var gd = document.getElementById('074109d2-cae9-4229-bbbd-a39874f77b0a');\n",
       "var x = new MutationObserver(function (mutations, observer) {{\n",
       "        var display = window.getComputedStyle(gd).display;\n",
       "        if (!display || display === 'none') {{\n",
       "            console.log([gd, 'removed!']);\n",
       "            Plotly.purge(gd);\n",
       "            observer.disconnect();\n",
       "        }}\n",
       "}});\n",
       "\n",
       "// Listen for the removal of the full notebook cells\n",
       "var notebookContainer = gd.closest('#notebook-container');\n",
       "if (notebookContainer) {{\n",
       "    x.observe(notebookContainer, {childList: true});\n",
       "}}\n",
       "\n",
       "// Listen for the clearing of the current output cell\n",
       "var outputEl = gd.closest('.output');\n",
       "if (outputEl) {{\n",
       "    x.observe(outputEl, {childList: true});\n",
       "}}\n",
       "\n",
       "                        })\n",
       "                };\n",
       "                });\n",
       "            </script>\n",
       "        </div>"
      ]
     },
     "metadata": {},
     "output_type": "display_data"
    }
   ],
   "source": [
    "fig = go.Figure()\n",
    "\n",
    "fig.add_trace(go.Bar(name='pass to run',x=nfl_end_of_game.groupby('binned').agg({'pass_run_ratio':'mean'}).index, \n",
    "                     y=nfl_end_of_game.groupby('binned').agg({'pass_run_ratio':'mean'})['pass_run_ratio'])\n",
    "             )\n",
    "\n",
    "fig.update_layout(\n",
    "    title={\n",
    "        'text':'<b>'+'Pass to Run Ratio'+'</b>'+'<br>(Pass Plays / Run Plays)',\n",
    "        'y':0.9,\n",
    "        'x':0.5,\n",
    "        'xanchor': 'center',\n",
    "        'yanchor': 'top'})\n",
    "\n",
    "fig"
   ]
  },
  {
   "cell_type": "code",
   "execution_count": 65,
   "metadata": {},
   "outputs": [
    {
     "data": {
      "application/vnd.plotly.v1+json": {
       "config": {
        "plotlyServerURL": "https://plot.ly"
       },
       "data": [
        {
         "name": "TO Margin",
         "type": "bar",
         "x": [
          "5 or Less",
          "Between 6 and 9",
          "10+ Wins"
         ],
         "y": [
          -0.6245810055865921,
          0.1524008350730689,
          0.7993421052631579
         ]
        }
       ],
       "layout": {
        "template": {
         "data": {
          "bar": [
           {
            "error_x": {
             "color": "#2a3f5f"
            },
            "error_y": {
             "color": "#2a3f5f"
            },
            "marker": {
             "line": {
              "color": "#E5ECF6",
              "width": 0.5
             }
            },
            "type": "bar"
           }
          ],
          "barpolar": [
           {
            "marker": {
             "line": {
              "color": "#E5ECF6",
              "width": 0.5
             }
            },
            "type": "barpolar"
           }
          ],
          "carpet": [
           {
            "aaxis": {
             "endlinecolor": "#2a3f5f",
             "gridcolor": "white",
             "linecolor": "white",
             "minorgridcolor": "white",
             "startlinecolor": "#2a3f5f"
            },
            "baxis": {
             "endlinecolor": "#2a3f5f",
             "gridcolor": "white",
             "linecolor": "white",
             "minorgridcolor": "white",
             "startlinecolor": "#2a3f5f"
            },
            "type": "carpet"
           }
          ],
          "choropleth": [
           {
            "colorbar": {
             "outlinewidth": 0,
             "ticks": ""
            },
            "type": "choropleth"
           }
          ],
          "contour": [
           {
            "colorbar": {
             "outlinewidth": 0,
             "ticks": ""
            },
            "colorscale": [
             [
              0,
              "#0d0887"
             ],
             [
              0.1111111111111111,
              "#46039f"
             ],
             [
              0.2222222222222222,
              "#7201a8"
             ],
             [
              0.3333333333333333,
              "#9c179e"
             ],
             [
              0.4444444444444444,
              "#bd3786"
             ],
             [
              0.5555555555555556,
              "#d8576b"
             ],
             [
              0.6666666666666666,
              "#ed7953"
             ],
             [
              0.7777777777777778,
              "#fb9f3a"
             ],
             [
              0.8888888888888888,
              "#fdca26"
             ],
             [
              1,
              "#f0f921"
             ]
            ],
            "type": "contour"
           }
          ],
          "contourcarpet": [
           {
            "colorbar": {
             "outlinewidth": 0,
             "ticks": ""
            },
            "type": "contourcarpet"
           }
          ],
          "heatmap": [
           {
            "colorbar": {
             "outlinewidth": 0,
             "ticks": ""
            },
            "colorscale": [
             [
              0,
              "#0d0887"
             ],
             [
              0.1111111111111111,
              "#46039f"
             ],
             [
              0.2222222222222222,
              "#7201a8"
             ],
             [
              0.3333333333333333,
              "#9c179e"
             ],
             [
              0.4444444444444444,
              "#bd3786"
             ],
             [
              0.5555555555555556,
              "#d8576b"
             ],
             [
              0.6666666666666666,
              "#ed7953"
             ],
             [
              0.7777777777777778,
              "#fb9f3a"
             ],
             [
              0.8888888888888888,
              "#fdca26"
             ],
             [
              1,
              "#f0f921"
             ]
            ],
            "type": "heatmap"
           }
          ],
          "heatmapgl": [
           {
            "colorbar": {
             "outlinewidth": 0,
             "ticks": ""
            },
            "colorscale": [
             [
              0,
              "#0d0887"
             ],
             [
              0.1111111111111111,
              "#46039f"
             ],
             [
              0.2222222222222222,
              "#7201a8"
             ],
             [
              0.3333333333333333,
              "#9c179e"
             ],
             [
              0.4444444444444444,
              "#bd3786"
             ],
             [
              0.5555555555555556,
              "#d8576b"
             ],
             [
              0.6666666666666666,
              "#ed7953"
             ],
             [
              0.7777777777777778,
              "#fb9f3a"
             ],
             [
              0.8888888888888888,
              "#fdca26"
             ],
             [
              1,
              "#f0f921"
             ]
            ],
            "type": "heatmapgl"
           }
          ],
          "histogram": [
           {
            "marker": {
             "colorbar": {
              "outlinewidth": 0,
              "ticks": ""
             }
            },
            "type": "histogram"
           }
          ],
          "histogram2d": [
           {
            "colorbar": {
             "outlinewidth": 0,
             "ticks": ""
            },
            "colorscale": [
             [
              0,
              "#0d0887"
             ],
             [
              0.1111111111111111,
              "#46039f"
             ],
             [
              0.2222222222222222,
              "#7201a8"
             ],
             [
              0.3333333333333333,
              "#9c179e"
             ],
             [
              0.4444444444444444,
              "#bd3786"
             ],
             [
              0.5555555555555556,
              "#d8576b"
             ],
             [
              0.6666666666666666,
              "#ed7953"
             ],
             [
              0.7777777777777778,
              "#fb9f3a"
             ],
             [
              0.8888888888888888,
              "#fdca26"
             ],
             [
              1,
              "#f0f921"
             ]
            ],
            "type": "histogram2d"
           }
          ],
          "histogram2dcontour": [
           {
            "colorbar": {
             "outlinewidth": 0,
             "ticks": ""
            },
            "colorscale": [
             [
              0,
              "#0d0887"
             ],
             [
              0.1111111111111111,
              "#46039f"
             ],
             [
              0.2222222222222222,
              "#7201a8"
             ],
             [
              0.3333333333333333,
              "#9c179e"
             ],
             [
              0.4444444444444444,
              "#bd3786"
             ],
             [
              0.5555555555555556,
              "#d8576b"
             ],
             [
              0.6666666666666666,
              "#ed7953"
             ],
             [
              0.7777777777777778,
              "#fb9f3a"
             ],
             [
              0.8888888888888888,
              "#fdca26"
             ],
             [
              1,
              "#f0f921"
             ]
            ],
            "type": "histogram2dcontour"
           }
          ],
          "mesh3d": [
           {
            "colorbar": {
             "outlinewidth": 0,
             "ticks": ""
            },
            "type": "mesh3d"
           }
          ],
          "parcoords": [
           {
            "line": {
             "colorbar": {
              "outlinewidth": 0,
              "ticks": ""
             }
            },
            "type": "parcoords"
           }
          ],
          "pie": [
           {
            "automargin": true,
            "type": "pie"
           }
          ],
          "scatter": [
           {
            "marker": {
             "colorbar": {
              "outlinewidth": 0,
              "ticks": ""
             }
            },
            "type": "scatter"
           }
          ],
          "scatter3d": [
           {
            "line": {
             "colorbar": {
              "outlinewidth": 0,
              "ticks": ""
             }
            },
            "marker": {
             "colorbar": {
              "outlinewidth": 0,
              "ticks": ""
             }
            },
            "type": "scatter3d"
           }
          ],
          "scattercarpet": [
           {
            "marker": {
             "colorbar": {
              "outlinewidth": 0,
              "ticks": ""
             }
            },
            "type": "scattercarpet"
           }
          ],
          "scattergeo": [
           {
            "marker": {
             "colorbar": {
              "outlinewidth": 0,
              "ticks": ""
             }
            },
            "type": "scattergeo"
           }
          ],
          "scattergl": [
           {
            "marker": {
             "colorbar": {
              "outlinewidth": 0,
              "ticks": ""
             }
            },
            "type": "scattergl"
           }
          ],
          "scattermapbox": [
           {
            "marker": {
             "colorbar": {
              "outlinewidth": 0,
              "ticks": ""
             }
            },
            "type": "scattermapbox"
           }
          ],
          "scatterpolar": [
           {
            "marker": {
             "colorbar": {
              "outlinewidth": 0,
              "ticks": ""
             }
            },
            "type": "scatterpolar"
           }
          ],
          "scatterpolargl": [
           {
            "marker": {
             "colorbar": {
              "outlinewidth": 0,
              "ticks": ""
             }
            },
            "type": "scatterpolargl"
           }
          ],
          "scatterternary": [
           {
            "marker": {
             "colorbar": {
              "outlinewidth": 0,
              "ticks": ""
             }
            },
            "type": "scatterternary"
           }
          ],
          "surface": [
           {
            "colorbar": {
             "outlinewidth": 0,
             "ticks": ""
            },
            "colorscale": [
             [
              0,
              "#0d0887"
             ],
             [
              0.1111111111111111,
              "#46039f"
             ],
             [
              0.2222222222222222,
              "#7201a8"
             ],
             [
              0.3333333333333333,
              "#9c179e"
             ],
             [
              0.4444444444444444,
              "#bd3786"
             ],
             [
              0.5555555555555556,
              "#d8576b"
             ],
             [
              0.6666666666666666,
              "#ed7953"
             ],
             [
              0.7777777777777778,
              "#fb9f3a"
             ],
             [
              0.8888888888888888,
              "#fdca26"
             ],
             [
              1,
              "#f0f921"
             ]
            ],
            "type": "surface"
           }
          ],
          "table": [
           {
            "cells": {
             "fill": {
              "color": "#EBF0F8"
             },
             "line": {
              "color": "white"
             }
            },
            "header": {
             "fill": {
              "color": "#C8D4E3"
             },
             "line": {
              "color": "white"
             }
            },
            "type": "table"
           }
          ]
         },
         "layout": {
          "annotationdefaults": {
           "arrowcolor": "#2a3f5f",
           "arrowhead": 0,
           "arrowwidth": 1
          },
          "coloraxis": {
           "colorbar": {
            "outlinewidth": 0,
            "ticks": ""
           }
          },
          "colorscale": {
           "diverging": [
            [
             0,
             "#8e0152"
            ],
            [
             0.1,
             "#c51b7d"
            ],
            [
             0.2,
             "#de77ae"
            ],
            [
             0.3,
             "#f1b6da"
            ],
            [
             0.4,
             "#fde0ef"
            ],
            [
             0.5,
             "#f7f7f7"
            ],
            [
             0.6,
             "#e6f5d0"
            ],
            [
             0.7,
             "#b8e186"
            ],
            [
             0.8,
             "#7fbc41"
            ],
            [
             0.9,
             "#4d9221"
            ],
            [
             1,
             "#276419"
            ]
           ],
           "sequential": [
            [
             0,
             "#0d0887"
            ],
            [
             0.1111111111111111,
             "#46039f"
            ],
            [
             0.2222222222222222,
             "#7201a8"
            ],
            [
             0.3333333333333333,
             "#9c179e"
            ],
            [
             0.4444444444444444,
             "#bd3786"
            ],
            [
             0.5555555555555556,
             "#d8576b"
            ],
            [
             0.6666666666666666,
             "#ed7953"
            ],
            [
             0.7777777777777778,
             "#fb9f3a"
            ],
            [
             0.8888888888888888,
             "#fdca26"
            ],
            [
             1,
             "#f0f921"
            ]
           ],
           "sequentialminus": [
            [
             0,
             "#0d0887"
            ],
            [
             0.1111111111111111,
             "#46039f"
            ],
            [
             0.2222222222222222,
             "#7201a8"
            ],
            [
             0.3333333333333333,
             "#9c179e"
            ],
            [
             0.4444444444444444,
             "#bd3786"
            ],
            [
             0.5555555555555556,
             "#d8576b"
            ],
            [
             0.6666666666666666,
             "#ed7953"
            ],
            [
             0.7777777777777778,
             "#fb9f3a"
            ],
            [
             0.8888888888888888,
             "#fdca26"
            ],
            [
             1,
             "#f0f921"
            ]
           ]
          },
          "colorway": [
           "#636efa",
           "#EF553B",
           "#00cc96",
           "#ab63fa",
           "#FFA15A",
           "#19d3f3",
           "#FF6692",
           "#B6E880",
           "#FF97FF",
           "#FECB52"
          ],
          "font": {
           "color": "#2a3f5f"
          },
          "geo": {
           "bgcolor": "white",
           "lakecolor": "white",
           "landcolor": "#E5ECF6",
           "showlakes": true,
           "showland": true,
           "subunitcolor": "white"
          },
          "hoverlabel": {
           "align": "left"
          },
          "hovermode": "closest",
          "mapbox": {
           "style": "light"
          },
          "paper_bgcolor": "white",
          "plot_bgcolor": "#E5ECF6",
          "polar": {
           "angularaxis": {
            "gridcolor": "white",
            "linecolor": "white",
            "ticks": ""
           },
           "bgcolor": "#E5ECF6",
           "radialaxis": {
            "gridcolor": "white",
            "linecolor": "white",
            "ticks": ""
           }
          },
          "scene": {
           "xaxis": {
            "backgroundcolor": "#E5ECF6",
            "gridcolor": "white",
            "gridwidth": 2,
            "linecolor": "white",
            "showbackground": true,
            "ticks": "",
            "zerolinecolor": "white"
           },
           "yaxis": {
            "backgroundcolor": "#E5ECF6",
            "gridcolor": "white",
            "gridwidth": 2,
            "linecolor": "white",
            "showbackground": true,
            "ticks": "",
            "zerolinecolor": "white"
           },
           "zaxis": {
            "backgroundcolor": "#E5ECF6",
            "gridcolor": "white",
            "gridwidth": 2,
            "linecolor": "white",
            "showbackground": true,
            "ticks": "",
            "zerolinecolor": "white"
           }
          },
          "shapedefaults": {
           "line": {
            "color": "#2a3f5f"
           }
          },
          "ternary": {
           "aaxis": {
            "gridcolor": "white",
            "linecolor": "white",
            "ticks": ""
           },
           "baxis": {
            "gridcolor": "white",
            "linecolor": "white",
            "ticks": ""
           },
           "bgcolor": "#E5ECF6",
           "caxis": {
            "gridcolor": "white",
            "linecolor": "white",
            "ticks": ""
           }
          },
          "title": {
           "x": 0.05
          },
          "xaxis": {
           "automargin": true,
           "gridcolor": "white",
           "linecolor": "white",
           "ticks": "",
           "title": {
            "standoff": 15
           },
           "zerolinecolor": "white",
           "zerolinewidth": 2
          },
          "yaxis": {
           "automargin": true,
           "gridcolor": "white",
           "linecolor": "white",
           "ticks": "",
           "title": {
            "standoff": 15
           },
           "zerolinecolor": "white",
           "zerolinewidth": 2
          }
         }
        },
        "title": {
         "text": "<b>Turnover Margin</b><br>(Giveaways Minus Takeways)",
         "x": 0.5,
         "xanchor": "center",
         "y": 0.9,
         "yanchor": "top"
        }
       }
      },
      "text/html": [
       "<div>\n",
       "        \n",
       "        \n",
       "            <div id=\"6c78447a-6096-4601-9f1c-c74e97e1ea40\" class=\"plotly-graph-div\" style=\"height:525px; width:100%;\"></div>\n",
       "            <script type=\"text/javascript\">\n",
       "                require([\"plotly\"], function(Plotly) {\n",
       "                    window.PLOTLYENV=window.PLOTLYENV || {};\n",
       "                    \n",
       "                if (document.getElementById(\"6c78447a-6096-4601-9f1c-c74e97e1ea40\")) {\n",
       "                    Plotly.newPlot(\n",
       "                        '6c78447a-6096-4601-9f1c-c74e97e1ea40',\n",
       "                        [{\"name\": \"TO Margin\", \"type\": \"bar\", \"x\": [\"5 or Less\", \"Between 6 and 9\", \"10+ Wins\"], \"y\": [-0.6245810055865921, 0.1524008350730689, 0.7993421052631579]}],\n",
       "                        {\"template\": {\"data\": {\"bar\": [{\"error_x\": {\"color\": \"#2a3f5f\"}, \"error_y\": {\"color\": \"#2a3f5f\"}, \"marker\": {\"line\": {\"color\": \"#E5ECF6\", \"width\": 0.5}}, \"type\": \"bar\"}], \"barpolar\": [{\"marker\": {\"line\": {\"color\": \"#E5ECF6\", \"width\": 0.5}}, \"type\": \"barpolar\"}], \"carpet\": [{\"aaxis\": {\"endlinecolor\": \"#2a3f5f\", \"gridcolor\": \"white\", \"linecolor\": \"white\", \"minorgridcolor\": \"white\", \"startlinecolor\": \"#2a3f5f\"}, \"baxis\": {\"endlinecolor\": \"#2a3f5f\", \"gridcolor\": \"white\", \"linecolor\": \"white\", \"minorgridcolor\": \"white\", \"startlinecolor\": \"#2a3f5f\"}, \"type\": \"carpet\"}], \"choropleth\": [{\"colorbar\": {\"outlinewidth\": 0, \"ticks\": \"\"}, \"type\": \"choropleth\"}], \"contour\": [{\"colorbar\": {\"outlinewidth\": 0, \"ticks\": \"\"}, \"colorscale\": [[0.0, \"#0d0887\"], [0.1111111111111111, \"#46039f\"], [0.2222222222222222, \"#7201a8\"], [0.3333333333333333, \"#9c179e\"], [0.4444444444444444, \"#bd3786\"], [0.5555555555555556, \"#d8576b\"], [0.6666666666666666, \"#ed7953\"], [0.7777777777777778, \"#fb9f3a\"], [0.8888888888888888, \"#fdca26\"], [1.0, \"#f0f921\"]], \"type\": \"contour\"}], \"contourcarpet\": [{\"colorbar\": {\"outlinewidth\": 0, \"ticks\": \"\"}, \"type\": \"contourcarpet\"}], \"heatmap\": [{\"colorbar\": {\"outlinewidth\": 0, \"ticks\": \"\"}, \"colorscale\": [[0.0, \"#0d0887\"], [0.1111111111111111, \"#46039f\"], [0.2222222222222222, \"#7201a8\"], [0.3333333333333333, \"#9c179e\"], [0.4444444444444444, \"#bd3786\"], [0.5555555555555556, \"#d8576b\"], [0.6666666666666666, \"#ed7953\"], [0.7777777777777778, \"#fb9f3a\"], [0.8888888888888888, \"#fdca26\"], [1.0, \"#f0f921\"]], \"type\": \"heatmap\"}], \"heatmapgl\": [{\"colorbar\": {\"outlinewidth\": 0, \"ticks\": \"\"}, \"colorscale\": [[0.0, \"#0d0887\"], [0.1111111111111111, \"#46039f\"], [0.2222222222222222, \"#7201a8\"], [0.3333333333333333, \"#9c179e\"], [0.4444444444444444, \"#bd3786\"], [0.5555555555555556, \"#d8576b\"], [0.6666666666666666, \"#ed7953\"], [0.7777777777777778, \"#fb9f3a\"], [0.8888888888888888, \"#fdca26\"], [1.0, \"#f0f921\"]], \"type\": \"heatmapgl\"}], \"histogram\": [{\"marker\": {\"colorbar\": {\"outlinewidth\": 0, \"ticks\": \"\"}}, \"type\": \"histogram\"}], \"histogram2d\": [{\"colorbar\": {\"outlinewidth\": 0, \"ticks\": \"\"}, \"colorscale\": [[0.0, \"#0d0887\"], [0.1111111111111111, \"#46039f\"], [0.2222222222222222, \"#7201a8\"], [0.3333333333333333, \"#9c179e\"], [0.4444444444444444, \"#bd3786\"], [0.5555555555555556, \"#d8576b\"], [0.6666666666666666, \"#ed7953\"], [0.7777777777777778, \"#fb9f3a\"], [0.8888888888888888, \"#fdca26\"], [1.0, \"#f0f921\"]], \"type\": \"histogram2d\"}], \"histogram2dcontour\": [{\"colorbar\": {\"outlinewidth\": 0, \"ticks\": \"\"}, \"colorscale\": [[0.0, \"#0d0887\"], [0.1111111111111111, \"#46039f\"], [0.2222222222222222, \"#7201a8\"], [0.3333333333333333, \"#9c179e\"], [0.4444444444444444, \"#bd3786\"], [0.5555555555555556, \"#d8576b\"], [0.6666666666666666, \"#ed7953\"], [0.7777777777777778, \"#fb9f3a\"], [0.8888888888888888, \"#fdca26\"], [1.0, \"#f0f921\"]], \"type\": \"histogram2dcontour\"}], \"mesh3d\": [{\"colorbar\": {\"outlinewidth\": 0, \"ticks\": \"\"}, \"type\": \"mesh3d\"}], \"parcoords\": [{\"line\": {\"colorbar\": {\"outlinewidth\": 0, \"ticks\": \"\"}}, \"type\": \"parcoords\"}], \"pie\": [{\"automargin\": true, \"type\": \"pie\"}], \"scatter\": [{\"marker\": {\"colorbar\": {\"outlinewidth\": 0, \"ticks\": \"\"}}, \"type\": \"scatter\"}], \"scatter3d\": [{\"line\": {\"colorbar\": {\"outlinewidth\": 0, \"ticks\": \"\"}}, \"marker\": {\"colorbar\": {\"outlinewidth\": 0, \"ticks\": \"\"}}, \"type\": \"scatter3d\"}], \"scattercarpet\": [{\"marker\": {\"colorbar\": {\"outlinewidth\": 0, \"ticks\": \"\"}}, \"type\": \"scattercarpet\"}], \"scattergeo\": [{\"marker\": {\"colorbar\": {\"outlinewidth\": 0, \"ticks\": \"\"}}, \"type\": \"scattergeo\"}], \"scattergl\": [{\"marker\": {\"colorbar\": {\"outlinewidth\": 0, \"ticks\": \"\"}}, \"type\": \"scattergl\"}], \"scattermapbox\": [{\"marker\": {\"colorbar\": {\"outlinewidth\": 0, \"ticks\": \"\"}}, \"type\": \"scattermapbox\"}], \"scatterpolar\": [{\"marker\": {\"colorbar\": {\"outlinewidth\": 0, \"ticks\": \"\"}}, \"type\": \"scatterpolar\"}], \"scatterpolargl\": [{\"marker\": {\"colorbar\": {\"outlinewidth\": 0, \"ticks\": \"\"}}, \"type\": \"scatterpolargl\"}], \"scatterternary\": [{\"marker\": {\"colorbar\": {\"outlinewidth\": 0, \"ticks\": \"\"}}, \"type\": \"scatterternary\"}], \"surface\": [{\"colorbar\": {\"outlinewidth\": 0, \"ticks\": \"\"}, \"colorscale\": [[0.0, \"#0d0887\"], [0.1111111111111111, \"#46039f\"], [0.2222222222222222, \"#7201a8\"], [0.3333333333333333, \"#9c179e\"], [0.4444444444444444, \"#bd3786\"], [0.5555555555555556, \"#d8576b\"], [0.6666666666666666, \"#ed7953\"], [0.7777777777777778, \"#fb9f3a\"], [0.8888888888888888, \"#fdca26\"], [1.0, \"#f0f921\"]], \"type\": \"surface\"}], \"table\": [{\"cells\": {\"fill\": {\"color\": \"#EBF0F8\"}, \"line\": {\"color\": \"white\"}}, \"header\": {\"fill\": {\"color\": \"#C8D4E3\"}, \"line\": {\"color\": \"white\"}}, \"type\": \"table\"}]}, \"layout\": {\"annotationdefaults\": {\"arrowcolor\": \"#2a3f5f\", \"arrowhead\": 0, \"arrowwidth\": 1}, \"coloraxis\": {\"colorbar\": {\"outlinewidth\": 0, \"ticks\": \"\"}}, \"colorscale\": {\"diverging\": [[0, \"#8e0152\"], [0.1, \"#c51b7d\"], [0.2, \"#de77ae\"], [0.3, \"#f1b6da\"], [0.4, \"#fde0ef\"], [0.5, \"#f7f7f7\"], [0.6, \"#e6f5d0\"], [0.7, \"#b8e186\"], [0.8, \"#7fbc41\"], [0.9, \"#4d9221\"], [1, \"#276419\"]], \"sequential\": [[0.0, \"#0d0887\"], [0.1111111111111111, \"#46039f\"], [0.2222222222222222, \"#7201a8\"], [0.3333333333333333, \"#9c179e\"], [0.4444444444444444, \"#bd3786\"], [0.5555555555555556, \"#d8576b\"], [0.6666666666666666, \"#ed7953\"], [0.7777777777777778, \"#fb9f3a\"], [0.8888888888888888, \"#fdca26\"], [1.0, \"#f0f921\"]], \"sequentialminus\": [[0.0, \"#0d0887\"], [0.1111111111111111, \"#46039f\"], [0.2222222222222222, \"#7201a8\"], [0.3333333333333333, \"#9c179e\"], [0.4444444444444444, \"#bd3786\"], [0.5555555555555556, \"#d8576b\"], [0.6666666666666666, \"#ed7953\"], [0.7777777777777778, \"#fb9f3a\"], [0.8888888888888888, \"#fdca26\"], [1.0, \"#f0f921\"]]}, \"colorway\": [\"#636efa\", \"#EF553B\", \"#00cc96\", \"#ab63fa\", \"#FFA15A\", \"#19d3f3\", \"#FF6692\", \"#B6E880\", \"#FF97FF\", \"#FECB52\"], \"font\": {\"color\": \"#2a3f5f\"}, \"geo\": {\"bgcolor\": \"white\", \"lakecolor\": \"white\", \"landcolor\": \"#E5ECF6\", \"showlakes\": true, \"showland\": true, \"subunitcolor\": \"white\"}, \"hoverlabel\": {\"align\": \"left\"}, \"hovermode\": \"closest\", \"mapbox\": {\"style\": \"light\"}, \"paper_bgcolor\": \"white\", \"plot_bgcolor\": \"#E5ECF6\", \"polar\": {\"angularaxis\": {\"gridcolor\": \"white\", \"linecolor\": \"white\", \"ticks\": \"\"}, \"bgcolor\": \"#E5ECF6\", \"radialaxis\": {\"gridcolor\": \"white\", \"linecolor\": \"white\", \"ticks\": \"\"}}, \"scene\": {\"xaxis\": {\"backgroundcolor\": \"#E5ECF6\", \"gridcolor\": \"white\", \"gridwidth\": 2, \"linecolor\": \"white\", \"showbackground\": true, \"ticks\": \"\", \"zerolinecolor\": \"white\"}, \"yaxis\": {\"backgroundcolor\": \"#E5ECF6\", \"gridcolor\": \"white\", \"gridwidth\": 2, \"linecolor\": \"white\", \"showbackground\": true, \"ticks\": \"\", \"zerolinecolor\": \"white\"}, \"zaxis\": {\"backgroundcolor\": \"#E5ECF6\", \"gridcolor\": \"white\", \"gridwidth\": 2, \"linecolor\": \"white\", \"showbackground\": true, \"ticks\": \"\", \"zerolinecolor\": \"white\"}}, \"shapedefaults\": {\"line\": {\"color\": \"#2a3f5f\"}}, \"ternary\": {\"aaxis\": {\"gridcolor\": \"white\", \"linecolor\": \"white\", \"ticks\": \"\"}, \"baxis\": {\"gridcolor\": \"white\", \"linecolor\": \"white\", \"ticks\": \"\"}, \"bgcolor\": \"#E5ECF6\", \"caxis\": {\"gridcolor\": \"white\", \"linecolor\": \"white\", \"ticks\": \"\"}}, \"title\": {\"x\": 0.05}, \"xaxis\": {\"automargin\": true, \"gridcolor\": \"white\", \"linecolor\": \"white\", \"ticks\": \"\", \"title\": {\"standoff\": 15}, \"zerolinecolor\": \"white\", \"zerolinewidth\": 2}, \"yaxis\": {\"automargin\": true, \"gridcolor\": \"white\", \"linecolor\": \"white\", \"ticks\": \"\", \"title\": {\"standoff\": 15}, \"zerolinecolor\": \"white\", \"zerolinewidth\": 2}}}, \"title\": {\"text\": \"<b>Turnover Margin</b><br>(Giveaways Minus Takeways)\", \"x\": 0.5, \"xanchor\": \"center\", \"y\": 0.9, \"yanchor\": \"top\"}},\n",
       "                        {\"responsive\": true}\n",
       "                    ).then(function(){\n",
       "                            \n",
       "var gd = document.getElementById('6c78447a-6096-4601-9f1c-c74e97e1ea40');\n",
       "var x = new MutationObserver(function (mutations, observer) {{\n",
       "        var display = window.getComputedStyle(gd).display;\n",
       "        if (!display || display === 'none') {{\n",
       "            console.log([gd, 'removed!']);\n",
       "            Plotly.purge(gd);\n",
       "            observer.disconnect();\n",
       "        }}\n",
       "}});\n",
       "\n",
       "// Listen for the removal of the full notebook cells\n",
       "var notebookContainer = gd.closest('#notebook-container');\n",
       "if (notebookContainer) {{\n",
       "    x.observe(notebookContainer, {childList: true});\n",
       "}}\n",
       "\n",
       "// Listen for the clearing of the current output cell\n",
       "var outputEl = gd.closest('.output');\n",
       "if (outputEl) {{\n",
       "    x.observe(outputEl, {childList: true});\n",
       "}}\n",
       "\n",
       "                        })\n",
       "                };\n",
       "                });\n",
       "            </script>\n",
       "        </div>"
      ]
     },
     "metadata": {},
     "output_type": "display_data"
    }
   ],
   "source": [
    "fig = go.Figure()\n",
    "\n",
    "fig.add_trace(go.Bar(name='TO Margin',x=nfl_end_of_game.groupby('binned').agg({'to_diff':'mean'}).index, \n",
    "                     y=nfl_end_of_game.groupby('binned').agg({'to_diff':'mean'})['to_diff'])\n",
    "             )\n",
    "\n",
    "fig.update_layout(\n",
    "    title={\n",
    "        'text':'<b>'+'Turnover Margin'+'</b>'+'<br>(Giveaways Minus Takeways)',\n",
    "        'y':0.9,\n",
    "        'x':0.5,\n",
    "        'xanchor': 'center',\n",
    "        'yanchor': 'top'})\n",
    "\n",
    "fig"
   ]
  },
  {
   "cell_type": "code",
   "execution_count": 66,
   "metadata": {},
   "outputs": [
    {
     "data": {
      "text/html": [
       "<div>\n",
       "<style scoped>\n",
       "    .dataframe tbody tr th:only-of-type {\n",
       "        vertical-align: middle;\n",
       "    }\n",
       "\n",
       "    .dataframe tbody tr th {\n",
       "        vertical-align: top;\n",
       "    }\n",
       "\n",
       "    .dataframe thead th {\n",
       "        text-align: right;\n",
       "    }\n",
       "</style>\n",
       "<table border=\"1\" class=\"dataframe\">\n",
       "  <thead>\n",
       "    <tr style=\"text-align: right;\">\n",
       "      <th></th>\n",
       "      <th>game_id</th>\n",
       "      <th>Team</th>\n",
       "      <th>team_against</th>\n",
       "      <th>score</th>\n",
       "      <th>score_against</th>\n",
       "      <th>yards</th>\n",
       "      <th>yards_against</th>\n",
       "      <th>run_plays</th>\n",
       "      <th>run_plays_against</th>\n",
       "      <th>pass_plays</th>\n",
       "      <th>pass_plays_against</th>\n",
       "      <th>to_for</th>\n",
       "      <th>to_against</th>\n",
       "      <th>fg_at</th>\n",
       "      <th>fg_md</th>\n",
       "      <th>fg_at_against</th>\n",
       "      <th>fg_md_against</th>\n",
       "      <th>pass_yards</th>\n",
       "      <th>pass_yards_against</th>\n",
       "      <th>run_yards</th>\n",
       "      <th>run_yards_against</th>\n",
       "      <th>win</th>\n",
       "      <th>pass_run_ratio</th>\n",
       "      <th>yard_diff</th>\n",
       "      <th>to_diff</th>\n",
       "      <th>fg_rate</th>\n",
       "      <th>fg_rate_against</th>\n",
       "      <th>pass_yds_per_at</th>\n",
       "      <th>run_yds_per_at</th>\n",
       "      <th>pass_yds_per_at_against</th>\n",
       "      <th>run_yds_per_at_against</th>\n",
       "      <th>year</th>\n",
       "      <th>binned</th>\n",
       "      <th>win_group_num</th>\n",
       "    </tr>\n",
       "  </thead>\n",
       "  <tbody>\n",
       "    <tr>\n",
       "      <td>0</td>\n",
       "      <td>2015091000</td>\n",
       "      <td>NE</td>\n",
       "      <td>PIT</td>\n",
       "      <td>28</td>\n",
       "      <td>21</td>\n",
       "      <td>366.0</td>\n",
       "      <td>429.0</td>\n",
       "      <td>23.0</td>\n",
       "      <td>25.0</td>\n",
       "      <td>34.0</td>\n",
       "      <td>42.0</td>\n",
       "      <td>1.0</td>\n",
       "      <td>2.0</td>\n",
       "      <td>0.0</td>\n",
       "      <td>0.0</td>\n",
       "      <td>4.0</td>\n",
       "      <td>4.0</td>\n",
       "      <td>281.0</td>\n",
       "      <td>332.0</td>\n",
       "      <td>82.0</td>\n",
       "      <td>134.0</td>\n",
       "      <td>1.0</td>\n",
       "      <td>1.48</td>\n",
       "      <td>-63.0</td>\n",
       "      <td>1.0</td>\n",
       "      <td>0.5</td>\n",
       "      <td>1.0</td>\n",
       "      <td>8.264706</td>\n",
       "      <td>3.565217</td>\n",
       "      <td>7.904762</td>\n",
       "      <td>5.360000</td>\n",
       "      <td>2015</td>\n",
       "      <td>10+ Wins</td>\n",
       "      <td>NaN</td>\n",
       "    </tr>\n",
       "    <tr>\n",
       "      <td>1</td>\n",
       "      <td>2015091300</td>\n",
       "      <td>CHI</td>\n",
       "      <td>GB</td>\n",
       "      <td>23</td>\n",
       "      <td>31</td>\n",
       "      <td>416.0</td>\n",
       "      <td>336.0</td>\n",
       "      <td>33.0</td>\n",
       "      <td>28.0</td>\n",
       "      <td>36.0</td>\n",
       "      <td>23.0</td>\n",
       "      <td>1.0</td>\n",
       "      <td>0.0</td>\n",
       "      <td>3.0</td>\n",
       "      <td>3.0</td>\n",
       "      <td>1.0</td>\n",
       "      <td>1.0</td>\n",
       "      <td>213.0</td>\n",
       "      <td>189.0</td>\n",
       "      <td>189.0</td>\n",
       "      <td>134.0</td>\n",
       "      <td>0.0</td>\n",
       "      <td>1.09</td>\n",
       "      <td>80.0</td>\n",
       "      <td>-1.0</td>\n",
       "      <td>1.0</td>\n",
       "      <td>1.0</td>\n",
       "      <td>5.916667</td>\n",
       "      <td>5.727273</td>\n",
       "      <td>8.217391</td>\n",
       "      <td>4.785714</td>\n",
       "      <td>2015</td>\n",
       "      <td>5 or Less</td>\n",
       "      <td>NaN</td>\n",
       "    </tr>\n",
       "  </tbody>\n",
       "</table>\n",
       "</div>"
      ],
      "text/plain": [
       "      game_id Team team_against  score  score_against  yards  yards_against  \\\n",
       "0  2015091000   NE          PIT     28             21  366.0          429.0   \n",
       "1  2015091300  CHI           GB     23             31  416.0          336.0   \n",
       "\n",
       "   run_plays  run_plays_against  pass_plays  pass_plays_against  to_for  \\\n",
       "0       23.0               25.0        34.0                42.0     1.0   \n",
       "1       33.0               28.0        36.0                23.0     1.0   \n",
       "\n",
       "   to_against  fg_at  fg_md  fg_at_against  fg_md_against  pass_yards  \\\n",
       "0         2.0    0.0    0.0            4.0            4.0       281.0   \n",
       "1         0.0    3.0    3.0            1.0            1.0       213.0   \n",
       "\n",
       "   pass_yards_against  run_yards  run_yards_against  win  pass_run_ratio  \\\n",
       "0               332.0       82.0              134.0  1.0            1.48   \n",
       "1               189.0      189.0              134.0  0.0            1.09   \n",
       "\n",
       "   yard_diff  to_diff  fg_rate  fg_rate_against  pass_yds_per_at  \\\n",
       "0      -63.0      1.0      0.5              1.0         8.264706   \n",
       "1       80.0     -1.0      1.0              1.0         5.916667   \n",
       "\n",
       "   run_yds_per_at  pass_yds_per_at_against  run_yds_per_at_against  year  \\\n",
       "0        3.565217                 7.904762                5.360000  2015   \n",
       "1        5.727273                 8.217391                4.785714  2015   \n",
       "\n",
       "      binned  win_group_num  \n",
       "0   10+ Wins            NaN  \n",
       "1  5 or Less            NaN  "
      ]
     },
     "execution_count": 66,
     "metadata": {},
     "output_type": "execute_result"
    }
   ],
   "source": [
    "nfl_end_of_game.head(2)"
   ]
  },
  {
   "cell_type": "code",
   "execution_count": 67,
   "metadata": {},
   "outputs": [
    {
     "data": {
      "application/vnd.plotly.v1+json": {
       "config": {
        "plotlyServerURL": "https://plot.ly"
       },
       "data": [
        {
         "name": "TO Margin",
         "type": "bar",
         "x": [
          "5 or Less",
          "Between 6 and 9",
          "10+ Wins"
         ],
         "y": [
          0.9195530726256983,
          0.9457202505219207,
          0.9490131578947368
         ]
        }
       ],
       "layout": {
        "template": {
         "data": {
          "bar": [
           {
            "error_x": {
             "color": "#2a3f5f"
            },
            "error_y": {
             "color": "#2a3f5f"
            },
            "marker": {
             "line": {
              "color": "#E5ECF6",
              "width": 0.5
             }
            },
            "type": "bar"
           }
          ],
          "barpolar": [
           {
            "marker": {
             "line": {
              "color": "#E5ECF6",
              "width": 0.5
             }
            },
            "type": "barpolar"
           }
          ],
          "carpet": [
           {
            "aaxis": {
             "endlinecolor": "#2a3f5f",
             "gridcolor": "white",
             "linecolor": "white",
             "minorgridcolor": "white",
             "startlinecolor": "#2a3f5f"
            },
            "baxis": {
             "endlinecolor": "#2a3f5f",
             "gridcolor": "white",
             "linecolor": "white",
             "minorgridcolor": "white",
             "startlinecolor": "#2a3f5f"
            },
            "type": "carpet"
           }
          ],
          "choropleth": [
           {
            "colorbar": {
             "outlinewidth": 0,
             "ticks": ""
            },
            "type": "choropleth"
           }
          ],
          "contour": [
           {
            "colorbar": {
             "outlinewidth": 0,
             "ticks": ""
            },
            "colorscale": [
             [
              0,
              "#0d0887"
             ],
             [
              0.1111111111111111,
              "#46039f"
             ],
             [
              0.2222222222222222,
              "#7201a8"
             ],
             [
              0.3333333333333333,
              "#9c179e"
             ],
             [
              0.4444444444444444,
              "#bd3786"
             ],
             [
              0.5555555555555556,
              "#d8576b"
             ],
             [
              0.6666666666666666,
              "#ed7953"
             ],
             [
              0.7777777777777778,
              "#fb9f3a"
             ],
             [
              0.8888888888888888,
              "#fdca26"
             ],
             [
              1,
              "#f0f921"
             ]
            ],
            "type": "contour"
           }
          ],
          "contourcarpet": [
           {
            "colorbar": {
             "outlinewidth": 0,
             "ticks": ""
            },
            "type": "contourcarpet"
           }
          ],
          "heatmap": [
           {
            "colorbar": {
             "outlinewidth": 0,
             "ticks": ""
            },
            "colorscale": [
             [
              0,
              "#0d0887"
             ],
             [
              0.1111111111111111,
              "#46039f"
             ],
             [
              0.2222222222222222,
              "#7201a8"
             ],
             [
              0.3333333333333333,
              "#9c179e"
             ],
             [
              0.4444444444444444,
              "#bd3786"
             ],
             [
              0.5555555555555556,
              "#d8576b"
             ],
             [
              0.6666666666666666,
              "#ed7953"
             ],
             [
              0.7777777777777778,
              "#fb9f3a"
             ],
             [
              0.8888888888888888,
              "#fdca26"
             ],
             [
              1,
              "#f0f921"
             ]
            ],
            "type": "heatmap"
           }
          ],
          "heatmapgl": [
           {
            "colorbar": {
             "outlinewidth": 0,
             "ticks": ""
            },
            "colorscale": [
             [
              0,
              "#0d0887"
             ],
             [
              0.1111111111111111,
              "#46039f"
             ],
             [
              0.2222222222222222,
              "#7201a8"
             ],
             [
              0.3333333333333333,
              "#9c179e"
             ],
             [
              0.4444444444444444,
              "#bd3786"
             ],
             [
              0.5555555555555556,
              "#d8576b"
             ],
             [
              0.6666666666666666,
              "#ed7953"
             ],
             [
              0.7777777777777778,
              "#fb9f3a"
             ],
             [
              0.8888888888888888,
              "#fdca26"
             ],
             [
              1,
              "#f0f921"
             ]
            ],
            "type": "heatmapgl"
           }
          ],
          "histogram": [
           {
            "marker": {
             "colorbar": {
              "outlinewidth": 0,
              "ticks": ""
             }
            },
            "type": "histogram"
           }
          ],
          "histogram2d": [
           {
            "colorbar": {
             "outlinewidth": 0,
             "ticks": ""
            },
            "colorscale": [
             [
              0,
              "#0d0887"
             ],
             [
              0.1111111111111111,
              "#46039f"
             ],
             [
              0.2222222222222222,
              "#7201a8"
             ],
             [
              0.3333333333333333,
              "#9c179e"
             ],
             [
              0.4444444444444444,
              "#bd3786"
             ],
             [
              0.5555555555555556,
              "#d8576b"
             ],
             [
              0.6666666666666666,
              "#ed7953"
             ],
             [
              0.7777777777777778,
              "#fb9f3a"
             ],
             [
              0.8888888888888888,
              "#fdca26"
             ],
             [
              1,
              "#f0f921"
             ]
            ],
            "type": "histogram2d"
           }
          ],
          "histogram2dcontour": [
           {
            "colorbar": {
             "outlinewidth": 0,
             "ticks": ""
            },
            "colorscale": [
             [
              0,
              "#0d0887"
             ],
             [
              0.1111111111111111,
              "#46039f"
             ],
             [
              0.2222222222222222,
              "#7201a8"
             ],
             [
              0.3333333333333333,
              "#9c179e"
             ],
             [
              0.4444444444444444,
              "#bd3786"
             ],
             [
              0.5555555555555556,
              "#d8576b"
             ],
             [
              0.6666666666666666,
              "#ed7953"
             ],
             [
              0.7777777777777778,
              "#fb9f3a"
             ],
             [
              0.8888888888888888,
              "#fdca26"
             ],
             [
              1,
              "#f0f921"
             ]
            ],
            "type": "histogram2dcontour"
           }
          ],
          "mesh3d": [
           {
            "colorbar": {
             "outlinewidth": 0,
             "ticks": ""
            },
            "type": "mesh3d"
           }
          ],
          "parcoords": [
           {
            "line": {
             "colorbar": {
              "outlinewidth": 0,
              "ticks": ""
             }
            },
            "type": "parcoords"
           }
          ],
          "pie": [
           {
            "automargin": true,
            "type": "pie"
           }
          ],
          "scatter": [
           {
            "marker": {
             "colorbar": {
              "outlinewidth": 0,
              "ticks": ""
             }
            },
            "type": "scatter"
           }
          ],
          "scatter3d": [
           {
            "line": {
             "colorbar": {
              "outlinewidth": 0,
              "ticks": ""
             }
            },
            "marker": {
             "colorbar": {
              "outlinewidth": 0,
              "ticks": ""
             }
            },
            "type": "scatter3d"
           }
          ],
          "scattercarpet": [
           {
            "marker": {
             "colorbar": {
              "outlinewidth": 0,
              "ticks": ""
             }
            },
            "type": "scattercarpet"
           }
          ],
          "scattergeo": [
           {
            "marker": {
             "colorbar": {
              "outlinewidth": 0,
              "ticks": ""
             }
            },
            "type": "scattergeo"
           }
          ],
          "scattergl": [
           {
            "marker": {
             "colorbar": {
              "outlinewidth": 0,
              "ticks": ""
             }
            },
            "type": "scattergl"
           }
          ],
          "scattermapbox": [
           {
            "marker": {
             "colorbar": {
              "outlinewidth": 0,
              "ticks": ""
             }
            },
            "type": "scattermapbox"
           }
          ],
          "scatterpolar": [
           {
            "marker": {
             "colorbar": {
              "outlinewidth": 0,
              "ticks": ""
             }
            },
            "type": "scatterpolar"
           }
          ],
          "scatterpolargl": [
           {
            "marker": {
             "colorbar": {
              "outlinewidth": 0,
              "ticks": ""
             }
            },
            "type": "scatterpolargl"
           }
          ],
          "scatterternary": [
           {
            "marker": {
             "colorbar": {
              "outlinewidth": 0,
              "ticks": ""
             }
            },
            "type": "scatterternary"
           }
          ],
          "surface": [
           {
            "colorbar": {
             "outlinewidth": 0,
             "ticks": ""
            },
            "colorscale": [
             [
              0,
              "#0d0887"
             ],
             [
              0.1111111111111111,
              "#46039f"
             ],
             [
              0.2222222222222222,
              "#7201a8"
             ],
             [
              0.3333333333333333,
              "#9c179e"
             ],
             [
              0.4444444444444444,
              "#bd3786"
             ],
             [
              0.5555555555555556,
              "#d8576b"
             ],
             [
              0.6666666666666666,
              "#ed7953"
             ],
             [
              0.7777777777777778,
              "#fb9f3a"
             ],
             [
              0.8888888888888888,
              "#fdca26"
             ],
             [
              1,
              "#f0f921"
             ]
            ],
            "type": "surface"
           }
          ],
          "table": [
           {
            "cells": {
             "fill": {
              "color": "#EBF0F8"
             },
             "line": {
              "color": "white"
             }
            },
            "header": {
             "fill": {
              "color": "#C8D4E3"
             },
             "line": {
              "color": "white"
             }
            },
            "type": "table"
           }
          ]
         },
         "layout": {
          "annotationdefaults": {
           "arrowcolor": "#2a3f5f",
           "arrowhead": 0,
           "arrowwidth": 1
          },
          "coloraxis": {
           "colorbar": {
            "outlinewidth": 0,
            "ticks": ""
           }
          },
          "colorscale": {
           "diverging": [
            [
             0,
             "#8e0152"
            ],
            [
             0.1,
             "#c51b7d"
            ],
            [
             0.2,
             "#de77ae"
            ],
            [
             0.3,
             "#f1b6da"
            ],
            [
             0.4,
             "#fde0ef"
            ],
            [
             0.5,
             "#f7f7f7"
            ],
            [
             0.6,
             "#e6f5d0"
            ],
            [
             0.7,
             "#b8e186"
            ],
            [
             0.8,
             "#7fbc41"
            ],
            [
             0.9,
             "#4d9221"
            ],
            [
             1,
             "#276419"
            ]
           ],
           "sequential": [
            [
             0,
             "#0d0887"
            ],
            [
             0.1111111111111111,
             "#46039f"
            ],
            [
             0.2222222222222222,
             "#7201a8"
            ],
            [
             0.3333333333333333,
             "#9c179e"
            ],
            [
             0.4444444444444444,
             "#bd3786"
            ],
            [
             0.5555555555555556,
             "#d8576b"
            ],
            [
             0.6666666666666666,
             "#ed7953"
            ],
            [
             0.7777777777777778,
             "#fb9f3a"
            ],
            [
             0.8888888888888888,
             "#fdca26"
            ],
            [
             1,
             "#f0f921"
            ]
           ],
           "sequentialminus": [
            [
             0,
             "#0d0887"
            ],
            [
             0.1111111111111111,
             "#46039f"
            ],
            [
             0.2222222222222222,
             "#7201a8"
            ],
            [
             0.3333333333333333,
             "#9c179e"
            ],
            [
             0.4444444444444444,
             "#bd3786"
            ],
            [
             0.5555555555555556,
             "#d8576b"
            ],
            [
             0.6666666666666666,
             "#ed7953"
            ],
            [
             0.7777777777777778,
             "#fb9f3a"
            ],
            [
             0.8888888888888888,
             "#fdca26"
            ],
            [
             1,
             "#f0f921"
            ]
           ]
          },
          "colorway": [
           "#636efa",
           "#EF553B",
           "#00cc96",
           "#ab63fa",
           "#FFA15A",
           "#19d3f3",
           "#FF6692",
           "#B6E880",
           "#FF97FF",
           "#FECB52"
          ],
          "font": {
           "color": "#2a3f5f"
          },
          "geo": {
           "bgcolor": "white",
           "lakecolor": "white",
           "landcolor": "#E5ECF6",
           "showlakes": true,
           "showland": true,
           "subunitcolor": "white"
          },
          "hoverlabel": {
           "align": "left"
          },
          "hovermode": "closest",
          "mapbox": {
           "style": "light"
          },
          "paper_bgcolor": "white",
          "plot_bgcolor": "#E5ECF6",
          "polar": {
           "angularaxis": {
            "gridcolor": "white",
            "linecolor": "white",
            "ticks": ""
           },
           "bgcolor": "#E5ECF6",
           "radialaxis": {
            "gridcolor": "white",
            "linecolor": "white",
            "ticks": ""
           }
          },
          "scene": {
           "xaxis": {
            "backgroundcolor": "#E5ECF6",
            "gridcolor": "white",
            "gridwidth": 2,
            "linecolor": "white",
            "showbackground": true,
            "ticks": "",
            "zerolinecolor": "white"
           },
           "yaxis": {
            "backgroundcolor": "#E5ECF6",
            "gridcolor": "white",
            "gridwidth": 2,
            "linecolor": "white",
            "showbackground": true,
            "ticks": "",
            "zerolinecolor": "white"
           },
           "zaxis": {
            "backgroundcolor": "#E5ECF6",
            "gridcolor": "white",
            "gridwidth": 2,
            "linecolor": "white",
            "showbackground": true,
            "ticks": "",
            "zerolinecolor": "white"
           }
          },
          "shapedefaults": {
           "line": {
            "color": "#2a3f5f"
           }
          },
          "ternary": {
           "aaxis": {
            "gridcolor": "white",
            "linecolor": "white",
            "ticks": ""
           },
           "baxis": {
            "gridcolor": "white",
            "linecolor": "white",
            "ticks": ""
           },
           "bgcolor": "#E5ECF6",
           "caxis": {
            "gridcolor": "white",
            "linecolor": "white",
            "ticks": ""
           }
          },
          "title": {
           "x": 0.05
          },
          "xaxis": {
           "automargin": true,
           "gridcolor": "white",
           "linecolor": "white",
           "ticks": "",
           "title": {
            "standoff": 15
           },
           "zerolinecolor": "white",
           "zerolinewidth": 2
          },
          "yaxis": {
           "automargin": true,
           "gridcolor": "white",
           "linecolor": "white",
           "ticks": "",
           "title": {
            "standoff": 15
           },
           "zerolinecolor": "white",
           "zerolinewidth": 2
          }
         }
        },
        "title": {
         "text": "<b>Field Goal Success Rate</b><br>(Field Goals Made versus Attempted)",
         "x": 0.5,
         "xanchor": "center",
         "y": 0.9,
         "yanchor": "top"
        }
       }
      },
      "text/html": [
       "<div>\n",
       "        \n",
       "        \n",
       "            <div id=\"5f1fad16-6569-414e-973a-4a6428b95943\" class=\"plotly-graph-div\" style=\"height:525px; width:100%;\"></div>\n",
       "            <script type=\"text/javascript\">\n",
       "                require([\"plotly\"], function(Plotly) {\n",
       "                    window.PLOTLYENV=window.PLOTLYENV || {};\n",
       "                    \n",
       "                if (document.getElementById(\"5f1fad16-6569-414e-973a-4a6428b95943\")) {\n",
       "                    Plotly.newPlot(\n",
       "                        '5f1fad16-6569-414e-973a-4a6428b95943',\n",
       "                        [{\"name\": \"TO Margin\", \"type\": \"bar\", \"x\": [\"5 or Less\", \"Between 6 and 9\", \"10+ Wins\"], \"y\": [0.9195530726256983, 0.9457202505219207, 0.9490131578947368]}],\n",
       "                        {\"template\": {\"data\": {\"bar\": [{\"error_x\": {\"color\": \"#2a3f5f\"}, \"error_y\": {\"color\": \"#2a3f5f\"}, \"marker\": {\"line\": {\"color\": \"#E5ECF6\", \"width\": 0.5}}, \"type\": \"bar\"}], \"barpolar\": [{\"marker\": {\"line\": {\"color\": \"#E5ECF6\", \"width\": 0.5}}, \"type\": \"barpolar\"}], \"carpet\": [{\"aaxis\": {\"endlinecolor\": \"#2a3f5f\", \"gridcolor\": \"white\", \"linecolor\": \"white\", \"minorgridcolor\": \"white\", \"startlinecolor\": \"#2a3f5f\"}, \"baxis\": {\"endlinecolor\": \"#2a3f5f\", \"gridcolor\": \"white\", \"linecolor\": \"white\", \"minorgridcolor\": \"white\", \"startlinecolor\": \"#2a3f5f\"}, \"type\": \"carpet\"}], \"choropleth\": [{\"colorbar\": {\"outlinewidth\": 0, \"ticks\": \"\"}, \"type\": \"choropleth\"}], \"contour\": [{\"colorbar\": {\"outlinewidth\": 0, \"ticks\": \"\"}, \"colorscale\": [[0.0, \"#0d0887\"], [0.1111111111111111, \"#46039f\"], [0.2222222222222222, \"#7201a8\"], [0.3333333333333333, \"#9c179e\"], [0.4444444444444444, \"#bd3786\"], [0.5555555555555556, \"#d8576b\"], [0.6666666666666666, \"#ed7953\"], [0.7777777777777778, \"#fb9f3a\"], [0.8888888888888888, \"#fdca26\"], [1.0, \"#f0f921\"]], \"type\": \"contour\"}], \"contourcarpet\": [{\"colorbar\": {\"outlinewidth\": 0, \"ticks\": \"\"}, \"type\": \"contourcarpet\"}], \"heatmap\": [{\"colorbar\": {\"outlinewidth\": 0, \"ticks\": \"\"}, \"colorscale\": [[0.0, \"#0d0887\"], [0.1111111111111111, \"#46039f\"], [0.2222222222222222, \"#7201a8\"], [0.3333333333333333, \"#9c179e\"], [0.4444444444444444, \"#bd3786\"], [0.5555555555555556, \"#d8576b\"], [0.6666666666666666, \"#ed7953\"], [0.7777777777777778, \"#fb9f3a\"], [0.8888888888888888, \"#fdca26\"], [1.0, \"#f0f921\"]], \"type\": \"heatmap\"}], \"heatmapgl\": [{\"colorbar\": {\"outlinewidth\": 0, \"ticks\": \"\"}, \"colorscale\": [[0.0, \"#0d0887\"], [0.1111111111111111, \"#46039f\"], [0.2222222222222222, \"#7201a8\"], [0.3333333333333333, \"#9c179e\"], [0.4444444444444444, \"#bd3786\"], [0.5555555555555556, \"#d8576b\"], [0.6666666666666666, \"#ed7953\"], [0.7777777777777778, \"#fb9f3a\"], [0.8888888888888888, \"#fdca26\"], [1.0, \"#f0f921\"]], \"type\": \"heatmapgl\"}], \"histogram\": [{\"marker\": {\"colorbar\": {\"outlinewidth\": 0, \"ticks\": \"\"}}, \"type\": \"histogram\"}], \"histogram2d\": [{\"colorbar\": {\"outlinewidth\": 0, \"ticks\": \"\"}, \"colorscale\": [[0.0, \"#0d0887\"], [0.1111111111111111, \"#46039f\"], [0.2222222222222222, \"#7201a8\"], [0.3333333333333333, \"#9c179e\"], [0.4444444444444444, \"#bd3786\"], [0.5555555555555556, \"#d8576b\"], [0.6666666666666666, \"#ed7953\"], [0.7777777777777778, \"#fb9f3a\"], [0.8888888888888888, \"#fdca26\"], [1.0, \"#f0f921\"]], \"type\": \"histogram2d\"}], \"histogram2dcontour\": [{\"colorbar\": {\"outlinewidth\": 0, \"ticks\": \"\"}, \"colorscale\": [[0.0, \"#0d0887\"], [0.1111111111111111, \"#46039f\"], [0.2222222222222222, \"#7201a8\"], [0.3333333333333333, \"#9c179e\"], [0.4444444444444444, \"#bd3786\"], [0.5555555555555556, \"#d8576b\"], [0.6666666666666666, \"#ed7953\"], [0.7777777777777778, \"#fb9f3a\"], [0.8888888888888888, \"#fdca26\"], [1.0, \"#f0f921\"]], \"type\": \"histogram2dcontour\"}], \"mesh3d\": [{\"colorbar\": {\"outlinewidth\": 0, \"ticks\": \"\"}, \"type\": \"mesh3d\"}], \"parcoords\": [{\"line\": {\"colorbar\": {\"outlinewidth\": 0, \"ticks\": \"\"}}, \"type\": \"parcoords\"}], \"pie\": [{\"automargin\": true, \"type\": \"pie\"}], \"scatter\": [{\"marker\": {\"colorbar\": {\"outlinewidth\": 0, \"ticks\": \"\"}}, \"type\": \"scatter\"}], \"scatter3d\": [{\"line\": {\"colorbar\": {\"outlinewidth\": 0, \"ticks\": \"\"}}, \"marker\": {\"colorbar\": {\"outlinewidth\": 0, \"ticks\": \"\"}}, \"type\": \"scatter3d\"}], \"scattercarpet\": [{\"marker\": {\"colorbar\": {\"outlinewidth\": 0, \"ticks\": \"\"}}, \"type\": \"scattercarpet\"}], \"scattergeo\": [{\"marker\": {\"colorbar\": {\"outlinewidth\": 0, \"ticks\": \"\"}}, \"type\": \"scattergeo\"}], \"scattergl\": [{\"marker\": {\"colorbar\": {\"outlinewidth\": 0, \"ticks\": \"\"}}, \"type\": \"scattergl\"}], \"scattermapbox\": [{\"marker\": {\"colorbar\": {\"outlinewidth\": 0, \"ticks\": \"\"}}, \"type\": \"scattermapbox\"}], \"scatterpolar\": [{\"marker\": {\"colorbar\": {\"outlinewidth\": 0, \"ticks\": \"\"}}, \"type\": \"scatterpolar\"}], \"scatterpolargl\": [{\"marker\": {\"colorbar\": {\"outlinewidth\": 0, \"ticks\": \"\"}}, \"type\": \"scatterpolargl\"}], \"scatterternary\": [{\"marker\": {\"colorbar\": {\"outlinewidth\": 0, \"ticks\": \"\"}}, \"type\": \"scatterternary\"}], \"surface\": [{\"colorbar\": {\"outlinewidth\": 0, \"ticks\": \"\"}, \"colorscale\": [[0.0, \"#0d0887\"], [0.1111111111111111, \"#46039f\"], [0.2222222222222222, \"#7201a8\"], [0.3333333333333333, \"#9c179e\"], [0.4444444444444444, \"#bd3786\"], [0.5555555555555556, \"#d8576b\"], [0.6666666666666666, \"#ed7953\"], [0.7777777777777778, \"#fb9f3a\"], [0.8888888888888888, \"#fdca26\"], [1.0, \"#f0f921\"]], \"type\": \"surface\"}], \"table\": [{\"cells\": {\"fill\": {\"color\": \"#EBF0F8\"}, \"line\": {\"color\": \"white\"}}, \"header\": {\"fill\": {\"color\": \"#C8D4E3\"}, \"line\": {\"color\": \"white\"}}, \"type\": \"table\"}]}, \"layout\": {\"annotationdefaults\": {\"arrowcolor\": \"#2a3f5f\", \"arrowhead\": 0, \"arrowwidth\": 1}, \"coloraxis\": {\"colorbar\": {\"outlinewidth\": 0, \"ticks\": \"\"}}, \"colorscale\": {\"diverging\": [[0, \"#8e0152\"], [0.1, \"#c51b7d\"], [0.2, \"#de77ae\"], [0.3, \"#f1b6da\"], [0.4, \"#fde0ef\"], [0.5, \"#f7f7f7\"], [0.6, \"#e6f5d0\"], [0.7, \"#b8e186\"], [0.8, \"#7fbc41\"], [0.9, \"#4d9221\"], [1, \"#276419\"]], \"sequential\": [[0.0, \"#0d0887\"], [0.1111111111111111, \"#46039f\"], [0.2222222222222222, \"#7201a8\"], [0.3333333333333333, \"#9c179e\"], [0.4444444444444444, \"#bd3786\"], [0.5555555555555556, \"#d8576b\"], [0.6666666666666666, \"#ed7953\"], [0.7777777777777778, \"#fb9f3a\"], [0.8888888888888888, \"#fdca26\"], [1.0, \"#f0f921\"]], \"sequentialminus\": [[0.0, \"#0d0887\"], [0.1111111111111111, \"#46039f\"], [0.2222222222222222, \"#7201a8\"], [0.3333333333333333, \"#9c179e\"], [0.4444444444444444, \"#bd3786\"], [0.5555555555555556, \"#d8576b\"], [0.6666666666666666, \"#ed7953\"], [0.7777777777777778, \"#fb9f3a\"], [0.8888888888888888, \"#fdca26\"], [1.0, \"#f0f921\"]]}, \"colorway\": [\"#636efa\", \"#EF553B\", \"#00cc96\", \"#ab63fa\", \"#FFA15A\", \"#19d3f3\", \"#FF6692\", \"#B6E880\", \"#FF97FF\", \"#FECB52\"], \"font\": {\"color\": \"#2a3f5f\"}, \"geo\": {\"bgcolor\": \"white\", \"lakecolor\": \"white\", \"landcolor\": \"#E5ECF6\", \"showlakes\": true, \"showland\": true, \"subunitcolor\": \"white\"}, \"hoverlabel\": {\"align\": \"left\"}, \"hovermode\": \"closest\", \"mapbox\": {\"style\": \"light\"}, \"paper_bgcolor\": \"white\", \"plot_bgcolor\": \"#E5ECF6\", \"polar\": {\"angularaxis\": {\"gridcolor\": \"white\", \"linecolor\": \"white\", \"ticks\": \"\"}, \"bgcolor\": \"#E5ECF6\", \"radialaxis\": {\"gridcolor\": \"white\", \"linecolor\": \"white\", \"ticks\": \"\"}}, \"scene\": {\"xaxis\": {\"backgroundcolor\": \"#E5ECF6\", \"gridcolor\": \"white\", \"gridwidth\": 2, \"linecolor\": \"white\", \"showbackground\": true, \"ticks\": \"\", \"zerolinecolor\": \"white\"}, \"yaxis\": {\"backgroundcolor\": \"#E5ECF6\", \"gridcolor\": \"white\", \"gridwidth\": 2, \"linecolor\": \"white\", \"showbackground\": true, \"ticks\": \"\", \"zerolinecolor\": \"white\"}, \"zaxis\": {\"backgroundcolor\": \"#E5ECF6\", \"gridcolor\": \"white\", \"gridwidth\": 2, \"linecolor\": \"white\", \"showbackground\": true, \"ticks\": \"\", \"zerolinecolor\": \"white\"}}, \"shapedefaults\": {\"line\": {\"color\": \"#2a3f5f\"}}, \"ternary\": {\"aaxis\": {\"gridcolor\": \"white\", \"linecolor\": \"white\", \"ticks\": \"\"}, \"baxis\": {\"gridcolor\": \"white\", \"linecolor\": \"white\", \"ticks\": \"\"}, \"bgcolor\": \"#E5ECF6\", \"caxis\": {\"gridcolor\": \"white\", \"linecolor\": \"white\", \"ticks\": \"\"}}, \"title\": {\"x\": 0.05}, \"xaxis\": {\"automargin\": true, \"gridcolor\": \"white\", \"linecolor\": \"white\", \"ticks\": \"\", \"title\": {\"standoff\": 15}, \"zerolinecolor\": \"white\", \"zerolinewidth\": 2}, \"yaxis\": {\"automargin\": true, \"gridcolor\": \"white\", \"linecolor\": \"white\", \"ticks\": \"\", \"title\": {\"standoff\": 15}, \"zerolinecolor\": \"white\", \"zerolinewidth\": 2}}}, \"title\": {\"text\": \"<b>Field Goal Success Rate</b><br>(Field Goals Made versus Attempted)\", \"x\": 0.5, \"xanchor\": \"center\", \"y\": 0.9, \"yanchor\": \"top\"}},\n",
       "                        {\"responsive\": true}\n",
       "                    ).then(function(){\n",
       "                            \n",
       "var gd = document.getElementById('5f1fad16-6569-414e-973a-4a6428b95943');\n",
       "var x = new MutationObserver(function (mutations, observer) {{\n",
       "        var display = window.getComputedStyle(gd).display;\n",
       "        if (!display || display === 'none') {{\n",
       "            console.log([gd, 'removed!']);\n",
       "            Plotly.purge(gd);\n",
       "            observer.disconnect();\n",
       "        }}\n",
       "}});\n",
       "\n",
       "// Listen for the removal of the full notebook cells\n",
       "var notebookContainer = gd.closest('#notebook-container');\n",
       "if (notebookContainer) {{\n",
       "    x.observe(notebookContainer, {childList: true});\n",
       "}}\n",
       "\n",
       "// Listen for the clearing of the current output cell\n",
       "var outputEl = gd.closest('.output');\n",
       "if (outputEl) {{\n",
       "    x.observe(outputEl, {childList: true});\n",
       "}}\n",
       "\n",
       "                        })\n",
       "                };\n",
       "                });\n",
       "            </script>\n",
       "        </div>"
      ]
     },
     "metadata": {},
     "output_type": "display_data"
    }
   ],
   "source": [
    "fig = go.Figure()\n",
    "\n",
    "fig.add_trace(go.Bar(name='TO Margin',x=nfl_end_of_game.groupby('binned').agg({'fg_rate':'mean'}).index, \n",
    "                     y=nfl_end_of_game.groupby('binned').agg({'fg_rate':'mean'})['fg_rate'])\n",
    "             )\n",
    "\n",
    "fig.update_layout(\n",
    "    title={\n",
    "        'text':'<b>'+'Field Goal Success Rate'+'</b>'+'<br>(Field Goals Made versus Attempted)',\n",
    "        'y':0.9,\n",
    "        'x':0.5,\n",
    "        'xanchor': 'center',\n",
    "        'yanchor': 'top'})\n",
    "\n",
    "fig"
   ]
  },
  {
   "cell_type": "code",
   "execution_count": 68,
   "metadata": {},
   "outputs": [
    {
     "data": {
      "application/vnd.plotly.v1+json": {
       "config": {
        "plotlyServerURL": "https://plot.ly"
       },
       "data": [
        {
         "name": "Yard Diff",
         "type": "bar",
         "x": [
          "5 or Less",
          "Between 6 and 9",
          "10+ Wins"
         ],
         "y": [
          -24.075977653631284,
          1.8768267223382047,
          33.96217105263158
         ]
        }
       ],
       "layout": {
        "shapes": [
         {
          "line": {
           "color": "DarkOrange",
           "width": 3
          },
          "type": "line",
          "x0": 0.033,
          "x1": 0.3,
          "xref": "paper",
          "y0": 0.1,
          "y1": 0.1,
          "yref": "paper"
         }
        ],
        "template": {
         "data": {
          "bar": [
           {
            "error_x": {
             "color": "#2a3f5f"
            },
            "error_y": {
             "color": "#2a3f5f"
            },
            "marker": {
             "line": {
              "color": "#E5ECF6",
              "width": 0.5
             }
            },
            "type": "bar"
           }
          ],
          "barpolar": [
           {
            "marker": {
             "line": {
              "color": "#E5ECF6",
              "width": 0.5
             }
            },
            "type": "barpolar"
           }
          ],
          "carpet": [
           {
            "aaxis": {
             "endlinecolor": "#2a3f5f",
             "gridcolor": "white",
             "linecolor": "white",
             "minorgridcolor": "white",
             "startlinecolor": "#2a3f5f"
            },
            "baxis": {
             "endlinecolor": "#2a3f5f",
             "gridcolor": "white",
             "linecolor": "white",
             "minorgridcolor": "white",
             "startlinecolor": "#2a3f5f"
            },
            "type": "carpet"
           }
          ],
          "choropleth": [
           {
            "colorbar": {
             "outlinewidth": 0,
             "ticks": ""
            },
            "type": "choropleth"
           }
          ],
          "contour": [
           {
            "colorbar": {
             "outlinewidth": 0,
             "ticks": ""
            },
            "colorscale": [
             [
              0,
              "#0d0887"
             ],
             [
              0.1111111111111111,
              "#46039f"
             ],
             [
              0.2222222222222222,
              "#7201a8"
             ],
             [
              0.3333333333333333,
              "#9c179e"
             ],
             [
              0.4444444444444444,
              "#bd3786"
             ],
             [
              0.5555555555555556,
              "#d8576b"
             ],
             [
              0.6666666666666666,
              "#ed7953"
             ],
             [
              0.7777777777777778,
              "#fb9f3a"
             ],
             [
              0.8888888888888888,
              "#fdca26"
             ],
             [
              1,
              "#f0f921"
             ]
            ],
            "type": "contour"
           }
          ],
          "contourcarpet": [
           {
            "colorbar": {
             "outlinewidth": 0,
             "ticks": ""
            },
            "type": "contourcarpet"
           }
          ],
          "heatmap": [
           {
            "colorbar": {
             "outlinewidth": 0,
             "ticks": ""
            },
            "colorscale": [
             [
              0,
              "#0d0887"
             ],
             [
              0.1111111111111111,
              "#46039f"
             ],
             [
              0.2222222222222222,
              "#7201a8"
             ],
             [
              0.3333333333333333,
              "#9c179e"
             ],
             [
              0.4444444444444444,
              "#bd3786"
             ],
             [
              0.5555555555555556,
              "#d8576b"
             ],
             [
              0.6666666666666666,
              "#ed7953"
             ],
             [
              0.7777777777777778,
              "#fb9f3a"
             ],
             [
              0.8888888888888888,
              "#fdca26"
             ],
             [
              1,
              "#f0f921"
             ]
            ],
            "type": "heatmap"
           }
          ],
          "heatmapgl": [
           {
            "colorbar": {
             "outlinewidth": 0,
             "ticks": ""
            },
            "colorscale": [
             [
              0,
              "#0d0887"
             ],
             [
              0.1111111111111111,
              "#46039f"
             ],
             [
              0.2222222222222222,
              "#7201a8"
             ],
             [
              0.3333333333333333,
              "#9c179e"
             ],
             [
              0.4444444444444444,
              "#bd3786"
             ],
             [
              0.5555555555555556,
              "#d8576b"
             ],
             [
              0.6666666666666666,
              "#ed7953"
             ],
             [
              0.7777777777777778,
              "#fb9f3a"
             ],
             [
              0.8888888888888888,
              "#fdca26"
             ],
             [
              1,
              "#f0f921"
             ]
            ],
            "type": "heatmapgl"
           }
          ],
          "histogram": [
           {
            "marker": {
             "colorbar": {
              "outlinewidth": 0,
              "ticks": ""
             }
            },
            "type": "histogram"
           }
          ],
          "histogram2d": [
           {
            "colorbar": {
             "outlinewidth": 0,
             "ticks": ""
            },
            "colorscale": [
             [
              0,
              "#0d0887"
             ],
             [
              0.1111111111111111,
              "#46039f"
             ],
             [
              0.2222222222222222,
              "#7201a8"
             ],
             [
              0.3333333333333333,
              "#9c179e"
             ],
             [
              0.4444444444444444,
              "#bd3786"
             ],
             [
              0.5555555555555556,
              "#d8576b"
             ],
             [
              0.6666666666666666,
              "#ed7953"
             ],
             [
              0.7777777777777778,
              "#fb9f3a"
             ],
             [
              0.8888888888888888,
              "#fdca26"
             ],
             [
              1,
              "#f0f921"
             ]
            ],
            "type": "histogram2d"
           }
          ],
          "histogram2dcontour": [
           {
            "colorbar": {
             "outlinewidth": 0,
             "ticks": ""
            },
            "colorscale": [
             [
              0,
              "#0d0887"
             ],
             [
              0.1111111111111111,
              "#46039f"
             ],
             [
              0.2222222222222222,
              "#7201a8"
             ],
             [
              0.3333333333333333,
              "#9c179e"
             ],
             [
              0.4444444444444444,
              "#bd3786"
             ],
             [
              0.5555555555555556,
              "#d8576b"
             ],
             [
              0.6666666666666666,
              "#ed7953"
             ],
             [
              0.7777777777777778,
              "#fb9f3a"
             ],
             [
              0.8888888888888888,
              "#fdca26"
             ],
             [
              1,
              "#f0f921"
             ]
            ],
            "type": "histogram2dcontour"
           }
          ],
          "mesh3d": [
           {
            "colorbar": {
             "outlinewidth": 0,
             "ticks": ""
            },
            "type": "mesh3d"
           }
          ],
          "parcoords": [
           {
            "line": {
             "colorbar": {
              "outlinewidth": 0,
              "ticks": ""
             }
            },
            "type": "parcoords"
           }
          ],
          "pie": [
           {
            "automargin": true,
            "type": "pie"
           }
          ],
          "scatter": [
           {
            "marker": {
             "colorbar": {
              "outlinewidth": 0,
              "ticks": ""
             }
            },
            "type": "scatter"
           }
          ],
          "scatter3d": [
           {
            "line": {
             "colorbar": {
              "outlinewidth": 0,
              "ticks": ""
             }
            },
            "marker": {
             "colorbar": {
              "outlinewidth": 0,
              "ticks": ""
             }
            },
            "type": "scatter3d"
           }
          ],
          "scattercarpet": [
           {
            "marker": {
             "colorbar": {
              "outlinewidth": 0,
              "ticks": ""
             }
            },
            "type": "scattercarpet"
           }
          ],
          "scattergeo": [
           {
            "marker": {
             "colorbar": {
              "outlinewidth": 0,
              "ticks": ""
             }
            },
            "type": "scattergeo"
           }
          ],
          "scattergl": [
           {
            "marker": {
             "colorbar": {
              "outlinewidth": 0,
              "ticks": ""
             }
            },
            "type": "scattergl"
           }
          ],
          "scattermapbox": [
           {
            "marker": {
             "colorbar": {
              "outlinewidth": 0,
              "ticks": ""
             }
            },
            "type": "scattermapbox"
           }
          ],
          "scatterpolar": [
           {
            "marker": {
             "colorbar": {
              "outlinewidth": 0,
              "ticks": ""
             }
            },
            "type": "scatterpolar"
           }
          ],
          "scatterpolargl": [
           {
            "marker": {
             "colorbar": {
              "outlinewidth": 0,
              "ticks": ""
             }
            },
            "type": "scatterpolargl"
           }
          ],
          "scatterternary": [
           {
            "marker": {
             "colorbar": {
              "outlinewidth": 0,
              "ticks": ""
             }
            },
            "type": "scatterternary"
           }
          ],
          "surface": [
           {
            "colorbar": {
             "outlinewidth": 0,
             "ticks": ""
            },
            "colorscale": [
             [
              0,
              "#0d0887"
             ],
             [
              0.1111111111111111,
              "#46039f"
             ],
             [
              0.2222222222222222,
              "#7201a8"
             ],
             [
              0.3333333333333333,
              "#9c179e"
             ],
             [
              0.4444444444444444,
              "#bd3786"
             ],
             [
              0.5555555555555556,
              "#d8576b"
             ],
             [
              0.6666666666666666,
              "#ed7953"
             ],
             [
              0.7777777777777778,
              "#fb9f3a"
             ],
             [
              0.8888888888888888,
              "#fdca26"
             ],
             [
              1,
              "#f0f921"
             ]
            ],
            "type": "surface"
           }
          ],
          "table": [
           {
            "cells": {
             "fill": {
              "color": "#EBF0F8"
             },
             "line": {
              "color": "white"
             }
            },
            "header": {
             "fill": {
              "color": "#C8D4E3"
             },
             "line": {
              "color": "white"
             }
            },
            "type": "table"
           }
          ]
         },
         "layout": {
          "annotationdefaults": {
           "arrowcolor": "#2a3f5f",
           "arrowhead": 0,
           "arrowwidth": 1
          },
          "coloraxis": {
           "colorbar": {
            "outlinewidth": 0,
            "ticks": ""
           }
          },
          "colorscale": {
           "diverging": [
            [
             0,
             "#8e0152"
            ],
            [
             0.1,
             "#c51b7d"
            ],
            [
             0.2,
             "#de77ae"
            ],
            [
             0.3,
             "#f1b6da"
            ],
            [
             0.4,
             "#fde0ef"
            ],
            [
             0.5,
             "#f7f7f7"
            ],
            [
             0.6,
             "#e6f5d0"
            ],
            [
             0.7,
             "#b8e186"
            ],
            [
             0.8,
             "#7fbc41"
            ],
            [
             0.9,
             "#4d9221"
            ],
            [
             1,
             "#276419"
            ]
           ],
           "sequential": [
            [
             0,
             "#0d0887"
            ],
            [
             0.1111111111111111,
             "#46039f"
            ],
            [
             0.2222222222222222,
             "#7201a8"
            ],
            [
             0.3333333333333333,
             "#9c179e"
            ],
            [
             0.4444444444444444,
             "#bd3786"
            ],
            [
             0.5555555555555556,
             "#d8576b"
            ],
            [
             0.6666666666666666,
             "#ed7953"
            ],
            [
             0.7777777777777778,
             "#fb9f3a"
            ],
            [
             0.8888888888888888,
             "#fdca26"
            ],
            [
             1,
             "#f0f921"
            ]
           ],
           "sequentialminus": [
            [
             0,
             "#0d0887"
            ],
            [
             0.1111111111111111,
             "#46039f"
            ],
            [
             0.2222222222222222,
             "#7201a8"
            ],
            [
             0.3333333333333333,
             "#9c179e"
            ],
            [
             0.4444444444444444,
             "#bd3786"
            ],
            [
             0.5555555555555556,
             "#d8576b"
            ],
            [
             0.6666666666666666,
             "#ed7953"
            ],
            [
             0.7777777777777778,
             "#fb9f3a"
            ],
            [
             0.8888888888888888,
             "#fdca26"
            ],
            [
             1,
             "#f0f921"
            ]
           ]
          },
          "colorway": [
           "#636efa",
           "#EF553B",
           "#00cc96",
           "#ab63fa",
           "#FFA15A",
           "#19d3f3",
           "#FF6692",
           "#B6E880",
           "#FF97FF",
           "#FECB52"
          ],
          "font": {
           "color": "#2a3f5f"
          },
          "geo": {
           "bgcolor": "white",
           "lakecolor": "white",
           "landcolor": "#E5ECF6",
           "showlakes": true,
           "showland": true,
           "subunitcolor": "white"
          },
          "hoverlabel": {
           "align": "left"
          },
          "hovermode": "closest",
          "mapbox": {
           "style": "light"
          },
          "paper_bgcolor": "white",
          "plot_bgcolor": "#E5ECF6",
          "polar": {
           "angularaxis": {
            "gridcolor": "white",
            "linecolor": "white",
            "ticks": ""
           },
           "bgcolor": "#E5ECF6",
           "radialaxis": {
            "gridcolor": "white",
            "linecolor": "white",
            "ticks": ""
           }
          },
          "scene": {
           "xaxis": {
            "backgroundcolor": "#E5ECF6",
            "gridcolor": "white",
            "gridwidth": 2,
            "linecolor": "white",
            "showbackground": true,
            "ticks": "",
            "zerolinecolor": "white"
           },
           "yaxis": {
            "backgroundcolor": "#E5ECF6",
            "gridcolor": "white",
            "gridwidth": 2,
            "linecolor": "white",
            "showbackground": true,
            "ticks": "",
            "zerolinecolor": "white"
           },
           "zaxis": {
            "backgroundcolor": "#E5ECF6",
            "gridcolor": "white",
            "gridwidth": 2,
            "linecolor": "white",
            "showbackground": true,
            "ticks": "",
            "zerolinecolor": "white"
           }
          },
          "shapedefaults": {
           "line": {
            "color": "#2a3f5f"
           }
          },
          "ternary": {
           "aaxis": {
            "gridcolor": "white",
            "linecolor": "white",
            "ticks": ""
           },
           "baxis": {
            "gridcolor": "white",
            "linecolor": "white",
            "ticks": ""
           },
           "bgcolor": "#E5ECF6",
           "caxis": {
            "gridcolor": "white",
            "linecolor": "white",
            "ticks": ""
           }
          },
          "title": {
           "x": 0.05
          },
          "xaxis": {
           "automargin": true,
           "gridcolor": "white",
           "linecolor": "white",
           "ticks": "",
           "title": {
            "standoff": 15
           },
           "zerolinecolor": "white",
           "zerolinewidth": 2
          },
          "yaxis": {
           "automargin": true,
           "gridcolor": "white",
           "linecolor": "white",
           "ticks": "",
           "title": {
            "standoff": 15
           },
           "zerolinecolor": "white",
           "zerolinewidth": 2
          }
         }
        },
        "title": {
         "text": "<b>Game Average Yard Differential</b><br>(Yards Gained Minus Yard Given Up)",
         "x": 0.5,
         "xanchor": "center",
         "y": 0.9,
         "yanchor": "top"
        },
        "xaxis": {
         "range": [
          -0.5,
          2.5
         ]
        },
        "yaxis": {
         "range": [
          -40,
          40
         ]
        }
       }
      },
      "text/html": [
       "<div>\n",
       "        \n",
       "        \n",
       "            <div id=\"378f8e08-b945-4688-b85a-fecf1a78fd34\" class=\"plotly-graph-div\" style=\"height:525px; width:100%;\"></div>\n",
       "            <script type=\"text/javascript\">\n",
       "                require([\"plotly\"], function(Plotly) {\n",
       "                    window.PLOTLYENV=window.PLOTLYENV || {};\n",
       "                    \n",
       "                if (document.getElementById(\"378f8e08-b945-4688-b85a-fecf1a78fd34\")) {\n",
       "                    Plotly.newPlot(\n",
       "                        '378f8e08-b945-4688-b85a-fecf1a78fd34',\n",
       "                        [{\"name\": \"Yard Diff\", \"type\": \"bar\", \"x\": [\"5 or Less\", \"Between 6 and 9\", \"10+ Wins\"], \"y\": [-24.075977653631284, 1.8768267223382047, 33.96217105263158]}],\n",
       "                        {\"shapes\": [{\"line\": {\"color\": \"DarkOrange\", \"width\": 3}, \"type\": \"line\", \"x0\": 0.033, \"x1\": 0.3, \"xref\": \"paper\", \"y0\": 0.1, \"y1\": 0.1, \"yref\": \"paper\"}], \"template\": {\"data\": {\"bar\": [{\"error_x\": {\"color\": \"#2a3f5f\"}, \"error_y\": {\"color\": \"#2a3f5f\"}, \"marker\": {\"line\": {\"color\": \"#E5ECF6\", \"width\": 0.5}}, \"type\": \"bar\"}], \"barpolar\": [{\"marker\": {\"line\": {\"color\": \"#E5ECF6\", \"width\": 0.5}}, \"type\": \"barpolar\"}], \"carpet\": [{\"aaxis\": {\"endlinecolor\": \"#2a3f5f\", \"gridcolor\": \"white\", \"linecolor\": \"white\", \"minorgridcolor\": \"white\", \"startlinecolor\": \"#2a3f5f\"}, \"baxis\": {\"endlinecolor\": \"#2a3f5f\", \"gridcolor\": \"white\", \"linecolor\": \"white\", \"minorgridcolor\": \"white\", \"startlinecolor\": \"#2a3f5f\"}, \"type\": \"carpet\"}], \"choropleth\": [{\"colorbar\": {\"outlinewidth\": 0, \"ticks\": \"\"}, \"type\": \"choropleth\"}], \"contour\": [{\"colorbar\": {\"outlinewidth\": 0, \"ticks\": \"\"}, \"colorscale\": [[0.0, \"#0d0887\"], [0.1111111111111111, \"#46039f\"], [0.2222222222222222, \"#7201a8\"], [0.3333333333333333, \"#9c179e\"], [0.4444444444444444, \"#bd3786\"], [0.5555555555555556, \"#d8576b\"], [0.6666666666666666, \"#ed7953\"], [0.7777777777777778, \"#fb9f3a\"], [0.8888888888888888, \"#fdca26\"], [1.0, \"#f0f921\"]], \"type\": \"contour\"}], \"contourcarpet\": [{\"colorbar\": {\"outlinewidth\": 0, \"ticks\": \"\"}, \"type\": \"contourcarpet\"}], \"heatmap\": [{\"colorbar\": {\"outlinewidth\": 0, \"ticks\": \"\"}, \"colorscale\": [[0.0, \"#0d0887\"], [0.1111111111111111, \"#46039f\"], [0.2222222222222222, \"#7201a8\"], [0.3333333333333333, \"#9c179e\"], [0.4444444444444444, \"#bd3786\"], [0.5555555555555556, \"#d8576b\"], [0.6666666666666666, \"#ed7953\"], [0.7777777777777778, \"#fb9f3a\"], [0.8888888888888888, \"#fdca26\"], [1.0, \"#f0f921\"]], \"type\": \"heatmap\"}], \"heatmapgl\": [{\"colorbar\": {\"outlinewidth\": 0, \"ticks\": \"\"}, \"colorscale\": [[0.0, \"#0d0887\"], [0.1111111111111111, \"#46039f\"], [0.2222222222222222, \"#7201a8\"], [0.3333333333333333, \"#9c179e\"], [0.4444444444444444, \"#bd3786\"], [0.5555555555555556, \"#d8576b\"], [0.6666666666666666, \"#ed7953\"], [0.7777777777777778, \"#fb9f3a\"], [0.8888888888888888, \"#fdca26\"], [1.0, \"#f0f921\"]], \"type\": \"heatmapgl\"}], \"histogram\": [{\"marker\": {\"colorbar\": {\"outlinewidth\": 0, \"ticks\": \"\"}}, \"type\": \"histogram\"}], \"histogram2d\": [{\"colorbar\": {\"outlinewidth\": 0, \"ticks\": \"\"}, \"colorscale\": [[0.0, \"#0d0887\"], [0.1111111111111111, \"#46039f\"], [0.2222222222222222, \"#7201a8\"], [0.3333333333333333, \"#9c179e\"], [0.4444444444444444, \"#bd3786\"], [0.5555555555555556, \"#d8576b\"], [0.6666666666666666, \"#ed7953\"], [0.7777777777777778, \"#fb9f3a\"], [0.8888888888888888, \"#fdca26\"], [1.0, \"#f0f921\"]], \"type\": \"histogram2d\"}], \"histogram2dcontour\": [{\"colorbar\": {\"outlinewidth\": 0, \"ticks\": \"\"}, \"colorscale\": [[0.0, \"#0d0887\"], [0.1111111111111111, \"#46039f\"], [0.2222222222222222, \"#7201a8\"], [0.3333333333333333, \"#9c179e\"], [0.4444444444444444, \"#bd3786\"], [0.5555555555555556, \"#d8576b\"], [0.6666666666666666, \"#ed7953\"], [0.7777777777777778, \"#fb9f3a\"], [0.8888888888888888, \"#fdca26\"], [1.0, \"#f0f921\"]], \"type\": \"histogram2dcontour\"}], \"mesh3d\": [{\"colorbar\": {\"outlinewidth\": 0, \"ticks\": \"\"}, \"type\": \"mesh3d\"}], \"parcoords\": [{\"line\": {\"colorbar\": {\"outlinewidth\": 0, \"ticks\": \"\"}}, \"type\": \"parcoords\"}], \"pie\": [{\"automargin\": true, \"type\": \"pie\"}], \"scatter\": [{\"marker\": {\"colorbar\": {\"outlinewidth\": 0, \"ticks\": \"\"}}, \"type\": \"scatter\"}], \"scatter3d\": [{\"line\": {\"colorbar\": {\"outlinewidth\": 0, \"ticks\": \"\"}}, \"marker\": {\"colorbar\": {\"outlinewidth\": 0, \"ticks\": \"\"}}, \"type\": \"scatter3d\"}], \"scattercarpet\": [{\"marker\": {\"colorbar\": {\"outlinewidth\": 0, \"ticks\": \"\"}}, \"type\": \"scattercarpet\"}], \"scattergeo\": [{\"marker\": {\"colorbar\": {\"outlinewidth\": 0, \"ticks\": \"\"}}, \"type\": \"scattergeo\"}], \"scattergl\": [{\"marker\": {\"colorbar\": {\"outlinewidth\": 0, \"ticks\": \"\"}}, \"type\": \"scattergl\"}], \"scattermapbox\": [{\"marker\": {\"colorbar\": {\"outlinewidth\": 0, \"ticks\": \"\"}}, \"type\": \"scattermapbox\"}], \"scatterpolar\": [{\"marker\": {\"colorbar\": {\"outlinewidth\": 0, \"ticks\": \"\"}}, \"type\": \"scatterpolar\"}], \"scatterpolargl\": [{\"marker\": {\"colorbar\": {\"outlinewidth\": 0, \"ticks\": \"\"}}, \"type\": \"scatterpolargl\"}], \"scatterternary\": [{\"marker\": {\"colorbar\": {\"outlinewidth\": 0, \"ticks\": \"\"}}, \"type\": \"scatterternary\"}], \"surface\": [{\"colorbar\": {\"outlinewidth\": 0, \"ticks\": \"\"}, \"colorscale\": [[0.0, \"#0d0887\"], [0.1111111111111111, \"#46039f\"], [0.2222222222222222, \"#7201a8\"], [0.3333333333333333, \"#9c179e\"], [0.4444444444444444, \"#bd3786\"], [0.5555555555555556, \"#d8576b\"], [0.6666666666666666, \"#ed7953\"], [0.7777777777777778, \"#fb9f3a\"], [0.8888888888888888, \"#fdca26\"], [1.0, \"#f0f921\"]], \"type\": \"surface\"}], \"table\": [{\"cells\": {\"fill\": {\"color\": \"#EBF0F8\"}, \"line\": {\"color\": \"white\"}}, \"header\": {\"fill\": {\"color\": \"#C8D4E3\"}, \"line\": {\"color\": \"white\"}}, \"type\": \"table\"}]}, \"layout\": {\"annotationdefaults\": {\"arrowcolor\": \"#2a3f5f\", \"arrowhead\": 0, \"arrowwidth\": 1}, \"coloraxis\": {\"colorbar\": {\"outlinewidth\": 0, \"ticks\": \"\"}}, \"colorscale\": {\"diverging\": [[0, \"#8e0152\"], [0.1, \"#c51b7d\"], [0.2, \"#de77ae\"], [0.3, \"#f1b6da\"], [0.4, \"#fde0ef\"], [0.5, \"#f7f7f7\"], [0.6, \"#e6f5d0\"], [0.7, \"#b8e186\"], [0.8, \"#7fbc41\"], [0.9, \"#4d9221\"], [1, \"#276419\"]], \"sequential\": [[0.0, \"#0d0887\"], [0.1111111111111111, \"#46039f\"], [0.2222222222222222, \"#7201a8\"], [0.3333333333333333, \"#9c179e\"], [0.4444444444444444, \"#bd3786\"], [0.5555555555555556, \"#d8576b\"], [0.6666666666666666, \"#ed7953\"], [0.7777777777777778, \"#fb9f3a\"], [0.8888888888888888, \"#fdca26\"], [1.0, \"#f0f921\"]], \"sequentialminus\": [[0.0, \"#0d0887\"], [0.1111111111111111, \"#46039f\"], [0.2222222222222222, \"#7201a8\"], [0.3333333333333333, \"#9c179e\"], [0.4444444444444444, \"#bd3786\"], [0.5555555555555556, \"#d8576b\"], [0.6666666666666666, \"#ed7953\"], [0.7777777777777778, \"#fb9f3a\"], [0.8888888888888888, \"#fdca26\"], [1.0, \"#f0f921\"]]}, \"colorway\": [\"#636efa\", \"#EF553B\", \"#00cc96\", \"#ab63fa\", \"#FFA15A\", \"#19d3f3\", \"#FF6692\", \"#B6E880\", \"#FF97FF\", \"#FECB52\"], \"font\": {\"color\": \"#2a3f5f\"}, \"geo\": {\"bgcolor\": \"white\", \"lakecolor\": \"white\", \"landcolor\": \"#E5ECF6\", \"showlakes\": true, \"showland\": true, \"subunitcolor\": \"white\"}, \"hoverlabel\": {\"align\": \"left\"}, \"hovermode\": \"closest\", \"mapbox\": {\"style\": \"light\"}, \"paper_bgcolor\": \"white\", \"plot_bgcolor\": \"#E5ECF6\", \"polar\": {\"angularaxis\": {\"gridcolor\": \"white\", \"linecolor\": \"white\", \"ticks\": \"\"}, \"bgcolor\": \"#E5ECF6\", \"radialaxis\": {\"gridcolor\": \"white\", \"linecolor\": \"white\", \"ticks\": \"\"}}, \"scene\": {\"xaxis\": {\"backgroundcolor\": \"#E5ECF6\", \"gridcolor\": \"white\", \"gridwidth\": 2, \"linecolor\": \"white\", \"showbackground\": true, \"ticks\": \"\", \"zerolinecolor\": \"white\"}, \"yaxis\": {\"backgroundcolor\": \"#E5ECF6\", \"gridcolor\": \"white\", \"gridwidth\": 2, \"linecolor\": \"white\", \"showbackground\": true, \"ticks\": \"\", \"zerolinecolor\": \"white\"}, \"zaxis\": {\"backgroundcolor\": \"#E5ECF6\", \"gridcolor\": \"white\", \"gridwidth\": 2, \"linecolor\": \"white\", \"showbackground\": true, \"ticks\": \"\", \"zerolinecolor\": \"white\"}}, \"shapedefaults\": {\"line\": {\"color\": \"#2a3f5f\"}}, \"ternary\": {\"aaxis\": {\"gridcolor\": \"white\", \"linecolor\": \"white\", \"ticks\": \"\"}, \"baxis\": {\"gridcolor\": \"white\", \"linecolor\": \"white\", \"ticks\": \"\"}, \"bgcolor\": \"#E5ECF6\", \"caxis\": {\"gridcolor\": \"white\", \"linecolor\": \"white\", \"ticks\": \"\"}}, \"title\": {\"x\": 0.05}, \"xaxis\": {\"automargin\": true, \"gridcolor\": \"white\", \"linecolor\": \"white\", \"ticks\": \"\", \"title\": {\"standoff\": 15}, \"zerolinecolor\": \"white\", \"zerolinewidth\": 2}, \"yaxis\": {\"automargin\": true, \"gridcolor\": \"white\", \"linecolor\": \"white\", \"ticks\": \"\", \"title\": {\"standoff\": 15}, \"zerolinecolor\": \"white\", \"zerolinewidth\": 2}}}, \"title\": {\"text\": \"<b>Game Average Yard Differential</b><br>(Yards Gained Minus Yard Given Up)\", \"x\": 0.5, \"xanchor\": \"center\", \"y\": 0.9, \"yanchor\": \"top\"}, \"xaxis\": {\"range\": [-0.5, 2.5]}, \"yaxis\": {\"range\": [-40, 40]}},\n",
       "                        {\"responsive\": true}\n",
       "                    ).then(function(){\n",
       "                            \n",
       "var gd = document.getElementById('378f8e08-b945-4688-b85a-fecf1a78fd34');\n",
       "var x = new MutationObserver(function (mutations, observer) {{\n",
       "        var display = window.getComputedStyle(gd).display;\n",
       "        if (!display || display === 'none') {{\n",
       "            console.log([gd, 'removed!']);\n",
       "            Plotly.purge(gd);\n",
       "            observer.disconnect();\n",
       "        }}\n",
       "}});\n",
       "\n",
       "// Listen for the removal of the full notebook cells\n",
       "var notebookContainer = gd.closest('#notebook-container');\n",
       "if (notebookContainer) {{\n",
       "    x.observe(notebookContainer, {childList: true});\n",
       "}}\n",
       "\n",
       "// Listen for the clearing of the current output cell\n",
       "var outputEl = gd.closest('.output');\n",
       "if (outputEl) {{\n",
       "    x.observe(outputEl, {childList: true});\n",
       "}}\n",
       "\n",
       "                        })\n",
       "                };\n",
       "                });\n",
       "            </script>\n",
       "        </div>"
      ]
     },
     "metadata": {},
     "output_type": "display_data"
    }
   ],
   "source": [
    "# Yard Differential\n",
    "fig = go.Figure()\n",
    "\n",
    "fig.add_trace(go.Bar(name='Yard Diff',x=nfl_end_of_game.groupby('binned').agg({'yard_diff':'mean'}).index, \n",
    "                     y=nfl_end_of_game.groupby('binned').agg({'yard_diff':'mean'})['yard_diff'])\n",
    "             )\n",
    "\n",
    "fig.update_layout(\n",
    "    title={\n",
    "        'text':'<b>'+'Game Average Yard Differential'+'</b>'+'<br>(Yards Gained Minus Yard Given Up)',\n",
    "        'y':0.9,\n",
    "        'x':0.5,\n",
    "        'xanchor': 'center',\n",
    "        'yanchor': 'top'})\n",
    "\n",
    "fig.update_xaxes(range=[-.5, 2.5])\n",
    "fig.update_yaxes(range=[-40, 40])\n",
    "\n",
    "fig.add_shape(\n",
    "            type=\"line\",\n",
    "            xref=\"paper\",\n",
    "            yref=\"paper\",\n",
    "            x0=0.033,\n",
    "            y0=.1,\n",
    "            x1=.3,\n",
    "            y1=.1,\n",
    "            line=dict(\n",
    "                color=\"DarkOrange\",\n",
    "                width=3,\n",
    "            ),\n",
    "        )\n",
    "\n",
    "fig"
   ]
  },
  {
   "cell_type": "code",
   "execution_count": 69,
   "metadata": {},
   "outputs": [
    {
     "data": {
      "text/html": [
       "<div>\n",
       "<style scoped>\n",
       "    .dataframe tbody tr th:only-of-type {\n",
       "        vertical-align: middle;\n",
       "    }\n",
       "\n",
       "    .dataframe tbody tr th {\n",
       "        vertical-align: top;\n",
       "    }\n",
       "\n",
       "    .dataframe thead th {\n",
       "        text-align: right;\n",
       "    }\n",
       "</style>\n",
       "<table border=\"1\" class=\"dataframe\">\n",
       "  <thead>\n",
       "    <tr style=\"text-align: right;\">\n",
       "      <th></th>\n",
       "      <th>game_id</th>\n",
       "      <th>Team</th>\n",
       "      <th>team_against</th>\n",
       "      <th>score</th>\n",
       "      <th>score_against</th>\n",
       "      <th>yards</th>\n",
       "      <th>yards_against</th>\n",
       "      <th>run_plays</th>\n",
       "      <th>run_plays_against</th>\n",
       "      <th>pass_plays</th>\n",
       "      <th>pass_plays_against</th>\n",
       "      <th>to_for</th>\n",
       "      <th>to_against</th>\n",
       "      <th>fg_at</th>\n",
       "      <th>fg_md</th>\n",
       "      <th>fg_at_against</th>\n",
       "      <th>fg_md_against</th>\n",
       "      <th>pass_yards</th>\n",
       "      <th>pass_yards_against</th>\n",
       "      <th>run_yards</th>\n",
       "      <th>run_yards_against</th>\n",
       "      <th>win</th>\n",
       "      <th>pass_run_ratio</th>\n",
       "      <th>yard_diff</th>\n",
       "      <th>to_diff</th>\n",
       "      <th>fg_rate</th>\n",
       "      <th>fg_rate_against</th>\n",
       "      <th>pass_yds_per_at</th>\n",
       "      <th>run_yds_per_at</th>\n",
       "      <th>pass_yds_per_at_against</th>\n",
       "      <th>run_yds_per_at_against</th>\n",
       "      <th>year</th>\n",
       "      <th>binned</th>\n",
       "      <th>win_group_num</th>\n",
       "    </tr>\n",
       "  </thead>\n",
       "  <tbody>\n",
       "    <tr>\n",
       "      <td>0</td>\n",
       "      <td>2015091000</td>\n",
       "      <td>NE</td>\n",
       "      <td>PIT</td>\n",
       "      <td>28</td>\n",
       "      <td>21</td>\n",
       "      <td>366.0</td>\n",
       "      <td>429.0</td>\n",
       "      <td>23.0</td>\n",
       "      <td>25.0</td>\n",
       "      <td>34.0</td>\n",
       "      <td>42.0</td>\n",
       "      <td>1.0</td>\n",
       "      <td>2.0</td>\n",
       "      <td>0.0</td>\n",
       "      <td>0.0</td>\n",
       "      <td>4.0</td>\n",
       "      <td>4.0</td>\n",
       "      <td>281.0</td>\n",
       "      <td>332.0</td>\n",
       "      <td>82.0</td>\n",
       "      <td>134.0</td>\n",
       "      <td>1.0</td>\n",
       "      <td>1.48</td>\n",
       "      <td>-63.0</td>\n",
       "      <td>1.0</td>\n",
       "      <td>0.5</td>\n",
       "      <td>1.0</td>\n",
       "      <td>8.264706</td>\n",
       "      <td>3.565217</td>\n",
       "      <td>7.904762</td>\n",
       "      <td>5.360000</td>\n",
       "      <td>2015</td>\n",
       "      <td>10+ Wins</td>\n",
       "      <td>NaN</td>\n",
       "    </tr>\n",
       "    <tr>\n",
       "      <td>1</td>\n",
       "      <td>2015091300</td>\n",
       "      <td>CHI</td>\n",
       "      <td>GB</td>\n",
       "      <td>23</td>\n",
       "      <td>31</td>\n",
       "      <td>416.0</td>\n",
       "      <td>336.0</td>\n",
       "      <td>33.0</td>\n",
       "      <td>28.0</td>\n",
       "      <td>36.0</td>\n",
       "      <td>23.0</td>\n",
       "      <td>1.0</td>\n",
       "      <td>0.0</td>\n",
       "      <td>3.0</td>\n",
       "      <td>3.0</td>\n",
       "      <td>1.0</td>\n",
       "      <td>1.0</td>\n",
       "      <td>213.0</td>\n",
       "      <td>189.0</td>\n",
       "      <td>189.0</td>\n",
       "      <td>134.0</td>\n",
       "      <td>0.0</td>\n",
       "      <td>1.09</td>\n",
       "      <td>80.0</td>\n",
       "      <td>-1.0</td>\n",
       "      <td>1.0</td>\n",
       "      <td>1.0</td>\n",
       "      <td>5.916667</td>\n",
       "      <td>5.727273</td>\n",
       "      <td>8.217391</td>\n",
       "      <td>4.785714</td>\n",
       "      <td>2015</td>\n",
       "      <td>5 or Less</td>\n",
       "      <td>NaN</td>\n",
       "    </tr>\n",
       "  </tbody>\n",
       "</table>\n",
       "</div>"
      ],
      "text/plain": [
       "      game_id Team team_against  score  score_against  yards  yards_against  \\\n",
       "0  2015091000   NE          PIT     28             21  366.0          429.0   \n",
       "1  2015091300  CHI           GB     23             31  416.0          336.0   \n",
       "\n",
       "   run_plays  run_plays_against  pass_plays  pass_plays_against  to_for  \\\n",
       "0       23.0               25.0        34.0                42.0     1.0   \n",
       "1       33.0               28.0        36.0                23.0     1.0   \n",
       "\n",
       "   to_against  fg_at  fg_md  fg_at_against  fg_md_against  pass_yards  \\\n",
       "0         2.0    0.0    0.0            4.0            4.0       281.0   \n",
       "1         0.0    3.0    3.0            1.0            1.0       213.0   \n",
       "\n",
       "   pass_yards_against  run_yards  run_yards_against  win  pass_run_ratio  \\\n",
       "0               332.0       82.0              134.0  1.0            1.48   \n",
       "1               189.0      189.0              134.0  0.0            1.09   \n",
       "\n",
       "   yard_diff  to_diff  fg_rate  fg_rate_against  pass_yds_per_at  \\\n",
       "0      -63.0      1.0      0.5              1.0         8.264706   \n",
       "1       80.0     -1.0      1.0              1.0         5.916667   \n",
       "\n",
       "   run_yds_per_at  pass_yds_per_at_against  run_yds_per_at_against  year  \\\n",
       "0        3.565217                 7.904762                5.360000  2015   \n",
       "1        5.727273                 8.217391                4.785714  2015   \n",
       "\n",
       "      binned  win_group_num  \n",
       "0   10+ Wins            NaN  \n",
       "1  5 or Less            NaN  "
      ]
     },
     "execution_count": 69,
     "metadata": {},
     "output_type": "execute_result"
    }
   ],
   "source": [
    "nfl_end_of_game.head(2)"
   ]
  },
  {
   "cell_type": "code",
   "execution_count": 70,
   "metadata": {},
   "outputs": [
    {
     "data": {
      "application/vnd.plotly.v1+json": {
       "config": {
        "plotlyServerURL": "https://plot.ly"
       },
       "data": [
        {
         "name": "Yard Diff",
         "type": "bar",
         "x": [
          "5 or Less",
          "Between 6 and 9",
          "10+ Wins"
         ],
         "xaxis": "x",
         "y": [
          -24.075977653631284,
          1.8768267223382047,
          33.96217105263158
         ],
         "yaxis": "y"
        },
        {
         "name": "Yards Gained",
         "type": "scatter",
         "x": [
          "5 or Less",
          "Between 6 and 9",
          "10+ Wins"
         ],
         "xaxis": "x",
         "y": [
          332.81899441340784,
          340.94154488517745,
          371.17763157894734
         ],
         "yaxis": "y2"
        },
        {
         "name": "Yards Given Up",
         "type": "scatter",
         "x": [
          "5 or Less",
          "Between 6 and 9",
          "10+ Wins"
         ],
         "xaxis": "x",
         "y": [
          -356.89497206703913,
          -339.06471816283926,
          -337.2154605263158
         ],
         "yaxis": "y2"
        }
       ],
       "layout": {
        "template": {
         "data": {
          "bar": [
           {
            "error_x": {
             "color": "#2a3f5f"
            },
            "error_y": {
             "color": "#2a3f5f"
            },
            "marker": {
             "line": {
              "color": "#E5ECF6",
              "width": 0.5
             }
            },
            "type": "bar"
           }
          ],
          "barpolar": [
           {
            "marker": {
             "line": {
              "color": "#E5ECF6",
              "width": 0.5
             }
            },
            "type": "barpolar"
           }
          ],
          "carpet": [
           {
            "aaxis": {
             "endlinecolor": "#2a3f5f",
             "gridcolor": "white",
             "linecolor": "white",
             "minorgridcolor": "white",
             "startlinecolor": "#2a3f5f"
            },
            "baxis": {
             "endlinecolor": "#2a3f5f",
             "gridcolor": "white",
             "linecolor": "white",
             "minorgridcolor": "white",
             "startlinecolor": "#2a3f5f"
            },
            "type": "carpet"
           }
          ],
          "choropleth": [
           {
            "colorbar": {
             "outlinewidth": 0,
             "ticks": ""
            },
            "type": "choropleth"
           }
          ],
          "contour": [
           {
            "colorbar": {
             "outlinewidth": 0,
             "ticks": ""
            },
            "colorscale": [
             [
              0,
              "#0d0887"
             ],
             [
              0.1111111111111111,
              "#46039f"
             ],
             [
              0.2222222222222222,
              "#7201a8"
             ],
             [
              0.3333333333333333,
              "#9c179e"
             ],
             [
              0.4444444444444444,
              "#bd3786"
             ],
             [
              0.5555555555555556,
              "#d8576b"
             ],
             [
              0.6666666666666666,
              "#ed7953"
             ],
             [
              0.7777777777777778,
              "#fb9f3a"
             ],
             [
              0.8888888888888888,
              "#fdca26"
             ],
             [
              1,
              "#f0f921"
             ]
            ],
            "type": "contour"
           }
          ],
          "contourcarpet": [
           {
            "colorbar": {
             "outlinewidth": 0,
             "ticks": ""
            },
            "type": "contourcarpet"
           }
          ],
          "heatmap": [
           {
            "colorbar": {
             "outlinewidth": 0,
             "ticks": ""
            },
            "colorscale": [
             [
              0,
              "#0d0887"
             ],
             [
              0.1111111111111111,
              "#46039f"
             ],
             [
              0.2222222222222222,
              "#7201a8"
             ],
             [
              0.3333333333333333,
              "#9c179e"
             ],
             [
              0.4444444444444444,
              "#bd3786"
             ],
             [
              0.5555555555555556,
              "#d8576b"
             ],
             [
              0.6666666666666666,
              "#ed7953"
             ],
             [
              0.7777777777777778,
              "#fb9f3a"
             ],
             [
              0.8888888888888888,
              "#fdca26"
             ],
             [
              1,
              "#f0f921"
             ]
            ],
            "type": "heatmap"
           }
          ],
          "heatmapgl": [
           {
            "colorbar": {
             "outlinewidth": 0,
             "ticks": ""
            },
            "colorscale": [
             [
              0,
              "#0d0887"
             ],
             [
              0.1111111111111111,
              "#46039f"
             ],
             [
              0.2222222222222222,
              "#7201a8"
             ],
             [
              0.3333333333333333,
              "#9c179e"
             ],
             [
              0.4444444444444444,
              "#bd3786"
             ],
             [
              0.5555555555555556,
              "#d8576b"
             ],
             [
              0.6666666666666666,
              "#ed7953"
             ],
             [
              0.7777777777777778,
              "#fb9f3a"
             ],
             [
              0.8888888888888888,
              "#fdca26"
             ],
             [
              1,
              "#f0f921"
             ]
            ],
            "type": "heatmapgl"
           }
          ],
          "histogram": [
           {
            "marker": {
             "colorbar": {
              "outlinewidth": 0,
              "ticks": ""
             }
            },
            "type": "histogram"
           }
          ],
          "histogram2d": [
           {
            "colorbar": {
             "outlinewidth": 0,
             "ticks": ""
            },
            "colorscale": [
             [
              0,
              "#0d0887"
             ],
             [
              0.1111111111111111,
              "#46039f"
             ],
             [
              0.2222222222222222,
              "#7201a8"
             ],
             [
              0.3333333333333333,
              "#9c179e"
             ],
             [
              0.4444444444444444,
              "#bd3786"
             ],
             [
              0.5555555555555556,
              "#d8576b"
             ],
             [
              0.6666666666666666,
              "#ed7953"
             ],
             [
              0.7777777777777778,
              "#fb9f3a"
             ],
             [
              0.8888888888888888,
              "#fdca26"
             ],
             [
              1,
              "#f0f921"
             ]
            ],
            "type": "histogram2d"
           }
          ],
          "histogram2dcontour": [
           {
            "colorbar": {
             "outlinewidth": 0,
             "ticks": ""
            },
            "colorscale": [
             [
              0,
              "#0d0887"
             ],
             [
              0.1111111111111111,
              "#46039f"
             ],
             [
              0.2222222222222222,
              "#7201a8"
             ],
             [
              0.3333333333333333,
              "#9c179e"
             ],
             [
              0.4444444444444444,
              "#bd3786"
             ],
             [
              0.5555555555555556,
              "#d8576b"
             ],
             [
              0.6666666666666666,
              "#ed7953"
             ],
             [
              0.7777777777777778,
              "#fb9f3a"
             ],
             [
              0.8888888888888888,
              "#fdca26"
             ],
             [
              1,
              "#f0f921"
             ]
            ],
            "type": "histogram2dcontour"
           }
          ],
          "mesh3d": [
           {
            "colorbar": {
             "outlinewidth": 0,
             "ticks": ""
            },
            "type": "mesh3d"
           }
          ],
          "parcoords": [
           {
            "line": {
             "colorbar": {
              "outlinewidth": 0,
              "ticks": ""
             }
            },
            "type": "parcoords"
           }
          ],
          "pie": [
           {
            "automargin": true,
            "type": "pie"
           }
          ],
          "scatter": [
           {
            "marker": {
             "colorbar": {
              "outlinewidth": 0,
              "ticks": ""
             }
            },
            "type": "scatter"
           }
          ],
          "scatter3d": [
           {
            "line": {
             "colorbar": {
              "outlinewidth": 0,
              "ticks": ""
             }
            },
            "marker": {
             "colorbar": {
              "outlinewidth": 0,
              "ticks": ""
             }
            },
            "type": "scatter3d"
           }
          ],
          "scattercarpet": [
           {
            "marker": {
             "colorbar": {
              "outlinewidth": 0,
              "ticks": ""
             }
            },
            "type": "scattercarpet"
           }
          ],
          "scattergeo": [
           {
            "marker": {
             "colorbar": {
              "outlinewidth": 0,
              "ticks": ""
             }
            },
            "type": "scattergeo"
           }
          ],
          "scattergl": [
           {
            "marker": {
             "colorbar": {
              "outlinewidth": 0,
              "ticks": ""
             }
            },
            "type": "scattergl"
           }
          ],
          "scattermapbox": [
           {
            "marker": {
             "colorbar": {
              "outlinewidth": 0,
              "ticks": ""
             }
            },
            "type": "scattermapbox"
           }
          ],
          "scatterpolar": [
           {
            "marker": {
             "colorbar": {
              "outlinewidth": 0,
              "ticks": ""
             }
            },
            "type": "scatterpolar"
           }
          ],
          "scatterpolargl": [
           {
            "marker": {
             "colorbar": {
              "outlinewidth": 0,
              "ticks": ""
             }
            },
            "type": "scatterpolargl"
           }
          ],
          "scatterternary": [
           {
            "marker": {
             "colorbar": {
              "outlinewidth": 0,
              "ticks": ""
             }
            },
            "type": "scatterternary"
           }
          ],
          "surface": [
           {
            "colorbar": {
             "outlinewidth": 0,
             "ticks": ""
            },
            "colorscale": [
             [
              0,
              "#0d0887"
             ],
             [
              0.1111111111111111,
              "#46039f"
             ],
             [
              0.2222222222222222,
              "#7201a8"
             ],
             [
              0.3333333333333333,
              "#9c179e"
             ],
             [
              0.4444444444444444,
              "#bd3786"
             ],
             [
              0.5555555555555556,
              "#d8576b"
             ],
             [
              0.6666666666666666,
              "#ed7953"
             ],
             [
              0.7777777777777778,
              "#fb9f3a"
             ],
             [
              0.8888888888888888,
              "#fdca26"
             ],
             [
              1,
              "#f0f921"
             ]
            ],
            "type": "surface"
           }
          ],
          "table": [
           {
            "cells": {
             "fill": {
              "color": "#EBF0F8"
             },
             "line": {
              "color": "white"
             }
            },
            "header": {
             "fill": {
              "color": "#C8D4E3"
             },
             "line": {
              "color": "white"
             }
            },
            "type": "table"
           }
          ]
         },
         "layout": {
          "annotationdefaults": {
           "arrowcolor": "#2a3f5f",
           "arrowhead": 0,
           "arrowwidth": 1
          },
          "coloraxis": {
           "colorbar": {
            "outlinewidth": 0,
            "ticks": ""
           }
          },
          "colorscale": {
           "diverging": [
            [
             0,
             "#8e0152"
            ],
            [
             0.1,
             "#c51b7d"
            ],
            [
             0.2,
             "#de77ae"
            ],
            [
             0.3,
             "#f1b6da"
            ],
            [
             0.4,
             "#fde0ef"
            ],
            [
             0.5,
             "#f7f7f7"
            ],
            [
             0.6,
             "#e6f5d0"
            ],
            [
             0.7,
             "#b8e186"
            ],
            [
             0.8,
             "#7fbc41"
            ],
            [
             0.9,
             "#4d9221"
            ],
            [
             1,
             "#276419"
            ]
           ],
           "sequential": [
            [
             0,
             "#0d0887"
            ],
            [
             0.1111111111111111,
             "#46039f"
            ],
            [
             0.2222222222222222,
             "#7201a8"
            ],
            [
             0.3333333333333333,
             "#9c179e"
            ],
            [
             0.4444444444444444,
             "#bd3786"
            ],
            [
             0.5555555555555556,
             "#d8576b"
            ],
            [
             0.6666666666666666,
             "#ed7953"
            ],
            [
             0.7777777777777778,
             "#fb9f3a"
            ],
            [
             0.8888888888888888,
             "#fdca26"
            ],
            [
             1,
             "#f0f921"
            ]
           ],
           "sequentialminus": [
            [
             0,
             "#0d0887"
            ],
            [
             0.1111111111111111,
             "#46039f"
            ],
            [
             0.2222222222222222,
             "#7201a8"
            ],
            [
             0.3333333333333333,
             "#9c179e"
            ],
            [
             0.4444444444444444,
             "#bd3786"
            ],
            [
             0.5555555555555556,
             "#d8576b"
            ],
            [
             0.6666666666666666,
             "#ed7953"
            ],
            [
             0.7777777777777778,
             "#fb9f3a"
            ],
            [
             0.8888888888888888,
             "#fdca26"
            ],
            [
             1,
             "#f0f921"
            ]
           ]
          },
          "colorway": [
           "#636efa",
           "#EF553B",
           "#00cc96",
           "#ab63fa",
           "#FFA15A",
           "#19d3f3",
           "#FF6692",
           "#B6E880",
           "#FF97FF",
           "#FECB52"
          ],
          "font": {
           "color": "#2a3f5f"
          },
          "geo": {
           "bgcolor": "white",
           "lakecolor": "white",
           "landcolor": "#E5ECF6",
           "showlakes": true,
           "showland": true,
           "subunitcolor": "white"
          },
          "hoverlabel": {
           "align": "left"
          },
          "hovermode": "closest",
          "mapbox": {
           "style": "light"
          },
          "paper_bgcolor": "white",
          "plot_bgcolor": "#E5ECF6",
          "polar": {
           "angularaxis": {
            "gridcolor": "white",
            "linecolor": "white",
            "ticks": ""
           },
           "bgcolor": "#E5ECF6",
           "radialaxis": {
            "gridcolor": "white",
            "linecolor": "white",
            "ticks": ""
           }
          },
          "scene": {
           "xaxis": {
            "backgroundcolor": "#E5ECF6",
            "gridcolor": "white",
            "gridwidth": 2,
            "linecolor": "white",
            "showbackground": true,
            "ticks": "",
            "zerolinecolor": "white"
           },
           "yaxis": {
            "backgroundcolor": "#E5ECF6",
            "gridcolor": "white",
            "gridwidth": 2,
            "linecolor": "white",
            "showbackground": true,
            "ticks": "",
            "zerolinecolor": "white"
           },
           "zaxis": {
            "backgroundcolor": "#E5ECF6",
            "gridcolor": "white",
            "gridwidth": 2,
            "linecolor": "white",
            "showbackground": true,
            "ticks": "",
            "zerolinecolor": "white"
           }
          },
          "shapedefaults": {
           "line": {
            "color": "#2a3f5f"
           }
          },
          "ternary": {
           "aaxis": {
            "gridcolor": "white",
            "linecolor": "white",
            "ticks": ""
           },
           "baxis": {
            "gridcolor": "white",
            "linecolor": "white",
            "ticks": ""
           },
           "bgcolor": "#E5ECF6",
           "caxis": {
            "gridcolor": "white",
            "linecolor": "white",
            "ticks": ""
           }
          },
          "title": {
           "x": 0.05
          },
          "xaxis": {
           "automargin": true,
           "gridcolor": "white",
           "linecolor": "white",
           "ticks": "",
           "title": {
            "standoff": 15
           },
           "zerolinecolor": "white",
           "zerolinewidth": 2
          },
          "yaxis": {
           "automargin": true,
           "gridcolor": "white",
           "linecolor": "white",
           "ticks": "",
           "title": {
            "standoff": 15
           },
           "zerolinecolor": "white",
           "zerolinewidth": 2
          }
         }
        },
        "title": {
         "text": "<b>Game Average Yard Differential</b><br>(Yards Gained Minus Yard Given Up)",
         "x": 0.5,
         "xanchor": "center",
         "y": 0.9,
         "yanchor": "top"
        },
        "xaxis": {
         "anchor": "y",
         "domain": [
          0,
          0.94
         ]
        },
        "yaxis": {
         "anchor": "x",
         "domain": [
          0,
          1
         ]
        },
        "yaxis2": {
         "anchor": "x",
         "overlaying": "y",
         "side": "right"
        }
       }
      },
      "text/html": [
       "<div>\n",
       "        \n",
       "        \n",
       "            <div id=\"d1386be4-2626-4150-b0a2-199ab8de20a5\" class=\"plotly-graph-div\" style=\"height:525px; width:100%;\"></div>\n",
       "            <script type=\"text/javascript\">\n",
       "                require([\"plotly\"], function(Plotly) {\n",
       "                    window.PLOTLYENV=window.PLOTLYENV || {};\n",
       "                    \n",
       "                if (document.getElementById(\"d1386be4-2626-4150-b0a2-199ab8de20a5\")) {\n",
       "                    Plotly.newPlot(\n",
       "                        'd1386be4-2626-4150-b0a2-199ab8de20a5',\n",
       "                        [{\"name\": \"Yard Diff\", \"type\": \"bar\", \"x\": [\"5 or Less\", \"Between 6 and 9\", \"10+ Wins\"], \"xaxis\": \"x\", \"y\": [-24.075977653631284, 1.8768267223382047, 33.96217105263158], \"yaxis\": \"y\"}, {\"name\": \"Yards Gained\", \"type\": \"scatter\", \"x\": [\"5 or Less\", \"Between 6 and 9\", \"10+ Wins\"], \"xaxis\": \"x\", \"y\": [332.81899441340784, 340.94154488517745, 371.17763157894734], \"yaxis\": \"y2\"}, {\"name\": \"Yards Given Up\", \"type\": \"scatter\", \"x\": [\"5 or Less\", \"Between 6 and 9\", \"10+ Wins\"], \"xaxis\": \"x\", \"y\": [-356.89497206703913, -339.06471816283926, -337.2154605263158], \"yaxis\": \"y2\"}],\n",
       "                        {\"template\": {\"data\": {\"bar\": [{\"error_x\": {\"color\": \"#2a3f5f\"}, \"error_y\": {\"color\": \"#2a3f5f\"}, \"marker\": {\"line\": {\"color\": \"#E5ECF6\", \"width\": 0.5}}, \"type\": \"bar\"}], \"barpolar\": [{\"marker\": {\"line\": {\"color\": \"#E5ECF6\", \"width\": 0.5}}, \"type\": \"barpolar\"}], \"carpet\": [{\"aaxis\": {\"endlinecolor\": \"#2a3f5f\", \"gridcolor\": \"white\", \"linecolor\": \"white\", \"minorgridcolor\": \"white\", \"startlinecolor\": \"#2a3f5f\"}, \"baxis\": {\"endlinecolor\": \"#2a3f5f\", \"gridcolor\": \"white\", \"linecolor\": \"white\", \"minorgridcolor\": \"white\", \"startlinecolor\": \"#2a3f5f\"}, \"type\": \"carpet\"}], \"choropleth\": [{\"colorbar\": {\"outlinewidth\": 0, \"ticks\": \"\"}, \"type\": \"choropleth\"}], \"contour\": [{\"colorbar\": {\"outlinewidth\": 0, \"ticks\": \"\"}, \"colorscale\": [[0.0, \"#0d0887\"], [0.1111111111111111, \"#46039f\"], [0.2222222222222222, \"#7201a8\"], [0.3333333333333333, \"#9c179e\"], [0.4444444444444444, \"#bd3786\"], [0.5555555555555556, \"#d8576b\"], [0.6666666666666666, \"#ed7953\"], [0.7777777777777778, \"#fb9f3a\"], [0.8888888888888888, \"#fdca26\"], [1.0, \"#f0f921\"]], \"type\": \"contour\"}], \"contourcarpet\": [{\"colorbar\": {\"outlinewidth\": 0, \"ticks\": \"\"}, \"type\": \"contourcarpet\"}], \"heatmap\": [{\"colorbar\": {\"outlinewidth\": 0, \"ticks\": \"\"}, \"colorscale\": [[0.0, \"#0d0887\"], [0.1111111111111111, \"#46039f\"], [0.2222222222222222, \"#7201a8\"], [0.3333333333333333, \"#9c179e\"], [0.4444444444444444, \"#bd3786\"], [0.5555555555555556, \"#d8576b\"], [0.6666666666666666, \"#ed7953\"], [0.7777777777777778, \"#fb9f3a\"], [0.8888888888888888, \"#fdca26\"], [1.0, \"#f0f921\"]], \"type\": \"heatmap\"}], \"heatmapgl\": [{\"colorbar\": {\"outlinewidth\": 0, \"ticks\": \"\"}, \"colorscale\": [[0.0, \"#0d0887\"], [0.1111111111111111, \"#46039f\"], [0.2222222222222222, \"#7201a8\"], [0.3333333333333333, \"#9c179e\"], [0.4444444444444444, \"#bd3786\"], [0.5555555555555556, \"#d8576b\"], [0.6666666666666666, \"#ed7953\"], [0.7777777777777778, \"#fb9f3a\"], [0.8888888888888888, \"#fdca26\"], [1.0, \"#f0f921\"]], \"type\": \"heatmapgl\"}], \"histogram\": [{\"marker\": {\"colorbar\": {\"outlinewidth\": 0, \"ticks\": \"\"}}, \"type\": \"histogram\"}], \"histogram2d\": [{\"colorbar\": {\"outlinewidth\": 0, \"ticks\": \"\"}, \"colorscale\": [[0.0, \"#0d0887\"], [0.1111111111111111, \"#46039f\"], [0.2222222222222222, \"#7201a8\"], [0.3333333333333333, \"#9c179e\"], [0.4444444444444444, \"#bd3786\"], [0.5555555555555556, \"#d8576b\"], [0.6666666666666666, \"#ed7953\"], [0.7777777777777778, \"#fb9f3a\"], [0.8888888888888888, \"#fdca26\"], [1.0, \"#f0f921\"]], \"type\": \"histogram2d\"}], \"histogram2dcontour\": [{\"colorbar\": {\"outlinewidth\": 0, \"ticks\": \"\"}, \"colorscale\": [[0.0, \"#0d0887\"], [0.1111111111111111, \"#46039f\"], [0.2222222222222222, \"#7201a8\"], [0.3333333333333333, \"#9c179e\"], [0.4444444444444444, \"#bd3786\"], [0.5555555555555556, \"#d8576b\"], [0.6666666666666666, \"#ed7953\"], [0.7777777777777778, \"#fb9f3a\"], [0.8888888888888888, \"#fdca26\"], [1.0, \"#f0f921\"]], \"type\": \"histogram2dcontour\"}], \"mesh3d\": [{\"colorbar\": {\"outlinewidth\": 0, \"ticks\": \"\"}, \"type\": \"mesh3d\"}], \"parcoords\": [{\"line\": {\"colorbar\": {\"outlinewidth\": 0, \"ticks\": \"\"}}, \"type\": \"parcoords\"}], \"pie\": [{\"automargin\": true, \"type\": \"pie\"}], \"scatter\": [{\"marker\": {\"colorbar\": {\"outlinewidth\": 0, \"ticks\": \"\"}}, \"type\": \"scatter\"}], \"scatter3d\": [{\"line\": {\"colorbar\": {\"outlinewidth\": 0, \"ticks\": \"\"}}, \"marker\": {\"colorbar\": {\"outlinewidth\": 0, \"ticks\": \"\"}}, \"type\": \"scatter3d\"}], \"scattercarpet\": [{\"marker\": {\"colorbar\": {\"outlinewidth\": 0, \"ticks\": \"\"}}, \"type\": \"scattercarpet\"}], \"scattergeo\": [{\"marker\": {\"colorbar\": {\"outlinewidth\": 0, \"ticks\": \"\"}}, \"type\": \"scattergeo\"}], \"scattergl\": [{\"marker\": {\"colorbar\": {\"outlinewidth\": 0, \"ticks\": \"\"}}, \"type\": \"scattergl\"}], \"scattermapbox\": [{\"marker\": {\"colorbar\": {\"outlinewidth\": 0, \"ticks\": \"\"}}, \"type\": \"scattermapbox\"}], \"scatterpolar\": [{\"marker\": {\"colorbar\": {\"outlinewidth\": 0, \"ticks\": \"\"}}, \"type\": \"scatterpolar\"}], \"scatterpolargl\": [{\"marker\": {\"colorbar\": {\"outlinewidth\": 0, \"ticks\": \"\"}}, \"type\": \"scatterpolargl\"}], \"scatterternary\": [{\"marker\": {\"colorbar\": {\"outlinewidth\": 0, \"ticks\": \"\"}}, \"type\": \"scatterternary\"}], \"surface\": [{\"colorbar\": {\"outlinewidth\": 0, \"ticks\": \"\"}, \"colorscale\": [[0.0, \"#0d0887\"], [0.1111111111111111, \"#46039f\"], [0.2222222222222222, \"#7201a8\"], [0.3333333333333333, \"#9c179e\"], [0.4444444444444444, \"#bd3786\"], [0.5555555555555556, \"#d8576b\"], [0.6666666666666666, \"#ed7953\"], [0.7777777777777778, \"#fb9f3a\"], [0.8888888888888888, \"#fdca26\"], [1.0, \"#f0f921\"]], \"type\": \"surface\"}], \"table\": [{\"cells\": {\"fill\": {\"color\": \"#EBF0F8\"}, \"line\": {\"color\": \"white\"}}, \"header\": {\"fill\": {\"color\": \"#C8D4E3\"}, \"line\": {\"color\": \"white\"}}, \"type\": \"table\"}]}, \"layout\": {\"annotationdefaults\": {\"arrowcolor\": \"#2a3f5f\", \"arrowhead\": 0, \"arrowwidth\": 1}, \"coloraxis\": {\"colorbar\": {\"outlinewidth\": 0, \"ticks\": \"\"}}, \"colorscale\": {\"diverging\": [[0, \"#8e0152\"], [0.1, \"#c51b7d\"], [0.2, \"#de77ae\"], [0.3, \"#f1b6da\"], [0.4, \"#fde0ef\"], [0.5, \"#f7f7f7\"], [0.6, \"#e6f5d0\"], [0.7, \"#b8e186\"], [0.8, \"#7fbc41\"], [0.9, \"#4d9221\"], [1, \"#276419\"]], \"sequential\": [[0.0, \"#0d0887\"], [0.1111111111111111, \"#46039f\"], [0.2222222222222222, \"#7201a8\"], [0.3333333333333333, \"#9c179e\"], [0.4444444444444444, \"#bd3786\"], [0.5555555555555556, \"#d8576b\"], [0.6666666666666666, \"#ed7953\"], [0.7777777777777778, \"#fb9f3a\"], [0.8888888888888888, \"#fdca26\"], [1.0, \"#f0f921\"]], \"sequentialminus\": [[0.0, \"#0d0887\"], [0.1111111111111111, \"#46039f\"], [0.2222222222222222, \"#7201a8\"], [0.3333333333333333, \"#9c179e\"], [0.4444444444444444, \"#bd3786\"], [0.5555555555555556, \"#d8576b\"], [0.6666666666666666, \"#ed7953\"], [0.7777777777777778, \"#fb9f3a\"], [0.8888888888888888, \"#fdca26\"], [1.0, \"#f0f921\"]]}, \"colorway\": [\"#636efa\", \"#EF553B\", \"#00cc96\", \"#ab63fa\", \"#FFA15A\", \"#19d3f3\", \"#FF6692\", \"#B6E880\", \"#FF97FF\", \"#FECB52\"], \"font\": {\"color\": \"#2a3f5f\"}, \"geo\": {\"bgcolor\": \"white\", \"lakecolor\": \"white\", \"landcolor\": \"#E5ECF6\", \"showlakes\": true, \"showland\": true, \"subunitcolor\": \"white\"}, \"hoverlabel\": {\"align\": \"left\"}, \"hovermode\": \"closest\", \"mapbox\": {\"style\": \"light\"}, \"paper_bgcolor\": \"white\", \"plot_bgcolor\": \"#E5ECF6\", \"polar\": {\"angularaxis\": {\"gridcolor\": \"white\", \"linecolor\": \"white\", \"ticks\": \"\"}, \"bgcolor\": \"#E5ECF6\", \"radialaxis\": {\"gridcolor\": \"white\", \"linecolor\": \"white\", \"ticks\": \"\"}}, \"scene\": {\"xaxis\": {\"backgroundcolor\": \"#E5ECF6\", \"gridcolor\": \"white\", \"gridwidth\": 2, \"linecolor\": \"white\", \"showbackground\": true, \"ticks\": \"\", \"zerolinecolor\": \"white\"}, \"yaxis\": {\"backgroundcolor\": \"#E5ECF6\", \"gridcolor\": \"white\", \"gridwidth\": 2, \"linecolor\": \"white\", \"showbackground\": true, \"ticks\": \"\", \"zerolinecolor\": \"white\"}, \"zaxis\": {\"backgroundcolor\": \"#E5ECF6\", \"gridcolor\": \"white\", \"gridwidth\": 2, \"linecolor\": \"white\", \"showbackground\": true, \"ticks\": \"\", \"zerolinecolor\": \"white\"}}, \"shapedefaults\": {\"line\": {\"color\": \"#2a3f5f\"}}, \"ternary\": {\"aaxis\": {\"gridcolor\": \"white\", \"linecolor\": \"white\", \"ticks\": \"\"}, \"baxis\": {\"gridcolor\": \"white\", \"linecolor\": \"white\", \"ticks\": \"\"}, \"bgcolor\": \"#E5ECF6\", \"caxis\": {\"gridcolor\": \"white\", \"linecolor\": \"white\", \"ticks\": \"\"}}, \"title\": {\"x\": 0.05}, \"xaxis\": {\"automargin\": true, \"gridcolor\": \"white\", \"linecolor\": \"white\", \"ticks\": \"\", \"title\": {\"standoff\": 15}, \"zerolinecolor\": \"white\", \"zerolinewidth\": 2}, \"yaxis\": {\"automargin\": true, \"gridcolor\": \"white\", \"linecolor\": \"white\", \"ticks\": \"\", \"title\": {\"standoff\": 15}, \"zerolinecolor\": \"white\", \"zerolinewidth\": 2}}}, \"title\": {\"text\": \"<b>Game Average Yard Differential</b><br>(Yards Gained Minus Yard Given Up)\", \"x\": 0.5, \"xanchor\": \"center\", \"y\": 0.9, \"yanchor\": \"top\"}, \"xaxis\": {\"anchor\": \"y\", \"domain\": [0.0, 0.94]}, \"yaxis\": {\"anchor\": \"x\", \"domain\": [0.0, 1.0]}, \"yaxis2\": {\"anchor\": \"x\", \"overlaying\": \"y\", \"side\": \"right\"}},\n",
       "                        {\"responsive\": true}\n",
       "                    ).then(function(){\n",
       "                            \n",
       "var gd = document.getElementById('d1386be4-2626-4150-b0a2-199ab8de20a5');\n",
       "var x = new MutationObserver(function (mutations, observer) {{\n",
       "        var display = window.getComputedStyle(gd).display;\n",
       "        if (!display || display === 'none') {{\n",
       "            console.log([gd, 'removed!']);\n",
       "            Plotly.purge(gd);\n",
       "            observer.disconnect();\n",
       "        }}\n",
       "}});\n",
       "\n",
       "// Listen for the removal of the full notebook cells\n",
       "var notebookContainer = gd.closest('#notebook-container');\n",
       "if (notebookContainer) {{\n",
       "    x.observe(notebookContainer, {childList: true});\n",
       "}}\n",
       "\n",
       "// Listen for the clearing of the current output cell\n",
       "var outputEl = gd.closest('.output');\n",
       "if (outputEl) {{\n",
       "    x.observe(outputEl, {childList: true});\n",
       "}}\n",
       "\n",
       "                        })\n",
       "                };\n",
       "                });\n",
       "            </script>\n",
       "        </div>"
      ]
     },
     "metadata": {},
     "output_type": "display_data"
    }
   ],
   "source": [
    "# Yard Differential\n",
    "from plotly.subplots import make_subplots\n",
    "fig = make_subplots(specs=[[{\"secondary_y\": True}]])\n",
    "\n",
    "fig.add_trace(go.Bar(name='Yard Diff',x=nfl_end_of_game.groupby('binned').agg({'yard_diff':'mean'}).index, \n",
    "                     y=nfl_end_of_game.groupby('binned').agg({'yard_diff':'mean'})['yard_diff']),\n",
    "                    secondary_y=False\n",
    "             )\n",
    "\n",
    "fig.add_trace(go.Scatter(name='Yards Gained',x=nfl_end_of_game.groupby('binned').agg({'yards':'mean'}).index, \n",
    "                     y=nfl_end_of_game.groupby('binned').agg({'yards':'mean'})['yards'],yaxis='y2'),\n",
    "                        secondary_y=True\n",
    "             )\n",
    "\n",
    "fig.add_trace(go.Scatter(name='Yards Given Up',x=nfl_end_of_game.groupby('binned').agg({'yards_against':'mean'}).index, \n",
    "                     y=nfl_end_of_game.groupby('binned').agg({'yards_against':'mean'})['yards_against']*-1,yaxis='y2'),\n",
    "                        secondary_y=True\n",
    "             )\n",
    "\n",
    "fig.update_layout(\n",
    "    title={\n",
    "        'text':'<b>'+'Game Average Yard Differential'+'</b>'+'<br>(Yards Gained Minus Yard Given Up)',\n",
    "        'y':0.9,\n",
    "        'x':0.5,\n",
    "        'xanchor': 'center',\n",
    "        'yanchor': 'top'}\n",
    "    \n",
    "    )\n",
    "\n",
    "fig"
   ]
  },
  {
   "cell_type": "code",
   "execution_count": null,
   "metadata": {},
   "outputs": [],
   "source": []
  },
  {
   "cell_type": "markdown",
   "metadata": {},
   "source": [
    "<h2>Weather Analysis</h2>"
   ]
  },
  {
   "cell_type": "code",
   "execution_count": 72,
   "metadata": {},
   "outputs": [],
   "source": [
    "#Start with end of game stats then go more granular with end of drive if that doesnt work"
   ]
  },
  {
   "cell_type": "code",
   "execution_count": 73,
   "metadata": {},
   "outputs": [
    {
     "data": {
      "text/html": [
       "<div>\n",
       "<style scoped>\n",
       "    .dataframe tbody tr th:only-of-type {\n",
       "        vertical-align: middle;\n",
       "    }\n",
       "\n",
       "    .dataframe tbody tr th {\n",
       "        vertical-align: top;\n",
       "    }\n",
       "\n",
       "    .dataframe thead th {\n",
       "        text-align: right;\n",
       "    }\n",
       "</style>\n",
       "<table border=\"1\" class=\"dataframe\">\n",
       "  <thead>\n",
       "    <tr style=\"text-align: right;\">\n",
       "      <th></th>\n",
       "      <th>game_id</th>\n",
       "      <th>Team</th>\n",
       "      <th>team_against</th>\n",
       "      <th>score</th>\n",
       "      <th>score_against</th>\n",
       "      <th>yards</th>\n",
       "      <th>yards_against</th>\n",
       "      <th>run_plays</th>\n",
       "      <th>run_plays_against</th>\n",
       "      <th>pass_plays</th>\n",
       "      <th>pass_plays_against</th>\n",
       "      <th>to_for</th>\n",
       "      <th>to_against</th>\n",
       "      <th>fg_at</th>\n",
       "      <th>fg_md</th>\n",
       "      <th>fg_at_against</th>\n",
       "      <th>fg_md_against</th>\n",
       "      <th>pass_yards</th>\n",
       "      <th>pass_yards_against</th>\n",
       "      <th>run_yards</th>\n",
       "      <th>run_yards_against</th>\n",
       "      <th>win</th>\n",
       "      <th>pass_run_ratio</th>\n",
       "      <th>yard_diff</th>\n",
       "      <th>to_diff</th>\n",
       "      <th>fg_rate</th>\n",
       "      <th>fg_rate_against</th>\n",
       "      <th>pass_yds_per_at</th>\n",
       "      <th>run_yds_per_at</th>\n",
       "      <th>pass_yds_per_at_against</th>\n",
       "      <th>run_yds_per_at_against</th>\n",
       "      <th>year</th>\n",
       "      <th>binned</th>\n",
       "      <th>win_group_num</th>\n",
       "    </tr>\n",
       "  </thead>\n",
       "  <tbody>\n",
       "    <tr>\n",
       "      <td>0</td>\n",
       "      <td>2015091000</td>\n",
       "      <td>NE</td>\n",
       "      <td>PIT</td>\n",
       "      <td>28</td>\n",
       "      <td>21</td>\n",
       "      <td>366.0</td>\n",
       "      <td>429.0</td>\n",
       "      <td>23.0</td>\n",
       "      <td>25.0</td>\n",
       "      <td>34.0</td>\n",
       "      <td>42.0</td>\n",
       "      <td>1.0</td>\n",
       "      <td>2.0</td>\n",
       "      <td>0.0</td>\n",
       "      <td>0.0</td>\n",
       "      <td>4.0</td>\n",
       "      <td>4.0</td>\n",
       "      <td>281.0</td>\n",
       "      <td>332.0</td>\n",
       "      <td>82.0</td>\n",
       "      <td>134.0</td>\n",
       "      <td>1.0</td>\n",
       "      <td>1.48</td>\n",
       "      <td>-63.0</td>\n",
       "      <td>1.0</td>\n",
       "      <td>0.5</td>\n",
       "      <td>1.0</td>\n",
       "      <td>8.264706</td>\n",
       "      <td>3.565217</td>\n",
       "      <td>7.904762</td>\n",
       "      <td>5.360000</td>\n",
       "      <td>2015</td>\n",
       "      <td>10+ Wins</td>\n",
       "      <td>NaN</td>\n",
       "    </tr>\n",
       "    <tr>\n",
       "      <td>1</td>\n",
       "      <td>2015091300</td>\n",
       "      <td>CHI</td>\n",
       "      <td>GB</td>\n",
       "      <td>23</td>\n",
       "      <td>31</td>\n",
       "      <td>416.0</td>\n",
       "      <td>336.0</td>\n",
       "      <td>33.0</td>\n",
       "      <td>28.0</td>\n",
       "      <td>36.0</td>\n",
       "      <td>23.0</td>\n",
       "      <td>1.0</td>\n",
       "      <td>0.0</td>\n",
       "      <td>3.0</td>\n",
       "      <td>3.0</td>\n",
       "      <td>1.0</td>\n",
       "      <td>1.0</td>\n",
       "      <td>213.0</td>\n",
       "      <td>189.0</td>\n",
       "      <td>189.0</td>\n",
       "      <td>134.0</td>\n",
       "      <td>0.0</td>\n",
       "      <td>1.09</td>\n",
       "      <td>80.0</td>\n",
       "      <td>-1.0</td>\n",
       "      <td>1.0</td>\n",
       "      <td>1.0</td>\n",
       "      <td>5.916667</td>\n",
       "      <td>5.727273</td>\n",
       "      <td>8.217391</td>\n",
       "      <td>4.785714</td>\n",
       "      <td>2015</td>\n",
       "      <td>5 or Less</td>\n",
       "      <td>NaN</td>\n",
       "    </tr>\n",
       "  </tbody>\n",
       "</table>\n",
       "</div>"
      ],
      "text/plain": [
       "      game_id Team team_against  score  score_against  yards  yards_against  \\\n",
       "0  2015091000   NE          PIT     28             21  366.0          429.0   \n",
       "1  2015091300  CHI           GB     23             31  416.0          336.0   \n",
       "\n",
       "   run_plays  run_plays_against  pass_plays  pass_plays_against  to_for  \\\n",
       "0       23.0               25.0        34.0                42.0     1.0   \n",
       "1       33.0               28.0        36.0                23.0     1.0   \n",
       "\n",
       "   to_against  fg_at  fg_md  fg_at_against  fg_md_against  pass_yards  \\\n",
       "0         2.0    0.0    0.0            4.0            4.0       281.0   \n",
       "1         0.0    3.0    3.0            1.0            1.0       213.0   \n",
       "\n",
       "   pass_yards_against  run_yards  run_yards_against  win  pass_run_ratio  \\\n",
       "0               332.0       82.0              134.0  1.0            1.48   \n",
       "1               189.0      189.0              134.0  0.0            1.09   \n",
       "\n",
       "   yard_diff  to_diff  fg_rate  fg_rate_against  pass_yds_per_at  \\\n",
       "0      -63.0      1.0      0.5              1.0         8.264706   \n",
       "1       80.0     -1.0      1.0              1.0         5.916667   \n",
       "\n",
       "   run_yds_per_at  pass_yds_per_at_against  run_yds_per_at_against  year  \\\n",
       "0        3.565217                 7.904762                5.360000  2015   \n",
       "1        5.727273                 8.217391                4.785714  2015   \n",
       "\n",
       "      binned  win_group_num  \n",
       "0   10+ Wins            NaN  \n",
       "1  5 or Less            NaN  "
      ]
     },
     "execution_count": 73,
     "metadata": {},
     "output_type": "execute_result"
    }
   ],
   "source": [
    "nfl_end_of_game.head(2)"
   ]
  },
  {
   "cell_type": "code",
   "execution_count": 77,
   "metadata": {},
   "outputs": [
    {
     "data": {
      "text/html": [
       "<div>\n",
       "<style scoped>\n",
       "    .dataframe tbody tr th:only-of-type {\n",
       "        vertical-align: middle;\n",
       "    }\n",
       "\n",
       "    .dataframe tbody tr th {\n",
       "        vertical-align: top;\n",
       "    }\n",
       "\n",
       "    .dataframe thead th {\n",
       "        text-align: right;\n",
       "    }\n",
       "</style>\n",
       "<table border=\"1\" class=\"dataframe\">\n",
       "  <thead>\n",
       "    <tr style=\"text-align: right;\">\n",
       "      <th></th>\n",
       "      <th>index</th>\n",
       "      <th>game_id</th>\n",
       "      <th>game_date</th>\n",
       "      <th>time</th>\n",
       "      <th>quarter_seconds_remaining</th>\n",
       "      <th>half_seconds_remaining</th>\n",
       "      <th>game_seconds_remaining</th>\n",
       "      <th>game_half</th>\n",
       "      <th>quarter_end</th>\n",
       "      <th>qtr</th>\n",
       "      <th>home_team</th>\n",
       "      <th>away_team</th>\n",
       "      <th>posteam</th>\n",
       "      <th>posteam_type</th>\n",
       "      <th>defteam</th>\n",
       "      <th>side_of_field</th>\n",
       "      <th>yardline_100</th>\n",
       "      <th>drive</th>\n",
       "      <th>sp</th>\n",
       "      <th>down</th>\n",
       "      <th>goal_to_go</th>\n",
       "      <th>yrdln</th>\n",
       "      <th>ydstogo</th>\n",
       "      <th>ydsnet</th>\n",
       "      <th>desc</th>\n",
       "      <th>play_type</th>\n",
       "      <th>yards_gained</th>\n",
       "      <th>pass_length</th>\n",
       "      <th>air_yards</th>\n",
       "      <th>yards_after_catch</th>\n",
       "      <th>field_goal_result</th>\n",
       "      <th>kick_distance</th>\n",
       "      <th>extra_point_result</th>\n",
       "      <th>two_point_conv_result</th>\n",
       "      <th>td_team</th>\n",
       "      <th>total_home_score</th>\n",
       "      <th>total_away_score</th>\n",
       "      <th>posteam_score</th>\n",
       "      <th>defteam_score</th>\n",
       "      <th>sack</th>\n",
       "      <th>touchdown</th>\n",
       "      <th>pass_touchdown</th>\n",
       "      <th>rush_touchdown</th>\n",
       "      <th>return_touchdown</th>\n",
       "      <th>extra_point_attempt</th>\n",
       "      <th>two_point_attempt</th>\n",
       "      <th>field_goal_attempt</th>\n",
       "      <th>fumble</th>\n",
       "      <th>complete_pass</th>\n",
       "      <th>Start_Time</th>\n",
       "      <th>year</th>\n",
       "      <th>diff</th>\n",
       "      <th>Estimated_Time</th>\n",
       "      <th>Estimated Time (EST)</th>\n",
       "      <th>Estimated_Hour</th>\n",
       "      <th>Air Pressure (hPa)</th>\n",
       "      <th>City</th>\n",
       "      <th>Dewpoint (°C)</th>\n",
       "      <th>Field</th>\n",
       "      <th>Humidity (%)</th>\n",
       "      <th>Precipitation (mm)</th>\n",
       "      <th>Roof</th>\n",
       "      <th>Team Abbreviation</th>\n",
       "      <th>Temperature (°C)</th>\n",
       "      <th>Time (EST)</th>\n",
       "      <th>Time (GMT)</th>\n",
       "      <th>Unnamed: 0_y</th>\n",
       "      <th>Wind Direction (deg)</th>\n",
       "      <th>Wind Speed (km/h)</th>\n",
       "      <th>added_time</th>\n",
       "      <th>game_name</th>\n",
       "      <th>end_of_drive</th>\n",
       "      <th>end_of_game</th>\n",
       "      <th>INT</th>\n",
       "      <th>ARI</th>\n",
       "      <th>ATL</th>\n",
       "      <th>BAL</th>\n",
       "      <th>BUF</th>\n",
       "      <th>CAR</th>\n",
       "      <th>CHI</th>\n",
       "      <th>CIN</th>\n",
       "      <th>CLE</th>\n",
       "      <th>DAL</th>\n",
       "      <th>DEN</th>\n",
       "      <th>DET</th>\n",
       "      <th>GB</th>\n",
       "      <th>HOU</th>\n",
       "      <th>IND</th>\n",
       "      <th>JAX</th>\n",
       "      <th>KC</th>\n",
       "      <th>LA</th>\n",
       "      <th>LAC</th>\n",
       "      <th>MIA</th>\n",
       "      <th>MIN</th>\n",
       "      <th>NE</th>\n",
       "      <th>NO</th>\n",
       "      <th>NYG</th>\n",
       "      <th>NYJ</th>\n",
       "      <th>OAK</th>\n",
       "      <th>PHI</th>\n",
       "      <th>PIT</th>\n",
       "      <th>SEA</th>\n",
       "      <th>SF</th>\n",
       "      <th>TB</th>\n",
       "      <th>TEN</th>\n",
       "      <th>WAS</th>\n",
       "      <th>week</th>\n",
       "      <th>home_team_win</th>\n",
       "      <th>away_team_win</th>\n",
       "    </tr>\n",
       "    <tr>\n",
       "      <th>play_id</th>\n",
       "      <th></th>\n",
       "      <th></th>\n",
       "      <th></th>\n",
       "      <th></th>\n",
       "      <th></th>\n",
       "      <th></th>\n",
       "      <th></th>\n",
       "      <th></th>\n",
       "      <th></th>\n",
       "      <th></th>\n",
       "      <th></th>\n",
       "      <th></th>\n",
       "      <th></th>\n",
       "      <th></th>\n",
       "      <th></th>\n",
       "      <th></th>\n",
       "      <th></th>\n",
       "      <th></th>\n",
       "      <th></th>\n",
       "      <th></th>\n",
       "      <th></th>\n",
       "      <th></th>\n",
       "      <th></th>\n",
       "      <th></th>\n",
       "      <th></th>\n",
       "      <th></th>\n",
       "      <th></th>\n",
       "      <th></th>\n",
       "      <th></th>\n",
       "      <th></th>\n",
       "      <th></th>\n",
       "      <th></th>\n",
       "      <th></th>\n",
       "      <th></th>\n",
       "      <th></th>\n",
       "      <th></th>\n",
       "      <th></th>\n",
       "      <th></th>\n",
       "      <th></th>\n",
       "      <th></th>\n",
       "      <th></th>\n",
       "      <th></th>\n",
       "      <th></th>\n",
       "      <th></th>\n",
       "      <th></th>\n",
       "      <th></th>\n",
       "      <th></th>\n",
       "      <th></th>\n",
       "      <th></th>\n",
       "      <th></th>\n",
       "      <th></th>\n",
       "      <th></th>\n",
       "      <th></th>\n",
       "      <th></th>\n",
       "      <th></th>\n",
       "      <th></th>\n",
       "      <th></th>\n",
       "      <th></th>\n",
       "      <th></th>\n",
       "      <th></th>\n",
       "      <th></th>\n",
       "      <th></th>\n",
       "      <th></th>\n",
       "      <th></th>\n",
       "      <th></th>\n",
       "      <th></th>\n",
       "      <th></th>\n",
       "      <th></th>\n",
       "      <th></th>\n",
       "      <th></th>\n",
       "      <th></th>\n",
       "      <th></th>\n",
       "      <th></th>\n",
       "      <th></th>\n",
       "      <th></th>\n",
       "      <th></th>\n",
       "      <th></th>\n",
       "      <th></th>\n",
       "      <th></th>\n",
       "      <th></th>\n",
       "      <th></th>\n",
       "      <th></th>\n",
       "      <th></th>\n",
       "      <th></th>\n",
       "      <th></th>\n",
       "      <th></th>\n",
       "      <th></th>\n",
       "      <th></th>\n",
       "      <th></th>\n",
       "      <th></th>\n",
       "      <th></th>\n",
       "      <th></th>\n",
       "      <th></th>\n",
       "      <th></th>\n",
       "      <th></th>\n",
       "      <th></th>\n",
       "      <th></th>\n",
       "      <th></th>\n",
       "      <th></th>\n",
       "      <th></th>\n",
       "      <th></th>\n",
       "      <th></th>\n",
       "      <th></th>\n",
       "      <th></th>\n",
       "      <th></th>\n",
       "      <th></th>\n",
       "      <th></th>\n",
       "      <th></th>\n",
       "      <th></th>\n",
       "    </tr>\n",
       "  </thead>\n",
       "  <tbody>\n",
       "    <tr>\n",
       "      <td>36</td>\n",
       "      <td>270409</td>\n",
       "      <td>2015091000</td>\n",
       "      <td>2015-09-10 00:00:00</td>\n",
       "      <td>15:00</td>\n",
       "      <td>900.0</td>\n",
       "      <td>1800.0</td>\n",
       "      <td>3600.0</td>\n",
       "      <td>Half1</td>\n",
       "      <td>0</td>\n",
       "      <td>1</td>\n",
       "      <td>NE</td>\n",
       "      <td>PIT</td>\n",
       "      <td>PIT</td>\n",
       "      <td>away</td>\n",
       "      <td>NE</td>\n",
       "      <td>NE</td>\n",
       "      <td>35.0</td>\n",
       "      <td>1</td>\n",
       "      <td>0</td>\n",
       "      <td>NaN</td>\n",
       "      <td>0.0</td>\n",
       "      <td>NE 35</td>\n",
       "      <td>0</td>\n",
       "      <td>0</td>\n",
       "      <td>S.Gostkowski kicks 65 yards from NE 35 to end ...</td>\n",
       "      <td>kickoff</td>\n",
       "      <td>0.0</td>\n",
       "      <td>0</td>\n",
       "      <td>0.0</td>\n",
       "      <td>0.0</td>\n",
       "      <td>NaN</td>\n",
       "      <td>NaN</td>\n",
       "      <td>NaN</td>\n",
       "      <td>NaN</td>\n",
       "      <td>NaN</td>\n",
       "      <td>0</td>\n",
       "      <td>0</td>\n",
       "      <td>0.0</td>\n",
       "      <td>0.0</td>\n",
       "      <td>0.0</td>\n",
       "      <td>0.0</td>\n",
       "      <td>0.0</td>\n",
       "      <td>0.0</td>\n",
       "      <td>0.0</td>\n",
       "      <td>0.0</td>\n",
       "      <td>0.0</td>\n",
       "      <td>0.0</td>\n",
       "      <td>0.0</td>\n",
       "      <td>0.0</td>\n",
       "      <td>2015-09-10 20:40:00</td>\n",
       "      <td>2015.0</td>\n",
       "      <td>0 days 00:00:00.000000000</td>\n",
       "      <td>2015-09-10 20:40:00</td>\n",
       "      <td>2015-09-10 20:40:00</td>\n",
       "      <td>2015-09-10 21:00:00</td>\n",
       "      <td>1010.6</td>\n",
       "      <td>Foxborough</td>\n",
       "      <td>16.1</td>\n",
       "      <td>FieldTurf CORE</td>\n",
       "      <td>87.0</td>\n",
       "      <td>0.3</td>\n",
       "      <td>Open</td>\n",
       "      <td>NE</td>\n",
       "      <td>18.3</td>\n",
       "      <td>2015-09-10 21:00:00</td>\n",
       "      <td>2015-09-11 01:00:00</td>\n",
       "      <td>NaN</td>\n",
       "      <td>30.0</td>\n",
       "      <td>20.5</td>\n",
       "      <td>0</td>\n",
       "      <td>PIT @ NE 2015-09-10</td>\n",
       "      <td>0</td>\n",
       "      <td>0</td>\n",
       "      <td>0</td>\n",
       "      <td>0</td>\n",
       "      <td>0</td>\n",
       "      <td>0</td>\n",
       "      <td>0</td>\n",
       "      <td>0</td>\n",
       "      <td>0</td>\n",
       "      <td>0</td>\n",
       "      <td>0</td>\n",
       "      <td>0</td>\n",
       "      <td>0</td>\n",
       "      <td>0</td>\n",
       "      <td>0</td>\n",
       "      <td>0</td>\n",
       "      <td>0</td>\n",
       "      <td>0</td>\n",
       "      <td>0</td>\n",
       "      <td>0</td>\n",
       "      <td>0</td>\n",
       "      <td>0</td>\n",
       "      <td>0</td>\n",
       "      <td>H</td>\n",
       "      <td>0</td>\n",
       "      <td>0</td>\n",
       "      <td>0</td>\n",
       "      <td>0</td>\n",
       "      <td>0</td>\n",
       "      <td>A</td>\n",
       "      <td>0</td>\n",
       "      <td>0</td>\n",
       "      <td>0</td>\n",
       "      <td>0</td>\n",
       "      <td>0</td>\n",
       "      <td>1</td>\n",
       "      <td>0</td>\n",
       "      <td>0</td>\n",
       "    </tr>\n",
       "    <tr>\n",
       "      <td>51</td>\n",
       "      <td>270410</td>\n",
       "      <td>2015091000</td>\n",
       "      <td>2015-09-10 00:00:00</td>\n",
       "      <td>15:00</td>\n",
       "      <td>900.0</td>\n",
       "      <td>1800.0</td>\n",
       "      <td>3600.0</td>\n",
       "      <td>Half1</td>\n",
       "      <td>0</td>\n",
       "      <td>1</td>\n",
       "      <td>NE</td>\n",
       "      <td>PIT</td>\n",
       "      <td>PIT</td>\n",
       "      <td>away</td>\n",
       "      <td>NE</td>\n",
       "      <td>PIT</td>\n",
       "      <td>80.0</td>\n",
       "      <td>1</td>\n",
       "      <td>0</td>\n",
       "      <td>1.0</td>\n",
       "      <td>0.0</td>\n",
       "      <td>PIT 20</td>\n",
       "      <td>10</td>\n",
       "      <td>18</td>\n",
       "      <td>(15:00) De.Williams right tackle to PIT 38 for...</td>\n",
       "      <td>run</td>\n",
       "      <td>18.0</td>\n",
       "      <td>0</td>\n",
       "      <td>0.0</td>\n",
       "      <td>0.0</td>\n",
       "      <td>NaN</td>\n",
       "      <td>NaN</td>\n",
       "      <td>NaN</td>\n",
       "      <td>NaN</td>\n",
       "      <td>NaN</td>\n",
       "      <td>0</td>\n",
       "      <td>0</td>\n",
       "      <td>0.0</td>\n",
       "      <td>0.0</td>\n",
       "      <td>0.0</td>\n",
       "      <td>0.0</td>\n",
       "      <td>0.0</td>\n",
       "      <td>0.0</td>\n",
       "      <td>0.0</td>\n",
       "      <td>0.0</td>\n",
       "      <td>0.0</td>\n",
       "      <td>0.0</td>\n",
       "      <td>0.0</td>\n",
       "      <td>0.0</td>\n",
       "      <td>2015-09-10 20:40:00</td>\n",
       "      <td>2015.0</td>\n",
       "      <td>0 days 00:00:00.000000000</td>\n",
       "      <td>2015-09-10 20:40:00</td>\n",
       "      <td>2015-09-10 20:40:00</td>\n",
       "      <td>2015-09-10 21:00:00</td>\n",
       "      <td>1010.6</td>\n",
       "      <td>Foxborough</td>\n",
       "      <td>16.1</td>\n",
       "      <td>FieldTurf CORE</td>\n",
       "      <td>87.0</td>\n",
       "      <td>0.3</td>\n",
       "      <td>Open</td>\n",
       "      <td>NE</td>\n",
       "      <td>18.3</td>\n",
       "      <td>2015-09-10 21:00:00</td>\n",
       "      <td>2015-09-11 01:00:00</td>\n",
       "      <td>NaN</td>\n",
       "      <td>30.0</td>\n",
       "      <td>20.5</td>\n",
       "      <td>0</td>\n",
       "      <td>PIT @ NE 2015-09-10</td>\n",
       "      <td>0</td>\n",
       "      <td>0</td>\n",
       "      <td>0</td>\n",
       "      <td>0</td>\n",
       "      <td>0</td>\n",
       "      <td>0</td>\n",
       "      <td>0</td>\n",
       "      <td>0</td>\n",
       "      <td>0</td>\n",
       "      <td>0</td>\n",
       "      <td>0</td>\n",
       "      <td>0</td>\n",
       "      <td>0</td>\n",
       "      <td>0</td>\n",
       "      <td>0</td>\n",
       "      <td>0</td>\n",
       "      <td>0</td>\n",
       "      <td>0</td>\n",
       "      <td>0</td>\n",
       "      <td>0</td>\n",
       "      <td>0</td>\n",
       "      <td>0</td>\n",
       "      <td>0</td>\n",
       "      <td>H</td>\n",
       "      <td>0</td>\n",
       "      <td>0</td>\n",
       "      <td>0</td>\n",
       "      <td>0</td>\n",
       "      <td>0</td>\n",
       "      <td>A</td>\n",
       "      <td>0</td>\n",
       "      <td>0</td>\n",
       "      <td>0</td>\n",
       "      <td>0</td>\n",
       "      <td>0</td>\n",
       "      <td>1</td>\n",
       "      <td>0</td>\n",
       "      <td>0</td>\n",
       "    </tr>\n",
       "    <tr>\n",
       "      <td>72</td>\n",
       "      <td>270411</td>\n",
       "      <td>2015091000</td>\n",
       "      <td>2015-09-10 00:00:00</td>\n",
       "      <td>14:21</td>\n",
       "      <td>861.0</td>\n",
       "      <td>1761.0</td>\n",
       "      <td>3561.0</td>\n",
       "      <td>Half1</td>\n",
       "      <td>0</td>\n",
       "      <td>1</td>\n",
       "      <td>NE</td>\n",
       "      <td>PIT</td>\n",
       "      <td>PIT</td>\n",
       "      <td>away</td>\n",
       "      <td>NE</td>\n",
       "      <td>PIT</td>\n",
       "      <td>62.0</td>\n",
       "      <td>1</td>\n",
       "      <td>0</td>\n",
       "      <td>1.0</td>\n",
       "      <td>0.0</td>\n",
       "      <td>PIT 38</td>\n",
       "      <td>10</td>\n",
       "      <td>31</td>\n",
       "      <td>(14:21) B.Roethlisberger pass short right to A...</td>\n",
       "      <td>pass</td>\n",
       "      <td>9.0</td>\n",
       "      <td>short</td>\n",
       "      <td>-4.0</td>\n",
       "      <td>13.0</td>\n",
       "      <td>NaN</td>\n",
       "      <td>NaN</td>\n",
       "      <td>NaN</td>\n",
       "      <td>NaN</td>\n",
       "      <td>NaN</td>\n",
       "      <td>0</td>\n",
       "      <td>0</td>\n",
       "      <td>0.0</td>\n",
       "      <td>0.0</td>\n",
       "      <td>0.0</td>\n",
       "      <td>0.0</td>\n",
       "      <td>0.0</td>\n",
       "      <td>0.0</td>\n",
       "      <td>0.0</td>\n",
       "      <td>0.0</td>\n",
       "      <td>0.0</td>\n",
       "      <td>0.0</td>\n",
       "      <td>0.0</td>\n",
       "      <td>1.0</td>\n",
       "      <td>2015-09-10 20:40:00</td>\n",
       "      <td>2015.0</td>\n",
       "      <td>0 days 00:01:57.000000000</td>\n",
       "      <td>2015-09-10 20:41:57</td>\n",
       "      <td>2015-09-10 20:41:57</td>\n",
       "      <td>2015-09-10 21:00:00</td>\n",
       "      <td>1010.6</td>\n",
       "      <td>Foxborough</td>\n",
       "      <td>16.1</td>\n",
       "      <td>FieldTurf CORE</td>\n",
       "      <td>87.0</td>\n",
       "      <td>0.3</td>\n",
       "      <td>Open</td>\n",
       "      <td>NE</td>\n",
       "      <td>18.3</td>\n",
       "      <td>2015-09-10 21:00:00</td>\n",
       "      <td>2015-09-11 01:00:00</td>\n",
       "      <td>NaN</td>\n",
       "      <td>30.0</td>\n",
       "      <td>20.5</td>\n",
       "      <td>0</td>\n",
       "      <td>PIT @ NE 2015-09-10</td>\n",
       "      <td>0</td>\n",
       "      <td>0</td>\n",
       "      <td>0</td>\n",
       "      <td>0</td>\n",
       "      <td>0</td>\n",
       "      <td>0</td>\n",
       "      <td>0</td>\n",
       "      <td>0</td>\n",
       "      <td>0</td>\n",
       "      <td>0</td>\n",
       "      <td>0</td>\n",
       "      <td>0</td>\n",
       "      <td>0</td>\n",
       "      <td>0</td>\n",
       "      <td>0</td>\n",
       "      <td>0</td>\n",
       "      <td>0</td>\n",
       "      <td>0</td>\n",
       "      <td>0</td>\n",
       "      <td>0</td>\n",
       "      <td>0</td>\n",
       "      <td>0</td>\n",
       "      <td>0</td>\n",
       "      <td>H</td>\n",
       "      <td>0</td>\n",
       "      <td>0</td>\n",
       "      <td>0</td>\n",
       "      <td>0</td>\n",
       "      <td>0</td>\n",
       "      <td>A</td>\n",
       "      <td>0</td>\n",
       "      <td>0</td>\n",
       "      <td>0</td>\n",
       "      <td>0</td>\n",
       "      <td>0</td>\n",
       "      <td>1</td>\n",
       "      <td>0</td>\n",
       "      <td>0</td>\n",
       "    </tr>\n",
       "  </tbody>\n",
       "</table>\n",
       "</div>"
      ],
      "text/plain": [
       "          index     game_id            game_date   time  \\\n",
       "play_id                                                   \n",
       "36       270409  2015091000  2015-09-10 00:00:00  15:00   \n",
       "51       270410  2015091000  2015-09-10 00:00:00  15:00   \n",
       "72       270411  2015091000  2015-09-10 00:00:00  14:21   \n",
       "\n",
       "         quarter_seconds_remaining  half_seconds_remaining  \\\n",
       "play_id                                                      \n",
       "36                           900.0                  1800.0   \n",
       "51                           900.0                  1800.0   \n",
       "72                           861.0                  1761.0   \n",
       "\n",
       "         game_seconds_remaining game_half  quarter_end  qtr home_team  \\\n",
       "play_id                                                                 \n",
       "36                       3600.0     Half1            0    1        NE   \n",
       "51                       3600.0     Half1            0    1        NE   \n",
       "72                       3561.0     Half1            0    1        NE   \n",
       "\n",
       "        away_team posteam posteam_type defteam side_of_field  yardline_100  \\\n",
       "play_id                                                                      \n",
       "36            PIT     PIT         away      NE            NE          35.0   \n",
       "51            PIT     PIT         away      NE           PIT          80.0   \n",
       "72            PIT     PIT         away      NE           PIT          62.0   \n",
       "\n",
       "         drive  sp  down  goal_to_go   yrdln  ydstogo  ydsnet  \\\n",
       "play_id                                                         \n",
       "36           1   0   NaN         0.0   NE 35        0       0   \n",
       "51           1   0   1.0         0.0  PIT 20       10      18   \n",
       "72           1   0   1.0         0.0  PIT 38       10      31   \n",
       "\n",
       "                                                      desc play_type  \\\n",
       "play_id                                                                \n",
       "36       S.Gostkowski kicks 65 yards from NE 35 to end ...   kickoff   \n",
       "51       (15:00) De.Williams right tackle to PIT 38 for...       run   \n",
       "72       (14:21) B.Roethlisberger pass short right to A...      pass   \n",
       "\n",
       "         yards_gained pass_length  air_yards  yards_after_catch  \\\n",
       "play_id                                                           \n",
       "36                0.0           0        0.0                0.0   \n",
       "51               18.0           0        0.0                0.0   \n",
       "72                9.0       short       -4.0               13.0   \n",
       "\n",
       "        field_goal_result  kick_distance extra_point_result  \\\n",
       "play_id                                                       \n",
       "36                    NaN            NaN                NaN   \n",
       "51                    NaN            NaN                NaN   \n",
       "72                    NaN            NaN                NaN   \n",
       "\n",
       "        two_point_conv_result td_team  total_home_score  total_away_score  \\\n",
       "play_id                                                                     \n",
       "36                        NaN     NaN                 0                 0   \n",
       "51                        NaN     NaN                 0                 0   \n",
       "72                        NaN     NaN                 0                 0   \n",
       "\n",
       "         posteam_score  defteam_score  sack  touchdown  pass_touchdown  \\\n",
       "play_id                                                                  \n",
       "36                 0.0            0.0   0.0        0.0             0.0   \n",
       "51                 0.0            0.0   0.0        0.0             0.0   \n",
       "72                 0.0            0.0   0.0        0.0             0.0   \n",
       "\n",
       "         rush_touchdown  return_touchdown  extra_point_attempt  \\\n",
       "play_id                                                          \n",
       "36                  0.0               0.0                  0.0   \n",
       "51                  0.0               0.0                  0.0   \n",
       "72                  0.0               0.0                  0.0   \n",
       "\n",
       "         two_point_attempt  field_goal_attempt  fumble  complete_pass  \\\n",
       "play_id                                                                 \n",
       "36                     0.0                 0.0     0.0            0.0   \n",
       "51                     0.0                 0.0     0.0            0.0   \n",
       "72                     0.0                 0.0     0.0            1.0   \n",
       "\n",
       "                  Start_Time    year                       diff  \\\n",
       "play_id                                                           \n",
       "36       2015-09-10 20:40:00  2015.0  0 days 00:00:00.000000000   \n",
       "51       2015-09-10 20:40:00  2015.0  0 days 00:00:00.000000000   \n",
       "72       2015-09-10 20:40:00  2015.0  0 days 00:01:57.000000000   \n",
       "\n",
       "              Estimated_Time Estimated Time (EST)       Estimated_Hour  \\\n",
       "play_id                                                                  \n",
       "36       2015-09-10 20:40:00  2015-09-10 20:40:00  2015-09-10 21:00:00   \n",
       "51       2015-09-10 20:40:00  2015-09-10 20:40:00  2015-09-10 21:00:00   \n",
       "72       2015-09-10 20:41:57  2015-09-10 20:41:57  2015-09-10 21:00:00   \n",
       "\n",
       "         Air Pressure (hPa)        City  Dewpoint (°C)           Field  \\\n",
       "play_id                                                                  \n",
       "36                   1010.6  Foxborough           16.1  FieldTurf CORE   \n",
       "51                   1010.6  Foxborough           16.1  FieldTurf CORE   \n",
       "72                   1010.6  Foxborough           16.1  FieldTurf CORE   \n",
       "\n",
       "         Humidity (%)  Precipitation (mm)  Roof Team Abbreviation  \\\n",
       "play_id                                                             \n",
       "36               87.0                 0.3  Open                NE   \n",
       "51               87.0                 0.3  Open                NE   \n",
       "72               87.0                 0.3  Open                NE   \n",
       "\n",
       "         Temperature (°C)           Time (EST)           Time (GMT)  \\\n",
       "play_id                                                               \n",
       "36                   18.3  2015-09-10 21:00:00  2015-09-11 01:00:00   \n",
       "51                   18.3  2015-09-10 21:00:00  2015-09-11 01:00:00   \n",
       "72                   18.3  2015-09-10 21:00:00  2015-09-11 01:00:00   \n",
       "\n",
       "         Unnamed: 0_y  Wind Direction (deg)  Wind Speed (km/h)  added_time  \\\n",
       "play_id                                                                      \n",
       "36                NaN                  30.0               20.5           0   \n",
       "51                NaN                  30.0               20.5           0   \n",
       "72                NaN                  30.0               20.5           0   \n",
       "\n",
       "                   game_name  end_of_drive  end_of_game  INT ARI ATL BAL BUF  \\\n",
       "play_id                                                                        \n",
       "36       PIT @ NE 2015-09-10             0            0    0   0   0   0   0   \n",
       "51       PIT @ NE 2015-09-10             0            0    0   0   0   0   0   \n",
       "72       PIT @ NE 2015-09-10             0            0    0   0   0   0   0   \n",
       "\n",
       "        CAR CHI CIN CLE DAL DEN DET GB HOU IND JAX KC LA LAC MIA MIN NE NO  \\\n",
       "play_id                                                                      \n",
       "36        0   0   0   0   0   0   0  0   0   0   0  0  0   0   0   0  H  0   \n",
       "51        0   0   0   0   0   0   0  0   0   0   0  0  0   0   0   0  H  0   \n",
       "72        0   0   0   0   0   0   0  0   0   0   0  0  0   0   0   0  H  0   \n",
       "\n",
       "        NYG NYJ OAK PHI PIT SEA SF TB TEN WAS  week  home_team_win  \\\n",
       "play_id                                                              \n",
       "36        0   0   0   0   A   0  0  0   0   0     1              0   \n",
       "51        0   0   0   0   A   0  0  0   0   0     1              0   \n",
       "72        0   0   0   0   A   0  0  0   0   0     1              0   \n",
       "\n",
       "         away_team_win  \n",
       "play_id                 \n",
       "36                   0  \n",
       "51                   0  \n",
       "72                   0  "
      ]
     },
     "execution_count": 77,
     "metadata": {},
     "output_type": "execute_result"
    }
   ],
   "source": [
    "nfl_small2_end_of_drive.head(3)"
   ]
  },
  {
   "cell_type": "code",
   "execution_count": 258,
   "metadata": {},
   "outputs": [],
   "source": [
    "# Using a form of Joey's agg function\n",
    "def my_weather_aggfunc(x):\n",
    "    values = {\n",
    "        'average_air_pressure':x['Air Pressure (hPa)'].mean(),\n",
    "        'avg_dew_point':x['Dewpoint (°C)'].mean(),\n",
    "        'avg_humidity':x['Humidity (%)'].mean(),\n",
    "        'total_precip':x['Precipitation (mm)'].sum(),\n",
    "        'avg_wind_speed':x['Wind Speed (km/h)'].mean()\n",
    "    }\n",
    "    return pd.Series(values)"
   ]
  },
  {
   "cell_type": "code",
   "execution_count": 259,
   "metadata": {},
   "outputs": [],
   "source": [
    "new_weather_df = pd.DataFrame()\n",
    "new_weather_df = nfl_small2_end_of_drive.groupby(['game_id']).apply(my_weather_aggfunc)"
   ]
  },
  {
   "cell_type": "code",
   "execution_count": 260,
   "metadata": {},
   "outputs": [
    {
     "data": {
      "text/html": [
       "<div>\n",
       "<style scoped>\n",
       "    .dataframe tbody tr th:only-of-type {\n",
       "        vertical-align: middle;\n",
       "    }\n",
       "\n",
       "    .dataframe tbody tr th {\n",
       "        vertical-align: top;\n",
       "    }\n",
       "\n",
       "    .dataframe thead th {\n",
       "        text-align: right;\n",
       "    }\n",
       "</style>\n",
       "<table border=\"1\" class=\"dataframe\">\n",
       "  <thead>\n",
       "    <tr style=\"text-align: right;\">\n",
       "      <th></th>\n",
       "      <th>average_air_pressure</th>\n",
       "      <th>avg_dew_point</th>\n",
       "      <th>avg_humidity</th>\n",
       "      <th>total_precip</th>\n",
       "      <th>avg_wind_speed</th>\n",
       "    </tr>\n",
       "    <tr>\n",
       "      <th>game_id</th>\n",
       "      <th></th>\n",
       "      <th></th>\n",
       "      <th></th>\n",
       "      <th></th>\n",
       "      <th></th>\n",
       "    </tr>\n",
       "  </thead>\n",
       "  <tbody>\n",
       "    <tr>\n",
       "      <td>2015091000</td>\n",
       "      <td>1009.756548</td>\n",
       "      <td>16.527976</td>\n",
       "      <td>88.303571</td>\n",
       "      <td>25.65</td>\n",
       "      <td>25.032143</td>\n",
       "    </tr>\n",
       "    <tr>\n",
       "      <td>2015091300</td>\n",
       "      <td>1016.575148</td>\n",
       "      <td>6.063905</td>\n",
       "      <td>40.639053</td>\n",
       "      <td>0.00</td>\n",
       "      <td>14.991716</td>\n",
       "    </tr>\n",
       "    <tr>\n",
       "      <td>2015091301</td>\n",
       "      <td>1018.786034</td>\n",
       "      <td>6.183799</td>\n",
       "      <td>34.815642</td>\n",
       "      <td>0.00</td>\n",
       "      <td>10.918436</td>\n",
       "    </tr>\n",
       "    <tr>\n",
       "      <td>2015091302</td>\n",
       "      <td>1014.450867</td>\n",
       "      <td>15.875723</td>\n",
       "      <td>52.312139</td>\n",
       "      <td>0.00</td>\n",
       "      <td>11.907514</td>\n",
       "    </tr>\n",
       "    <tr>\n",
       "      <td>2015091303</td>\n",
       "      <td>1010.871341</td>\n",
       "      <td>9.253049</td>\n",
       "      <td>41.969512</td>\n",
       "      <td>0.00</td>\n",
       "      <td>23.589634</td>\n",
       "    </tr>\n",
       "    <tr>\n",
       "      <td>...</td>\n",
       "      <td>...</td>\n",
       "      <td>...</td>\n",
       "      <td>...</td>\n",
       "      <td>...</td>\n",
       "      <td>...</td>\n",
       "    </tr>\n",
       "    <tr>\n",
       "      <td>2018121608</td>\n",
       "      <td>1009.706509</td>\n",
       "      <td>3.320710</td>\n",
       "      <td>96.029586</td>\n",
       "      <td>236.80</td>\n",
       "      <td>24.227811</td>\n",
       "    </tr>\n",
       "    <tr>\n",
       "      <td>2018121609</td>\n",
       "      <td>1016.334254</td>\n",
       "      <td>10.822652</td>\n",
       "      <td>69.939227</td>\n",
       "      <td>42.50</td>\n",
       "      <td>15.078453</td>\n",
       "    </tr>\n",
       "    <tr>\n",
       "      <td>2018121610</td>\n",
       "      <td>1015.989172</td>\n",
       "      <td>3.980892</td>\n",
       "      <td>96.872611</td>\n",
       "      <td>0.00</td>\n",
       "      <td>8.952866</td>\n",
       "    </tr>\n",
       "    <tr>\n",
       "      <td>2018121611</td>\n",
       "      <td>1019.405464</td>\n",
       "      <td>11.342077</td>\n",
       "      <td>65.240437</td>\n",
       "      <td>0.00</td>\n",
       "      <td>15.300000</td>\n",
       "    </tr>\n",
       "    <tr>\n",
       "      <td>2018121700</td>\n",
       "      <td>1015.959877</td>\n",
       "      <td>-2.966667</td>\n",
       "      <td>27.500000</td>\n",
       "      <td>0.00</td>\n",
       "      <td>8.337037</td>\n",
       "    </tr>\n",
       "  </tbody>\n",
       "</table>\n",
       "<p>991 rows × 5 columns</p>\n",
       "</div>"
      ],
      "text/plain": [
       "            average_air_pressure  avg_dew_point  avg_humidity  total_precip  \\\n",
       "game_id                                                                       \n",
       "2015091000           1009.756548      16.527976     88.303571         25.65   \n",
       "2015091300           1016.575148       6.063905     40.639053          0.00   \n",
       "2015091301           1018.786034       6.183799     34.815642          0.00   \n",
       "2015091302           1014.450867      15.875723     52.312139          0.00   \n",
       "2015091303           1010.871341       9.253049     41.969512          0.00   \n",
       "...                          ...            ...           ...           ...   \n",
       "2018121608           1009.706509       3.320710     96.029586        236.80   \n",
       "2018121609           1016.334254      10.822652     69.939227         42.50   \n",
       "2018121610           1015.989172       3.980892     96.872611          0.00   \n",
       "2018121611           1019.405464      11.342077     65.240437          0.00   \n",
       "2018121700           1015.959877      -2.966667     27.500000          0.00   \n",
       "\n",
       "            avg_wind_speed  \n",
       "game_id                     \n",
       "2015091000       25.032143  \n",
       "2015091300       14.991716  \n",
       "2015091301       10.918436  \n",
       "2015091302       11.907514  \n",
       "2015091303       23.589634  \n",
       "...                    ...  \n",
       "2018121608       24.227811  \n",
       "2018121609       15.078453  \n",
       "2018121610        8.952866  \n",
       "2018121611       15.300000  \n",
       "2018121700        8.337037  \n",
       "\n",
       "[991 rows x 5 columns]"
      ]
     },
     "execution_count": 260,
     "metadata": {},
     "output_type": "execute_result"
    }
   ],
   "source": [
    "new_weather_df"
   ]
  },
  {
   "cell_type": "code",
   "execution_count": 261,
   "metadata": {},
   "outputs": [],
   "source": [
    "field_df = nfl_small2_end_of_drive[['game_id','Field','Roof']].drop_duplicates()"
   ]
  },
  {
   "cell_type": "code",
   "execution_count": 262,
   "metadata": {},
   "outputs": [],
   "source": [
    "nfl_end_of_game2 = nfl_end_of_game.merge(field_df,how='left',on='game_id')"
   ]
  },
  {
   "cell_type": "code",
   "execution_count": 263,
   "metadata": {},
   "outputs": [
    {
     "data": {
      "text/html": [
       "<div>\n",
       "<style scoped>\n",
       "    .dataframe tbody tr th:only-of-type {\n",
       "        vertical-align: middle;\n",
       "    }\n",
       "\n",
       "    .dataframe tbody tr th {\n",
       "        vertical-align: top;\n",
       "    }\n",
       "\n",
       "    .dataframe thead th {\n",
       "        text-align: right;\n",
       "    }\n",
       "</style>\n",
       "<table border=\"1\" class=\"dataframe\">\n",
       "  <thead>\n",
       "    <tr style=\"text-align: right;\">\n",
       "      <th></th>\n",
       "      <th>game_id</th>\n",
       "      <th>Team</th>\n",
       "      <th>team_against</th>\n",
       "      <th>score</th>\n",
       "      <th>score_against</th>\n",
       "      <th>yards</th>\n",
       "      <th>yards_against</th>\n",
       "      <th>run_plays</th>\n",
       "      <th>run_plays_against</th>\n",
       "      <th>pass_plays</th>\n",
       "      <th>pass_plays_against</th>\n",
       "      <th>to_for</th>\n",
       "      <th>to_against</th>\n",
       "      <th>fg_at</th>\n",
       "      <th>fg_md</th>\n",
       "      <th>fg_at_against</th>\n",
       "      <th>fg_md_against</th>\n",
       "      <th>pass_yards</th>\n",
       "      <th>pass_yards_against</th>\n",
       "      <th>run_yards</th>\n",
       "      <th>run_yards_against</th>\n",
       "      <th>win</th>\n",
       "      <th>pass_run_ratio</th>\n",
       "      <th>yard_diff</th>\n",
       "      <th>to_diff</th>\n",
       "      <th>fg_rate</th>\n",
       "      <th>fg_rate_against</th>\n",
       "      <th>pass_yds_per_at</th>\n",
       "      <th>run_yds_per_at</th>\n",
       "      <th>pass_yds_per_at_against</th>\n",
       "      <th>run_yds_per_at_against</th>\n",
       "      <th>year</th>\n",
       "      <th>binned</th>\n",
       "      <th>win_group_num</th>\n",
       "      <th>Field_x</th>\n",
       "      <th>Roof_x</th>\n",
       "      <th>Field_y</th>\n",
       "      <th>Roof_y</th>\n",
       "      <th>average_air_pressure</th>\n",
       "      <th>avg_dew_point</th>\n",
       "      <th>avg_humidity</th>\n",
       "      <th>total_precip</th>\n",
       "      <th>avg_wind_speed</th>\n",
       "    </tr>\n",
       "  </thead>\n",
       "  <tbody>\n",
       "    <tr>\n",
       "      <td>0</td>\n",
       "      <td>2015091000</td>\n",
       "      <td>NE</td>\n",
       "      <td>PIT</td>\n",
       "      <td>28</td>\n",
       "      <td>21</td>\n",
       "      <td>366.0</td>\n",
       "      <td>429.0</td>\n",
       "      <td>23.0</td>\n",
       "      <td>25.0</td>\n",
       "      <td>34.0</td>\n",
       "      <td>42.0</td>\n",
       "      <td>1.0</td>\n",
       "      <td>2.0</td>\n",
       "      <td>0.0</td>\n",
       "      <td>0.0</td>\n",
       "      <td>4.0</td>\n",
       "      <td>4.0</td>\n",
       "      <td>281.0</td>\n",
       "      <td>332.0</td>\n",
       "      <td>82.0</td>\n",
       "      <td>134.0</td>\n",
       "      <td>1.0</td>\n",
       "      <td>1.48</td>\n",
       "      <td>-63.0</td>\n",
       "      <td>1.0</td>\n",
       "      <td>0.5</td>\n",
       "      <td>1.0</td>\n",
       "      <td>8.264706</td>\n",
       "      <td>3.565217</td>\n",
       "      <td>7.904762</td>\n",
       "      <td>5.360000</td>\n",
       "      <td>2015</td>\n",
       "      <td>10+ Wins</td>\n",
       "      <td>NaN</td>\n",
       "      <td>FieldTurf CORE</td>\n",
       "      <td>Open</td>\n",
       "      <td>FieldTurf CORE</td>\n",
       "      <td>Open</td>\n",
       "      <td>1009.756548</td>\n",
       "      <td>16.527976</td>\n",
       "      <td>88.303571</td>\n",
       "      <td>25.65</td>\n",
       "      <td>25.032143</td>\n",
       "    </tr>\n",
       "    <tr>\n",
       "      <td>1</td>\n",
       "      <td>2015091300</td>\n",
       "      <td>CHI</td>\n",
       "      <td>GB</td>\n",
       "      <td>23</td>\n",
       "      <td>31</td>\n",
       "      <td>416.0</td>\n",
       "      <td>336.0</td>\n",
       "      <td>33.0</td>\n",
       "      <td>28.0</td>\n",
       "      <td>36.0</td>\n",
       "      <td>23.0</td>\n",
       "      <td>1.0</td>\n",
       "      <td>0.0</td>\n",
       "      <td>3.0</td>\n",
       "      <td>3.0</td>\n",
       "      <td>1.0</td>\n",
       "      <td>1.0</td>\n",
       "      <td>213.0</td>\n",
       "      <td>189.0</td>\n",
       "      <td>189.0</td>\n",
       "      <td>134.0</td>\n",
       "      <td>0.0</td>\n",
       "      <td>1.09</td>\n",
       "      <td>80.0</td>\n",
       "      <td>-1.0</td>\n",
       "      <td>1.0</td>\n",
       "      <td>1.0</td>\n",
       "      <td>5.916667</td>\n",
       "      <td>5.727273</td>\n",
       "      <td>8.217391</td>\n",
       "      <td>4.785714</td>\n",
       "      <td>2015</td>\n",
       "      <td>5 or Less</td>\n",
       "      <td>NaN</td>\n",
       "      <td>Kentucky bluegrass</td>\n",
       "      <td>Open</td>\n",
       "      <td>Kentucky bluegrass</td>\n",
       "      <td>Open</td>\n",
       "      <td>1016.575148</td>\n",
       "      <td>6.063905</td>\n",
       "      <td>40.639053</td>\n",
       "      <td>0.00</td>\n",
       "      <td>14.991716</td>\n",
       "    </tr>\n",
       "    <tr>\n",
       "      <td>2</td>\n",
       "      <td>2015091301</td>\n",
       "      <td>LA</td>\n",
       "      <td>SEA</td>\n",
       "      <td>33</td>\n",
       "      <td>29</td>\n",
       "      <td>354.0</td>\n",
       "      <td>338.0</td>\n",
       "      <td>26.0</td>\n",
       "      <td>32.0</td>\n",
       "      <td>29.0</td>\n",
       "      <td>47.0</td>\n",
       "      <td>3.0</td>\n",
       "      <td>1.0</td>\n",
       "      <td>2.0</td>\n",
       "      <td>2.0</td>\n",
       "      <td>3.0</td>\n",
       "      <td>3.0</td>\n",
       "      <td>276.0</td>\n",
       "      <td>219.0</td>\n",
       "      <td>76.0</td>\n",
       "      <td>127.0</td>\n",
       "      <td>1.0</td>\n",
       "      <td>1.12</td>\n",
       "      <td>16.0</td>\n",
       "      <td>-2.0</td>\n",
       "      <td>1.0</td>\n",
       "      <td>1.0</td>\n",
       "      <td>9.517241</td>\n",
       "      <td>2.923077</td>\n",
       "      <td>4.659574</td>\n",
       "      <td>3.968750</td>\n",
       "      <td>2015</td>\n",
       "      <td>5 or Less</td>\n",
       "      <td>NaN</td>\n",
       "      <td>AstroTurf</td>\n",
       "      <td>Fixed</td>\n",
       "      <td>AstroTurf</td>\n",
       "      <td>Fixed</td>\n",
       "      <td>1018.786034</td>\n",
       "      <td>6.183799</td>\n",
       "      <td>34.815642</td>\n",
       "      <td>0.00</td>\n",
       "      <td>10.918436</td>\n",
       "    </tr>\n",
       "  </tbody>\n",
       "</table>\n",
       "</div>"
      ],
      "text/plain": [
       "      game_id Team team_against  score  score_against  yards  yards_against  \\\n",
       "0  2015091000   NE          PIT     28             21  366.0          429.0   \n",
       "1  2015091300  CHI           GB     23             31  416.0          336.0   \n",
       "2  2015091301   LA          SEA     33             29  354.0          338.0   \n",
       "\n",
       "   run_plays  run_plays_against  pass_plays  pass_plays_against  to_for  \\\n",
       "0       23.0               25.0        34.0                42.0     1.0   \n",
       "1       33.0               28.0        36.0                23.0     1.0   \n",
       "2       26.0               32.0        29.0                47.0     3.0   \n",
       "\n",
       "   to_against  fg_at  fg_md  fg_at_against  fg_md_against  pass_yards  \\\n",
       "0         2.0    0.0    0.0            4.0            4.0       281.0   \n",
       "1         0.0    3.0    3.0            1.0            1.0       213.0   \n",
       "2         1.0    2.0    2.0            3.0            3.0       276.0   \n",
       "\n",
       "   pass_yards_against  run_yards  run_yards_against  win  pass_run_ratio  \\\n",
       "0               332.0       82.0              134.0  1.0            1.48   \n",
       "1               189.0      189.0              134.0  0.0            1.09   \n",
       "2               219.0       76.0              127.0  1.0            1.12   \n",
       "\n",
       "   yard_diff  to_diff  fg_rate  fg_rate_against  pass_yds_per_at  \\\n",
       "0      -63.0      1.0      0.5              1.0         8.264706   \n",
       "1       80.0     -1.0      1.0              1.0         5.916667   \n",
       "2       16.0     -2.0      1.0              1.0         9.517241   \n",
       "\n",
       "   run_yds_per_at  pass_yds_per_at_against  run_yds_per_at_against  year  \\\n",
       "0        3.565217                 7.904762                5.360000  2015   \n",
       "1        5.727273                 8.217391                4.785714  2015   \n",
       "2        2.923077                 4.659574                3.968750  2015   \n",
       "\n",
       "      binned  win_group_num             Field_x Roof_x             Field_y  \\\n",
       "0   10+ Wins            NaN      FieldTurf CORE   Open      FieldTurf CORE   \n",
       "1  5 or Less            NaN  Kentucky bluegrass   Open  Kentucky bluegrass   \n",
       "2  5 or Less            NaN           AstroTurf  Fixed           AstroTurf   \n",
       "\n",
       "  Roof_y  average_air_pressure  avg_dew_point  avg_humidity  total_precip  \\\n",
       "0   Open           1009.756548      16.527976     88.303571         25.65   \n",
       "1   Open           1016.575148       6.063905     40.639053          0.00   \n",
       "2  Fixed           1018.786034       6.183799     34.815642          0.00   \n",
       "\n",
       "   avg_wind_speed  \n",
       "0       25.032143  \n",
       "1       14.991716  \n",
       "2       10.918436  "
      ]
     },
     "execution_count": 263,
     "metadata": {},
     "output_type": "execute_result"
    }
   ],
   "source": [
    "nfl_end_of_game3 = nfl_end_of_game2.merge(new_weather_df,how='left',on='game_id')\n",
    "nfl_end_of_game3.head(3)"
   ]
  },
  {
   "cell_type": "code",
   "execution_count": 282,
   "metadata": {},
   "outputs": [
    {
     "data": {
      "text/plain": [
       "58"
      ]
     },
     "execution_count": 282,
     "metadata": {},
     "output_type": "execute_result"
    }
   ],
   "source": [
    "# Setting total_precip to zero where stadium has roof\n",
    "roof_index = list(nfl_end_of_game3[(nfl_end_of_game3['Roof_y'].isin(['Fixed','Retractable']))&\\\n",
    "                (nfl_end_of_game3['total_precip']!=0)].index)\n",
    "len(roof_index)\n",
    "\n",
    "# nfl_small.drop(nfl_small.index[blank_play_drop], inplace=True)\n",
    "# nfl_small.shape"
   ]
  },
  {
   "cell_type": "code",
   "execution_count": 284,
   "metadata": {},
   "outputs": [
    {
     "name": "stderr",
     "output_type": "stream",
     "text": [
      "/opt/anaconda3/lib/python3.7/site-packages/pandas/core/indexing.py:205: SettingWithCopyWarning:\n",
      "\n",
      "\n",
      "A value is trying to be set on a copy of a slice from a DataFrame\n",
      "\n",
      "See the caveats in the documentation: http://pandas.pydata.org/pandas-docs/stable/user_guide/indexing.html#returning-a-view-versus-a-copy\n",
      "\n"
     ]
    }
   ],
   "source": [
    "nfl_end_of_game3['total_precip'].iloc[roof_index] = 0"
   ]
  },
  {
   "cell_type": "code",
   "execution_count": 285,
   "metadata": {},
   "outputs": [
    {
     "data": {
      "text/plain": [
       "0"
      ]
     },
     "execution_count": 285,
     "metadata": {},
     "output_type": "execute_result"
    }
   ],
   "source": [
    "nfl_end_of_game3[(nfl_end_of_game3['Roof_y'].isin(['Fixed','Retractable']))&\\\n",
    "                (nfl_end_of_game3['total_precip']!=0)]['game_id'].count()"
   ]
  },
  {
   "cell_type": "markdown",
   "metadata": {},
   "source": [
    "<h3>From USGS</h3><br>\n",
    "https://water.usgs.gov/edu/activity-howmuchrain-metric.html\n",
    "<b>Rates of rainfall</b>\n",
    "1. Drizzle, very small droplets.<br>\n",
    "2. Slight (fine) drizzle: Detectable as droplets only on the face, car windscreens and windows.<br>\n",
    "3. Moderate drizzle: Windows and other surfaces stream with water.<br>\n",
    "4. Heavy (thick) drizzle: Impairs visibility and is measurable in a raingauge, rates up to 1 mm per hour.<br>\n",
    "5. Rain, drops of appreciable size and may be described as small to large drops. It is possible to have rain drops within drizzle!<br>\n",
    "6. Slight rain: Less than 0.5 mm per hour.<br>\n",
    "7. Moderate rain: Greater than 0.5 mm per hour, but less than 4.0 mm per hour.<br>\n",
    "8. Heavy rain: Greater than 4 mm per hour, but less than 8 mm per hour.<br>\n",
    "9. Very heavy rain: Greater than 8 mm per hour.<br>\n",
    "10. Slight shower: Less than 2 mm per hour.<br>\n",
    "11. Moderate shower: Greater than 2 mm, but less than 10 mm per hour.<br>\n",
    "12. Heavy shower: Greater than 10 mm per hour, but less than 50 mm per hour.<br>\n",
    "13. Violent shower: Greater than 50 mm per hour.<br>"
   ]
  },
  {
   "cell_type": "code",
   "execution_count": 102,
   "metadata": {
    "cell_style": "split",
    "scrolled": true
   },
   "outputs": [
    {
     "data": {
      "text/plain": [
       "(array([1936.,   24.,    6.,    4.,    4.,    2.,    2.,    2.,    0.,\n",
       "           2.]),\n",
       " array([   0.  ,  239.02,  478.04,  717.06,  956.08, 1195.1 , 1434.12,\n",
       "        1673.14, 1912.16, 2151.18, 2390.2 ]),\n",
       " <a list of 10 Patch objects>)"
      ]
     },
     "execution_count": 102,
     "metadata": {},
     "output_type": "execute_result"
    },
    {
     "data": {
      "image/png": "[encoded data removed]",
      "text/plain": [
       "<Figure size 432x288 with 1 Axes>"
      ]
     },
     "metadata": {
      "needs_background": "light"
     },
     "output_type": "display_data"
    }
   ],
   "source": [
    "plt.hist(nfl_end_of_game3.total_precip)"
   ]
  },
  {
   "cell_type": "code",
   "execution_count": 106,
   "metadata": {
    "cell_style": "split",
    "scrolled": false
   },
   "outputs": [
    {
     "data": {
      "text/plain": [
       "(array([736., 893., 270.,  62.,  15.,   3.,   2.,   0.,   0.,   1.]),\n",
       " array([ 0.3 ,  1.27,  2.24,  3.21,  4.18,  5.15,  6.12,  7.09,  8.06,\n",
       "         9.03, 10.  ]),\n",
       " <a list of 10 Patch objects>)"
      ]
     },
     "execution_count": 106,
     "metadata": {},
     "output_type": "execute_result"
    },
    {
     "data": {
      "image/png": "[encoded data removed]",
      "text/plain": [
       "<Figure size 432x288 with 1 Axes>"
      ]
     },
     "metadata": {
      "needs_background": "light"
     },
     "output_type": "display_data"
    }
   ],
   "source": [
    "plt.hist(nfl_end_of_game3.pass_run_ratio)"
   ]
  },
  {
   "cell_type": "code",
   "execution_count": 287,
   "metadata": {},
   "outputs": [
    {
     "data": {
      "text/plain": [
       "218"
      ]
     },
     "execution_count": 287,
     "metadata": {},
     "output_type": "execute_result"
    }
   ],
   "source": [
    "total_precip = nfl_end_of_game3[(nfl_end_of_game3['total_precip']!=0) & \\\n",
    "                                (nfl_end_of_game3['Roof_x']=='Open')]['total_precip']\n",
    "total_precip.count()"
   ]
  },
  {
   "cell_type": "code",
   "execution_count": 292,
   "metadata": {},
   "outputs": [],
   "source": [
    "cum_precip = pd.DataFrame(nfl_end_of_game3[(nfl_end_of_game3['total_precip']!=0)&\\\n",
    "                             (nfl_end_of_game3['Roof_x']=='Open')]\\\n",
    "                             .sort_values(by=['total_precip'],ascending=True)\\\n",
    "                             .groupby('total_precip')['total_precip'].count().cumsum()/218)"
   ]
  },
  {
   "cell_type": "code",
   "execution_count": 302,
   "metadata": {},
   "outputs": [
    {
     "data": {
      "application/vnd.plotly.v1+json": {
       "config": {
        "plotlyServerURL": "https://plot.ly"
       },
       "data": [
        {
         "name": "Count of Records",
         "type": "scatter",
         "x": [
          0.6,
          0.6000000000000001,
          0.8,
          1.2,
          3.200000000000001,
          4.2,
          5,
          6.4,
          8.1,
          9.6,
          9.600000000000003,
          9.699999999999994,
          10.500000000000004,
          11,
          11.600000000000001,
          13.380000000000003,
          14,
          15.3,
          15.5,
          16.3,
          18.4,
          19.200000000000003,
          20.833333333333332,
          21.150000000000002,
          21.45,
          22.8,
          25.65,
          25.724999999999994,
          25.9,
          26.25,
          27,
          29,
          29.700000000000003,
          32.89999999999999,
          33.449999999999996,
          34.1,
          36.5,
          36.99999999999999,
          37.20000000000001,
          37.24999999999999,
          37.8,
          38,
          38.34999999999999,
          41.39999999999999,
          41.599999999999994,
          42.5,
          46.75,
          47.25,
          47.75,
          48.599999999999994,
          55.99999999999999,
          56.4,
          59,
          59.875,
          61.19999999999999,
          62.7,
          63.2,
          64.99999999999997,
          67.53333333333332,
          68,
          73.9,
          74.39999999999998,
          74.59999999999998,
          75.49999999999999,
          87.2,
          87.3625,
          94,
          98.31818181818181,
          100.69999999999999,
          106.29999999999998,
          119.4,
          122.79999999999998,
          126.66666666666666,
          126.70000000000002,
          127.19999999999997,
          134.14285714285717,
          138,
          139.8,
          141.25,
          141.4,
          149.75,
          159.73333333333335,
          163.20000000000002,
          165.64999999999998,
          172.2000000000001,
          188.9,
          195.5,
          218.2,
          218.5,
          235.8,
          236.8,
          253.75,
          267,
          280.5,
          311.80000000000007,
          311.90000000000003,
          358.90000000000003,
          397.73333333333335,
          427.2000000000001,
          583.5999999999999,
          698.5999999999999,
          729.3999999999999,
          741.6000000000001,
          973.5,
          1130.4,
          1594.2000000000005,
          1874.0999999999995
         ],
         "y": [
          0.009174311926605505,
          0.01834862385321101,
          0.027522935779816515,
          0.045871559633027525,
          0.05504587155963303,
          0.06422018348623854,
          0.07339449541284404,
          0.08256880733944955,
          0.09174311926605505,
          0.10091743119266056,
          0.11009174311926606,
          0.11926605504587157,
          0.12844036697247707,
          0.13761467889908258,
          0.14678899082568808,
          0.1559633027522936,
          0.1651376146788991,
          0.1743119266055046,
          0.1834862385321101,
          0.1926605504587156,
          0.2018348623853211,
          0.21100917431192662,
          0.22018348623853212,
          0.22935779816513763,
          0.23853211009174313,
          0.24770642201834864,
          0.25688073394495414,
          0.26605504587155965,
          0.27522935779816515,
          0.28440366972477066,
          0.29357798165137616,
          0.30275229357798167,
          0.3119266055045872,
          0.3211009174311927,
          0.3302752293577982,
          0.3394495412844037,
          0.3486238532110092,
          0.3577981651376147,
          0.3669724770642202,
          0.3761467889908257,
          0.3853211009174312,
          0.3944954128440367,
          0.4036697247706422,
          0.41284403669724773,
          0.43119266055045874,
          0.44036697247706424,
          0.44954128440366975,
          0.45871559633027525,
          0.46788990825688076,
          0.47706422018348627,
          0.48623853211009177,
          0.4954128440366973,
          0.5045871559633027,
          0.5137614678899083,
          0.5229357798165137,
          0.5321100917431193,
          0.5412844036697247,
          0.5504587155963303,
          0.5596330275229358,
          0.5688073394495413,
          0.5779816513761468,
          0.5871559633027523,
          0.5963302752293578,
          0.6055045871559633,
          0.6146788990825688,
          0.6238532110091743,
          0.6330275229357798,
          0.6422018348623854,
          0.6513761467889908,
          0.6605504587155964,
          0.6697247706422018,
          0.6788990825688074,
          0.6880733944954128,
          0.6972477064220184,
          0.7064220183486238,
          0.7155963302752294,
          0.7247706422018348,
          0.7339449541284404,
          0.7431192660550459,
          0.7522935779816514,
          0.7614678899082569,
          0.7706422018348624,
          0.7798165137614679,
          0.7889908256880734,
          0.7981651376146789,
          0.8073394495412844,
          0.8165137614678899,
          0.8256880733944955,
          0.8348623853211009,
          0.8440366972477065,
          0.8532110091743119,
          0.8623853211009175,
          0.8715596330275229,
          0.8807339449541285,
          0.8899082568807339,
          0.8990825688073395,
          0.908256880733945,
          0.9174311926605505,
          0.926605504587156,
          0.9357798165137615,
          0.944954128440367,
          0.9541284403669725,
          0.963302752293578,
          0.9724770642201835,
          0.981651376146789,
          0.9908256880733946,
          1
         ]
        }
       ],
       "layout": {
        "template": {
         "data": {
          "bar": [
           {
            "error_x": {
             "color": "#2a3f5f"
            },
            "error_y": {
             "color": "#2a3f5f"
            },
            "marker": {
             "line": {
              "color": "#E5ECF6",
              "width": 0.5
             }
            },
            "type": "bar"
           }
          ],
          "barpolar": [
           {
            "marker": {
             "line": {
              "color": "#E5ECF6",
              "width": 0.5
             }
            },
            "type": "barpolar"
           }
          ],
          "carpet": [
           {
            "aaxis": {
             "endlinecolor": "#2a3f5f",
             "gridcolor": "white",
             "linecolor": "white",
             "minorgridcolor": "white",
             "startlinecolor": "#2a3f5f"
            },
            "baxis": {
             "endlinecolor": "#2a3f5f",
             "gridcolor": "white",
             "linecolor": "white",
             "minorgridcolor": "white",
             "startlinecolor": "#2a3f5f"
            },
            "type": "carpet"
           }
          ],
          "choropleth": [
           {
            "colorbar": {
             "outlinewidth": 0,
             "ticks": ""
            },
            "type": "choropleth"
           }
          ],
          "contour": [
           {
            "colorbar": {
             "outlinewidth": 0,
             "ticks": ""
            },
            "colorscale": [
             [
              0,
              "#0d0887"
             ],
             [
              0.1111111111111111,
              "#46039f"
             ],
             [
              0.2222222222222222,
              "#7201a8"
             ],
             [
              0.3333333333333333,
              "#9c179e"
             ],
             [
              0.4444444444444444,
              "#bd3786"
             ],
             [
              0.5555555555555556,
              "#d8576b"
             ],
             [
              0.6666666666666666,
              "#ed7953"
             ],
             [
              0.7777777777777778,
              "#fb9f3a"
             ],
             [
              0.8888888888888888,
              "#fdca26"
             ],
             [
              1,
              "#f0f921"
             ]
            ],
            "type": "contour"
           }
          ],
          "contourcarpet": [
           {
            "colorbar": {
             "outlinewidth": 0,
             "ticks": ""
            },
            "type": "contourcarpet"
           }
          ],
          "heatmap": [
           {
            "colorbar": {
             "outlinewidth": 0,
             "ticks": ""
            },
            "colorscale": [
             [
              0,
              "#0d0887"
             ],
             [
              0.1111111111111111,
              "#46039f"
             ],
             [
              0.2222222222222222,
              "#7201a8"
             ],
             [
              0.3333333333333333,
              "#9c179e"
             ],
             [
              0.4444444444444444,
              "#bd3786"
             ],
             [
              0.5555555555555556,
              "#d8576b"
             ],
             [
              0.6666666666666666,
              "#ed7953"
             ],
             [
              0.7777777777777778,
              "#fb9f3a"
             ],
             [
              0.8888888888888888,
              "#fdca26"
             ],
             [
              1,
              "#f0f921"
             ]
            ],
            "type": "heatmap"
           }
          ],
          "heatmapgl": [
           {
            "colorbar": {
             "outlinewidth": 0,
             "ticks": ""
            },
            "colorscale": [
             [
              0,
              "#0d0887"
             ],
             [
              0.1111111111111111,
              "#46039f"
             ],
             [
              0.2222222222222222,
              "#7201a8"
             ],
             [
              0.3333333333333333,
              "#9c179e"
             ],
             [
              0.4444444444444444,
              "#bd3786"
             ],
             [
              0.5555555555555556,
              "#d8576b"
             ],
             [
              0.6666666666666666,
              "#ed7953"
             ],
             [
              0.7777777777777778,
              "#fb9f3a"
             ],
             [
              0.8888888888888888,
              "#fdca26"
             ],
             [
              1,
              "#f0f921"
             ]
            ],
            "type": "heatmapgl"
           }
          ],
          "histogram": [
           {
            "marker": {
             "colorbar": {
              "outlinewidth": 0,
              "ticks": ""
             }
            },
            "type": "histogram"
           }
          ],
          "histogram2d": [
           {
            "colorbar": {
             "outlinewidth": 0,
             "ticks": ""
            },
            "colorscale": [
             [
              0,
              "#0d0887"
             ],
             [
              0.1111111111111111,
              "#46039f"
             ],
             [
              0.2222222222222222,
              "#7201a8"
             ],
             [
              0.3333333333333333,
              "#9c179e"
             ],
             [
              0.4444444444444444,
              "#bd3786"
             ],
             [
              0.5555555555555556,
              "#d8576b"
             ],
             [
              0.6666666666666666,
              "#ed7953"
             ],
             [
              0.7777777777777778,
              "#fb9f3a"
             ],
             [
              0.8888888888888888,
              "#fdca26"
             ],
             [
              1,
              "#f0f921"
             ]
            ],
            "type": "histogram2d"
           }
          ],
          "histogram2dcontour": [
           {
            "colorbar": {
             "outlinewidth": 0,
             "ticks": ""
            },
            "colorscale": [
             [
              0,
              "#0d0887"
             ],
             [
              0.1111111111111111,
              "#46039f"
             ],
             [
              0.2222222222222222,
              "#7201a8"
             ],
             [
              0.3333333333333333,
              "#9c179e"
             ],
             [
              0.4444444444444444,
              "#bd3786"
             ],
             [
              0.5555555555555556,
              "#d8576b"
             ],
             [
              0.6666666666666666,
              "#ed7953"
             ],
             [
              0.7777777777777778,
              "#fb9f3a"
             ],
             [
              0.8888888888888888,
              "#fdca26"
             ],
             [
              1,
              "#f0f921"
             ]
            ],
            "type": "histogram2dcontour"
           }
          ],
          "mesh3d": [
           {
            "colorbar": {
             "outlinewidth": 0,
             "ticks": ""
            },
            "type": "mesh3d"
           }
          ],
          "parcoords": [
           {
            "line": {
             "colorbar": {
              "outlinewidth": 0,
              "ticks": ""
             }
            },
            "type": "parcoords"
           }
          ],
          "pie": [
           {
            "automargin": true,
            "type": "pie"
           }
          ],
          "scatter": [
           {
            "marker": {
             "colorbar": {
              "outlinewidth": 0,
              "ticks": ""
             }
            },
            "type": "scatter"
           }
          ],
          "scatter3d": [
           {
            "line": {
             "colorbar": {
              "outlinewidth": 0,
              "ticks": ""
             }
            },
            "marker": {
             "colorbar": {
              "outlinewidth": 0,
              "ticks": ""
             }
            },
            "type": "scatter3d"
           }
          ],
          "scattercarpet": [
           {
            "marker": {
             "colorbar": {
              "outlinewidth": 0,
              "ticks": ""
             }
            },
            "type": "scattercarpet"
           }
          ],
          "scattergeo": [
           {
            "marker": {
             "colorbar": {
              "outlinewidth": 0,
              "ticks": ""
             }
            },
            "type": "scattergeo"
           }
          ],
          "scattergl": [
           {
            "marker": {
             "colorbar": {
              "outlinewidth": 0,
              "ticks": ""
             }
            },
            "type": "scattergl"
           }
          ],
          "scattermapbox": [
           {
            "marker": {
             "colorbar": {
              "outlinewidth": 0,
              "ticks": ""
             }
            },
            "type": "scattermapbox"
           }
          ],
          "scatterpolar": [
           {
            "marker": {
             "colorbar": {
              "outlinewidth": 0,
              "ticks": ""
             }
            },
            "type": "scatterpolar"
           }
          ],
          "scatterpolargl": [
           {
            "marker": {
             "colorbar": {
              "outlinewidth": 0,
              "ticks": ""
             }
            },
            "type": "scatterpolargl"
           }
          ],
          "scatterternary": [
           {
            "marker": {
             "colorbar": {
              "outlinewidth": 0,
              "ticks": ""
             }
            },
            "type": "scatterternary"
           }
          ],
          "surface": [
           {
            "colorbar": {
             "outlinewidth": 0,
             "ticks": ""
            },
            "colorscale": [
             [
              0,
              "#0d0887"
             ],
             [
              0.1111111111111111,
              "#46039f"
             ],
             [
              0.2222222222222222,
              "#7201a8"
             ],
             [
              0.3333333333333333,
              "#9c179e"
             ],
             [
              0.4444444444444444,
              "#bd3786"
             ],
             [
              0.5555555555555556,
              "#d8576b"
             ],
             [
              0.6666666666666666,
              "#ed7953"
             ],
             [
              0.7777777777777778,
              "#fb9f3a"
             ],
             [
              0.8888888888888888,
              "#fdca26"
             ],
             [
              1,
              "#f0f921"
             ]
            ],
            "type": "surface"
           }
          ],
          "table": [
           {
            "cells": {
             "fill": {
              "color": "#EBF0F8"
             },
             "line": {
              "color": "white"
             }
            },
            "header": {
             "fill": {
              "color": "#C8D4E3"
             },
             "line": {
              "color": "white"
             }
            },
            "type": "table"
           }
          ]
         },
         "layout": {
          "annotationdefaults": {
           "arrowcolor": "#2a3f5f",
           "arrowhead": 0,
           "arrowwidth": 1
          },
          "coloraxis": {
           "colorbar": {
            "outlinewidth": 0,
            "ticks": ""
           }
          },
          "colorscale": {
           "diverging": [
            [
             0,
             "#8e0152"
            ],
            [
             0.1,
             "#c51b7d"
            ],
            [
             0.2,
             "#de77ae"
            ],
            [
             0.3,
             "#f1b6da"
            ],
            [
             0.4,
             "#fde0ef"
            ],
            [
             0.5,
             "#f7f7f7"
            ],
            [
             0.6,
             "#e6f5d0"
            ],
            [
             0.7,
             "#b8e186"
            ],
            [
             0.8,
             "#7fbc41"
            ],
            [
             0.9,
             "#4d9221"
            ],
            [
             1,
             "#276419"
            ]
           ],
           "sequential": [
            [
             0,
             "#0d0887"
            ],
            [
             0.1111111111111111,
             "#46039f"
            ],
            [
             0.2222222222222222,
             "#7201a8"
            ],
            [
             0.3333333333333333,
             "#9c179e"
            ],
            [
             0.4444444444444444,
             "#bd3786"
            ],
            [
             0.5555555555555556,
             "#d8576b"
            ],
            [
             0.6666666666666666,
             "#ed7953"
            ],
            [
             0.7777777777777778,
             "#fb9f3a"
            ],
            [
             0.8888888888888888,
             "#fdca26"
            ],
            [
             1,
             "#f0f921"
            ]
           ],
           "sequentialminus": [
            [
             0,
             "#0d0887"
            ],
            [
             0.1111111111111111,
             "#46039f"
            ],
            [
             0.2222222222222222,
             "#7201a8"
            ],
            [
             0.3333333333333333,
             "#9c179e"
            ],
            [
             0.4444444444444444,
             "#bd3786"
            ],
            [
             0.5555555555555556,
             "#d8576b"
            ],
            [
             0.6666666666666666,
             "#ed7953"
            ],
            [
             0.7777777777777778,
             "#fb9f3a"
            ],
            [
             0.8888888888888888,
             "#fdca26"
            ],
            [
             1,
             "#f0f921"
            ]
           ]
          },
          "colorway": [
           "#636efa",
           "#EF553B",
           "#00cc96",
           "#ab63fa",
           "#FFA15A",
           "#19d3f3",
           "#FF6692",
           "#B6E880",
           "#FF97FF",
           "#FECB52"
          ],
          "font": {
           "color": "#2a3f5f"
          },
          "geo": {
           "bgcolor": "white",
           "lakecolor": "white",
           "landcolor": "#E5ECF6",
           "showlakes": true,
           "showland": true,
           "subunitcolor": "white"
          },
          "hoverlabel": {
           "align": "left"
          },
          "hovermode": "closest",
          "mapbox": {
           "style": "light"
          },
          "paper_bgcolor": "white",
          "plot_bgcolor": "#E5ECF6",
          "polar": {
           "angularaxis": {
            "gridcolor": "white",
            "linecolor": "white",
            "ticks": ""
           },
           "bgcolor": "#E5ECF6",
           "radialaxis": {
            "gridcolor": "white",
            "linecolor": "white",
            "ticks": ""
           }
          },
          "scene": {
           "xaxis": {
            "backgroundcolor": "#E5ECF6",
            "gridcolor": "white",
            "gridwidth": 2,
            "linecolor": "white",
            "showbackground": true,
            "ticks": "",
            "zerolinecolor": "white"
           },
           "yaxis": {
            "backgroundcolor": "#E5ECF6",
            "gridcolor": "white",
            "gridwidth": 2,
            "linecolor": "white",
            "showbackground": true,
            "ticks": "",
            "zerolinecolor": "white"
           },
           "zaxis": {
            "backgroundcolor": "#E5ECF6",
            "gridcolor": "white",
            "gridwidth": 2,
            "linecolor": "white",
            "showbackground": true,
            "ticks": "",
            "zerolinecolor": "white"
           }
          },
          "shapedefaults": {
           "line": {
            "color": "#2a3f5f"
           }
          },
          "ternary": {
           "aaxis": {
            "gridcolor": "white",
            "linecolor": "white",
            "ticks": ""
           },
           "baxis": {
            "gridcolor": "white",
            "linecolor": "white",
            "ticks": ""
           },
           "bgcolor": "#E5ECF6",
           "caxis": {
            "gridcolor": "white",
            "linecolor": "white",
            "ticks": ""
           }
          },
          "title": {
           "x": 0.05
          },
          "xaxis": {
           "automargin": true,
           "gridcolor": "white",
           "linecolor": "white",
           "ticks": "",
           "title": {
            "standoff": 15
           },
           "zerolinecolor": "white",
           "zerolinewidth": 2
          },
          "yaxis": {
           "automargin": true,
           "gridcolor": "white",
           "linecolor": "white",
           "ticks": "",
           "title": {
            "standoff": 15
           },
           "zerolinecolor": "white",
           "zerolinewidth": 2
          }
         }
        }
       }
      },
      "text/html": [
       "<div>\n",
       "        \n",
       "        \n",
       "            <div id=\"ca878717-7975-4b89-bfb9-7a5f2062600b\" class=\"plotly-graph-div\" style=\"height:525px; width:100%;\"></div>\n",
       "            <script type=\"text/javascript\">\n",
       "                require([\"plotly\"], function(Plotly) {\n",
       "                    window.PLOTLYENV=window.PLOTLYENV || {};\n",
       "                    \n",
       "                if (document.getElementById(\"ca878717-7975-4b89-bfb9-7a5f2062600b\")) {\n",
       "                    Plotly.newPlot(\n",
       "                        'ca878717-7975-4b89-bfb9-7a5f2062600b',\n",
       "                        [{\"name\": \"Count of Records\", \"type\": \"scatter\", \"x\": [0.6, 0.6000000000000001, 0.8, 1.2, 3.200000000000001, 4.2, 5.0, 6.4, 8.1, 9.6, 9.600000000000003, 9.699999999999994, 10.500000000000004, 11.0, 11.600000000000001, 13.380000000000003, 14.0, 15.3, 15.5, 16.3, 18.4, 19.200000000000003, 20.833333333333332, 21.150000000000002, 21.45, 22.8, 25.65, 25.724999999999994, 25.9, 26.25, 27.0, 29.0, 29.700000000000003, 32.89999999999999, 33.449999999999996, 34.1, 36.5, 36.99999999999999, 37.20000000000001, 37.24999999999999, 37.8, 38.0, 38.34999999999999, 41.39999999999999, 41.599999999999994, 42.5, 46.75, 47.25, 47.75, 48.599999999999994, 55.99999999999999, 56.4, 59.0, 59.875, 61.19999999999999, 62.7, 63.2, 64.99999999999997, 67.53333333333332, 68.0, 73.9, 74.39999999999998, 74.59999999999998, 75.49999999999999, 87.2, 87.3625, 94.0, 98.31818181818181, 100.69999999999999, 106.29999999999998, 119.4, 122.79999999999998, 126.66666666666666, 126.70000000000002, 127.19999999999997, 134.14285714285717, 138.0, 139.8, 141.25, 141.4, 149.75, 159.73333333333335, 163.20000000000002, 165.64999999999998, 172.2000000000001, 188.9, 195.5, 218.2, 218.5, 235.8, 236.8, 253.75, 267.0, 280.5, 311.80000000000007, 311.90000000000003, 358.90000000000003, 397.73333333333335, 427.2000000000001, 583.5999999999999, 698.5999999999999, 729.3999999999999, 741.6000000000001, 973.5, 1130.4, 1594.2000000000005, 1874.0999999999995], \"y\": [0.009174311926605505, 0.01834862385321101, 0.027522935779816515, 0.045871559633027525, 0.05504587155963303, 0.06422018348623854, 0.07339449541284404, 0.08256880733944955, 0.09174311926605505, 0.10091743119266056, 0.11009174311926606, 0.11926605504587157, 0.12844036697247707, 0.13761467889908258, 0.14678899082568808, 0.1559633027522936, 0.1651376146788991, 0.1743119266055046, 0.1834862385321101, 0.1926605504587156, 0.2018348623853211, 0.21100917431192662, 0.22018348623853212, 0.22935779816513763, 0.23853211009174313, 0.24770642201834864, 0.25688073394495414, 0.26605504587155965, 0.27522935779816515, 0.28440366972477066, 0.29357798165137616, 0.30275229357798167, 0.3119266055045872, 0.3211009174311927, 0.3302752293577982, 0.3394495412844037, 0.3486238532110092, 0.3577981651376147, 0.3669724770642202, 0.3761467889908257, 0.3853211009174312, 0.3944954128440367, 0.4036697247706422, 0.41284403669724773, 0.43119266055045874, 0.44036697247706424, 0.44954128440366975, 0.45871559633027525, 0.46788990825688076, 0.47706422018348627, 0.48623853211009177, 0.4954128440366973, 0.5045871559633027, 0.5137614678899083, 0.5229357798165137, 0.5321100917431193, 0.5412844036697247, 0.5504587155963303, 0.5596330275229358, 0.5688073394495413, 0.5779816513761468, 0.5871559633027523, 0.5963302752293578, 0.6055045871559633, 0.6146788990825688, 0.6238532110091743, 0.6330275229357798, 0.6422018348623854, 0.6513761467889908, 0.6605504587155964, 0.6697247706422018, 0.6788990825688074, 0.6880733944954128, 0.6972477064220184, 0.7064220183486238, 0.7155963302752294, 0.7247706422018348, 0.7339449541284404, 0.7431192660550459, 0.7522935779816514, 0.7614678899082569, 0.7706422018348624, 0.7798165137614679, 0.7889908256880734, 0.7981651376146789, 0.8073394495412844, 0.8165137614678899, 0.8256880733944955, 0.8348623853211009, 0.8440366972477065, 0.8532110091743119, 0.8623853211009175, 0.8715596330275229, 0.8807339449541285, 0.8899082568807339, 0.8990825688073395, 0.908256880733945, 0.9174311926605505, 0.926605504587156, 0.9357798165137615, 0.944954128440367, 0.9541284403669725, 0.963302752293578, 0.9724770642201835, 0.981651376146789, 0.9908256880733946, 1.0]}],\n",
       "                        {\"template\": {\"data\": {\"bar\": [{\"error_x\": {\"color\": \"#2a3f5f\"}, \"error_y\": {\"color\": \"#2a3f5f\"}, \"marker\": {\"line\": {\"color\": \"#E5ECF6\", \"width\": 0.5}}, \"type\": \"bar\"}], \"barpolar\": [{\"marker\": {\"line\": {\"color\": \"#E5ECF6\", \"width\": 0.5}}, \"type\": \"barpolar\"}], \"carpet\": [{\"aaxis\": {\"endlinecolor\": \"#2a3f5f\", \"gridcolor\": \"white\", \"linecolor\": \"white\", \"minorgridcolor\": \"white\", \"startlinecolor\": \"#2a3f5f\"}, \"baxis\": {\"endlinecolor\": \"#2a3f5f\", \"gridcolor\": \"white\", \"linecolor\": \"white\", \"minorgridcolor\": \"white\", \"startlinecolor\": \"#2a3f5f\"}, \"type\": \"carpet\"}], \"choropleth\": [{\"colorbar\": {\"outlinewidth\": 0, \"ticks\": \"\"}, \"type\": \"choropleth\"}], \"contour\": [{\"colorbar\": {\"outlinewidth\": 0, \"ticks\": \"\"}, \"colorscale\": [[0.0, \"#0d0887\"], [0.1111111111111111, \"#46039f\"], [0.2222222222222222, \"#7201a8\"], [0.3333333333333333, \"#9c179e\"], [0.4444444444444444, \"#bd3786\"], [0.5555555555555556, \"#d8576b\"], [0.6666666666666666, \"#ed7953\"], [0.7777777777777778, \"#fb9f3a\"], [0.8888888888888888, \"#fdca26\"], [1.0, \"#f0f921\"]], \"type\": \"contour\"}], \"contourcarpet\": [{\"colorbar\": {\"outlinewidth\": 0, \"ticks\": \"\"}, \"type\": \"contourcarpet\"}], \"heatmap\": [{\"colorbar\": {\"outlinewidth\": 0, \"ticks\": \"\"}, \"colorscale\": [[0.0, \"#0d0887\"], [0.1111111111111111, \"#46039f\"], [0.2222222222222222, \"#7201a8\"], [0.3333333333333333, \"#9c179e\"], [0.4444444444444444, \"#bd3786\"], [0.5555555555555556, \"#d8576b\"], [0.6666666666666666, \"#ed7953\"], [0.7777777777777778, \"#fb9f3a\"], [0.8888888888888888, \"#fdca26\"], [1.0, \"#f0f921\"]], \"type\": \"heatmap\"}], \"heatmapgl\": [{\"colorbar\": {\"outlinewidth\": 0, \"ticks\": \"\"}, \"colorscale\": [[0.0, \"#0d0887\"], [0.1111111111111111, \"#46039f\"], [0.2222222222222222, \"#7201a8\"], [0.3333333333333333, \"#9c179e\"], [0.4444444444444444, \"#bd3786\"], [0.5555555555555556, \"#d8576b\"], [0.6666666666666666, \"#ed7953\"], [0.7777777777777778, \"#fb9f3a\"], [0.8888888888888888, \"#fdca26\"], [1.0, \"#f0f921\"]], \"type\": \"heatmapgl\"}], \"histogram\": [{\"marker\": {\"colorbar\": {\"outlinewidth\": 0, \"ticks\": \"\"}}, \"type\": \"histogram\"}], \"histogram2d\": [{\"colorbar\": {\"outlinewidth\": 0, \"ticks\": \"\"}, \"colorscale\": [[0.0, \"#0d0887\"], [0.1111111111111111, \"#46039f\"], [0.2222222222222222, \"#7201a8\"], [0.3333333333333333, \"#9c179e\"], [0.4444444444444444, \"#bd3786\"], [0.5555555555555556, \"#d8576b\"], [0.6666666666666666, \"#ed7953\"], [0.7777777777777778, \"#fb9f3a\"], [0.8888888888888888, \"#fdca26\"], [1.0, \"#f0f921\"]], \"type\": \"histogram2d\"}], \"histogram2dcontour\": [{\"colorbar\": {\"outlinewidth\": 0, \"ticks\": \"\"}, \"colorscale\": [[0.0, \"#0d0887\"], [0.1111111111111111, \"#46039f\"], [0.2222222222222222, \"#7201a8\"], [0.3333333333333333, \"#9c179e\"], [0.4444444444444444, \"#bd3786\"], [0.5555555555555556, \"#d8576b\"], [0.6666666666666666, \"#ed7953\"], [0.7777777777777778, \"#fb9f3a\"], [0.8888888888888888, \"#fdca26\"], [1.0, \"#f0f921\"]], \"type\": \"histogram2dcontour\"}], \"mesh3d\": [{\"colorbar\": {\"outlinewidth\": 0, \"ticks\": \"\"}, \"type\": \"mesh3d\"}], \"parcoords\": [{\"line\": {\"colorbar\": {\"outlinewidth\": 0, \"ticks\": \"\"}}, \"type\": \"parcoords\"}], \"pie\": [{\"automargin\": true, \"type\": \"pie\"}], \"scatter\": [{\"marker\": {\"colorbar\": {\"outlinewidth\": 0, \"ticks\": \"\"}}, \"type\": \"scatter\"}], \"scatter3d\": [{\"line\": {\"colorbar\": {\"outlinewidth\": 0, \"ticks\": \"\"}}, \"marker\": {\"colorbar\": {\"outlinewidth\": 0, \"ticks\": \"\"}}, \"type\": \"scatter3d\"}], \"scattercarpet\": [{\"marker\": {\"colorbar\": {\"outlinewidth\": 0, \"ticks\": \"\"}}, \"type\": \"scattercarpet\"}], \"scattergeo\": [{\"marker\": {\"colorbar\": {\"outlinewidth\": 0, \"ticks\": \"\"}}, \"type\": \"scattergeo\"}], \"scattergl\": [{\"marker\": {\"colorbar\": {\"outlinewidth\": 0, \"ticks\": \"\"}}, \"type\": \"scattergl\"}], \"scattermapbox\": [{\"marker\": {\"colorbar\": {\"outlinewidth\": 0, \"ticks\": \"\"}}, \"type\": \"scattermapbox\"}], \"scatterpolar\": [{\"marker\": {\"colorbar\": {\"outlinewidth\": 0, \"ticks\": \"\"}}, \"type\": \"scatterpolar\"}], \"scatterpolargl\": [{\"marker\": {\"colorbar\": {\"outlinewidth\": 0, \"ticks\": \"\"}}, \"type\": \"scatterpolargl\"}], \"scatterternary\": [{\"marker\": {\"colorbar\": {\"outlinewidth\": 0, \"ticks\": \"\"}}, \"type\": \"scatterternary\"}], \"surface\": [{\"colorbar\": {\"outlinewidth\": 0, \"ticks\": \"\"}, \"colorscale\": [[0.0, \"#0d0887\"], [0.1111111111111111, \"#46039f\"], [0.2222222222222222, \"#7201a8\"], [0.3333333333333333, \"#9c179e\"], [0.4444444444444444, \"#bd3786\"], [0.5555555555555556, \"#d8576b\"], [0.6666666666666666, \"#ed7953\"], [0.7777777777777778, \"#fb9f3a\"], [0.8888888888888888, \"#fdca26\"], [1.0, \"#f0f921\"]], \"type\": \"surface\"}], \"table\": [{\"cells\": {\"fill\": {\"color\": \"#EBF0F8\"}, \"line\": {\"color\": \"white\"}}, \"header\": {\"fill\": {\"color\": \"#C8D4E3\"}, \"line\": {\"color\": \"white\"}}, \"type\": \"table\"}]}, \"layout\": {\"annotationdefaults\": {\"arrowcolor\": \"#2a3f5f\", \"arrowhead\": 0, \"arrowwidth\": 1}, \"coloraxis\": {\"colorbar\": {\"outlinewidth\": 0, \"ticks\": \"\"}}, \"colorscale\": {\"diverging\": [[0, \"#8e0152\"], [0.1, \"#c51b7d\"], [0.2, \"#de77ae\"], [0.3, \"#f1b6da\"], [0.4, \"#fde0ef\"], [0.5, \"#f7f7f7\"], [0.6, \"#e6f5d0\"], [0.7, \"#b8e186\"], [0.8, \"#7fbc41\"], [0.9, \"#4d9221\"], [1, \"#276419\"]], \"sequential\": [[0.0, \"#0d0887\"], [0.1111111111111111, \"#46039f\"], [0.2222222222222222, \"#7201a8\"], [0.3333333333333333, \"#9c179e\"], [0.4444444444444444, \"#bd3786\"], [0.5555555555555556, \"#d8576b\"], [0.6666666666666666, \"#ed7953\"], [0.7777777777777778, \"#fb9f3a\"], [0.8888888888888888, \"#fdca26\"], [1.0, \"#f0f921\"]], \"sequentialminus\": [[0.0, \"#0d0887\"], [0.1111111111111111, \"#46039f\"], [0.2222222222222222, \"#7201a8\"], [0.3333333333333333, \"#9c179e\"], [0.4444444444444444, \"#bd3786\"], [0.5555555555555556, \"#d8576b\"], [0.6666666666666666, \"#ed7953\"], [0.7777777777777778, \"#fb9f3a\"], [0.8888888888888888, \"#fdca26\"], [1.0, \"#f0f921\"]]}, \"colorway\": [\"#636efa\", \"#EF553B\", \"#00cc96\", \"#ab63fa\", \"#FFA15A\", \"#19d3f3\", \"#FF6692\", \"#B6E880\", \"#FF97FF\", \"#FECB52\"], \"font\": {\"color\": \"#2a3f5f\"}, \"geo\": {\"bgcolor\": \"white\", \"lakecolor\": \"white\", \"landcolor\": \"#E5ECF6\", \"showlakes\": true, \"showland\": true, \"subunitcolor\": \"white\"}, \"hoverlabel\": {\"align\": \"left\"}, \"hovermode\": \"closest\", \"mapbox\": {\"style\": \"light\"}, \"paper_bgcolor\": \"white\", \"plot_bgcolor\": \"#E5ECF6\", \"polar\": {\"angularaxis\": {\"gridcolor\": \"white\", \"linecolor\": \"white\", \"ticks\": \"\"}, \"bgcolor\": \"#E5ECF6\", \"radialaxis\": {\"gridcolor\": \"white\", \"linecolor\": \"white\", \"ticks\": \"\"}}, \"scene\": {\"xaxis\": {\"backgroundcolor\": \"#E5ECF6\", \"gridcolor\": \"white\", \"gridwidth\": 2, \"linecolor\": \"white\", \"showbackground\": true, \"ticks\": \"\", \"zerolinecolor\": \"white\"}, \"yaxis\": {\"backgroundcolor\": \"#E5ECF6\", \"gridcolor\": \"white\", \"gridwidth\": 2, \"linecolor\": \"white\", \"showbackground\": true, \"ticks\": \"\", \"zerolinecolor\": \"white\"}, \"zaxis\": {\"backgroundcolor\": \"#E5ECF6\", \"gridcolor\": \"white\", \"gridwidth\": 2, \"linecolor\": \"white\", \"showbackground\": true, \"ticks\": \"\", \"zerolinecolor\": \"white\"}}, \"shapedefaults\": {\"line\": {\"color\": \"#2a3f5f\"}}, \"ternary\": {\"aaxis\": {\"gridcolor\": \"white\", \"linecolor\": \"white\", \"ticks\": \"\"}, \"baxis\": {\"gridcolor\": \"white\", \"linecolor\": \"white\", \"ticks\": \"\"}, \"bgcolor\": \"#E5ECF6\", \"caxis\": {\"gridcolor\": \"white\", \"linecolor\": \"white\", \"ticks\": \"\"}}, \"title\": {\"x\": 0.05}, \"xaxis\": {\"automargin\": true, \"gridcolor\": \"white\", \"linecolor\": \"white\", \"ticks\": \"\", \"title\": {\"standoff\": 15}, \"zerolinecolor\": \"white\", \"zerolinewidth\": 2}, \"yaxis\": {\"automargin\": true, \"gridcolor\": \"white\", \"linecolor\": \"white\", \"ticks\": \"\", \"title\": {\"standoff\": 15}, \"zerolinecolor\": \"white\", \"zerolinewidth\": 2}}}},\n",
       "                        {\"responsive\": true}\n",
       "                    ).then(function(){\n",
       "                            \n",
       "var gd = document.getElementById('ca878717-7975-4b89-bfb9-7a5f2062600b');\n",
       "var x = new MutationObserver(function (mutations, observer) {{\n",
       "        var display = window.getComputedStyle(gd).display;\n",
       "        if (!display || display === 'none') {{\n",
       "            console.log([gd, 'removed!']);\n",
       "            Plotly.purge(gd);\n",
       "            observer.disconnect();\n",
       "        }}\n",
       "}});\n",
       "\n",
       "// Listen for the removal of the full notebook cells\n",
       "var notebookContainer = gd.closest('#notebook-container');\n",
       "if (notebookContainer) {{\n",
       "    x.observe(notebookContainer, {childList: true});\n",
       "}}\n",
       "\n",
       "// Listen for the clearing of the current output cell\n",
       "var outputEl = gd.closest('.output');\n",
       "if (outputEl) {{\n",
       "    x.observe(outputEl, {childList: true});\n",
       "}}\n",
       "\n",
       "                        })\n",
       "                };\n",
       "                });\n",
       "            </script>\n",
       "        </div>"
      ]
     },
     "metadata": {},
     "output_type": "display_data"
    }
   ],
   "source": [
    "# Given highly skewed precip values, buckets will be fairly skewed\n",
    "x = cum_precip['total_precip'].index\n",
    "y = cum_precip['total_precip'].values\n",
    "\n",
    "fig = go.Figure()\n",
    "\n",
    "fig.add_trace(go.Scatter(name='Count of Records',\n",
    "                 x=x, \n",
    "                 y=y)\n",
    "             )\n",
    "\n",
    "fig"
   ]
  },
  {
   "cell_type": "code",
   "execution_count": 303,
   "metadata": {},
   "outputs": [
    {
     "data": {
      "text/plain": [
       "0        25.650000\n",
       "5        87.362500\n",
       "6         4.200000\n",
       "34      134.142857\n",
       "47      119.400000\n",
       "           ...    \n",
       "1965      0.800000\n",
       "1966     34.100000\n",
       "1970     29.000000\n",
       "1977    236.800000\n",
       "1978     42.500000\n",
       "Name: total_precip, Length: 218, dtype: float64"
      ]
     },
     "execution_count": 303,
     "metadata": {},
     "output_type": "execute_result"
    }
   ],
   "source": [
    "nfl_end_of_game3[nfl_end_of_game3['total_precip']!=0].total_precip"
   ]
  },
  {
   "cell_type": "code",
   "execution_count": 304,
   "metadata": {},
   "outputs": [
    {
     "data": {
      "text/html": [
       "<div>\n",
       "<style scoped>\n",
       "    .dataframe tbody tr th:only-of-type {\n",
       "        vertical-align: middle;\n",
       "    }\n",
       "\n",
       "    .dataframe tbody tr th {\n",
       "        vertical-align: top;\n",
       "    }\n",
       "\n",
       "    .dataframe thead th {\n",
       "        text-align: right;\n",
       "    }\n",
       "</style>\n",
       "<table border=\"1\" class=\"dataframe\">\n",
       "  <thead>\n",
       "    <tr style=\"text-align: right;\">\n",
       "      <th></th>\n",
       "      <th>total_precip</th>\n",
       "    </tr>\n",
       "    <tr>\n",
       "      <th>total_precip</th>\n",
       "      <th></th>\n",
       "    </tr>\n",
       "  </thead>\n",
       "  <tbody>\n",
       "    <tr>\n",
       "      <td>37.20</td>\n",
       "      <td>0.366972</td>\n",
       "    </tr>\n",
       "    <tr>\n",
       "      <td>37.25</td>\n",
       "      <td>0.376147</td>\n",
       "    </tr>\n",
       "    <tr>\n",
       "      <td>37.80</td>\n",
       "      <td>0.385321</td>\n",
       "    </tr>\n",
       "    <tr>\n",
       "      <td>38.00</td>\n",
       "      <td>0.394495</td>\n",
       "    </tr>\n",
       "    <tr>\n",
       "      <td>38.35</td>\n",
       "      <td>0.403670</td>\n",
       "    </tr>\n",
       "  </tbody>\n",
       "</table>\n",
       "</div>"
      ],
      "text/plain": [
       "              total_precip\n",
       "total_precip              \n",
       "37.20             0.366972\n",
       "37.25             0.376147\n",
       "37.80             0.385321\n",
       "38.00             0.394495\n",
       "38.35             0.403670"
      ]
     },
     "execution_count": 304,
     "metadata": {},
     "output_type": "execute_result"
    }
   ],
   "source": [
    "#Bucket 1 >0 and <= 38\n",
    "cum_precip[cum_precip['total_precip'] <= .41].tail(5)"
   ]
  },
  {
   "cell_type": "code",
   "execution_count": 305,
   "metadata": {},
   "outputs": [
    {
     "data": {
      "text/html": [
       "<div>\n",
       "<style scoped>\n",
       "    .dataframe tbody tr th:only-of-type {\n",
       "        vertical-align: middle;\n",
       "    }\n",
       "\n",
       "    .dataframe tbody tr th {\n",
       "        vertical-align: top;\n",
       "    }\n",
       "\n",
       "    .dataframe thead th {\n",
       "        text-align: right;\n",
       "    }\n",
       "</style>\n",
       "<table border=\"1\" class=\"dataframe\">\n",
       "  <thead>\n",
       "    <tr style=\"text-align: right;\">\n",
       "      <th></th>\n",
       "      <th>total_precip</th>\n",
       "    </tr>\n",
       "    <tr>\n",
       "      <th>total_precip</th>\n",
       "      <th></th>\n",
       "    </tr>\n",
       "  </thead>\n",
       "  <tbody>\n",
       "    <tr>\n",
       "      <td>159.733333</td>\n",
       "      <td>0.770642</td>\n",
       "    </tr>\n",
       "    <tr>\n",
       "      <td>163.200000</td>\n",
       "      <td>0.779817</td>\n",
       "    </tr>\n",
       "    <tr>\n",
       "      <td>165.650000</td>\n",
       "      <td>0.788991</td>\n",
       "    </tr>\n",
       "    <tr>\n",
       "      <td>172.200000</td>\n",
       "      <td>0.798165</td>\n",
       "    </tr>\n",
       "    <tr>\n",
       "      <td>188.900000</td>\n",
       "      <td>0.807339</td>\n",
       "    </tr>\n",
       "  </tbody>\n",
       "</table>\n",
       "</div>"
      ],
      "text/plain": [
       "              total_precip\n",
       "total_precip              \n",
       "159.733333        0.770642\n",
       "163.200000        0.779817\n",
       "165.650000        0.788991\n",
       "172.200000        0.798165\n",
       "188.900000        0.807339"
      ]
     },
     "execution_count": 305,
     "metadata": {},
     "output_type": "execute_result"
    }
   ],
   "source": [
    "#Bucket 2 >38 and <= 180\n",
    "cum_precip[(cum_precip['total_precip'] > .4)&(cum_precip['total_precip'] < .81)].tail(5)"
   ]
  },
  {
   "cell_type": "code",
   "execution_count": 306,
   "metadata": {},
   "outputs": [
    {
     "data": {
      "text/html": [
       "<div>\n",
       "<style scoped>\n",
       "    .dataframe tbody tr th:only-of-type {\n",
       "        vertical-align: middle;\n",
       "    }\n",
       "\n",
       "    .dataframe tbody tr th {\n",
       "        vertical-align: top;\n",
       "    }\n",
       "\n",
       "    .dataframe thead th {\n",
       "        text-align: right;\n",
       "    }\n",
       "</style>\n",
       "<table border=\"1\" class=\"dataframe\">\n",
       "  <thead>\n",
       "    <tr style=\"text-align: right;\">\n",
       "      <th></th>\n",
       "      <th>total_precip</th>\n",
       "    </tr>\n",
       "    <tr>\n",
       "      <th>total_precip</th>\n",
       "      <th></th>\n",
       "    </tr>\n",
       "  </thead>\n",
       "  <tbody>\n",
       "    <tr>\n",
       "      <td>741.6</td>\n",
       "      <td>0.963303</td>\n",
       "    </tr>\n",
       "    <tr>\n",
       "      <td>973.5</td>\n",
       "      <td>0.972477</td>\n",
       "    </tr>\n",
       "    <tr>\n",
       "      <td>1130.4</td>\n",
       "      <td>0.981651</td>\n",
       "    </tr>\n",
       "    <tr>\n",
       "      <td>1594.2</td>\n",
       "      <td>0.990826</td>\n",
       "    </tr>\n",
       "    <tr>\n",
       "      <td>1874.1</td>\n",
       "      <td>1.000000</td>\n",
       "    </tr>\n",
       "  </tbody>\n",
       "</table>\n",
       "</div>"
      ],
      "text/plain": [
       "              total_precip\n",
       "total_precip              \n",
       "741.6             0.963303\n",
       "973.5             0.972477\n",
       "1130.4            0.981651\n",
       "1594.2            0.990826\n",
       "1874.1            1.000000"
      ]
     },
     "execution_count": 306,
     "metadata": {},
     "output_type": "execute_result"
    }
   ],
   "source": [
    "#Bucket 3 >180 and <= 180\n",
    "cum_precip[(cum_precip['total_precip'] > .8)].tail(5)"
   ]
  },
  {
   "cell_type": "code",
   "execution_count": 307,
   "metadata": {},
   "outputs": [
    {
     "data": {
      "text/plain": [
       "(total_precip    43\n",
       " dtype: int64, total_precip    43\n",
       " dtype: int64, total_precip    22\n",
       " dtype: int64)"
      ]
     },
     "execution_count": 307,
     "metadata": {},
     "output_type": "execute_result"
    }
   ],
   "source": [
    "cum_precip[cum_precip['total_precip'] <= .41].count(),\\\n",
    "cum_precip[(cum_precip['total_precip'] > .4)&(cum_precip['total_precip'] < .8)].count(),\\\n",
    "cum_precip[(cum_precip['total_precip'] > .8)].count()"
   ]
  },
  {
   "cell_type": "code",
   "execution_count": 308,
   "metadata": {},
   "outputs": [],
   "source": [
    "bins = [-1,0, 38, 180, 2000]\n",
    "labels = ['No Precip','38 mm or Less', 'Between 39 and 180 mm','>180 mm']\n",
    "nfl_end_of_game3['precip_bins'] = pd.cut(nfl_end_of_game3['total_precip'], bins=bins, labels=labels)"
   ]
  },
  {
   "cell_type": "code",
   "execution_count": 309,
   "metadata": {},
   "outputs": [
    {
     "data": {
      "text/html": [
       "<div>\n",
       "<style scoped>\n",
       "    .dataframe tbody tr th:only-of-type {\n",
       "        vertical-align: middle;\n",
       "    }\n",
       "\n",
       "    .dataframe tbody tr th {\n",
       "        vertical-align: top;\n",
       "    }\n",
       "\n",
       "    .dataframe thead th {\n",
       "        text-align: right;\n",
       "    }\n",
       "</style>\n",
       "<table border=\"1\" class=\"dataframe\">\n",
       "  <thead>\n",
       "    <tr style=\"text-align: right;\">\n",
       "      <th></th>\n",
       "      <th>precip_bins</th>\n",
       "      <th>total_precip</th>\n",
       "    </tr>\n",
       "  </thead>\n",
       "  <tbody>\n",
       "    <tr>\n",
       "      <td>0</td>\n",
       "      <td>38 mm or Less</td>\n",
       "      <td>25.6500</td>\n",
       "    </tr>\n",
       "    <tr>\n",
       "      <td>1</td>\n",
       "      <td>No Precip</td>\n",
       "      <td>0.0000</td>\n",
       "    </tr>\n",
       "    <tr>\n",
       "      <td>2</td>\n",
       "      <td>No Precip</td>\n",
       "      <td>0.0000</td>\n",
       "    </tr>\n",
       "    <tr>\n",
       "      <td>3</td>\n",
       "      <td>No Precip</td>\n",
       "      <td>0.0000</td>\n",
       "    </tr>\n",
       "    <tr>\n",
       "      <td>4</td>\n",
       "      <td>No Precip</td>\n",
       "      <td>0.0000</td>\n",
       "    </tr>\n",
       "    <tr>\n",
       "      <td>5</td>\n",
       "      <td>Between 39 and 180 mm</td>\n",
       "      <td>87.3625</td>\n",
       "    </tr>\n",
       "    <tr>\n",
       "      <td>6</td>\n",
       "      <td>38 mm or Less</td>\n",
       "      <td>4.2000</td>\n",
       "    </tr>\n",
       "    <tr>\n",
       "      <td>7</td>\n",
       "      <td>No Precip</td>\n",
       "      <td>0.0000</td>\n",
       "    </tr>\n",
       "    <tr>\n",
       "      <td>8</td>\n",
       "      <td>No Precip</td>\n",
       "      <td>0.0000</td>\n",
       "    </tr>\n",
       "    <tr>\n",
       "      <td>9</td>\n",
       "      <td>No Precip</td>\n",
       "      <td>0.0000</td>\n",
       "    </tr>\n",
       "  </tbody>\n",
       "</table>\n",
       "</div>"
      ],
      "text/plain": [
       "             precip_bins  total_precip\n",
       "0          38 mm or Less       25.6500\n",
       "1              No Precip        0.0000\n",
       "2              No Precip        0.0000\n",
       "3              No Precip        0.0000\n",
       "4              No Precip        0.0000\n",
       "5  Between 39 and 180 mm       87.3625\n",
       "6          38 mm or Less        4.2000\n",
       "7              No Precip        0.0000\n",
       "8              No Precip        0.0000\n",
       "9              No Precip        0.0000"
      ]
     },
     "execution_count": 309,
     "metadata": {},
     "output_type": "execute_result"
    }
   ],
   "source": [
    "nfl_end_of_game3[['precip_bins','total_precip']].head(10)"
   ]
  },
  {
   "cell_type": "code",
   "execution_count": 310,
   "metadata": {},
   "outputs": [
    {
     "data": {
      "text/html": [
       "<div>\n",
       "<style scoped>\n",
       "    .dataframe tbody tr th:only-of-type {\n",
       "        vertical-align: middle;\n",
       "    }\n",
       "\n",
       "    .dataframe tbody tr th {\n",
       "        vertical-align: top;\n",
       "    }\n",
       "\n",
       "    .dataframe thead th {\n",
       "        text-align: right;\n",
       "    }\n",
       "</style>\n",
       "<table border=\"1\" class=\"dataframe\">\n",
       "  <thead>\n",
       "    <tr style=\"text-align: right;\">\n",
       "      <th></th>\n",
       "      <th>precip_bins</th>\n",
       "      <th>total_precip</th>\n",
       "    </tr>\n",
       "  </thead>\n",
       "  <tbody>\n",
       "    <tr>\n",
       "      <td>0</td>\n",
       "      <td>38 mm or Less</td>\n",
       "      <td>25.650000</td>\n",
       "    </tr>\n",
       "    <tr>\n",
       "      <td>5</td>\n",
       "      <td>Between 39 and 180 mm</td>\n",
       "      <td>87.362500</td>\n",
       "    </tr>\n",
       "    <tr>\n",
       "      <td>6</td>\n",
       "      <td>38 mm or Less</td>\n",
       "      <td>4.200000</td>\n",
       "    </tr>\n",
       "    <tr>\n",
       "      <td>34</td>\n",
       "      <td>Between 39 and 180 mm</td>\n",
       "      <td>134.142857</td>\n",
       "    </tr>\n",
       "    <tr>\n",
       "      <td>47</td>\n",
       "      <td>Between 39 and 180 mm</td>\n",
       "      <td>119.400000</td>\n",
       "    </tr>\n",
       "    <tr>\n",
       "      <td>55</td>\n",
       "      <td>&gt;180 mm</td>\n",
       "      <td>397.733333</td>\n",
       "    </tr>\n",
       "    <tr>\n",
       "      <td>80</td>\n",
       "      <td>38 mm or Less</td>\n",
       "      <td>27.000000</td>\n",
       "    </tr>\n",
       "    <tr>\n",
       "      <td>82</td>\n",
       "      <td>38 mm or Less</td>\n",
       "      <td>29.700000</td>\n",
       "    </tr>\n",
       "    <tr>\n",
       "      <td>86</td>\n",
       "      <td>38 mm or Less</td>\n",
       "      <td>11.000000</td>\n",
       "    </tr>\n",
       "    <tr>\n",
       "      <td>100</td>\n",
       "      <td>38 mm or Less</td>\n",
       "      <td>8.100000</td>\n",
       "    </tr>\n",
       "  </tbody>\n",
       "</table>\n",
       "</div>"
      ],
      "text/plain": [
       "               precip_bins  total_precip\n",
       "0            38 mm or Less     25.650000\n",
       "5    Between 39 and 180 mm     87.362500\n",
       "6            38 mm or Less      4.200000\n",
       "34   Between 39 and 180 mm    134.142857\n",
       "47   Between 39 and 180 mm    119.400000\n",
       "55                 >180 mm    397.733333\n",
       "80           38 mm or Less     27.000000\n",
       "82           38 mm or Less     29.700000\n",
       "86           38 mm or Less     11.000000\n",
       "100          38 mm or Less      8.100000"
      ]
     },
     "execution_count": 310,
     "metadata": {},
     "output_type": "execute_result"
    }
   ],
   "source": [
    "nfl_end_of_game3[(nfl_end_of_game3['total_precip']!=0) & (nfl_end_of_game3['Roof_x']=='Open')]\\\n",
    "                 [['precip_bins','total_precip']].head(10)"
   ]
  },
  {
   "cell_type": "code",
   "execution_count": 311,
   "metadata": {},
   "outputs": [
    {
     "data": {
      "text/html": [
       "<div>\n",
       "<style scoped>\n",
       "    .dataframe tbody tr th:only-of-type {\n",
       "        vertical-align: middle;\n",
       "    }\n",
       "\n",
       "    .dataframe tbody tr th {\n",
       "        vertical-align: top;\n",
       "    }\n",
       "\n",
       "    .dataframe thead th {\n",
       "        text-align: right;\n",
       "    }\n",
       "</style>\n",
       "<table border=\"1\" class=\"dataframe\">\n",
       "  <thead>\n",
       "    <tr style=\"text-align: right;\">\n",
       "      <th></th>\n",
       "      <th>pass_run_ratio</th>\n",
       "    </tr>\n",
       "    <tr>\n",
       "      <th>precip_bins</th>\n",
       "      <th></th>\n",
       "    </tr>\n",
       "  </thead>\n",
       "  <tbody>\n",
       "    <tr>\n",
       "      <td>No Precip</td>\n",
       "      <td>1.163464</td>\n",
       "    </tr>\n",
       "    <tr>\n",
       "      <td>38 mm or Less</td>\n",
       "      <td>1.586279</td>\n",
       "    </tr>\n",
       "    <tr>\n",
       "      <td>Between 39 and 180 mm</td>\n",
       "      <td>1.544773</td>\n",
       "    </tr>\n",
       "    <tr>\n",
       "      <td>&gt;180 mm</td>\n",
       "      <td>1.522273</td>\n",
       "    </tr>\n",
       "  </tbody>\n",
       "</table>\n",
       "</div>"
      ],
      "text/plain": [
       "                       pass_run_ratio\n",
       "precip_bins                          \n",
       "No Precip                    1.163464\n",
       "38 mm or Less                1.586279\n",
       "Between 39 and 180 mm        1.544773\n",
       ">180 mm                      1.522273"
      ]
     },
     "execution_count": 311,
     "metadata": {},
     "output_type": "execute_result"
    }
   ],
   "source": [
    "nfl_end_of_game3.groupby('precip_bins').agg({'pass_run_ratio':'mean'})"
   ]
  },
  {
   "cell_type": "code",
   "execution_count": 313,
   "metadata": {},
   "outputs": [
    {
     "data": {
      "application/vnd.plotly.v1+json": {
       "config": {
        "plotlyServerURL": "https://plot.ly"
       },
       "data": [
        {
         "name": "Pass/Run Ratio",
         "type": "bar",
         "x": [
          "No Precip",
          "38 mm or Less",
          "Between 39 and 180 mm",
          ">180 mm"
         ],
         "y": [
          1.1634637188208612,
          1.586279069767442,
          1.5447727272727276,
          1.5222727272727274
         ]
        }
       ],
       "layout": {
        "template": {
         "data": {
          "bar": [
           {
            "error_x": {
             "color": "#2a3f5f"
            },
            "error_y": {
             "color": "#2a3f5f"
            },
            "marker": {
             "line": {
              "color": "#E5ECF6",
              "width": 0.5
             }
            },
            "type": "bar"
           }
          ],
          "barpolar": [
           {
            "marker": {
             "line": {
              "color": "#E5ECF6",
              "width": 0.5
             }
            },
            "type": "barpolar"
           }
          ],
          "carpet": [
           {
            "aaxis": {
             "endlinecolor": "#2a3f5f",
             "gridcolor": "white",
             "linecolor": "white",
             "minorgridcolor": "white",
             "startlinecolor": "#2a3f5f"
            },
            "baxis": {
             "endlinecolor": "#2a3f5f",
             "gridcolor": "white",
             "linecolor": "white",
             "minorgridcolor": "white",
             "startlinecolor": "#2a3f5f"
            },
            "type": "carpet"
           }
          ],
          "choropleth": [
           {
            "colorbar": {
             "outlinewidth": 0,
             "ticks": ""
            },
            "type": "choropleth"
           }
          ],
          "contour": [
           {
            "colorbar": {
             "outlinewidth": 0,
             "ticks": ""
            },
            "colorscale": [
             [
              0,
              "#0d0887"
             ],
             [
              0.1111111111111111,
              "#46039f"
             ],
             [
              0.2222222222222222,
              "#7201a8"
             ],
             [
              0.3333333333333333,
              "#9c179e"
             ],
             [
              0.4444444444444444,
              "#bd3786"
             ],
             [
              0.5555555555555556,
              "#d8576b"
             ],
             [
              0.6666666666666666,
              "#ed7953"
             ],
             [
              0.7777777777777778,
              "#fb9f3a"
             ],
             [
              0.8888888888888888,
              "#fdca26"
             ],
             [
              1,
              "#f0f921"
             ]
            ],
            "type": "contour"
           }
          ],
          "contourcarpet": [
           {
            "colorbar": {
             "outlinewidth": 0,
             "ticks": ""
            },
            "type": "contourcarpet"
           }
          ],
          "heatmap": [
           {
            "colorbar": {
             "outlinewidth": 0,
             "ticks": ""
            },
            "colorscale": [
             [
              0,
              "#0d0887"
             ],
             [
              0.1111111111111111,
              "#46039f"
             ],
             [
              0.2222222222222222,
              "#7201a8"
             ],
             [
              0.3333333333333333,
              "#9c179e"
             ],
             [
              0.4444444444444444,
              "#bd3786"
             ],
             [
              0.5555555555555556,
              "#d8576b"
             ],
             [
              0.6666666666666666,
              "#ed7953"
             ],
             [
              0.7777777777777778,
              "#fb9f3a"
             ],
             [
              0.8888888888888888,
              "#fdca26"
             ],
             [
              1,
              "#f0f921"
             ]
            ],
            "type": "heatmap"
           }
          ],
          "heatmapgl": [
           {
            "colorbar": {
             "outlinewidth": 0,
             "ticks": ""
            },
            "colorscale": [
             [
              0,
              "#0d0887"
             ],
             [
              0.1111111111111111,
              "#46039f"
             ],
             [
              0.2222222222222222,
              "#7201a8"
             ],
             [
              0.3333333333333333,
              "#9c179e"
             ],
             [
              0.4444444444444444,
              "#bd3786"
             ],
             [
              0.5555555555555556,
              "#d8576b"
             ],
             [
              0.6666666666666666,
              "#ed7953"
             ],
             [
              0.7777777777777778,
              "#fb9f3a"
             ],
             [
              0.8888888888888888,
              "#fdca26"
             ],
             [
              1,
              "#f0f921"
             ]
            ],
            "type": "heatmapgl"
           }
          ],
          "histogram": [
           {
            "marker": {
             "colorbar": {
              "outlinewidth": 0,
              "ticks": ""
             }
            },
            "type": "histogram"
           }
          ],
          "histogram2d": [
           {
            "colorbar": {
             "outlinewidth": 0,
             "ticks": ""
            },
            "colorscale": [
             [
              0,
              "#0d0887"
             ],
             [
              0.1111111111111111,
              "#46039f"
             ],
             [
              0.2222222222222222,
              "#7201a8"
             ],
             [
              0.3333333333333333,
              "#9c179e"
             ],
             [
              0.4444444444444444,
              "#bd3786"
             ],
             [
              0.5555555555555556,
              "#d8576b"
             ],
             [
              0.6666666666666666,
              "#ed7953"
             ],
             [
              0.7777777777777778,
              "#fb9f3a"
             ],
             [
              0.8888888888888888,
              "#fdca26"
             ],
             [
              1,
              "#f0f921"
             ]
            ],
            "type": "histogram2d"
           }
          ],
          "histogram2dcontour": [
           {
            "colorbar": {
             "outlinewidth": 0,
             "ticks": ""
            },
            "colorscale": [
             [
              0,
              "#0d0887"
             ],
             [
              0.1111111111111111,
              "#46039f"
             ],
             [
              0.2222222222222222,
              "#7201a8"
             ],
             [
              0.3333333333333333,
              "#9c179e"
             ],
             [
              0.4444444444444444,
              "#bd3786"
             ],
             [
              0.5555555555555556,
              "#d8576b"
             ],
             [
              0.6666666666666666,
              "#ed7953"
             ],
             [
              0.7777777777777778,
              "#fb9f3a"
             ],
             [
              0.8888888888888888,
              "#fdca26"
             ],
             [
              1,
              "#f0f921"
             ]
            ],
            "type": "histogram2dcontour"
           }
          ],
          "mesh3d": [
           {
            "colorbar": {
             "outlinewidth": 0,
             "ticks": ""
            },
            "type": "mesh3d"
           }
          ],
          "parcoords": [
           {
            "line": {
             "colorbar": {
              "outlinewidth": 0,
              "ticks": ""
             }
            },
            "type": "parcoords"
           }
          ],
          "pie": [
           {
            "automargin": true,
            "type": "pie"
           }
          ],
          "scatter": [
           {
            "marker": {
             "colorbar": {
              "outlinewidth": 0,
              "ticks": ""
             }
            },
            "type": "scatter"
           }
          ],
          "scatter3d": [
           {
            "line": {
             "colorbar": {
              "outlinewidth": 0,
              "ticks": ""
             }
            },
            "marker": {
             "colorbar": {
              "outlinewidth": 0,
              "ticks": ""
             }
            },
            "type": "scatter3d"
           }
          ],
          "scattercarpet": [
           {
            "marker": {
             "colorbar": {
              "outlinewidth": 0,
              "ticks": ""
             }
            },
            "type": "scattercarpet"
           }
          ],
          "scattergeo": [
           {
            "marker": {
             "colorbar": {
              "outlinewidth": 0,
              "ticks": ""
             }
            },
            "type": "scattergeo"
           }
          ],
          "scattergl": [
           {
            "marker": {
             "colorbar": {
              "outlinewidth": 0,
              "ticks": ""
             }
            },
            "type": "scattergl"
           }
          ],
          "scattermapbox": [
           {
            "marker": {
             "colorbar": {
              "outlinewidth": 0,
              "ticks": ""
             }
            },
            "type": "scattermapbox"
           }
          ],
          "scatterpolar": [
           {
            "marker": {
             "colorbar": {
              "outlinewidth": 0,
              "ticks": ""
             }
            },
            "type": "scatterpolar"
           }
          ],
          "scatterpolargl": [
           {
            "marker": {
             "colorbar": {
              "outlinewidth": 0,
              "ticks": ""
             }
            },
            "type": "scatterpolargl"
           }
          ],
          "scatterternary": [
           {
            "marker": {
             "colorbar": {
              "outlinewidth": 0,
              "ticks": ""
             }
            },
            "type": "scatterternary"
           }
          ],
          "surface": [
           {
            "colorbar": {
             "outlinewidth": 0,
             "ticks": ""
            },
            "colorscale": [
             [
              0,
              "#0d0887"
             ],
             [
              0.1111111111111111,
              "#46039f"
             ],
             [
              0.2222222222222222,
              "#7201a8"
             ],
             [
              0.3333333333333333,
              "#9c179e"
             ],
             [
              0.4444444444444444,
              "#bd3786"
             ],
             [
              0.5555555555555556,
              "#d8576b"
             ],
             [
              0.6666666666666666,
              "#ed7953"
             ],
             [
              0.7777777777777778,
              "#fb9f3a"
             ],
             [
              0.8888888888888888,
              "#fdca26"
             ],
             [
              1,
              "#f0f921"
             ]
            ],
            "type": "surface"
           }
          ],
          "table": [
           {
            "cells": {
             "fill": {
              "color": "#EBF0F8"
             },
             "line": {
              "color": "white"
             }
            },
            "header": {
             "fill": {
              "color": "#C8D4E3"
             },
             "line": {
              "color": "white"
             }
            },
            "type": "table"
           }
          ]
         },
         "layout": {
          "annotationdefaults": {
           "arrowcolor": "#2a3f5f",
           "arrowhead": 0,
           "arrowwidth": 1
          },
          "coloraxis": {
           "colorbar": {
            "outlinewidth": 0,
            "ticks": ""
           }
          },
          "colorscale": {
           "diverging": [
            [
             0,
             "#8e0152"
            ],
            [
             0.1,
             "#c51b7d"
            ],
            [
             0.2,
             "#de77ae"
            ],
            [
             0.3,
             "#f1b6da"
            ],
            [
             0.4,
             "#fde0ef"
            ],
            [
             0.5,
             "#f7f7f7"
            ],
            [
             0.6,
             "#e6f5d0"
            ],
            [
             0.7,
             "#b8e186"
            ],
            [
             0.8,
             "#7fbc41"
            ],
            [
             0.9,
             "#4d9221"
            ],
            [
             1,
             "#276419"
            ]
           ],
           "sequential": [
            [
             0,
             "#0d0887"
            ],
            [
             0.1111111111111111,
             "#46039f"
            ],
            [
             0.2222222222222222,
             "#7201a8"
            ],
            [
             0.3333333333333333,
             "#9c179e"
            ],
            [
             0.4444444444444444,
             "#bd3786"
            ],
            [
             0.5555555555555556,
             "#d8576b"
            ],
            [
             0.6666666666666666,
             "#ed7953"
            ],
            [
             0.7777777777777778,
             "#fb9f3a"
            ],
            [
             0.8888888888888888,
             "#fdca26"
            ],
            [
             1,
             "#f0f921"
            ]
           ],
           "sequentialminus": [
            [
             0,
             "#0d0887"
            ],
            [
             0.1111111111111111,
             "#46039f"
            ],
            [
             0.2222222222222222,
             "#7201a8"
            ],
            [
             0.3333333333333333,
             "#9c179e"
            ],
            [
             0.4444444444444444,
             "#bd3786"
            ],
            [
             0.5555555555555556,
             "#d8576b"
            ],
            [
             0.6666666666666666,
             "#ed7953"
            ],
            [
             0.7777777777777778,
             "#fb9f3a"
            ],
            [
             0.8888888888888888,
             "#fdca26"
            ],
            [
             1,
             "#f0f921"
            ]
           ]
          },
          "colorway": [
           "#636efa",
           "#EF553B",
           "#00cc96",
           "#ab63fa",
           "#FFA15A",
           "#19d3f3",
           "#FF6692",
           "#B6E880",
           "#FF97FF",
           "#FECB52"
          ],
          "font": {
           "color": "#2a3f5f"
          },
          "geo": {
           "bgcolor": "white",
           "lakecolor": "white",
           "landcolor": "#E5ECF6",
           "showlakes": true,
           "showland": true,
           "subunitcolor": "white"
          },
          "hoverlabel": {
           "align": "left"
          },
          "hovermode": "closest",
          "mapbox": {
           "style": "light"
          },
          "paper_bgcolor": "white",
          "plot_bgcolor": "#E5ECF6",
          "polar": {
           "angularaxis": {
            "gridcolor": "white",
            "linecolor": "white",
            "ticks": ""
           },
           "bgcolor": "#E5ECF6",
           "radialaxis": {
            "gridcolor": "white",
            "linecolor": "white",
            "ticks": ""
           }
          },
          "scene": {
           "xaxis": {
            "backgroundcolor": "#E5ECF6",
            "gridcolor": "white",
            "gridwidth": 2,
            "linecolor": "white",
            "showbackground": true,
            "ticks": "",
            "zerolinecolor": "white"
           },
           "yaxis": {
            "backgroundcolor": "#E5ECF6",
            "gridcolor": "white",
            "gridwidth": 2,
            "linecolor": "white",
            "showbackground": true,
            "ticks": "",
            "zerolinecolor": "white"
           },
           "zaxis": {
            "backgroundcolor": "#E5ECF6",
            "gridcolor": "white",
            "gridwidth": 2,
            "linecolor": "white",
            "showbackground": true,
            "ticks": "",
            "zerolinecolor": "white"
           }
          },
          "shapedefaults": {
           "line": {
            "color": "#2a3f5f"
           }
          },
          "ternary": {
           "aaxis": {
            "gridcolor": "white",
            "linecolor": "white",
            "ticks": ""
           },
           "baxis": {
            "gridcolor": "white",
            "linecolor": "white",
            "ticks": ""
           },
           "bgcolor": "#E5ECF6",
           "caxis": {
            "gridcolor": "white",
            "linecolor": "white",
            "ticks": ""
           }
          },
          "title": {
           "x": 0.05
          },
          "xaxis": {
           "automargin": true,
           "gridcolor": "white",
           "linecolor": "white",
           "ticks": "",
           "title": {
            "standoff": 15
           },
           "zerolinecolor": "white",
           "zerolinewidth": 2
          },
          "yaxis": {
           "automargin": true,
           "gridcolor": "white",
           "linecolor": "white",
           "ticks": "",
           "title": {
            "standoff": 15
           },
           "zerolinecolor": "white",
           "zerolinewidth": 2
          }
         }
        },
        "title": {
         "text": "<b>Affects of Rains on Pass/Runn Ratio</b>",
         "x": 0.5,
         "xanchor": "center",
         "y": 0.9,
         "yanchor": "top"
        },
        "yaxis": {
         "range": [
          0.5,
          1.7
         ]
        }
       }
      },
      "text/html": [
       "<div>\n",
       "        \n",
       "        \n",
       "            <div id=\"f7c2f8eb-a626-4a83-9ebc-e7ebea4ae5f5\" class=\"plotly-graph-div\" style=\"height:525px; width:100%;\"></div>\n",
       "            <script type=\"text/javascript\">\n",
       "                require([\"plotly\"], function(Plotly) {\n",
       "                    window.PLOTLYENV=window.PLOTLYENV || {};\n",
       "                    \n",
       "                if (document.getElementById(\"f7c2f8eb-a626-4a83-9ebc-e7ebea4ae5f5\")) {\n",
       "                    Plotly.newPlot(\n",
       "                        'f7c2f8eb-a626-4a83-9ebc-e7ebea4ae5f5',\n",
       "                        [{\"name\": \"Pass/Run Ratio\", \"type\": \"bar\", \"x\": [\"No Precip\", \"38 mm or Less\", \"Between 39 and 180 mm\", \">180 mm\"], \"y\": [1.1634637188208612, 1.586279069767442, 1.5447727272727276, 1.5222727272727274]}],\n",
       "                        {\"template\": {\"data\": {\"bar\": [{\"error_x\": {\"color\": \"#2a3f5f\"}, \"error_y\": {\"color\": \"#2a3f5f\"}, \"marker\": {\"line\": {\"color\": \"#E5ECF6\", \"width\": 0.5}}, \"type\": \"bar\"}], \"barpolar\": [{\"marker\": {\"line\": {\"color\": \"#E5ECF6\", \"width\": 0.5}}, \"type\": \"barpolar\"}], \"carpet\": [{\"aaxis\": {\"endlinecolor\": \"#2a3f5f\", \"gridcolor\": \"white\", \"linecolor\": \"white\", \"minorgridcolor\": \"white\", \"startlinecolor\": \"#2a3f5f\"}, \"baxis\": {\"endlinecolor\": \"#2a3f5f\", \"gridcolor\": \"white\", \"linecolor\": \"white\", \"minorgridcolor\": \"white\", \"startlinecolor\": \"#2a3f5f\"}, \"type\": \"carpet\"}], \"choropleth\": [{\"colorbar\": {\"outlinewidth\": 0, \"ticks\": \"\"}, \"type\": \"choropleth\"}], \"contour\": [{\"colorbar\": {\"outlinewidth\": 0, \"ticks\": \"\"}, \"colorscale\": [[0.0, \"#0d0887\"], [0.1111111111111111, \"#46039f\"], [0.2222222222222222, \"#7201a8\"], [0.3333333333333333, \"#9c179e\"], [0.4444444444444444, \"#bd3786\"], [0.5555555555555556, \"#d8576b\"], [0.6666666666666666, \"#ed7953\"], [0.7777777777777778, \"#fb9f3a\"], [0.8888888888888888, \"#fdca26\"], [1.0, \"#f0f921\"]], \"type\": \"contour\"}], \"contourcarpet\": [{\"colorbar\": {\"outlinewidth\": 0, \"ticks\": \"\"}, \"type\": \"contourcarpet\"}], \"heatmap\": [{\"colorbar\": {\"outlinewidth\": 0, \"ticks\": \"\"}, \"colorscale\": [[0.0, \"#0d0887\"], [0.1111111111111111, \"#46039f\"], [0.2222222222222222, \"#7201a8\"], [0.3333333333333333, \"#9c179e\"], [0.4444444444444444, \"#bd3786\"], [0.5555555555555556, \"#d8576b\"], [0.6666666666666666, \"#ed7953\"], [0.7777777777777778, \"#fb9f3a\"], [0.8888888888888888, \"#fdca26\"], [1.0, \"#f0f921\"]], \"type\": \"heatmap\"}], \"heatmapgl\": [{\"colorbar\": {\"outlinewidth\": 0, \"ticks\": \"\"}, \"colorscale\": [[0.0, \"#0d0887\"], [0.1111111111111111, \"#46039f\"], [0.2222222222222222, \"#7201a8\"], [0.3333333333333333, \"#9c179e\"], [0.4444444444444444, \"#bd3786\"], [0.5555555555555556, \"#d8576b\"], [0.6666666666666666, \"#ed7953\"], [0.7777777777777778, \"#fb9f3a\"], [0.8888888888888888, \"#fdca26\"], [1.0, \"#f0f921\"]], \"type\": \"heatmapgl\"}], \"histogram\": [{\"marker\": {\"colorbar\": {\"outlinewidth\": 0, \"ticks\": \"\"}}, \"type\": \"histogram\"}], \"histogram2d\": [{\"colorbar\": {\"outlinewidth\": 0, \"ticks\": \"\"}, \"colorscale\": [[0.0, \"#0d0887\"], [0.1111111111111111, \"#46039f\"], [0.2222222222222222, \"#7201a8\"], [0.3333333333333333, \"#9c179e\"], [0.4444444444444444, \"#bd3786\"], [0.5555555555555556, \"#d8576b\"], [0.6666666666666666, \"#ed7953\"], [0.7777777777777778, \"#fb9f3a\"], [0.8888888888888888, \"#fdca26\"], [1.0, \"#f0f921\"]], \"type\": \"histogram2d\"}], \"histogram2dcontour\": [{\"colorbar\": {\"outlinewidth\": 0, \"ticks\": \"\"}, \"colorscale\": [[0.0, \"#0d0887\"], [0.1111111111111111, \"#46039f\"], [0.2222222222222222, \"#7201a8\"], [0.3333333333333333, \"#9c179e\"], [0.4444444444444444, \"#bd3786\"], [0.5555555555555556, \"#d8576b\"], [0.6666666666666666, \"#ed7953\"], [0.7777777777777778, \"#fb9f3a\"], [0.8888888888888888, \"#fdca26\"], [1.0, \"#f0f921\"]], \"type\": \"histogram2dcontour\"}], \"mesh3d\": [{\"colorbar\": {\"outlinewidth\": 0, \"ticks\": \"\"}, \"type\": \"mesh3d\"}], \"parcoords\": [{\"line\": {\"colorbar\": {\"outlinewidth\": 0, \"ticks\": \"\"}}, \"type\": \"parcoords\"}], \"pie\": [{\"automargin\": true, \"type\": \"pie\"}], \"scatter\": [{\"marker\": {\"colorbar\": {\"outlinewidth\": 0, \"ticks\": \"\"}}, \"type\": \"scatter\"}], \"scatter3d\": [{\"line\": {\"colorbar\": {\"outlinewidth\": 0, \"ticks\": \"\"}}, \"marker\": {\"colorbar\": {\"outlinewidth\": 0, \"ticks\": \"\"}}, \"type\": \"scatter3d\"}], \"scattercarpet\": [{\"marker\": {\"colorbar\": {\"outlinewidth\": 0, \"ticks\": \"\"}}, \"type\": \"scattercarpet\"}], \"scattergeo\": [{\"marker\": {\"colorbar\": {\"outlinewidth\": 0, \"ticks\": \"\"}}, \"type\": \"scattergeo\"}], \"scattergl\": [{\"marker\": {\"colorbar\": {\"outlinewidth\": 0, \"ticks\": \"\"}}, \"type\": \"scattergl\"}], \"scattermapbox\": [{\"marker\": {\"colorbar\": {\"outlinewidth\": 0, \"ticks\": \"\"}}, \"type\": \"scattermapbox\"}], \"scatterpolar\": [{\"marker\": {\"colorbar\": {\"outlinewidth\": 0, \"ticks\": \"\"}}, \"type\": \"scatterpolar\"}], \"scatterpolargl\": [{\"marker\": {\"colorbar\": {\"outlinewidth\": 0, \"ticks\": \"\"}}, \"type\": \"scatterpolargl\"}], \"scatterternary\": [{\"marker\": {\"colorbar\": {\"outlinewidth\": 0, \"ticks\": \"\"}}, \"type\": \"scatterternary\"}], \"surface\": [{\"colorbar\": {\"outlinewidth\": 0, \"ticks\": \"\"}, \"colorscale\": [[0.0, \"#0d0887\"], [0.1111111111111111, \"#46039f\"], [0.2222222222222222, \"#7201a8\"], [0.3333333333333333, \"#9c179e\"], [0.4444444444444444, \"#bd3786\"], [0.5555555555555556, \"#d8576b\"], [0.6666666666666666, \"#ed7953\"], [0.7777777777777778, \"#fb9f3a\"], [0.8888888888888888, \"#fdca26\"], [1.0, \"#f0f921\"]], \"type\": \"surface\"}], \"table\": [{\"cells\": {\"fill\": {\"color\": \"#EBF0F8\"}, \"line\": {\"color\": \"white\"}}, \"header\": {\"fill\": {\"color\": \"#C8D4E3\"}, \"line\": {\"color\": \"white\"}}, \"type\": \"table\"}]}, \"layout\": {\"annotationdefaults\": {\"arrowcolor\": \"#2a3f5f\", \"arrowhead\": 0, \"arrowwidth\": 1}, \"coloraxis\": {\"colorbar\": {\"outlinewidth\": 0, \"ticks\": \"\"}}, \"colorscale\": {\"diverging\": [[0, \"#8e0152\"], [0.1, \"#c51b7d\"], [0.2, \"#de77ae\"], [0.3, \"#f1b6da\"], [0.4, \"#fde0ef\"], [0.5, \"#f7f7f7\"], [0.6, \"#e6f5d0\"], [0.7, \"#b8e186\"], [0.8, \"#7fbc41\"], [0.9, \"#4d9221\"], [1, \"#276419\"]], \"sequential\": [[0.0, \"#0d0887\"], [0.1111111111111111, \"#46039f\"], [0.2222222222222222, \"#7201a8\"], [0.3333333333333333, \"#9c179e\"], [0.4444444444444444, \"#bd3786\"], [0.5555555555555556, \"#d8576b\"], [0.6666666666666666, \"#ed7953\"], [0.7777777777777778, \"#fb9f3a\"], [0.8888888888888888, \"#fdca26\"], [1.0, \"#f0f921\"]], \"sequentialminus\": [[0.0, \"#0d0887\"], [0.1111111111111111, \"#46039f\"], [0.2222222222222222, \"#7201a8\"], [0.3333333333333333, \"#9c179e\"], [0.4444444444444444, \"#bd3786\"], [0.5555555555555556, \"#d8576b\"], [0.6666666666666666, \"#ed7953\"], [0.7777777777777778, \"#fb9f3a\"], [0.8888888888888888, \"#fdca26\"], [1.0, \"#f0f921\"]]}, \"colorway\": [\"#636efa\", \"#EF553B\", \"#00cc96\", \"#ab63fa\", \"#FFA15A\", \"#19d3f3\", \"#FF6692\", \"#B6E880\", \"#FF97FF\", \"#FECB52\"], \"font\": {\"color\": \"#2a3f5f\"}, \"geo\": {\"bgcolor\": \"white\", \"lakecolor\": \"white\", \"landcolor\": \"#E5ECF6\", \"showlakes\": true, \"showland\": true, \"subunitcolor\": \"white\"}, \"hoverlabel\": {\"align\": \"left\"}, \"hovermode\": \"closest\", \"mapbox\": {\"style\": \"light\"}, \"paper_bgcolor\": \"white\", \"plot_bgcolor\": \"#E5ECF6\", \"polar\": {\"angularaxis\": {\"gridcolor\": \"white\", \"linecolor\": \"white\", \"ticks\": \"\"}, \"bgcolor\": \"#E5ECF6\", \"radialaxis\": {\"gridcolor\": \"white\", \"linecolor\": \"white\", \"ticks\": \"\"}}, \"scene\": {\"xaxis\": {\"backgroundcolor\": \"#E5ECF6\", \"gridcolor\": \"white\", \"gridwidth\": 2, \"linecolor\": \"white\", \"showbackground\": true, \"ticks\": \"\", \"zerolinecolor\": \"white\"}, \"yaxis\": {\"backgroundcolor\": \"#E5ECF6\", \"gridcolor\": \"white\", \"gridwidth\": 2, \"linecolor\": \"white\", \"showbackground\": true, \"ticks\": \"\", \"zerolinecolor\": \"white\"}, \"zaxis\": {\"backgroundcolor\": \"#E5ECF6\", \"gridcolor\": \"white\", \"gridwidth\": 2, \"linecolor\": \"white\", \"showbackground\": true, \"ticks\": \"\", \"zerolinecolor\": \"white\"}}, \"shapedefaults\": {\"line\": {\"color\": \"#2a3f5f\"}}, \"ternary\": {\"aaxis\": {\"gridcolor\": \"white\", \"linecolor\": \"white\", \"ticks\": \"\"}, \"baxis\": {\"gridcolor\": \"white\", \"linecolor\": \"white\", \"ticks\": \"\"}, \"bgcolor\": \"#E5ECF6\", \"caxis\": {\"gridcolor\": \"white\", \"linecolor\": \"white\", \"ticks\": \"\"}}, \"title\": {\"x\": 0.05}, \"xaxis\": {\"automargin\": true, \"gridcolor\": \"white\", \"linecolor\": \"white\", \"ticks\": \"\", \"title\": {\"standoff\": 15}, \"zerolinecolor\": \"white\", \"zerolinewidth\": 2}, \"yaxis\": {\"automargin\": true, \"gridcolor\": \"white\", \"linecolor\": \"white\", \"ticks\": \"\", \"title\": {\"standoff\": 15}, \"zerolinecolor\": \"white\", \"zerolinewidth\": 2}}}, \"title\": {\"text\": \"<b>Affects of Rains on Pass/Runn Ratio</b>\", \"x\": 0.5, \"xanchor\": \"center\", \"y\": 0.9, \"yanchor\": \"top\"}, \"yaxis\": {\"range\": [0.5, 1.7]}},\n",
       "                        {\"responsive\": true}\n",
       "                    ).then(function(){\n",
       "                            \n",
       "var gd = document.getElementById('f7c2f8eb-a626-4a83-9ebc-e7ebea4ae5f5');\n",
       "var x = new MutationObserver(function (mutations, observer) {{\n",
       "        var display = window.getComputedStyle(gd).display;\n",
       "        if (!display || display === 'none') {{\n",
       "            console.log([gd, 'removed!']);\n",
       "            Plotly.purge(gd);\n",
       "            observer.disconnect();\n",
       "        }}\n",
       "}});\n",
       "\n",
       "// Listen for the removal of the full notebook cells\n",
       "var notebookContainer = gd.closest('#notebook-container');\n",
       "if (notebookContainer) {{\n",
       "    x.observe(notebookContainer, {childList: true});\n",
       "}}\n",
       "\n",
       "// Listen for the clearing of the current output cell\n",
       "var outputEl = gd.closest('.output');\n",
       "if (outputEl) {{\n",
       "    x.observe(outputEl, {childList: true});\n",
       "}}\n",
       "\n",
       "                        })\n",
       "                };\n",
       "                });\n",
       "            </script>\n",
       "        </div>"
      ]
     },
     "metadata": {},
     "output_type": "display_data"
    }
   ],
   "source": [
    "x = nfl_end_of_game3.groupby('precip_bins')['pass_run_ratio'].mean().index\n",
    "y = nfl_end_of_game3.groupby('precip_bins')['pass_run_ratio'].mean().values\n",
    "\n",
    "fig = go.Figure()\n",
    "\n",
    "fig.add_trace(go.Bar(name='Pass/Run Ratio',x=x, y=y)\n",
    "             )\n",
    "\n",
    "fig.update_layout(\n",
    "    title={\n",
    "        'text':'<b>'+'Affects of Rains on Pass/Runn Ratio'+'</b>',\n",
    "        'y':0.9,\n",
    "        'x':0.5,\n",
    "        'xanchor': 'center',\n",
    "        'yanchor': 'top'})\n",
    "\n",
    "fig.update_yaxes(range=[.5, 1.7])\n",
    "\n",
    "fig"
   ]
  },
  {
   "cell_type": "markdown",
   "metadata": {},
   "source": [
    "We see some marginal differences in Pass/Run Ratio for games with precipitation, but sample size is very low. Should we just create a precip flag?"
   ]
  },
  {
   "cell_type": "code",
   "execution_count": 147,
   "metadata": {},
   "outputs": [
    {
     "data": {
      "text/plain": [
       "(array([230.,  24.,   6.,   4.,   4.,   2.,   2.,   2.,   0.,   2.]),\n",
       " array([6.00000e-01, 2.39560e+02, 4.78520e+02, 7.17480e+02, 9.56440e+02,\n",
       "        1.19540e+03, 1.43436e+03, 1.67332e+03, 1.91228e+03, 2.15124e+03,\n",
       "        2.39020e+03]),\n",
       " <a list of 10 Patch objects>)"
      ]
     },
     "execution_count": 147,
     "metadata": {},
     "output_type": "execute_result"
    },
    {
     "data": {
      "image/png": "[encoded data removed]",
      "text/plain": [
       "<Figure size 432x288 with 1 Axes>"
      ]
     },
     "metadata": {
      "needs_background": "light"
     },
     "output_type": "display_data"
    }
   ],
   "source": [
    "plt.hist(nfl_end_of_game3[nfl_end_of_game3['total_precip']!=0].total_precip)"
   ]
  },
  {
   "cell_type": "code",
   "execution_count": 141,
   "metadata": {},
   "outputs": [
    {
     "data": {
      "application/vnd.plotly.v1+json": {
       "config": {
        "plotlyServerURL": "https://plot.ly"
       },
       "data": [
        {
         "type": "scatter",
         "x": [
          0,
          0.6,
          0.6000000000000001,
          0.8,
          1.2,
          3.0833333333333335,
          3.200000000000001,
          4.2,
          5,
          6.4,
          8.1,
          9.6,
          9.600000000000003,
          9.699999999999994,
          10,
          10.500000000000004,
          11,
          11.600000000000001,
          13.380000000000003,
          14,
          14.4,
          15.3,
          15.5,
          16.200000000000003,
          16.3,
          18.4,
          19.200000000000003,
          20.833333333333332,
          21.150000000000002,
          21.45,
          22.8,
          25.65,
          25.724999999999994,
          25.9,
          26.25,
          27,
          29,
          29.700000000000003,
          32,
          32.89999999999999,
          33.449999999999996,
          34.1,
          36.5,
          36.99999999999999,
          37.20000000000001,
          37.24999999999999,
          37.8,
          38,
          38.34999999999999,
          39.2,
          39.89999999999999,
          40.125,
          41.39999999999999,
          41.599999999999994,
          42.5,
          46.75,
          47.25,
          47.75,
          48.599999999999994,
          49.3,
          55.99999999999999,
          56.4,
          59,
          59.875,
          61.19999999999999,
          62.39999999999999,
          62.7,
          63.2,
          64,
          64.99999999999997,
          67.53333333333332,
          68,
          73.9,
          74.39999999999998,
          74.59999999999998,
          75.49999999999999,
          76,
          85.39999999999999,
          87.2,
          87.3625,
          87.79999999999998,
          94,
          98.31818181818181,
          100.69999999999999,
          106.29999999999998,
          115.6,
          119.4,
          122.79999999999998,
          122.9,
          126.66666666666666,
          126.70000000000002,
          127.19999999999997,
          134.14285714285717,
          138,
          139.8,
          141.25,
          141.4,
          146.2,
          147.8,
          149.75,
          155.5,
          159.73333333333335,
          163.20000000000002,
          165.64999999999998,
          170.14999999999998,
          172.2000000000001,
          188.9,
          195.5,
          200.40000000000003,
          204,
          218.2,
          218.5,
          235.8,
          236.8,
          253.75,
          267,
          280.5,
          296.9941176470587,
          311.80000000000007,
          311.90000000000003,
          358.90000000000003,
          382.4000000000001,
          391.8,
          397.73333333333335,
          427.2000000000001,
          453.6,
          561.7,
          583.5999999999999,
          698.5999999999999,
          729.3999999999999,
          741.6000000000001,
          973.5,
          1130.4,
          1406.8999999999994,
          1594.2000000000005,
          1874.0999999999995,
          2390.2
         ],
         "xaxis": "x",
         "y": [
          1.6414654161781954,
          1.4,
          0.95,
          1.15,
          2.255,
          2.13,
          1.57,
          0.97,
          1.3,
          2.19,
          1.75,
          1.5350000000000001,
          1.72,
          1.785,
          1.415,
          1.6600000000000001,
          1.25,
          1.06,
          2.545,
          2.49,
          1.5,
          1.29,
          1.76,
          1.185,
          2.0700000000000003,
          1.74,
          1.7399999999999998,
          1.635,
          1.5299999999999998,
          2.06,
          1.6,
          1.58,
          1.475,
          1.275,
          1.3050000000000002,
          1.4849999999999999,
          0.88,
          1.55,
          1.38,
          1.575,
          1.2200000000000002,
          1.975,
          1.465,
          1.475,
          1.75,
          0.9299999999999999,
          1.46,
          1.5499999999999998,
          1.13,
          2,
          1.705,
          1.35,
          2.145,
          1.7974999999999999,
          1.15,
          1.215,
          1.775,
          2.315,
          1.125,
          1.965,
          0.385,
          1.13,
          1.09,
          1.44,
          1.755,
          1.345,
          2.255,
          2,
          1.645,
          1.525,
          1.2000000000000002,
          1.26,
          1.5550000000000002,
          1.115,
          1.3599999999999999,
          2.035,
          1.895,
          1.32,
          1.605,
          1.915,
          1.03,
          1.7449999999999999,
          1.58,
          0.89,
          1.5499999999999998,
          1.855,
          1.9200000000000002,
          1.31,
          1.87,
          2.125,
          1.4349999999999998,
          1.565,
          1.37,
          2.5749999999999997,
          1.28,
          1.47,
          1.36,
          1.7,
          2.77,
          2.1,
          1.655,
          1.44,
          1.49,
          1.37,
          1.79,
          1.32,
          1.545,
          1.445,
          1.405,
          1.9649999999999999,
          0.5700000000000001,
          1.595,
          1.745,
          1.73,
          1.4649999999999999,
          1.9749999999999999,
          2.05,
          1.1600000000000001,
          1.7349999999999999,
          1.625,
          1.34,
          2.01,
          2.135,
          1.1,
          0.835,
          1.395,
          1.73,
          1.835,
          1.185,
          1.2650000000000001,
          1.355,
          2.8449999999999998,
          1.825,
          1.6600000000000001,
          1.19,
          1.235,
          1.615
         ],
         "yaxis": "y"
        },
        {
         "name": "Count of Records",
         "type": "scatter",
         "x": [
          0,
          0.6,
          0.6000000000000001,
          0.8,
          1.2,
          3.0833333333333335,
          3.200000000000001,
          4.2,
          5,
          6.4,
          8.1,
          9.6,
          9.600000000000003,
          9.699999999999994,
          10,
          10.500000000000004,
          11,
          11.600000000000001,
          13.380000000000003,
          14,
          14.4,
          15.3,
          15.5,
          16.200000000000003,
          16.3,
          18.4,
          19.200000000000003,
          20.833333333333332,
          21.150000000000002,
          21.45,
          22.8,
          25.65,
          25.724999999999994,
          25.9,
          26.25,
          27,
          29,
          29.700000000000003,
          32,
          32.89999999999999,
          33.449999999999996,
          34.1,
          36.5,
          36.99999999999999,
          37.20000000000001,
          37.24999999999999,
          37.8,
          38,
          38.34999999999999,
          39.2,
          39.89999999999999,
          40.125,
          41.39999999999999,
          41.599999999999994,
          42.5,
          46.75,
          47.25,
          47.75,
          48.599999999999994,
          49.3,
          55.99999999999999,
          56.4,
          59,
          59.875,
          61.19999999999999,
          62.39999999999999,
          62.7,
          63.2,
          64,
          64.99999999999997,
          67.53333333333332,
          68,
          73.9,
          74.39999999999998,
          74.59999999999998,
          75.49999999999999,
          76,
          85.39999999999999,
          87.2,
          87.3625,
          87.79999999999998,
          94,
          98.31818181818181,
          100.69999999999999,
          106.29999999999998,
          115.6,
          119.4,
          122.79999999999998,
          122.9,
          126.66666666666666,
          126.70000000000002,
          127.19999999999997,
          134.14285714285717,
          138,
          139.8,
          141.25,
          141.4,
          146.2,
          147.8,
          149.75,
          155.5,
          159.73333333333335,
          163.20000000000002,
          165.64999999999998,
          170.14999999999998,
          172.2000000000001,
          188.9,
          195.5,
          200.40000000000003,
          204,
          218.2,
          218.5,
          235.8,
          236.8,
          253.75,
          267,
          280.5,
          296.9941176470587,
          311.80000000000007,
          311.90000000000003,
          358.90000000000003,
          382.4000000000001,
          391.8,
          397.73333333333335,
          427.2000000000001,
          453.6,
          561.7,
          583.5999999999999,
          698.5999999999999,
          729.3999999999999,
          741.6000000000001,
          973.5,
          1130.4,
          1406.8999999999994,
          1594.2000000000005,
          1874.0999999999995,
          2390.2
         ],
         "xaxis": "x",
         "y": [
          1706,
          2,
          2,
          2,
          4,
          2,
          2,
          2,
          2,
          2,
          2,
          2,
          2,
          2,
          2,
          2,
          2,
          2,
          2,
          2,
          2,
          2,
          2,
          2,
          2,
          2,
          2,
          2,
          2,
          2,
          2,
          2,
          2,
          2,
          2,
          2,
          2,
          2,
          2,
          2,
          2,
          2,
          2,
          2,
          2,
          2,
          2,
          2,
          2,
          2,
          2,
          2,
          2,
          4,
          2,
          2,
          2,
          2,
          2,
          2,
          2,
          2,
          2,
          2,
          2,
          2,
          2,
          2,
          2,
          2,
          2,
          2,
          2,
          2,
          2,
          2,
          2,
          2,
          2,
          2,
          2,
          2,
          2,
          2,
          2,
          2,
          2,
          2,
          2,
          2,
          2,
          2,
          2,
          2,
          2,
          2,
          2,
          2,
          2,
          2,
          2,
          2,
          2,
          2,
          2,
          2,
          2,
          2,
          2,
          2,
          2,
          2,
          2,
          2,
          2,
          2,
          2,
          2,
          2,
          2,
          2,
          2,
          2,
          2,
          2,
          2,
          2,
          2,
          2,
          2,
          2,
          2,
          2,
          2,
          2,
          2,
          2
         ],
         "yaxis": "y2"
        }
       ],
       "layout": {
        "template": {
         "data": {
          "bar": [
           {
            "error_x": {
             "color": "#2a3f5f"
            },
            "error_y": {
             "color": "#2a3f5f"
            },
            "marker": {
             "line": {
              "color": "#E5ECF6",
              "width": 0.5
             }
            },
            "type": "bar"
           }
          ],
          "barpolar": [
           {
            "marker": {
             "line": {
              "color": "#E5ECF6",
              "width": 0.5
             }
            },
            "type": "barpolar"
           }
          ],
          "carpet": [
           {
            "aaxis": {
             "endlinecolor": "#2a3f5f",
             "gridcolor": "white",
             "linecolor": "white",
             "minorgridcolor": "white",
             "startlinecolor": "#2a3f5f"
            },
            "baxis": {
             "endlinecolor": "#2a3f5f",
             "gridcolor": "white",
             "linecolor": "white",
             "minorgridcolor": "white",
             "startlinecolor": "#2a3f5f"
            },
            "type": "carpet"
           }
          ],
          "choropleth": [
           {
            "colorbar": {
             "outlinewidth": 0,
             "ticks": ""
            },
            "type": "choropleth"
           }
          ],
          "contour": [
           {
            "colorbar": {
             "outlinewidth": 0,
             "ticks": ""
            },
            "colorscale": [
             [
              0,
              "#0d0887"
             ],
             [
              0.1111111111111111,
              "#46039f"
             ],
             [
              0.2222222222222222,
              "#7201a8"
             ],
             [
              0.3333333333333333,
              "#9c179e"
             ],
             [
              0.4444444444444444,
              "#bd3786"
             ],
             [
              0.5555555555555556,
              "#d8576b"
             ],
             [
              0.6666666666666666,
              "#ed7953"
             ],
             [
              0.7777777777777778,
              "#fb9f3a"
             ],
             [
              0.8888888888888888,
              "#fdca26"
             ],
             [
              1,
              "#f0f921"
             ]
            ],
            "type": "contour"
           }
          ],
          "contourcarpet": [
           {
            "colorbar": {
             "outlinewidth": 0,
             "ticks": ""
            },
            "type": "contourcarpet"
           }
          ],
          "heatmap": [
           {
            "colorbar": {
             "outlinewidth": 0,
             "ticks": ""
            },
            "colorscale": [
             [
              0,
              "#0d0887"
             ],
             [
              0.1111111111111111,
              "#46039f"
             ],
             [
              0.2222222222222222,
              "#7201a8"
             ],
             [
              0.3333333333333333,
              "#9c179e"
             ],
             [
              0.4444444444444444,
              "#bd3786"
             ],
             [
              0.5555555555555556,
              "#d8576b"
             ],
             [
              0.6666666666666666,
              "#ed7953"
             ],
             [
              0.7777777777777778,
              "#fb9f3a"
             ],
             [
              0.8888888888888888,
              "#fdca26"
             ],
             [
              1,
              "#f0f921"
             ]
            ],
            "type": "heatmap"
           }
          ],
          "heatmapgl": [
           {
            "colorbar": {
             "outlinewidth": 0,
             "ticks": ""
            },
            "colorscale": [
             [
              0,
              "#0d0887"
             ],
             [
              0.1111111111111111,
              "#46039f"
             ],
             [
              0.2222222222222222,
              "#7201a8"
             ],
             [
              0.3333333333333333,
              "#9c179e"
             ],
             [
              0.4444444444444444,
              "#bd3786"
             ],
             [
              0.5555555555555556,
              "#d8576b"
             ],
             [
              0.6666666666666666,
              "#ed7953"
             ],
             [
              0.7777777777777778,
              "#fb9f3a"
             ],
             [
              0.8888888888888888,
              "#fdca26"
             ],
             [
              1,
              "#f0f921"
             ]
            ],
            "type": "heatmapgl"
           }
          ],
          "histogram": [
           {
            "marker": {
             "colorbar": {
              "outlinewidth": 0,
              "ticks": ""
             }
            },
            "type": "histogram"
           }
          ],
          "histogram2d": [
           {
            "colorbar": {
             "outlinewidth": 0,
             "ticks": ""
            },
            "colorscale": [
             [
              0,
              "#0d0887"
             ],
             [
              0.1111111111111111,
              "#46039f"
             ],
             [
              0.2222222222222222,
              "#7201a8"
             ],
             [
              0.3333333333333333,
              "#9c179e"
             ],
             [
              0.4444444444444444,
              "#bd3786"
             ],
             [
              0.5555555555555556,
              "#d8576b"
             ],
             [
              0.6666666666666666,
              "#ed7953"
             ],
             [
              0.7777777777777778,
              "#fb9f3a"
             ],
             [
              0.8888888888888888,
              "#fdca26"
             ],
             [
              1,
              "#f0f921"
             ]
            ],
            "type": "histogram2d"
           }
          ],
          "histogram2dcontour": [
           {
            "colorbar": {
             "outlinewidth": 0,
             "ticks": ""
            },
            "colorscale": [
             [
              0,
              "#0d0887"
             ],
             [
              0.1111111111111111,
              "#46039f"
             ],
             [
              0.2222222222222222,
              "#7201a8"
             ],
             [
              0.3333333333333333,
              "#9c179e"
             ],
             [
              0.4444444444444444,
              "#bd3786"
             ],
             [
              0.5555555555555556,
              "#d8576b"
             ],
             [
              0.6666666666666666,
              "#ed7953"
             ],
             [
              0.7777777777777778,
              "#fb9f3a"
             ],
             [
              0.8888888888888888,
              "#fdca26"
             ],
             [
              1,
              "#f0f921"
             ]
            ],
            "type": "histogram2dcontour"
           }
          ],
          "mesh3d": [
           {
            "colorbar": {
             "outlinewidth": 0,
             "ticks": ""
            },
            "type": "mesh3d"
           }
          ],
          "parcoords": [
           {
            "line": {
             "colorbar": {
              "outlinewidth": 0,
              "ticks": ""
             }
            },
            "type": "parcoords"
           }
          ],
          "pie": [
           {
            "automargin": true,
            "type": "pie"
           }
          ],
          "scatter": [
           {
            "marker": {
             "colorbar": {
              "outlinewidth": 0,
              "ticks": ""
             }
            },
            "type": "scatter"
           }
          ],
          "scatter3d": [
           {
            "line": {
             "colorbar": {
              "outlinewidth": 0,
              "ticks": ""
             }
            },
            "marker": {
             "colorbar": {
              "outlinewidth": 0,
              "ticks": ""
             }
            },
            "type": "scatter3d"
           }
          ],
          "scattercarpet": [
           {
            "marker": {
             "colorbar": {
              "outlinewidth": 0,
              "ticks": ""
             }
            },
            "type": "scattercarpet"
           }
          ],
          "scattergeo": [
           {
            "marker": {
             "colorbar": {
              "outlinewidth": 0,
              "ticks": ""
             }
            },
            "type": "scattergeo"
           }
          ],
          "scattergl": [
           {
            "marker": {
             "colorbar": {
              "outlinewidth": 0,
              "ticks": ""
             }
            },
            "type": "scattergl"
           }
          ],
          "scattermapbox": [
           {
            "marker": {
             "colorbar": {
              "outlinewidth": 0,
              "ticks": ""
             }
            },
            "type": "scattermapbox"
           }
          ],
          "scatterpolar": [
           {
            "marker": {
             "colorbar": {
              "outlinewidth": 0,
              "ticks": ""
             }
            },
            "type": "scatterpolar"
           }
          ],
          "scatterpolargl": [
           {
            "marker": {
             "colorbar": {
              "outlinewidth": 0,
              "ticks": ""
             }
            },
            "type": "scatterpolargl"
           }
          ],
          "scatterternary": [
           {
            "marker": {
             "colorbar": {
              "outlinewidth": 0,
              "ticks": ""
             }
            },
            "type": "scatterternary"
           }
          ],
          "surface": [
           {
            "colorbar": {
             "outlinewidth": 0,
             "ticks": ""
            },
            "colorscale": [
             [
              0,
              "#0d0887"
             ],
             [
              0.1111111111111111,
              "#46039f"
             ],
             [
              0.2222222222222222,
              "#7201a8"
             ],
             [
              0.3333333333333333,
              "#9c179e"
             ],
             [
              0.4444444444444444,
              "#bd3786"
             ],
             [
              0.5555555555555556,
              "#d8576b"
             ],
             [
              0.6666666666666666,
              "#ed7953"
             ],
             [
              0.7777777777777778,
              "#fb9f3a"
             ],
             [
              0.8888888888888888,
              "#fdca26"
             ],
             [
              1,
              "#f0f921"
             ]
            ],
            "type": "surface"
           }
          ],
          "table": [
           {
            "cells": {
             "fill": {
              "color": "#EBF0F8"
             },
             "line": {
              "color": "white"
             }
            },
            "header": {
             "fill": {
              "color": "#C8D4E3"
             },
             "line": {
              "color": "white"
             }
            },
            "type": "table"
           }
          ]
         },
         "layout": {
          "annotationdefaults": {
           "arrowcolor": "#2a3f5f",
           "arrowhead": 0,
           "arrowwidth": 1
          },
          "coloraxis": {
           "colorbar": {
            "outlinewidth": 0,
            "ticks": ""
           }
          },
          "colorscale": {
           "diverging": [
            [
             0,
             "#8e0152"
            ],
            [
             0.1,
             "#c51b7d"
            ],
            [
             0.2,
             "#de77ae"
            ],
            [
             0.3,
             "#f1b6da"
            ],
            [
             0.4,
             "#fde0ef"
            ],
            [
             0.5,
             "#f7f7f7"
            ],
            [
             0.6,
             "#e6f5d0"
            ],
            [
             0.7,
             "#b8e186"
            ],
            [
             0.8,
             "#7fbc41"
            ],
            [
             0.9,
             "#4d9221"
            ],
            [
             1,
             "#276419"
            ]
           ],
           "sequential": [
            [
             0,
             "#0d0887"
            ],
            [
             0.1111111111111111,
             "#46039f"
            ],
            [
             0.2222222222222222,
             "#7201a8"
            ],
            [
             0.3333333333333333,
             "#9c179e"
            ],
            [
             0.4444444444444444,
             "#bd3786"
            ],
            [
             0.5555555555555556,
             "#d8576b"
            ],
            [
             0.6666666666666666,
             "#ed7953"
            ],
            [
             0.7777777777777778,
             "#fb9f3a"
            ],
            [
             0.8888888888888888,
             "#fdca26"
            ],
            [
             1,
             "#f0f921"
            ]
           ],
           "sequentialminus": [
            [
             0,
             "#0d0887"
            ],
            [
             0.1111111111111111,
             "#46039f"
            ],
            [
             0.2222222222222222,
             "#7201a8"
            ],
            [
             0.3333333333333333,
             "#9c179e"
            ],
            [
             0.4444444444444444,
             "#bd3786"
            ],
            [
             0.5555555555555556,
             "#d8576b"
            ],
            [
             0.6666666666666666,
             "#ed7953"
            ],
            [
             0.7777777777777778,
             "#fb9f3a"
            ],
            [
             0.8888888888888888,
             "#fdca26"
            ],
            [
             1,
             "#f0f921"
            ]
           ]
          },
          "colorway": [
           "#636efa",
           "#EF553B",
           "#00cc96",
           "#ab63fa",
           "#FFA15A",
           "#19d3f3",
           "#FF6692",
           "#B6E880",
           "#FF97FF",
           "#FECB52"
          ],
          "font": {
           "color": "#2a3f5f"
          },
          "geo": {
           "bgcolor": "white",
           "lakecolor": "white",
           "landcolor": "#E5ECF6",
           "showlakes": true,
           "showland": true,
           "subunitcolor": "white"
          },
          "hoverlabel": {
           "align": "left"
          },
          "hovermode": "closest",
          "mapbox": {
           "style": "light"
          },
          "paper_bgcolor": "white",
          "plot_bgcolor": "#E5ECF6",
          "polar": {
           "angularaxis": {
            "gridcolor": "white",
            "linecolor": "white",
            "ticks": ""
           },
           "bgcolor": "#E5ECF6",
           "radialaxis": {
            "gridcolor": "white",
            "linecolor": "white",
            "ticks": ""
           }
          },
          "scene": {
           "xaxis": {
            "backgroundcolor": "#E5ECF6",
            "gridcolor": "white",
            "gridwidth": 2,
            "linecolor": "white",
            "showbackground": true,
            "ticks": "",
            "zerolinecolor": "white"
           },
           "yaxis": {
            "backgroundcolor": "#E5ECF6",
            "gridcolor": "white",
            "gridwidth": 2,
            "linecolor": "white",
            "showbackground": true,
            "ticks": "",
            "zerolinecolor": "white"
           },
           "zaxis": {
            "backgroundcolor": "#E5ECF6",
            "gridcolor": "white",
            "gridwidth": 2,
            "linecolor": "white",
            "showbackground": true,
            "ticks": "",
            "zerolinecolor": "white"
           }
          },
          "shapedefaults": {
           "line": {
            "color": "#2a3f5f"
           }
          },
          "ternary": {
           "aaxis": {
            "gridcolor": "white",
            "linecolor": "white",
            "ticks": ""
           },
           "baxis": {
            "gridcolor": "white",
            "linecolor": "white",
            "ticks": ""
           },
           "bgcolor": "#E5ECF6",
           "caxis": {
            "gridcolor": "white",
            "linecolor": "white",
            "ticks": ""
           }
          },
          "title": {
           "x": 0.05
          },
          "xaxis": {
           "automargin": true,
           "gridcolor": "white",
           "linecolor": "white",
           "ticks": "",
           "title": {
            "standoff": 15
           },
           "zerolinecolor": "white",
           "zerolinewidth": 2
          },
          "yaxis": {
           "automargin": true,
           "gridcolor": "white",
           "linecolor": "white",
           "ticks": "",
           "title": {
            "standoff": 15
           },
           "zerolinecolor": "white",
           "zerolinewidth": 2
          }
         }
        },
        "xaxis": {
         "anchor": "y",
         "domain": [
          0,
          0.94
         ]
        },
        "yaxis": {
         "anchor": "x",
         "domain": [
          0,
          1
         ]
        },
        "yaxis2": {
         "anchor": "x",
         "overlaying": "y",
         "side": "right"
        }
       }
      },
      "text/html": [
       "<div>\n",
       "        \n",
       "        \n",
       "            <div id=\"ed38778d-60bd-4715-a832-f0467923c56a\" class=\"plotly-graph-div\" style=\"height:525px; width:100%;\"></div>\n",
       "            <script type=\"text/javascript\">\n",
       "                require([\"plotly\"], function(Plotly) {\n",
       "                    window.PLOTLYENV=window.PLOTLYENV || {};\n",
       "                    \n",
       "                if (document.getElementById(\"ed38778d-60bd-4715-a832-f0467923c56a\")) {\n",
       "                    Plotly.newPlot(\n",
       "                        'ed38778d-60bd-4715-a832-f0467923c56a',\n",
       "                        [{\"type\": \"scatter\", \"x\": [0.0, 0.6, 0.6000000000000001, 0.8, 1.2, 3.0833333333333335, 3.200000000000001, 4.2, 5.0, 6.4, 8.1, 9.6, 9.600000000000003, 9.699999999999994, 10.0, 10.500000000000004, 11.0, 11.600000000000001, 13.380000000000003, 14.0, 14.4, 15.3, 15.5, 16.200000000000003, 16.3, 18.4, 19.200000000000003, 20.833333333333332, 21.150000000000002, 21.45, 22.8, 25.65, 25.724999999999994, 25.9, 26.25, 27.0, 29.0, 29.700000000000003, 32.0, 32.89999999999999, 33.449999999999996, 34.1, 36.5, 36.99999999999999, 37.20000000000001, 37.24999999999999, 37.8, 38.0, 38.34999999999999, 39.2, 39.89999999999999, 40.125, 41.39999999999999, 41.599999999999994, 42.5, 46.75, 47.25, 47.75, 48.599999999999994, 49.3, 55.99999999999999, 56.4, 59.0, 59.875, 61.19999999999999, 62.39999999999999, 62.7, 63.2, 64.0, 64.99999999999997, 67.53333333333332, 68.0, 73.9, 74.39999999999998, 74.59999999999998, 75.49999999999999, 76.0, 85.39999999999999, 87.2, 87.3625, 87.79999999999998, 94.0, 98.31818181818181, 100.69999999999999, 106.29999999999998, 115.6, 119.4, 122.79999999999998, 122.9, 126.66666666666666, 126.70000000000002, 127.19999999999997, 134.14285714285717, 138.0, 139.8, 141.25, 141.4, 146.2, 147.8, 149.75, 155.5, 159.73333333333335, 163.20000000000002, 165.64999999999998, 170.14999999999998, 172.2000000000001, 188.9, 195.5, 200.40000000000003, 204.0, 218.2, 218.5, 235.8, 236.8, 253.75, 267.0, 280.5, 296.9941176470587, 311.80000000000007, 311.90000000000003, 358.90000000000003, 382.4000000000001, 391.8, 397.73333333333335, 427.2000000000001, 453.6, 561.7, 583.5999999999999, 698.5999999999999, 729.3999999999999, 741.6000000000001, 973.5, 1130.4, 1406.8999999999994, 1594.2000000000005, 1874.0999999999995, 2390.2], \"xaxis\": \"x\", \"y\": [1.6414654161781954, 1.4, 0.95, 1.15, 2.255, 2.13, 1.57, 0.97, 1.3, 2.19, 1.75, 1.5350000000000001, 1.72, 1.785, 1.415, 1.6600000000000001, 1.25, 1.06, 2.545, 2.49, 1.5, 1.29, 1.76, 1.185, 2.0700000000000003, 1.74, 1.7399999999999998, 1.635, 1.5299999999999998, 2.06, 1.6, 1.58, 1.475, 1.275, 1.3050000000000002, 1.4849999999999999, 0.88, 1.55, 1.38, 1.575, 1.2200000000000002, 1.975, 1.465, 1.475, 1.75, 0.9299999999999999, 1.46, 1.5499999999999998, 1.13, 2.0, 1.705, 1.35, 2.145, 1.7974999999999999, 1.15, 1.215, 1.775, 2.315, 1.125, 1.965, 0.385, 1.13, 1.09, 1.44, 1.755, 1.345, 2.255, 2.0, 1.645, 1.525, 1.2000000000000002, 1.26, 1.5550000000000002, 1.115, 1.3599999999999999, 2.035, 1.895, 1.32, 1.605, 1.915, 1.03, 1.7449999999999999, 1.58, 0.89, 1.5499999999999998, 1.855, 1.9200000000000002, 1.31, 1.87, 2.125, 1.4349999999999998, 1.565, 1.37, 2.5749999999999997, 1.28, 1.47, 1.36, 1.7, 2.77, 2.1, 1.655, 1.44, 1.49, 1.37, 1.79, 1.32, 1.545, 1.445, 1.405, 1.9649999999999999, 0.5700000000000001, 1.595, 1.745, 1.73, 1.4649999999999999, 1.9749999999999999, 2.05, 1.1600000000000001, 1.7349999999999999, 1.625, 1.34, 2.01, 2.135, 1.1, 0.835, 1.395, 1.73, 1.835, 1.185, 1.2650000000000001, 1.355, 2.8449999999999998, 1.825, 1.6600000000000001, 1.19, 1.235, 1.615], \"yaxis\": \"y\"}, {\"name\": \"Count of Records\", \"type\": \"scatter\", \"x\": [0.0, 0.6, 0.6000000000000001, 0.8, 1.2, 3.0833333333333335, 3.200000000000001, 4.2, 5.0, 6.4, 8.1, 9.6, 9.600000000000003, 9.699999999999994, 10.0, 10.500000000000004, 11.0, 11.600000000000001, 13.380000000000003, 14.0, 14.4, 15.3, 15.5, 16.200000000000003, 16.3, 18.4, 19.200000000000003, 20.833333333333332, 21.150000000000002, 21.45, 22.8, 25.65, 25.724999999999994, 25.9, 26.25, 27.0, 29.0, 29.700000000000003, 32.0, 32.89999999999999, 33.449999999999996, 34.1, 36.5, 36.99999999999999, 37.20000000000001, 37.24999999999999, 37.8, 38.0, 38.34999999999999, 39.2, 39.89999999999999, 40.125, 41.39999999999999, 41.599999999999994, 42.5, 46.75, 47.25, 47.75, 48.599999999999994, 49.3, 55.99999999999999, 56.4, 59.0, 59.875, 61.19999999999999, 62.39999999999999, 62.7, 63.2, 64.0, 64.99999999999997, 67.53333333333332, 68.0, 73.9, 74.39999999999998, 74.59999999999998, 75.49999999999999, 76.0, 85.39999999999999, 87.2, 87.3625, 87.79999999999998, 94.0, 98.31818181818181, 100.69999999999999, 106.29999999999998, 115.6, 119.4, 122.79999999999998, 122.9, 126.66666666666666, 126.70000000000002, 127.19999999999997, 134.14285714285717, 138.0, 139.8, 141.25, 141.4, 146.2, 147.8, 149.75, 155.5, 159.73333333333335, 163.20000000000002, 165.64999999999998, 170.14999999999998, 172.2000000000001, 188.9, 195.5, 200.40000000000003, 204.0, 218.2, 218.5, 235.8, 236.8, 253.75, 267.0, 280.5, 296.9941176470587, 311.80000000000007, 311.90000000000003, 358.90000000000003, 382.4000000000001, 391.8, 397.73333333333335, 427.2000000000001, 453.6, 561.7, 583.5999999999999, 698.5999999999999, 729.3999999999999, 741.6000000000001, 973.5, 1130.4, 1406.8999999999994, 1594.2000000000005, 1874.0999999999995, 2390.2], \"xaxis\": \"x\", \"y\": [1706, 2, 2, 2, 4, 2, 2, 2, 2, 2, 2, 2, 2, 2, 2, 2, 2, 2, 2, 2, 2, 2, 2, 2, 2, 2, 2, 2, 2, 2, 2, 2, 2, 2, 2, 2, 2, 2, 2, 2, 2, 2, 2, 2, 2, 2, 2, 2, 2, 2, 2, 2, 2, 4, 2, 2, 2, 2, 2, 2, 2, 2, 2, 2, 2, 2, 2, 2, 2, 2, 2, 2, 2, 2, 2, 2, 2, 2, 2, 2, 2, 2, 2, 2, 2, 2, 2, 2, 2, 2, 2, 2, 2, 2, 2, 2, 2, 2, 2, 2, 2, 2, 2, 2, 2, 2, 2, 2, 2, 2, 2, 2, 2, 2, 2, 2, 2, 2, 2, 2, 2, 2, 2, 2, 2, 2, 2, 2, 2, 2, 2, 2, 2, 2, 2, 2, 2], \"yaxis\": \"y2\"}],\n",
       "                        {\"template\": {\"data\": {\"bar\": [{\"error_x\": {\"color\": \"#2a3f5f\"}, \"error_y\": {\"color\": \"#2a3f5f\"}, \"marker\": {\"line\": {\"color\": \"#E5ECF6\", \"width\": 0.5}}, \"type\": \"bar\"}], \"barpolar\": [{\"marker\": {\"line\": {\"color\": \"#E5ECF6\", \"width\": 0.5}}, \"type\": \"barpolar\"}], \"carpet\": [{\"aaxis\": {\"endlinecolor\": \"#2a3f5f\", \"gridcolor\": \"white\", \"linecolor\": \"white\", \"minorgridcolor\": \"white\", \"startlinecolor\": \"#2a3f5f\"}, \"baxis\": {\"endlinecolor\": \"#2a3f5f\", \"gridcolor\": \"white\", \"linecolor\": \"white\", \"minorgridcolor\": \"white\", \"startlinecolor\": \"#2a3f5f\"}, \"type\": \"carpet\"}], \"choropleth\": [{\"colorbar\": {\"outlinewidth\": 0, \"ticks\": \"\"}, \"type\": \"choropleth\"}], \"contour\": [{\"colorbar\": {\"outlinewidth\": 0, \"ticks\": \"\"}, \"colorscale\": [[0.0, \"#0d0887\"], [0.1111111111111111, \"#46039f\"], [0.2222222222222222, \"#7201a8\"], [0.3333333333333333, \"#9c179e\"], [0.4444444444444444, \"#bd3786\"], [0.5555555555555556, \"#d8576b\"], [0.6666666666666666, \"#ed7953\"], [0.7777777777777778, \"#fb9f3a\"], [0.8888888888888888, \"#fdca26\"], [1.0, \"#f0f921\"]], \"type\": \"contour\"}], \"contourcarpet\": [{\"colorbar\": {\"outlinewidth\": 0, \"ticks\": \"\"}, \"type\": \"contourcarpet\"}], \"heatmap\": [{\"colorbar\": {\"outlinewidth\": 0, \"ticks\": \"\"}, \"colorscale\": [[0.0, \"#0d0887\"], [0.1111111111111111, \"#46039f\"], [0.2222222222222222, \"#7201a8\"], [0.3333333333333333, \"#9c179e\"], [0.4444444444444444, \"#bd3786\"], [0.5555555555555556, \"#d8576b\"], [0.6666666666666666, \"#ed7953\"], [0.7777777777777778, \"#fb9f3a\"], [0.8888888888888888, \"#fdca26\"], [1.0, \"#f0f921\"]], \"type\": \"heatmap\"}], \"heatmapgl\": [{\"colorbar\": {\"outlinewidth\": 0, \"ticks\": \"\"}, \"colorscale\": [[0.0, \"#0d0887\"], [0.1111111111111111, \"#46039f\"], [0.2222222222222222, \"#7201a8\"], [0.3333333333333333, \"#9c179e\"], [0.4444444444444444, \"#bd3786\"], [0.5555555555555556, \"#d8576b\"], [0.6666666666666666, \"#ed7953\"], [0.7777777777777778, \"#fb9f3a\"], [0.8888888888888888, \"#fdca26\"], [1.0, \"#f0f921\"]], \"type\": \"heatmapgl\"}], \"histogram\": [{\"marker\": {\"colorbar\": {\"outlinewidth\": 0, \"ticks\": \"\"}}, \"type\": \"histogram\"}], \"histogram2d\": [{\"colorbar\": {\"outlinewidth\": 0, \"ticks\": \"\"}, \"colorscale\": [[0.0, \"#0d0887\"], [0.1111111111111111, \"#46039f\"], [0.2222222222222222, \"#7201a8\"], [0.3333333333333333, \"#9c179e\"], [0.4444444444444444, \"#bd3786\"], [0.5555555555555556, \"#d8576b\"], [0.6666666666666666, \"#ed7953\"], [0.7777777777777778, \"#fb9f3a\"], [0.8888888888888888, \"#fdca26\"], [1.0, \"#f0f921\"]], \"type\": \"histogram2d\"}], \"histogram2dcontour\": [{\"colorbar\": {\"outlinewidth\": 0, \"ticks\": \"\"}, \"colorscale\": [[0.0, \"#0d0887\"], [0.1111111111111111, \"#46039f\"], [0.2222222222222222, \"#7201a8\"], [0.3333333333333333, \"#9c179e\"], [0.4444444444444444, \"#bd3786\"], [0.5555555555555556, \"#d8576b\"], [0.6666666666666666, \"#ed7953\"], [0.7777777777777778, \"#fb9f3a\"], [0.8888888888888888, \"#fdca26\"], [1.0, \"#f0f921\"]], \"type\": \"histogram2dcontour\"}], \"mesh3d\": [{\"colorbar\": {\"outlinewidth\": 0, \"ticks\": \"\"}, \"type\": \"mesh3d\"}], \"parcoords\": [{\"line\": {\"colorbar\": {\"outlinewidth\": 0, \"ticks\": \"\"}}, \"type\": \"parcoords\"}], \"pie\": [{\"automargin\": true, \"type\": \"pie\"}], \"scatter\": [{\"marker\": {\"colorbar\": {\"outlinewidth\": 0, \"ticks\": \"\"}}, \"type\": \"scatter\"}], \"scatter3d\": [{\"line\": {\"colorbar\": {\"outlinewidth\": 0, \"ticks\": \"\"}}, \"marker\": {\"colorbar\": {\"outlinewidth\": 0, \"ticks\": \"\"}}, \"type\": \"scatter3d\"}], \"scattercarpet\": [{\"marker\": {\"colorbar\": {\"outlinewidth\": 0, \"ticks\": \"\"}}, \"type\": \"scattercarpet\"}], \"scattergeo\": [{\"marker\": {\"colorbar\": {\"outlinewidth\": 0, \"ticks\": \"\"}}, \"type\": \"scattergeo\"}], \"scattergl\": [{\"marker\": {\"colorbar\": {\"outlinewidth\": 0, \"ticks\": \"\"}}, \"type\": \"scattergl\"}], \"scattermapbox\": [{\"marker\": {\"colorbar\": {\"outlinewidth\": 0, \"ticks\": \"\"}}, \"type\": \"scattermapbox\"}], \"scatterpolar\": [{\"marker\": {\"colorbar\": {\"outlinewidth\": 0, \"ticks\": \"\"}}, \"type\": \"scatterpolar\"}], \"scatterpolargl\": [{\"marker\": {\"colorbar\": {\"outlinewidth\": 0, \"ticks\": \"\"}}, \"type\": \"scatterpolargl\"}], \"scatterternary\": [{\"marker\": {\"colorbar\": {\"outlinewidth\": 0, \"ticks\": \"\"}}, \"type\": \"scatterternary\"}], \"surface\": [{\"colorbar\": {\"outlinewidth\": 0, \"ticks\": \"\"}, \"colorscale\": [[0.0, \"#0d0887\"], [0.1111111111111111, \"#46039f\"], [0.2222222222222222, \"#7201a8\"], [0.3333333333333333, \"#9c179e\"], [0.4444444444444444, \"#bd3786\"], [0.5555555555555556, \"#d8576b\"], [0.6666666666666666, \"#ed7953\"], [0.7777777777777778, \"#fb9f3a\"], [0.8888888888888888, \"#fdca26\"], [1.0, \"#f0f921\"]], \"type\": \"surface\"}], \"table\": [{\"cells\": {\"fill\": {\"color\": \"#EBF0F8\"}, \"line\": {\"color\": \"white\"}}, \"header\": {\"fill\": {\"color\": \"#C8D4E3\"}, \"line\": {\"color\": \"white\"}}, \"type\": \"table\"}]}, \"layout\": {\"annotationdefaults\": {\"arrowcolor\": \"#2a3f5f\", \"arrowhead\": 0, \"arrowwidth\": 1}, \"coloraxis\": {\"colorbar\": {\"outlinewidth\": 0, \"ticks\": \"\"}}, \"colorscale\": {\"diverging\": [[0, \"#8e0152\"], [0.1, \"#c51b7d\"], [0.2, \"#de77ae\"], [0.3, \"#f1b6da\"], [0.4, \"#fde0ef\"], [0.5, \"#f7f7f7\"], [0.6, \"#e6f5d0\"], [0.7, \"#b8e186\"], [0.8, \"#7fbc41\"], [0.9, \"#4d9221\"], [1, \"#276419\"]], \"sequential\": [[0.0, \"#0d0887\"], [0.1111111111111111, \"#46039f\"], [0.2222222222222222, \"#7201a8\"], [0.3333333333333333, \"#9c179e\"], [0.4444444444444444, \"#bd3786\"], [0.5555555555555556, \"#d8576b\"], [0.6666666666666666, \"#ed7953\"], [0.7777777777777778, \"#fb9f3a\"], [0.8888888888888888, \"#fdca26\"], [1.0, \"#f0f921\"]], \"sequentialminus\": [[0.0, \"#0d0887\"], [0.1111111111111111, \"#46039f\"], [0.2222222222222222, \"#7201a8\"], [0.3333333333333333, \"#9c179e\"], [0.4444444444444444, \"#bd3786\"], [0.5555555555555556, \"#d8576b\"], [0.6666666666666666, \"#ed7953\"], [0.7777777777777778, \"#fb9f3a\"], [0.8888888888888888, \"#fdca26\"], [1.0, \"#f0f921\"]]}, \"colorway\": [\"#636efa\", \"#EF553B\", \"#00cc96\", \"#ab63fa\", \"#FFA15A\", \"#19d3f3\", \"#FF6692\", \"#B6E880\", \"#FF97FF\", \"#FECB52\"], \"font\": {\"color\": \"#2a3f5f\"}, \"geo\": {\"bgcolor\": \"white\", \"lakecolor\": \"white\", \"landcolor\": \"#E5ECF6\", \"showlakes\": true, \"showland\": true, \"subunitcolor\": \"white\"}, \"hoverlabel\": {\"align\": \"left\"}, \"hovermode\": \"closest\", \"mapbox\": {\"style\": \"light\"}, \"paper_bgcolor\": \"white\", \"plot_bgcolor\": \"#E5ECF6\", \"polar\": {\"angularaxis\": {\"gridcolor\": \"white\", \"linecolor\": \"white\", \"ticks\": \"\"}, \"bgcolor\": \"#E5ECF6\", \"radialaxis\": {\"gridcolor\": \"white\", \"linecolor\": \"white\", \"ticks\": \"\"}}, \"scene\": {\"xaxis\": {\"backgroundcolor\": \"#E5ECF6\", \"gridcolor\": \"white\", \"gridwidth\": 2, \"linecolor\": \"white\", \"showbackground\": true, \"ticks\": \"\", \"zerolinecolor\": \"white\"}, \"yaxis\": {\"backgroundcolor\": \"#E5ECF6\", \"gridcolor\": \"white\", \"gridwidth\": 2, \"linecolor\": \"white\", \"showbackground\": true, \"ticks\": \"\", \"zerolinecolor\": \"white\"}, \"zaxis\": {\"backgroundcolor\": \"#E5ECF6\", \"gridcolor\": \"white\", \"gridwidth\": 2, \"linecolor\": \"white\", \"showbackground\": true, \"ticks\": \"\", \"zerolinecolor\": \"white\"}}, \"shapedefaults\": {\"line\": {\"color\": \"#2a3f5f\"}}, \"ternary\": {\"aaxis\": {\"gridcolor\": \"white\", \"linecolor\": \"white\", \"ticks\": \"\"}, \"baxis\": {\"gridcolor\": \"white\", \"linecolor\": \"white\", \"ticks\": \"\"}, \"bgcolor\": \"#E5ECF6\", \"caxis\": {\"gridcolor\": \"white\", \"linecolor\": \"white\", \"ticks\": \"\"}}, \"title\": {\"x\": 0.05}, \"xaxis\": {\"automargin\": true, \"gridcolor\": \"white\", \"linecolor\": \"white\", \"ticks\": \"\", \"title\": {\"standoff\": 15}, \"zerolinecolor\": \"white\", \"zerolinewidth\": 2}, \"yaxis\": {\"automargin\": true, \"gridcolor\": \"white\", \"linecolor\": \"white\", \"ticks\": \"\", \"title\": {\"standoff\": 15}, \"zerolinecolor\": \"white\", \"zerolinewidth\": 2}}}, \"xaxis\": {\"anchor\": \"y\", \"domain\": [0.0, 0.94]}, \"yaxis\": {\"anchor\": \"x\", \"domain\": [0.0, 1.0]}, \"yaxis2\": {\"anchor\": \"x\", \"overlaying\": \"y\", \"side\": \"right\"}},\n",
       "                        {\"responsive\": true}\n",
       "                    ).then(function(){\n",
       "                            \n",
       "var gd = document.getElementById('ed38778d-60bd-4715-a832-f0467923c56a');\n",
       "var x = new MutationObserver(function (mutations, observer) {{\n",
       "        var display = window.getComputedStyle(gd).display;\n",
       "        if (!display || display === 'none') {{\n",
       "            console.log([gd, 'removed!']);\n",
       "            Plotly.purge(gd);\n",
       "            observer.disconnect();\n",
       "        }}\n",
       "}});\n",
       "\n",
       "// Listen for the removal of the full notebook cells\n",
       "var notebookContainer = gd.closest('#notebook-container');\n",
       "if (notebookContainer) {{\n",
       "    x.observe(notebookContainer, {childList: true});\n",
       "}}\n",
       "\n",
       "// Listen for the clearing of the current output cell\n",
       "var outputEl = gd.closest('.output');\n",
       "if (outputEl) {{\n",
       "    x.observe(outputEl, {childList: true});\n",
       "}}\n",
       "\n",
       "                        })\n",
       "                };\n",
       "                });\n",
       "            </script>\n",
       "        </div>"
      ]
     },
     "metadata": {},
     "output_type": "display_data"
    }
   ],
   "source": [
    "x = nfl_end_of_game3.groupby('total_precip')['pass_run_ratio'].mean().index\n",
    "y = nfl_end_of_game3.groupby('total_precip')['pass_run_ratio'].mean().values\n",
    "\n",
    "fig = make_subplots(specs=[[{\"secondary_y\": True}]])\n",
    "fig.add_trace(go.Scatter(x=x, y=y),secondary_y=False)\n",
    "\n",
    "fig.add_trace(go.Scatter(name='Count of Records',\n",
    "                 x=x, \n",
    "                 y=nfl_end_of_game3.groupby('total_precip')['pass_run_ratio'].count().values,yaxis='y2'),\n",
    "                 secondary_y=True\n",
    "             )\n",
    "\n",
    "fig"
   ]
  },
  {
   "cell_type": "code",
   "execution_count": 105,
   "metadata": {},
   "outputs": [
    {
     "data": {
      "application/vnd.plotly.v1+json": {
       "config": {
        "plotlyServerURL": "https://plot.ly"
       },
       "data": [
        {
         "mode": "markers",
         "type": "scatter",
         "x": [
          25.65,
          0,
          0,
          0,
          0,
          87.3625,
          4.2,
          0,
          0,
          0,
          0,
          0,
          0,
          0,
          0,
          0,
          0,
          0,
          0,
          0,
          0,
          0,
          0,
          0,
          0,
          0,
          0,
          0,
          0,
          0,
          0,
          0,
          0,
          0,
          134.14285714285717,
          0,
          62.39999999999999,
          0,
          0,
          0,
          0,
          0,
          0,
          0,
          0,
          0,
          0,
          119.4,
          0,
          0,
          0,
          3.0833333333333335,
          0,
          0,
          0,
          397.73333333333335,
          0,
          0,
          0,
          0,
          0,
          0,
          0,
          0,
          0,
          0,
          0,
          0,
          0,
          0,
          0,
          0,
          0,
          0,
          0,
          0,
          0,
          0,
          0,
          0,
          27,
          0,
          29.700000000000003,
          0,
          0,
          0,
          11,
          0,
          0,
          0,
          0,
          0,
          0,
          0,
          0,
          0,
          0,
          0,
          0,
          0,
          8.1,
          0,
          0,
          0,
          0,
          0,
          0,
          0,
          0,
          170.14999999999998,
          0,
          40.125,
          382.4000000000001,
          0,
          0,
          0,
          0,
          0,
          698.5999999999999,
          0,
          0,
          0,
          0,
          0,
          0,
          0,
          0,
          0,
          75.49999999999999,
          0,
          0,
          0,
          0,
          0,
          0,
          0,
          0,
          0,
          0,
          0,
          0,
          98.31818181818181,
          0,
          0,
          0,
          15.5,
          0,
          0,
          0,
          0,
          0,
          0,
          0,
          0,
          741.6000000000001,
          0,
          0,
          0,
          0,
          0,
          0,
          115.6,
          358.90000000000003,
          14,
          0,
          0,
          0,
          0,
          0,
          0,
          61.19999999999999,
          122.79999999999998,
          0,
          0,
          41.599999999999994,
          0,
          0,
          0,
          0,
          0,
          0,
          0,
          0,
          0,
          0,
          0,
          0,
          0,
          0,
          0,
          0,
          0,
          0,
          0,
          0,
          0,
          0,
          0,
          583.5999999999999,
          26.25,
          0,
          0,
          146.2,
          0,
          0,
          46.75,
          0,
          0,
          0,
          0,
          0,
          0,
          0,
          0,
          0,
          0,
          0,
          0,
          41.599999999999994,
          18.4,
          0,
          0,
          0,
          391.8,
          0,
          0,
          0,
          0,
          0,
          0,
          0,
          0,
          0,
          0,
          0,
          37.24999999999999,
          0,
          126.70000000000002,
          0,
          0,
          25.724999999999994,
          38.34999999999999,
          0,
          0,
          0,
          0,
          0,
          0,
          0,
          0,
          0,
          0,
          0,
          0,
          0,
          0,
          0,
          0,
          0,
          0,
          38,
          0,
          1406.8999999999994,
          0,
          0,
          0,
          0,
          0,
          0,
          0,
          0,
          0,
          0,
          0,
          0,
          0,
          0,
          0,
          0,
          21.45,
          0,
          0,
          0,
          0,
          0,
          0,
          0,
          0,
          0,
          0,
          0,
          0,
          32.89999999999999,
          0,
          0,
          0,
          0,
          0,
          0,
          0,
          0,
          0,
          0,
          0,
          22.8,
          0,
          0,
          0,
          9.699999999999994,
          0,
          0,
          0,
          0,
          0,
          39.89999999999999,
          0,
          0,
          126.66666666666666,
          0,
          0,
          0,
          0,
          0,
          0,
          0,
          0,
          0,
          0,
          0,
          0,
          0,
          0,
          0,
          0,
          0,
          0,
          10,
          9.600000000000003,
          0,
          0,
          0,
          0,
          0,
          0,
          0,
          16.3,
          0,
          0,
          0,
          0,
          0,
          0,
          0,
          0,
          0,
          0,
          0,
          0,
          0,
          0,
          0,
          0,
          0,
          0,
          0,
          0,
          0,
          63.2,
          0,
          0,
          0,
          0,
          0,
          0,
          0,
          0,
          0,
          0,
          0,
          0,
          0,
          0,
          0,
          0,
          0,
          0,
          0,
          0,
          0,
          0,
          19.200000000000003,
          0,
          0,
          0,
          0,
          0,
          0,
          0,
          0,
          0,
          0,
          0,
          0,
          0,
          0,
          13.380000000000003,
          0,
          0,
          0,
          0,
          0,
          0,
          218.5,
          172.2000000000001,
          9.6,
          0,
          0,
          0,
          0,
          0,
          0,
          0,
          0,
          0,
          0,
          0,
          0,
          0,
          0,
          0,
          0,
          0,
          0,
          85.39999999999999,
          0,
          218.2,
          0,
          139.8,
          0,
          0,
          147.8,
          0,
          0,
          0,
          0,
          0,
          0,
          0,
          67.53333333333332,
          0,
          48.599999999999994,
          155.5,
          49.3,
          0,
          74.39999999999998,
          0,
          0,
          0,
          0,
          15.3,
          0,
          5,
          0,
          0,
          0,
          25.9,
          0,
          0,
          0,
          0,
          0,
          0,
          64.99999999999997,
          0,
          16.200000000000003,
          0,
          0,
          0,
          0,
          0,
          0,
          0,
          0,
          0,
          0,
          0,
          427.2000000000001,
          0,
          0,
          0,
          253.75,
          0,
          0,
          280.5,
          0,
          204,
          0,
          0,
          0,
          0,
          0,
          0,
          0,
          0,
          0,
          0,
          0,
          0,
          0,
          0,
          0,
          0,
          0,
          0,
          0,
          0,
          0,
          0,
          0,
          0,
          0,
          0,
          0,
          0,
          0,
          0,
          0,
          0,
          0,
          0,
          0,
          0,
          0,
          0,
          0,
          0,
          0,
          47.75,
          0,
          165.64999999999998,
          0,
          0,
          0,
          0,
          0,
          0,
          0,
          0,
          0,
          0,
          0,
          0,
          0,
          0,
          0,
          0,
          0,
          0,
          0,
          0,
          0,
          0,
          0,
          0,
          0,
          200.40000000000003,
          0,
          0,
          0,
          0,
          1130.4,
          0,
          0,
          0,
          0,
          311.80000000000007,
          0,
          0,
          64,
          0,
          20.833333333333332,
          41.39999999999999,
          10.500000000000004,
          0,
          0,
          0,
          0,
          0,
          0,
          0,
          0,
          0,
          0,
          76,
          0,
          0,
          0,
          0,
          0,
          0,
          0,
          0,
          0,
          0,
          100.69999999999999,
          0,
          56.4,
          0,
          0,
          0,
          0,
          0,
          0,
          0,
          0,
          0,
          0,
          0,
          141.25,
          149.75,
          0,
          0,
          0,
          1874.0999999999995,
          159.73333333333335,
          0,
          0,
          235.8,
          0,
          0,
          0,
          0,
          0,
          0,
          0,
          59,
          0,
          0,
          0,
          311.90000000000003,
          0,
          0,
          0,
          0,
          0,
          127.19999999999997,
          0,
          87.79999999999998,
          0,
          37.20000000000001,
          0,
          0,
          0,
          0,
          0,
          0,
          0,
          0,
          0,
          37.8,
          0,
          0,
          0,
          0,
          0,
          0,
          0,
          0,
          0,
          0,
          0,
          0,
          0,
          0,
          0,
          0,
          0,
          0,
          0,
          0,
          0,
          0,
          59.875,
          0,
          73.9,
          0,
          0,
          0,
          0,
          0,
          0,
          0,
          0,
          0,
          0,
          0,
          0,
          0,
          0,
          0,
          0,
          0,
          47.25,
          0,
          55.99999999999999,
          0,
          0,
          0,
          0,
          0,
          0,
          0,
          0,
          0,
          0,
          0,
          0,
          0,
          0,
          0,
          0,
          0,
          0,
          0,
          0,
          0,
          0,
          453.6,
          0,
          0,
          0,
          87.2,
          0,
          0,
          0,
          0.6,
          0,
          0,
          141.4,
          21.150000000000002,
          0,
          0,
          0,
          0,
          3.200000000000001,
          0,
          0,
          0,
          0,
          0,
          0,
          0,
          0,
          0,
          0,
          0,
          0,
          0,
          0,
          0,
          33.449999999999996,
          0,
          0,
          0,
          0,
          0,
          0,
          0,
          163.20000000000002,
          729.3999999999999,
          39.2,
          1594.2000000000005,
          0,
          0,
          0,
          195.5,
          0,
          0,
          68,
          0,
          0,
          0,
          0,
          0,
          0,
          0,
          0,
          0,
          0,
          0,
          0,
          0,
          0,
          0,
          0,
          0,
          0,
          0,
          0,
          0,
          0,
          106.29999999999998,
          0,
          0,
          0,
          0,
          0,
          0,
          62.7,
          94,
          0,
          0,
          0,
          0,
          973.5,
          0,
          0,
          1.2,
          0,
          0,
          0,
          0,
          0,
          0,
          0,
          0,
          0,
          0,
          0,
          0,
          0,
          0,
          0,
          0,
          0,
          0,
          138,
          0,
          0,
          0,
          0,
          0,
          0.6000000000000001,
          0,
          561.7,
          267,
          0,
          1.2,
          0,
          0,
          0,
          0,
          0,
          0,
          0,
          0,
          296.9941176470587,
          36.99999999999999,
          0,
          0,
          0,
          0,
          0,
          0,
          0,
          0,
          0,
          0,
          0,
          0,
          0,
          0,
          0,
          0,
          0,
          0,
          0,
          11.600000000000001,
          0,
          122.9,
          0,
          0,
          188.9,
          0,
          0,
          0,
          0,
          0,
          0,
          0,
          0,
          0,
          0,
          0,
          14.4,
          0,
          0,
          0,
          2390.2,
          0,
          0,
          0,
          0,
          0,
          0,
          0,
          0,
          0,
          0,
          0,
          0,
          0,
          0,
          0,
          0,
          0,
          0,
          0,
          0,
          0,
          0,
          0,
          0,
          0,
          0,
          0,
          0,
          0,
          0,
          0,
          0,
          0,
          0,
          0,
          0,
          0,
          0,
          0,
          0,
          0,
          0,
          0,
          0,
          0,
          0,
          0,
          32,
          0,
          0,
          0,
          0,
          74.59999999999998,
          0,
          0,
          0,
          0,
          6.4,
          0,
          0,
          0,
          0,
          0,
          0,
          0,
          0,
          0,
          0,
          36.5,
          0,
          0,
          0,
          0,
          0,
          0,
          0.8,
          34.1,
          0,
          0,
          0,
          29,
          0,
          0,
          0,
          0,
          0,
          0,
          236.8,
          42.5,
          0,
          0,
          0,
          25.65,
          0,
          0,
          0,
          0,
          87.3625,
          4.2,
          0,
          0,
          0,
          0,
          0,
          0,
          0,
          0,
          0,
          0,
          0,
          0,
          0,
          0,
          0,
          0,
          0,
          0,
          0,
          0,
          0,
          0,
          0,
          0,
          0,
          0,
          0,
          134.14285714285717,
          0,
          62.39999999999999,
          0,
          0,
          0,
          0,
          0,
          0,
          0,
          0,
          0,
          0,
          119.4,
          0,
          0,
          0,
          3.0833333333333335,
          0,
          0,
          0,
          397.73333333333335,
          0,
          0,
          0,
          0,
          0,
          0,
          0,
          0,
          0,
          0,
          0,
          0,
          0,
          0,
          0,
          0,
          0,
          0,
          0,
          0,
          0,
          0,
          0,
          0,
          27,
          0,
          29.700000000000003,
          0,
          0,
          0,
          11,
          0,
          0,
          0,
          0,
          0,
          0,
          0,
          0,
          0,
          0,
          0,
          0,
          0,
          8.1,
          0,
          0,
          0,
          0,
          0,
          0,
          0,
          0,
          170.14999999999998,
          0,
          40.125,
          382.4000000000001,
          0,
          0,
          0,
          0,
          0,
          698.5999999999999,
          0,
          0,
          0,
          0,
          0,
          0,
          0,
          0,
          0,
          75.49999999999999,
          0,
          0,
          0,
          0,
          0,
          0,
          0,
          0,
          0,
          0,
          0,
          0,
          98.31818181818181,
          0,
          0,
          0,
          15.5,
          0,
          0,
          0,
          0,
          0,
          0,
          0,
          0,
          741.6000000000001,
          0,
          0,
          0,
          0,
          0,
          0,
          115.6,
          358.90000000000003,
          14,
          0,
          0,
          0,
          0,
          0,
          0,
          61.19999999999999,
          122.79999999999998,
          0,
          0,
          41.599999999999994,
          0,
          0,
          0,
          0,
          0,
          0,
          0,
          0,
          0,
          0,
          0,
          0,
          0,
          0,
          0,
          0,
          0,
          0,
          0,
          0,
          0,
          0,
          0,
          583.5999999999999,
          26.25,
          0,
          0,
          146.2,
          0,
          0,
          46.75,
          0,
          0,
          0,
          0,
          0,
          0,
          0,
          0,
          0,
          0,
          0,
          0,
          41.599999999999994,
          18.4,
          0,
          0,
          0,
          391.8,
          0,
          0,
          0,
          0,
          0,
          0,
          0,
          0,
          0,
          0,
          0,
          37.24999999999999,
          0,
          126.70000000000002,
          0,
          0,
          25.724999999999994,
          38.34999999999999,
          0,
          0,
          0,
          0,
          0,
          0,
          0,
          0,
          0,
          0,
          0,
          0,
          0,
          0,
          0,
          0,
          0,
          0,
          38,
          0,
          1406.8999999999994,
          0,
          0,
          0,
          0,
          0,
          0,
          0,
          0,
          0,
          0,
          0,
          0,
          0,
          0,
          0,
          0,
          21.45,
          0,
          0,
          0,
          0,
          0,
          0,
          0,
          0,
          0,
          0,
          0,
          0,
          32.89999999999999,
          0,
          0,
          0,
          0,
          0,
          0,
          0,
          0,
          0,
          0,
          0,
          22.8,
          0,
          0,
          0,
          9.699999999999994,
          0,
          0,
          0,
          0,
          0,
          39.89999999999999,
          0,
          0,
          126.66666666666666,
          0,
          0,
          0,
          0,
          0,
          0,
          0,
          0,
          0,
          0,
          0,
          0,
          0,
          0,
          0,
          0,
          0,
          0,
          10,
          9.600000000000003,
          0,
          0,
          0,
          0,
          0,
          0,
          0,
          16.3,
          0,
          0,
          0,
          0,
          0,
          0,
          0,
          0,
          0,
          0,
          0,
          0,
          0,
          0,
          0,
          0,
          0,
          0,
          0,
          0,
          0,
          63.2,
          0,
          0,
          0,
          0,
          0,
          0,
          0,
          0,
          0,
          0,
          0,
          0,
          0,
          0,
          0,
          0,
          0,
          0,
          0,
          0,
          0,
          0,
          19.200000000000003,
          0,
          0,
          0,
          0,
          0,
          0,
          0,
          0,
          0,
          0,
          0,
          0,
          0,
          0,
          13.380000000000003,
          0,
          0,
          0,
          0,
          0,
          0,
          218.5,
          172.2000000000001,
          9.6,
          0,
          0,
          0,
          0,
          0,
          0,
          0,
          0,
          0,
          0,
          0,
          0,
          0,
          0,
          0,
          0,
          0,
          0,
          85.39999999999999,
          0,
          218.2,
          0,
          139.8,
          0,
          0,
          147.8,
          0,
          0,
          0,
          0,
          0,
          0,
          0,
          67.53333333333332,
          0,
          48.599999999999994,
          155.5,
          49.3,
          0,
          74.39999999999998,
          0,
          0,
          0,
          0,
          15.3,
          0,
          5,
          0,
          0,
          0,
          25.9,
          0,
          0,
          0,
          0,
          0,
          0,
          64.99999999999997,
          0,
          16.200000000000003,
          0,
          0,
          0,
          0,
          0,
          0,
          0,
          0,
          0,
          0,
          0,
          427.2000000000001,
          0,
          0,
          0,
          253.75,
          0,
          0,
          280.5,
          0,
          204,
          0,
          0,
          0,
          0,
          0,
          0,
          0,
          0,
          0,
          0,
          0,
          0,
          0,
          0,
          0,
          0,
          0,
          0,
          0,
          0,
          0,
          0,
          0,
          0,
          0,
          0,
          0,
          0,
          0,
          0,
          0,
          0,
          0,
          0,
          0,
          0,
          0,
          0,
          0,
          0,
          0,
          47.75,
          0,
          165.64999999999998,
          0,
          0,
          0,
          0,
          0,
          0,
          0,
          0,
          0,
          0,
          0,
          0,
          0,
          0,
          0,
          0,
          0,
          0,
          0,
          0,
          0,
          0,
          0,
          0,
          0,
          200.40000000000003,
          0,
          0,
          0,
          0,
          1130.4,
          0,
          0,
          0,
          0,
          311.80000000000007,
          0,
          0,
          64,
          0,
          20.833333333333332,
          41.39999999999999,
          10.500000000000004,
          0,
          0,
          0,
          0,
          0,
          0,
          0,
          0,
          0,
          0,
          76,
          0,
          0,
          0,
          0,
          0,
          0,
          0,
          0,
          0,
          0,
          100.69999999999999,
          0,
          56.4,
          0,
          0,
          0,
          0,
          0,
          0,
          0,
          0,
          0,
          0,
          0,
          141.25,
          149.75,
          0,
          0,
          0,
          1874.0999999999995,
          159.73333333333335,
          0,
          0,
          235.8,
          0,
          0,
          0,
          0,
          0,
          0,
          0,
          59,
          0,
          0,
          0,
          311.90000000000003,
          0,
          0,
          0,
          0,
          0,
          127.19999999999997,
          0,
          87.79999999999998,
          0,
          37.20000000000001,
          0,
          0,
          0,
          0,
          0,
          0,
          0,
          0,
          0,
          37.8,
          0,
          0,
          0,
          0,
          0,
          0,
          0,
          0,
          0,
          0,
          0,
          0,
          0,
          0,
          0,
          0,
          0,
          0,
          0,
          0,
          0,
          0,
          59.875,
          0,
          73.9,
          0,
          0,
          0,
          0,
          0,
          0,
          0,
          0,
          0,
          0,
          0,
          0,
          0,
          0,
          0,
          0,
          0,
          47.25,
          0,
          55.99999999999999,
          0,
          0,
          0,
          0,
          0,
          0,
          0,
          0,
          0,
          0,
          0,
          0,
          0,
          0,
          0,
          0,
          0,
          0,
          0,
          0,
          0,
          0,
          453.6,
          0,
          0,
          0,
          87.2,
          0,
          0,
          0,
          0.6,
          0,
          0,
          141.4,
          21.150000000000002,
          0,
          0,
          0,
          0,
          3.200000000000001,
          0,
          0,
          0,
          0,
          0,
          0,
          0,
          0,
          0,
          0,
          0,
          0,
          0,
          0,
          0,
          33.449999999999996,
          0,
          0,
          0,
          0,
          0,
          0,
          0,
          163.20000000000002,
          729.3999999999999,
          39.2,
          1594.2000000000005,
          0,
          0,
          0,
          195.5,
          0,
          0,
          68,
          0,
          0,
          0,
          0,
          0,
          0,
          0,
          0,
          0,
          0,
          0,
          0,
          0,
          0,
          0,
          0,
          0,
          0,
          0,
          0,
          0,
          0,
          106.29999999999998,
          0,
          0,
          0,
          0,
          0,
          0,
          62.7,
          94,
          0,
          0,
          0,
          0,
          973.5,
          0,
          0,
          1.2,
          0,
          0,
          0,
          0,
          0,
          0,
          0,
          0,
          0,
          0,
          0,
          0,
          0,
          0,
          0,
          0,
          0,
          0,
          138,
          0,
          0,
          0,
          0,
          0,
          0.6000000000000001,
          0,
          561.7,
          267,
          0,
          1.2,
          0,
          0,
          0,
          0,
          0,
          0,
          0,
          0,
          296.9941176470587,
          36.99999999999999,
          0,
          0,
          0,
          0,
          0,
          0,
          0,
          0,
          0,
          0,
          0,
          0,
          0,
          0,
          0,
          0,
          0,
          0,
          0,
          11.600000000000001,
          0,
          122.9,
          0,
          0,
          188.9,
          0,
          0,
          0,
          0,
          0,
          0,
          0,
          0,
          0,
          0,
          0,
          14.4,
          0,
          0,
          0,
          2390.2,
          0,
          0,
          0,
          0,
          0,
          0,
          0,
          0,
          0,
          0,
          0,
          0,
          0,
          0,
          0,
          0,
          0,
          0,
          0,
          0,
          0,
          0,
          0,
          0,
          0,
          0,
          0,
          0,
          0,
          0,
          0,
          0,
          0,
          0,
          0,
          0,
          0,
          0,
          0,
          0,
          0,
          0,
          0,
          0,
          0,
          0,
          0,
          32,
          0,
          0,
          0,
          0,
          74.59999999999998,
          0,
          0,
          0,
          0,
          6.4,
          0,
          0,
          0,
          0,
          0,
          0,
          0,
          0,
          0,
          0,
          36.5,
          0,
          0,
          0,
          0,
          0,
          0,
          0.8,
          34.1,
          0,
          0,
          0,
          29,
          0,
          0,
          0,
          0,
          0,
          0,
          236.8,
          42.5,
          0,
          0,
          0
         ],
         "y": [
          1.48,
          1.09,
          1.12,
          2.1,
          0.89,
          0.58,
          0.69,
          2.48,
          1.33,
          1.47,
          1.83,
          2.81,
          1.42,
          2,
          1.09,
          0.73,
          1,
          1.22,
          1.39,
          0.76,
          0.57,
          1.83,
          0.78,
          1.21,
          0.46,
          1.65,
          1.38,
          2.61,
          1.03,
          2.24,
          1.29,
          1.5,
          1.03,
          1.33,
          1.07,
          3.69,
          0.89,
          0.8,
          1.72,
          1.47,
          2.72,
          3.86,
          1.68,
          0.94,
          1.26,
          2.74,
          2.58,
          1.12,
          0.94,
          4.18,
          1.55,
          0.85,
          0.89,
          2.27,
          1.47,
          1.4,
          1.83,
          1.9,
          1.63,
          2.45,
          1.32,
          1.76,
          1.14,
          1.5,
          1.32,
          1.32,
          1.52,
          1.44,
          0.55,
          1.16,
          1.21,
          1.23,
          3.94,
          1.83,
          1.79,
          2.57,
          2.63,
          1.29,
          1.34,
          0.67,
          0.71,
          1.03,
          1.83,
          1.34,
          2.56,
          2.67,
          1.31,
          2,
          1.24,
          2.52,
          1.09,
          2,
          1.07,
          1.04,
          0.75,
          6.33,
          1.26,
          2.28,
          1.94,
          3.69,
          2.19,
          2.86,
          1.24,
          0.78,
          1.11,
          1.54,
          1,
          1.67,
          2.53,
          1.68,
          1.36,
          1.7,
          1.92,
          0.63,
          2.05,
          1.57,
          0.93,
          0.85,
          1.03,
          0.85,
          0.8,
          0.83,
          1.11,
          1.79,
          0.45,
          1.44,
          1.73,
          1.61,
          0.71,
          0.95,
          1.45,
          2.32,
          1.46,
          0.9,
          3.71,
          1.71,
          1.19,
          1.81,
          1.44,
          2.24,
          2.05,
          2.37,
          2.04,
          2.82,
          1.83,
          1.95,
          1.52,
          1.31,
          1.31,
          1.96,
          1.06,
          1.57,
          2.44,
          0.92,
          1.93,
          1.57,
          1.33,
          0.78,
          1.38,
          1.82,
          1.33,
          2.93,
          1.61,
          0.83,
          1.43,
          0.93,
          0.77,
          1.96,
          1.15,
          2.68,
          2.17,
          1.19,
          2.24,
          1.19,
          1.41,
          2.78,
          1.52,
          1.5,
          0.61,
          0.77,
          2.05,
          0.97,
          0.76,
          1.94,
          2.87,
          0.85,
          2.69,
          2.17,
          1.65,
          2.5,
          1.26,
          1.31,
          1.37,
          1.22,
          1.09,
          2.6,
          1.43,
          1.14,
          1,
          1.55,
          0.97,
          1.58,
          0.82,
          0.89,
          2.67,
          0.88,
          3.15,
          1.95,
          0.63,
          1.67,
          1.7,
          2.15,
          0.58,
          1.95,
          1.79,
          1.42,
          2.35,
          1.16,
          0.91,
          1.96,
          4.07,
          1.06,
          3.12,
          2.94,
          1.71,
          3.75,
          1.12,
          1.8,
          1.56,
          4.82,
          0.85,
          1.6,
          0.76,
          1.11,
          1.21,
          0.57,
          1.25,
          2.05,
          1.32,
          2,
          0.71,
          1.22,
          1.15,
          2.3,
          1.39,
          1.34,
          0.66,
          3.25,
          1.22,
          1.08,
          1.96,
          1.42,
          1,
          1.1,
          3.38,
          1.55,
          1.04,
          2.05,
          1.52,
          1.12,
          1.68,
          2.68,
          1.82,
          1.17,
          1.15,
          2,
          1.44,
          1.43,
          2.58,
          2.11,
          3.5,
          0.85,
          1.58,
          1.08,
          1.52,
          1.91,
          1.06,
          1,
          1.54,
          1.06,
          2.76,
          1.24,
          1.43,
          1.1,
          1.8,
          0.8,
          1.67,
          1.78,
          0.54,
          0.97,
          1.57,
          1.25,
          1.24,
          2,
          1.52,
          1.9,
          1.17,
          1.13,
          2.95,
          1.03,
          1.5,
          1.46,
          0.59,
          2.33,
          0.97,
          1.24,
          1.74,
          2.08,
          1.46,
          1.54,
          1.36,
          2.2,
          1.15,
          1.6,
          1.96,
          2.19,
          0.86,
          1.25,
          1.16,
          1.06,
          2.63,
          1.81,
          1.16,
          2.26,
          1.35,
          0.91,
          2.18,
          1.67,
          1,
          1.21,
          1.76,
          1.52,
          1.12,
          1.07,
          0.72,
          1.85,
          1.33,
          0.91,
          1.65,
          2.33,
          2.76,
          0.87,
          1.06,
          2.06,
          1.79,
          1.58,
          1.48,
          1.06,
          2.64,
          2.75,
          1.03,
          1.68,
          2.93,
          0.92,
          0.66,
          0.71,
          1.08,
          1.43,
          1.42,
          1.36,
          2.09,
          1.43,
          0.74,
          0.53,
          1.25,
          1.95,
          1.65,
          2.94,
          1.14,
          2.05,
          1.09,
          1.3,
          1.7,
          0.78,
          1.24,
          1.1,
          2.6,
          0.82,
          1.22,
          2.38,
          1.79,
          0.97,
          1.68,
          1.68,
          2.94,
          2.29,
          2.61,
          0.94,
          2.73,
          1.34,
          1.43,
          2.36,
          1.43,
          1.32,
          1.06,
          1.19,
          1.03,
          1.26,
          1.96,
          2.17,
          2.68,
          1.21,
          1.8,
          1.3,
          1.59,
          3.77,
          1.23,
          1.8,
          1.25,
          1.55,
          1.3,
          1.38,
          1.19,
          1.3,
          1.22,
          1.07,
          1.72,
          2.22,
          0.93,
          1.74,
          1.32,
          1.23,
          0.79,
          3.64,
          1.33,
          1.23,
          1.16,
          0.88,
          1.05,
          1.5,
          1.45,
          2.22,
          2.68,
          1.27,
          2.88,
          0.5,
          0.97,
          1.19,
          1.11,
          1.7,
          3.58,
          1.09,
          2.04,
          1.38,
          1.08,
          1.45,
          2.92,
          1.12,
          1.61,
          0.76,
          1.41,
          1.37,
          3.29,
          1.71,
          0.81,
          1.88,
          0.85,
          0.56,
          1.04,
          0.96,
          1.91,
          1,
          1.52,
          1.04,
          2.13,
          1.39,
          0.65,
          2.32,
          1.26,
          1.57,
          1.04,
          5.22,
          0.94,
          2.73,
          0.62,
          2.53,
          1.5,
          1,
          4,
          0.83,
          0.85,
          2.05,
          1.58,
          1.28,
          2.87,
          1.48,
          0.81,
          1.24,
          0.97,
          1,
          1.93,
          1.38,
          1.48,
          1.03,
          0.73,
          1.76,
          0.78,
          2.05,
          1.91,
          1.48,
          1.36,
          1.07,
          1.5,
          1.46,
          1.58,
          1.07,
          2.6,
          0.71,
          1.59,
          1.46,
          0.9,
          1.15,
          0.74,
          2.32,
          1.64,
          1.42,
          1.59,
          2,
          2,
          2.59,
          1.07,
          1.8,
          2.6,
          1.26,
          1.14,
          0.91,
          1.54,
          1.16,
          1.41,
          1.41,
          1.48,
          1.68,
          2.65,
          1.23,
          1.03,
          2.86,
          1.04,
          0.92,
          1.4,
          1.27,
          1.15,
          2.06,
          1.27,
          1,
          0.97,
          1.68,
          0.63,
          2.47,
          0.77,
          0.97,
          2.05,
          0.76,
          0.89,
          0.91,
          2.82,
          1.58,
          0.91,
          2.57,
          1.32,
          2,
          1.48,
          3.19,
          2.59,
          1.41,
          0.86,
          1.45,
          2.53,
          1.12,
          2.67,
          3.08,
          1.9,
          1.03,
          0.91,
          1.29,
          2.35,
          1.68,
          1.12,
          2.73,
          1.15,
          0.93,
          1.68,
          1,
          2.89,
          2.18,
          1.16,
          1.03,
          1.42,
          0.9,
          2.16,
          1.84,
          1.69,
          0.94,
          1.19,
          0.84,
          2.17,
          1.19,
          0.77,
          1.54,
          2.31,
          1.36,
          3.56,
          1,
          2.48,
          1.03,
          0.48,
          1.6,
          1.08,
          2.35,
          0.97,
          1.6,
          0.94,
          0.62,
          1.95,
          1.08,
          2.29,
          0.94,
          0.88,
          0.59,
          1.68,
          0.77,
          1.68,
          1.58,
          1.11,
          1.59,
          1.21,
          1.86,
          2.26,
          2.87,
          2.14,
          1.32,
          0.55,
          0.66,
          2.19,
          0.97,
          0.97,
          1.6,
          0.83,
          1.58,
          3.29,
          1.64,
          1.1,
          2.26,
          2.41,
          2.09,
          2,
          2.35,
          1.76,
          0.96,
          2,
          1.13,
          1.33,
          1.77,
          1.82,
          0.88,
          0.83,
          1.22,
          1.03,
          2.67,
          1.03,
          2.18,
          1.64,
          0.97,
          1.12,
          1.75,
          1.13,
          1.16,
          1.32,
          2.38,
          1.35,
          2.05,
          2,
          2.53,
          1.5,
          1.28,
          1.25,
          1.04,
          1.54,
          2.11,
          0.85,
          1.42,
          1.33,
          2.14,
          1.71,
          1.33,
          0.76,
          1.96,
          1.17,
          0.55,
          1.32,
          1.42,
          1.46,
          0.89,
          0.82,
          1.44,
          1.1,
          1.4,
          0.75,
          1,
          1.91,
          1.58,
          1.32,
          1.33,
          1.73,
          0.8,
          0.3,
          0.82,
          3.08,
          1.15,
          1.74,
          0.79,
          1.19,
          1.52,
          1.26,
          0.97,
          1.03,
          1.75,
          1.59,
          3.94,
          1.48,
          1.48,
          1.95,
          0.97,
          1.07,
          0.91,
          2,
          0.83,
          0.87,
          1.33,
          2.52,
          1.42,
          2.12,
          1.03,
          2.05,
          1.65,
          1.94,
          1.34,
          1.67,
          0.93,
          0.87,
          1.38,
          1.25,
          0.83,
          1.04,
          1.03,
          1.54,
          1.37,
          0.91,
          1.42,
          1.23,
          0.86,
          1.9,
          1.8,
          1.85,
          1.45,
          0.76,
          2.05,
          0.91,
          1.08,
          0.76,
          2.06,
          1.11,
          1.93,
          0.63,
          1.24,
          1.32,
          1.42,
          1.45,
          1.37,
          1.21,
          1.21,
          2.5,
          1.07,
          1.22,
          1.32,
          3.36,
          1.62,
          2.35,
          2.64,
          0.93,
          1.25,
          2.22,
          3.71,
          1.74,
          1.5,
          0.88,
          1.68,
          1.88,
          1.65,
          2.32,
          4.77,
          1.59,
          0.65,
          2.14,
          1,
          1.19,
          1.25,
          1.96,
          1.09,
          1.38,
          1.29,
          1.9,
          1.64,
          0.6,
          2.21,
          1.95,
          1.54,
          1.92,
          10,
          1.2,
          0.61,
          1.12,
          1.67,
          0.71,
          1.09,
          3.53,
          1.84,
          1.79,
          0.93,
          0.88,
          1.31,
          3.94,
          1.21,
          0.95,
          2.19,
          1,
          2.18,
          1.71,
          3.21,
          4.9,
          1.68,
          2.1,
          0.49,
          1.17,
          1.28,
          1.68,
          1.04,
          1.39,
          0.62,
          1.04,
          1,
          2,
          1.71,
          0.72,
          1.45,
          1.07,
          2.76,
          1.91,
          3.46,
          2.48,
          1.43,
          1.42,
          1.19,
          0.94,
          1.95,
          1.41,
          2.69,
          0.71,
          1.86,
          1,
          2.24,
          2.14,
          1.87,
          1.78,
          2.04,
          0.68,
          2.09,
          1.41,
          1.84,
          1.83,
          1.71,
          1.77,
          0.81,
          1.42,
          2.21,
          0.59,
          2.71,
          1,
          0.91,
          1.35,
          3.31,
          2,
          3.79,
          1.23,
          1.56,
          2.05,
          1.24,
          2,
          2.44,
          0.76,
          2.5,
          1.89,
          0.93,
          1.92,
          1.12,
          1,
          3.2,
          2.2,
          1.28,
          1.12,
          1.41,
          1.95,
          0.97,
          1.45,
          1.62,
          0.78,
          1.36,
          1.38,
          1.55,
          2.06,
          1.79,
          0.75,
          1.9,
          1.86,
          2.81,
          1.28,
          1.06,
          2.06,
          0.4,
          0.92,
          1.58,
          1.28,
          0.73,
          1.45,
          0.68,
          1.77,
          0.89,
          0.56,
          2.84,
          1.71,
          1.09,
          0.89,
          0.63,
          0.58,
          1.11,
          2.25,
          1.5,
          3.07,
          1.03,
          1.34,
          1.29,
          1.5,
          1.44,
          0.82,
          1.25,
          2.21,
          1.74,
          1.46,
          2.22,
          0.92,
          1,
          1.29,
          1.34,
          2.65,
          1.36,
          1.41,
          1.81,
          0.84,
          0.71,
          1.38,
          0.83,
          1.29,
          0.94,
          1.26,
          1.5,
          1.72,
          2,
          1.14,
          1.83,
          1.68,
          1.24,
          1.38,
          2.1,
          1.58,
          1.58,
          0.55,
          2.12,
          1.32,
          2.58,
          1.44,
          0.52,
          0.77,
          1.04,
          0.89,
          0.72,
          0.88,
          0.61,
          2.94,
          1.33,
          1.52,
          3.06,
          1.43,
          1.68,
          0.82,
          1.47,
          1,
          2.18,
          3.25,
          1.25,
          1.21,
          2.5,
          1.94,
          1.48,
          1.17,
          0.59,
          1.54,
          3.25,
          2.18,
          2.18,
          2.52,
          5.08,
          1.28,
          1.43,
          2.29,
          2.54,
          0.92,
          3.18,
          0.69,
          1.68,
          1.8,
          2.81,
          1.19,
          1.24,
          1.3,
          2.55,
          1.23,
          1.67,
          0.81,
          1.8,
          1.54,
          1.8,
          1.75,
          1.17,
          1.1,
          1.65,
          0.72,
          0.7,
          0.88,
          2.39,
          2.72,
          0.97,
          0.74,
          1.59,
          3.41,
          2.13,
          1.79,
          1.83,
          0.8,
          1.33,
          2.19,
          1.06,
          1,
          2.29,
          1.07,
          1.94,
          1.04,
          2.4,
          1.96,
          0.9,
          1.42,
          2.29,
          2.28,
          0.88,
          0.92,
          0.95,
          1.52,
          2.06,
          1.42,
          1.04,
          2.33,
          1.39,
          2.65,
          2.26,
          2.11,
          1.27,
          1.42,
          0.97,
          1.28,
          1.19,
          3.24,
          2.36,
          1.7,
          1.7,
          0.76,
          1.59,
          1.71,
          2.16,
          1.41,
          1.35,
          1,
          1.15,
          1.47,
          1.31,
          1.28,
          0.68,
          1.7,
          2.69,
          3.77,
          3.14,
          1.42,
          1.86,
          1.9,
          1.24,
          1,
          2.1,
          2.2,
          1.06,
          2.38,
          1,
          1.19,
          1.34,
          2.12,
          0.86,
          2.79,
          2.73,
          1.43,
          1.7,
          2.42,
          1.83,
          1.25,
          3.36,
          2.64,
          1.09,
          1.52,
          0.97,
          1.2,
          1.46,
          1.48,
          0.94,
          0.74,
          1.67,
          2.23,
          3.64,
          0.79,
          2,
          1.1,
          1.63,
          1.57,
          1.42,
          0.91,
          1.24,
          1.26,
          2.1,
          0.77,
          1.16,
          2.92,
          0.78,
          0.93,
          1.54,
          2.25,
          0.9,
          1.31,
          1.38,
          0.78,
          1.07,
          4.15,
          0.78,
          3.18,
          4.5,
          1.95,
          6.78,
          1.88,
          1.34,
          1.43,
          1.52,
          4.85,
          2.81,
          1.48,
          1.58,
          2.21,
          1.73,
          1.88,
          0.7,
          1.95,
          1.57,
          0.88,
          1.28,
          2.61,
          1.27,
          1.35,
          0.71,
          0.78,
          2.29,
          1.25,
          1.62,
          1.19,
          3.46,
          1.58,
          1.18,
          2,
          2.67,
          1.06,
          3,
          1.3,
          2.58,
          2.18,
          1.74,
          1.55,
          1,
          1.03,
          1.81,
          1.64,
          1.62,
          0.95,
          2.1,
          1.16,
          0.88,
          1.86,
          1.08,
          1,
          2.06,
          1.52,
          1.92,
          1.89,
          0.69,
          1.33,
          1.96,
          2.23,
          2.67,
          1.41,
          1.57,
          0.69,
          0.83,
          1.57,
          1.9,
          1.6,
          0.72,
          1.29,
          1.56,
          0.82,
          1.85,
          1.16,
          2.24,
          1.04,
          2.62,
          2.18,
          2.86,
          1.15,
          2.38,
          0.82,
          1.62,
          2.39,
          0.81,
          2.15,
          2.18,
          1.31,
          0.94,
          1.15,
          1.03,
          1.23,
          1,
          1.7,
          1.42,
          1.19,
          1.5,
          2.06,
          1.38,
          1.22,
          1.65,
          1.25,
          1.74,
          1.17,
          1.31,
          1.68,
          1,
          1.46,
          1.73,
          1.61,
          2.16,
          2.75,
          3.54,
          3.06,
          1.13,
          2.75,
          1.54,
          2.25,
          1.17,
          4.73,
          1.78,
          1.21,
          1.59,
          2.55,
          1.3,
          1.61,
          1.91,
          2,
          1.39,
          1.32,
          1.5,
          0.78,
          0.79,
          4.8,
          2.41,
          2,
          3.13,
          1.1,
          2.23,
          1.88,
          3.33,
          2.06,
          2.11,
          0.94,
          1.25,
          1.48,
          1.39,
          1.21,
          1.45,
          1.27,
          0.94,
          3,
          2.5,
          0.83,
          2.16,
          1.27,
          1.71,
          2.39,
          0.74,
          3.21,
          2.41,
          0.97,
          2.32,
          0.96,
          1.68,
          2.6,
          0.92,
          3.25,
          1.19,
          1.84,
          1.5,
          2.53,
          1.03,
          1.92,
          1.92,
          3.27,
          1.35,
          0.63,
          0.88,
          2.56,
          1.09,
          2.64,
          1.59,
          2.06,
          1.42,
          1.41,
          1.16,
          2.23,
          1.5,
          3.67,
          1.81,
          1.86,
          1.96,
          0.8,
          0.93,
          2,
          1.68,
          4.67,
          1.9,
          2.05,
          1.73,
          1.06,
          3,
          1.69,
          2.06,
          2.5,
          1.96,
          5.4,
          1.92,
          2.33,
          1.16,
          3.17,
          2.76,
          0.72,
          1.31,
          1.57,
          1.44,
          1.96,
          1.54,
          1,
          1.52,
          2.21,
          1.1,
          2.62,
          2.05,
          0.85,
          1.31,
          1.03,
          2.62,
          1.65,
          4.29,
          2.1,
          1.04,
          1.18,
          1.44,
          1.54,
          1.39,
          1.96,
          0.85,
          1.32,
          2.25,
          1.35,
          1.59,
          1.18,
          1.46,
          1.36,
          2,
          1.34,
          1.85,
          2.42,
          1.24,
          2.31,
          2.84,
          0.72,
          3.36,
          2.55,
          0.78,
          0.78,
          1.72,
          1.88,
          2,
          1.77,
          2,
          1.28,
          2.83,
          1.56,
          0.78,
          1.37,
          2.69,
          0.64,
          3.33,
          1.37,
          0.93,
          3,
          1.96,
          1.3,
          2.29,
          3,
          1.15,
          1.57,
          0.81,
          1.35,
          0.79,
          2.2,
          0.84,
          1.94,
          0.64,
          1.26,
          1.42,
          1.14,
          2.62,
          6.11,
          1,
          1.62,
          1.28,
          1.6,
          3.86,
          2.29,
          0.67,
          1.16,
          1.57,
          1.48,
          1.95,
          1.5,
          1.21,
          0.7,
          2.11,
          1.7,
          1.75,
          0.87,
          1.23,
          1.42,
          1.19,
          2.52,
          0.78,
          1.54,
          0.85,
          2.32,
          2.57,
          2.37,
          0.86,
          1.67,
          1.3,
          1.52,
          1,
          2.32,
          1.81,
          3.07,
          2.5,
          2.17,
          3.31,
          1.46,
          1.37,
          1.14,
          0.59,
          1.21,
          1.6,
          1.3,
          1.06,
          2.43,
          0.68,
          2.19,
          1.79,
          0.94,
          1.74,
          1.58,
          2.93,
          1.52,
          0.43,
          2.64,
          2.78,
          0.57,
          1.21,
          1.74,
          1.09,
          1.67,
          0.69,
          3.73,
          1.81,
          1.55,
          0.77,
          2.14,
          1.22,
          1.67,
          0.82,
          3.06,
          1.32,
          2,
          2.88,
          1.16,
          1.21,
          3.71,
          0.74,
          1.47,
          3.86,
          0.75,
          0.9,
          1.12,
          1.87,
          1.11,
          2.47,
          1.37,
          2.29,
          4.56,
          1.09,
          3.2,
          2.76,
          2.27,
          1,
          1.04,
          2.92,
          0.76,
          1.13,
          1.46,
          0.68,
          0.78,
          1.1,
          1.23,
          1.22,
          1.36,
          1.07,
          0.95,
          1.93,
          0.8,
          1.75,
          2.53,
          1.32,
          0.96,
          1.87,
          1.79,
          2.2,
          1.44,
          2.14,
          1.9,
          1.59,
          3.29,
          0.43,
          1.62,
          0.72,
          1.32,
          1.11,
          1.16,
          1.23,
          1.1,
          0.4,
          1.77,
          1.67,
          2.95,
          1.58,
          2.5,
          2.05,
          0.8,
          0.74,
          1.42,
          0.69,
          1.8,
          1.61,
          1.8,
          1.3,
          1.12,
          1.18,
          0.78,
          2.92,
          1.33,
          2.2,
          2.12,
          0.67,
          2.11,
          1.27,
          1.55,
          2.59,
          2.47,
          1.26,
          3.43,
          1.54,
          1.43,
          1.1,
          0.88,
          1.67,
          1.1,
          1,
          0.62,
          1.19,
          1.29,
          2.14,
          2.35,
          1.22,
          1.33,
          1.2,
          0.58,
          2.11,
          2.45,
          0.75,
          1.61,
          1.89,
          1.29,
          1,
          1.64,
          0.57,
          0.78,
          1.33,
          1.1,
          1.24,
          2.37,
          2.43,
          1.03,
          1.62,
          1.81,
          1.67,
          1.31,
          2.25,
          2.17,
          1.48,
          0.74,
          1.24,
          2,
          2.38,
          0.97,
          1.41,
          1.82,
          1.12,
          1.9,
          0.87,
          1.58,
          1,
          0.84,
          1.14,
          1.39,
          1.96,
          1.13,
          0.96,
          0.89,
          2.11,
          0.97,
          2.69,
          2.06,
          1.17,
          1.59,
          2.35,
          1.25,
          1.56,
          2.11,
          1.14,
          1.54,
          0.97,
          1.15,
          1.11,
          1.46,
          1.87,
          1.3,
          3.18,
          2.48,
          1.59,
          1.33,
          1.5,
          1.85,
          1.82,
          2.47,
          0.47,
          2.43,
          0.87,
          1.77,
          1.18,
          1.29,
          4.09,
          2.44,
          1.5,
          1.14,
          1.38,
          1.62,
          1.07,
          1.31,
          4.5,
          0.66,
          3.2,
          1.73,
          2.48,
          2.42,
          1.48,
          1.67,
          1.55,
          1.46,
          1.5,
          1.29,
          0.58,
          2.18,
          1.21,
          0.97,
          0.91,
          1.46,
          0.93,
          1.38,
          1.85,
          1.68,
          2.47,
          1.83,
          2.16,
          1.3,
          1.6,
          1.45,
          1.86,
          2.3,
          0.89,
          1.2,
          0.94,
          1.46,
          1.57,
          1.3,
          0.96,
          1,
          2.4,
          2.17,
          2.5,
          0.97,
          1.33,
          1.23,
          1.5,
          1.42,
          1.3,
          1.18,
          1.09,
          2.56,
          1.77,
          1.32,
          1.5,
          1.31,
          1.44,
          1.12,
          0.9,
          1.27,
          1.04,
          0.78,
          1.59,
          2.44,
          1.44,
          0.74,
          1.36,
          2.64,
          2.61,
          1.16,
          2.83,
          1.22,
          0.96,
          1.26,
          2.08,
          1.35,
          1.23,
          1.87,
          3.06,
          1.22,
          1.61,
          2.94,
          1.77,
          1.1,
          1.92,
          1.46,
          3.62,
          1.27,
          0.69,
          1.21,
          1.4,
          0.66,
          3.31,
          2.88,
          1.6,
          1.19,
          1.95,
          1.37,
          2.16,
          3.24,
          1.91,
          2.28,
          1.65,
          2.5,
          1.34,
          2.64,
          1.44,
          2.45,
          0.79,
          1.38,
          1.81,
          1.21,
          1.57,
          1.8,
          2.86,
          1.12,
          2.44,
          1.68,
          2.36,
          3,
          3.76,
          3.29,
          2.68,
          2.62,
          1.81,
          1.25,
          1.18,
          1.11,
          2.39,
          1.19,
          2.15,
          2.35,
          0.62,
          1.11,
          1.1,
          1.75,
          1.83,
          0.69,
          2.41,
          0.89,
          1.61,
          1.09,
          2.12,
          0.83,
          0.86,
          1.06,
          0.82,
          1.37,
          1.5,
          0.71,
          1.84,
          0.68,
          1.78,
          2.56,
          1.7,
          1.77,
          0.81,
          2.05,
          1.6,
          1.36,
          2.56,
          1.21,
          2.11,
          0.43,
          1.26,
          1,
          1.86,
          0.84,
          1.03,
          1.74,
          0.79,
          2.04,
          1.45,
          1.81,
          0.95,
          2.1,
          1.38,
          2,
          2,
          1.67,
          0.85,
          1.32,
          2.11,
          1.76,
          0.97,
          1.55,
          2.08,
          0.61,
          2.84,
          1.87,
          1.15,
          1.83,
          0.61,
          1.2,
          2.37,
          1.04,
          0.82,
          1.43,
          1.39,
          2.69,
          1.17,
          2.38,
          3.57,
          2.62,
          1.32,
          1.27,
          0.9,
          1,
          1.6,
          3,
          4.36,
          2.45,
          3.07,
          2.16,
          3.31,
          2.18,
          0.64,
          1.23,
          0.79,
          1.08,
          0.89,
          2.22,
          1.57,
          0.91,
          3.75,
          1.68,
          1.26,
          1.58,
          0.6,
          0.7,
          1.3,
          1,
          4.67,
          3.38,
          1.16,
          1.38,
          1.77,
          2.56,
          1.41,
          0.94,
          3.54,
          2.04,
          2,
          2.47,
          0.96,
          3.69,
          1.76,
          1.83,
          2.15,
          0.7,
          1.5,
          1.1,
          0.88,
          1,
          1.65,
          0.77,
          2.43,
          2.05,
          1.75,
          1.83,
          2.12,
          1.22,
          2.05,
          1.24,
          1.15,
          2.53,
          2.56,
          1.91,
          0.88,
          1.6,
          0.52,
          0.97,
          1.95,
          1.03,
          1.27
         ]
        }
       ],
       "layout": {
        "template": {
         "data": {
          "bar": [
           {
            "error_x": {
             "color": "#2a3f5f"
            },
            "error_y": {
             "color": "#2a3f5f"
            },
            "marker": {
             "line": {
              "color": "#E5ECF6",
              "width": 0.5
             }
            },
            "type": "bar"
           }
          ],
          "barpolar": [
           {
            "marker": {
             "line": {
              "color": "#E5ECF6",
              "width": 0.5
             }
            },
            "type": "barpolar"
           }
          ],
          "carpet": [
           {
            "aaxis": {
             "endlinecolor": "#2a3f5f",
             "gridcolor": "white",
             "linecolor": "white",
             "minorgridcolor": "white",
             "startlinecolor": "#2a3f5f"
            },
            "baxis": {
             "endlinecolor": "#2a3f5f",
             "gridcolor": "white",
             "linecolor": "white",
             "minorgridcolor": "white",
             "startlinecolor": "#2a3f5f"
            },
            "type": "carpet"
           }
          ],
          "choropleth": [
           {
            "colorbar": {
             "outlinewidth": 0,
             "ticks": ""
            },
            "type": "choropleth"
           }
          ],
          "contour": [
           {
            "colorbar": {
             "outlinewidth": 0,
             "ticks": ""
            },
            "colorscale": [
             [
              0,
              "#0d0887"
             ],
             [
              0.1111111111111111,
              "#46039f"
             ],
             [
              0.2222222222222222,
              "#7201a8"
             ],
             [
              0.3333333333333333,
              "#9c179e"
             ],
             [
              0.4444444444444444,
              "#bd3786"
             ],
             [
              0.5555555555555556,
              "#d8576b"
             ],
             [
              0.6666666666666666,
              "#ed7953"
             ],
             [
              0.7777777777777778,
              "#fb9f3a"
             ],
             [
              0.8888888888888888,
              "#fdca26"
             ],
             [
              1,
              "#f0f921"
             ]
            ],
            "type": "contour"
           }
          ],
          "contourcarpet": [
           {
            "colorbar": {
             "outlinewidth": 0,
             "ticks": ""
            },
            "type": "contourcarpet"
           }
          ],
          "heatmap": [
           {
            "colorbar": {
             "outlinewidth": 0,
             "ticks": ""
            },
            "colorscale": [
             [
              0,
              "#0d0887"
             ],
             [
              0.1111111111111111,
              "#46039f"
             ],
             [
              0.2222222222222222,
              "#7201a8"
             ],
             [
              0.3333333333333333,
              "#9c179e"
             ],
             [
              0.4444444444444444,
              "#bd3786"
             ],
             [
              0.5555555555555556,
              "#d8576b"
             ],
             [
              0.6666666666666666,
              "#ed7953"
             ],
             [
              0.7777777777777778,
              "#fb9f3a"
             ],
             [
              0.8888888888888888,
              "#fdca26"
             ],
             [
              1,
              "#f0f921"
             ]
            ],
            "type": "heatmap"
           }
          ],
          "heatmapgl": [
           {
            "colorbar": {
             "outlinewidth": 0,
             "ticks": ""
            },
            "colorscale": [
             [
              0,
              "#0d0887"
             ],
             [
              0.1111111111111111,
              "#46039f"
             ],
             [
              0.2222222222222222,
              "#7201a8"
             ],
             [
              0.3333333333333333,
              "#9c179e"
             ],
             [
              0.4444444444444444,
              "#bd3786"
             ],
             [
              0.5555555555555556,
              "#d8576b"
             ],
             [
              0.6666666666666666,
              "#ed7953"
             ],
             [
              0.7777777777777778,
              "#fb9f3a"
             ],
             [
              0.8888888888888888,
              "#fdca26"
             ],
             [
              1,
              "#f0f921"
             ]
            ],
            "type": "heatmapgl"
           }
          ],
          "histogram": [
           {
            "marker": {
             "colorbar": {
              "outlinewidth": 0,
              "ticks": ""
             }
            },
            "type": "histogram"
           }
          ],
          "histogram2d": [
           {
            "colorbar": {
             "outlinewidth": 0,
             "ticks": ""
            },
            "colorscale": [
             [
              0,
              "#0d0887"
             ],
             [
              0.1111111111111111,
              "#46039f"
             ],
             [
              0.2222222222222222,
              "#7201a8"
             ],
             [
              0.3333333333333333,
              "#9c179e"
             ],
             [
              0.4444444444444444,
              "#bd3786"
             ],
             [
              0.5555555555555556,
              "#d8576b"
             ],
             [
              0.6666666666666666,
              "#ed7953"
             ],
             [
              0.7777777777777778,
              "#fb9f3a"
             ],
             [
              0.8888888888888888,
              "#fdca26"
             ],
             [
              1,
              "#f0f921"
             ]
            ],
            "type": "histogram2d"
           }
          ],
          "histogram2dcontour": [
           {
            "colorbar": {
             "outlinewidth": 0,
             "ticks": ""
            },
            "colorscale": [
             [
              0,
              "#0d0887"
             ],
             [
              0.1111111111111111,
              "#46039f"
             ],
             [
              0.2222222222222222,
              "#7201a8"
             ],
             [
              0.3333333333333333,
              "#9c179e"
             ],
             [
              0.4444444444444444,
              "#bd3786"
             ],
             [
              0.5555555555555556,
              "#d8576b"
             ],
             [
              0.6666666666666666,
              "#ed7953"
             ],
             [
              0.7777777777777778,
              "#fb9f3a"
             ],
             [
              0.8888888888888888,
              "#fdca26"
             ],
             [
              1,
              "#f0f921"
             ]
            ],
            "type": "histogram2dcontour"
           }
          ],
          "mesh3d": [
           {
            "colorbar": {
             "outlinewidth": 0,
             "ticks": ""
            },
            "type": "mesh3d"
           }
          ],
          "parcoords": [
           {
            "line": {
             "colorbar": {
              "outlinewidth": 0,
              "ticks": ""
             }
            },
            "type": "parcoords"
           }
          ],
          "pie": [
           {
            "automargin": true,
            "type": "pie"
           }
          ],
          "scatter": [
           {
            "marker": {
             "colorbar": {
              "outlinewidth": 0,
              "ticks": ""
             }
            },
            "type": "scatter"
           }
          ],
          "scatter3d": [
           {
            "line": {
             "colorbar": {
              "outlinewidth": 0,
              "ticks": ""
             }
            },
            "marker": {
             "colorbar": {
              "outlinewidth": 0,
              "ticks": ""
             }
            },
            "type": "scatter3d"
           }
          ],
          "scattercarpet": [
           {
            "marker": {
             "colorbar": {
              "outlinewidth": 0,
              "ticks": ""
             }
            },
            "type": "scattercarpet"
           }
          ],
          "scattergeo": [
           {
            "marker": {
             "colorbar": {
              "outlinewidth": 0,
              "ticks": ""
             }
            },
            "type": "scattergeo"
           }
          ],
          "scattergl": [
           {
            "marker": {
             "colorbar": {
              "outlinewidth": 0,
              "ticks": ""
             }
            },
            "type": "scattergl"
           }
          ],
          "scattermapbox": [
           {
            "marker": {
             "colorbar": {
              "outlinewidth": 0,
              "ticks": ""
             }
            },
            "type": "scattermapbox"
           }
          ],
          "scatterpolar": [
           {
            "marker": {
             "colorbar": {
              "outlinewidth": 0,
              "ticks": ""
             }
            },
            "type": "scatterpolar"
           }
          ],
          "scatterpolargl": [
           {
            "marker": {
             "colorbar": {
              "outlinewidth": 0,
              "ticks": ""
             }
            },
            "type": "scatterpolargl"
           }
          ],
          "scatterternary": [
           {
            "marker": {
             "colorbar": {
              "outlinewidth": 0,
              "ticks": ""
             }
            },
            "type": "scatterternary"
           }
          ],
          "surface": [
           {
            "colorbar": {
             "outlinewidth": 0,
             "ticks": ""
            },
            "colorscale": [
             [
              0,
              "#0d0887"
             ],
             [
              0.1111111111111111,
              "#46039f"
             ],
             [
              0.2222222222222222,
              "#7201a8"
             ],
             [
              0.3333333333333333,
              "#9c179e"
             ],
             [
              0.4444444444444444,
              "#bd3786"
             ],
             [
              0.5555555555555556,
              "#d8576b"
             ],
             [
              0.6666666666666666,
              "#ed7953"
             ],
             [
              0.7777777777777778,
              "#fb9f3a"
             ],
             [
              0.8888888888888888,
              "#fdca26"
             ],
             [
              1,
              "#f0f921"
             ]
            ],
            "type": "surface"
           }
          ],
          "table": [
           {
            "cells": {
             "fill": {
              "color": "#EBF0F8"
             },
             "line": {
              "color": "white"
             }
            },
            "header": {
             "fill": {
              "color": "#C8D4E3"
             },
             "line": {
              "color": "white"
             }
            },
            "type": "table"
           }
          ]
         },
         "layout": {
          "annotationdefaults": {
           "arrowcolor": "#2a3f5f",
           "arrowhead": 0,
           "arrowwidth": 1
          },
          "coloraxis": {
           "colorbar": {
            "outlinewidth": 0,
            "ticks": ""
           }
          },
          "colorscale": {
           "diverging": [
            [
             0,
             "#8e0152"
            ],
            [
             0.1,
             "#c51b7d"
            ],
            [
             0.2,
             "#de77ae"
            ],
            [
             0.3,
             "#f1b6da"
            ],
            [
             0.4,
             "#fde0ef"
            ],
            [
             0.5,
             "#f7f7f7"
            ],
            [
             0.6,
             "#e6f5d0"
            ],
            [
             0.7,
             "#b8e186"
            ],
            [
             0.8,
             "#7fbc41"
            ],
            [
             0.9,
             "#4d9221"
            ],
            [
             1,
             "#276419"
            ]
           ],
           "sequential": [
            [
             0,
             "#0d0887"
            ],
            [
             0.1111111111111111,
             "#46039f"
            ],
            [
             0.2222222222222222,
             "#7201a8"
            ],
            [
             0.3333333333333333,
             "#9c179e"
            ],
            [
             0.4444444444444444,
             "#bd3786"
            ],
            [
             0.5555555555555556,
             "#d8576b"
            ],
            [
             0.6666666666666666,
             "#ed7953"
            ],
            [
             0.7777777777777778,
             "#fb9f3a"
            ],
            [
             0.8888888888888888,
             "#fdca26"
            ],
            [
             1,
             "#f0f921"
            ]
           ],
           "sequentialminus": [
            [
             0,
             "#0d0887"
            ],
            [
             0.1111111111111111,
             "#46039f"
            ],
            [
             0.2222222222222222,
             "#7201a8"
            ],
            [
             0.3333333333333333,
             "#9c179e"
            ],
            [
             0.4444444444444444,
             "#bd3786"
            ],
            [
             0.5555555555555556,
             "#d8576b"
            ],
            [
             0.6666666666666666,
             "#ed7953"
            ],
            [
             0.7777777777777778,
             "#fb9f3a"
            ],
            [
             0.8888888888888888,
             "#fdca26"
            ],
            [
             1,
             "#f0f921"
            ]
           ]
          },
          "colorway": [
           "#636efa",
           "#EF553B",
           "#00cc96",
           "#ab63fa",
           "#FFA15A",
           "#19d3f3",
           "#FF6692",
           "#B6E880",
           "#FF97FF",
           "#FECB52"
          ],
          "font": {
           "color": "#2a3f5f"
          },
          "geo": {
           "bgcolor": "white",
           "lakecolor": "white",
           "landcolor": "#E5ECF6",
           "showlakes": true,
           "showland": true,
           "subunitcolor": "white"
          },
          "hoverlabel": {
           "align": "left"
          },
          "hovermode": "closest",
          "mapbox": {
           "style": "light"
          },
          "paper_bgcolor": "white",
          "plot_bgcolor": "#E5ECF6",
          "polar": {
           "angularaxis": {
            "gridcolor": "white",
            "linecolor": "white",
            "ticks": ""
           },
           "bgcolor": "#E5ECF6",
           "radialaxis": {
            "gridcolor": "white",
            "linecolor": "white",
            "ticks": ""
           }
          },
          "scene": {
           "xaxis": {
            "backgroundcolor": "#E5ECF6",
            "gridcolor": "white",
            "gridwidth": 2,
            "linecolor": "white",
            "showbackground": true,
            "ticks": "",
            "zerolinecolor": "white"
           },
           "yaxis": {
            "backgroundcolor": "#E5ECF6",
            "gridcolor": "white",
            "gridwidth": 2,
            "linecolor": "white",
            "showbackground": true,
            "ticks": "",
            "zerolinecolor": "white"
           },
           "zaxis": {
            "backgroundcolor": "#E5ECF6",
            "gridcolor": "white",
            "gridwidth": 2,
            "linecolor": "white",
            "showbackground": true,
            "ticks": "",
            "zerolinecolor": "white"
           }
          },
          "shapedefaults": {
           "line": {
            "color": "#2a3f5f"
           }
          },
          "ternary": {
           "aaxis": {
            "gridcolor": "white",
            "linecolor": "white",
            "ticks": ""
           },
           "baxis": {
            "gridcolor": "white",
            "linecolor": "white",
            "ticks": ""
           },
           "bgcolor": "#E5ECF6",
           "caxis": {
            "gridcolor": "white",
            "linecolor": "white",
            "ticks": ""
           }
          },
          "title": {
           "x": 0.05
          },
          "xaxis": {
           "automargin": true,
           "gridcolor": "white",
           "linecolor": "white",
           "ticks": "",
           "title": {
            "standoff": 15
           },
           "zerolinecolor": "white",
           "zerolinewidth": 2
          },
          "yaxis": {
           "automargin": true,
           "gridcolor": "white",
           "linecolor": "white",
           "ticks": "",
           "title": {
            "standoff": 15
           },
           "zerolinecolor": "white",
           "zerolinewidth": 2
          }
         }
        }
       }
      },
      "text/html": [
       "<div>\n",
       "        \n",
       "        \n",
       "            <div id=\"b48a9fe7-540b-4eb0-ba63-8c56a01874e7\" class=\"plotly-graph-div\" style=\"height:525px; width:100%;\"></div>\n",
       "            <script type=\"text/javascript\">\n",
       "                require([\"plotly\"], function(Plotly) {\n",
       "                    window.PLOTLYENV=window.PLOTLYENV || {};\n",
       "                    \n",
       "                if (document.getElementById(\"b48a9fe7-540b-4eb0-ba63-8c56a01874e7\")) {\n",
       "                    Plotly.newPlot(\n",
       "                        'b48a9fe7-540b-4eb0-ba63-8c56a01874e7',\n",
       "                        [{\"mode\": \"markers\", \"type\": \"scatter\", \"x\": [25.65, 0.0, 0.0, 0.0, 0.0, 87.3625, 4.2, 0.0, 0.0, 0.0, 0.0, 0.0, 0.0, 0.0, 0.0, 0.0, 0.0, 0.0, 0.0, 0.0, 0.0, 0.0, 0.0, 0.0, 0.0, 0.0, 0.0, 0.0, 0.0, 0.0, 0.0, 0.0, 0.0, 0.0, 134.14285714285717, 0.0, 62.39999999999999, 0.0, 0.0, 0.0, 0.0, 0.0, 0.0, 0.0, 0.0, 0.0, 0.0, 119.4, 0.0, 0.0, 0.0, 3.0833333333333335, 0.0, 0.0, 0.0, 397.73333333333335, 0.0, 0.0, 0.0, 0.0, 0.0, 0.0, 0.0, 0.0, 0.0, 0.0, 0.0, 0.0, 0.0, 0.0, 0.0, 0.0, 0.0, 0.0, 0.0, 0.0, 0.0, 0.0, 0.0, 0.0, 27.0, 0.0, 29.700000000000003, 0.0, 0.0, 0.0, 11.0, 0.0, 0.0, 0.0, 0.0, 0.0, 0.0, 0.0, 0.0, 0.0, 0.0, 0.0, 0.0, 0.0, 8.1, 0.0, 0.0, 0.0, 0.0, 0.0, 0.0, 0.0, 0.0, 170.14999999999998, 0.0, 40.125, 382.4000000000001, 0.0, 0.0, 0.0, 0.0, 0.0, 698.5999999999999, 0.0, 0.0, 0.0, 0.0, 0.0, 0.0, 0.0, 0.0, 0.0, 75.49999999999999, 0.0, 0.0, 0.0, 0.0, 0.0, 0.0, 0.0, 0.0, 0.0, 0.0, 0.0, 0.0, 98.31818181818181, 0.0, 0.0, 0.0, 15.5, 0.0, 0.0, 0.0, 0.0, 0.0, 0.0, 0.0, 0.0, 741.6000000000001, 0.0, 0.0, 0.0, 0.0, 0.0, 0.0, 115.6, 358.90000000000003, 14.0, 0.0, 0.0, 0.0, 0.0, 0.0, 0.0, 61.19999999999999, 122.79999999999998, 0.0, 0.0, 41.599999999999994, 0.0, 0.0, 0.0, 0.0, 0.0, 0.0, 0.0, 0.0, 0.0, 0.0, 0.0, 0.0, 0.0, 0.0, 0.0, 0.0, 0.0, 0.0, 0.0, 0.0, 0.0, 0.0, 0.0, 583.5999999999999, 26.25, 0.0, 0.0, 146.2, 0.0, 0.0, 46.75, 0.0, 0.0, 0.0, 0.0, 0.0, 0.0, 0.0, 0.0, 0.0, 0.0, 0.0, 0.0, 41.599999999999994, 18.4, 0.0, 0.0, 0.0, 391.8, 0.0, 0.0, 0.0, 0.0, 0.0, 0.0, 0.0, 0.0, 0.0, 0.0, 0.0, 37.24999999999999, 0.0, 126.70000000000002, 0.0, 0.0, 25.724999999999994, 38.34999999999999, 0.0, 0.0, 0.0, 0.0, 0.0, 0.0, 0.0, 0.0, 0.0, 0.0, 0.0, 0.0, 0.0, 0.0, 0.0, 0.0, 0.0, 0.0, 38.0, 0.0, 1406.8999999999994, 0.0, 0.0, 0.0, 0.0, 0.0, 0.0, 0.0, 0.0, 0.0, 0.0, 0.0, 0.0, 0.0, 0.0, 0.0, 0.0, 21.45, 0.0, 0.0, 0.0, 0.0, 0.0, 0.0, 0.0, 0.0, 0.0, 0.0, 0.0, 0.0, 32.89999999999999, 0.0, 0.0, 0.0, 0.0, 0.0, 0.0, 0.0, 0.0, 0.0, 0.0, 0.0, 22.8, 0.0, 0.0, 0.0, 9.699999999999994, 0.0, 0.0, 0.0, 0.0, 0.0, 39.89999999999999, 0.0, 0.0, 126.66666666666666, 0.0, 0.0, 0.0, 0.0, 0.0, 0.0, 0.0, 0.0, 0.0, 0.0, 0.0, 0.0, 0.0, 0.0, 0.0, 0.0, 0.0, 0.0, 10.0, 9.600000000000003, 0.0, 0.0, 0.0, 0.0, 0.0, 0.0, 0.0, 16.3, 0.0, 0.0, 0.0, 0.0, 0.0, 0.0, 0.0, 0.0, 0.0, 0.0, 0.0, 0.0, 0.0, 0.0, 0.0, 0.0, 0.0, 0.0, 0.0, 0.0, 0.0, 63.2, 0.0, 0.0, 0.0, 0.0, 0.0, 0.0, 0.0, 0.0, 0.0, 0.0, 0.0, 0.0, 0.0, 0.0, 0.0, 0.0, 0.0, 0.0, 0.0, 0.0, 0.0, 0.0, 19.200000000000003, 0.0, 0.0, 0.0, 0.0, 0.0, 0.0, 0.0, 0.0, 0.0, 0.0, 0.0, 0.0, 0.0, 0.0, 13.380000000000003, 0.0, 0.0, 0.0, 0.0, 0.0, 0.0, 218.5, 172.2000000000001, 9.6, 0.0, 0.0, 0.0, 0.0, 0.0, 0.0, 0.0, 0.0, 0.0, 0.0, 0.0, 0.0, 0.0, 0.0, 0.0, 0.0, 0.0, 0.0, 85.39999999999999, 0.0, 218.2, 0.0, 139.8, 0.0, 0.0, 147.8, 0.0, 0.0, 0.0, 0.0, 0.0, 0.0, 0.0, 67.53333333333332, 0.0, 48.599999999999994, 155.5, 49.3, 0.0, 74.39999999999998, 0.0, 0.0, 0.0, 0.0, 15.3, 0.0, 5.0, 0.0, 0.0, 0.0, 25.9, 0.0, 0.0, 0.0, 0.0, 0.0, 0.0, 64.99999999999997, 0.0, 16.200000000000003, 0.0, 0.0, 0.0, 0.0, 0.0, 0.0, 0.0, 0.0, 0.0, 0.0, 0.0, 427.2000000000001, 0.0, 0.0, 0.0, 253.75, 0.0, 0.0, 280.5, 0.0, 204.0, 0.0, 0.0, 0.0, 0.0, 0.0, 0.0, 0.0, 0.0, 0.0, 0.0, 0.0, 0.0, 0.0, 0.0, 0.0, 0.0, 0.0, 0.0, 0.0, 0.0, 0.0, 0.0, 0.0, 0.0, 0.0, 0.0, 0.0, 0.0, 0.0, 0.0, 0.0, 0.0, 0.0, 0.0, 0.0, 0.0, 0.0, 0.0, 0.0, 0.0, 0.0, 47.75, 0.0, 165.64999999999998, 0.0, 0.0, 0.0, 0.0, 0.0, 0.0, 0.0, 0.0, 0.0, 0.0, 0.0, 0.0, 0.0, 0.0, 0.0, 0.0, 0.0, 0.0, 0.0, 0.0, 0.0, 0.0, 0.0, 0.0, 0.0, 200.40000000000003, 0.0, 0.0, 0.0, 0.0, 1130.4, 0.0, 0.0, 0.0, 0.0, 311.80000000000007, 0.0, 0.0, 64.0, 0.0, 20.833333333333332, 41.39999999999999, 10.500000000000004, 0.0, 0.0, 0.0, 0.0, 0.0, 0.0, 0.0, 0.0, 0.0, 0.0, 76.0, 0.0, 0.0, 0.0, 0.0, 0.0, 0.0, 0.0, 0.0, 0.0, 0.0, 100.69999999999999, 0.0, 56.4, 0.0, 0.0, 0.0, 0.0, 0.0, 0.0, 0.0, 0.0, 0.0, 0.0, 0.0, 141.25, 149.75, 0.0, 0.0, 0.0, 1874.0999999999995, 159.73333333333335, 0.0, 0.0, 235.8, 0.0, 0.0, 0.0, 0.0, 0.0, 0.0, 0.0, 59.0, 0.0, 0.0, 0.0, 311.90000000000003, 0.0, 0.0, 0.0, 0.0, 0.0, 127.19999999999997, 0.0, 87.79999999999998, 0.0, 37.20000000000001, 0.0, 0.0, 0.0, 0.0, 0.0, 0.0, 0.0, 0.0, 0.0, 37.8, 0.0, 0.0, 0.0, 0.0, 0.0, 0.0, 0.0, 0.0, 0.0, 0.0, 0.0, 0.0, 0.0, 0.0, 0.0, 0.0, 0.0, 0.0, 0.0, 0.0, 0.0, 0.0, 59.875, 0.0, 73.9, 0.0, 0.0, 0.0, 0.0, 0.0, 0.0, 0.0, 0.0, 0.0, 0.0, 0.0, 0.0, 0.0, 0.0, 0.0, 0.0, 0.0, 47.25, 0.0, 55.99999999999999, 0.0, 0.0, 0.0, 0.0, 0.0, 0.0, 0.0, 0.0, 0.0, 0.0, 0.0, 0.0, 0.0, 0.0, 0.0, 0.0, 0.0, 0.0, 0.0, 0.0, 0.0, 0.0, 453.6, 0.0, 0.0, 0.0, 87.2, 0.0, 0.0, 0.0, 0.6, 0.0, 0.0, 141.4, 21.150000000000002, 0.0, 0.0, 0.0, 0.0, 3.200000000000001, 0.0, 0.0, 0.0, 0.0, 0.0, 0.0, 0.0, 0.0, 0.0, 0.0, 0.0, 0.0, 0.0, 0.0, 0.0, 33.449999999999996, 0.0, 0.0, 0.0, 0.0, 0.0, 0.0, 0.0, 163.20000000000002, 729.3999999999999, 39.2, 1594.2000000000005, 0.0, 0.0, 0.0, 195.5, 0.0, 0.0, 68.0, 0.0, 0.0, 0.0, 0.0, 0.0, 0.0, 0.0, 0.0, 0.0, 0.0, 0.0, 0.0, 0.0, 0.0, 0.0, 0.0, 0.0, 0.0, 0.0, 0.0, 0.0, 0.0, 106.29999999999998, 0.0, 0.0, 0.0, 0.0, 0.0, 0.0, 62.7, 94.0, 0.0, 0.0, 0.0, 0.0, 973.5, 0.0, 0.0, 1.2, 0.0, 0.0, 0.0, 0.0, 0.0, 0.0, 0.0, 0.0, 0.0, 0.0, 0.0, 0.0, 0.0, 0.0, 0.0, 0.0, 0.0, 0.0, 138.0, 0.0, 0.0, 0.0, 0.0, 0.0, 0.6000000000000001, 0.0, 561.7, 267.0, 0.0, 1.2, 0.0, 0.0, 0.0, 0.0, 0.0, 0.0, 0.0, 0.0, 296.9941176470587, 36.99999999999999, 0.0, 0.0, 0.0, 0.0, 0.0, 0.0, 0.0, 0.0, 0.0, 0.0, 0.0, 0.0, 0.0, 0.0, 0.0, 0.0, 0.0, 0.0, 0.0, 11.600000000000001, 0.0, 122.9, 0.0, 0.0, 188.9, 0.0, 0.0, 0.0, 0.0, 0.0, 0.0, 0.0, 0.0, 0.0, 0.0, 0.0, 14.4, 0.0, 0.0, 0.0, 2390.2, 0.0, 0.0, 0.0, 0.0, 0.0, 0.0, 0.0, 0.0, 0.0, 0.0, 0.0, 0.0, 0.0, 0.0, 0.0, 0.0, 0.0, 0.0, 0.0, 0.0, 0.0, 0.0, 0.0, 0.0, 0.0, 0.0, 0.0, 0.0, 0.0, 0.0, 0.0, 0.0, 0.0, 0.0, 0.0, 0.0, 0.0, 0.0, 0.0, 0.0, 0.0, 0.0, 0.0, 0.0, 0.0, 0.0, 0.0, 32.0, 0.0, 0.0, 0.0, 0.0, 74.59999999999998, 0.0, 0.0, 0.0, 0.0, 6.4, 0.0, 0.0, 0.0, 0.0, 0.0, 0.0, 0.0, 0.0, 0.0, 0.0, 36.5, 0.0, 0.0, 0.0, 0.0, 0.0, 0.0, 0.8, 34.1, 0.0, 0.0, 0.0, 29.0, 0.0, 0.0, 0.0, 0.0, 0.0, 0.0, 236.8, 42.5, 0.0, 0.0, 0.0, 25.65, 0.0, 0.0, 0.0, 0.0, 87.3625, 4.2, 0.0, 0.0, 0.0, 0.0, 0.0, 0.0, 0.0, 0.0, 0.0, 0.0, 0.0, 0.0, 0.0, 0.0, 0.0, 0.0, 0.0, 0.0, 0.0, 0.0, 0.0, 0.0, 0.0, 0.0, 0.0, 0.0, 0.0, 134.14285714285717, 0.0, 62.39999999999999, 0.0, 0.0, 0.0, 0.0, 0.0, 0.0, 0.0, 0.0, 0.0, 0.0, 119.4, 0.0, 0.0, 0.0, 3.0833333333333335, 0.0, 0.0, 0.0, 397.73333333333335, 0.0, 0.0, 0.0, 0.0, 0.0, 0.0, 0.0, 0.0, 0.0, 0.0, 0.0, 0.0, 0.0, 0.0, 0.0, 0.0, 0.0, 0.0, 0.0, 0.0, 0.0, 0.0, 0.0, 0.0, 27.0, 0.0, 29.700000000000003, 0.0, 0.0, 0.0, 11.0, 0.0, 0.0, 0.0, 0.0, 0.0, 0.0, 0.0, 0.0, 0.0, 0.0, 0.0, 0.0, 0.0, 8.1, 0.0, 0.0, 0.0, 0.0, 0.0, 0.0, 0.0, 0.0, 170.14999999999998, 0.0, 40.125, 382.4000000000001, 0.0, 0.0, 0.0, 0.0, 0.0, 698.5999999999999, 0.0, 0.0, 0.0, 0.0, 0.0, 0.0, 0.0, 0.0, 0.0, 75.49999999999999, 0.0, 0.0, 0.0, 0.0, 0.0, 0.0, 0.0, 0.0, 0.0, 0.0, 0.0, 0.0, 98.31818181818181, 0.0, 0.0, 0.0, 15.5, 0.0, 0.0, 0.0, 0.0, 0.0, 0.0, 0.0, 0.0, 741.6000000000001, 0.0, 0.0, 0.0, 0.0, 0.0, 0.0, 115.6, 358.90000000000003, 14.0, 0.0, 0.0, 0.0, 0.0, 0.0, 0.0, 61.19999999999999, 122.79999999999998, 0.0, 0.0, 41.599999999999994, 0.0, 0.0, 0.0, 0.0, 0.0, 0.0, 0.0, 0.0, 0.0, 0.0, 0.0, 0.0, 0.0, 0.0, 0.0, 0.0, 0.0, 0.0, 0.0, 0.0, 0.0, 0.0, 0.0, 583.5999999999999, 26.25, 0.0, 0.0, 146.2, 0.0, 0.0, 46.75, 0.0, 0.0, 0.0, 0.0, 0.0, 0.0, 0.0, 0.0, 0.0, 0.0, 0.0, 0.0, 41.599999999999994, 18.4, 0.0, 0.0, 0.0, 391.8, 0.0, 0.0, 0.0, 0.0, 0.0, 0.0, 0.0, 0.0, 0.0, 0.0, 0.0, 37.24999999999999, 0.0, 126.70000000000002, 0.0, 0.0, 25.724999999999994, 38.34999999999999, 0.0, 0.0, 0.0, 0.0, 0.0, 0.0, 0.0, 0.0, 0.0, 0.0, 0.0, 0.0, 0.0, 0.0, 0.0, 0.0, 0.0, 0.0, 38.0, 0.0, 1406.8999999999994, 0.0, 0.0, 0.0, 0.0, 0.0, 0.0, 0.0, 0.0, 0.0, 0.0, 0.0, 0.0, 0.0, 0.0, 0.0, 0.0, 21.45, 0.0, 0.0, 0.0, 0.0, 0.0, 0.0, 0.0, 0.0, 0.0, 0.0, 0.0, 0.0, 32.89999999999999, 0.0, 0.0, 0.0, 0.0, 0.0, 0.0, 0.0, 0.0, 0.0, 0.0, 0.0, 22.8, 0.0, 0.0, 0.0, 9.699999999999994, 0.0, 0.0, 0.0, 0.0, 0.0, 39.89999999999999, 0.0, 0.0, 126.66666666666666, 0.0, 0.0, 0.0, 0.0, 0.0, 0.0, 0.0, 0.0, 0.0, 0.0, 0.0, 0.0, 0.0, 0.0, 0.0, 0.0, 0.0, 0.0, 10.0, 9.600000000000003, 0.0, 0.0, 0.0, 0.0, 0.0, 0.0, 0.0, 16.3, 0.0, 0.0, 0.0, 0.0, 0.0, 0.0, 0.0, 0.0, 0.0, 0.0, 0.0, 0.0, 0.0, 0.0, 0.0, 0.0, 0.0, 0.0, 0.0, 0.0, 0.0, 63.2, 0.0, 0.0, 0.0, 0.0, 0.0, 0.0, 0.0, 0.0, 0.0, 0.0, 0.0, 0.0, 0.0, 0.0, 0.0, 0.0, 0.0, 0.0, 0.0, 0.0, 0.0, 0.0, 19.200000000000003, 0.0, 0.0, 0.0, 0.0, 0.0, 0.0, 0.0, 0.0, 0.0, 0.0, 0.0, 0.0, 0.0, 0.0, 13.380000000000003, 0.0, 0.0, 0.0, 0.0, 0.0, 0.0, 218.5, 172.2000000000001, 9.6, 0.0, 0.0, 0.0, 0.0, 0.0, 0.0, 0.0, 0.0, 0.0, 0.0, 0.0, 0.0, 0.0, 0.0, 0.0, 0.0, 0.0, 0.0, 85.39999999999999, 0.0, 218.2, 0.0, 139.8, 0.0, 0.0, 147.8, 0.0, 0.0, 0.0, 0.0, 0.0, 0.0, 0.0, 67.53333333333332, 0.0, 48.599999999999994, 155.5, 49.3, 0.0, 74.39999999999998, 0.0, 0.0, 0.0, 0.0, 15.3, 0.0, 5.0, 0.0, 0.0, 0.0, 25.9, 0.0, 0.0, 0.0, 0.0, 0.0, 0.0, 64.99999999999997, 0.0, 16.200000000000003, 0.0, 0.0, 0.0, 0.0, 0.0, 0.0, 0.0, 0.0, 0.0, 0.0, 0.0, 427.2000000000001, 0.0, 0.0, 0.0, 253.75, 0.0, 0.0, 280.5, 0.0, 204.0, 0.0, 0.0, 0.0, 0.0, 0.0, 0.0, 0.0, 0.0, 0.0, 0.0, 0.0, 0.0, 0.0, 0.0, 0.0, 0.0, 0.0, 0.0, 0.0, 0.0, 0.0, 0.0, 0.0, 0.0, 0.0, 0.0, 0.0, 0.0, 0.0, 0.0, 0.0, 0.0, 0.0, 0.0, 0.0, 0.0, 0.0, 0.0, 0.0, 0.0, 0.0, 47.75, 0.0, 165.64999999999998, 0.0, 0.0, 0.0, 0.0, 0.0, 0.0, 0.0, 0.0, 0.0, 0.0, 0.0, 0.0, 0.0, 0.0, 0.0, 0.0, 0.0, 0.0, 0.0, 0.0, 0.0, 0.0, 0.0, 0.0, 0.0, 200.40000000000003, 0.0, 0.0, 0.0, 0.0, 1130.4, 0.0, 0.0, 0.0, 0.0, 311.80000000000007, 0.0, 0.0, 64.0, 0.0, 20.833333333333332, 41.39999999999999, 10.500000000000004, 0.0, 0.0, 0.0, 0.0, 0.0, 0.0, 0.0, 0.0, 0.0, 0.0, 76.0, 0.0, 0.0, 0.0, 0.0, 0.0, 0.0, 0.0, 0.0, 0.0, 0.0, 100.69999999999999, 0.0, 56.4, 0.0, 0.0, 0.0, 0.0, 0.0, 0.0, 0.0, 0.0, 0.0, 0.0, 0.0, 141.25, 149.75, 0.0, 0.0, 0.0, 1874.0999999999995, 159.73333333333335, 0.0, 0.0, 235.8, 0.0, 0.0, 0.0, 0.0, 0.0, 0.0, 0.0, 59.0, 0.0, 0.0, 0.0, 311.90000000000003, 0.0, 0.0, 0.0, 0.0, 0.0, 127.19999999999997, 0.0, 87.79999999999998, 0.0, 37.20000000000001, 0.0, 0.0, 0.0, 0.0, 0.0, 0.0, 0.0, 0.0, 0.0, 37.8, 0.0, 0.0, 0.0, 0.0, 0.0, 0.0, 0.0, 0.0, 0.0, 0.0, 0.0, 0.0, 0.0, 0.0, 0.0, 0.0, 0.0, 0.0, 0.0, 0.0, 0.0, 0.0, 59.875, 0.0, 73.9, 0.0, 0.0, 0.0, 0.0, 0.0, 0.0, 0.0, 0.0, 0.0, 0.0, 0.0, 0.0, 0.0, 0.0, 0.0, 0.0, 0.0, 47.25, 0.0, 55.99999999999999, 0.0, 0.0, 0.0, 0.0, 0.0, 0.0, 0.0, 0.0, 0.0, 0.0, 0.0, 0.0, 0.0, 0.0, 0.0, 0.0, 0.0, 0.0, 0.0, 0.0, 0.0, 0.0, 453.6, 0.0, 0.0, 0.0, 87.2, 0.0, 0.0, 0.0, 0.6, 0.0, 0.0, 141.4, 21.150000000000002, 0.0, 0.0, 0.0, 0.0, 3.200000000000001, 0.0, 0.0, 0.0, 0.0, 0.0, 0.0, 0.0, 0.0, 0.0, 0.0, 0.0, 0.0, 0.0, 0.0, 0.0, 33.449999999999996, 0.0, 0.0, 0.0, 0.0, 0.0, 0.0, 0.0, 163.20000000000002, 729.3999999999999, 39.2, 1594.2000000000005, 0.0, 0.0, 0.0, 195.5, 0.0, 0.0, 68.0, 0.0, 0.0, 0.0, 0.0, 0.0, 0.0, 0.0, 0.0, 0.0, 0.0, 0.0, 0.0, 0.0, 0.0, 0.0, 0.0, 0.0, 0.0, 0.0, 0.0, 0.0, 0.0, 106.29999999999998, 0.0, 0.0, 0.0, 0.0, 0.0, 0.0, 62.7, 94.0, 0.0, 0.0, 0.0, 0.0, 973.5, 0.0, 0.0, 1.2, 0.0, 0.0, 0.0, 0.0, 0.0, 0.0, 0.0, 0.0, 0.0, 0.0, 0.0, 0.0, 0.0, 0.0, 0.0, 0.0, 0.0, 0.0, 138.0, 0.0, 0.0, 0.0, 0.0, 0.0, 0.6000000000000001, 0.0, 561.7, 267.0, 0.0, 1.2, 0.0, 0.0, 0.0, 0.0, 0.0, 0.0, 0.0, 0.0, 296.9941176470587, 36.99999999999999, 0.0, 0.0, 0.0, 0.0, 0.0, 0.0, 0.0, 0.0, 0.0, 0.0, 0.0, 0.0, 0.0, 0.0, 0.0, 0.0, 0.0, 0.0, 0.0, 11.600000000000001, 0.0, 122.9, 0.0, 0.0, 188.9, 0.0, 0.0, 0.0, 0.0, 0.0, 0.0, 0.0, 0.0, 0.0, 0.0, 0.0, 14.4, 0.0, 0.0, 0.0, 2390.2, 0.0, 0.0, 0.0, 0.0, 0.0, 0.0, 0.0, 0.0, 0.0, 0.0, 0.0, 0.0, 0.0, 0.0, 0.0, 0.0, 0.0, 0.0, 0.0, 0.0, 0.0, 0.0, 0.0, 0.0, 0.0, 0.0, 0.0, 0.0, 0.0, 0.0, 0.0, 0.0, 0.0, 0.0, 0.0, 0.0, 0.0, 0.0, 0.0, 0.0, 0.0, 0.0, 0.0, 0.0, 0.0, 0.0, 0.0, 32.0, 0.0, 0.0, 0.0, 0.0, 74.59999999999998, 0.0, 0.0, 0.0, 0.0, 6.4, 0.0, 0.0, 0.0, 0.0, 0.0, 0.0, 0.0, 0.0, 0.0, 0.0, 36.5, 0.0, 0.0, 0.0, 0.0, 0.0, 0.0, 0.8, 34.1, 0.0, 0.0, 0.0, 29.0, 0.0, 0.0, 0.0, 0.0, 0.0, 0.0, 236.8, 42.5, 0.0, 0.0, 0.0], \"y\": [1.48, 1.09, 1.12, 2.1, 0.89, 0.58, 0.69, 2.48, 1.33, 1.47, 1.83, 2.81, 1.42, 2.0, 1.09, 0.73, 1.0, 1.22, 1.39, 0.76, 0.57, 1.83, 0.78, 1.21, 0.46, 1.65, 1.38, 2.61, 1.03, 2.24, 1.29, 1.5, 1.03, 1.33, 1.07, 3.69, 0.89, 0.8, 1.72, 1.47, 2.72, 3.86, 1.68, 0.94, 1.26, 2.74, 2.58, 1.12, 0.94, 4.18, 1.55, 0.85, 0.89, 2.27, 1.47, 1.4, 1.83, 1.9, 1.63, 2.45, 1.32, 1.76, 1.14, 1.5, 1.32, 1.32, 1.52, 1.44, 0.55, 1.16, 1.21, 1.23, 3.94, 1.83, 1.79, 2.57, 2.63, 1.29, 1.34, 0.67, 0.71, 1.03, 1.83, 1.34, 2.56, 2.67, 1.31, 2.0, 1.24, 2.52, 1.09, 2.0, 1.07, 1.04, 0.75, 6.33, 1.26, 2.28, 1.94, 3.69, 2.19, 2.86, 1.24, 0.78, 1.11, 1.54, 1.0, 1.67, 2.53, 1.68, 1.36, 1.7, 1.92, 0.63, 2.05, 1.57, 0.93, 0.85, 1.03, 0.85, 0.8, 0.83, 1.11, 1.79, 0.45, 1.44, 1.73, 1.61, 0.71, 0.95, 1.45, 2.32, 1.46, 0.9, 3.71, 1.71, 1.19, 1.81, 1.44, 2.24, 2.05, 2.37, 2.04, 2.82, 1.83, 1.95, 1.52, 1.31, 1.31, 1.96, 1.06, 1.57, 2.44, 0.92, 1.93, 1.57, 1.33, 0.78, 1.38, 1.82, 1.33, 2.93, 1.61, 0.83, 1.43, 0.93, 0.77, 1.96, 1.15, 2.68, 2.17, 1.19, 2.24, 1.19, 1.41, 2.78, 1.52, 1.5, 0.61, 0.77, 2.05, 0.97, 0.76, 1.94, 2.87, 0.85, 2.69, 2.17, 1.65, 2.5, 1.26, 1.31, 1.37, 1.22, 1.09, 2.6, 1.43, 1.14, 1.0, 1.55, 0.97, 1.58, 0.82, 0.89, 2.67, 0.88, 3.15, 1.95, 0.63, 1.67, 1.7, 2.15, 0.58, 1.95, 1.79, 1.42, 2.35, 1.16, 0.91, 1.96, 4.07, 1.06, 3.12, 2.94, 1.71, 3.75, 1.12, 1.8, 1.56, 4.82, 0.85, 1.6, 0.76, 1.11, 1.21, 0.57, 1.25, 2.05, 1.32, 2.0, 0.71, 1.22, 1.15, 2.3, 1.39, 1.34, 0.66, 3.25, 1.22, 1.08, 1.96, 1.42, 1.0, 1.1, 3.38, 1.55, 1.04, 2.05, 1.52, 1.12, 1.68, 2.68, 1.82, 1.17, 1.15, 2.0, 1.44, 1.43, 2.58, 2.11, 3.5, 0.85, 1.58, 1.08, 1.52, 1.91, 1.06, 1.0, 1.54, 1.06, 2.76, 1.24, 1.43, 1.1, 1.8, 0.8, 1.67, 1.78, 0.54, 0.97, 1.57, 1.25, 1.24, 2.0, 1.52, 1.9, 1.17, 1.13, 2.95, 1.03, 1.5, 1.46, 0.59, 2.33, 0.97, 1.24, 1.74, 2.08, 1.46, 1.54, 1.36, 2.2, 1.15, 1.6, 1.96, 2.19, 0.86, 1.25, 1.16, 1.06, 2.63, 1.81, 1.16, 2.26, 1.35, 0.91, 2.18, 1.67, 1.0, 1.21, 1.76, 1.52, 1.12, 1.07, 0.72, 1.85, 1.33, 0.91, 1.65, 2.33, 2.76, 0.87, 1.06, 2.06, 1.79, 1.58, 1.48, 1.06, 2.64, 2.75, 1.03, 1.68, 2.93, 0.92, 0.66, 0.71, 1.08, 1.43, 1.42, 1.36, 2.09, 1.43, 0.74, 0.53, 1.25, 1.95, 1.65, 2.94, 1.14, 2.05, 1.09, 1.3, 1.7, 0.78, 1.24, 1.1, 2.6, 0.82, 1.22, 2.38, 1.79, 0.97, 1.68, 1.68, 2.94, 2.29, 2.61, 0.94, 2.73, 1.34, 1.43, 2.36, 1.43, 1.32, 1.06, 1.19, 1.03, 1.26, 1.96, 2.17, 2.68, 1.21, 1.8, 1.3, 1.59, 3.77, 1.23, 1.8, 1.25, 1.55, 1.3, 1.38, 1.19, 1.3, 1.22, 1.07, 1.72, 2.22, 0.93, 1.74, 1.32, 1.23, 0.79, 3.64, 1.33, 1.23, 1.16, 0.88, 1.05, 1.5, 1.45, 2.22, 2.68, 1.27, 2.88, 0.5, 0.97, 1.19, 1.11, 1.7, 3.58, 1.09, 2.04, 1.38, 1.08, 1.45, 2.92, 1.12, 1.61, 0.76, 1.41, 1.37, 3.29, 1.71, 0.81, 1.88, 0.85, 0.56, 1.04, 0.96, 1.91, 1.0, 1.52, 1.04, 2.13, 1.39, 0.65, 2.32, 1.26, 1.57, 1.04, 5.22, 0.94, 2.73, 0.62, 2.53, 1.5, 1.0, 4.0, 0.83, 0.85, 2.05, 1.58, 1.28, 2.87, 1.48, 0.81, 1.24, 0.97, 1.0, 1.93, 1.38, 1.48, 1.03, 0.73, 1.76, 0.78, 2.05, 1.91, 1.48, 1.36, 1.07, 1.5, 1.46, 1.58, 1.07, 2.6, 0.71, 1.59, 1.46, 0.9, 1.15, 0.74, 2.32, 1.64, 1.42, 1.59, 2.0, 2.0, 2.59, 1.07, 1.8, 2.6, 1.26, 1.14, 0.91, 1.54, 1.16, 1.41, 1.41, 1.48, 1.68, 2.65, 1.23, 1.03, 2.86, 1.04, 0.92, 1.4, 1.27, 1.15, 2.06, 1.27, 1.0, 0.97, 1.68, 0.63, 2.47, 0.77, 0.97, 2.05, 0.76, 0.89, 0.91, 2.82, 1.58, 0.91, 2.57, 1.32, 2.0, 1.48, 3.19, 2.59, 1.41, 0.86, 1.45, 2.53, 1.12, 2.67, 3.08, 1.9, 1.03, 0.91, 1.29, 2.35, 1.68, 1.12, 2.73, 1.15, 0.93, 1.68, 1.0, 2.89, 2.18, 1.16, 1.03, 1.42, 0.9, 2.16, 1.84, 1.69, 0.94, 1.19, 0.84, 2.17, 1.19, 0.77, 1.54, 2.31, 1.36, 3.56, 1.0, 2.48, 1.03, 0.48, 1.6, 1.08, 2.35, 0.97, 1.6, 0.94, 0.62, 1.95, 1.08, 2.29, 0.94, 0.88, 0.59, 1.68, 0.77, 1.68, 1.58, 1.11, 1.59, 1.21, 1.86, 2.26, 2.87, 2.14, 1.32, 0.55, 0.66, 2.19, 0.97, 0.97, 1.6, 0.83, 1.58, 3.29, 1.64, 1.1, 2.26, 2.41, 2.09, 2.0, 2.35, 1.76, 0.96, 2.0, 1.13, 1.33, 1.77, 1.82, 0.88, 0.83, 1.22, 1.03, 2.67, 1.03, 2.18, 1.64, 0.97, 1.12, 1.75, 1.13, 1.16, 1.32, 2.38, 1.35, 2.05, 2.0, 2.53, 1.5, 1.28, 1.25, 1.04, 1.54, 2.11, 0.85, 1.42, 1.33, 2.14, 1.71, 1.33, 0.76, 1.96, 1.17, 0.55, 1.32, 1.42, 1.46, 0.89, 0.82, 1.44, 1.1, 1.4, 0.75, 1.0, 1.91, 1.58, 1.32, 1.33, 1.73, 0.8, 0.3, 0.82, 3.08, 1.15, 1.74, 0.79, 1.19, 1.52, 1.26, 0.97, 1.03, 1.75, 1.59, 3.94, 1.48, 1.48, 1.95, 0.97, 1.07, 0.91, 2.0, 0.83, 0.87, 1.33, 2.52, 1.42, 2.12, 1.03, 2.05, 1.65, 1.94, 1.34, 1.67, 0.93, 0.87, 1.38, 1.25, 0.83, 1.04, 1.03, 1.54, 1.37, 0.91, 1.42, 1.23, 0.86, 1.9, 1.8, 1.85, 1.45, 0.76, 2.05, 0.91, 1.08, 0.76, 2.06, 1.11, 1.93, 0.63, 1.24, 1.32, 1.42, 1.45, 1.37, 1.21, 1.21, 2.5, 1.07, 1.22, 1.32, 3.36, 1.62, 2.35, 2.64, 0.93, 1.25, 2.22, 3.71, 1.74, 1.5, 0.88, 1.68, 1.88, 1.65, 2.32, 4.77, 1.59, 0.65, 2.14, 1.0, 1.19, 1.25, 1.96, 1.09, 1.38, 1.29, 1.9, 1.64, 0.6, 2.21, 1.95, 1.54, 1.92, 10.0, 1.2, 0.61, 1.12, 1.67, 0.71, 1.09, 3.53, 1.84, 1.79, 0.93, 0.88, 1.31, 3.94, 1.21, 0.95, 2.19, 1.0, 2.18, 1.71, 3.21, 4.9, 1.68, 2.1, 0.49, 1.17, 1.28, 1.68, 1.04, 1.39, 0.62, 1.04, 1.0, 2.0, 1.71, 0.72, 1.45, 1.07, 2.76, 1.91, 3.46, 2.48, 1.43, 1.42, 1.19, 0.94, 1.95, 1.41, 2.69, 0.71, 1.86, 1.0, 2.24, 2.14, 1.87, 1.78, 2.04, 0.68, 2.09, 1.41, 1.84, 1.83, 1.71, 1.77, 0.81, 1.42, 2.21, 0.59, 2.71, 1.0, 0.91, 1.35, 3.31, 2.0, 3.79, 1.23, 1.56, 2.05, 1.24, 2.0, 2.44, 0.76, 2.5, 1.89, 0.93, 1.92, 1.12, 1.0, 3.2, 2.2, 1.28, 1.12, 1.41, 1.95, 0.97, 1.45, 1.62, 0.78, 1.36, 1.38, 1.55, 2.06, 1.79, 0.75, 1.9, 1.86, 2.81, 1.28, 1.06, 2.06, 0.4, 0.92, 1.58, 1.28, 0.73, 1.45, 0.68, 1.77, 0.89, 0.56, 2.84, 1.71, 1.09, 0.89, 0.63, 0.58, 1.11, 2.25, 1.5, 3.07, 1.03, 1.34, 1.29, 1.5, 1.44, 0.82, 1.25, 2.21, 1.74, 1.46, 2.22, 0.92, 1.0, 1.29, 1.34, 2.65, 1.36, 1.41, 1.81, 0.84, 0.71, 1.38, 0.83, 1.29, 0.94, 1.26, 1.5, 1.72, 2.0, 1.14, 1.83, 1.68, 1.24, 1.38, 2.1, 1.58, 1.58, 0.55, 2.12, 1.32, 2.58, 1.44, 0.52, 0.77, 1.04, 0.89, 0.72, 0.88, 0.61, 2.94, 1.33, 1.52, 3.06, 1.43, 1.68, 0.82, 1.47, 1.0, 2.18, 3.25, 1.25, 1.21, 2.5, 1.94, 1.48, 1.17, 0.59, 1.54, 3.25, 2.18, 2.18, 2.52, 5.08, 1.28, 1.43, 2.29, 2.54, 0.92, 3.18, 0.69, 1.68, 1.8, 2.81, 1.19, 1.24, 1.3, 2.55, 1.23, 1.67, 0.81, 1.8, 1.54, 1.8, 1.75, 1.17, 1.1, 1.65, 0.72, 0.7, 0.88, 2.39, 2.72, 0.97, 0.74, 1.59, 3.41, 2.13, 1.79, 1.83, 0.8, 1.33, 2.19, 1.06, 1.0, 2.29, 1.07, 1.94, 1.04, 2.4, 1.96, 0.9, 1.42, 2.29, 2.28, 0.88, 0.92, 0.95, 1.52, 2.06, 1.42, 1.04, 2.33, 1.39, 2.65, 2.26, 2.11, 1.27, 1.42, 0.97, 1.28, 1.19, 3.24, 2.36, 1.7, 1.7, 0.76, 1.59, 1.71, 2.16, 1.41, 1.35, 1.0, 1.15, 1.47, 1.31, 1.28, 0.68, 1.7, 2.69, 3.77, 3.14, 1.42, 1.86, 1.9, 1.24, 1.0, 2.1, 2.2, 1.06, 2.38, 1.0, 1.19, 1.34, 2.12, 0.86, 2.79, 2.73, 1.43, 1.7, 2.42, 1.83, 1.25, 3.36, 2.64, 1.09, 1.52, 0.97, 1.2, 1.46, 1.48, 0.94, 0.74, 1.67, 2.23, 3.64, 0.79, 2.0, 1.1, 1.63, 1.57, 1.42, 0.91, 1.24, 1.26, 2.1, 0.77, 1.16, 2.92, 0.78, 0.93, 1.54, 2.25, 0.9, 1.31, 1.38, 0.78, 1.07, 4.15, 0.78, 3.18, 4.5, 1.95, 6.78, 1.88, 1.34, 1.43, 1.52, 4.85, 2.81, 1.48, 1.58, 2.21, 1.73, 1.88, 0.7, 1.95, 1.57, 0.88, 1.28, 2.61, 1.27, 1.35, 0.71, 0.78, 2.29, 1.25, 1.62, 1.19, 3.46, 1.58, 1.18, 2.0, 2.67, 1.06, 3.0, 1.3, 2.58, 2.18, 1.74, 1.55, 1.0, 1.03, 1.81, 1.64, 1.62, 0.95, 2.1, 1.16, 0.88, 1.86, 1.08, 1.0, 2.06, 1.52, 1.92, 1.89, 0.69, 1.33, 1.96, 2.23, 2.67, 1.41, 1.57, 0.69, 0.83, 1.57, 1.9, 1.6, 0.72, 1.29, 1.56, 0.82, 1.85, 1.16, 2.24, 1.04, 2.62, 2.18, 2.86, 1.15, 2.38, 0.82, 1.62, 2.39, 0.81, 2.15, 2.18, 1.31, 0.94, 1.15, 1.03, 1.23, 1.0, 1.7, 1.42, 1.19, 1.5, 2.06, 1.38, 1.22, 1.65, 1.25, 1.74, 1.17, 1.31, 1.68, 1.0, 1.46, 1.73, 1.61, 2.16, 2.75, 3.54, 3.06, 1.13, 2.75, 1.54, 2.25, 1.17, 4.73, 1.78, 1.21, 1.59, 2.55, 1.3, 1.61, 1.91, 2.0, 1.39, 1.32, 1.5, 0.78, 0.79, 4.8, 2.41, 2.0, 3.13, 1.1, 2.23, 1.88, 3.33, 2.06, 2.11, 0.94, 1.25, 1.48, 1.39, 1.21, 1.45, 1.27, 0.94, 3.0, 2.5, 0.83, 2.16, 1.27, 1.71, 2.39, 0.74, 3.21, 2.41, 0.97, 2.32, 0.96, 1.68, 2.6, 0.92, 3.25, 1.19, 1.84, 1.5, 2.53, 1.03, 1.92, 1.92, 3.27, 1.35, 0.63, 0.88, 2.56, 1.09, 2.64, 1.59, 2.06, 1.42, 1.41, 1.16, 2.23, 1.5, 3.67, 1.81, 1.86, 1.96, 0.8, 0.93, 2.0, 1.68, 4.67, 1.9, 2.05, 1.73, 1.06, 3.0, 1.69, 2.06, 2.5, 1.96, 5.4, 1.92, 2.33, 1.16, 3.17, 2.76, 0.72, 1.31, 1.57, 1.44, 1.96, 1.54, 1.0, 1.52, 2.21, 1.1, 2.62, 2.05, 0.85, 1.31, 1.03, 2.62, 1.65, 4.29, 2.1, 1.04, 1.18, 1.44, 1.54, 1.39, 1.96, 0.85, 1.32, 2.25, 1.35, 1.59, 1.18, 1.46, 1.36, 2.0, 1.34, 1.85, 2.42, 1.24, 2.31, 2.84, 0.72, 3.36, 2.55, 0.78, 0.78, 1.72, 1.88, 2.0, 1.77, 2.0, 1.28, 2.83, 1.56, 0.78, 1.37, 2.69, 0.64, 3.33, 1.37, 0.93, 3.0, 1.96, 1.3, 2.29, 3.0, 1.15, 1.57, 0.81, 1.35, 0.79, 2.2, 0.84, 1.94, 0.64, 1.26, 1.42, 1.14, 2.62, 6.11, 1.0, 1.62, 1.28, 1.6, 3.86, 2.29, 0.67, 1.16, 1.57, 1.48, 1.95, 1.5, 1.21, 0.7, 2.11, 1.7, 1.75, 0.87, 1.23, 1.42, 1.19, 2.52, 0.78, 1.54, 0.85, 2.32, 2.57, 2.37, 0.86, 1.67, 1.3, 1.52, 1.0, 2.32, 1.81, 3.07, 2.5, 2.17, 3.31, 1.46, 1.37, 1.14, 0.59, 1.21, 1.6, 1.3, 1.06, 2.43, 0.68, 2.19, 1.79, 0.94, 1.74, 1.58, 2.93, 1.52, 0.43, 2.64, 2.78, 0.57, 1.21, 1.74, 1.09, 1.67, 0.69, 3.73, 1.81, 1.55, 0.77, 2.14, 1.22, 1.67, 0.82, 3.06, 1.32, 2.0, 2.88, 1.16, 1.21, 3.71, 0.74, 1.47, 3.86, 0.75, 0.9, 1.12, 1.87, 1.11, 2.47, 1.37, 2.29, 4.56, 1.09, 3.2, 2.76, 2.27, 1.0, 1.04, 2.92, 0.76, 1.13, 1.46, 0.68, 0.78, 1.1, 1.23, 1.22, 1.36, 1.07, 0.95, 1.93, 0.8, 1.75, 2.53, 1.32, 0.96, 1.87, 1.79, 2.2, 1.44, 2.14, 1.9, 1.59, 3.29, 0.43, 1.62, 0.72, 1.32, 1.11, 1.16, 1.23, 1.1, 0.4, 1.77, 1.67, 2.95, 1.58, 2.5, 2.05, 0.8, 0.74, 1.42, 0.69, 1.8, 1.61, 1.8, 1.3, 1.12, 1.18, 0.78, 2.92, 1.33, 2.2, 2.12, 0.67, 2.11, 1.27, 1.55, 2.59, 2.47, 1.26, 3.43, 1.54, 1.43, 1.1, 0.88, 1.67, 1.1, 1.0, 0.62, 1.19, 1.29, 2.14, 2.35, 1.22, 1.33, 1.2, 0.58, 2.11, 2.45, 0.75, 1.61, 1.89, 1.29, 1.0, 1.64, 0.57, 0.78, 1.33, 1.1, 1.24, 2.37, 2.43, 1.03, 1.62, 1.81, 1.67, 1.31, 2.25, 2.17, 1.48, 0.74, 1.24, 2.0, 2.38, 0.97, 1.41, 1.82, 1.12, 1.9, 0.87, 1.58, 1.0, 0.84, 1.14, 1.39, 1.96, 1.13, 0.96, 0.89, 2.11, 0.97, 2.69, 2.06, 1.17, 1.59, 2.35, 1.25, 1.56, 2.11, 1.14, 1.54, 0.97, 1.15, 1.11, 1.46, 1.87, 1.3, 3.18, 2.48, 1.59, 1.33, 1.5, 1.85, 1.82, 2.47, 0.47, 2.43, 0.87, 1.77, 1.18, 1.29, 4.09, 2.44, 1.5, 1.14, 1.38, 1.62, 1.07, 1.31, 4.5, 0.66, 3.2, 1.73, 2.48, 2.42, 1.48, 1.67, 1.55, 1.46, 1.5, 1.29, 0.58, 2.18, 1.21, 0.97, 0.91, 1.46, 0.93, 1.38, 1.85, 1.68, 2.47, 1.83, 2.16, 1.3, 1.6, 1.45, 1.86, 2.3, 0.89, 1.2, 0.94, 1.46, 1.57, 1.3, 0.96, 1.0, 2.4, 2.17, 2.5, 0.97, 1.33, 1.23, 1.5, 1.42, 1.3, 1.18, 1.09, 2.56, 1.77, 1.32, 1.5, 1.31, 1.44, 1.12, 0.9, 1.27, 1.04, 0.78, 1.59, 2.44, 1.44, 0.74, 1.36, 2.64, 2.61, 1.16, 2.83, 1.22, 0.96, 1.26, 2.08, 1.35, 1.23, 1.87, 3.06, 1.22, 1.61, 2.94, 1.77, 1.1, 1.92, 1.46, 3.62, 1.27, 0.69, 1.21, 1.4, 0.66, 3.31, 2.88, 1.6, 1.19, 1.95, 1.37, 2.16, 3.24, 1.91, 2.28, 1.65, 2.5, 1.34, 2.64, 1.44, 2.45, 0.79, 1.38, 1.81, 1.21, 1.57, 1.8, 2.86, 1.12, 2.44, 1.68, 2.36, 3.0, 3.76, 3.29, 2.68, 2.62, 1.81, 1.25, 1.18, 1.11, 2.39, 1.19, 2.15, 2.35, 0.62, 1.11, 1.1, 1.75, 1.83, 0.69, 2.41, 0.89, 1.61, 1.09, 2.12, 0.83, 0.86, 1.06, 0.82, 1.37, 1.5, 0.71, 1.84, 0.68, 1.78, 2.56, 1.7, 1.77, 0.81, 2.05, 1.6, 1.36, 2.56, 1.21, 2.11, 0.43, 1.26, 1.0, 1.86, 0.84, 1.03, 1.74, 0.79, 2.04, 1.45, 1.81, 0.95, 2.1, 1.38, 2.0, 2.0, 1.67, 0.85, 1.32, 2.11, 1.76, 0.97, 1.55, 2.08, 0.61, 2.84, 1.87, 1.15, 1.83, 0.61, 1.2, 2.37, 1.04, 0.82, 1.43, 1.39, 2.69, 1.17, 2.38, 3.57, 2.62, 1.32, 1.27, 0.9, 1.0, 1.6, 3.0, 4.36, 2.45, 3.07, 2.16, 3.31, 2.18, 0.64, 1.23, 0.79, 1.08, 0.89, 2.22, 1.57, 0.91, 3.75, 1.68, 1.26, 1.58, 0.6, 0.7, 1.3, 1.0, 4.67, 3.38, 1.16, 1.38, 1.77, 2.56, 1.41, 0.94, 3.54, 2.04, 2.0, 2.47, 0.96, 3.69, 1.76, 1.83, 2.15, 0.7, 1.5, 1.1, 0.88, 1.0, 1.65, 0.77, 2.43, 2.05, 1.75, 1.83, 2.12, 1.22, 2.05, 1.24, 1.15, 2.53, 2.56, 1.91, 0.88, 1.6, 0.52, 0.97, 1.95, 1.03, 1.27]}],\n",
       "                        {\"template\": {\"data\": {\"bar\": [{\"error_x\": {\"color\": \"#2a3f5f\"}, \"error_y\": {\"color\": \"#2a3f5f\"}, \"marker\": {\"line\": {\"color\": \"#E5ECF6\", \"width\": 0.5}}, \"type\": \"bar\"}], \"barpolar\": [{\"marker\": {\"line\": {\"color\": \"#E5ECF6\", \"width\": 0.5}}, \"type\": \"barpolar\"}], \"carpet\": [{\"aaxis\": {\"endlinecolor\": \"#2a3f5f\", \"gridcolor\": \"white\", \"linecolor\": \"white\", \"minorgridcolor\": \"white\", \"startlinecolor\": \"#2a3f5f\"}, \"baxis\": {\"endlinecolor\": \"#2a3f5f\", \"gridcolor\": \"white\", \"linecolor\": \"white\", \"minorgridcolor\": \"white\", \"startlinecolor\": \"#2a3f5f\"}, \"type\": \"carpet\"}], \"choropleth\": [{\"colorbar\": {\"outlinewidth\": 0, \"ticks\": \"\"}, \"type\": \"choropleth\"}], \"contour\": [{\"colorbar\": {\"outlinewidth\": 0, \"ticks\": \"\"}, \"colorscale\": [[0.0, \"#0d0887\"], [0.1111111111111111, \"#46039f\"], [0.2222222222222222, \"#7201a8\"], [0.3333333333333333, \"#9c179e\"], [0.4444444444444444, \"#bd3786\"], [0.5555555555555556, \"#d8576b\"], [0.6666666666666666, \"#ed7953\"], [0.7777777777777778, \"#fb9f3a\"], [0.8888888888888888, \"#fdca26\"], [1.0, \"#f0f921\"]], \"type\": \"contour\"}], \"contourcarpet\": [{\"colorbar\": {\"outlinewidth\": 0, \"ticks\": \"\"}, \"type\": \"contourcarpet\"}], \"heatmap\": [{\"colorbar\": {\"outlinewidth\": 0, \"ticks\": \"\"}, \"colorscale\": [[0.0, \"#0d0887\"], [0.1111111111111111, \"#46039f\"], [0.2222222222222222, \"#7201a8\"], [0.3333333333333333, \"#9c179e\"], [0.4444444444444444, \"#bd3786\"], [0.5555555555555556, \"#d8576b\"], [0.6666666666666666, \"#ed7953\"], [0.7777777777777778, \"#fb9f3a\"], [0.8888888888888888, \"#fdca26\"], [1.0, \"#f0f921\"]], \"type\": \"heatmap\"}], \"heatmapgl\": [{\"colorbar\": {\"outlinewidth\": 0, \"ticks\": \"\"}, \"colorscale\": [[0.0, \"#0d0887\"], [0.1111111111111111, \"#46039f\"], [0.2222222222222222, \"#7201a8\"], [0.3333333333333333, \"#9c179e\"], [0.4444444444444444, \"#bd3786\"], [0.5555555555555556, \"#d8576b\"], [0.6666666666666666, \"#ed7953\"], [0.7777777777777778, \"#fb9f3a\"], [0.8888888888888888, \"#fdca26\"], [1.0, \"#f0f921\"]], \"type\": \"heatmapgl\"}], \"histogram\": [{\"marker\": {\"colorbar\": {\"outlinewidth\": 0, \"ticks\": \"\"}}, \"type\": \"histogram\"}], \"histogram2d\": [{\"colorbar\": {\"outlinewidth\": 0, \"ticks\": \"\"}, \"colorscale\": [[0.0, \"#0d0887\"], [0.1111111111111111, \"#46039f\"], [0.2222222222222222, \"#7201a8\"], [0.3333333333333333, \"#9c179e\"], [0.4444444444444444, \"#bd3786\"], [0.5555555555555556, \"#d8576b\"], [0.6666666666666666, \"#ed7953\"], [0.7777777777777778, \"#fb9f3a\"], [0.8888888888888888, \"#fdca26\"], [1.0, \"#f0f921\"]], \"type\": \"histogram2d\"}], \"histogram2dcontour\": [{\"colorbar\": {\"outlinewidth\": 0, \"ticks\": \"\"}, \"colorscale\": [[0.0, \"#0d0887\"], [0.1111111111111111, \"#46039f\"], [0.2222222222222222, \"#7201a8\"], [0.3333333333333333, \"#9c179e\"], [0.4444444444444444, \"#bd3786\"], [0.5555555555555556, \"#d8576b\"], [0.6666666666666666, \"#ed7953\"], [0.7777777777777778, \"#fb9f3a\"], [0.8888888888888888, \"#fdca26\"], [1.0, \"#f0f921\"]], \"type\": \"histogram2dcontour\"}], \"mesh3d\": [{\"colorbar\": {\"outlinewidth\": 0, \"ticks\": \"\"}, \"type\": \"mesh3d\"}], \"parcoords\": [{\"line\": {\"colorbar\": {\"outlinewidth\": 0, \"ticks\": \"\"}}, \"type\": \"parcoords\"}], \"pie\": [{\"automargin\": true, \"type\": \"pie\"}], \"scatter\": [{\"marker\": {\"colorbar\": {\"outlinewidth\": 0, \"ticks\": \"\"}}, \"type\": \"scatter\"}], \"scatter3d\": [{\"line\": {\"colorbar\": {\"outlinewidth\": 0, \"ticks\": \"\"}}, \"marker\": {\"colorbar\": {\"outlinewidth\": 0, \"ticks\": \"\"}}, \"type\": \"scatter3d\"}], \"scattercarpet\": [{\"marker\": {\"colorbar\": {\"outlinewidth\": 0, \"ticks\": \"\"}}, \"type\": \"scattercarpet\"}], \"scattergeo\": [{\"marker\": {\"colorbar\": {\"outlinewidth\": 0, \"ticks\": \"\"}}, \"type\": \"scattergeo\"}], \"scattergl\": [{\"marker\": {\"colorbar\": {\"outlinewidth\": 0, \"ticks\": \"\"}}, \"type\": \"scattergl\"}], \"scattermapbox\": [{\"marker\": {\"colorbar\": {\"outlinewidth\": 0, \"ticks\": \"\"}}, \"type\": \"scattermapbox\"}], \"scatterpolar\": [{\"marker\": {\"colorbar\": {\"outlinewidth\": 0, \"ticks\": \"\"}}, \"type\": \"scatterpolar\"}], \"scatterpolargl\": [{\"marker\": {\"colorbar\": {\"outlinewidth\": 0, \"ticks\": \"\"}}, \"type\": \"scatterpolargl\"}], \"scatterternary\": [{\"marker\": {\"colorbar\": {\"outlinewidth\": 0, \"ticks\": \"\"}}, \"type\": \"scatterternary\"}], \"surface\": [{\"colorbar\": {\"outlinewidth\": 0, \"ticks\": \"\"}, \"colorscale\": [[0.0, \"#0d0887\"], [0.1111111111111111, \"#46039f\"], [0.2222222222222222, \"#7201a8\"], [0.3333333333333333, \"#9c179e\"], [0.4444444444444444, \"#bd3786\"], [0.5555555555555556, \"#d8576b\"], [0.6666666666666666, \"#ed7953\"], [0.7777777777777778, \"#fb9f3a\"], [0.8888888888888888, \"#fdca26\"], [1.0, \"#f0f921\"]], \"type\": \"surface\"}], \"table\": [{\"cells\": {\"fill\": {\"color\": \"#EBF0F8\"}, \"line\": {\"color\": \"white\"}}, \"header\": {\"fill\": {\"color\": \"#C8D4E3\"}, \"line\": {\"color\": \"white\"}}, \"type\": \"table\"}]}, \"layout\": {\"annotationdefaults\": {\"arrowcolor\": \"#2a3f5f\", \"arrowhead\": 0, \"arrowwidth\": 1}, \"coloraxis\": {\"colorbar\": {\"outlinewidth\": 0, \"ticks\": \"\"}}, \"colorscale\": {\"diverging\": [[0, \"#8e0152\"], [0.1, \"#c51b7d\"], [0.2, \"#de77ae\"], [0.3, \"#f1b6da\"], [0.4, \"#fde0ef\"], [0.5, \"#f7f7f7\"], [0.6, \"#e6f5d0\"], [0.7, \"#b8e186\"], [0.8, \"#7fbc41\"], [0.9, \"#4d9221\"], [1, \"#276419\"]], \"sequential\": [[0.0, \"#0d0887\"], [0.1111111111111111, \"#46039f\"], [0.2222222222222222, \"#7201a8\"], [0.3333333333333333, \"#9c179e\"], [0.4444444444444444, \"#bd3786\"], [0.5555555555555556, \"#d8576b\"], [0.6666666666666666, \"#ed7953\"], [0.7777777777777778, \"#fb9f3a\"], [0.8888888888888888, \"#fdca26\"], [1.0, \"#f0f921\"]], \"sequentialminus\": [[0.0, \"#0d0887\"], [0.1111111111111111, \"#46039f\"], [0.2222222222222222, \"#7201a8\"], [0.3333333333333333, \"#9c179e\"], [0.4444444444444444, \"#bd3786\"], [0.5555555555555556, \"#d8576b\"], [0.6666666666666666, \"#ed7953\"], [0.7777777777777778, \"#fb9f3a\"], [0.8888888888888888, \"#fdca26\"], [1.0, \"#f0f921\"]]}, \"colorway\": [\"#636efa\", \"#EF553B\", \"#00cc96\", \"#ab63fa\", \"#FFA15A\", \"#19d3f3\", \"#FF6692\", \"#B6E880\", \"#FF97FF\", \"#FECB52\"], \"font\": {\"color\": \"#2a3f5f\"}, \"geo\": {\"bgcolor\": \"white\", \"lakecolor\": \"white\", \"landcolor\": \"#E5ECF6\", \"showlakes\": true, \"showland\": true, \"subunitcolor\": \"white\"}, \"hoverlabel\": {\"align\": \"left\"}, \"hovermode\": \"closest\", \"mapbox\": {\"style\": \"light\"}, \"paper_bgcolor\": \"white\", \"plot_bgcolor\": \"#E5ECF6\", \"polar\": {\"angularaxis\": {\"gridcolor\": \"white\", \"linecolor\": \"white\", \"ticks\": \"\"}, \"bgcolor\": \"#E5ECF6\", \"radialaxis\": {\"gridcolor\": \"white\", \"linecolor\": \"white\", \"ticks\": \"\"}}, \"scene\": {\"xaxis\": {\"backgroundcolor\": \"#E5ECF6\", \"gridcolor\": \"white\", \"gridwidth\": 2, \"linecolor\": \"white\", \"showbackground\": true, \"ticks\": \"\", \"zerolinecolor\": \"white\"}, \"yaxis\": {\"backgroundcolor\": \"#E5ECF6\", \"gridcolor\": \"white\", \"gridwidth\": 2, \"linecolor\": \"white\", \"showbackground\": true, \"ticks\": \"\", \"zerolinecolor\": \"white\"}, \"zaxis\": {\"backgroundcolor\": \"#E5ECF6\", \"gridcolor\": \"white\", \"gridwidth\": 2, \"linecolor\": \"white\", \"showbackground\": true, \"ticks\": \"\", \"zerolinecolor\": \"white\"}}, \"shapedefaults\": {\"line\": {\"color\": \"#2a3f5f\"}}, \"ternary\": {\"aaxis\": {\"gridcolor\": \"white\", \"linecolor\": \"white\", \"ticks\": \"\"}, \"baxis\": {\"gridcolor\": \"white\", \"linecolor\": \"white\", \"ticks\": \"\"}, \"bgcolor\": \"#E5ECF6\", \"caxis\": {\"gridcolor\": \"white\", \"linecolor\": \"white\", \"ticks\": \"\"}}, \"title\": {\"x\": 0.05}, \"xaxis\": {\"automargin\": true, \"gridcolor\": \"white\", \"linecolor\": \"white\", \"ticks\": \"\", \"title\": {\"standoff\": 15}, \"zerolinecolor\": \"white\", \"zerolinewidth\": 2}, \"yaxis\": {\"automargin\": true, \"gridcolor\": \"white\", \"linecolor\": \"white\", \"ticks\": \"\", \"title\": {\"standoff\": 15}, \"zerolinecolor\": \"white\", \"zerolinewidth\": 2}}}},\n",
       "                        {\"responsive\": true}\n",
       "                    ).then(function(){\n",
       "                            \n",
       "var gd = document.getElementById('b48a9fe7-540b-4eb0-ba63-8c56a01874e7');\n",
       "var x = new MutationObserver(function (mutations, observer) {{\n",
       "        var display = window.getComputedStyle(gd).display;\n",
       "        if (!display || display === 'none') {{\n",
       "            console.log([gd, 'removed!']);\n",
       "            Plotly.purge(gd);\n",
       "            observer.disconnect();\n",
       "        }}\n",
       "}});\n",
       "\n",
       "// Listen for the removal of the full notebook cells\n",
       "var notebookContainer = gd.closest('#notebook-container');\n",
       "if (notebookContainer) {{\n",
       "    x.observe(notebookContainer, {childList: true});\n",
       "}}\n",
       "\n",
       "// Listen for the clearing of the current output cell\n",
       "var outputEl = gd.closest('.output');\n",
       "if (outputEl) {{\n",
       "    x.observe(outputEl, {childList: true});\n",
       "}}\n",
       "\n",
       "                        })\n",
       "                };\n",
       "                });\n",
       "            </script>\n",
       "        </div>"
      ]
     },
     "metadata": {},
     "output_type": "display_data"
    }
   ],
   "source": [
    "x = nfl_end_of_game3.total_precip\n",
    "y = nfl_end_of_game3.pass_run_ratio\n",
    "\n",
    "fig = go.Figure(data=go.Scatter(x=x, y=y, mode='markers'))\n",
    "\n",
    "fig"
   ]
  },
  {
   "cell_type": "code",
   "execution_count": 107,
   "metadata": {},
   "outputs": [
    {
     "data": {
      "text/html": [
       "<div>\n",
       "<style scoped>\n",
       "    .dataframe tbody tr th:only-of-type {\n",
       "        vertical-align: middle;\n",
       "    }\n",
       "\n",
       "    .dataframe tbody tr th {\n",
       "        vertical-align: top;\n",
       "    }\n",
       "\n",
       "    .dataframe thead th {\n",
       "        text-align: right;\n",
       "    }\n",
       "</style>\n",
       "<table border=\"1\" class=\"dataframe\">\n",
       "  <thead>\n",
       "    <tr style=\"text-align: right;\">\n",
       "      <th></th>\n",
       "      <th>game_id</th>\n",
       "      <th>Team</th>\n",
       "      <th>team_against</th>\n",
       "      <th>score</th>\n",
       "      <th>score_against</th>\n",
       "      <th>yards</th>\n",
       "      <th>yards_against</th>\n",
       "      <th>run_plays</th>\n",
       "      <th>run_plays_against</th>\n",
       "      <th>pass_plays</th>\n",
       "      <th>pass_plays_against</th>\n",
       "      <th>to_for</th>\n",
       "      <th>to_against</th>\n",
       "      <th>fg_at</th>\n",
       "      <th>fg_md</th>\n",
       "      <th>fg_at_against</th>\n",
       "      <th>fg_md_against</th>\n",
       "      <th>pass_yards</th>\n",
       "      <th>pass_yards_against</th>\n",
       "      <th>run_yards</th>\n",
       "      <th>run_yards_against</th>\n",
       "      <th>win</th>\n",
       "      <th>pass_run_ratio</th>\n",
       "      <th>yard_diff</th>\n",
       "      <th>to_diff</th>\n",
       "      <th>fg_rate</th>\n",
       "      <th>fg_rate_against</th>\n",
       "      <th>pass_yds_per_at</th>\n",
       "      <th>run_yds_per_at</th>\n",
       "      <th>pass_yds_per_at_against</th>\n",
       "      <th>run_yds_per_at_against</th>\n",
       "      <th>year</th>\n",
       "      <th>binned</th>\n",
       "      <th>win_group_num</th>\n",
       "      <th>Field_x</th>\n",
       "      <th>Roof_x</th>\n",
       "      <th>Field_y</th>\n",
       "      <th>Roof_y</th>\n",
       "      <th>average_air_pressure</th>\n",
       "      <th>avg_dew_point</th>\n",
       "      <th>avg_humidity</th>\n",
       "      <th>total_precip</th>\n",
       "      <th>avg_wind_speed</th>\n",
       "    </tr>\n",
       "  </thead>\n",
       "  <tbody>\n",
       "    <tr>\n",
       "      <td>95</td>\n",
       "      <td>2015102503</td>\n",
       "      <td>NE</td>\n",
       "      <td>NYJ</td>\n",
       "      <td>30</td>\n",
       "      <td>23</td>\n",
       "      <td>343.0</td>\n",
       "      <td>386.0</td>\n",
       "      <td>9.0</td>\n",
       "      <td>29.0</td>\n",
       "      <td>57.0</td>\n",
       "      <td>41.0</td>\n",
       "      <td>2.0</td>\n",
       "      <td>1.0</td>\n",
       "      <td>3.0</td>\n",
       "      <td>3.0</td>\n",
       "      <td>3.0</td>\n",
       "      <td>3.0</td>\n",
       "      <td>337.0</td>\n",
       "      <td>283.0</td>\n",
       "      <td>16.0</td>\n",
       "      <td>89.0</td>\n",
       "      <td>1.0</td>\n",
       "      <td>6.33</td>\n",
       "      <td>-43.0</td>\n",
       "      <td>-1.0</td>\n",
       "      <td>1.0</td>\n",
       "      <td>1.0</td>\n",
       "      <td>5.912281</td>\n",
       "      <td>1.777778</td>\n",
       "      <td>6.902439</td>\n",
       "      <td>3.068966</td>\n",
       "      <td>2015</td>\n",
       "      <td>10+ Wins</td>\n",
       "      <td>NaN</td>\n",
       "      <td>FieldTurf CORE</td>\n",
       "      <td>Open</td>\n",
       "      <td>FieldTurf CORE</td>\n",
       "      <td>Open</td>\n",
       "      <td>1015.346328</td>\n",
       "      <td>11.825424</td>\n",
       "      <td>77.864407</td>\n",
       "      <td>0.0</td>\n",
       "      <td>18.866102</td>\n",
       "    </tr>\n",
       "    <tr>\n",
       "      <td>471</td>\n",
       "      <td>2016121806</td>\n",
       "      <td>MIN</td>\n",
       "      <td>IND</td>\n",
       "      <td>6</td>\n",
       "      <td>34</td>\n",
       "      <td>302.0</td>\n",
       "      <td>418.0</td>\n",
       "      <td>9.0</td>\n",
       "      <td>40.0</td>\n",
       "      <td>47.0</td>\n",
       "      <td>28.0</td>\n",
       "      <td>5.0</td>\n",
       "      <td>0.0</td>\n",
       "      <td>2.0</td>\n",
       "      <td>2.0</td>\n",
       "      <td>2.0</td>\n",
       "      <td>2.0</td>\n",
       "      <td>248.0</td>\n",
       "      <td>250.0</td>\n",
       "      <td>34.0</td>\n",
       "      <td>161.0</td>\n",
       "      <td>0.0</td>\n",
       "      <td>5.22</td>\n",
       "      <td>-116.0</td>\n",
       "      <td>-5.0</td>\n",
       "      <td>1.0</td>\n",
       "      <td>1.0</td>\n",
       "      <td>5.276596</td>\n",
       "      <td>3.777778</td>\n",
       "      <td>8.928571</td>\n",
       "      <td>4.025000</td>\n",
       "      <td>2016</td>\n",
       "      <td>Between 6 and 9</td>\n",
       "      <td>NaN</td>\n",
       "      <td>UBU Speed Series S5-M Synthetic Turf</td>\n",
       "      <td>Fixed</td>\n",
       "      <td>UBU Speed Series S5-M Synthetic Turf</td>\n",
       "      <td>Fixed</td>\n",
       "      <td>1035.269565</td>\n",
       "      <td>-28.440994</td>\n",
       "      <td>64.055901</td>\n",
       "      <td>0.0</td>\n",
       "      <td>10.327950</td>\n",
       "    </tr>\n",
       "    <tr>\n",
       "      <td>807</td>\n",
       "      <td>2018092307</td>\n",
       "      <td>MIN</td>\n",
       "      <td>BUF</td>\n",
       "      <td>6</td>\n",
       "      <td>27</td>\n",
       "      <td>312.0</td>\n",
       "      <td>261.0</td>\n",
       "      <td>6.0</td>\n",
       "      <td>38.0</td>\n",
       "      <td>60.0</td>\n",
       "      <td>25.0</td>\n",
       "      <td>8.0</td>\n",
       "      <td>4.0</td>\n",
       "      <td>0.0</td>\n",
       "      <td>0.0</td>\n",
       "      <td>2.0</td>\n",
       "      <td>2.0</td>\n",
       "      <td>278.0</td>\n",
       "      <td>164.0</td>\n",
       "      <td>14.0</td>\n",
       "      <td>128.0</td>\n",
       "      <td>0.0</td>\n",
       "      <td>10.00</td>\n",
       "      <td>51.0</td>\n",
       "      <td>-4.0</td>\n",
       "      <td>0.5</td>\n",
       "      <td>1.0</td>\n",
       "      <td>4.633333</td>\n",
       "      <td>2.333333</td>\n",
       "      <td>6.560000</td>\n",
       "      <td>3.368421</td>\n",
       "      <td>2018</td>\n",
       "      <td>Between 6 and 9</td>\n",
       "      <td>NaN</td>\n",
       "      <td>UBU Speed Series S5-M Synthetic Turf</td>\n",
       "      <td>Fixed</td>\n",
       "      <td>UBU Speed Series S5-M Synthetic Turf</td>\n",
       "      <td>Fixed</td>\n",
       "      <td>1013.915476</td>\n",
       "      <td>11.146429</td>\n",
       "      <td>45.357143</td>\n",
       "      <td>0.0</td>\n",
       "      <td>20.680357</td>\n",
       "    </tr>\n",
       "    <tr>\n",
       "      <td>1009</td>\n",
       "      <td>2015092001</td>\n",
       "      <td>NE</td>\n",
       "      <td>BUF</td>\n",
       "      <td>40</td>\n",
       "      <td>32</td>\n",
       "      <td>489.0</td>\n",
       "      <td>355.0</td>\n",
       "      <td>12.0</td>\n",
       "      <td>28.0</td>\n",
       "      <td>61.0</td>\n",
       "      <td>39.0</td>\n",
       "      <td>4.0</td>\n",
       "      <td>7.0</td>\n",
       "      <td>4.0</td>\n",
       "      <td>4.0</td>\n",
       "      <td>0.0</td>\n",
       "      <td>0.0</td>\n",
       "      <td>451.0</td>\n",
       "      <td>189.0</td>\n",
       "      <td>60.0</td>\n",
       "      <td>160.0</td>\n",
       "      <td>1.0</td>\n",
       "      <td>5.08</td>\n",
       "      <td>134.0</td>\n",
       "      <td>3.0</td>\n",
       "      <td>1.0</td>\n",
       "      <td>0.5</td>\n",
       "      <td>7.393443</td>\n",
       "      <td>5.000000</td>\n",
       "      <td>4.846154</td>\n",
       "      <td>5.714286</td>\n",
       "      <td>2015</td>\n",
       "      <td>10+ Wins</td>\n",
       "      <td>NaN</td>\n",
       "      <td>A-Turf Titan 50</td>\n",
       "      <td>Open</td>\n",
       "      <td>A-Turf Titan 50</td>\n",
       "      <td>Open</td>\n",
       "      <td>1022.001990</td>\n",
       "      <td>6.569154</td>\n",
       "      <td>45.885572</td>\n",
       "      <td>0.0</td>\n",
       "      <td>13.626866</td>\n",
       "    </tr>\n",
       "    <tr>\n",
       "      <td>1159</td>\n",
       "      <td>2015112905</td>\n",
       "      <td>MIA</td>\n",
       "      <td>NYJ</td>\n",
       "      <td>20</td>\n",
       "      <td>38</td>\n",
       "      <td>296.0</td>\n",
       "      <td>386.0</td>\n",
       "      <td>9.0</td>\n",
       "      <td>33.0</td>\n",
       "      <td>61.0</td>\n",
       "      <td>38.0</td>\n",
       "      <td>5.0</td>\n",
       "      <td>1.0</td>\n",
       "      <td>0.0</td>\n",
       "      <td>0.0</td>\n",
       "      <td>1.0</td>\n",
       "      <td>1.0</td>\n",
       "      <td>321.0</td>\n",
       "      <td>274.0</td>\n",
       "      <td>12.0</td>\n",
       "      <td>138.0</td>\n",
       "      <td>0.0</td>\n",
       "      <td>6.78</td>\n",
       "      <td>-90.0</td>\n",
       "      <td>-4.0</td>\n",
       "      <td>0.5</td>\n",
       "      <td>1.0</td>\n",
       "      <td>5.262295</td>\n",
       "      <td>1.333333</td>\n",
       "      <td>7.210526</td>\n",
       "      <td>4.181818</td>\n",
       "      <td>2015</td>\n",
       "      <td>5 or Less</td>\n",
       "      <td>NaN</td>\n",
       "      <td>UBU Sports Speed Series S5-M Synthetic Turf</td>\n",
       "      <td>Open</td>\n",
       "      <td>UBU Sports Speed Series S5-M Synthetic Turf</td>\n",
       "      <td>Open</td>\n",
       "      <td>1023.148718</td>\n",
       "      <td>-5.861026</td>\n",
       "      <td>35.041026</td>\n",
       "      <td>0.0</td>\n",
       "      <td>9.741538</td>\n",
       "    </tr>\n",
       "    <tr>\n",
       "      <td>1364</td>\n",
       "      <td>2016103009</td>\n",
       "      <td>ARI</td>\n",
       "      <td>CAR</td>\n",
       "      <td>20</td>\n",
       "      <td>29</td>\n",
       "      <td>280.0</td>\n",
       "      <td>324.0</td>\n",
       "      <td>10.0</td>\n",
       "      <td>36.0</td>\n",
       "      <td>54.0</td>\n",
       "      <td>28.0</td>\n",
       "      <td>5.0</td>\n",
       "      <td>1.0</td>\n",
       "      <td>0.0</td>\n",
       "      <td>0.0</td>\n",
       "      <td>3.0</td>\n",
       "      <td>3.0</td>\n",
       "      <td>316.0</td>\n",
       "      <td>208.0</td>\n",
       "      <td>24.0</td>\n",
       "      <td>141.0</td>\n",
       "      <td>0.0</td>\n",
       "      <td>5.40</td>\n",
       "      <td>-44.0</td>\n",
       "      <td>-4.0</td>\n",
       "      <td>0.5</td>\n",
       "      <td>1.0</td>\n",
       "      <td>5.851852</td>\n",
       "      <td>2.400000</td>\n",
       "      <td>7.428571</td>\n",
       "      <td>3.916667</td>\n",
       "      <td>2016</td>\n",
       "      <td>5 or Less</td>\n",
       "      <td>NaN</td>\n",
       "      <td>Bermuda grass</td>\n",
       "      <td>Open</td>\n",
       "      <td>Bermuda grass</td>\n",
       "      <td>Open</td>\n",
       "      <td>1017.859659</td>\n",
       "      <td>11.364205</td>\n",
       "      <td>36.943182</td>\n",
       "      <td>0.0</td>\n",
       "      <td>10.862500</td>\n",
       "    </tr>\n",
       "    <tr>\n",
       "      <td>1448</td>\n",
       "      <td>2016121109</td>\n",
       "      <td>DEN</td>\n",
       "      <td>TEN</td>\n",
       "      <td>10</td>\n",
       "      <td>13</td>\n",
       "      <td>313.0</td>\n",
       "      <td>233.0</td>\n",
       "      <td>9.0</td>\n",
       "      <td>39.0</td>\n",
       "      <td>55.0</td>\n",
       "      <td>22.0</td>\n",
       "      <td>4.0</td>\n",
       "      <td>1.0</td>\n",
       "      <td>1.0</td>\n",
       "      <td>1.0</td>\n",
       "      <td>2.0</td>\n",
       "      <td>2.0</td>\n",
       "      <td>330.0</td>\n",
       "      <td>73.0</td>\n",
       "      <td>18.0</td>\n",
       "      <td>183.0</td>\n",
       "      <td>0.0</td>\n",
       "      <td>6.11</td>\n",
       "      <td>80.0</td>\n",
       "      <td>-3.0</td>\n",
       "      <td>1.0</td>\n",
       "      <td>1.0</td>\n",
       "      <td>6.000000</td>\n",
       "      <td>2.000000</td>\n",
       "      <td>3.318182</td>\n",
       "      <td>4.692308</td>\n",
       "      <td>2016</td>\n",
       "      <td>Between 6 and 9</td>\n",
       "      <td>NaN</td>\n",
       "      <td>Bermuda grass</td>\n",
       "      <td>Open</td>\n",
       "      <td>Bermuda grass</td>\n",
       "      <td>Open</td>\n",
       "      <td>1020.157738</td>\n",
       "      <td>-7.326190</td>\n",
       "      <td>24.940476</td>\n",
       "      <td>0.0</td>\n",
       "      <td>32.972619</td>\n",
       "    </tr>\n",
       "  </tbody>\n",
       "</table>\n",
       "</div>"
      ],
      "text/plain": [
       "         game_id Team team_against  score  score_against  yards  \\\n",
       "95    2015102503   NE          NYJ     30             23  343.0   \n",
       "471   2016121806  MIN          IND      6             34  302.0   \n",
       "807   2018092307  MIN          BUF      6             27  312.0   \n",
       "1009  2015092001   NE          BUF     40             32  489.0   \n",
       "1159  2015112905  MIA          NYJ     20             38  296.0   \n",
       "1364  2016103009  ARI          CAR     20             29  280.0   \n",
       "1448  2016121109  DEN          TEN     10             13  313.0   \n",
       "\n",
       "      yards_against  run_plays  run_plays_against  pass_plays  \\\n",
       "95            386.0        9.0               29.0        57.0   \n",
       "471           418.0        9.0               40.0        47.0   \n",
       "807           261.0        6.0               38.0        60.0   \n",
       "1009          355.0       12.0               28.0        61.0   \n",
       "1159          386.0        9.0               33.0        61.0   \n",
       "1364          324.0       10.0               36.0        54.0   \n",
       "1448          233.0        9.0               39.0        55.0   \n",
       "\n",
       "      pass_plays_against  to_for  to_against  fg_at  fg_md  fg_at_against  \\\n",
       "95                  41.0     2.0         1.0    3.0    3.0            3.0   \n",
       "471                 28.0     5.0         0.0    2.0    2.0            2.0   \n",
       "807                 25.0     8.0         4.0    0.0    0.0            2.0   \n",
       "1009                39.0     4.0         7.0    4.0    4.0            0.0   \n",
       "1159                38.0     5.0         1.0    0.0    0.0            1.0   \n",
       "1364                28.0     5.0         1.0    0.0    0.0            3.0   \n",
       "1448                22.0     4.0         1.0    1.0    1.0            2.0   \n",
       "\n",
       "      fg_md_against  pass_yards  pass_yards_against  run_yards  \\\n",
       "95              3.0       337.0               283.0       16.0   \n",
       "471             2.0       248.0               250.0       34.0   \n",
       "807             2.0       278.0               164.0       14.0   \n",
       "1009            0.0       451.0               189.0       60.0   \n",
       "1159            1.0       321.0               274.0       12.0   \n",
       "1364            3.0       316.0               208.0       24.0   \n",
       "1448            2.0       330.0                73.0       18.0   \n",
       "\n",
       "      run_yards_against  win  pass_run_ratio  yard_diff  to_diff  fg_rate  \\\n",
       "95                 89.0  1.0            6.33      -43.0     -1.0      1.0   \n",
       "471               161.0  0.0            5.22     -116.0     -5.0      1.0   \n",
       "807               128.0  0.0           10.00       51.0     -4.0      0.5   \n",
       "1009              160.0  1.0            5.08      134.0      3.0      1.0   \n",
       "1159              138.0  0.0            6.78      -90.0     -4.0      0.5   \n",
       "1364              141.0  0.0            5.40      -44.0     -4.0      0.5   \n",
       "1448              183.0  0.0            6.11       80.0     -3.0      1.0   \n",
       "\n",
       "      fg_rate_against  pass_yds_per_at  run_yds_per_at  \\\n",
       "95                1.0         5.912281        1.777778   \n",
       "471               1.0         5.276596        3.777778   \n",
       "807               1.0         4.633333        2.333333   \n",
       "1009              0.5         7.393443        5.000000   \n",
       "1159              1.0         5.262295        1.333333   \n",
       "1364              1.0         5.851852        2.400000   \n",
       "1448              1.0         6.000000        2.000000   \n",
       "\n",
       "      pass_yds_per_at_against  run_yds_per_at_against  year           binned  \\\n",
       "95                   6.902439                3.068966  2015         10+ Wins   \n",
       "471                  8.928571                4.025000  2016  Between 6 and 9   \n",
       "807                  6.560000                3.368421  2018  Between 6 and 9   \n",
       "1009                 4.846154                5.714286  2015         10+ Wins   \n",
       "1159                 7.210526                4.181818  2015        5 or Less   \n",
       "1364                 7.428571                3.916667  2016        5 or Less   \n",
       "1448                 3.318182                4.692308  2016  Between 6 and 9   \n",
       "\n",
       "      win_group_num                                      Field_x Roof_x  \\\n",
       "95              NaN                               FieldTurf CORE   Open   \n",
       "471             NaN         UBU Speed Series S5-M Synthetic Turf  Fixed   \n",
       "807             NaN         UBU Speed Series S5-M Synthetic Turf  Fixed   \n",
       "1009            NaN                              A-Turf Titan 50   Open   \n",
       "1159            NaN  UBU Sports Speed Series S5-M Synthetic Turf   Open   \n",
       "1364            NaN                                Bermuda grass   Open   \n",
       "1448            NaN                                Bermuda grass   Open   \n",
       "\n",
       "                                          Field_y Roof_y  \\\n",
       "95                                 FieldTurf CORE   Open   \n",
       "471          UBU Speed Series S5-M Synthetic Turf  Fixed   \n",
       "807          UBU Speed Series S5-M Synthetic Turf  Fixed   \n",
       "1009                              A-Turf Titan 50   Open   \n",
       "1159  UBU Sports Speed Series S5-M Synthetic Turf   Open   \n",
       "1364                                Bermuda grass   Open   \n",
       "1448                                Bermuda grass   Open   \n",
       "\n",
       "      average_air_pressure  avg_dew_point  avg_humidity  total_precip  \\\n",
       "95             1015.346328      11.825424     77.864407           0.0   \n",
       "471            1035.269565     -28.440994     64.055901           0.0   \n",
       "807            1013.915476      11.146429     45.357143           0.0   \n",
       "1009           1022.001990       6.569154     45.885572           0.0   \n",
       "1159           1023.148718      -5.861026     35.041026           0.0   \n",
       "1364           1017.859659      11.364205     36.943182           0.0   \n",
       "1448           1020.157738      -7.326190     24.940476           0.0   \n",
       "\n",
       "      avg_wind_speed  \n",
       "95         18.866102  \n",
       "471        10.327950  \n",
       "807        20.680357  \n",
       "1009       13.626866  \n",
       "1159        9.741538  \n",
       "1364       10.862500  \n",
       "1448       32.972619  "
      ]
     },
     "execution_count": 107,
     "metadata": {},
     "output_type": "execute_result"
    }
   ],
   "source": [
    "nfl_end_of_game3[nfl_end_of_game3['pass_run_ratio'] > 5]"
   ]
  },
  {
   "cell_type": "markdown",
   "metadata": {},
   "source": [
    "<h2>Graveyard</h2>"
   ]
  },
  {
   "cell_type": "code",
   "execution_count": 74,
   "metadata": {},
   "outputs": [
    {
     "data": {
      "application/vnd.plotly.v1+json": {
       "config": {
        "plotlyServerURL": "https://plot.ly"
       },
       "data": [
        {
         "name": "Avg Wins",
         "type": "bar",
         "x": [
          "CLE",
          "SF",
          "JAX",
          "TB",
          "CHI",
          "NYG",
          "NYJ",
          "OAK",
          "IND",
          "MIA",
          "LAC",
          "BUF",
          "TEN",
          "CIN",
          "BAL",
          "DET",
          "ARI",
          "WAS",
          "DEN",
          "HOU",
          "GB",
          "LA",
          "DAL",
          "PHI",
          "ATL",
          "NO",
          "SEA",
          "CAR",
          "MIN",
          "PIT",
          "KC",
          "NE"
         ],
         "y": [
          2.5,
          4.25,
          5.5,
          6,
          6,
          6,
          6,
          7,
          7,
          7,
          7.25,
          7.25,
          7.5,
          7.5,
          7.5,
          7.5,
          7.75,
          7.75,
          7.75,
          8,
          8,
          8.25,
          8.5,
          8.5,
          8.75,
          9.25,
          9.25,
          9.5,
          10,
          10.5,
          10.75,
          12
         ]
        },
        {
         "name": "Avg Wins",
         "type": "bar",
         "x": [
          "CLE",
          "SF",
          "JAX",
          "TB",
          "CHI",
          "NYG",
          "NYJ",
          "OAK",
          "IND",
          "MIA",
          "LAC",
          "BUF",
          "TEN",
          "CIN",
          "BAL",
          "DET",
          "ARI",
          "WAS",
          "DEN",
          "HOU",
          "GB",
          "LA",
          "DAL",
          "PHI",
          "ATL",
          "NO",
          "SEA",
          "CAR",
          "MIN",
          "PIT",
          "KC",
          "NE"
         ],
         "y": [
          0.1,
          0.1,
          0.1,
          0.1,
          0.1,
          0.1,
          0.1,
          0.1,
          0.1,
          0.1,
          0.1,
          0.1,
          0.1,
          0.1,
          0.1,
          0.1,
          0.1,
          0.1,
          0.1,
          0.1,
          0.1,
          0.1,
          0.1,
          0.1,
          0.1,
          0.1,
          0.1,
          0.1,
          0.1,
          0.1,
          0.1,
          0.1
         ]
        }
       ],
       "layout": {
        "barmode": "stack",
        "shapes": [
         {
          "line": {
           "color": "red",
           "width": 2.5
          },
          "type": "line",
          "x0": "CLE",
          "x1": "CLE",
          "xref": "x",
          "y0": 7,
          "y1": 7,
          "yref": "y"
         }
        ],
        "template": {
         "data": {
          "bar": [
           {
            "error_x": {
             "color": "#2a3f5f"
            },
            "error_y": {
             "color": "#2a3f5f"
            },
            "marker": {
             "line": {
              "color": "#E5ECF6",
              "width": 0.5
             }
            },
            "type": "bar"
           }
          ],
          "barpolar": [
           {
            "marker": {
             "line": {
              "color": "#E5ECF6",
              "width": 0.5
             }
            },
            "type": "barpolar"
           }
          ],
          "carpet": [
           {
            "aaxis": {
             "endlinecolor": "#2a3f5f",
             "gridcolor": "white",
             "linecolor": "white",
             "minorgridcolor": "white",
             "startlinecolor": "#2a3f5f"
            },
            "baxis": {
             "endlinecolor": "#2a3f5f",
             "gridcolor": "white",
             "linecolor": "white",
             "minorgridcolor": "white",
             "startlinecolor": "#2a3f5f"
            },
            "type": "carpet"
           }
          ],
          "choropleth": [
           {
            "colorbar": {
             "outlinewidth": 0,
             "ticks": ""
            },
            "type": "choropleth"
           }
          ],
          "contour": [
           {
            "colorbar": {
             "outlinewidth": 0,
             "ticks": ""
            },
            "colorscale": [
             [
              0,
              "#0d0887"
             ],
             [
              0.1111111111111111,
              "#46039f"
             ],
             [
              0.2222222222222222,
              "#7201a8"
             ],
             [
              0.3333333333333333,
              "#9c179e"
             ],
             [
              0.4444444444444444,
              "#bd3786"
             ],
             [
              0.5555555555555556,
              "#d8576b"
             ],
             [
              0.6666666666666666,
              "#ed7953"
             ],
             [
              0.7777777777777778,
              "#fb9f3a"
             ],
             [
              0.8888888888888888,
              "#fdca26"
             ],
             [
              1,
              "#f0f921"
             ]
            ],
            "type": "contour"
           }
          ],
          "contourcarpet": [
           {
            "colorbar": {
             "outlinewidth": 0,
             "ticks": ""
            },
            "type": "contourcarpet"
           }
          ],
          "heatmap": [
           {
            "colorbar": {
             "outlinewidth": 0,
             "ticks": ""
            },
            "colorscale": [
             [
              0,
              "#0d0887"
             ],
             [
              0.1111111111111111,
              "#46039f"
             ],
             [
              0.2222222222222222,
              "#7201a8"
             ],
             [
              0.3333333333333333,
              "#9c179e"
             ],
             [
              0.4444444444444444,
              "#bd3786"
             ],
             [
              0.5555555555555556,
              "#d8576b"
             ],
             [
              0.6666666666666666,
              "#ed7953"
             ],
             [
              0.7777777777777778,
              "#fb9f3a"
             ],
             [
              0.8888888888888888,
              "#fdca26"
             ],
             [
              1,
              "#f0f921"
             ]
            ],
            "type": "heatmap"
           }
          ],
          "heatmapgl": [
           {
            "colorbar": {
             "outlinewidth": 0,
             "ticks": ""
            },
            "colorscale": [
             [
              0,
              "#0d0887"
             ],
             [
              0.1111111111111111,
              "#46039f"
             ],
             [
              0.2222222222222222,
              "#7201a8"
             ],
             [
              0.3333333333333333,
              "#9c179e"
             ],
             [
              0.4444444444444444,
              "#bd3786"
             ],
             [
              0.5555555555555556,
              "#d8576b"
             ],
             [
              0.6666666666666666,
              "#ed7953"
             ],
             [
              0.7777777777777778,
              "#fb9f3a"
             ],
             [
              0.8888888888888888,
              "#fdca26"
             ],
             [
              1,
              "#f0f921"
             ]
            ],
            "type": "heatmapgl"
           }
          ],
          "histogram": [
           {
            "marker": {
             "colorbar": {
              "outlinewidth": 0,
              "ticks": ""
             }
            },
            "type": "histogram"
           }
          ],
          "histogram2d": [
           {
            "colorbar": {
             "outlinewidth": 0,
             "ticks": ""
            },
            "colorscale": [
             [
              0,
              "#0d0887"
             ],
             [
              0.1111111111111111,
              "#46039f"
             ],
             [
              0.2222222222222222,
              "#7201a8"
             ],
             [
              0.3333333333333333,
              "#9c179e"
             ],
             [
              0.4444444444444444,
              "#bd3786"
             ],
             [
              0.5555555555555556,
              "#d8576b"
             ],
             [
              0.6666666666666666,
              "#ed7953"
             ],
             [
              0.7777777777777778,
              "#fb9f3a"
             ],
             [
              0.8888888888888888,
              "#fdca26"
             ],
             [
              1,
              "#f0f921"
             ]
            ],
            "type": "histogram2d"
           }
          ],
          "histogram2dcontour": [
           {
            "colorbar": {
             "outlinewidth": 0,
             "ticks": ""
            },
            "colorscale": [
             [
              0,
              "#0d0887"
             ],
             [
              0.1111111111111111,
              "#46039f"
             ],
             [
              0.2222222222222222,
              "#7201a8"
             ],
             [
              0.3333333333333333,
              "#9c179e"
             ],
             [
              0.4444444444444444,
              "#bd3786"
             ],
             [
              0.5555555555555556,
              "#d8576b"
             ],
             [
              0.6666666666666666,
              "#ed7953"
             ],
             [
              0.7777777777777778,
              "#fb9f3a"
             ],
             [
              0.8888888888888888,
              "#fdca26"
             ],
             [
              1,
              "#f0f921"
             ]
            ],
            "type": "histogram2dcontour"
           }
          ],
          "mesh3d": [
           {
            "colorbar": {
             "outlinewidth": 0,
             "ticks": ""
            },
            "type": "mesh3d"
           }
          ],
          "parcoords": [
           {
            "line": {
             "colorbar": {
              "outlinewidth": 0,
              "ticks": ""
             }
            },
            "type": "parcoords"
           }
          ],
          "pie": [
           {
            "automargin": true,
            "type": "pie"
           }
          ],
          "scatter": [
           {
            "marker": {
             "colorbar": {
              "outlinewidth": 0,
              "ticks": ""
             }
            },
            "type": "scatter"
           }
          ],
          "scatter3d": [
           {
            "line": {
             "colorbar": {
              "outlinewidth": 0,
              "ticks": ""
             }
            },
            "marker": {
             "colorbar": {
              "outlinewidth": 0,
              "ticks": ""
             }
            },
            "type": "scatter3d"
           }
          ],
          "scattercarpet": [
           {
            "marker": {
             "colorbar": {
              "outlinewidth": 0,
              "ticks": ""
             }
            },
            "type": "scattercarpet"
           }
          ],
          "scattergeo": [
           {
            "marker": {
             "colorbar": {
              "outlinewidth": 0,
              "ticks": ""
             }
            },
            "type": "scattergeo"
           }
          ],
          "scattergl": [
           {
            "marker": {
             "colorbar": {
              "outlinewidth": 0,
              "ticks": ""
             }
            },
            "type": "scattergl"
           }
          ],
          "scattermapbox": [
           {
            "marker": {
             "colorbar": {
              "outlinewidth": 0,
              "ticks": ""
             }
            },
            "type": "scattermapbox"
           }
          ],
          "scatterpolar": [
           {
            "marker": {
             "colorbar": {
              "outlinewidth": 0,
              "ticks": ""
             }
            },
            "type": "scatterpolar"
           }
          ],
          "scatterpolargl": [
           {
            "marker": {
             "colorbar": {
              "outlinewidth": 0,
              "ticks": ""
             }
            },
            "type": "scatterpolargl"
           }
          ],
          "scatterternary": [
           {
            "marker": {
             "colorbar": {
              "outlinewidth": 0,
              "ticks": ""
             }
            },
            "type": "scatterternary"
           }
          ],
          "surface": [
           {
            "colorbar": {
             "outlinewidth": 0,
             "ticks": ""
            },
            "colorscale": [
             [
              0,
              "#0d0887"
             ],
             [
              0.1111111111111111,
              "#46039f"
             ],
             [
              0.2222222222222222,
              "#7201a8"
             ],
             [
              0.3333333333333333,
              "#9c179e"
             ],
             [
              0.4444444444444444,
              "#bd3786"
             ],
             [
              0.5555555555555556,
              "#d8576b"
             ],
             [
              0.6666666666666666,
              "#ed7953"
             ],
             [
              0.7777777777777778,
              "#fb9f3a"
             ],
             [
              0.8888888888888888,
              "#fdca26"
             ],
             [
              1,
              "#f0f921"
             ]
            ],
            "type": "surface"
           }
          ],
          "table": [
           {
            "cells": {
             "fill": {
              "color": "#EBF0F8"
             },
             "line": {
              "color": "white"
             }
            },
            "header": {
             "fill": {
              "color": "#C8D4E3"
             },
             "line": {
              "color": "white"
             }
            },
            "type": "table"
           }
          ]
         },
         "layout": {
          "annotationdefaults": {
           "arrowcolor": "#2a3f5f",
           "arrowhead": 0,
           "arrowwidth": 1
          },
          "coloraxis": {
           "colorbar": {
            "outlinewidth": 0,
            "ticks": ""
           }
          },
          "colorscale": {
           "diverging": [
            [
             0,
             "#8e0152"
            ],
            [
             0.1,
             "#c51b7d"
            ],
            [
             0.2,
             "#de77ae"
            ],
            [
             0.3,
             "#f1b6da"
            ],
            [
             0.4,
             "#fde0ef"
            ],
            [
             0.5,
             "#f7f7f7"
            ],
            [
             0.6,
             "#e6f5d0"
            ],
            [
             0.7,
             "#b8e186"
            ],
            [
             0.8,
             "#7fbc41"
            ],
            [
             0.9,
             "#4d9221"
            ],
            [
             1,
             "#276419"
            ]
           ],
           "sequential": [
            [
             0,
             "#0d0887"
            ],
            [
             0.1111111111111111,
             "#46039f"
            ],
            [
             0.2222222222222222,
             "#7201a8"
            ],
            [
             0.3333333333333333,
             "#9c179e"
            ],
            [
             0.4444444444444444,
             "#bd3786"
            ],
            [
             0.5555555555555556,
             "#d8576b"
            ],
            [
             0.6666666666666666,
             "#ed7953"
            ],
            [
             0.7777777777777778,
             "#fb9f3a"
            ],
            [
             0.8888888888888888,
             "#fdca26"
            ],
            [
             1,
             "#f0f921"
            ]
           ],
           "sequentialminus": [
            [
             0,
             "#0d0887"
            ],
            [
             0.1111111111111111,
             "#46039f"
            ],
            [
             0.2222222222222222,
             "#7201a8"
            ],
            [
             0.3333333333333333,
             "#9c179e"
            ],
            [
             0.4444444444444444,
             "#bd3786"
            ],
            [
             0.5555555555555556,
             "#d8576b"
            ],
            [
             0.6666666666666666,
             "#ed7953"
            ],
            [
             0.7777777777777778,
             "#fb9f3a"
            ],
            [
             0.8888888888888888,
             "#fdca26"
            ],
            [
             1,
             "#f0f921"
            ]
           ]
          },
          "colorway": [
           "#636efa",
           "#EF553B",
           "#00cc96",
           "#ab63fa",
           "#FFA15A",
           "#19d3f3",
           "#FF6692",
           "#B6E880",
           "#FF97FF",
           "#FECB52"
          ],
          "font": {
           "color": "#2a3f5f"
          },
          "geo": {
           "bgcolor": "white",
           "lakecolor": "white",
           "landcolor": "#E5ECF6",
           "showlakes": true,
           "showland": true,
           "subunitcolor": "white"
          },
          "hoverlabel": {
           "align": "left"
          },
          "hovermode": "closest",
          "mapbox": {
           "style": "light"
          },
          "paper_bgcolor": "white",
          "plot_bgcolor": "#E5ECF6",
          "polar": {
           "angularaxis": {
            "gridcolor": "white",
            "linecolor": "white",
            "ticks": ""
           },
           "bgcolor": "#E5ECF6",
           "radialaxis": {
            "gridcolor": "white",
            "linecolor": "white",
            "ticks": ""
           }
          },
          "scene": {
           "xaxis": {
            "backgroundcolor": "#E5ECF6",
            "gridcolor": "white",
            "gridwidth": 2,
            "linecolor": "white",
            "showbackground": true,
            "ticks": "",
            "zerolinecolor": "white"
           },
           "yaxis": {
            "backgroundcolor": "#E5ECF6",
            "gridcolor": "white",
            "gridwidth": 2,
            "linecolor": "white",
            "showbackground": true,
            "ticks": "",
            "zerolinecolor": "white"
           },
           "zaxis": {
            "backgroundcolor": "#E5ECF6",
            "gridcolor": "white",
            "gridwidth": 2,
            "linecolor": "white",
            "showbackground": true,
            "ticks": "",
            "zerolinecolor": "white"
           }
          },
          "shapedefaults": {
           "line": {
            "color": "#2a3f5f"
           }
          },
          "ternary": {
           "aaxis": {
            "gridcolor": "white",
            "linecolor": "white",
            "ticks": ""
           },
           "baxis": {
            "gridcolor": "white",
            "linecolor": "white",
            "ticks": ""
           },
           "bgcolor": "#E5ECF6",
           "caxis": {
            "gridcolor": "white",
            "linecolor": "white",
            "ticks": ""
           }
          },
          "title": {
           "x": 0.05
          },
          "xaxis": {
           "automargin": true,
           "gridcolor": "white",
           "linecolor": "white",
           "ticks": "",
           "title": {
            "standoff": 15
           },
           "zerolinecolor": "white",
           "zerolinewidth": 2
          },
          "yaxis": {
           "automargin": true,
           "gridcolor": "white",
           "linecolor": "white",
           "ticks": "",
           "title": {
            "standoff": 15
           },
           "zerolinecolor": "white",
           "zerolinewidth": 2
          }
         }
        },
        "title": {
         "text": "<b>Total Wins by Team</b><br>(2015 thru 2018)",
         "x": 0.5,
         "xanchor": "center",
         "y": 0.95,
         "yanchor": "top"
        }
       }
      },
      "text/html": [
       "<div>\n",
       "        \n",
       "        \n",
       "            <div id=\"533731e4-2f6d-4d8c-95bc-a53e67ade3c9\" class=\"plotly-graph-div\" style=\"height:525px; width:100%;\"></div>\n",
       "            <script type=\"text/javascript\">\n",
       "                require([\"plotly\"], function(Plotly) {\n",
       "                    window.PLOTLYENV=window.PLOTLYENV || {};\n",
       "                    \n",
       "                if (document.getElementById(\"533731e4-2f6d-4d8c-95bc-a53e67ade3c9\")) {\n",
       "                    Plotly.newPlot(\n",
       "                        '533731e4-2f6d-4d8c-95bc-a53e67ade3c9',\n",
       "                        [{\"name\": \"Avg Wins\", \"type\": \"bar\", \"x\": [\"CLE\", \"SF\", \"JAX\", \"TB\", \"CHI\", \"NYG\", \"NYJ\", \"OAK\", \"IND\", \"MIA\", \"LAC\", \"BUF\", \"TEN\", \"CIN\", \"BAL\", \"DET\", \"ARI\", \"WAS\", \"DEN\", \"HOU\", \"GB\", \"LA\", \"DAL\", \"PHI\", \"ATL\", \"NO\", \"SEA\", \"CAR\", \"MIN\", \"PIT\", \"KC\", \"NE\"], \"y\": [2.5, 4.25, 5.5, 6.0, 6.0, 6.0, 6.0, 7.0, 7.0, 7.0, 7.25, 7.25, 7.5, 7.5, 7.5, 7.5, 7.75, 7.75, 7.75, 8.0, 8.0, 8.25, 8.5, 8.5, 8.75, 9.25, 9.25, 9.5, 10.0, 10.5, 10.75, 12.0]}, {\"name\": \"Avg Wins\", \"type\": \"bar\", \"x\": [\"CLE\", \"SF\", \"JAX\", \"TB\", \"CHI\", \"NYG\", \"NYJ\", \"OAK\", \"IND\", \"MIA\", \"LAC\", \"BUF\", \"TEN\", \"CIN\", \"BAL\", \"DET\", \"ARI\", \"WAS\", \"DEN\", \"HOU\", \"GB\", \"LA\", \"DAL\", \"PHI\", \"ATL\", \"NO\", \"SEA\", \"CAR\", \"MIN\", \"PIT\", \"KC\", \"NE\"], \"y\": [0.1, 0.1, 0.1, 0.1, 0.1, 0.1, 0.1, 0.1, 0.1, 0.1, 0.1, 0.1, 0.1, 0.1, 0.1, 0.1, 0.1, 0.1, 0.1, 0.1, 0.1, 0.1, 0.1, 0.1, 0.1, 0.1, 0.1, 0.1, 0.1, 0.1, 0.1, 0.1]}],\n",
       "                        {\"barmode\": \"stack\", \"shapes\": [{\"line\": {\"color\": \"red\", \"width\": 2.5}, \"type\": \"line\", \"x0\": \"CLE\", \"x1\": \"CLE\", \"xref\": \"x\", \"y0\": 7, \"y1\": 7, \"yref\": \"y\"}], \"template\": {\"data\": {\"bar\": [{\"error_x\": {\"color\": \"#2a3f5f\"}, \"error_y\": {\"color\": \"#2a3f5f\"}, \"marker\": {\"line\": {\"color\": \"#E5ECF6\", \"width\": 0.5}}, \"type\": \"bar\"}], \"barpolar\": [{\"marker\": {\"line\": {\"color\": \"#E5ECF6\", \"width\": 0.5}}, \"type\": \"barpolar\"}], \"carpet\": [{\"aaxis\": {\"endlinecolor\": \"#2a3f5f\", \"gridcolor\": \"white\", \"linecolor\": \"white\", \"minorgridcolor\": \"white\", \"startlinecolor\": \"#2a3f5f\"}, \"baxis\": {\"endlinecolor\": \"#2a3f5f\", \"gridcolor\": \"white\", \"linecolor\": \"white\", \"minorgridcolor\": \"white\", \"startlinecolor\": \"#2a3f5f\"}, \"type\": \"carpet\"}], \"choropleth\": [{\"colorbar\": {\"outlinewidth\": 0, \"ticks\": \"\"}, \"type\": \"choropleth\"}], \"contour\": [{\"colorbar\": {\"outlinewidth\": 0, \"ticks\": \"\"}, \"colorscale\": [[0.0, \"#0d0887\"], [0.1111111111111111, \"#46039f\"], [0.2222222222222222, \"#7201a8\"], [0.3333333333333333, \"#9c179e\"], [0.4444444444444444, \"#bd3786\"], [0.5555555555555556, \"#d8576b\"], [0.6666666666666666, \"#ed7953\"], [0.7777777777777778, \"#fb9f3a\"], [0.8888888888888888, \"#fdca26\"], [1.0, \"#f0f921\"]], \"type\": \"contour\"}], \"contourcarpet\": [{\"colorbar\": {\"outlinewidth\": 0, \"ticks\": \"\"}, \"type\": \"contourcarpet\"}], \"heatmap\": [{\"colorbar\": {\"outlinewidth\": 0, \"ticks\": \"\"}, \"colorscale\": [[0.0, \"#0d0887\"], [0.1111111111111111, \"#46039f\"], [0.2222222222222222, \"#7201a8\"], [0.3333333333333333, \"#9c179e\"], [0.4444444444444444, \"#bd3786\"], [0.5555555555555556, \"#d8576b\"], [0.6666666666666666, \"#ed7953\"], [0.7777777777777778, \"#fb9f3a\"], [0.8888888888888888, \"#fdca26\"], [1.0, \"#f0f921\"]], \"type\": \"heatmap\"}], \"heatmapgl\": [{\"colorbar\": {\"outlinewidth\": 0, \"ticks\": \"\"}, \"colorscale\": [[0.0, \"#0d0887\"], [0.1111111111111111, \"#46039f\"], [0.2222222222222222, \"#7201a8\"], [0.3333333333333333, \"#9c179e\"], [0.4444444444444444, \"#bd3786\"], [0.5555555555555556, \"#d8576b\"], [0.6666666666666666, \"#ed7953\"], [0.7777777777777778, \"#fb9f3a\"], [0.8888888888888888, \"#fdca26\"], [1.0, \"#f0f921\"]], \"type\": \"heatmapgl\"}], \"histogram\": [{\"marker\": {\"colorbar\": {\"outlinewidth\": 0, \"ticks\": \"\"}}, \"type\": \"histogram\"}], \"histogram2d\": [{\"colorbar\": {\"outlinewidth\": 0, \"ticks\": \"\"}, \"colorscale\": [[0.0, \"#0d0887\"], [0.1111111111111111, \"#46039f\"], [0.2222222222222222, \"#7201a8\"], [0.3333333333333333, \"#9c179e\"], [0.4444444444444444, \"#bd3786\"], [0.5555555555555556, \"#d8576b\"], [0.6666666666666666, \"#ed7953\"], [0.7777777777777778, \"#fb9f3a\"], [0.8888888888888888, \"#fdca26\"], [1.0, \"#f0f921\"]], \"type\": \"histogram2d\"}], \"histogram2dcontour\": [{\"colorbar\": {\"outlinewidth\": 0, \"ticks\": \"\"}, \"colorscale\": [[0.0, \"#0d0887\"], [0.1111111111111111, \"#46039f\"], [0.2222222222222222, \"#7201a8\"], [0.3333333333333333, \"#9c179e\"], [0.4444444444444444, \"#bd3786\"], [0.5555555555555556, \"#d8576b\"], [0.6666666666666666, \"#ed7953\"], [0.7777777777777778, \"#fb9f3a\"], [0.8888888888888888, \"#fdca26\"], [1.0, \"#f0f921\"]], \"type\": \"histogram2dcontour\"}], \"mesh3d\": [{\"colorbar\": {\"outlinewidth\": 0, \"ticks\": \"\"}, \"type\": \"mesh3d\"}], \"parcoords\": [{\"line\": {\"colorbar\": {\"outlinewidth\": 0, \"ticks\": \"\"}}, \"type\": \"parcoords\"}], \"pie\": [{\"automargin\": true, \"type\": \"pie\"}], \"scatter\": [{\"marker\": {\"colorbar\": {\"outlinewidth\": 0, \"ticks\": \"\"}}, \"type\": \"scatter\"}], \"scatter3d\": [{\"line\": {\"colorbar\": {\"outlinewidth\": 0, \"ticks\": \"\"}}, \"marker\": {\"colorbar\": {\"outlinewidth\": 0, \"ticks\": \"\"}}, \"type\": \"scatter3d\"}], \"scattercarpet\": [{\"marker\": {\"colorbar\": {\"outlinewidth\": 0, \"ticks\": \"\"}}, \"type\": \"scattercarpet\"}], \"scattergeo\": [{\"marker\": {\"colorbar\": {\"outlinewidth\": 0, \"ticks\": \"\"}}, \"type\": \"scattergeo\"}], \"scattergl\": [{\"marker\": {\"colorbar\": {\"outlinewidth\": 0, \"ticks\": \"\"}}, \"type\": \"scattergl\"}], \"scattermapbox\": [{\"marker\": {\"colorbar\": {\"outlinewidth\": 0, \"ticks\": \"\"}}, \"type\": \"scattermapbox\"}], \"scatterpolar\": [{\"marker\": {\"colorbar\": {\"outlinewidth\": 0, \"ticks\": \"\"}}, \"type\": \"scatterpolar\"}], \"scatterpolargl\": [{\"marker\": {\"colorbar\": {\"outlinewidth\": 0, \"ticks\": \"\"}}, \"type\": \"scatterpolargl\"}], \"scatterternary\": [{\"marker\": {\"colorbar\": {\"outlinewidth\": 0, \"ticks\": \"\"}}, \"type\": \"scatterternary\"}], \"surface\": [{\"colorbar\": {\"outlinewidth\": 0, \"ticks\": \"\"}, \"colorscale\": [[0.0, \"#0d0887\"], [0.1111111111111111, \"#46039f\"], [0.2222222222222222, \"#7201a8\"], [0.3333333333333333, \"#9c179e\"], [0.4444444444444444, \"#bd3786\"], [0.5555555555555556, \"#d8576b\"], [0.6666666666666666, \"#ed7953\"], [0.7777777777777778, \"#fb9f3a\"], [0.8888888888888888, \"#fdca26\"], [1.0, \"#f0f921\"]], \"type\": \"surface\"}], \"table\": [{\"cells\": {\"fill\": {\"color\": \"#EBF0F8\"}, \"line\": {\"color\": \"white\"}}, \"header\": {\"fill\": {\"color\": \"#C8D4E3\"}, \"line\": {\"color\": \"white\"}}, \"type\": \"table\"}]}, \"layout\": {\"annotationdefaults\": {\"arrowcolor\": \"#2a3f5f\", \"arrowhead\": 0, \"arrowwidth\": 1}, \"coloraxis\": {\"colorbar\": {\"outlinewidth\": 0, \"ticks\": \"\"}}, \"colorscale\": {\"diverging\": [[0, \"#8e0152\"], [0.1, \"#c51b7d\"], [0.2, \"#de77ae\"], [0.3, \"#f1b6da\"], [0.4, \"#fde0ef\"], [0.5, \"#f7f7f7\"], [0.6, \"#e6f5d0\"], [0.7, \"#b8e186\"], [0.8, \"#7fbc41\"], [0.9, \"#4d9221\"], [1, \"#276419\"]], \"sequential\": [[0.0, \"#0d0887\"], [0.1111111111111111, \"#46039f\"], [0.2222222222222222, \"#7201a8\"], [0.3333333333333333, \"#9c179e\"], [0.4444444444444444, \"#bd3786\"], [0.5555555555555556, \"#d8576b\"], [0.6666666666666666, \"#ed7953\"], [0.7777777777777778, \"#fb9f3a\"], [0.8888888888888888, \"#fdca26\"], [1.0, \"#f0f921\"]], \"sequentialminus\": [[0.0, \"#0d0887\"], [0.1111111111111111, \"#46039f\"], [0.2222222222222222, \"#7201a8\"], [0.3333333333333333, \"#9c179e\"], [0.4444444444444444, \"#bd3786\"], [0.5555555555555556, \"#d8576b\"], [0.6666666666666666, \"#ed7953\"], [0.7777777777777778, \"#fb9f3a\"], [0.8888888888888888, \"#fdca26\"], [1.0, \"#f0f921\"]]}, \"colorway\": [\"#636efa\", \"#EF553B\", \"#00cc96\", \"#ab63fa\", \"#FFA15A\", \"#19d3f3\", \"#FF6692\", \"#B6E880\", \"#FF97FF\", \"#FECB52\"], \"font\": {\"color\": \"#2a3f5f\"}, \"geo\": {\"bgcolor\": \"white\", \"lakecolor\": \"white\", \"landcolor\": \"#E5ECF6\", \"showlakes\": true, \"showland\": true, \"subunitcolor\": \"white\"}, \"hoverlabel\": {\"align\": \"left\"}, \"hovermode\": \"closest\", \"mapbox\": {\"style\": \"light\"}, \"paper_bgcolor\": \"white\", \"plot_bgcolor\": \"#E5ECF6\", \"polar\": {\"angularaxis\": {\"gridcolor\": \"white\", \"linecolor\": \"white\", \"ticks\": \"\"}, \"bgcolor\": \"#E5ECF6\", \"radialaxis\": {\"gridcolor\": \"white\", \"linecolor\": \"white\", \"ticks\": \"\"}}, \"scene\": {\"xaxis\": {\"backgroundcolor\": \"#E5ECF6\", \"gridcolor\": \"white\", \"gridwidth\": 2, \"linecolor\": \"white\", \"showbackground\": true, \"ticks\": \"\", \"zerolinecolor\": \"white\"}, \"yaxis\": {\"backgroundcolor\": \"#E5ECF6\", \"gridcolor\": \"white\", \"gridwidth\": 2, \"linecolor\": \"white\", \"showbackground\": true, \"ticks\": \"\", \"zerolinecolor\": \"white\"}, \"zaxis\": {\"backgroundcolor\": \"#E5ECF6\", \"gridcolor\": \"white\", \"gridwidth\": 2, \"linecolor\": \"white\", \"showbackground\": true, \"ticks\": \"\", \"zerolinecolor\": \"white\"}}, \"shapedefaults\": {\"line\": {\"color\": \"#2a3f5f\"}}, \"ternary\": {\"aaxis\": {\"gridcolor\": \"white\", \"linecolor\": \"white\", \"ticks\": \"\"}, \"baxis\": {\"gridcolor\": \"white\", \"linecolor\": \"white\", \"ticks\": \"\"}, \"bgcolor\": \"#E5ECF6\", \"caxis\": {\"gridcolor\": \"white\", \"linecolor\": \"white\", \"ticks\": \"\"}}, \"title\": {\"x\": 0.05}, \"xaxis\": {\"automargin\": true, \"gridcolor\": \"white\", \"linecolor\": \"white\", \"ticks\": \"\", \"title\": {\"standoff\": 15}, \"zerolinecolor\": \"white\", \"zerolinewidth\": 2}, \"yaxis\": {\"automargin\": true, \"gridcolor\": \"white\", \"linecolor\": \"white\", \"ticks\": \"\", \"title\": {\"standoff\": 15}, \"zerolinecolor\": \"white\", \"zerolinewidth\": 2}}}, \"title\": {\"text\": \"<b>Total Wins by Team</b><br>(2015 thru 2018)\", \"x\": 0.5, \"xanchor\": \"center\", \"y\": 0.95, \"yanchor\": \"top\"}},\n",
       "                        {\"responsive\": true}\n",
       "                    ).then(function(){\n",
       "                            \n",
       "var gd = document.getElementById('533731e4-2f6d-4d8c-95bc-a53e67ade3c9');\n",
       "var x = new MutationObserver(function (mutations, observer) {{\n",
       "        var display = window.getComputedStyle(gd).display;\n",
       "        if (!display || display === 'none') {{\n",
       "            console.log([gd, 'removed!']);\n",
       "            Plotly.purge(gd);\n",
       "            observer.disconnect();\n",
       "        }}\n",
       "}});\n",
       "\n",
       "// Listen for the removal of the full notebook cells\n",
       "var notebookContainer = gd.closest('#notebook-container');\n",
       "if (notebookContainer) {{\n",
       "    x.observe(notebookContainer, {childList: true});\n",
       "}}\n",
       "\n",
       "// Listen for the clearing of the current output cell\n",
       "var outputEl = gd.closest('.output');\n",
       "if (outputEl) {{\n",
       "    x.observe(outputEl, {childList: true});\n",
       "}}\n",
       "\n",
       "                        })\n",
       "                };\n",
       "                });\n",
       "            </script>\n",
       "        </div>"
      ]
     },
     "metadata": {},
     "output_type": "display_data"
    }
   ],
   "source": [
    "fig = go.Figure(data=[go.Bar(name='Avg Wins', x = team_by_wins['team'], y = team_by_wins['wins']/4),\\\n",
    "                     go.Bar(name='Avg Wins', x = team_by_wins['team'], y = np.repeat(.1,32))])\n",
    "\n",
    "layout = go.Layout(\n",
    "    title = 'Average Wins By Team (2015 - 2018)',\n",
    "    xaxis= dict(title= 'Team',ticklen= 1,zeroline= False),\n",
    "    yaxis= dict(title= 'Wins',ticklen= 5,zeroline= False)\n",
    ")\n",
    "\n",
    "fig.update_layout(\n",
    "    title={\n",
    "        'text':'<b>'+'Total Wins by Team'+'</b>'+'<br>(2015 thru 2018)',\n",
    "        'y':0.95,\n",
    "        'x':0.5,\n",
    "        'xanchor': 'center',\n",
    "        'yanchor': 'top'},barmode='stack',\n",
    "        shapes=[{'type': 'line','y0':7,'y1': 7,'x0':'CLE', \n",
    "                              'x1':'CLE','xref':'x1','yref':'y1',\n",
    "                              'line': {'color': 'red','width': 2.5}}])\n",
    "fig"
   ]
  },
  {
   "cell_type": "markdown",
   "metadata": {},
   "source": [
    "I want this to be average wins over four years, with year totals plotted as lines"
   ]
  }
 ],
 "metadata": {
  "kernelspec": {
   "display_name": "Python 3",
   "language": "python",
   "name": "python3"
  },
  "language_info": {
   "codemirror_mode": {
    "name": "ipython",
    "version": 3
   },
   "file_extension": ".py",
   "mimetype": "text/x-python",
   "name": "python",
   "nbconvert_exporter": "python",
   "pygments_lexer": "ipython3",
   "version": "3.7.4"
  },
  "latex_envs": {
   "LaTeX_envs_menu_present": true,
   "autoclose": false,
   "autocomplete": true,
   "bibliofile": "biblio.bib",
   "cite_by": "apalike",
   "current_citInitial": 1,
   "eqLabelWithNumbers": true,
   "eqNumInitial": 1,
   "hotkeys": {
    "equation": "Ctrl-E",
    "itemize": "Ctrl-I"
   },
   "labels_anchors": false,
   "latex_user_defs": false,
   "report_style_numbering": false,
   "user_envs_cfg": false
  }
 },
 "nbformat": 4,
 "nbformat_minor": 2
}
